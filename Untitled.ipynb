{
 "cells": [
  {
   "cell_type": "code",
   "execution_count": 63,
   "metadata": {},
   "outputs": [],
   "source": [
    "using JuMP\n",
    "using LinearAlgebra\n",
    "using Gurobi\n",
    "using GLPK"
   ]
  },
  {
   "cell_type": "code",
   "execution_count": 64,
   "metadata": {
    "scrolled": true
   },
   "outputs": [
    {
     "name": "stdout",
     "output_type": "stream",
     "text": [
      "Min x[1] + 2 x[2] + 3 x[3]\n",
      "Subject to\n",
      " cons : x[1] + x[2] + x[3] == 4.0\n",
      " x[1] >= 0.0\n",
      " x[2] >= 0.0\n",
      " x[3] >= 0.0\n",
      " x[1] <= 1.0\n",
      " x[2] <= 1.0\n",
      " x[3] <= 1.0\n",
      "\n"
     ]
    }
   ],
   "source": [
    "m = Model()\n",
    "\n",
    "@variable(m, 0 <= x[1:3] <= 1)\n",
    "@constraint(m, cons, sum(x[i] for i = 1:3) == 4)\n",
    "\n",
    "@objective(m, Min, sum(i*x[i] for i = 1:3))\n",
    "\n",
    "println(m)"
   ]
  },
  {
   "cell_type": "code",
   "execution_count": 65,
   "metadata": {},
   "outputs": [
    {
     "name": "stdout",
     "output_type": "stream",
     "text": [
      "Academic license - for non-commercial use only\r\n"
     ]
    }
   ],
   "source": [
    "set_optimizer(m, Gurobi.Optimizer)"
   ]
  },
  {
   "cell_type": "code",
   "execution_count": 66,
   "metadata": {},
   "outputs": [
    {
     "name": "stdout",
     "output_type": "stream",
     "text": [
      "Academic license - for non-commercial use only\r\n",
      "Optimize a model with 1 rows, 3 columns and 3 nonzeros\r\n",
      "Coefficient statistics:\r\n",
      "  Matrix range     [1e+00, 1e+00]\r\n",
      "  Objective range  [1e+00, 3e+00]\r\n",
      "  Bounds range     [1e+00, 1e+00]\r\n",
      "  RHS range        [4e+00, 4e+00]\r\n",
      "Presolve removed 0 rows and 2 columns\r\n",
      "Presolve time: 0.00s\r\n",
      "\r\n",
      "Solved in 0 iterations and 0.00 seconds\r\n",
      "Infeasible model\r\n"
     ]
    },
    {
     "data": {
      "text/plain": [
       "INFEASIBLE::TerminationStatusCode = 2"
      ]
     },
     "execution_count": 66,
     "metadata": {},
     "output_type": "execute_result"
    }
   ],
   "source": [
    "optimize!(m)\n",
    "status = termination_status(m)"
   ]
  },
  {
   "cell_type": "code",
   "execution_count": 67,
   "metadata": {},
   "outputs": [
    {
     "name": "stdout",
     "output_type": "stream",
     "text": [
      "Optimize a model with 1 rows, 3 columns and 3 nonzeros\r\n",
      "Coefficient statistics:\r\n",
      "  Matrix range     [1e+00, 1e+00]\r\n",
      "  Objective range  [1e+00, 3e+00]\r\n",
      "  Bounds range     [1e+00, 1e+00]\r\n",
      "  RHS range        [4e+00, 4e+00]\r\n",
      "Presolve removed 0 rows and 2 columns\r\n",
      "Presolve time: 0.00s\r\n",
      "\r\n",
      "Solved in 0 iterations and 0.00 seconds\r\n",
      "Infeasible model\r\n"
     ]
    },
    {
     "data": {
      "text/plain": [
       "INFEASIBLE::TerminationStatusCode = 2"
      ]
     },
     "execution_count": 67,
     "metadata": {},
     "output_type": "execute_result"
    }
   ],
   "source": [
    "status = trytosolve()"
   ]
  },
  {
   "cell_type": "code",
   "execution_count": 68,
   "metadata": {},
   "outputs": [
    {
     "ename": "LoadError",
     "evalue": "Result index of attribute MathOptInterface.ConstraintDual(1) out of bounds. There are currently 0 solution(s) in the model.",
     "output_type": "error",
     "traceback": [
      "Result index of attribute MathOptInterface.ConstraintDual(1) out of bounds. There are currently 0 solution(s) in the model.",
      "",
      "Stacktrace:",
      " [1] check_result_index_bounds at C:\\Users\\bastin\\.julia\\packages\\MathOptInterface\\ZJFKw\\src\\attributes.jl:133 [inlined]",
      " [2] get(::Gurobi.Optimizer, ::MathOptInterface.ConstraintDual, ::MathOptInterface.ConstraintIndex{MathOptInterface.ScalarAffineFunction{Float64},MathOptInterface.EqualTo{Float64}}) at C:\\Users\\bastin\\.julia\\packages\\Gurobi\\7YNJV\\src\\MOI_wrapper.jl:2172",
      " [3] get(::MathOptInterface.Bridges.LazyBridgeOptimizer{Gurobi.Optimizer}, ::MathOptInterface.ConstraintDual, ::MathOptInterface.ConstraintIndex{MathOptInterface.ScalarAffineFunction{Float64},MathOptInterface.EqualTo{Float64}}) at C:\\Users\\bastin\\.julia\\packages\\MathOptInterface\\ZJFKw\\src\\Bridges\\bridge_optimizer.jl:922",
      " [4] get(::MathOptInterface.Utilities.CachingOptimizer{MathOptInterface.AbstractOptimizer,MathOptInterface.Utilities.UniversalFallback{MathOptInterface.Utilities.Model{Float64}}}, ::MathOptInterface.ConstraintDual, ::MathOptInterface.ConstraintIndex{MathOptInterface.ScalarAffineFunction{Float64},MathOptInterface.EqualTo{Float64}}) at C:\\Users\\bastin\\.julia\\packages\\MathOptInterface\\ZJFKw\\src\\Utilities\\cachingoptimizer.jl:605",
      " [5] _moi_get_result(::MathOptInterface.Utilities.CachingOptimizer{MathOptInterface.AbstractOptimizer,MathOptInterface.Utilities.UniversalFallback{MathOptInterface.Utilities.Model{Float64}}}, ::MathOptInterface.ConstraintDual, ::Vararg{Any,N} where N) at C:\\Users\\bastin\\.julia\\packages\\JuMP\\YXK4e\\src\\JuMP.jl:847",
      " [6] get(::Model, ::MathOptInterface.ConstraintDual, ::ConstraintRef{Model,MathOptInterface.ConstraintIndex{MathOptInterface.ScalarAffineFunction{Float64},MathOptInterface.EqualTo{Float64}},ScalarShape}) at C:\\Users\\bastin\\.julia\\packages\\JuMP\\YXK4e\\src\\JuMP.jl:886",
      " [7] _constraint_dual(::ConstraintRef{Model,MathOptInterface.ConstraintIndex{MathOptInterface.ScalarAffineFunction{Float64},MathOptInterface.EqualTo{Float64}},ScalarShape}, ::Int64) at C:\\Users\\bastin\\.julia\\packages\\JuMP\\YXK4e\\src\\constraints.jl:645",
      " [8] #dual#21 at C:\\Users\\bastin\\.julia\\packages\\JuMP\\YXK4e\\src\\constraints.jl:632 [inlined]",
      " [9] dual(::ConstraintRef{Model,MathOptInterface.ConstraintIndex{MathOptInterface.ScalarAffineFunction{Float64},MathOptInterface.EqualTo{Float64}},ScalarShape}) at C:\\Users\\bastin\\.julia\\packages\\JuMP\\YXK4e\\src\\constraints.jl:632",
      " [10] top-level scope at In[68]:1",
      " [11] include_string(::Function, ::Module, ::String, ::String) at .\\loading.jl:1091"
     ]
    }
   ],
   "source": [
    "dual(cons)"
   ]
  },
  {
   "cell_type": "code",
   "execution_count": 72,
   "metadata": {},
   "outputs": [
    {
     "ename": "LoadError",
     "evalue": "UndefVarError: MPB not defined",
     "output_type": "error",
     "traceback": [
      "UndefVarError: MPB not defined",
      "",
      "Stacktrace:",
      " [1] top-level scope at In[72]:1",
      " [2] include_string(::Function, ::Module, ::String, ::String) at .\\loading.jl:1091"
     ]
    }
   ],
   "source": [
    "MPB.getconstrduals(n)"
   ]
  },
  {
   "cell_type": "code",
   "execution_count": 36,
   "metadata": {},
   "outputs": [
    {
     "data": {
      "text/plain": [
       "INFEASIBILITY_CERTIFICATE::ResultStatusCode = 4"
      ]
     },
     "execution_count": 36,
     "metadata": {},
     "output_type": "execute_result"
    }
   ],
   "source": [
    "dual_status(m)"
   ]
  },
  {
   "cell_type": "code",
   "execution_count": 37,
   "metadata": {},
   "outputs": [
    {
     "data": {
      "text/plain": [
       "NO_SOLUTION::ResultStatusCode = 0"
      ]
     },
     "execution_count": 37,
     "metadata": {},
     "output_type": "execute_result"
    }
   ],
   "source": [
    "primal_status(m)"
   ]
  },
  {
   "cell_type": "code",
   "execution_count": 52,
   "metadata": {},
   "outputs": [
    {
     "name": "stdout",
     "output_type": "stream",
     "text": [
      "Min x[1] + 2 x[2] + 3 x[3]\n",
      "Subject to\n",
      " cons : x[1] + x[2] + x[3] <= 2.0\n",
      " x[1] <= 1.0\n",
      " x[2] <= 1.0\n",
      " x[3] <= 1.0\n",
      "\n"
     ]
    }
   ],
   "source": [
    "m = Model()\n",
    "\n",
    "@variable(m, x[1:3] <= 1)\n",
    "@constraint(m, cons, sum(x[i] for i = 1:3) <= 2)\n",
    "\n",
    "@objective(m, Min, sum(i*x[i] for i = 1:3))\n",
    "\n",
    "println(m)"
   ]
  },
  {
   "cell_type": "code",
   "execution_count": 53,
   "metadata": {},
   "outputs": [
    {
     "name": "stdout",
     "output_type": "stream",
     "text": [
      "Academic license - for non-commercial use only\r\n",
      "Academic license - for non-commercial use only\r\n",
      "Optimize a model with 1 rows, 3 columns and 3 nonzeros\r\n",
      "Coefficient statistics:\r\n",
      "  Matrix range     [1e+00, 1e+00]\r\n",
      "  Objective range  [1e+00, 3e+00]\r\n",
      "  Bounds range     [1e+00, 1e+00]\r\n",
      "  RHS range        [2e+00, 2e+00]\r\n",
      "Presolve time: 0.00s\r\n",
      "\r\n",
      "Solved in 0 iterations and 0.00 seconds\r\n",
      "Infeasible or unbounded model\r\n"
     ]
    },
    {
     "data": {
      "text/plain": [
       "INFEASIBLE_OR_UNBOUNDED::TerminationStatusCode = 6"
      ]
     },
     "execution_count": 53,
     "metadata": {},
     "output_type": "execute_result"
    }
   ],
   "source": [
    "set_optimizer(m, Gurobi.Optimizer)\n",
    "optimize!(m)\n",
    "status = termination_status(m)"
   ]
  },
  {
   "cell_type": "code",
   "execution_count": 54,
   "metadata": {},
   "outputs": [
    {
     "ename": "LoadError",
     "evalue": "Result index of attribute MathOptInterface.VariablePrimal(1) out of bounds. There are currently 0 solution(s) in the model.",
     "output_type": "error",
     "traceback": [
      "Result index of attribute MathOptInterface.VariablePrimal(1) out of bounds. There are currently 0 solution(s) in the model.",
      "",
      "Stacktrace:",
      " [1] check_result_index_bounds at C:\\Users\\bastin\\.julia\\packages\\MathOptInterface\\ZJFKw\\src\\attributes.jl:133 [inlined]",
      " [2] get(::Gurobi.Optimizer, ::MathOptInterface.VariablePrimal, ::MathOptInterface.VariableIndex) at C:\\Users\\bastin\\.julia\\packages\\Gurobi\\7YNJV\\src\\MOI_wrapper.jl:2050",
      " [3] get(::MathOptInterface.Bridges.LazyBridgeOptimizer{Gurobi.Optimizer}, ::MathOptInterface.VariablePrimal, ::MathOptInterface.VariableIndex) at C:\\Users\\bastin\\.julia\\packages\\MathOptInterface\\ZJFKw\\src\\Bridges\\bridge_optimizer.jl:808",
      " [4] get(::MathOptInterface.Utilities.CachingOptimizer{MathOptInterface.AbstractOptimizer,MathOptInterface.Utilities.UniversalFallback{MathOptInterface.Utilities.Model{Float64}}}, ::MathOptInterface.VariablePrimal, ::MathOptInterface.VariableIndex) at C:\\Users\\bastin\\.julia\\packages\\MathOptInterface\\ZJFKw\\src\\Utilities\\cachingoptimizer.jl:605",
      " [5] _moi_get_result(::MathOptInterface.Utilities.CachingOptimizer{MathOptInterface.AbstractOptimizer,MathOptInterface.Utilities.UniversalFallback{MathOptInterface.Utilities.Model{Float64}}}, ::MathOptInterface.VariablePrimal, ::Vararg{Any,N} where N) at C:\\Users\\bastin\\.julia\\packages\\JuMP\\YXK4e\\src\\JuMP.jl:847",
      " [6] get(::Model, ::MathOptInterface.VariablePrimal, ::VariableRef) at C:\\Users\\bastin\\.julia\\packages\\JuMP\\YXK4e\\src\\JuMP.jl:877",
      " [7] value(::VariableRef; result::Int64) at C:\\Users\\bastin\\.julia\\packages\\JuMP\\YXK4e\\src\\variables.jl:767",
      " [8] value at C:\\Users\\bastin\\.julia\\packages\\JuMP\\YXK4e\\src\\variables.jl:767 [inlined]",
      " [9] _broadcast_getindex_evalf at .\\broadcast.jl:648 [inlined]",
      " [10] _broadcast_getindex at .\\broadcast.jl:621 [inlined]",
      " [11] getindex at .\\broadcast.jl:575 [inlined]",
      " [12] macro expansion at .\\broadcast.jl:932 [inlined]",
      " [13] macro expansion at .\\simdloop.jl:77 [inlined]",
      " [14] copyto! at .\\broadcast.jl:931 [inlined]",
      " [15] copyto! at .\\broadcast.jl:886 [inlined]",
      " [16] copy at .\\broadcast.jl:862 [inlined]",
      " [17] materialize(::Base.Broadcast.Broadcasted{Base.Broadcast.DefaultArrayStyle{1},Nothing,typeof(value),Tuple{Array{VariableRef,1}}}) at .\\broadcast.jl:837",
      " [18] top-level scope at In[54]:1",
      " [19] include_string(::Function, ::Module, ::String, ::String) at .\\loading.jl:1091"
     ]
    }
   ],
   "source": [
    "value.(x)"
   ]
  },
  {
   "cell_type": "code",
   "execution_count": 55,
   "metadata": {},
   "outputs": [
    {
     "data": {
      "text/plain": [
       "INFEASIBLE_OR_UNBOUNDED::TerminationStatusCode = 6"
      ]
     },
     "execution_count": 55,
     "metadata": {},
     "output_type": "execute_result"
    }
   ],
   "source": [
    "termination_status(m)"
   ]
  },
  {
   "cell_type": "code",
   "execution_count": null,
   "metadata": {},
   "outputs": [],
   "source": []
  }
 ],
 "metadata": {
  "kernelspec": {
   "display_name": "Julia 1.5.0",
   "language": "julia",
   "name": "julia-1.5"
  },
  "language_info": {
   "file_extension": ".jl",
   "mimetype": "application/julia",
   "name": "julia",
   "version": "1.5.0"
  }
 },
 "nbformat": 4,
 "nbformat_minor": 2
}
