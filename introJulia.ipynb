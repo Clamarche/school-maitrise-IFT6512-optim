{
 "cells": [
  {
   "cell_type": "markdown",
   "metadata": {
    "slideshow": {
     "slide_type": "slide"
    }
   },
   "source": [
    "<center>\n",
    "    <h1>Introduction à Julia</h1>\n",
    "\n",
    "<img src=\"img/logo.svg\" style=\"height:200px\">\n",
    "\n",
    "<br/>\n",
    "Fabian Bastin (fabian.bastin@umontreal.ca), 2017-2022\n",
    "</center>"
   ]
  },
  {
   "cell_type": "markdown",
   "metadata": {
    "slideshow": {
     "slide_type": "slide"
    }
   },
   "source": [
    "## Premiers pas en Julia\n",
    "\n",
    "La page officielle du langage de programmation Julia est http://julialang.org \n",
    "\n",
    "- Conçu pour répondre au problème de double langage (un pour le développement rapide, un pour la production), en alliant efficacité avec simplicité de code.\n",
    "- Concerne avant tout le calcul scientifique.\n",
    "- JIT (just-in-time): le code Julia est compilé au moment de son exécution, un peu à l'image de Java.\n",
    "- Version actuelle: 1.7.2.\n",
    "- Croissance exponentielle des librairies disponibles.\n",
    "- Peut s'interfacer avec des langages tels que Python, C++, Fortran, R,...\n",
    "- Versions commerciales pour l'infonuagique: JuliaHub"
   ]
  },
  {
   "cell_type": "markdown",
   "metadata": {
    "slideshow": {
     "slide_type": "subslide"
    }
   },
   "source": [
    "<center>\n",
    "\n",
    "<img src=\"img/juliahub_williams.png\"/>\n",
    "\n",
    "</center>"
   ]
  },
  {
   "cell_type": "markdown",
   "metadata": {
    "slideshow": {
     "slide_type": "subslide"
    }
   },
   "source": [
    "### Pourquoi pas Python?\n",
    "\n",
    "- Python est idéal pour le prototypage, mais souffre de son côté interprété pour les boucles.\n",
    "- Julia est un langage fortement typé, permettant des performances proches de C/C++ (à condition de veiller à la qualité de son implémentation)."
   ]
  },
  {
   "cell_type": "markdown",
   "metadata": {
    "collapsed": true,
    "slideshow": {
     "slide_type": "slide"
    }
   },
   "source": [
    "## Installation\n",
    "\n",
    "L'interpréteur et compilateur de Julia peut être téléchargé à l'adresse http://julialang.org/downloads/\n",
    "\n",
    "Julia peut être installé sur les OS majeurs: Windows, MacOS X, Linux. Sous Windows, il est possible de lancer Julia via le menu démarrer ou, si présente, en cliquant sur l'icône adéquate. Sous Linux, pour lancer l'interpréteur Julia en mode interactif, il suffit d'entrer au niveau du terminal"
   ]
  },
  {
   "cell_type": "markdown",
   "metadata": {},
   "source": [
    "julia"
   ]
  },
  {
   "cell_type": "markdown",
   "metadata": {
    "slideshow": {
     "slide_type": "subslide"
    }
   },
   "source": [
    "Il est également possible d'exécuter un code julia en indiquant le nom du fichier, par exemple"
   ]
  },
  {
   "cell_type": "markdown",
   "metadata": {
    "slideshow": {
     "slide_type": "-"
    }
   },
   "source": [
    "julia hello.jl"
   ]
  },
  {
   "cell_type": "markdown",
   "metadata": {},
   "source": [
    "où le fichier \"hello.jl\" contient la commande"
   ]
  },
  {
   "cell_type": "code",
   "execution_count": 1,
   "metadata": {},
   "outputs": [
    {
     "name": "stdout",
     "output_type": "stream",
     "text": [
      "Hello World!\n"
     ]
    }
   ],
   "source": [
    "println(\"Hello World!\")"
   ]
  },
  {
   "cell_type": "markdown",
   "metadata": {
    "slideshow": {
     "slide_type": "slide"
    }
   },
   "source": [
    "## Tester Julia"
   ]
  },
  {
   "cell_type": "markdown",
   "metadata": {},
   "source": [
    "Il est également possible de programmation en Julia directement en ligne, notamment à l'adresse https://repl.it"
   ]
  },
  {
   "cell_type": "markdown",
   "metadata": {
    "slideshow": {
     "slide_type": "slide"
    }
   },
   "source": [
    "## Environnements de développement\n",
    "\n",
    "Plusieurs environnements de développement sont disponibles, en particulier\n",
    "- Juno: https://junolab.org\n",
    "- Atom: https://ide.atom.io/\n",
    "- Visual Studio: https://code.visualstudio.com/"
   ]
  },
  {
   "cell_type": "markdown",
   "metadata": {
    "slideshow": {
     "slide_type": "slide"
    }
   },
   "source": [
    "## Librairies"
   ]
  },
  {
   "cell_type": "markdown",
   "metadata": {},
   "source": [
    "Un nombre important de librairies officielles sont disponibles, mais ne sont pas installées par défaut avec Julia.\n",
    "Il existe plusieurs méthodes pour utiliser le gestionnaire de librairies. Nous allons travailler ici avec les commandes du gestionnaire Pkg, qui nous devons au préalable importer avec la commande"
   ]
  },
  {
   "cell_type": "code",
   "execution_count": 2,
   "metadata": {},
   "outputs": [],
   "source": [
    "import Pkg"
   ]
  },
  {
   "cell_type": "markdown",
   "metadata": {},
   "source": [
    "Nous pouvons à présent ajouter une librairie avec la commande `Pkg.add(\"Nom de la librairies\")`. Par exemple, pour pouvoir réaliser des graphes des fonctions qui nous intéressent, nous utiliserons la librairie Plots. Pour l'ajouter, entrons"
   ]
  },
  {
   "cell_type": "code",
   "execution_count": 3,
   "metadata": {},
   "outputs": [
    {
     "name": "stderr",
     "output_type": "stream",
     "text": [
      "\u001b[32m\u001b[1m    Updating\u001b[22m\u001b[39m registry at `C:\\Users\\slash\\.julia\\registries\\General`\n",
      "\u001b[32m\u001b[1m    Updating\u001b[22m\u001b[39m git-repo `https://github.com/JuliaRegistries/General.git`\n",
      "\u001b[32m\u001b[1m   Resolving\u001b[22m\u001b[39m package versions...\n",
      "\u001b[32m\u001b[1m  No Changes\u001b[22m\u001b[39m to `C:\\Users\\slash\\.julia\\environments\\v1.7\\Project.toml`\n",
      "\u001b[32m\u001b[1m  No Changes\u001b[22m\u001b[39m to `C:\\Users\\slash\\.julia\\environments\\v1.7\\Manifest.toml`\n"
     ]
    }
   ],
   "source": [
    "Pkg.add(\"Plots\")"
   ]
  },
  {
   "cell_type": "markdown",
   "metadata": {
    "slideshow": {
     "slide_type": "subslide"
    }
   },
   "source": [
    "### Où se trouvent localement les librairies?"
   ]
  },
  {
   "cell_type": "markdown",
   "metadata": {},
   "source": [
    "Sous Linux et MacOS, les sources des librairies installées sont disponibles par défaut dans le sous-répertoire `$HOME/.julia`"
   ]
  },
  {
   "cell_type": "markdown",
   "metadata": {},
   "source": [
    "Sous Windows, il suffit de remplacer $HOME par le répertoire utilisateur."
   ]
  },
  {
   "cell_type": "markdown",
   "metadata": {},
   "source": [
    "La liste des librairies officielles (\"registered packages\") est disponible à l'adresse https://julialang.org/packages/."
   ]
  },
  {
   "cell_type": "markdown",
   "metadata": {
    "slideshow": {
     "slide_type": "subslide"
    }
   },
   "source": [
    "Il est conseillé de mettre à jour régulièrement les librairies installées avec la commande"
   ]
  },
  {
   "cell_type": "code",
   "execution_count": 4,
   "metadata": {},
   "outputs": [
    {
     "name": "stderr",
     "output_type": "stream",
     "text": [
      "\u001b[32m\u001b[1m    Updating\u001b[22m\u001b[39m registry at `C:\\Users\\slash\\.julia\\registries\\General`\n",
      "\u001b[32m\u001b[1m    Updating\u001b[22m\u001b[39m git-repo `https://github.com/JuliaRegistries/General.git`\n",
      "\u001b[32m\u001b[1m   Installed\u001b[22m\u001b[39m GR_jll ──────────────── v0.64.2+0\n",
      "\u001b[32m\u001b[1m   Installed\u001b[22m\u001b[39m JpegTurbo_jll ───────── v2.1.2+0\n",
      "\u001b[32m\u001b[1m   Installed\u001b[22m\u001b[39m StatsFuns ───────────── v0.9.17\n",
      "\u001b[32m\u001b[1m   Installed\u001b[22m\u001b[39m SCS ─────────────────── v1.1.1\n",
      "\u001b[32m\u001b[1m   Installed\u001b[22m\u001b[39m Preferences ─────────── v1.2.5\n",
      "\u001b[32m\u001b[1m   Installed\u001b[22m\u001b[39m MutableArithmetics ──── v1.0.0\n",
      "\u001b[32m\u001b[1m   Installed\u001b[22m\u001b[39m PDMats ──────────────── v0.11.7\n",
      "\u001b[32m\u001b[1m   Installed\u001b[22m\u001b[39m PlotUtils ───────────── v1.2.0\n",
      "\u001b[32m\u001b[1m   Installed\u001b[22m\u001b[39m Roots ───────────────── v1.4.0\n",
      "\u001b[32m\u001b[1m   Installed\u001b[22m\u001b[39m RecipesPipeline ─────── v0.5.2\n",
      "\u001b[32m\u001b[1m   Installed\u001b[22m\u001b[39m StaticArrays ────────── v1.4.3\n",
      "\u001b[32m\u001b[1m   Installed\u001b[22m\u001b[39m Static ──────────────── v0.6.0\n",
      "\u001b[32m\u001b[1m   Installed\u001b[22m\u001b[39m FiniteDiff ──────────── v2.11.0\n",
      "\u001b[32m\u001b[1m   Installed\u001b[22m\u001b[39m JSON ────────────────── v0.21.3\n",
      "\u001b[32m\u001b[1m   Installed\u001b[22m\u001b[39m SpecialFunctions ────── v2.1.4\n",
      "\u001b[32m\u001b[1m   Installed\u001b[22m\u001b[39m SCS_GPU_jll ─────────── v3.2.0+0\n",
      "\u001b[32m\u001b[1m   Installed\u001b[22m\u001b[39m GR ──────────────────── v0.64.2\n",
      "\u001b[32m\u001b[1m   Installed\u001b[22m\u001b[39m Convex ──────────────── v0.15.1\n",
      "\u001b[32m\u001b[1m   Installed\u001b[22m\u001b[39m NaNMath ─────────────── v0.3.7\n",
      "\u001b[32m\u001b[1m   Installed\u001b[22m\u001b[39m GLFW_jll ────────────── v3.3.6+0\n",
      "\u001b[32m\u001b[1m   Installed\u001b[22m\u001b[39m ColorSchemes ────────── v3.17.1\n",
      "\u001b[32m\u001b[1m   Installed\u001b[22m\u001b[39m StatsAPI ────────────── v1.2.1\n",
      "\u001b[32m\u001b[1m   Installed\u001b[22m\u001b[39m Compat ──────────────── v3.42.0\n",
      "\u001b[32m\u001b[1m   Installed\u001b[22m\u001b[39m JuMP ────────────────── v1.0.0\n",
      "\u001b[32m\u001b[1m   Installed\u001b[22m\u001b[39m Zstd_jll ────────────── v1.5.2+0\n",
      "\u001b[32m\u001b[1m   Installed\u001b[22m\u001b[39m DiffRules ───────────── v1.10.0\n",
      "\u001b[32m\u001b[1m   Installed\u001b[22m\u001b[39m Conda ───────────────── v1.7.0\n",
      "\u001b[32m\u001b[1m   Installed\u001b[22m\u001b[39m StatsBase ───────────── v0.33.16\n",
      "\u001b[32m\u001b[1m   Installed\u001b[22m\u001b[39m MathOptInterface ────── v1.1.2\n",
      "\u001b[32m\u001b[1m   Installed\u001b[22m\u001b[39m Expat_jll ───────────── v2.4.8+0\n",
      "\u001b[32m\u001b[1m   Installed\u001b[22m\u001b[39m Parsers ─────────────── v2.2.4\n",
      "\u001b[32m\u001b[1m   Installed\u001b[22m\u001b[39m Plots ───────────────── v1.27.4\n",
      "\u001b[32m\u001b[1m   Installed\u001b[22m\u001b[39m InverseFunctions ────── v0.1.3\n",
      "\u001b[32m\u001b[1m   Installed\u001b[22m\u001b[39m LogExpFunctions ─────── v0.3.10\n",
      "\u001b[32m\u001b[1m   Installed\u001b[22m\u001b[39m ArrayInterface ──────── v5.0.6\n",
      "\u001b[32m\u001b[1m   Installed\u001b[22m\u001b[39m Wayland_protocols_jll ─ v1.25.0+0\n",
      "\u001b[32m\u001b[1m   Installed\u001b[22m\u001b[39m ChainRulesCore ──────── v1.14.0\n",
      "\u001b[32m\u001b[1m   Installed\u001b[22m\u001b[39m GLPK ────────────────── v1.0.1\n",
      "\u001b[32m\u001b[1m   Installed\u001b[22m\u001b[39m JLLWrappers ─────────── v1.4.1\n",
      "\u001b[32m\u001b[1m   Installed\u001b[22m\u001b[39m Gurobi ──────────────── v0.11.0\n",
      "\u001b[32m\u001b[1m   Installed\u001b[22m\u001b[39m OpenSSL_jll ─────────── v1.1.14+0\n",
      "\u001b[32m\u001b[1m   Installed\u001b[22m\u001b[39m Ipopt ───────────────── v1.0.2\n",
      "\u001b[32m\u001b[1m   Installed\u001b[22m\u001b[39m Tables ──────────────── v1.7.0\n",
      "\u001b[32m\u001b[1m   Installed\u001b[22m\u001b[39m IniFile ─────────────── v0.5.1\n",
      "\u001b[32m\u001b[1m   Installed\u001b[22m\u001b[39m DualNumbers ─────────── v0.6.8\n",
      "\u001b[32m\u001b[1m   Installed\u001b[22m\u001b[39m GeometryBasics ──────── v0.4.2\n",
      "\u001b[32m\u001b[1m   Installed\u001b[22m\u001b[39m Latexify ────────────── v0.15.14\n",
      "\u001b[32m\u001b[1m   Installed\u001b[22m\u001b[39m StructArrays ────────── v0.6.5\n",
      "\u001b[32m\u001b[1m   Installed\u001b[22m\u001b[39m FillArrays ──────────── v0.13.2\n",
      "\u001b[32m\u001b[1m   Installed\u001b[22m\u001b[39m SCS_jll ─────────────── v3.2.0+0\n",
      "\u001b[32m\u001b[1m   Installed\u001b[22m\u001b[39m Optim ───────────────── v1.6.2\n",
      "\u001b[32m\u001b[1m   Installed\u001b[22m\u001b[39m Distributions ───────── v0.25.53\n",
      "\u001b[32m\u001b[1m    Updating\u001b[22m\u001b[39m `C:\\Users\\slash\\.julia\\environments\\v1.7\\Project.toml`\n",
      " \u001b[90m [f65535da] \u001b[39m\u001b[93m↑ Convex v0.14.18 ⇒ v0.15.1\u001b[39m\n",
      " \u001b[90m [31c24e10] \u001b[39m\u001b[93m↑ Distributions v0.25.49 ⇒ v0.25.53\u001b[39m\n",
      " \u001b[90m [60bf3e95] \u001b[39m\u001b[93m↑ GLPK v0.15.2 ⇒ v1.0.1\u001b[39m\n",
      " \u001b[90m [2e9cd046] \u001b[39m\u001b[93m↑ Gurobi v0.10.3 ⇒ v0.11.0\u001b[39m\n",
      " \u001b[90m [b6b21f68] \u001b[39m\u001b[93m↑ Ipopt v0.9.1 ⇒ v1.0.2\u001b[39m\n",
      " \u001b[90m [4076af6c] \u001b[39m\u001b[93m↑ JuMP v0.22.2 ⇒ v1.0.0\u001b[39m\n",
      " \u001b[90m [429524aa] \u001b[39m\u001b[93m↑ Optim v1.6.1 ⇒ v1.6.2\u001b[39m\n",
      " \u001b[90m [91a5bcdd] \u001b[39m\u001b[93m↑ Plots v1.25.7 ⇒ v1.27.4\u001b[39m\n",
      " \u001b[90m [f2b01f46] \u001b[39m\u001b[93m↑ Roots v1.3.14 ⇒ v1.4.0\u001b[39m\n",
      " \u001b[90m [c946c3f1] \u001b[39m\u001b[93m↑ SCS v0.8.2 ⇒ v1.1.1\u001b[39m\n",
      "\u001b[32m\u001b[1m    Updating\u001b[22m\u001b[39m `C:\\Users\\slash\\.julia\\environments\\v1.7\\Manifest.toml`\n",
      " \u001b[90m [4fba245c] \u001b[39m\u001b[93m↑ ArrayInterface v4.0.3 ⇒ v5.0.6\u001b[39m\n",
      " \u001b[90m [b99e7846] \u001b[39m\u001b[91m- BinaryProvider v0.5.10\u001b[39m\n",
      " \u001b[90m [fa961155] \u001b[39m\u001b[91m- CEnum v0.4.1\u001b[39m\n",
      " \u001b[90m [d360d2e6] \u001b[39m\u001b[93m↑ ChainRulesCore v1.11.6 ⇒ v1.14.0\u001b[39m\n",
      " \u001b[90m [35d6a980] \u001b[39m\u001b[93m↑ ColorSchemes v3.16.0 ⇒ v3.17.1\u001b[39m\n",
      " \u001b[90m [34da2185] \u001b[39m\u001b[93m↑ Compat v3.41.0 ⇒ v3.42.0\u001b[39m\n",
      " \u001b[90m [8f4d0f93] \u001b[39m\u001b[93m↑ Conda v1.6.0 ⇒ v1.7.0\u001b[39m\n",
      " \u001b[90m [f65535da] \u001b[39m\u001b[93m↑ Convex v0.14.18 ⇒ v0.15.1\u001b[39m\n",
      " \u001b[90m [b552c78f] \u001b[39m\u001b[93m↑ DiffRules v1.9.0 ⇒ v1.10.0\u001b[39m\n",
      " \u001b[90m [31c24e10] \u001b[39m\u001b[93m↑ Distributions v0.25.49 ⇒ v0.25.53\u001b[39m\n",
      " \u001b[90m [fa6b7ba4] \u001b[39m\u001b[93m↑ DualNumbers v0.6.7 ⇒ v0.6.8\u001b[39m\n",
      " \u001b[90m [1a297f60] \u001b[39m\u001b[93m↑ FillArrays v0.12.8 ⇒ v0.13.2\u001b[39m\n",
      " \u001b[90m [6a86dc24] \u001b[39m\u001b[93m↑ FiniteDiff v2.10.1 ⇒ v2.11.0\u001b[39m\n",
      " \u001b[90m [60bf3e95] \u001b[39m\u001b[93m↑ GLPK v0.15.2 ⇒ v1.0.1\u001b[39m\n",
      " \u001b[90m [28b8d3ca] \u001b[39m\u001b[93m↑ GR v0.63.1 ⇒ v0.64.2\u001b[39m\n",
      " \u001b[90m [5c1252a2] \u001b[39m\u001b[93m↑ GeometryBasics v0.4.1 ⇒ v0.4.2\u001b[39m\n",
      " \u001b[90m [2e9cd046] \u001b[39m\u001b[93m↑ Gurobi v0.10.3 ⇒ v0.11.0\u001b[39m\n",
      " \u001b[90m [83e8ac13] \u001b[39m\u001b[93m↑ IniFile v0.5.0 ⇒ v0.5.1\u001b[39m\n",
      " \u001b[90m [3587e190] \u001b[39m\u001b[93m↑ InverseFunctions v0.1.2 ⇒ v0.1.3\u001b[39m\n",
      " \u001b[90m [b6b21f68] \u001b[39m\u001b[93m↑ Ipopt v0.9.1 ⇒ v1.0.2\u001b[39m\n",
      " \u001b[90m [692b3bcd] \u001b[39m\u001b[93m↑ JLLWrappers v1.4.0 ⇒ v1.4.1\u001b[39m\n",
      " \u001b[90m [682c06a0] \u001b[39m\u001b[93m↑ JSON v0.21.2 ⇒ v0.21.3\u001b[39m\n",
      " \u001b[90m [4076af6c] \u001b[39m\u001b[93m↑ JuMP v0.22.2 ⇒ v1.0.0\u001b[39m\n",
      " \u001b[90m [23fbe1c1] \u001b[39m\u001b[93m↑ Latexify v0.15.9 ⇒ v0.15.14\u001b[39m\n",
      " \u001b[90m [2ab3a3ac] \u001b[39m\u001b[93m↑ LogExpFunctions v0.3.6 ⇒ v0.3.10\u001b[39m\n",
      " \u001b[90m [b8f27783] \u001b[39m\u001b[93m↑ MathOptInterface v0.10.7 ⇒ v1.1.2\u001b[39m\n",
      " \u001b[90m [d8a4904e] \u001b[39m\u001b[93m↑ MutableArithmetics v0.3.2 ⇒ v1.0.0\u001b[39m\n",
      " \u001b[90m [77ba4419] \u001b[39m\u001b[93m↑ NaNMath v0.3.6 ⇒ v0.3.7\u001b[39m\n",
      " \u001b[90m [429524aa] \u001b[39m\u001b[93m↑ Optim v1.6.1 ⇒ v1.6.2\u001b[39m\n",
      " \u001b[90m [90014a1f] \u001b[39m\u001b[93m↑ PDMats v0.11.6 ⇒ v0.11.7\u001b[39m\n",
      " \u001b[90m [69de0a69] \u001b[39m\u001b[93m↑ Parsers v2.2.0 ⇒ v2.2.4\u001b[39m\n",
      " \u001b[90m [995b91a9] \u001b[39m\u001b[93m↑ PlotUtils v1.1.3 ⇒ v1.2.0\u001b[39m\n",
      " \u001b[90m [91a5bcdd] \u001b[39m\u001b[93m↑ Plots v1.25.7 ⇒ v1.27.4\u001b[39m\n",
      " \u001b[90m [21216c6a] \u001b[39m\u001b[93m↑ Preferences v1.2.3 ⇒ v1.2.5\u001b[39m\n",
      " \u001b[90m [01d81517] \u001b[39m\u001b[93m↑ RecipesPipeline v0.5.0 ⇒ v0.5.2\u001b[39m\n",
      " \u001b[90m [f2b01f46] \u001b[39m\u001b[93m↑ Roots v1.3.14 ⇒ v1.4.0\u001b[39m\n",
      " \u001b[90m [c946c3f1] \u001b[39m\u001b[93m↑ SCS v0.8.2 ⇒ v1.1.1\u001b[39m\n",
      " \u001b[90m [276daf66] \u001b[39m\u001b[93m↑ SpecialFunctions v2.1.0 ⇒ v2.1.4\u001b[39m\n",
      " \u001b[90m [aedffcd0] \u001b[39m\u001b[93m↑ Static v0.5.5 ⇒ v0.6.0\u001b[39m\n",
      " \u001b[90m [90137ffa] \u001b[39m\u001b[93m↑ StaticArrays v1.3.3 ⇒ v1.4.3\u001b[39m\n",
      " \u001b[90m [82ae8749] \u001b[39m\u001b[93m↑ StatsAPI v1.2.0 ⇒ v1.2.1\u001b[39m\n",
      " \u001b[90m [2913bbd2] \u001b[39m\u001b[93m↑ StatsBase v0.33.14 ⇒ v0.33.16\u001b[39m\n",
      " \u001b[90m [4c63d2b9] \u001b[39m\u001b[93m↑ StatsFuns v0.9.16 ⇒ v0.9.17\u001b[39m\n",
      " \u001b[90m [09ab397b] \u001b[39m\u001b[93m↑ StructArrays v0.6.4 ⇒ v0.6.5\u001b[39m\n",
      " \u001b[90m [bd369af6] \u001b[39m\u001b[93m↑ Tables v1.6.1 ⇒ v1.7.0\u001b[39m\n",
      " \u001b[90m [2e619515] \u001b[39m\u001b[93m↑ Expat_jll v2.2.10+0 ⇒ v2.4.8+0\u001b[39m\n",
      " \u001b[90m [0656b61e] \u001b[39m\u001b[93m↑ GLFW_jll v3.3.5+1 ⇒ v3.3.6+0\u001b[39m\n",
      " \u001b[90m [d2c73de3] \u001b[39m\u001b[93m↑ GR_jll v0.63.1+0 ⇒ v0.64.2+0\u001b[39m\n",
      " \u001b[90m [aacddb02] \u001b[39m\u001b[93m↑ JpegTurbo_jll v2.1.0+0 ⇒ v2.1.2+0\u001b[39m\n",
      " \u001b[90m [458c3c95] \u001b[39m\u001b[93m↑ OpenSSL_jll v1.1.13+0 ⇒ v1.1.14+0\u001b[39m\n",
      " \u001b[90m [af6e375f] \u001b[39m\u001b[93m↑ SCS_GPU_jll v2.1.4+0 ⇒ v3.2.0+0\u001b[39m\n",
      " \u001b[90m [f4f2fc5b] \u001b[39m\u001b[93m↑ SCS_jll v2.1.2+1 ⇒ v3.2.0+0\u001b[39m\n",
      " \u001b[90m [2381bf8a] \u001b[39m\u001b[93m↑ Wayland_protocols_jll v1.23.0+0 ⇒ v1.25.0+0\u001b[39m\n",
      " \u001b[90m [3161d3a3] \u001b[39m\u001b[93m↑ Zstd_jll v1.5.0+0 ⇒ v1.5.2+0\u001b[39m\n",
      "\u001b[32m\u001b[1m    Building\u001b[22m\u001b[39m Gurobi → `C:\\Users\\slash\\.julia\\scratchspaces\\44cfe95a-1eb2-52ea-b672-e2afdf69b78f\\d75a6c39ca5bc1a51ac467d1d3084a740b59c7c3\\build.log`\n",
      "\u001b[32m\u001b[1m    Building\u001b[22m\u001b[39m Conda ─→ `C:\\Users\\slash\\.julia\\scratchspaces\\44cfe95a-1eb2-52ea-b672-e2afdf69b78f\\6e47d11ea2776bc5627421d59cdcc1296c058071\\build.log`\n",
      "\u001b[32m\u001b[1m    Building\u001b[22m\u001b[39m GR ────→ `C:\\Users\\slash\\.julia\\scratchspaces\\44cfe95a-1eb2-52ea-b672-e2afdf69b78f\\af237c08bda486b74318c8070adb96efa6952530\\build.log`\n",
      "\u001b[32m\u001b[1mPrecompiling\u001b[22m\u001b[39m project...\n",
      "\u001b[32m  ✓ \u001b[39m\u001b[90mStatsAPI\u001b[39m\n",
      "\u001b[32m  ✓ \u001b[39m\u001b[90mInverseFunctions\u001b[39m\n",
      "\u001b[33m  ✓ \u001b[39m\u001b[90mPreferences\u001b[39m\n",
      "\u001b[32m  ✓ \u001b[39m\u001b[90mPDMats\u001b[39m\n",
      "\u001b[32m  ✓ \u001b[39m\u001b[90mIniFile\u001b[39m\n",
      "\u001b[32m  ✓ \u001b[39m\u001b[90mNaNMath\u001b[39m\n",
      "\u001b[32m  ✓ \u001b[39m\u001b[90mFillArrays\u001b[39m\n",
      "\u001b[32m  ✓ \u001b[39m\u001b[90mCompat\u001b[39m\n",
      "\u001b[32m  ✓ \u001b[39m\u001b[90mStatic\u001b[39m\n",
      "\u001b[32m  ✓ \u001b[39m\u001b[90mTables\u001b[39m\n",
      "\u001b[32m  ✓ \u001b[39m\u001b[90mLatexify\u001b[39m\n",
      "\u001b[33m  ✓ \u001b[39m\u001b[90mJLLWrappers\u001b[39m\n",
      "\u001b[32m  ✓ \u001b[39m\u001b[90mDensityInterface\u001b[39m\n"
     ]
    },
    {
     "name": "stderr",
     "output_type": "stream",
     "text": [
      "\u001b[32m  ✓ \u001b[39mRoots\n",
      "\u001b[32m  ✓ \u001b[39m\u001b[90mMutableArithmetics\u001b[39m\n",
      "\u001b[33m  ✓ \u001b[39m\u001b[90mParsers\u001b[39m\n",
      "\u001b[32m  ✓ \u001b[39m\u001b[90mArrayInterface\u001b[39m\n",
      "\u001b[32m  ✓ \u001b[39m\u001b[90mChainRulesCore\u001b[39m\n",
      "\u001b[32m  ✓ \u001b[39m\u001b[90mColorSchemes\u001b[39m\n",
      "\u001b[32m  ✓ \u001b[39m\u001b[90mStaticArrays\u001b[39m\n",
      "\u001b[32m  ✓ \u001b[39m\u001b[90mGraphite2_jll\u001b[39m\n",
      "\u001b[32m  ✓ \u001b[39m\u001b[90mOpenSSL_jll\u001b[39m\n",
      "\u001b[32m  ✓ \u001b[39m\u001b[90mLibmount_jll\u001b[39m\n",
      "\u001b[32m  ✓ \u001b[39m\u001b[90mDataStructures\u001b[39m\n",
      "\u001b[32m  ✓ \u001b[39m\u001b[90mBzip2_jll\u001b[39m\n",
      "\u001b[32m  ✓ \u001b[39m\u001b[90mHTTP\u001b[39m\n",
      "\u001b[33m  ✓ \u001b[39m\u001b[90mlibsodium_jll\u001b[39m\n",
      "\u001b[32m  ✓ \u001b[39m\u001b[90mMETIS_jll\u001b[39m\n",
      "\u001b[32m  ✓ \u001b[39m\u001b[90mRmath_jll\u001b[39m\n",
      "\u001b[32m  ✓ \u001b[39m\u001b[90mOpenBLAS32_jll\u001b[39m\n",
      "\u001b[32m  ✓ \u001b[39m\u001b[90mXorg_libXau_jll\u001b[39m\n",
      "\u001b[32m  ✓ \u001b[39m\u001b[90mlibfdk_aac_jll\u001b[39m\n",
      "\u001b[32m  ✓ \u001b[39m\u001b[90mlibpng_jll\u001b[39m\n",
      "\u001b[32m  ✓ \u001b[39m\u001b[90mASL_jll\u001b[39m\n",
      "\u001b[32m  ✓ \u001b[39m\u001b[90mPixman_jll\u001b[39m\n",
      "\u001b[32m  ✓ \u001b[39m\u001b[90mLAME_jll\u001b[39m\n",
      "\u001b[32m  ✓ \u001b[39m\u001b[90mLERC_jll\u001b[39m\n",
      "\u001b[32m  ✓ \u001b[39m\u001b[90mEarCut_jll\u001b[39m\n",
      "\u001b[32m  ✓ \u001b[39m\u001b[90mJpegTurbo_jll\u001b[39m\n",
      "\u001b[32m  ✓ \u001b[39m\u001b[90mOgg_jll\u001b[39m\n",
      "\u001b[32m  ✓ \u001b[39m\u001b[90mXorg_libXdmcp_jll\u001b[39m\n",
      "\u001b[32m  ✓ \u001b[39m\u001b[90mGLPK_jll\u001b[39m\n",
      "\u001b[32m  ✓ \u001b[39m\u001b[90mx265_jll\u001b[39m\n",
      "\u001b[32m  ✓ \u001b[39m\u001b[90mx264_jll\u001b[39m\n",
      "\u001b[32m  ✓ \u001b[39m\u001b[90mZstd_jll\u001b[39m\n",
      "\u001b[32m  ✓ \u001b[39m\u001b[90mExpat_jll\u001b[39m\n",
      "\u001b[32m  ✓ \u001b[39m\u001b[90mLZO_jll\u001b[39m\n",
      "\u001b[32m  ✓ \u001b[39m\u001b[90mXorg_xtrans_jll\u001b[39m\n",
      "\u001b[32m  ✓ \u001b[39m\u001b[90mOpus_jll\u001b[39m\n",
      "\u001b[32m  ✓ \u001b[39m\u001b[90mPCRE_jll\u001b[39m\n",
      "\u001b[32m  ✓ \u001b[39m\u001b[90mLibiconv_jll\u001b[39m\n",
      "\u001b[32m  ✓ \u001b[39m\u001b[90mWayland_protocols_jll\u001b[39m\n",
      "\u001b[32m  ✓ \u001b[39m\u001b[90mLibffi_jll\u001b[39m\n",
      "\u001b[32m  ✓ \u001b[39m\u001b[90mLibgpg_error_jll\u001b[39m\n",
      "\u001b[32m  ✓ \u001b[39m\u001b[90mXorg_libpthread_stubs_jll\u001b[39m\n",
      "\u001b[32m  ✓ \u001b[39m\u001b[90mOpenSpecFun_jll\u001b[39m\n",
      "\u001b[32m  ✓ \u001b[39m\u001b[90mLibuuid_jll\u001b[39m\n",
      "\u001b[32m  ✓ \u001b[39m\u001b[90mFriBidi_jll\u001b[39m\n",
      "\u001b[32m  ✓ \u001b[39m\u001b[90mChangesOfVariables\u001b[39m\n",
      "\u001b[32m  ✓ \u001b[39m\u001b[90mSortingAlgorithms\u001b[39m\n",
      "\u001b[32m  ✓ \u001b[39m\u001b[90mDiffResults\u001b[39m\n",
      "\u001b[32m  ✓ \u001b[39m\u001b[90mContour\u001b[39m\n",
      "\u001b[32m  ✓ \u001b[39m\u001b[90mStructArrays\u001b[39m\n",
      "\u001b[32m  ✓ \u001b[39m\u001b[90mQuadGK\u001b[39m\n",
      "\u001b[32m  ✓ \u001b[39m\u001b[90mFiniteDiff\u001b[39m\n",
      "\u001b[32m  ✓ \u001b[39m\u001b[90mCodecBzip2\u001b[39m\n",
      "\u001b[32m  ✓ \u001b[39m\u001b[90mFreeType2_jll\u001b[39m\n",
      "\u001b[32m  ✓ \u001b[39m\u001b[90mSCS_GPU_jll\u001b[39m\n",
      "\u001b[33m  ✓ \u001b[39m\u001b[90mJSON\u001b[39m\n",
      "\u001b[33m  ✓ \u001b[39m\u001b[90mZeroMQ_jll\u001b[39m\n",
      "\u001b[32m  ✓ \u001b[39m\u001b[90mRmath\u001b[39m\n",
      "\u001b[32m  ✓ \u001b[39m\u001b[90mPlotUtils\u001b[39m\n",
      "\u001b[32m  ✓ \u001b[39m\u001b[90mlibvorbis_jll\u001b[39m\n",
      "\u001b[32m  ✓ \u001b[39m\u001b[90mSCS_jll\u001b[39m\n",
      "\u001b[32m  ✓ \u001b[39m\u001b[90mMUMPS_seq_jll\u001b[39m\n",
      "\u001b[32m  ✓ \u001b[39m\u001b[90mLibgcrypt_jll\u001b[39m\n",
      "\u001b[32m  ✓ \u001b[39m\u001b[90mXML2_jll\u001b[39m\n",
      "\u001b[32m  ✓ \u001b[39m\u001b[90mLibtiff_jll\u001b[39m\n",
      "\u001b[32m  ✓ \u001b[39m\u001b[90mLogExpFunctions\u001b[39m\n",
      "\u001b[33m  ✓ \u001b[39m\u001b[90mConda\u001b[39m\n",
      "\u001b[32m  ✓ \u001b[39m\u001b[90mFontconfig_jll\u001b[39m\n",
      "\u001b[33m  ✓ \u001b[39m\u001b[90mZMQ\u001b[39m\n",
      "\u001b[32m  ✓ \u001b[39mBenchmarkTools\n",
      "\u001b[32m  ✓ \u001b[39m\u001b[90mWayland_jll\u001b[39m\n",
      "\u001b[32m  ✓ \u001b[39m\u001b[90mGettext_jll\u001b[39m\n",
      "\u001b[32m  ✓ \u001b[39m\u001b[90mXSLT_jll\u001b[39m\n",
      "\u001b[32m  ✓ \u001b[39m\u001b[90mRecipesPipeline\u001b[39m\n",
      "\u001b[32m  ✓ \u001b[39m\u001b[90mStatsBase\u001b[39m\n",
      "\u001b[32m  ✓ \u001b[39m\u001b[90mIpopt_jll\u001b[39m\n",
      "\u001b[32m  ✓ \u001b[39m\u001b[90mPlotThemes\u001b[39m\n",
      "\u001b[33m  ✓ \u001b[39mIJulia\n",
      "\u001b[32m  ✓ \u001b[39m\u001b[90mGeometryBasics\u001b[39m\n",
      "\u001b[32m  ✓ \u001b[39m\u001b[90mXorg_libxcb_jll\u001b[39m\n",
      "\u001b[32m  ✓ \u001b[39m\u001b[90mXorg_libX11_jll\u001b[39m\n",
      "\u001b[32m  ✓ \u001b[39m\u001b[90mXorg_xcb_util_jll\u001b[39m\n",
      "\u001b[32m  ✓ \u001b[39m\u001b[90mGlib_jll\u001b[39m\n",
      "\u001b[32m  ✓ \u001b[39m\u001b[90mSpecialFunctions\u001b[39m\n",
      "\u001b[32m  ✓ \u001b[39m\u001b[90mXorg_libXext_jll\u001b[39m\n",
      "\u001b[32m  ✓ \u001b[39m\u001b[90mXorg_libxkbfile_jll\u001b[39m\n",
      "\u001b[32m  ✓ \u001b[39m\u001b[90mXorg_libXfixes_jll\u001b[39m\n",
      "\u001b[32m  ✓ \u001b[39m\u001b[90mXorg_xcb_util_image_jll\u001b[39m\n",
      "\u001b[32m  ✓ \u001b[39m\u001b[90mXorg_libXrender_jll\u001b[39m\n",
      "\u001b[32m  ✓ \u001b[39m\u001b[90mXorg_xcb_util_keysyms_jll\u001b[39m\n",
      "\u001b[32m  ✓ \u001b[39m\u001b[90mDiffRules\u001b[39m\n",
      "\u001b[32m  ✓ \u001b[39m\u001b[90mXorg_xcb_util_renderutil_jll\u001b[39m\n",
      "\u001b[32m  ✓ \u001b[39m\u001b[90mXorg_xcb_util_wm_jll\u001b[39m\n",
      "\u001b[32m  ✓ \u001b[39m\u001b[90mLibglvnd_jll\u001b[39m\n",
      "\u001b[32m  ✓ \u001b[39m\u001b[90mDualNumbers\u001b[39m\n",
      "\u001b[32m  ✓ \u001b[39m\u001b[90mXorg_libXinerama_jll\u001b[39m\n",
      "\u001b[32m  ✓ \u001b[39m\u001b[90mXorg_xkbcomp_jll\u001b[39m\n",
      "\u001b[32m  ✓ \u001b[39m\u001b[90mXorg_libXrandr_jll\u001b[39m\n",
      "\u001b[32m  ✓ \u001b[39m\u001b[90mXorg_libXi_jll\u001b[39m\n",
      "\u001b[32m  ✓ \u001b[39m\u001b[90mXorg_libXcursor_jll\u001b[39m\n",
      "\u001b[32m  ✓ \u001b[39m\u001b[90mHypergeometricFunctions\u001b[39m\n",
      "\u001b[32m  ✓ \u001b[39m\u001b[90mXorg_xkeyboard_config_jll\u001b[39m\n",
      "\u001b[32m  ✓ \u001b[39m\u001b[90mGLFW_jll\u001b[39m\n",
      "\u001b[32m  ✓ \u001b[39m\u001b[90mxkbcommon_jll\u001b[39m\n",
      "\u001b[32m  ✓ \u001b[39m\u001b[90mStatsFuns\u001b[39m\n",
      "\u001b[32m  ✓ \u001b[39m\u001b[90mCairo_jll\u001b[39m\n",
      "\u001b[32m  ✓ \u001b[39mForwardDiff\n",
      "\u001b[32m  ✓ \u001b[39m\u001b[90mQt5Base_jll\u001b[39m\n",
      "\u001b[32m  ✓ \u001b[39m\u001b[90mHarfBuzz_jll\u001b[39m\n",
      "\u001b[32m  ✓ \u001b[39m\u001b[90mNLSolversBase\u001b[39m\n",
      "\u001b[32m  ✓ \u001b[39m\u001b[90mlibass_jll\u001b[39m\n",
      "\u001b[32m  ✓ \u001b[39mDistributions\n",
      "\u001b[32m  ✓ \u001b[39m\u001b[90mLineSearches\u001b[39m\n",
      "\u001b[32m  ✓ \u001b[39m\u001b[90mFFMPEG_jll\u001b[39m\n",
      "\u001b[32m  ✓ \u001b[39mOptim\n",
      "\u001b[32m  ✓ \u001b[39m\u001b[90mFFMPEG\u001b[39m\n",
      "\u001b[32m  ✓ \u001b[39m\u001b[90mGR_jll\u001b[39m\n",
      "\u001b[32m  ✓ \u001b[39m\u001b[90mGR\u001b[39m\n",
      "\u001b[32m  ✓ \u001b[39m\u001b[90mMathOptInterface\u001b[39m\n",
      "\u001b[32m  ✓ \u001b[39mSCS\n",
      "\u001b[32m  ✓ \u001b[39mIpopt\n",
      "\u001b[32m  ✓ \u001b[39mGurobi\n",
      "\u001b[32m  ✓ \u001b[39mGLPK\n",
      "\u001b[32m  ✓ \u001b[39mConvex\n",
      "\u001b[32m  ✓ \u001b[39mJuMP\n",
      "\u001b[32m  ✓ \u001b[39mPlots\n",
      "  139 dependencies successfully precompiled in 102 seconds (52 already precompiled)\n",
      "  \u001b[33m9\u001b[39m dependencies precompiled but different versions are currently loaded. Restart julia to access the new versions\n",
      "┌ Info: We haven't cleaned this depot up for a bit, running Pkg.gc()...\n",
      "└ @ Pkg C:\\buildbot\\worker\\package_win64\\build\\usr\\share\\julia\\stdlib\\v1.7\\Pkg\\src\\Pkg.jl:639\n",
      "\u001b[32m\u001b[1m      Active\u001b[22m\u001b[39m manifest files: 6 found\n",
      "\u001b[32m\u001b[1m      Active\u001b[22m\u001b[39m artifact files: 198 found\n",
      "\u001b[32m\u001b[1m      Active\u001b[22m\u001b[39m scratchspaces: 10 found\n",
      "\u001b[32m\u001b[1m     Deleted\u001b[22m\u001b[39m no artifacts, repos, packages or scratchspaces\n"
     ]
    }
   ],
   "source": [
    "Pkg.update()"
   ]
  },
  {
   "cell_type": "markdown",
   "metadata": {},
   "source": [
    "Il est également possible d'importer une librairie non officielle disponible sur GitHub en replaçant le nom de la libraire pas son URL, par exemple"
   ]
  },
  {
   "cell_type": "code",
   "execution_count": 5,
   "metadata": {},
   "outputs": [
    {
     "name": "stderr",
     "output_type": "stream",
     "text": [
      "\u001b[32m\u001b[1m     Cloning\u001b[22m\u001b[39m git-repo `https://github.com/fbastin/Jasmin`\n",
      "\u001b[32m\u001b[1m    Updating\u001b[22m\u001b[39m git-repo `https://github.com/fbastin/Jasmin`\n",
      "\u001b[32m\u001b[1m   Resolving\u001b[22m\u001b[39m package versions...\n",
      "\u001b[32m\u001b[1m    Updating\u001b[22m\u001b[39m `C:\\Users\\slash\\.julia\\environments\\v1.7\\Project.toml`\n",
      " \u001b[90m [933bf34c] \u001b[39m\u001b[92m+ Jasmin v0.2.0 `https://github.com/fbastin/Jasmin#main`\u001b[39m\n",
      "\u001b[32m\u001b[1m    Updating\u001b[22m\u001b[39m `C:\\Users\\slash\\.julia\\environments\\v1.7\\Manifest.toml`\n",
      " \u001b[90m [861a8166] \u001b[39m\u001b[92m+ Combinatorics v1.0.2\u001b[39m\n",
      " \u001b[90m [933bf34c] \u001b[39m\u001b[92m+ Jasmin v0.2.0 `https://github.com/fbastin/Jasmin#main`\u001b[39m\n",
      "\u001b[32m\u001b[1mPrecompiling\u001b[22m\u001b[39m project...\n",
      "\u001b[32m  ✓ \u001b[39m\u001b[90mCombinatorics\u001b[39m\n",
      "\u001b[32m  ✓ \u001b[39mJasmin\n",
      "  2 dependencies successfully precompiled in 17 seconds (191 already precompiled)\n"
     ]
    }
   ],
   "source": [
    "Pkg.add(url=\"https://github.com/fbastin/Jasmin\")"
   ]
  },
  {
   "cell_type": "markdown",
   "metadata": {
    "slideshow": {
     "slide_type": "slide"
    }
   },
   "source": [
    "## Bloc-notes\n",
    "\n",
    "Julia s'intègre aussi à l'environnement de bloc-notes, permettant de mélanger texte et code, tout en offrant un environnement interactif. Un fichier de bloc-notes se reconnaît à l'extension de fichier `ipynb`.\n",
    "\n",
    "Pour utiliser Julia avec les bloc-notes, il est nécessaire d'ajouter la librairie IJulia."
   ]
  },
  {
   "cell_type": "code",
   "execution_count": 6,
   "metadata": {},
   "outputs": [
    {
     "name": "stderr",
     "output_type": "stream",
     "text": [
      "\u001b[32m\u001b[1m   Resolving\u001b[22m\u001b[39m package versions...\n",
      "\u001b[32m\u001b[1m  No Changes\u001b[22m\u001b[39m to `C:\\Users\\slash\\.julia\\environments\\v1.7\\Project.toml`\n",
      "\u001b[32m\u001b[1m  No Changes\u001b[22m\u001b[39m to `C:\\Users\\slash\\.julia\\environments\\v1.7\\Manifest.toml`\n"
     ]
    }
   ],
   "source": [
    "Pkg.add(\"IJulia\")"
   ]
  },
  {
   "cell_type": "markdown",
   "metadata": {},
   "source": [
    "Pour lire, écrire et modifier des bloc-notes, il est possible d'utiliser `Jupyter` ou `Nteract`. Le premier s'exécute à l'intérieur du navigateur internet tandis que le second est une application indépendante."
   ]
  },
  {
   "cell_type": "markdown",
   "metadata": {
    "slideshow": {
     "slide_type": "subslide"
    }
   },
   "source": [
    "### Jupyter"
   ]
  },
  {
   "cell_type": "markdown",
   "metadata": {},
   "source": [
    "L'environnement Jupyter (http://www.jupyter.org) est une application web permettant de créer des documents combinant texte, codes, équations, et graphiques. Il est également possible d'exporter le code source ainsi que de créer des documents pdf et même des présentations interactives.\n",
    "\n",
    "Le nom vient d'une origine double. Il évoque la planète Jupiter ainsi que les languages majeurs supportés par Jupyter: Julia, Python et R. Sa documentation peut être consultée à l'adresse https://jupyter.org/documentation.\n",
    "\n",
    "L'installation directe de Jupyter est dépendante de l'OS, mais peut être également réalisée à travers la suite Anaconda, téléchargeable à l'adresse: https://anaconda.com, laquelle offre un environnement intégré pour Python."
   ]
  },
  {
   "cell_type": "markdown",
   "metadata": {
    "slideshow": {
     "slide_type": "subslide"
    }
   },
   "source": [
    "Une fois la librairie installée, nous la chargerons en mémoire et utiliserons la fonction 'notebook' pour démarrer Jupyter."
   ]
  },
  {
   "cell_type": "code",
   "execution_count": 7,
   "metadata": {},
   "outputs": [
    {
     "ename": "LoadError",
     "evalue": "IJulia is already running",
     "output_type": "error",
     "traceback": [
      "IJulia is already running",
      "",
      "Stacktrace:",
      " [1] error(s::String)",
      "   @ Base .\\error.jl:33",
      " [2] notebook(; dir::String, detached::Bool)",
      "   @ IJulia C:\\Users\\slash\\.julia\\packages\\IJulia\\e8kqU\\src\\jupyter.jl:95",
      " [3] notebook()",
      "   @ IJulia C:\\Users\\slash\\.julia\\packages\\IJulia\\e8kqU\\src\\jupyter.jl:95",
      " [4] top-level scope",
      "   @ In[7]:2",
      " [5] eval",
      "   @ .\\boot.jl:373 [inlined]",
      " [6] include_string(mapexpr::typeof(REPL.softscope), mod::Module, code::String, filename::String)",
      "   @ Base .\\loading.jl:1196"
     ]
    }
   ],
   "source": [
    "using IJulia\n",
    "notebook()"
   ]
  },
  {
   "cell_type": "markdown",
   "metadata": {
    "slideshow": {
     "slide_type": "subslide"
    }
   },
   "source": [
    "Si aucune version de Jupyter n'est détecté, Julia installera une version minimale de Jupyter. Pour démarrer Jupyter dans le navigateur internet, depuis la ligne de commande, entrez"
   ]
  },
  {
   "cell_type": "markdown",
   "metadata": {},
   "source": [
    "jupyter notebook"
   ]
  },
  {
   "cell_type": "markdown",
   "metadata": {
    "slideshow": {
     "slide_type": "subslide"
    }
   },
   "source": [
    "## Nteract"
   ]
  },
  {
   "cell_type": "markdown",
   "metadata": {},
   "source": [
    "Une alternative à Jupyter est `Nteract`, disponible à l'adresse https://nteract.io/ Son avantage est de fonctionner en dehors du navigateur internet. Par contre, son support de formattage de texte est moins avancé.\n",
    "\n",
    "`Nteract` étant une interface, le support des bloc-notes doit être installé au sein du langage de programmation utilisé."
   ]
  },
  {
   "cell_type": "markdown",
   "metadata": {
    "slideshow": {
     "slide_type": "subslide"
    }
   },
   "source": [
    "Comme indiqué à la page https://nteract.io/kernels/julia, il est nécessaire d'installer le noyau Julia pour pouvoir exécuter du code."
   ]
  },
  {
   "cell_type": "code",
   "execution_count": 8,
   "metadata": {},
   "outputs": [
    {
     "name": "stderr",
     "output_type": "stream",
     "text": [
      "\u001b[32m\u001b[1m    Updating\u001b[22m\u001b[39m registry at `C:\\Users\\slash\\.julia\\registries\\General`\n",
      "\u001b[32m\u001b[1m    Updating\u001b[22m\u001b[39m git-repo `https://github.com/JuliaRegistries/General.git`\n",
      "\u001b[32m\u001b[1m  No Changes\u001b[22m\u001b[39m to `C:\\Users\\slash\\.julia\\environments\\v1.7\\Project.toml`\n",
      "\u001b[32m\u001b[1m  No Changes\u001b[22m\u001b[39m to `C:\\Users\\slash\\.julia\\environments\\v1.7\\Manifest.toml`\n",
      "┌ Info: Installing Julia nteract kernelspec in C:\\Users\\slash\\AppData\\Roaming\\jupyter\\kernels\\julia-nteract-1.7\n",
      "└ @ IJulia C:\\Users\\slash\\.julia\\packages\\IJulia\\e8kqU\\deps\\kspec.jl:94\n"
     ]
    },
    {
     "data": {
      "text/plain": [
       "\"C:\\\\Users\\\\slash\\\\AppData\\\\Roaming\\\\jupyter\\\\kernels\\\\julia-nteract-1.7\""
      ]
     },
     "execution_count": 8,
     "metadata": {},
     "output_type": "execute_result"
    }
   ],
   "source": [
    "# From a Julia prompt\n",
    "using Pkg\n",
    "Pkg.update(\"IJulia\")\n",
    "IJulia.installkernel(\"Julia nteract\")"
   ]
  },
  {
   "cell_type": "markdown",
   "metadata": {
    "slideshow": {
     "slide_type": "subslide"
    }
   },
   "source": [
    "## MyBinder"
   ]
  },
  {
   "cell_type": "markdown",
   "metadata": {},
   "source": [
    "Si le notebook Jupyter est herbergé sur une plateforme de développement coopératif telle que https://github.com, il est possible de l'exécuter en renseignant son URL sur le site https://mybinder.org/. Il convient cependant au préalable d'ajouter dans le fichier Project.toml, qui doit être placé à la racine du projet, la version minimale de Julia dans la section [compat], par exemple, en exigeant une installation:\n",
    "\n",
    "[compat]\n",
    "julia = \"1.7\"\n",
    "\n",
    "À titre d'exemple, cette introduction ainsi que des notebook d'introduction à la programmation mathématique peuvent être consultés via le lien https://mybinder.org/v2/gh/fbastin/optim/HEAD"
   ]
  },
  {
   "cell_type": "markdown",
   "metadata": {
    "slideshow": {
     "slide_type": "slide"
    }
   },
   "source": [
    "## Boîtes à outil spécifiques"
   ]
  },
  {
   "cell_type": "markdown",
   "metadata": {},
   "source": [
    "Diverses orientations spécifiques existent, permettant de spécialiser l'usage de Julia pour des besoins spécifiques. Il serait difficile d'être exhaustif, et nous ne citerons ici qu'un cas particulier, mais il existe actuellement des ensembles d'outils pour les principaux sujets de recherche scientifique actifs."
   ]
  },
  {
   "cell_type": "markdown",
   "metadata": {
    "slideshow": {
     "slide_type": "subslide"
    }
   },
   "source": [
    "### Optimisation\n",
    "\n",
    "Julia supporte de nombreux algorithmes d'optimisation et propose un langage de modélisation algébrique. Les détails peuvent être trouvés à l'adresse http://www.juliaopt.org\n",
    "\n",
    "En outre, le langage JuMP offre de modéliser les programmes mathématiques de manière intuitive."
   ]
  },
  {
   "cell_type": "markdown",
   "metadata": {
    "slideshow": {
     "slide_type": "subslide"
    }
   },
   "source": [
    "### GPU"
   ]
  },
  {
   "cell_type": "markdown",
   "metadata": {
    "collapsed": true
   },
   "source": [
    "Julia offre un support des GPU grâce aux librairies reprises à dans le projet JuliaGPU: https://juliagpu.org/"
   ]
  },
  {
   "cell_type": "markdown",
   "metadata": {
    "slideshow": {
     "slide_type": "slide"
    }
   },
   "source": [
    "### Exporter vers d'autres formats\n",
    "\n",
    "Il est également possible d'exporter les bloc-notes, directement depuis l'interface de Jupyter, ou en ligne de commandes. Par exemples, pour créer des slides, on pourra utiliser"
   ]
  },
  {
   "cell_type": "markdown",
   "metadata": {},
   "source": [
    "jupyter nbconvert your_slides.ipynb --to slides"
   ]
  },
  {
   "cell_type": "markdown",
   "metadata": {
    "collapsed": true
   },
   "source": [
    "Pour appeler directement le navigateur internet, entrez"
   ]
  },
  {
   "cell_type": "markdown",
   "metadata": {},
   "source": [
    "jupyter nbconvert your_slides.ipynb --to slides --post serve"
   ]
  },
  {
   "cell_type": "markdown",
   "metadata": {
    "slideshow": {
     "slide_type": "subslide"
    }
   },
   "source": [
    "Il est également possible d'exporter vers des formats tels que PDF, HTML, etc.\n",
    "\n",
    "Le principe général reste d'appeler jupyter avec la commande nbconvert, et d'indiquer le format de conversion, par exemple\n",
    "\n",
    "jupyter nbconvert your_slides.ipynb --to PDF"
   ]
  },
  {
   "cell_type": "markdown",
   "metadata": {
    "slideshow": {
     "slide_type": "slide"
    }
   },
   "source": [
    "\n",
    "## Tutoriaux\n",
    "\n",
    "De nombreux tutoriaux existent, mais il faut veiller à consulter un tutorial à jour pour la dernière version de Julia, comme le langage est encore en cours d'évolution. Le plus simple est de consulter la page https://julialang.org/learning/\n",
    "\n",
    "Dans l'interprétation, il est possible d'accéder à de la documentation en ligne en introduisant le caractère '?' dans la ligne de commande.\n",
    "\n",
    "Il est possible de suivre des cours d'introduction sur https://juliaacademy.com/ En particulier, un cours d'introduction est disponible à l'adresse https://juliaacademy.com/p/intro-to-julia"
   ]
  },
  {
   "cell_type": "markdown",
   "metadata": {
    "slideshow": {
     "slide_type": "slide"
    }
   },
   "source": [
    "# Support\n",
    "\n",
    "Il existe différents canaux de communication avec la communauté Julia. Mentionnons ici https://discourse.julialang.org/"
   ]
  },
  {
   "cell_type": "markdown",
   "metadata": {
    "slideshow": {
     "slide_type": "slide"
    }
   },
   "source": [
    "# Débuter avec Julia"
   ]
  },
  {
   "cell_type": "markdown",
   "metadata": {},
   "source": [
    "Des bloc-notes interactifs sont disponibles sur https://github.com/JuliaAcademy/JuliaTutorials/blob/master/introductory-tutorials/intro-to-julia, en particulier https://github.com/JuliaAcademy/JuliaTutorials/blob/master/introductory-tutorials/intro-to-julia/01.%20Getting%20started.ipynb"
   ]
  },
  {
   "cell_type": "markdown",
   "metadata": {
    "slideshow": {
     "slide_type": "subslide"
    }
   },
   "source": [
    "### Affectation de variables\n",
    "\n",
    "La syntaxe de base consiste à écrire le nom de variable suivi du signe d'égalité et de la valeur à affecter à la variable, par exemple"
   ]
  },
  {
   "cell_type": "code",
   "execution_count": 9,
   "metadata": {},
   "outputs": [
    {
     "data": {
      "text/plain": [
       "42"
      ]
     },
     "execution_count": 9,
     "metadata": {},
     "output_type": "execute_result"
    }
   ],
   "source": [
    "the_answer_to_life_the_universe_and_everything = 42"
   ]
  },
  {
   "cell_type": "markdown",
   "metadata": {},
   "source": [
    "Note: Google est d'accord https://www.google.ca/search?sxsrf=ALeKk00YlrkNlc4nJGBesWkETj6KN4G3yw%3A1598202654408&ei=HqNCX6WwGOqa_QawnIWIAQ&q=the+answer+to+life%2C+the+universe%2C+and+everything&oq=the+answer+to+life%2C+the+universe%2C+and+everything&gs_lcp=CgZwc3ktYWIQAzIECCMQJzIFCAAQywEyBQgAEMsBMgUIABDLATIFCAAQywEyBQgAEMsBMgUIABDLATIFCAAQywEyBQgAEMsBMgUIABDLAToECAAQR1C9VFjcc2DjdmgAcAF4AIABkAGIAe0BkgEDMS4xmAEAoAEBqgEHZ3dzLXdpesABAQ&sclient=psy-ab&ved=0ahUKEwilt_rr6LHrAhVqTd8KHTBOAREQ4dUDCAw&uact=5"
   ]
  },
  {
   "cell_type": "markdown",
   "metadata": {
    "slideshow": {
     "slide_type": "subslide"
    }
   },
   "source": [
    "Julia est fortement typé, pourtant nous n'avons pas précisé le type! Par défaut, Julia infère le type de la valeur assignée, et nous pouvons le connaître comme suit:"
   ]
  },
  {
   "cell_type": "code",
   "execution_count": 10,
   "metadata": {},
   "outputs": [
    {
     "data": {
      "text/plain": [
       "Int64"
      ]
     },
     "execution_count": 10,
     "metadata": {},
     "output_type": "execute_result"
    }
   ],
   "source": [
    "typeof(the_answer_to_life_the_universe_and_everything)"
   ]
  },
  {
   "cell_type": "markdown",
   "metadata": {
    "slideshow": {
     "slide_type": "subslide"
    }
   },
   "source": [
    "Simplifions le nom de la variable, en la transformant au passage en réel:"
   ]
  },
  {
   "cell_type": "code",
   "execution_count": 11,
   "metadata": {},
   "outputs": [
    {
     "data": {
      "text/plain": [
       "42.0"
      ]
     },
     "execution_count": 11,
     "metadata": {},
     "output_type": "execute_result"
    }
   ],
   "source": [
    "life = convert(Float64,the_answer_to_life_the_universe_and_everything)"
   ]
  },
  {
   "cell_type": "code",
   "execution_count": 12,
   "metadata": {},
   "outputs": [
    {
     "data": {
      "text/plain": [
       "Float64"
      ]
     },
     "execution_count": 12,
     "metadata": {},
     "output_type": "execute_result"
    }
   ],
   "source": [
    "typeof(life)"
   ]
  },
  {
   "cell_type": "markdown",
   "metadata": {
    "slideshow": {
     "slide_type": "subslide"
    }
   },
   "source": [
    "Jupyter (et Julia) supporte le code $\\LaTeX$ et même les émoticônes! Pour le code $\\LaTeX$, il suffit d'écrire la commande $\\LaTeX$ puis d'appuyer sur tabulation. Les émoticônes s'obtiennent en écrivant en entourant le nom de l'émoticône de `\\:` et `:`, par exemple `\\:alien:`, suivi de tabulation. Si le nom n'est pas connu en entier, après `\\:` et les premières lettres de l'émoticône entrée, l'appui sur tabulation permet d'afficher une liste déroulante où vous pouvez choisir l'émoticône voulue."
   ]
  },
  {
   "cell_type": "code",
   "execution_count": 13,
   "metadata": {
    "slideshow": {
     "slide_type": "-"
    }
   },
   "outputs": [
    {
     "name": "stdout",
     "output_type": "stream",
     "text": [
      "6.0\n"
     ]
    }
   ],
   "source": [
    "α = 1.0\n",
    "👽 = \"alien\"\n",
    "println(α+length(👽))"
   ]
  },
  {
   "cell_type": "code",
   "execution_count": 14,
   "metadata": {},
   "outputs": [
    {
     "data": {
      "text/plain": [
       "String"
      ]
     },
     "execution_count": 14,
     "metadata": {},
     "output_type": "execute_result"
    }
   ],
   "source": [
    "typeof(👽)"
   ]
  },
  {
   "cell_type": "code",
   "execution_count": 15,
   "metadata": {},
   "outputs": [
    {
     "data": {
      "text/plain": [
       "true"
      ]
     },
     "execution_count": 15,
     "metadata": {},
     "output_type": "execute_result"
    }
   ],
   "source": [
    "🐱 = 1.0\n",
    "🐶 = -1.0\n",
    "💥 = 0.0\n",
    "🐱+🐶==💥"
   ]
  },
  {
   "cell_type": "code",
   "execution_count": 16,
   "metadata": {},
   "outputs": [
    {
     "data": {
      "text/plain": [
       "true"
      ]
     },
     "execution_count": 16,
     "metadata": {},
     "output_type": "execute_result"
    }
   ],
   "source": [
    "🐱!=🐶"
   ]
  },
  {
   "cell_type": "markdown",
   "metadata": {
    "slideshow": {
     "slide_type": "slide"
    }
   },
   "source": [
    "## Types"
   ]
  },
  {
   "cell_type": "markdown",
   "metadata": {},
   "source": [
    "Les types sont organisés hiérachiquement, avec une structure aborescente. Il est possible de connaître le type dont dépend directement un type avec la commande `supertype`:"
   ]
  },
  {
   "cell_type": "code",
   "execution_count": 17,
   "metadata": {},
   "outputs": [
    {
     "name": "stdout",
     "output_type": "stream",
     "text": [
      "Signed AbstractFloat\n"
     ]
    }
   ],
   "source": [
    "println(supertype(Int64), \" \", supertype(Float64))"
   ]
  },
  {
   "cell_type": "markdown",
   "metadata": {},
   "source": [
    "À la racine se trouve le type `Any`, dont dépendent directement un grand nombre de types, qui peuvent être obtenus avec la commande `subtypes`:"
   ]
  },
  {
   "cell_type": "code",
   "execution_count": 18,
   "metadata": {},
   "outputs": [
    {
     "data": {
      "text/plain": [
       "555-element Vector{Any}:\n",
       " AbstractArray\n",
       " AbstractChannel\n",
       " AbstractChar\n",
       " AbstractDict\n",
       " AbstractDisplay\n",
       " AbstractMatch\n",
       " AbstractPattern\n",
       " AbstractSet\n",
       " AbstractString\n",
       " Any\n",
       " Base.AbstractBroadcasted\n",
       " Base.AbstractCartesianIndex\n",
       " Base.AbstractCmd\n",
       " ⋮\n",
       " Timer\n",
       " Tuple\n",
       " Type\n",
       " TypeVar\n",
       " UndefInitializer\n",
       " Val\n",
       " VecElement\n",
       " VersionNumber\n",
       " WeakRef\n",
       " ZMQ.Context\n",
       " ZMQ.Socket\n",
       " ZMQ._Message"
      ]
     },
     "execution_count": 18,
     "metadata": {},
     "output_type": "execute_result"
    }
   ],
   "source": [
    "subtypes(Any)"
   ]
  },
  {
   "cell_type": "markdown",
   "metadata": {
    "slideshow": {
     "slide_type": "subslide"
    }
   },
   "source": [
    "Nous pouvons exposer l'arborescence à l'aide de la function récusive suivante, que nous appliquons au type `Number`, qui a comme prédécesseur direct le type `Any`."
   ]
  },
  {
   "cell_type": "code",
   "execution_count": 19,
   "metadata": {},
   "outputs": [
    {
     "name": "stdout",
     "output_type": "stream",
     "text": [
      "Number\n",
      "\tComplex\n",
      "\tReal\n",
      "\t\tAbstractFloat\n",
      "\t\t\tBigFloat\n",
      "\t\t\tFloat16\n",
      "\t\t\tFloat32\n",
      "\t\t\tFloat64\n",
      "\t\tAbstractIrrational\n",
      "\t\t\tIrrational\n",
      "\t\tInteger\n",
      "\t\t\tBool\n",
      "\t\t\tSigned\n",
      "\t\t\t\tBigInt\n",
      "\t\t\t\tInt128\n",
      "\t\t\t\tInt16\n",
      "\t\t\t\tInt32\n",
      "\t\t\t\tInt64\n",
      "\t\t\t\tInt8\n",
      "\t\t\tUnsigned\n",
      "\t\t\t\tUInt128\n",
      "\t\t\t\tUInt16\n",
      "\t\t\t\tUInt32\n",
      "\t\t\t\tUInt64\n",
      "\t\t\t\tUInt8\n",
      "\t\tRational\n"
     ]
    }
   ],
   "source": [
    "# Tiré de https://en.wikibooks.org/wiki/Introducing_Julia/Types\n",
    "function showtypetree(T, level=0)\n",
    "     println(\"\\t\" ^ level, T)\n",
    "     for t in subtypes(T)\n",
    "         showtypetree(t, level+1)\n",
    "     end\n",
    "end\n",
    "\n",
    "showtypetree(Number)"
   ]
  },
  {
   "cell_type": "code",
   "execution_count": 20,
   "metadata": {},
   "outputs": [
    {
     "data": {
      "text/plain": [
       "Float64"
      ]
     },
     "execution_count": 20,
     "metadata": {},
     "output_type": "execute_result"
    }
   ],
   "source": [
    "typeof(5/9)"
   ]
  },
  {
   "cell_type": "markdown",
   "metadata": {
    "slideshow": {
     "slide_type": "slide"
    }
   },
   "source": [
    "# Tableaux"
   ]
  },
  {
   "cell_type": "markdown",
   "metadata": {},
   "source": [
    "Les variables peuvent être groupés en tableaux, à une ou plusieurs dimensions. Il est à noter que les indices commencent à 1 en Julia."
   ]
  },
  {
   "cell_type": "code",
   "execution_count": 21,
   "metadata": {},
   "outputs": [
    {
     "data": {
      "text/plain": [
       "10-element Vector{Int64}:\n",
       "  1\n",
       "  2\n",
       "  3\n",
       "  4\n",
       "  5\n",
       "  6\n",
       "  7\n",
       "  8\n",
       "  9\n",
       " 10"
      ]
     },
     "execution_count": 21,
     "metadata": {},
     "output_type": "execute_result"
    }
   ],
   "source": [
    "x = [i for i = 1:10]"
   ]
  },
  {
   "cell_type": "code",
   "execution_count": 22,
   "metadata": {},
   "outputs": [
    {
     "data": {
      "text/plain": [
       "1"
      ]
     },
     "execution_count": 22,
     "metadata": {},
     "output_type": "execute_result"
    }
   ],
   "source": [
    "x[1]"
   ]
  },
  {
   "cell_type": "code",
   "execution_count": null,
   "metadata": {},
   "outputs": [],
   "source": []
  }
 ],
 "metadata": {
  "celltoolbar": "Slideshow",
  "kernelspec": {
   "display_name": "Julia 1.7.1",
   "language": "julia",
   "name": "julia-1.7"
  },
  "language_info": {
   "file_extension": ".jl",
   "mimetype": "application/julia",
   "name": "julia",
   "version": "1.7.1"
  },
  "rise": {
   "enable_chalkboard": true
  }
 },
 "nbformat": 4,
 "nbformat_minor": 1
}
