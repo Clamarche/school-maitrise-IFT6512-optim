{
 "cells": [
  {
   "cell_type": "markdown",
   "metadata": {},
   "source": [
    "# Introduction à Julia"
   ]
  },
  {
   "cell_type": "markdown",
   "metadata": {
    "collapsed": true
   },
   "source": [
    "## Installation\n",
    "\n",
    "L'interpréteur et compilateur de Julia peut être téléchargé à l'adresse http://www.julialang.org Julia peut être installé sur les OS majeurs: Windows, MacOS X, Linux. Nous nous focaliserons ici sur Linux.\n",
    "\n",
    "Pour lancer l'interpréteur Julia en mode interactif, il suffit d'entrer au niveau du terminal"
   ]
  },
  {
   "cell_type": "raw",
   "metadata": {},
   "source": [
    "julia"
   ]
  },
  {
   "cell_type": "markdown",
   "metadata": {},
   "source": [
    "Il est également possible d'exécuter un script julia en indiquant le nom du fichier, par exemple"
   ]
  },
  {
   "cell_type": "raw",
   "metadata": {},
   "source": [
    "julia hello.jl"
   ]
  },
  {
   "cell_type": "markdown",
   "metadata": {},
   "source": [
    "où le fichier \"hello.jl\" contient la commande"
   ]
  },
  {
   "cell_type": "code",
   "execution_count": 1,
   "metadata": {
    "collapsed": false
   },
   "outputs": [
    {
     "name": "stdout",
     "output_type": "stream",
     "text": [
      "Hello World!\n"
     ]
    }
   ],
   "source": [
    "println(\"Hello World!\")"
   ]
  },
  {
   "cell_type": "markdown",
   "metadata": {},
   "source": [
    "## Librairies"
   ]
  },
  {
   "cell_type": "code",
   "execution_count": null,
   "metadata": {
    "collapsed": true
   },
   "outputs": [],
   "source": [
    "Un nombre important de librairies officielles sont disponibles, mais ne sont pas installées par défaut avec Julia.\n",
    "Pour en ajouter une, il faut utiliser la commande"
   ]
  },
  {
   "cell_type": "raw",
   "metadata": {},
   "source": [
    "Pkg.add(\"Nom de la librairies\")"
   ]
  },
  {
   "cell_type": "raw",
   "metadata": {},
   "source": [
    "par exemple"
   ]
  },
  {
   "cell_type": "code",
   "execution_count": 2,
   "metadata": {
    "collapsed": false
   },
   "outputs": [
    {
     "name": "stderr",
     "output_type": "stream",
     "text": [
      "INFO: Nothing to be done\n",
      "INFO: METADATA is out-of-date — you may not have the latest version of Distributions\n",
      "INFO: Use `Pkg.update()` to get the latest versions of your packages\n"
     ]
    }
   ],
   "source": [
    "Pkg.add(\"Distributions\")"
   ]
  },
  {
   "cell_type": "markdown",
   "metadata": {},
   "source": [
    "Les sources des librairies installées sont disponibles dans le sous-répertoire"
   ]
  },
  {
   "cell_type": "raw",
   "metadata": {},
   "source": [
    "$HOME/.julia"
   ]
  },
  {
   "cell_type": "markdown",
   "metadata": {},
   "source": [
    "## Librairies"
   ]
  },
  {
   "cell_type": "markdown",
   "metadata": {},
   "source": [
    "La liste des librairies officielles (``registered packages'') est disponible à l'adresse http://pkg.julialang.org/.\n",
    "\n",
    "Il est conseillé de mettre à jour régulièrement les librairies installées avec la commande"
   ]
  },
  {
   "cell_type": "code",
   "execution_count": 3,
   "metadata": {
    "collapsed": false
   },
   "outputs": [
    {
     "name": "stderr",
     "output_type": "stream",
     "text": [
      "INFO: Updating METADATA...\n",
      "INFO: Updating cache of DataFrames...\n",
      "INFO: Updating cache of Distributions...\n",
      "INFO: Updating cache of Rmath...\n",
      "INFO: Updating cache of ForwardDiff...\n",
      "INFO: Updating cache of Optim...\n",
      "INFO: Updating cache of PDMats...\n",
      "INFO: Updating cache of DataFrames...\n",
      "WARNING: Package RandomStreams: skipping update (dirty)...\n",
      "INFO: Computing changes...\n",
      "INFO: Cloning cache of DiffBase from https://github.com/JuliaDiff/DiffBase.jl.git\n",
      "INFO: Cloning cache of LineSearches from https://github.com/anriseth/LineSearches.jl.git\n",
      "INFO: Installing DiffBase v0.0.2\n",
      "INFO: Upgrading Distributions: v0.11.0 => v0.11.1\n",
      "INFO: Upgrading ForwardDiff: v0.2.5 => v0.3.3\n",
      "INFO: Installing LineSearches v0.1.1\n",
      "INFO: Upgrading Optim: v0.6.1 => v0.7.0\n",
      "INFO: Upgrading PDMats: v0.5.1 => v0.5.2\n",
      "INFO: Upgrading Rmath: v0.1.4 => v0.1.5\n",
      "INFO: Building Rmath\n"
     ]
    }
   ],
   "source": [
    "Pkg.update()"
   ]
  },
  {
   "cell_type": "markdown",
   "metadata": {},
   "source": [
    "Il est possible d'importer une librairie non officielle disponible sur GitHub avec la commande \"Pkg.clone\" et comme argument l'adresse de la librairie. Nous utiliserons ainsi la librairies RandomStreams."
   ]
  },
  {
   "cell_type": "code",
   "execution_count": 4,
   "metadata": {
    "collapsed": false
   },
   "outputs": [
    {
     "name": "stderr",
     "output_type": "stream",
     "text": [
      "INFO: Cloning RandomStreams from https://github.com/prsteele/RandomStreams.jl\n"
     ]
    },
    {
     "ename": "LoadError",
     "evalue": "LoadError: RandomStreams already exists\nwhile loading In[4], in expression starting on line 1",
     "output_type": "error",
     "traceback": [
      "LoadError: RandomStreams already exists\nwhile loading In[4], in expression starting on line 1",
      "",
      " in clone(::String, ::SubString{String}) at ./pkg/entry.jl:193",
      " in clone(::String) at ./pkg/entry.jl:221",
      " in (::Base.Pkg.Dir.##2#3{Array{Any,1},Base.Pkg.Entry.#clone,Tuple{String}})() at ./pkg/dir.jl:31",
      " in cd(::Base.Pkg.Dir.##2#3{Array{Any,1},Base.Pkg.Entry.#clone,Tuple{String}}, ::String) at ./file.jl:59",
      " in clone(::String) at ./pkg/pkg.jl:151",
      " in execute_request(::ZMQ.Socket, ::IJulia.Msg) at /home/bastin/.julia/v0.5/IJulia/src/execute_request.jl:169",
      " in eventloop(::ZMQ.Socket) at /home/bastin/.julia/v0.5/IJulia/src/eventloop.jl:8",
      " in (::IJulia.##9#15)() at ./task.jl:360"
     ]
    }
   ],
   "source": [
    "Pkg.clone(\"https://github.com/prsteele/RandomStreams.jl\")"
   ]
  },
  {
   "cell_type": "markdown",
   "metadata": {},
   "source": [
    "## Jupyter"
   ]
  },
  {
   "cell_type": "markdown",
   "metadata": {},
   "source": [
    "Le bloc-note Jupyter (http://www.jupyter.org) est une application web permettant de créer des documents combinant texte, codes, équations, et graphiques. Il est également possible d'exporter le code source ainsi que de créer des documents pdf et même des présentations interactives.\n",
    "\n",
    "Le nom vient d'une origine double. Il évoque la planète Jupiter ainsi que les languages majeurs supportés par Jupyter: Julia, Python et R (https://github.com/jupyter/design/wiki/Jupyter-Logo). Sa documentation peut être consultée à l'adresse http://jupyter-notebook.readthedocs.io/en/latest/\n",
    "\n",
    "L'installation directe de Jupyter est dépendante de l'OS, mais peut être également réalisée à travers la suite Anaconda, téléchargeable à l'adresse: https://www.continuum.io/\n",
    "\n",
    "Pour utiliser Julia avec Jupyter, il est nécessaire d'ajouter la librairies IJulia, avec l'instruction Julia"
   ]
  },
  {
   "cell_type": "code",
   "execution_count": 5,
   "metadata": {
    "collapsed": false
   },
   "outputs": [
    {
     "name": "stderr",
     "output_type": "stream",
     "text": [
      "INFO: Nothing to be done\n"
     ]
    }
   ],
   "source": [
    "Pkg.add(\"IJulia\")"
   ]
  },
  {
   "cell_type": "markdown",
   "metadata": {},
   "source": [
    "Pour démarrer IJulia dans le navigateur internet, entrez"
   ]
  },
  {
   "cell_type": "raw",
   "metadata": {},
   "source": [
    "jupyter notebook"
   ]
  },
  {
   "cell_type": "markdown",
   "metadata": {},
   "source": [
    "## Librairies utiles pour nos besoins"
   ]
  },
  {
   "cell_type": "markdown",
   "metadata": {},
   "source": [
    "### Optimisation\n",
    "\n",
    "Julia supporte de nombreux algorithmes d'optimisation et propose un langage de modélisation algébrique. Les détails peuvent être trouvés à l'adresse http://www.juliaopt.org"
   ]
  },
  {
   "cell_type": "markdown",
   "metadata": {},
   "source": [
    "### Simulation\n",
    "\n",
    "Une librairie de simulation par événements discrets est proposée sur http://simjuliajl.readthedocs.io/en/stable/welcome.html"
   ]
  },
  {
   "cell_type": "markdown",
   "metadata": {},
   "source": [
    "## Exporter vers d'autres formats\n",
    "\n",
    "Il est également possible d'exporter les bloc-notes, directement depuis l'interface de Jupyter, ou en ligne de commandes. Par exemples, pour créer des slides, on pourra utiliser\n",
    "\n",
    "\n",
    "\n",
    "\n",
    "Pour appeler directement le navigateur internet, entrez\n",
    "\\begin{verbatim}\n",
    "ipython nbconvert your_slides.ipynb --to slide\n",
    "  --post serve\n",
    "\\end{verbatim}\n",
    "\n",
    "\\end{frame}\n",
    "\n",
    "\\begin{frame}\n",
    "\\frametitle{Pour aller plus loin}\n",
    "\n",
    "Plusieurs tutoriaux existent. Nous nous baserons sur celui rédigé par David P. Sanders et disponible à l'adresse \\url{https://github.com/dpsanders/scipy_2014_julia}"
   ]
  },
  {
   "cell_type": "raw",
   "metadata": {},
   "source": [
    "ipython nbconvert your_slides.ipynb --to slides"
   ]
  },
  {
   "cell_type": "code",
   "execution_count": null,
   "metadata": {
    "collapsed": true
   },
   "outputs": [],
   "source": []
  }
 ],
 "metadata": {
  "kernelspec": {
   "display_name": "Julia 0.5.0",
   "language": "julia",
   "name": "julia-0.5"
  },
  "language_info": {
   "file_extension": ".jl",
   "mimetype": "application/julia",
   "name": "julia",
   "version": "0.5.0"
  }
 },
 "nbformat": 4,
 "nbformat_minor": 1
}
