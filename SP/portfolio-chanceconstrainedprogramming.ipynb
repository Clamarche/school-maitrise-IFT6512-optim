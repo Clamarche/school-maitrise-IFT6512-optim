{
 "cells": [
  {
   "cell_type": "markdown",
   "metadata": {},
   "source": [
    "# Chance-constrained programming: portfolio optimization example"
   ]
  },
  {
   "cell_type": "code",
   "execution_count": 9,
   "metadata": {},
   "outputs": [],
   "source": [
    "using LinearAlgebra\n",
    "using JuMP\n",
    "using Gurobi\n",
    "using Distributions\n",
    "using Random"
   ]
  },
  {
   "cell_type": "markdown",
   "metadata": {},
   "source": [
    "Adapted from Stephen Boyd and Lieven Vandenberghe, \"Convex Optimization\", Cambridge University Press, 2004, Section 4.7.6, p. 187."
   ]
  },
  {
   "cell_type": "markdown",
   "metadata": {},
   "source": [
    "We consider an investiment portfolio with $n$ assets and random returns, except the last one. We assume that the $n-1$ first returns follow a multivariate distribution with known mean and covariance matrix. The last asset is a risk-free investment product, with a fixed return.\n",
    "\n",
    "The assets characteristics are detailed below."
   ]
  },
  {
   "cell_type": "code",
   "execution_count": 76,
   "metadata": {},
   "outputs": [
    {
     "data": {
      "text/plain": [
       "FullNormal(\n",
       "dim: 3\n",
       "μ: [0.12, 0.1, 0.07]\n",
       "Σ: [0.04 0.006 -0.004; 0.006 0.01 0.0; -0.004 0.0 0.0025]\n",
       ")\n"
      ]
     },
     "execution_count": 76,
     "metadata": {},
     "output_type": "execute_result"
    }
   ],
   "source": [
    "n = 4  # the last asset is a risk-free asset, with a null variance.\n",
    "μ = [.12 ; .10 ; .07 ; .03]\n",
    "Σ = [ 4e-2  6e-3 -4e-3  ;\n",
    "      6e-3  1e-2  0.0  ;\n",
    "      -4e-3  0.0 2.5e-3 ]\n",
    "\n",
    "# We create une multivariate normal of mean μ and covariance matrix Σ\n",
    "d = MvNormal(μ[1:n-1], Σ)"
   ]
  },
  {
   "cell_type": "code",
   "execution_count": 11,
   "metadata": {},
   "outputs": [
    {
     "data": {
      "text/plain": [
       "expectedshortfall (generic function with 2 methods)"
      ]
     },
     "execution_count": 11,
     "metadata": {},
     "output_type": "execute_result"
    }
   ],
   "source": [
    "# Estimate the probability to have a negative return and the resulting expected shortfall.\n",
    "function expectedshortfall(p:: Vector, d:: Distribution, M:: Int = 1000000)\n",
    "    \n",
    "    loss = 0\n",
    "    vloss = 0\n",
    "    for i = 1:M\n",
    "        ξ = [rand(d); μ[n]]\n",
    "        ret = dot(p, ξ)\n",
    "        if ret < 0\n",
    "            loss += 1\n",
    "            vloss += ret\n",
    "        end\n",
    "    end\n",
    "\n",
    "    return loss/M, vloss/loss\n",
    "    \n",
    "end"
   ]
  },
  {
   "cell_type": "markdown",
   "metadata": {},
   "source": [
    "## Portfolio with uniform repartition"
   ]
  },
  {
   "cell_type": "markdown",
   "metadata": {},
   "source": [
    "We first consider the naive strategy where the same amount is invested in each asset."
   ]
  },
  {
   "cell_type": "code",
   "execution_count": 12,
   "metadata": {},
   "outputs": [
    {
     "data": {
      "text/plain": [
       "0.08000000000000002"
      ]
     },
     "execution_count": 12,
     "metadata": {},
     "output_type": "execute_result"
    }
   ],
   "source": [
    "# Expected return with a uniform repartition.\n",
    "p = ones(n)./n\n",
    "er = sum(p[i]*μ[i] for i = 1:n)"
   ]
  },
  {
   "cell_type": "markdown",
   "metadata": {},
   "source": [
    "We now compute the loss probability and the average loss when a loss occurs."
   ]
  },
  {
   "cell_type": "code",
   "execution_count": 13,
   "metadata": {},
   "outputs": [
    {
     "data": {
      "text/plain": [
       "(0.089398, -0.027519738217360753)"
      ]
     },
     "execution_count": 13,
     "metadata": {},
     "output_type": "execute_result"
    }
   ],
   "source": [
    "expectedshortfall(p, d)"
   ]
  },
  {
   "cell_type": "markdown",
   "metadata": {},
   "source": [
    "## Optimal decision without loss constraint"
   ]
  },
  {
   "cell_type": "markdown",
   "metadata": {},
   "source": [
    "We now aim to maximize the expected return, without any consideration for the potential loss."
   ]
  },
  {
   "cell_type": "code",
   "execution_count": 15,
   "metadata": {},
   "outputs": [
    {
     "name": "stdout",
     "output_type": "stream",
     "text": [
      "Academic license - for non-commercial use only - expires 2022-05-04\r\n",
      "Max 0.12 p[1] + 0.1 p[2] + 0.07 p[3] + 0.03 p[4]\n",
      "Subject to\n",
      " p[1] + p[2] + p[3] + p[4] <= 1.0\n",
      " p[1] >= -0.1\n",
      " p[2] >= -0.1\n",
      " p[3] >= -0.1\n",
      " p[4] >= -0.1\n",
      "\n"
     ]
    }
   ],
   "source": [
    "m = Model(with_optimizer(Gurobi.Optimizer))\n",
    "\n",
    "@variable(m, p[1:n] >= -0.1)\n",
    "@constraint(m, sum(p[i] for i = 1:n) <= 1)\n",
    "\n",
    "@objective(m, Max, sum(p[i]*μ[i] for i = 1:n))\n",
    "\n",
    "println(m)"
   ]
  },
  {
   "cell_type": "code",
   "execution_count": 16,
   "metadata": {},
   "outputs": [
    {
     "name": "stdout",
     "output_type": "stream",
     "text": [
      "Gurobi Optimizer version 9.1.2 build v9.1.2rc0 (win64)\r\n",
      "Thread count: 6 physical cores, 12 logical processors, using up to 12 threads\r\n",
      "Optimize a model with 1 rows, 4 columns and 4 nonzeros\r\n",
      "Model fingerprint: 0xcc387da0\r\n",
      "Coefficient statistics:\r\n",
      "  Matrix range     [1e+00, 1e+00]\r\n",
      "  Objective range  [3e-02, 1e-01]\r\n",
      "  Bounds range     [1e-01, 1e-01]\r\n",
      "  RHS range        [1e+00, 1e+00]\r\n",
      "Presolve removed 1 rows and 4 columns\r\n",
      "Presolve time: 0.00s\r\n",
      "Presolve: All rows and columns removed\r\n",
      "Iteration    Objective       Primal Inf.    Dual Inf.      Time\r\n",
      "       0    1.3600000e-01   0.000000e+00   0.000000e+00      0s\r\n",
      "\r\n",
      "Solved in 0 iterations and 0.00 seconds\r\n",
      "Optimal objective  1.360000000e-01\r\n",
      "\r\n",
      "User-callback calls 26, time in user-callback 0.00 sec\r\n"
     ]
    }
   ],
   "source": [
    "optimize!(m)"
   ]
  },
  {
   "cell_type": "code",
   "execution_count": 17,
   "metadata": {},
   "outputs": [
    {
     "data": {
      "text/plain": [
       "4-element Vector{Float64}:\n",
       "  1.3000000000000003\n",
       " -0.1\n",
       " -0.1\n",
       " -0.1"
      ]
     },
     "execution_count": 17,
     "metadata": {},
     "output_type": "execute_result"
    }
   ],
   "source": [
    "value.(p)"
   ]
  },
  {
   "cell_type": "markdown",
   "metadata": {},
   "source": [
    "Not surprisingly, we invest everything is the asset having the highest return rate, even borrowing from the lower return rate asset."
   ]
  },
  {
   "cell_type": "code",
   "execution_count": 18,
   "metadata": {},
   "outputs": [
    {
     "data": {
      "text/plain": [
       "0.136"
      ]
     },
     "execution_count": 18,
     "metadata": {},
     "output_type": "execute_result"
    }
   ],
   "source": [
    "objective_value(m)"
   ]
  },
  {
   "cell_type": "markdown",
   "metadata": {},
   "source": [
    "The loss probability is however close to 30%, and the average lost amount is significantly more important if a loss occurs."
   ]
  },
  {
   "cell_type": "code",
   "execution_count": 19,
   "metadata": {},
   "outputs": [
    {
     "data": {
      "text/plain": [
       "(0.298538, -0.16470327858957412)"
      ]
     },
     "execution_count": 19,
     "metadata": {},
     "output_type": "execute_result"
    }
   ],
   "source": [
    "expectedshortfall(value.(p), d)"
   ]
  },
  {
   "cell_type": "markdown",
   "metadata": {},
   "source": [
    "## Optimal decision with loss constraint"
   ]
  },
  {
   "cell_type": "markdown",
   "metadata": {},
   "source": [
    "We add the constraint that we want to limit the risk by accepting a loss with a maximum probability of 0.05."
   ]
  },
  {
   "cell_type": "code",
   "execution_count": 20,
   "metadata": {},
   "outputs": [
    {
     "data": {
      "text/plain": [
       "0.6079568319117693"
      ]
     },
     "execution_count": 20,
     "metadata": {},
     "output_type": "execute_result"
    }
   ],
   "source": [
    "maxloss = 0\n",
    "\n",
    "α = 0.95\n",
    "z = 1/quantile(Normal(0,1), α)"
   ]
  },
  {
   "cell_type": "markdown",
   "metadata": {},
   "source": [
    "We build the second-order cone constraint corresponding to the joint chance constraint."
   ]
  },
  {
   "cell_type": "code",
   "execution_count": 21,
   "metadata": {},
   "outputs": [
    {
     "data": {
      "text/plain": [
       "3×3 Symmetric{Float64, Matrix{Float64}}:\n",
       "  0.198273   0.0203895   -0.0164913\n",
       "  0.0203895  0.0978718    0.00231869\n",
       " -0.0164913  0.00231869   0.0471451"
      ]
     },
     "execution_count": 21,
     "metadata": {},
     "output_type": "execute_result"
    }
   ],
   "source": [
    "A = Σ^0.5"
   ]
  },
  {
   "cell_type": "code",
   "execution_count": 22,
   "metadata": {},
   "outputs": [
    {
     "data": {
      "text/plain": [
       "3×3 Matrix{Float64}:\n",
       " -6.93889e-18   5.20417e-18   1.73472e-18\n",
       "  5.20417e-18  -1.73472e-18  -1.22964e-18\n",
       "  1.73472e-18  -1.22964e-18   0.0"
      ]
     },
     "execution_count": 22,
     "metadata": {},
     "output_type": "execute_result"
    }
   ],
   "source": [
    "A*A-Σ"
   ]
  },
  {
   "cell_type": "code",
   "execution_count": 23,
   "metadata": {
    "scrolled": false
   },
   "outputs": [
    {
     "name": "stdout",
     "output_type": "stream",
     "text": [
      "Max 0.12 p[1] + 0.1 p[2] + 0.07 p[3] + 0.03 p[4]\n",
      "Subject to\n",
      " p[1] + p[2] + p[3] + p[4] <= 1.0\n",
      " [0.0729548198294123 p[1] + 0.06079568319117693 p[2] + 0.04255697823382386 p[3] + 0.018238704957353077 p[4], 0.19827331129330036 p[1] + 0.02038945638178348 p[2] - 0.016491334004420634 p[3], 0.02038945638178348 p[1] + 0.09787182302877327 p[2] + 0.002318690466585327 p[3], -0.016491334004420634 p[1] + 0.002318690466585327 p[2] + 0.04714509070173485 p[3]] in MathOptInterface.SecondOrderCone(4)\n",
      " p[1] >= -0.1\n",
      " p[2] >= -0.1\n",
      " p[3] >= -0.1\n",
      " p[4] >= -0.1\n",
      "\n"
     ]
    }
   ],
   "source": [
    "# || x || <= t, t >= 0\n",
    "# https://jump.dev/JuMP.jl/stable/reference/constraints/#JuMP.SecondOrderCone\n",
    "@constraint(m, [z*(-maxloss+sum(μ[i]*p[i] for i = 1:n)); (Σ^0.5)*p[1:n-1]] in SecondOrderCone())\n",
    "\n",
    "println(m)"
   ]
  },
  {
   "cell_type": "code",
   "execution_count": 24,
   "metadata": {},
   "outputs": [
    {
     "name": "stdout",
     "output_type": "stream",
     "text": [
      "Gurobi Optimizer version 9.1.2 build v9.1.2rc0 (win64)\r\n",
      "Thread count: 6 physical cores, 12 logical processors, using up to 12 threads\r\n",
      "Optimize a model with 5 rows, 8 columns and 21 nonzeros\r\n",
      "Model has 1 quadratic constraint\r\n",
      "Coefficient statistics:\r\n",
      "  Matrix range     [2e-03, 1e+00]\r\n",
      "  QMatrix range    [1e+00, 1e+00]\r\n",
      "  Objective range  [3e-02, 1e-01]\r\n",
      "  Bounds range     [1e-01, 1e-01]\r\n",
      "  RHS range        [1e+00, 1e+00]\r\n",
      "Presolve time: 0.00s\r\n",
      "Presolved: 5 rows, 8 columns, 21 nonzeros\r\n",
      "Presolved model has 1 second-order cone constraint\r\n",
      "Ordering time: 0.00s\r\n",
      "\r\n",
      "Barrier statistics:\r\n",
      " AA' NZ     : 1.000e+01\r\n",
      " Factor NZ  : 1.500e+01\r\n",
      " Factor Ops : 5.500e+01 (less than 1 second per iteration)\r\n",
      " Threads    : 1\r\n",
      "\r\n",
      "                  Objective                Residual\r\n",
      "Iter       Primal          Dual         Primal    Dual     Compl     Time\r\n",
      "   0   1.11301574e-01  5.68875345e-02  3.97e-01 1.28e-01  3.28e-02     0s\r\n",
      "   1   9.26826200e-02  1.04042953e-01  2.41e-02 1.64e-02  6.54e-03     0s\r\n",
      "   2   8.61269486e-02  1.05728200e-01  7.86e-03 2.73e-03  3.55e-03     0s\r\n",
      "   3   8.95167321e-02  9.47976058e-02  8.64e-09 3.01e-09  5.87e-04     0s\r\n",
      "   4   9.32920270e-02  9.33343515e-02  1.52e-11 2.09e-11  4.70e-06     0s\r\n",
      "   5   9.33013543e-02  9.33015511e-02  2.97e-14 7.46e-13  2.19e-08     0s\r\n",
      "\r\n",
      "Barrier solved model in 5 iterations and 0.03 seconds\r\n",
      "Optimal objective 9.33013543e-02\r\n",
      "\r\n",
      "\r\n",
      "User-callback calls 47, time in user-callback 0.00 sec\r\n"
     ]
    }
   ],
   "source": [
    "optimize!(m)"
   ]
  },
  {
   "cell_type": "code",
   "execution_count": 25,
   "metadata": {},
   "outputs": [
    {
     "data": {
      "text/plain": [
       "4-element Vector{Float64}:\n",
       "  0.1814209102161574\n",
       "  0.3410104123091543\n",
       "  0.577568613079467\n",
       " -0.09999996820959088"
      ]
     },
     "execution_count": 25,
     "metadata": {},
     "output_type": "execute_result"
    }
   ],
   "source": [
    "sol = value.(p)"
   ]
  },
  {
   "cell_type": "code",
   "execution_count": 26,
   "metadata": {},
   "outputs": [
    {
     "data": {
      "text/plain": [
       "0.0933013543261293"
      ]
     },
     "execution_count": 26,
     "metadata": {},
     "output_type": "execute_result"
    }
   ],
   "source": [
    "objective_value(m)"
   ]
  },
  {
   "cell_type": "markdown",
   "metadata": {},
   "source": [
    "Without any surprise, the expected return is less than without the loss constraint, but is still higher than with the uniform repartition. We can also see that we use the risk-free asset as a borrowing tool. The risk to lose money is limited to 5%, as desired, and is less than any other strategy. Interestingly, the average loss is also the smallest one."
   ]
  },
  {
   "cell_type": "code",
   "execution_count": 27,
   "metadata": {},
   "outputs": [
    {
     "data": {
      "text/plain": [
       "(0.049761, -0.023688358918395505)"
      ]
     },
     "execution_count": 27,
     "metadata": {},
     "output_type": "execute_result"
    }
   ],
   "source": [
    "expectedshortfall(value.(p), d)"
   ]
  }
 ],
 "metadata": {
  "kernelspec": {
   "display_name": "Julia 1.7.1",
   "language": "julia",
   "name": "julia-1.7"
  },
  "language_info": {
   "file_extension": ".jl",
   "mimetype": "application/julia",
   "name": "julia",
   "version": "1.7.1"
  }
 },
 "nbformat": 4,
 "nbformat_minor": 2
}
