{
 "cells": [
  {
   "cell_type": "markdown",
   "metadata": {},
   "source": [
    "# Chance-constrained programming: portfolio optimization example"
   ]
  },
  {
   "cell_type": "code",
   "execution_count": 18,
   "metadata": {},
   "outputs": [],
   "source": [
    "using LinearAlgebra\n",
    "using JuMP\n",
    "using Gurobi\n",
    "using Distributions\n",
    "using Random"
   ]
  },
  {
   "cell_type": "markdown",
   "metadata": {},
   "source": [
    "Adapted from Stephen Boyd and Lieven Vandenberghe, \"Convex Optimization\", Cambridge University Press, 2004, Section 4.7.6, p. 187."
   ]
  },
  {
   "cell_type": "markdown",
   "metadata": {},
   "source": [
    "We consider an investiment portfolio with $n$ assets and random returns, except the last one. We assume that the $n-1$ first returns follow a multivariate distribution with known mean and covariance matrix. The last asset is a risk-free investment product, with a fixed return.\n",
    "\n",
    "The assets characteristics are detailed below."
   ]
  },
  {
   "cell_type": "code",
   "execution_count": 19,
   "metadata": {},
   "outputs": [
    {
     "data": {
      "text/plain": [
       "FullNormal(\n",
       "dim: 3\n",
       "μ: [0.12, 0.1, 0.07]\n",
       "Σ: [0.04 0.006 -0.004; 0.006 0.01 0.0; -0.004 0.0 0.0025]\n",
       ")\n"
      ]
     },
     "execution_count": 19,
     "metadata": {},
     "output_type": "execute_result"
    }
   ],
   "source": [
    "n = 4  # the last asset is a risk-free asset, with a null variance.\n",
    "μ = [.12 ; .10 ; .07 ; .03]\n",
    "Σ = [ 4e-2  6e-3 -4e-3  ;\n",
    "      6e-3  1e-2  0.0  ;\n",
    "      -4e-3  0.0 2.5e-3 ]\n",
    "\n",
    "# We create une multivariate normal of mean μ and covariance matrix Σ\n",
    "d = MvNormal(μ[1:n-1], Σ)"
   ]
  },
  {
   "cell_type": "code",
   "execution_count": 20,
   "metadata": {},
   "outputs": [
    {
     "data": {
      "text/plain": [
       "expectedshortfall (generic function with 2 methods)"
      ]
     },
     "execution_count": 20,
     "metadata": {},
     "output_type": "execute_result"
    }
   ],
   "source": [
    "# Estimate the probability to have a negative return and the resulting expected shortfall.\n",
    "function expectedshortfall(p:: Vector, d:: Distribution, M:: Int = 1000000)\n",
    "    \n",
    "    loss = 0\n",
    "    vloss = 0\n",
    "    for i = 1:M\n",
    "        ξ = [rand(d); μ[n]]\n",
    "        ret = dot(p, ξ)\n",
    "        if ret < 0\n",
    "            loss += 1\n",
    "            vloss += ret\n",
    "        end\n",
    "    end\n",
    "\n",
    "    return loss/M, vloss/loss\n",
    "    \n",
    "end"
   ]
  },
  {
   "cell_type": "markdown",
   "metadata": {},
   "source": [
    "## Portfolio with uniform repartition"
   ]
  },
  {
   "cell_type": "markdown",
   "metadata": {},
   "source": [
    "We first consider the naive strategy where the same amount is invested in each asset."
   ]
  },
  {
   "cell_type": "code",
   "execution_count": 22,
   "metadata": {},
   "outputs": [
    {
     "data": {
      "text/plain": [
       "0.08000000000000002"
      ]
     },
     "execution_count": 22,
     "metadata": {},
     "output_type": "execute_result"
    }
   ],
   "source": [
    "# Expected return with a uniform repartition.\n",
    "p = ones(n)./n\n",
    "er = sum(p[i]*μ[i] for i = 1:n)"
   ]
  },
  {
   "cell_type": "markdown",
   "metadata": {},
   "source": [
    "We now compute the loss probability and the average loss when a loss occurs."
   ]
  },
  {
   "cell_type": "code",
   "execution_count": 23,
   "metadata": {},
   "outputs": [
    {
     "data": {
      "text/plain": [
       "(0.089097, -0.02749181127080138)"
      ]
     },
     "execution_count": 23,
     "metadata": {},
     "output_type": "execute_result"
    }
   ],
   "source": [
    "expectedshortfall(p, d)"
   ]
  },
  {
   "cell_type": "markdown",
   "metadata": {},
   "source": [
    "## Optimal decision without loss constraint"
   ]
  },
  {
   "cell_type": "markdown",
   "metadata": {},
   "source": [
    "We now aim to maximize the expected return, without any consideration for the potential loss."
   ]
  },
  {
   "cell_type": "code",
   "execution_count": 24,
   "metadata": {},
   "outputs": [
    {
     "name": "stdout",
     "output_type": "stream",
     "text": [
      "Academic license - for non-commercial use only - expires 2021-10-29\r\n",
      "Max 0.12 p[1] + 0.1 p[2] + 0.07 p[3] + 0.03 p[4]\n",
      "Subject to\n",
      " p[1] + p[2] + p[3] + p[4] <= 1.0\n",
      " p[1] >= -0.1\n",
      " p[2] >= -0.1\n",
      " p[3] >= -0.1\n",
      " p[4] >= -0.1\n",
      "\n"
     ]
    }
   ],
   "source": [
    "m = Model(with_optimizer(Gurobi.Optimizer))\n",
    "\n",
    "@variable(m, p[1:n] >= -0.1)\n",
    "@constraint(m, sum(p[i] for i = 1:n) <= 1)\n",
    "\n",
    "@objective(m, Max, sum(p[i]*μ[i] for i = 1:n))\n",
    "\n",
    "println(m)"
   ]
  },
  {
   "cell_type": "code",
   "execution_count": 25,
   "metadata": {},
   "outputs": [
    {
     "name": "stdout",
     "output_type": "stream",
     "text": [
      "Gurobi Optimizer version 9.1.2 build v9.1.2rc0 (win64)\r\n",
      "Thread count: 6 physical cores, 12 logical processors, using up to 12 threads\r\n",
      "Optimize a model with 1 rows, 4 columns and 4 nonzeros\r\n",
      "Model fingerprint: 0xcc387da0\r\n",
      "Coefficient statistics:\r\n",
      "  Matrix range     [1e+00, 1e+00]\r\n",
      "  Objective range  [3e-02, 1e-01]\r\n",
      "  Bounds range     [1e-01, 1e-01]\r\n",
      "  RHS range        [1e+00, 1e+00]\r\n",
      "Presolve removed 1 rows and 4 columns\r\n",
      "Presolve time: 0.00s\r\n",
      "Presolve: All rows and columns removed\r\n",
      "Iteration    Objective       Primal Inf.    Dual Inf.      Time\r\n",
      "       0    1.3600000e-01   0.000000e+00   0.000000e+00      0s\r\n",
      "\r\n",
      "Solved in 0 iterations and 0.00 seconds\r\n",
      "Optimal objective  1.360000000e-01\r\n",
      "\r\n",
      "User-callback calls 26, time in user-callback 0.00 sec\r\n"
     ]
    }
   ],
   "source": [
    "optimize!(m)"
   ]
  },
  {
   "cell_type": "code",
   "execution_count": 26,
   "metadata": {},
   "outputs": [
    {
     "data": {
      "text/plain": [
       "4-element Vector{Float64}:\n",
       "  1.3000000000000003\n",
       " -0.1\n",
       " -0.1\n",
       " -0.1"
      ]
     },
     "execution_count": 26,
     "metadata": {},
     "output_type": "execute_result"
    }
   ],
   "source": [
    "value.(p)"
   ]
  },
  {
   "cell_type": "markdown",
   "metadata": {},
   "source": [
    "Not surprisingly, we invest everything is the asset having the highest return rate, even borrowing from the lower return rate asset."
   ]
  },
  {
   "cell_type": "code",
   "execution_count": 27,
   "metadata": {},
   "outputs": [
    {
     "data": {
      "text/plain": [
       "0.136"
      ]
     },
     "execution_count": 27,
     "metadata": {},
     "output_type": "execute_result"
    }
   ],
   "source": [
    "objective_value(m)"
   ]
  },
  {
   "cell_type": "markdown",
   "metadata": {},
   "source": [
    "The loss probability is however close to 30%, and the average lost amount is significantly more important if a loss occurs."
   ]
  },
  {
   "cell_type": "code",
   "execution_count": 28,
   "metadata": {},
   "outputs": [
    {
     "data": {
      "text/plain": [
       "(0.299643, -0.16430793157252646)"
      ]
     },
     "execution_count": 28,
     "metadata": {},
     "output_type": "execute_result"
    }
   ],
   "source": [
    "expectedshortfall(value.(p), d)"
   ]
  },
  {
   "cell_type": "markdown",
   "metadata": {},
   "source": [
    "## Optimal decision with loss constraint"
   ]
  },
  {
   "cell_type": "markdown",
   "metadata": {},
   "source": [
    "We add the constraint that we want to limit the risk by accepting a loss with a maximum probability of 0.05."
   ]
  },
  {
   "cell_type": "code",
   "execution_count": 29,
   "metadata": {},
   "outputs": [
    {
     "data": {
      "text/plain": [
       "0.6079568319117693"
      ]
     },
     "execution_count": 29,
     "metadata": {},
     "output_type": "execute_result"
    }
   ],
   "source": [
    "maxloss = 0\n",
    "\n",
    "α = 0.95\n",
    "z = 1/quantile(Normal(0,1), α)"
   ]
  },
  {
   "cell_type": "markdown",
   "metadata": {},
   "source": [
    "We build the second-order cone constraint corresponding to the joint chance constraint."
   ]
  },
  {
   "cell_type": "code",
   "execution_count": 30,
   "metadata": {},
   "outputs": [
    {
     "data": {
      "text/plain": [
       "3×3 Symmetric{Float64, Matrix{Float64}}:\n",
       "  0.198273   0.0203895   -0.0164913\n",
       "  0.0203895  0.0978718    0.00231869\n",
       " -0.0164913  0.00231869   0.0471451"
      ]
     },
     "execution_count": 30,
     "metadata": {},
     "output_type": "execute_result"
    }
   ],
   "source": [
    "A = Σ^0.5"
   ]
  },
  {
   "cell_type": "code",
   "execution_count": 32,
   "metadata": {},
   "outputs": [
    {
     "data": {
      "text/plain": [
       "3×3 Matrix{Float64}:\n",
       " -6.93889e-18   5.20417e-18   1.73472e-18\n",
       "  5.20417e-18  -1.73472e-18  -1.22964e-18\n",
       "  1.73472e-18  -1.22964e-18   0.0"
      ]
     },
     "execution_count": 32,
     "metadata": {},
     "output_type": "execute_result"
    }
   ],
   "source": [
    "A*A-Σ"
   ]
  },
  {
   "cell_type": "code",
   "execution_count": 36,
   "metadata": {
    "scrolled": false
   },
   "outputs": [
    {
     "name": "stdout",
     "output_type": "stream",
     "text": [
      "Max 0.12 p[1] + 0.1 p[2] + 0.07 p[3] + 0.03 p[4]\n",
      "Subject to\n",
      " p[1] + p[2] + p[3] + p[4] <= 1.0\n",
      " [0.0729548198294123 p[1] + 0.06079568319117693 p[2] + 0.04255697823382386 p[3] + 0.018238704957353077 p[4], 0.19827331129330036 p[1] + 0.02038945638178348 p[2] - 0.016491334004420634 p[3], 0.02038945638178348 p[1] + 0.09787182302877327 p[2] + 0.002318690466585327 p[3], -0.016491334004420634 p[1] + 0.002318690466585327 p[2] + 0.04714509070173485 p[3]] in MathOptInterface.SecondOrderCone(4)\n",
      " [0.0729548198294123 p[1] + 0.06079568319117693 p[2] + 0.04255697823382386 p[3] + 0.018238704957353077 p[4], 0.19827331129330036 p[1] + 0.02038945638178348 p[2] - 0.016491334004420634 p[3], 0.02038945638178348 p[1] + 0.09787182302877327 p[2] + 0.002318690466585327 p[3], -0.016491334004420634 p[1] + 0.002318690466585327 p[2] + 0.04714509070173485 p[3]] in MathOptInterface.SecondOrderCone(4)\n",
      " p[1] >= -0.1\n",
      " p[2] >= -0.1\n",
      " p[3] >= -0.1\n",
      " p[4] >= -0.1\n",
      "\n"
     ]
    }
   ],
   "source": [
    "# || x || <= t, t >= 0\n",
    "# https://jump.dev/JuMP.jl/stable/reference/constraints/#JuMP.SecondOrderCone\n",
    "@constraint(m, [z*(-maxloss+sum(μ[i]*p[i] for i = 1:n)); (Σ^0.5)*p[1:n-1]] in SecondOrderCone())\n",
    "\n",
    "println(m)"
   ]
  },
  {
   "cell_type": "code",
   "execution_count": 37,
   "metadata": {},
   "outputs": [
    {
     "name": "stdout",
     "output_type": "stream",
     "text": [
      "Gurobi Optimizer version 9.1.2 build v9.1.2rc0 (win64)\r\n",
      "Thread count: 6 physical cores, 12 logical processors, using up to 12 threads\r\n",
      "Optimize a model with 9 rows, 12 columns and 38 nonzeros\r\n",
      "Model has 2 quadratic constraints\r\n",
      "Coefficient statistics:\r\n",
      "  Matrix range     [2e-03, 1e+00]\r\n",
      "  QMatrix range    [1e+00, 1e+00]\r\n",
      "  Objective range  [3e-02, 1e-01]\r\n",
      "  Bounds range     [1e-01, 1e-01]\r\n",
      "  RHS range        [1e+00, 1e+00]\r\n",
      "Presolve time: 0.01s\r\n",
      "Presolved: 9 rows, 12 columns, 38 nonzeros\r\n",
      "Presolved model has 2 second-order cone constraints\r\n",
      "Ordering time: 0.00s\r\n",
      "\r\n",
      "Barrier statistics:\r\n",
      " AA' NZ     : 3.600e+01\r\n",
      " Factor NZ  : 4.500e+01\r\n",
      " Factor Ops : 2.850e+02 (less than 1 second per iteration)\r\n",
      " Threads    : 1\r\n",
      "\r\n",
      "                  Objective                Residual\r\n",
      "Iter       Primal          Dual         Primal    Dual     Compl     Time\r\n",
      "   0   1.04431570e-01  5.62123875e-02  3.16e-01 1.24e-01  2.24e-02     0s\r\n",
      "   1   8.92965198e-02  1.01222277e-01  1.93e-02 9.91e-03  3.67e-03     0s\r\n",
      "   2   8.54648347e-02  9.83804250e-02  1.47e-04 2.74e-03  1.31e-03     0s\r\n",
      "   3   9.14494906e-02  9.38047495e-02  1.62e-10 1.23e-04  1.95e-04     0s\r\n",
      "   4   9.32457655e-02  9.35873631e-02  1.91e-11 2.02e-07  2.63e-05     0s\r\n",
      "   5   9.32777400e-02  9.33146895e-02  7.54e-13 1.63e-10  2.84e-06     0s\r\n",
      "   6   9.33013335e-02  9.33021143e-02  2.54e-13 1.73e-12  6.01e-08     0s\r\n",
      "\r\n",
      "Barrier solved model in 6 iterations and 0.02 seconds\r\n",
      "Optimal objective 9.33013335e-02\r\n",
      "\r\n",
      "\r\n",
      "User-callback calls 77, time in user-callback 0.00 sec\r\n"
     ]
    }
   ],
   "source": [
    "optimize!(m)"
   ]
  },
  {
   "cell_type": "code",
   "execution_count": 38,
   "metadata": {},
   "outputs": [
    {
     "data": {
      "text/plain": [
       "4-element Vector{Float64}:\n",
       "  0.18186244541024285\n",
       "  0.34027374502773744\n",
       "  0.577863790037057\n",
       " -0.0999999915994766"
      ]
     },
     "execution_count": 38,
     "metadata": {},
     "output_type": "execute_result"
    }
   ],
   "source": [
    "sol = value.(p)"
   ]
  },
  {
   "cell_type": "code",
   "execution_count": 39,
   "metadata": {},
   "outputs": [
    {
     "data": {
      "text/plain": [
       "0.09330133350661257"
      ]
     },
     "execution_count": 39,
     "metadata": {},
     "output_type": "execute_result"
    }
   ],
   "source": [
    "objective_value(m)"
   ]
  },
  {
   "cell_type": "markdown",
   "metadata": {},
   "source": [
    "Without any surprise, the expected return is less than without the loss constraint, but is still higher than with the uniform repartition. We can also see that we use the risk-free asset as a borrowing tool. The risk to lose money is limited to 5%, as desired, and is less than any other strategy. Interestingly, the average loss is also the smallest one."
   ]
  },
  {
   "cell_type": "code",
   "execution_count": 40,
   "metadata": {},
   "outputs": [
    {
     "data": {
      "text/plain": [
       "(0.049992, -0.023570703787206635)"
      ]
     },
     "execution_count": 40,
     "metadata": {},
     "output_type": "execute_result"
    }
   ],
   "source": [
    "expectedshortfall(value.(p), d)"
   ]
  },
  {
   "cell_type": "code",
   "execution_count": null,
   "metadata": {},
   "outputs": [],
   "source": []
  }
 ],
 "metadata": {
  "kernelspec": {
   "display_name": "Julia 1.6.2",
   "language": "julia",
   "name": "julia-1.6"
  },
  "language_info": {
   "file_extension": ".jl",
   "mimetype": "application/julia",
   "name": "julia",
   "version": "1.6.2"
  }
 },
 "nbformat": 4,
 "nbformat_minor": 2
}
