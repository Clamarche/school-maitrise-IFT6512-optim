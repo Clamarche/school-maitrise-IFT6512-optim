{
 "cells": [
  {
   "cell_type": "markdown",
   "id": "5e261ce3",
   "metadata": {},
   "source": [
    "# Random numbers generation"
   ]
  },
  {
   "cell_type": "markdown",
   "id": "6529442b",
   "metadata": {},
   "source": [
    "## Linear congruential generators"
   ]
  },
  {
   "cell_type": "markdown",
   "id": "0a287658",
   "metadata": {},
   "source": [
    "Adapted from https://rosettacode.org/wiki/Linear_congruential_generator"
   ]
  },
  {
   "cell_type": "code",
   "execution_count": null,
   "id": "52941005",
   "metadata": {},
   "outputs": [],
   "source": [
    "function getlcg(seed::Integer, a::Integer, c::Integer, m::Integer)\n",
    "    state = seed\n",
    "    am_mil = 1.0/m\n",
    "    return function lcgrand()\n",
    "        state = mod(a * state + c, m)\n",
    "        return state*am_mil  # produce a number in (0,1)\n",
    "    end\n",
    "end"
   ]
  },
  {
   "cell_type": "markdown",
   "id": "c61a4385",
   "metadata": {},
   "source": [
    "Standard minimal generator:"
   ]
  },
  {
   "cell_type": "code",
   "execution_count": null,
   "id": "939f3e27",
   "metadata": {},
   "outputs": [],
   "source": [
    "stdmin = getlcg(1234, 16807, 0, 2^31-1)"
   ]
  },
  {
   "cell_type": "code",
   "execution_count": null,
   "id": "b12954a4",
   "metadata": {},
   "outputs": [],
   "source": [
    "n = 10000\n",
    "\n",
    "sample = zeros(n)\n",
    "\n",
    "for i = 1:n\n",
    "    sample[i] = stdmin()\n",
    "end"
   ]
  },
  {
   "cell_type": "code",
   "execution_count": null,
   "id": "8ce44622",
   "metadata": {},
   "outputs": [],
   "source": [
    "using Plots"
   ]
  },
  {
   "cell_type": "code",
   "execution_count": null,
   "id": "69e6fd4c",
   "metadata": {
    "scrolled": true
   },
   "outputs": [],
   "source": [
    "scatter(sample[[2*i+1 for i = 0:(Int)(n/2)-1]], sample[[2*i for i = 1:(Int)(n/2)]], label=\"\", fmt = :png)"
   ]
  },
  {
   "cell_type": "markdown",
   "id": "5eba2691",
   "metadata": {},
   "source": [
    "## RDST"
   ]
  },
  {
   "cell_type": "markdown",
   "id": "9335993e",
   "metadata": {},
   "source": [
    "Implementation of random streams."
   ]
  },
  {
   "cell_type": "code",
   "execution_count": 1,
   "id": "548143d9",
   "metadata": {},
   "outputs": [
    {
     "name": "stderr",
     "output_type": "stream",
     "text": [
      "\u001b[32m\u001b[1m    Updating\u001b[22m\u001b[39m git-repo `https://github.com/JLChartrand/RDST.jl`\n",
      "\u001b[32m\u001b[1m    Updating\u001b[22m\u001b[39m registry at `C:\\Users\\slash\\.julia\\registries\\General`\n",
      "\u001b[32m\u001b[1m    Updating\u001b[22m\u001b[39m git-repo `https://github.com/JuliaRegistries/General.git`\n",
      "\u001b[32m\u001b[1m   Resolving\u001b[22m\u001b[39m package versions...\n",
      "\u001b[32m\u001b[1m   Installed\u001b[22m\u001b[39m GR_jll ──────────────── v0.66.2+0\n",
      "\u001b[32m\u001b[1m   Installed\u001b[22m\u001b[39m Contour ─────────────── v0.6.2\n",
      "\u001b[32m\u001b[1m   Installed\u001b[22m\u001b[39m LoggingExtras ───────── v0.4.9\n",
      "\u001b[32m\u001b[1m   Installed\u001b[22m\u001b[39m RelocatableFolders ──── v0.3.0\n",
      "\u001b[32m\u001b[1m   Installed\u001b[22m\u001b[39m LERC_jll ────────────── v3.0.0+1\n",
      "\u001b[32m\u001b[1m   Installed\u001b[22m\u001b[39m JpegTurbo_jll ───────── v2.1.2+0\n",
      "\u001b[32m\u001b[1m   Installed\u001b[22m\u001b[39m PkgLicenses ─────────── v0.2.0\n",
      "\u001b[32m\u001b[1m   Installed\u001b[22m\u001b[39m Pidfile ─────────────── v1.3.0\n",
      "\u001b[32m\u001b[1m   Installed\u001b[22m\u001b[39m JSON2 ───────────────── v0.3.4\n",
      "\u001b[32m\u001b[1m   Installed\u001b[22m\u001b[39m ProgressMeter ───────── v1.7.2\n",
      "\u001b[32m\u001b[1m   Installed\u001b[22m\u001b[39m PlotUtils ───────────── v1.3.0\n",
      "\u001b[32m\u001b[1m   Installed\u001b[22m\u001b[39m GitForge ────────────── v0.1.7\n",
      "\u001b[32m\u001b[1m   Installed\u001b[22m\u001b[39m StaticArrays ────────── v1.5.6\n",
      "\u001b[32m\u001b[1m   Installed\u001b[22m\u001b[39m FiniteDiff ──────────── v2.15.0\n",
      "\u001b[32m\u001b[1m   Installed\u001b[22m\u001b[39m RecipesPipeline ─────── v0.6.3\n",
      "\u001b[32m\u001b[1m   Installed\u001b[22m\u001b[39m ArgParse ────────────── v1.1.4\n",
      "\u001b[32m\u001b[1m   Installed\u001b[22m\u001b[39m JLD2 ────────────────── v0.4.22\n",
      "\u001b[32m\u001b[1m   Installed\u001b[22m\u001b[39m GitHub ──────────────── v5.7.3\n",
      "\u001b[32m\u001b[1m   Installed\u001b[22m\u001b[39m FileIO ──────────────── v1.15.0\n",
      "\u001b[32m\u001b[1m   Installed\u001b[22m\u001b[39m AutoHashEquals ──────── v0.2.0\n",
      "\u001b[32m\u001b[1m   Installed\u001b[22m\u001b[39m Qt5Base_jll ─────────── v5.15.3+1\n",
      "\u001b[32m\u001b[1m   Installed\u001b[22m\u001b[39m xkbcommon_jll ───────── v1.4.1+0\n",
      "\u001b[32m\u001b[1m   Installed\u001b[22m\u001b[39m BenchmarkTools ──────── v1.3.1\n",
      "\u001b[32m\u001b[1m   Installed\u001b[22m\u001b[39m BinaryBuilderBase ───── v1.14.0\n",
      "\u001b[32m\u001b[1m   Installed\u001b[22m\u001b[39m SpecialFunctions ────── v2.1.7\n",
      "\u001b[32m\u001b[1m   Installed\u001b[22m\u001b[39m SimpleBufferStream ──── v1.1.0\n",
      "\u001b[32m\u001b[1m   Installed\u001b[22m\u001b[39m GR ──────────────────── v0.66.2\n",
      "\u001b[32m\u001b[1m   Installed\u001b[22m\u001b[39m ColorSchemes ────────── v3.19.0\n",
      "\u001b[32m\u001b[1m   Installed\u001b[22m\u001b[39m PlotThemes ──────────── v3.0.0\n",
      "\u001b[32m\u001b[1m   Installed\u001b[22m\u001b[39m RNGTest ─────────────── v1.5.1\n",
      "\u001b[32m\u001b[1m   Installed\u001b[22m\u001b[39m AssetRegistry ───────── v0.1.0\n",
      "\u001b[32m\u001b[1m   Installed\u001b[22m\u001b[39m NaNMath ─────────────── v1.0.1\n",
      "\u001b[32m\u001b[1m   Installed\u001b[22m\u001b[39m ArrayInterfaceCore ──── v0.1.19\n",
      "\u001b[32m\u001b[1m   Installed\u001b[22m\u001b[39m StaticArraysCore ────── v1.3.0\n",
      "\u001b[32m\u001b[1m   Installed\u001b[22m\u001b[39m NLSolversBase ───────── v7.8.2\n",
      "\u001b[32m\u001b[1m   Installed\u001b[22m\u001b[39m TranscodingStreams ──── v0.9.9\n",
      "\u001b[32m\u001b[1m   Installed\u001b[22m\u001b[39m GLFW_jll ────────────── v3.3.8+0\n",
      "\u001b[32m\u001b[1m   Installed\u001b[22m\u001b[39m Hiccup ──────────────── v0.2.2\n",
      "\u001b[32m\u001b[1m   Installed\u001b[22m\u001b[39m StatsAPI ────────────── v1.5.0\n",
      "\u001b[32m\u001b[1m   Installed\u001b[22m\u001b[39m Compat ──────────────── v4.2.0\n",
      "\u001b[32m\u001b[1m   Installed\u001b[22m\u001b[39m libaom_jll ──────────── v3.4.0+0\n",
      "\u001b[32m\u001b[1m   Installed\u001b[22m\u001b[39m DataStructures ──────── v0.18.13\n",
      "\u001b[32m\u001b[1m   Installed\u001b[22m\u001b[39m StatsBase ───────────── v0.33.21\n",
      "\u001b[32m\u001b[1m   Installed\u001b[22m\u001b[39m Registrator ─────────── v1.4.0\n",
      "\u001b[32m\u001b[1m   Installed\u001b[22m\u001b[39m Scratch ─────────────── v1.1.1\n",
      "\u001b[32m\u001b[1m   Installed\u001b[22m\u001b[39m ColorTypes ──────────── v0.11.4\n",
      "\u001b[32m\u001b[1m   Installed\u001b[22m\u001b[39m Zstd_jll ────────────── v1.5.2+0\n",
      "\u001b[32m\u001b[1m   Installed\u001b[22m\u001b[39m WebSockets ──────────── v1.5.9\n",
      "\u001b[32m\u001b[1m   Installed\u001b[22m\u001b[39m BinaryBuilder ───────── v0.5.5\n",
      "\u001b[32m\u001b[1m   Installed\u001b[22m\u001b[39m DiffRules ───────────── v1.11.1\n",
      "\u001b[32m\u001b[1m   Installed\u001b[22m\u001b[39m Mustache ────────────── v1.0.14\n",
      "\u001b[32m\u001b[1m   Installed\u001b[22m\u001b[39m Expat_jll ───────────── v2.4.8+0\n",
      "\u001b[32m\u001b[1m   Installed\u001b[22m\u001b[39m Plots ───────────────── v1.31.7\n",
      "\u001b[32m\u001b[1m   Installed\u001b[22m\u001b[39m pigz_jll ────────────── v2.7.0+0\n",
      "\u001b[32m\u001b[1m   Installed\u001b[22m\u001b[39m RegistryTools ───────── v1.8.1\n",
      "\u001b[32m\u001b[1m   Installed\u001b[22m\u001b[39m Libtiff_jll ─────────── v4.4.0+0\n",
      "\u001b[32m\u001b[1m   Installed\u001b[22m\u001b[39m Setfield ────────────── v1.1.1\n",
      "\u001b[32m\u001b[1m   Installed\u001b[22m\u001b[39m Extents ─────────────── v0.1.1\n",
      "\u001b[32m\u001b[1m   Installed\u001b[22m\u001b[39m ConstructionBase ────── v1.4.1\n",
      "\u001b[32m\u001b[1m   Installed\u001b[22m\u001b[39m ColorVectorSpace ────── v0.9.9\n",
      "\u001b[32m\u001b[1m   Installed\u001b[22m\u001b[39m Wayland_protocols_jll ─ v1.25.0+0\n",
      "\u001b[32m\u001b[1m   Installed\u001b[22m\u001b[39m ChainRulesCore ──────── v1.15.3\n",
      "\u001b[32m\u001b[1m   Installed\u001b[22m\u001b[39m OutputCollectors ────── v0.1.1\n",
      "\u001b[32m\u001b[1m   Installed\u001b[22m\u001b[39m LineSearches ────────── v7.2.0\n",
      "\u001b[32m\u001b[1m   Installed\u001b[22m\u001b[39m InverseFunctions ────── v0.1.7\n",
      "\u001b[32m\u001b[1m   Installed\u001b[22m\u001b[39m LogExpFunctions ─────── v0.3.18\n",
      "\u001b[32m\u001b[1m   Installed\u001b[22m\u001b[39m Adapt ───────────────── v3.4.0\n",
      "\u001b[32m\u001b[1m   Installed\u001b[22m\u001b[39m DocStringExtensions ─── v0.9.1\n",
      "\u001b[32m\u001b[1m   Installed\u001b[22m\u001b[39m XML2_jll ────────────── v2.9.14+0\n",
      "\u001b[32m\u001b[1m   Installed\u001b[22m\u001b[39m OpenSSL_jll ─────────── v1.1.17+0\n",
      "\u001b[32m\u001b[1m   Installed\u001b[22m\u001b[39m FFMPEG_jll ──────────── v4.4.2+0\n",
      "\u001b[32m\u001b[1m   Installed\u001b[22m\u001b[39m SodiumSeal ──────────── v0.1.1\n",
      "\u001b[32m\u001b[1m   Installed\u001b[22m\u001b[39m Suppressor ──────────── v0.2.1\n",
      "\u001b[32m\u001b[1m   Installed\u001b[22m\u001b[39m TimeToLive ──────────── v0.3.0\n",
      "\u001b[32m\u001b[1m   Installed\u001b[22m\u001b[39m GeometryBasics ──────── v0.4.3\n",
      "\u001b[32m\u001b[1m   Installed\u001b[22m\u001b[39m Latexify ────────────── v0.15.16\n",
      "\u001b[32m\u001b[1m   Installed\u001b[22m\u001b[39m Tables ──────────────── v1.7.0\n",
      "\u001b[32m\u001b[1m   Installed\u001b[22m\u001b[39m StructIO ────────────── v0.3.0\n",
      "\u001b[32m\u001b[1m   Installed\u001b[22m\u001b[39m DataAPI ─────────────── v1.10.0\n",
      "\u001b[32m\u001b[1m   Installed\u001b[22m\u001b[39m Mux ─────────────────── v0.7.6\n",
      "\u001b[32m\u001b[1m   Installed\u001b[22m\u001b[39m ghr_jll ─────────────── v0.14.0+0\n",
      "\u001b[32m\u001b[1m   Installed\u001b[22m\u001b[39m IniFile ─────────────── v0.5.1\n",
      "\u001b[32m\u001b[1m   Installed\u001b[22m\u001b[39m URIs ────────────────── v1.4.0\n",
      "\u001b[32m\u001b[1m   Installed\u001b[22m\u001b[39m StructArrays ────────── v0.6.12\n",
      "\u001b[32m\u001b[1m   Installed\u001b[22m\u001b[39m FillArrays ──────────── v0.13.3\n",
      "\u001b[32m\u001b[1m   Installed\u001b[22m\u001b[39m TextWrap ────────────── v1.0.1\n",
      "\u001b[32m\u001b[1m   Installed\u001b[22m\u001b[39m Optim ───────────────── v1.7.2\n",
      "\u001b[32m\u001b[1m   Installed\u001b[22m\u001b[39m ForwardDiff ─────────── v0.10.32\n",
      "\u001b[32m\u001b[1m   Installed\u001b[22m\u001b[39m ChangesOfVariables ──── v0.1.4\n",
      "\u001b[32m\u001b[1m   Installed\u001b[22m\u001b[39m GeoInterface ────────── v1.0.1\n",
      "\u001b[32m\u001b[1m   Installed\u001b[22m\u001b[39m ObjectFile ──────────── v0.3.7\n",
      "\u001b[32m\u001b[1m    Updating\u001b[22m\u001b[39m `C:\\Users\\slash\\OneDrive - Universite de Montreal\\Git\\optim\\Project.toml`\n",
      " \u001b[90m [dc077566] \u001b[39m\u001b[93m~ RDST v0.1.0 `https://github.com/JLChartrand/RDST.jl#master` ⇒ v0.1.0 `https://github.com/JLChartrand/RDST.jl#master`\u001b[39m\n",
      "\u001b[32m\u001b[1m    Updating\u001b[22m\u001b[39m `C:\\Users\\slash\\OneDrive - Universite de Montreal\\Git\\optim\\Manifest.toml`\n",
      " \u001b[90m [dc077566] \u001b[39m\u001b[93m~ RDST v0.1.0 `https://github.com/JLChartrand/RDST.jl#master` ⇒ v0.1.0 `https://github.com/JLChartrand/RDST.jl#master`\u001b[39m\n",
      "\u001b[32m\u001b[1m    Building\u001b[22m\u001b[39m GR ─────→ `C:\\Users\\slash\\.julia\\scratchspaces\\44cfe95a-1eb2-52ea-b672-e2afdf69b78f\\cf0a9940f250dc3cb6cc6c6821b4bf8a4286cf9c\\build.log`\n",
      "\u001b[32m\u001b[1m    Building\u001b[22m\u001b[39m RNGTest → `C:\\Users\\slash\\.julia\\scratchspaces\\44cfe95a-1eb2-52ea-b672-e2afdf69b78f\\f040d51f07bc9c5daacaddf69bb0d174772085e1\\build.log`\n"
     ]
    },
    {
     "ename": "LoadError",
     "evalue": "Error building `RNGTest`: \nERROR: LoadError: Unable to open libLLVM!\nStacktrace:\n  [1] error(s::String)\n    @ Base .\\error.jl:35\n  [2] (::BinaryProvider.var\"#open_libllvm#124\")()\n    @ BinaryProvider C:\\Users\\slash\\.julia\\packages\\BinaryProvider\\U2dKK\\src\\PlatformNames.jl:652\n  [3] detect_cxx11_string_abi()\n    @ BinaryProvider C:\\Users\\slash\\.julia\\packages\\BinaryProvider\\U2dKK\\src\\PlatformNames.jl:655\n  [4] detect_compiler_abi()\n    @ BinaryProvider C:\\Users\\slash\\.julia\\packages\\BinaryProvider\\U2dKK\\src\\PlatformNames.jl:668\n  [5] top-level scope\n    @ C:\\Users\\slash\\.julia\\packages\\BinaryProvider\\U2dKK\\src\\PlatformNames.jl:685\n  [6] include(mod::Module, _path::String)\n    @ Base .\\Base.jl:419\n  [7] include(x::String)\n    @ BinaryProvider C:\\Users\\slash\\.julia\\packages\\BinaryProvider\\U2dKK\\src\\BinaryProvider.jl:1\n  [8] top-level scope\n    @ C:\\Users\\slash\\.julia\\packages\\BinaryProvider\\U2dKK\\src\\BinaryProvider.jl:12\n  [9] include\n    @ .\\Base.jl:419 [inlined]\n [10] include_package_for_output(pkg::Base.PkgId, input::String, depot_path::Vector{String}, dl_load_path::Vector{String}, load_path::Vector{String}, concrete_deps::Vector{Pair{Base.PkgId, UInt64}}, source::String)\n    @ Base .\\loading.jl:1554\n [11] top-level scope\n    @ stdin:1\nin expression starting at C:\\Users\\slash\\.julia\\packages\\BinaryProvider\\U2dKK\\src\\PlatformNames.jl:685\nin expression starting at C:\\Users\\slash\\.julia\\packages\\BinaryProvider\\U2dKK\\src\\BinaryProvider.jl:1\nin expression starting at stdin:1\nERROR: LoadError: Failed to precompile BinaryProvider [b99e7846-7c00-51b0-8f62-c81ae34c0232] to C:\\Users\\slash\\.julia\\compiled\\v1.8\\BinaryProvider\\jl_A09F.tmp.\nStacktrace:\n  [1] error(s::String)\n    @ Base .\\error.jl:35\n  [2] compilecache(pkg::Base.PkgId, path::String, internal_stderr::IO, internal_stdout::IO, keep_loaded_modules::Bool)\n    @ Base .\\loading.jl:1705\n  [3] compilecache\n    @ .\\loading.jl:1649 [inlined]\n  [4] _require(pkg::Base.PkgId)\n    @ Base .\\loading.jl:1337\n  [5] _require_prelocked(uuidkey::Base.PkgId)\n    @ Base .\\loading.jl:1200\n  [6] macro expansion\n    @ .\\loading.jl:1180 [inlined]\n  [7] macro expansion\n    @ .\\lock.jl:223 [inlined]\n  [8] require(into::Module, mod::Symbol)\n    @ Base .\\loading.jl:1144\n  [9] include(fname::String)\n    @ Base.MainInclude .\\client.jl:476\n [10] top-level scope\n    @ none:5\nin expression starting at C:\\Users\\slash\\.julia\\packages\\RNGTest\\BPUGl\\deps\\build.jl:1",
     "output_type": "error",
     "traceback": [
      "Error building `RNGTest`: \nERROR: LoadError: Unable to open libLLVM!\nStacktrace:\n  [1] error(s::String)\n    @ Base .\\error.jl:35\n  [2] (::BinaryProvider.var\"#open_libllvm#124\")()\n    @ BinaryProvider C:\\Users\\slash\\.julia\\packages\\BinaryProvider\\U2dKK\\src\\PlatformNames.jl:652\n  [3] detect_cxx11_string_abi()\n    @ BinaryProvider C:\\Users\\slash\\.julia\\packages\\BinaryProvider\\U2dKK\\src\\PlatformNames.jl:655\n  [4] detect_compiler_abi()\n    @ BinaryProvider C:\\Users\\slash\\.julia\\packages\\BinaryProvider\\U2dKK\\src\\PlatformNames.jl:668\n  [5] top-level scope\n    @ C:\\Users\\slash\\.julia\\packages\\BinaryProvider\\U2dKK\\src\\PlatformNames.jl:685\n  [6] include(mod::Module, _path::String)\n    @ Base .\\Base.jl:419\n  [7] include(x::String)\n    @ BinaryProvider C:\\Users\\slash\\.julia\\packages\\BinaryProvider\\U2dKK\\src\\BinaryProvider.jl:1\n  [8] top-level scope\n    @ C:\\Users\\slash\\.julia\\packages\\BinaryProvider\\U2dKK\\src\\BinaryProvider.jl:12\n  [9] include\n    @ .\\Base.jl:419 [inlined]\n [10] include_package_for_output(pkg::Base.PkgId, input::String, depot_path::Vector{String}, dl_load_path::Vector{String}, load_path::Vector{String}, concrete_deps::Vector{Pair{Base.PkgId, UInt64}}, source::String)\n    @ Base .\\loading.jl:1554\n [11] top-level scope\n    @ stdin:1\nin expression starting at C:\\Users\\slash\\.julia\\packages\\BinaryProvider\\U2dKK\\src\\PlatformNames.jl:685\nin expression starting at C:\\Users\\slash\\.julia\\packages\\BinaryProvider\\U2dKK\\src\\BinaryProvider.jl:1\nin expression starting at stdin:1\nERROR: LoadError: Failed to precompile BinaryProvider [b99e7846-7c00-51b0-8f62-c81ae34c0232] to C:\\Users\\slash\\.julia\\compiled\\v1.8\\BinaryProvider\\jl_A09F.tmp.\nStacktrace:\n  [1] error(s::String)\n    @ Base .\\error.jl:35\n  [2] compilecache(pkg::Base.PkgId, path::String, internal_stderr::IO, internal_stdout::IO, keep_loaded_modules::Bool)\n    @ Base .\\loading.jl:1705\n  [3] compilecache\n    @ .\\loading.jl:1649 [inlined]\n  [4] _require(pkg::Base.PkgId)\n    @ Base .\\loading.jl:1337\n  [5] _require_prelocked(uuidkey::Base.PkgId)\n    @ Base .\\loading.jl:1200\n  [6] macro expansion\n    @ .\\loading.jl:1180 [inlined]\n  [7] macro expansion\n    @ .\\lock.jl:223 [inlined]\n  [8] require(into::Module, mod::Symbol)\n    @ Base .\\loading.jl:1144\n  [9] include(fname::String)\n    @ Base.MainInclude .\\client.jl:476\n [10] top-level scope\n    @ none:5\nin expression starting at C:\\Users\\slash\\.julia\\packages\\RNGTest\\BPUGl\\deps\\build.jl:1",
      "",
      "Stacktrace:",
      "  [1] pkgerror(msg::String)",
      "    @ Pkg.Types C:\\Users\\slash\\AppData\\Local\\Programs\\Julia-1.8.0\\share\\julia\\stdlib\\v1.8\\Pkg\\src\\Types.jl:67",
      "  [2] (::Pkg.Operations.var\"#66#73\"{Bool, Pkg.Types.Context, String, Pkg.Types.PackageSpec, String})()",
      "    @ Pkg.Operations C:\\Users\\slash\\AppData\\Local\\Programs\\Julia-1.8.0\\share\\julia\\stdlib\\v1.8\\Pkg\\src\\Operations.jl:1060",
      "  [3] withenv(::Pkg.Operations.var\"#66#73\"{Bool, Pkg.Types.Context, String, Pkg.Types.PackageSpec, String}, ::Pair{String, String}, ::Vararg{Pair{String}})",
      "    @ Base .\\env.jl:172",
      "  [4] (::Pkg.Operations.var\"#107#112\"{String, Bool, Bool, Bool, Pkg.Operations.var\"#66#73\"{Bool, Pkg.Types.Context, String, Pkg.Types.PackageSpec, String}, Pkg.Types.PackageSpec})()",
      "    @ Pkg.Operations C:\\Users\\slash\\AppData\\Local\\Programs\\Julia-1.8.0\\share\\julia\\stdlib\\v1.8\\Pkg\\src\\Operations.jl:1619",
      "  [5] with_temp_env(fn::Pkg.Operations.var\"#107#112\"{String, Bool, Bool, Bool, Pkg.Operations.var\"#66#73\"{Bool, Pkg.Types.Context, String, Pkg.Types.PackageSpec, String}, Pkg.Types.PackageSpec}, temp_env::String)",
      "    @ Pkg.Operations C:\\Users\\slash\\AppData\\Local\\Programs\\Julia-1.8.0\\share\\julia\\stdlib\\v1.8\\Pkg\\src\\Operations.jl:1493",
      "  [6] (::Pkg.Operations.var\"#105#110\"{Dict{String, Any}, Bool, Bool, Bool, Pkg.Operations.var\"#66#73\"{Bool, Pkg.Types.Context, String, Pkg.Types.PackageSpec, String}, Pkg.Types.Context, Pkg.Types.PackageSpec, String, Pkg.Types.Project, String})(tmp::String)",
      "    @ Pkg.Operations C:\\Users\\slash\\AppData\\Local\\Programs\\Julia-1.8.0\\share\\julia\\stdlib\\v1.8\\Pkg\\src\\Operations.jl:1582",
      "  [7] mktempdir(fn::Pkg.Operations.var\"#105#110\"{Dict{String, Any}, Bool, Bool, Bool, Pkg.Operations.var\"#66#73\"{Bool, Pkg.Types.Context, String, Pkg.Types.PackageSpec, String}, Pkg.Types.Context, Pkg.Types.PackageSpec, String, Pkg.Types.Project, String}, parent::String; prefix::String)",
      "    @ Base.Filesystem .\\file.jl:764",
      "  [8] mktempdir(fn::Function, parent::String) (repeats 2 times)",
      "    @ Base.Filesystem .\\file.jl:760",
      "  [9] sandbox(fn::Function, ctx::Pkg.Types.Context, target::Pkg.Types.PackageSpec, target_path::String, sandbox_path::String, sandbox_project_override::Pkg.Types.Project; preferences::Dict{String, Any}, force_latest_compatible_version::Bool, allow_earlier_backwards_compatible_versions::Bool, allow_reresolve::Bool)",
      "    @ Pkg.Operations C:\\Users\\slash\\AppData\\Local\\Programs\\Julia-1.8.0\\share\\julia\\stdlib\\v1.8\\Pkg\\src\\Operations.jl:1540",
      " [10] build_versions(ctx::Pkg.Types.Context, uuids::Set{Base.UUID}; verbose::Bool)",
      "    @ Pkg.Operations C:\\Users\\slash\\AppData\\Local\\Programs\\Julia-1.8.0\\share\\julia\\stdlib\\v1.8\\Pkg\\src\\Operations.jl:1041",
      " [11] build_versions",
      "    @ C:\\Users\\slash\\AppData\\Local\\Programs\\Julia-1.8.0\\share\\julia\\stdlib\\v1.8\\Pkg\\src\\Operations.jl:956 [inlined]",
      " [12] add(ctx::Pkg.Types.Context, pkgs::Vector{Pkg.Types.PackageSpec}, new_git::Set{Base.UUID}; preserve::Pkg.Types.PreserveLevel, platform::Base.BinaryPlatforms.Platform)",
      "    @ Pkg.Operations C:\\Users\\slash\\AppData\\Local\\Programs\\Julia-1.8.0\\share\\julia\\stdlib\\v1.8\\Pkg\\src\\Operations.jl:1286",
      " [13] add(ctx::Pkg.Types.Context, pkgs::Vector{Pkg.Types.PackageSpec}; preserve::Pkg.Types.PreserveLevel, platform::Base.BinaryPlatforms.Platform, kwargs::Base.Pairs{Symbol, IJulia.IJuliaStdio{Base.PipeEndpoint}, Tuple{Symbol}, NamedTuple{(:io,), Tuple{IJulia.IJuliaStdio{Base.PipeEndpoint}}}})",
      "    @ Pkg.API C:\\Users\\slash\\AppData\\Local\\Programs\\Julia-1.8.0\\share\\julia\\stdlib\\v1.8\\Pkg\\src\\API.jl:275",
      " [14] add(pkgs::Vector{Pkg.Types.PackageSpec}; io::IJulia.IJuliaStdio{Base.PipeEndpoint}, kwargs::Base.Pairs{Symbol, Union{}, Tuple{}, NamedTuple{(), Tuple{}}})",
      "    @ Pkg.API C:\\Users\\slash\\AppData\\Local\\Programs\\Julia-1.8.0\\share\\julia\\stdlib\\v1.8\\Pkg\\src\\API.jl:156",
      " [15] add(pkgs::Vector{Pkg.Types.PackageSpec})",
      "    @ Pkg.API C:\\Users\\slash\\AppData\\Local\\Programs\\Julia-1.8.0\\share\\julia\\stdlib\\v1.8\\Pkg\\src\\API.jl:145",
      " [16] #add#26",
      "    @ C:\\Users\\slash\\AppData\\Local\\Programs\\Julia-1.8.0\\share\\julia\\stdlib\\v1.8\\Pkg\\src\\API.jl:143 [inlined]",
      " [17] add",
      "    @ C:\\Users\\slash\\AppData\\Local\\Programs\\Julia-1.8.0\\share\\julia\\stdlib\\v1.8\\Pkg\\src\\API.jl:143 [inlined]",
      " [18] add(; name::Nothing, uuid::Nothing, version::Nothing, url::String, rev::Nothing, path::Nothing, mode::Pkg.Types.PackageMode, subdir::Nothing, kwargs::Base.Pairs{Symbol, Union{}, Tuple{}, NamedTuple{(), Tuple{}}})",
      "    @ Pkg.API C:\\Users\\slash\\AppData\\Local\\Programs\\Julia-1.8.0\\share\\julia\\stdlib\\v1.8\\Pkg\\src\\API.jl:173",
      " [19] top-level scope",
      "    @ In[1]:3",
      " [20] eval",
      "    @ .\\boot.jl:368 [inlined]",
      " [21] include_string(mapexpr::typeof(REPL.softscope), mod::Module, code::String, filename::String)",
      "    @ Base .\\loading.jl:1428"
     ]
    }
   ],
   "source": [
    "import Pkg\n",
    "\n",
    "Pkg.add(url = \"https://github.com/JLChartrand/RDST.jl\")"
   ]
  },
  {
   "cell_type": "code",
   "execution_count": 2,
   "id": "8a9aabd0",
   "metadata": {},
   "outputs": [
    {
     "name": "stderr",
     "output_type": "stream",
     "text": [
      "┌ Info: Precompiling RDST [dc077566-edc2-11e8-0ce0-7d758bb9a5d1]\n",
      "└ @ Base loading.jl:1662\n"
     ]
    }
   ],
   "source": [
    "using RDST"
   ]
  },
  {
   "cell_type": "markdown",
   "id": "c0638ccd",
   "metadata": {},
   "source": [
    "### MRG32K3a"
   ]
  },
  {
   "cell_type": "code",
   "execution_count": null,
   "id": "548a4205",
   "metadata": {},
   "outputs": [],
   "source": [
    "mrg_gen1 = MRG32k3aGen([1,2,3,4,5,6])"
   ]
  },
  {
   "cell_type": "code",
   "execution_count": null,
   "id": "f195e2df",
   "metadata": {},
   "outputs": [],
   "source": [
    "typeof(mrg_gen1)"
   ]
  },
  {
   "cell_type": "code",
   "execution_count": null,
   "id": "4868c453",
   "metadata": {},
   "outputs": [],
   "source": [
    "mrg_gen1 = MRG32k3aGen()"
   ]
  },
  {
   "cell_type": "markdown",
   "id": "5d6f4a24",
   "metadata": {},
   "source": [
    "The `show` function prints the current seed of the generator."
   ]
  },
  {
   "cell_type": "code",
   "execution_count": null,
   "id": "4820badc",
   "metadata": {},
   "outputs": [],
   "source": [
    "show(mrg_gen1)"
   ]
  },
  {
   "cell_type": "code",
   "execution_count": null,
   "id": "319546bb",
   "metadata": {},
   "outputs": [],
   "source": [
    "mrg_1 = next_stream(mrg_gen1)"
   ]
  },
  {
   "cell_type": "code",
   "execution_count": null,
   "id": "af196c8f",
   "metadata": {},
   "outputs": [],
   "source": [
    "typeof(mrg_1)"
   ]
  },
  {
   "cell_type": "code",
   "execution_count": null,
   "id": "a450b5bd",
   "metadata": {},
   "outputs": [],
   "source": [
    "mrg_1 = next_stream(mrg_gen1)"
   ]
  },
  {
   "cell_type": "code",
   "execution_count": null,
   "id": "7ad1111d",
   "metadata": {},
   "outputs": [],
   "source": [
    "stream1a = [rand(mrg_1) for i in 1:10]\n",
    "reset_substream!(mrg_1)\n",
    "stream1b = [rand(mrg_1) for i in 1:10]\n",
    "stream1a == stream1b"
   ]
  },
  {
   "cell_type": "code",
   "execution_count": null,
   "id": "887a4b50",
   "metadata": {},
   "outputs": [],
   "source": [
    "show(mrg_gen1)"
   ]
  },
  {
   "cell_type": "code",
   "execution_count": null,
   "id": "d535e372",
   "metadata": {},
   "outputs": [],
   "source": [
    "next_substream!(mrg_1)"
   ]
  },
  {
   "cell_type": "code",
   "execution_count": null,
   "id": "e81025cf",
   "metadata": {},
   "outputs": [],
   "source": [
    "stream2a = [rand(mrg_1) for i in 1:10]\n",
    "reset_stream!(mrg_1)"
   ]
  },
  {
   "cell_type": "code",
   "execution_count": null,
   "id": "3b6b92ac",
   "metadata": {},
   "outputs": [],
   "source": [
    "next_substream!(mrg_1)\n",
    "stream2b = [rand(mrg_1) for i in 1:10]\n",
    "stream2a == stream2b"
   ]
  },
  {
   "cell_type": "code",
   "execution_count": null,
   "id": "0ef51a86",
   "metadata": {},
   "outputs": [],
   "source": [
    "reset_stream!(mrg_1)\n",
    "mrg_2 = next_stream(mrg_gen1)"
   ]
  },
  {
   "cell_type": "markdown",
   "id": "d830b18d",
   "metadata": {},
   "source": [
    "## Nonuniform distributions"
   ]
  },
  {
   "cell_type": "markdown",
   "id": "94eee03c",
   "metadata": {},
   "source": [
    "For continuous random variables, the inversion technique is equivalent to compute the quantile associated to the realization of a uniform random variable $U(0,1)$. We will use the distributions package."
   ]
  },
  {
   "cell_type": "code",
   "execution_count": null,
   "id": "602dcd93",
   "metadata": {},
   "outputs": [],
   "source": [
    "using Distributions"
   ]
  },
  {
   "cell_type": "code",
   "execution_count": null,
   "id": "8a9095e4",
   "metadata": {},
   "outputs": [],
   "source": [
    "N = Normal()\n",
    "α = quantile(N, 0.975)"
   ]
  },
  {
   "cell_type": "markdown",
   "id": "07d59ffe",
   "metadata": {},
   "source": [
    "Normally distributed number generation:"
   ]
  },
  {
   "cell_type": "code",
   "execution_count": null,
   "id": "f23dc3dc",
   "metadata": {},
   "outputs": [],
   "source": [
    "quantile(N, rand())"
   ]
  },
  {
   "cell_type": "markdown",
   "id": "26c9e286",
   "metadata": {},
   "source": [
    "We can measure the required generation time with the package BenchmarkTools."
   ]
  },
  {
   "cell_type": "code",
   "execution_count": null,
   "id": "3bf082af",
   "metadata": {},
   "outputs": [],
   "source": [
    "using BenchmarkTools"
   ]
  },
  {
   "cell_type": "code",
   "execution_count": null,
   "id": "293e6f4e",
   "metadata": {},
   "outputs": [],
   "source": [
    "function InvertNormal()\n",
    "    U = rand(Float64, 2)\n",
    "    return quantile(N, U[1]), quantile(N, U[2])\n",
    "end"
   ]
  },
  {
   "cell_type": "code",
   "execution_count": null,
   "id": "538179f5",
   "metadata": {},
   "outputs": [],
   "source": [
    "@btime X, Y = InvertNormal()"
   ]
  },
  {
   "cell_type": "code",
   "execution_count": null,
   "id": "41bf52aa",
   "metadata": {},
   "outputs": [],
   "source": [
    "function BoxMuller()\n",
    "    U = rand(Float64, 2)\n",
    "    \n",
    "    R = sqrt(-2*log(U[1]))\n",
    "    θ = 2*π*U[2]\n",
    "    \n",
    "    X = R*cos(θ)\n",
    "    Y = R*sin(θ)\n",
    "    \n",
    "    return X, Y\n",
    "end"
   ]
  },
  {
   "cell_type": "code",
   "execution_count": null,
   "id": "22f5ee46",
   "metadata": {},
   "outputs": [],
   "source": [
    "@btime X, Y = BoxMuller()"
   ]
  },
  {
   "cell_type": "code",
   "execution_count": null,
   "id": "03b26187",
   "metadata": {},
   "outputs": [],
   "source": [
    "randn()"
   ]
  },
  {
   "cell_type": "code",
   "execution_count": null,
   "id": "bde60e8d",
   "metadata": {},
   "outputs": [],
   "source": [
    "@btime randn()"
   ]
  },
  {
   "cell_type": "code",
   "execution_count": null,
   "id": "f07f9f72",
   "metadata": {},
   "outputs": [],
   "source": []
  }
 ],
 "metadata": {
  "kernelspec": {
   "display_name": "Julia 1.8.0",
   "language": "julia",
   "name": "julia-1.8"
  },
  "language_info": {
   "file_extension": ".jl",
   "mimetype": "application/julia",
   "name": "julia",
   "version": "1.8.0"
  }
 },
 "nbformat": 4,
 "nbformat_minor": 5
}
