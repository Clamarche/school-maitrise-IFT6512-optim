{
 "cells": [
  {
   "cell_type": "markdown",
   "id": "5e261ce3",
   "metadata": {},
   "source": [
    "# Random numbers generation"
   ]
  },
  {
   "cell_type": "markdown",
   "id": "6529442b",
   "metadata": {},
   "source": [
    "## Linear congruential generators"
   ]
  },
  {
   "cell_type": "markdown",
   "id": "0a287658",
   "metadata": {},
   "source": [
    "Adapted from https://rosettacode.org/wiki/Linear_congruential_generator"
   ]
  },
  {
   "cell_type": "code",
   "execution_count": null,
   "id": "52941005",
   "metadata": {},
   "outputs": [],
   "source": [
    "function getlcg(seed::Integer, a::Integer, c::Integer, m::Integer)\n",
    "    state = seed\n",
    "    am_mil = 1.0/m\n",
    "    return function lcgrand()\n",
    "        state = mod(a * state + c, m)\n",
    "        return state*am_mil  # produce a number in (0,1)\n",
    "    end\n",
    "end"
   ]
  },
  {
   "cell_type": "code",
   "execution_count": null,
   "id": "939f3e27",
   "metadata": {},
   "outputs": [],
   "source": [
    "stdmin = getlcg(1234, 16807, 0, 2^31-1)"
   ]
  },
  {
   "cell_type": "code",
   "execution_count": null,
   "id": "b12954a4",
   "metadata": {},
   "outputs": [],
   "source": [
    "n = 10000\n",
    "\n",
    "sample = zeros(n)\n",
    "\n",
    "for i = 1:n\n",
    "    sample[i] = stdmin()\n",
    "end"
   ]
  },
  {
   "cell_type": "code",
   "execution_count": null,
   "id": "8ce44622",
   "metadata": {},
   "outputs": [],
   "source": [
    "using Plots"
   ]
  },
  {
   "cell_type": "code",
   "execution_count": null,
   "id": "69e6fd4c",
   "metadata": {},
   "outputs": [],
   "source": [
    "scatter(sample[[2*i+1 for i = 0:(Int)(n/2)-1]], sample[[2*i for i = 1:(Int)(n/2)]], label=\"\", fmt = :png)"
   ]
  },
  {
   "cell_type": "markdown",
   "id": "5eba2691",
   "metadata": {},
   "source": [
    "## RDST"
   ]
  },
  {
   "cell_type": "code",
   "execution_count": null,
   "id": "548143d9",
   "metadata": {},
   "outputs": [],
   "source": [
    "import Pkg\n",
    "\n",
    "Pkg.add(url = \"https://github.com/JLChartrand/RDST.jl\")"
   ]
  },
  {
   "cell_type": "code",
   "execution_count": null,
   "id": "8a9aabd0",
   "metadata": {},
   "outputs": [],
   "source": [
    "using RDST"
   ]
  },
  {
   "cell_type": "markdown",
   "id": "b6500b37",
   "metadata": {},
   "source": [
    "See test notebook in RDST."
   ]
  }
 ],
 "metadata": {
  "kernelspec": {
   "display_name": "Julia 1.6.2",
   "language": "julia",
   "name": "julia-1.6"
  },
  "language_info": {
   "file_extension": ".jl",
   "mimetype": "application/julia",
   "name": "julia",
   "version": "1.6.2"
  }
 },
 "nbformat": 4,
 "nbformat_minor": 5
}
