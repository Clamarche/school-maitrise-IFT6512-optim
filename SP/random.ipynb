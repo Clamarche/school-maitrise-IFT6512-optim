{
 "cells": [
  {
   "cell_type": "markdown",
   "id": "5e261ce3",
   "metadata": {},
   "source": [
    "# Random numbers generation"
   ]
  },
  {
   "cell_type": "markdown",
   "id": "6529442b",
   "metadata": {},
   "source": [
    "## Linear congruential generators"
   ]
  },
  {
   "cell_type": "markdown",
   "id": "0a287658",
   "metadata": {},
   "source": [
    "Adapted from https://rosettacode.org/wiki/Linear_congruential_generator"
   ]
  },
  {
   "cell_type": "code",
   "execution_count": null,
   "id": "52941005",
   "metadata": {},
   "outputs": [],
   "source": [
    "function getlcg(seed::Integer, a::Integer, c::Integer, m::Integer)\n",
    "    state = seed\n",
    "    am_mil = 1.0/m\n",
    "    return function lcgrand()\n",
    "        state = mod(a * state + c, m)\n",
    "        return state*am_mil  # produce a number in (0,1)\n",
    "    end\n",
    "end"
   ]
  },
  {
   "cell_type": "code",
   "execution_count": null,
   "id": "939f3e27",
   "metadata": {},
   "outputs": [],
   "source": [
    "stdmin = getlcg(1234, 16807, 0, 2^31-1)"
   ]
  },
  {
   "cell_type": "code",
   "execution_count": null,
   "id": "b12954a4",
   "metadata": {},
   "outputs": [],
   "source": [
    "n = 10000\n",
    "\n",
    "sample = zeros(n)\n",
    "\n",
    "for i = 1:n\n",
    "    sample[i] = stdmin()\n",
    "end"
   ]
  },
  {
   "cell_type": "code",
   "execution_count": null,
   "id": "8ce44622",
   "metadata": {},
   "outputs": [],
   "source": [
    "using Plots"
   ]
  },
  {
   "cell_type": "code",
   "execution_count": null,
   "id": "69e6fd4c",
   "metadata": {},
   "outputs": [],
   "source": [
    "scatter(sample[[2*i+1 for i = 0:(Int)(n/2)-1]], sample[[2*i for i = 1:(Int)(n/2)]], label=\"\", fmt = :png)"
   ]
  },
  {
   "cell_type": "markdown",
   "id": "5eba2691",
   "metadata": {},
   "source": [
    "## RDST"
   ]
  },
  {
   "cell_type": "code",
   "execution_count": null,
   "id": "548143d9",
   "metadata": {},
   "outputs": [],
   "source": [
    "import Pkg\n",
    "\n",
    "Pkg.add(url = \"https://github.com/JLChartrand/RDST.jl\")"
   ]
  },
  {
   "cell_type": "code",
   "execution_count": null,
   "id": "8a9aabd0",
   "metadata": {},
   "outputs": [],
   "source": [
    "using RDST"
   ]
  },
  {
   "cell_type": "markdown",
   "id": "b6500b37",
   "metadata": {},
   "source": [
    "See test notebook in RDST."
   ]
  },
  {
   "cell_type": "markdown",
   "id": "59f722df",
   "metadata": {},
   "source": [
    "## Nonuniform distributions"
   ]
  },
  {
   "cell_type": "markdown",
   "id": "6c4a722b",
   "metadata": {},
   "source": [
    "For continuous random variables, the inversion technique is equivalent to compute the quantile associated to the realization of a uniform random variable $U(0,1)$. We will use the distributions package."
   ]
  },
  {
   "cell_type": "code",
   "execution_count": 6,
   "id": "dbb33c33",
   "metadata": {},
   "outputs": [],
   "source": [
    "using Distributions"
   ]
  },
  {
   "cell_type": "code",
   "execution_count": 8,
   "id": "68246ac3",
   "metadata": {},
   "outputs": [
    {
     "data": {
      "text/plain": [
       "1.9599639845400576"
      ]
     },
     "execution_count": 8,
     "metadata": {},
     "output_type": "execute_result"
    }
   ],
   "source": [
    "N = Normal()\n",
    "α = quantile(N, 0.975)"
   ]
  },
  {
   "cell_type": "code",
   "execution_count": null,
   "id": "30c76c4a",
   "metadata": {},
   "outputs": [],
   "source": [
    "Normally distributed number generation:"
   ]
  },
  {
   "cell_type": "code",
   "execution_count": 11,
   "id": "7f4d8687",
   "metadata": {},
   "outputs": [
    {
     "data": {
      "text/plain": [
       "-2.519343139321133"
      ]
     },
     "execution_count": 11,
     "metadata": {},
     "output_type": "execute_result"
    }
   ],
   "source": [
    "quantile(N, rand())"
   ]
  },
  {
   "cell_type": "markdown",
   "id": "be8fae8f",
   "metadata": {},
   "source": [
    "We can measure the required generation time with the package BenchmarkTools."
   ]
  },
  {
   "cell_type": "code",
   "execution_count": 28,
   "id": "c7d3982f",
   "metadata": {},
   "outputs": [],
   "source": [
    "using BenchmarkTools"
   ]
  },
  {
   "cell_type": "code",
   "execution_count": 29,
   "id": "b4e7f9ab",
   "metadata": {},
   "outputs": [
    {
     "data": {
      "text/plain": [
       "InvertNormal (generic function with 1 method)"
      ]
     },
     "execution_count": 29,
     "metadata": {},
     "output_type": "execute_result"
    }
   ],
   "source": [
    "function InvertNormal()\n",
    "    U = rand(Float64, 2)\n",
    "    return quantile(N, U[1]), quantile(N, U[2])\n",
    "end"
   ]
  },
  {
   "cell_type": "code",
   "execution_count": 30,
   "id": "b43bd78d",
   "metadata": {},
   "outputs": [
    {
     "name": "stdout",
     "output_type": "stream",
     "text": [
      "  292.803 ns (6 allocations: 192 bytes)\n"
     ]
    },
    {
     "data": {
      "text/plain": [
       "(0.4908734672960884, 0.490823103718154)"
      ]
     },
     "execution_count": 30,
     "metadata": {},
     "output_type": "execute_result"
    }
   ],
   "source": [
    "@btime X, Y = InvertNormal()"
   ]
  },
  {
   "cell_type": "code",
   "execution_count": 31,
   "id": "c7f36c85",
   "metadata": {},
   "outputs": [
    {
     "data": {
      "text/plain": [
       "BoxMuller (generic function with 1 method)"
      ]
     },
     "execution_count": 31,
     "metadata": {},
     "output_type": "execute_result"
    }
   ],
   "source": [
    "function BoxMuller()\n",
    "    U = rand(Float64, 2)\n",
    "    \n",
    "    R = sqrt(-2*log(U[1]))\n",
    "    θ = 2*π*U[2]\n",
    "    \n",
    "    X = R*cos(θ)\n",
    "    Y = R*sin(θ)\n",
    "    \n",
    "    return X, Y\n",
    "end"
   ]
  },
  {
   "cell_type": "code",
   "execution_count": 32,
   "id": "25699fe3",
   "metadata": {},
   "outputs": [
    {
     "name": "stdout",
     "output_type": "stream",
     "text": [
      "  140.256 ns (1 allocation: 96 bytes)\n"
     ]
    },
    {
     "data": {
      "text/plain": [
       "(0.14605127405541854, -0.09518709199291106)"
      ]
     },
     "execution_count": 32,
     "metadata": {},
     "output_type": "execute_result"
    }
   ],
   "source": [
    "@btime X, Y = BoxMuller()"
   ]
  },
  {
   "cell_type": "code",
   "execution_count": null,
   "id": "49ccf8b2",
   "metadata": {},
   "outputs": [],
   "source": []
  }
 ],
 "metadata": {
  "kernelspec": {
   "display_name": "Julia 1.6.2",
   "language": "julia",
   "name": "julia-1.6"
  },
  "language_info": {
   "file_extension": ".jl",
   "mimetype": "application/julia",
   "name": "julia",
   "version": "1.6.2"
  }
 },
 "nbformat": 4,
 "nbformat_minor": 5
}
