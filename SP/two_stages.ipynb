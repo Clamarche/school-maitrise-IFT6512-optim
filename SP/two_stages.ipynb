{
 "cells": [
  {
   "cell_type": "markdown",
   "metadata": {},
   "source": [
    "# L-Shaped example"
   ]
  },
  {
   "cell_type": "markdown",
   "metadata": {},
   "source": [
    "Consider the following two-stage problem, consisting in the optimal capacity investment in various types of ice-cream production plants.\n",
    "Four plants are considered and they can produce three different ice-cream flavors.\n",
    "The demand in the next period has to be satisfied for each of the three flavors, and is equal to some random value $\\xi$ for flavor 1, 3 for flavor 2, and 2 for flavor 3.\n",
    "$\\xi$ is discrete with three realizations 3, 5, 7, associated to the probabilities 0.3, 0.4 and 0.3 respectively.\n",
    "There is a budget constraint on the investment and also a constraint on the minimum total capacity.\n",
    "The minimum total capacity to be installed is 12 and we have a budget limit of 120.\n",
    "The unit capacity cost for the four plants are 10, 7, 16 and 6, respectively.\n",
    "The cost per production unit of plant $i$ for flavor $j$ is denoted $a_{ij}$ and gathering all the costs, we can construct the matrix\n",
    "$$\n",
    "A = \\begin{pmatrix}\n",
    "  40 & 24 & 4 \\\\\n",
    "  45 & 27 & 4.5 \\\\\n",
    "  32 & 19.2 & 3.2 \\\\\n",
    "  55 & 33 & 5.5\n",
    "\\end{pmatrix}\n",
    "$$\n",
    "We aim to minimize the total cost (investment and production costs).\n",
    "Formulate the problem and solve it using the L-Shaped method.\n",
    "You have to provide the code for L-Shaped implementation and properly comment it."
   ]
  },
  {
   "cell_type": "code",
   "execution_count": 1,
   "metadata": {},
   "outputs": [],
   "source": [
    "using JuMP\n",
    "using LinearAlgebra\n",
    "using Statistics"
   ]
  },
  {
   "cell_type": "code",
   "execution_count": 2,
   "metadata": {},
   "outputs": [],
   "source": [
    "using SparseArrays  # allows to benefit from sparse matrices"
   ]
  },
  {
   "cell_type": "code",
   "execution_count": 4,
   "metadata": {},
   "outputs": [
    {
     "data": {
      "text/plain": [
       "HiGHS.Optimizer"
      ]
     },
     "execution_count": 4,
     "metadata": {},
     "output_type": "execute_result"
    }
   ],
   "source": [
    "using HiGHS\n",
    "\n",
    "solver = HiGHS.Optimizer"
   ]
  },
  {
   "cell_type": "markdown",
   "metadata": {},
   "source": [
    "We focus here on the code. More attention should be paid to the explanations."
   ]
  },
  {
   "cell_type": "markdown",
   "metadata": {},
   "source": [
    "## Problem Overview\n",
    "\n",
    "Four new plants are considered and they can produce three different flavors of ice cream. We have to decide the capacity to install in each of these plants, by minimizing in the first stage the investment costs and minimizing the operating costs in the second stage, while satisfying the unknown demand.\n",
    "\n",
    "The installed capacity is at least 12 and the investment cannot exceed 120.\n",
    "\n",
    "The problem is\n",
    "\\begin{align*}\n",
    "    \\min_x & \\sum_{i=1}^4 c_i x_i + E_ξ[Q(x,ξ)] \\\\\n",
    "    \\mbox{s.t. } & \\sum_{i=1}^{4} x_i \\geq 12 \\\\\n",
    "                 & \\sum_{i=1}^4 c_i x_i \\leq 120 \\\\\n",
    "                 & x \\geq 0\n",
    "\\end{align*}\n",
    "where\n",
    "\\begin{align*} \n",
    "Q(x,ξ) = \\min_y\\ & \\sum_{i,j} A_{ij} y_{ij} \\\\\n",
    "\\mbox{s.t. } & \\sum_{j=1}^3 y_{ij} \\leq x_i,\\ \\forall\\, i \\\\\n",
    "             & \\sum_{i=1}^4 y_{ij} \\geq d_j(\\xi),\\ \\forall\\, j \\\\\n",
    "             & y \\geq 0\n",
    "\\end{align*}"
   ]
  },
  {
   "cell_type": "markdown",
   "metadata": {},
   "source": [
    "## Extended form"
   ]
  },
  {
   "cell_type": "markdown",
   "metadata": {},
   "source": [
    "We start by considering the extensive form in order to have a reference solution."
   ]
  },
  {
   "cell_type": "code",
   "execution_count": 5,
   "metadata": {},
   "outputs": [
    {
     "data": {
      "text/plain": [
       "4×3 Matrix{Float64}:\n",
       " 40.0  24.0  4.0\n",
       " 45.0  27.0  4.5\n",
       " 32.0  19.2  3.2\n",
       " 55.0  33.0  5.5"
      ]
     },
     "execution_count": 5,
     "metadata": {},
     "output_type": "execute_result"
    }
   ],
   "source": [
    "openingCosts = [10, 7, 16, 6]\n",
    "cost = [40 24 4; 45 27 4.5; 32 19.2 3.2; 55 33 5.5]"
   ]
  },
  {
   "cell_type": "code",
   "execution_count": 26,
   "metadata": {
    "scrolled": true
   },
   "outputs": [
    {
     "name": "stdout",
     "output_type": "stream",
     "text": [
      "Min 10 x[1] + 7 x[2] + 16 x[3] + 6 x[4] + 12 y[1,1,1] + 7.199999999999999 y[1,1,2] + 1.2 y[1,1,3] + 13.5 y[1,2,1] + 8.1 y[1,2,2] + 1.3499999999999999 y[1,2,3] + 9.6 y[1,3,1] + 5.76 y[1,3,2] + 0.96 y[1,3,3] + 16.5 y[1,4,1] + 9.9 y[1,4,2] + 1.65 y[1,4,3] + 16 y[2,1,1] + 9.600000000000001 y[2,1,2] + 1.6 y[2,1,3] + 18 y[2,2,1] + 10.8 y[2,2,2] + 1.8 y[2,2,3] + 12.8 y[2,3,1] + 7.68 y[2,3,2] + 1.2800000000000002 y[2,3,3] + 22 y[2,4,1] + 13.200000000000001 y[2,4,2] + 2.2 y[2,4,3] + 12 y[3,1,1] + 7.199999999999999 y[3,1,2] + 1.2 y[3,1,3] + 13.5 y[3,2,1] + 8.1 y[3,2,2] + 1.3499999999999999 y[3,2,3] + 9.6 y[3,3,1] + 5.76 y[3,3,2] + 0.96 y[3,3,3] + 16.5 y[3,4,1] + 9.9 y[3,4,2] + 1.65 y[3,4,3]\n",
      "Subject to\n",
      " x[1] + x[2] + x[3] + x[4] >= 0.0\n",
      " y[1,1,1] + y[1,2,1] + y[1,3,1] + y[1,4,1] >= 3.0\n",
      " y[1,1,2] + y[1,2,2] + y[1,3,2] + y[1,4,2] >= 3.0\n",
      " y[1,1,3] + y[1,2,3] + y[1,3,3] + y[1,4,3] >= 2.0\n",
      " y[2,1,1] + y[2,2,1] + y[2,3,1] + y[2,4,1] >= 5.0\n",
      " y[2,1,2] + y[2,2,2] + y[2,3,2] + y[2,4,2] >= 3.0\n",
      " y[2,1,3] + y[2,2,3] + y[2,3,3] + y[2,4,3] >= 2.0\n",
      " y[3,1,1] + y[3,2,1] + y[3,3,1] + y[3,4,1] >= 7.0\n",
      " y[3,1,2] + y[3,2,2] + y[3,3,2] + y[3,4,2] >= 3.0\n",
      " y[3,1,3] + y[3,2,3] + y[3,3,3] + y[3,4,3] >= 2.0\n",
      " 10 x[1] + 7 x[2] + 16 x[3] + 6 x[4] <= 120.0\n",
      " -x[1] + y[1,1,1] + y[1,1,2] + y[1,1,3] <= 0.0\n",
      " -x[2] + y[1,2,1] + y[1,2,2] + y[1,2,3] <= 0.0\n",
      " -x[3] + y[1,3,1] + y[1,3,2] + y[1,3,3] <= 0.0\n",
      " -x[4] + y[1,4,1] + y[1,4,2] + y[1,4,3] <= 0.0\n",
      " -x[1] + y[2,1,1] + y[2,1,2] + y[2,1,3] <= 0.0\n",
      " -x[2] + y[2,2,1] + y[2,2,2] + y[2,2,3] <= 0.0\n",
      " -x[3] + y[2,3,1] + y[2,3,2] + y[2,3,3] <= 0.0\n",
      " -x[4] + y[2,4,1] + y[2,4,2] + y[2,4,3] <= 0.0\n",
      " -x[1] + y[3,1,1] + y[3,1,2] + y[3,1,3] <= 0.0\n",
      " -x[2] + y[3,2,1] + y[3,2,2] + y[3,2,3] <= 0.0\n",
      " -x[3] + y[3,3,1] + y[3,3,2] + y[3,3,3] <= 0.0\n",
      " -x[4] + y[3,4,1] + y[3,4,2] + y[3,4,3] <= 0.0\n",
      " x[1] >= 0.0\n",
      " x[2] >= 0.0\n",
      " x[3] >= 0.0\n",
      " x[4] >= 0.0\n",
      " y[1,1,1] >= 0.0\n",
      " y[2,1,1] >= 0.0\n",
      " y[3,1,1] >= 0.0\n",
      " y[1,2,1] >= 0.0\n",
      " y[2,2,1] >= 0.0\n",
      " y[3,2,1] >= 0.0\n",
      " y[1,3,1] >= 0.0\n",
      " y[2,3,1] >= 0.0\n",
      " y[3,3,1] >= 0.0\n",
      " y[1,4,1] >= 0.0\n",
      " y[2,4,1] >= 0.0\n",
      " y[3,4,1] >= 0.0\n",
      " y[1,1,2] >= 0.0\n",
      " y[2,1,2] >= 0.0\n",
      " y[3,1,2] >= 0.0\n",
      " y[1,2,2] >= 0.0\n",
      " y[2,2,2] >= 0.0\n",
      " y[3,2,2] >= 0.0\n",
      " y[1,3,2] >= 0.0\n",
      " y[2,3,2] >= 0.0\n",
      " y[3,3,2] >= 0.0\n",
      " y[1,4,2] >= 0.0\n",
      " y[2,4,2] >= 0.0\n",
      " y[3,4,2] >= 0.0\n",
      " y[1,1,3] >= 0.0\n",
      " y[2,1,3] >= 0.0\n",
      " y[3,1,3] >= 0.0\n",
      " y[1,2,3] >= 0.0\n",
      " y[2,2,3] >= 0.0\n",
      " y[3,2,3] >= 0.0\n",
      " y[1,3,3] >= 0.0\n",
      " y[2,3,3] >= 0.0\n",
      " y[3,3,3] >= 0.0\n",
      " y[1,4,3] >= 0.0\n",
      " y[2,4,3] >= 0.0\n",
      " y[3,4,3] >= 0.0\n",
      "\n"
     ]
    }
   ],
   "source": [
    "m = Model()\n",
    "\n",
    "(nFactories, nFlavors) = size(cost)\n",
    "\n",
    "prob = [0.3 0.4 0.3]\n",
    "nScenarios = length(prob)\n",
    "\n",
    "#minCapacity = 12\n",
    "minCapacity = 0   # we relax the minimum capacity constraint in order to produce a feasibility cut\n",
    "\n",
    "maxInvestment = 120\n",
    "scenarios = [3 5 7]\n",
    "demands = [0 3 2]\n",
    "\n",
    "@variable(m, x[1:nFactories] >= 0)\n",
    "@variable(m, y[1:nScenarios, 1:nFactories, 1:nFlavors] >= 0)\n",
    "\n",
    "@constraint(m, sum(x[i] for i in 1:nFactories) >= minCapacity)\n",
    "@constraint(m, sum(openingCosts[i]*x[i] for i in 1:nFactories) <= maxInvestment)\n",
    "\n",
    "#maxProd = Array{ConstraintRef, 12}\n",
    "maxProd = []\n",
    "# @constraintref maxProd[1:nScenarios, 1:nFactories]\n",
    "\n",
    "k = 0\n",
    "for s = 1:nScenarios\n",
    "    for j = 1:nFactories\n",
    "        k += 1\n",
    "        push!(maxProd, @constraint(m, sum(y[s,j,i] for i in 1:nFlavors) <= x[j]))\n",
    "#        @constraint(m, maxProd[k], sum(y[s,j,i] for i in 1:nFlavors) <= x[j])\n",
    "    end\n",
    "end\n",
    "\n",
    "for s = 1:nScenarios\n",
    "    @constraint(m, sum(y[s,j,1] for j in 1:nFactories) >= scenarios[s])\n",
    "    for d = 2:nFlavors\n",
    "        @constraint(m, sum(y[s,j,d] for j in 1:nFactories) >= demands[d])\n",
    "    end\n",
    "end\n",
    "\n",
    "@objective(m, Min, sum(openingCosts[i]*x[i] for i in 1:nFactories) +\n",
    "    sum(prob[s]*sum(sum(cost[j,i]*y[s,j,i] for i in 1:nFlavors) for j = 1:nFactories) for s=1:nScenarios)\n",
    ")\n",
    "\n",
    "println(m)"
   ]
  },
  {
   "cell_type": "code",
   "execution_count": 27,
   "metadata": {},
   "outputs": [
    {
     "data": {
      "text/latex": [
       "$$ -x_{1} + y_{2,1,1} + y_{2,1,2} + y_{2,1,3} \\leq 0.0 $$"
      ],
      "text/plain": [
       "-x[1] + y[2,1,1] + y[2,1,2] + y[2,1,3] <= 0.0"
      ]
     },
     "execution_count": 27,
     "metadata": {},
     "output_type": "execute_result"
    }
   ],
   "source": [
    "maxProd[5]"
   ]
  },
  {
   "cell_type": "code",
   "execution_count": 28,
   "metadata": {
    "scrolled": true
   },
   "outputs": [
    {
     "name": "stdout",
     "output_type": "stream",
     "text": [
      "Presolving model\n",
      "22 rows, 40 cols, 88 nonzeros\n",
      "22 rows, 40 cols, 88 nonzeros\n",
      "Presolve : Reductions: rows 22(-1); columns 40(-0); elements 88(-4)\n",
      "Solving the presolved LP\n",
      "Using EKK dual simplex solver - serial\n",
      "  Iteration        Objective     Infeasibilities num(sum)\n",
      "          0     0.0000000000e+00 Pr: 9(60) 0s\n",
      "         23     3.8185333333e+02 Pr: 0(0) 0s\n",
      "Solving the original LP from the solution after postsolve\n",
      "Model   status      : Optimal\n",
      "Simplex   iterations: 23\n",
      "Objective value     :  3.8185333333e+02\n",
      "HiGHS run time      :          0.00\n"
     ]
    }
   ],
   "source": [
    "set_optimizer(m, solver)\n",
    "optimize!(m)"
   ]
  },
  {
   "cell_type": "code",
   "execution_count": 29,
   "metadata": {},
   "outputs": [
    {
     "data": {
      "text/plain": [
       "4-element Vector{Float64}:\n",
       " 2.6666666666666674\n",
       " 4.0\n",
       " 3.333333333333333\n",
       " 2.0"
      ]
     },
     "execution_count": 29,
     "metadata": {},
     "output_type": "execute_result"
    }
   ],
   "source": [
    "value.(x)"
   ]
  },
  {
   "cell_type": "code",
   "execution_count": 30,
   "metadata": {},
   "outputs": [
    {
     "data": {
      "text/plain": [
       "381.85333333333335"
      ]
     },
     "execution_count": 30,
     "metadata": {},
     "output_type": "execute_result"
    }
   ],
   "source": [
    "objective_value(m)"
   ]
  },
  {
   "cell_type": "markdown",
   "metadata": {},
   "source": [
    "The solution is therefore $x = (8/3, 4, 13/3, 2)$."
   ]
  },
  {
   "cell_type": "markdown",
   "metadata": {},
   "source": [
    "## 2-stage formulation"
   ]
  },
  {
   "cell_type": "markdown",
   "metadata": {},
   "source": [
    "We first create the first-stage problem."
   ]
  },
  {
   "cell_type": "code",
   "execution_count": 11,
   "metadata": {},
   "outputs": [
    {
     "data": {
      "text/plain": [
       "firststage (generic function with 1 method)"
      ]
     },
     "execution_count": 11,
     "metadata": {},
     "output_type": "execute_result"
    }
   ],
   "source": [
    "function firststage()\n",
    "    m = Model(with_optimizer(solver))\n",
    "\n",
    "    @variable(m, x[1:nFactories] >= 0)\n",
    "    @variable(m, θ)\n",
    "    \n",
    "    @constraint(m, sum(x[i] for i in 1:nFactories) >= minCapacity)\n",
    "    @constraint(m, sum(openingCosts[i]*x[i] for i in 1:nFactories) <= maxInvestment)\n",
    "\n",
    "    @objective(m, Min, sum(openingCosts[i]*x[i] for i in 1:nFactories))\n",
    "    \n",
    "    return m, x, θ\n",
    "end"
   ]
  },
  {
   "cell_type": "code",
   "execution_count": 12,
   "metadata": {},
   "outputs": [
    {
     "data": {
      "text/plain": [
       "master_objective (generic function with 1 method)"
      ]
     },
     "execution_count": 12,
     "metadata": {},
     "output_type": "execute_result"
    }
   ],
   "source": [
    "function master_objective(m::Model, x, θ)\n",
    "    @objective(m, Min, sum(openingCosts[i]*x[i] for i in 1:nFactories) + θ)\n",
    "    return m\n",
    "end"
   ]
  },
  {
   "cell_type": "markdown",
   "metadata": {},
   "source": [
    "We then create the second-stage problem."
   ]
  },
  {
   "cell_type": "code",
   "execution_count": 13,
   "metadata": {},
   "outputs": [
    {
     "data": {
      "text/plain": [
       "secondstageCore (generic function with 1 method)"
      ]
     },
     "execution_count": 13,
     "metadata": {},
     "output_type": "execute_result"
    }
   ],
   "source": [
    "function secondstageCore(x, ξ)\n",
    "    m = Model()\n",
    "\n",
    "    @variable(m, y[1:nFactories, 1:nFlavors] >= 0)\n",
    "\n",
    "    # We would gain to use sparse matrices\n",
    "    T=[-1 0 0 0; 0 -1 0 0; 0 0 -1 0; 0 0 0 -1; 0 0 0 0; 0 0 0 0; 0 0 0 0]\n",
    "    h = [ zeros(nFactories); ξ; demands[2:nFlavors]]\n",
    "    \n",
    "#    @constraintref recourseConstraints[1:(nFactories+nFlavors)]\n",
    "    recourseConstraints = []\n",
    "\n",
    "    return m, y, recourseConstraints, h, T\n",
    "end "
   ]
  },
  {
   "cell_type": "code",
   "execution_count": 14,
   "metadata": {},
   "outputs": [
    {
     "data": {
      "text/plain": [
       "secondstage (generic function with 1 method)"
      ]
     },
     "execution_count": 14,
     "metadata": {},
     "output_type": "execute_result"
    }
   ],
   "source": [
    "function secondstage(x, ξ)\n",
    "    m, y, recourseConstraints, h, T = secondstageCore(x, ξ)\n",
    "    \n",
    "    for i = 1:nFactories\n",
    "        push!(recourseConstraints, @constraint(m, sum(y[i,j] for j in 1:nFlavors) <= x[i]))\n",
    "    end\n",
    "\n",
    "    push!(recourseConstraints, @constraint(m, sum(y[j,1] for j in 1:nFactories) >= ξ))\n",
    "    for d = 2:nFlavors\n",
    "        push!(recourseConstraints, @constraint(m, sum(y[j,d] for j in 1:nFactories) >= demands[d]))\n",
    "    end\n",
    "\n",
    "    @objective(m, Min, sum(sum(cost[i,j]*y[i,j] for j in 1:nFlavors) for i = 1:nFactories))\n",
    "\n",
    "    set_optimizer(m, solver)\n",
    "    optimize!(m)\n",
    " \n",
    "    return m, recourseConstraints, h, T\n",
    "end"
   ]
  },
  {
   "cell_type": "code",
   "execution_count": 15,
   "metadata": {},
   "outputs": [
    {
     "data": {
      "text/plain": [
       "secondstagefeasibility (generic function with 1 method)"
      ]
     },
     "execution_count": 15,
     "metadata": {},
     "output_type": "execute_result"
    }
   ],
   "source": [
    "function secondstagefeasibility(x, ξ)\n",
    "    m, y, recourseConstraints, h, T = secondstageCore(x, ξ)\n",
    "\n",
    "    t = nFactories+nFlavors\n",
    "    \n",
    "    @variable(m, w[1:t] >= 0)\n",
    "\n",
    "    for i = 1:nFactories\n",
    "        push!(recourseConstraints, @constraint(m, sum(y[i,j] for j in 1:nFlavors)-w[i] <= x[i]))\n",
    "    end\n",
    "\n",
    "    push!(recourseConstraints, @constraint(m, sum(y[j,1] for j in 1:nFactories)+w[nFactories+1] >= ξ))\n",
    "    for d = 2:nFlavors\n",
    "        push!(recourseConstraints, @constraint(m, sum(y[j,d] for j in 1:nFactories)+w[nFactories+d] >= demands[d]))\n",
    "    end\n",
    "\n",
    "    @objective(m, Min, sum(w[i] for i in 1:t))\n",
    "\n",
    "    set_optimizer(m, solver)\n",
    "    optimize!(m)\n",
    "    σ = dual.(recourseConstraints)  # since the objective function is a minimization, we have the correct sign.\n",
    "\n",
    "    return σ, h, T\n",
    "end"
   ]
  },
  {
   "cell_type": "code",
   "execution_count": 16,
   "metadata": {},
   "outputs": [
    {
     "data": {
      "text/plain": [
       "stop (generic function with 1 method)"
      ]
     },
     "execution_count": 16,
     "metadata": {},
     "output_type": "execute_result"
    }
   ],
   "source": [
    "function stop(Q, θ, k)\n",
    "    nmax = 200\n",
    "    tol = 1e-10\n",
    "    if ((θ >= Q-tol) || (k == nmax))\n",
    "        return true\n",
    "    else\n",
    "        return false\n",
    "    end\n",
    "end"
   ]
  },
  {
   "cell_type": "markdown",
   "metadata": {},
   "source": [
    "JuMP is built on Math Optimization Interface (MOI). We take advantage of the associated flags."
   ]
  },
  {
   "cell_type": "code",
   "execution_count": 17,
   "metadata": {},
   "outputs": [
    {
     "data": {
      "text/plain": [
       "lshaped (generic function with 1 method)"
      ]
     },
     "execution_count": 17,
     "metadata": {},
     "output_type": "execute_result"
    }
   ],
   "source": [
    "function lshaped(scenarios, prob)\n",
    "    nScenarios = length(scenarios)\n",
    "    \n",
    "    k = 0       # iteration index\n",
    "    nfcuts = 0  # number of feasibility cuts\n",
    "    nocuts = 0  # number of optimality cuts\n",
    "    \n",
    "    first, x, θ = firststage()\n",
    "    n = length(x)\n",
    "\n",
    "    Q = +Inf\n",
    "    valθ = -Inf\n",
    "    \n",
    "    while (!stop(Q, valθ, k))\n",
    "        k += 1\n",
    "\n",
    "        println(first)\n",
    "\n",
    "        optimize!(first)\n",
    "        status = termination_status(first)\n",
    "        \n",
    "        if (status != MOI.OPTIMAL)\n",
    "            println(\"Error: status \", status)\n",
    "            return status, x, first\n",
    "        end\n",
    "        xsol = value.(x)\n",
    "\n",
    "        E = zeros(n)'\n",
    "        e = 0.0\n",
    "        Q = 0.0\n",
    "        \n",
    "        # Solve the second-stage programs\n",
    "        for i = 1:nScenarios\n",
    "            p = prob[i]\n",
    "            \n",
    "            m, scstrs, h, T = secondstage(xsol, scenarios[i])\n",
    "            status = termination_status(m)\n",
    "            if (status == MOI.INFEASIBLE)\n",
    "                # Build a feasibility cut\n",
    "                σ, h, T = secondstagefeasibility(xsol, scenarios[i])\n",
    "                E = σ'*T\n",
    "                @constraint(first, sum(E[i]*x[i] for i in 1:nFactories) >= σ'*h)\n",
    "                nfcuts += 1\n",
    "                break;\n",
    "            elseif (status == MOI.OPTIMAL)\n",
    "                Q += p*objective_value(m)\n",
    "                # Build the optimality cut component\n",
    "                π = dual.(scstrs)\n",
    "                E += p*(π'*T)\n",
    "                e += p*(dot(π,h))\n",
    "            else\n",
    "                println(\"Error second-stage resolution: status \", status)\n",
    "                return status, x, first\n",
    "            end\n",
    "        end\n",
    "        \n",
    "        if (status == MOI.OPTIMAL)\n",
    "            # add an optimality cut if it improves the lower bound\n",
    "            if (nocuts == 0)\n",
    "                # add θ in the problem\n",
    "                @constraint(first, con, sum(E[i]*x[i] for i in 1:nFactories) + θ >= e)\n",
    "                master_objective(first, x, θ)\n",
    "            else\n",
    "                valθ = value.(θ)\n",
    "                if (valθ < Q)\n",
    "                    @constraint(first, sum(E[i]*x[i] for i in 1:nFactories) + θ >= e)\n",
    "                end\n",
    "            end\n",
    "            nocuts += 1\n",
    "        end\n",
    "\n",
    "    end\n",
    "    \n",
    "    println(\"Solved in \", k, \" iterations.\")\n",
    "    return x, first\n",
    "end"
   ]
  },
  {
   "cell_type": "code",
   "execution_count": 18,
   "metadata": {
    "scrolled": true
   },
   "outputs": [
    {
     "ename": "LoadError",
     "evalue": "UndefVarError: with_optimizer not defined",
     "output_type": "error",
     "traceback": [
      "UndefVarError: with_optimizer not defined",
      "",
      "Stacktrace:",
      " [1] firststage()",
      "   @ Main .\\In[11]:2",
      " [2] lshaped(scenarios::Matrix{Int64}, prob::Matrix{Float64})",
      "   @ Main .\\In[17]:8",
      " [3] top-level scope",
      "   @ In[18]:1",
      " [4] eval",
      "   @ .\\boot.jl:368 [inlined]",
      " [5] include_string(mapexpr::typeof(REPL.softscope), mod::Module, code::String, filename::String)",
      "   @ Base .\\loading.jl:1428"
     ]
    }
   ],
   "source": [
    "x, firstst = lshaped(scenarios, prob)"
   ]
  },
  {
   "cell_type": "markdown",
   "metadata": {},
   "source": [
    "The resulting master program is:"
   ]
  },
  {
   "cell_type": "code",
   "execution_count": 19,
   "metadata": {},
   "outputs": [
    {
     "ename": "LoadError",
     "evalue": "UndefVarError: firstst not defined",
     "output_type": "error",
     "traceback": [
      "UndefVarError: firstst not defined",
      "",
      "Stacktrace:",
      " [1] top-level scope",
      "   @ :0",
      " [2] eval",
      "   @ .\\boot.jl:368 [inlined]",
      " [3] include_string(mapexpr::typeof(REPL.softscope), mod::Module, code::String, filename::String)",
      "   @ Base .\\loading.jl:1428"
     ]
    }
   ],
   "source": [
    "firstst"
   ]
  },
  {
   "cell_type": "code",
   "execution_count": 20,
   "metadata": {},
   "outputs": [
    {
     "ename": "LoadError",
     "evalue": "UndefVarError: firstst not defined",
     "output_type": "error",
     "traceback": [
      "UndefVarError: firstst not defined",
      "",
      "Stacktrace:",
      " [1] top-level scope",
      "   @ In[20]:1",
      " [2] eval",
      "   @ .\\boot.jl:368 [inlined]",
      " [3] include_string(mapexpr::typeof(REPL.softscope), mod::Module, code::String, filename::String)",
      "   @ Base .\\loading.jl:1428"
     ]
    }
   ],
   "source": [
    "println(firstst)"
   ]
  },
  {
   "cell_type": "code",
   "execution_count": 21,
   "metadata": {},
   "outputs": [
    {
     "ename": "LoadError",
     "evalue": "UndefVarError: firstst not defined",
     "output_type": "error",
     "traceback": [
      "UndefVarError: firstst not defined",
      "",
      "Stacktrace:",
      " [1] top-level scope",
      "   @ In[21]:1",
      " [2] eval",
      "   @ .\\boot.jl:368 [inlined]",
      " [3] include_string(mapexpr::typeof(REPL.softscope), mod::Module, code::String, filename::String)",
      "   @ Base .\\loading.jl:1428"
     ]
    }
   ],
   "source": [
    "objective_value(firstst)"
   ]
  },
  {
   "cell_type": "code",
   "execution_count": 22,
   "metadata": {},
   "outputs": [
    {
     "data": {
      "text/plain": [
       "4-element Vector{Float64}:\n",
       " 2.6666666666666674\n",
       " 4.0\n",
       " 3.333333333333333\n",
       " 2.0"
      ]
     },
     "execution_count": 22,
     "metadata": {},
     "output_type": "execute_result"
    }
   ],
   "source": [
    "value.(x)"
   ]
  },
  {
   "cell_type": "markdown",
   "metadata": {
    "collapsed": true
   },
   "source": [
    "A more efficient implementation would also to generate a standard second-stage problem and modify only the components affected by the scenario realization."
   ]
  },
  {
   "cell_type": "markdown",
   "metadata": {},
   "source": [
    "Alternatively, we could directly implement the dual of the second-stage problems. It is then possible to find a unbounded ray in the situation where we are looking to implement a feasibility cut."
   ]
  },
  {
   "cell_type": "code",
   "execution_count": 23,
   "metadata": {},
   "outputs": [
    {
     "name": "stdout",
     "output_type": "stream",
     "text": [
      "Max 3 y[5] + 3 y[6] + 2 y[7]\n",
      "Subject to\n",
      " y[1] + y[5] <= 40.0\n",
      " y[1] + y[6] <= 24.0\n",
      " y[1] + y[7] <= 4.0\n",
      " y[2] + y[5] <= 45.0\n",
      " y[2] + y[6] <= 27.0\n",
      " y[2] + y[7] <= 4.5\n",
      " y[3] + y[5] <= 32.0\n",
      " y[3] + y[6] <= 19.2\n",
      " y[3] + y[7] <= 3.2\n",
      " y[4] + y[5] <= 55.0\n",
      " y[4] + y[6] <= 33.0\n",
      " y[4] + y[7] <= 5.5\n",
      " y[5] >= 0.0\n",
      " y[6] >= 0.0\n",
      " y[7] >= 0.0\n",
      " y[1] <= 0.0\n",
      " y[2] <= 0.0\n",
      " y[3] <= 0.0\n",
      " y[4] <= 0.0\n",
      "\n"
     ]
    }
   ],
   "source": [
    "#function secondstage_dual(x, ξ)\n",
    "ξ = 3\n",
    "β = zeros(4)\n",
    "\n",
    "m = Model()\n",
    "\n",
    "    T=[-1 0 0 0; 0 -1 0 0; 0 0 -1 0; 0 0 0 -1; 0 0 0 0; 0 0 0 0; 0 0 0 0]\n",
    "    h = [ zeros(nFactories); ξ; demands[2:nFlavors]]\n",
    "    n = length(x)\n",
    "    \n",
    "    @variable(m, y[1:nFlavors+nFactories])\n",
    "for i = 1:nFactories\n",
    "    set_upper_bound(y[i], 0)\n",
    "end\n",
    "for i = nFactories+1:nFlavors+nFactories\n",
    "    set_lower_bound(y[i], 0)\n",
    "end\n",
    "\n",
    "for i = 1:nFactories\n",
    "for j = 1:nFlavors\n",
    "    @constraint(m, y[i]+y[nFactories+j] <= cost[i,j])\n",
    "end\n",
    "end\n",
    "\n",
    "@objective(m, Max, sum((h[i]-dot(T[i,:],β))*y[i] for i = 1:nFactories+nFlavors))\n",
    "\n",
    "println(m)"
   ]
  },
  {
   "cell_type": "code",
   "execution_count": 24,
   "metadata": {},
   "outputs": [
    {
     "name": "stdout",
     "output_type": "stream",
     "text": [
      "Presolving model\n",
      "0 rows, 3 cols, 0 nonzeros\n",
      "Solving the original LP with primal simplex to determine infeasible or unbounded\n",
      "Using EKK primal simplex solver\n",
      "  Iteration        Objective     Infeasibilities num(sum)\n",
      "          0    -1.0750219957e-06 Pr: 0(0); Du: 3(8) 0s\n",
      "          5     2.3640000000e+02 Pr: 0(0); Du: 3(11) 0s\n",
      "Model   status      : Unbounded\n",
      "Simplex   iterations: 5\n",
      "Objective value     :  2.3640000000e+02\n",
      "HiGHS run time      :          0.00\n"
     ]
    }
   ],
   "source": [
    "set_optimizer(m, solver)\n",
    "optimize!(m)"
   ]
  },
  {
   "cell_type": "code",
   "execution_count": 25,
   "metadata": {},
   "outputs": [
    {
     "name": "stdout",
     "output_type": "stream",
     "text": [
      "Presolving model\n",
      "0 rows, 0 cols, 0 nonzeros\n",
      "0 rows, 0 cols, 0 nonzeros\n",
      "Presolve : Reductions: rows 0(-12); columns 0(-7); elements 0(-24) - Reduced to empty\n",
      "Solving the original LP from the solution after postsolve\n",
      "Model   status      : Optimal\n",
      "Objective value     :  8.0000000000e+04\n",
      "HiGHS run time      :          0.00\n"
     ]
    }
   ],
   "source": [
    "for i = 1:nFactories\n",
    "    set_lower_bound(y[i], -10000)\n",
    "end\n",
    "for i = nFactories+1:nFlavors+nFactories\n",
    "    set_upper_bound(y[i], 10000)\n",
    "end\n",
    "\n",
    "set_optimizer(m, solver)\n",
    "optimize!(m)"
   ]
  },
  {
   "cell_type": "code",
   "execution_count": 30,
   "metadata": {},
   "outputs": [
    {
     "data": {
      "text/plain": [
       "7-element Vector{Float64}:\n",
       " -1.0\n",
       " -1.0\n",
       " -1.0\n",
       " -1.0\n",
       "  1.0\n",
       "  1.0\n",
       "  1.0"
      ]
     },
     "execution_count": 30,
     "metadata": {},
     "output_type": "execute_result"
    }
   ],
   "source": [
    "value.(y)/norm(value.(y), Inf)"
   ]
  },
  {
   "cell_type": "code",
   "execution_count": null,
   "metadata": {},
   "outputs": [],
   "source": []
  }
 ],
 "metadata": {
  "@webio": {
   "lastCommId": null,
   "lastKernelId": null
  },
  "kernelspec": {
   "display_name": "Julia 1.8.0",
   "language": "julia",
   "name": "julia-1.8"
  },
  "language_info": {
   "file_extension": ".jl",
   "mimetype": "application/julia",
   "name": "julia",
   "version": "1.8.0"
  }
 },
 "nbformat": 4,
 "nbformat_minor": 2
}
