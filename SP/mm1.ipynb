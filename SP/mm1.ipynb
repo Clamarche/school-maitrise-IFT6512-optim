{
 "cells": [
  {
   "cell_type": "markdown",
   "metadata": {},
   "source": [
    "## Simulation of a M/M/1 queue using processes"
   ]
  },
  {
   "cell_type": "markdown",
   "metadata": {},
   "source": [
    "This simulation is adapted from the Bank Renege example in the documentation of a previous version of SimJulia: http://simjuliajl.readthedocs.io/en/stable/examples/1_bank_renege.html"
   ]
  },
  {
   "cell_type": "code",
   "execution_count": null,
   "metadata": {},
   "outputs": [],
   "source": [
    "using SimJulia\n",
    "using Distributions\n",
    "using ResumableFunctions\n",
    "using RDST, Random"
   ]
  },
  {
   "cell_type": "markdown",
   "metadata": {},
   "source": [
    "Let's first simulate a fixed number of clients."
   ]
  },
  {
   "cell_type": "code",
   "execution_count": null,
   "metadata": {},
   "outputs": [],
   "source": [
    "const RANDOM_SEED = 200\n",
    "const NEW_CUSTOMERS = 5  # Total number of customers\n",
    "const INTERVAL_CUSTOMERS = 2.0  # Generate new customers roughly every x seconds\n",
    "const MEAN_SERVICE = 1.9\n",
    "\n",
    "# The macro @resumable allows to suspend a function until some event wakes it up.\n",
    "@resumable function source(env::Simulation, number::Int, interval::Float64, counter::Resource)\n",
    "    d = Exponential(interval)\n",
    "    for i in 1:number\n",
    "        # The customer service time is random. During the service, the counter\n",
    "        # is not available to any other customer.\n",
    "        @yield timeout(env, rand(d))\n",
    "        @process customer(env, i, counter, MEAN_SERVICE)\n",
    "    end\n",
    "end\n",
    "\n",
    "@resumable function customer(env::Simulation, idx::Int, counter::Resource, time_in_system::Float64)\n",
    "    # Record the arrival time in the system\n",
    "    arrive = now(env)\n",
    "    println(\"$arrive: arrival of customer $idx\")\n",
    "    @yield request(counter)\n",
    "    # The simulation clock now contains the time when the client goes to the server.\n",
    "    wait = now(env) - arrive\n",
    "    # Record the waiting time\n",
    "    waits[idx] = wait\n",
    "    println(\"$(now(env)): customer $idx has waited $wait\")\n",
    "    @yield timeout(env, rand(Exponential(time_in_system)))\n",
    "    println(\"$(now(env)): customer $idx: finished\")\n",
    "    @yield release(counter)\n",
    "end\n"
   ]
  },
  {
   "cell_type": "code",
   "execution_count": null,
   "metadata": {},
   "outputs": [],
   "source": [
    "# Setup and start the simulation\n",
    "println(\"M/M/1 with processes\")\n",
    "waits = zeros(NEW_CUSTOMERS)"
   ]
  },
  {
   "cell_type": "code",
   "execution_count": null,
   "metadata": {},
   "outputs": [],
   "source": [
    "Random.seed!(RANDOM_SEED)\n",
    "env = Simulation()"
   ]
  },
  {
   "cell_type": "code",
   "execution_count": null,
   "metadata": {
    "scrolled": true
   },
   "outputs": [],
   "source": [
    "# Start processes and run\n",
    "counter = Resource(env, 1)\n",
    "@process source(env, NEW_CUSTOMERS, INTERVAL_CUSTOMERS, counter)"
   ]
  },
  {
   "cell_type": "code",
   "execution_count": null,
   "metadata": {},
   "outputs": [],
   "source": [
    "run(env)"
   ]
  },
  {
   "cell_type": "markdown",
   "metadata": {},
   "source": [
    "We can compute the mean waiting time by"
   ]
  },
  {
   "cell_type": "code",
   "execution_count": null,
   "metadata": {},
   "outputs": [],
   "source": [
    "mean(waits)"
   ]
  },
  {
   "cell_type": "markdown",
   "metadata": {
    "collapsed": true
   },
   "source": [
    "However, most of the time, we do not know the number of client. We first set the end of simulation event by specifying an time horizon when running the simulation."
   ]
  },
  {
   "cell_type": "code",
   "execution_count": null,
   "metadata": {},
   "outputs": [],
   "source": [
    "@process source(env, NEW_CUSTOMERS, INTERVAL_CUSTOMERS, counter)\n",
    "run(env, 5.0)"
   ]
  },
  {
   "cell_type": "markdown",
   "metadata": {},
   "source": [
    "We observe however that the simulation time has not been reset to 0. A simple solution is to create a new simulation environment. This also requires to set the resource again."
   ]
  },
  {
   "cell_type": "code",
   "execution_count": null,
   "metadata": {},
   "outputs": [],
   "source": [
    "env = Simulation()\n",
    "counter = Resource(env, 1)\n",
    "@process source(env, NEW_CUSTOMERS, INTERVAL_CUSTOMERS, counter)\n",
    "run(env, 5.0)"
   ]
  },
  {
   "cell_type": "markdown",
   "metadata": {
    "collapsed": true
   },
   "source": [
    "The random draws are different but we can produce the same as previously by using the same seed, i.e. the same initial state."
   ]
  },
  {
   "cell_type": "code",
   "execution_count": null,
   "metadata": {},
   "outputs": [],
   "source": [
    "Random.seed!(RANDOM_SEED)\n",
    "env = Simulation()\n",
    "counter = Resource(env, 1)\n",
    "@process source(env, NEW_CUSTOMERS, INTERVAL_CUSTOMERS, counter)\n",
    "run(env, 15.0)"
   ]
  },
  {
   "cell_type": "markdown",
   "metadata": {},
   "source": [
    "However, a possible issue is that a customer never finishes his service. If we want to ensure that the customer complete his journey in the system, we have to modify the source function. We can circumvent it by redefining the source function so that no customer is generated after a horizon limit, but we do not put a limit when calling the run function."
   ]
  },
  {
   "cell_type": "code",
   "execution_count": null,
   "metadata": {},
   "outputs": [],
   "source": [
    "@resumable function source!(env::Simulation, number::Int, interval::Float64, counter::Resource, limit::Float64, nserved::Array{Int64,1})\n",
    "    nserved[1] = 0\n",
    "    d = Exponential(interval)\n",
    "    for i in 1:number\n",
    "        @yield timeout(env, rand(d))\n",
    "        if (now(env) > limit) break end\n",
    "        @process customer(env, i, counter, MEAN_SERVICE)\n",
    "        nserved[1] += 1\n",
    "    end\n",
    "end"
   ]
  },
  {
   "cell_type": "code",
   "execution_count": null,
   "metadata": {},
   "outputs": [],
   "source": [
    "nserved = [ 0 ]\n",
    "Random.seed!(RANDOM_SEED)\n",
    "env = Simulation()\n",
    "counter = Resource(env, 1)\n",
    "\n",
    "@process source!(env, NEW_CUSTOMERS, INTERVAL_CUSTOMERS, counter, 5.0, nserved)\n",
    "run(env)"
   ]
  },
  {
   "cell_type": "markdown",
   "metadata": {},
   "source": [
    "This raises the question: should we flush the entities in the system at the end of the horizon of allow the entities in the system to complete their process? It depends on the context!\n",
    "\n",
    "In our case, the mean waiting time is"
   ]
  },
  {
   "cell_type": "code",
   "execution_count": null,
   "metadata": {},
   "outputs": [],
   "source": [
    "mean(waits[1:nserved[1]])"
   ]
  },
  {
   "cell_type": "code",
   "execution_count": null,
   "metadata": {},
   "outputs": [],
   "source": [
    "@resumable function new_source!(env::Simulation, interval::Float64, counter::Resource, limit::Float64, nserved::Array{Int64,1})\n",
    "    nserved[1] = 0\n",
    "    i = 0\n",
    "    d = Exponential(interval)\n",
    "    while (true)\n",
    "        @yield timeout(env, rand(d))\n",
    "        if (now(env) > limit) break end\n",
    "        i += 1\n",
    "        @process new_customer(env, i, counter, MEAN_SERVICE, new_waits)\n",
    "    end\n",
    "    nserved[1] = i\n",
    " end"
   ]
  },
  {
   "cell_type": "code",
   "execution_count": null,
   "metadata": {},
   "outputs": [],
   "source": [
    "@resumable function new_customer(env::Simulation, idx::Int, counter::Resource, time_in_system::Float64, waits::Array{Float64,1})\n",
    "    # Record the arrival time in the system\n",
    "    arrive = now(env)\n",
    "    println(\"$arrive: arrival of customer $idx\")\n",
    "    @yield request(counter)\n",
    "    # The simulation clock now contains the time when the client goes to the server.\n",
    "    wait = now(env) - arrive\n",
    "    # Record the waiting time\n",
    "    waits = push!(waits, wait)\n",
    "    println(\"$(now(env)): customer $idx has waited $wait\")\n",
    "    @yield timeout(env, rand(Exponential(time_in_system)))\n",
    "    println(\"$(now(env)): customer $idx: finished\")\n",
    "    @yield release(counter)\n",
    "end"
   ]
  },
  {
   "cell_type": "code",
   "execution_count": null,
   "metadata": {},
   "outputs": [],
   "source": [
    "nserved = [ 0 ]\n",
    "Random.seed!(RANDOM_SEED)\n",
    "env = Simulation()\n",
    "counter = Resource(env, 1)\n",
    "new_waits = Float64[]\n",
    "\n",
    "@process new_source!(env, INTERVAL_CUSTOMERS, counter, 5.0, nserved)\n",
    "\n",
    "run(env)"
   ]
  },
  {
   "cell_type": "code",
   "execution_count": null,
   "metadata": {},
   "outputs": [],
   "source": [
    "new_waits"
   ]
  },
  {
   "cell_type": "code",
   "execution_count": null,
   "metadata": {},
   "outputs": [],
   "source": [
    "nserved[1]"
   ]
  }
 ],
 "metadata": {
  "kernelspec": {
   "display_name": "Julia 1.6.2",
   "language": "julia",
   "name": "julia-1.6"
  },
  "language_info": {
   "file_extension": ".jl",
   "mimetype": "application/julia",
   "name": "julia",
   "version": "1.6.2"
  }
 },
 "nbformat": 4,
 "nbformat_minor": 1
}
