{
 "cells": [
  {
   "cell_type": "markdown",
   "id": "e7d95508",
   "metadata": {},
   "source": [
    "# L-shaped algorithm example"
   ]
  },
  {
   "cell_type": "markdown",
   "id": "3178c2a6",
   "metadata": {},
   "source": [
    "We illustrate in this notebook the example 2 in Chapter 5, page 188, from Birge and Louveaux (2011), \"Introduction to Stochastic Programming\", 2nd edition, Springer."
   ]
  },
  {
   "cell_type": "code",
   "execution_count": 3,
   "id": "8858fa22",
   "metadata": {},
   "outputs": [],
   "source": [
    "using StochasticPrograms\n",
    "using HiGHS"
   ]
  },
  {
   "cell_type": "markdown",
   "id": "3df8b524",
   "metadata": {},
   "source": [
    "First, we construct the 2-stage model."
   ]
  },
  {
   "cell_type": "code",
   "execution_count": 4,
   "id": "3bbafc07",
   "metadata": {},
   "outputs": [
    {
     "data": {
      "text/plain": [
       "Two-Stage Stochastic Model\n",
       "\n",
       "minimize f₀(x) + 𝔼[f(x,ξ)]\n",
       "  x∈𝒳\n",
       "\n",
       "where\n",
       "\n",
       "f(x,ξ) = min  f(y; x, ξ)\n",
       "              y ∈ 𝒴 (x, ξ)\n"
      ]
     },
     "execution_count": 4,
     "metadata": {},
     "output_type": "execute_result"
    }
   ],
   "source": [
    "@stochastic_model simple_model begin\n",
    "    @stage 1 begin\n",
    "        @decision(simple_model, x >= 0)\n",
    "        @objective(simple_model, Min, 0*x)\n",
    "    end\n",
    "    @stage 2 begin\n",
    "        @known(simple_model, x)\n",
    "        @uncertain ξ\n",
    "        @recourse(simple_model, 0 <= y[i in 1:2])\n",
    "        @objective(simple_model, Min, y[1] + y[2])\n",
    "        @constraint(simple_model, y[1] - y[2] == ξ - x)\n",
    "    end\n",
    "end"
   ]
  },
  {
   "cell_type": "markdown",
   "id": "917eae82",
   "metadata": {},
   "source": [
    "We now define three scenarios of equal probability."
   ]
  },
  {
   "cell_type": "code",
   "execution_count": 5,
   "id": "088aa87d",
   "metadata": {},
   "outputs": [
    {
     "data": {
      "text/plain": [
       "3-element Vector{Scenario{NamedTuple{(:ξ,), Tuple{Int64}}}}:\n",
       " Scenario with probability 0.3333333333333333\n",
       "  ξ: 1\n",
       " Scenario with probability 0.3333333333333333\n",
       "  ξ: 2\n",
       " Scenario with probability 0.3333333333333333\n",
       "  ξ: 4"
      ]
     },
     "execution_count": 5,
     "metadata": {},
     "output_type": "execute_result"
    }
   ],
   "source": [
    "ξ1 = @scenario ξ = 1 probability = 1/3\n",
    "ξ2 = @scenario ξ = 2 probability = 1/3\n",
    "ξ3 = @scenario ξ = 4 probability = 1/3\n",
    "\n",
    "ξ = [ξ1, ξ2, ξ3]"
   ]
  },
  {
   "cell_type": "markdown",
   "id": "5cd13947",
   "metadata": {},
   "source": [
    "## Deterministic equivalent"
   ]
  },
  {
   "cell_type": "markdown",
   "id": "dbcaf0ae",
   "metadata": {},
   "source": [
    "In order to have a solvable program, we must instantiate the model. By default, `StochasticPrograms.jl` will generate the derministic equivalent form."
   ]
  },
  {
   "cell_type": "code",
   "execution_count": 6,
   "id": "45817d80",
   "metadata": {},
   "outputs": [
    {
     "data": {
      "text/plain": [
       "Stochastic program with:\n",
       " * 1 decision variable\n",
       " * 2 recourse variables\n",
       " * 3 scenarios of type Scenario\n",
       "Structure: Deterministic equivalent\n",
       "Solver name: HiGHS"
      ]
     },
     "execution_count": 6,
     "metadata": {},
     "output_type": "execute_result"
    }
   ],
   "source": [
    "sp = instantiate(simple_model, ξ, optimizer = HiGHS.Optimizer)"
   ]
  },
  {
   "cell_type": "markdown",
   "id": "780a1c81",
   "metadata": {},
   "source": [
    "We can check the model by printing it on the screen."
   ]
  },
  {
   "cell_type": "code",
   "execution_count": 7,
   "id": "6221ab47",
   "metadata": {},
   "outputs": [
    {
     "name": "stdout",
     "output_type": "stream",
     "text": [
      "Deterministic equivalent problem\n",
      "Min 0.3333333333333333 y₁[1] + 0.3333333333333333 y₁[2] + 0.3333333333333333 y₂[1] + 0.3333333333333333 y₂[2] + 0.3333333333333333 y₃[1] + 0.3333333333333333 y₃[2]\n",
      "Subject to\n",
      " x in Decisions\n",
      " y₁[1] in RecourseDecisions\n",
      " y₁[2] in RecourseDecisions\n",
      " y₂[1] in RecourseDecisions\n",
      " y₂[2] in RecourseDecisions\n",
      " y₃[1] in RecourseDecisions\n",
      " y₃[2] in RecourseDecisions\n",
      " x >= 0.0\n",
      " y₁[1] >= 0.0\n",
      " y₁[2] >= 0.0\n",
      " y₂[1] >= 0.0\n",
      " y₂[2] >= 0.0\n",
      " y₃[1] >= 0.0\n",
      " y₃[2] >= 0.0\n",
      " x + y₁[1] - y₁[2] == 1.0\n",
      " x + y₂[1] - y₂[2] == 2.0\n",
      " x + y₃[1] - y₃[2] == 4.0\n",
      "Solver name: HiGHS\n"
     ]
    }
   ],
   "source": [
    "println(sp)"
   ]
  },
  {
   "cell_type": "markdown",
   "id": "8945aa13",
   "metadata": {},
   "source": [
    "We now solve it."
   ]
  },
  {
   "cell_type": "code",
   "execution_count": 8,
   "id": "37f7a773",
   "metadata": {},
   "outputs": [
    {
     "name": "stdout",
     "output_type": "stream",
     "text": [
      "Presolving model\n",
      "3 rows, 7 cols, 9 nonzeros\n",
      "3 rows, 7 cols, 9 nonzeros\n",
      "Presolve : Reductions: rows 3(-0); columns 7(-0); elements 9(-0)\n",
      "Solving the presolved LP\n",
      "Using EKK dual simplex solver - serial\n",
      "  Iteration        Objective     Infeasibilities num(sum)\n",
      "          0     0.0000000000e+00 Pr: 3(7) 0s\n",
      "          3     1.0000000000e+00 Pr: 0(0) 0s\n",
      "Solving the original LP from the solution after postsolve\n",
      "Model   status      : Optimal\n",
      "Simplex   iterations: 3\n",
      "Objective value     :  1.0000000000e+00\n",
      "HiGHS run time      :          0.00\n"
     ]
    }
   ],
   "source": [
    "optimize!(sp)"
   ]
  },
  {
   "cell_type": "markdown",
   "id": "8d2ba655",
   "metadata": {},
   "source": [
    "We can check the first stage solution with the method `value()`."
   ]
  },
  {
   "cell_type": "code",
   "execution_count": 9,
   "id": "1104774c",
   "metadata": {},
   "outputs": [
    {
     "data": {
      "text/plain": [
       "2.0"
      ]
     },
     "execution_count": 9,
     "metadata": {},
     "output_type": "execute_result"
    }
   ],
   "source": [
    "value(sp[1,:x])"
   ]
  },
  {
   "cell_type": "markdown",
   "id": "882f741b",
   "metadata": {},
   "source": [
    "## L-shaped"
   ]
  },
  {
   "cell_type": "markdown",
   "id": "8c6a8a9a",
   "metadata": {},
   "source": [
    "We now express the program as a 2-stage optimization problem, and explore various variants of the L-shaped decomposition algorithm."
   ]
  },
  {
   "cell_type": "markdown",
   "id": "4179f759",
   "metadata": {},
   "source": [
    "### Multi cut"
   ]
  },
  {
   "cell_type": "code",
   "execution_count": 10,
   "id": "3ecc826d",
   "metadata": {},
   "outputs": [
    {
     "data": {
      "text/plain": [
       "Stochastic program with:\n",
       " * 1 decision variable\n",
       " * 2 recourse variables\n",
       " * 3 scenarios of type Scenario\n",
       "Structure: Stage-decomposition\n",
       "Solver name: L-shaped with disaggregate cuts"
      ]
     },
     "execution_count": 10,
     "metadata": {},
     "output_type": "execute_result"
    }
   ],
   "source": [
    "sp_lshaped = instantiate(simple_model, ξ, optimizer = LShaped.Optimizer)"
   ]
  },
  {
   "cell_type": "code",
   "execution_count": 11,
   "id": "7528ac6d",
   "metadata": {},
   "outputs": [],
   "source": [
    "set_optimizer_attribute(sp_lshaped, MasterOptimizer(), HiGHS.Optimizer)\n",
    "set_optimizer_attribute(sp_lshaped, SubProblemOptimizer(), HiGHS.Optimizer)"
   ]
  },
  {
   "cell_type": "code",
   "execution_count": 12,
   "id": "22b6381d",
   "metadata": {},
   "outputs": [
    {
     "name": "stdout",
     "output_type": "stream",
     "text": [
      "Presolving model\n",
      "0 rows, 0 cols, 0 nonzeros\n",
      "0 rows, 0 cols, 0 nonzeros\n",
      "Presolve : Reductions: rows 0(-2); columns 0(-3); elements 0(-4) - Reduced to empty\n",
      "Solving the original LP from the solution after postsolve\n",
      "Model   status      : Optimal\n",
      "Objective value     :  2.6998783506e-01\n",
      "HiGHS run time      :          0.00\n",
      "Presolving model\n",
      "0 rows, 0 cols, 0 nonzeros\n",
      "0 rows, 0 cols, 0 nonzeros\n",
      "Presolve : Reductions: rows 0(-2); columns 0(-3); elements 0(-4) - Reduced to empty\n",
      "Solving the original LP from the solution after postsolve\n",
      "Model   status      : Optimal\n",
      "Objective value     :  1.2699878351e+00\n",
      "HiGHS run time      :          0.00\n",
      "Presolving model\n",
      "0 rows, 0 cols, 0 nonzeros\n",
      "0 rows, 0 cols, 0 nonzeros\n",
      "Presolve : Reductions: rows 0(-2); columns 0(-3); elements 0(-4) - Reduced to empty\n",
      "Solving the original LP from the solution after postsolve\n",
      "Model   status      : Optimal\n",
      "Objective value     :  3.2699878351e+00\n",
      "HiGHS run time      :          0.00\n",
      "Presolving model\n",
      "Solving the original LP with primal simplex to determine infeasible or unbounded\n",
      "Using EKK primal simplex solver\n",
      "  Iteration        Objective     Infeasibilities num(sum)\n",
      "          0     0.0000000000e+00 Ph1: 3(2.33333); Du: 4(4) 0s\n",
      "          3     2.3333333333e+00 Pr: 0(0); Du: 1(1) 0s\n",
      "Model   status      : Unbounded\n",
      "Simplex   iterations: 3\n",
      "Objective value     :  2.3333333333e+00\n",
      "HiGHS run time      :          0.00\n"
     ]
    },
    {
     "name": "stderr",
     "output_type": "stream",
     "text": [
      "\u001b[32mL-Shaped Gap  Time: 0:00:03 (1 iterations)\u001b[39m\n",
      "\u001b[34m  Objective:          -Inf\u001b[39m\n",
      "\u001b[34m  Early termination:  DUAL_INFEASIBLE\u001b[39m\n",
      "\u001b[34m  Number of cuts:     3\u001b[39m\n",
      "\u001b[34m  Iterations:         1\u001b[39m\n"
     ]
    }
   ],
   "source": [
    "optimize!(sp_lshaped)"
   ]
  },
  {
   "cell_type": "markdown",
   "id": "e7f86b9a",
   "metadata": {},
   "source": [
    "The master problem is unbounded from below as $K_1$ is not bounded.\n",
    "\n",
    "Let modify the first-stage feasible set by imposing a large bound on $x$, here $10^9$."
   ]
  },
  {
   "cell_type": "code",
   "execution_count": 13,
   "id": "42eb02ea",
   "metadata": {},
   "outputs": [
    {
     "data": {
      "text/plain": [
       "Two-Stage Stochastic Model\n",
       "\n",
       "minimize f₀(x) + 𝔼[f(x,ξ)]\n",
       "  x∈𝒳\n",
       "\n",
       "where\n",
       "\n",
       "f(x,ξ) = min  f(y; x, ξ)\n",
       "              y ∈ 𝒴 (x, ξ)\n"
      ]
     },
     "execution_count": 13,
     "metadata": {},
     "output_type": "execute_result"
    }
   ],
   "source": [
    "@stochastic_model simple_model begin\n",
    "    @stage 1 begin\n",
    "        @decision(simple_model, 0 <= x <= 1e9)\n",
    "        @objective(simple_model, Min, 0*x)\n",
    "    end\n",
    "    @stage 2 begin\n",
    "        @known(simple_model, x)\n",
    "        @uncertain ξ\n",
    "        @recourse(simple_model, 0 <= y[i in 1:2])\n",
    "        @objective(simple_model, Min, y[1] + y[2])\n",
    "        @constraint(simple_model, y[1] - y[2] == ξ - x)\n",
    "    end\n",
    "end"
   ]
  },
  {
   "cell_type": "code",
   "execution_count": 14,
   "id": "8c194765",
   "metadata": {},
   "outputs": [
    {
     "name": "stdout",
     "output_type": "stream",
     "text": [
      "First-stage \n",
      "============== \n",
      "Min 0\n",
      "Subject to\n",
      " x in Decisions\n",
      " x >= 0.0\n",
      " x <= 1.0e9\n",
      "\n",
      "Second-stage \n",
      "============== \n",
      "Subproblem 1 (p = 0.33):\n",
      "Min y[1] + y[2]\n",
      "Subject to\n",
      " x in Known(value = 0.0)\n",
      " y[1] in RecourseDecisions\n",
      " y[2] in RecourseDecisions\n",
      " y[1] >= 0.0\n",
      " y[2] >= 0.0\n",
      " x + y[1] - y[2] == 1.0\n",
      "\n",
      "Subproblem 2 (p = 0.33):\n",
      "Min y[1] + y[2]\n",
      "Subject to\n",
      " x in Known(value = 0.0)\n",
      " y[1] in RecourseDecisions\n",
      " y[2] in RecourseDecisions\n",
      " y[1] >= 0.0\n",
      " y[2] >= 0.0\n",
      " x + y[1] - y[2] == 2.0\n",
      "\n",
      "Subproblem 3 (p = 0.33):\n",
      "Min y[1] + y[2]\n",
      "Subject to\n",
      " x in Known(value = 0.0)\n",
      " y[1] in RecourseDecisions\n",
      " y[2] in RecourseDecisions\n",
      " y[1] >= 0.0\n",
      " y[2] >= 0.0\n",
      " x + y[1] - y[2] == 4.0\n",
      "\n",
      "Solver name: L-shaped with disaggregate cuts\n"
     ]
    }
   ],
   "source": [
    "sp_lshaped = instantiate(simple_model, ξ, optimizer = LShaped.Optimizer)\n",
    "set_optimizer_attribute(sp_lshaped, MasterOptimizer(), HiGHS.Optimizer)\n",
    "set_optimizer_attribute(sp_lshaped, SubProblemOptimizer(), HiGHS.Optimizer)\n",
    "\n",
    "println(sp_lshaped)"
   ]
  },
  {
   "cell_type": "markdown",
   "id": "dfeac2e3",
   "metadata": {},
   "source": [
    "We now solve the program."
   ]
  },
  {
   "cell_type": "code",
   "execution_count": 15,
   "id": "f6358b7c",
   "metadata": {},
   "outputs": [
    {
     "name": "stderr",
     "output_type": "stream",
     "text": [
      "┌ Warning: ProgressMeter by default refresh meters with additional information in IJulia via `IJulia.clear_output`, which clears all outputs in the cell. \n",
      "│  - To prevent this behaviour, do `ProgressMeter.ijulia_behavior(:append)`. \n",
      "│  - To disable this warning message, do `ProgressMeter.ijulia_behavior(:clear)`.\n",
      "└ @ ProgressMeter C:\\Users\\slash\\.julia\\packages\\ProgressMeter\\sN2xr\\src\\ProgressMeter.jl:618\n",
      "\r",
      "\u001b[32mL-Shaped Gap  Time: 0:00:00 (3 iterations)\u001b[39m\r\n",
      "\u001b[34m  Objective:       1.0000000099341073\u001b[39m\r\n",
      "\u001b[34m  Gap:             0.0\u001b[39m\r\n",
      "\u001b[34m  Number of cuts:  7\u001b[39m\r\n",
      "\u001b[34m  Iterations:      3\u001b[39m\n"
     ]
    }
   ],
   "source": [
    "optimize!(sp_lshaped)"
   ]
  },
  {
   "cell_type": "markdown",
   "id": "dec93d15",
   "metadata": {},
   "source": [
    "The first-stage solution is"
   ]
  },
  {
   "cell_type": "code",
   "execution_count": 16,
   "id": "7121434c",
   "metadata": {},
   "outputs": [
    {
     "data": {
      "text/plain": [
       "2.0000000298023224"
      ]
     },
     "execution_count": 16,
     "metadata": {},
     "output_type": "execute_result"
    }
   ],
   "source": [
    "value(sp_lshaped[1,:x])"
   ]
  },
  {
   "cell_type": "markdown",
   "id": "73dc39cb",
   "metadata": {},
   "source": [
    "### Single Cut"
   ]
  },
  {
   "cell_type": "markdown",
   "id": "ce84f50e",
   "metadata": {},
   "source": [
    "Let's check what happens when the single cut variant is used."
   ]
  },
  {
   "cell_type": "code",
   "execution_count": 17,
   "id": "33d3a8f3",
   "metadata": {},
   "outputs": [
    {
     "name": "stderr",
     "output_type": "stream",
     "text": [
      "┌ Warning: ProgressMeter by default refresh meters with additional information in IJulia via `IJulia.clear_output`, which clears all outputs in the cell. \n",
      "│  - To prevent this behaviour, do `ProgressMeter.ijulia_behavior(:append)`. \n",
      "│  - To disable this warning message, do `ProgressMeter.ijulia_behavior(:clear)`.\n",
      "└ @ ProgressMeter C:\\Users\\slash\\.julia\\packages\\ProgressMeter\\sN2xr\\src\\ProgressMeter.jl:618\n",
      "\r",
      "\u001b[32mL-Shaped Gap  Time: 0:00:00 (5 iterations)\u001b[39m\r\n",
      "\u001b[34m  Objective:       1.0\u001b[39m\r\n",
      "\u001b[34m  Gap:             0.0\u001b[39m\r\n",
      "\u001b[34m  Number of cuts:  4\u001b[39m\r\n",
      "\u001b[34m  Iterations:      5\u001b[39m\n"
     ]
    }
   ],
   "source": [
    "set_optimizer_attribute(sp_lshaped, Aggregator(), Aggregate())\n",
    "optimize!(sp_lshaped)"
   ]
  },
  {
   "cell_type": "markdown",
   "id": "317d6684",
   "metadata": {},
   "source": [
    "More iterations are needed, to obtain a similar first-stage solution."
   ]
  },
  {
   "cell_type": "code",
   "execution_count": 18,
   "id": "61186ec4",
   "metadata": {},
   "outputs": [
    {
     "data": {
      "text/plain": [
       "1.9999999999999996"
      ]
     },
     "execution_count": 18,
     "metadata": {},
     "output_type": "execute_result"
    }
   ],
   "source": [
    "value(sp_lshaped[1,:x])"
   ]
  },
  {
   "cell_type": "code",
   "execution_count": null,
   "id": "a61c3ce2",
   "metadata": {},
   "outputs": [],
   "source": []
  }
 ],
 "metadata": {
  "kernelspec": {
   "display_name": "Julia 1.8.2",
   "language": "julia",
   "name": "julia-1.8"
  },
  "language_info": {
   "file_extension": ".jl",
   "mimetype": "application/julia",
   "name": "julia",
   "version": "1.8.2"
  }
 },
 "nbformat": 4,
 "nbformat_minor": 5
}
