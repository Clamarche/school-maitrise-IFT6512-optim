{
 "cells": [
  {
   "cell_type": "code",
   "execution_count": 42,
   "id": "dcbf4110",
   "metadata": {},
   "outputs": [],
   "source": [
    "using StochasticPrograms\n",
    "using HiGHS"
   ]
  },
  {
   "cell_type": "code",
   "execution_count": 43,
   "id": "2ea692a0",
   "metadata": {},
   "outputs": [
    {
     "data": {
      "text/plain": [
       "Two-Stage Stochastic Model\n",
       "\n",
       "minimize f₀(x) + 𝔼[f(x,ξ)]\n",
       "  x∈𝒳\n",
       "\n",
       "where\n",
       "\n",
       "f(x,ξ) = min  f(y; x, ξ)\n",
       "              y ∈ 𝒴 (x, ξ)\n"
      ]
     },
     "execution_count": 43,
     "metadata": {},
     "output_type": "execute_result"
    }
   ],
   "source": [
    "@stochastic_model simple_model begin\n",
    "    @stage 1 begin\n",
    "        @decision(simple_model, x >= 0)\n",
    "        @objective(simple_model, Min, 0*x)\n",
    "    end\n",
    "    @stage 2 begin\n",
    "        @known(simple_model, x)\n",
    "        @uncertain ξ\n",
    "        @recourse(simple_model, 0 <= y[i in 1:2])\n",
    "        @objective(simple_model, Min, y[1] + y[2])\n",
    "        @constraint(simple_model, y[1] - y[2] == ξ - x)\n",
    "    end\n",
    "end"
   ]
  },
  {
   "cell_type": "code",
   "execution_count": 44,
   "id": "1bfa2269",
   "metadata": {},
   "outputs": [
    {
     "data": {
      "text/plain": [
       "3-element Vector{Scenario{NamedTuple{(:ξ,), Tuple{Int64}}}}:\n",
       " Scenario with probability 0.3333333333333333\n",
       "  ξ: 1\n",
       " Scenario with probability 0.3333333333333333\n",
       "  ξ: 2\n",
       " Scenario with probability 0.3333333333333333\n",
       "  ξ: 4"
      ]
     },
     "execution_count": 44,
     "metadata": {},
     "output_type": "execute_result"
    }
   ],
   "source": [
    "ξ1 = @scenario ξ = 1 probability = 1/3\n",
    "ξ2 = @scenario ξ = 2 probability = 1/3\n",
    "ξ3 = @scenario ξ = 4 probability = 1/3\n",
    "\n",
    "ξ = [ξ1, ξ2, ξ3]"
   ]
  },
  {
   "cell_type": "markdown",
   "id": "35166e74",
   "metadata": {},
   "source": [
    "## Deterministic equivalent"
   ]
  },
  {
   "cell_type": "code",
   "execution_count": 45,
   "id": "840b3b59",
   "metadata": {},
   "outputs": [
    {
     "data": {
      "text/plain": [
       "Stochastic program with:\n",
       " * 1 decision variable\n",
       " * 2 recourse variables\n",
       " * 3 scenarios of type Scenario\n",
       "Structure: Deterministic equivalent\n",
       "Solver name: HiGHS"
      ]
     },
     "execution_count": 45,
     "metadata": {},
     "output_type": "execute_result"
    }
   ],
   "source": [
    "sp = instantiate(simple_model, ξ, optimizer = HiGHS.Optimizer)"
   ]
  },
  {
   "cell_type": "code",
   "execution_count": 46,
   "id": "5c670cff",
   "metadata": {},
   "outputs": [
    {
     "name": "stdout",
     "output_type": "stream",
     "text": [
      "Deterministic equivalent problem\n",
      "Min 0.3333333333333333 y₁[1] + 0.3333333333333333 y₁[2] + 0.3333333333333333 y₂[1] + 0.3333333333333333 y₂[2] + 0.3333333333333333 y₃[1] + 0.3333333333333333 y₃[2]\n",
      "Subject to\n",
      " x in Decisions\n",
      " y₁[1] in RecourseDecisions\n",
      " y₁[2] in RecourseDecisions\n",
      " y₂[1] in RecourseDecisions\n",
      " y₂[2] in RecourseDecisions\n",
      " y₃[1] in RecourseDecisions\n",
      " y₃[2] in RecourseDecisions\n",
      " x >= 0.0\n",
      " y₁[1] >= 0.0\n",
      " y₁[2] >= 0.0\n",
      " y₂[1] >= 0.0\n",
      " y₂[2] >= 0.0\n",
      " y₃[1] >= 0.0\n",
      " y₃[2] >= 0.0\n",
      " x + y₁[1] - y₁[2] == 1.0\n",
      " x + y₂[1] - y₂[2] == 2.0\n",
      " x + y₃[1] - y₃[2] == 4.0\n",
      "Solver name: HiGHS\n"
     ]
    }
   ],
   "source": [
    "println(sp)"
   ]
  },
  {
   "cell_type": "code",
   "execution_count": 47,
   "id": "f44a3884",
   "metadata": {},
   "outputs": [
    {
     "name": "stdout",
     "output_type": "stream",
     "text": [
      "Presolving model\n",
      "3 rows, 7 cols, 9 nonzeros\n",
      "3 rows, 7 cols, 9 nonzeros\n",
      "Presolve : Reductions: rows 3(-0); columns 7(-0); elements 9(-0)\n",
      "Solving the presolved LP\n",
      "Using EKK dual simplex solver - serial\n",
      "  Iteration        Objective     Infeasibilities num(sum)\n",
      "          0     0.0000000000e+00 Pr: 3(7) 0s\n",
      "          3     1.0000000000e+00 Pr: 0(0) 0s\n",
      "Solving the original LP from the solution after postsolve\n",
      "Model   status      : Optimal\n",
      "Simplex   iterations: 3\n",
      "Objective value     :  1.0000000000e+00\n",
      "HiGHS run time      :          0.00\n"
     ]
    }
   ],
   "source": [
    "optimize!(sp)"
   ]
  },
  {
   "cell_type": "code",
   "execution_count": 48,
   "id": "c58475fa",
   "metadata": {},
   "outputs": [
    {
     "data": {
      "text/plain": [
       "2.0"
      ]
     },
     "execution_count": 48,
     "metadata": {},
     "output_type": "execute_result"
    }
   ],
   "source": [
    "value(sp[1,:x])"
   ]
  },
  {
   "cell_type": "markdown",
   "id": "4521851e",
   "metadata": {},
   "source": [
    "## Deterministic equivalent"
   ]
  },
  {
   "cell_type": "code",
   "execution_count": 49,
   "id": "7f1a68c1",
   "metadata": {},
   "outputs": [
    {
     "data": {
      "text/plain": [
       "Stochastic program with:\n",
       " * 1 decision variable\n",
       " * 2 recourse variables\n",
       " * 3 scenarios of type Scenario\n",
       "Structure: Stage-decomposition\n",
       "Solver name: L-shaped with disaggregate cuts"
      ]
     },
     "execution_count": 49,
     "metadata": {},
     "output_type": "execute_result"
    }
   ],
   "source": [
    "sp_lshaped = instantiate(simple_model, ξ, optimizer = LShaped.Optimizer)"
   ]
  },
  {
   "cell_type": "code",
   "execution_count": 50,
   "id": "910778fe",
   "metadata": {},
   "outputs": [],
   "source": [
    "set_optimizer_attribute(sp_lshaped, Aggregator(), Aggregate())"
   ]
  },
  {
   "cell_type": "code",
   "execution_count": 51,
   "id": "9e119250",
   "metadata": {},
   "outputs": [
    {
     "data": {
      "text/plain": [
       "Stochastic program with:\n",
       " * 1 decision variable\n",
       " * 2 recourse variables\n",
       " * 3 scenarios of type Scenario\n",
       "Structure: Stage-decomposition\n",
       "Solver name: L-shaped with full cut aggregation"
      ]
     },
     "execution_count": 51,
     "metadata": {},
     "output_type": "execute_result"
    }
   ],
   "source": [
    "sp_lshaped"
   ]
  },
  {
   "cell_type": "code",
   "execution_count": 52,
   "id": "9c884f91",
   "metadata": {},
   "outputs": [],
   "source": [
    "set_optimizer_attribute(sp_lshaped, MasterOptimizer(), HiGHS.Optimizer)\n",
    "set_optimizer_attribute(sp_lshaped, SubProblemOptimizer(), HiGHS.Optimizer)"
   ]
  },
  {
   "cell_type": "code",
   "execution_count": 53,
   "id": "526db5bf",
   "metadata": {},
   "outputs": [
    {
     "name": "stderr",
     "output_type": "stream",
     "text": [
      "\r",
      "\u001b[32mL-Shaped Gap  Time: 0:00:00 (1 iterations)\u001b[39m\r\n",
      "\u001b[34m  Objective:          -Inf\u001b[39m\r\n",
      "\u001b[34m  Early termination:  DUAL_INFEASIBLE\u001b[39m\r\n",
      "\u001b[34m  Number of cuts:     1\u001b[39m\r\n",
      "\u001b[34m  Iterations:         1\u001b[39m\n"
     ]
    },
    {
     "name": "stdout",
     "output_type": "stream",
     "text": [
      "Presolving model\n",
      "0 rows, 0 cols, 0 nonzeros\n",
      "0 rows, 0 cols, 0 nonzeros\n",
      "Presolve : Reductions: rows 0(-2); columns 0(-3); elements 0(-4) - Reduced to empty\n",
      "Solving the original LP from the solution after postsolve\n",
      "Model   status      : Optimal\n",
      "Objective value     :  8.1999140733e-01\n",
      "HiGHS run time      :          0.00\n",
      "Presolving model\n",
      "0 rows, 0 cols, 0 nonzeros\n",
      "0 rows, 0 cols, 0 nonzeros\n",
      "Presolve : Reductions: rows 0(-2); columns 0(-3); elements 0(-4) - Reduced to empty\n",
      "Solving the original LP from the solution after postsolve\n",
      "Model   status      : Optimal\n",
      "Objective value     :  1.8199914073e+00\n",
      "HiGHS run time      :          0.00\n",
      "Presolving model\n",
      "0 rows, 0 cols, 0 nonzeros\n",
      "0 rows, 0 cols, 0 nonzeros\n",
      "Presolve : Reductions: rows 0(-2); columns 0(-3); elements 0(-4) - Reduced to empty\n",
      "Solving the original LP from the solution after postsolve\n",
      "Model   status      : Optimal\n",
      "Objective value     :  3.8199914073e+00\n",
      "HiGHS run time      :          0.00\n",
      "Presolving model\n",
      "Solving the original LP with primal simplex to determine infeasible or unbounded\n",
      "Using EKK primal simplex solver\n",
      "  Iteration        Objective     Infeasibilities num(sum)\n",
      "          0     0.0000000000e+00 Ph1: 1(2.33333); Du: 2(2) 0s\n",
      "          1     2.3333333333e+00 Pr: 0(0); Du: 1(1) 0s\n",
      "Model   status      : Unbounded\n",
      "Simplex   iterations: 1\n",
      "Objective value     :  2.3333333333e+00\n",
      "HiGHS run time      :          0.00\n"
     ]
    }
   ],
   "source": [
    "optimize!(sp_lshaped)"
   ]
  },
  {
   "cell_type": "code",
   "execution_count": 54,
   "id": "f4e0a4e9",
   "metadata": {},
   "outputs": [
    {
     "data": {
      "text/plain": [
       "0.18000859266716662"
      ]
     },
     "execution_count": 54,
     "metadata": {},
     "output_type": "execute_result"
    }
   ],
   "source": [
    "value(sp_lshaped[1,:x])"
   ]
  },
  {
   "cell_type": "code",
   "execution_count": 55,
   "id": "97a729cc",
   "metadata": {},
   "outputs": [
    {
     "data": {
      "text/plain": [
       "Two-Stage Stochastic Model\n",
       "\n",
       "minimize f₀(x) + 𝔼[f(x,ξ)]\n",
       "  x∈𝒳\n",
       "\n",
       "where\n",
       "\n",
       "f(x,ξ) = min  f(y; x, ξ)\n",
       "              y ∈ 𝒴 (x, ξ)\n"
      ]
     },
     "execution_count": 55,
     "metadata": {},
     "output_type": "execute_result"
    }
   ],
   "source": [
    "@stochastic_model simple_model begin\n",
    "    @stage 1 begin\n",
    "        @decision(simple_model, 0 <= x <= 10)\n",
    "        @objective(simple_model, Min, 0*x)\n",
    "    end\n",
    "    @stage 2 begin\n",
    "        @known(simple_model, x)\n",
    "        @uncertain ξ\n",
    "        @recourse(simple_model, 0 <= y[i in 1:2])\n",
    "        @objective(simple_model, Min, y[1] + y[2])\n",
    "        @constraint(simple_model, y[1] - y[2] == ξ - x)\n",
    "    end\n",
    "end"
   ]
  },
  {
   "cell_type": "code",
   "execution_count": 56,
   "id": "36a3d362",
   "metadata": {},
   "outputs": [
    {
     "data": {
      "text/plain": [
       "Stochastic program with:\n",
       " * 1 decision variable\n",
       " * 2 recourse variables\n",
       " * 3 scenarios of type Scenario\n",
       "Structure: Stage-decomposition\n",
       "Solver name: L-shaped with full cut aggregation"
      ]
     },
     "execution_count": 56,
     "metadata": {},
     "output_type": "execute_result"
    }
   ],
   "source": [
    "sp_lshaped = instantiate(simple_model, ξ, optimizer = LShaped.Optimizer)\n",
    "set_optimizer_attribute(sp_lshaped, Aggregator(), Aggregate())\n",
    "set_optimizer_attribute(sp_lshaped, MasterOptimizer(), HiGHS.Optimizer)\n",
    "set_optimizer_attribute(sp_lshaped, SubProblemOptimizer(), HiGHS.Optimizer)\n",
    "\n",
    "sp_lshaped"
   ]
  },
  {
   "cell_type": "code",
   "execution_count": 57,
   "id": "81f835c5",
   "metadata": {},
   "outputs": [
    {
     "name": "stderr",
     "output_type": "stream",
     "text": [
      "┌ Warning: ProgressMeter by default refresh meters with additional information in IJulia via `IJulia.clear_output`, which clears all outputs in the cell. \n",
      "│  - To prevent this behaviour, do `ProgressMeter.ijulia_behavior(:append)`. \n",
      "│  - To disable this warning message, do `ProgressMeter.ijulia_behavior(:clear)`.\n",
      "└ @ ProgressMeter C:\\Users\\slash\\.julia\\packages\\ProgressMeter\\sN2xr\\src\\ProgressMeter.jl:618\n",
      "\r",
      "\u001b[32mL-Shaped Gap  Time: 0:00:00 (5 iterations)\u001b[39m\r\n",
      "\u001b[34m  Objective:       1.0\u001b[39m\r\n",
      "\u001b[34m  Gap:             4.440892098056537e-16\u001b[39m\r\n",
      "\u001b[34m  Number of cuts:  4\u001b[39m\r\n",
      "\u001b[34m  Iterations:      5\u001b[39m\n"
     ]
    }
   ],
   "source": [
    "optimize!(sp_lshaped)"
   ]
  },
  {
   "cell_type": "code",
   "execution_count": 58,
   "id": "4ef75a42",
   "metadata": {},
   "outputs": [
    {
     "data": {
      "text/plain": [
       "1.9999999999999996"
      ]
     },
     "execution_count": 58,
     "metadata": {},
     "output_type": "execute_result"
    }
   ],
   "source": [
    "value(sp_lshaped[1,:x])"
   ]
  },
  {
   "cell_type": "code",
   "execution_count": null,
   "id": "00333707",
   "metadata": {},
   "outputs": [],
   "source": []
  }
 ],
 "metadata": {
  "kernelspec": {
   "display_name": "Julia 1.8.0",
   "language": "julia",
   "name": "julia-1.8"
  },
  "language_info": {
   "file_extension": ".jl",
   "mimetype": "application/julia",
   "name": "julia",
   "version": "1.8.0"
  }
 },
 "nbformat": 4,
 "nbformat_minor": 5
}
