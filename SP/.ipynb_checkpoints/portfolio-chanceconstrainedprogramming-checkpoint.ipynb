{
 "cells": [
  {
   "cell_type": "markdown",
   "metadata": {},
   "source": [
    "# Chance-constrained programming: portfolio optimization example"
   ]
  },
  {
   "cell_type": "code",
   "execution_count": 1,
   "metadata": {},
   "outputs": [],
   "source": [
    "using LinearAlgebra\n",
    "using JuMP\n",
    "using Gurobi\n",
    "using Distributions\n",
    "using Random"
   ]
  },
  {
   "cell_type": "markdown",
   "metadata": {},
   "source": [
    "Adapted from Stephen Boyd and Lieven Vandenberghe, \"Convex Optimization\", Cambridge University Press, 2004, Section 4.7.6, p. 187."
   ]
  },
  {
   "cell_type": "markdown",
   "metadata": {},
   "source": [
    "We consider an investiment portfolio with $n$ assets and random returns, except the last one. We assume that the $n-1$ first returns follow a multivariate distribution with known mean and covariance matrix. The last asset is a risk-free investment product, with a fixed return.\n",
    "\n",
    "The assets characteristics are detailed below."
   ]
  },
  {
   "cell_type": "code",
   "execution_count": 2,
   "metadata": {},
   "outputs": [
    {
     "data": {
      "text/plain": [
       "FullNormal(\n",
       "dim: 3\n",
       "μ: [0.12, 0.1, 0.07]\n",
       "Σ: [0.04 0.006 -0.004; 0.006 0.01 0.0; -0.004 0.0 0.0025]\n",
       ")\n"
      ]
     },
     "execution_count": 2,
     "metadata": {},
     "output_type": "execute_result"
    }
   ],
   "source": [
    "n = 4  # the last asset is a risk-free asset, with a null variance.\n",
    "μ = [.12 ; .10 ; .07 ; .03]\n",
    "Σ = [ 4e-2  6e-3 -4e-3  ;\n",
    "      6e-3  1e-2  0.0  ;\n",
    "      -4e-3  0.0 2.5e-3 ]\n",
    "\n",
    "# We create une multivariate normal of mean μ and covariance matrix Σ\n",
    "d = MvNormal(μ[1:n-1], Σ)"
   ]
  },
  {
   "cell_type": "code",
   "execution_count": 3,
   "metadata": {},
   "outputs": [
    {
     "data": {
      "text/plain": [
       "expectedshortfall (generic function with 2 methods)"
      ]
     },
     "execution_count": 3,
     "metadata": {},
     "output_type": "execute_result"
    }
   ],
   "source": [
    "# Estimate the probability to have a negative return and the resulting expected shortfall.\n",
    "function expectedshortfall(p:: Vector, d:: Distribution, M:: Int = 1000000)\n",
    "    \n",
    "    loss = 0\n",
    "    vloss = 0\n",
    "    for i = 1:M\n",
    "        ξ = [rand(d); μ[n]]\n",
    "        ret = dot(p, ξ)\n",
    "        if ret < 0\n",
    "            loss += 1\n",
    "            vloss += ret\n",
    "        end\n",
    "    end\n",
    "\n",
    "    return loss/M, vloss/loss\n",
    "    \n",
    "end"
   ]
  },
  {
   "cell_type": "markdown",
   "metadata": {},
   "source": [
    "## Portfolio with uniform repartition"
   ]
  },
  {
   "cell_type": "markdown",
   "metadata": {},
   "source": [
    "We first consider the naive strategy where the same amount is invested in each asset."
   ]
  },
  {
   "cell_type": "code",
   "execution_count": 4,
   "metadata": {},
   "outputs": [
    {
     "data": {
      "text/plain": [
       "0.08000000000000002"
      ]
     },
     "execution_count": 4,
     "metadata": {},
     "output_type": "execute_result"
    }
   ],
   "source": [
    "# Expected return with a uniform repartition.\n",
    "p = ones(n)./n\n",
    "er = sum(p[i]*μ[i] for i = 1:n)"
   ]
  },
  {
   "cell_type": "markdown",
   "metadata": {},
   "source": [
    "We now compute the loss probability and the average loss when a loss occurs."
   ]
  },
  {
   "cell_type": "code",
   "execution_count": 5,
   "metadata": {},
   "outputs": [
    {
     "data": {
      "text/plain": [
       "(0.089092, -0.027512360207700128)"
      ]
     },
     "execution_count": 5,
     "metadata": {},
     "output_type": "execute_result"
    }
   ],
   "source": [
    "expectedshortfall(p, d)"
   ]
  },
  {
   "cell_type": "markdown",
   "metadata": {},
   "source": [
    "## Optimal decision without loss constraint"
   ]
  },
  {
   "cell_type": "markdown",
   "metadata": {},
   "source": [
    "We now aim to maximize the expected return, without any consideration for the potential loss."
   ]
  },
  {
   "cell_type": "code",
   "execution_count": 6,
   "metadata": {},
   "outputs": [
    {
     "name": "stdout",
     "output_type": "stream",
     "text": [
      "Academic license - for non-commercial use only - expires 2021-10-29\n",
      "Max 0.12 p[1] + 0.1 p[2] + 0.07 p[3] + 0.03 p[4]\n",
      "Subject to\n",
      " p[1] + p[2] + p[3] + p[4] <= 1.0\n",
      " p[1] >= -0.1\n",
      " p[2] >= -0.1\n",
      " p[3] >= -0.1\n",
      " p[4] >= -0.1\n",
      "\n"
     ]
    }
   ],
   "source": [
    "m = Model(with_optimizer(Gurobi.Optimizer))\n",
    "\n",
    "@variable(m, p[1:n] >= -0.1)\n",
    "@constraint(m, sum(p[i] for i = 1:n) <= 1)\n",
    "\n",
    "@objective(m, Max, sum(p[i]*μ[i] for i = 1:n))\n",
    "\n",
    "println(m)"
   ]
  },
  {
   "cell_type": "code",
   "execution_count": 7,
   "metadata": {},
   "outputs": [
    {
     "name": "stdout",
     "output_type": "stream",
     "text": [
      "Gurobi Optimizer version 9.1.2 build v9.1.2rc0 (win64)\r\n",
      "Thread count: 6 physical cores, 12 logical processors, using up to 12 threads\r\n",
      "Optimize a model with 1 rows, 4 columns and 4 nonzeros\r\n",
      "Model fingerprint: 0xcc387da0\r\n",
      "Coefficient statistics:\r\n",
      "  Matrix range     [1e+00, 1e+00]\r\n",
      "  Objective range  [3e-02, 1e-01]\r\n",
      "  Bounds range     [1e-01, 1e-01]\r\n",
      "  RHS range        [1e+00, 1e+00]\r\n",
      "Presolve removed 1 rows and 4 columns\r\n",
      "Presolve time: 0.06s\r\n",
      "Presolve: All rows and columns removed\r\n",
      "Iteration    Objective       Primal Inf.    Dual Inf.      Time\r\n",
      "       0    1.3600000e-01   0.000000e+00   0.000000e+00      0s\r\n",
      "\r\n",
      "Solved in 0 iterations and 0.06 seconds\r\n",
      "Optimal objective  1.360000000e-01\r\n",
      "\r\n",
      "User-callback calls 26, time in user-callback 0.01 sec\r\n"
     ]
    }
   ],
   "source": [
    "optimize!(m)"
   ]
  },
  {
   "cell_type": "code",
   "execution_count": 8,
   "metadata": {},
   "outputs": [
    {
     "data": {
      "text/plain": [
       "4-element Vector{Float64}:\n",
       "  1.3000000000000003\n",
       " -0.1\n",
       " -0.1\n",
       " -0.1"
      ]
     },
     "execution_count": 8,
     "metadata": {},
     "output_type": "execute_result"
    }
   ],
   "source": [
    "value.(p)"
   ]
  },
  {
   "cell_type": "markdown",
   "metadata": {},
   "source": [
    "Not surprisingly, we invest everything is the asset having the highest return rate, even borrowing from the lower return rate asset."
   ]
  },
  {
   "cell_type": "code",
   "execution_count": 9,
   "metadata": {},
   "outputs": [
    {
     "data": {
      "text/plain": [
       "0.136"
      ]
     },
     "execution_count": 9,
     "metadata": {},
     "output_type": "execute_result"
    }
   ],
   "source": [
    "objective_value(m)"
   ]
  },
  {
   "cell_type": "markdown",
   "metadata": {},
   "source": [
    "The loss probability is however close to 30%, and the average lost amount is significantly more important if a loss occurs."
   ]
  },
  {
   "cell_type": "code",
   "execution_count": 10,
   "metadata": {},
   "outputs": [
    {
     "data": {
      "text/plain": [
       "(0.300631, -0.16481970084804037)"
      ]
     },
     "execution_count": 10,
     "metadata": {},
     "output_type": "execute_result"
    }
   ],
   "source": [
    "expectedshortfall(value.(p), d)"
   ]
  },
  {
   "cell_type": "markdown",
   "metadata": {},
   "source": [
    "## Optimal decision with loss constraint"
   ]
  },
  {
   "cell_type": "markdown",
   "metadata": {},
   "source": [
    "We add the constraint that we want to limit the risk by accepting a loss with a maximum probability of 0.05."
   ]
  },
  {
   "cell_type": "code",
   "execution_count": 11,
   "metadata": {},
   "outputs": [
    {
     "data": {
      "text/plain": [
       "0.6079568319117693"
      ]
     },
     "execution_count": 11,
     "metadata": {},
     "output_type": "execute_result"
    }
   ],
   "source": [
    "maxloss = 0\n",
    "\n",
    "α = 0.95\n",
    "z = 1/quantile(Normal(0,1), α)"
   ]
  },
  {
   "cell_type": "markdown",
   "metadata": {},
   "source": [
    "We build the second-order cone constraint corresponding to the joint chance constraint."
   ]
  },
  {
   "cell_type": "code",
   "execution_count": null,
   "metadata": {},
   "outputs": [],
   "source": [
    "A = Σ^0.5"
   ]
  },
  {
   "cell_type": "code",
   "execution_count": null,
   "metadata": {
    "scrolled": false
   },
   "outputs": [],
   "source": [
    "# || x || <= t, t >= 0\n",
    "# https://jump.dev/JuMP.jl/stable/reference/constraints/#JuMP.SecondOrderCone\n",
    "@constraint(m, [z*(-maxloss+sum(μ[i]*p[i] for i = 1:n)); (Σ^0.5)*p[1:n-1]] in SecondOrderCone())\n",
    "\n",
    "println(m)"
   ]
  },
  {
   "cell_type": "code",
   "execution_count": null,
   "metadata": {},
   "outputs": [],
   "source": [
    "optimize!(m)"
   ]
  },
  {
   "cell_type": "code",
   "execution_count": null,
   "metadata": {},
   "outputs": [],
   "source": [
    "sol = value.(p)"
   ]
  },
  {
   "cell_type": "code",
   "execution_count": null,
   "metadata": {},
   "outputs": [],
   "source": [
    "objective_value(m)"
   ]
  },
  {
   "cell_type": "markdown",
   "metadata": {},
   "source": [
    "Without any surprise, the expected return is less than without the loss constraint, but is still higher than with the uniform repartition. We can also see that we use the risk-free asset as a borrowing tool. The risk to lose money is limited to 5%, as desired, and is less than any other strategy. Interestingly, the average loss is also the smallest one."
   ]
  },
  {
   "cell_type": "code",
   "execution_count": null,
   "metadata": {},
   "outputs": [],
   "source": [
    "expectedshortfall(value.(p), d)"
   ]
  },
  {
   "cell_type": "code",
   "execution_count": null,
   "metadata": {},
   "outputs": [],
   "source": []
  }
 ],
 "metadata": {
  "kernelspec": {
   "display_name": "Julia 1.6.2",
   "language": "julia",
   "name": "julia-1.6"
  },
  "language_info": {
   "file_extension": ".jl",
   "mimetype": "application/julia",
   "name": "julia",
   "version": "1.6.2"
  }
 },
 "nbformat": 4,
 "nbformat_minor": 2
}
