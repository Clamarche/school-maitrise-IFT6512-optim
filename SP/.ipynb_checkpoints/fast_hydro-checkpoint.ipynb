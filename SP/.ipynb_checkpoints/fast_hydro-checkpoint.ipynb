{
 "cells": [
  {
   "cell_type": "markdown",
   "metadata": {},
   "source": [
    "# FAST: the hydro-thermal problem"
   ]
  },
  {
   "cell_type": "markdown",
   "metadata": {},
   "source": [
    "Copy-paste from https://odow.github.io/SDDP.jl/latest/examples/FAST_hydro_thermal/"
   ]
  },
  {
   "cell_type": "markdown",
   "metadata": {},
   "source": [
    "We a consider a toy hydro-thermal example, adapted from https://github.com/leopoldcambier/FAST/blob/master/examples/hydro%20thermal/hydro_thermal.m\n",
    "\n",
    "The uncertainty is the amount of rainfall at each stage. Rainfall can either be high (10) or small (2).\n",
    "\n",
    "We can use some fuel at a price $C$ (5) to meet demand $d$ (6). The quantity of purchased fuel at stage 1 is denoted by $p_1$.\n",
    "\n",
    "From stage to stage, water can been stored in the reservoir, but there is a tank limit V (8). We denote the stored water level at then of stage 1 by $x_1$, the used quantity at stage $1$ by $y_1$.\n",
    "\n",
    "With these values, in the case of a two stage problem, the value function $V(x_1)$ at stage 1 is\n",
    "\\begin{align*}\n",
    "V(x_1) &= 30 - E\\left[5 \\min \\{ x_1 + \\xi, 6 \\} \\right] \\\\ \n",
    "       &= 30 - 0.5 ( 5 \\min \\{ x_1+2,6 \\} + 5 \\min \\{ x_1+10,6 \\} ) \\\\\n",
    "       &= 15 - 5/2 \\min \\{ x_1+2, 6 \\}\n",
    "\\end{align*}\n",
    "The problem at stage 1 is then\n",
    "\\begin{align*}\n",
    "  \\min\\ & 5 p_1 + V(x_1) \\\\\n",
    "  \\text{s.t. } & x_1 \\leq 8 \\\\\n",
    "  & x_1 \\leq 6 - y_1 \\\\\n",
    "  & p_1 + y_1 \\geq 6\n",
    "\\end{align*}\n",
    "The solution at stage 1 can then trivially be found to be\n",
    "$$\n",
    "   x_1 = 0,\\ y_1 = 6,\\ p_1 = 0\n",
    "$$\n",
    "for an expected cost of 10."
   ]
  },
  {
   "cell_type": "code",
   "execution_count": null,
   "metadata": {},
   "outputs": [],
   "source": [
    "import Pkg; Pkg.add(\"SDDP\")"
   ]
  },
  {
   "cell_type": "code",
   "execution_count": 1,
   "metadata": {},
   "outputs": [
    {
     "ename": "LoadError",
     "evalue": "ArgumentError: Package SDDP not found in current path:\n- Run `import Pkg; Pkg.add(\"SDDP\")` to install the SDDP package.\n",
     "output_type": "error",
     "traceback": [
      "ArgumentError: Package SDDP not found in current path:\n- Run `import Pkg; Pkg.add(\"SDDP\")` to install the SDDP package.\n",
      "",
      "Stacktrace:",
      " [1] require(into::Module, mod::Symbol)",
      "   @ Base .\\loading.jl:893",
      " [2] eval",
      "   @ .\\boot.jl:360 [inlined]",
      " [3] include_string(mapexpr::typeof(REPL.softscope), mod::Module, code::String, filename::String)",
      "   @ Base .\\loading.jl:1116"
     ]
    }
   ],
   "source": [
    "using SDDP, GLPK"
   ]
  },
  {
   "cell_type": "code",
   "execution_count": 2,
   "metadata": {},
   "outputs": [],
   "source": [
    "using Test"
   ]
  },
  {
   "cell_type": "code",
   "execution_count": 3,
   "metadata": {},
   "outputs": [
    {
     "ename": "LoadError",
     "evalue": "LoadError: UndefVarError: @variable not defined\nin expression starting at In[3]:7",
     "output_type": "error",
     "traceback": [
      "LoadError: UndefVarError: @variable not defined\nin expression starting at In[3]:7",
      "",
      "Stacktrace:",
      " [1] top-level scope",
      "   @ :0",
      " [2] eval",
      "   @ .\\boot.jl:360 [inlined]",
      " [3] include_string(mapexpr::typeof(REPL.softscope), mod::Module, code::String, filename::String)",
      "   @ Base .\\loading.jl:1116"
     ]
    }
   ],
   "source": [
    "function fast_hydro_thermal(solver = GLPK.Optimizer)\n",
    "    model = SDDP.PolicyGraph(\n",
    "        SDDP.LinearGraph(2),\n",
    "        bellman_function = SDDP.BellmanFunction(lower_bound = 0.0),\n",
    "        optimizer = solver,\n",
    "    ) do sp, t\n",
    "        @variable(sp, 0 <= x <= 8, SDDP.State, initial_value = 0.0)\n",
    "        @variables(sp, begin\n",
    "            y >= 0\n",
    "            p >= 0\n",
    "            ξ\n",
    "        end)\n",
    "        @constraints(sp, begin\n",
    "            p + y >= 6\n",
    "            x.out <= x.in - y + ξ\n",
    "        end)\n",
    "        \n",
    "        # We define the rainfall levels.\n",
    "        #The level is deterministic at stage 1, but can take one of two values at subsequent stages.\n",
    "        RAINFALL = (t == 1 ? [6] : [2, 10])\n",
    "        \n",
    "        SDDP.parameterize(sp, RAINFALL) do ω\n",
    "            JuMP.fix(ξ, ω)\n",
    "        end\n",
    "        @stageobjective(sp, 5 * p)\n",
    "    end\n",
    "\n",
    "    det = SDDP.deterministic_equivalent(model, GLPK.Optimizer)\n",
    "    JuMP.optimize!(det)\n",
    "    @test JuMP.objective_value(det) == 10\n",
    "\n",
    "    SDDP.train(model, iteration_limit = 10, log_frequency = 5)\n",
    "    @test SDDP.calculate_bound(model) == 10\n",
    "    return\n",
    "end\n",
    "\n",
    "fast_hydro_thermal()"
   ]
  },
  {
   "cell_type": "code",
   "execution_count": null,
   "metadata": {},
   "outputs": [],
   "source": []
  }
 ],
 "metadata": {
  "kernelspec": {
   "display_name": "Julia 1.6.2",
   "language": "julia",
   "name": "julia-1.6"
  },
  "language_info": {
   "file_extension": ".jl",
   "mimetype": "application/julia",
   "name": "julia",
   "version": "1.6.2"
  }
 },
 "nbformat": 4,
 "nbformat_minor": 2
}
