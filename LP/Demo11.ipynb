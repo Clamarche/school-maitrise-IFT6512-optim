{
 "cells": [
  {
   "cell_type": "markdown",
   "metadata": {},
   "source": [
    "# 1. Algorithme de points intérieurs"
   ]
  },
  {
   "cell_type": "code",
   "execution_count": 1,
   "metadata": {},
   "outputs": [],
   "source": [
    "using LinearAlgebra"
   ]
  },
  {
   "cell_type": "code",
   "execution_count": 2,
   "metadata": {},
   "outputs": [],
   "source": [
    "using JuMP, Gurobi"
   ]
  },
  {
   "cell_type": "code",
   "execution_count": 4,
   "metadata": {},
   "outputs": [
    {
     "name": "stdout",
     "output_type": "stream",
     "text": [
      "Academic license - for non-commercial use only\n",
      "Max 100 x[1] + 10 x[2] + x[3]\n",
      "Subject to\n",
      " x[1] <= 1.0\n",
      " 20 x[1] + x[2] <= 100.0\n",
      " 200 x[1] + 20 x[2] + x[3] <= 10000.0\n",
      " x[1] >= 0.0\n",
      " x[2] >= 0.0\n",
      " x[3] >= 0.0\n"
     ]
    }
   ],
   "source": [
    "# Klee-Minty problem\n",
    "\n",
    "n = 3\n",
    "\n",
    "m = Model(with_optimizer(Gurobi.Optimizer))\n",
    "\n",
    "@variable(m, x[1:n] >= 0)\n",
    "for i in 1:n\n",
    "   @constraint(m, 2*sum(10^(i-j)*x[j] for j = 1:i-1)+x[i] <= 100^(i-1))\n",
    "end\n",
    "@objective(m, Max, sum(10^(n-j)*x[j] for j = 1:n))\n",
    "\n",
    "print(m)"
   ]
  },
  {
   "cell_type": "code",
   "execution_count": 8,
   "metadata": {},
   "outputs": [
    {
     "name": "stdout",
     "output_type": "stream",
     "text": [
      "Optimize a model with 3 rows, 3 columns and 6 nonzeros\r\n",
      "Coefficient statistics:\r\n",
      "  Matrix range     [1e+00, 2e+02]\r\n",
      "  Objective range  [1e+00, 1e+02]\r\n",
      "  Bounds range     [0e+00, 0e+00]\r\n",
      "  RHS range        [1e+00, 1e+04]\r\n",
      "\r\n",
      "Solved in 0 iterations and 0.00 seconds\r\n",
      "Optimal objective  1.000000000e+04\r\n"
     ]
    }
   ],
   "source": [
    "status = optimize!(m)"
   ]
  },
  {
   "cell_type": "code",
   "execution_count": 10,
   "metadata": {},
   "outputs": [
    {
     "data": {
      "text/plain": [
       "3-element Array{Float64,1}:\n",
       "     0.0\n",
       "     0.0\n",
       " 10000.0"
      ]
     },
     "execution_count": 10,
     "metadata": {},
     "output_type": "execute_result"
    }
   ],
   "source": [
    "value.(x)"
   ]
  },
  {
   "cell_type": "code",
   "execution_count": 11,
   "metadata": {},
   "outputs": [
    {
     "data": {
      "text/plain": [
       "3-element Array{Int64,1}:\n",
       "     1\n",
       "   100\n",
       " 10000"
      ]
     },
     "execution_count": 11,
     "metadata": {},
     "output_type": "execute_result"
    }
   ],
   "source": [
    "c = [[-10^(n-i) for i = 1:n]; [0 for i = 1:n]]\n",
    "b = [100^(i-1) for i = 1:n]"
   ]
  },
  {
   "cell_type": "code",
   "execution_count": 12,
   "metadata": {},
   "outputs": [],
   "source": [
    "A = [1 [0*i for i in 1:n-1]']\n",
    "for i = 2:n\n",
    "    A = [A; [[2*10^(i-j) for j in 1:i-1]' 1 [0 for i = 1:n-i]']]\n",
    "end\n",
    "B = A\n",
    "A = [A I]\n",
    "x = [0.5]\n",
    "for i = 2:n\n",
    "    x = [ x ; (0.5*b[i]-dot(A[i,1:i-1],x[1:i-1]))]\n",
    "end"
   ]
  },
  {
   "cell_type": "code",
   "execution_count": 13,
   "metadata": {},
   "outputs": [
    {
     "data": {
      "text/plain": [
       "3-element Array{Float64,1}:\n",
       "     1.0\n",
       "   100.0\n",
       " 10000.0"
      ]
     },
     "execution_count": 13,
     "metadata": {},
     "output_type": "execute_result"
    }
   ],
   "source": [
    "x = [ x; b-B*x ]\n",
    "A*x"
   ]
  },
  {
   "cell_type": "code",
   "execution_count": 14,
   "metadata": {},
   "outputs": [
    {
     "data": {
      "text/plain": [
       "6-element Array{Int64,1}:\n",
       " 121\n",
       "  11\n",
       "   0\n",
       "   1\n",
       "   1\n",
       "   1"
      ]
     },
     "execution_count": 14,
     "metadata": {},
     "output_type": "execute_result"
    }
   ],
   "source": [
    "m, n = size(A)\n",
    "y = [-1 for i = 1:m]\n",
    "s = c-A'y"
   ]
  },
  {
   "cell_type": "code",
   "execution_count": 29,
   "metadata": {},
   "outputs": [
    {
     "data": {
      "text/plain": [
       "6-element Array{Float64,1}:\n",
       "    0.5\n",
       "   40.0\n",
       " 4100.0\n",
       "    0.5\n",
       "   50.0\n",
       " 5000.0"
      ]
     },
     "execution_count": 29,
     "metadata": {},
     "output_type": "execute_result"
    }
   ],
   "source": [
    "x"
   ]
  },
  {
   "cell_type": "code",
   "execution_count": 15,
   "metadata": {},
   "outputs": [
    {
     "data": {
      "text/plain": [
       "3-element Array{Int64,1}:\n",
       " -1\n",
       " -1\n",
       " -1"
      ]
     },
     "execution_count": 15,
     "metadata": {},
     "output_type": "execute_result"
    }
   ],
   "source": [
    "y"
   ]
  },
  {
   "cell_type": "code",
   "execution_count": 31,
   "metadata": {},
   "outputs": [
    {
     "data": {
      "text/plain": [
       "6-element Array{Float64,1}:\n",
       "    0.5\n",
       "   40.0\n",
       " 4100.0\n",
       "    0.5\n",
       "   50.0\n",
       " 5000.0"
      ]
     },
     "execution_count": 31,
     "metadata": {},
     "output_type": "execute_result"
    }
   ],
   "source": [
    "x0 = x"
   ]
  },
  {
   "cell_type": "code",
   "execution_count": 16,
   "metadata": {},
   "outputs": [
    {
     "data": {
      "text/plain": [
       "primal_path_following (generic function with 1 method)"
      ]
     },
     "execution_count": 16,
     "metadata": {},
     "output_type": "execute_result"
    }
   ],
   "source": [
    "## Adapted from https://github.com/chkwon/jpor_codes/blob/master/chap7/primal_path_following.jl\n",
    "\n",
    "function primal_path_following(c,A,b,x0;\n",
    "            mu=0.9, alpha=0.9, epsilon=1e-9, max_iter=1000)\n",
    "  # Initialization\n",
    "  x = x0\n",
    "  n = length(x)\n",
    "  m = length(b)\n",
    "  e = ones(n,1)\n",
    "\n",
    "  # Preparing variables for the trajectories\n",
    "  trace = copy(x)\n",
    "    \n",
    "  for i=1:max_iter\n",
    "    # Computing\n",
    "    invX = Diagonal(1 ./ x)\n",
    "    mu = alpha * mu\n",
    "\n",
    "    # Solving the linear system\n",
    "    LHS = [ mu*invX^2       -A'     ;\n",
    "               A          zeros(m,m)  ]\n",
    "    RHS = [ mu*invX*e - c ;\n",
    "            zeros(m,1) ]\n",
    "    sol = LHS \\ RHS\n",
    "\n",
    "    # Update\n",
    "    d = sol[1:n]\n",
    "    p = sol[n+1:end]\n",
    "    x = x + d\n",
    "    s = c - A'*p\n",
    "\n",
    "    # Recording the trajectories of x1 and x2\n",
    "    trace = [trace x]\n",
    "\n",
    "    # Optimality check\n",
    "    if dot(x,s) < epsilon\n",
    "      break\n",
    "    end\n",
    "  end\n",
    "\n",
    "  return trace\n",
    "end"
   ]
  },
  {
   "cell_type": "code",
   "execution_count": 18,
   "metadata": {},
   "outputs": [
    {
     "data": {
      "text/plain": [
       "6×2 Array{Float64,2}:\n",
       "    0.5      1.09411  \n",
       "   40.0   2373.52     \n",
       " 4100.0      1.23949e7\n",
       "    0.5     -0.0941119\n",
       "   50.0  -2295.4      \n",
       " 5000.0     -1.24326e7"
      ]
     },
     "execution_count": 18,
     "metadata": {},
     "output_type": "execute_result"
    }
   ],
   "source": [
    "x0 = x\n",
    "trajectory = primal_path_following(c, A, b, x0)"
   ]
  },
  {
   "cell_type": "markdown",
   "metadata": {},
   "source": [
    "L'implantation du chemin primale échoue comme le pas est trop long, de sorte que les contraintes de non-négativité ne sont pas satisfaites."
   ]
  },
  {
   "cell_type": "code",
   "execution_count": 21,
   "metadata": {},
   "outputs": [
    {
     "data": {
      "text/plain": [
       "primaldual_path_following (generic function with 6 methods)"
      ]
     },
     "execution_count": 21,
     "metadata": {},
     "output_type": "execute_result"
    }
   ],
   "source": [
    "function primaldual_path_following(c,A,b,x,y,s, μ = 100, α = 0.1, γ=0.1, epsilon=1e-9, max_iter=1000)\n",
    "\n",
    "    for ν = 1:10\n",
    "\n",
    "        iter = max_iter\n",
    "\n",
    "        for k = 1:max_iter\n",
    "            \n",
    "            X = diagm(x)\n",
    "            S = diagm(s)\n",
    "        H = [ zeros(n,n) A' I ;\n",
    "              A zeros(m,m) zeros(m,n);\n",
    "              S zeros(n,m) X ]\n",
    "        t = [ zeros(n) ; zeros(m); μ*ones(n)-X*S*ones(n) ]\n",
    "        Δ = H\\t\n",
    "        α = 0.01\n",
    "        new = [x; y; s]+α*Δ\n",
    "        x = new[1:n]\n",
    "        y = new[n+1:n+m]\n",
    "        s = new[n+m+1:2*n+m]\n",
    "        if (norm(x.*s-μ*ones(n)) <= 1/10^(ν/2))\n",
    "            iter = k\n",
    "            break\n",
    "        end\n",
    "\n",
    "        end\n",
    "\n",
    "        println(ν, \". \", iter, \" \", x.*s)\n",
    "        μ = γ*μ\n",
    "\n",
    "    end\n",
    "    \n",
    "    return x\n",
    "end"
   ]
  },
  {
   "cell_type": "code",
   "execution_count": 22,
   "metadata": {},
   "outputs": [
    {
     "name": "stdout",
     "output_type": "stream",
     "text": [
      "1. 961 [99.99746053993127, 100.02171400967336, 99.993648579146, 99.99365835390805, 99.99680974204617, 100.31302024100387]\n",
      "2. 767 [10.040595161153496, 10.040459669709007, 10.040389675214719, 10.040238718109789, 10.040340237760457, 10.040549468526802]\n",
      "3. 652 [1.0129063168319479, 1.0128939366376868, 1.0128918505520559, 1.0128808919398564, 1.0128890311747112, 1.012892753552498]\n",
      "4. 539 [0.1040536340599087, 0.10405317170454113, 0.1040530992214235, 0.1040526979588318, 0.1040529942735418, 0.10405312545627189]\n",
      "5. 427 [0.011287089171121192, 0.011287069583964754, 0.011287066541942616, 0.011287049596399033, 0.011287062092694734, 0.011287067624233314]\n",
      "6. 322 [0.0014044135457085846, 0.0014044123316333727, 0.001404412143414101, 0.001404411093730764, 0.0014044118675834777, 0.001404412210182854]\n",
      "7. 231 [0.00022798094572352786, 0.00022798080987718126, 0.00022798078882489678, 0.0002279806713888193, 0.00022798075796011253, 0.00022798079628831363]\n",
      "8. 167 [5.069078232691281e-5, 5.069075616673979e-5, 5.069075211300507e-5, 5.0690729498804e-5, 5.0690746169263215e-5, 5.0690753549932174e-5]\n",
      "9. 135 [1.3794611605412601e-5, 1.3794604817118342e-5, 1.3794603765237766e-5, 1.3794597897129312e-5, 1.379460222289475e-5, 1.3794604138085425e-5]\n",
      "10. 121 [4.1588992043054945e-6, 4.158897188000526e-6, 4.1588968755656426e-6, 4.158895132583992e-6, 4.158896417448224e-6, 4.158896986309729e-6]\n"
     ]
    },
    {
     "data": {
      "text/plain": [
       "6-element Array{Float64,1}:\n",
       "    4.1588989932890645e-8\n",
       "    4.1588971672448483e-7\n",
       " 9999.999979205506       \n",
       "    0.9999999584110095   \n",
       "   99.99999875232997     \n",
       "    4.158896984580097e-6 "
      ]
     },
     "execution_count": 22,
     "metadata": {},
     "output_type": "execute_result"
    }
   ],
   "source": [
    "primaldual_path_following(c,A,b,x0,y,s)"
   ]
  },
  {
   "cell_type": "markdown",
   "metadata": {},
   "source": [
    "On converge, mais c'est extrêmement lent!"
   ]
  },
  {
   "cell_type": "markdown",
   "metadata": {},
   "source": [
    "# Question 2"
   ]
  },
  {
   "cell_type": "markdown",
   "metadata": {},
   "source": [
    "Nous considérons un problème de programmation linéaire sous forme standard et\n",
    "nous supposons que les ensemble réalisables du primal et du dual ont des\n",
    "intérieurs non vides. Montrer que si l'ensemble réalisable du primal est borné,\n",
    "alors l'ensemble réalisable du dual ne peut pas être borné. Est-il possible\n",
    "d'avoir des ensembles réalisables non bornés pour le primal et le dual?\n",
    "\n",
    "Soit $\\left(x(\\mu), y(\\mu), s(\\mu) \\right)$, $0<\\mu<\\infty$ Si l'ensemble réalisable de primal\n",
    "est borné, $x(\\mu)$ converge vers le centre analytique de l'ensemble réalisable\n",
    "du primal. Dès lors, $x(\\mu)$ tend vers un certain $x^{\\star} $ pour $\\mu \\to\n",
    "\\infty$, avec $x^{\\star} $ fini.  D'autre part, on sait que\n",
    "\n",
    "\\begin{align*}\n",
    "c^{t} x(\\mu) - b^{t} y(\\mu) = \\eta \\mu\n",
    "\\end{align*}\n",
    "Dès lors, pour $\\mu \\to \\infty$, \n",
    "\\begin{align*}\n",
    "\\lim_{\\mu\\to \\infty} b^t y(\\mu) = c^t x^{\\star} - \\infty = - \\infty\n",
    "\\end{align*}\n",
    "Dès lors, $y(\\mu)$ ne peut pas converger vers un certain $y^{\\star} $ fini comme $\\mu$ tend vers l'infini. \n",
    "Or ce serait le cas si l'ensemble dual était borné.\n",
    "\n",
    "On peut avoir des ensembles non bornés pour le primal et le dual. Considérions la paire\n",
    "\\begin{align*}\n",
    "&\\min\\ x_1 + x_2 \\\\\n",
    "&\\begin{aligned}\n",
    "\\text{s.a.} &\\\\\n",
    "&  x_1 = 1 ,\\\\\n",
    "& x_1, x_2 \\ge 0.\n",
    "\\end{aligned}\n",
    "\\end{align*}\n",
    "\n",
    "\\begin{align*}\n",
    "&\\max\\ \\lambda \\\\\n",
    "&\\begin{aligned}\n",
    "\\text{s.a.} &\\\\\n",
    "& \\lambda \\le 1 ,\\\\\n",
    "\\end{aligned}\n",
    "\\end{align*}\n",
    "Les deux ensemble ont des intérieurs non vides et ne sont pas bornés."
   ]
  },
  {
   "cell_type": "markdown",
   "metadata": {},
   "source": [
    "# Question 3"
   ]
  },
  {
   "cell_type": "markdown",
   "metadata": {},
   "source": [
    "Considérons le polyhèdre $P = \\{ x \\,|\\, Ax \\leq b \\}$. Supposons que $P$ est borné et que son intérieur est non-vide, ou en d'autres termes, qu'il existe $x$ tel que $Ax < b$.\n",
    "\n",
    "- Écrivez la fonction potentiel à minimiser pour trouver le centre analytique de $P$.\n",
    "- En annulant le gradient de la fonction potentiel, écrivez le système non-linéaire à résoudre pour trouver le centre analytique.\n",
    "- Le système obtenu au point précédent peut être résolu à l'aide de la méthode de Newton. Écrivez une itération de la résolution du système pas la méthode de Newton."
   ]
  },
  {
   "cell_type": "markdown",
   "metadata": {},
   "source": [
    "Notons $a_i^T$ la $i^e$ ligne de $A$. La contrainte $Ax \\leq b$ peut se réécrire\n",
    "$$\n",
    "b - a_i^Tx \\geq 0,\\ i = 1,\\ldots,m,\n",
    "$$\n",
    "en supposant que $A \\in R^{m \\times n}$.\n",
    "\n",
    "La fonction potentiel à minimiser s'écrit dès lors\n",
    "$$\n",
    "\\Psi(x) = -\\sum_{i = 1}^m \\log(b_i-a_i^Tx)\n",
    "$$\n",
    "Son gradient s'écrit\n",
    "$$\n",
    "\\nabla_x \\Psi(x) =\n",
    "\\begin{pmatrix}\n",
    " \\sum_{i = 1}^m \\frac{a_{i1}}{b_i-a_i^Tx} \\\\\n",
    " \\sum_{i = 1}^m \\frac{a_{i2}}{b_i-a_i^Tx} \\\\\n",
    "\\vdots \\\\\n",
    " \\sum_{i = 1}^m \\frac{a_{in}}{b_i-a_i^Tx}\n",
    "\\end{pmatrix}\n",
    "=\n",
    " \\sum_{i = 1}^m \\frac{a_{i}}{b_i-a_i^Tx} \\\\\n",
    "= A^T\\begin{pmatrix}\n",
    "\\frac{1}{b-a_1x} \\\\\n",
    "\\frac{1}{b-a_2x} \\\\\n",
    "\\vdots \\\\\n",
    "\\frac{1}{b-a_mx}\n",
    "\\end{pmatrix}\n",
    "$$\n",
    "que nous cherchons à annuler.\n",
    "En posant\n",
    "$$\n",
    "s_i = b_i - a_i^Tx, \\quad y_i = \\frac{1}{s_i},\\ i = 1,\\ldots,m,\n",
    "$$\n",
    "le système peut se réécrire comme\n",
    "$$\n",
    "A^Ty = 0,\\ \\textrm{avec}\\ y = \\begin{pmatrix} y_1 \\\\ \\vdots \\\\ y_m \\end{pmatrix}.\n",
    "$$\n",
    "\n",
    "Pour obtenir l'itération de Newton, nous devons tout d'abord écrire la matrice hessienne de la fonction potentiel:\n",
    "$$\n",
    "\\nabla^2_{xx} \\Psi(x) =\n",
    "\\sum_{i = 1}^m \\frac{a_{i}a_i^T}{(b_i-a_i^Tx)^2} = A^TS^{-2}A = A^TY^2A,\n",
    "$$\n",
    "Une itération de Newton consiste à prendre\n",
    "$$\n",
    "x^+ = x - (\\nabla^2_{xx} \\Psi(x))^{-1}\\nabla_x \\Psi(x) = x - (A^TY^2A)^{-1}A^Ty.\n",
    "$$"
   ]
  }
 ],
 "metadata": {
  "kernelspec": {
   "display_name": "Julia 1.2.0",
   "language": "julia",
   "name": "julia-1.2"
  },
  "language_info": {
   "file_extension": ".jl",
   "mimetype": "application/julia",
   "name": "julia",
   "version": "1.3.1"
  }
 },
 "nbformat": 4,
 "nbformat_minor": 2
}
