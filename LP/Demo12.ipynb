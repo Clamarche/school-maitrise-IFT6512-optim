{
 "cells": [
  {
   "cell_type": "markdown",
   "metadata": {},
   "source": [
    "# Programmation linéaire en nombres entiers"
   ]
  },
  {
   "cell_type": "code",
   "execution_count": null,
   "metadata": {},
   "outputs": [],
   "source": [
    "using LinearAlgebra\n",
    "using JuMP, Gurobi"
   ]
  },
  {
   "cell_type": "markdown",
   "metadata": {},
   "source": [
    "Les logiciels commerciaux supportent, le plus souvent très efficacement, la programmation linéaire mixte en nombre entiers. Considérons par exemple le problème ci-dessous."
   ]
  },
  {
   "cell_type": "code",
   "execution_count": null,
   "metadata": {},
   "outputs": [],
   "source": [
    "m = Model(with_optimizer(Gurobi.Optimizer))\n",
    "\n",
    "# Variables\n",
    "@variable(m, 0<= x1 <=10)\n",
    "@variable(m, x2 >=0, Int)\n",
    "@variable(m, x3, Bin)\n",
    "\n",
    "# Fonction objectif\n",
    "@objective(m, Max, x1 + 2x2 + 5x3)\n",
    "\n",
    "# Contraintes\n",
    "@constraint(m, constraint1, -x1 +  x2 + 3x3 <= -5)\n",
    "@constraint(m, constraint2,  x1 + 3x2 - 7x3 <= 10)\n",
    "\n",
    "# Modèle complet\n",
    "print(m)\n",
    "\n",
    "# Résoudre le problème\n",
    "status = optimize!(m)\n",
    "\n",
    "println(\"Optimal Solutions:\")\n",
    "println(\"x1 = \", value(x1), \" x2 = \", value(x2), \" x3 = \", value(x3))"
   ]
  },
  {
   "cell_type": "markdown",
   "metadata": {},
   "source": [
    "# Question 2"
   ]
  },
  {
   "cell_type": "markdown",
   "metadata": {},
   "source": [
    "Soit le problème de programmation linéaire en nombres entiers suivant\n",
    "\\begin{align*}\n",
    "&\\min\\ z = -10x_1 -20x_2 \\\\\n",
    "&\\begin{aligned}\n",
    "\\text{s.a.} &\\\\\n",
    "& 5x_1 + 8 x_2 \\le 60 ,\\\\\n",
    "&x_1 \\le 8\\\\\n",
    "&x_2 \\le 4\\\\\n",
    "& x_1,x_2 \\ge 0 \\text{ et entiers.}\n",
    "\\end{aligned}\n",
    "\\end{align*}"
   ]
  },
  {
   "cell_type": "markdown",
   "metadata": {},
   "source": [
    "## Solution"
   ]
  },
  {
   "cell_type": "code",
   "execution_count": null,
   "metadata": {},
   "outputs": [],
   "source": [
    "using Plots"
   ]
  },
  {
   "cell_type": "markdown",
   "metadata": {},
   "source": [
    "## Itération 1"
   ]
  },
  {
   "cell_type": "code",
   "execution_count": null,
   "metadata": {},
   "outputs": [],
   "source": [
    "x1=0:0.01:12\n",
    "g2 = (x1 -> 7-x1/2 ≥ 0 ? 15/2-5/8*x1 : NaN)\n",
    "g3 = (x1 -> 0 )\n",
    "g3 = (x1 -> 4 )\n",
    "\n",
    "objOpt = (x1 -> -1/5*x1+(282.5)/50 ≥ 0 ? -1/2*x1+(136)/20 : NaN)\n",
    "\n",
    "pyplot()\n",
    "\n",
    "plot()\n",
    "\n",
    "plot!(x1,g2,fillrange = 0,\n",
    "         fillalpha = 0.3,\n",
    "         fillcolor = :red,\n",
    "         style=:auto,\n",
    "         color=:red,\n",
    "         label=\"5x1 + 8x2 = 60\")\n",
    "plot!(x1, g3,fillrange = 0,\n",
    "         fillalpha = 0.3,\n",
    "         fillcolor = :green,\n",
    "         color=:green,\n",
    "         label=\"x2=0\")\n",
    "plot!(x1, g3,fillrange = 0,\n",
    "         fillalpha = 0.3,\n",
    "         fillcolor = :green,\n",
    "         color=:green,\n",
    "         label=\"x2=4\")\n",
    "\n",
    "plot!(x1,objOpt, color=:black, linewidth=2, linestyle=:solid, label=\"-10*x1-20*x2=-136\")\n",
    "\n",
    "\n",
    "scatter!([5.6],[4],label=\"Optimum\", color=:red)\n",
    "vline!([0], label=\"x1 = 0\", color=:orange)\n",
    "vline!([8], label=\"x1 = 6\", color=:yellow)\n",
    "\n",
    "plot!(                                       \n",
    "    #size=(800, 600),                                                                             \n",
    "    xticks = 0:12,   \n",
    "    yticks = 0:8,                          \n",
    "                                                  \n",
    "    ylabel = \"x2\", \n",
    "    xlabel = \"x1\",                       \n",
    "    \n",
    "    legend=:bottomleft,\n",
    "    title  = \"Programme linéaire (P)\"                    \n",
    "    )"
   ]
  },
  {
   "cell_type": "markdown",
   "metadata": {},
   "source": [
    "Solution : $x_1 = 5.6$; $x_2 = 4$; $\\bar{z} = -136$ "
   ]
  },
  {
   "cell_type": "markdown",
   "metadata": {},
   "source": [
    "## Itération 2"
   ]
  },
  {
   "cell_type": "code",
   "execution_count": null,
   "metadata": {},
   "outputs": [],
   "source": [
    "x1=0:0.01:12\n",
    "g2 = (x1 -> 7-x1/2 ≥ 0 ? 15/2-5/8*x1 : NaN)\n",
    "g3 = (x1 -> 0 )\n",
    "g3 = (x1 -> 4 )\n",
    "\n",
    "objOpt = (x1 -> -1/5*x1+(282.5)/50 ≥ 0 ? -1/2*x1+(130)/20 : NaN)\n",
    "\n",
    "pyplot()\n",
    "\n",
    "plot()\n",
    "\n",
    "plot!(x1,g2,fillrange = 0,\n",
    "         fillalpha = 0.3,\n",
    "         fillcolor = :red,\n",
    "         style=:auto,\n",
    "         color=:red,\n",
    "         label=\"5x1 + 8x2 = 60\")\n",
    "plot!(x1, g3,fillrange = 0,\n",
    "         fillalpha = 0.3,\n",
    "         fillcolor = :green,\n",
    "         color=:green,\n",
    "         label=\"x2=0\")\n",
    "plot!(x1, g3,fillrange = 0,\n",
    "         fillalpha = 0.3,\n",
    "         fillcolor = :green,\n",
    "         color=:green,\n",
    "         label=\"x2=4\")\n",
    "\n",
    "plot!(x1,objOpt, color=:black, linewidth=2, linestyle=:solid, label=\"-10*x1-20*x2=-130\")\n",
    "\n",
    "\n",
    "scatter!([5],[4],label=\"Optimum\", color=:red)\n",
    "vline!([0], label=\"x1 = 0\", color=:orange)\n",
    "vline!([5], label=\"x1 = 6\", color=:yellow)\n",
    "\n",
    "plot!(                                       \n",
    "    #size=(800, 600),                                                                             \n",
    "    xticks = 0:12,   \n",
    "    yticks = 0:8,                          \n",
    "                                                  \n",
    "    ylabel = \"x2\", \n",
    "    xlabel = \"x1\",                       \n",
    "    \n",
    "    legend=:bottomleft,\n",
    "    title  = \"Programme linéaire (P)\"                    \n",
    "    )"
   ]
  },
  {
   "cell_type": "markdown",
   "metadata": {},
   "source": [
    "Solution : $x_1 = 5$; $x_2 = 4$; $\\bar{z} = -130$"
   ]
  },
  {
   "cell_type": "markdown",
   "metadata": {},
   "source": [
    "## Itération 3"
   ]
  },
  {
   "cell_type": "code",
   "execution_count": null,
   "metadata": {},
   "outputs": [],
   "source": [
    "x1=6:0.01:12\n",
    "g2 = (x1 -> 7-x1/2 ≥ 0 ? 15/2-5/8*x1 : NaN)\n",
    "g3 = (x1 -> 0 )\n",
    "g3 = (x1 -> 4 )\n",
    "\n",
    "\n",
    "objOpt = (x1 -> -1/5*x1+(282.5)/50 ≥ 0 ? -1/2*x1+(135)/20 : NaN)\n",
    "\n",
    "pyplot()\n",
    "\n",
    "plot()\n",
    "\n",
    "plot!(x1,g2,fillrange = 0,\n",
    "         fillalpha = 0.3,\n",
    "         fillcolor = :red,\n",
    "         style=:auto,\n",
    "         color=:red,\n",
    "         label=\"5x1 + 8x2 = 60\")\n",
    "plot!(x1, g3,fillrange = 0,\n",
    "         fillalpha = 0.3,\n",
    "         fillcolor = :green,\n",
    "         color=:green,\n",
    "         label=\"x2=0\")\n",
    "plot!(x1, g3,fillrange = 0,\n",
    "         fillalpha = 0.3,\n",
    "         fillcolor = :green,\n",
    "         color=:green,\n",
    "         label=\"x2=4\")\n",
    "\n",
    "plot!(x1,objOpt, color=:black, linewidth=2, linestyle=:solid, label=\"-10*x1-20*x2=-135\")\n",
    "\n",
    "\n",
    "scatter!([6],[3.75],label=\"Optimum\", color=:red)\n",
    "vline!([0], label=\"x1 = 0\", color=:orange)\n",
    "vline!([6], label=\"x1 = 6\", color=:yellow)\n",
    "vline!([8], label=\"x1 = 6\", color=:yellow)\n",
    "\n",
    "plot!(                                       \n",
    "    #size=(800, 600),                                                                             \n",
    "    xticks = 0:12,   \n",
    "    yticks = 0:8,                          \n",
    "                                                  \n",
    "    ylabel = \"x2\", \n",
    "    xlabel = \"x1\",                       \n",
    "    \n",
    "    legend=:bottomleft,\n",
    "    title  = \"Programme linéaire (P)\"                    \n",
    "    )"
   ]
  },
  {
   "cell_type": "markdown",
   "metadata": {},
   "source": [
    "Solution : $x_1 = 6$; $x_2 = 3,75$; $\\bar{z} = -135$"
   ]
  },
  {
   "cell_type": "markdown",
   "metadata": {},
   "source": [
    "## Itération 4"
   ]
  },
  {
   "cell_type": "code",
   "execution_count": null,
   "metadata": {},
   "outputs": [],
   "source": [
    "x1=6:0.01:12\n",
    "g2 = (x1 -> 7-x1/2 ≥ 0 ? 15/2-5/8*x1 : NaN)\n",
    "g3 = (x1 -> 0 )\n",
    "g3 = (x1 -> 3 )\n",
    "\n",
    "\n",
    "objOpt = (x1 -> -1/5*x1+(282.5)/50 ≥ 0 ? -1/2*x1+(132)/20 : NaN)\n",
    "\n",
    "pyplot()\n",
    "\n",
    "plot()\n",
    "\n",
    "plot!(x1,g2,fillrange = 0,\n",
    "         fillalpha = 0.3,\n",
    "         fillcolor = :red,\n",
    "         style=:auto,\n",
    "         color=:red,\n",
    "         label=\"5x1 + 8x2 = 60\")\n",
    "plot!(x1, g3,fillrange = 0,\n",
    "         fillalpha = 0.3,\n",
    "         fillcolor = :green,\n",
    "         color=:green,\n",
    "         label=\"x2=0\")\n",
    "plot!(x1, g3,fillrange = 0,\n",
    "         fillalpha = 0.3,\n",
    "         fillcolor = :green,\n",
    "         color=:green,\n",
    "         label=\"x2=4\")\n",
    "\n",
    "plot!(x1,objOpt, color=:black, linewidth=2, linestyle=:solid, label=\"-10*x1-20*x2=-132\")\n",
    "\n",
    "\n",
    "scatter!([7.2],[3],label=\"Optimum\", color=:red)\n",
    "vline!([0], label=\"x1 = 0\", color=:orange)\n",
    "vline!([6], label=\"x1 = 6\", color=:yellow)\n",
    "vline!([8], label=\"x1 = 6\", color=:yellow)\n",
    "\n",
    "plot!(                                       \n",
    "    #size=(800, 600),                                                                             \n",
    "    xticks = 0:12,   \n",
    "    yticks = 0:8,                          \n",
    "                                                  \n",
    "    ylabel = \"x2\", \n",
    "    xlabel = \"x1\",                       \n",
    "    \n",
    "    legend=:bottomleft,\n",
    "    title  = \"Programme linéaire (P)\"                    \n",
    "    )"
   ]
  },
  {
   "cell_type": "markdown",
   "metadata": {},
   "source": [
    "Solution : $x_1 = 7,2$; $x_2 = 3$; $\\bar{z} = -132$"
   ]
  },
  {
   "cell_type": "markdown",
   "metadata": {},
   "source": [
    "## Itération 5"
   ]
  },
  {
   "cell_type": "code",
   "execution_count": null,
   "metadata": {},
   "outputs": [],
   "source": [
    "x1=6:0.01:12\n",
    "g2 = (x1 -> 7-x1/2 ≥ 0 ? 15/2-5/8*x1 : NaN)\n",
    "g3 = (x1 -> 0 )\n",
    "g3 = (x1 -> 3 )\n",
    "\n",
    "\n",
    "objOpt = (x1 -> -1/5*x1+(282.5)/50 ≥ 0 ? -1/2*x1+(130)/20 : NaN)\n",
    "\n",
    "pyplot()\n",
    "\n",
    "plot()\n",
    "\n",
    "plot!(x1,g2,fillrange = 0,\n",
    "         fillalpha = 0.3,\n",
    "         fillcolor = :red,\n",
    "         style=:auto,\n",
    "         color=:red,\n",
    "         label=\"5x1 + 8x2 = 60\")\n",
    "plot!(x1, g3,fillrange = 0,\n",
    "         fillalpha = 0.3,\n",
    "         fillcolor = :green,\n",
    "         color=:green,\n",
    "         label=\"x2=0\")\n",
    "plot!(x1, g3,fillrange = 0,\n",
    "         fillalpha = 0.3,\n",
    "         fillcolor = :green,\n",
    "         color=:green,\n",
    "         label=\"x2=4\")\n",
    "\n",
    "plot!(x1,objOpt, color=:black, linewidth=2, linestyle=:solid, label=\"-10*x1-20*x2=-130\")\n",
    "\n",
    "\n",
    "scatter!([7],[3],label=\"Optimum\", color=:red)\n",
    "vline!([0], label=\"x1 = 0\", color=:orange)\n",
    "vline!([6], label=\"x1 = 6\", color=:yellow)\n",
    "vline!([7], label=\"x1 = 6\", color=:yellow)\n",
    "\n",
    "plot!(                                       \n",
    "    #size=(800, 600),                                                                             \n",
    "    xticks = 0:12,   \n",
    "    yticks = 0:8,                          \n",
    "                                                  \n",
    "    ylabel = \"x2\", \n",
    "    xlabel = \"x1\",                       \n",
    "    \n",
    "    legend=:bottomleft,\n",
    "    title  = \"Programme linéaire (P)\"                    \n",
    "    )"
   ]
  },
  {
   "cell_type": "markdown",
   "metadata": {},
   "source": [
    "Solution : $x_1 = 7$; $x_2 = 3$; $\\bar{z} = -130$"
   ]
  },
  {
   "cell_type": "markdown",
   "metadata": {},
   "source": [
    "## Itération 6"
   ]
  },
  {
   "cell_type": "code",
   "execution_count": null,
   "metadata": {},
   "outputs": [],
   "source": [
    "x1=0:0.01:12\n",
    "g2 = (x1 -> 7-x1/2 ≥ 0 ? 15/2-5/8*x1 : NaN)\n",
    "g3 = (x1 -> 0 )\n",
    "g3 = (x1 -> 3 )\n",
    "\n",
    "\n",
    "objOpt = (x1 -> -1/5*x1+(282.5)/50 ≥ 0 ? -1/2*x1+(130)/20 : NaN)\n",
    "\n",
    "pyplot()\n",
    "\n",
    "plot()\n",
    "\n",
    "plot!(x1,g2,fillrange = 0,\n",
    "         fillalpha = 0.3,\n",
    "         fillcolor = :red,\n",
    "         style=:auto,\n",
    "         color=:red,\n",
    "         label=\"5x1 + 8x2 = 60\")\n",
    "plot!(x1, g3,fillrange = 0,\n",
    "         fillalpha = 0.3,\n",
    "         fillcolor = :green,\n",
    "         color=:green,\n",
    "         label=\"x2=0\")\n",
    "plot!(x1, g3,fillrange = 0,\n",
    "         fillalpha = 0.3,\n",
    "         fillcolor = :green,\n",
    "         color=:green,\n",
    "         label=\"x2=4\")\n",
    "\n",
    "plot!(x1,objOpt, color=:black, linewidth=2, linestyle=:solid, label=\"-10*x1-20*x2=-130\")\n",
    "\n",
    "\n",
    "scatter!([8],[2.5],label=\"Optimum\", color=:red)\n",
    "vline!([0], label=\"x1 = 0\", color=:orange)\n",
    "vline!([8], label=\"x1 = 6\", color=:yellow)\n",
    "\n",
    "plot!(                                       \n",
    "    #size=(800, 600),                                                                             \n",
    "    xticks = 0:12,   \n",
    "    yticks = 0:8,                          \n",
    "                                                  \n",
    "    ylabel = \"x2\", \n",
    "    xlabel = \"x1\",                       \n",
    "    \n",
    "    legend=:bottomleft,\n",
    "    title  = \"Programme linéaire (P)\"                    \n",
    "    )"
   ]
  },
  {
   "cell_type": "markdown",
   "metadata": {},
   "source": [
    "Solution : $x_1 = 8$; $x_2 = 2,5$; $\\bar{z} = -130$"
   ]
  },
  {
   "cell_type": "markdown",
   "metadata": {},
   "source": [
    "## Itération 7"
   ]
  },
  {
   "cell_type": "markdown",
   "metadata": {},
   "source": [
    "Non réalisable"
   ]
  },
  {
   "cell_type": "markdown",
   "metadata": {},
   "source": [
    "## Question 3"
   ]
  },
  {
   "cell_type": "markdown",
   "metadata": {},
   "source": [
    "Source: http://web.tecnico.ulisboa.pt/mcasquilho/compute/_linpro/TaylorB_module_c.pdf\n",
    "\n",
    "Le propriétaire d'un atelier d'usinage prévoit de se développer en achetant de nouvelles machines - des presses et des tours. Le propriétaire a estimé que chaque presse achetée augmenterait les bénéfices de \\$100 par jour et que chaque tour augmenterait les bénéfices de \\$150 par jour. Le nombre de machines que le propriétaire peut acheter est limité par le coût des machines et l'espace au sol disponible dans le magasin. Les prix d'achat des machines et les espaces requis sont présentés ci-dessous."
   ]
  },
  {
   "cell_type": "markdown",
   "metadata": {},
   "source": [
    "| Machine | Espace requis au sol ($pi^2$) | Prix d'achat |\n",
    "| --- | --- | --- |\n",
    "| Presse | 15 | \\$8.000 |\n",
    "| Tour | 30 | \\$4.000 |"
   ]
  },
  {
   "cell_type": "markdown",
   "metadata": {},
   "source": [
    "Le propriétaire dispose d'un budget de \\$40.000 pour l'achat de machines et de 200 pieds carrés d'espace au sol disponible. Le propriétaire veut savoir combien de chaque type de machine acheter pour maximiser l'augmentation quotidienne des bénéfices."
   ]
  },
  {
   "cell_type": "markdown",
   "metadata": {},
   "source": [
    "Travaillons avec la relaxtion linéaire"
   ]
  },
  {
   "cell_type": "code",
   "execution_count": null,
   "metadata": {},
   "outputs": [],
   "source": [
    "m = Model(with_optimizer(Gurobi.Optimizer))\n",
    "\n",
    "# Variables\n",
    "@variable(m, x1 >= 0) # nombre de presses\n",
    "@variable(m, x2 >= 0) # nombre de tours\n",
    "\n",
    "# Fonction objectif\n",
    "@objective(m, Max, 100x1 + 150x2)  # profit supplémentaire\n",
    "\n",
    "# Contraintes\n",
    "@constraint(m, constraint1, 8x1 +  4x2  <= 40)     # budget (en milliers de dollars)\n",
    "@constraint(m, constraint2,  15x1 + 30x2  <= 200)  # contrainte d'espace\n",
    "\n",
    "# Modèle complet\n",
    "print(m)\n",
    "\n",
    "# Résoudre le problème\n",
    "status = optimize!(m)"
   ]
  },
  {
   "cell_type": "code",
   "execution_count": null,
   "metadata": {},
   "outputs": [],
   "source": [
    "obj = []"
   ]
  },
  {
   "cell_type": "code",
   "execution_count": null,
   "metadata": {},
   "outputs": [],
   "source": [
    "function sol_output()\n",
    "    if (termination_status(m) == MOI.INFEASIBLE)\n",
    "        println(\"Problème non réalisable\")\n",
    "\n",
    "        append!(obj, -Inf)\n",
    "    else\n",
    "        println(\"Solution optimale:\")\n",
    "        println(\"x1 = \", value(x1), \" x2 = \", value(x2))\n",
    "        println(\"Valeur optimale = \", objective_value(m))\n",
    "        \n",
    "        # On va enregistrer les valeurs objectifs trouvées.\n",
    "        append!(obj, objective_value(m))\n",
    "    end\n",
    "end"
   ]
  },
  {
   "cell_type": "code",
   "execution_count": null,
   "metadata": {},
   "outputs": [],
   "source": [
    "sol_output()"
   ]
  },
  {
   "cell_type": "markdown",
   "metadata": {},
   "source": [
    "La solution n'est pas entière.\n",
    "\n",
    "On va brancher sur la plus grande valeur fractionnaire, ici $x_2$."
   ]
  },
  {
   "cell_type": "code",
   "execution_count": null,
   "metadata": {},
   "outputs": [],
   "source": [
    "@constraint(m, x2left, x2 <= 5)\n",
    "\n",
    "# Modèle complet\n",
    "print(m)\n",
    "\n",
    "# Résoudre le problème\n",
    "status = optimize!(m)\n",
    "\n",
    "sol_output()"
   ]
  },
  {
   "cell_type": "code",
   "execution_count": null,
   "metadata": {},
   "outputs": [],
   "source": [
    "delete(m, x2left)\n",
    "@constraint(m, x2right, x2 >= 6)\n",
    "\n",
    "# Modèle complet\n",
    "print(m)\n",
    "\n",
    "# Résoudre le problème\n",
    "status = optimize!(m)\n",
    "\n",
    "sol_output()"
   ]
  },
  {
   "cell_type": "code",
   "execution_count": null,
   "metadata": {},
   "outputs": [],
   "source": [
    "using LightGraphs\n",
    "using GraphPlot"
   ]
  },
  {
   "cell_type": "code",
   "execution_count": null,
   "metadata": {},
   "outputs": [],
   "source": [
    "g = Graph()\n",
    "add_vertices!(g,3)\n",
    "add_edge!(g, 1, 2)\n",
    "add_edge!(g, 1, 3)\n",
    "gplot(g, nodelabel=obj)"
   ]
  },
  {
   "cell_type": "markdown",
   "metadata": {},
   "source": [
    "Pour $x_2 \\leq 5$, la borne supérieure sur la fonction objectif est de 1000, mais la solution n'est pas entière.\n",
    "\n",
    "Pour $x_2 \\geq 6$, la borne supérieure sur la fonction objectif est de 1033+1/3, mais la solution n'est pas non plus entière.\n",
    "\n",
    "Nous allons brancher à partir de la plus grande borne supérieure. Comme la solution optimale du problème relâché est $x_1 = 4/3$ et $x2 = 6.0$, nous devons brancher sur $x_1$."
   ]
  },
  {
   "cell_type": "code",
   "execution_count": null,
   "metadata": {},
   "outputs": [],
   "source": [
    "@constraint(m, x1left, x1 <= 1)\n",
    "\n",
    "# Modèle complet\n",
    "print(m)\n",
    "\n",
    "# Résoudre le problème\n",
    "status = optimize!(m)\n",
    "\n",
    "sol_output()"
   ]
  },
  {
   "cell_type": "code",
   "execution_count": null,
   "metadata": {},
   "outputs": [],
   "source": [
    "delete(m, x1left)\n",
    "@constraint(m, x1right, x1 >= 2)\n",
    "\n",
    "# Modèle complet\n",
    "print(m)\n",
    "\n",
    "# Résoudre le problème\n",
    "status = optimize!(m)\n",
    "\n",
    "sol_output()"
   ]
  },
  {
   "cell_type": "markdown",
   "metadata": {},
   "source": [
    "En ajoutant la contrainte $x_1 \\geq 2$, le problème est non réalisable. Nous ne pouvons donc plus brancher de ce côté. Avec $x_1 \\leq 1.0$, la solution n'est toujours pas entière. Nous allons brancher sur $x_2$ qui demeure fractionnaire."
   ]
  },
  {
   "cell_type": "code",
   "execution_count": null,
   "metadata": {},
   "outputs": [],
   "source": [
    "g = Graph()\n",
    "add_vertices!(g,5)\n",
    "add_edge!(g, 1, 2)\n",
    "add_edge!(g, 1, 3)\n",
    "add_edge!(g, 3, 4)\n",
    "add_edge!(g, 3, 5)\n",
    "gplot(g, nodelabel=obj)"
   ]
  },
  {
   "cell_type": "markdown",
   "metadata": {},
   "source": [
    "Branchons sur $x_2$."
   ]
  },
  {
   "cell_type": "code",
   "execution_count": null,
   "metadata": {},
   "outputs": [],
   "source": [
    "delete(m, x1right)\n",
    "@constraint(m, x1left1, x1 <= 1)\n",
    "@constraint(m, x2left6, x2 <= 6)\n",
    "\n",
    "# Modèle complet\n",
    "print(m)\n",
    "\n",
    "# Résoudre le problème\n",
    "status = optimize!(m)\n",
    "\n",
    "sol_output()"
   ]
  },
  {
   "cell_type": "markdown",
   "metadata": {},
   "source": [
    "La solution est à présent entière, aussi nous obtenons une borne inférieure sur la valeur optimale, et nous élaguons le noeud comme nous ne pouvons plus brancher dessus.\n",
    "\n",
    "L'autre branche consiste à examiner le cas où $x_2 \\geq 7$."
   ]
  },
  {
   "cell_type": "code",
   "execution_count": null,
   "metadata": {},
   "outputs": [],
   "source": [
    "delete(m, x2left6)\n",
    "@constraint(m, x2right7, x2 >= 7)\n",
    "\n",
    "# Modèle complet\n",
    "print(m)\n",
    "\n",
    "# Résoudre le problème\n",
    "status = optimize!(m)\n",
    "\n",
    "sol_output()"
   ]
  },
  {
   "cell_type": "markdown",
   "metadata": {},
   "source": [
    "Le problème est non-réalisable. Nous pouvons élaguer le noeud."
   ]
  },
  {
   "cell_type": "code",
   "execution_count": null,
   "metadata": {},
   "outputs": [],
   "source": [
    "g = Graph()\n",
    "add_vertices!(g,7)\n",
    "add_edge!(g, 1, 2)\n",
    "add_edge!(g, 1, 3)\n",
    "add_edge!(g, 3, 4)\n",
    "add_edge!(g, 3, 5)\n",
    "add_edge!(g, 4, 6)\n",
    "add_edge!(g, 4, 7)\n",
    "gplot(g, nodelabel=obj)"
   ]
  },
  {
   "cell_type": "markdown",
   "metadata": {},
   "source": [
    "Nous "
   ]
  },
  {
   "cell_type": "markdown",
   "metadata": {},
   "source": [
    "Retournons au noeud non élagué avec $x_2 \\leq 5$. Dans ce cas la borne supérieure sur la fonction objectif est de 1000, qui est la valeur trouvée précédemment avec la solution entière $x_1 = 1$, $x_2 = 6$. Nous ne pouvons donc pas améliorer l'objectif en explorant le cas $x_2 <= 5$ et nous élaguons le noeud correspondant. Comme il n'y a plus de noeud non élagué, nous nous arrêtons avec la solution optimale $x_1 = 1$, $x_2 = 6$."
   ]
  },
  {
   "cell_type": "code",
   "execution_count": null,
   "metadata": {},
   "outputs": [],
   "source": []
  }
 ],
 "metadata": {
  "kernelspec": {
   "display_name": "Julia 1.2.0",
   "language": "julia",
   "name": "julia-1.2"
  },
  "language_info": {
   "file_extension": ".jl",
   "mimetype": "application/julia",
   "name": "julia",
   "version": "1.3.1"
  }
 },
 "nbformat": 4,
 "nbformat_minor": 2
}
