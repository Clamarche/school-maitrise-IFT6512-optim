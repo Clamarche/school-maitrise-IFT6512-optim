{
 "cells": [
  {
   "cell_type": "code",
   "execution_count": 3,
   "metadata": {},
   "outputs": [],
   "source": [
    "using JuMP, GLPK, Plots"
   ]
  },
  {
   "cell_type": "code",
   "execution_count": 42,
   "metadata": {},
   "outputs": [
    {
     "data": {
      "text/latex": [
       "$$ \\begin{aligned}\n",
       "\\max\\quad & 5 x + 8 y\\\\\n",
       "\\text{Subject to} \\quad & x + y \\leq 6.0\\\\\n",
       " & 5 x + 9 y \\leq 45.0\\\\\n",
       " & x \\geq 0.0\\\\\n",
       " & y \\geq 0.0\\\\\n",
       " & x \\in \\mathbb{Z}\\\\\n",
       " & y \\in \\mathbb{Z}\\\\\n",
       "\\end{aligned} $$"
      ]
     },
     "metadata": {},
     "output_type": "display_data"
    }
   ],
   "source": [
    "m = Model(GLPK.Optimizer)\n",
    "@variable(m, 0 <= x, Int)\n",
    "@variable(m, 0 <= y, Int)\n",
    "@constraint(m, x + y <= 6)\n",
    "@constraint(m, 5x + 9y <= 45)\n",
    "\n",
    "@objective(m, Max, 5x+8y)\n",
    "\n",
    "print(m)"
   ]
  },
  {
   "cell_type": "code",
   "execution_count": 43,
   "metadata": {},
   "outputs": [],
   "source": [
    "status = optimize!(m)"
   ]
  },
  {
   "cell_type": "code",
   "execution_count": 44,
   "metadata": {},
   "outputs": [
    {
     "data": {
      "text/plain": [
       "(0.0, 5.0)"
      ]
     },
     "execution_count": 44,
     "metadata": {},
     "output_type": "execute_result"
    }
   ],
   "source": [
    "value(x), value(y)"
   ]
  },
  {
   "cell_type": "code",
   "execution_count": 62,
   "metadata": {},
   "outputs": [
    {
     "data": {
      "text/latex": [
       "$$ \\begin{aligned}\n",
       "\\max\\quad & 5 x + 8 y\\\\\n",
       "\\text{Subject to} \\quad & x + y \\leq 6.0\\\\\n",
       " & 5 x + 9 y \\leq 45.0\\\\\n",
       " & x \\geq 0.0\\\\\n",
       " & y \\geq 0.0\\\\\n",
       "\\end{aligned} $$"
      ]
     },
     "metadata": {},
     "output_type": "display_data"
    }
   ],
   "source": [
    "m = Model(GLPK.Optimizer)\n",
    "@variable(m, 0 <= x)\n",
    "@variable(m, 0 <= y)\n",
    "@constraint(m, x + y <= 6)\n",
    "@constraint(m, 5x + 9y <= 45)\n",
    "\n",
    "@objective(m, Max, 5x+8y)\n",
    "\n",
    "print(m)"
   ]
  },
  {
   "cell_type": "code",
   "execution_count": 63,
   "metadata": {},
   "outputs": [],
   "source": [
    "status = optimize!(m)"
   ]
  },
  {
   "cell_type": "code",
   "execution_count": 64,
   "metadata": {},
   "outputs": [
    {
     "data": {
      "text/plain": [
       "(2.25, 3.75)"
      ]
     },
     "execution_count": 64,
     "metadata": {},
     "output_type": "execute_result"
    }
   ],
   "source": [
    "value(x), value(y)"
   ]
  },
  {
   "cell_type": "code",
   "execution_count": 65,
   "metadata": {},
   "outputs": [
    {
     "data": {
      "text/plain": [
       "pivot! (generic function with 1 method)"
      ]
     },
     "execution_count": 65,
     "metadata": {},
     "output_type": "execute_result"
    }
   ],
   "source": [
    "function pivot!(M::Matrix, i::Int, j::Int)\n",
    "    @assert M[i, j] != 0 \"pivot sur coefficient nul\"\n",
    "    M[i, :] /= M[i, j]\n",
    "    m, n = size(M)\n",
    "    for k in 1:m\n",
    "        if i != k\n",
    "            coef = M[k, j]\n",
    "            M[k, :] -= coef * M[i, :]\n",
    "        end\n",
    "    end\n",
    "    return M\n",
    "end"
   ]
  },
  {
   "cell_type": "code",
   "execution_count": 66,
   "metadata": {},
   "outputs": [
    {
     "data": {
      "text/plain": [
       "3×5 Matrix{Float64}:\n",
       "  1.0   1.0  1.0  0.0   6.0\n",
       "  5.0   9.0  0.0  1.0  45.0\n",
       " -5.0  -8.0  0.0  0.0   0.0"
      ]
     },
     "execution_count": 66,
     "metadata": {},
     "output_type": "execute_result"
    }
   ],
   "source": [
    "A = [ 1.0 1 1 0; 5 9 0 1 ]\n",
    "b = [ 6 ; 45 ]\n",
    "c = [ -5 -8 0 0 0 ]\n",
    "M = [ A b ; c ]"
   ]
  },
  {
   "cell_type": "code",
   "execution_count": 67,
   "metadata": {},
   "outputs": [
    {
     "data": {
      "text/plain": [
       "3×5 Matrix{Float64}:\n",
       "  0.444444  0.0  1.0  -0.111111   1.0\n",
       "  0.555556  1.0  0.0   0.111111   5.0\n",
       " -0.555556  0.0  0.0   0.888889  40.0"
      ]
     },
     "execution_count": 67,
     "metadata": {},
     "output_type": "execute_result"
    }
   ],
   "source": [
    "pivot!(M,2,2)"
   ]
  },
  {
   "cell_type": "code",
   "execution_count": 68,
   "metadata": {},
   "outputs": [
    {
     "data": {
      "text/plain": [
       "-0.5555555555555556"
      ]
     },
     "execution_count": 68,
     "metadata": {},
     "output_type": "execute_result"
    }
   ],
   "source": [
    "-5/9"
   ]
  },
  {
   "cell_type": "code",
   "execution_count": 69,
   "metadata": {},
   "outputs": [
    {
     "data": {
      "text/plain": [
       "3×5 Matrix{Float64}:\n",
       " 1.0  0.0   2.25  -0.25   2.25\n",
       " 0.0  1.0  -1.25   0.25   3.75\n",
       " 0.0  0.0   1.25   0.75  41.25"
      ]
     },
     "execution_count": 69,
     "metadata": {},
     "output_type": "execute_result"
    }
   ],
   "source": [
    "pivot!(M,1,1)"
   ]
  },
  {
   "cell_type": "markdown",
   "metadata": {},
   "source": [
    "Partons de la première contrainte pour former la coupe\n",
    "$$\n",
    "-0.25s_1 - 0.75s_2 \\leq -0.25\n",
    "$$"
   ]
  },
  {
   "cell_type": "code",
   "execution_count": 70,
   "metadata": {},
   "outputs": [
    {
     "data": {
      "text/plain": [
       "4×6 Matrix{Float64}:\n",
       " 1.0  0.0   2.25  -0.25  0.0   2.25\n",
       " 0.0  1.0  -1.25   0.25  0.0   3.75\n",
       " 0.0  0.0  -0.25  -0.75  1.0  -0.25\n",
       " 0.0  0.0   1.25   0.75  0.0  41.25"
      ]
     },
     "execution_count": 70,
     "metadata": {},
     "output_type": "execute_result"
    }
   ],
   "source": [
    "(m,n) = size(M)\n",
    "M = hcat(M, Matrix{Rational{Int64}}(zeros(m,1)))\n",
    "M[1:m,n+1] = M[1:m,n]\n",
    "M[1:m,n] = zeros(m,1)\n",
    "M = vcat(M, Matrix{Rational{Int64}}(zeros(1,n+1)))\n",
    "M[m+1,:] = M[m,:]\n",
    "M[m,:] = [ 0 0 -1//4 -3//4 1 -1//4]\n",
    "M"
   ]
  },
  {
   "cell_type": "code",
   "execution_count": 71,
   "metadata": {},
   "outputs": [
    {
     "data": {
      "text/plain": [
       "4×6 Matrix{Float64}:\n",
       "  1.0   0.0   2.33333   0.0  -0.333333   2.33333\n",
       "  0.0   1.0  -1.33333   0.0   0.333333   3.66667\n",
       " -0.0  -0.0   0.333333  1.0  -1.33333    0.333333\n",
       "  0.0   0.0   1.0       0.0   1.0       41.0"
      ]
     },
     "execution_count": 71,
     "metadata": {},
     "output_type": "execute_result"
    }
   ],
   "source": [
    "pivot!(M, 3, 4)"
   ]
  },
  {
   "cell_type": "code",
   "execution_count": 72,
   "metadata": {},
   "outputs": [
    {
     "data": {
      "text/plain": [
       "5×7 Matrix{Float64}:\n",
       "  1.0   0.0   2.33333   0.0  -0.333333  0.0   2.33333\n",
       "  0.0   1.0  -1.33333   0.0   0.333333  0.0   3.66667\n",
       " -0.0  -0.0   0.333333  1.0  -1.33333   0.0   0.333333\n",
       "  0.0   0.0  -0.333333  0.0   0.666667  0.0  -0.333333\n",
       "  0.0   0.0   1.0       0.0   1.0       0.0  41.0"
      ]
     },
     "execution_count": 72,
     "metadata": {},
     "output_type": "execute_result"
    }
   ],
   "source": [
    "(m,n) = size(M)\n",
    "M = hcat(M, Matrix{Rational{Int64}}(zeros(m,1)))\n",
    "M[1:m,n+1] = M[1:m,n]\n",
    "M[1:m,n] = zeros(m,1)\n",
    "M = vcat(M, Matrix{Rational{Int64}}(zeros(1,n+1)))\n",
    "M[m+1,:] = M[m,:]\n",
    "M[m,:] = [ 0 0 -1//3 0 2//3 0 -1//3]\n",
    "M"
   ]
  },
  {
   "cell_type": "code",
   "execution_count": 73,
   "metadata": {},
   "outputs": [
    {
     "data": {
      "text/plain": [
       "5×7 Matrix{Float64}:\n",
       "  1.0   0.0  0.0   0.0   4.33333    0.0   0.0\n",
       "  0.0   1.0  0.0   0.0  -2.33333    0.0   5.0\n",
       "  0.0   0.0  0.0   1.0  -0.666667   0.0   0.0\n",
       " -0.0  -0.0  1.0  -0.0  -2.0       -0.0   1.0\n",
       "  0.0   0.0  0.0   0.0   3.0        0.0  40.0"
      ]
     },
     "execution_count": 73,
     "metadata": {},
     "output_type": "execute_result"
    }
   ],
   "source": [
    "pivot!(M, 4, 3)"
   ]
  },
  {
   "cell_type": "code",
   "execution_count": 74,
   "metadata": {},
   "outputs": [
    {
     "data": {
      "text/plain": [
       "3×5 Matrix{Float64}:\n",
       " 1.0  0.0   2.25  -0.25   2.25\n",
       " 0.0  1.0  -1.25   0.25   3.75\n",
       " 0.0  0.0   1.25   0.75  41.25"
      ]
     },
     "execution_count": 74,
     "metadata": {},
     "output_type": "execute_result"
    }
   ],
   "source": [
    "m = Model(GLPK.Optimizer)\n",
    "@variable(m, 0 <= x)\n",
    "@variable(m, 0 <= y)\n",
    "@constraint(m, x + y <= 6)\n",
    "@constraint(m, 5x + 9y <= 45)\n",
    "\n",
    "@objective(m, Max, 5x+8y)\n",
    "\n",
    "A = [ 1.0 1 1 0; 5 9 0 1 ]\n",
    "b = [ 6 ; 45 ]\n",
    "c = [ -5 -8 0 0 0 ]\n",
    "M = [ A b ; c ]\n",
    "\n",
    "pivot!(M,2,2)\n",
    "pivot!(M,1,1)"
   ]
  },
  {
   "cell_type": "code",
   "execution_count": null,
   "metadata": {},
   "outputs": [],
   "source": [
    "plot(x -> (18 - 3x)/2, fill = (-2, 0.2, :red), color = :red, \n",
    "    linewidth = 2, label = \"contrainte 1\")\n",
    "plot!(xlims = (-0.5,  4.5), ylims = (-0.5, 6.5))\n",
    "hline!([0,  6], color = :black, linestyle = :dash, linewidth = 2, label = \"\")\n",
    "vline!([0, 4], color = :black, linestyle = :dash, linewidth = 2, label = \"\")\n",
    "plot!(title = \"Je vis et je respire Julia\")\n",
    "plot!(xlabel = \"x\")\n",
    "plot!(ylabel = \"y\")\n",
    "scatter!([0, 0, 2, 4, 4], [0, 6, 6, 0, 3], markersize = 7, color = :blue, label = \"Points extrêmes\")"
   ]
  }
 ],
 "metadata": {
  "kernelspec": {
   "display_name": "Julia 1.7.1",
   "language": "julia",
   "name": "julia-1.7"
  },
  "language_info": {
   "file_extension": ".jl",
   "mimetype": "application/julia",
   "name": "julia",
   "version": "1.7.1"
  }
 },
 "nbformat": 4,
 "nbformat_minor": 2
}
