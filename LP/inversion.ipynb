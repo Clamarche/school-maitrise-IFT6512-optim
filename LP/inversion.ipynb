{
 "cells": [
  {
   "cell_type": "markdown",
   "id": "4e5276e0",
   "metadata": {},
   "source": [
    "# Résolution de systèmes linéaires et inversion"
   ]
  },
  {
   "cell_type": "markdown",
   "id": "e793ef78",
   "metadata": {},
   "source": [
    "Nous considérons le système linéaire\n",
    "$$\n",
    "Ax = b\n",
    "$$\n",
    "où $A \\in \\mathbb{R}^{n \\times n}$, $b \\in mathbb{R}^n$, et nous cherchons à déterminer le vecteur $x \\in \\mathbb{R}^n$. Nous supposons de plus que le rang de $A$ vaut $n$."
   ]
  },
  {
   "cell_type": "code",
   "execution_count": null,
   "id": "b44719b7",
   "metadata": {},
   "outputs": [],
   "source": [
    "using LinearAlgebra\n",
    "using BenchmarkTools"
   ]
  },
  {
   "cell_type": "markdown",
   "id": "9c13347d",
   "metadata": {},
   "source": [
    "## Temps de calul\n",
    "\n",
    "Nous allons créer un matrice test qui nous servira à calculer les temps de calcul en utilisant l'inversion matricielle ou les techniques de factorisation. L'inversion prend $O(n^3)$ opérations, tandis que la factorisation requiert $O(n^2)$ opérations, où $n$ est la dimension de $A$, $b$ et $x$."
   ]
  },
  {
   "cell_type": "code",
   "execution_count": null,
   "id": "b01d82ef",
   "metadata": {},
   "outputs": [],
   "source": [
    "n = 10000"
   ]
  },
  {
   "cell_type": "code",
   "execution_count": null,
   "id": "3cc60830",
   "metadata": {},
   "outputs": [],
   "source": [
    "A = zeros(n,n)\n",
    "for i = 1:n\n",
    "    A[i,i] = 2.0\n",
    "end\n",
    "for i = 1:n-1\n",
    "    A[i,i+1] = A[i+1,i] = -1.0\n",
    "end"
   ]
  },
  {
   "cell_type": "code",
   "execution_count": null,
   "id": "21221845",
   "metadata": {},
   "outputs": [],
   "source": [
    "A"
   ]
  },
  {
   "cell_type": "code",
   "execution_count": null,
   "id": "c5d98dfe",
   "metadata": {},
   "outputs": [],
   "source": [
    "inv(A)"
   ]
  },
  {
   "cell_type": "markdown",
   "id": "770d760b",
   "metadata": {},
   "source": [
    "Nous pouvons déjà remarque que $A$ est creuse, alors que son inverse est dense.\n",
    "\n",
    "Créons le membre de droite du système."
   ]
  },
  {
   "cell_type": "code",
   "execution_count": null,
   "id": "ace5b4ad",
   "metadata": {},
   "outputs": [],
   "source": [
    "b = ones(n)"
   ]
  },
  {
   "cell_type": "markdown",
   "id": "81eac955",
   "metadata": {},
   "source": [
    "Nous résolvons à présent le système avec les deux techniques."
   ]
  },
  {
   "cell_type": "code",
   "execution_count": null,
   "id": "58af8947",
   "metadata": {},
   "outputs": [],
   "source": [
    "x1 = inv(A)*b"
   ]
  },
  {
   "cell_type": "code",
   "execution_count": null,
   "id": "aded4c97",
   "metadata": {},
   "outputs": [],
   "source": [
    "x2 = A\\b"
   ]
  },
  {
   "cell_type": "markdown",
   "id": "951f5406",
   "metadata": {},
   "source": [
    "Comparons la précision des résultats."
   ]
  },
  {
   "cell_type": "code",
   "execution_count": null,
   "id": "5fc4edaf",
   "metadata": {},
   "outputs": [],
   "source": [
    "[norm(A*x1-b), norm(A*x2-b)]"
   ]
  },
  {
   "cell_type": "markdown",
   "id": "c0102deb",
   "metadata": {},
   "source": [
    "Nous voyons que la technique de factorisation est légèremement plus précise.\n",
    "\n",
    "Comparons les temps d'exécution."
   ]
  },
  {
   "cell_type": "code",
   "execution_count": null,
   "id": "03b6c73f",
   "metadata": {},
   "outputs": [],
   "source": [
    "@benchmark inv(A)*b"
   ]
  },
  {
   "cell_type": "code",
   "execution_count": null,
   "id": "39e22ce4",
   "metadata": {},
   "outputs": [],
   "source": [
    "@benchmark A\\b"
   ]
  },
  {
   "cell_type": "markdown",
   "id": "9ddef3fc",
   "metadata": {},
   "source": [
    "Nous allons à présent exploiter le caractère creux de $A$."
   ]
  },
  {
   "cell_type": "code",
   "execution_count": null,
   "id": "e612597e",
   "metadata": {},
   "outputs": [],
   "source": [
    "using SparseArrays"
   ]
  },
  {
   "cell_type": "code",
   "execution_count": null,
   "id": "60a63ce2",
   "metadata": {},
   "outputs": [],
   "source": [
    "A2 = sparse(A)"
   ]
  },
  {
   "cell_type": "code",
   "execution_count": null,
   "id": "1909169b",
   "metadata": {},
   "outputs": [],
   "source": [
    "inv(A2)"
   ]
  },
  {
   "cell_type": "markdown",
   "id": "a6d1a7cf",
   "metadata": {},
   "source": [
    "Nous voyons que Julia détecte que l'opération d'inversion serait inefficace au niveau mémoire."
   ]
  },
  {
   "cell_type": "code",
   "execution_count": null,
   "id": "169a2c86",
   "metadata": {},
   "outputs": [],
   "source": [
    "x3 = A2\\b"
   ]
  },
  {
   "cell_type": "code",
   "execution_count": null,
   "id": "55a90d9e",
   "metadata": {},
   "outputs": [],
   "source": [
    "@benchmark A2\\b"
   ]
  },
  {
   "cell_type": "code",
   "execution_count": null,
   "id": "c947cb96",
   "metadata": {},
   "outputs": [],
   "source": [
    "norm(A*x3-b)"
   ]
  },
  {
   "cell_type": "markdown",
   "id": "14017115",
   "metadata": {},
   "source": [
    "La précision reste similaire au cas dense, mais le temps d'exécution est significativement plus faible."
   ]
  },
  {
   "cell_type": "markdown",
   "id": "185da664",
   "metadata": {},
   "source": [
    "## Précision des résultats"
   ]
  },
  {
   "cell_type": "markdown",
   "id": "18015637",
   "metadata": {},
   "source": [
    "Nous allons modifier la diagonale de la matrice pour accentuer les résultats."
   ]
  },
  {
   "cell_type": "code",
   "execution_count": null,
   "id": "86ed74e1",
   "metadata": {},
   "outputs": [],
   "source": [
    "for i = 1:n\n",
    "    A[i,i] = 10.0^(-i)\n",
    "end\n",
    "\n",
    "A"
   ]
  },
  {
   "cell_type": "markdown",
   "id": "fc3b0c9c",
   "metadata": {},
   "source": [
    "Nous calculons le système suivant les deux techniques."
   ]
  },
  {
   "cell_type": "code",
   "execution_count": null,
   "id": "f9b2d82c",
   "metadata": {},
   "outputs": [],
   "source": [
    "x1 = inv(A)*b"
   ]
  },
  {
   "cell_type": "code",
   "execution_count": null,
   "id": "a3cd44a4",
   "metadata": {},
   "outputs": [],
   "source": [
    "x2 = A\\b"
   ]
  },
  {
   "cell_type": "markdown",
   "id": "e45bb82a",
   "metadata": {},
   "source": [
    "Calculons aussi en utilisant une matrice creuse."
   ]
  },
  {
   "cell_type": "code",
   "execution_count": null,
   "id": "230329bd",
   "metadata": {},
   "outputs": [],
   "source": [
    "A2 = sparse(A)"
   ]
  },
  {
   "cell_type": "code",
   "execution_count": null,
   "id": "786e0330",
   "metadata": {},
   "outputs": [],
   "source": [
    "x3 = A2\\b"
   ]
  },
  {
   "cell_type": "code",
   "execution_count": null,
   "id": "a4fd9f19",
   "metadata": {},
   "outputs": [],
   "source": [
    "[norm(A*x1-b) norm(A*x2-b) norm(A*x3-b)]"
   ]
  },
  {
   "cell_type": "markdown",
   "id": "f5068d1c",
   "metadata": {},
   "source": [
    "À nouveau, nous voyons que la technique d'inversion donne des résultats moins intéressants."
   ]
  },
  {
   "cell_type": "code",
   "execution_count": null,
   "id": "ff288f18",
   "metadata": {},
   "outputs": [],
   "source": []
  }
 ],
 "metadata": {
  "kernelspec": {
   "display_name": "Julia 1.6.2",
   "language": "julia",
   "name": "julia-1.6"
  },
  "language_info": {
   "file_extension": ".jl",
   "mimetype": "application/julia",
   "name": "julia",
   "version": "1.6.2"
  }
 },
 "nbformat": 4,
 "nbformat_minor": 5
}
