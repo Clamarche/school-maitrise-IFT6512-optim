{
 "cells": [
  {
   "cell_type": "markdown",
   "id": "4e5276e0",
   "metadata": {},
   "source": [
    "# Résolution de systèmes linéaires et inversion"
   ]
  },
  {
   "cell_type": "markdown",
   "id": "e793ef78",
   "metadata": {},
   "source": [
    "Nous considérons le système linéaire\n",
    "$$\n",
    "Ax = b\n",
    "$$\n",
    "où $A \\in \\mathbb{R}^{n \\times n}$, $b \\in \\mathbb{R}^n$, et nous cherchons à déterminer le vecteur $x \\in \\mathbb{R}^n$. Nous supposons de plus que le rang de $A$ vaut $n$."
   ]
  },
  {
   "cell_type": "code",
   "execution_count": 4,
   "id": "b44719b7",
   "metadata": {},
   "outputs": [],
   "source": [
    "using LinearAlgebra\n",
    "using BenchmarkTools"
   ]
  },
  {
   "cell_type": "markdown",
   "id": "9c13347d",
   "metadata": {},
   "source": [
    "## Temps de calul\n",
    "\n",
    "Nous allons créer un matrice test qui nous servira à calculer les temps de calcul en utilisant l'inversion matricielle ou les techniques de factorisation. L'inversion prend $O(n^3)$ opérations, tandis que la factorisation requiert $O(n^2)$ opérations, où $n$ est la dimension de $A$, $b$ et $x$."
   ]
  },
  {
   "cell_type": "code",
   "execution_count": 5,
   "id": "b01d82ef",
   "metadata": {},
   "outputs": [
    {
     "data": {
      "text/plain": [
       "10000"
      ]
     },
     "execution_count": 5,
     "metadata": {},
     "output_type": "execute_result"
    }
   ],
   "source": [
    "n = 10000"
   ]
  },
  {
   "cell_type": "code",
   "execution_count": 6,
   "id": "3cc60830",
   "metadata": {},
   "outputs": [],
   "source": [
    "A = zeros(n,n)\n",
    "for i = 1:n\n",
    "    A[i,i] = 2.0\n",
    "end\n",
    "for i = 1:n-1\n",
    "    A[i,i+1] = A[i+1,i] = -1.0\n",
    "end"
   ]
  },
  {
   "cell_type": "code",
   "execution_count": 7,
   "id": "21221845",
   "metadata": {},
   "outputs": [
    {
     "data": {
      "text/plain": [
       "10000×10000 Matrix{Float64}:\n",
       "  2.0  -1.0   0.0   0.0   0.0   0.0  …   0.0   0.0   0.0   0.0   0.0   0.0\n",
       " -1.0   2.0  -1.0   0.0   0.0   0.0      0.0   0.0   0.0   0.0   0.0   0.0\n",
       "  0.0  -1.0   2.0  -1.0   0.0   0.0      0.0   0.0   0.0   0.0   0.0   0.0\n",
       "  0.0   0.0  -1.0   2.0  -1.0   0.0      0.0   0.0   0.0   0.0   0.0   0.0\n",
       "  0.0   0.0   0.0  -1.0   2.0  -1.0      0.0   0.0   0.0   0.0   0.0   0.0\n",
       "  0.0   0.0   0.0   0.0  -1.0   2.0  …   0.0   0.0   0.0   0.0   0.0   0.0\n",
       "  0.0   0.0   0.0   0.0   0.0  -1.0      0.0   0.0   0.0   0.0   0.0   0.0\n",
       "  0.0   0.0   0.0   0.0   0.0   0.0      0.0   0.0   0.0   0.0   0.0   0.0\n",
       "  0.0   0.0   0.0   0.0   0.0   0.0      0.0   0.0   0.0   0.0   0.0   0.0\n",
       "  0.0   0.0   0.0   0.0   0.0   0.0      0.0   0.0   0.0   0.0   0.0   0.0\n",
       "  0.0   0.0   0.0   0.0   0.0   0.0  …   0.0   0.0   0.0   0.0   0.0   0.0\n",
       "  0.0   0.0   0.0   0.0   0.0   0.0      0.0   0.0   0.0   0.0   0.0   0.0\n",
       "  0.0   0.0   0.0   0.0   0.0   0.0      0.0   0.0   0.0   0.0   0.0   0.0\n",
       "  ⋮                             ⋮    ⋱         ⋮                      \n",
       "  0.0   0.0   0.0   0.0   0.0   0.0      0.0   0.0   0.0   0.0   0.0   0.0\n",
       "  0.0   0.0   0.0   0.0   0.0   0.0      0.0   0.0   0.0   0.0   0.0   0.0\n",
       "  0.0   0.0   0.0   0.0   0.0   0.0  …   0.0   0.0   0.0   0.0   0.0   0.0\n",
       "  0.0   0.0   0.0   0.0   0.0   0.0      0.0   0.0   0.0   0.0   0.0   0.0\n",
       "  0.0   0.0   0.0   0.0   0.0   0.0      0.0   0.0   0.0   0.0   0.0   0.0\n",
       "  0.0   0.0   0.0   0.0   0.0   0.0     -1.0   0.0   0.0   0.0   0.0   0.0\n",
       "  0.0   0.0   0.0   0.0   0.0   0.0      2.0  -1.0   0.0   0.0   0.0   0.0\n",
       "  0.0   0.0   0.0   0.0   0.0   0.0  …  -1.0   2.0  -1.0   0.0   0.0   0.0\n",
       "  0.0   0.0   0.0   0.0   0.0   0.0      0.0  -1.0   2.0  -1.0   0.0   0.0\n",
       "  0.0   0.0   0.0   0.0   0.0   0.0      0.0   0.0  -1.0   2.0  -1.0   0.0\n",
       "  0.0   0.0   0.0   0.0   0.0   0.0      0.0   0.0   0.0  -1.0   2.0  -1.0\n",
       "  0.0   0.0   0.0   0.0   0.0   0.0      0.0   0.0   0.0   0.0  -1.0   2.0"
      ]
     },
     "execution_count": 7,
     "metadata": {},
     "output_type": "execute_result"
    }
   ],
   "source": [
    "A"
   ]
  },
  {
   "cell_type": "code",
   "execution_count": 8,
   "id": "c5d98dfe",
   "metadata": {},
   "outputs": [
    {
     "data": {
      "text/plain": [
       "10000×10000 Matrix{Float64}:\n",
       " 0.9999      0.9998      0.9997      …  0.00029997  0.00019998  9.999e-5\n",
       " 0.9998      1.9996      1.9994         0.00059994  0.00039996  0.00019998\n",
       " 0.9997      1.9994      2.9991         0.00089991  0.00059994  0.00029997\n",
       " 0.9996      1.9992      2.9988         0.00119988  0.00079992  0.00039996\n",
       " 0.9995      1.999       2.9985         0.00149985  0.0009999   0.00049995\n",
       " 0.9994      1.9988      2.9982      …  0.00179982  0.00119988  0.00059994\n",
       " 0.9993      1.9986      2.9979         0.00209979  0.00139986  0.00069993\n",
       " 0.9992      1.9984      2.9976         0.00239976  0.00159984  0.00079992\n",
       " 0.9991      1.9982      2.9973         0.00269973  0.00179982  0.00089991\n",
       " 0.999       1.998       2.997          0.0029997   0.0019998   0.0009999\n",
       " 0.9989      1.9978      2.9967      …  0.00329967  0.00219978  0.00109989\n",
       " 0.9988      1.9976      2.9964         0.00359964  0.00239976  0.00119988\n",
       " 0.9987      1.9974      2.9961         0.00389961  0.00259974  0.00129987\n",
       " ⋮                                   ⋱                          \n",
       " 0.00119988  0.00239976  0.00359964     2.9964      1.9976      0.9988\n",
       " 0.00109989  0.00219978  0.00329967     2.9967      1.9978      0.9989\n",
       " 0.0009999   0.0019998   0.0029997   …  2.997       1.998       0.999\n",
       " 0.00089991  0.00179982  0.00269973     2.9973      1.9982      0.9991\n",
       " 0.00079992  0.00159984  0.00239976     2.9976      1.9984      0.9992\n",
       " 0.00069993  0.00139986  0.00209979     2.9979      1.9986      0.9993\n",
       " 0.00059994  0.00119988  0.00179982     2.9982      1.9988      0.9994\n",
       " 0.00049995  0.0009999   0.00149985  …  2.9985      1.999       0.9995\n",
       " 0.00039996  0.00079992  0.00119988     2.9988      1.9992      0.9996\n",
       " 0.00029997  0.00059994  0.00089991     2.9991      1.9994      0.9997\n",
       " 0.00019998  0.00039996  0.00059994     1.9994      1.9996      0.9998\n",
       " 9.999e-5    0.00019998  0.00029997     0.9997      0.9998      0.9999"
      ]
     },
     "execution_count": 8,
     "metadata": {},
     "output_type": "execute_result"
    }
   ],
   "source": [
    "inv(A)"
   ]
  },
  {
   "cell_type": "markdown",
   "id": "770d760b",
   "metadata": {},
   "source": [
    "Nous pouvons déjà remarque que $A$ est creuse, alors que son inverse est dense.\n",
    "\n",
    "Créons le membre de droite du système."
   ]
  },
  {
   "cell_type": "code",
   "execution_count": 9,
   "id": "ace5b4ad",
   "metadata": {},
   "outputs": [
    {
     "data": {
      "text/plain": [
       "10000-element Vector{Float64}:\n",
       " 1.0\n",
       " 1.0\n",
       " 1.0\n",
       " 1.0\n",
       " 1.0\n",
       " 1.0\n",
       " 1.0\n",
       " 1.0\n",
       " 1.0\n",
       " 1.0\n",
       " 1.0\n",
       " 1.0\n",
       " 1.0\n",
       " ⋮\n",
       " 1.0\n",
       " 1.0\n",
       " 1.0\n",
       " 1.0\n",
       " 1.0\n",
       " 1.0\n",
       " 1.0\n",
       " 1.0\n",
       " 1.0\n",
       " 1.0\n",
       " 1.0\n",
       " 1.0"
      ]
     },
     "execution_count": 9,
     "metadata": {},
     "output_type": "execute_result"
    }
   ],
   "source": [
    "b = ones(n)"
   ]
  },
  {
   "cell_type": "markdown",
   "id": "81eac955",
   "metadata": {},
   "source": [
    "Nous résolvons à présent le système avec les deux techniques."
   ]
  },
  {
   "cell_type": "code",
   "execution_count": 10,
   "id": "58af8947",
   "metadata": {},
   "outputs": [
    {
     "data": {
      "text/plain": [
       "10000-element Vector{Float64}:\n",
       "  5000.000000045538\n",
       "  9999.000000091077\n",
       " 14997.000000136684\n",
       " 19994.000000182154\n",
       " 24990.000000227927\n",
       " 29985.00000027337\n",
       " 34979.00000031873\n",
       " 39972.00000036431\n",
       " 44964.0000004103\n",
       " 49955.00000045585\n",
       " 54945.00000050121\n",
       " 59934.00000054674\n",
       " 64922.00000059278\n",
       "     ⋮\n",
       " 59934.00000044705\n",
       " 54945.00000040976\n",
       " 49955.00000037252\n",
       " 44964.00000033524\n",
       " 39972.00000029784\n",
       " 34979.00000026078\n",
       " 29985.000000223507\n",
       " 24990.000000186257\n",
       " 19994.00000014891\n",
       " 14997.000000111753\n",
       "  9999.000000074457\n",
       "  5000.000000037227"
      ]
     },
     "execution_count": 10,
     "metadata": {},
     "output_type": "execute_result"
    }
   ],
   "source": [
    "x1 = inv(A)*b"
   ]
  },
  {
   "cell_type": "code",
   "execution_count": 11,
   "id": "aded4c97",
   "metadata": {},
   "outputs": [
    {
     "data": {
      "text/plain": [
       "10000-element Vector{Float64}:\n",
       "  5000.000000045416\n",
       "  9999.000000090831\n",
       " 14997.000000136246\n",
       " 19994.000000181662\n",
       " 24990.00000022708\n",
       " 29985.000000272492\n",
       " 34979.0000003179\n",
       " 39972.00000036331\n",
       " 44964.00000040873\n",
       " 49955.00000045414\n",
       " 54945.00000049956\n",
       " 59934.00000054497\n",
       " 64922.00000059038\n",
       "     ⋮\n",
       " 59934.00000044709\n",
       " 54945.00000040984\n",
       " 49955.00000037258\n",
       " 44964.00000033532\n",
       " 39972.00000029806\n",
       " 34979.0000002608\n",
       " 29985.000000223543\n",
       " 24990.000000186286\n",
       " 19994.00000014903\n",
       " 14997.000000111771\n",
       "  9999.000000074513\n",
       "  5000.000000037257"
      ]
     },
     "execution_count": 11,
     "metadata": {},
     "output_type": "execute_result"
    }
   ],
   "source": [
    "x2 = A\\b"
   ]
  },
  {
   "cell_type": "markdown",
   "id": "951f5406",
   "metadata": {},
   "source": [
    "Comparons la précision des résultats."
   ]
  },
  {
   "cell_type": "code",
   "execution_count": 12,
   "id": "5fc4edaf",
   "metadata": {},
   "outputs": [
    {
     "data": {
      "text/plain": [
       "2-element Vector{Float64}:\n",
       " 6.092394679123966e-6\n",
       " 9.80680834030312e-8"
      ]
     },
     "execution_count": 12,
     "metadata": {},
     "output_type": "execute_result"
    }
   ],
   "source": [
    "[norm(A*x1-b), norm(A*x2-b)]"
   ]
  },
  {
   "cell_type": "markdown",
   "id": "c0102deb",
   "metadata": {},
   "source": [
    "Nous voyons que la technique de factorisation est légèremement plus précise.\n",
    "\n",
    "Comparons les temps d'exécution."
   ]
  },
  {
   "cell_type": "code",
   "execution_count": 13,
   "id": "03b6c73f",
   "metadata": {},
   "outputs": [
    {
     "data": {
      "text/plain": [
       "BenchmarkTools.Trial: 1 sample with 1 evaluation.\n",
       " Single result which took \u001b[34m44.874 s\u001b[39m (0.00% GC) to evaluate,\n",
       " with a memory estimate of \u001b[33m767.98 MiB\u001b[39m, over \u001b[33m8\u001b[39m allocations."
      ]
     },
     "execution_count": 13,
     "metadata": {},
     "output_type": "execute_result"
    }
   ],
   "source": [
    "@benchmark inv(A)*b"
   ]
  },
  {
   "cell_type": "code",
   "execution_count": 14,
   "id": "39e22ce4",
   "metadata": {},
   "outputs": [
    {
     "data": {
      "text/plain": [
       "BenchmarkTools.Trial: 1 sample with 1 evaluation.\n",
       " Single result which took \u001b[34m10.997 s\u001b[39m (0.00% GC) to evaluate,\n",
       " with a memory estimate of \u001b[33m763.09 MiB\u001b[39m, over \u001b[33m6\u001b[39m allocations."
      ]
     },
     "execution_count": 14,
     "metadata": {},
     "output_type": "execute_result"
    }
   ],
   "source": [
    "@benchmark A\\b"
   ]
  },
  {
   "cell_type": "markdown",
   "id": "9ddef3fc",
   "metadata": {},
   "source": [
    "Nous allons à présent exploiter le caractère creux de $A$."
   ]
  },
  {
   "cell_type": "code",
   "execution_count": 15,
   "id": "e612597e",
   "metadata": {},
   "outputs": [],
   "source": [
    "using SparseArrays"
   ]
  },
  {
   "cell_type": "code",
   "execution_count": 16,
   "id": "60a63ce2",
   "metadata": {},
   "outputs": [
    {
     "data": {
      "text/plain": [
       "10000×10000 SparseMatrixCSC{Float64, Int64} with 29998 stored entries:\n",
       "⠻⣦⡀⠀⠀⠀⠀⠀⠀⠀⠀⠀⠀⠀⠀⠀⠀⠀⠀⠀⠀⠀⠀⠀⠀⠀⠀⠀⠀⠀⠀⠀⠀⠀⠀⠀⠀⠀⠀⠀\n",
       "⠀⠈⠻⣦⡀⠀⠀⠀⠀⠀⠀⠀⠀⠀⠀⠀⠀⠀⠀⠀⠀⠀⠀⠀⠀⠀⠀⠀⠀⠀⠀⠀⠀⠀⠀⠀⠀⠀⠀⠀\n",
       "⠀⠀⠀⠈⠻⣦⡀⠀⠀⠀⠀⠀⠀⠀⠀⠀⠀⠀⠀⠀⠀⠀⠀⠀⠀⠀⠀⠀⠀⠀⠀⠀⠀⠀⠀⠀⠀⠀⠀⠀\n",
       "⠀⠀⠀⠀⠀⠈⠻⣦⡀⠀⠀⠀⠀⠀⠀⠀⠀⠀⠀⠀⠀⠀⠀⠀⠀⠀⠀⠀⠀⠀⠀⠀⠀⠀⠀⠀⠀⠀⠀⠀\n",
       "⠀⠀⠀⠀⠀⠀⠀⠈⠻⣦⡀⠀⠀⠀⠀⠀⠀⠀⠀⠀⠀⠀⠀⠀⠀⠀⠀⠀⠀⠀⠀⠀⠀⠀⠀⠀⠀⠀⠀⠀\n",
       "⠀⠀⠀⠀⠀⠀⠀⠀⠀⠈⠻⣦⡀⠀⠀⠀⠀⠀⠀⠀⠀⠀⠀⠀⠀⠀⠀⠀⠀⠀⠀⠀⠀⠀⠀⠀⠀⠀⠀⠀\n",
       "⠀⠀⠀⠀⠀⠀⠀⠀⠀⠀⠀⠈⠻⣦⡀⠀⠀⠀⠀⠀⠀⠀⠀⠀⠀⠀⠀⠀⠀⠀⠀⠀⠀⠀⠀⠀⠀⠀⠀⠀\n",
       "⠀⠀⠀⠀⠀⠀⠀⠀⠀⠀⠀⠀⠀⠈⠻⣦⡀⠀⠀⠀⠀⠀⠀⠀⠀⠀⠀⠀⠀⠀⠀⠀⠀⠀⠀⠀⠀⠀⠀⠀\n",
       "⠀⠀⠀⠀⠀⠀⠀⠀⠀⠀⠀⠀⠀⠀⠀⠈⠻⣦⡀⠀⠀⠀⠀⠀⠀⠀⠀⠀⠀⠀⠀⠀⠀⠀⠀⠀⠀⠀⠀⠀\n",
       "⠀⠀⠀⠀⠀⠀⠀⠀⠀⠀⠀⠀⠀⠀⠀⠀⠀⠈⠻⣦⡀⠀⠀⠀⠀⠀⠀⠀⠀⠀⠀⠀⠀⠀⠀⠀⠀⠀⠀⠀\n",
       "⠀⠀⠀⠀⠀⠀⠀⠀⠀⠀⠀⠀⠀⠀⠀⠀⠀⠀⠀⠈⠻⣦⡀⠀⠀⠀⠀⠀⠀⠀⠀⠀⠀⠀⠀⠀⠀⠀⠀⠀\n",
       "⠀⠀⠀⠀⠀⠀⠀⠀⠀⠀⠀⠀⠀⠀⠀⠀⠀⠀⠀⠀⠀⠈⠻⣦⡀⠀⠀⠀⠀⠀⠀⠀⠀⠀⠀⠀⠀⠀⠀⠀\n",
       "⠀⠀⠀⠀⠀⠀⠀⠀⠀⠀⠀⠀⠀⠀⠀⠀⠀⠀⠀⠀⠀⠀⠀⠈⠻⣦⡀⠀⠀⠀⠀⠀⠀⠀⠀⠀⠀⠀⠀⠀\n",
       "⠀⠀⠀⠀⠀⠀⠀⠀⠀⠀⠀⠀⠀⠀⠀⠀⠀⠀⠀⠀⠀⠀⠀⠀⠀⠈⠻⣦⡀⠀⠀⠀⠀⠀⠀⠀⠀⠀⠀⠀\n",
       "⠀⠀⠀⠀⠀⠀⠀⠀⠀⠀⠀⠀⠀⠀⠀⠀⠀⠀⠀⠀⠀⠀⠀⠀⠀⠀⠀⠈⠻⣦⡀⠀⠀⠀⠀⠀⠀⠀⠀⠀\n",
       "⠀⠀⠀⠀⠀⠀⠀⠀⠀⠀⠀⠀⠀⠀⠀⠀⠀⠀⠀⠀⠀⠀⠀⠀⠀⠀⠀⠀⠀⠈⠻⣦⡀⠀⠀⠀⠀⠀⠀⠀\n",
       "⠀⠀⠀⠀⠀⠀⠀⠀⠀⠀⠀⠀⠀⠀⠀⠀⠀⠀⠀⠀⠀⠀⠀⠀⠀⠀⠀⠀⠀⠀⠀⠈⠻⣦⡀⠀⠀⠀⠀⠀\n",
       "⠀⠀⠀⠀⠀⠀⠀⠀⠀⠀⠀⠀⠀⠀⠀⠀⠀⠀⠀⠀⠀⠀⠀⠀⠀⠀⠀⠀⠀⠀⠀⠀⠀⠈⠻⣦⡀⠀⠀⠀\n",
       "⠀⠀⠀⠀⠀⠀⠀⠀⠀⠀⠀⠀⠀⠀⠀⠀⠀⠀⠀⠀⠀⠀⠀⠀⠀⠀⠀⠀⠀⠀⠀⠀⠀⠀⠀⠈⠻⣦⡀⠀\n",
       "⠀⠀⠀⠀⠀⠀⠀⠀⠀⠀⠀⠀⠀⠀⠀⠀⠀⠀⠀⠀⠀⠀⠀⠀⠀⠀⠀⠀⠀⠀⠀⠀⠀⠀⠀⠀⠀⠈⠻⣦"
      ]
     },
     "execution_count": 16,
     "metadata": {},
     "output_type": "execute_result"
    }
   ],
   "source": [
    "A2 = sparse(A)"
   ]
  },
  {
   "cell_type": "code",
   "execution_count": 17,
   "id": "1909169b",
   "metadata": {},
   "outputs": [
    {
     "ename": "LoadError",
     "evalue": "The inverse of a sparse matrix can often be dense and can cause the computer to run out of memory. If you are sure you have enough memory, please convert your matrix to a dense matrix, e.g. by calling `Matrix`.",
     "output_type": "error",
     "traceback": [
      "The inverse of a sparse matrix can often be dense and can cause the computer to run out of memory. If you are sure you have enough memory, please convert your matrix to a dense matrix, e.g. by calling `Matrix`.",
      "",
      "Stacktrace:",
      " [1] error(s::String)",
      "   @ Base .\\error.jl:35",
      " [2] inv(A::SparseMatrixCSC{Float64, Int64})",
      "   @ SparseArrays C:\\Users\\slash\\AppData\\Local\\Programs\\Julia-1.8.0\\share\\julia\\stdlib\\v1.8\\SparseArrays\\src\\linalg.jl:1453",
      " [3] top-level scope",
      "   @ In[17]:1",
      " [4] eval",
      "   @ .\\boot.jl:368 [inlined]",
      " [5] include_string(mapexpr::typeof(REPL.softscope), mod::Module, code::String, filename::String)",
      "   @ Base .\\loading.jl:1428"
     ]
    }
   ],
   "source": [
    "inv(A2)"
   ]
  },
  {
   "cell_type": "markdown",
   "id": "a6d1a7cf",
   "metadata": {},
   "source": [
    "Nous voyons que Julia détecte que l'opération d'inversion serait inefficace au niveau mémoire."
   ]
  },
  {
   "cell_type": "code",
   "execution_count": 18,
   "id": "169a2c86",
   "metadata": {},
   "outputs": [
    {
     "data": {
      "text/plain": [
       "10000-element Vector{Float64}:\n",
       "  4999.999999895034\n",
       "  9998.99999979007\n",
       " 14996.999999685106\n",
       " 19993.999999580148\n",
       " 24989.999999475192\n",
       " 29984.999999370233\n",
       " 34978.99999926528\n",
       " 39971.99999916034\n",
       " 44963.99999905539\n",
       " 49954.99999895044\n",
       " 54944.999998845495\n",
       " 59933.99999874056\n",
       " 64921.999998635605\n",
       "     ⋮\n",
       " 59933.99999992769\n",
       " 54944.999999933745\n",
       " 49954.99999993978\n",
       " 44963.999999945816\n",
       " 39971.99999995184\n",
       " 34978.99999995786\n",
       " 29984.999999963875\n",
       " 24989.999999969892\n",
       " 19993.999999975913\n",
       " 14996.999999981937\n",
       "  9998.99999998796\n",
       "  4999.999999993979"
      ]
     },
     "execution_count": 18,
     "metadata": {},
     "output_type": "execute_result"
    }
   ],
   "source": [
    "x3 = A2\\b"
   ]
  },
  {
   "cell_type": "code",
   "execution_count": 19,
   "id": "55a90d9e",
   "metadata": {},
   "outputs": [
    {
     "data": {
      "text/plain": [
       "BenchmarkTools.Trial: 714 samples with 1 evaluation.\n",
       " Range \u001b[90m(\u001b[39m\u001b[36m\u001b[1mmin\u001b[22m\u001b[39m … \u001b[35mmax\u001b[39m\u001b[90m):  \u001b[39m\u001b[36m\u001b[1m4.781 ms\u001b[22m\u001b[39m … \u001b[35m101.330 ms\u001b[39m  \u001b[90m┊\u001b[39m GC \u001b[90m(\u001b[39mmin … max\u001b[90m): \u001b[39m0.00% … 12.80%\n",
       " Time  \u001b[90m(\u001b[39m\u001b[34m\u001b[1mmedian\u001b[22m\u001b[39m\u001b[90m):     \u001b[39m\u001b[34m\u001b[1m6.395 ms               \u001b[22m\u001b[39m\u001b[90m┊\u001b[39m GC \u001b[90m(\u001b[39mmedian\u001b[90m):    \u001b[39m0.00%\n",
       " Time  \u001b[90m(\u001b[39m\u001b[32m\u001b[1mmean\u001b[22m\u001b[39m ± \u001b[32mσ\u001b[39m\u001b[90m):   \u001b[39m\u001b[32m\u001b[1m6.984 ms\u001b[22m\u001b[39m ± \u001b[32m  5.542 ms\u001b[39m  \u001b[90m┊\u001b[39m GC \u001b[90m(\u001b[39mmean ± σ\u001b[90m):  \u001b[39m0.71% ±  0.84%\n",
       "\n",
       "  \u001b[39m \u001b[39m \u001b[39m \u001b[39m \u001b[39m \u001b[39m \u001b[39m \u001b[39m \u001b[39m \u001b[39m \u001b[39m \u001b[39m \u001b[39m \u001b[39m \u001b[39m \u001b[39m \u001b[39m▁\u001b[39m▃\u001b[39m▆\u001b[39m█\u001b[39m▆\u001b[34m▂\u001b[39m\u001b[39m▁\u001b[39m \u001b[39m \u001b[39m \u001b[39m \u001b[39m \u001b[32m \u001b[39m\u001b[39m \u001b[39m \u001b[39m \u001b[39m \u001b[39m \u001b[39m \u001b[39m \u001b[39m \u001b[39m \u001b[39m \u001b[39m \u001b[39m \u001b[39m \u001b[39m \u001b[39m \u001b[39m \u001b[39m \u001b[39m \u001b[39m \u001b[39m \u001b[39m \u001b[39m \u001b[39m \u001b[39m \u001b[39m \u001b[39m \u001b[39m \u001b[39m \u001b[39m \u001b[39m \u001b[39m \u001b[39m \n",
       "  \u001b[39m▂\u001b[39m▁\u001b[39m▁\u001b[39m▂\u001b[39m▁\u001b[39m▂\u001b[39m▂\u001b[39m▂\u001b[39m▂\u001b[39m▂\u001b[39m▂\u001b[39m▂\u001b[39m▁\u001b[39m▃\u001b[39m▅\u001b[39m▄\u001b[39m█\u001b[39m█\u001b[39m█\u001b[39m█\u001b[39m█\u001b[34m█\u001b[39m\u001b[39m█\u001b[39m█\u001b[39m▆\u001b[39m▄\u001b[39m▄\u001b[39m▄\u001b[32m▄\u001b[39m\u001b[39m▄\u001b[39m▃\u001b[39m▄\u001b[39m▂\u001b[39m▃\u001b[39m▃\u001b[39m▃\u001b[39m▃\u001b[39m▃\u001b[39m▃\u001b[39m▃\u001b[39m▃\u001b[39m▃\u001b[39m▂\u001b[39m▂\u001b[39m▃\u001b[39m▂\u001b[39m▂\u001b[39m▂\u001b[39m▂\u001b[39m▃\u001b[39m▃\u001b[39m▁\u001b[39m▂\u001b[39m▂\u001b[39m▁\u001b[39m▂\u001b[39m▂\u001b[39m▂\u001b[39m▂\u001b[39m \u001b[39m▃\n",
       "  4.78 ms\u001b[90m         Histogram: frequency by time\u001b[39m        9.41 ms \u001b[0m\u001b[1m<\u001b[22m\n",
       "\n",
       " Memory estimate\u001b[90m: \u001b[39m\u001b[33m3.97 MiB\u001b[39m, allocs estimate\u001b[90m: \u001b[39m\u001b[33m61\u001b[39m."
      ]
     },
     "execution_count": 19,
     "metadata": {},
     "output_type": "execute_result"
    }
   ],
   "source": [
    "@benchmark A2\\b"
   ]
  },
  {
   "cell_type": "code",
   "execution_count": 20,
   "id": "c947cb96",
   "metadata": {},
   "outputs": [
    {
     "data": {
      "text/plain": [
       "1.812764511440225e-7"
      ]
     },
     "execution_count": 20,
     "metadata": {},
     "output_type": "execute_result"
    }
   ],
   "source": [
    "norm(A*x3-b)"
   ]
  },
  {
   "cell_type": "markdown",
   "id": "14017115",
   "metadata": {},
   "source": [
    "La précision reste similaire au cas dense, mais le temps d'exécution est significativement plus faible."
   ]
  },
  {
   "cell_type": "markdown",
   "id": "185da664",
   "metadata": {},
   "source": [
    "## Précision des résultats"
   ]
  },
  {
   "cell_type": "markdown",
   "id": "18015637",
   "metadata": {},
   "source": [
    "Nous allons modifier la diagonale de la matrice pour accentuer les résultats."
   ]
  },
  {
   "cell_type": "code",
   "execution_count": null,
   "id": "86ed74e1",
   "metadata": {},
   "outputs": [],
   "source": [
    "for i = 1:n\n",
    "    A[i,i] = 10.0^(-i)\n",
    "end\n",
    "\n",
    "A"
   ]
  },
  {
   "cell_type": "markdown",
   "id": "fc3b0c9c",
   "metadata": {},
   "source": [
    "Nous calculons le système suivant les deux techniques."
   ]
  },
  {
   "cell_type": "code",
   "execution_count": null,
   "id": "f9b2d82c",
   "metadata": {},
   "outputs": [],
   "source": [
    "x1 = inv(A)*b"
   ]
  },
  {
   "cell_type": "code",
   "execution_count": null,
   "id": "a3cd44a4",
   "metadata": {},
   "outputs": [],
   "source": [
    "x2 = A\\b"
   ]
  },
  {
   "cell_type": "markdown",
   "id": "e45bb82a",
   "metadata": {},
   "source": [
    "Calculons aussi en utilisant une matrice creuse."
   ]
  },
  {
   "cell_type": "code",
   "execution_count": null,
   "id": "230329bd",
   "metadata": {},
   "outputs": [],
   "source": [
    "A2 = sparse(A)"
   ]
  },
  {
   "cell_type": "code",
   "execution_count": null,
   "id": "786e0330",
   "metadata": {},
   "outputs": [],
   "source": [
    "x3 = A2\\b"
   ]
  },
  {
   "cell_type": "code",
   "execution_count": null,
   "id": "a4fd9f19",
   "metadata": {},
   "outputs": [],
   "source": [
    "[norm(A*x1-b) norm(A*x2-b) norm(A*x3-b)]"
   ]
  },
  {
   "cell_type": "markdown",
   "id": "f5068d1c",
   "metadata": {},
   "source": [
    "À nouveau, nous voyons que la technique d'inversion donne des résultats moins intéressants.\n",
    "\n",
    "Le phénonème peut être observé même sur des matrices de petite dimension quand la matrice est presque singulière."
   ]
  },
  {
   "cell_type": "code",
   "execution_count": null,
   "id": "23b8a214",
   "metadata": {},
   "outputs": [],
   "source": [
    "b = [1.0 ; 1.0]\n",
    "M = [ 1.01 1+10^(-12) ; 1+10^(-12) 1.01 ]"
   ]
  },
  {
   "cell_type": "code",
   "execution_count": null,
   "id": "6a07e5f6",
   "metadata": {},
   "outputs": [],
   "source": [
    "det(M)"
   ]
  },
  {
   "cell_type": "code",
   "execution_count": null,
   "id": "c5447540",
   "metadata": {},
   "outputs": [],
   "source": [
    "x1 = inv(M)*b"
   ]
  },
  {
   "cell_type": "code",
   "execution_count": null,
   "id": "62f9ce75",
   "metadata": {},
   "outputs": [],
   "source": [
    "x2 = M\\b"
   ]
  },
  {
   "cell_type": "code",
   "execution_count": null,
   "id": "4edff763",
   "metadata": {},
   "outputs": [],
   "source": [
    "[ norm(M*x1-b) norm(M*x2-b) ]"
   ]
  },
  {
   "cell_type": "markdown",
   "id": "d66582f1",
   "metadata": {},
   "source": [
    "L'inversion est un peu moins précise, mais acceptable. Considérons une situation encore plus proche de la singularité."
   ]
  },
  {
   "cell_type": "code",
   "execution_count": null,
   "id": "47236005",
   "metadata": {},
   "outputs": [],
   "source": [
    "M = [ 1.0 1+10^(-8) ; 1+10^(-8) 1.0 ]"
   ]
  },
  {
   "cell_type": "code",
   "execution_count": null,
   "id": "68f6c756",
   "metadata": {},
   "outputs": [],
   "source": [
    "det(M)"
   ]
  },
  {
   "cell_type": "code",
   "execution_count": null,
   "id": "2a23ca9a",
   "metadata": {},
   "outputs": [],
   "source": [
    "x1 = inv(M)*b"
   ]
  },
  {
   "cell_type": "code",
   "execution_count": null,
   "id": "dfe5026f",
   "metadata": {},
   "outputs": [],
   "source": [
    "x2 = M\\b"
   ]
  },
  {
   "cell_type": "code",
   "execution_count": null,
   "id": "3bf87556",
   "metadata": {},
   "outputs": [],
   "source": [
    "[ norm(M*x1-b) norm(M*x2-b) ]"
   ]
  },
  {
   "cell_type": "markdown",
   "id": "93dbbd48",
   "metadata": {},
   "source": [
    "Ici, la précision est nettement meilleure avec la factorisation.\n",
    "\n",
    "Remarquons en fait qu'inverser une matrice revient à résoudre un système linéaire pour chaque vecteur de la base canonique."
   ]
  },
  {
   "cell_type": "code",
   "execution_count": null,
   "id": "531499af",
   "metadata": {},
   "outputs": [],
   "source": [
    "Minv = M\\I"
   ]
  },
  {
   "cell_type": "code",
   "execution_count": null,
   "id": "e9d2134e",
   "metadata": {},
   "outputs": [],
   "source": [
    "x3 = Minv*b"
   ]
  },
  {
   "cell_type": "code",
   "execution_count": null,
   "id": "a2ab2c60",
   "metadata": {},
   "outputs": [],
   "source": [
    "norm(M*x3-b)"
   ]
  },
  {
   "cell_type": "markdown",
   "id": "6e2a4cb0",
   "metadata": {},
   "source": [
    "On retrouve la même précision qu'avec l'utilisation de la fonction `inv`. En fait, les matrices sont les mêmes!"
   ]
  },
  {
   "cell_type": "code",
   "execution_count": null,
   "id": "10317383",
   "metadata": {},
   "outputs": [],
   "source": [
    "Minv-inv(M)"
   ]
  },
  {
   "cell_type": "markdown",
   "id": "7a700682",
   "metadata": {},
   "source": [
    "Utiliser l'inversion revient donc à effectuer une étape coûteuse de calcul préalable, et à accumuler davantage les erreurs de calcul."
   ]
  }
 ],
 "metadata": {
  "kernelspec": {
   "display_name": "Julia 1.8.0",
   "language": "julia",
   "name": "julia-1.8"
  },
  "language_info": {
   "file_extension": ".jl",
   "mimetype": "application/julia",
   "name": "julia",
   "version": "1.8.0"
  }
 },
 "nbformat": 4,
 "nbformat_minor": 5
}
