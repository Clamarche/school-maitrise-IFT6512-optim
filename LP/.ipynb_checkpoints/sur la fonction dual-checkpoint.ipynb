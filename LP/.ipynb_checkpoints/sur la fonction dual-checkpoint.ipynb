{
 "cells": [
  {
   "cell_type": "markdown",
   "metadata": {},
   "source": [
    "# La fonction `dual`"
   ]
  },
  {
   "cell_type": "markdown",
   "metadata": {},
   "source": [
    "La fonction `dual` telle qu'implémentée dans JuMP traduit une notion légèrement différente de la dualité, tel qu'illustré ci-dessous."
   ]
  },
  {
   "cell_type": "code",
   "execution_count": 24,
   "metadata": {},
   "outputs": [],
   "source": [
    "using JuMP\n",
    "using LinearAlgebra\n",
    "using Gurobi\n",
    "using GLPK"
   ]
  },
  {
   "cell_type": "markdown",
   "metadata": {},
   "source": [
    "Considérons le programme linéaire suivant."
   ]
  },
  {
   "cell_type": "code",
   "execution_count": 2,
   "metadata": {},
   "outputs": [
    {
     "name": "stdout",
     "output_type": "stream",
     "text": [
      "Min 4 x[1] + 2 x[2] + x[3]\n",
      "Subject to\n",
      " c1 : x[1] + x[2] >= 3.0\n",
      " n2 : x[2] >= 0.0\n",
      " c2 : -2 x[1] + 2 x[2] - 4 x[3] <= 5.0\n",
      " n3 : x[3] <= 0.0\n",
      "\n"
     ]
    }
   ],
   "source": [
    "m = Model()\n",
    "\n",
    "@variable(m, x[1:3])\n",
    "\n",
    "@constraint(m, c1, sum(x[i] for i = 1:2) >= 3)\n",
    "@constraint(m, c2, -2x[1] + 2x[2] - 4x[3] <= 5)\n",
    "\n",
    "@constraint(m, n2, x[2] >= 0)\n",
    "@constraint(m, n3, x[3] <= 0)\n",
    "\n",
    "@objective(m, Min, 4x[1]+2x[2]+x[3])\n",
    "\n",
    "println(m)"
   ]
  },
  {
   "cell_type": "code",
   "execution_count": 3,
   "metadata": {},
   "outputs": [
    {
     "name": "stdout",
     "output_type": "stream",
     "text": [
      "Academic license - for non-commercial use only - expires 2021-10-29\r\n",
      "Gurobi Optimizer version 9.1.2 build v9.1.2rc0 (win64)\r\n",
      "Thread count: 6 physical cores, 12 logical processors, using up to 12 threads\r\n",
      "Optimize a model with 4 rows, 3 columns and 7 nonzeros\r\n",
      "Model fingerprint: 0x16138732\r\n",
      "Coefficient statistics:\r\n",
      "  Matrix range     [1e+00, 4e+00]\r\n",
      "  Objective range  [1e+00, 4e+00]\r\n",
      "  Bounds range     [0e+00, 0e+00]\r\n",
      "  RHS range        [3e+00, 5e+00]\r\n",
      "Presolve removed 4 rows and 3 columns\r\n",
      "Presolve time: 0.00s\r\n",
      "Presolve: All rows and columns removed\r\n",
      "Iteration    Objective       Primal Inf.    Dual Inf.      Time\r\n",
      "       0    6.5000000e+00   0.000000e+00   0.000000e+00      0s\r\n",
      "\r\n",
      "Solved in 0 iterations and 0.00 seconds\r\n",
      "Optimal objective  6.500000000e+00\r\n",
      "\r\n",
      "User-callback calls 32, time in user-callback 0.00 sec\r\n"
     ]
    }
   ],
   "source": [
    "set_optimizer(m, Gurobi.Optimizer)\n",
    "\n",
    "optimize!(m)"
   ]
  },
  {
   "cell_type": "code",
   "execution_count": 4,
   "metadata": {},
   "outputs": [
    {
     "data": {
      "text/plain": [
       "3-element Vector{Float64}:\n",
       " 0.25\n",
       " 2.75\n",
       " 0.0"
      ]
     },
     "execution_count": 4,
     "metadata": {},
     "output_type": "execute_result"
    }
   ],
   "source": [
    "value.(x)"
   ]
  },
  {
   "cell_type": "markdown",
   "metadata": {},
   "source": [
    "Nous pouvons utiliser la fonction `dual` pour directement obtenir les valeurs des variables duales, mais comme expliqué à la page https://jump.dev/JuMP.jl/stable/manual/constraints/, la fonction objectif n'est pas prise en compte comme le concept utilisé est celui de la dualité conique: https://jump.dev/MathOptInterface.jl/v0.9.1/apimanual/#Duals-1\n",
    "\n",
    "Dans le cas d'un programme de minimisation, nous obtenons le résultats souhaité."
   ]
  },
  {
   "cell_type": "code",
   "execution_count": 1,
   "metadata": {},
   "outputs": [
    {
     "ename": "LoadError",
     "evalue": "UndefVarError: dual not defined",
     "output_type": "error",
     "traceback": [
      "UndefVarError: dual not defined",
      "",
      "Stacktrace:",
      " [1] top-level scope",
      "   @ In[1]:1",
      " [2] eval",
      "   @ .\\boot.jl:360 [inlined]",
      " [3] include_string(mapexpr::typeof(REPL.softscope), mod::Module, code::String, filename::String)",
      "   @ Base .\\loading.jl:1116"
     ]
    }
   ],
   "source": [
    "[dual(c1) ; dual(c2)]"
   ]
  },
  {
   "cell_type": "markdown",
   "metadata": {},
   "source": [
    "JuMP propose aussi la fonction `shadow_price` qui évalue les changements dans l'objectif si nous relâchons le contrainte d'une unité. Le terme relaxation n'est pas précisément défini, mais nous pouvons voir que lorsque nous avons une inégalité plus grand que, le signe est l'opposé de ce que nous attendions."
   ]
  },
  {
   "cell_type": "code",
   "execution_count": 2,
   "metadata": {},
   "outputs": [
    {
     "ename": "LoadError",
     "evalue": "UndefVarError: shadow_price not defined",
     "output_type": "error",
     "traceback": [
      "UndefVarError: shadow_price not defined",
      "",
      "Stacktrace:",
      " [1] top-level scope",
      "   @ In[2]:1",
      " [2] eval",
      "   @ .\\boot.jl:360 [inlined]",
      " [3] include_string(mapexpr::typeof(REPL.softscope), mod::Module, code::String, filename::String)",
      "   @ Base .\\loading.jl:1116"
     ]
    }
   ],
   "source": [
    "[shadow_price(c1) ; shadow_price(c2)]"
   ]
  },
  {
   "cell_type": "markdown",
   "metadata": {},
   "source": [
    "Formons explicitement le problème dual afin de valider nos observations."
   ]
  },
  {
   "cell_type": "code",
   "execution_count": 7,
   "metadata": {},
   "outputs": [
    {
     "name": "stdout",
     "output_type": "stream",
     "text": [
      "Max 3 y[1] + 5 y[2]\n",
      "Subject to\n",
      " c1 : y[1] - 2 y[2] == 4.0\n",
      " c3 : -4 y[2] >= 1.0\n",
      " n1 : y[1] >= 0.0\n",
      " c2 : y[1] + 2 y[2] <= 2.0\n",
      " n2 : y[2] <= 0.0\n",
      "\n"
     ]
    }
   ],
   "source": [
    "m = Model()\n",
    "\n",
    "@variable(m, y[1:2])\n",
    "\n",
    "@constraint(m, c1, y[1] - 2y[2] == 4)\n",
    "@constraint(m, c2, y[1] + 2y[2] <= 2)\n",
    "@constraint(m, c3, -4y[2] >= 1)\n",
    "\n",
    "@constraint(m, n1, y[1] >= 0)\n",
    "@constraint(m, n2, y[2] <= 0)\n",
    "\n",
    "@objective(m, Max, 3y[1]+5y[2])\n",
    "\n",
    "println(m)"
   ]
  },
  {
   "cell_type": "code",
   "execution_count": 8,
   "metadata": {},
   "outputs": [
    {
     "name": "stdout",
     "output_type": "stream",
     "text": [
      "Academic license - for non-commercial use only - expires 2021-10-29\r\n",
      "Gurobi Optimizer version 9.1.2 build v9.1.2rc0 (win64)\r\n",
      "Thread count: 6 physical cores, 12 logical processors, using up to 12 threads\r\n",
      "Optimize a model with 5 rows, 2 columns and 7 nonzeros\r\n",
      "Model fingerprint: 0x7db6f978\r\n",
      "Coefficient statistics:\r\n",
      "  Matrix range     [1e+00, 4e+00]\r\n",
      "  Objective range  [3e+00, 5e+00]\r\n",
      "  Bounds range     [0e+00, 0e+00]\r\n",
      "  RHS range        [1e+00, 4e+00]\r\n",
      "Presolve removed 5 rows and 2 columns\r\n",
      "Presolve time: 0.00s\r\n",
      "Presolve: All rows and columns removed\r\n",
      "Iteration    Objective       Primal Inf.    Dual Inf.      Time\r\n",
      "       0    6.5000000e+00   0.000000e+00   0.000000e+00      0s\r\n",
      "\r\n",
      "Solved in 0 iterations and 0.00 seconds\r\n",
      "Optimal objective  6.500000000e+00\r\n",
      "\r\n",
      "User-callback calls 30, time in user-callback 0.00 sec\r\n"
     ]
    }
   ],
   "source": [
    "set_optimizer(m, Gurobi.Optimizer)\n",
    "\n",
    "optimize!(m)"
   ]
  },
  {
   "cell_type": "code",
   "execution_count": 9,
   "metadata": {},
   "outputs": [
    {
     "data": {
      "text/plain": [
       "2-element Vector{Float64}:\n",
       "  3.0\n",
       " -0.5"
      ]
     },
     "execution_count": 9,
     "metadata": {},
     "output_type": "execute_result"
    }
   ],
   "source": [
    "value.(y)"
   ]
  },
  {
   "cell_type": "markdown",
   "metadata": {},
   "source": [
    "Le problème est maintenant un programme linéaire de maximisation, et quand nous appelons la fonction `dual`, nous obtenons l'opposé la solution primale optimale."
   ]
  },
  {
   "cell_type": "code",
   "execution_count": 10,
   "metadata": {},
   "outputs": [
    {
     "data": {
      "text/plain": [
       "3-element Vector{Float64}:\n",
       " -0.25\n",
       " -2.75\n",
       " -0.0"
      ]
     },
     "execution_count": 10,
     "metadata": {},
     "output_type": "execute_result"
    }
   ],
   "source": [
    "[ dual(c1) ; dual(c2) ; dual(c3) ]"
   ]
  },
  {
   "cell_type": "markdown",
   "metadata": {},
   "source": [
    "Here, the shadow prices correspond to what we expect, but the negative sign on the last variable reflects that the corresponding inequality constraint is of the type greater than."
   ]
  },
  {
   "cell_type": "code",
   "execution_count": 11,
   "metadata": {},
   "outputs": [
    {
     "data": {
      "text/plain": [
       "3-element Vector{Float64}:\n",
       "  0.25\n",
       "  2.75\n",
       " -0.0"
      ]
     },
     "execution_count": 11,
     "metadata": {},
     "output_type": "execute_result"
    }
   ],
   "source": [
    "[ shadow_price(c1) ; shadow_price(c2) ; shadow_price(c3) ]"
   ]
  },
  {
   "cell_type": "markdown",
   "metadata": {},
   "source": [
    "We can also observe this behavior from the example given at https://jump.dev/JuMP.jl/stable/manual/constraints/"
   ]
  },
  {
   "cell_type": "code",
   "execution_count": 12,
   "metadata": {},
   "outputs": [
    {
     "name": "stdout",
     "output_type": "stream",
     "text": [
      "Academic license - for non-commercial use only - expires 2021-10-29\r\n",
      "Gurobi Optimizer version 9.1.2 build v9.1.2rc0 (win64)\r\n",
      "Thread count: 6 physical cores, 12 logical processors, using up to 12 threads\r\n",
      "Optimize a model with 1 rows, 1 columns and 1 nonzeros\r\n",
      "Model fingerprint: 0x57acb05e\r\n",
      "Coefficient statistics:\r\n",
      "  Matrix range     [1e+00, 1e+00]\r\n",
      "  Objective range  [2e+00, 2e+00]\r\n",
      "  Bounds range     [0e+00, 0e+00]\r\n",
      "  RHS range        [1e+00, 1e+00]\r\n",
      "Presolve removed 1 rows and 1 columns\r\n",
      "Presolve time: 0.00s\r\n",
      "Presolve: All rows and columns removed\r\n",
      "Iteration    Objective       Primal Inf.    Dual Inf.      Time\r\n",
      "       0   -2.0000000e+00   0.000000e+00   0.000000e+00      0s\r\n",
      "\r\n",
      "Solved in 0 iterations and 0.00 seconds\r\n",
      "Optimal objective -2.000000000e+00\r\n",
      "\r\n",
      "User-callback calls 24, time in user-callback 0.00 sec\r\n"
     ]
    },
    {
     "data": {
      "text/plain": [
       "-2.0"
      ]
     },
     "execution_count": 12,
     "metadata": {},
     "output_type": "execute_result"
    }
   ],
   "source": [
    "model = Model(Gurobi.Optimizer)\n",
    "@variable(model, x)\n",
    "@constraint(model, con, x <= 1)\n",
    "@objective(model, Min, -2x)\n",
    "optimize!(model)\n",
    "dual(con)"
   ]
  },
  {
   "cell_type": "code",
   "execution_count": 13,
   "metadata": {},
   "outputs": [
    {
     "data": {
      "text/plain": [
       "-2.0"
      ]
     },
     "execution_count": 13,
     "metadata": {},
     "output_type": "execute_result"
    }
   ],
   "source": [
    "shadow_price(con)"
   ]
  },
  {
   "cell_type": "code",
   "execution_count": 14,
   "metadata": {},
   "outputs": [
    {
     "data": {
      "text/latex": [
       "$$ 2 x $$"
      ],
      "text/plain": [
       "2 x"
      ]
     },
     "execution_count": 14,
     "metadata": {},
     "output_type": "execute_result"
    }
   ],
   "source": [
    " @objective(model, Max, 2x)"
   ]
  },
  {
   "cell_type": "code",
   "execution_count": 15,
   "metadata": {},
   "outputs": [
    {
     "name": "stdout",
     "output_type": "stream",
     "text": [
      "Gurobi Optimizer version 9.1.2 build v9.1.2rc0 (win64)\r\n",
      "Thread count: 6 physical cores, 12 logical processors, using up to 12 threads\r\n",
      "Optimize a model with 1 rows, 1 columns and 1 nonzeros\r\n",
      "Coefficient statistics:\r\n",
      "  Matrix range     [1e+00, 1e+00]\r\n",
      "  Objective range  [2e+00, 2e+00]\r\n",
      "  Bounds range     [0e+00, 0e+00]\r\n",
      "  RHS range        [1e+00, 1e+00]\r\n",
      "Iteration    Objective       Primal Inf.    Dual Inf.      Time\r\n",
      "       0    2.0000000e+00   0.000000e+00   0.000000e+00      0s\r\n",
      "\r\n",
      "Solved in 0 iterations and 0.00 seconds\r\n",
      "Optimal objective  2.000000000e+00\r\n",
      "\r\n",
      "User-callback calls 40, time in user-callback 0.00 sec\r\n"
     ]
    }
   ],
   "source": [
    "optimize!(model)"
   ]
  },
  {
   "cell_type": "code",
   "execution_count": 16,
   "metadata": {},
   "outputs": [
    {
     "data": {
      "text/plain": [
       "-2.0"
      ]
     },
     "execution_count": 16,
     "metadata": {},
     "output_type": "execute_result"
    }
   ],
   "source": [
    "dual(con)"
   ]
  },
  {
   "cell_type": "code",
   "execution_count": 17,
   "metadata": {},
   "outputs": [
    {
     "data": {
      "text/plain": [
       "2.0"
      ]
     },
     "execution_count": 17,
     "metadata": {},
     "output_type": "execute_result"
    }
   ],
   "source": [
    "shadow_price(con)"
   ]
  },
  {
   "cell_type": "code",
   "execution_count": 18,
   "metadata": {},
   "outputs": [
    {
     "name": "stdout",
     "output_type": "stream",
     "text": [
      "Academic license - for non-commercial use only - expires 2021-10-29\r\n",
      "Gurobi Optimizer version 9.1.2 build v9.1.2rc0 (win64)\r\n",
      "Thread count: 6 physical cores, 12 logical processors, using up to 12 threads\r\n",
      "Optimize a model with 1 rows, 1 columns and 1 nonzeros\r\n",
      "Model fingerprint: 0xdb4ec760\r\n",
      "Coefficient statistics:\r\n",
      "  Matrix range     [1e+00, 1e+00]\r\n",
      "  Objective range  [2e+00, 2e+00]\r\n",
      "  Bounds range     [0e+00, 0e+00]\r\n",
      "  RHS range        [1e+00, 1e+00]\r\n",
      "Presolve removed 1 rows and 1 columns\r\n",
      "Presolve time: 0.00s\r\n",
      "Presolve: All rows and columns removed\r\n",
      "Iteration    Objective       Primal Inf.    Dual Inf.      Time\r\n",
      "       0    2.0000000e+00   0.000000e+00   0.000000e+00      0s\r\n",
      "\r\n",
      "Solved in 0 iterations and 0.00 seconds\r\n",
      "Optimal objective  2.000000000e+00\r\n",
      "\r\n",
      "User-callback calls 24, time in user-callback 0.00 sec\r\n"
     ]
    }
   ],
   "source": [
    "model = Model(Gurobi.Optimizer)\n",
    "@variable(model, x)\n",
    "@constraint(model, con, -x >= 1)\n",
    "@objective(model, Min, -2x)\n",
    "optimize!(model)"
   ]
  },
  {
   "cell_type": "code",
   "execution_count": 19,
   "metadata": {},
   "outputs": [
    {
     "data": {
      "text/plain": [
       "2.0"
      ]
     },
     "execution_count": 19,
     "metadata": {},
     "output_type": "execute_result"
    }
   ],
   "source": [
    "dual(con)"
   ]
  },
  {
   "cell_type": "code",
   "execution_count": 20,
   "metadata": {},
   "outputs": [
    {
     "data": {
      "text/plain": [
       "-2.0"
      ]
     },
     "execution_count": 20,
     "metadata": {},
     "output_type": "execute_result"
    }
   ],
   "source": [
    "shadow_price(con)"
   ]
  },
  {
   "cell_type": "code",
   "execution_count": 21,
   "metadata": {},
   "outputs": [
    {
     "name": "stdout",
     "output_type": "stream",
     "text": [
      "Gurobi Optimizer version 9.1.2 build v9.1.2rc0 (win64)\r\n",
      "Thread count: 6 physical cores, 12 logical processors, using up to 12 threads\r\n",
      "Optimize a model with 1 rows, 1 columns and 1 nonzeros\r\n",
      "Coefficient statistics:\r\n",
      "  Matrix range     [1e+00, 1e+00]\r\n",
      "  Objective range  [2e+00, 2e+00]\r\n",
      "  Bounds range     [0e+00, 0e+00]\r\n",
      "  RHS range        [1e+00, 1e+00]\r\n",
      "Iteration    Objective       Primal Inf.    Dual Inf.      Time\r\n",
      "       0   -2.0000000e+00   0.000000e+00   0.000000e+00      0s\r\n",
      "\r\n",
      "Solved in 0 iterations and 0.00 seconds\r\n",
      "Optimal objective -2.000000000e+00\r\n",
      "\r\n",
      "User-callback calls 40, time in user-callback 0.00 sec\r\n"
     ]
    }
   ],
   "source": [
    "@objective(model, Max, 2x)\n",
    "optimize!(model)"
   ]
  },
  {
   "cell_type": "code",
   "execution_count": 22,
   "metadata": {},
   "outputs": [
    {
     "data": {
      "text/plain": [
       "2.0"
      ]
     },
     "execution_count": 22,
     "metadata": {},
     "output_type": "execute_result"
    }
   ],
   "source": [
    "dual(con)"
   ]
  },
  {
   "cell_type": "code",
   "execution_count": 23,
   "metadata": {},
   "outputs": [
    {
     "data": {
      "text/plain": [
       "2.0"
      ]
     },
     "execution_count": 23,
     "metadata": {},
     "output_type": "execute_result"
    }
   ],
   "source": [
    "shadow_price(con)"
   ]
  },
  {
   "cell_type": "code",
   "execution_count": null,
   "metadata": {},
   "outputs": [],
   "source": []
  }
 ],
 "metadata": {
  "kernelspec": {
   "display_name": "Julia 1.6.2",
   "language": "julia",
   "name": "julia-1.6"
  },
  "language_info": {
   "file_extension": ".jl",
   "mimetype": "application/julia",
   "name": "julia",
   "version": "1.6.2"
  }
 },
 "nbformat": 4,
 "nbformat_minor": 2
}
