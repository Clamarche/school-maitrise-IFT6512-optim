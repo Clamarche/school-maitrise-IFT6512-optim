{
 "cells": [
  {
   "cell_type": "code",
   "execution_count": null,
   "metadata": {},
   "outputs": [],
   "source": [
    "using JuMP, HiGHS, Plots"
   ]
  },
  {
   "cell_type": "code",
   "execution_count": null,
   "metadata": {},
   "outputs": [],
   "source": [
    "m = Model(HiGHS.Optimizer)\n",
    "@variable(m, 0 <= x <= 4)\n",
    "@variable(m, 0 <= y <= 6)\n",
    "@constraint(m, 3x + 2y <= 18.0)"
   ]
  },
  {
   "cell_type": "code",
   "execution_count": null,
   "metadata": {},
   "outputs": [],
   "source": [
    "x = 4\n",
    "(x -> (18 - 3*x)/2)(x)"
   ]
  },
  {
   "cell_type": "markdown",
   "metadata": {},
   "source": [
    "$$\n",
    "y \\leq \\frac{18 - 3x}{2}\n",
    "$$"
   ]
  },
  {
   "cell_type": "code",
   "execution_count": null,
   "metadata": {},
   "outputs": [],
   "source": [
    "@objective(m, Max, 3x+5y)\n",
    "\n",
    "print(m)"
   ]
  },
  {
   "cell_type": "code",
   "execution_count": null,
   "metadata": {},
   "outputs": [],
   "source": [
    "status = optimize!(m)"
   ]
  },
  {
   "cell_type": "code",
   "execution_count": null,
   "metadata": {},
   "outputs": [],
   "source": [
    "plot(x -> (18 - 3x)/2, fill = (-2, 0.2, :red), color = :red, \n",
    "    linewidth = 2, label = \"contrainte 1\")\n",
    "plot!(xlims = (-0.5,  4.5), ylims = (-0.5, 6.5))\n",
    "hline!([0,  6], color = :black, linestyle = :dash, linewidth = 2, label = \"\")\n",
    "vline!([0, 4], color = :black, linestyle = :dash, linewidth = 2, label = \"\")\n",
    "plot!(title = \"Je vis et je respire Julia\")\n",
    "plot!(xlabel = \"x\")\n",
    "plot!(ylabel = \"y\")\n",
    "scatter!([0, 0, 2, 4, 4], [0, 6, 6, 0, 3], markersize = 7, color = :blue, label = \"Points extrêmes\")"
   ]
  },
  {
   "cell_type": "code",
   "execution_count": null,
   "metadata": {},
   "outputs": [],
   "source": []
  }
 ],
 "metadata": {
  "kernelspec": {
   "display_name": "Julia 1.8.0",
   "language": "julia",
   "name": "julia-1.8"
  },
  "language_info": {
   "file_extension": ".jl",
   "mimetype": "application/julia",
   "name": "julia",
   "version": "1.8.0"
  }
 },
 "nbformat": 4,
 "nbformat_minor": 2
}
