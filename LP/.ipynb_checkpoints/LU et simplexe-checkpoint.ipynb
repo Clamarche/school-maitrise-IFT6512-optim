{
 "cells": [
  {
   "cell_type": "markdown",
   "id": "6ae121ea",
   "metadata": {},
   "source": [
    "# Factorisation LU et simplexe"
   ]
  },
  {
   "cell_type": "code",
   "execution_count": null,
   "id": "a329ddb7",
   "metadata": {},
   "outputs": [],
   "source": [
    "using LinearAlgebra"
   ]
  },
  {
   "cell_type": "markdown",
   "id": "008eeb56",
   "metadata": {},
   "source": [
    "## Considérons la matrice"
   ]
  },
  {
   "cell_type": "code",
   "execution_count": null,
   "id": "fc3f7a86",
   "metadata": {},
   "outputs": [],
   "source": [
    "A = [ 1.0 3 4 5 2.0 1 ; 2 2 2 2 2 0 ; 1 3 2 4 1 1; 0 0 1 3 0 0; 2 2 1 3 3 1 ]"
   ]
  },
  {
   "cell_type": "code",
   "execution_count": null,
   "id": "0868db30",
   "metadata": {},
   "outputs": [],
   "source": [
    "(m,n) = size(A)"
   ]
  },
  {
   "cell_type": "code",
   "execution_count": null,
   "id": "1b69d0c3",
   "metadata": {},
   "outputs": [],
   "source": [
    "B = A[:,1:5]"
   ]
  },
  {
   "cell_type": "markdown",
   "id": "3e714569",
   "metadata": {},
   "source": [
    "$B$ est bien une base puisque la matrice est de rang plein."
   ]
  },
  {
   "cell_type": "code",
   "execution_count": null,
   "id": "c1157b96",
   "metadata": {},
   "outputs": [],
   "source": [
    "rank(B)"
   ]
  },
  {
   "cell_type": "markdown",
   "id": "81df9ab1",
   "metadata": {},
   "source": [
    "Nous pouvons caluler la matrice $A$ par rapport à cette base, comme dans le tableau du simplexe."
   ]
  },
  {
   "cell_type": "code",
   "execution_count": null,
   "id": "9870b4ac",
   "metadata": {},
   "outputs": [],
   "source": [
    "B\\A"
   ]
  },
  {
   "cell_type": "markdown",
   "id": "afe85377",
   "metadata": {},
   "source": [
    "La fonction `lu` permet d'obtenir la décomposition $LU$."
   ]
  },
  {
   "cell_type": "code",
   "execution_count": null,
   "id": "a70953e8",
   "metadata": {},
   "outputs": [],
   "source": [
    "F1 = lu(B)"
   ]
  },
  {
   "cell_type": "markdown",
   "id": "1b8ce0eb",
   "metadata": {},
   "source": [
    "Vérifions que nous pouvons retrouver $B$."
   ]
  },
  {
   "cell_type": "code",
   "execution_count": null,
   "id": "416485d0",
   "metadata": {},
   "outputs": [],
   "source": [
    "F1.L*F1.U - B"
   ]
  },
  {
   "cell_type": "markdown",
   "id": "5eddb2dc",
   "metadata": {},
   "source": [
    "Le produit ne donne pas $B$! C'est qu'en pratique, la factorisation implique des opérations de pivotages à des fins de stabilité numérique. Le pivotage est stocké dans `F.p`."
   ]
  },
  {
   "cell_type": "code",
   "execution_count": null,
   "id": "49a09c2d",
   "metadata": {},
   "outputs": [],
   "source": [
    "F1.L*F1.U-B[F1.p,1:5]"
   ]
  },
  {
   "cell_type": "markdown",
   "id": "06376e47",
   "metadata": {},
   "source": [
    "Afin d'éviter les complications techniques, nous allons désactiver le pivotage. Notons toutefois que ceci est fortement déconseillé du point de vue de la stabilité numérique."
   ]
  },
  {
   "cell_type": "code",
   "execution_count": null,
   "id": "4480cfc5",
   "metadata": {},
   "outputs": [],
   "source": [
    "F1 = lu(B, Val(false); check = true)"
   ]
  },
  {
   "cell_type": "code",
   "execution_count": null,
   "id": "fa5ba37c",
   "metadata": {},
   "outputs": [],
   "source": [
    "F1.L*F1.U-B"
   ]
  },
  {
   "cell_type": "markdown",
   "id": "2e5e05e6",
   "metadata": {},
   "source": [
    "Supposons que nous échangons la $3^e$ et la $6^e$ colonnes. La nouvelle base est"
   ]
  },
  {
   "cell_type": "code",
   "execution_count": null,
   "id": "91c3e94c",
   "metadata": {},
   "outputs": [],
   "source": [
    "B = A[:, [1, 2, 4, 5, 6 ]]"
   ]
  },
  {
   "cell_type": "code",
   "execution_count": null,
   "id": "68d23d71",
   "metadata": {},
   "outputs": [],
   "source": [
    "rank(B)"
   ]
  },
  {
   "cell_type": "code",
   "execution_count": null,
   "id": "09a7973c",
   "metadata": {},
   "outputs": [],
   "source": [
    "F2 = lu(B, Val(false); check = true)"
   ]
  },
  {
   "cell_type": "markdown",
   "id": "868e4314",
   "metadata": {},
   "source": [
    "Comparons les facteurs de la première et de la seconde base."
   ]
  },
  {
   "cell_type": "code",
   "execution_count": null,
   "id": "997c7c4e",
   "metadata": {},
   "outputs": [],
   "source": [
    "F1.L - F2.L"
   ]
  },
  {
   "cell_type": "code",
   "execution_count": null,
   "id": "902e52dd",
   "metadata": {},
   "outputs": [],
   "source": [
    "F1.U - F2.U"
   ]
  },
  {
   "cell_type": "markdown",
   "id": "4bc715fc",
   "metadata": {},
   "source": [
    "Nous pouvons remarquer que les trois premières lignes de la matrice triangulaire inférieure sont identitiques, mais pas les deux suivantes. De la même manière, les deux premières colonnes de la matrice triangulaire supérieure coïncident."
   ]
  },
  {
   "cell_type": "markdown",
   "id": "be247ac4",
   "metadata": {},
   "source": [
    "## Mise à jour des facteurs"
   ]
  },
  {
   "cell_type": "markdown",
   "id": "b2660b02",
   "metadata": {},
   "source": [
    "Essayons de former F2.U à partir de F1.U"
   ]
  },
  {
   "cell_type": "code",
   "execution_count": null,
   "id": "14b0a673",
   "metadata": {},
   "outputs": [],
   "source": [
    "L = F1.L\n",
    "U = F1.U"
   ]
  },
  {
   "cell_type": "markdown",
   "id": "bde1beb2",
   "metadata": {},
   "source": [
    "Ajoutons $L^{-1}a_6$ (que nous obtenons normalement lors du pivotage lors du changement de base). et retirons la $3^e$ colonne du U."
   ]
  },
  {
   "cell_type": "code",
   "execution_count": null,
   "id": "48ae8e33",
   "metadata": {},
   "outputs": [],
   "source": [
    "U[:,3:4] = U[:,4:5] \n",
    "U[:,m] = F1.L\\A[:,6]\n",
    "U"
   ]
  },
  {
   "cell_type": "markdown",
   "id": "27f4af4a",
   "metadata": {},
   "source": [
    "Nous avons bien que le produit des deux facteurs donnent à présent la base recherchée."
   ]
  },
  {
   "cell_type": "code",
   "execution_count": null,
   "id": "a72d8117",
   "metadata": {},
   "outputs": [],
   "source": [
    "B-L*U"
   ]
  },
  {
   "cell_type": "markdown",
   "id": "e066ae97",
   "metadata": {},
   "source": [
    "Nous devons annuler l'élément (4,3). En se rappelant que le produit $m^TB$ revient à construire une combinaison linéaire des lignes de $B$, nous construisons"
   ]
  },
  {
   "cell_type": "code",
   "execution_count": null,
   "id": "8b13a907",
   "metadata": {},
   "outputs": [],
   "source": [
    "m1 = [ 0 0 2.5 1 0 ]"
   ]
  },
  {
   "cell_type": "code",
   "execution_count": null,
   "id": "9fcb84af",
   "metadata": {},
   "outputs": [],
   "source": [
    "M = zeros(m,m)+I\n",
    "M[4,:] = m1\n",
    "M"
   ]
  },
  {
   "cell_type": "code",
   "execution_count": null,
   "id": "35b4ced8",
   "metadata": {},
   "outputs": [],
   "source": [
    "M*U"
   ]
  },
  {
   "cell_type": "code",
   "execution_count": null,
   "id": "a3e7acf0",
   "metadata": {},
   "outputs": [],
   "source": [
    "Minv = inv(M)"
   ]
  },
  {
   "cell_type": "markdown",
   "id": "2bf654f7",
   "metadata": {},
   "source": [
    "Nous n'avons pas besoin de stocker tout $M$. Il suffit de stocker le vecteur donnant la combinaison des deux lignes."
   ]
  },
  {
   "cell_type": "code",
   "execution_count": null,
   "id": "0a508ee8",
   "metadata": {},
   "outputs": [],
   "source": [
    "p = 3\n",
    "m1 = [-U[p+1,p]/U[p,p] 1]"
   ]
  },
  {
   "cell_type": "code",
   "execution_count": null,
   "id": "028899c5",
   "metadata": {},
   "outputs": [],
   "source": [
    "U[p+1,p:m] = m1*U[p:p+1,p:m]"
   ]
  },
  {
   "cell_type": "markdown",
   "id": "60c0ad94",
   "metadata": {},
   "source": [
    "Nous mettons à jour le facteur $L$ en appliquant l'inverse du facteur $M$."
   ]
  },
  {
   "cell_type": "code",
   "execution_count": null,
   "id": "f41fad34",
   "metadata": {},
   "outputs": [],
   "source": [
    "L[p:m,p] = L[p:m,p:p+1]*[ 1 ; -m1[1]]"
   ]
  },
  {
   "cell_type": "markdown",
   "id": "41496695",
   "metadata": {},
   "source": [
    "Le produit des nouveaux facteurs $L$ et $U$ donnent toujours $B$."
   ]
  },
  {
   "cell_type": "code",
   "execution_count": null,
   "id": "562d5586",
   "metadata": {},
   "outputs": [],
   "source": [
    "L*U - B"
   ]
  },
  {
   "cell_type": "markdown",
   "id": "b2dda013",
   "metadata": {},
   "source": [
    "En suivant le même raisonnement, nous construisons par la suite"
   ]
  },
  {
   "cell_type": "code",
   "execution_count": null,
   "id": "c762694c",
   "metadata": {},
   "outputs": [],
   "source": [
    "p = 4\n",
    "m1 = [-U[p+1,p]/U[p,p] 1]\n",
    "U[p+1,p:m] = m1*U[p:p+1,p:m]\n",
    "U"
   ]
  },
  {
   "cell_type": "markdown",
   "id": "f97980de",
   "metadata": {},
   "source": [
    "Nous retrouvons bien (aux erreurs numériques près) le facteur $U$ associé à la factorisation de la seconde base."
   ]
  },
  {
   "cell_type": "code",
   "execution_count": null,
   "id": "fab13b9d",
   "metadata": {},
   "outputs": [],
   "source": [
    "F2.U-U"
   ]
  },
  {
   "cell_type": "markdown",
   "id": "7166f6be",
   "metadata": {},
   "source": [
    "Nous mettons à nouveau à jour le facteur L."
   ]
  },
  {
   "cell_type": "code",
   "execution_count": null,
   "id": "4867a7fd",
   "metadata": {},
   "outputs": [],
   "source": [
    "L[p:m,p] = L[p:m,p:p+1]*[ 1 ; -m1[1]]"
   ]
  },
  {
   "cell_type": "markdown",
   "id": "e64f04e6",
   "metadata": {},
   "source": [
    "Les deux facteurs ont bien la forme désirée."
   ]
  },
  {
   "cell_type": "code",
   "execution_count": null,
   "id": "64476b0f",
   "metadata": {},
   "outputs": [],
   "source": [
    "[L U]"
   ]
  },
  {
   "cell_type": "markdown",
   "id": "8119d9f7",
   "metadata": {},
   "source": [
    "Leur produit donne également la base recherchée."
   ]
  },
  {
   "cell_type": "code",
   "execution_count": null,
   "id": "d9c534a5",
   "metadata": {},
   "outputs": [],
   "source": [
    "B - L*U"
   ]
  },
  {
   "cell_type": "markdown",
   "id": "baf79539",
   "metadata": {},
   "source": [
    "En pratique, la méthode devra être affinée pour tenir compte des pivots liés à la factorisation LU."
   ]
  }
 ],
 "metadata": {
  "kernelspec": {
   "display_name": "Julia 1.6.2",
   "language": "julia",
   "name": "julia-1.6"
  },
  "language_info": {
   "file_extension": ".jl",
   "mimetype": "application/julia",
   "name": "julia",
   "version": "1.6.2"
  }
 },
 "nbformat": 4,
 "nbformat_minor": 5
}
