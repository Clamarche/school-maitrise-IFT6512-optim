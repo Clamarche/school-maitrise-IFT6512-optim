{
 "cells": [
  {
   "cell_type": "markdown",
   "metadata": {},
   "source": [
    "## Exercice 1\n",
    "Considérons le problème de programmation linéaire suivant\n",
    "\n",
    "\\begin{align*}\n",
    "\\max_x\\ & 1000 x_1 + 1200 x_2 \\\\\n",
    "\\mbox{t.q. } & 8x_1 + 4x_2 \\leq 160 \\\\\n",
    "& 4x_1 + 6x_2 \\leq 120 \\\\\n",
    "& x_1 \\leq 34 \\\\\n",
    "& x_2 \\leq 14 \\\\\n",
    "& x_1, x_2 \\geq 0.\n",
    "\\end{align*}"
   ]
  },
  {
   "cell_type": "markdown",
   "metadata": {},
   "source": [
    "**(a)** Résoudre le problème avec la méthode graphique."
   ]
  },
  {
   "cell_type": "code",
   "execution_count": 1,
   "metadata": {},
   "outputs": [],
   "source": [
    "using Plots"
   ]
  },
  {
   "cell_type": "code",
   "execution_count": 2,
   "metadata": {},
   "outputs": [
    {
     "data": {
      "text/plain": [
       "obj (generic function with 1 method)"
      ]
     },
     "execution_count": 2,
     "metadata": {},
     "output_type": "execute_result"
    }
   ],
   "source": [
    "g1(x1) = x1 -> 40-2*x1 ≥ 0 ? 40-2*x1 : NaN\n",
    "g2(x1) = (x1 -> 20-2/3*x1 ≥ 0 ? 20-2/3*x1 : NaN)\n",
    "g3(x1) = x1 -> 14\n",
    "g4(x1) = x1 -> 0\n",
    "# objective\n",
    "obj(x1,z) = x1 -> -(5/6)*(x1-z) ≥ 0 ? -(5/6)*(x1-z) : NaN"
   ]
  },
  {
   "cell_type": "code",
   "execution_count": null,
   "metadata": {},
   "outputs": [
    {
     "name": "stderr",
     "output_type": "stream",
     "text": [
      "┌ Info: Precompiling PyPlot [d330b81b-6aea-500a-939a-2ce795aea3ee]\n",
      "└ @ Base loading.jl:1278\n"
     ]
    }
   ],
   "source": [
    "#using Pkg\n",
    "#Pkg.add(\"PyPlot\")\n",
    "x1=0:34\n",
    "pyplot()\n",
    "plot()\n",
    "plot(x1,g1(x1),fillrange = 0,\n",
    "         fillalpha = 0.3,\n",
    "         fillcolor = :green)\n",
    "\n",
    " plot!(x1,g2(x1),fillrange = 0,\n",
    "         fillalpha = 0.3,\n",
    "         fillcolor = :red)\n",
    "\n",
    " plot!(x1,g3(x1),fillrange = 0,\n",
    "         fillalpha = 0.3,\n",
    "         fillcolor = :blue)\n",
    "\n",
    " plot!(x1,obj(x1,27), color=:black)\n",
    "\n",
    "scatter!([15],[10])\n",
    "\n",
    "plot!(                                       \n",
    "    #size=(800, 600),                                                                             \n",
    "    xticks = 0:2:34,   \n",
    "    yticks = 0:2:40,                          \n",
    "                                                  \n",
    "    ylabel = \"x2\", \n",
    "    xlabel = \"x1\",                       \n",
    "                                                  \n",
    "    title  = \"Programme linéaire\"                    \n",
    "    )"
   ]
  },
  {
   "cell_type": "markdown",
   "metadata": {},
   "source": [
    "**(b)** Résoudre le problème avec l'algorithme du simplexe (forme tableau)."
   ]
  },
  {
   "cell_type": "markdown",
   "metadata": {},
   "source": [
    "Nous mettons tout d'abord le programme sous forme standard.\n",
    "\n",
    "\\begin{align*}\n",
    "- \\min_x\\ & -1000 x_1 - 1200 x_2 \\\\\n",
    "\\mbox{t.q. } & 8x_1 + 4x_2 + s_1 = 160 \\\\\n",
    "& 4x_1 + 6x_2 + s_2 = 120 \\\\\n",
    "& x_1 + s_3 = 34 \\\\\n",
    "& x_2 + s_4 = 14 \\\\\n",
    "& x_1, x_2 \\geq 0.\n",
    "\\end{align*}"
   ]
  },
  {
   "cell_type": "markdown",
   "metadata": {},
   "source": [
    "Ceci donne comme premier tableau du simplexe:"
   ]
  },
  {
   "cell_type": "markdown",
   "metadata": {},
   "source": [
    "\\begin{align*}\n",
    "\\begin{array}{c|cccccc|c}\n",
    "& x_1 & x_2 & s_1 & s_2 & s_3 & s_4 & \\text{T.D.}\\\\\n",
    "\\hline\n",
    "s_1 & 8 & 4 & 1 & 0 & 0 & 0 & 160 \\\\\n",
    "s_2 & 4 & 6 & 0 & 1 & 0 & 0 & 120 \\\\\n",
    "s_3 & 1 & 0 & 0 & 0 & 1 & 0 & 34 \\\\\n",
    "s_4 & 0 & \\color{red}1 & 0 & 0 & 0 & 1 & 14 \\\\\n",
    "\\hline\n",
    "-z  & -1000 & -1200 & 0 & 0 & 0 & 0 & 0\\\\\n",
    "\\end{array}\n",
    "\\end{align*}"
   ]
  },
  {
   "cell_type": "markdown",
   "metadata": {},
   "source": [
    "$x_2$ entre et $s_4$ sort."
   ]
  },
  {
   "cell_type": "markdown",
   "metadata": {},
   "source": [
    "\\begin{align*}\n",
    "\\begin{array}{c|cccccc|c}\n",
    "& x_1 & x_2 & s_1 & s_2 & s_3 & s_4 & \\text{T.D.}\\\\\n",
    "\\hline\n",
    "s_1 & 8 & 0 & 1 & 0 & 0 & -4 & 104 \\\\\n",
    "s_2 & \\color{red}4 & 0 & 0 & 1 & 0 & -6 & 36 \\\\\n",
    "s_3 & 1 & 0 & 0 & 0 & 1 & 0 & 34 \\\\\n",
    "x_2 & 0 & 1 & 0 & 0 & 0 & 1 & 14 \\\\\n",
    "\\hline\n",
    "-z  & -1\\,000 & 0 & 0 & 0 & 0 & 1\\,200 & 16\\,800\\\\\n",
    "\\end{array}\n",
    "\\end{align*}"
   ]
  },
  {
   "cell_type": "markdown",
   "metadata": {},
   "source": [
    "$x_1$ entre et $s_2$ sort."
   ]
  },
  {
   "cell_type": "markdown",
   "metadata": {},
   "source": [
    "\\begin{align*}\n",
    "\\begin{array}{c|cccccc|c}\n",
    "& x_1 & x_2 & s_1 & s_2 & s_3 & s_4 & \\text{T.D.}\\\\\n",
    "\\hline\n",
    "s_1 & 0 & 0 & 1 & -2 & 0 & \\color{red}8 & 32 \\\\\n",
    "x_1 & 1 & 0 & 0 & 1/4 & 0 & -3/2 & 9 \\\\\n",
    "s_3 & 0 & 0 & 0 & -1/4 & 1 & 3/2 & 25 \\\\\n",
    "x_2 & 0 & 1 & 0 & 0 & 0 & 1 & 14 \\\\\n",
    "\\hline\n",
    "-z  & 0 & 0 & 0 & 250 & 0 & -300 & 25\\,800\\\\\n",
    "\\end{array}\n",
    "\\end{align*}"
   ]
  },
  {
   "cell_type": "markdown",
   "metadata": {},
   "source": [
    "$s_4$ entre et $s_1$ sort."
   ]
  },
  {
   "cell_type": "markdown",
   "metadata": {},
   "source": [
    "\\begin{align*}\n",
    "\\begin{array}{c|cccccc|c}\n",
    "& x_1 & x_2 & s_1 & s_2 & s_3 & s_4 & \\text{T.D.}\\\\\n",
    "\\hline\n",
    "s_4 & 0 & 0 & 1/8 & -1/4 & 0 & 1 & 4 \\\\\n",
    "x_1 & 1 & 0 & 3/16 & -1/8 & 0 & 0 & 15 \\\\\n",
    "s_3 & 0 & 0 & -3/16 & 1/8 & 1 & 0 & 19 \\\\\n",
    "x_2 & 0 & 1 & -1/8 & 1/4 & 0 & 0 & 10 \\\\\n",
    "\\hline\n",
    "-z  & 0 & 0 & 75/2 & 175 & 0 & 0 & 27\\,000\\\\\n",
    "\\end{array}\n",
    "\\end{align*}"
   ]
  },
  {
   "cell_type": "markdown",
   "metadata": {},
   "source": [
    "Donc, \n",
    "\\begin{align*}\n",
    "&x_1=15,\\ x_2=10,\\\\\n",
    "&s_1=s_2=0\\\\ \n",
    "&s_3=19,\\ s_4=4 \n",
    "\\end{align*}\n",
    "et la valeur optimale du problème est $z^{\\star}=-27\\,000$."
   ]
  },
  {
   "cell_type": "markdown",
   "metadata": {},
   "source": [
    "## Exercice 2\n",
    "Déterminer toutes les solutions de base réalisables pour le système\n",
    "\n",
    "\\begin{align*}\n",
    "2x_1 + 6x_2 + x_3 + x_4 &= 3 \\\\\n",
    "6x_1 + 4x_2 + 3x_3 + 6x_4 &= 2 \\\\\n",
    "x_j \\geq 0,\\ j = 1,2,3,4. &\n",
    "\\end{align*}"
   ]
  },
  {
   "cell_type": "markdown",
   "metadata": {},
   "source": [
    "On commence à énumérer toutes les combinaisons possibles. Soient,\n",
    "\\begin{align*}\n",
    "A=\n",
    "\\begin{pmatrix}\n",
    "2 & 6 & 1 & 1 \\\\\n",
    "6 & 4 & 3 & 6\n",
    "\\end{pmatrix},\n",
    "\\qquad\n",
    "b = \n",
    "\\begin{pmatrix}\n",
    "3\\\\\n",
    "2\n",
    "\\end{pmatrix}.\n",
    "\\end{align*}"
   ]
  },
  {
   "cell_type": "markdown",
   "metadata": {},
   "source": [
    "\\begin{align*}\n",
    "\\begin{array}{ccc}\n",
    "%B_1\n",
    "\\begin{aligned}\n",
    "B_1 = \n",
    "\\begin{pmatrix}\n",
    "2 & 6 \\\\\n",
    "6 & 4\n",
    "\\end{pmatrix},\n",
    "\\end{aligned}\n",
    "& \\text{Rang} \\left(B_1 \\right) = 2, &\n",
    "B_1^{-1} b =\n",
    "\\begin{pmatrix}\n",
    "0\\\\\n",
    "1/2\n",
    "\\end{pmatrix}\n",
    "=\n",
    "\\begin{pmatrix}\n",
    "x_1\\\\\n",
    "x_2\n",
    "\\end{pmatrix}\\\\\n",
    "%B_2\n",
    "\\begin{aligned}\n",
    "B_2 = \n",
    "\\begin{pmatrix}\n",
    "2 & 1 \\\\\n",
    "6 & 3\n",
    "\\end{pmatrix},\n",
    "\\end{aligned}\n",
    "& \\text{Rang} \\left(B_2 \\right) = 1, &\n",
    "B_2 \\text{ non-inversible}\n",
    "\\\\\n",
    "%B_3\n",
    "\\begin{aligned}\n",
    "B_3 = \n",
    "\\begin{pmatrix}\n",
    "2 & 1 \\\\\n",
    "6 & 6\n",
    "\\end{pmatrix},\n",
    "\\end{aligned}\n",
    "& \\text{Rang} \\left(B_3 \\right) = 2, &\n",
    "B_3^{-1} b =\n",
    "\\begin{pmatrix}\n",
    "16/6\\\\\n",
    "-7/3\n",
    "\\end{pmatrix}\n",
    "=\n",
    "\\begin{pmatrix}\n",
    "x_1\\\\\n",
    "x_4\n",
    "\\end{pmatrix}\\\\\n",
    "%B_4\n",
    "\\begin{aligned}\n",
    "B_4 = \n",
    "\\begin{pmatrix}\n",
    "6 & 1 \\\\\n",
    "4 & 3\n",
    "\\end{pmatrix},\n",
    "\\end{aligned}\n",
    "& \\text{Rang} \\left(B_4 \\right) = 2, &\n",
    "B_4^{-1} b =\n",
    "\\begin{pmatrix}\n",
    "1/2\\\\\n",
    "0\n",
    "\\end{pmatrix}\n",
    "=\n",
    "\\begin{pmatrix}\n",
    "x_2\\\\\n",
    "x_3\n",
    "\\end{pmatrix}\\\\\n",
    "%B_5\n",
    "\\begin{aligned}\n",
    "B_5 = \n",
    "\\begin{pmatrix}\n",
    "6 & 1 \\\\\n",
    "4 & 6\n",
    "\\end{pmatrix},\n",
    "\\end{aligned}\n",
    "& \\text{Rang} \\left(B_5 \\right) = 2, &\n",
    "B_5^{-1} b =\n",
    "\\begin{pmatrix}\n",
    "1/2\\\\\n",
    "0\n",
    "\\end{pmatrix}\n",
    "=\n",
    "\\begin{pmatrix}\n",
    "x_2\\\\\n",
    "x_4\n",
    "\\end{pmatrix}\\\\\n",
    "%B_6\n",
    "\\begin{aligned}\n",
    "B_6 = \n",
    "\\begin{pmatrix}\n",
    "1 & 1 \\\\\n",
    "3 & 6\n",
    "\\end{pmatrix},\n",
    "\\end{aligned}\n",
    "& \\text{Rang} \\left(B_6 \\right) = 2, &\n",
    "B_6^{-1} b =\n",
    "\\begin{pmatrix}\n",
    "16/3\\\\\n",
    "-7/3\n",
    "\\end{pmatrix}\n",
    "=\n",
    "\\begin{pmatrix}\n",
    "x_3\\\\\n",
    "x_4\n",
    "\\end{pmatrix}\\\\\n",
    "\\end{array}\n",
    "\\end{align*}"
   ]
  },
  {
   "cell_type": "markdown",
   "metadata": {},
   "source": [
    "### Solutions de bases\n",
    "$B_1, B_3, B_3, B_4, B_5, B_6 $"
   ]
  },
  {
   "cell_type": "markdown",
   "metadata": {},
   "source": [
    "De plus, les bases réalisables de $A$ sont $B_1$, $B_4$, $B_5$. Les variables de bases associées à chaque base sont en rouge\n",
    "\\begin{align*}\n",
    "\\begin{array}{ccccc}\n",
    "& x_1 & x_2 & x_3 & x_4\\\\  \n",
    "B_1 & \\color{red}0 & \\color{red}{1/2} & 0 & 0\\\\\n",
    "B_4 & 0 & \\color{red}{1/2} & \\color{red}0 & 0\\\\\n",
    "B_5 & 0 &\\color{red}{1/2} & 0 & \\color{red}0\\\\\n",
    "\\end{array}\n",
    "\\end{align*}"
   ]
  },
  {
   "cell_type": "markdown",
   "metadata": {},
   "source": [
    "## Exercice 3\n",
    "Considérer le problème de programmation linéaire\n",
    "\n",
    "\\begin{align*}\n",
    "\\min\\ & -x_1 - 2x_2 - 3x_3 + x_4 \\\\\n",
    "\\mbox{t.q. } & x_1 + 2x_2 + 3x_3 = 15 \\\\\n",
    "& 2x_1 + x_2 + 5x_3 = 20 \\\\\n",
    "& x_1 + 2x_2 + x_3 + x_4 = 10 \\\\\n",
    "& x_j \\geq 0,\\ j = 1,2,3,4.\n",
    "\\end{align*}\n",
    "\n",
    "À une certaine itération du simplexe, l'inverse de la base est\n",
    "\n",
    "\\begin{pmatrix}\n",
    " \\frac{5}{7} & -\\frac{3}{7} & 0 \\\\\n",
    "-\\frac{1}{7} &  \\frac{2}{7} & 0 \\\\\n",
    "-\\frac{9}{7} &  \\frac{4}{7} & 1\n",
    "\\end{pmatrix}\n",
    "\n",
    "**(a)** Poursuivre la résolution de ce problème après avoir identifié le tableau du simplexe associé à cette base."
   ]
  },
  {
   "cell_type": "markdown",
   "metadata": {},
   "source": [
    "Soient \n",
    "\\begin{align*}\n",
    "A =\n",
    "\\begin{pmatrix}\n",
    "1 & 2 & 3 & 0 \\\\\n",
    "2 & 1 & 5 & 0 \\\\\n",
    "1 & 2 & 1 & 1\n",
    "\\end{pmatrix}, \n",
    "\\quad\n",
    "B^{-1} =\n",
    "\\begin{pmatrix}\n",
    " \\frac{5}{7} & -\\frac{3}{7} & 0 \\\\\n",
    "-\\frac{1}{7} &  \\frac{2}{7} & 0 \\\\\n",
    "-\\frac{9}{7} &  \\frac{4}{7} & 1\n",
    "\\end{pmatrix}\n",
    "\\quad \\text{et} \\quad\n",
    "b =\n",
    "\\begin{pmatrix}\n",
    " 15 \\\\\n",
    " 20 \\\\\n",
    " 10\n",
    "\\end{pmatrix}\n",
    "\\end{align*}"
   ]
  },
  {
   "cell_type": "markdown",
   "metadata": {},
   "source": [
    "On calcule \n",
    "\\begin{align*}\n",
    "B^{-1}  A &= \n",
    "\\begin{pmatrix}\n",
    " \\frac{5}{7} & -\\frac{3}{7} & 0 \\\\\n",
    "-\\frac{1}{7} &  \\frac{2}{7} & 0 \\\\\n",
    "-\\frac{9}{7} &  \\frac{4}{7} & 1\n",
    "\\end{pmatrix}\n",
    "\\begin{pmatrix}\n",
    "1 & 2 & 3 & 0 \\\\\n",
    "2 & 1 & 5 & 0 \\\\\n",
    "1 & 2 & 1 & 1\n",
    "\\end{pmatrix}\n",
    "=\n",
    "\\begin{pmatrix}\n",
    "-\\frac{1}{7} & 1 & 0 & 0\\\\\n",
    "\\frac{3}{7} & 0 & 1 & 0\\\\\n",
    "\\frac{6}{7} & 0 & 0 & 1\n",
    "\\end{pmatrix}\\\\[10pt]\n",
    "B^{-1}  b &= \n",
    "\\begin{pmatrix}\n",
    " \\frac{5}{7} & -\\frac{3}{7} & 0 \\\\\n",
    "-\\frac{1}{7} &  \\frac{2}{7} & 0 \\\\\n",
    "-\\frac{9}{7} &  \\frac{4}{7} & 1\n",
    "\\end{pmatrix}\n",
    "\\begin{pmatrix}\n",
    " 15 \\\\\n",
    " 20 \\\\\n",
    " 10\n",
    "\\end{pmatrix}\n",
    "=\n",
    "\\begin{pmatrix}\n",
    "\\frac{15}{7} \\\\\n",
    "\\frac{25}{7} \\\\\n",
    "\\frac{15}{7} \n",
    "\\end{pmatrix}\n",
    "\\end{align*}"
   ]
  },
  {
   "cell_type": "markdown",
   "metadata": {},
   "source": [
    "Dès lors, les variables de base sont $x_2$, $x_3$, $x_4$, et la solution de base est $(0, 15/7, 25/7 15/7)$. "
   ]
  },
  {
   "cell_type": "markdown",
   "metadata": {},
   "source": [
    "Le tableau du simplexe correspondant est \n",
    "\\begin{align*}\n",
    "\\begin{array}{c|cccc|c}\n",
    "& x_1 & x_2 & x_3 & x_4 & \\text{T.D.}\\\\\n",
    "\\hline\n",
    "x_2 & -\\frac{1}{7} & 1 & 0 & 0 & \\frac{15}{7} \\\\\n",
    "x_3 & \\frac{3}{7} & 0 & 1 & 0 & \\frac{25}{7} \\\\\n",
    "x_4 & \\frac{6}{7} & 0 & 0 & 1 & \\frac{15}{7} \\\\\n",
    "\\hline\n",
    "-z & -1 & -2 & -3 & 1 & 0\n",
    "\\end{array}\n",
    "\\end{align*}"
   ]
  },
  {
   "cell_type": "markdown",
   "metadata": {},
   "source": [
    "Il reste cependant à annuler les coûts réduits associés dans ce tableau, en ajoutant à la dernière ligne une combinaison linéaire appropriée des lignes correspondantes aux contraintes linéaires du programme."
   ]
  },
  {
   "cell_type": "markdown",
   "metadata": {},
   "source": [
    "Nous obtenons\n",
    "\\begin{align*}\n",
    "\\begin{array}{c|cccc|c}\n",
    "& x_1 & x_2 & x_3 & x_4 & \\text{T.D.}\\\\\n",
    "\\hline\n",
    "x_2 & -\\frac{1}{7} & 1 & 0 & 0 & \\frac{15}{7} \\\\\n",
    "x_3 & \\frac{3}{7} & 0 & 1 & 0 & \\frac{25}{7} \\\\\n",
    "x_4 & \\color{red}{\\frac{6}{7}} & 0 & 0 & 1 & \\frac{15}{7} \\\\\n",
    "\\hline\n",
    "-z  & -\\frac{6}{7} & 0 & 0 & 0 & \\frac{90}{7}\n",
    "\\end{array}\n",
    "\\end{align*}"
   ]
  },
  {
   "cell_type": "markdown",
   "metadata": {},
   "source": [
    "Faisons une itération du simplexe. \n",
    "\n",
    "$x_1$ entre et $x_4$ sort."
   ]
  },
  {
   "cell_type": "markdown",
   "metadata": {},
   "source": [
    "\\begin{align*}\n",
    "\\begin{array}{c|cccc|c}\n",
    "& x_1 & x_2 & x_3 & x_4 & \\text{T.D.}\\\\\n",
    "\\hline\n",
    "x_2 & 0 & 1 & 0 & \\frac{1}{6} & \\frac{5}{2} \\\\\n",
    "x_3 & 0 & 0 & 1 & -\\frac{1}{2} & \\frac{5}{2} \\\\\n",
    "x_1 & 1 & 0 & 0 & \\frac{7}{6} & \\frac{5}{2} \\\\\n",
    "\\hline\n",
    "-z  & 0 & 0 & 0 & 1 & \\frac{105}{7}\n",
    "\\end{array}\n",
    "\\end{align*}"
   ]
  },
  {
   "cell_type": "markdown",
   "metadata": {},
   "source": [
    "Il n'y a plus de coût réduit négatif, et par conséquent la solution est optimale, avec, \n",
    "\\begin{align*}\n",
    "&x_1=\\frac{5}{2},\\ x_2=\\frac{5}{2},\\\\[8pt]\n",
    "&x_3=\\frac{5}{2},\\ x_4=0.\n",
    "\\end{align*}\n",
    "La valeur optimale du problème est $z^{\\star}=-\\frac{105}{7}$."
   ]
  },
  {
   "cell_type": "markdown",
   "metadata": {},
   "source": [
    "**(b)** Supposons que le terme de droite de la troisième contrainte devienne égal à 8:\n",
    "\n",
    "Le problème devient alors\n",
    "\\begin{align*}\n",
    "\\min\\ & -x_1 - 2x_2 - 3x_3 + x_4 \\\\\n",
    "\\mbox{t.q. } & x_1 + 2x_2 + 3x_3 = 15 \\\\\n",
    "& 2x_1 + x_2 + 5x_3 = 20 \\\\\n",
    "& x_1 + 2x_2 + x_3 + x_4 = 8 \\\\\n",
    "& x_j \\geq 0,\\ j = 1,2,3,4.\n",
    "\\end{align*}\n",
    "\n",
    "La solution de base optimale obtenue au point précédent demeure-t-elle réalisable?\n",
    "Quelle est la modification de la valeur optimale de la fonction économique?"
   ]
  },
  {
   "cell_type": "markdown",
   "metadata": {},
   "source": [
    "La base optimale trouvée en **(a)** est la suivante\n",
    "\\begin{align*}\n",
    "B^\\star =\n",
    "\\begin{array}{ccc}\n",
    "x_2 & x_3 & x_1\\\\\n",
    "\\left(\n",
    "\\begin{array}{c}\n",
    "2 \\\\\n",
    "1 \\\\\n",
    "2\n",
    "\\end{array}\n",
    "\\right.\n",
    "&\n",
    "\\begin{array}{c}\n",
    "3 \\\\\n",
    "5 \\\\\n",
    "1 \n",
    "\\end{array}\n",
    "&\n",
    "\\left.\n",
    "\\begin{array}{c}\n",
    "1 \\\\\n",
    "2 \\\\\n",
    "1 \n",
    "\\end{array}\n",
    "\\right)\n",
    "\\end{array}\n",
    "\\end{align*}"
   ]
  },
  {
   "cell_type": "markdown",
   "metadata": {},
   "source": [
    "La base optimale reste réalisable si $x_B = {B^{\\star}}^{-1} b \\ge 0$."
   ]
  },
  {
   "cell_type": "markdown",
   "metadata": {},
   "source": [
    "On calcule\n",
    "\n",
    "\\begin{align*}\n",
    "{B^{\\star}}^{-1} =\n",
    "\\begin{pmatrix}\n",
    "\\frac{1}{2} & -\\frac{1}{3} & \\frac{1}{6} \\\\\n",
    "\\frac{1}{2} & 0 & -\\frac{1}{2} \\\\\n",
    "-\\frac{3}{2} & \\frac{2}{3} & \\frac{7}{6} \n",
    "\\end{pmatrix}\n",
    "\\end{align*}\n",
    "\n",
    "\\begin{align*}\n",
    "{B^{\\star}}^{-1}b =\n",
    "\\begin{pmatrix}\n",
    "\\frac{13}{6} \\\\\n",
    "\\frac{7}{2} \\\\\n",
    "\\frac{1}{6}\n",
    "\\end{pmatrix}\n",
    "\\end{align*}"
   ]
  },
  {
   "cell_type": "markdown",
   "metadata": {},
   "source": [
    "Et donc ${B^{\\star}}^{-1}$ reste réalisable et l'objectif devient $\\tilde{z} = -15$."
   ]
  },
  {
   "cell_type": "markdown",
   "metadata": {},
   "source": [
    "## Exercice 4\n",
    "Considérer le problème de programmation linéaire suivant:\n",
    "\\begin{align*}\n",
    "\\min\\ & x_1 + x_2 - 4x_3 \\\\\n",
    "\\mbox{t.q. } & x_1 + x_2 + 2x_3 \\leq 9 \\\\\n",
    "& x_1 + x_2 - x_3 \\leq 2 \\\\\n",
    "& -x_1 + x_2 + x_3 \\leq 4 \\\\\n",
    "& x_j \\geq 0, j = 1,2,3.\n",
    "\\end{align*}\n",
    "Utilisons les variables d'écart $x_4$, $x_5$, $x_6$ pour transformer le problème sous forme standard.\n",
    "À une itération du simplexe, nous retrouvons le tableau suivant\n",
    "\n",
    "\\begin{align*}\n",
    "\\begin{array}{c|cccccc|c}\n",
    "& x_1 & x_2 & x_3 & x_4 & x_5 & x_6 & b \\\\\n",
    "\\hline\n",
    "x_1 & 1 & -\\frac{1}{3} & 0 & \\frac{1}{3} & 0 & -\\frac{2}{3} & \\frac{1}{3} \\\\\n",
    "x_5 & 0 & a & 0 & 0 & 1 & 1 & d \\\\\n",
    "x_3 & 0 & \\frac{2}{3} & 1 & \\frac{1}{3} & 0 & \\frac{1}{3} & \\frac{13}{3} \\\\\n",
    "\\hline\n",
    "-z & 0 & b & 0 & c & 0 & 2 & e \\\\\n",
    "\\end{array}\n",
    "\\end{align*}\n",
    "\n",
    "**(a)** Spécifier l'inverse de la base associée à ce tableau du simplexe."
   ]
  },
  {
   "cell_type": "markdown",
   "metadata": {},
   "source": [
    "$B^{-1}$ se lit directement dans le tableau. Les colonnes de $B^{-1}$ sont celles associées aux variables d'écart $x_4$, $x_5$  et $x_6$."
   ]
  },
  {
   "cell_type": "markdown",
   "metadata": {},
   "source": [
    "En effet, si on transforme le simplexe sous forme standard, on a la matrice des contraintes qui s'écrit comme suit"
   ]
  },
  {
   "cell_type": "markdown",
   "metadata": {},
   "source": [
    "\\begin{align*}\n",
    "A=\n",
    "\\begin{pmatrix}\n",
    "1 & 1 & 2 & 1 & 0 & 0\\\\\n",
    "1 & 1 & -1 & 0 & 1 & 0\\\\\n",
    "-1 & 1 & 1 & 0 & 0 & 1\n",
    "\\end{pmatrix}\n",
    "=\n",
    "\\begin{bmatrix}\n",
    "\\tilde{A} & I_3\n",
    "\\end{bmatrix}.\n",
    "\\end{align*}"
   ]
  },
  {
   "cell_type": "markdown",
   "metadata": {},
   "source": [
    "À une itération du simplexe, où la base courante est $B$, on associe un tableau de la forme \n",
    "\n",
    "\\begin{align*}\n",
    "B^{-1} A =\n",
    "\\begin{bmatrix}\n",
    "B^{-1} \\tilde{A} & B^{-1}\n",
    "\\end{bmatrix}.\n",
    "\\end{align*}"
   ]
  },
  {
   "cell_type": "markdown",
   "metadata": {},
   "source": [
    "Donc,\n",
    "\\begin{align*}\n",
    "B^{-1} = \n",
    "\\begin{pmatrix}\n",
    "\\frac{1}{3} & 0 & -\\frac{2}{3} \\\\\n",
    "0 & 1 & 1 \\\\\n",
    "\\frac{1}{3} & 0 & \\frac{1}{3} \n",
    "\\end{pmatrix}\n",
    "\\end{align*}"
   ]
  },
  {
   "cell_type": "markdown",
   "metadata": {},
   "source": [
    "*Remarque :* En général, sans la matrice identité dans $A$, on trouve $B$ en utilisant le fait  que $x_1$, $x_5$, $x_3$ sont des variables de base et alors \n",
    "\\begin{align*}\n",
    "B^{-1} =\n",
    "\\begin{pmatrix}\n",
    "1 & 0 & 2 \\\\\n",
    "1 & 1 & -1\\\\\n",
    "-1 & 0 & 1\n",
    "\\end{pmatrix}^{-1}\n",
    "\\end{align*}"
   ]
  },
  {
   "cell_type": "markdown",
   "metadata": {},
   "source": [
    "**(b)** Déterminer les valeurs de $a$, $b$, $c$, $d$, $e$."
   ]
  },
  {
   "cell_type": "markdown",
   "metadata": {},
   "source": [
    "On calcule\n",
    "\n",
    "\\begin{align*}\n",
    "B^{-1} A =\n",
    "\\begin{pmatrix}\n",
    "1 & -\\frac{1}{3} & 0 & \\frac{1}{3} & 0 & -\\frac{2}{3} \\\\\n",
    "0 & 2 & 0 & 0 & 1 & 1 \\\\\n",
    "0 & \\frac{2}{3} & 1 & \\frac{1}{3} & 0 & \\frac{1}{3} \n",
    "\\end{pmatrix}\n",
    "\\end{align*}\n",
    "\n",
    "\n",
    "\\begin{align*}\n",
    "b=\n",
    "\\begin{pmatrix}\n",
    "\\frac{1}{3} \\\\\n",
    "6\\\\\n",
    "\\frac{13}{3} \n",
    "\\end{pmatrix}\n",
    "\\end{align*}"
   ]
  },
  {
   "cell_type": "markdown",
   "metadata": {},
   "source": [
    "Pour trouver les coût, \n",
    "\n",
    "\\begin{align*}\n",
    "\\begin{array}{c|cccccc|c}\n",
    "& x_1 & x_2 & x_3 & x_4 & x_5 & x_6 & \\text{T.D.}\\\\\n",
    "\\hline\n",
    "x_1 & 1 & -\\frac{1}{3} & 0 & \\frac{1}{3} & 0 & -\\frac{2}{3} & \\frac{1}{3} \\\\\n",
    "x_5 & 0 & 2 & 0 & 0 & 1 & 1 & 6\\\\\n",
    "x_3 & 0 & \\frac{2}{3} & 1 & \\frac{1}{3} & 0 & \\frac{1}{3} & \\frac{13}{3} \\\\\n",
    "\\hline\n",
    "-z_0  & 1 & 1 & -4 & 0 & 0 & 0 & 0\\\\\n",
    "-z  & 0 & \\frac{12}{3} & 0 & 1 & 0 & \\frac{2}{3} & 17\n",
    "\\end{array}\n",
    "\\end{align*}\n"
   ]
  },
  {
   "cell_type": "markdown",
   "metadata": {},
   "source": [
    "Donc, $a=2$, $b=13/3$, $c=1$, $d=6$, $e=17$."
   ]
  },
  {
   "cell_type": "markdown",
   "metadata": {},
   "source": [
    "**(c)** La solution dans ce tableau est-elle optimale? Pourquoi? Si elle n'est pas optimale, poursuivre la résolution du problème pour identifier une solution optimale."
   ]
  },
  {
   "cell_type": "markdown",
   "metadata": {},
   "source": [
    "Les nouveaux coût sont tous positifs, la solution est donc optimale."
   ]
  },
  {
   "cell_type": "markdown",
   "metadata": {},
   "source": [
    "**(d)** Supposons que le vecteur des termes de droite est modifié avec le vecteur suivant $(\\Delta, -\\Delta, \\Delta)^T$.\n",
    "Quelle est la plus grande valeur que peut prendre $\\Delta$ pour que la solution optimale du problème original demeure réalisable pour le nouveau problème ainsi généré, et quelle est la valeur optimale de ce nouveau \n",
    "problème?"
   ]
  },
  {
   "cell_type": "markdown",
   "metadata": {},
   "source": [
    "On note \n",
    "\n",
    "\\begin{align*}\n",
    "\\tilde{b} = b + \n",
    "\\begin{pmatrix}\n",
    "\\Delta\\\\\n",
    "-\\Delta\\\\\n",
    "\\Delta\n",
    "\\end{pmatrix}.\n",
    "\\end{align*}\n",
    "\n",
    "$B$ demeure réalisable si \n",
    "\\begin{align*}\n",
    "& x_B = B^{-1} b \\ge 0\\\\[8pt]\n",
    "\\iff & \n",
    "\\begin{pmatrix}\n",
    "\\frac{1}{3} \\\\\n",
    "6\\\\\n",
    "\\frac{13}{3} \n",
    "\\end{pmatrix}\n",
    "+\n",
    "\\begin{pmatrix}\n",
    "-\\frac{\\Delta}{3} \\\\\n",
    "0\\\\\n",
    "\\frac{2\\, \\Delta}{3}\n",
    "\\end{pmatrix}\n",
    "\\ge 0\\\\[8pt]\n",
    "\\iff &\n",
    "\\Delta \\le 1 \\text{ et } \\Delta \\ge -\\frac{13}{2}.\n",
    "\\end{align*}\n",
    "\n",
    "\n",
    "\n"
   ]
  },
  {
   "cell_type": "markdown",
   "metadata": {},
   "source": [
    "Ainsi, la plus grande valeur est $\\Delta = 1$."
   ]
  },
  {
   "cell_type": "markdown",
   "metadata": {},
   "source": [
    "Donc, \n",
    "\\begin{align*}\n",
    "\\tilde{b} = \n",
    "\\begin{pmatrix}\n",
    "10 \\\\\n",
    "1\\\\\n",
    "5\n",
    "\\end{pmatrix},\n",
    "\\qquad \n",
    "x_B = \n",
    "\\begin{pmatrix}\n",
    "0\\\\\n",
    "6\\\\\n",
    "5\n",
    "\\end{pmatrix}\n",
    "\\quad \\text{et} \\quad \n",
    "\\tilde{z} = -20\n",
    "\\end{align*}"
   ]
  },
  {
   "cell_type": "markdown",
   "metadata": {},
   "source": [
    "## L'algorithme du simplexe en Julia"
   ]
  },
  {
   "cell_type": "markdown",
   "metadata": {},
   "source": [
    "Nous introduirons pas à pas une implantation de base du simplexe en Julia. Cette implantation se base sur le livre \"Julia Programming for Operations Research\" (Changhyun Kwon): http://www.chkwon.net/julia/\n",
    "La première édition est disponible gratuitement à l'adresse https://www.softcover.io/read/7b8eb7d0/juliabook/"
   ]
  },
  {
   "cell_type": "markdown",
   "metadata": {},
   "source": [
    "Le code ci-dessous résume la recherche d'une base réalisable."
   ]
  },
  {
   "cell_type": "code",
   "execution_count": 4,
   "metadata": {},
   "outputs": [
    {
     "data": {
      "text/plain": [
       "search_BFS (generic function with 1 method)"
      ]
     },
     "execution_count": 4,
     "metadata": {},
     "output_type": "execute_result"
    }
   ],
   "source": [
    "# https://github.com/chkwon/jpor_codes/blob/master/chap5/search_bfs.jl\n",
    "\n",
    "using LinearAlgebra, Combinatorics\n",
    "\n",
    "function is_nonnegative(x::Vector)\n",
    "  return length( x[ x .< 0] ) == 0\n",
    "end\n",
    "\n",
    "function search_BFS(c, A, b)\n",
    "  m, n = size(A)\n",
    "  @assert rank(A) == m  # vérifie que la matrice A est de rang m\n",
    "\n",
    "  opt_x = zeros(n)\n",
    "  obj = Inf\n",
    "\n",
    "  for b_idx in combinations(1:n, m)\n",
    "    B = A[:, b_idx]\n",
    "    if rank(B) == m\n",
    "      c_B = c[b_idx]\n",
    "      x_B = B\\b # comme rank(B) = m, B est inversible, et dès lors une base\n",
    "\n",
    "      if is_nonnegative(x_B)\n",
    "        z = dot(c_B, x_B)\n",
    "        if z < obj\n",
    "          obj = z\n",
    "          opt_x = zeros(n)\n",
    "          opt_x[b_idx] = x_B\n",
    "        end\n",
    "      end\n",
    "\n",
    "      println(\"Basis:\", b_idx)\n",
    "      println(\"\\t x_B = \", x_B)\n",
    "      println(\"\\t nonnegative? \", is_nonnegative(x_B))\n",
    "      if is_nonnegative(x_B)\n",
    "        println(\"\\t obj = \", dot(c_B, x_B))\n",
    "      end\n",
    "    end\n",
    "  end\n",
    "\n",
    "  return opt_x, obj\n",
    "end"
   ]
  },
  {
   "cell_type": "markdown",
   "metadata": {},
   "source": [
    "Exemple"
   ]
  },
  {
   "cell_type": "code",
   "execution_count": null,
   "metadata": {},
   "outputs": [],
   "source": [
    "c = [-3; -2; -1; -5; 0; 0; 0]\n",
    "A = [7 3 4 1 1 0 0 ;\n",
    "     2 1 1 5 0 1 0 ;\n",
    "     1 4 5 2 0 0 1 ]\n",
    "b = [7; 3; 8]"
   ]
  },
  {
   "cell_type": "code",
   "execution_count": null,
   "metadata": {},
   "outputs": [],
   "source": [
    "opt_x, obj = search_BFS(c, A, b)"
   ]
  },
  {
   "cell_type": "code",
   "execution_count": 4,
   "metadata": {},
   "outputs": [
    {
     "data": {
      "text/plain": [
       "4-element Array{Int64,1}:\n",
       " 4\n",
       " 2\n",
       " 2\n",
       " 1"
      ]
     },
     "execution_count": 4,
     "metadata": {},
     "output_type": "execute_result"
    }
   ],
   "source": [
    "c = [ -8 ;-9; -7; -6; -8; -9 ]\n",
    "A = [ 1 0 1 0 1 0 ; 0 1 0 1 0 1 ; 1 0 0 1 0 0 ; 0 1 0 0 1 0 ]\n",
    "b = [ 4; 2; 2; 1 ]"
   ]
  },
  {
   "cell_type": "code",
   "execution_count": 5,
   "metadata": {},
   "outputs": [
    {
     "name": "stdout",
     "output_type": "stream",
     "text": [
      "Basis:[1, 2, 3, 4]\n",
      "\t x_B = [1.0, 1.0, 3.0, 1.0]\n",
      "\t nonnegative? true\n",
      "\t obj = -44.0\n",
      "Basis:[1, 2, 3, 5]\n",
      "\t x_B = [2.0, 2.0, 3.0, -1.0]\n",
      "\t nonnegative? false\n",
      "Basis:[1, 2, 3, 6]\n",
      "\t x_B = [2.0, 1.0, 2.0, 1.0]\n",
      "\t nonnegative? true\n",
      "\t obj = -48.0\n",
      "Basis:[1, 2, 4, 6]\n",
      "\t x_B = [4.0, 1.0, -2.0, 3.0]\n",
      "\t nonnegative? false\n",
      "Basis:[1, 2, 5, 6]\n",
      "\t x_B = [2.0, -1.0, 2.0, 3.0]\n",
      "\t nonnegative? false\n",
      "Basis:[1, 3, 4, 5]\n",
      "\t x_B = [0.0, 3.0, 2.0, 1.0]\n",
      "\t nonnegative? true\n",
      "\t obj = -41.0\n",
      "Basis:[1, 3, 5, 6]\n",
      "\t x_B = [2.0, 1.0, 1.0, 2.0]\n",
      "\t nonnegative? true\n",
      "\t obj = -49.0\n",
      "Basis:[1, 4, 5, 6]\n",
      "\t x_B = [3.0, -1.0, 1.0, 3.0]\n",
      "\t nonnegative? false\n",
      "Basis:[2, 3, 4, 5]\n",
      "\t x_B = [0.0, 3.0, 2.0, 1.0]\n",
      "\t nonnegative? true\n",
      "\t obj = -41.0\n",
      "Basis:[2, 3, 4, 6]\n",
      "\t x_B = [1.0, 4.0, 2.0, -1.0]\n",
      "\t nonnegative? false\n",
      "Basis:[2, 4, 5, 6]\n",
      "\t x_B = [-3.0, 2.0, 4.0, 3.0]\n",
      "\t nonnegative? false\n",
      "Basis:[3, 4, 5, 6]\n",
      "\t x_B = [3.0, 2.0, 1.0, -0.0]\n",
      "\t nonnegative? true\n",
      "\t obj = -41.0\n"
     ]
    },
    {
     "data": {
      "text/plain": [
       "([2.0, 0.0, 1.0, 0.0, 1.0, 2.0], -49.0)"
      ]
     },
     "execution_count": 5,
     "metadata": {},
     "output_type": "execute_result"
    }
   ],
   "source": [
    "opt_x, obj = search_BFS(c, A, b)"
   ]
  },
  {
   "cell_type": "markdown",
   "metadata": {},
   "source": [
    "Nous allons par la suite introduire une structure permettant de résumer le tableau du simplexe."
   ]
  },
  {
   "cell_type": "code",
   "execution_count": 7,
   "metadata": {},
   "outputs": [],
   "source": [
    "struct SimplexTableau\n",
    "  z_c     ::Array{Float64}  # coûts réduits\n",
    "  Y       ::Array{Float64}  # contraintes linéaires\n",
    "  x_B     ::Array{Float64}  # solution de base\n",
    "  obj     ::Float64         # valeur de la fonction objectif\n",
    "  b_idx   ::Array{Int64}    # indices des variables de bases\n",
    "end"
   ]
  },
  {
   "cell_type": "code",
   "execution_count": 8,
   "metadata": {},
   "outputs": [
    {
     "data": {
      "text/plain": [
       "pivoting! (generic function with 1 method)"
      ]
     },
     "execution_count": 8,
     "metadata": {},
     "output_type": "execute_result"
    }
   ],
   "source": [
    "function pivoting!(t::SimplexTableau)\n",
    "  m, n = size(t.Y)\n",
    "\n",
    "  entering, exiting = pivot_point(t)\n",
    "\n",
    "  # Pivoting: exiting-row, entering-column\n",
    "  # updating exiting-row\n",
    "  coef = t.Y[exiting, entering]\n",
    "  t.Y[exiting, :] /= coef\n",
    "  t.x_B[exiting] /= coef\n",
    "\n",
    "  # updating other rows of Y\n",
    "  for i in setdiff(1:m, exiting)\n",
    "    coef = t.Y[i, entering]\n",
    "    t.Y[i, :] -= coef * t.Y[exiting, :]\n",
    "    t.x_B[i] -= coef * t.x_B[exiting]\n",
    "  end\n",
    "\n",
    "  # updating the row for the reduced costs\n",
    "  coef = t.z_c[entering]\n",
    "  t.z_c -= coef * t.Y[exiting, :]\n",
    "  t.obj -= coef * t.x_B[exiting]\n",
    "\n",
    "  # Updating b_idx\n",
    "  t.b_idx[ findall(t.b_idx .== t.b_idx[exiting]) ] = entering\n",
    "end"
   ]
  },
  {
   "cell_type": "markdown",
   "metadata": {},
   "source": [
    "Il restera à mettre tout ensemble!"
   ]
  },
  {
   "cell_type": "code",
   "execution_count": null,
   "metadata": {},
   "outputs": [],
   "source": []
  }
 ],
 "metadata": {
  "kernelspec": {
   "display_name": "Julia 1.5.0",
   "language": "julia",
   "name": "julia-1.5"
  },
  "language_info": {
   "file_extension": ".jl",
   "mimetype": "application/julia",
   "name": "julia",
   "version": "1.5.0"
  }
 },
 "nbformat": 4,
 "nbformat_minor": 2
}
