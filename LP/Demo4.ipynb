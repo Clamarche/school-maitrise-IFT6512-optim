{
 "cells": [
  {
   "cell_type": "markdown",
   "metadata": {},
   "source": [
    "# Question 1"
   ]
  },
  {
   "cell_type": "markdown",
   "metadata": {},
   "source": [
    "Considérons le problème\n",
    "\\begin{align*}\n",
    "\\min_{x, y}\\ & x+y \\\\\n",
    "\\text{tel que } & x - y = 1 \\\\\n",
    "& -y = 0\n",
    "\\end{align*}\n",
    "Résolvez le problème en appliquant la méthode à deux phases.\n",
    "Que pouvez-vous en conclure?"
   ]
  },
  {
   "cell_type": "markdown",
   "metadata": {},
   "source": [
    "## Solution\n",
    "\n",
    "\n",
    "Notons que le problème a pour solution triviale $(1,0)$.\n",
    "Appliquons néanmoins la phase 1, en construisant le problème artificiel\n",
    "\\begin{align*}\n",
    "\\min_{x, y, s_1, s_2}\\ & s_1+s_2 \\\\\n",
    "\\text{tel que } & x - y + s_1 = 1 \\\\\n",
    "& -y + s_2 = 0\n",
    "\\end{align*}\n",
    "Le tableau du simplexe donne\n",
    "$$\n",
    "\\begin{matrix}\n",
    "1 & -1 & 1 & 0 & 1 \\\\\n",
    "0 & -1 & 0 & 1 & 0 \\\\\n",
    "-1 & 2 & 0 & 0 & -1\n",
    "\\end{matrix}\n",
    "$$\n",
    "Dès lors $x$ entre la base et $s_1$ en sort.\n",
    "Après pivot, nous avons\n",
    "$$\n",
    "\\begin{matrix}\n",
    "1 & -1 & 1 & 0 & 1 \\\\\n",
    "0 & -1 & 0 & 1 & 0 \\\\\n",
    "0 & 1 & 1 & 0 & 0\n",
    "\\end{matrix}\n",
    "$$\n",
    "Le simplexe s'arrête donc avec la solution de base $x = 1$, $s_2 = 0$, et la valeur optimale $0$ pour le problème artificielle.\n",
    "$y$ n'est pas dans la solution de base, mais le problème est néanmoins réalisable car la fonction objectif du problème artificielle est nulle, ce qui est possible car la solution trouvée est dégénérée. Comme $y$ est hors base, $y = 0$ et donc nous avons comme solution réalisable du problème original $(1,0)$.\n",
    "On peut faire un pivot pour faire entrer $y$ dans la base et sortir $s_2$. Le pivot donne le tableau\n",
    "$$\n",
    "\\begin{matrix}\n",
    "1 & 0 & 1 & -1 & 1 \\\\\n",
    "0 & 1 & 0 & -1 & 0 \\\\\n",
    "0 & 0 & 1 & 1 & 0\n",
    "\\end{matrix}\n",
    "$$\n",
    "Si on part de ce tableau pour le problème de départ, nous obtenons\n",
    "$$\n",
    "\\begin{matrix}\n",
    "1 & 0 & 1 \\\\\n",
    "0 & 1 & 0 \\\\\n",
    "1 & 1 & 0\n",
    "\\end{matrix}\n",
    "$$\n",
    "et après annulation des coûts réduits\n",
    "$$\n",
    "\\begin{matrix}\n",
    "1 & 0 & 1 \\\\\n",
    "0 & 1 & 0 \\\\\n",
    "0 & 0 & -1\n",
    "\\end{matrix}\n",
    "$$\n",
    "Nous retrouvons bien la solution optimale $(1,0)$."
   ]
  },
  {
   "cell_type": "markdown",
   "metadata": {},
   "source": [
    "## Meilleure solution\n",
    "\n",
    "Nous avons ignoré le fait que $x$ soit une variable isolée. En exploitant ce point, nous contruisons le problème artificiel\n",
    "\\begin{align*}\n",
    "\\min_{x, y, s}\\ & s \\\\\n",
    "\\text{tel que } & x - y = 1 \\\\\n",
    "& -y + s = 0\n",
    "\\end{align*}\n",
    "Le tableau du simplexe donne alors\n",
    "$$\n",
    "\\begin{matrix}\n",
    "1 & -1 & 0 & 1 \\\\\n",
    "0 & -1 & 1 & 0 \\\\\n",
    "0 & 0 & 1 & 0\n",
    "\\end{matrix}\n",
    "$$\n",
    "et après annulation du coût réduit de $s$,\n",
    "$$\n",
    "\\begin{matrix}\n",
    "1 & -1 & 0 & 1 \\\\\n",
    "0 & -1 & 1 & 0 \\\\\n",
    "0 & 1 & 0 & 0\n",
    "\\end{matrix}\n",
    "$$"
   ]
  },
  {
   "cell_type": "markdown",
   "metadata": {},
   "source": [
    "Tous les coûts réduits sont positifs, et on retrouve la solution $x = 1$, $s = 0$. À nouveau, $y$ n'est pas dans la base, qui est cependant dégénérée, et comme précédemment, nous pouvons effectuer un pivot pour l'insérer."
   ]
  },
  {
   "cell_type": "markdown",
   "metadata": {},
   "source": [
    "$$\n",
    "\\begin{matrix}\n",
    "1 & 0 & -1 & 1 \\\\\n",
    "0 & 1 & -1 & 0 \\\\\n",
    "0 & 0 & 1 & 0\n",
    "\\end{matrix}\n",
    "$$"
   ]
  },
  {
   "cell_type": "markdown",
   "metadata": {},
   "source": [
    "La phase 2 se déroule alors comme précédemment."
   ]
  },
  {
   "cell_type": "markdown",
   "metadata": {},
   "source": [
    "# Question 2: intra A05"
   ]
  },
  {
   "cell_type": "markdown",
   "metadata": {},
   "source": [
    "Soit le problème suivant\n",
    "\\begin{align*}\n",
    "&\\min\\ z = -8x-6y\\\\\n",
    "&\\begin{aligned}\n",
    "\\text{s.à. }\n",
    "& 5x + 3y \\le 30,\\\\\n",
    "&x+3y \\le 18,\\\\\n",
    "& x,y \\ge 0.\n",
    "\\end{aligned}\n",
    "\\end{align*}"
   ]
  },
  {
   "cell_type": "markdown",
   "metadata": {},
   "source": [
    "## (a)"
   ]
  },
  {
   "cell_type": "markdown",
   "metadata": {},
   "source": [
    "$\\textbf{Résoudre le problème graphiquement.\n",
    "}$"
   ]
  },
  {
   "cell_type": "code",
   "execution_count": null,
   "metadata": {},
   "outputs": [],
   "source": [
    "using Plots"
   ]
  },
  {
   "cell_type": "code",
   "execution_count": null,
   "metadata": {},
   "outputs": [],
   "source": [
    "g1 = (x -> 10-5/3*x ≥ 0 ? 10-5/3*x : NaN)  # NaN: Not a Number\n",
    "g2 = (x -> 6-1/3*x ≥ 0 ? 6-1/3*x : NaN)\n",
    "g3 = (x -> 0)\n",
    "objOpt = (x -> -4/3*x+9 ≥ 0 ? -4/3*x+9 : NaN)"
   ]
  },
  {
   "cell_type": "code",
   "execution_count": null,
   "metadata": {},
   "outputs": [],
   "source": [
    "x1=0:0.01:7\n",
    "pyplot()\n",
    "plot()\n",
    "\n",
    "plot(x1,g1,fillrange = 0,\n",
    "         fillalpha = 0.3,\n",
    "         fillcolor = :blue,\n",
    "         color=:blue,\n",
    "         label=\"y=10-5/3*x\")\n",
    "\n",
    "plot!(x1,g2,fillrange = 0,\n",
    "         fillalpha = 0.3,\n",
    "         fillcolor = :red,\n",
    "         color=:red,\n",
    "         label=\"y=6-1/3*x\")\n",
    "\n",
    "plot!(x1,g3,fillrange = 0,\n",
    "         fillalpha = 0.3,\n",
    "         fillcolor = :green,\n",
    "         color=:green,\n",
    "         label=\"y=0\")\n",
    "\n",
    "plot!(x1,objOpt, color=:black, linewidth=2, \n",
    "    linestyle=:solid, label=\"-8x-6y = 9\")\n",
    "\n",
    "scatter!([3],[5],label=\"Optimum\", color=:red)\n",
    "\n",
    "plot!(                                       \n",
    "    #size=(800, 600),                                                                             \n",
    "    xticks = 0:1:7,   \n",
    "    yticks = 0:1:10,                          \n",
    "                                                  \n",
    "    ylabel = \"y\", \n",
    "    xlabel = \"x\",                       \n",
    "    \n",
    "    legend=:topright,\n",
    "    title  = \"Programme linéaire\"                    \n",
    "    )"
   ]
  },
  {
   "cell_type": "markdown",
   "metadata": {},
   "source": [
    "## (b)"
   ]
  },
  {
   "cell_type": "markdown",
   "metadata": {},
   "source": [
    "$\\textbf{Résoudre le problème avec la méthode du simplexe.\n",
    "}$"
   ]
  },
  {
   "cell_type": "markdown",
   "metadata": {},
   "source": [
    "Avant de résoudre le problème avec le simplexe, il faut le mettre sous forme standard.\n",
    "\\begin{align*}\n",
    "&\\min\\ z = -8x-6y\\\\\n",
    "&\\begin{aligned}\n",
    "\\text{s.a. } & 5x + 3y + s_1 = 30,\\\\\n",
    "&x+3y + s_2 = 18,\\\\\n",
    "& x,y,s_1,s_2 \\ge 0.\n",
    "\\end{aligned}\n",
    "\\end{align*}"
   ]
  },
  {
   "cell_type": "markdown",
   "metadata": {},
   "source": [
    "\\begin{align*}\n",
    "\\begin{array}{c|cccc|c}\n",
    "    & x & y & s_1 & s_2 & \\text{t.d.}\\\\\n",
    "\\hline\n",
    "s_1 & \\color{red}5 & 3 & 1 & 0 & 30\\\\\n",
    "s_2 & 1 & 3 & 0 & 1 & 18\\\\\n",
    "\\hline\n",
    "-z & -8 & -6 & 0 & 0 & 0\n",
    "\\end{array}\n",
    "\\end{align*}"
   ]
  },
  {
   "cell_type": "markdown",
   "metadata": {},
   "source": [
    "$x$ entre et $s_1$ sort"
   ]
  },
  {
   "cell_type": "markdown",
   "metadata": {},
   "source": [
    "\\begin{align*}\n",
    "\\begin{array}{c|cccc|c}\n",
    "    & x & y & s_1 & s_2 & \\text{t.d.}\\\\\n",
    "\\hline\n",
    "x & 1 & 3/5 & 1/5 & 0 & 6\\\\\n",
    "s_2 & 0 & \\color{red}{12/5} & -1/5 & 1 & 12\\\\\n",
    "\\hline\n",
    "-z  & 0 & -6/5 & 8/5 & 0 & 48\n",
    "\\end{array}\n",
    "\\end{align*}"
   ]
  },
  {
   "cell_type": "markdown",
   "metadata": {},
   "source": [
    "$y$ entre et $s_2$ sort"
   ]
  },
  {
   "cell_type": "markdown",
   "metadata": {},
   "source": [
    "\\begin{align*}\n",
    "\\begin{array}{c|cccc|c}\n",
    "    & x & y & s_1 & s_2 & \\text{t.d.}\\\\\n",
    "\\hline\n",
    "x & 1 & 0 & 1/4 & -1/4 & 3\\\\\n",
    "y & 0 & 1 & -1/12 & 5/12 & 5\\\\\n",
    "\\hline\n",
    "-z & 0 & 0 & 3/2 & 1/2 & 54\n",
    "\\end{array}\n",
    "\\end{align*}"
   ]
  },
  {
   "cell_type": "markdown",
   "metadata": {},
   "source": [
    "La solution obtenue est $x = 3$, $y=5$, $s_1 = s_2 = 0$ et la valeur optimale est $z^{\\star} = -54$."
   ]
  },
  {
   "cell_type": "markdown",
   "metadata": {},
   "source": [
    "## (c)"
   ]
  },
  {
   "cell_type": "markdown",
   "metadata": {},
   "source": [
    "$\\textbf{Trouver l'inverse de la base optimale.\n",
    "}$"
   ]
  },
  {
   "cell_type": "markdown",
   "metadata": {},
   "source": [
    "L'inverse de la base optimale $B_{\\star}^{-1} $ se lit directement dans le\n",
    "dernier tableau du simplexe sous les colonnes associées au variable d'écart $s_1$\n",
    "et $s_2$ introduites.\n",
    "\\begin{align*}\n",
    "B_{\\star}^{-1} \n",
    "\\begin{pmatrix}\n",
    "1/4 & -1/4\\\\\n",
    "-1/12 & 5 /12\n",
    "\\end{pmatrix}\n",
    "\\end{align*}"
   ]
  },
  {
   "cell_type": "markdown",
   "metadata": {},
   "source": [
    "## (d)"
   ]
  },
  {
   "cell_type": "markdown",
   "metadata": {},
   "source": [
    "$\\textbf{Trouver le vecteur des multiplicateurs pour la base optimale.\n",
    "}$"
   ]
  },
  {
   "cell_type": "markdown",
   "metadata": {},
   "source": [
    "Le vecteur des multiplicateurs se lit au signe près directement dans le dernier tableau du simplexe, les coûts\n",
    "réduits des variables d'écarts. Autrement, si on note $\\pi$ le vecteur des multiplicateurs optimaux, on rappelle\n",
    "que $\\pi = C_{B} B_{\\star}^{-1}$ où $c_{B_\\star} = \\left(c_x, c_y \\right) = \\left(-8, -6 \\right)$.\n",
    "Ainsi, $\\pi = \\left(-3/2, -1/2 \\right)$\n"
   ]
  },
  {
   "cell_type": "markdown",
   "metadata": {},
   "source": [
    "## (e)"
   ]
  },
  {
   "cell_type": "markdown",
   "metadata": {},
   "source": [
    "$\\textbf{Est-ce que la base reste optimale si on change le terme de droite pour\n",
    "}$\n",
    "\\begin{align*}\n",
    "\\tilde{b} = \n",
    "\\begin{pmatrix}\n",
    "24\\\\\n",
    "18\n",
    "\\end{pmatrix}?\n",
    "\\end{align*}"
   ]
  },
  {
   "cell_type": "markdown",
   "metadata": {},
   "source": [
    "$B_{\\star}^{-1} $ reste réalisable si $B_{\\star}^{-1} \\tilde{b} \\ge 0$.\n",
    "\\begin{align*}\n",
    "B_{\\star}^{-1} \\tilde{b} = \n",
    "\\begin{pmatrix}\n",
    "3/2\\\\\n",
    "11/2\n",
    "\\end{pmatrix}\n",
    "\\end{align*}\n",
    "Les coûts réduits associées à cette base n'ont pas été modifiés. Il restent positifs et $B_{\\star} $ demeure optimale.\n",
    "La nouvelle valeur optimale est $\\tilde{z} = -45$.\n"
   ]
  },
  {
   "cell_type": "markdown",
   "metadata": {},
   "source": [
    "## (f)"
   ]
  },
  {
   "cell_type": "markdown",
   "metadata": {},
   "source": [
    "$\\textbf{Est-ce que la base reste optmimale si on change le terme de droite pour\n",
    "}$\n",
    "\\begin{align*}\n",
    "\\bar{b} = \n",
    "\\begin{pmatrix}\n",
    "30\\\\\n",
    "16\n",
    "\\end{pmatrix}\n",
    "\\end{align*}"
   ]
  },
  {
   "cell_type": "markdown",
   "metadata": {},
   "source": [
    "$B_{\\star}^{-1} $ reste réalisable si $B_{\\star}^{-1} \\tilde{b} \\ge 0$.\n",
    "\\begin{align*}\n",
    "B_{\\star}^{-1} \\bar{b} = \n",
    "\\begin{pmatrix}\n",
    "7/2\\\\\n",
    "25/6\n",
    "\\end{pmatrix}\n",
    "\\end{align*}\n",
    "Les coûts réduits associés à cette base n'ont pas été modifié. Il restent positifs. $B_{\\star} $ demeure \n",
    "optimale. La nouvelle valeur optimale est $\\bar{z} = -53$.\n"
   ]
  },
  {
   "cell_type": "markdown",
   "metadata": {},
   "source": [
    "## (g)"
   ]
  },
  {
   "cell_type": "markdown",
   "metadata": {},
   "source": [
    "$\\textbf{Ajoutons une nouvelle contrainte au problème qui devient alors}$\n",
    "\\begin{align*}\n",
    "&\\min\\ z = -8x-6y\\\\\n",
    "&\\begin{aligned}\n",
    "\\text{s.a. } & 5x + 3y + s_1 = 30,\\\\\n",
    "&x+3y+ s_2 = 18,\\\\\n",
    "&y + s_3 = 5,\\\\\n",
    "& x,y,s_1,s_2,s_3 \\ge 0.\n",
    "\\end{aligned}\n",
    "\\end{align*}\n",
    "$\\textbf{Quelle est maintenant la solution de ce problème?}$"
   ]
  },
  {
   "cell_type": "markdown",
   "metadata": {},
   "source": [
    "Au lieu de reprendre le simplexe, on exploite l'information associé à $B_{\\star} $.\n",
    "Pour ce nouveau problème, une base est de rang $3$. La nouvelle base est\n",
    "\n",
    "\\begin{align*}\n",
    "\\tilde{B} = \n",
    "\\begin{array}[b]{cccc}\n",
    "x & y & s_3 \\\\\n",
    "\\left(\n",
    "\\begin{array}{c}\n",
    "5\\\\\n",
    "1\\\\\n",
    "0\n",
    "\\end{array}\n",
    "\\right.\n",
    "&\n",
    "\\begin{array}{c}\n",
    "3\\\\\n",
    "3\\\\\n",
    "1\n",
    "\\end{array}\n",
    "&\n",
    "\\left.\n",
    "\\begin{array}{c}\n",
    "0\\\\\n",
    "0\\\\\n",
    "1\n",
    "\\end{array}\n",
    "\\right)\n",
    "\\end{array}\n",
    "\\end{align*}\n",
    "Au lieu d'inverser $\\tilde{B}$ puis de retrouver le tableau à partir du dernier tableau de la partie b, \n",
    "on retrouvera le tableau associé à $\\tilde{B}$."
   ]
  },
  {
   "cell_type": "markdown",
   "metadata": {},
   "source": [
    "\\begin{align*}\n",
    "\\begin{array}{c|ccccc|c}\n",
    "    & x & y & s_1 & s_2 & s_3 & \\text{t.d.}\\\\\n",
    "\\hline\n",
    "x & 1 & 0 & 1/4 & -1/4 & 0 & 3\\\\\n",
    "y & 0 & 1 & -1/12 & 5/12 & 0 & 5\\\\\n",
    "s_3 & 0 & 1 & 0 & 0 & 1 & 5\\\\\n",
    "\\hline\n",
    "-z & 0 & 0 & 3/2 & 1/2 & 0 & 54\n",
    "\\end{array}\n",
    "\\end{align*}"
   ]
  },
  {
   "cell_type": "markdown",
   "metadata": {},
   "source": [
    "Pour respecter le fait que $y$ est une variable de base, il faut rendre $y$ isolé, ce qui peut être obtenu en modifiant le tableau ainsi\n",
    "\\begin{align*}\n",
    "\\begin{array}{c|ccccc|c}\n",
    "  & x & y & s_1 & s_2 & s_3 & \\text{t.d.} \\\\\n",
    "\\hline\n",
    "x & 1 & 0 & 1/4 & -1/4 & 0 & 3\\\\\n",
    "y & 0 & 1 & -1/12 & 5/12 & 0 & 5\\\\\n",
    "s_3 & 0 & 0 & 1/12 & -5/12 & 1 & 0 \\\\\n",
    "\\hline\n",
    "-z & 0 & 0 & 3/2 & 1/2 & 0 & 54\n",
    "\\end{array}\n",
    "\\end{align*}"
   ]
  },
  {
   "cell_type": "markdown",
   "metadata": {},
   "source": [
    "La solution obtenue est $x = 3$, $y=5$, $s_1 = s_2 = s_3 = 0$ et la valeur optimale est $z^{\\star} = -54$."
   ]
  },
  {
   "cell_type": "markdown",
   "metadata": {},
   "source": [
    "# Question 3\n",
    "$\\textbf{Utiliser le simplexe révisé pour résoudre}$\n",
    "\\begin{align*}\n",
    "&\\min\\ z = -4x_1 -3x_2 - x_3 -2x_4\\\\\n",
    "&\\begin{aligned}\n",
    "\\text{s.a. }\n",
    "& 4x_1 + 2x_2 + x_3 + x_4 + x_5 = 5.\\\\\n",
    "&3x_1 + x_2 + 2x_3 +x_4 +x_6 = 4.\\\\\n",
    "&x_j \\ge 0,\\ j=1,\\ldots,6.\n",
    "\\end{aligned}\n",
    "\\end{align*}"
   ]
  },
  {
   "cell_type": "markdown",
   "metadata": {},
   "source": [
    "Soient\n",
    "\\begin{align*}\n",
    "A=\n",
    "\\begin{pmatrix}\n",
    "4 & 2 & 1 & 1 & 1 & 0 \\\\\n",
    "3 & 1 & 2 & 1 & 0 & 1\n",
    "\\end{pmatrix}, \\quad\n",
    "b = \n",
    "\\begin{pmatrix}\n",
    "5\\\\4\n",
    "\\end{pmatrix}\n",
    "\\end{align*}"
   ]
  },
  {
   "cell_type": "markdown",
   "metadata": {},
   "source": [
    "$\\textbf{Itération 1}$\n",
    "\n",
    "Soit \n",
    "\\begin{align*}\n",
    "B_0^{-1} =\n",
    "\\begin{pmatrix}\n",
    "1 & 0\\\\\n",
    "0 & 1\n",
    "\\end{pmatrix},\n",
    "\\end{align*}\n",
    "Pour commencer, on trouve le nouveau multiplicateur $\\pi$ et on calcul les coûts réduits\n",
    "\\begin{gather*}\n",
    "\\pi_0^t = c_B^tB_0^{-1} = \n",
    "\\begin{pmatrix}\n",
    "0 & 0\n",
    "\\end{pmatrix}\\\\[6pt]\n",
    "\\bar{c}^t = c^t - \\pi_0^t A = \n",
    "\\begin{pmatrix}\n",
    "-4 & -3 & -1 & -2 & 0 & 0\n",
    "\\end{pmatrix}\n",
    "\\end{gather*}\n",
    "\n",
    "La variable d'entrée est donc $x_1$.\n",
    "Pour trouver la variable de sortie, on a besoin de la colonne de $A$ associée à $x_1$ que l'on notera $A_1$.\n",
    "\\begin{align*}\n",
    "\\bar{A}_1 = B_0^{-1} A_1 = \n",
    "\\begin{pmatrix}\n",
    "4\\\\\n",
    "3\n",
    "\\end{pmatrix}\n",
    "\\end{align*}\n",
    "Comme $\\min\\left\\{5/4, 4/3 \\right\\} = 5/4$, $x_5$ sort de la base.\n",
    "On met à jour $B_0^{-1} $ et en même temps on met à jour les termes de droite et la valeur de l'objectif\n",
    "\n",
    "\\begin{align*}\n",
    "\\begin{array}{ccccc}\n",
    "    & x_5 & x_6 & b & x_1\\\\\n",
    "x_5 & 1 & 0 & 5 & {\\color{red}4}\\\\\n",
    "x_6 & 0 & 1 & 4 & 3\\\\\n",
    "-z & 0 & 0 & 0 & -4\n",
    "\\end{array}\n",
    "\\end{align*}\n",
    "On fait un pivot\n",
    "\\begin{align*}\n",
    "\\begin{array}{cccc}\n",
    " & x_5 & x_6 & b \\\\\n",
    "x_1 & 1/4 & 0 & 5/4\\\\\n",
    "x_6 & -3/4 & 1 & 1/4\\\\\n",
    "-z  & 1 & 0 & 5\n",
    "\\end{array}\n",
    "\\end{align*}\n",
    "On a maintenant \n",
    "\\begin{align*}\n",
    "B_1^{-1} =\n",
    "\\begin{pmatrix}\n",
    "1/4 & 0\\\\\n",
    "-3/4 & 1\n",
    "\\end{pmatrix}\n",
    "\\end{align*}\n",
    "et on recommence une nouvelle itération."
   ]
  },
  {
   "cell_type": "markdown",
   "metadata": {},
   "source": [
    "$\\textbf{Itération 2}$\n",
    "\n",
    "Pour commencer, on trouve le nouveau multiplicateur $\\pi$ et on calcul les coûts réduits\n",
    "\\begin{gather*}\n",
    "\\pi_1^t = c_B^tB_1^{-1} = \n",
    "\\begin{pmatrix}\n",
    "-1 & 0\n",
    "\\end{pmatrix}\\\\[6pt]\n",
    "\\bar{c}^t = c^t - \\pi_1^t A = \n",
    "\\begin{pmatrix}\n",
    "0 & -1 & 0 & -1 & 1 & 0\n",
    "\\end{pmatrix}\n",
    "\\end{gather*}\n",
    "\n",
    "Prenons $x_2$ comme variable d'entrée.\n",
    "Pour trouver la variable de sortie, on a besoin de la colonne de $A$ associée à $x_2$ que l'on notera $A_2$.\n",
    "\\begin{align*}\n",
    "\\bar{A}_2 = B_1^{-1} A_2 = \n",
    "\\begin{pmatrix}\n",
    "1/2\\\\\n",
    "-1/2\n",
    "\\end{pmatrix}\n",
    "\\end{align*}\n",
    "Et $\\min\\left\\{ (5/4)*2 \\right\\} = 5/2$, alors $x_1$ sort de la base.\n",
    "On met à jour $B_1^{-1} $ et en même temps on met à jour les termes de droite et la valeur de l'objectif\n",
    "\n",
    "\\begin{align*}\n",
    "\\begin{array}{ccccc}\n",
    "    & x_5 & x_6 & b & x_2\\\\\n",
    "x_1 & 1/4 & 0 & 5/4 & \\color{red}{1/2}\\\\\n",
    "x_6 & -3/4 & 1 & 1/4 & -1/2\\\\\n",
    "-z & 1 & 0 & 5 & -1\n",
    "\\end{array}\n",
    "\\end{align*}\n",
    "On fait un pivot\n",
    "\\begin{align*}\n",
    "\\begin{array}{cccc}\n",
    " & x_5 & x_6 & b \\\\\n",
    "x_2 & 1/2 & 0 & 5/2\\\\\n",
    "x_6 & -1/2 & 1 & 3/2\\\\\n",
    "-z  & 3/2 & 0 & 15/2\n",
    "\\end{array}\n",
    "\\end{align*}\n",
    "On a maintenant \n",
    "\\begin{align*}\n",
    "B_2^{-1} =\n",
    "\\begin{pmatrix}\n",
    "1/2 & 0\\\\\n",
    "-1/2 & 1\n",
    "\\end{pmatrix}\n",
    "\\end{align*}\n",
    "et on recommence une nouvelle itération."
   ]
  },
  {
   "cell_type": "markdown",
   "metadata": {},
   "source": [
    "$\\textbf{Itération 3}$\n",
    "Pour commencer, on trouve le nouveau multiplicateur $\\pi$ et on calcul les coûts réduits\n",
    "\\begin{gather*}\n",
    "\\pi_2^t = c_B^tB_2^{-1} = \n",
    "\\begin{pmatrix}\n",
    "-3/2 & 0\n",
    "\\end{pmatrix}\\\\[6pt]\n",
    "\\bar{c}^t = c^t - \\pi_2^t A = \n",
    "\\begin{pmatrix}\n",
    "2 & 0 & 1/2 & -1/2 & 3/2 & 0\n",
    "\\end{pmatrix}\n",
    "\\end{gather*}\n",
    "\n",
    "La variable d'entrée est donc $x_4$.\n",
    "Pour trouver la variable de sortie, on a besoin de la colonne de $A$ associée à $x_4$ que l'on notera $A_4$.\n",
    "\\begin{align*}\n",
    "\\bar{A}_4 = B_2^{-1} A_4 = \n",
    "\\begin{pmatrix}\n",
    "1/2\\\\\n",
    "1/2\n",
    "\\end{pmatrix}\n",
    "\\end{align*}\n",
    "Et $\\min\\left\\{5, 3 \\right\\} = 3$, alors $x_6$ sort de la base.\n",
    "On met à jour $B_2^{-1} $ et en même temps on met à jour les termes de droite et la valeur de l'objectif\n",
    "\n",
    "\\begin{align*}\n",
    "\\begin{array}{ccccc}\n",
    "    & x_5 & x_6 & b & x_1\\\\\n",
    "x_2 & 1/2 & 0 & 5/2 & 1/2\\\\\n",
    "x_6 & -1/2 & 1 & 3/2 & \\color{red}{1/2}\\\\\n",
    "-z & 3/2 & 0 & 15/2 & 1/2\n",
    "\\end{array}\n",
    "\\end{align*}\n",
    "On fait un pivot\n",
    "\\begin{align*}\n",
    "\\begin{array}{cccc}\n",
    " & x_5 & x_6 & b \\\\\n",
    "x_2 & 1 & -1 & 1\\\\\n",
    "x_4 & -1 & 2 & 3\\\\\n",
    "-z  & 1 & 1 & 9\n",
    "\\end{array}\n",
    "\\end{align*}\n",
    "On a maintenant \n",
    "\\begin{align*}\n",
    "B_3^{-1} =\n",
    "\\begin{pmatrix}\n",
    "1 & -1\\\\\n",
    "-1 & 2\n",
    "\\end{pmatrix}\n",
    "\\end{align*}\n",
    "et on recommence une nouvelle itération."
   ]
  },
  {
   "cell_type": "markdown",
   "metadata": {},
   "source": [
    "$\\textbf{Itération 4}$\n",
    "\n",
    "Pour commencer, on trouve le nouveau multiplicateur $\\pi$ et on calcul les coûts réduits\n",
    "\\begin{gather*}\n",
    "\\pi_3^t = c_B^tB_3^{-1} = \n",
    "\\begin{pmatrix}\n",
    "-1 & -1\n",
    "\\end{pmatrix}\\\\[6pt]\n",
    "\\bar{c}^t = c^t - \\pi_3^t A = \n",
    "\\begin{pmatrix}\n",
    "3 & 0 & 1 & 0 & 1 & 1\n",
    "\\end{pmatrix}\n",
    "\\end{gather*}"
   ]
  },
  {
   "cell_type": "markdown",
   "metadata": {},
   "source": [
    "Tous les coûts réduits sont positifs. La base $B_3$ est donc optimale. La solution optimale associée à $B_3$ est $x_2 = 1$ et $x_4 = 2$  (variable de base) et $x_1 = x_3 = x_5 = x_6 = 0$ (variable hors base).\n",
    "La valeur optimale est $-9$."
   ]
  },
  {
   "cell_type": "markdown",
   "metadata": {},
   "source": [
    "# Le simplexe en Julia"
   ]
  },
  {
   "cell_type": "markdown",
   "metadata": {},
   "source": [
    "Nous partons à nouveau du livre \"Julia Programming for Operations Research\" pour introduire la structure"
   ]
  },
  {
   "cell_type": "code",
   "execution_count": 1,
   "metadata": {},
   "outputs": [],
   "source": [
    "struct SimplexTableau\n",
    "  z_c     ::Array{Float64}  # coûts réduits\n",
    "  Y       ::Array{Float64}  # contraintes linéaires\n",
    "  x_B     ::Array{Float64}  # solution de base\n",
    "  obj     ::Float64         # valeur de la fonction objectif\n",
    "  b_idx   ::Array{Int64}    # indices des variables de bases\n",
    "end"
   ]
  },
  {
   "cell_type": "markdown",
   "metadata": {},
   "source": [
    "La méthode du simplexe, en partant de la forme standard, peut se résumer comme suit:"
   ]
  },
  {
   "cell_type": "code",
   "execution_count": 2,
   "metadata": {},
   "outputs": [
    {
     "data": {
      "text/plain": [
       "simplex_method (generic function with 1 method)"
      ]
     },
     "execution_count": 2,
     "metadata": {},
     "output_type": "execute_result"
    }
   ],
   "source": [
    "function simplex_method(c, A, b)\n",
    "  tableau = initialize(c, A, b)\n",
    "\n",
    "  while !is_optimal(tableau)\n",
    "    pivoting!(tableau)\n",
    "  end\n",
    "\n",
    "  # compute opt_x (x*) from tableau\n",
    "  opt_x = zeros(length(c))\n",
    "  opt_x[tableau.b_idx] = tableau.x_B\n",
    "\n",
    "  return opt_x, tableau.obj\n",
    "end"
   ]
  },
  {
   "cell_type": "markdown",
   "metadata": {},
   "source": [
    "La fonction suivante cherche une base initial de façon exhaustive. Elle sera à remplacer par une approche à deux phases."
   ]
  },
  {
   "cell_type": "code",
   "execution_count": 3,
   "metadata": {},
   "outputs": [
    {
     "data": {
      "text/plain": [
       "initial_BFS (generic function with 1 method)"
      ]
     },
     "execution_count": 3,
     "metadata": {},
     "output_type": "execute_result"
    }
   ],
   "source": [
    "function initial_BFS(A, b)\n",
    "  m, n = size(A)\n",
    "\n",
    "  comb = collect(combinations(1:n, m))\n",
    "  for i in length(comb):-1:1\n",
    "    b_idx = comb[i]\n",
    "    B = A[:, b_idx]\n",
    "    x_B = B\\b\n",
    "    if is_nonnegative(x_B)\n",
    "      return b_idx, x_B, B\n",
    "    end\n",
    "  end\n",
    "\n",
    "  error(\"Infeasible\")\n",
    "end"
   ]
  },
  {
   "cell_type": "markdown",
   "metadata": {},
   "source": [
    "La fonction suivant vérifie que toutes les composantes de la solutions sont non-négatives:"
   ]
  },
  {
   "cell_type": "code",
   "execution_count": 4,
   "metadata": {},
   "outputs": [
    {
     "data": {
      "text/plain": [
       "is_nonnegative (generic function with 1 method)"
      ]
     },
     "execution_count": 4,
     "metadata": {},
     "output_type": "execute_result"
    }
   ],
   "source": [
    "function is_nonnegative(x::Vector)\n",
    "  return length( x[ x .< 0] ) == 0\n",
    "end"
   ]
  },
  {
   "cell_type": "markdown",
   "metadata": {},
   "source": [
    "Une fois une base initiale trouvée, nous pouvons construire le tableau de départ."
   ]
  },
  {
   "cell_type": "code",
   "execution_count": 5,
   "metadata": {},
   "outputs": [
    {
     "data": {
      "text/plain": [
       "initialize (generic function with 1 method)"
      ]
     },
     "execution_count": 5,
     "metadata": {},
     "output_type": "execute_result"
    }
   ],
   "source": [
    "function initialize(c, A, b)\n",
    "  c = Array{Float64}(c)\n",
    "  A = Array{Float64}(A)\n",
    "  b = Array{Float64}(b)\n",
    "\n",
    "  m, n = size(A)\n",
    "\n",
    "  # Finding an initial BFS\n",
    "  b_idx, x_B, B = initial_BFS(A,b)\n",
    "\n",
    "  Y = B\\A\n",
    "  c_B = c[b_idx]\n",
    "  obj = dot(c_B, x_B)\n",
    "\n",
    "  # z_c is a row vector\n",
    "  z_c = zeros(1,n)\n",
    "  n_idx = setdiff(1:n, b_idx)\n",
    "  z_c[n_idx] = c_B' * (B\\A[:,n_idx]) - c[n_idx]'\n",
    "\n",
    "  return SimplexTableau(z_c, Y, x_B, obj, b_idx)\n",
    "end"
   ]
  },
  {
   "cell_type": "markdown",
   "metadata": {},
   "source": [
    "Exemple:"
   ]
  },
  {
   "cell_type": "code",
   "execution_count": 6,
   "metadata": {},
   "outputs": [
    {
     "data": {
      "text/plain": [
       "3-element Array{Int64,1}:\n",
       " 7\n",
       " 3\n",
       " 8"
      ]
     },
     "execution_count": 6,
     "metadata": {},
     "output_type": "execute_result"
    }
   ],
   "source": [
    "using LinearAlgebra\n",
    "using Combinatorics\n",
    "\n",
    "c = [-3; -2; -1; -5; 0; 0; 0]\n",
    "A = [7 3 4 1 1 0 0 ;\n",
    "     2 1 1 5 0 1 0 ;\n",
    "     1 4 5 2 0 0 1 ]\n",
    "b = [7; 3; 8]"
   ]
  },
  {
   "cell_type": "code",
   "execution_count": 7,
   "metadata": {},
   "outputs": [
    {
     "data": {
      "text/plain": [
       "SimplexTableau([3.0 2.0 … 0.0 0.0], [7.0 3.0 … 0.0 0.0; 2.0 1.0 … 1.0 0.0; 1.0 4.0 … 0.0 1.0], [7.0, 3.0, 8.0], 0.0, [5, 6, 7])"
      ]
     },
     "execution_count": 7,
     "metadata": {},
     "output_type": "execute_result"
    }
   ],
   "source": [
    "tab = initialize(c, A, b)"
   ]
  },
  {
   "cell_type": "code",
   "execution_count": 8,
   "metadata": {},
   "outputs": [
    {
     "data": {
      "text/plain": [
       "3×7 Array{Float64,2}:\n",
       " 7.0  3.0  4.0  1.0  1.0  0.0  0.0\n",
       " 2.0  1.0  1.0  5.0  0.0  1.0  0.0\n",
       " 1.0  4.0  5.0  2.0  0.0  0.0  1.0"
      ]
     },
     "execution_count": 8,
     "metadata": {},
     "output_type": "execute_result"
    }
   ],
   "source": [
    "tab.Y"
   ]
  },
  {
   "cell_type": "code",
   "execution_count": 9,
   "metadata": {},
   "outputs": [
    {
     "data": {
      "text/plain": [
       "1×7 Array{Float64,2}:\n",
       " 3.0  2.0  1.0  5.0  0.0  0.0  0.0"
      ]
     },
     "execution_count": 9,
     "metadata": {},
     "output_type": "execute_result"
    }
   ],
   "source": [
    "tab.z_c"
   ]
  },
  {
   "cell_type": "markdown",
   "metadata": {},
   "source": [
    "##### "
   ]
  }
 ],
 "metadata": {
  "kernelspec": {
   "display_name": "Julia 1.5.0",
   "language": "julia",
   "name": "julia-1.5"
  },
  "language_info": {
   "file_extension": ".jl",
   "mimetype": "application/julia",
   "name": "julia",
   "version": "1.5.0"
  }
 },
 "nbformat": 4,
 "nbformat_minor": 2
}
