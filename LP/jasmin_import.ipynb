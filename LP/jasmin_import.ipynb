{
 "cells": [
  {
   "cell_type": "code",
   "execution_count": 1,
   "metadata": {},
   "outputs": [],
   "source": [
    "import Pkg"
   ]
  },
  {
   "cell_type": "code",
   "execution_count": 2,
   "metadata": {},
   "outputs": [
    {
     "name": "stderr",
     "output_type": "stream",
     "text": [
      "\u001b[32m\u001b[1m     Cloning\u001b[22m\u001b[39m git-repo `https://github.com/fbastin/Jasmin`\n",
      "\u001b[32m\u001b[1m    Updating\u001b[22m\u001b[39m git-repo `https://github.com/fbastin/Jasmin`\n",
      "\u001b[32m\u001b[1m    Updating\u001b[22m\u001b[39m registry at `C:\\Users\\slash\\.julia\\registries\\General`\n",
      "\u001b[32m\u001b[1m    Updating\u001b[22m\u001b[39m git-repo `https://github.com/JuliaRegistries/General.git`\n",
      "\u001b[32m\u001b[1m   Resolving\u001b[22m\u001b[39m package versions...\n",
      "\u001b[32m\u001b[1m    Updating\u001b[22m\u001b[39m `C:\\Users\\slash\\.julia\\environments\\v1.6\\Project.toml`\n",
      " \u001b[90m [933bf34c] \u001b[39m\u001b[93m~ Jasmin v0.2.0 `https://github.com/fbastin/Jasmin.jl#main` ⇒ v0.2.0 `https://github.com/fbastin/Jasmin#main`\u001b[39m\n",
      "\u001b[32m\u001b[1m    Updating\u001b[22m\u001b[39m `C:\\Users\\slash\\.julia\\environments\\v1.6\\Manifest.toml`\n",
      " \u001b[90m [933bf34c] \u001b[39m\u001b[93m~ Jasmin v0.2.0 `https://github.com/fbastin/Jasmin.jl#main` ⇒ v0.2.0 `https://github.com/fbastin/Jasmin#main`\u001b[39m\n"
     ]
    }
   ],
   "source": [
    "Pkg.add(url=\"https://github.com/fbastin/Jasmin\")"
   ]
  },
  {
   "cell_type": "code",
   "execution_count": 3,
   "metadata": {},
   "outputs": [],
   "source": [
    "using Jasmin"
   ]
  },
  {
   "cell_type": "code",
   "execution_count": null,
   "metadata": {},
   "outputs": [],
   "source": []
  }
 ],
 "metadata": {
  "kernelspec": {
   "display_name": "Julia 1.6.2",
   "language": "julia",
   "name": "julia-1.6"
  },
  "language_info": {
   "file_extension": ".jl",
   "mimetype": "application/julia",
   "name": "julia",
   "version": "1.6.2"
  }
 },
 "nbformat": 4,
 "nbformat_minor": 2
}
