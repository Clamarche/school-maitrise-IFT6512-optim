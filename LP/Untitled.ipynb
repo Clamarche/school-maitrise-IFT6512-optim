{
 "cells": [
  {
   "cell_type": "code",
   "execution_count": 9,
   "id": "cf832566",
   "metadata": {},
   "outputs": [],
   "source": [
    "using LinearAlgebra\n",
    "using Gurobi\n",
    "using JuMP"
   ]
  },
  {
   "cell_type": "code",
   "execution_count": 10,
   "id": "4d7be9fa",
   "metadata": {},
   "outputs": [
    {
     "name": "stdout",
     "output_type": "stream",
     "text": [
      "\r\n",
      "--------------------------------------------\r\n",
      "Warning: your license will expire in 11 days\r\n",
      "--------------------------------------------\r\n",
      "\r\n",
      "Academic license - for non-commercial use only - expires 2021-10-29\r\n",
      "Gurobi Optimizer version 9.1.2 build v9.1.2rc0 (win64)\r\n",
      "Thread count: 6 physical cores, 12 logical processors, using up to 12 threads\r\n",
      "Optimize a model with 6 rows, 4 columns and 12 nonzeros\r\n",
      "Model fingerprint: 0x8cce0919\r\n",
      "Coefficient statistics:\r\n",
      "  Matrix range     [1e+00, 2e+00]\r\n",
      "  Objective range  [1e+00, 3e+00]\r\n",
      "  Bounds range     [0e+00, 0e+00]\r\n",
      "  RHS range        [5e+00, 1e+01]\r\n",
      "Presolve removed 6 rows and 4 columns\r\n",
      "Presolve time: 0.00s\r\n",
      "Presolve: All rows and columns removed\r\n",
      "Iteration    Objective       Primal Inf.    Dual Inf.      Time\r\n",
      "       0    1.1666667e+01   0.000000e+00   0.000000e+00      0s\r\n",
      "\r\n",
      "Solved in 0 iterations and 0.00 seconds\r\n",
      "Optimal objective  1.166666667e+01\r\n",
      "\r\n",
      "User-callback calls 29, time in user-callback 0.00 sec\r\n",
      "Min u + 3 v\n",
      "Subject to\n",
      " c2 : x - y == 5.0\n",
      " c1 : x + 2 y >= 10.0\n",
      " s1 : -x - u <= 0.0\n",
      " s2 : x - u <= 0.0\n",
      " s3 : -y - v <= 0.0\n",
      " s4 : y - v <= 0.0\n",
      " u >= 0.0\n",
      " v >= 0.0\n",
      "\n"
     ]
    },
    {
     "data": {
      "text/plain": [
       "1×4 Matrix{Float64}:\n",
       " 6.66667  1.66667  6.66667  1.66667"
      ]
     },
     "execution_count": 10,
     "metadata": {},
     "output_type": "execute_result"
    }
   ],
   "source": [
    "m = Model()\n",
    "\n",
    "@variable(m, x)\n",
    "@variable(m, y)\n",
    "@variable(m, u >= 0)\n",
    "@variable(m, v >= 0)\n",
    "\n",
    "@constraint(m, c1, x+2*y >= 10)\n",
    "@constraint(m, c2, x-y == 5)\n",
    "@constraint(m, s1, -u <= x)\n",
    "@constraint(m, s2, x <= u)\n",
    "@constraint(m, s3, -v <= y)\n",
    "@constraint(m, s4, y <= v)\n",
    "\n",
    "@objective(m, Min, u+3*v)\n",
    "\n",
    "set_optimizer(m, Gurobi.Optimizer)\n",
    "\n",
    "optimize!(m)\n",
    "\n",
    "println(m)\n",
    "\n",
    "[value(x) value(y) value(u) value(v)]"
   ]
  },
  {
   "cell_type": "code",
   "execution_count": 11,
   "id": "4697921d",
   "metadata": {},
   "outputs": [
    {
     "name": "stdout",
     "output_type": "stream",
     "text": [
      "\r\n",
      "--------------------------------------------\r\n",
      "Warning: your license will expire in 11 days\r\n",
      "--------------------------------------------\r\n",
      "\r\n",
      "Academic license - for non-commercial use only - expires 2021-10-29\r\n",
      "Gurobi Optimizer version 9.1.2 build v9.1.2rc0 (win64)\r\n",
      "Thread count: 6 physical cores, 12 logical processors, using up to 12 threads\r\n",
      "Optimize a model with 6 rows, 6 columns and 14 nonzeros\r\n",
      "Model fingerprint: 0x5c8147f8\r\n",
      "Coefficient statistics:\r\n",
      "  Matrix range     [1e+00, 2e+00]\r\n",
      "  Objective range  [1e+00, 3e+00]\r\n",
      "  Bounds range     [0e+00, 0e+00]\r\n",
      "  RHS range        [5e+00, 1e+01]\r\n",
      "Presolve removed 6 rows and 6 columns\r\n",
      "Presolve time: 0.00s\r\n",
      "Presolve: All rows and columns removed\r\n",
      "Iteration    Objective       Primal Inf.    Dual Inf.      Time\r\n",
      "       0    1.1666667e+01   0.000000e+00   0.000000e+00      0s\r\n",
      "\r\n",
      "Solved in 0 iterations and 0.00 seconds\r\n",
      "Optimal objective  1.166666667e+01\r\n",
      "\r\n",
      "User-callback calls 33, time in user-callback 0.00 sec\r\n",
      "Min u + 3 v\n",
      "Subject to\n",
      " c2 : x - y == 5.0\n",
      " s1 : -xmin - xplus + u == 0.0\n",
      " m1 : x + xmin - xplus == 0.0\n",
      " c1 : x + 2 y >= 10.0\n",
      " s3 : -y - v <= 0.0\n",
      " s4 : y - v <= 0.0\n",
      " xmin >= 0.0\n",
      " xplus >= 0.0\n",
      " u >= 0.0\n",
      " v >= 0.0\n",
      "\n"
     ]
    },
    {
     "data": {
      "text/plain": [
       "1×6 Matrix{Float64}:\n",
       " 0.0  6.66667  6.66667  1.66667  6.66667  1.66667"
      ]
     },
     "execution_count": 11,
     "metadata": {},
     "output_type": "execute_result"
    }
   ],
   "source": [
    "m = Model()\n",
    "\n",
    "@variable(m, x)\n",
    "@variable(m, xmin >= 0)\n",
    "@variable(m, xplus >= 0)\n",
    "@variable(m, y)\n",
    "@variable(m, u >= 0)\n",
    "@variable(m, v >= 0)\n",
    "\n",
    "@constraint(m, c1, x+2*y >= 10)\n",
    "@constraint(m, c2, x-y == 5)\n",
    "@constraint(m, s1, u == xmin+xplus)\n",
    "@constraint(m, s3, -v <= y)\n",
    "@constraint(m, s4, y <= v)\n",
    "@constraint(m, m1, x == xplus-xmin)\n",
    "\n",
    "@objective(m, Min, u+3*v)\n",
    "\n",
    "set_optimizer(m, Gurobi.Optimizer)\n",
    "\n",
    "optimize!(m)\n",
    "\n",
    "println(m)\n",
    "\n",
    "[value(xmin) value(xplus) value(x) value(y) value(u) value(v)]"
   ]
  },
  {
   "cell_type": "code",
   "execution_count": null,
   "id": "20cc1539",
   "metadata": {},
   "outputs": [],
   "source": []
  }
 ],
 "metadata": {
  "kernelspec": {
   "display_name": "Julia 1.6.2",
   "language": "julia",
   "name": "julia-1.6"
  },
  "language_info": {
   "file_extension": ".jl",
   "mimetype": "application/julia",
   "name": "julia",
   "version": "1.6.2"
  }
 },
 "nbformat": 4,
 "nbformat_minor": 5
}
