{
 "cells": [
  {
   "cell_type": "markdown",
   "metadata": {},
   "source": [
    "# Question 1.a.\n",
    "Considérons le problème de programmation linéaire suivant \n",
    "\\begin{align*}\n",
    "&\\min\\ M \\\\\n",
    "&\\begin{aligned}\n",
    "\\text{s.a. } \n",
    "& \\sum_{j=1} ^{n} a_{ij} x_{j} \\le M ,\\ i = 1,2,\\ldots,m\\\\\n",
    "& \\sum_{j=1} ^{n} x_{j} = 1\\\\\n",
    "& x_j \\ge 0, \\ j=1,3,\\ldots,n.\n",
    "\\end{aligned}\n",
    "\\end{align*}\n",
    "Démontrer que le dual de ce problème s'écrit \n",
    "\\begin{align*}\n",
    "&\\max\\ N  \\\\\n",
    "&\\begin{aligned}\n",
    "\\text{s.a. }\n",
    "& \\sum_{i=1} ^{m} a_{ij} y_i \\ge N ,\\ j=1,2,\\ldots,n\\\\\n",
    "& \\sum_{i=1} ^{m} y_i =1 \\\\\n",
    "& y_{i}  \\ge 0, \\ i=1,2,\\ldots,m.\n",
    "\\end{aligned}\n",
    "\\end{align*}"
   ]
  },
  {
   "cell_type": "markdown",
   "metadata": {},
   "source": [
    "## Solution 1.a.\n",
    "\n",
    "### Rappel\n",
    "On rappelle les conversions primal-dual suivantes :\n",
    "\\begin{align*}\n",
    "\\begin{array}{lllll}\n",
    "&\\min_x\\ c^{t}x &&&& \\max_y\\ b^{t}y  \\\\\n",
    "&\\begin{aligned}\n",
    "\\text{s.a. }\n",
    "& Ax \\ge b,\\\\\n",
    "& x \\ge 0.\n",
    "\\end{aligned}\n",
    "&&&&\\begin{aligned}\n",
    "\\text{s.a. }\n",
    "& A^{t} y \\le c ,\\\\\n",
    "& y \\ge 0.\n",
    "\\end{aligned}\n",
    "\\end{array}\n",
    "\\end{align*}\n",
    "\n",
    "\\begin{align*}\n",
    "\\begin{array}{lllll}\n",
    "&\\min_x\\ c^{t}x &&&& \\max_y\\ b^{t}y  \\\\\n",
    "&\\begin{aligned}\n",
    "\\text{s.a. }\n",
    "& Ax = b,\\\\\n",
    "& x \\ge 0.\n",
    "\\end{aligned}\n",
    "&&&&\\begin{aligned}\n",
    "\\text{s.a. }\n",
    "& A^{t} y \\le c ,\\\\\n",
    "\\end{aligned}\n",
    "\\end{array}\n",
    "\\end{align*}"
   ]
  },
  {
   "cell_type": "markdown",
   "metadata": {},
   "source": [
    "### Approche 1"
   ]
  },
  {
   "cell_type": "markdown",
   "metadata": {},
   "source": [
    "Associons entre parenthèses les variables duales associées aux contraintes. Nous avons, après réordonnancement des contraintes,\n",
    "\n",
    "\\begin{align*}\n",
    "\\min\\ & M \\\\\n",
    "\\text{s.a. } &\n",
    "\\begin{array}[t]{ll}\n",
    "\\sum_{j=1} ^{n} x_{j} = 1 & (N) \\\\\n",
    "\\sum_{j=1} ^{n} a_{ij} x_{j} - M \\le 0 ,\\ i = 1,2,\\ldots,m & (\\lambda_i,\\ i = 1,\\ldots,m)\n",
    "\\end{array} \\\\\n",
    "& x_j \\ge 0, \\ j=1,2,\\ldots,n.\n",
    "\\end{align*}"
   ]
  },
  {
   "cell_type": "markdown",
   "metadata": {},
   "source": [
    "Comme la première contrainte est une contrainte d'égalité, la variable duale associée est libre, tandis que les autres contraintes indiquent que $\\lambda_i \\leq 0$, $i = 1,\\ldots,m$. $x \\geq 0$, aussi les $n$ premières contraintes du dual sont de type plus petit que, tandis que $M$ étant une variable libre, la dernière contraintes est une contraintes d'égalité. La matrice des contraintes linéaires, le terme de droite  et le coût peuvent s'écrire comme\n",
    "$$\n",
    "A =\n",
    "\\begin{pmatrix}\n",
    "1 & 1 & \\ldots & 1 & 0 \\\\\n",
    "a_{11} & a_{12} & \\ldots & a_{1n} & -1 \\\\\n",
    "\\vdots & \\vdots & \\ddots & \\vdots & \\vdots \\\\\n",
    "a_{m1} & a_{m2} & \\ldots & a_{mn} & -1 \\\\\n",
    "\\end{pmatrix}, \\qquad\n",
    "b =\n",
    "\\begin{pmatrix}\n",
    "1 \\\\ 0 \\\\ \\vdots \\\\ 0\n",
    "\\end{pmatrix}, \\qquad\n",
    "c^t =\n",
    "\\begin{pmatrix}\n",
    "0 & \\ldots & 0 & 0 &1\n",
    "\\end{pmatrix}\n",
    "$$\n",
    "\n",
    "\n",
    "de sorte que le dual peut de formuler comme"
   ]
  },
  {
   "cell_type": "markdown",
   "metadata": {},
   "source": [
    "\\begin{align*}\n",
    "\\max\\ & N + \\sum_{j = 1}^n 0x_j \\\\\n",
    "\\text{s.a. } &\n",
    "\\begin{array}[t]{ll}\n",
    "N + \\sum_{i=1}^{n} a_{ij}\\lambda_{i} \\leq 0 & j = 1,\\ldots,n \\\\\n",
    "- \\sum_{i=1}^{n} \\lambda_i = 1, \\\\\n",
    "\\end{array} \\\\\n",
    "& \\lambda_i \\le 0, \\ j=1,\\ldots,m.\n",
    "\\end{align*}"
   ]
  },
  {
   "cell_type": "markdown",
   "metadata": {},
   "source": [
    "En introduisant $y_i = -\\lambda_i$, $i = 1,\\ldots,m$, nous pouvons réécrire le programme dual comme"
   ]
  },
  {
   "cell_type": "markdown",
   "metadata": {},
   "source": [
    "\\begin{align*}\n",
    "\\max\\ & N \\\\\n",
    "\\text{s.a. } &\n",
    "\\begin{array}[t]{ll}\n",
    "N - \\sum_{i=1}^{n} a_{ij}y_{i} \\leq 0 & j = 1,\\ldots,n \\\\\n",
    "\\sum_{i=1}^{n} y_i = 1, \\\\\n",
    "\\end{array} \\\\\n",
    "& y_i \\ge 0, \\ j=1,\\ldots,m.\n",
    "\\end{align*}"
   ]
  },
  {
   "cell_type": "markdown",
   "metadata": {},
   "source": [
    "ou encore"
   ]
  },
  {
   "cell_type": "markdown",
   "metadata": {},
   "source": [
    "\\begin{align*}\n",
    "\\max\\ & N \\\\\n",
    "\\text{s.a. } &\n",
    "\\begin{array}[t]{ll}\n",
    "\\sum_{i=1}^{n} a_{ij}y_{i} \\geq N & j = 1,\\ldots,n \\\\\n",
    "\\sum_{i=1}^{n} y_i = 1, \\\\\n",
    "\\end{array} \\\\\n",
    "& y_i \\ge 0, \\ j=1,\\ldots,m.\n",
    "\\end{align*}"
   ]
  },
  {
   "cell_type": "markdown",
   "metadata": {},
   "source": [
    "### Approche 2"
   ]
  },
  {
   "cell_type": "markdown",
   "metadata": {},
   "source": [
    "Transformons notre primal: $M$ est une variable libre. Exprimons la comme\n",
    "différence de deux variable positives $M^{+}$ et $M^{-}$. L'égalité\n",
    "$\\sum_{j=1}^{n} x_j = 1$  est équivalente au système de deux inéquations\n",
    "suivant\n",
    "\\begin{align*}\n",
    "\\sum_{j=1} ^{n} x_j = 1 \n",
    "\\iff\n",
    "\\begin{cases}\n",
    "\\begin{aligned}\n",
    "&\\sum_{j=1} ^{n} x_j \\ge 1\\\\\n",
    "&\\sum_{j=1} ^{n} -x_{j} \\ge -1\n",
    "\\end{aligned}\n",
    "\\end{cases}\n",
    "\\end{align*}"
   ]
  },
  {
   "cell_type": "markdown",
   "metadata": {},
   "source": [
    "Enfin, $\\sum_{j=1} ^{n} a_{ij} x_{j} \\le M$, $i=1,2,\\ldots,m$, s'écrit aussi \n",
    "$\\sum_{j=1}^{n} -a_{ij} x_{j} + M \\ge 0$, $i=1,2,\\ldots,m$.\n",
    "\n",
    "Notre matrice $A$ a donc $m+2$ lignes et $n+2$ colonnes. $b$ est un vecteur de $m+2$ lignes et $c$ avec $n+2$ composantes.\n",
    "\\begin{align*}\n",
    "A =\n",
    "\\begin{pmatrix}\n",
    "-a_{11} & -a_{12} & \\ldots & 1 & -1\\\\\n",
    "\\vdots & \\vdots & \\vdots & \\vdots & \\vdots \\\\\n",
    "-a_{m1} & -a_{m2} & \\ldots, & 1 & -1 \\\\\n",
    "1 & 1 & \\ldots & 0 & 0\\\\\n",
    "-1 & -1 & \\vdots & 0\n",
    "\\end{pmatrix}, \\qquad\n",
    "b=\n",
    "\\begin{pmatrix}\n",
    "0\\\\\n",
    "0\\\\\n",
    "\\vdots\\\\\n",
    "1\\\\\n",
    "-1\n",
    "\\end{pmatrix}, \\qquad\n",
    "c^t =\n",
    "\\begin{pmatrix}\n",
    "0 & \\ldots & 0 & 1 & -1\n",
    "\\end{pmatrix}.\n",
    "\\end{align*}\n",
    "Pour chaque équation du primal, on compte une variable duale $y_i \\ge 0$ \n",
    "pour $i=1,2,\\ldots,m+2$."
   ]
  },
  {
   "cell_type": "markdown",
   "metadata": {},
   "source": [
    "Les contrainte du dual sont\n",
    "$A^{t} y \\le c$ ou encore\n",
    "\\begin{align*}\n",
    "\\begin{cases}\n",
    "-a_{11} y_1 - a_{12} y_2 - \\ldots - a_{m1} y_{m} + y_{m+1} - y_{m+2} \\le 0\\\\\n",
    "\\qquad \\vdots\\\\\n",
    "-a_{1n} y_1 - a_{1n} y_2 - \\ldots - a_{mn} y_{m} + y_{m+1} - y_{m+2} \\le 0\\\\\n",
    "y_1 + y_2 + \\ldots + y_m \\le 1\\\\\n",
    "-y_1 - y_2 - \\ldots - y_m \\le 1\\\\\n",
    "\\end{cases}\n",
    "\\end{align*}\n"
   ]
  },
  {
   "cell_type": "markdown",
   "metadata": {},
   "source": [
    "L'objectif du dual est $b^{t} y = y_{m+1} - y_{m+2} $."
   ]
  },
  {
   "cell_type": "markdown",
   "metadata": {},
   "source": [
    "Remplaçons $y_{m+1} - y_{m+2} \\overset{\\text{déf}}{=} N$.\n",
    "Le dual du problème a la forme suivante\n",
    "\\begin{align*}\n",
    "\\max\\ N &\\\\\n",
    "\\text{s.a.} &\n",
    "\\begin{aligned}[t]\n",
    "&-a_{11} y_1 - a_{12} y_2 - \\ldots - a_{m1} y_{m} + y_{m+1} - y_{m+2} \\le 0\\\\\n",
    "& \\qquad \\vdots\\\\\n",
    "&-a_{1n} y_1 - a_{1n} y_2 - \\ldots - a_{mn} y_{m} + y_{m+1} - y_{m+2} \\le 0\\\\\n",
    "&y_1 + y_2 + \\ldots + y_m \\le 1\\\\\n",
    "&-y_1 - y_2 - \\ldots - y_m \\le 1\\\\\n",
    "& y_i  \\ge 0, \\ \\text{ pour }  i=1,2,\\ldots,m\n",
    "\\end{aligned}\n",
    "\\end{align*}"
   ]
  },
  {
   "cell_type": "markdown",
   "metadata": {},
   "source": [
    "On constate que \n",
    "\\begin{align*}\n",
    "\\sum_{j=1} ^{n} y_i = 1 \n",
    "\\iff\n",
    "\\left\\{\n",
    "\\begin{aligned}\n",
    "&\\sum_{j=1} ^{m} y_i \\ge 1\\\\\n",
    "&\\sum_{j=1} ^{m} -y_{i} \\ge -1\n",
    "\\end{aligned}\n",
    "\\right.\n",
    "\\end{align*}"
   ]
  },
  {
   "cell_type": "markdown",
   "metadata": {},
   "source": [
    "On obtient finalement que\n",
    "\\begin{align*}\n",
    "&\\max\\ N  \\\\\n",
    "&\\begin{aligned}\n",
    "\\text{s.a.} &\\\\\n",
    "& \\sum_{i=1} ^{m} a_{ij} y_i \\ge N ,\\ j=1,2,\\ldots,n\\\\\n",
    "& \\sum_{i=1} ^{m} y_i =1 \\\\\n",
    "& y_i \\ge 0,\\ i=1,2,\\ldots,m\n",
    "\\end{aligned}\n",
    "\\end{align*}"
   ]
  },
  {
   "cell_type": "markdown",
   "metadata": {},
   "source": [
    "# Question 1.b.\n",
    "Démontrer que pour tout point réalisable $x$ du primal et pour tout point réalisable $y$ du dual,\n",
    "\\begin{align*}\n",
    "N \\le \\sum_{i=1} ^{m} \\sum_{j=1}^{n} y_i a_{ij} x_j \\le M.\n",
    "\\end{align*}"
   ]
  },
  {
   "cell_type": "markdown",
   "metadata": {},
   "source": [
    "## Solution 1.b.\n",
    "On a\n",
    "\\begin{align*}\n",
    "\\sum_{i=1} ^{m} \\sum_{j=1} ^{n} y_i a_{ij} x_j \n",
    "= \\sum_{j=1} ^{n} x_j \\sum_{i=1} ^{m} a_{ij} y_i\n",
    "\\ge \\sum_{j=1} ^{n} x_j N\n",
    "= N\n",
    "\\end{align*}\n",
    "puisque $x$ et $y$ sont réalisables pour le primal et le dual, respectivement.\n",
    "On peut faire l'argument symétrique, pour obtenir\n",
    "\\begin{align*}\n",
    "\\sum_{i=1} ^{m} \\sum_{j=1} ^{n} y_i a_{ij} x_j \n",
    "= \\sum_{i=1} ^{m} y_i \\sum_{j=1} ^{n}  a_{ij} x_j\n",
    "\\le \\sum_{i=1} ^{m} y_i M\n",
    "= M\n",
    "\\end{align*}"
   ]
  },
  {
   "cell_type": "markdown",
   "metadata": {},
   "source": [
    "# Julia"
   ]
  },
  {
   "cell_type": "code",
   "execution_count": 10,
   "metadata": {},
   "outputs": [
    {
     "ename": "LoadError",
     "evalue": "syntax: unexpected \"end\"",
     "output_type": "error",
     "traceback": [
      "syntax: unexpected \"end\"",
      ""
     ]
    }
   ],
   "source": [
    "## https://github.com/chkwon/jpor_codes/blob/master/chap5/simplex_method.jl\n",
    "## Slightly modified to avoid the inversion operation\n",
    "\n",
    "#module SimplexMethod\n",
    "\n",
    "  using LinearAlgebra, Combinatorics, Printf\n",
    "\n",
    "#  export simplex_method\n",
    "\n",
    "  mutable struct SimplexTableau\n",
    "    z_c     ::Array{Float64} # z_j - c_j\n",
    "    Y       ::Array{Float64} # inv(B) * A\n",
    "    x_B     ::Array{Float64} # inv(B) * b\n",
    "    obj     ::Float64        # c_B * x_B\n",
    "    b_idx   ::Array{Int64}   # indices for basic variables x_B\n",
    "  end\n",
    "\n",
    "  function is_nonnegative(x::Vector)\n",
    "    return length( x[ x .< 0] ) == 0\n",
    "  end\n",
    "\n",
    "  function is_nonpositive(z::Array)\n",
    "    return length( z[ z .> 0] ) == 0\n",
    "  end\n",
    "\n",
    "  function initial_BFS(A, b)\n",
    "    m, n = size(A)\n",
    "\n",
    "    comb = collect(combinations(1:n, m))\n",
    "    for i in length(comb):-1:1\n",
    "      b_idx = comb[i]\n",
    "      B = A[:, b_idx]\n",
    "      if rank(B) == m        \n",
    "        x_B = B\\b\n",
    "        if is_nonnegative(x_B)\n",
    "          return b_idx, x_B, B\n",
    "        end\n",
    "      end\n",
    "    end\n",
    "\n",
    "    error(\"Infeasible\")\n",
    "  end\n",
    "\n",
    "  function print_tableau(t::SimplexTableau)\n",
    "    m, n = size(t.Y)\n",
    "\n",
    "    hline0 = repeat(\"-\", 6)\n",
    "    hline1 = repeat(\"-\", 7*n)\n",
    "    hline2 = repeat(\"-\", 7)\n",
    "    hline = join([hline0, \"+\", hline1, \"+\", hline2])\n",
    "\n",
    "    println(hline)\n",
    "\n",
    "    @printf(\"%6s|\", \"\")\n",
    "    for j in 1:length(t.z_c)\n",
    "      @printf(\"%6.2f \", t.z_c[j])\n",
    "    end\n",
    "    @printf(\"| %6.2f\\n\", t.obj)\n",
    "\n",
    "    println(hline)\n",
    "\n",
    "    for i in 1:m\n",
    "      @printf(\"x[%2d] |\", t.b_idx[i])\n",
    "      for j in 1:n\n",
    "        @printf(\"%6.2f \", t.Y[i,j])\n",
    "      end\n",
    "      @printf(\"| %6.2f\\n\", t.x_B[i])\n",
    "    end\n",
    "\n",
    "    println(hline)\n",
    "  end\n",
    "\n",
    "  function pivoting!(t::SimplexTableau)\n",
    "    m, n = size(t.Y)\n",
    "\n",
    "    entering, exiting = pivot_point(t)\n",
    "    println(\"Pivoting: entering = x_$entering, exiting = x_$(t.b_idx[exiting])\")\n",
    "\n",
    "    # Pivoting: exiting-row, entering-column\n",
    "    # updating exiting-row\n",
    "    coef = t.Y[exiting, entering]\n",
    "    t.Y[exiting, :] /= coef\n",
    "    t.x_B[exiting] /= coef\n",
    "\n",
    "    # updating other rows of Y\n",
    "    for i in setdiff(1:m, exiting)\n",
    "      coef = t.Y[i, entering]\n",
    "      t.Y[i, :] -= coef * t.Y[exiting, :]\n",
    "      t.x_B[i] -= coef * t.x_B[exiting]\n",
    "    end\n",
    "\n",
    "    # updating the row for the reduced costs\n",
    "    coef = t.z_c[entering]\n",
    "    t.z_c -= coef * t.Y[exiting, :]'\n",
    "    t.obj -= coef * t.x_B[exiting]\n",
    "\n",
    "    # Updating b_idx\n",
    "    t.b_idx[ findfirst(t.b_idx .== t.b_idx[exiting]) ] = entering\n",
    "  end\n",
    "\n",
    "  function pivot_point(t::SimplexTableau)\n",
    "    # Finding the entering variable index\n",
    "    entering = findfirst( t.z_c .> 0)[2]\n",
    "    if entering == 0\n",
    "      error(\"Optimal\")\n",
    "    end\n",
    "\n",
    "    # min ratio test / finding the exiting variable index\n",
    "    pos_idx = findall( t.Y[:, entering] .> 0 )\n",
    "    if length(pos_idx) == 0\n",
    "      error(\"Unbounded\")\n",
    "    end\n",
    "    exiting = pos_idx[ argmin( t.x_B[pos_idx] ./ t.Y[pos_idx, entering] ) ]\n",
    "\n",
    "    return entering, exiting\n",
    "  end\n",
    "\n",
    "  function initialize(c, A, b)\n",
    "    c = Array{Float64}(c)\n",
    "    A = Array{Float64}(A)\n",
    "    b = Array{Float64}(b)\n",
    "\n",
    "    m, n = size(A)\n",
    "\n",
    "    # Finding an initial BFS\n",
    "    b_idx, x_B, B = initial_BFS(A,b)\n",
    "\n",
    "    Y = inv(B) * A\n",
    "    c_B = c[b_idx]\n",
    "    obj = dot(c_B, x_B)\n",
    "\n",
    "    # z_c is a row vector\n",
    "    z_c = zeros(1,n)\n",
    "    n_idx = setdiff(1:n, b_idx)\n",
    "    z_c[n_idx] = c_B' * inv(B) * A[:,n_idx] - c[n_idx]'\n",
    "\n",
    "    return SimplexTableau(z_c, Y, x_B, obj, b_idx)\n",
    "  end\n",
    "\n",
    "  function is_optimal(t::SimplexTableau)\n",
    "    return is_nonpositive(t.z_c)\n",
    "  end\n",
    "\n",
    "  function simplex_method(c, A, b)\n",
    "    tableau = initialize(c, A, b)\n",
    "    # print_tableau(tableau)\n",
    "\n",
    "    while !is_optimal(tableau)\n",
    "      pivoting!(tableau)\n",
    "      # print_tableau(tableau)\n",
    "    end\n",
    "\n",
    "    opt_x = zeros(length(c))\n",
    "    opt_x[tableau.b_idx] = tableau.x_B\n",
    "\n",
    "    return opt_x, tableau.obj\n",
    "  end\n",
    "\n",
    "end"
   ]
  },
  {
   "cell_type": "code",
   "execution_count": 5,
   "metadata": {},
   "outputs": [
    {
     "data": {
      "text/plain": [
       "3-element Array{Int64,1}:\n",
       " 7\n",
       " 3\n",
       " 8"
      ]
     },
     "execution_count": 5,
     "metadata": {},
     "output_type": "execute_result"
    }
   ],
   "source": [
    "c = [-3; -2; -1; -5; 0; 0; 0]\n",
    "A = [7 3 4 1 1 0 0 ;\n",
    "     2 1 1 5 0 1 0 ;\n",
    "     1 4 5 2 0 0 1 ]\n",
    "b = [7; 3; 8]"
   ]
  },
  {
   "cell_type": "code",
   "execution_count": 8,
   "metadata": {},
   "outputs": [
    {
     "name": "stdout",
     "output_type": "stream",
     "text": [
      "Pivoting: entering = x_1, exiting = x_5\n",
      "Pivoting: entering = x_2, exiting = x_7\n",
      "Pivoting: entering = x_4, exiting = x_6\n"
     ]
    },
    {
     "data": {
      "text/plain": [
       "([0.17241379310344832, 1.879310344827586, 0.0, 0.15517241379310345, 0.0, 0.0, 0.0], -5.051724137931035)"
      ]
     },
     "execution_count": 8,
     "metadata": {},
     "output_type": "execute_result"
    }
   ],
   "source": [
    "x, obj = simplex_method(c, A, b)"
   ]
  }
 ],
 "metadata": {
  "kernelspec": {
   "display_name": "Julia 1.2.0",
   "language": "julia",
   "name": "julia-1.2"
  },
  "language_info": {
   "file_extension": ".jl",
   "mimetype": "application/julia",
   "name": "julia",
   "version": "1.2.0"
  }
 },
 "nbformat": 4,
 "nbformat_minor": 2
}
