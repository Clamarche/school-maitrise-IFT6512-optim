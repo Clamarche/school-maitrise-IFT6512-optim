{
 "cells": [
  {
   "cell_type": "markdown",
   "metadata": {},
   "source": [
    "# IFT2505 Séance de démonstration 2"
   ]
  },
  {
   "cell_type": "markdown",
   "metadata": {},
   "source": [
    "## 1. Rappels"
   ]
  },
  {
   "cell_type": "markdown",
   "metadata": {},
   "source": [
    "Soit le problème linéaire suivant: \n",
    "\\begin{align*}\n",
    "  \\min\\      & c^T x \\\\\n",
    "  \\text{sujet à } & Ax =b \\\\\n",
    "                  &  x\\geq 0\n",
    "\\end{align*}\n",
    "\n",
    "$A$ une matrice de $m$ lignes et $n$ colonnes $(m \\times n)$ et $b$ un vecteur colonne de $m$ lignes.\n",
    "On suppose $m\\leq n$ et $A$ est supposée de rang plein (i.e. les lignes de $A$ sont linéairement indépendantes, $rang(A) = m$).\n",
    "\n",
    "**Définition 1**\n",
    "Une sous-matrice $B$ de $A$ est dite $\\textbf{base}$ si B est une sous-matrice carrée inversible (i.e. $B^{-1} existe$), de dimensions $m \\times m$ (i.e. $B$ est constituée de $m$ colonnes de $A$).\n",
    "\n",
    "**Définition 2**\n",
    "Les *variables de base* $x_B$ sont les variables associées aux colonnes de $A$ constituant la base $B$.\n",
    "\n",
    "**Définition 3**\n",
    "Une solution de base associée à la base $B$, notée $w$ correspond à poser les variables hors bases à zéro (elles sont au nombre de $n-m$), et à déterminer le vecteur des variables de base $x_B = B^{-1}b$. Sans perte de généralité, supposons que $B$ est constitué des $m$ premières colonnes de $A$ et définissons $x_R$ le vecteur regroupant les variables hors base; on représente $w= \\begin{pmatrix} x_B & x_R \\end{pmatrix}^T$.\n",
    "\n",
    "$\\textbf{Définition 4}$\n",
    "Une solution de base est dite réalisable si $x_B \\geq 0$.\n",
    "\n",
    "$\\textbf{Définition 5}$\n",
    "Une solution de base est dite non dégénérée si $x_B > 0$."
   ]
  },
  {
   "cell_type": "markdown",
   "metadata": {},
   "source": [
    "## 2. Luenberger, Exercice 5 page 29"
   ]
  },
  {
   "cell_type": "markdown",
   "metadata": {},
   "source": [
    "Transformez le problème suivant sous forme standard, et trouvez la solution de base optimale: \n",
    "\\begin{align*}\n",
    "  \\max\\            & x_1+4x_2 +x_3 \\\\\n",
    "  \\text{sujet à } &   2x_1 -2x_2 +x_3 = 4 \\\\\n",
    "                  &    x_1 - x_3 =1 \\\\\n",
    "                  &    x_2, x_3 \\geq 0\n",
    "\\end{align*}"
   ]
  },
  {
   "cell_type": "markdown",
   "metadata": {},
   "source": [
    "$x_1$ est une variable libre.\n",
    "\n",
    "Nous utilisons la contrainte $ x_1 - x_3 =1 $ pour simplifier le problème: $x_1 = 1 + x_3$.\n",
    "\n",
    "Alors, $2x_1 -2x_2 +x_3 = 3$ devient $ -2x_2 + 3x_3 = 2$.\n",
    "\n",
    "L'objectif devient : \n",
    "$$\n",
    "4x_2 +2x_3 +1\n",
    "$$\n",
    "\n",
    "On s'intéresse seulement à la solution optimale et non à la valeur de l'objectif.\n",
    "Ainsi, le problème sous forme standard est alors équivalent à:\n",
    "\\begin{align*}\n",
    "  -\\min             &   -4x_2 -2x_3 \\\\\n",
    "  \\text{sujet à }  &   -2x_2 + 3x_3 = 2 \\\\\n",
    "                   &    x_2, x_3 \\geq 0\n",
    "\\end{align*}"
   ]
  },
  {
   "cell_type": "markdown",
   "metadata": {},
   "source": [
    "Le matrice des contraintes linéaires est\n",
    "$$\n",
    "A = \\begin{pmatrix}\n",
    "      -2 & 3\n",
    "\\end{pmatrix}\n",
    "$$\n",
    "$A$ ne compte que deux sous-matrices (qui sont des scalaires):\n",
    "$A2 = (-2)$ et $A3 = (3)$.\n",
    "$A2$ et $A3$ sont inversibles, donc $A2$ et $A3$ sont des bases.\n",
    "Les solution correspondant à chaque base est: \n",
    "\n",
    "$A2$: $x_2 = -1$ et $x_3 = 0$ \n",
    "\n",
    "où $x_2$ est variable de base.\n",
    "\n",
    "$A3$: $x_3 = \\frac{2}{3}$ et $x_2 = 0$ \n",
    "\n",
    "où $x_3$ est variable de base.\n",
    "\n",
    "Seule A3 est une base réalisable puisque la solution correspondante respecte la non négativité des variables."
   ]
  },
  {
   "cell_type": "code",
   "execution_count": null,
   "metadata": {},
   "outputs": [],
   "source": [
    "using Plots"
   ]
  },
  {
   "cell_type": "code",
   "execution_count": null,
   "metadata": {},
   "outputs": [],
   "source": [
    "plot(x -> (2 + 2x)/3, color = :blue, linewidth = 2, label = \"Contrainte\")\n",
    "hline!([0], color = :black, linestyle = :dash, label = \"\")\n",
    "vline!([0], color = :black, linestyle = :dash, label = \"\")\n",
    "plot!(xlims = (-2, 3), ylims = (-0.5, 4))\n",
    "scatter!([-1], [0], markersize = 5, label = \"Solution associé à la base A2\", color = :red)\n",
    "scatter!([0], [2/3], markersize = 5, label = \"Solution associé à la base A3\", color = :green)\n",
    "plot!(title = \"well Chosen Title\")\n",
    "plot!(xlabel = \"x2\", ylabel = \"x3\")"
   ]
  },
  {
   "cell_type": "markdown",
   "metadata": {},
   "source": [
    "$\\textbf{Remarque importante : }$\n",
    "Le problème n'est pas borné inférieurement. Il n'y a donc pas de solution optimale. A3 n'est donc pas une base optimale. "
   ]
  },
  {
   "cell_type": "markdown",
   "metadata": {},
   "source": [
    "## 3. Exercice 3"
   ]
  },
  {
   "cell_type": "markdown",
   "metadata": {},
   "source": [
    "Considérons le problème suivant\n",
    "\\begin{align*}\n",
    "  \\min_x\\ & c^Tx \\\\\n",
    "  \\mbox{sujet à } & Ax = b \\\\\n",
    "\\end{align*}\n",
    "qui s'écrit aussi:\n",
    "\\begin{align*}\n",
    "  \\text{Min }     & c^T x \\\\\n",
    "  \\text{Sujet à } & \\sum_{j = 1}^{n} a_{ij}x_j = b_i,\\ i= 1, ..., m \\\\\n",
    "\\end{align*}\n",
    "En ramenant le problème à la forme standard, montrez qu'il n'existe pas de solution de base telle que pour un indice $j$ donné, $x_j^{+}$ et $x_j^{-}$ soient dans la base."
   ]
  },
  {
   "cell_type": "markdown",
   "metadata": {},
   "source": [
    "Les variables $x_j$ étant libres, on les remplace par:\n",
    "$x_j = x_j^{+} - x_j^{-}$, avec $x_j^{+}, x_j^{-}\\geq 0$.\n",
    "\n",
    "On fait les substitions et on obtient le problème sous *forme standard*\n",
    "\\begin{align*}\n",
    "\\min_x\\ & c^t x^+ - c^t x^-\\\\\n",
    "\\text{ Sujet à } & \\sum_{j=1}^n a_{ij} x_j^+ - \\sum_{j=1}^n a_{ij} x_j^- = b_i,\\ i=1,\\ldots, m\\\\\n",
    " & x^+, \\ x^- \\ge 0\n",
    "\\end{align*}\n",
    "\n",
    "Montrons qu'il n'existe pas de solution de base, où pour un indice $j$ donné, $x_j^{+}$ et $x_j^{-}$ sont dans la base. \n",
    "\n",
    "$\\textit{La preuve est une preuve par contradiction.}$\n",
    "Supposons qu'il existe une base $B$, qui pour un $j$ donné, comprend les colonnes associées aux variables $x_j^{+}$ et $x_j^{-}$.\n",
    "$B$ est donc de la forme: \n",
    "$$\n",
    "B = \\begin{pmatrix}\n",
    "     \\cdots & a_{1j} & \\cdots & -a_{1j} & \\cdots \\\\\n",
    "     \\cdots & a_{2j} & \\cdots & -a_{2j} & \\cdots \\\\\n",
    "     \\cdots & a_{3j} & \\cdots & -a_{3j} & \\cdots \\\\\n",
    "         &  \\vdots  & \\ddots &  \\vdots \\\\  \n",
    "     \\cdots & a_{mj}  & \\cdots & -a_{mj} & \\cdots     \n",
    "\\end{pmatrix}\n",
    "$$\n",
    "$B$ a alors 2 colonnes linéairement dépendantes, ce qui est en contradiction avec l'inversibilité de $B$, et donc que $B$ est une base."
   ]
  },
  {
   "cell_type": "markdown",
   "metadata": {},
   "source": [
    "## 4. Exercice 8 page 30"
   ]
  },
  {
   "cell_type": "markdown",
   "metadata": {},
   "source": [
    "Transformez le problème suivant en un programme linéaire sous forme standard:\n",
    "\\begin{align*}\n",
    "\\min\\ & |x| + |y| + |z| \\\\\n",
    "\\mbox{t.q. } &  x + y \\leq 1 \\\\\n",
    "& 2x + z = 3\n",
    "\\end{align*}\n",
    "\n"
   ]
  },
  {
   "cell_type": "markdown",
   "metadata": {},
   "source": [
    "Introduisons 3 nouvelles variables positives ou nulles. \n",
    "\n",
    "$u = |x|$, $v = |y|$, $w = |z|$ \n",
    "\n",
    "$|x| = \\max \\{x, -x\\} $ \n",
    "\n",
    "Par conséquent: \n",
    "\n",
    "\\begin{align*}\n",
    "u \\geq x  \\quad u \\geq -x\n",
    "\\end{align*}\n",
    "\n",
    "De même :\n",
    "\\begin{align*}\n",
    "v \\geq  y  \\quad v \\geq -y \\\\\n",
    "w \\geq  z  \\quad w \\geq -z \n",
    "\\end{align*}\n",
    "\n",
    "x, y et z étant des variables libres nous les exprimons par une différence de deux variables positives:\n",
    "\\begin{eqnarray}\n",
    "% \\nonumber to remove numbering (before each equation)\n",
    "  x &=& x^+ - x^- \\\\\n",
    "  y &=& y^+ - y^- \\\\\n",
    "  z &=& z^+ - z^- \n",
    "\\end{eqnarray}\n",
    "$x^+, x^-, y^+, y^-, z^+, z^- \\geq 0$\n",
    "\n",
    "On remplace x, y et z par leurs expressions.\n",
    "La forme standard du problème est:\n",
    "\n",
    "\\begin{align*}\n",
    "  \\min\\ & u + v + w  \\\\\n",
    "  \\text{Sujet à }& -u + x^+ - x^-  + s_1  = 0\\\\\n",
    "   & -u - x^+ + x^- + s_2  = 0\\\\\n",
    "   & -v + y^+ - y^- + s_3  = 0\\\\\n",
    "   & -v - y^+ + y^- + s_4  = 0\\\\\n",
    "   & -w + z^+ - z^- + s_5  = 0\\\\\n",
    "   & -w - z^+ + z^- + s_6  =  0\\\\\n",
    "   & x^+ -x^- + y^+ -y^- + s = 1 \\\\\n",
    "   & 2x^+ - 2x^- + z^+ - z^- = 3 \\\\\n",
    "   & u, v, w \\geq 0 \\\\\n",
    "   & x^+, x^-, y^+, y^-, z^+, z^- \\geq 0 \\\\\n",
    "   & s, s_1, s_2, s_3, s_4, s_5, s_6 \\geq 0\n",
    "\\end{align*}\n",
    "\n"
   ]
  },
  {
   "cell_type": "markdown",
   "metadata": {},
   "source": [
    "## 5. Julia"
   ]
  },
  {
   "cell_type": "markdown",
   "metadata": {},
   "source": [
    "**Ecrivez un code Julia permettant de calculer toutes les solutions de base d'un système linéaire $Ax = b$.**\n",
    "\n",
    "**Écrivez une fonction qui trouve le minimum d'un programme linéaire (en assumant qu'il existe) en utilisant la fonction précédente.**"
   ]
  },
  {
   "cell_type": "markdown",
   "metadata": {},
   "source": [
    "Nous allons essentiellement remettre en fonction ce que nous avions fait à la démonstration $1$."
   ]
  },
  {
   "cell_type": "markdown",
   "metadata": {},
   "source": [
    "Nous allons introduire une fonction permettant de calculer et stocker les solutions de base et les bases associées.\n",
    "\n",
    "Le concept de fonction en Julia est expliqué à la page https://docs.julialang.org/en/v1/manual/functions/index.html\n",
    "\n",
    "Une fonction est un objet qui prend en entrée une liste d'arguments et retourne une valeur."
   ]
  },
  {
   "cell_type": "code",
   "execution_count": null,
   "metadata": {},
   "outputs": [],
   "source": [
    "using Combinatorics\n",
    "using LinearAlgebra"
   ]
  },
  {
   "cell_type": "code",
   "execution_count": null,
   "metadata": {},
   "outputs": [],
   "source": [
    "function basic_sols(A, b)\n",
    "    m, n = size(A)\n",
    "    C = collect(combinations(1:n,m)) # every combination of n choose m\n",
    "    xb = Vector{Float64}()\n",
    "    basis = Vector{Int64}()\n",
    "    for i = 1:length(C)\n",
    "        B = A[:,C[i]]\n",
    "        if rank(B) == m\n",
    "            # A vector is by defaut column-oriented, so we use vcat\n",
    "            xb = vcat(xb, B\\b)\n",
    "            basis = vcat(basis, C[i])\n",
    "        end\n",
    "    end\n",
    "    return xb, basis\n",
    "end"
   ]
  },
  {
   "cell_type": "markdown",
   "metadata": {},
   "source": [
    "Limitons-nous aux bases réalisables"
   ]
  },
  {
   "cell_type": "code",
   "execution_count": null,
   "metadata": {},
   "outputs": [],
   "source": [
    "function feasible_basic_sols(A, b)\n",
    "    bases = []\n",
    "    sols = []\n",
    "    \n",
    "    m, n = size(A)\n",
    "    comb = collect(combinations(1:n,m)) # every combination of n choose m\n",
    "    for i = 1:length(comb)\n",
    "        B = A[:,comb[i]]\n",
    "        if rank(B) == m\n",
    "            y = B\\b # analytically equivalent to y = B^{-1}*b\n",
    "            if all( y .>= 0)\n",
    "                # A vector is by defaut column-oriented, so we use vcat\n",
    "                bases = vcat(bases, i)\n",
    "                sol = zeros(n)\n",
    "                sol[comb[i]] = y\n",
    "                sols = vcat(sols, [sol])\n",
    "            end\n",
    "        end\n",
    "    end\n",
    "    return sols, bases\n",
    "end"
   ]
  },
  {
   "cell_type": "markdown",
   "metadata": {},
   "source": [
    "Finalement, nous pouvons chercher la solution optimale en cherchant celle qui donne la plus petite valeur de la fonction objectif."
   ]
  },
  {
   "cell_type": "code",
   "execution_count": null,
   "metadata": {},
   "outputs": [],
   "source": [
    "function enumerate_solve(A,b,c)\n",
    "    feasible_basic_sols(A, b)\n",
    "    sols, B = feasible_basic_sols(A, b);\n",
    "    idx = 1\n",
    "    opt = c'*sols[1][1:2]\n",
    "    for i = 2:length(sols)\n",
    "        temp = c'*sols[i][1:2]\n",
    "        if (temp < opt)\n",
    "            idx = i\n",
    "            opt = temp\n",
    "        end\n",
    "    end\n",
    "    return sols[idx], opt\n",
    "end"
   ]
  },
  {
   "cell_type": "markdown",
   "metadata": {},
   "source": [
    "#### Exemple 3 page 25\n",
    "\\begin{align}\n",
    "    \\text{Min} & -2x_1 - x_2 \\\\\n",
    "    \\text{Sujet à } & x_1 + \\frac{8}{3}x_2 + x_3 = 4 \\\\\n",
    "            & x_1+x_2 + x_4 = 2 \\\\\n",
    "            & 2x_1 + x_5 = 3 \\\\\n",
    "            & x_1, x_2, x_3, x_4, x_5 \\geq 0\n",
    "\\end{align}"
   ]
  },
  {
   "cell_type": "code",
   "execution_count": null,
   "metadata": {},
   "outputs": [],
   "source": [
    "A = [1 8/3 1 0 0; 1 1 0 1 0; 2 0 0 0 1]\n",
    "b = [4.0, 2, 3]\n",
    "c = [-2.0, -1]\n",
    "xstar, vstar = enumerate_solve(A,b,c)"
   ]
  },
  {
   "cell_type": "code",
   "execution_count": null,
   "metadata": {},
   "outputs": [],
   "source": [
    "#vérification des résultats, xstar est vraiment une solution réalisable??\n",
    "println(A*xstar - b)\n",
    "#oui"
   ]
  },
  {
   "cell_type": "markdown",
   "metadata": {},
   "source": [
    "## Résolutions de systèmes linéaires et inversion de matrices"
   ]
  },
  {
   "cell_type": "markdown",
   "metadata": {},
   "source": [
    "Remarquons que nous n'avons pas utiliser l'inversion de matrice pour résoudre le système $Bx_B = b$, alors que mathématiquement, la réponse est $x_B = B^{-1}b$. Pourtant, Julia dispose d'une fonction pour inverser une matrice: `inv`. Numériquement, il est conseillé d'éviter autant que possible de calculer l'inverse d'une matrice."
   ]
  },
  {
   "cell_type": "markdown",
   "metadata": {},
   "source": [
    "Nous allons considérer pour illustrer le phénomène un exemple adapté de https://www.reddit.com/r/programming/comments/argsg/dont_invert_that_matrix/c0j17m7/"
   ]
  },
  {
   "cell_type": "markdown",
   "metadata": {},
   "source": [
    "Nous allons ici considérer une matrice de Hilbert de taille 10 par 10. Voir aussi https://math.nist.gov/MatrixMarket/"
   ]
  },
  {
   "cell_type": "markdown",
   "metadata": {},
   "source": [
    "La matrice de Hilbert est définie en prenant $\\forall i, j$:\n",
    "$$\n",
    "a_{ij} = \\frac{1}{i + j - 1}.\n",
    "$$\n",
    "Ceci peut se voir en affichant les entrées de la matrice sous forme de rationels:"
   ]
  },
  {
   "cell_type": "code",
   "execution_count": null,
   "metadata": {},
   "outputs": [],
   "source": [
    "n = 10\n",
    "\n",
    "[1//(i + j - 1) for i in 1:n, j in 1:n]"
   ]
  },
  {
   "cell_type": "markdown",
   "metadata": {},
   "source": [
    "Sous forme réelle, cela donne"
   ]
  },
  {
   "cell_type": "code",
   "execution_count": null,
   "metadata": {},
   "outputs": [],
   "source": [
    "A = [1/(i + j - 1) for i in 1:n, j in 1:n]"
   ]
  },
  {
   "cell_type": "markdown",
   "metadata": {},
   "source": [
    "Définissons un vecteur avec des 1 comme seules entrées, et formons le terme de droite $b$ en le multipliant par $A$."
   ]
  },
  {
   "cell_type": "code",
   "execution_count": null,
   "metadata": {},
   "outputs": [],
   "source": [
    "x = ones(n)\n",
    "b = A*x"
   ]
  },
  {
   "cell_type": "markdown",
   "metadata": {},
   "source": [
    "Analysons l'erreur numérique en résolvant le système $Ax = b$."
   ]
  },
  {
   "cell_type": "code",
   "execution_count": null,
   "metadata": {},
   "outputs": [],
   "source": [
    "[norm(x-A\\b), norm(x-inv(A)*b)]"
   ]
  },
  {
   "cell_type": "markdown",
   "metadata": {},
   "source": [
    "Nous voyons que l'erreur numérique est plus grande est résolvant le système à l'aide de l'inversion de matrice qu'en appelant la commande `A\\b`.\n",
    "\n",
    "Analysons aussi son temps d'exécution. Pour ce faire, nous utiliserons la libraire BenchmarkTools."
   ]
  },
  {
   "cell_type": "code",
   "execution_count": null,
   "metadata": {},
   "outputs": [],
   "source": [
    "using BenchmarkTools"
   ]
  },
  {
   "cell_type": "code",
   "execution_count": null,
   "metadata": {},
   "outputs": [],
   "source": [
    "@benchmark A\\b"
   ]
  },
  {
   "cell_type": "code",
   "execution_count": null,
   "metadata": {},
   "outputs": [],
   "source": [
    "@benchmark (inv(A)*b)"
   ]
  },
  {
   "cell_type": "markdown",
   "metadata": {},
   "source": [
    "En plus d'être moins précise, la méthode est plus lente!\n",
    "\n",
    "Le résultat est similaire en travaillant à partir de matrices aléatoires."
   ]
  },
  {
   "cell_type": "code",
   "execution_count": null,
   "metadata": {},
   "outputs": [],
   "source": [
    "using Random\n",
    "\n",
    "# Nous fixons la semence du générateur afin de favoriser la reproductibilité des résultats.\n",
    "Random.seed!(1234)\n",
    "\n",
    "A = rand(100,100)\n",
    "B = rand(100,100)"
   ]
  },
  {
   "cell_type": "code",
   "execution_count": null,
   "metadata": {},
   "outputs": [],
   "source": [
    "X1 = A\\B\n",
    "X2 = inv(A)*B\n",
    "[norm(A*X1-B), norm(A*X2-B)]"
   ]
  },
  {
   "cell_type": "code",
   "execution_count": null,
   "metadata": {},
   "outputs": [],
   "source": [
    "@benchmark A\\B"
   ]
  },
  {
   "cell_type": "code",
   "execution_count": null,
   "metadata": {},
   "outputs": [],
   "source": [
    "@benchmark inv(A)*B"
   ]
  },
  {
   "cell_type": "code",
   "execution_count": null,
   "metadata": {},
   "outputs": [],
   "source": [
    "Nous construirons ultérieurement des exemples plus frappants."
   ]
  },
  {
   "cell_type": "markdown",
   "metadata": {},
   "source": []
  }
 ],
 "metadata": {
  "@webio": {
   "lastCommId": null,
   "lastKernelId": null
  },
  "kernelspec": {
   "display_name": "Julia 1.6.2",
   "language": "julia",
   "name": "julia-1.6"
  },
  "language_info": {
   "file_extension": ".jl",
   "mimetype": "application/julia",
   "name": "julia",
   "version": "1.6.2"
  }
 },
 "nbformat": 4,
 "nbformat_minor": 2
}
