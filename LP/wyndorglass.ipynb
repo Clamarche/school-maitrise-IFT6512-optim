{
 "cells": [
  {
   "cell_type": "code",
   "execution_count": null,
   "metadata": {},
   "outputs": [],
   "source": [
    "using JuMP\n",
    "using Clp"
   ]
  },
  {
   "cell_type": "code",
   "execution_count": null,
   "metadata": {},
   "outputs": [],
   "source": [
    "m = Model(with_optimizer(Clp.Optimizer))\n",
    "\n",
    "@variable(m, 0 <= x <= 4)\n",
    "@variable(m, 0 <= y <= 6)\n",
    "\n",
    "@constraint(m, 3x + 2y <= 18.0)\n",
    "\n",
    "@objective(m, Max, 3x+5y)\n",
    "\n",
    "print(m)"
   ]
  },
  {
   "cell_type": "code",
   "execution_count": null,
   "metadata": {},
   "outputs": [],
   "source": [
    "status = optimize!(m)"
   ]
  }
 ],
 "metadata": {
  "kernelspec": {
   "display_name": "Julia 1.5.0",
   "language": "julia",
   "name": "julia-1.5"
  },
  "language_info": {
   "file_extension": ".jl",
   "mimetype": "application/julia",
   "name": "julia",
   "version": "1.5.0"
  }
 },
 "nbformat": 4,
 "nbformat_minor": 2
}
