{
 "cells": [
  {
   "cell_type": "markdown",
   "metadata": {},
   "source": [
    "# Conditions de Karush-Kuhn-Tucker"
   ]
  },
  {
   "cell_type": "markdown",
   "metadata": {},
   "source": [
    "## Exercice 1"
   ]
  },
  {
   "cell_type": "markdown",
   "metadata": {},
   "source": [
    "Source: http://bdesgraupes.pagesperso-orange.fr/UPX/Master1/MNM1_exos_doc2.pdf\n",
    "\n",
    "Nous considérons une économie à deux produits: une bien de consommation et du travail. L'indice 1 conçoit le bien de consommation, avec un prix $p_1  > 0$, tandis que l'indice 2 désigne le travail, avec un salaire $𝑝_2> 0$.\n",
    "\n",
    "Les préférences d'un agent économique, avec comme seule ressource la main-d'œuvre, peuvent être représentées avec une fonction d'utilité\n",
    "$$\n",
    "U(x_1, x_2) = 2 \\ln x_1 + \\ln (3 - x_2).\n",
    "$$\n",
    "\n",
    "On suppose qu'il existe un niveau de consommation minimum $x_1 \\geq 1$ alors que le travail ne peut pas dépasser 3. Nous voulons déterminer la fonction de demande du bien de consommation et la fonction d'offre d'emploi. Formulez le programme de maximisation, et résolvez-le à l'aide des conditions de Karush-Kuhn-Tucker. La solution est-elle unique? Pourquoi?"
   ]
  },
  {
   "cell_type": "markdown",
   "metadata": {},
   "source": [
    "Nous devons maximiser l'utilité $U(x_1, x_2) = 2 \\ln x_1 + \\ln (3 - x_2)$ sous les contraintes $x_1 \\geq 1$ et $x_2 \\leq 3$. De plus, il n'est pas possible de dépenser plus que ce qui est gagné: $p_1x_1 \\leq p_2x_2$. En mettant le tout ensemble, nous obtenons le programme"
   ]
  },
  {
   "cell_type": "markdown",
   "metadata": {},
   "source": [
    "\\begin{align*}\n",
    "\\min_x\\ & -2 \\ln x_1 - \\ln (3 - x_2) \\\\\n",
    "\\mbox{s.t. } & x_1 \\geq 1 \\\\ & x_2 \\leq 3 \\\\\n",
    "& p_1x_1 - p_2x_2 \\leq 0 \\\\\n",
    "& x_1, x_2 \\geq 0.\n",
    "\\end{align*}"
   ]
  },
  {
   "cell_type": "markdown",
   "metadata": {},
   "source": [
    "Nous pouvons reformuler le problème comme\n",
    "\\begin{align*}\n",
    "\\min_x\\ & -2 \\ln x_1 - \\ln (3 - x_2) \\\\\n",
    "\\mbox{s.t. } & -x_1+1 \\leq 0 \\\\ & x_2 - 3 \\leq 0 \\\\\n",
    "& p_1x_1 - p_2x_2 \\leq 0 \\\\\n",
    "& -x_1 \\leq 0, -x_2 \\leq 0.\n",
    "\\end{align*}\n",
    "Dès lors, le lagrangien est\n",
    "$$\n",
    "L(x,\\lambda) = -2 \\ln x_1 - \\ln (3 - x_2) + \\lambda_1 (1-x_1) + \\lambda_2 (x_2-3) + \\lambda_3 (p_1x_1 - p_2x_2) - \\lambda_4 x_1 - \\lambda_5 x_2.\n",
    "$$"
   ]
  },
  {
   "cell_type": "markdown",
   "metadata": {},
   "source": [
    "Les conditions KKT peuvent être écrites comme\n",
    "\\begin{align*}\n",
    "-\\frac{2}{x_1}-\\lambda_1+p_1\\lambda_3-\\lambda_4 &= 0 \\\\\n",
    "\\frac{1}{3-x_2}+\\lambda_2-p_2\\lambda_3-\\lambda_5 &= 0 \\\\\n",
    "-x_1+1 &\\leq 0 \\\\\n",
    "x_2 - 3 & \\leq 0 \\\\\n",
    "p_1x_1 - p_2x_2 & \\leq 0 \\\\\n",
    "-x_1 &\\leq 0 \\\\\n",
    "-x_2 & \\leq 0 \\\\\n",
    "\\lambda_1(-x_1+1) & = 0 \\\\\n",
    "\\lambda_2(x_2 - 3) & = 0 \\\\\n",
    "\\lambda_3(p_1x_1 - p_2x_2) & = 0 \\\\\n",
    "\\lambda_4 x_1 & = 0 \\\\\n",
    "\\lambda_5 x_2 & = 0 \\\\\n",
    "\\lambda_i & \\geq 0,\\ i = 1,\\ldots,5\n",
    "\\end{align*}"
   ]
  },
  {
   "cell_type": "markdown",
   "metadata": {},
   "source": [
    "Nous ne pouvons avoir $x_1 = 0$, puisque cela violerait la contrainte $-x_1 + 1 \\leq 0$, et par conséquent $\\lambda_4 = 0$. De plus, la contrainte $x_1 \\geq 0$ est impliquée par la contrainte $x_1 \\geq 1$. Nous pouvons dès lors simplifier le système KKT comme suit:\n",
    "\\begin{align*}\n",
    "-\\frac{2}{x_1}-\\lambda_1+p_1\\lambda_3 &= 0 \\\\\n",
    "\\frac{1}{3-x_2}+\\lambda_2-p_2\\lambda_3-\\lambda_5 &= 0 \\\\\n",
    "-x_1+1 &\\leq 0 \\\\\n",
    "x_2 - 3 & \\leq 0 \\\\\n",
    "p_1x_1 - p_2x_2 & \\leq 0 \\\\\n",
    "-x_2 & \\leq 0 \\\\\n",
    "\\lambda_1(-x_1+1) & = 0 \\\\\n",
    "\\lambda_2(x_2 - 3) & = 0 \\\\\n",
    "\\lambda_3(p_1x_1 - p_2x_2) & = 0 \\\\\n",
    "\\lambda_5 x_2 & = 0 \\\\\n",
    "\\lambda_i & \\geq 0,\\ i = 1,\\ldots,5, \\lambda_4 = 0.\n",
    "\\end{align*}"
   ]
  },
  {
   "cell_type": "markdown",
   "metadata": {},
   "source": [
    "Nous pouvons aussi exclure le cas $x_2 = 0$, comme autrement, la constrainte $p_1 x_1 - p_2 x_2$ contredirait la contrainte $x_1 \\geq 1$. Dès lors, $\\lambda_5 = 0$, et le système peut être davantage simplifié comme suit:\n",
    "\\begin{align*}\n",
    "-\\frac{2}{x_1}-\\lambda_1+p_1\\lambda_3 &= 0 \\\\\n",
    "\\frac{1}{3-x_2}+\\lambda_2-p_2\\lambda_3 &= 0 \\\\\n",
    "-x_1+1 &\\leq 0 \\\\\n",
    "x_2 - 3 & \\leq 0 \\\\\n",
    "p_1x_1 - p_2x_2 & \\leq 0 \\\\\n",
    "-x_2 & \\leq 0 \\\\\n",
    "\\lambda_1(-x_1+1) & = 0 \\\\\n",
    "\\lambda_2(x_2 - 3) & = 0 \\\\\n",
    "\\lambda_3(p_1x_1 - p_2x_2) & = 0 \\\\\n",
    "\\lambda_i & \\geq 0,\\ i = 1,2,3.\n",
    "\\end{align*}"
   ]
  },
  {
   "cell_type": "markdown",
   "metadata": {},
   "source": [
    "Observons aussi que $x_2 \\ne 3$, comme autrement la dérivée du lagrangien par rapport à $x_2$ ne serait pas définie. Par conséquent, $x_2 < 3$, $\\lambda_2 = 0$ et\n",
    "$$\n",
    "\\frac{1}{3-x_2} = p_2\\lambda_3.\n",
    "$$\n",
    "Ceci entraîne $\\lambda_3 \\ne 0$ et $p_1x_1 = p_2x_2$."
   ]
  },
  {
   "cell_type": "markdown",
   "metadata": {},
   "source": [
    "\\begin{align*}\n",
    "-\\frac{2}{x_1}-\\lambda_1+p_1\\lambda_3 &= 0 \\\\\n",
    "\\frac{1}{3-x_2}-p_2\\lambda_3 &= 0 \\\\\n",
    "-x_1+1 &\\leq 0 \\\\\n",
    "x_2 - 3 & \\leq 0 \\\\\n",
    "p_1x_1 &= p_2x_2 \\\\\n",
    "-x_2 & \\leq 0 \\\\\n",
    "\\lambda_1(-x_1+1) & = 0 \\\\\n",
    "\\lambda_3(p_1x_1 - p_2x_2) & = 0 \\\\\n",
    "\\lambda_1 & \\geq 0,\\ \\lambda_3 \\geq 0.\n",
    "\\end{align*}"
   ]
  },
  {
   "cell_type": "markdown",
   "metadata": {},
   "source": [
    "Supposons $x_1 = 1$. Alors\n",
    "$$\n",
    "x_2 = \\frac{p_1}{p_2}.\n",
    "$$\n",
    "Si $\\frac{p_1}{p_2} \\geq 3$, la solution violerait la contrainte $x_2 < 3$, aussi nous devons exclure ce cas. Ainsi, $\\frac{p_1}{p_2} < 3$, et les conditions\n",
    "$$\n",
    "x_2 \\geq 0,\\ p_1x_1 - p_2x_2 \\geq 0\n",
    "$$\n",
    "sont trivalement satitisfaire, De la seconde inégalité, nous tirons\n",
    "$$\n",
    "\\frac{1}{3-p_1/p_2} = p_2\\lambda_3,\n",
    "$$\n",
    "ou, de manière équivalente,\n",
    "$$\n",
    "\\frac{1}{3p_2-p_1} = \\lambda_3.\n",
    "$$\n",
    "Comme $\\lambda_3 \\geq 0$, cette égalité ne peut tenir que si $3p_2-p_1 > 0$, ou $p_1 < 3p_2$.\n",
    "La première égalité donne\n",
    "$$\n",
    "-2 - \\lambda_1+p_1 \\frac{1}{3p_2-p_1} = 0\n",
    "$$\n",
    "ou\n",
    "$$\n",
    "\\lambda_1 = \\frac{-2(3p_2-p_1) + p_1}{3p_2-p_1}\n",
    "$$\n",
    "Comme nous devons avoir $\\lambda_1 \\geq 0$, ceci n'est satisfait que si\n",
    "$$\n",
    "-6p_2 + 3p_1 \\geq 0\n",
    "$$\n",
    "ou\n",
    "$$p_1 \\geq 2p_2.$$"
   ]
  },
  {
   "cell_type": "markdown",
   "metadata": {},
   "source": [
    "Supposons maintenant que $x_1 > 1$. Alors, $\\lambda_1 = 0$ et\n",
    "$$\n",
    "\\lambda_3 = \\frac{2}{p_1x_1}.\n",
    "$$\n",
    "Ceci à son tour implique\n",
    "$$\n",
    "\\frac{1}{3-x_2}-\\frac{2p_2}{p_1x_1} = 0,\n",
    "$$\n",
    "ou\n",
    "$$\n",
    "p_1x_1 - 2p_2(3-x_2) = p_1x_1 +2p_2x_2 -6p_2 = p_1x_1 - p_2x_2 +3p_2x_2 -6p_2 = 0.\n",
    "$$\n",
    "Dès lors, $x_2 = 2$. Ceci conduit à\n",
    "$$\n",
    "x_1 = 2\\frac{p_2}{p_1}, \\ \\lambda_3 = \\frac{1}{p_2}.\n",
    "$$\n",
    "Toutes les conditions sont alors satisfaites avec la condition $2\\frac{p_2}{p_1} > 1$, ou $p_1 < 2p_2$."
   ]
  },
  {
   "cell_type": "markdown",
   "metadata": {},
   "source": [
    "En résumé, nous avons trois cas à considérer\n",
    "1. $p_1 < 2p2$: $x_1 = 2p_2/p_1$, $x_2 = 2$;\n",
    "2. $2p2 \\leq p_1 < 3p_2$: $x_1 = 1$, $x_2 = \\frac{p_1}{p_2}$;\n",
    "3. $p_1 \\geq 3p_2$: pas de solution."
   ]
  },
  {
   "cell_type": "markdown",
   "metadata": {},
   "source": [
    "## Exercice 2"
   ]
  },
  {
   "cell_type": "markdown",
   "metadata": {},
   "source": [
    "Considérons le problème\n",
    "\\begin{align*}\n",
    "\\min\\ & f(x,y) = x^2+2y^2 \\\\\n",
    "\\mbox{t.q. } & x+y-b = 0\n",
    "\\end{align*}"
   ]
  },
  {
   "cell_type": "markdown",
   "metadata": {},
   "source": [
    "Le lagrangien est\n",
    "$$\n",
    "L(\\lambda,x,y) = x^2 + 2y^2 + \\lambda(x+y-b)\n",
    "$$"
   ]
  },
  {
   "cell_type": "markdown",
   "metadata": {},
   "source": [
    "Le lagrangian est convexe en $(x,y)$ et atteint un minimum quand $\\nabla_{x,y} L(\\lambda, x, y) = 0$. En effet,\n",
    "$$\n",
    "\\nabla_{x^2,y^2}^2 L(\\lambda, x, y) = \\begin{pmatrix} 2 & 0 \\\\ 0 & 4 \\end{pmatrix}\n",
    "$$\n",
    "qui est définie positive (strictement diagonalement dominante)."
   ]
  },
  {
   "cell_type": "markdown",
   "metadata": {},
   "source": [
    "\\begin{align*}\n",
    "& \\nabla_{x,y} L(\\lambda, x, y) =\n",
    "\\begin{pmatrix}\n",
    "2x + \\lambda \\\\\n",
    "4y + \\lambda\n",
    "\\end{pmatrix}\n",
    "= 0 \\\\\n",
    "\\Leftrightarrow &\n",
    "\\begin{cases}\n",
    "\\lambda = -2x \\\\\n",
    "\\lambda = -4y\n",
    "\\end{cases}\n",
    "\\end{align*}\n",
    "Dès lors, $\\nabla_{x,y} L(\\lambda, x, y) = 0$ implique $x = 2y$, et de la contrainte,\n",
    "$$\n",
    "2y + y - b = 0\n",
    "$$\n",
    "ou\n",
    "$$\n",
    "y = \\frac{b}{3}\n",
    "$$\n",
    "et\n",
    "$$\n",
    "x = \\frac{2b}{3}\n",
    "$$"
   ]
  },
  {
   "cell_type": "markdown",
   "metadata": {
    "collapsed": true
   },
   "source": [
    "## Contre-exemples aux conditions LICQ et de Slater"
   ]
  },
  {
   "cell_type": "markdown",
   "metadata": {},
   "source": [
    "### Exemple 1\n",
    "\n",
    "#### LICQ"
   ]
  },
  {
   "cell_type": "markdown",
   "metadata": {},
   "source": [
    "Considérons de problème d'optimisation\n",
    "\\begin{align*}\n",
    "\\min_{x,y} \\ & y \\\\\n",
    "\\mbox{s.t. } & (x-1)^2 + y^2 = 1 \\\\\n",
    "& (x+1)^2 + y^2 = 1\n",
    "\\end{align*}\n",
    "\n",
    "Si nous soustrayons la seconde contrainte à la première, nous obtenons\n",
    "$$\n",
    "(x-1)^2 - (x+1)^2 = 0\n",
    "$$\n",
    "ou, de manière équivalente,\n",
    "$$\n",
    "x^2-2x+1 - x^2-2x-1 = -4x = 0\n",
    "$$\n",
    "Dès lors, $x = 0$, et par conséquent, $y = 0$.\n",
    "L'ensemble réalisable est dès lors le singleton $\\{ (0,0) \\}$"
   ]
  },
  {
   "cell_type": "markdown",
   "metadata": {},
   "source": [
    "La matrice jacobienne des contraintes est\n",
    "$$\n",
    "J(x,y) =\n",
    "\\begin{pmatrix}\n",
    "2(x-1) & 2y \\\\\n",
    "2(x+1) & 2y \\\\\n",
    "\\end{pmatrix}\n",
    "$$\n",
    "Dès lors,\n",
    "$$\n",
    "J(0,0) =\n",
    "\\begin{pmatrix}\n",
    "-2 & 0 \\\\\n",
    "2 & 0 \\\\\n",
    "\\end{pmatrix}\n",
    "$$\n",
    "Les gradients des contraintes actives sont linéairement dépendants. En d'autres termes, la LICQ n'est pas satisfaite."
   ]
  },
  {
   "cell_type": "code",
   "execution_count": 2,
   "metadata": {},
   "outputs": [
    {
     "data": {
      "text/plain": [
       "1"
      ]
     },
     "execution_count": 2,
     "metadata": {},
     "output_type": "execute_result"
    }
   ],
   "source": [
    "using LinearAlgebra\n",
    "\n",
    "J = [ -2 0 ; 2 0]\n",
    "rank(J)"
   ]
  },
  {
   "cell_type": "markdown",
   "metadata": {},
   "source": [
    "Le lagrangien est\n",
    "$$\n",
    "L(x, y, \\lambda) = y + \\lambda_1 ((x-1)^2 + y^2 - 1) + \\lambda_2 ((x + 1)^2 + y^2 - 1)\n",
    "$$\n",
    "et les conditions KKT sont\n",
    "\\begin{align*}\n",
    "2\\lambda_1 (x-1) + 2\\lambda_2 (x+1) &= 0 \\\\\n",
    "1 + 2\\lambda_1 y + 2\\lambda_2 y &= 0 \\\\\n",
    "(x-1)^2 + y^2 &= 1 \\\\\n",
    "(x+1)^2 + y^2 &= 1\n",
    "\\end{align*}\n",
    "Puisque seulement (0,0) est réalisable, les deux premières égalités deviennent\n",
    "\\begin{align*}\n",
    "-2\\lambda_1 + 2\\lambda_2 &= 0 \\\\\n",
    "1 &= 0\n",
    "\\end{align*}\n",
    "ce qui est évidemment faux."
   ]
  },
  {
   "cell_type": "markdown",
   "metadata": {},
   "source": [
    "Nous pouvons établir les conditions de dualité en considérant le problème\n",
    "\\begin{align*}\n",
    "q(\\lambda) &= \\inf_{(x,y)} \\{y + \\lambda_1 ((x-1)^2 + y^2 - 1) + \\lambda_2 ((x + 1)^2 + y^2 - 1) \\} \\\\\n",
    " &= \\inf_{(x,y)} \\{y + \\lambda_1 ( x^2 - 2x + y^2 ) + \\lambda_2 (  x^2 + 2x + y^2 ) \\}\n",
    "\\end{align*}\n",
    "avec $\\lambda = (\\lambda_1, \\lambda_2)$.\n",
    "\n",
    "Si $\\lambda = 0$, $q(0) = -\\infty$.\n",
    "\n",
    "Si $\\lambda_1 = -\\lambda_2$. Alors\n",
    "\\begin{align*}\n",
    "q(\\lambda) &= \\inf_{(x,y)} \\{y + \\lambda_1 ((x-1)^2 + y^2 - 1) - \\lambda_1 ((x + 1)^2 + y^2 - 1) \\} \\\\\n",
    "&= \\inf_{(x,y)} \\{y + \\lambda_1 (x^2-2x+1) - \\lambda_1 (x^2 +2x +1) \\} \\\\\n",
    "&= \\inf_{(x,y)} \\{y - 4\\lambda_1 x \\}\n",
    "\\end{align*}\n",
    "Dès lors $q(\\lambda) = -\\infty$.\n",
    "\n",
    "Supposons maintenant que $\\lambda_1 + \\lambda_2 \\ne 0$. Si $L(x,y,\\lambda)$ est strictement convexe par rapport à $(x,y)$, nous pouvons calculer la valeur de $q(\\lambda)$ en posant $\\nabla (x,y) L(x,y,\\lambda) = 0$.\n",
    "\n",
    "Or, nous avons\n",
    "$$\n",
    "\\nabla (x,y) L(x,y,\\lambda) =\n",
    "\\begin{pmatrix}\n",
    "2\\lambda_1 (x-1) + 2\\lambda_2 (x+1) \\\\\n",
    "1 + 2\\lambda_1 y + 2\\lambda_2 y\n",
    "\\end{pmatrix}\n",
    "$$\n",
    "et\n",
    "$$\n",
    "\\nabla^2 (x^2,y^2) L(x,y,\\lambda) =\n",
    "\\begin{pmatrix}\n",
    "2\\lambda_1 + 2\\lambda_2 & 0 \\\\\n",
    "0 & 2\\lambda_1 + 2\\lambda_2\n",
    "\\end{pmatrix}\n",
    "$$\n",
    "$Det\\left(\\nabla^2 (x^2,y^2) L(x,y,\\lambda)\\right| = 4(\\lambda_1+\\lambda_2)^2 > 0$.\n",
    "\n",
    "Si $\\lambda_1+\\lambda_2 < 0$, $L$ est strictement concave et $q(\\lambda) = -\\infty$. En effet, en posant $x = 0$,\n",
    "\\begin{align*}\n",
    "q(\\lambda) \\,|\\,_{x = 0} &= \\inf_{y} \\{y + \\lambda_1 y^2 + \\lambda_2 y^2 \\} \\\\\n",
    " &= \\inf_{y} \\{y + (\\lambda_1+\\lambda_2) y^2 \\}\n",
    "\\end{align*}\n",
    "\n",
    "Si $\\lambda_1+\\lambda_2 > 0$, $L$ est strictement convexe et $q(\\lambda)$ atteint son minimum au zéro du gradient."
   ]
  },
  {
   "cell_type": "markdown",
   "metadata": {},
   "source": [
    "En résumé, si $\\lambda_1 + \\lambda_2 \\leq 0$, $q(\\lambda) = -\\infty$. Autrement $q(\\lambda)$ peut être fini."
   ]
  },
  {
   "cell_type": "markdown",
   "metadata": {},
   "source": [
    "Supposons $\\lambda_1 + \\lambda_2 > 0$. $\\nabla (x,y) L(x,y,\\lambda) = 0$ si et seulement si\n",
    "$$\n",
    "\\begin{cases}\n",
    "x = \\frac{\\lambda_1 - \\lambda_2}{\\lambda_1 + \\lambda_2} \\\\\n",
    "y = \\frac{-1}{2\\lambda_1 + 2\\lambda_2}\n",
    "\\end{cases}\n",
    "$$\n",
    "En sustituant dans $q(\\lambda)$, nous obtenons\n",
    "\\begin{align*}\n",
    "q(\\lambda) &=\n",
    "-\\frac{1}{2(\\lambda_1 + \\lambda_2)} + \\lambda_1 \\left( \\left( \\frac{\\lambda_1 - \\lambda_2}{\\lambda_1 + \\lambda_2}-1 \\right)^2 + \\frac{1}{4(\\lambda_1 + \\lambda_2)^2} - 1 \\right) + \\lambda_2 \\left( \\left(\\frac{\\lambda_1 - \\lambda_2}{\\lambda_1 + \\lambda_2} + 1\\right)^2 + \\frac{1}{4(\\lambda_1 + \\lambda_2)^2} - 1 \\right) \\\\\n",
    "&= -\\frac{1}{2(\\lambda_1 + \\lambda_2)} + (\\lambda_1 + \\lambda_2) \\left( \\frac{1}{4(\\lambda_1 + \\lambda_2)^2} - 1 \\right) + 4\\frac{\\lambda_1\\lambda_2^2}{(\\lambda_1 + \\lambda_2)^2} + 4\\frac{\\lambda_1^2\\lambda_2}{(\\lambda_1 + \\lambda_2)^2} \\\\\n",
    "&= -\\frac{1}{2(\\lambda_1 + \\lambda_2)} + \\frac{1}{4(\\lambda_1 + \\lambda_2)} - (\\lambda_1 + \\lambda_2)  + 4\\lambda_1\\lambda_2 \\frac{\\lambda_1+\\lambda_2}{(\\lambda_1 + \\lambda_2)^2} \\\\\n",
    "&= -\\frac{1}{4(\\lambda_1 + \\lambda_2)} + \\frac{-(\\lambda_1 + \\lambda_2)^2+4\\lambda_1\\lambda_2}{\\lambda_1 + \\lambda_2} \\\\\n",
    "&= -\\frac{1}{4(\\lambda_1 + \\lambda_2)} + \\frac{-\\lambda_1^2 - \\lambda_2^2+2\\lambda_1\\lambda_2}{\\lambda_1 + \\lambda_2} \\\\\n",
    "&= -\\frac{1}{4(\\lambda_1 + \\lambda_2)}-\\frac{(\\lambda_1 - \\lambda_2)^2}{\\lambda_1 + \\lambda_2} \\\\\n",
    "&= \\frac{-1-4(\\lambda_1 - \\lambda_2)^2}{4(\\lambda_1 + \\lambda_2)}\n",
    "\\end{align*}"
   ]
  },
  {
   "cell_type": "markdown",
   "metadata": {},
   "source": [
    "Dès lors $q(\\lambda) < 0$, mais $\\sup_{\\lambda} q(\\lambda) = 0$ comme quand $\\lambda_1 = \\lambda_2 \\rightarrow +\\infty$, $q(\\lambda) \\rightarrow 0$. La dualité forte tient, mais asymptotiquement."
   ]
  },
  {
   "cell_type": "markdown",
   "metadata": {},
   "source": [
    "Considérons la variante\n",
    "\\begin{align*}\n",
    "\\min_{x,y} \\ & y \\\\\n",
    "\\mbox{s.t. } & (x-1)^2 + y^2 \\leq 1 \\\\\n",
    "& (x+1)^2 + y^2 \\leq 1\n",
    "\\end{align*}"
   ]
  },
  {
   "cell_type": "markdown",
   "metadata": {},
   "source": [
    "Puisque $y^2 \\geq 0$, nous déduisons qu'une condition nécessaire de faisabilité est\n",
    "$$\n",
    "\\begin{cases}\n",
    "(x-1)^2 \\leq 1 \\\\\n",
    "(x+1)^2 \\leq 1\n",
    "\\end{cases}\n",
    "$$"
   ]
  },
  {
   "cell_type": "markdown",
   "metadata": {},
   "source": [
    "Mais si $x \\ne 0$, $(x-1)^2$ ou $(x+1)^2$ est strictement plus grand que 1, aussi une des conditions est violée. Nous devons dès lors avoir $x = 0$ and $y = 0$.\n",
    "\n",
    "Par conséquent, l'ensemble $\\{ (x,y) \\,|\\, (x-1)^2 + y^2 < 1,\\ (x+1)^2 + y^2 < 1 \\}$ est vide, et la condition de qualification de contrainte de Slater n'est pas satisfaite."
   ]
  },
  {
   "cell_type": "markdown",
   "metadata": {
    "collapsed": true
   },
   "source": [
    "Il est possible de montrer que la dualité forte tient à nouveau asymptotiquement.\n",
    "\n",
    "Notons tout d'abord que l'expression du lagrangien demeure la même. On a déjà étudié le cas $\\lambda_1 = \\lambda_2 = 0$. mais nous devons avoir $\\lambda_1 + \\lambda_2 > 0$, et dès lors $q(\\lambda) < 0$. Mais si nous posons $\\lambda_1 = \\lambda_2$ et prenons la limite comme $\\lambda_1 \\rightarrow +\\infty$, nous avons, comme précédemment,\n",
    "$$\n",
    "\\lim_{\\lambda_1 \\rightarrow +\\infty} q(\\lambda_1,\\lambda_1) = 0.\n",
    "$$\n",
    "En d'autres mots, nous ne pouvons trouver une solution duale finie, mais la dualité forte tient encore."
   ]
  },
  {
   "cell_type": "markdown",
   "metadata": {
    "collapsed": true
   },
   "source": [
    "Dans les deux cas, nous ne pouvons pas trouver une solution duale finie en résolvant les conditions KKT."
   ]
  },
  {
   "cell_type": "markdown",
   "metadata": {
    "collapsed": true
   },
   "source": [
    "#### Exemple 2\n",
    "\n",
    "Considérons le problème\n",
    "\\begin{align*}\n",
    "\\min\\ & x+y \\\\\n",
    "\\mbox{t.q. } & y \\geq 0 \\\\\n",
    "& y \\leq x^3\n",
    "\\end{align*}\n",
    "La seconde contrainte implique $x \\geq 0$, et dès lors, la solution est trivialement $(0,0)$."
   ]
  },
  {
   "cell_type": "markdown",
   "metadata": {},
   "source": [
    "La fonction duale lagrangienne est\n",
    "$$\n",
    "q(\\lambda) = \\inf_{x,y} \\{ x + y - \\lambda_1 y + \\lambda_2 (y-x^3) \\} = \\inf_{x,y} \\{ x(1 - x^2 \\lambda_2) + y (1+\\lambda_2 - \\lambda_1) \\}\n",
    "$$"
   ]
  },
  {
   "cell_type": "markdown",
   "metadata": {},
   "source": [
    "Alors\n",
    "$$\n",
    "\\nabla_{(x,y)} L(x,y, \\lambda) =\n",
    "\\begin{pmatrix}\n",
    "    1-3x^2\\lambda_2 \\\\\n",
    "    1-\\lambda_1+\\lambda_2\n",
    "\\end{pmatrix}\n",
    "$$\n",
    "\n",
    "Si $1-\\lambda_1+\\lambda_2 \\ne 0$, il n'y a pas de solution à $\\nabla_{(x,y)} L(x,y, \\lambda) = 0$, et il est aisé de voir que $q(\\lambda) = -\\infty$.\n",
    "\n",
    "Si $1-\\lambda_1+\\lambda_2 = 0$,\n",
    "$$\n",
    "L(x,y, \\lambda) = x(1-x^2\\lambda_2)\n",
    "$$\n",
    "et à nouveau $q(\\lambda) = -\\infty$.\n",
    "\n",
    "Dès lors, il y a un saut de dualité infini.\n",
    "\n",
    "La LICQ ne tient pas comme, en $(0,0)$, les deux contraintes sont actives et la matrice jacobienne des contraintes est\n",
    "$$\n",
    "J(x,y) =\n",
    "\\begin{pmatrix}\n",
    "0 & -1 \\\\\n",
    "-3x^2 & 1 \\\\\n",
    "\\end{pmatrix}\n",
    "$$\n",
    "Dès lors,\n",
    "$$\n",
    "J(0,0) =\n",
    "\\begin{pmatrix}\n",
    "0 & -1 \\\\\n",
    "0 & 1 \\\\\n",
    "\\end{pmatrix}\n",
    "$$"
   ]
  },
  {
   "cell_type": "markdown",
   "metadata": {},
   "source": [
    "Le système KKT est\n",
    "\\begin{align*}\n",
    "1 - 3x^2\\lambda_2 &= 0 \\\\\n",
    "1-\\lambda_1+\\lambda_2 &= 0 \\\\\n",
    "-y &\\leq 0 \\\\\n",
    "y-x^3 &\\leq 0 \\\\\n",
    "\\lambda_1(-y) &= 0 \\\\\n",
    "\\lambda_2 (y-x^3) &= 0 \\\\\n",
    "\\lambda_1, \\lambda_2 &\\geq 0\n",
    "\\end{align*}"
   ]
  },
  {
   "cell_type": "markdown",
   "metadata": {},
   "source": [
    "La première égalité implique $\\lambda_2 \\ne 0$ et dès lors $y = x^3$. La première égalité implique également $x \\ne 0$, aussi $y \\ne 0$ et $\\lambda_1 = 0$. Dès lors, de la seconde égalité, $\\lambda_2 = -1$, contredisant $\\lambda_2 \\geq 0$. Dès lors, le système n'a pas de solution."
   ]
  },
  {
   "cell_type": "markdown",
   "metadata": {},
   "source": [
    "### Exemple 3\n",
    "\n",
    "Considérons le problème convexe\n",
    "\\begin{align*}\n",
    "\\min_{x,y}\\ & e^{-x} \\\\\n",
    "\\mbox{t.q. } & \\frac{x^2}{y} \\leq 0 \\\\\n",
    "& x, y \\geq 0.\n",
    "\\end{align*}"
   ]
  },
  {
   "cell_type": "markdown",
   "metadata": {},
   "source": [
    "La contrainte\n",
    "$$\n",
    "\\frac{x^2}{y} \\leq 0\n",
    "$$\n",
    "n'est satisfaite que pour $x = 0$ et $y > 0$.\n",
    "\n",
    "L'ensemble réalisable est donc $\\{ (x,y) \\,|\\, x = 0,\\ y > 0\\}$, qui est convexe.\n",
    "\n",
    "De même, la fonction objectif est convexe, et nous somme donc en présence d'un problème convexe.\n",
    "\n",
    "Cependant, comme aucun point tel que $x > 0$ n'est réalisable, la condition de Slater n'est pas satisfaite pour les contraintes telles que formulées.\n",
    "\n",
    "Comme $x = 0$ pour tout point réalisable, la fonction objectif vaut $1$ quel que soit le point réalisable considéré, et donc toute solution réalisable est également optimale, avec comme valeur optimale la valeur 1.\n",
    "\n",
    "Le lagrangien est\n",
    "$$\n",
    "L(x,y,\\lambda) = e^{-x} + \\lambda_1 x^2/y - \\lambda_2 x - \\lambda_3 y\n",
    "$$\n",
    "et le problème dual est\n",
    "\\begin{align*}\n",
    "\\max_{\\lambda}\\ & q(\\lambda) = \\inf_{x, y} L(x,y,\\lambda) \\\\\n",
    "\\mbox{t.q. } & \\lambda \\geq 0.\n",
    "\\end{align*}"
   ]
  },
  {
   "cell_type": "markdown",
   "metadata": {},
   "source": [
    "Afin d'évaluer $q(\\lambda)$, cherchons $(x,y)$ tel que\n",
    "$$\n",
    "\\nabla_{x,y} L(x,y,\\lambda) = \\begin{pmatrix}\n",
    "-e^{-x} + 2\\lambda_1 x/y - \\lambda_2 \\\\\n",
    "-\\lambda_1 x^2/y^2 - \\lambda_3 \n",
    "\\end{pmatrix} = 0\n",
    "$$"
   ]
  },
  {
   "cell_type": "markdown",
   "metadata": {},
   "source": [
    "Si $\\lambda_3 \\ne 0$, $L(0,y,\\lambda) = 1-\\lambda_3 y$ et $q(\\lambda) = -\\infty$, en faisant tendre $y$ vers $+\\infty$. Observons également que pour $x = 0$, la seconde composante du gradient du lagrangien vaut $-\\lambda_3$ et donc ne peut s'annuler."
   ]
  },
  {
   "cell_type": "markdown",
   "metadata": {},
   "source": [
    "Considérons à présent le cas $\\lambda_3 = 0$. Dans ce cas, la seconde composante du gradient du Lagrangien est nulle pour tout $x = 0$.\n",
    "\n",
    "Si $\\lambda_1 \\ne 0$, $\\lambda_1 > 0$, et nous devons avoir $x = 0$ et $\\lambda_2 = 1$ afin de trouver une racine du gradient du lagrangien. Si $\\lambda_2 \\ne 1$, alors $q(\\lambda)$ n'a pas d'extremum fini comme alors la première composante de $\\nabla_{x,y} L(x,y,\\lambda)$ devient, pour $x = 0$, $-1 -\\lambda_2$. En prenant $y < 0$ et en faisant tendre $x$ vers $+\\infty$, nous obtenons $q(\\lambda) = -\\infty$. La même observation tient pour $\\lambda_2 = 1$, et donc la racine du gradient ne correspond pas à un minimum global."
   ]
  },
  {
   "cell_type": "markdown",
   "metadata": {},
   "source": [
    "Si $\\lambda_1 = 0$, $L(x,y,\\lambda) = e^{-x} - \\lambda_2 x$. En faisant tendre $x$ vers $+\\infty$, nous observons que $q(\\lambda) = 0$ si $\\lambda_2 = 0$, $-\\infty$ sinon."
   ]
  },
  {
   "cell_type": "markdown",
   "metadata": {},
   "source": [
    "Par conséquent, le maximum de $q(\\lambda)$ vaut 0, atteint avec $\\lambda = 0$.\n",
    "\n",
    "Il y a dès lors un saut de dualité de 1."
   ]
  },
  {
   "cell_type": "markdown",
   "metadata": {},
   "source": [
    "Il arrive de conserver les contraintes de non-négativité lors de la construction du lagrangien.\n",
    "Pour l'exemple, nous avons alors\n",
    "$$\n",
    "L(x,y,\\lambda) = e^{-x} + \\lambda x^2/y\n",
    "$$\n",
    "et\n",
    "$$\n",
    "q(\\lambda) = \\inf_{x,y \\geq 0} L(x,y,\\lambda)\n",
    "$$"
   ]
  },
  {
   "cell_type": "markdown",
   "metadata": {},
   "source": [
    "Dans ce cas, si $\\lambda \\geq 0$, $L(x,y,\\lambda) > 0$ et $q(\\lambda) = 0$, par exemple en prenant $x = t$ et $y = t^3$, comme alors\n",
    "$$\n",
    "L(x,y,\\lambda) = e^{-t} + \\lambda t^2/t^3 = e^{-t} + \\lambda 1/t\n",
    "$$\n",
    "et il suffit de faire tendre $t$ vers $+\\infty$."
   ]
  },
  {
   "cell_type": "markdown",
   "metadata": {},
   "source": [
    "Le saut de dualité est dès lors à nouveau de 1."
   ]
  },
  {
   "cell_type": "code",
   "execution_count": null,
   "metadata": {},
   "outputs": [],
   "source": []
  }
 ],
 "metadata": {
  "kernelspec": {
   "display_name": "Julia 1.5.0",
   "language": "julia",
   "name": "julia-1.5"
  },
  "language_info": {
   "file_extension": ".jl",
   "mimetype": "application/julia",
   "name": "julia",
   "version": "1.5.0"
  }
 },
 "nbformat": 4,
 "nbformat_minor": 1
}
