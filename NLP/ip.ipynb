{
 "cells": [
  {
   "cell_type": "markdown",
   "metadata": {},
   "source": [
    "# Interior Points methods"
   ]
  },
  {
   "cell_type": "markdown",
   "metadata": {},
   "source": [
    "## IPOpt"
   ]
  },
  {
   "cell_type": "code",
   "execution_count": null,
   "metadata": {},
   "outputs": [],
   "source": [
    "using JuMP\n",
    "using Ipopt\n",
    "using LinearAlgebra"
   ]
  },
  {
   "cell_type": "code",
   "execution_count": null,
   "metadata": {},
   "outputs": [],
   "source": [
    "\"\"\"\n",
    "Problem: Solve the Rosenbrock function\n",
    "\"\"\"\n",
    "\n",
    "# For more information see here:\n",
    "# https://jump.readthedocs.org/en/latest/installation.html#getting-solvers\n",
    "\n",
    "# Information about Ipopt options here:\n",
    "# http://www.coin-or.org/Ipopt/documentation/node39.html\n",
    "\n",
    "m = Model(with_optimizer(Ipopt.Optimizer))\n",
    "# setsolver(m, IpoptSolver(tol = 1e-6, max_iter = 200, output_file = \"results.txt\"))\n",
    "\n",
    "@variable(m, x1)\n",
    "@variable(m, x2)\n",
    "\n",
    "@NLobjective(m, Min, 100(x2-x1^2)^2 + (1-x1)^2)\n",
    "\n",
    "set_start_value(x1, -1.2)\n",
    "set_start_value(x2, 1)\n",
    "\n",
    "optimize!(m)\n",
    "\n",
    "println(\"got \", objective_value(m), \" at [\", value(x1), \", \", value(x2), \"]\")"
   ]
  },
  {
   "cell_type": "code",
   "execution_count": null,
   "metadata": {},
   "outputs": [],
   "source": [
    "m = Model(with_optimizer(Ipopt.Optimizer))\n",
    "\n",
    "@variable(m, x[i=1:2])\n",
    "\n",
    "@NLobjective(m, Min, 100(x[2]-x[1]^2)^2 + (1-x[1])^2)\n",
    "\n",
    "set_start_value(x[1], -1.2)\n",
    "set_start_value(x[2], 1)\n",
    "\n",
    "println(m)\n",
    "\n",
    "optimize!(m)\n",
    "\n",
    "\n",
    "println(\"got \", objective_value(m), \" at \", [value(x[1]), value(x[2])])"
   ]
  },
  {
   "cell_type": "code",
   "execution_count": null,
   "metadata": {},
   "outputs": [],
   "source": [
    "include(\"mle.jl\")"
   ]
  },
  {
   "cell_type": "code",
   "execution_count": null,
   "metadata": {},
   "outputs": [],
   "source": [
    "n = 100\n",
    "\n",
    "m = Model(with_optimizer(Ipopt.Optimizer))\n",
    "\n",
    "@variable(m, x[i=1:n], start=(i/2))\n",
    "@NLexpression(m, myexpr[i=1:n], sin(x[i]))\n",
    "@NLconstraint(m, myconstr[i=1:n], myexpr[i] <= 0.5)\n",
    "@NLobjective(m, Min, sum(x[i]^2-1 for i = 1:n))"
   ]
  },
  {
   "cell_type": "code",
   "execution_count": null,
   "metadata": {},
   "outputs": [],
   "source": [
    "m"
   ]
  },
  {
   "cell_type": "code",
   "execution_count": null,
   "metadata": {},
   "outputs": [],
   "source": [
    "optimize!(m)"
   ]
  },
  {
   "cell_type": "code",
   "execution_count": null,
   "metadata": {},
   "outputs": [],
   "source": [
    "objective_value(m)"
   ]
  },
  {
   "cell_type": "code",
   "execution_count": null,
   "metadata": {},
   "outputs": [],
   "source": [
    "sol = [value(x[i]) for i =1:100]"
   ]
  },
  {
   "cell_type": "code",
   "execution_count": null,
   "metadata": {},
   "outputs": [],
   "source": [
    "sin.(sol)"
   ]
  },
  {
   "cell_type": "code",
   "execution_count": null,
   "metadata": {},
   "outputs": [],
   "source": [
    "n = 100\n",
    "\n",
    "m = Model(with_optimizer(Ipopt.Optimizer))\n",
    "\n",
    "@variable(m, x[i=1:n], start=-1.0)\n",
    "@NLexpression(m, myexpr[i=1:n], sin(x[i]))\n",
    "@NLconstraint(m, myconstr[i=1:n], myexpr[i] <= 0.5)\n",
    "@NLobjective(m, Min, sum(x[i]^2-1 for i = 1:n))"
   ]
  },
  {
   "cell_type": "code",
   "execution_count": null,
   "metadata": {},
   "outputs": [],
   "source": [
    "optimize!(m)"
   ]
  },
  {
   "cell_type": "code",
   "execution_count": null,
   "metadata": {},
   "outputs": [],
   "source": [
    "[value(x[i]) for i =1:100]"
   ]
  },
  {
   "cell_type": "code",
   "execution_count": null,
   "metadata": {},
   "outputs": [],
   "source": [
    "objective_value(m)"
   ]
  },
  {
   "cell_type": "markdown",
   "metadata": {},
   "source": [
    "## Interior Points Methods for Linear Programming"
   ]
  },
  {
   "cell_type": "markdown",
   "metadata": {},
   "source": [
    "Consider the program\n",
    "\\begin{align*}\n",
    "\\min_x\\ & c^Tx \\\\\n",
    "\\mbox{s.t. } & Ax = b \\\\\n",
    "& x \\geq 0\n",
    "\\end{align*}"
   ]
  },
  {
   "cell_type": "markdown",
   "metadata": {},
   "source": [
    "The Lagrangian is\n",
    "$$\n",
    "L(x,\\lambda,\\mu) = c^Tx + \\lambda^T(Ax - b) + \\mu^T(-x)\n",
    "$$\n",
    "and the duality bound is given by\n",
    "$$\n",
    "\\min_{x \\in S} \\max_{\\mu \\geq 0, \\lambda} L(x,\\lambda, \\mu)\n",
    "$$\n",
    "The KKT system becomes\n",
    "\\begin{align*}\n",
    "c + A^T\\lambda - \\mu &= 0 \\\\\n",
    "Ax &= b \\\\\n",
    "x &\\geq 0 \\\\\n",
    "\\mu_i x_i &= 0,\\ i = 1,\\ldots,n \\\\\n",
    "\\mu &\\geq 0\n",
    "\\end{align*}\n",
    "Considering $\\mu$ as a surplus vector, the first and fifth conditions can be rewritten as\n",
    "$$\n",
    "c + A^T\\lambda \\geq 0\n",
    "$$"
   ]
  },
  {
   "cell_type": "markdown",
   "metadata": {},
   "source": [
    "At $(x^*, \\lambda^*, \\mu^*)$,\n",
    "$$\n",
    "L(x^*, \\lambda^*, \\mu^*) = c^Tx^* + (\\lambda^*)^T(Ax^*-b)-(\\mu^*)^Tx^* = c^Tx^*\n",
    "$$"
   ]
  },
  {
   "cell_type": "markdown",
   "metadata": {},
   "source": [
    "Moreover, the first KKT condition implies that at the primal-dual solution $(x^*, \\lambda^*, \\mu^*)$, the Lagrangian becomes\n",
    "$$\n",
    "L(x^*, \\lambda^*, \\mu^*) = -b^T\\lambda^*\n",
    "$$\n",
    "as\n",
    "\\begin{align*}\n",
    "L(x^*, \\lambda^*, \\mu^*) = c^Tx^* + (\\lambda^*)^T(Ax^*-b)-(\\mu^*)^Tx^*\n",
    "& = (c^T+(\\lambda^*)^TA-(\\mu^*)^T)x^*-(\\lambda^*)^Tb \\\\\n",
    "& = (x^*)^T(c+A^T\\lambda^*-\\mu^*)-b^T\\lambda^*\n",
    "\\end{align*}"
   ]
  },
  {
   "cell_type": "markdown",
   "metadata": {},
   "source": [
    "Along with the duality bound, this means that we have to solve the problem\n",
    "\\begin{align*}\n",
    "\\max_{\\lambda} \\ & -b^T\\lambda \\\\\n",
    "\\mbox{s.t. } & A^T\\lambda \\geq -c\n",
    "\\end{align*}\n",
    "Setting $y = -\\lambda$, the program can be rewritten as\n",
    "\\begin{align*}\n",
    "\\max_{y}\\ & b^Ty \\\\\n",
    "\\mbox{s.t. } & A^Ty \\leq c\n",
    "\\end{align*}\n",
    "We retrieve the well-known dual problem is linear programming."
   ]
  },
  {
   "cell_type": "markdown",
   "metadata": {},
   "source": [
    "If we apply the logarithmic barrier to the primal linear program, we can rewrite it as\n",
    "$$\n",
    "\\min\\ c^Tx - \\mu \\sum_{i = 1}^n \\ln x_i\n",
    "$$\n",
    "and the barrier Lagrangian is\n",
    "$$\n",
    "L(x,\\lambda) = c^Tx + \\lambda^T(Ax - b) - \\mu \\sum_{i = 1}^n \\ln x_i\n",
    "$$\n",
    "and the KKT conditions are now\n",
    "\\begin{align*}\n",
    "c + A^T\\lambda - \\mu X^{-1}e &= 0 \\\\\n",
    "Ax &= b\n",
    "\\end{align*}\n",
    "Set $s = \\mu X^{-1}e$. We can rewrite the conditions as\n",
    "\\begin{align*}\n",
    "c + A^T\\lambda - s &= 0 \\\\\n",
    "Ax &= b \\\\\n",
    "s &= \\mu X^{-1}e\n",
    "\\end{align*}\n",
    "or\n",
    "\\begin{align*}\n",
    "c + A^T\\lambda - s &= 0 \\\\\n",
    "Ax &= b \\\\\n",
    "s_i x_i &= \\mu\n",
    "\\end{align*}\n",
    "The logarithmic barrier is equivalent to relax the complementarity condition of the KKT system."
   ]
  },
  {
   "cell_type": "markdown",
   "metadata": {},
   "source": [
    "As before, set $y = -\\lambda$. Solving the KKT system is equivalent to look for a solution of the linear system\n",
    "\\begin{align*}\n",
    "A^Ty+s-c &= 0\\\\\n",
    "Ax-b &= 0 \\\\\n",
    "SXe-\\mu e &= 0\n",
    "\\end{align*}\n",
    "The corresponding Newton equation is then\n",
    "$$\n",
    "\\begin{pmatrix}\n",
    "0 & A^T & I \\\\\n",
    "A & 0 & 0 \\\\\n",
    "S & 0 & X\n",
    "\\end{pmatrix}\n",
    "\\begin{pmatrix}\n",
    "\\Delta x \\\\\n",
    "\\Delta y \\\\\n",
    "\\Delta s\n",
    "\\end{pmatrix}\n",
    "=\n",
    "-\n",
    "\\begin{pmatrix}\n",
    "A^Ty+s-c \\\\\n",
    "Ax-b \\\\\n",
    "SXe-\\mu e\n",
    "\\end{pmatrix}\n",
    "$$"
   ]
  },
  {
   "cell_type": "markdown",
   "metadata": {},
   "source": [
    "### Example: the farmer problem\n",
    "\n",
    "Adapted from https://www.sonoma.edu/users/w/wilsonst/Courses/Math_131/lp/Farm.html\n",
    "\n",
    "A farmer has 10 acres to plant in wheat and rye. He has to plant at least 7 acres. However, he has only \\$1200 to spend and each acre of wheat costs \\$200 to plant and each acre of rye costs \\$100 to plant. Moreover, the farmer has to get the planting done in 12 hours and it takes an hour to plant an acre of wheat and 2 hours to plant an acre of rye. If the profit is \\$500 per acre of wheat and \\$300 per acre of rye how many acres of each should be planted to maximize profits?"
   ]
  },
  {
   "cell_type": "code",
   "execution_count": null,
   "metadata": {},
   "outputs": [],
   "source": [
    "c = [-500.0 ; -300.0 ; 0.0 ; 0.0 ; 0.0; 0.0]\n",
    "A = [1.0 1.0 1.0 0.0 0.0 0.0; 1.0 1.0 0.0 -1.0 0.0 0.0; 2.0 1.0 0.0 0.0 1.0 0.0; 1.0 2.0 0.0 0.0 0.0 1.0]\n",
    "b = [10.0; 7.0; 12.0; 12]\n",
    "x = [3.5; 4; 2.5; 0.5; 1; 0.5]\n",
    "m, n = size(A)\n",
    "μ = 10.0\n",
    "y = zeros(4)\n",
    "s = zeros(6)\n",
    "for i = 1:6\n",
    "    s[i] = μ/x[i]\n",
    "end\n",
    "w = [ x ; y; s ]\n",
    "θ = 0.5\n",
    "ρ = 0.9"
   ]
  },
  {
   "cell_type": "code",
   "execution_count": null,
   "metadata": {},
   "outputs": [],
   "source": [
    "#using Gurobi\n",
    "using Clp"
   ]
  },
  {
   "cell_type": "code",
   "execution_count": null,
   "metadata": {},
   "outputs": [],
   "source": [
    "model = Model(with_optimizer(Clp.Optimizer))\n",
    "n = length(x)\n",
    "m = length(b)\n",
    "\n",
    "@variable(model, X[1:n] >= 0)\n",
    "for i = 1:m\n",
    "    @constraint(model, sum(A[i,j]*X[j] for j in 1:n) == b[i])\n",
    "end\n",
    "@objective(model, Min, sum(c[i]*X[i] for i in 1:n))\n",
    "\n",
    "model"
   ]
  },
  {
   "cell_type": "code",
   "execution_count": null,
   "metadata": {},
   "outputs": [],
   "source": [
    "optimize!(model)"
   ]
  },
  {
   "cell_type": "code",
   "execution_count": null,
   "metadata": {},
   "outputs": [],
   "source": [
    "objective_value(model)"
   ]
  },
  {
   "cell_type": "code",
   "execution_count": null,
   "metadata": {},
   "outputs": [],
   "source": [
    "[value(X[i]) for i = 1:n]"
   ]
  },
  {
   "cell_type": "code",
   "execution_count": null,
   "metadata": {},
   "outputs": [],
   "source": [
    "cost(c::Vector,x::Vector) = c'*x"
   ]
  },
  {
   "cell_type": "code",
   "execution_count": null,
   "metadata": {},
   "outputs": [],
   "source": [
    "cost(c,x)"
   ]
  },
  {
   "cell_type": "code",
   "execution_count": null,
   "metadata": {},
   "outputs": [],
   "source": [
    "A*x-b"
   ]
  },
  {
   "cell_type": "code",
   "execution_count": null,
   "metadata": {},
   "outputs": [],
   "source": [
    "s, x, s.*x"
   ]
  },
  {
   "cell_type": "code",
   "execution_count": null,
   "metadata": {},
   "outputs": [],
   "source": [
    "m,n = size(A)\n",
    "B = [ zeros(n,n) A' I ; A zeros(m,m) zeros(m,n) ; diagm(0 => x) zeros(n,m) diagm(0 => s)]"
   ]
  },
  {
   "cell_type": "markdown",
   "metadata": {},
   "source": [
    "This is absolutely inefficient as the matrix is very sparse!"
   ]
  },
  {
   "cell_type": "code",
   "execution_count": null,
   "metadata": {},
   "outputs": [],
   "source": [
    "rhs = [ c-s-A'*y ; b-A*x ; [μ - x[i]*s[i] for i=1:n] ]"
   ]
  },
  {
   "cell_type": "code",
   "execution_count": null,
   "metadata": {},
   "outputs": [],
   "source": [
    "function d(c::Vector, A::Matrix, b::Vector, x::Vector, y::Vector, s::Vector, μ::Float64)\n",
    "    m,n = size(A)\n",
    "    B = [ zeros(n,n) A' I ; A zeros(m,m) zeros(m,n) ; diagm(0 => x) zeros(n,m) diagm(0 => s)]\n",
    "    rhs = [ c-s-A'*y ; b-A*x ; [μ - x[i]*s[i] for i=1:n] ]\n",
    "    Δ = B\\rhs\n",
    "    return Δ\n",
    "end"
   ]
  },
  {
   "cell_type": "code",
   "execution_count": null,
   "metadata": {},
   "outputs": [],
   "source": [
    "diagm(0 => x)"
   ]
  },
  {
   "cell_type": "code",
   "execution_count": null,
   "metadata": {},
   "outputs": [],
   "source": [
    "Δ = d(c,A,b,x,y,s,μ)"
   ]
  },
  {
   "cell_type": "code",
   "execution_count": null,
   "metadata": {},
   "outputs": [],
   "source": [
    "Δx = Δ[1:n]\n",
    "Δy = Δ[n+1:n+m]\n",
    "Δs = Δ[n+m+1:n+m+n]\n",
    "A*(x+Δx)"
   ]
  },
  {
   "cell_type": "code",
   "execution_count": null,
   "metadata": {},
   "outputs": [],
   "source": [
    "x+Δx, cost(c,x+Δx)"
   ]
  },
  {
   "cell_type": "code",
   "execution_count": null,
   "metadata": {},
   "outputs": [],
   "source": [
    "function maxα(x::Vector, s::Vector, Δx::Vector, Δs::Vector)\n",
    "    n = length(c)\n",
    "    α = Inf\n",
    "    for i=1:n\n",
    "        if (Δx[i] < 0)\n",
    "            α = min(α,-x[i]/Δx[i])\n",
    "        end\n",
    "        if (Δs[i] < 0)\n",
    "            α = min(α,-s[i]/Δs[i])\n",
    "        end\n",
    "    end\n",
    "    return α\n",
    "end"
   ]
  },
  {
   "cell_type": "code",
   "execution_count": null,
   "metadata": {},
   "outputs": [],
   "source": [
    "α = maxα(x,s,Δx,Δs)"
   ]
  },
  {
   "cell_type": "code",
   "execution_count": null,
   "metadata": {},
   "outputs": [],
   "source": [
    "x+α*Δx"
   ]
  },
  {
   "cell_type": "code",
   "execution_count": null,
   "metadata": {},
   "outputs": [],
   "source": [
    "cost(c,x+α*Δx)"
   ]
  },
  {
   "cell_type": "code",
   "execution_count": null,
   "metadata": {},
   "outputs": [],
   "source": [
    "s+α*Δs"
   ]
  },
  {
   "cell_type": "code",
   "execution_count": null,
   "metadata": {},
   "outputs": [],
   "source": [
    "α *= θ"
   ]
  },
  {
   "cell_type": "code",
   "execution_count": null,
   "metadata": {},
   "outputs": [],
   "source": [
    "x += α*Δx\n",
    "y += α*Δy\n",
    "s += α*Δs\n",
    "\n",
    "x, y, s"
   ]
  },
  {
   "cell_type": "code",
   "execution_count": null,
   "metadata": {},
   "outputs": [],
   "source": [
    "A*x"
   ]
  },
  {
   "cell_type": "code",
   "execution_count": null,
   "metadata": {},
   "outputs": [],
   "source": [
    "cost(c,x)"
   ]
  },
  {
   "cell_type": "code",
   "execution_count": null,
   "metadata": {},
   "outputs": [],
   "source": [
    "μ *= ρ"
   ]
  },
  {
   "cell_type": "code",
   "execution_count": null,
   "metadata": {},
   "outputs": [],
   "source": [
    "while (μ > 1e-50)\n",
    "    Δ = d(c,A,b,x,y,s,μ)\n",
    "    Δx = Δ[1:n]\n",
    "    Δy = Δ[n+1:n+m]\n",
    "    Δs = Δ[n+m+1:n+m+n]\n",
    "    α = θ*maxα(x,s,Δx,Δs)\n",
    "    x += α*Δx\n",
    "    y += α*Δy\n",
    "    s += α*Δs\n",
    "    μ *= ρ\n",
    "end"
   ]
  },
  {
   "cell_type": "code",
   "execution_count": null,
   "metadata": {},
   "outputs": [],
   "source": [
    "x"
   ]
  },
  {
   "cell_type": "code",
   "execution_count": null,
   "metadata": {},
   "outputs": [],
   "source": []
  }
 ],
 "metadata": {
  "kernelspec": {
   "display_name": "Julia 1.1.1",
   "language": "julia",
   "name": "julia-1.1"
  },
  "language_info": {
   "file_extension": ".jl",
   "mimetype": "application/julia",
   "name": "julia",
   "version": "1.1.1"
  }
 },
 "nbformat": 4,
 "nbformat_minor": 2
}
