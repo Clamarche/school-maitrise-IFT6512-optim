{
 "cells": [
  {
   "cell_type": "markdown",
   "metadata": {},
   "source": [
    "# Méthodes de pénalité et de barrière"
   ]
  },
  {
   "cell_type": "code",
   "execution_count": null,
   "metadata": {
    "scrolled": false
   },
   "outputs": [],
   "source": [
    "using BenchmarkTools\n",
    "using ForwardDiff"
   ]
  },
  {
   "cell_type": "code",
   "execution_count": null,
   "metadata": {
    "scrolled": false
   },
   "outputs": [],
   "source": [
    "include(\"btr.jl\")"
   ]
  },
  {
   "cell_type": "markdown",
   "metadata": {},
   "source": [
    "## Penalty methods"
   ]
  },
  {
   "cell_type": "markdown",
   "metadata": {},
   "source": [
    "## First example"
   ]
  },
  {
   "cell_type": "markdown",
   "metadata": {},
   "source": [
    "$$\n",
    "\\min_x f(x) = x_1^2+x_1\\sin(x_2)+4x_2^2\n",
    "$$"
   ]
  },
  {
   "cell_type": "code",
   "execution_count": null,
   "metadata": {},
   "outputs": [],
   "source": [
    "f(x) = x[1]^2+x[1]*sin(x[2])+4x[2]^2"
   ]
  },
  {
   "cell_type": "code",
   "execution_count": null,
   "metadata": {},
   "outputs": [],
   "source": [
    "using Plots\n",
    "#plotly()\n",
    "gr()\n",
    "\n",
    "default(size=(600,600), fc=:heat)\n",
    "x, y = -1.0:0.05:1.0, -1.0:0.05:1.0\n",
    "z = Surface((x,y)->f([x,y]), x, y)\n",
    "surface(x,y,z, linealpha = 1)"
   ]
  },
  {
   "cell_type": "code",
   "execution_count": null,
   "metadata": {},
   "outputs": [],
   "source": [
    "Plots.contour(x,y,z, linealpha = 0.5, levels=1200)"
   ]
  },
  {
   "cell_type": "code",
   "execution_count": null,
   "metadata": {},
   "outputs": [],
   "source": [
    "g = x -> ForwardDiff.gradient(f, x);\n",
    "H = x -> ForwardDiff.hessian(f, x)\n",
    "\n",
    "function g!(x::Vector, storage::Vector)\n",
    "    s = g(x)\n",
    "    storage[1:length(s)] = s[1:length(s)]\n",
    "end\n",
    "\n",
    "function H!(x::Vector, storage::Matrix)\n",
    "    s = H(x)\n",
    "    n, m = size(s)\n",
    "    storage[1:n,1:m] = s[1:length(s)]\n",
    "end"
   ]
  },
  {
   "cell_type": "code",
   "execution_count": null,
   "metadata": {},
   "outputs": [],
   "source": [
    "state = btr(f, g!, H!, TruncatedCG, [1.0,1.0])"
   ]
  },
  {
   "cell_type": "code",
   "execution_count": null,
   "metadata": {},
   "outputs": [],
   "source": [
    "state.x"
   ]
  },
  {
   "cell_type": "markdown",
   "metadata": {},
   "source": [
    "It is easy to see that $(0,0)$ is indeed a first-order critical point."
   ]
  },
  {
   "cell_type": "code",
   "execution_count": null,
   "metadata": {},
   "outputs": [],
   "source": [
    "g(state.x)"
   ]
  },
  {
   "cell_type": "markdown",
   "metadata": {},
   "source": [
    "Introduce now the constraint\n",
    "$$\n",
    "(x-1)^2+(y-1)^2 = 1\n",
    "$$"
   ]
  },
  {
   "cell_type": "code",
   "execution_count": null,
   "metadata": {},
   "outputs": [],
   "source": [
    "c(x) = (x[1]-1.0)^2+(x[2]-1.0)^2-1.0\n",
    "gc = x -> ForwardDiff.gradient(c, x);\n",
    "Hc = x -> ForwardDiff.hessian(c, x)\n",
    "\n",
    "function gc!(x::Vector, storage::Vector)\n",
    "    s = gc(x)\n",
    "    storage[1:length(s)] = s[1:length(s)]\n",
    "end\n",
    "\n",
    "function Hc!(x::Vector, storage::Matrix)\n",
    "    s = Hc(x)\n",
    "    n, m = size(s)\n",
    "    storage[1:n,1:m] = s[1:length(s)]\n",
    "end"
   ]
  },
  {
   "cell_type": "code",
   "execution_count": null,
   "metadata": {},
   "outputs": [],
   "source": [
    "μ = 1.0\n",
    "Φ(x) = f(x)+1/(2*μ)*(c(x)*c(x))"
   ]
  },
  {
   "cell_type": "code",
   "execution_count": null,
   "metadata": {},
   "outputs": [],
   "source": [
    "gΦ = x -> ForwardDiff.gradient(Φ, x);\n",
    "HΦ = x -> ForwardDiff.hessian(Φ, x)\n",
    "\n",
    "function gΦ!(x::Vector, storage::Vector)\n",
    "    s = gΦ(x)\n",
    "    storage[1:length(s)] = s[1:length(s)]\n",
    "end\n",
    "\n",
    "function HΦ!(x::Vector, storage::Matrix)\n",
    "    s = HΦ(x)\n",
    "    n, m = size(s)\n",
    "    storage[1:n,1:m] = s[1:length(s)]\n",
    "end"
   ]
  },
  {
   "cell_type": "code",
   "execution_count": null,
   "metadata": {},
   "outputs": [],
   "source": [
    "state = btr(Φ, gΦ!, HΦ!, TruncatedCG, [0.0,0.0])"
   ]
  },
  {
   "cell_type": "code",
   "execution_count": null,
   "metadata": {},
   "outputs": [],
   "source": [
    "state.x"
   ]
  },
  {
   "cell_type": "code",
   "execution_count": null,
   "metadata": {},
   "outputs": [],
   "source": [
    "f(state.x)"
   ]
  },
  {
   "cell_type": "code",
   "execution_count": null,
   "metadata": {},
   "outputs": [],
   "source": [
    "c(state.x)"
   ]
  },
  {
   "cell_type": "code",
   "execution_count": null,
   "metadata": {},
   "outputs": [],
   "source": [
    "Φ(state.x)"
   ]
  },
  {
   "cell_type": "code",
   "execution_count": null,
   "metadata": {},
   "outputs": [],
   "source": [
    "μ = 0.1\n",
    "state = btr(Φ, gΦ!, HΦ!, TruncatedCG, [0.0,0.0])"
   ]
  },
  {
   "cell_type": "code",
   "execution_count": null,
   "metadata": {},
   "outputs": [],
   "source": [
    "state.x"
   ]
  },
  {
   "cell_type": "code",
   "execution_count": null,
   "metadata": {},
   "outputs": [],
   "source": [
    "f(state.x)"
   ]
  },
  {
   "cell_type": "code",
   "execution_count": null,
   "metadata": {},
   "outputs": [],
   "source": [
    "c(state.x)"
   ]
  },
  {
   "cell_type": "code",
   "execution_count": null,
   "metadata": {},
   "outputs": [],
   "source": [
    "μ = 0.01\n",
    "state = btr(Φ, gΦ!, HΦ!, TruncatedCG, [0.0,0.0])"
   ]
  },
  {
   "cell_type": "code",
   "execution_count": null,
   "metadata": {},
   "outputs": [],
   "source": [
    "c(state.x)"
   ]
  },
  {
   "cell_type": "code",
   "execution_count": null,
   "metadata": {},
   "outputs": [],
   "source": [
    "μ = 0.00001\n",
    "state = btr(Φ, gΦ!, HΦ!, TruncatedCG, [0.0,0.0])"
   ]
  },
  {
   "cell_type": "code",
   "execution_count": null,
   "metadata": {},
   "outputs": [],
   "source": [
    "c(state.x)"
   ]
  },
  {
   "cell_type": "code",
   "execution_count": null,
   "metadata": {},
   "outputs": [],
   "source": [
    "μ = 0.00001\n",
    "state = btr(Φ, gΦ!, HΦ!, TruncatedCG, [0.0,1.0])"
   ]
  },
  {
   "cell_type": "code",
   "execution_count": null,
   "metadata": {},
   "outputs": [],
   "source": [
    "f(state.x)"
   ]
  },
  {
   "cell_type": "code",
   "execution_count": null,
   "metadata": {},
   "outputs": [],
   "source": [
    "state.x"
   ]
  },
  {
   "cell_type": "code",
   "execution_count": null,
   "metadata": {},
   "outputs": [],
   "source": [
    "μ = 1\n",
    "α = 0.1\n",
    "x0 = [0.0,1.0]\n",
    "state = btr(Φ, gΦ!, HΦ!, TruncatedCG, x0)\n",
    "println(state.x)\n",
    "while (μ > 1e-6)\n",
    "    x0 = state.x\n",
    "    state = btr(Φ, gΦ!, HΦ!, TruncatedCG, x0)\n",
    "    println(state.x)\n",
    "    μ *= α\n",
    "end"
   ]
  },
  {
   "cell_type": "code",
   "execution_count": null,
   "metadata": {},
   "outputs": [],
   "source": [
    "state.x"
   ]
  },
  {
   "cell_type": "markdown",
   "metadata": {},
   "source": [
    "## Second example"
   ]
  },
  {
   "cell_type": "markdown",
   "metadata": {},
   "source": [
    "\\begin{align*}\n",
    "\\min_x \\ & -5x_1^2 + x_2^2 \\\\\n",
    "\\mbox{s.t. } & x_1 = 1\n",
    "\\end{align*}"
   ]
  },
  {
   "cell_type": "markdown",
   "metadata": {},
   "source": [
    "$$\n",
    "\\Phi(x,\\mu) = -5x_1^2 + x_2^2+\\frac{1}{2\\mu} (x_1-1)^2\n",
    "$$"
   ]
  },
  {
   "cell_type": "markdown",
   "metadata": {},
   "source": [
    "$$\n",
    "\\nabla_x \\Phi(x,\\mu) = \\begin{pmatrix} -10x_1 +\\frac{1}{\\mu} (x_1-1) \\\\ 2x_2 \\end{pmatrix}\n",
    "$$"
   ]
  },
  {
   "cell_type": "markdown",
   "metadata": {},
   "source": [
    "$$\n",
    "\\nabla_x \\Phi(x,\\mu) = 0\n",
    "$$\n",
    "iff\n",
    "$$\n",
    "\\begin{cases}\n",
    "-10x_1 +\\frac{1}{\\mu} (x_1-1) = 0 \\\\\n",
    "x_2 = 0\n",
    "\\end{cases}\n",
    "$$\n",
    "$$\n",
    "(-10\\mu + 1) x_1 = 1\n",
    "$$\n",
    "This is equivalent to\n",
    "$$\n",
    "x_1 = \\frac{1}{1-10\\mu}\n",
    "$$\n",
    "if $10\\mu \\ne 1$.\n",
    "If $10\\mu = 1$, then\n",
    "$$\n",
    "-10x_1 + 10(x_1-1) = -10 \\ne 0\n",
    "$$\n"
   ]
  },
  {
   "cell_type": "markdown",
   "metadata": {},
   "source": [
    "$$\n",
    "\\nabla_{xx}^2 \\Phi(x,\\mu) = \\begin{pmatrix} -10+\\frac{1}{\\mu} & 0 \\\\ 0 & 2 \\end{pmatrix}\n",
    "$$"
   ]
  },
  {
   "cell_type": "markdown",
   "metadata": {},
   "source": [
    "If $\\mu < 0.1$, then $-10+1/\\mu > 0$. Then $\\nabla^2 \\Phi(x, \\mu)$ is positive definite. Thus the zero of the gradient is a minimizer.\n",
    "\n",
    "If $\\mu > 0.1$, then $-10+1/\\mu < 0$. Then $\\nabla^2 \\Phi(x, \\mu)$ is indefinite. Thus the zero of the gradient is a saddle point.\n",
    "\n",
    "If $\\mu = 0.1$, then there is no zero of the gradient."
   ]
  },
  {
   "cell_type": "code",
   "execution_count": null,
   "metadata": {},
   "outputs": [],
   "source": [
    "μ = 1.0\n",
    "H = [ -10+1/μ 0 ; 0 2 ]\n",
    "eigen(H)"
   ]
  },
  {
   "cell_type": "code",
   "execution_count": null,
   "metadata": {},
   "outputs": [],
   "source": [
    "μ = 1.0e-10\n",
    "H = [ -10+1/μ 0 ; 0 2 ]\n",
    "eigen(H)"
   ]
  },
  {
   "cell_type": "code",
   "execution_count": null,
   "metadata": {},
   "outputs": [],
   "source": [
    "cond(H)"
   ]
  },
  {
   "cell_type": "markdown",
   "metadata": {},
   "source": [
    "# Barrier methods"
   ]
  },
  {
   "cell_type": "markdown",
   "metadata": {},
   "source": [
    "\\begin{align*}\n",
    "\\min_x \\ & -x+1 \\\\\n",
    "\\mbox{s.t. } & x \\leq 1\n",
    "\\end{align*}"
   ]
  },
  {
   "cell_type": "markdown",
   "metadata": {},
   "source": [
    "$$\n",
    "L(x,\\lambda) = -x+1+\\lambda(x-1)\n",
    "$$\n",
    "KKT\n",
    "\\begin{align*}\n",
    "-1+\\lambda & = 0 \\\\\n",
    "x-1 & \\leq 0 \\\\\n",
    "\\lambda (x-1) & = 0\\\\\n",
    "\\lambda & \\geq 0\n",
    "\\end{align*}\n",
    "We obtain $(x^*, \\lambda^*) = (1,1)$."
   ]
  },
  {
   "cell_type": "code",
   "execution_count": null,
   "metadata": {},
   "outputs": [],
   "source": [
    "fb(x) = -x[1]+1\n",
    "gi(x) = x[1]-1\n",
    "B(x) = fb(x[1]) - μ*log(1-x[1])"
   ]
  },
  {
   "cell_type": "markdown",
   "metadata": {},
   "source": [
    "$$\n",
    "0 = \\nabla B(x) = \\nabla f(x) - \\mu \\frac{-\\nabla g(x)}{-g(x)} = \\nabla f(x) - \\mu \\frac{\\nabla g(x)}{g(x)} \n",
    "$$"
   ]
  },
  {
   "cell_type": "markdown",
   "metadata": {},
   "source": [
    "$$\n",
    "-1-\\mu/(x-1) = 0\n",
    "$$\n",
    "$$\n",
    "x-1 = -\\mu\n",
    "$$\n",
    "$$\n",
    "x = 1-\\mu\n",
    "$$\n",
    "$$\n",
    "\\lambda_{\\mu} = -\\frac{\\mu}{x(\\mu)-1} = -\\frac{\\mu}{1-\\mu-1} = 1\n",
    "$$"
   ]
  },
  {
   "cell_type": "code",
   "execution_count": null,
   "metadata": {},
   "outputs": [],
   "source": [
    "gB = x -> ForwardDiff.gradient(B, x);\n",
    "HB = x -> ForwardDiff.hessian(B, x)\n",
    "\n",
    "function gB!(x::Vector, storage::Vector)\n",
    "    s = gB(x)\n",
    "    storage[1:length(s)] = s[1:length(s)]\n",
    "end\n",
    "\n",
    "function HB!(x::Vector, storage::Matrix)\n",
    "    s = HB(x)\n",
    "    n, m = size(s)\n",
    "    storage[1:n,1:m] = s[1:length(s)]\n",
    "end"
   ]
  },
  {
   "cell_type": "code",
   "execution_count": null,
   "metadata": {},
   "outputs": [],
   "source": [
    "μ = 1.0\n",
    "gB([0.0])"
   ]
  },
  {
   "cell_type": "code",
   "execution_count": null,
   "metadata": {},
   "outputs": [],
   "source": [
    "btr(B, gB!, HB!, TruncatedCG, [0.0])"
   ]
  },
  {
   "cell_type": "code",
   "execution_count": null,
   "metadata": {},
   "outputs": [],
   "source": [
    "μ = 0.1\n",
    "btr(B, gB!, HB!, TruncatedCG, [0.0])"
   ]
  },
  {
   "cell_type": "markdown",
   "metadata": {
    "collapsed": true
   },
   "source": [
    "We have to restrict the step! A simple way is to reduce the trust-region radius if a domain problem is found. We can do it using the exception process in Julia."
   ]
  },
  {
   "cell_type": "code",
   "execution_count": null,
   "metadata": {},
   "outputs": [],
   "source": [
    "f(x) = try\n",
    "   log(x)\n",
    "catch\n",
    "   +Inf\n",
    "end"
   ]
  },
  {
   "cell_type": "code",
   "execution_count": null,
   "metadata": {},
   "outputs": [],
   "source": [
    "f(10)"
   ]
  },
  {
   "cell_type": "code",
   "execution_count": null,
   "metadata": {},
   "outputs": [],
   "source": [
    "f(-10)"
   ]
  },
  {
   "cell_type": "code",
   "execution_count": null,
   "metadata": {},
   "outputs": [],
   "source": [
    "function Bexception(x)\n",
    "    try\n",
    "        val = fb(x[1]) - μ*log(1-x[1])\n",
    "        return val\n",
    "    catch\n",
    "        return +Inf\n",
    "    end\n",
    "end"
   ]
  },
  {
   "cell_type": "code",
   "execution_count": null,
   "metadata": {},
   "outputs": [],
   "source": [
    "state = btr(Bexception, gB!, HB!, TruncatedCG, [0.0])"
   ]
  },
  {
   "cell_type": "code",
   "execution_count": null,
   "metadata": {},
   "outputs": [],
   "source": [
    "state.x"
   ]
  },
  {
   "cell_type": "code",
   "execution_count": null,
   "metadata": {},
   "outputs": [],
   "source": [
    "μ = 0.1\n",
    "x = [0.0]\n",
    "while (μ > 1e-10)\n",
    "    state = btr(Bexception, gB!, HB!, TruncatedCG, x)\n",
    "    x = state.x\n",
    "    λ = -μ/gi(x)\n",
    "    println(\"x = \", x, \", λ = \", λ)\n",
    "    μ = 0.1*μ\n",
    "end"
   ]
  },
  {
   "cell_type": "code",
   "execution_count": null,
   "metadata": {},
   "outputs": [],
   "source": []
  }
 ],
 "metadata": {
  "kernelspec": {
   "display_name": "Julia 1.1.1",
   "language": "julia",
   "name": "julia-1.1"
  },
  "language_info": {
   "file_extension": ".jl",
   "mimetype": "application/julia",
   "name": "julia",
   "version": "1.1.1"
  }
 },
 "nbformat": 4,
 "nbformat_minor": 2
}
