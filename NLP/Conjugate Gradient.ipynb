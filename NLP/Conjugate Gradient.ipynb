{
 "cells": [
  {
   "cell_type": "markdown",
   "metadata": {},
   "source": [
    "# Algorithme du gradient conjugué"
   ]
  },
  {
   "cell_type": "code",
   "execution_count": 1,
   "metadata": {},
   "outputs": [],
   "source": [
    "using LinearAlgebra\n",
    "using Optim"
   ]
  },
  {
   "cell_type": "markdown",
   "metadata": {},
   "source": [
    "Résolvez\n",
    "$$\n",
    "\\min_x f(x) = \\frac{1}{2} x^T A x + b^T x + a\n",
    "$$\n",
    "où $A \\succ 0$. En posant $\\nabla f(x) = 0$, c'est équivalent à résoudre le système linéaire $Ax = -b$."
   ]
  },
  {
   "cell_type": "markdown",
   "metadata": {},
   "source": [
    "Construisons la fonction quadratique associée au programme précédent."
   ]
  },
  {
   "cell_type": "code",
   "execution_count": 2,
   "metadata": {},
   "outputs": [
    {
     "data": {
      "text/plain": [
       "#1 (generic function with 1 method)"
      ]
     },
     "execution_count": 2,
     "metadata": {},
     "output_type": "execute_result"
    }
   ],
   "source": [
    "f = x -> 0.5*dot(x,A*x)+dot(b,x)"
   ]
  },
  {
   "cell_type": "markdown",
   "metadata": {},
   "source": [
    "## Un exemple simple\n",
    "\n",
    "Adapté de https://www.rose-hulman.edu/~bryan/lottamath/congrad.pdf\n",
    "\n",
    "Soit\n",
    "$$\n",
    "A =\n",
    "\\begin{pmatrix}\n",
    "3 & 1 & 0 \\\\\n",
    "1 & 2 & 2 \\\\\n",
    "0 & 2 & 4\n",
    "\\end{pmatrix}\n",
    "$$\n",
    "Considérons la fonction à minimiser\n",
    "$$\n",
    "f(x) = \\frac{1}{2} x^TAx,\n",
    "$$\n",
    "et supposons que nous avons déjà calculer\n",
    "\\begin{align*}\n",
    "d_0 &= (1, 0, 0)\\\\\n",
    "d_1 & = (1, −3, 0)\\\\\n",
    "d_2 &= (−2, 6, −5).\n",
    "\\end{align*}"
   ]
  },
  {
   "cell_type": "markdown",
   "metadata": {},
   "source": [
    "Vérifions que $d_0$, $d_1$ et $d_2$ sont $A$-conjugés."
   ]
  },
  {
   "cell_type": "code",
   "execution_count": 3,
   "metadata": {},
   "outputs": [
    {
     "name": "stdout",
     "output_type": "stream",
     "text": [
      "0.0 0.0 0.0\n"
     ]
    }
   ],
   "source": [
    "A = [ 3.0 1 0 ; 1 2 2 ; 0 2 4]\n",
    "d0 = [ 1.0 0 0 ]'\n",
    "d1 = [ 1.0 -3.0 0.0 ]'\n",
    "d2 = [ -2.0 6.0 -5.0]'\n",
    "\n",
    "println(\"$(dot(d0, A*d1)) $(dot(d0, A*d2)) $(dot(d1, A*d2))\")"
   ]
  },
  {
   "cell_type": "code",
   "execution_count": 4,
   "metadata": {},
   "outputs": [
    {
     "data": {
      "text/plain": [
       "Eigen{Float64,Float64,Array{Float64,2},Array{Float64,1}}\n",
       "values:\n",
       "3-element Array{Float64,1}:\n",
       " 0.47108204270564347\n",
       " 3.167449191108536\n",
       " 5.361468766185826\n",
       "vectors:\n",
       "3×3 Array{Float64,2}:\n",
       " -0.325306   0.916757  0.231804\n",
       "  0.822673   0.15351   0.547398\n",
       " -0.466246  -0.368771  0.804128"
      ]
     },
     "execution_count": 4,
     "metadata": {},
     "output_type": "execute_result"
    }
   ],
   "source": [
    "eigen(A)"
   ]
  },
  {
   "cell_type": "markdown",
   "metadata": {},
   "source": [
    "Prenons comme solution initiale $x_0 = (1, 2, 3)$. Calculons $x_1$, $x_2$ et $x_3$ en utilisant l'algorithme du gradient conjugué. $x_3$ est-il optimal?"
   ]
  },
  {
   "cell_type": "markdown",
   "metadata": {
    "collapsed": true
   },
   "source": [
    "$$\n",
    "\\nabla f(x) = Ax\n",
    "$$"
   ]
  },
  {
   "cell_type": "code",
   "execution_count": 5,
   "metadata": {},
   "outputs": [
    {
     "data": {
      "text/plain": [
       "3-element Array{Float64,1}:\n",
       "  -5.0\n",
       " -11.0\n",
       " -16.0"
      ]
     },
     "execution_count": 5,
     "metadata": {},
     "output_type": "execute_result"
    }
   ],
   "source": [
    "x0 = [1; 2; 3.0]\n",
    "-A*x0"
   ]
  },
  {
   "cell_type": "code",
   "execution_count": 6,
   "metadata": {},
   "outputs": [
    {
     "data": {
      "text/plain": [
       "#3 (generic function with 1 method)"
      ]
     },
     "execution_count": 6,
     "metadata": {},
     "output_type": "execute_result"
    }
   ],
   "source": [
    "f = x -> dot(x,A*x)"
   ]
  },
  {
   "cell_type": "markdown",
   "metadata": {},
   "source": [
    "Nous devons calculer $\\alpha_k$, $k = 0,1,2$, en résolvant\n",
    "$$\n",
    "\\min_{\\alpha} f(x_k + \\alpha d_k)\n",
    "$$"
   ]
  },
  {
   "cell_type": "markdown",
   "metadata": {},
   "source": [
    "Afin d'obtenir $\\alpha_0$, nous devons minimiser\n",
    "\\begin{align*}\n",
    "f(x_0 + \\alpha d_0) &= \\frac{1}{2}\n",
    "\\left(\\begin{pmatrix} 1 & 2 & 3\\end{pmatrix} + \\alpha \\begin{pmatrix} 1 & 0 & 0\\end{pmatrix} \\right)\n",
    "\\begin{pmatrix}\n",
    "3 & 1 & 0 \\\\\n",
    "1 & 2 & 2 \\\\\n",
    "0 & 2 & 4\n",
    "\\end{pmatrix}\n",
    "\\left(\\begin{pmatrix} 1 \\\\ 2 \\\\ 3 \\end{pmatrix} + \\alpha \\begin{pmatrix} 1 \\\\0 \\\\0 \\end{pmatrix} \\right)\n",
    "\\\\\n",
    "& = \\frac{1}{2}\\begin{pmatrix} 1 + \\alpha & 2 & 3 \\end{pmatrix}\n",
    "\\begin{pmatrix}\n",
    "3 & 1 & 0 \\\\\n",
    "1 & 2 & 2 \\\\\n",
    "0 & 2 & 4\n",
    "\\end{pmatrix}\n",
    "\\begin{pmatrix} 1 + \\alpha \\\\ 2 \\\\ 3 \\end{pmatrix}\\\\\n",
    "& = \\frac{1}{2}\\begin{pmatrix} 1 + \\alpha & 2 & 3 \\end{pmatrix}\n",
    "\\begin{pmatrix} 5+3\\alpha \\\\ 11+\\alpha \\\\ 16 \\end{pmatrix}\\\\\n",
    "& = \\frac{1}{2}\n",
    "((1 + \\alpha)(5+3\\alpha) + 22+2\\alpha + 48 ) \\\\\n",
    "& = \\frac{1}{2}\n",
    "( 3\\alpha^2 + 8\\alpha + 5 + 70 + 2\\alpha ) \\\\\n",
    "& = \\frac{3}{2}\\alpha^2 + 5\\alpha+\\frac{75}{2}\n",
    "\\end{align*}\n",
    "par rapport à $\\alpha$."
   ]
  },
  {
   "cell_type": "markdown",
   "metadata": {},
   "source": [
    "Nous pouvons l'obtenir en cherchant le zéro de la dérivée par rapport à $\\alpha$, c'est-à-dire\n",
    "$$\n",
    "\\frac{d}{d\\alpha} f(x+\\alpha d) = 0,\n",
    "$$\n",
    "ou"
   ]
  },
  {
   "cell_type": "markdown",
   "metadata": {},
   "source": [
    "$$\n",
    "d^T \\nabla f(x+\\alpha d) = 0\n",
    "$$"
   ]
  },
  {
   "cell_type": "markdown",
   "metadata": {},
   "source": [
    "Dès lors, nous devons avoir"
   ]
  },
  {
   "cell_type": "markdown",
   "metadata": {},
   "source": [
    "$$\n",
    "3\\alpha + 5 = 0\n",
    "$$\n",
    "Ainsi,\n",
    "$$\n",
    "\\alpha_{0} = -\\frac{5}{3}\n",
    "$$\n",
    "$$\n",
    "x_1 = x_0 - \\frac{5}{3} d_0 = \\begin{pmatrix} -\\frac{2}{3} \\\\ 2 \\\\ 3  \\end{pmatrix}\n",
    "$$"
   ]
  },
  {
   "cell_type": "markdown",
   "metadata": {},
   "source": [
    "Nous pouvons aussi directement calculer $\\alpha_0$ comme\n",
    "$$\n",
    "\\alpha_0 = - \\frac{d_0^T\\nabla f(x_0)}{d_0^TAd_0}\n",
    "$$"
   ]
  },
  {
   "cell_type": "code",
   "execution_count": 7,
   "metadata": {},
   "outputs": [
    {
     "data": {
      "text/plain": [
       "#5 (generic function with 1 method)"
      ]
     },
     "execution_count": 7,
     "metadata": {},
     "output_type": "execute_result"
    }
   ],
   "source": [
    "x0 = [1 ; 2 ; 3.0]\n",
    "∇f = x -> A*x"
   ]
  },
  {
   "cell_type": "code",
   "execution_count": 8,
   "metadata": {},
   "outputs": [
    {
     "data": {
      "text/plain": [
       "-1.6666666666666667"
      ]
     },
     "execution_count": 8,
     "metadata": {},
     "output_type": "execute_result"
    }
   ],
   "source": [
    "d0 = [1 ; 0 ; 0]\n",
    "α0 = -dot(d0,∇f(x0))/dot(d0,A*d0)"
   ]
  },
  {
   "cell_type": "code",
   "execution_count": 9,
   "metadata": {},
   "outputs": [
    {
     "data": {
      "text/plain": [
       "3-element Array{Float64,1}:\n",
       " -0.6666666666666667\n",
       "  2.0\n",
       "  3.0"
      ]
     },
     "execution_count": 9,
     "metadata": {},
     "output_type": "execute_result"
    }
   ],
   "source": [
    "x1 = x0+α0*d0"
   ]
  },
  {
   "cell_type": "markdown",
   "metadata": {},
   "source": [
    "Une recherche linéaire à partir de $x_1$ dans la direction $d_1$ exige de minimiser\n",
    "\\begin{align*}\n",
    "f(x_1 + \\alpha d_1) & = \\left(\\begin{pmatrix} -\\frac{2}{3} & 2 & 3 \\end{pmatrix} + \\alpha_1\\begin{pmatrix} 1 & -3 & 0 \\end{pmatrix} \\right)\\begin{pmatrix} 3 & 1 & 0 \\\\\n",
    "1 & 2 & 2 \\\\\n",
    "0 & 2 & 4 \\end{pmatrix}\\left(\\begin{pmatrix}  -\\frac{2}{3} \\\\ 2 \\\\ 3 \\end{pmatrix} +  \\alpha_1\\begin{pmatrix} 1 \\\\ -3 \\\\ 0 \\end{pmatrix} \\right) \\\\\n",
    "& =\\frac{15}{2}\\alpha^2 - 28\\alpha + \\frac{100}{3},\n",
    "\\end{align*}\n",
    "ce qui a lieu en\n",
    "$$\n",
    "\\alpha_1 = \\frac{28}{15},\n",
    "$$\n",
    "donnant\n",
    "$$\n",
    "x_2 = x_1 + \\frac{28}{15}d_1 =\n",
    "    \\begin{pmatrix}\n",
    "     \\frac{6}{5} \\\\ \\frac{-18}{5} \\\\ 3\n",
    "    \\end{pmatrix}.\n",
    "$$"
   ]
  },
  {
   "cell_type": "code",
   "execution_count": 11,
   "metadata": {},
   "outputs": [
    {
     "data": {
      "text/plain": [
       "(3.6666666666666665, 4.8373546489791295)"
      ]
     },
     "execution_count": 11,
     "metadata": {},
     "output_type": "execute_result"
    }
   ],
   "source": [
    "norm([-2/3; 2 ;3]), norm([6/5; -18/5 ; 3])"
   ]
  },
  {
   "cell_type": "code",
   "execution_count": 12,
   "metadata": {},
   "outputs": [
    {
     "data": {
      "text/plain": [
       "1.8666666666666665"
      ]
     },
     "execution_count": 12,
     "metadata": {},
     "output_type": "execute_result"
    }
   ],
   "source": [
    "α1 = -dot(d1,A*x1)/dot(d1,A*d1)"
   ]
  },
  {
   "cell_type": "code",
   "execution_count": 13,
   "metadata": {},
   "outputs": [
    {
     "data": {
      "text/plain": [
       "1.8666666666666667"
      ]
     },
     "execution_count": 13,
     "metadata": {},
     "output_type": "execute_result"
    }
   ],
   "source": [
    "28/15"
   ]
  },
  {
   "cell_type": "code",
   "execution_count": 14,
   "metadata": {},
   "outputs": [
    {
     "data": {
      "text/plain": [
       "3×1 Array{Float64,2}:\n",
       "  1.1999999999999997\n",
       " -3.5999999999999996\n",
       "  3.0"
      ]
     },
     "execution_count": 14,
     "metadata": {},
     "output_type": "execute_result"
    }
   ],
   "source": [
    "x2 = x1+α1*d1"
   ]
  },
  {
   "cell_type": "code",
   "execution_count": 15,
   "metadata": {},
   "outputs": [
    {
     "data": {
      "text/plain": [
       "(3.6666666666666665, 4.8373546489791295)"
      ]
     },
     "execution_count": 15,
     "metadata": {},
     "output_type": "execute_result"
    }
   ],
   "source": [
    "norm(x1), norm(x2)"
   ]
  },
  {
   "cell_type": "markdown",
   "metadata": {},
   "source": [
    "La recherche linéaire finale à partir de $x_2$ dans la direction $d_2$ requiert de minimiser\n",
    "$$\n",
    "f(x_2 + \\alpha d_2) = 20 \\alpha^2 - 24\\alpha + \\frac{36}{5},\n",
    "$$\n",
    "ce qui a lieu en\n",
    "$$\n",
    "\\alpha_2 = \\frac{3}{5},\n",
    "$$\n",
    "donnant\n",
    "$$\n",
    "x_3 = x_2 + \\frac{3}{5}d_2 =\n",
    "    \\begin{pmatrix}\n",
    "     0 \\\\ 0 \\\\ 0\n",
    "    \\end{pmatrix},\n",
    "$$\n",
    "ce qui est bien entendu correct."
   ]
  },
  {
   "cell_type": "markdown",
   "metadata": {},
   "source": [
    "Similairement, nous pouvons calculer le nouveau point comme"
   ]
  },
  {
   "cell_type": "code",
   "execution_count": 16,
   "metadata": {},
   "outputs": [
    {
     "data": {
      "text/plain": [
       "3×1 Array{Float64,2}:\n",
       " -4.440892098500626e-16\n",
       "  8.881784197001252e-16\n",
       " -4.440892098500626e-16"
      ]
     },
     "execution_count": 16,
     "metadata": {},
     "output_type": "execute_result"
    }
   ],
   "source": [
    "α2 = -dot(d2,A*x2)/dot(d2,A*d2)\n",
    "x3 = x2+α2*d2"
   ]
  },
  {
   "cell_type": "markdown",
   "metadata": {},
   "source": [
    "## Une implémentation naïve\n",
    "\n",
    "Une première version de l'algorithme du gradient conjugué suit."
   ]
  },
  {
   "cell_type": "code",
   "execution_count": 17,
   "metadata": {},
   "outputs": [
    {
     "data": {
      "text/plain": [
       "cg_quadratic (generic function with 2 methods)"
      ]
     },
     "execution_count": 17,
     "metadata": {},
     "output_type": "execute_result"
    }
   ],
   "source": [
    "function cg_quadratic(A:: Matrix, b:: Vector, x0:: Vector, trace:: Bool = false)\n",
    "    n = length(x0)\n",
    "    x = x0\n",
    "    g = b+A*x\n",
    "    d = -g\n",
    "    if (trace)\n",
    "        iter = [ x ]\n",
    "        iterg = [ norm(g) ]\n",
    "        iterd = [ norm(d) ]\n",
    "    end\n",
    "    k = 0\n",
    "    \n",
    "    for k = 1:n-1\n",
    "        Ad = A*d\n",
    "        normd = dot(d,Ad)\n",
    "        α = -dot(d,g)/normd\n",
    "        x += α*d\n",
    "        if (trace)\n",
    "            iter = [ iter; [x] ]\n",
    "            iterg = [ iterg; norm(g)]\n",
    "            iterd = [ iterd; norm(d) ]\n",
    "        end\n",
    "        g = b+A*x\n",
    "        β = dot(g,Ad)/normd\n",
    "        d = -g+β*d\n",
    "    end\n",
    "\n",
    "    normd = dot(d,A*d)\n",
    "    α = -dot(d,g)/normd\n",
    "    x += α*d\n",
    "    if (trace)\n",
    "        g = b+A*x # g must be equal to 0\n",
    "        iter = [ iter; [x] ]\n",
    "        iterg = [ iterg; norm(g)]\n",
    "        iterd = [ iterd; norm(d) ]\n",
    "        return x, iter, iterg, iterd\n",
    "    end\n",
    "    \n",
    "    return x\n",
    "end"
   ]
  },
  {
   "cell_type": "markdown",
   "metadata": {},
   "source": [
    "Considérons l'exemple simple"
   ]
  },
  {
   "cell_type": "code",
   "execution_count": 18,
   "metadata": {},
   "outputs": [
    {
     "data": {
      "text/plain": [
       "2-element Array{Float64,1}:\n",
       " -0.6666666666666666\n",
       "  0.3333333333333333"
      ]
     },
     "execution_count": 18,
     "metadata": {},
     "output_type": "execute_result"
    }
   ],
   "source": [
    "A = [2 1; 1 2]\n",
    "b = [1, 0]\n",
    "A\\(-b)"
   ]
  },
  {
   "cell_type": "markdown",
   "metadata": {},
   "source": [
    "Nous voulons résoudre\n",
    "$$\n",
    "    \\min_{\\alpha} f(x) = \\frac{1}{2}x^TAx+b^Tx+c\n",
    "$$"
   ]
  },
  {
   "cell_type": "markdown",
   "metadata": {},
   "source": [
    "Ou, de manière équivalente, nous résolvons\n",
    "$$\n",
    "    c+\\min_{\\alpha} f(x) = \\frac{1}{2}x^TAx+b^Tx\n",
    "$$"
   ]
  },
  {
   "cell_type": "code",
   "execution_count": 19,
   "metadata": {},
   "outputs": [
    {
     "data": {
      "text/plain": [
       "([-0.6666666666666666, 0.3333333333333333], [[0.0, 0.0], [-0.5, 0.0], [-0.6666666666666666, 0.3333333333333333]], [1.0, 1.0, 0.0], [1.0, 1.0, 0.5590169943749475])"
      ]
     },
     "execution_count": 19,
     "metadata": {},
     "output_type": "execute_result"
    }
   ],
   "source": [
    "cg_quadratic(A, b, [0, 0], true)"
   ]
  },
  {
   "cell_type": "markdown",
   "metadata": {},
   "source": [
    "Que se passe-t-il si $A$ n'est pas définie positive?"
   ]
  },
  {
   "cell_type": "code",
   "execution_count": 20,
   "metadata": {},
   "outputs": [
    {
     "data": {
      "text/plain": [
       "2-element Array{Float64,1}:\n",
       "  0.3333333333333333\n",
       " -0.6666666666666666"
      ]
     },
     "execution_count": 20,
     "metadata": {},
     "output_type": "execute_result"
    }
   ],
   "source": [
    "A = [ 1 2 ; 2 1]\n",
    "A\\(-b)"
   ]
  },
  {
   "cell_type": "code",
   "execution_count": 21,
   "metadata": {},
   "outputs": [
    {
     "data": {
      "text/plain": [
       "([0.33333333333333326, -0.6666666666666666], [[0.0, 0.0], [-1.0, 0.0], [0.33333333333333326, -0.6666666666666666]], [1.0, 1.0, 1.1102230246251565e-16], [1.0, 1.0, 4.47213595499958])"
      ]
     },
     "execution_count": 21,
     "metadata": {},
     "output_type": "execute_result"
    }
   ],
   "source": [
    "cg_quadratic(A, b, [0, 0], true)"
   ]
  },
  {
   "cell_type": "code",
   "execution_count": 22,
   "metadata": {},
   "outputs": [
    {
     "data": {
      "text/plain": [
       "-3.0"
      ]
     },
     "execution_count": 22,
     "metadata": {},
     "output_type": "execute_result"
    }
   ],
   "source": [
    "det(A)"
   ]
  },
  {
   "cell_type": "code",
   "execution_count": 23,
   "metadata": {},
   "outputs": [
    {
     "data": {
      "text/plain": [
       "Eigen{Float64,Float64,Array{Float64,2},Array{Float64,1}}\n",
       "values:\n",
       "2-element Array{Float64,1}:\n",
       " -1.0\n",
       "  3.0\n",
       "vectors:\n",
       "2×2 Array{Float64,2}:\n",
       " -0.707107  0.707107\n",
       "  0.707107  0.707107"
      ]
     },
     "execution_count": 23,
     "metadata": {},
     "output_type": "execute_result"
    }
   ],
   "source": [
    "eigen(A)"
   ]
  },
  {
   "cell_type": "code",
   "execution_count": 24,
   "metadata": {},
   "outputs": [
    {
     "data": {
      "text/plain": [
       "([0.3333333333333335, -0.6666666666666667], [[1.0, 1.0], [-0.36986301369863006, -0.02739726027397249], [0.3333333333333335, -0.6666666666666667]], [5.0, 5.0, 2.220446049250313e-16], [5.0, 5.0, 0.9763790695367754])"
      ]
     },
     "execution_count": 24,
     "metadata": {},
     "output_type": "execute_result"
    }
   ],
   "source": [
    "cg_quadratic(A, b, [1, 1], true)"
   ]
  },
  {
   "cell_type": "code",
   "execution_count": 25,
   "metadata": {},
   "outputs": [
    {
     "data": {
      "text/plain": [
       "-0.3333333333333333"
      ]
     },
     "execution_count": 25,
     "metadata": {},
     "output_type": "execute_result"
    }
   ],
   "source": [
    "f([1/3,-2/3])"
   ]
  },
  {
   "cell_type": "code",
   "execution_count": 26,
   "metadata": {},
   "outputs": [
    {
     "data": {
      "text/plain": [
       "0"
      ]
     },
     "execution_count": 26,
     "metadata": {},
     "output_type": "execute_result"
    }
   ],
   "source": [
    "f([0,0])"
   ]
  },
  {
   "cell_type": "markdown",
   "metadata": {},
   "source": [
    "Le gradient conjugué trouve la solution du système linéaire, laquelle correspond à un point critique au premier ordre de la fonction."
   ]
  },
  {
   "cell_type": "code",
   "execution_count": 27,
   "metadata": {},
   "outputs": [
    {
     "data": {
      "text/plain": [
       "#7 (generic function with 1 method)"
      ]
     },
     "execution_count": 27,
     "metadata": {},
     "output_type": "execute_result"
    }
   ],
   "source": [
    "∇f = x -> A*x+b"
   ]
  },
  {
   "cell_type": "code",
   "execution_count": 28,
   "metadata": {},
   "outputs": [
    {
     "data": {
      "text/plain": [
       "2-element Array{Float64,1}:\n",
       " 0.0\n",
       " 0.0"
      ]
     },
     "execution_count": 28,
     "metadata": {},
     "output_type": "execute_result"
    }
   ],
   "source": [
    "x = [1.0/3; -2.0/3]\n",
    "∇f(x)"
   ]
  },
  {
   "cell_type": "code",
   "execution_count": 29,
   "metadata": {},
   "outputs": [
    {
     "data": {
      "text/plain": [
       "2-element Array{Int64,1}:\n",
       " 4\n",
       " 3"
      ]
     },
     "execution_count": 29,
     "metadata": {},
     "output_type": "execute_result"
    }
   ],
   "source": [
    "x = [1; 1]\n",
    "∇f(x)"
   ]
  },
  {
   "cell_type": "code",
   "execution_count": 30,
   "metadata": {},
   "outputs": [
    {
     "data": {
      "text/plain": [
       "#9 (generic function with 1 method)"
      ]
     },
     "execution_count": 30,
     "metadata": {},
     "output_type": "execute_result"
    }
   ],
   "source": [
    "step= x -> x-α*∇f(x)"
   ]
  },
  {
   "cell_type": "code",
   "execution_count": 31,
   "metadata": {},
   "outputs": [
    {
     "data": {
      "text/plain": [
       "6886"
      ]
     },
     "execution_count": 31,
     "metadata": {},
     "output_type": "execute_result"
    }
   ],
   "source": [
    "α = 10\n",
    "dot(step(x),A*step(x))"
   ]
  },
  {
   "cell_type": "code",
   "execution_count": 32,
   "metadata": {},
   "outputs": [
    {
     "data": {
      "text/plain": [
       "Eigen{Float64,Float64,Array{Float64,2},Array{Float64,1}}\n",
       "values:\n",
       "2-element Array{Float64,1}:\n",
       " -1.0\n",
       "  3.0\n",
       "vectors:\n",
       "2×2 Array{Float64,2}:\n",
       " -0.707107  0.707107\n",
       "  0.707107  0.707107"
      ]
     },
     "execution_count": 32,
     "metadata": {},
     "output_type": "execute_result"
    }
   ],
   "source": [
    "λ, u = eigen(A)"
   ]
  },
  {
   "cell_type": "code",
   "execution_count": 33,
   "metadata": {},
   "outputs": [
    {
     "data": {
      "text/plain": [
       "2×2 Array{Float64,2}:\n",
       " -0.707107  0.707107\n",
       "  0.707107  0.707107"
      ]
     },
     "execution_count": 33,
     "metadata": {},
     "output_type": "execute_result"
    }
   ],
   "source": [
    "u"
   ]
  },
  {
   "cell_type": "code",
   "execution_count": 36,
   "metadata": {},
   "outputs": [
    {
     "data": {
      "text/plain": [
       "2-element Array{Float64,1}:\n",
       "  0.7071067811865475\n",
       " -0.7071067811865475"
      ]
     },
     "execution_count": 36,
     "metadata": {},
     "output_type": "execute_result"
    }
   ],
   "source": [
    "x = u[:,1] # premier vecteur propre associé à λ = -1\n",
    "A*x"
   ]
  },
  {
   "cell_type": "code",
   "execution_count": 38,
   "metadata": {},
   "outputs": [
    {
     "data": {
      "text/plain": [
       "1.1102230246251565e-16"
      ]
     },
     "execution_count": 38,
     "metadata": {},
     "output_type": "execute_result"
    }
   ],
   "source": [
    "1.0-norm(x)"
   ]
  },
  {
   "cell_type": "code",
   "execution_count": 39,
   "metadata": {},
   "outputs": [
    {
     "data": {
      "text/plain": [
       "-106.05992052357223"
      ]
     },
     "execution_count": 39,
     "metadata": {},
     "output_type": "execute_result"
    }
   ],
   "source": [
    "α = 10\n",
    "f = x -> 0.5*dot(x,A*x)+dot(b,x)\n",
    "f(step(x))"
   ]
  },
  {
   "cell_type": "code",
   "execution_count": 40,
   "metadata": {},
   "outputs": [
    {
     "data": {
      "text/plain": [
       "-1.417629483042249e6"
      ]
     },
     "execution_count": 40,
     "metadata": {},
     "output_type": "execute_result"
    }
   ],
   "source": [
    "α = 1000\n",
    "dot(step(x),A*step(x))+dot(b,x)"
   ]
  },
  {
   "cell_type": "code",
   "execution_count": 41,
   "metadata": {},
   "outputs": [
    {
     "data": {
      "text/plain": [
       "-1.2071067811865475"
      ]
     },
     "execution_count": 41,
     "metadata": {},
     "output_type": "execute_result"
    }
   ],
   "source": [
    "f(x)"
   ]
  },
  {
   "cell_type": "code",
   "execution_count": 43,
   "metadata": {},
   "outputs": [
    {
     "data": {
      "text/plain": [
       "0.16666666666666666"
      ]
     },
     "execution_count": 43,
     "metadata": {},
     "output_type": "execute_result"
    }
   ],
   "source": [
    "x = [1/3.0; -2/3]\n",
    "f(x)"
   ]
  },
  {
   "cell_type": "code",
   "execution_count": 45,
   "metadata": {},
   "outputs": [
    {
     "data": {
      "text/plain": [
       "([NaN, NaN], [[0.3333333333333333, -0.6666666666666666], [NaN, NaN], [NaN, NaN]], [0.0, 0.0, NaN], [0.0, 0.0, NaN])"
      ]
     },
     "execution_count": 45,
     "metadata": {},
     "output_type": "execute_result"
    }
   ],
   "source": [
    "cg_quadratic(A, b, x, true)"
   ]
  },
  {
   "cell_type": "markdown",
   "metadata": {},
   "source": [
    "Nous devons incorporer un test sur $\\nabla f(x_k)$!"
   ]
  },
  {
   "cell_type": "code",
   "execution_count": 46,
   "metadata": {},
   "outputs": [
    {
     "data": {
      "text/plain": [
       "Eigen{Float64,Float64,Array{Float64,2},Array{Float64,1}}\n",
       "values:\n",
       "2-element Array{Float64,1}:\n",
       " 1.0\n",
       " 4.0\n",
       "vectors:\n",
       "2×2 Array{Float64,2}:\n",
       " 1.0  0.5547\n",
       " 0.0  0.83205"
      ]
     },
     "execution_count": 46,
     "metadata": {},
     "output_type": "execute_result"
    }
   ],
   "source": [
    "A = [ 1 2 ; 0 4 ]\n",
    "eigen(A)"
   ]
  },
  {
   "cell_type": "code",
   "execution_count": 47,
   "metadata": {},
   "outputs": [
    {
     "data": {
      "text/plain": [
       "Eigen{Float64,Float64,Array{Float64,2},Array{Float64,1}}\n",
       "values:\n",
       "2-element Array{Float64,1}:\n",
       "  0.7917560805262003\n",
       " 20.2082439194738\n",
       "vectors:\n",
       "2×2 Array{Float64,2}:\n",
       " -0.885022  0.465549\n",
       "  0.465549  0.885022"
      ]
     },
     "execution_count": 47,
     "metadata": {},
     "output_type": "execute_result"
    }
   ],
   "source": [
    "eigen(A*A')"
   ]
  },
  {
   "cell_type": "code",
   "execution_count": 48,
   "metadata": {},
   "outputs": [
    {
     "data": {
      "text/plain": [
       "Eigen{Float64,Float64,Array{Float64,2},Array{Float64,1}}\n",
       "values:\n",
       "2-element Array{Float64,1}:\n",
       " 1.381966011250105\n",
       " 3.618033988749895\n",
       "vectors:\n",
       "2×2 Array{Float64,2}:\n",
       "  0.525731  -0.850651\n",
       " -0.850651  -0.525731"
      ]
     },
     "execution_count": 48,
     "metadata": {},
     "output_type": "execute_result"
    }
   ],
   "source": [
    "A = [ 3 1; 1 2 ]\n",
    "eigen(A)"
   ]
  },
  {
   "cell_type": "code",
   "execution_count": 49,
   "metadata": {},
   "outputs": [
    {
     "data": {
      "text/plain": [
       "Eigen{Float64,Float64,Array{Float64,2},Array{Float64,1}}\n",
       "values:\n",
       "2-element Array{Float64,1}:\n",
       "  1.9098300562505257\n",
       " 13.090169943749475\n",
       "vectors:\n",
       "2×2 Array{Float64,2}:\n",
       "  0.525731  -0.850651\n",
       " -0.850651  -0.525731"
      ]
     },
     "execution_count": 49,
     "metadata": {},
     "output_type": "execute_result"
    }
   ],
   "source": [
    "eigen(A*A')"
   ]
  },
  {
   "cell_type": "markdown",
   "metadata": {},
   "source": [
    "Un exemple plus complexe."
   ]
  },
  {
   "cell_type": "code",
   "execution_count": 50,
   "metadata": {},
   "outputs": [
    {
     "data": {
      "text/plain": [
       "500-element Array{Float64,1}:\n",
       " 0.0\n",
       " 0.0\n",
       " 0.0\n",
       " 0.0\n",
       " 0.0\n",
       " 0.0\n",
       " 0.0\n",
       " 0.0\n",
       " 0.0\n",
       " 0.0\n",
       " 0.0\n",
       " 0.0\n",
       " 0.0\n",
       " ⋮\n",
       " 0.0\n",
       " 0.0\n",
       " 0.0\n",
       " 0.0\n",
       " 0.0\n",
       " 0.0\n",
       " 0.0\n",
       " 0.0\n",
       " 0.0\n",
       " 0.0\n",
       " 0.0\n",
       " 0.0"
      ]
     },
     "execution_count": 50,
     "metadata": {},
     "output_type": "execute_result"
    }
   ],
   "source": [
    "n = 500;\n",
    "m = 600;\n",
    "A = randn(n,m);\n",
    "A = A * A';  # A is now a positive semi-definite matrix\n",
    "A = A+I # A is positive definite\n",
    "b = zeros(n)\n",
    "for i = 1:n\n",
    "  b[i] = randn()\n",
    "end\n",
    "x0 = zeros(n)"
   ]
  },
  {
   "cell_type": "code",
   "execution_count": 51,
   "metadata": {},
   "outputs": [
    {
     "data": {
      "text/plain": [
       "500-element Array{Float64,1}:\n",
       "  0.013689587789839782\n",
       " -0.01885315005133297\n",
       "  0.0318160978874517\n",
       "  0.02018141425238513\n",
       "  0.01577563597684514\n",
       " -0.0017730089313002181\n",
       " -0.06801379207495274\n",
       " -0.0016406184215073923\n",
       "  0.0017004913653938\n",
       "  0.00452904556616134\n",
       "  0.0008935469903653916\n",
       " -0.029372800635081242\n",
       "  0.00017504150813374856\n",
       "  ⋮\n",
       "  0.044209737900243636\n",
       " -0.048861614988629135\n",
       " -0.010666867889729315\n",
       " -0.029847313763195597\n",
       "  0.014563686988772574\n",
       "  0.023240255799628032\n",
       " -0.0045103112775465555\n",
       "  0.015997107771635787\n",
       "  0.004398135807853763\n",
       "  0.033231357923669734\n",
       " -0.002515508470793067\n",
       " -0.014162210400825045"
      ]
     },
     "execution_count": 51,
     "metadata": {},
     "output_type": "execute_result"
    }
   ],
   "source": [
    "b1 = A\\(-b)"
   ]
  },
  {
   "cell_type": "code",
   "execution_count": 52,
   "metadata": {},
   "outputs": [],
   "source": [
    "b2, iter, iterg, iterd = cg_quadratic(A, b, x0, true);"
   ]
  },
  {
   "cell_type": "code",
   "execution_count": 53,
   "metadata": {},
   "outputs": [
    {
     "data": {
      "text/plain": [
       "1.734523990726017e-15"
      ]
     },
     "execution_count": 53,
     "metadata": {},
     "output_type": "execute_result"
    }
   ],
   "source": [
    "norm(b1-b2)"
   ]
  },
  {
   "cell_type": "code",
   "execution_count": 54,
   "metadata": {},
   "outputs": [
    {
     "data": {
      "text/plain": [
       "501-element Array{Float64,1}:\n",
       " 22.831483117055008\n",
       " 22.831483117055008\n",
       " 21.686547381952103\n",
       " 18.47405790416008\n",
       " 17.679856509828976\n",
       " 15.479270961191991\n",
       " 15.054833502002992\n",
       " 13.814610447800193\n",
       " 12.63503173040512\n",
       " 11.52554330836719\n",
       "  9.575193528243885\n",
       "  8.789891097025146\n",
       "  8.034678645994301\n",
       "  ⋮\n",
       "  1.4908635599264138e-13\n",
       "  1.5371720924180976e-13\n",
       "  1.4106127271118373e-13\n",
       "  1.3383977941484951e-13\n",
       "  1.379272568519458e-13\n",
       "  1.4489099844039407e-13\n",
       "  1.5035721853910728e-13\n",
       "  1.5847713661217427e-13\n",
       "  1.498716828183743e-13\n",
       "  1.5549970131117184e-13\n",
       "  1.4955984269052359e-13\n",
       "  1.5018105908603662e-13"
      ]
     },
     "execution_count": 54,
     "metadata": {},
     "output_type": "execute_result"
    }
   ],
   "source": [
    "iterg"
   ]
  },
  {
   "cell_type": "code",
   "execution_count": 55,
   "metadata": {},
   "outputs": [
    {
     "data": {
      "text/plain": [
       "501-element Array{Float64,1}:\n",
       " 22.831483117055008\n",
       " 22.831483117055008\n",
       " 29.910303425502924\n",
       " 28.502776208269697\n",
       " 31.52834999401924\n",
       " 28.700365586087482\n",
       " 31.04293159827266\n",
       " 29.564980127202784\n",
       " 27.772256332956076\n",
       " 25.823717874841616\n",
       " 20.232614304274787\n",
       " 19.182387728850454\n",
       " 17.928887193547382\n",
       "  ⋮\n",
       "  1.4708663821848665e-13\n",
       "  1.5927685062878838e-13\n",
       "  1.4176822762880018e-13\n",
       "  1.3711902855630244e-13\n",
       "  1.4273471264141864e-13\n",
       "  1.4652378455710525e-13\n",
       "  1.5095170394201812e-13\n",
       "  1.6600005925472444e-13\n",
       "  1.5576346396201643e-13\n",
       "  1.558812612998778e-13\n",
       "  1.541227411837348e-13\n",
       "  1.509204050578899e-13"
      ]
     },
     "execution_count": 55,
     "metadata": {},
     "output_type": "execute_result"
    }
   ],
   "source": [
    "iterd"
   ]
  },
  {
   "cell_type": "markdown",
   "metadata": {},
   "source": [
    "Cela fonctionne, mais devons-nous vraiment faire 500 itérations? Nous serions satisfaits si nous sommes proches de la solution. Nous pouvons mesurer le résidu du système linéaire residual of the linear system\n",
    "$$\n",
    "r = b+Ax,\n",
    "$$\n",
    "ce qui n'est rien d'autre que le gradient de la fonction objectif du problème de minimisation quadratique."
   ]
  },
  {
   "cell_type": "code",
   "execution_count": 56,
   "metadata": {},
   "outputs": [
    {
     "data": {
      "text/plain": [
       "501-element Array{Array{Float64,1},1}:\n",
       " [0.0, 0.0, 0.0, 0.0, 0.0, 0.0, 0.0, 0.0, 0.0, 0.0  …  0.0, 0.0, 0.0, 0.0, 0.0, 0.0, 0.0, 0.0, 0.0, 0.0]\n",
       " [-0.00017027618072256812, 0.0002731925457880143, 0.0010684115984472631, -0.0004017684535668579, -0.0010245312224726674, -0.0033353595759318296, -0.0011646300744951321, -0.002333894483727998, -0.0007008411809605268, -0.0016820699483587867  …  -0.00033178888615875105, -0.0012883893166555226, -0.0007292784898442888, -0.0004473856499263748, 0.00011689192235378118, 0.003198233491125432, -0.00021722337122564498, 0.0018325294753949153, -0.0006225107923252299, 0.00033662030259510396]\n",
       " [-3.825733040628996e-5, -0.0003223953427695385, 0.004278562464667181, -0.0011602153475444349, 0.00037342277557283945, -0.0033164358576595614, -0.00658636068216885, 1.0174343228482909e-5, -0.0019774710069156262, -0.003995304270415299  …  -0.0021765754771554506, -0.0037361475689225527, -0.0007448318703374449, -0.000944699994161559, -0.0013794303177228529, 0.004659504036842848, -0.0030182286982768725, 0.003129589959577411, -0.0018486627567421833, -0.001551998345497295]\n",
       " [-0.0009687508094096221, -0.0012113413654829745, 0.009261801575322727, -0.0014960915779252298, 0.0003044991820189101, -0.004808140845402087, -0.01094986819270127, 0.0014669464674721456, 6.324677251156935e-5, -0.006368965281978126  …  -0.0036986628836503423, -0.007028608949639383, 0.0022645701909076743, -0.0005257981236053424, -0.0045072193300721795, 0.004912497759309562, -0.0031643643789508293, 0.004278173592058657, -0.0037859122551629014, -0.004889960564238987]\n",
       " [-0.00041331449615902946, -0.00026821680165194583, 0.013720231595391348, -0.0012325284793167014, 0.0015969350138448995, -0.008323147685437113, -0.01586123181310767, 0.003690655006309814, 0.0015996565953244938, -0.0092496271669177  …  -0.004726854653268168, -0.009683038679590002, 0.0046043961788646585, 0.00028861100200613433, -0.005934367096884944, 0.0037710528769182693, -0.0044993522718303845, 0.006788359751665043, -0.005952341212543096, -0.00925333296478956]\n",
       " [0.00016061066508868708, -0.0016296778318116547, 0.01689907074483584, 0.00036370691883996255, 0.003937486517375532, -0.010252292008796004, -0.01908541844517292, 0.005918879199184523, 0.003521484427706463, -0.012315762789131194  …  -0.005080876384755406, -0.010792037707296524, 0.007405385886139608, -0.0002534880462370366, -0.005647797352462294, 0.002961161928711301, -0.005365463246381495, 0.010927900614077403, -0.00616956142726666, -0.011463232913814592]\n",
       " [0.002069739825142452, -0.002575389636012172, 0.019404255211854994, 0.0015126616849756433, 0.004890673376803177, -0.013416865262545458, -0.022559776628447298, 0.008496341759434707, 0.004994137823079783, -0.014130431192865712  …  -0.005729396213627307, -0.012554279162559644, 0.009728535626708716, -0.0001546912461196634, -0.004690217936652089, 0.003920171916577379, -0.006152574167867901, 0.01379898537212692, -0.00495103278481923, -0.012895867994097199]\n",
       " [0.0033661480698980823, -0.005650542785595985, 0.01985590348677428, 0.0031392853525828413, 0.004974776014643892, -0.01541044476092839, -0.025642581918644748, 0.009752670472293546, 0.006309026754410406, -0.014932401132450406  …  -0.006160245763309419, -0.01347875933165458, 0.012808115730101932, 0.00020733964187238775, -0.003840596379979774, 0.005871532868460593, -0.005764434309482882, 0.016214748076133413, -0.0037309206037605264, -0.014225697966498254]\n",
       " [0.004410301279881781, -0.008919635428513983, 0.022113933051935673, 0.0057618871902507494, 0.0048839229848960004, -0.016499473433488406, -0.028999154367487717, 0.009387194982122359, 0.007458789911898562, -0.013830704490230121  …  -0.005836709619340949, -0.01596252919516325, 0.016019260328679442, 0.0003111887164219211, -0.001528938759049428, 0.0072685329243208285, -0.004217260877156452, 0.019344084730673963, -0.0017299780980570322, -0.015926441787192113]\n",
       " [0.006549751469256166, -0.012184249586710244, 0.022791191348005637, 0.00758251819047794, 0.005832863293869383, -0.016963674123143542, -0.0330336299184041, 0.007968534606135792, 0.006876425287660268, -0.012349288743458706  …  -0.006742744118290468, -0.018587276419069126, 0.01822844450307248, 0.0003251832490459578, 2.533575049167274e-5, 0.008318517612787499, -0.002019857220243534, 0.022361924595113197, -0.0017929355472276777, -0.017178166237323385]\n",
       " [0.0068070652370784595, -0.014549703266501344, 0.02320546240178325, 0.009563178801481505, 0.007511435174038262, -0.015551222331094367, -0.03683909288049388, 0.006221163209264177, 0.006873804037170058, -0.009845671724895214  …  -0.006282106679619921, -0.019941410194398473, 0.018952196984912233, 0.00029745184707515173, 0.0012802344310378457, 0.009872408384776696, -0.0010989905026705534, 0.025015372035721885, -0.0009611616566995573, -0.017861447399178082]\n",
       " [0.006618368907789586, -0.01661414786390397, 0.024046889832113137, 0.012219060686682128, 0.008624337662525352, -0.014061394733119277, -0.039656467994698644, 0.004758732274541038, 0.006835020345168928, -0.007381917479388232  …  -0.005692719547795805, -0.020938160032748454, 0.019660339973430824, 0.0020057278262294786, 0.00086483551185769, 0.011017728315515642, -0.0012639411977705115, 0.02634412050865257, -0.0007469235995868964, -0.018610388856253293]\n",
       " [0.0079531562415989, -0.019112390097834317, 0.024030172790893922, 0.014596763347827781, 0.009503219083033525, -0.012430264291622015, -0.04258628042046944, 0.003722718783554013, 0.00628845702708368, -0.00503173355922387  …  -0.005739619628170505, -0.023549997754847642, 0.0194402749501878, 0.004689965941590258, 0.0008074988779245459, 0.011652681248067, -0.0010400216321288028, 0.02773550951521039, -0.000659540454687034, -0.018250919577856115]\n",
       " ⋮\n",
       " [0.013689587789839907, -0.018853150051332906, 0.03181609788745158, 0.02018141425238524, 0.015775635976845087, -0.0017730089313001552, -0.06801379207495291, -0.0016406184215073877, 0.0017004913653938618, 0.004529045566161428  …  -0.010666867889729254, -0.029847313763195604, 0.014563686988772636, 0.023240255799628066, -0.004510311277546432, 0.015997107771635793, 0.004398135807853774, 0.03323135792366976, -0.002515508470793231, -0.014162210400825]\n",
       " [0.013689587789839905, -0.018853150051332913, 0.031816097887451586, 0.020181414252385236, 0.01577563597684507, -0.0017730089313001652, -0.06801379207495291, -0.0016406184215073895, 0.001700491365393855, 0.004529045566161438  …  -0.010666867889729256, -0.029847313763195597, 0.014563686988772646, 0.023240255799628084, -0.004510311277546419, 0.015997107771635787, 0.004398135807853763, 0.03323135792366976, -0.002515508470793219, -0.01416221040082501]\n",
       " [0.013689587789839898, -0.018853150051332916, 0.031816097887451586, 0.020181414252385236, 0.015775635976845056, -0.0017730089313001708, -0.06801379207495291, -0.0016406184215073942, 0.0017004913653938603, 0.004529045566161437  …  -0.010666867889729264, -0.02984731376319559, 0.01456368698877266, 0.02324025579962808, -0.004510311277546409, 0.015997107771635776, 0.004398135807853754, 0.033231357923669755, -0.002515508470793226, -0.014162210400825007]\n",
       " [0.013689587789839894, -0.01885315005133292, 0.031816097887451586, 0.020181414252385243, 0.015775635976845056, -0.001773008931300167, -0.06801379207495291, -0.0016406184215073919, 0.0017004913653938733, 0.004529045566161432  …  -0.010666867889729266, -0.029847313763195583, 0.014563686988772659, 0.02324025579962808, -0.004510311277546406, 0.01599710777163578, 0.004398135807853739, 0.03323135792366974, -0.002515508470793228, -0.014162210400825001]\n",
       " [0.013689587789839896, -0.018853150051332916, 0.031816097887451586, 0.020181414252385246, 0.015775635976845052, -0.001773008931300159, -0.06801379207495291, -0.0016406184215073897, 0.0017004913653938792, 0.004529045566161435  …  -0.010666867889729266, -0.029847313763195583, 0.014563686988772657, 0.023240255799628077, -0.004510311277546401, 0.01599710777163578, 0.0043981358078537215, 0.03323135792366975, -0.002515508470793234, -0.014162210400824994]\n",
       " [0.013689587789839882, -0.018853150051332923, 0.03181609788745161, 0.020181414252385253, 0.01577563597684506, -0.0017730089313001544, -0.06801379207495292, -0.0016406184215073992, 0.0017004913653938733, 0.004529045566161443  …  -0.010666867889729264, -0.02984731376319559, 0.014563686988772664, 0.02324025579962808, -0.0045103112775464055, 0.01599710777163577, 0.004398135807853722, 0.03323135792366976, -0.0025155084707932283, -0.014162210400824993]\n",
       " [0.01368958778983987, -0.018853150051332937, 0.03181609788745163, 0.020181414252385253, 0.01577563597684507, -0.0017730089313001476, -0.06801379207495292, -0.0016406184215074083, 0.0017004913653938698, 0.00452904556616144  …  -0.010666867889729252, -0.029847313763195594, 0.014563686988772657, 0.023240255799628094, -0.004510311277546404, 0.015997107771635773, 0.00439813580785372, 0.03323135792366977, -0.0025155084707932126, -0.014162210400825003]\n",
       " [0.013689587789839862, -0.01885315005133293, 0.03181609788745164, 0.020181414252385246, 0.01577563597684508, -0.0017730089313001437, -0.06801379207495292, -0.0016406184215074049, 0.001700491365393879, 0.004529045566161439  …  -0.01066686788972924, -0.029847313763195604, 0.014563686988772643, 0.0232402557996281, -0.004510311277546395, 0.015997107771635773, 0.004398135807853719, 0.03323135792366977, -0.0025155084707932027, -0.014162210400825008]\n",
       " [0.013689587789839839, -0.018853150051332916, 0.031816097887451655, 0.020181414252385246, 0.015775635976845084, -0.0017730089313001377, -0.06801379207495291, -0.0016406184215073864, 0.0017004913653938874, 0.004529045566161434  …  -0.010666867889729238, -0.029847313763195604, 0.014563686988772634, 0.023240255799628098, -0.0045103112775463985, 0.015997107771635776, 0.004398135807853736, 0.033231357923669776, -0.002515508470793204, -0.01416221040082502]\n",
       " [0.013689587789839808, -0.018853150051332923, 0.03181609788745165, 0.02018141425238525, 0.015775635976845098, -0.0017730089313001364, -0.06801379207495291, -0.0016406184215073734, 0.0017004913653938813, 0.004529045566161426  …  -0.010666867889729238, -0.029847313763195604, 0.014563686988772638, 0.023240255799628094, -0.004510311277546403, 0.015997107771635787, 0.0043981358078537605, 0.03323135792366977, -0.0025155084707932044, -0.014162210400825014]\n",
       " [0.013689587789839799, -0.01885315005133293, 0.03181609788745165, 0.020181414252385257, 0.015775635976845094, -0.0017730089313001357, -0.06801379207495292, -0.0016406184215073806, 0.0017004913653938848, 0.004529045566161422  …  -0.010666867889729233, -0.02984731376319561, 0.014563686988772633, 0.023240255799628084, -0.004510311277546411, 0.01599710777163578, 0.004398135807853759, 0.033231357923669755, -0.00251550847079321, -0.014162210400825017]\n",
       " [0.0136895877898398, -0.018853150051332934, 0.03181609788745165, 0.020181414252385253, 0.01577563597684509, -0.0017730089313001398, -0.06801379207495294, -0.001640618421507381, 0.001700491365393892, 0.004529045566161415  …  -0.010666867889729224, -0.02984731376319563, 0.01456368698877263, 0.023240255799628063, -0.004510311277546413, 0.015997107771635773, 0.004398135807853759, 0.03323135792366974, -0.00251550847079321, -0.01416221040082504]"
      ]
     },
     "execution_count": 56,
     "metadata": {},
     "output_type": "execute_result"
    }
   ],
   "source": [
    "iter"
   ]
  },
  {
   "cell_type": "markdown",
   "metadata": {},
   "source": [
    "Nous devons inclure un test de convergence dans la fonction."
   ]
  },
  {
   "cell_type": "code",
   "execution_count": 57,
   "metadata": {},
   "outputs": [
    {
     "data": {
      "text/plain": [
       "cg_quadratic_tol (generic function with 3 methods)"
      ]
     },
     "execution_count": 57,
     "metadata": {},
     "output_type": "execute_result"
    }
   ],
   "source": [
    "function cg_quadratic_tol(A:: Matrix, b:: Vector, x0:: Vector, trace:: Bool = false, tol = 1e-8)\n",
    "    n = length(x0)\n",
    "    x = x0\n",
    "    if (trace)\n",
    "        iter = [ x ]\n",
    "    end\n",
    "    g = b+A*x\n",
    "    d = -g\n",
    "    k = 0\n",
    "    \n",
    "    tol2 = tol*tol\n",
    "\n",
    "    β = 0.0\n",
    "\n",
    "    while ((dot(g,g) > tol2) && (k <= n))\n",
    "        Ad = A*d\n",
    "        normd = dot(d,Ad)\n",
    "        α = dot(g,g)/normd\n",
    "#        α = -dot(d,g)/normd\n",
    "        x += α*d\n",
    "        if (trace)\n",
    "            iter = [ iter; x ]\n",
    "        end\n",
    "        g = b+A*x\n",
    "        β = dot(g,Ad)/normd\n",
    "        d = -g+β*d\n",
    "        k += 1\n",
    "    end\n",
    "\n",
    "    if (trace)\n",
    "        iter = [ iter; x ]\n",
    "        return x, iter, k\n",
    "    end\n",
    "\n",
    "    return x, k\n",
    "end"
   ]
  },
  {
   "cell_type": "code",
   "execution_count": 58,
   "metadata": {},
   "outputs": [
    {
     "data": {
      "text/plain": [
       "([0.013689587798574444, -0.018853150047148094, 0.03181609788253195, 0.020181414253286397, 0.015775635994805418, -0.0017730089268754073, -0.06801379208995433, -0.0016406184374460314, 0.0017004913597049953, 0.00452904557032978  …  -0.010666867898507406, -0.029847313749673355, 0.014563686983419375, 0.023240255786818563, -0.004510311269642599, 0.015997107774918345, 0.004398135823719092, 0.033231357919214256, -0.0025155084716944457, -0.014162210399088179], Any[[0.0, 0.0, 0.0, 0.0, 0.0, 0.0, 0.0, 0.0, 0.0, 0.0  …  0.0, 0.0, 0.0, 0.0, 0.0, 0.0, 0.0, 0.0, 0.0, 0.0], -0.00017027618072256812, 0.0002731925457880143, 0.0010684115984472631, -0.0004017684535668579, -0.0010245312224726674, -0.0033353595759318296, -0.0011646300744951321, -0.002333894483727998, -0.0007008411809605268  …  -0.010666867898507406, -0.029847313749673355, 0.014563686983419375, 0.023240255786818563, -0.004510311269642599, 0.015997107774918345, 0.004398135823719092, 0.033231357919214256, -0.0025155084716944457, -0.014162210399088179], 192)"
      ]
     },
     "execution_count": 58,
     "metadata": {},
     "output_type": "execute_result"
    }
   ],
   "source": [
    "x, iter, k = cg_quadratic_tol(A, b, x0, true)"
   ]
  },
  {
   "cell_type": "markdown",
   "metadata": {},
   "source": [
    "Le nombre d'itérations est"
   ]
  },
  {
   "cell_type": "code",
   "execution_count": 59,
   "metadata": {},
   "outputs": [
    {
     "data": {
      "text/plain": [
       "192"
      ]
     },
     "execution_count": 59,
     "metadata": {},
     "output_type": "execute_result"
    }
   ],
   "source": [
    "k"
   ]
  },
  {
   "cell_type": "markdown",
   "metadata": {},
   "source": [
    "Sommes-nous proche de la solution?"
   ]
  },
  {
   "cell_type": "code",
   "execution_count": 60,
   "metadata": {},
   "outputs": [
    {
     "data": {
      "text/plain": [
       "1.9379487536581979e-10"
      ]
     },
     "execution_count": 60,
     "metadata": {},
     "output_type": "execute_result"
    }
   ],
   "source": [
    "norm(b1-x)"
   ]
  },
  {
   "cell_type": "code",
   "execution_count": 62,
   "metadata": {},
   "outputs": [
    {
     "data": {
      "text/plain": [
       "(500, 500)"
      ]
     },
     "execution_count": 62,
     "metadata": {},
     "output_type": "execute_result"
    }
   ],
   "source": [
    "size(A)"
   ]
  },
  {
   "cell_type": "markdown",
   "metadata": {},
   "source": [
    "ce qui est nettement moindre que la dimension du problème."
   ]
  },
  {
   "cell_type": "markdown",
   "metadata": {},
   "source": [
    "## Gradient conjugué préconditionné"
   ]
  },
  {
   "cell_type": "markdown",
   "metadata": {},
   "source": [
    "Si le nombre de conditionnement est égal à 1, nous convergeons en une itération.\n",
    "\n",
    "Rappelons que le nombre de conditionnement d'une matrice $A$ définie positive est donné par\n",
    "$$\n",
    "\\kappa(A) = \\frac{\\lambda_{\\max}}{\\lambda_{\\min}}.\n",
    "$$\n",
    "$\\kappa(A) = 1$ ssi $A = \\gamma I$. Dans ce cas\n",
    "$$\n",
    "A = \\begin{pmatrix} \\gamma & 0 & \\cdots & 0 \\\\ 0 & \\gamma & \\cdots & 0 \\\\ \\vdots & \\vdots & \\ddots & \\vdots \\\\ 0 & 0 & \\cdots & \\gamma \\end{pmatrix}.\n",
    "$$\n",
    "Observons que $\\lambda_{\\max} = \\lambda_{\\min} = \\gamma$."
   ]
  },
  {
   "cell_type": "markdown",
   "metadata": {},
   "source": [
    "Le problème quadratique devient alors\n",
    "$$\n",
    "f(x) = \\frac{1}{2}\\gamma x^Tx + b^Tx.\n",
    "$$"
   ]
  },
  {
   "cell_type": "markdown",
   "metadata": {},
   "source": [
    "Son gradient est\n",
    "$$\n",
    "\\nabla f(x) = \\gamma x + b.\n",
    "$$\n",
    "Il s'annule si\n",
    "$$\n",
    "x = -\\frac{b}{\\gamma}.\n",
    "$$"
   ]
  },
  {
   "cell_type": "markdown",
   "metadata": {},
   "source": [
    "Soit $x_0$. L'algorithme du gradient conjugué donne comme première de recherche $d_0 = -\\nabla f(x_0) = -\\gamma x_0 - b$.\n",
    "\n",
    "Nous avons aussi\n",
    "$$\n",
    "\\alpha_0 = - \\frac{d_0^T\\nabla f(x_0)}{d_0^TAd_0} = \\frac{\\| d_0 \\|^2}{\\gamma \\| d_0 \\|^2} = \\frac{1}{\\gamma}.\n",
    "$$"
   ]
  },
  {
   "cell_type": "markdown",
   "metadata": {},
   "source": [
    "Le premier itéré donne\n",
    "$$\n",
    "x_1 = x_0 + \\alpha_0 d_0 = x_0 + \\frac{1}{\\gamma} (-\\gamma x_0 - b) = -\\frac{b}{\\gamma}.\n",
    "$$\n",
    "ce qui correspond bien à la solution!"
   ]
  },
  {
   "cell_type": "markdown",
   "metadata": {},
   "source": [
    "Si la matrice $A$ est diagonale et tous les éléments de la diagonale sont identiques, la direction de plus forte pente donne le minimum global."
   ]
  },
  {
   "cell_type": "markdown",
   "metadata": {},
   "source": [
    "Une implémentation basique d'un algorithme de gradient préconditionné suit, où $M$ est l'inverse du préconditioneur à appliquer."
   ]
  },
  {
   "cell_type": "code",
   "execution_count": 1,
   "metadata": {},
   "outputs": [
    {
     "data": {
      "text/plain": [
       "pcg_quadratic_tol (generic function with 3 methods)"
      ]
     },
     "execution_count": 1,
     "metadata": {},
     "output_type": "execute_result"
    }
   ],
   "source": [
    "function pcg_quadratic_tol(A:: Matrix, b:: Vector, x0:: Vector, M:: Matrix,\n",
    "                           trace:: Bool = false, tol = 1e-8)\n",
    "    n = length(x0)\n",
    "    x = x0\n",
    "    if (trace)\n",
    "        iter = [ x ]\n",
    "    end\n",
    "    g = b+A*x\n",
    "    v = M*g\n",
    "    d = -v\n",
    "    k = 0\n",
    "    \n",
    "    tol2 = tol*tol\n",
    "\n",
    "    β = 0.0\n",
    "\n",
    "    gv = dot(g,v)\n",
    "    while ((gv > tol2) && (k <= n))\n",
    "#    while ((dot(g,g) > tol2) && (k <= n))\n",
    "        Ad = A*d\n",
    "        normd = dot(d,Ad)\n",
    "        #gv = dot(g,v)\n",
    "        α = gv/normd\n",
    "        x += α*d\n",
    "        if (trace)\n",
    "            iter = [ iter; x ]\n",
    "        end\n",
    "        g += α*Ad\n",
    "        v = M*g\n",
    "        gvold = gv\n",
    "        gv = dot(g,v)\n",
    "        β = gv/gvold\n",
    "        d = -v+β*d\n",
    "        k += 1\n",
    "    end\n",
    "\n",
    "    if (trace)\n",
    "        iter = [ iter; x ]\n",
    "        return x, iter, k\n",
    "    end\n",
    "\n",
    "    return x, k\n",
    "end"
   ]
  },
  {
   "cell_type": "markdown",
   "metadata": {},
   "source": [
    "Let's check first that when there is no preconditioning, we obtain the same iterates.\n",
    "Set"
   ]
  },
  {
   "cell_type": "code",
   "execution_count": null,
   "metadata": {},
   "outputs": [],
   "source": [
    "M = zeros(n,n)+I\n",
    "x, iter, k = pcg_quadratic_tol(A, b, x0, M, true)"
   ]
  },
  {
   "cell_type": "code",
   "execution_count": null,
   "metadata": {},
   "outputs": [],
   "source": [
    "k, norm(x-b1)"
   ]
  },
  {
   "cell_type": "markdown",
   "metadata": {},
   "source": [
    "We can compute the eigenvalues and condition number of $A$."
   ]
  },
  {
   "cell_type": "code",
   "execution_count": null,
   "metadata": {},
   "outputs": [],
   "source": [
    "eigen(A)"
   ]
  },
  {
   "cell_type": "code",
   "execution_count": null,
   "metadata": {},
   "outputs": [],
   "source": [
    "cond(A)"
   ]
  },
  {
   "cell_type": "markdown",
   "metadata": {},
   "source": [
    "Try to compute a simple precontionner using the inverse of the diagonal of matrix $A$."
   ]
  },
  {
   "cell_type": "code",
   "execution_count": null,
   "metadata": {
    "scrolled": true
   },
   "outputs": [],
   "source": [
    "D = 1 ./diag(A)\n",
    "M = Diagonal(D)"
   ]
  },
  {
   "cell_type": "markdown",
   "metadata": {},
   "source": [
    "Unfortunately, in this case, it does not help as the condition number is not improving."
   ]
  },
  {
   "cell_type": "code",
   "execution_count": null,
   "metadata": {},
   "outputs": [],
   "source": [
    "B = M*A\n",
    "cond(B)"
   ]
  },
  {
   "cell_type": "markdown",
   "metadata": {},
   "source": [
    "Consider another situation when $A$ is diagonal."
   ]
  },
  {
   "cell_type": "code",
   "execution_count": null,
   "metadata": {},
   "outputs": [],
   "source": [
    "n = 1000;\n",
    "A = zeros(n,n);\n",
    "for i = 1:n\n",
    "    A[i,i] = 10*rand()\n",
    "end\n",
    "b = zeros(n)\n",
    "for i = 1:n\n",
    "  b[i] = rand()\n",
    "end\n",
    "x0 = zeros(n)\n",
    "cond(A)"
   ]
  },
  {
   "cell_type": "markdown",
   "metadata": {},
   "source": [
    "The solution we are looking for is"
   ]
  },
  {
   "cell_type": "code",
   "execution_count": null,
   "metadata": {
    "scrolled": true
   },
   "outputs": [],
   "source": [
    "A\\b"
   ]
  },
  {
   "cell_type": "markdown",
   "metadata": {},
   "source": [
    "Without preconditionning, with have the iterates sequence"
   ]
  },
  {
   "cell_type": "code",
   "execution_count": null,
   "metadata": {},
   "outputs": [],
   "source": [
    "M = zeros(n,n)+I\n",
    "x, iter, k = pcg_quadratic_tol(A, b, x0, M, true)"
   ]
  },
  {
   "cell_type": "markdown",
   "metadata": {},
   "source": [
    "This is equivalent to the unpreconditioned version."
   ]
  },
  {
   "cell_type": "code",
   "execution_count": null,
   "metadata": {},
   "outputs": [],
   "source": [
    "x, iter, k = cg_quadratic_tol(A, b, x0, true)"
   ]
  },
  {
   "cell_type": "markdown",
   "metadata": {},
   "source": [
    "However, since $A$ is diagonal, an obvious diagonal preconditionner is $A^{-1}$ itself."
   ]
  },
  {
   "cell_type": "code",
   "execution_count": null,
   "metadata": {},
   "outputs": [],
   "source": [
    "M = zeros(n,n)\n",
    "for i = 1:n\n",
    "    M[i,i] = 1/A[i,i]\n",
    "end"
   ]
  },
  {
   "cell_type": "markdown",
   "metadata": {},
   "source": [
    "The condition number of the preconditioned matrix is of course equal to 1."
   ]
  },
  {
   "cell_type": "code",
   "execution_count": null,
   "metadata": {},
   "outputs": [],
   "source": [
    "cond(M*A)"
   ]
  },
  {
   "cell_type": "markdown",
   "metadata": {},
   "source": [
    "The theory then predicts that we converge in one iteration with the precionditionned conjugate gradient."
   ]
  },
  {
   "cell_type": "code",
   "execution_count": null,
   "metadata": {
    "scrolled": true
   },
   "outputs": [],
   "source": [
    "x, iter, k = pcg_quadratic_tol(A, b, x0, M, true)"
   ]
  },
  {
   "cell_type": "markdown",
   "metadata": {},
   "source": [
    "Consider now another example."
   ]
  },
  {
   "cell_type": "code",
   "execution_count": null,
   "metadata": {},
   "outputs": [],
   "source": [
    "A = zeros(n,n)+3*I\n",
    "for i = 1:n-1\n",
    "    A[i,i+1] = 1.4\n",
    "    A[i+1,i] = 1.4\n",
    "end\n",
    "A"
   ]
  },
  {
   "cell_type": "code",
   "execution_count": null,
   "metadata": {},
   "outputs": [],
   "source": [
    "eigen(A)"
   ]
  },
  {
   "cell_type": "code",
   "execution_count": null,
   "metadata": {},
   "outputs": [],
   "source": [
    "A\\(-b)"
   ]
  },
  {
   "cell_type": "code",
   "execution_count": null,
   "metadata": {},
   "outputs": [],
   "source": [
    "x, iter, k = cg_quadratic_tol(A, b, x0, true)"
   ]
  },
  {
   "cell_type": "code",
   "execution_count": null,
   "metadata": {},
   "outputs": [],
   "source": [
    "M = zeros(n,n)\n",
    "for i = 1:n\n",
    "    M[i,i] = 1/A[i,i]\n",
    "end"
   ]
  },
  {
   "cell_type": "code",
   "execution_count": null,
   "metadata": {},
   "outputs": [],
   "source": [
    "cond(A)"
   ]
  },
  {
   "cell_type": "code",
   "execution_count": null,
   "metadata": {},
   "outputs": [],
   "source": [
    "cond(M*A)"
   ]
  },
  {
   "cell_type": "code",
   "execution_count": null,
   "metadata": {},
   "outputs": [],
   "source": [
    "x, iter, k = pcg_quadratic_tol(A, b, x0, M, true)"
   ]
  },
  {
   "cell_type": "markdown",
   "metadata": {},
   "source": [
    "There is no advantage."
   ]
  },
  {
   "cell_type": "code",
   "execution_count": null,
   "metadata": {},
   "outputs": [],
   "source": [
    "M = A^(-1)"
   ]
  },
  {
   "cell_type": "code",
   "execution_count": null,
   "metadata": {},
   "outputs": [],
   "source": [
    "x, iter, k = pcg_quadratic_tol(A, b, x0, M, true)"
   ]
  },
  {
   "cell_type": "markdown",
   "metadata": {},
   "source": [
    "Consider now the following example."
   ]
  },
  {
   "cell_type": "code",
   "execution_count": null,
   "metadata": {},
   "outputs": [],
   "source": [
    "n = 1000\n",
    "A = zeros(n,n)+Diagonal([2+i*i for i=1:n])"
   ]
  },
  {
   "cell_type": "code",
   "execution_count": null,
   "metadata": {},
   "outputs": [],
   "source": [
    "for i = 1:n-1\n",
    "    A[i,i+1] = 1\n",
    "    A[i+1,i] = 1\n",
    "end\n",
    "A[n,1] = 1\n",
    "A[1,n] = 1\n",
    "cond(A)"
   ]
  },
  {
   "cell_type": "code",
   "execution_count": null,
   "metadata": {},
   "outputs": [],
   "source": [
    "κ = cond(A)\n",
    "(sqrt(κ)-1)/(sqrt(κ)+1)"
   ]
  },
  {
   "cell_type": "code",
   "execution_count": null,
   "metadata": {},
   "outputs": [],
   "source": [
    "A"
   ]
  },
  {
   "cell_type": "code",
   "execution_count": null,
   "metadata": {},
   "outputs": [],
   "source": [
    "A^(-1)"
   ]
  },
  {
   "cell_type": "code",
   "execution_count": null,
   "metadata": {},
   "outputs": [],
   "source": [
    "M = zeros(n,n)+I\n",
    "x, iter, k = pcg_quadratic_tol(A, b, x0, M, true)"
   ]
  },
  {
   "cell_type": "code",
   "execution_count": null,
   "metadata": {},
   "outputs": [],
   "source": [
    "M = zeros(n,n)\n",
    "for i = 1:n\n",
    "    M[i,i] = 1/A[i,i]\n",
    "end\n",
    "cond(A*M), cond(A)"
   ]
  },
  {
   "cell_type": "code",
   "execution_count": null,
   "metadata": {},
   "outputs": [],
   "source": [
    "M"
   ]
  },
  {
   "cell_type": "code",
   "execution_count": null,
   "metadata": {
    "scrolled": true
   },
   "outputs": [],
   "source": [
    "A*M"
   ]
  },
  {
   "cell_type": "code",
   "execution_count": null,
   "metadata": {},
   "outputs": [],
   "source": [
    "x, iter, k = pcg_quadratic_tol(A, b, x0, M, true)"
   ]
  },
  {
   "cell_type": "code",
   "execution_count": null,
   "metadata": {},
   "outputs": [],
   "source": [
    "function pcg_quadratic(A:: Matrix, b:: Vector, x0:: Vector, M:: Matrix,\n",
    "                       trace:: Bool = false, tol = 1e-8)\n",
    "    n = length(x0)\n",
    "    x = x0\n",
    "    if (trace)\n",
    "        iter = [ x ]\n",
    "    end\n",
    "    g = b+A*x\n",
    "    v = M\\g\n",
    "    d = -v\n",
    "    k = 0\n",
    "    \n",
    "    tol2 = tol*tol\n",
    "\n",
    "    β = 0.0\n",
    "\n",
    "    gv = dot(g,v)\n",
    "    while ((gv > tol2) && (k <= n))\n",
    "#    while ((dot(g,g) > tol2) && (k <= n))\n",
    "        Ad = A*d\n",
    "        normd = dot(d,Ad)\n",
    "        #gv = dot(g,v)\n",
    "        α = gv/normd\n",
    "        x += α*d\n",
    "        if (trace)\n",
    "            iter = [ iter; x ]\n",
    "        end\n",
    "        g += α*Ad\n",
    "        v = M\\g\n",
    "        gvold = gv\n",
    "        gv = dot(g,v)\n",
    "        β = gv/gvold\n",
    "        d = -v+β*d\n",
    "        k += 1\n",
    "    end\n",
    "\n",
    "    if (trace)\n",
    "        iter = [ iter; x ]\n",
    "        return x, iter, k\n",
    "    end\n",
    "\n",
    "    return x, k\n",
    "end"
   ]
  },
  {
   "cell_type": "code",
   "execution_count": null,
   "metadata": {},
   "outputs": [],
   "source": [
    "function ichol(A:: Matrix)\n",
    "\n",
    "    n = size(A,1)\n",
    "    C = zeros(n,n)+I\n",
    "    \n",
    "    for k=1:n\n",
    "        C[k,k] = sqrt(A[k,k])\n",
    "        for i=(k+1):n\n",
    "            if (A[i,k] != 0)\n",
    "                C[i,k] = A[i,k]/A[k,k]    \n",
    "            end\n",
    "        end\n",
    "        for j=(k+1):n\n",
    "            for i=j:n\n",
    "                if (A[i,j] != 0)\n",
    "                    C[i,j] = A[i,j]-A[i,k]*A[j,k]\n",
    "                end\n",
    "            end\n",
    "        end\n",
    "    end\n",
    "\n",
    "    return C\n",
    "end"
   ]
  },
  {
   "cell_type": "code",
   "execution_count": null,
   "metadata": {},
   "outputs": [],
   "source": [
    "C = cholesky(A)\n",
    "C.L"
   ]
  },
  {
   "cell_type": "code",
   "execution_count": null,
   "metadata": {},
   "outputs": [],
   "source": [
    "M = C.L*C.U"
   ]
  },
  {
   "cell_type": "code",
   "execution_count": null,
   "metadata": {},
   "outputs": [],
   "source": [
    "x, iter, k = pcg_quadratic(A, b, x0, M, true)"
   ]
  },
  {
   "cell_type": "code",
   "execution_count": null,
   "metadata": {},
   "outputs": [],
   "source": [
    "C = ichol(A)"
   ]
  },
  {
   "cell_type": "code",
   "execution_count": null,
   "metadata": {},
   "outputs": [],
   "source": [
    "M=C*C'"
   ]
  },
  {
   "cell_type": "code",
   "execution_count": null,
   "metadata": {},
   "outputs": [],
   "source": [
    "x, iter, k = pcg_quadratic(A, b, x0, M, true)"
   ]
  },
  {
   "cell_type": "markdown",
   "metadata": {},
   "source": [
    "An efficient implementation would make use of sparse matrices and specific functions to compute v."
   ]
  },
  {
   "cell_type": "code",
   "execution_count": null,
   "metadata": {},
   "outputs": [],
   "source": []
  }
 ],
 "metadata": {
  "@webio": {
   "lastCommId": null,
   "lastKernelId": null
  },
  "kernelspec": {
   "display_name": "Julia 1.5.0",
   "language": "julia",
   "name": "julia-1.5"
  },
  "language_info": {
   "file_extension": ".jl",
   "mimetype": "application/julia",
   "name": "julia",
   "version": "1.5.0"
  }
 },
 "nbformat": 4,
 "nbformat_minor": 2
}
