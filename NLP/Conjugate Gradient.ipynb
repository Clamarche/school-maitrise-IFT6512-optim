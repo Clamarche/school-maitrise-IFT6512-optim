{
 "cells": [
  {
   "cell_type": "markdown",
   "metadata": {},
   "source": [
    "# Algorithme du gradient conjugué"
   ]
  },
  {
   "cell_type": "code",
   "execution_count": 5,
   "metadata": {},
   "outputs": [],
   "source": [
    "using LinearAlgebra\n",
    "using Optim"
   ]
  },
  {
   "cell_type": "markdown",
   "metadata": {},
   "source": [
    "Résolvez\n",
    "$$\n",
    "\\min_x f(x) = \\frac{1}{2} x^T A x + b^T x + a\n",
    "$$\n",
    "où $A \\succ 0$. En posant $\\nabla f(x) = 0$, c'est équivalent à résoudre le système linéaire $Ax = -b$."
   ]
  },
  {
   "cell_type": "markdown",
   "metadata": {},
   "source": [
    "Construisons la fonction quadratique associée au programme précédent."
   ]
  },
  {
   "cell_type": "code",
   "execution_count": 2,
   "metadata": {},
   "outputs": [
    {
     "data": {
      "text/plain": [
       "#1 (generic function with 1 method)"
      ]
     },
     "execution_count": 2,
     "metadata": {},
     "output_type": "execute_result"
    }
   ],
   "source": [
    "f = x -> 0.5*dot(x,A*x)+dot(b,x)"
   ]
  },
  {
   "cell_type": "markdown",
   "metadata": {},
   "source": [
    "## Un exemple simple\n",
    "\n",
    "Adapté de https://www.rose-hulman.edu/~bryan/lottamath/congrad.pdf\n",
    "\n",
    "Soit\n",
    "$$\n",
    "A =\n",
    "\\begin{pmatrix}\n",
    "3 & 1 & 0 \\\\\n",
    "1 & 2 & 2 \\\\\n",
    "0 & 2 & 4\n",
    "\\end{pmatrix}\n",
    "$$\n",
    "Considérons la fonction à minimiser\n",
    "$$\n",
    "f(x) = \\frac{1}{2} x^TAx,\n",
    "$$\n",
    "et supposons que nous avons déjà calculer\n",
    "\\begin{align*}\n",
    "d_0 &= (1, 0, 0)\\\\\n",
    "d_1 & = (1, −3, 0)\\\\\n",
    "d_2 &= (−2, 6, −5).\n",
    "\\end{align*}"
   ]
  },
  {
   "cell_type": "markdown",
   "metadata": {},
   "source": [
    "Vérifions que $d_0$, $d_1$ et $d_2$ sont $A$-conjugés."
   ]
  },
  {
   "cell_type": "code",
   "execution_count": 2,
   "metadata": {},
   "outputs": [
    {
     "ename": "LoadError",
     "evalue": "UndefVarError: dot not defined",
     "output_type": "error",
     "traceback": [
      "UndefVarError: dot not defined",
      "",
      "Stacktrace:",
      " [1] top-level scope at In[2]:6",
      " [2] include_string(::Function, ::Module, ::String, ::String) at .\\loading.jl:1091",
      " [3] execute_code(::String, ::String) at C:\\Users\\slash\\.julia\\packages\\IJulia\\rWZ9e\\src\\execute_request.jl:27",
      " [4] execute_request(::ZMQ.Socket, ::IJulia.Msg) at C:\\Users\\slash\\.julia\\packages\\IJulia\\rWZ9e\\src\\execute_request.jl:86",
      " [5] #invokelatest#1 at .\\essentials.jl:710 [inlined]",
      " [6] invokelatest at .\\essentials.jl:709 [inlined]",
      " [7] eventloop(::ZMQ.Socket) at C:\\Users\\slash\\.julia\\packages\\IJulia\\rWZ9e\\src\\eventloop.jl:8",
      " [8] (::IJulia.var\"#15#18\")() at .\\task.jl:356"
     ]
    }
   ],
   "source": [
    "A = [ 3.0 1 0 ; 1 2 2 ; 0 2 4]\n",
    "d0 = [ 1.0 0 0 ]'\n",
    "d1 = [ 1.0 -3.0 0.0 ]'\n",
    "d2 = [ -2.0 6.0 -5.0]'\n",
    "\n",
    "println(\"$(dot(d0, A*d1)) $(dot(d0, A*d2)) $(dot(d1, A*d2))\")"
   ]
  },
  {
   "cell_type": "code",
   "execution_count": 4,
   "metadata": {},
   "outputs": [
    {
     "data": {
      "text/plain": [
       "Eigen{Float64,Float64,Array{Float64,2},Array{Float64,1}}\n",
       "values:\n",
       "3-element Array{Float64,1}:\n",
       " 0.47108204270564347\n",
       " 3.167449191108536\n",
       " 5.361468766185826\n",
       "vectors:\n",
       "3×3 Array{Float64,2}:\n",
       " -0.325306   0.916757  0.231804\n",
       "  0.822673   0.15351   0.547398\n",
       " -0.466246  -0.368771  0.804128"
      ]
     },
     "execution_count": 4,
     "metadata": {},
     "output_type": "execute_result"
    }
   ],
   "source": [
    "eigen(A)"
   ]
  },
  {
   "cell_type": "markdown",
   "metadata": {},
   "source": [
    "Prenons comme solution initiale $x_0 = (1, 2, 3)$. Calculons $x_1$, $x_2$ et $x_3$ en utilisant l'algorithme du gradient conjugué. $x_3$ est-il optimal?"
   ]
  },
  {
   "cell_type": "markdown",
   "metadata": {
    "collapsed": true
   },
   "source": [
    "$$\n",
    "\\nabla f(x) = Ax\n",
    "$$"
   ]
  },
  {
   "cell_type": "code",
   "execution_count": 5,
   "metadata": {},
   "outputs": [
    {
     "data": {
      "text/plain": [
       "3-element Array{Float64,1}:\n",
       "  -5.0\n",
       " -11.0\n",
       " -16.0"
      ]
     },
     "execution_count": 5,
     "metadata": {},
     "output_type": "execute_result"
    }
   ],
   "source": [
    "x0 = [1; 2; 3.0]\n",
    "-A*x0"
   ]
  },
  {
   "cell_type": "code",
   "execution_count": 6,
   "metadata": {},
   "outputs": [
    {
     "data": {
      "text/plain": [
       "#3 (generic function with 1 method)"
      ]
     },
     "execution_count": 6,
     "metadata": {},
     "output_type": "execute_result"
    }
   ],
   "source": [
    "f = x -> dot(x,A*x)"
   ]
  },
  {
   "cell_type": "markdown",
   "metadata": {},
   "source": [
    "Nous devons calculer $\\alpha_k$, $k = 0,1,2$, en résolvant\n",
    "$$\n",
    "\\min_{\\alpha} f(x_k + \\alpha d_k)\n",
    "$$"
   ]
  },
  {
   "cell_type": "markdown",
   "metadata": {},
   "source": [
    "Afin d'obtenir $\\alpha_0$, nous devons minimiser\n",
    "\\begin{align*}\n",
    "f(x_0 + \\alpha d_0) &= \\frac{1}{2}\n",
    "\\left(\\begin{pmatrix} 1 & 2 & 3\\end{pmatrix} + \\alpha \\begin{pmatrix} 1 & 0 & 0\\end{pmatrix} \\right)\n",
    "\\begin{pmatrix}\n",
    "3 & 1 & 0 \\\\\n",
    "1 & 2 & 2 \\\\\n",
    "0 & 2 & 4\n",
    "\\end{pmatrix}\n",
    "\\left(\\begin{pmatrix} 1 \\\\ 2 \\\\ 3 \\end{pmatrix} + \\alpha \\begin{pmatrix} 1 \\\\0 \\\\0 \\end{pmatrix} \\right)\n",
    "\\\\\n",
    "& = \\frac{1}{2}\\begin{pmatrix} 1 + \\alpha & 2 & 3 \\end{pmatrix}\n",
    "\\begin{pmatrix}\n",
    "3 & 1 & 0 \\\\\n",
    "1 & 2 & 2 \\\\\n",
    "0 & 2 & 4\n",
    "\\end{pmatrix}\n",
    "\\begin{pmatrix} 1 + \\alpha \\\\ 2 \\\\ 3 \\end{pmatrix}\\\\\n",
    "& = \\frac{1}{2}\\begin{pmatrix} 1 + \\alpha & 2 & 3 \\end{pmatrix}\n",
    "\\begin{pmatrix} 5+3\\alpha \\\\ 11+\\alpha \\\\ 16 \\end{pmatrix}\\\\\n",
    "& = \\frac{1}{2}\n",
    "((1 + \\alpha)(5+3\\alpha) + 22+2\\alpha + 48 ) \\\\\n",
    "& = \\frac{1}{2}\n",
    "( 3\\alpha^2 + 8\\alpha + 5 + 70 + 2\\alpha ) \\\\\n",
    "& = \\frac{3}{2}\\alpha^2 + 5\\alpha+\\frac{75}{2}\n",
    "\\end{align*}\n",
    "par rapport à $\\alpha$."
   ]
  },
  {
   "cell_type": "markdown",
   "metadata": {},
   "source": [
    "Nous pouvons l'obtenir en cherchant le zéro de la dérivée par rapport à $\\alpha$, c'est-à-dire\n",
    "$$\n",
    "\\frac{d}{d\\alpha} f(x+\\alpha d) = 0,\n",
    "$$\n",
    "ou"
   ]
  },
  {
   "cell_type": "markdown",
   "metadata": {},
   "source": [
    "$$\n",
    "d^T \\nabla f(x+\\alpha d) = 0\n",
    "$$"
   ]
  },
  {
   "cell_type": "markdown",
   "metadata": {},
   "source": [
    "Dès lors, nous devons avoir"
   ]
  },
  {
   "cell_type": "markdown",
   "metadata": {},
   "source": [
    "$$\n",
    "3\\alpha + 5 = 0\n",
    "$$\n",
    "Ainsi,\n",
    "$$\n",
    "\\alpha_{0} = -\\frac{5}{3}\n",
    "$$\n",
    "$$\n",
    "x_1 = x_0 - \\frac{5}{3} d_0 = \\begin{pmatrix} -\\frac{2}{3} \\\\ 2 \\\\ 3  \\end{pmatrix}\n",
    "$$"
   ]
  },
  {
   "cell_type": "markdown",
   "metadata": {},
   "source": [
    "Nous pouvons aussi directement calculer $\\alpha_0$ comme\n",
    "$$\n",
    "\\alpha_0 = - \\frac{d_0^T\\nabla f(x_0)}{d_0^TAd_0}\n",
    "$$"
   ]
  },
  {
   "cell_type": "code",
   "execution_count": 7,
   "metadata": {},
   "outputs": [
    {
     "data": {
      "text/plain": [
       "#5 (generic function with 1 method)"
      ]
     },
     "execution_count": 7,
     "metadata": {},
     "output_type": "execute_result"
    }
   ],
   "source": [
    "x0 = [1 ; 2 ; 3.0]\n",
    "∇f = x -> A*x"
   ]
  },
  {
   "cell_type": "code",
   "execution_count": 8,
   "metadata": {},
   "outputs": [
    {
     "data": {
      "text/plain": [
       "-1.6666666666666667"
      ]
     },
     "execution_count": 8,
     "metadata": {},
     "output_type": "execute_result"
    }
   ],
   "source": [
    "d0 = [1 ; 0 ; 0]\n",
    "α0 = -dot(d0,∇f(x0))/dot(d0,A*d0)"
   ]
  },
  {
   "cell_type": "code",
   "execution_count": 9,
   "metadata": {},
   "outputs": [
    {
     "data": {
      "text/plain": [
       "3-element Array{Float64,1}:\n",
       " -0.6666666666666667\n",
       "  2.0\n",
       "  3.0"
      ]
     },
     "execution_count": 9,
     "metadata": {},
     "output_type": "execute_result"
    }
   ],
   "source": [
    "x1 = x0+α0*d0"
   ]
  },
  {
   "cell_type": "markdown",
   "metadata": {},
   "source": [
    "Une recherche linéaire à partir de $x_1$ dans la direction $d_1$ exige de minimiser\n",
    "\\begin{align*}\n",
    "f(x_1 + \\alpha d_1) & = \\left(\\begin{pmatrix} -\\frac{2}{3} & 2 & 3 \\end{pmatrix} + \\alpha_1\\begin{pmatrix} 1 & -3 & 0 \\end{pmatrix} \\right)\\begin{pmatrix} 3 & 1 & 0 \\\\\n",
    "1 & 2 & 2 \\\\\n",
    "0 & 2 & 4 \\end{pmatrix}\\left(\\begin{pmatrix}  -\\frac{2}{3} \\\\ 2 \\\\ 3 \\end{pmatrix} +  \\alpha_1\\begin{pmatrix} 1 \\\\ -3 \\\\ 0 \\end{pmatrix} \\right) \\\\\n",
    "& =\\frac{15}{2}\\alpha^2 - 28\\alpha + \\frac{100}{3},\n",
    "\\end{align*}\n",
    "ce qui a lieu en\n",
    "$$\n",
    "\\alpha_1 = \\frac{28}{15},\n",
    "$$\n",
    "donnant\n",
    "$$\n",
    "x_2 = x_1 + \\frac{28}{15}d_1 =\n",
    "    \\begin{pmatrix}\n",
    "     \\frac{6}{5} \\\\ \\frac{-18}{5} \\\\ 3\n",
    "    \\end{pmatrix}.\n",
    "$$"
   ]
  },
  {
   "cell_type": "code",
   "execution_count": 11,
   "metadata": {},
   "outputs": [
    {
     "data": {
      "text/plain": [
       "(3.6666666666666665, 4.8373546489791295)"
      ]
     },
     "execution_count": 11,
     "metadata": {},
     "output_type": "execute_result"
    }
   ],
   "source": [
    "norm([-2/3; 2 ;3]), norm([6/5; -18/5 ; 3])"
   ]
  },
  {
   "cell_type": "code",
   "execution_count": 12,
   "metadata": {},
   "outputs": [
    {
     "data": {
      "text/plain": [
       "1.8666666666666665"
      ]
     },
     "execution_count": 12,
     "metadata": {},
     "output_type": "execute_result"
    }
   ],
   "source": [
    "α1 = -dot(d1,A*x1)/dot(d1,A*d1)"
   ]
  },
  {
   "cell_type": "code",
   "execution_count": 13,
   "metadata": {},
   "outputs": [
    {
     "data": {
      "text/plain": [
       "1.8666666666666667"
      ]
     },
     "execution_count": 13,
     "metadata": {},
     "output_type": "execute_result"
    }
   ],
   "source": [
    "28/15"
   ]
  },
  {
   "cell_type": "code",
   "execution_count": 14,
   "metadata": {},
   "outputs": [
    {
     "data": {
      "text/plain": [
       "3×1 Array{Float64,2}:\n",
       "  1.1999999999999997\n",
       " -3.5999999999999996\n",
       "  3.0"
      ]
     },
     "execution_count": 14,
     "metadata": {},
     "output_type": "execute_result"
    }
   ],
   "source": [
    "x2 = x1+α1*d1"
   ]
  },
  {
   "cell_type": "code",
   "execution_count": 15,
   "metadata": {},
   "outputs": [
    {
     "data": {
      "text/plain": [
       "(3.6666666666666665, 4.8373546489791295)"
      ]
     },
     "execution_count": 15,
     "metadata": {},
     "output_type": "execute_result"
    }
   ],
   "source": [
    "norm(x1), norm(x2)"
   ]
  },
  {
   "cell_type": "markdown",
   "metadata": {},
   "source": [
    "La recherche linéaire finale à partir de $x_2$ dans la direction $d_2$ requiert de minimiser\n",
    "$$\n",
    "f(x_2 + \\alpha d_2) = 20 \\alpha^2 - 24\\alpha + \\frac{36}{5},\n",
    "$$\n",
    "ce qui a lieu en\n",
    "$$\n",
    "\\alpha_2 = \\frac{3}{5},\n",
    "$$\n",
    "donnant\n",
    "$$\n",
    "x_3 = x_2 + \\frac{3}{5}d_2 =\n",
    "    \\begin{pmatrix}\n",
    "     0 \\\\ 0 \\\\ 0\n",
    "    \\end{pmatrix},\n",
    "$$\n",
    "ce qui est bien entendu correct."
   ]
  },
  {
   "cell_type": "markdown",
   "metadata": {},
   "source": [
    "Similairement, nous pouvons calculer le nouveau point comme"
   ]
  },
  {
   "cell_type": "code",
   "execution_count": 16,
   "metadata": {},
   "outputs": [
    {
     "data": {
      "text/plain": [
       "3×1 Array{Float64,2}:\n",
       " -4.440892098500626e-16\n",
       "  8.881784197001252e-16\n",
       " -4.440892098500626e-16"
      ]
     },
     "execution_count": 16,
     "metadata": {},
     "output_type": "execute_result"
    }
   ],
   "source": [
    "α2 = -dot(d2,A*x2)/dot(d2,A*d2)\n",
    "x3 = x2+α2*d2"
   ]
  },
  {
   "cell_type": "markdown",
   "metadata": {},
   "source": [
    "## Une implémentation naïve\n",
    "\n",
    "Une première version de l'algorithme du gradient conjugué suit."
   ]
  },
  {
   "cell_type": "code",
   "execution_count": 19,
   "metadata": {},
   "outputs": [
    {
     "data": {
      "text/plain": [
       "cg_quadratic (generic function with 2 methods)"
      ]
     },
     "execution_count": 19,
     "metadata": {},
     "output_type": "execute_result"
    }
   ],
   "source": [
    "function cg_quadratic(A:: Matrix, b:: Vector, x0:: Vector, trace:: Bool = false)\n",
    "    n = length(x0)\n",
    "    x = x0\n",
    "    g = b+A*x\n",
    "    d = -g\n",
    "    if (trace)\n",
    "        iter = [ x ]\n",
    "        iterg = [ norm(g) ]\n",
    "        iterd = [ norm(d) ]\n",
    "    end\n",
    "    k = 0\n",
    "    \n",
    "    for k = 1:n-1\n",
    "        Ad = A*d\n",
    "        normd = dot(d,Ad)\n",
    "        α = -dot(d,g)/normd\n",
    "        x += α*d\n",
    "        if (trace)\n",
    "            iter = [ iter; [x] ]\n",
    "            iterg = [ iterg; norm(g)]\n",
    "            iterd = [ iterd; norm(d) ]\n",
    "        end\n",
    "        g = b+A*x\n",
    "        β = dot(g,Ad)/normd\n",
    "        d = -g+β*d\n",
    "    end\n",
    "\n",
    "    normd = dot(d,A*d)\n",
    "    α = -dot(d,g)/normd\n",
    "    x += α*d\n",
    "    if (trace)\n",
    "        g = b+A*x # g must be equal to 0\n",
    "        iter = [ iter; [x] ]\n",
    "        iterg = [ iterg; norm(g)]\n",
    "        iterd = [ iterd; norm(d) ]\n",
    "        return x, iter, iterg, iterd\n",
    "    end\n",
    "    \n",
    "    return x\n",
    "end"
   ]
  },
  {
   "cell_type": "markdown",
   "metadata": {},
   "source": [
    "Considérons l'exemple simple"
   ]
  },
  {
   "cell_type": "code",
   "execution_count": 18,
   "metadata": {},
   "outputs": [
    {
     "data": {
      "text/plain": [
       "2-element Array{Float64,1}:\n",
       " -0.6666666666666666\n",
       "  0.3333333333333333"
      ]
     },
     "execution_count": 18,
     "metadata": {},
     "output_type": "execute_result"
    }
   ],
   "source": [
    "A = [2 1; 1 2]\n",
    "b = [1, 0]\n",
    "A\\(-b)"
   ]
  },
  {
   "cell_type": "markdown",
   "metadata": {},
   "source": [
    "Nous voulons résoudre\n",
    "$$\n",
    "    \\min_{\\alpha} f(x) = \\frac{1}{2}x^TAx+b^Tx+c\n",
    "$$"
   ]
  },
  {
   "cell_type": "markdown",
   "metadata": {},
   "source": [
    "Ou, de manière équivalente, nous résolvons\n",
    "$$\n",
    "    c+\\min_{\\alpha} f(x) = \\frac{1}{2}x^TAx+b^Tx\n",
    "$$"
   ]
  },
  {
   "cell_type": "code",
   "execution_count": 19,
   "metadata": {},
   "outputs": [
    {
     "data": {
      "text/plain": [
       "([-0.6666666666666666, 0.3333333333333333], [[0.0, 0.0], [-0.5, 0.0], [-0.6666666666666666, 0.3333333333333333]], [1.0, 1.0, 0.0], [1.0, 1.0, 0.5590169943749475])"
      ]
     },
     "execution_count": 19,
     "metadata": {},
     "output_type": "execute_result"
    }
   ],
   "source": [
    "cg_quadratic(A, b, [0, 0], true)"
   ]
  },
  {
   "cell_type": "markdown",
   "metadata": {},
   "source": [
    "Que se passe-t-il si $A$ n'est pas définie positive?"
   ]
  },
  {
   "cell_type": "code",
   "execution_count": 20,
   "metadata": {},
   "outputs": [
    {
     "data": {
      "text/plain": [
       "2-element Array{Float64,1}:\n",
       "  0.3333333333333333\n",
       " -0.6666666666666666"
      ]
     },
     "execution_count": 20,
     "metadata": {},
     "output_type": "execute_result"
    }
   ],
   "source": [
    "A = [ 1 2 ; 2 1]\n",
    "A\\(-b)"
   ]
  },
  {
   "cell_type": "code",
   "execution_count": 21,
   "metadata": {},
   "outputs": [
    {
     "data": {
      "text/plain": [
       "([0.33333333333333326, -0.6666666666666666], [[0.0, 0.0], [-1.0, 0.0], [0.33333333333333326, -0.6666666666666666]], [1.0, 1.0, 1.1102230246251565e-16], [1.0, 1.0, 4.47213595499958])"
      ]
     },
     "execution_count": 21,
     "metadata": {},
     "output_type": "execute_result"
    }
   ],
   "source": [
    "cg_quadratic(A, b, [0, 0], true)"
   ]
  },
  {
   "cell_type": "code",
   "execution_count": 22,
   "metadata": {},
   "outputs": [
    {
     "data": {
      "text/plain": [
       "-3.0"
      ]
     },
     "execution_count": 22,
     "metadata": {},
     "output_type": "execute_result"
    }
   ],
   "source": [
    "det(A)"
   ]
  },
  {
   "cell_type": "code",
   "execution_count": 23,
   "metadata": {},
   "outputs": [
    {
     "data": {
      "text/plain": [
       "Eigen{Float64,Float64,Array{Float64,2},Array{Float64,1}}\n",
       "values:\n",
       "2-element Array{Float64,1}:\n",
       " -1.0\n",
       "  3.0\n",
       "vectors:\n",
       "2×2 Array{Float64,2}:\n",
       " -0.707107  0.707107\n",
       "  0.707107  0.707107"
      ]
     },
     "execution_count": 23,
     "metadata": {},
     "output_type": "execute_result"
    }
   ],
   "source": [
    "eigen(A)"
   ]
  },
  {
   "cell_type": "code",
   "execution_count": 24,
   "metadata": {},
   "outputs": [
    {
     "data": {
      "text/plain": [
       "([0.3333333333333335, -0.6666666666666667], [[1.0, 1.0], [-0.36986301369863006, -0.02739726027397249], [0.3333333333333335, -0.6666666666666667]], [5.0, 5.0, 2.220446049250313e-16], [5.0, 5.0, 0.9763790695367754])"
      ]
     },
     "execution_count": 24,
     "metadata": {},
     "output_type": "execute_result"
    }
   ],
   "source": [
    "cg_quadratic(A, b, [1, 1], true)"
   ]
  },
  {
   "cell_type": "code",
   "execution_count": 25,
   "metadata": {},
   "outputs": [
    {
     "data": {
      "text/plain": [
       "-0.3333333333333333"
      ]
     },
     "execution_count": 25,
     "metadata": {},
     "output_type": "execute_result"
    }
   ],
   "source": [
    "f([1/3,-2/3])"
   ]
  },
  {
   "cell_type": "code",
   "execution_count": 26,
   "metadata": {},
   "outputs": [
    {
     "data": {
      "text/plain": [
       "0"
      ]
     },
     "execution_count": 26,
     "metadata": {},
     "output_type": "execute_result"
    }
   ],
   "source": [
    "f([0,0])"
   ]
  },
  {
   "cell_type": "markdown",
   "metadata": {},
   "source": [
    "Le gradient conjugué trouve la solution du système linéaire, laquelle correspond à un point critique au premier ordre de la fonction."
   ]
  },
  {
   "cell_type": "code",
   "execution_count": 27,
   "metadata": {},
   "outputs": [
    {
     "data": {
      "text/plain": [
       "#7 (generic function with 1 method)"
      ]
     },
     "execution_count": 27,
     "metadata": {},
     "output_type": "execute_result"
    }
   ],
   "source": [
    "∇f = x -> A*x+b"
   ]
  },
  {
   "cell_type": "code",
   "execution_count": 28,
   "metadata": {},
   "outputs": [
    {
     "data": {
      "text/plain": [
       "2-element Array{Float64,1}:\n",
       " 0.0\n",
       " 0.0"
      ]
     },
     "execution_count": 28,
     "metadata": {},
     "output_type": "execute_result"
    }
   ],
   "source": [
    "x = [1.0/3; -2.0/3]\n",
    "∇f(x)"
   ]
  },
  {
   "cell_type": "code",
   "execution_count": 29,
   "metadata": {},
   "outputs": [
    {
     "data": {
      "text/plain": [
       "2-element Array{Int64,1}:\n",
       " 4\n",
       " 3"
      ]
     },
     "execution_count": 29,
     "metadata": {},
     "output_type": "execute_result"
    }
   ],
   "source": [
    "x = [1; 1]\n",
    "∇f(x)"
   ]
  },
  {
   "cell_type": "code",
   "execution_count": 30,
   "metadata": {},
   "outputs": [
    {
     "data": {
      "text/plain": [
       "#9 (generic function with 1 method)"
      ]
     },
     "execution_count": 30,
     "metadata": {},
     "output_type": "execute_result"
    }
   ],
   "source": [
    "step= x -> x-α*∇f(x)"
   ]
  },
  {
   "cell_type": "code",
   "execution_count": 31,
   "metadata": {},
   "outputs": [
    {
     "data": {
      "text/plain": [
       "6886"
      ]
     },
     "execution_count": 31,
     "metadata": {},
     "output_type": "execute_result"
    }
   ],
   "source": [
    "α = 10\n",
    "dot(step(x),A*step(x))"
   ]
  },
  {
   "cell_type": "code",
   "execution_count": 32,
   "metadata": {},
   "outputs": [
    {
     "data": {
      "text/plain": [
       "Eigen{Float64,Float64,Array{Float64,2},Array{Float64,1}}\n",
       "values:\n",
       "2-element Array{Float64,1}:\n",
       " -1.0\n",
       "  3.0\n",
       "vectors:\n",
       "2×2 Array{Float64,2}:\n",
       " -0.707107  0.707107\n",
       "  0.707107  0.707107"
      ]
     },
     "execution_count": 32,
     "metadata": {},
     "output_type": "execute_result"
    }
   ],
   "source": [
    "λ, u = eigen(A)"
   ]
  },
  {
   "cell_type": "code",
   "execution_count": 33,
   "metadata": {},
   "outputs": [
    {
     "data": {
      "text/plain": [
       "2×2 Array{Float64,2}:\n",
       " -0.707107  0.707107\n",
       "  0.707107  0.707107"
      ]
     },
     "execution_count": 33,
     "metadata": {},
     "output_type": "execute_result"
    }
   ],
   "source": [
    "u"
   ]
  },
  {
   "cell_type": "code",
   "execution_count": 36,
   "metadata": {},
   "outputs": [
    {
     "data": {
      "text/plain": [
       "2-element Array{Float64,1}:\n",
       "  0.7071067811865475\n",
       " -0.7071067811865475"
      ]
     },
     "execution_count": 36,
     "metadata": {},
     "output_type": "execute_result"
    }
   ],
   "source": [
    "x = u[:,1] # premier vecteur propre associé à λ = -1\n",
    "A*x"
   ]
  },
  {
   "cell_type": "code",
   "execution_count": 38,
   "metadata": {},
   "outputs": [
    {
     "data": {
      "text/plain": [
       "1.1102230246251565e-16"
      ]
     },
     "execution_count": 38,
     "metadata": {},
     "output_type": "execute_result"
    }
   ],
   "source": [
    "1.0-norm(x)"
   ]
  },
  {
   "cell_type": "code",
   "execution_count": 39,
   "metadata": {},
   "outputs": [
    {
     "data": {
      "text/plain": [
       "-106.05992052357223"
      ]
     },
     "execution_count": 39,
     "metadata": {},
     "output_type": "execute_result"
    }
   ],
   "source": [
    "α = 10\n",
    "f = x -> 0.5*dot(x,A*x)+dot(b,x)\n",
    "f(step(x))"
   ]
  },
  {
   "cell_type": "code",
   "execution_count": 40,
   "metadata": {},
   "outputs": [
    {
     "data": {
      "text/plain": [
       "-1.417629483042249e6"
      ]
     },
     "execution_count": 40,
     "metadata": {},
     "output_type": "execute_result"
    }
   ],
   "source": [
    "α = 1000\n",
    "dot(step(x),A*step(x))+dot(b,x)"
   ]
  },
  {
   "cell_type": "code",
   "execution_count": 41,
   "metadata": {},
   "outputs": [
    {
     "data": {
      "text/plain": [
       "-1.2071067811865475"
      ]
     },
     "execution_count": 41,
     "metadata": {},
     "output_type": "execute_result"
    }
   ],
   "source": [
    "f(x)"
   ]
  },
  {
   "cell_type": "code",
   "execution_count": 43,
   "metadata": {},
   "outputs": [
    {
     "data": {
      "text/plain": [
       "0.16666666666666666"
      ]
     },
     "execution_count": 43,
     "metadata": {},
     "output_type": "execute_result"
    }
   ],
   "source": [
    "x = [1/3.0; -2/3]\n",
    "f(x)"
   ]
  },
  {
   "cell_type": "code",
   "execution_count": 45,
   "metadata": {},
   "outputs": [
    {
     "data": {
      "text/plain": [
       "([NaN, NaN], [[0.3333333333333333, -0.6666666666666666], [NaN, NaN], [NaN, NaN]], [0.0, 0.0, NaN], [0.0, 0.0, NaN])"
      ]
     },
     "execution_count": 45,
     "metadata": {},
     "output_type": "execute_result"
    }
   ],
   "source": [
    "cg_quadratic(A, b, x, true)"
   ]
  },
  {
   "cell_type": "markdown",
   "metadata": {},
   "source": [
    "Nous devons incorporer un test sur $\\nabla f(x_k)$!"
   ]
  },
  {
   "cell_type": "code",
   "execution_count": 46,
   "metadata": {},
   "outputs": [
    {
     "data": {
      "text/plain": [
       "Eigen{Float64,Float64,Array{Float64,2},Array{Float64,1}}\n",
       "values:\n",
       "2-element Array{Float64,1}:\n",
       " 1.0\n",
       " 4.0\n",
       "vectors:\n",
       "2×2 Array{Float64,2}:\n",
       " 1.0  0.5547\n",
       " 0.0  0.83205"
      ]
     },
     "execution_count": 46,
     "metadata": {},
     "output_type": "execute_result"
    }
   ],
   "source": [
    "A = [ 1 2 ; 0 4 ]\n",
    "eigen(A)"
   ]
  },
  {
   "cell_type": "code",
   "execution_count": 47,
   "metadata": {},
   "outputs": [
    {
     "data": {
      "text/plain": [
       "Eigen{Float64,Float64,Array{Float64,2},Array{Float64,1}}\n",
       "values:\n",
       "2-element Array{Float64,1}:\n",
       "  0.7917560805262003\n",
       " 20.2082439194738\n",
       "vectors:\n",
       "2×2 Array{Float64,2}:\n",
       " -0.885022  0.465549\n",
       "  0.465549  0.885022"
      ]
     },
     "execution_count": 47,
     "metadata": {},
     "output_type": "execute_result"
    }
   ],
   "source": [
    "eigen(A*A')"
   ]
  },
  {
   "cell_type": "code",
   "execution_count": 48,
   "metadata": {},
   "outputs": [
    {
     "data": {
      "text/plain": [
       "Eigen{Float64,Float64,Array{Float64,2},Array{Float64,1}}\n",
       "values:\n",
       "2-element Array{Float64,1}:\n",
       " 1.381966011250105\n",
       " 3.618033988749895\n",
       "vectors:\n",
       "2×2 Array{Float64,2}:\n",
       "  0.525731  -0.850651\n",
       " -0.850651  -0.525731"
      ]
     },
     "execution_count": 48,
     "metadata": {},
     "output_type": "execute_result"
    }
   ],
   "source": [
    "A = [ 3 1; 1 2 ]\n",
    "eigen(A)"
   ]
  },
  {
   "cell_type": "code",
   "execution_count": 49,
   "metadata": {},
   "outputs": [
    {
     "data": {
      "text/plain": [
       "Eigen{Float64,Float64,Array{Float64,2},Array{Float64,1}}\n",
       "values:\n",
       "2-element Array{Float64,1}:\n",
       "  1.9098300562505257\n",
       " 13.090169943749475\n",
       "vectors:\n",
       "2×2 Array{Float64,2}:\n",
       "  0.525731  -0.850651\n",
       " -0.850651  -0.525731"
      ]
     },
     "execution_count": 49,
     "metadata": {},
     "output_type": "execute_result"
    }
   ],
   "source": [
    "eigen(A*A')"
   ]
  },
  {
   "cell_type": "markdown",
   "metadata": {},
   "source": [
    "Un exemple plus complexe."
   ]
  },
  {
   "cell_type": "code",
   "execution_count": 6,
   "metadata": {},
   "outputs": [
    {
     "data": {
      "text/plain": [
       "500-element Array{Float64,1}:\n",
       " 0.0\n",
       " 0.0\n",
       " 0.0\n",
       " 0.0\n",
       " 0.0\n",
       " 0.0\n",
       " 0.0\n",
       " 0.0\n",
       " 0.0\n",
       " 0.0\n",
       " 0.0\n",
       " 0.0\n",
       " 0.0\n",
       " ⋮\n",
       " 0.0\n",
       " 0.0\n",
       " 0.0\n",
       " 0.0\n",
       " 0.0\n",
       " 0.0\n",
       " 0.0\n",
       " 0.0\n",
       " 0.0\n",
       " 0.0\n",
       " 0.0\n",
       " 0.0"
      ]
     },
     "execution_count": 6,
     "metadata": {},
     "output_type": "execute_result"
    }
   ],
   "source": [
    "n = 500;\n",
    "m = 600;\n",
    "A = randn(n,m);\n",
    "A = A * A';  # A is now a positive semi-definite matrix\n",
    "A = A+I # A is positive definite\n",
    "b = zeros(n)\n",
    "for i = 1:n\n",
    "  b[i] = randn()\n",
    "end\n",
    "x0 = zeros(n)"
   ]
  },
  {
   "cell_type": "code",
   "execution_count": 7,
   "metadata": {},
   "outputs": [
    {
     "data": {
      "text/plain": [
       "500-element Array{Float64,1}:\n",
       " -0.01475579536436628\n",
       "  0.036578110372583725\n",
       "  0.01672625645651456\n",
       "  0.034223626543637746\n",
       " -0.007132645995545274\n",
       "  0.0033017990305317067\n",
       "  0.03296712769649596\n",
       " -0.02661108652116706\n",
       "  0.03752351178372709\n",
       "  0.02445558975380169\n",
       " -0.0007835192227863454\n",
       " -0.014472887803839419\n",
       "  0.013241825498163964\n",
       "  ⋮\n",
       "  0.018483288340867498\n",
       "  0.004774186652439695\n",
       " -0.04323885571695603\n",
       "  0.03132330755198638\n",
       " -0.02009264974762955\n",
       " -0.02873095994706678\n",
       "  0.0036079613485544\n",
       "  0.047772056885805186\n",
       "  0.01514429356124351\n",
       "  0.009231913597173314\n",
       " -0.012614998516105307\n",
       "  0.01646393090341269"
      ]
     },
     "execution_count": 7,
     "metadata": {},
     "output_type": "execute_result"
    }
   ],
   "source": [
    "b1 = A\\(-b)"
   ]
  },
  {
   "cell_type": "code",
   "execution_count": 52,
   "metadata": {},
   "outputs": [],
   "source": [
    "b2, iter, iterg, iterd = cg_quadratic(A, b, x0, true);"
   ]
  },
  {
   "cell_type": "code",
   "execution_count": 53,
   "metadata": {},
   "outputs": [
    {
     "data": {
      "text/plain": [
       "1.734523990726017e-15"
      ]
     },
     "execution_count": 53,
     "metadata": {},
     "output_type": "execute_result"
    }
   ],
   "source": [
    "norm(b1-b2)"
   ]
  },
  {
   "cell_type": "code",
   "execution_count": 54,
   "metadata": {},
   "outputs": [
    {
     "data": {
      "text/plain": [
       "501-element Array{Float64,1}:\n",
       " 22.831483117055008\n",
       " 22.831483117055008\n",
       " 21.686547381952103\n",
       " 18.47405790416008\n",
       " 17.679856509828976\n",
       " 15.479270961191991\n",
       " 15.054833502002992\n",
       " 13.814610447800193\n",
       " 12.63503173040512\n",
       " 11.52554330836719\n",
       "  9.575193528243885\n",
       "  8.789891097025146\n",
       "  8.034678645994301\n",
       "  ⋮\n",
       "  1.4908635599264138e-13\n",
       "  1.5371720924180976e-13\n",
       "  1.4106127271118373e-13\n",
       "  1.3383977941484951e-13\n",
       "  1.379272568519458e-13\n",
       "  1.4489099844039407e-13\n",
       "  1.5035721853910728e-13\n",
       "  1.5847713661217427e-13\n",
       "  1.498716828183743e-13\n",
       "  1.5549970131117184e-13\n",
       "  1.4955984269052359e-13\n",
       "  1.5018105908603662e-13"
      ]
     },
     "execution_count": 54,
     "metadata": {},
     "output_type": "execute_result"
    }
   ],
   "source": [
    "iterg"
   ]
  },
  {
   "cell_type": "code",
   "execution_count": 55,
   "metadata": {},
   "outputs": [
    {
     "data": {
      "text/plain": [
       "501-element Array{Float64,1}:\n",
       " 22.831483117055008\n",
       " 22.831483117055008\n",
       " 29.910303425502924\n",
       " 28.502776208269697\n",
       " 31.52834999401924\n",
       " 28.700365586087482\n",
       " 31.04293159827266\n",
       " 29.564980127202784\n",
       " 27.772256332956076\n",
       " 25.823717874841616\n",
       " 20.232614304274787\n",
       " 19.182387728850454\n",
       " 17.928887193547382\n",
       "  ⋮\n",
       "  1.4708663821848665e-13\n",
       "  1.5927685062878838e-13\n",
       "  1.4176822762880018e-13\n",
       "  1.3711902855630244e-13\n",
       "  1.4273471264141864e-13\n",
       "  1.4652378455710525e-13\n",
       "  1.5095170394201812e-13\n",
       "  1.6600005925472444e-13\n",
       "  1.5576346396201643e-13\n",
       "  1.558812612998778e-13\n",
       "  1.541227411837348e-13\n",
       "  1.509204050578899e-13"
      ]
     },
     "execution_count": 55,
     "metadata": {},
     "output_type": "execute_result"
    }
   ],
   "source": [
    "iterd"
   ]
  },
  {
   "cell_type": "markdown",
   "metadata": {},
   "source": [
    "Cela fonctionne, mais devons-nous vraiment faire 500 itérations? Nous serions satisfaits si nous sommes proches de la solution. Nous pouvons mesurer le résidu du système linéaire residual of the linear system\n",
    "$$\n",
    "r = b+Ax,\n",
    "$$\n",
    "ce qui n'est rien d'autre que le gradient de la fonction objectif du problème de minimisation quadratique."
   ]
  },
  {
   "cell_type": "code",
   "execution_count": 56,
   "metadata": {},
   "outputs": [
    {
     "data": {
      "text/plain": [
       "501-element Array{Array{Float64,1},1}:\n",
       " [0.0, 0.0, 0.0, 0.0, 0.0, 0.0, 0.0, 0.0, 0.0, 0.0  …  0.0, 0.0, 0.0, 0.0, 0.0, 0.0, 0.0, 0.0, 0.0, 0.0]\n",
       " [-0.00017027618072256812, 0.0002731925457880143, 0.0010684115984472631, -0.0004017684535668579, -0.0010245312224726674, -0.0033353595759318296, -0.0011646300744951321, -0.002333894483727998, -0.0007008411809605268, -0.0016820699483587867  …  -0.00033178888615875105, -0.0012883893166555226, -0.0007292784898442888, -0.0004473856499263748, 0.00011689192235378118, 0.003198233491125432, -0.00021722337122564498, 0.0018325294753949153, -0.0006225107923252299, 0.00033662030259510396]\n",
       " [-3.825733040628996e-5, -0.0003223953427695385, 0.004278562464667181, -0.0011602153475444349, 0.00037342277557283945, -0.0033164358576595614, -0.00658636068216885, 1.0174343228482909e-5, -0.0019774710069156262, -0.003995304270415299  …  -0.0021765754771554506, -0.0037361475689225527, -0.0007448318703374449, -0.000944699994161559, -0.0013794303177228529, 0.004659504036842848, -0.0030182286982768725, 0.003129589959577411, -0.0018486627567421833, -0.001551998345497295]\n",
       " [-0.0009687508094096221, -0.0012113413654829745, 0.009261801575322727, -0.0014960915779252298, 0.0003044991820189101, -0.004808140845402087, -0.01094986819270127, 0.0014669464674721456, 6.324677251156935e-5, -0.006368965281978126  …  -0.0036986628836503423, -0.007028608949639383, 0.0022645701909076743, -0.0005257981236053424, -0.0045072193300721795, 0.004912497759309562, -0.0031643643789508293, 0.004278173592058657, -0.0037859122551629014, -0.004889960564238987]\n",
       " [-0.00041331449615902946, -0.00026821680165194583, 0.013720231595391348, -0.0012325284793167014, 0.0015969350138448995, -0.008323147685437113, -0.01586123181310767, 0.003690655006309814, 0.0015996565953244938, -0.0092496271669177  …  -0.004726854653268168, -0.009683038679590002, 0.0046043961788646585, 0.00028861100200613433, -0.005934367096884944, 0.0037710528769182693, -0.0044993522718303845, 0.006788359751665043, -0.005952341212543096, -0.00925333296478956]\n",
       " [0.00016061066508868708, -0.0016296778318116547, 0.01689907074483584, 0.00036370691883996255, 0.003937486517375532, -0.010252292008796004, -0.01908541844517292, 0.005918879199184523, 0.003521484427706463, -0.012315762789131194  …  -0.005080876384755406, -0.010792037707296524, 0.007405385886139608, -0.0002534880462370366, -0.005647797352462294, 0.002961161928711301, -0.005365463246381495, 0.010927900614077403, -0.00616956142726666, -0.011463232913814592]\n",
       " [0.002069739825142452, -0.002575389636012172, 0.019404255211854994, 0.0015126616849756433, 0.004890673376803177, -0.013416865262545458, -0.022559776628447298, 0.008496341759434707, 0.004994137823079783, -0.014130431192865712  …  -0.005729396213627307, -0.012554279162559644, 0.009728535626708716, -0.0001546912461196634, -0.004690217936652089, 0.003920171916577379, -0.006152574167867901, 0.01379898537212692, -0.00495103278481923, -0.012895867994097199]\n",
       " [0.0033661480698980823, -0.005650542785595985, 0.01985590348677428, 0.0031392853525828413, 0.004974776014643892, -0.01541044476092839, -0.025642581918644748, 0.009752670472293546, 0.006309026754410406, -0.014932401132450406  …  -0.006160245763309419, -0.01347875933165458, 0.012808115730101932, 0.00020733964187238775, -0.003840596379979774, 0.005871532868460593, -0.005764434309482882, 0.016214748076133413, -0.0037309206037605264, -0.014225697966498254]\n",
       " [0.004410301279881781, -0.008919635428513983, 0.022113933051935673, 0.0057618871902507494, 0.0048839229848960004, -0.016499473433488406, -0.028999154367487717, 0.009387194982122359, 0.007458789911898562, -0.013830704490230121  …  -0.005836709619340949, -0.01596252919516325, 0.016019260328679442, 0.0003111887164219211, -0.001528938759049428, 0.0072685329243208285, -0.004217260877156452, 0.019344084730673963, -0.0017299780980570322, -0.015926441787192113]\n",
       " [0.006549751469256166, -0.012184249586710244, 0.022791191348005637, 0.00758251819047794, 0.005832863293869383, -0.016963674123143542, -0.0330336299184041, 0.007968534606135792, 0.006876425287660268, -0.012349288743458706  …  -0.006742744118290468, -0.018587276419069126, 0.01822844450307248, 0.0003251832490459578, 2.533575049167274e-5, 0.008318517612787499, -0.002019857220243534, 0.022361924595113197, -0.0017929355472276777, -0.017178166237323385]\n",
       " [0.0068070652370784595, -0.014549703266501344, 0.02320546240178325, 0.009563178801481505, 0.007511435174038262, -0.015551222331094367, -0.03683909288049388, 0.006221163209264177, 0.006873804037170058, -0.009845671724895214  …  -0.006282106679619921, -0.019941410194398473, 0.018952196984912233, 0.00029745184707515173, 0.0012802344310378457, 0.009872408384776696, -0.0010989905026705534, 0.025015372035721885, -0.0009611616566995573, -0.017861447399178082]\n",
       " [0.006618368907789586, -0.01661414786390397, 0.024046889832113137, 0.012219060686682128, 0.008624337662525352, -0.014061394733119277, -0.039656467994698644, 0.004758732274541038, 0.006835020345168928, -0.007381917479388232  …  -0.005692719547795805, -0.020938160032748454, 0.019660339973430824, 0.0020057278262294786, 0.00086483551185769, 0.011017728315515642, -0.0012639411977705115, 0.02634412050865257, -0.0007469235995868964, -0.018610388856253293]\n",
       " [0.0079531562415989, -0.019112390097834317, 0.024030172790893922, 0.014596763347827781, 0.009503219083033525, -0.012430264291622015, -0.04258628042046944, 0.003722718783554013, 0.00628845702708368, -0.00503173355922387  …  -0.005739619628170505, -0.023549997754847642, 0.0194402749501878, 0.004689965941590258, 0.0008074988779245459, 0.011652681248067, -0.0010400216321288028, 0.02773550951521039, -0.000659540454687034, -0.018250919577856115]\n",
       " ⋮\n",
       " [0.013689587789839907, -0.018853150051332906, 0.03181609788745158, 0.02018141425238524, 0.015775635976845087, -0.0017730089313001552, -0.06801379207495291, -0.0016406184215073877, 0.0017004913653938618, 0.004529045566161428  …  -0.010666867889729254, -0.029847313763195604, 0.014563686988772636, 0.023240255799628066, -0.004510311277546432, 0.015997107771635793, 0.004398135807853774, 0.03323135792366976, -0.002515508470793231, -0.014162210400825]\n",
       " [0.013689587789839905, -0.018853150051332913, 0.031816097887451586, 0.020181414252385236, 0.01577563597684507, -0.0017730089313001652, -0.06801379207495291, -0.0016406184215073895, 0.001700491365393855, 0.004529045566161438  …  -0.010666867889729256, -0.029847313763195597, 0.014563686988772646, 0.023240255799628084, -0.004510311277546419, 0.015997107771635787, 0.004398135807853763, 0.03323135792366976, -0.002515508470793219, -0.01416221040082501]\n",
       " [0.013689587789839898, -0.018853150051332916, 0.031816097887451586, 0.020181414252385236, 0.015775635976845056, -0.0017730089313001708, -0.06801379207495291, -0.0016406184215073942, 0.0017004913653938603, 0.004529045566161437  …  -0.010666867889729264, -0.02984731376319559, 0.01456368698877266, 0.02324025579962808, -0.004510311277546409, 0.015997107771635776, 0.004398135807853754, 0.033231357923669755, -0.002515508470793226, -0.014162210400825007]\n",
       " [0.013689587789839894, -0.01885315005133292, 0.031816097887451586, 0.020181414252385243, 0.015775635976845056, -0.001773008931300167, -0.06801379207495291, -0.0016406184215073919, 0.0017004913653938733, 0.004529045566161432  …  -0.010666867889729266, -0.029847313763195583, 0.014563686988772659, 0.02324025579962808, -0.004510311277546406, 0.01599710777163578, 0.004398135807853739, 0.03323135792366974, -0.002515508470793228, -0.014162210400825001]\n",
       " [0.013689587789839896, -0.018853150051332916, 0.031816097887451586, 0.020181414252385246, 0.015775635976845052, -0.001773008931300159, -0.06801379207495291, -0.0016406184215073897, 0.0017004913653938792, 0.004529045566161435  …  -0.010666867889729266, -0.029847313763195583, 0.014563686988772657, 0.023240255799628077, -0.004510311277546401, 0.01599710777163578, 0.0043981358078537215, 0.03323135792366975, -0.002515508470793234, -0.014162210400824994]\n",
       " [0.013689587789839882, -0.018853150051332923, 0.03181609788745161, 0.020181414252385253, 0.01577563597684506, -0.0017730089313001544, -0.06801379207495292, -0.0016406184215073992, 0.0017004913653938733, 0.004529045566161443  …  -0.010666867889729264, -0.02984731376319559, 0.014563686988772664, 0.02324025579962808, -0.0045103112775464055, 0.01599710777163577, 0.004398135807853722, 0.03323135792366976, -0.0025155084707932283, -0.014162210400824993]\n",
       " [0.01368958778983987, -0.018853150051332937, 0.03181609788745163, 0.020181414252385253, 0.01577563597684507, -0.0017730089313001476, -0.06801379207495292, -0.0016406184215074083, 0.0017004913653938698, 0.00452904556616144  …  -0.010666867889729252, -0.029847313763195594, 0.014563686988772657, 0.023240255799628094, -0.004510311277546404, 0.015997107771635773, 0.00439813580785372, 0.03323135792366977, -0.0025155084707932126, -0.014162210400825003]\n",
       " [0.013689587789839862, -0.01885315005133293, 0.03181609788745164, 0.020181414252385246, 0.01577563597684508, -0.0017730089313001437, -0.06801379207495292, -0.0016406184215074049, 0.001700491365393879, 0.004529045566161439  …  -0.01066686788972924, -0.029847313763195604, 0.014563686988772643, 0.0232402557996281, -0.004510311277546395, 0.015997107771635773, 0.004398135807853719, 0.03323135792366977, -0.0025155084707932027, -0.014162210400825008]\n",
       " [0.013689587789839839, -0.018853150051332916, 0.031816097887451655, 0.020181414252385246, 0.015775635976845084, -0.0017730089313001377, -0.06801379207495291, -0.0016406184215073864, 0.0017004913653938874, 0.004529045566161434  …  -0.010666867889729238, -0.029847313763195604, 0.014563686988772634, 0.023240255799628098, -0.0045103112775463985, 0.015997107771635776, 0.004398135807853736, 0.033231357923669776, -0.002515508470793204, -0.01416221040082502]\n",
       " [0.013689587789839808, -0.018853150051332923, 0.03181609788745165, 0.02018141425238525, 0.015775635976845098, -0.0017730089313001364, -0.06801379207495291, -0.0016406184215073734, 0.0017004913653938813, 0.004529045566161426  …  -0.010666867889729238, -0.029847313763195604, 0.014563686988772638, 0.023240255799628094, -0.004510311277546403, 0.015997107771635787, 0.0043981358078537605, 0.03323135792366977, -0.0025155084707932044, -0.014162210400825014]\n",
       " [0.013689587789839799, -0.01885315005133293, 0.03181609788745165, 0.020181414252385257, 0.015775635976845094, -0.0017730089313001357, -0.06801379207495292, -0.0016406184215073806, 0.0017004913653938848, 0.004529045566161422  …  -0.010666867889729233, -0.02984731376319561, 0.014563686988772633, 0.023240255799628084, -0.004510311277546411, 0.01599710777163578, 0.004398135807853759, 0.033231357923669755, -0.00251550847079321, -0.014162210400825017]\n",
       " [0.0136895877898398, -0.018853150051332934, 0.03181609788745165, 0.020181414252385253, 0.01577563597684509, -0.0017730089313001398, -0.06801379207495294, -0.001640618421507381, 0.001700491365393892, 0.004529045566161415  …  -0.010666867889729224, -0.02984731376319563, 0.01456368698877263, 0.023240255799628063, -0.004510311277546413, 0.015997107771635773, 0.004398135807853759, 0.03323135792366974, -0.00251550847079321, -0.01416221040082504]"
      ]
     },
     "execution_count": 56,
     "metadata": {},
     "output_type": "execute_result"
    }
   ],
   "source": [
    "iter"
   ]
  },
  {
   "cell_type": "markdown",
   "metadata": {},
   "source": [
    "Nous devons inclure un test de convergence dans la fonction."
   ]
  },
  {
   "cell_type": "code",
   "execution_count": 20,
   "metadata": {},
   "outputs": [
    {
     "data": {
      "text/plain": [
       "cg_quadratic_tol (generic function with 3 methods)"
      ]
     },
     "execution_count": 20,
     "metadata": {},
     "output_type": "execute_result"
    }
   ],
   "source": [
    "function cg_quadratic_tol(A:: Matrix, b:: Vector, x0:: Vector, trace:: Bool = false, tol = 1e-8)\n",
    "    n = length(x0)\n",
    "    x = x0\n",
    "    if (trace)\n",
    "        iter = [ x ]\n",
    "    end\n",
    "    g = b+A*x\n",
    "    d = -g\n",
    "    k = 0\n",
    "    \n",
    "    tol2 = tol*tol\n",
    "\n",
    "    β = 0.0\n",
    "\n",
    "    while ((dot(g,g) > tol2) && (k <= n))\n",
    "        Ad = A*d\n",
    "        normd = dot(d,Ad)\n",
    "        α = dot(g,g)/normd\n",
    "#        α = -dot(d,g)/normd\n",
    "        x += α*d\n",
    "        if (trace)\n",
    "            iter = [ iter; x ]\n",
    "        end\n",
    "        g = b+A*x\n",
    "        β = dot(g,Ad)/normd\n",
    "        d = -g+β*d\n",
    "        k += 1\n",
    "    end\n",
    "\n",
    "    if (trace)\n",
    "        iter = [ iter; x ]\n",
    "        return x, iter, k\n",
    "    end\n",
    "\n",
    "    return x, k\n",
    "end"
   ]
  },
  {
   "cell_type": "code",
   "execution_count": 58,
   "metadata": {},
   "outputs": [
    {
     "data": {
      "text/plain": [
       "([0.013689587798574444, -0.018853150047148094, 0.03181609788253195, 0.020181414253286397, 0.015775635994805418, -0.0017730089268754073, -0.06801379208995433, -0.0016406184374460314, 0.0017004913597049953, 0.00452904557032978  …  -0.010666867898507406, -0.029847313749673355, 0.014563686983419375, 0.023240255786818563, -0.004510311269642599, 0.015997107774918345, 0.004398135823719092, 0.033231357919214256, -0.0025155084716944457, -0.014162210399088179], Any[[0.0, 0.0, 0.0, 0.0, 0.0, 0.0, 0.0, 0.0, 0.0, 0.0  …  0.0, 0.0, 0.0, 0.0, 0.0, 0.0, 0.0, 0.0, 0.0, 0.0], -0.00017027618072256812, 0.0002731925457880143, 0.0010684115984472631, -0.0004017684535668579, -0.0010245312224726674, -0.0033353595759318296, -0.0011646300744951321, -0.002333894483727998, -0.0007008411809605268  …  -0.010666867898507406, -0.029847313749673355, 0.014563686983419375, 0.023240255786818563, -0.004510311269642599, 0.015997107774918345, 0.004398135823719092, 0.033231357919214256, -0.0025155084716944457, -0.014162210399088179], 192)"
      ]
     },
     "execution_count": 58,
     "metadata": {},
     "output_type": "execute_result"
    }
   ],
   "source": [
    "x, iter, k = cg_quadratic_tol(A, b, x0, true)"
   ]
  },
  {
   "cell_type": "markdown",
   "metadata": {},
   "source": [
    "Le nombre d'itérations est"
   ]
  },
  {
   "cell_type": "code",
   "execution_count": 59,
   "metadata": {},
   "outputs": [
    {
     "data": {
      "text/plain": [
       "192"
      ]
     },
     "execution_count": 59,
     "metadata": {},
     "output_type": "execute_result"
    }
   ],
   "source": [
    "k"
   ]
  },
  {
   "cell_type": "markdown",
   "metadata": {},
   "source": [
    "Sommes-nous proche de la solution?"
   ]
  },
  {
   "cell_type": "code",
   "execution_count": 60,
   "metadata": {},
   "outputs": [
    {
     "data": {
      "text/plain": [
       "1.9379487536581979e-10"
      ]
     },
     "execution_count": 60,
     "metadata": {},
     "output_type": "execute_result"
    }
   ],
   "source": [
    "norm(b1-x)"
   ]
  },
  {
   "cell_type": "code",
   "execution_count": 62,
   "metadata": {},
   "outputs": [
    {
     "data": {
      "text/plain": [
       "(500, 500)"
      ]
     },
     "execution_count": 62,
     "metadata": {},
     "output_type": "execute_result"
    }
   ],
   "source": [
    "size(A)"
   ]
  },
  {
   "cell_type": "markdown",
   "metadata": {},
   "source": [
    "ce qui est nettement moindre que la dimension du problème."
   ]
  },
  {
   "cell_type": "markdown",
   "metadata": {},
   "source": [
    "## Gradient conjugué préconditionné"
   ]
  },
  {
   "cell_type": "markdown",
   "metadata": {},
   "source": [
    "Si le nombre de conditionnement est égal à 1, nous convergeons en une itération.\n",
    "\n",
    "Rappelons que le nombre de conditionnement d'une matrice $A$ définie positive est donné par\n",
    "$$\n",
    "\\kappa(A) = \\frac{\\lambda_{\\max}}{\\lambda_{\\min}}.\n",
    "$$\n",
    "$\\kappa(A) = 1$ ssi $A = \\gamma I$. Dans ce cas\n",
    "$$\n",
    "A = \\begin{pmatrix} \\gamma & 0 & \\cdots & 0 \\\\ 0 & \\gamma & \\cdots & 0 \\\\ \\vdots & \\vdots & \\ddots & \\vdots \\\\ 0 & 0 & \\cdots & \\gamma \\end{pmatrix}.\n",
    "$$\n",
    "Observons que $\\lambda_{\\max} = \\lambda_{\\min} = \\gamma$."
   ]
  },
  {
   "cell_type": "markdown",
   "metadata": {},
   "source": [
    "Le problème quadratique devient alors\n",
    "$$\n",
    "f(x) = \\frac{1}{2}\\gamma x^Tx + b^Tx.\n",
    "$$"
   ]
  },
  {
   "cell_type": "markdown",
   "metadata": {},
   "source": [
    "Son gradient est\n",
    "$$\n",
    "\\nabla f(x) = \\gamma x + b.\n",
    "$$\n",
    "Il s'annule si\n",
    "$$\n",
    "x = -\\frac{b}{\\gamma}.\n",
    "$$"
   ]
  },
  {
   "cell_type": "markdown",
   "metadata": {},
   "source": [
    "Soit $x_0$. L'algorithme du gradient conjugué donne comme première de recherche $d_0 = -\\nabla f(x_0) = -\\gamma x_0 - b$.\n",
    "\n",
    "Nous avons aussi\n",
    "$$\n",
    "\\alpha_0 = - \\frac{d_0^T\\nabla f(x_0)}{d_0^TAd_0} = \\frac{\\| d_0 \\|^2}{\\gamma \\| d_0 \\|^2} = \\frac{1}{\\gamma}.\n",
    "$$"
   ]
  },
  {
   "cell_type": "markdown",
   "metadata": {},
   "source": [
    "Le premier itéré donne\n",
    "$$\n",
    "x_1 = x_0 + \\alpha_0 d_0 = x_0 + \\frac{1}{\\gamma} (-\\gamma x_0 - b) = -\\frac{b}{\\gamma}.\n",
    "$$\n",
    "ce qui correspond bien à la solution!"
   ]
  },
  {
   "cell_type": "markdown",
   "metadata": {},
   "source": [
    "Si la matrice $A$ est diagonale et tous les éléments de la diagonale sont identiques, la direction de plus forte pente donne le minimum global."
   ]
  },
  {
   "cell_type": "markdown",
   "metadata": {},
   "source": [
    "Une implémentation basique d'un algorithme de gradient préconditionné suit, où $M$ est l'inverse du préconditioneur à appliquer."
   ]
  },
  {
   "cell_type": "code",
   "execution_count": 23,
   "metadata": {},
   "outputs": [
    {
     "data": {
      "text/plain": [
       "pcg_quadratic_tol (generic function with 3 methods)"
      ]
     },
     "execution_count": 23,
     "metadata": {},
     "output_type": "execute_result"
    }
   ],
   "source": [
    "function pcg_quadratic_tol(A:: Matrix, b:: Vector, x0:: Vector, M:: Matrix,\n",
    "                           trace:: Bool = false, tol = 1e-8)\n",
    "    n = length(x0)\n",
    "    x = x0\n",
    "    if (trace)\n",
    "        iter = [ x ]\n",
    "    end\n",
    "    g = b+A*x\n",
    "    v = M*g\n",
    "    d = -v\n",
    "    k = 0\n",
    "    \n",
    "    tol2 = tol*tol\n",
    "\n",
    "    β = 0.0\n",
    "\n",
    "    gv = dot(g,v)\n",
    "    while ((gv > tol2) && (k <= n))\n",
    "#    while ((dot(g,g) > tol2) && (k <= n))\n",
    "        Ad = A*d\n",
    "        normd = dot(d,Ad)\n",
    "        #gv = dot(g,v)\n",
    "        α = gv/normd\n",
    "        x += α*d\n",
    "        if (trace)\n",
    "            iter = [ iter; x ]\n",
    "        end\n",
    "        g += α*Ad\n",
    "        v = M*g\n",
    "        gvold = gv\n",
    "        gv = dot(g,v)\n",
    "        β = gv/gvold\n",
    "        d = -v+β*d\n",
    "        k += 1\n",
    "    end\n",
    "\n",
    "    if (trace)\n",
    "        iter = [ iter; x ]\n",
    "        return x, iter, k\n",
    "    end\n",
    "\n",
    "    return x, k\n",
    "end"
   ]
  },
  {
   "cell_type": "markdown",
   "metadata": {},
   "source": [
    "Let's check first that when there is no preconditioning, we obtain the same iterates.\n",
    "Set"
   ]
  },
  {
   "cell_type": "code",
   "execution_count": 8,
   "metadata": {},
   "outputs": [
    {
     "data": {
      "text/plain": [
       "([-0.014755795355726473, 0.03657811037067297, 0.01672625645672698, 0.03422362653550164, -0.007132645988024869, 0.003301799029456351, 0.03296712769157697, -0.026611086508491748, 0.03752351175223354, 0.024455589755072817  …  -0.0432388557131727, 0.03132330756767234, -0.020092649762134724, -0.028730959942786922, 0.0036079613528365675, 0.04777205688339671, 0.015144293557222535, 0.009231913592940113, -0.012614998526054006, 0.016463930911307725], Any[[0.0, 0.0, 0.0, 0.0, 0.0, 0.0, 0.0, 0.0, 0.0, 0.0  …  0.0, 0.0, 0.0, 0.0, 0.0, 0.0, 0.0, 0.0, 0.0, 0.0], 0.002454971689675096, 0.0018787612532824508, 0.0007650189467303909, 0.0010692603010837181, -0.0009856034267720784, -0.00042903143663104883, -0.0026990099908390367, 0.0015601625234068378, 0.001971225814925841  …  -0.0432388557131727, 0.03132330756767234, -0.020092649762134724, -0.028730959942786922, 0.0036079613528365675, 0.04777205688339671, 0.015144293557222535, 0.009231913592940113, -0.012614998526054006, 0.016463930911307725], 188)"
      ]
     },
     "execution_count": 8,
     "metadata": {},
     "output_type": "execute_result"
    }
   ],
   "source": [
    "M = zeros(n,n)+I\n",
    "x, iter, k = pcg_quadratic_tol(A, b, x0, M, true)"
   ]
  },
  {
   "cell_type": "code",
   "execution_count": 9,
   "metadata": {},
   "outputs": [
    {
     "data": {
      "text/plain": [
       "(188, 2.4708593085548377e-10)"
      ]
     },
     "execution_count": 9,
     "metadata": {},
     "output_type": "execute_result"
    }
   ],
   "source": [
    "k, norm(x-b1)"
   ]
  },
  {
   "cell_type": "markdown",
   "metadata": {},
   "source": [
    "We can compute the eigenvalues and condition number of $A$."
   ]
  },
  {
   "cell_type": "code",
   "execution_count": 21,
   "metadata": {},
   "outputs": [
    {
     "data": {
      "text/plain": [
       "Eigen{Float64,Float64,Array{Float64,2},Array{Float64,1}}\n",
       "values:\n",
       "1000-element Array{Float64,1}:\n",
       " 0.0028299563546996254\n",
       " 0.006208210038904927\n",
       " 0.015730444716104408\n",
       " 0.017138534301330832\n",
       " 0.0335070451445163\n",
       " 0.0649919709707869\n",
       " 0.06964595503229143\n",
       " 0.08146943154009767\n",
       " 0.09038106137735147\n",
       " 0.10588808809377515\n",
       " 0.10701001857806425\n",
       " 0.11045181064063048\n",
       " 0.128268572721848\n",
       " ⋮\n",
       " 9.824558046352754\n",
       " 9.839092537343337\n",
       " 9.85389551670673\n",
       " 9.874713256081098\n",
       " 9.878592111942382\n",
       " 9.895246970057734\n",
       " 9.930168333591583\n",
       " 9.932200069442763\n",
       " 9.980157699368622\n",
       " 9.98393047061021\n",
       " 9.98403971099756\n",
       " 9.987247647762787\n",
       "vectors:\n",
       "1000×1000 Array{Float64,2}:\n",
       " 0.0  0.0  0.0  0.0  0.0  0.0  0.0  0.0  …  0.0  0.0  0.0  0.0  0.0  0.0  0.0\n",
       " 0.0  0.0  0.0  0.0  0.0  0.0  0.0  0.0     0.0  0.0  0.0  0.0  0.0  0.0  0.0\n",
       " 0.0  0.0  0.0  0.0  0.0  0.0  0.0  0.0     0.0  0.0  0.0  0.0  0.0  0.0  0.0\n",
       " 0.0  0.0  0.0  0.0  0.0  0.0  0.0  0.0     0.0  0.0  0.0  0.0  0.0  0.0  0.0\n",
       " 0.0  0.0  0.0  0.0  0.0  0.0  0.0  0.0     0.0  0.0  0.0  0.0  0.0  0.0  0.0\n",
       " 0.0  0.0  0.0  0.0  0.0  0.0  0.0  0.0  …  0.0  0.0  0.0  0.0  0.0  0.0  0.0\n",
       " 0.0  0.0  0.0  0.0  0.0  0.0  0.0  0.0     0.0  0.0  0.0  0.0  0.0  0.0  0.0\n",
       " 0.0  0.0  0.0  0.0  0.0  0.0  0.0  0.0     0.0  0.0  0.0  0.0  0.0  0.0  0.0\n",
       " 0.0  0.0  0.0  0.0  0.0  0.0  0.0  0.0     0.0  0.0  0.0  0.0  0.0  0.0  0.0\n",
       " 0.0  0.0  0.0  0.0  0.0  0.0  0.0  0.0     0.0  0.0  0.0  0.0  0.0  0.0  0.0\n",
       " 0.0  0.0  0.0  0.0  0.0  0.0  0.0  0.0  …  0.0  0.0  0.0  0.0  0.0  0.0  0.0\n",
       " 0.0  0.0  0.0  0.0  0.0  0.0  0.0  0.0     0.0  0.0  0.0  0.0  0.0  0.0  0.0\n",
       " 0.0  0.0  0.0  0.0  0.0  0.0  0.0  0.0     0.0  0.0  0.0  0.0  0.0  0.0  0.0\n",
       " ⋮                        ⋮              ⋱            ⋮                   \n",
       " 0.0  0.0  0.0  0.0  0.0  0.0  0.0  0.0     0.0  0.0  0.0  0.0  0.0  0.0  0.0\n",
       " 0.0  0.0  0.0  0.0  0.0  0.0  0.0  0.0     0.0  0.0  0.0  0.0  0.0  0.0  0.0\n",
       " 0.0  0.0  0.0  0.0  0.0  0.0  0.0  0.0  …  0.0  0.0  0.0  0.0  0.0  0.0  0.0\n",
       " 0.0  0.0  0.0  0.0  0.0  0.0  0.0  0.0     0.0  0.0  0.0  0.0  0.0  0.0  0.0\n",
       " 0.0  0.0  0.0  0.0  0.0  0.0  0.0  0.0     0.0  0.0  0.0  0.0  0.0  0.0  0.0\n",
       " 0.0  0.0  0.0  0.0  0.0  0.0  0.0  0.0     0.0  0.0  0.0  0.0  0.0  0.0  0.0\n",
       " 0.0  0.0  0.0  0.0  0.0  0.0  0.0  0.0     0.0  0.0  0.0  0.0  0.0  0.0  0.0\n",
       " 0.0  0.0  0.0  0.0  0.0  0.0  0.0  0.0  …  0.0  0.0  0.0  0.0  0.0  0.0  0.0\n",
       " 0.0  0.0  0.0  0.0  0.0  0.0  0.0  0.0     0.0  0.0  0.0  0.0  0.0  0.0  0.0\n",
       " 0.0  0.0  0.0  0.0  0.0  0.0  0.0  0.0     0.0  0.0  0.0  0.0  0.0  0.0  0.0\n",
       " 0.0  0.0  0.0  0.0  0.0  0.0  0.0  0.0     0.0  0.0  0.0  0.0  0.0  0.0  0.0\n",
       " 0.0  0.0  0.0  0.0  0.0  0.0  0.0  0.0     0.0  0.0  0.0  0.0  0.0  0.0  0.0"
      ]
     },
     "execution_count": 21,
     "metadata": {},
     "output_type": "execute_result"
    }
   ],
   "source": [
    "eigen(A)"
   ]
  },
  {
   "cell_type": "code",
   "execution_count": 11,
   "metadata": {},
   "outputs": [
    {
     "data": {
      "text/plain": [
       "363.19295318445853"
      ]
     },
     "execution_count": 11,
     "metadata": {},
     "output_type": "execute_result"
    }
   ],
   "source": [
    "cond(A)"
   ]
  },
  {
   "cell_type": "code",
   "execution_count": 12,
   "metadata": {},
   "outputs": [
    {
     "data": {
      "text/plain": [
       "500×500 Array{Float64,2}:\n",
       " 649.63       35.3486    -56.2037   …  -22.6582   -30.7703   -10.5041\n",
       "  35.3486    573.027      -4.7047      -21.4998    24.0908    16.3941\n",
       " -56.2037     -4.7047    701.402        23.4452    41.1332    23.6554\n",
       "  49.3961      9.08001    13.7468      -15.9837    -1.41378   -2.16623\n",
       "   0.2819    -34.7654     11.5973      -19.1084    -6.44043    4.4232\n",
       "  19.251       4.97156    37.2669   …   14.917     14.8889    34.7856\n",
       " -16.3865    -35.1627     20.47         13.5135   -26.0354    34.1079\n",
       "   6.54232    19.4527    -35.6591       28.3743    13.9389    21.2144\n",
       " -13.8005     46.0532     23.0489      -13.1363    18.9361   -18.92\n",
       "  46.6132     12.9965     -6.94255      -1.93375   14.7975    25.7285\n",
       " -15.0486     -1.75272   -24.6271   …   -7.3418    43.4084   -27.1134\n",
       "  21.4708      6.31654     6.27091      37.6651    29.4554   -18.555\n",
       "  22.5846     -7.69945    47.7306       -2.78425   13.7426   -41.2572\n",
       "   ⋮                                ⋱                        \n",
       " -18.6114      5.36274    -7.74533     -13.8873    19.1508   -37.1229\n",
       "  -6.93294    26.105       7.11267      -7.54582   -6.94477   43.9837\n",
       " -61.0455     27.6042     10.7468   …   -5.18647   38.0297    10.9413\n",
       " -32.8754      9.63267    10.4306        5.34427   21.979     11.8011\n",
       "  46.896      -0.655057  -51.3635       -5.30698   14.2616   -45.465\n",
       "  22.8376    -23.6238    -31.5167       20.6292    20.1683   -10.1945\n",
       "  25.2475     -1.26839   -13.1263       35.568      3.31101    3.17349\n",
       "  10.993      -8.6066     17.7837   …  -41.6755   -26.0052    12.138\n",
       "  -0.762415   14.6952    -17.9551       35.9153    53.6218    -1.20033\n",
       " -22.6582    -21.4998     23.4452      590.118     15.9167    11.1024\n",
       " -30.7703     24.0908     41.1332       15.9167   697.601    -52.9567\n",
       " -10.5041     16.3941     23.6554       11.1024   -52.9567   579.217"
      ]
     },
     "execution_count": 12,
     "metadata": {},
     "output_type": "execute_result"
    }
   ],
   "source": [
    "A"
   ]
  },
  {
   "cell_type": "markdown",
   "metadata": {},
   "source": [
    "Try to compute a simple precontionner using the inverse of the diagonal of matrix $A$."
   ]
  },
  {
   "cell_type": "code",
   "execution_count": 13,
   "metadata": {
    "scrolled": true
   },
   "outputs": [
    {
     "data": {
      "text/plain": [
       "500×500 Diagonal{Float64,Array{Float64,1}}:\n",
       " 0.00153934   ⋅           ⋅          …   ⋅           ⋅           ⋅ \n",
       "  ⋅          0.00174512   ⋅              ⋅           ⋅           ⋅ \n",
       "  ⋅           ⋅          0.00142572      ⋅           ⋅           ⋅ \n",
       "  ⋅           ⋅           ⋅              ⋅           ⋅           ⋅ \n",
       "  ⋅           ⋅           ⋅              ⋅           ⋅           ⋅ \n",
       "  ⋅           ⋅           ⋅          …   ⋅           ⋅           ⋅ \n",
       "  ⋅           ⋅           ⋅              ⋅           ⋅           ⋅ \n",
       "  ⋅           ⋅           ⋅              ⋅           ⋅           ⋅ \n",
       "  ⋅           ⋅           ⋅              ⋅           ⋅           ⋅ \n",
       "  ⋅           ⋅           ⋅              ⋅           ⋅           ⋅ \n",
       "  ⋅           ⋅           ⋅          …   ⋅           ⋅           ⋅ \n",
       "  ⋅           ⋅           ⋅              ⋅           ⋅           ⋅ \n",
       "  ⋅           ⋅           ⋅              ⋅           ⋅           ⋅ \n",
       " ⋮                                   ⋱                          \n",
       "  ⋅           ⋅           ⋅              ⋅           ⋅           ⋅ \n",
       "  ⋅           ⋅           ⋅              ⋅           ⋅           ⋅ \n",
       "  ⋅           ⋅           ⋅          …   ⋅           ⋅           ⋅ \n",
       "  ⋅           ⋅           ⋅              ⋅           ⋅           ⋅ \n",
       "  ⋅           ⋅           ⋅              ⋅           ⋅           ⋅ \n",
       "  ⋅           ⋅           ⋅              ⋅           ⋅           ⋅ \n",
       "  ⋅           ⋅           ⋅              ⋅           ⋅           ⋅ \n",
       "  ⋅           ⋅           ⋅          …   ⋅           ⋅           ⋅ \n",
       "  ⋅           ⋅           ⋅              ⋅           ⋅           ⋅ \n",
       "  ⋅           ⋅           ⋅             0.00169457   ⋅           ⋅ \n",
       "  ⋅           ⋅           ⋅              ⋅          0.00143348   ⋅ \n",
       "  ⋅           ⋅           ⋅              ⋅           ⋅          0.00172647"
      ]
     },
     "execution_count": 13,
     "metadata": {},
     "output_type": "execute_result"
    }
   ],
   "source": [
    "D = 1 ./diag(A)\n",
    "M = Diagonal(D)"
   ]
  },
  {
   "cell_type": "markdown",
   "metadata": {},
   "source": [
    "Unfortunately, in this case, it does not help as the condition number is not improving."
   ]
  },
  {
   "cell_type": "code",
   "execution_count": 14,
   "metadata": {},
   "outputs": [
    {
     "data": {
      "text/plain": [
       "362.08572744482086"
      ]
     },
     "execution_count": 14,
     "metadata": {},
     "output_type": "execute_result"
    }
   ],
   "source": [
    "B = M*A\n",
    "cond(B)"
   ]
  },
  {
   "cell_type": "markdown",
   "metadata": {},
   "source": [
    "Consider another situation when $A$ is diagonal."
   ]
  },
  {
   "cell_type": "code",
   "execution_count": 15,
   "metadata": {},
   "outputs": [
    {
     "data": {
      "text/plain": [
       "3529.1172004039067"
      ]
     },
     "execution_count": 15,
     "metadata": {},
     "output_type": "execute_result"
    }
   ],
   "source": [
    "n = 1000;\n",
    "A = zeros(n,n);\n",
    "for i = 1:n\n",
    "    A[i,i] = 10*rand()\n",
    "end\n",
    "b = zeros(n)\n",
    "for i = 1:n\n",
    "  b[i] = rand()\n",
    "end\n",
    "x0 = zeros(n)\n",
    "cond(A)"
   ]
  },
  {
   "cell_type": "markdown",
   "metadata": {},
   "source": [
    "The solution we are looking for is"
   ]
  },
  {
   "cell_type": "code",
   "execution_count": 22,
   "metadata": {
    "scrolled": true
   },
   "outputs": [
    {
     "data": {
      "text/plain": [
       "1000-element Array{Float64,1}:\n",
       " 0.08058928643204467\n",
       " 0.6037593942484356\n",
       " 0.05123362510993889\n",
       " 0.025288649268727047\n",
       " 0.3157544051301201\n",
       " 0.01633725032828882\n",
       " 0.17723886956247462\n",
       " 0.111806719707462\n",
       " 0.037035774664397454\n",
       " 0.0791549365847929\n",
       " 0.10488968566308879\n",
       " 0.1651211131034794\n",
       " 0.25858107792817053\n",
       " ⋮\n",
       " 0.03937631274640514\n",
       " 0.005433645135135941\n",
       " 0.03738742981976994\n",
       " 0.01999842904935537\n",
       " 0.15368638561669526\n",
       " 0.021219216022764106\n",
       " 0.007449347678908204\n",
       " 4.706245551595791\n",
       " 0.07777026560473264\n",
       " 1.074720053901421\n",
       " 0.19743189966931754\n",
       " 0.026613908055054796"
      ]
     },
     "execution_count": 22,
     "metadata": {},
     "output_type": "execute_result"
    }
   ],
   "source": [
    "A\\b"
   ]
  },
  {
   "cell_type": "markdown",
   "metadata": {},
   "source": [
    "Without preconditionning, with have the iterates sequence"
   ]
  },
  {
   "cell_type": "code",
   "execution_count": 24,
   "metadata": {},
   "outputs": [
    {
     "data": {
      "text/plain": [
       "([-0.08058928645159152, -0.6037593940525089, -0.051233625105610456, -0.025288649264065852, -0.31575440498517776, -0.01633725034142313, -0.17723886973659486, -0.11180671976856532, -0.03703577466971331, -0.0791549365823525  …  -0.03738742990516486, -0.01999842904317544, -0.1536863855781329, -0.021219216014131147, -0.007449347683576828, -4.706245550636268, -0.07777026557251189, -1.0747200527303016, -0.19743189972183642, -0.026613908041785372], Any[[0.0, 0.0, 0.0, 0.0, 0.0, 0.0, 0.0, 0.0, 0.0, 0.0  …  0.0, 0.0, 0.0, 0.0, 0.0, 0.0, 0.0, 0.0, 0.0, 0.0], -0.1591998630946615, -0.1790363932585973, -0.08175511399278433, -0.036779484109002406, -0.1072078142343552, -0.02485421862504237, -0.06146062714380509, -0.1406045318312565, -0.05817676259535404  …  -0.03738742990516486, -0.01999842904317544, -0.1536863855781329, -0.021219216014131147, -0.007449347683576828, -4.706245550636268, -0.07777026557251189, -1.0747200527303016, -0.19743189972183642, -0.026613908041785372], 209)"
      ]
     },
     "execution_count": 24,
     "metadata": {},
     "output_type": "execute_result"
    }
   ],
   "source": [
    "M = zeros(n,n)+I\n",
    "x, iter, k = pcg_quadratic_tol(A, b, x0, M, true)"
   ]
  },
  {
   "cell_type": "markdown",
   "metadata": {},
   "source": [
    "This is equivalent to the unpreconditioned version."
   ]
  },
  {
   "cell_type": "code",
   "execution_count": 25,
   "metadata": {},
   "outputs": [
    {
     "data": {
      "text/plain": [
       "([-0.08058928645159154, -0.6037593940525088, -0.051233625105610414, -0.02528864926406584, -0.3157544049851781, -0.016337250341423127, -0.17723886973659483, -0.1118067197685653, -0.03703577466971329, -0.07915493658235254  …  -0.03738742990516489, -0.019998429043175437, -0.15368638557813294, -0.021219216014131154, -0.007449347683576829, -4.7062455506362655, -0.07777026557251188, -1.0747200527303018, -0.19743189972183622, -0.026613908041785365], Any[[0.0, 0.0, 0.0, 0.0, 0.0, 0.0, 0.0, 0.0, 0.0, 0.0  …  0.0, 0.0, 0.0, 0.0, 0.0, 0.0, 0.0, 0.0, 0.0, 0.0], -0.1591998630946615, -0.1790363932585973, -0.08175511399278433, -0.036779484109002406, -0.1072078142343552, -0.02485421862504237, -0.06146062714380509, -0.1406045318312565, -0.05817676259535404  …  -0.03738742990516489, -0.019998429043175437, -0.15368638557813294, -0.021219216014131154, -0.007449347683576829, -4.7062455506362655, -0.07777026557251188, -1.0747200527303018, -0.19743189972183622, -0.026613908041785365], 209)"
      ]
     },
     "execution_count": 25,
     "metadata": {},
     "output_type": "execute_result"
    }
   ],
   "source": [
    "x, iter, k = cg_quadratic_tol(A, b, x0, true)"
   ]
  },
  {
   "cell_type": "markdown",
   "metadata": {},
   "source": [
    "However, since $A$ is diagonal, an obvious diagonal preconditionner is $A^{-1}$ itself."
   ]
  },
  {
   "cell_type": "code",
   "execution_count": 26,
   "metadata": {},
   "outputs": [],
   "source": [
    "M = zeros(n,n)\n",
    "for i = 1:n\n",
    "    M[i,i] = 1/A[i,i]\n",
    "end"
   ]
  },
  {
   "cell_type": "markdown",
   "metadata": {},
   "source": [
    "The condition number of the preconditioned matrix is of course equal to 1."
   ]
  },
  {
   "cell_type": "code",
   "execution_count": 27,
   "metadata": {},
   "outputs": [
    {
     "data": {
      "text/plain": [
       "1.0000000000000002"
      ]
     },
     "execution_count": 27,
     "metadata": {},
     "output_type": "execute_result"
    }
   ],
   "source": [
    "cond(M*A)"
   ]
  },
  {
   "cell_type": "markdown",
   "metadata": {},
   "source": [
    "The theory then predicts that we converge in one iteration with the precionditionned conjugate gradient."
   ]
  },
  {
   "cell_type": "code",
   "execution_count": 28,
   "metadata": {
    "scrolled": true
   },
   "outputs": [
    {
     "data": {
      "text/plain": [
       "([-0.08058928643204467, -0.6037593942484356, -0.05123362510993888, -0.025288649268727044, -0.3157544051301201, -0.01633725032828882, -0.17723886956247462, -0.11180671970746199, -0.037035774664397454, -0.0791549365847929  …  -0.03738742981976994, -0.01999842904935537, -0.15368638561669526, -0.021219216022764106, -0.007449347678908204, -4.706245551595791, -0.07777026560473264, -1.074720053901421, -0.19743189966931754, -0.026613908055054793], Any[[0.0, 0.0, 0.0, 0.0, 0.0, 0.0, 0.0, 0.0, 0.0, 0.0  …  0.0, 0.0, 0.0, 0.0, 0.0, 0.0, 0.0, 0.0, 0.0, 0.0], -0.08058928643204467, -0.6037593942484356, -0.05123362510993888, -0.025288649268727044, -0.3157544051301201, -0.01633725032828882, -0.17723886956247462, -0.11180671970746199, -0.037035774664397454  …  -0.03738742981976994, -0.01999842904935537, -0.15368638561669526, -0.021219216022764106, -0.007449347678908204, -4.706245551595791, -0.07777026560473264, -1.074720053901421, -0.19743189966931754, -0.026613908055054793], 1)"
      ]
     },
     "execution_count": 28,
     "metadata": {},
     "output_type": "execute_result"
    }
   ],
   "source": [
    "x, iter, k = pcg_quadratic_tol(A, b, x0, M, true)"
   ]
  },
  {
   "cell_type": "markdown",
   "metadata": {},
   "source": [
    "Consider now another example."
   ]
  },
  {
   "cell_type": "code",
   "execution_count": 29,
   "metadata": {},
   "outputs": [
    {
     "data": {
      "text/plain": [
       "1000×1000 Array{Float64,2}:\n",
       " 3.0  1.4  0.0  0.0  0.0  0.0  0.0  0.0  …  0.0  0.0  0.0  0.0  0.0  0.0  0.0\n",
       " 1.4  3.0  1.4  0.0  0.0  0.0  0.0  0.0     0.0  0.0  0.0  0.0  0.0  0.0  0.0\n",
       " 0.0  1.4  3.0  1.4  0.0  0.0  0.0  0.0     0.0  0.0  0.0  0.0  0.0  0.0  0.0\n",
       " 0.0  0.0  1.4  3.0  1.4  0.0  0.0  0.0     0.0  0.0  0.0  0.0  0.0  0.0  0.0\n",
       " 0.0  0.0  0.0  1.4  3.0  1.4  0.0  0.0     0.0  0.0  0.0  0.0  0.0  0.0  0.0\n",
       " 0.0  0.0  0.0  0.0  1.4  3.0  1.4  0.0  …  0.0  0.0  0.0  0.0  0.0  0.0  0.0\n",
       " 0.0  0.0  0.0  0.0  0.0  1.4  3.0  1.4     0.0  0.0  0.0  0.0  0.0  0.0  0.0\n",
       " 0.0  0.0  0.0  0.0  0.0  0.0  1.4  3.0     0.0  0.0  0.0  0.0  0.0  0.0  0.0\n",
       " 0.0  0.0  0.0  0.0  0.0  0.0  0.0  1.4     0.0  0.0  0.0  0.0  0.0  0.0  0.0\n",
       " 0.0  0.0  0.0  0.0  0.0  0.0  0.0  0.0     0.0  0.0  0.0  0.0  0.0  0.0  0.0\n",
       " 0.0  0.0  0.0  0.0  0.0  0.0  0.0  0.0  …  0.0  0.0  0.0  0.0  0.0  0.0  0.0\n",
       " 0.0  0.0  0.0  0.0  0.0  0.0  0.0  0.0     0.0  0.0  0.0  0.0  0.0  0.0  0.0\n",
       " 0.0  0.0  0.0  0.0  0.0  0.0  0.0  0.0     0.0  0.0  0.0  0.0  0.0  0.0  0.0\n",
       " ⋮                        ⋮              ⋱            ⋮                   \n",
       " 0.0  0.0  0.0  0.0  0.0  0.0  0.0  0.0     0.0  0.0  0.0  0.0  0.0  0.0  0.0\n",
       " 0.0  0.0  0.0  0.0  0.0  0.0  0.0  0.0     0.0  0.0  0.0  0.0  0.0  0.0  0.0\n",
       " 0.0  0.0  0.0  0.0  0.0  0.0  0.0  0.0  …  0.0  0.0  0.0  0.0  0.0  0.0  0.0\n",
       " 0.0  0.0  0.0  0.0  0.0  0.0  0.0  0.0     0.0  0.0  0.0  0.0  0.0  0.0  0.0\n",
       " 0.0  0.0  0.0  0.0  0.0  0.0  0.0  0.0     1.4  0.0  0.0  0.0  0.0  0.0  0.0\n",
       " 0.0  0.0  0.0  0.0  0.0  0.0  0.0  0.0     3.0  1.4  0.0  0.0  0.0  0.0  0.0\n",
       " 0.0  0.0  0.0  0.0  0.0  0.0  0.0  0.0     1.4  3.0  1.4  0.0  0.0  0.0  0.0\n",
       " 0.0  0.0  0.0  0.0  0.0  0.0  0.0  0.0  …  0.0  1.4  3.0  1.4  0.0  0.0  0.0\n",
       " 0.0  0.0  0.0  0.0  0.0  0.0  0.0  0.0     0.0  0.0  1.4  3.0  1.4  0.0  0.0\n",
       " 0.0  0.0  0.0  0.0  0.0  0.0  0.0  0.0     0.0  0.0  0.0  1.4  3.0  1.4  0.0\n",
       " 0.0  0.0  0.0  0.0  0.0  0.0  0.0  0.0     0.0  0.0  0.0  0.0  1.4  3.0  1.4\n",
       " 0.0  0.0  0.0  0.0  0.0  0.0  0.0  0.0     0.0  0.0  0.0  0.0  0.0  1.4  3.0"
      ]
     },
     "execution_count": 29,
     "metadata": {},
     "output_type": "execute_result"
    }
   ],
   "source": [
    "A = zeros(n,n)+3*I\n",
    "for i = 1:n-1\n",
    "    A[i,i+1] = 1.4\n",
    "    A[i+1,i] = 1.4\n",
    "end\n",
    "A"
   ]
  },
  {
   "cell_type": "code",
   "execution_count": 30,
   "metadata": {},
   "outputs": [
    {
     "data": {
      "text/plain": [
       "Eigen{Float64,Float64,Array{Float64,2},Array{Float64,1}}\n",
       "values:\n",
       "1000-element Array{Float64,1}:\n",
       " 0.20001378984134793\n",
       " 0.20005515922956107\n",
       " 0.20012410775715758\n",
       " 0.20022063474500001\n",
       " 0.20034473924231072\n",
       " 0.2004964200266737\n",
       " 0.2006756756040492\n",
       " 0.20088250420879217\n",
       " 0.20111690380366315\n",
       " 0.20137887207985267\n",
       " 0.20166840645700262\n",
       " 0.20198550408323332\n",
       " 0.20233016183516794\n",
       " ⋮\n",
       " 5.7980144959167665\n",
       " 5.798331593542997\n",
       " 5.798621127920147\n",
       " 5.798883096196337\n",
       " 5.799117495791208\n",
       " 5.7993243243959505\n",
       " 5.799503579973327\n",
       " 5.79965526075769\n",
       " 5.799779365255\n",
       " 5.799875892242843\n",
       " 5.799944840770439\n",
       " 5.799986210158653\n",
       "vectors:\n",
       "1000×1000 Array{Float64,2}:\n",
       " -0.000140286  -0.00028057   -0.000420851  …   0.00028057   0.000140286\n",
       "  0.00028057    0.000561129   0.000841665      0.000561129  0.00028057\n",
       " -0.000420851  -0.000841665  -0.0012624        0.000841665  0.000420851\n",
       "  0.000561129   0.00112217    0.00168303       0.00112217   0.000561129\n",
       " -0.0007014    -0.00140263   -0.00210351       0.00140263   0.0007014\n",
       "  0.000841665   0.00168303    0.0025238    …   0.00168303   0.000841665\n",
       " -0.000981922  -0.00196337   -0.00294387       0.00196337   0.000981922\n",
       "  0.00112217    0.00224363    0.00336368       0.00224363   0.00112217\n",
       " -0.0012624    -0.0025238    -0.00378319       0.0025238    0.0012624\n",
       "  0.00140263    0.00280387    0.00420236       0.00280387   0.00140263\n",
       " -0.00154284   -0.00308384   -0.00462116   …   0.00308384   0.00154284\n",
       "  0.00168303    0.00336368    0.00503955       0.00336368   0.00168303\n",
       " -0.00182321   -0.00364338   -0.0054575        0.00364338   0.00182321\n",
       "  ⋮                                        ⋱                \n",
       " -0.00168303    0.00336368   -0.00503955      -0.00336368   0.00168303\n",
       "  0.00154284   -0.00308384    0.00462116      -0.00308384   0.00154284\n",
       " -0.00140263    0.00280387   -0.00420236   …  -0.00280387   0.00140263\n",
       "  0.0012624    -0.0025238     0.00378319      -0.0025238    0.0012624\n",
       " -0.00112217    0.00224363   -0.00336368      -0.00224363   0.00112217\n",
       "  0.000981922  -0.00196337    0.00294387      -0.00196337   0.000981922\n",
       " -0.000841665   0.00168303   -0.0025238       -0.00168303   0.000841665\n",
       "  0.0007014    -0.00140263    0.00210351   …  -0.00140263   0.0007014\n",
       " -0.000561129   0.00112217   -0.00168303      -0.00112217   0.000561129\n",
       "  0.000420851  -0.000841665   0.0012624       -0.000841665  0.000420851\n",
       " -0.00028057    0.000561129  -0.000841665     -0.000561129  0.00028057\n",
       "  0.000140286  -0.00028057    0.000420851     -0.00028057   0.000140286"
      ]
     },
     "execution_count": 30,
     "metadata": {},
     "output_type": "execute_result"
    }
   ],
   "source": [
    "eigen(A)"
   ]
  },
  {
   "cell_type": "code",
   "execution_count": 31,
   "metadata": {},
   "outputs": [
    {
     "data": {
      "text/plain": [
       "1000-element Array{Float64,1}:\n",
       " -0.1878579826528576\n",
       " -0.1319601277848616\n",
       " -0.13048433889475186\n",
       "  0.13707693450040037\n",
       " -0.2867389303131553\n",
       "  0.11741379322106589\n",
       " -0.048310001679996474\n",
       " -0.22024618791185208\n",
       "  0.04818692637871188\n",
       " -0.07833977533531897\n",
       " -0.2199692034457113\n",
       "  0.030575576265437422\n",
       " -0.21307627292025264\n",
       "  ⋮\n",
       " -0.3139680285633356\n",
       "  0.3505938270597254\n",
       " -0.4716762523514729\n",
       "  0.4877974502429737\n",
       " -0.6312099317782925\n",
       "  0.41577184912386583\n",
       " -0.33039956088464967\n",
       "  0.2496204545118851\n",
       " -0.575796657707367\n",
       "  0.4536778726089102\n",
       " -0.5953990030474747\n",
       "  0.19535096471120988"
      ]
     },
     "execution_count": 31,
     "metadata": {},
     "output_type": "execute_result"
    }
   ],
   "source": [
    "A\\(-b)"
   ]
  },
  {
   "cell_type": "code",
   "execution_count": 32,
   "metadata": {},
   "outputs": [
    {
     "data": {
      "text/plain": [
       "([-0.1878579826205031, -0.13196012801774878, -0.13048433838637943, 0.13707693407810365, -0.28673892986952537, 0.11741379250542462, -0.048310000964845314, -0.22024618867999027, 0.048186927163437664, -0.07833977603242326  …  -0.47167625272031055, 0.48779745064722413, -0.6312099322752445, 0.41577184963519326, -0.33039956140340154, 0.24962045501992164, -0.5757966582801719, 0.4536778731100891, -0.5953990032962349, 0.19535096475246563], Any[[0.0, 0.0, 0.0, 0.0, 0.0, 0.0, 0.0, 0.0, 0.0, 0.0  …  0.0, 0.0, 0.0, 0.0, 0.0, 0.0, 0.0, 0.0, 0.0, 0.0], -0.14738746893501598, -0.16575215792709863, -0.07568900556607487, -0.03405050083704051, -0.09925315313029848, -0.023010072397639938, -0.05690033959701273, -0.1301718837225351, -0.053860132936572075  …  -0.47167625272031055, 0.48779745064722413, -0.6312099322752445, 0.41577184963519326, -0.33039956140340154, 0.24962045501992164, -0.5757966582801719, 0.4536778731100891, -0.5953990032962349, 0.19535096475246563], 56)"
      ]
     },
     "execution_count": 32,
     "metadata": {},
     "output_type": "execute_result"
    }
   ],
   "source": [
    "x, iter, k = cg_quadratic_tol(A, b, x0, true)"
   ]
  },
  {
   "cell_type": "code",
   "execution_count": 33,
   "metadata": {},
   "outputs": [],
   "source": [
    "M = zeros(n,n)\n",
    "for i = 1:n\n",
    "    M[i,i] = 1/A[i,i]\n",
    "end"
   ]
  },
  {
   "cell_type": "code",
   "execution_count": 34,
   "metadata": {},
   "outputs": [
    {
     "data": {
      "text/plain": [
       "28.997931666407833"
      ]
     },
     "execution_count": 34,
     "metadata": {},
     "output_type": "execute_result"
    }
   ],
   "source": [
    "cond(A)"
   ]
  },
  {
   "cell_type": "code",
   "execution_count": 35,
   "metadata": {},
   "outputs": [
    {
     "data": {
      "text/plain": [
       "28.997931666407865"
      ]
     },
     "execution_count": 35,
     "metadata": {},
     "output_type": "execute_result"
    }
   ],
   "source": [
    "cond(M*A)"
   ]
  },
  {
   "cell_type": "code",
   "execution_count": 36,
   "metadata": {},
   "outputs": [
    {
     "data": {
      "text/plain": [
       "([-0.18785798268923093, -0.1319601282031274, -0.13048433813493285, 0.1370769334138529, -0.28673892912704757, 0.1174137921522756, -0.0483100003408053, -0.22024618912668525, 0.04818692731023655, -0.07833977605609946  …  -0.47167625227992177, 0.4877974507827983, -0.6312099326639125, 0.4157718500086872, -0.3303995617627221, 0.24962045537858682, -0.5757966581990931, 0.453677872844035, -0.5953990031221373, 0.19535096466892013], Any[[0.0, 0.0, 0.0, 0.0, 0.0, 0.0, 0.0, 0.0, 0.0, 0.0  …  0.0, 0.0, 0.0, 0.0, 0.0, 0.0, 0.0, 0.0, 0.0, 0.0], -0.14738746893501598, -0.1657521579270986, -0.07568900556607486, -0.034050500837040504, -0.09925315313029846, -0.023010072397639938, -0.056900339597012725, -0.1301718837225351, -0.05386013293657207  …  -0.47167625227992177, 0.4877974507827983, -0.6312099326639125, 0.4157718500086872, -0.3303995617627221, 0.24962045537858682, -0.5757966581990931, 0.453677872844035, -0.5953990031221373, 0.19535096466892013], 55)"
      ]
     },
     "execution_count": 36,
     "metadata": {},
     "output_type": "execute_result"
    }
   ],
   "source": [
    "x, iter, k = pcg_quadratic_tol(A, b, x0, M, true)"
   ]
  },
  {
   "cell_type": "markdown",
   "metadata": {},
   "source": [
    "There is no advantage."
   ]
  },
  {
   "cell_type": "code",
   "execution_count": 38,
   "metadata": {},
   "outputs": [
    {
     "data": {
      "text/plain": [
       "1000×1000 Array{Float64,2}:\n",
       "  0.490553      -0.336899       0.231373      …   5.26731e-164  -2.45808e-164\n",
       " -0.336899       0.721926      -0.4958           -1.12871e-163   5.26731e-164\n",
       "  0.231373      -0.4958         0.831055          1.89193e-163  -8.82901e-164\n",
       " -0.158901       0.340503      -0.570747         -2.92543e-163   1.3652e-163\n",
       "  0.109129      -0.233848       0.391974          4.37685e-163  -2.04253e-163\n",
       " -0.0749471      0.160601      -0.269198      …  -6.45353e-163   3.01165e-163\n",
       "  0.0514717     -0.110297       0.184878          9.45214e-163  -4.411e-163\n",
       " -0.0353494      0.0757488     -0.126969         -1.38011e-162   6.44049e-163\n",
       "  0.0242771     -0.0520223      0.0871993         2.01216e-162  -9.39006e-163\n",
       " -0.0166729      0.0357276     -0.0598862        -2.93166e-162   1.36811e-162\n",
       "  0.0114505     -0.0245368      0.0411283     …   4.26996e-162  -1.99265e-162\n",
       " -0.00786389     0.0168512     -0.0282458        -6.21827e-162   2.90186e-162\n",
       "  0.00540072    -0.011573       0.0193985         9.05489e-162  -4.22562e-162\n",
       "  ⋮                                           ⋱                 \n",
       "  2.90186e-162  -6.21827e-162   1.0423e-161       0.0168512     -0.00786389\n",
       " -1.99265e-162   4.26996e-162  -7.15727e-162     -0.0245368      0.0114505\n",
       "  1.36811e-162  -2.93166e-162   4.91401e-162  …   0.0357276     -0.0166729\n",
       " -9.39006e-163   2.01216e-162  -3.37276e-162     -0.0520223      0.0242771\n",
       "  6.44049e-163  -1.38011e-162   2.31332e-162      0.0757488     -0.0353494\n",
       " -4.411e-163     9.45214e-163  -1.58436e-162     -0.110297       0.0514717\n",
       "  3.01165e-163  -6.45353e-163   1.08173e-162      0.160601      -0.0749471\n",
       " -2.04253e-163   4.37685e-163  -7.33643e-163  …  -0.233848       0.109129\n",
       "  1.3652e-163   -2.92543e-163   4.90358e-163      0.340503      -0.158901\n",
       " -8.82901e-164   1.89193e-163  -3.17124e-163     -0.4958         0.231373\n",
       "  5.26731e-164  -1.12871e-163   1.89193e-163      0.721926      -0.336899\n",
       " -2.45808e-164   5.26731e-164  -8.82901e-164     -0.336899       0.490553"
      ]
     },
     "execution_count": 38,
     "metadata": {},
     "output_type": "execute_result"
    }
   ],
   "source": [
    "M = inv(A)"
   ]
  },
  {
   "cell_type": "code",
   "execution_count": 41,
   "metadata": {},
   "outputs": [
    {
     "data": {
      "text/plain": [
       "1000×1000 SparseMatrixCSC{Float64,Int64} with 2998 stored entries:\n",
       "  [1   ,    1]  =  3.0\n",
       "  [2   ,    1]  =  1.4\n",
       "  [1   ,    2]  =  1.4\n",
       "  [2   ,    2]  =  3.0\n",
       "  [3   ,    2]  =  1.4\n",
       "  [2   ,    3]  =  1.4\n",
       "  [3   ,    3]  =  3.0\n",
       "  [4   ,    3]  =  1.4\n",
       "  [3   ,    4]  =  1.4\n",
       "  [4   ,    4]  =  3.0\n",
       "  [5   ,    4]  =  1.4\n",
       "  [4   ,    5]  =  1.4\n",
       "  ⋮\n",
       "  [996 ,  996]  =  3.0\n",
       "  [997 ,  996]  =  1.4\n",
       "  [996 ,  997]  =  1.4\n",
       "  [997 ,  997]  =  3.0\n",
       "  [998 ,  997]  =  1.4\n",
       "  [997 ,  998]  =  1.4\n",
       "  [998 ,  998]  =  3.0\n",
       "  [999 ,  998]  =  1.4\n",
       "  [998 ,  999]  =  1.4\n",
       "  [999 ,  999]  =  3.0\n",
       "  [1000,  999]  =  1.4\n",
       "  [999 , 1000]  =  1.4\n",
       "  [1000, 1000]  =  3.0"
      ]
     },
     "execution_count": 41,
     "metadata": {},
     "output_type": "execute_result"
    }
   ],
   "source": [
    "using SparseArrays\n",
    "\n",
    "sparse(A)"
   ]
  },
  {
   "cell_type": "code",
   "execution_count": 42,
   "metadata": {},
   "outputs": [
    {
     "data": {
      "text/plain": [
       "1000×1000 SparseMatrixCSC{Float64,Int64} with 1000000 stored entries:\n",
       "  [1   ,    1]  =  0.490553\n",
       "  [2   ,    1]  =  -0.336899\n",
       "  [3   ,    1]  =  0.231373\n",
       "  [4   ,    1]  =  -0.158901\n",
       "  [5   ,    1]  =  0.109129\n",
       "  [6   ,    1]  =  -0.0749471\n",
       "  [7   ,    1]  =  0.0514717\n",
       "  [8   ,    1]  =  -0.0353494\n",
       "  [9   ,    1]  =  0.0242771\n",
       "  [10  ,    1]  =  -0.0166729\n",
       "  [11  ,    1]  =  0.0114505\n",
       "  [12  ,    1]  =  -0.00786389\n",
       "  ⋮\n",
       "  [988 , 1000]  =  0.00540072\n",
       "  [989 , 1000]  =  -0.00786389\n",
       "  [990 , 1000]  =  0.0114505\n",
       "  [991 , 1000]  =  -0.0166729\n",
       "  [992 , 1000]  =  0.0242771\n",
       "  [993 , 1000]  =  -0.0353494\n",
       "  [994 , 1000]  =  0.0514717\n",
       "  [995 , 1000]  =  -0.0749471\n",
       "  [996 , 1000]  =  0.109129\n",
       "  [997 , 1000]  =  -0.158901\n",
       "  [998 , 1000]  =  0.231373\n",
       "  [999 , 1000]  =  -0.336899\n",
       "  [1000, 1000]  =  0.490553"
      ]
     },
     "execution_count": 42,
     "metadata": {},
     "output_type": "execute_result"
    }
   ],
   "source": [
    "sparse(M)"
   ]
  },
  {
   "cell_type": "code",
   "execution_count": 39,
   "metadata": {},
   "outputs": [
    {
     "data": {
      "text/plain": [
       "([-0.1878579826528576, -0.1319601277848617, -0.13048433889475178, 0.1370769345004003, -0.28673893031315534, 0.1174137932210659, -0.04831000167999644, -0.22024618791185221, 0.04818692637871178, -0.07833977533531897  …  -0.471676252351473, 0.4877974502429738, -0.6312099317782924, 0.4157718491238658, -0.3303995608846496, 0.24962045451188508, -0.5757966577073671, 0.4536778726089104, -0.5953990030474748, 0.19535096471120994], Any[[0.0, 0.0, 0.0, 0.0, 0.0, 0.0, 0.0, 0.0, 0.0, 0.0  …  0.0, 0.0, 0.0, 0.0, 0.0, 0.0, 0.0, 0.0, 0.0, 0.0], -0.1878579826528576, -0.1319601277848617, -0.13048433889475178, 0.1370769345004003, -0.28673893031315534, 0.1174137932210659, -0.04831000167999644, -0.22024618791185221, 0.04818692637871178  …  -0.471676252351473, 0.4877974502429738, -0.6312099317782924, 0.4157718491238658, -0.3303995608846496, 0.24962045451188508, -0.5757966577073671, 0.4536778726089104, -0.5953990030474748, 0.19535096471120994], 1)"
      ]
     },
     "execution_count": 39,
     "metadata": {},
     "output_type": "execute_result"
    }
   ],
   "source": [
    "x, iter, k = pcg_quadratic_tol(A, b, x0, M, true)"
   ]
  },
  {
   "cell_type": "markdown",
   "metadata": {},
   "source": [
    "Consider now the following example."
   ]
  },
  {
   "cell_type": "code",
   "execution_count": 43,
   "metadata": {},
   "outputs": [
    {
     "data": {
      "text/plain": [
       "1000×1000 Array{Float64,2}:\n",
       " 3.0  0.0   0.0   0.0   0.0   0.0  …       0.0       0.0       0.0  0.0\n",
       " 0.0  6.0   0.0   0.0   0.0   0.0          0.0       0.0       0.0  0.0\n",
       " 0.0  0.0  11.0   0.0   0.0   0.0          0.0       0.0       0.0  0.0\n",
       " 0.0  0.0   0.0  18.0   0.0   0.0          0.0       0.0       0.0  0.0\n",
       " 0.0  0.0   0.0   0.0  27.0   0.0          0.0       0.0       0.0  0.0\n",
       " 0.0  0.0   0.0   0.0   0.0  38.0  …       0.0       0.0       0.0  0.0\n",
       " 0.0  0.0   0.0   0.0   0.0   0.0          0.0       0.0       0.0  0.0\n",
       " 0.0  0.0   0.0   0.0   0.0   0.0          0.0       0.0       0.0  0.0\n",
       " 0.0  0.0   0.0   0.0   0.0   0.0          0.0       0.0       0.0  0.0\n",
       " 0.0  0.0   0.0   0.0   0.0   0.0          0.0       0.0       0.0  0.0\n",
       " 0.0  0.0   0.0   0.0   0.0   0.0  …       0.0       0.0       0.0  0.0\n",
       " 0.0  0.0   0.0   0.0   0.0   0.0          0.0       0.0       0.0  0.0\n",
       " 0.0  0.0   0.0   0.0   0.0   0.0          0.0       0.0       0.0  0.0\n",
       " ⋮                            ⋮    ⋱                                \n",
       " 0.0  0.0   0.0   0.0   0.0   0.0          0.0       0.0       0.0  0.0\n",
       " 0.0  0.0   0.0   0.0   0.0   0.0          0.0       0.0       0.0  0.0\n",
       " 0.0  0.0   0.0   0.0   0.0   0.0  …       0.0       0.0       0.0  0.0\n",
       " 0.0  0.0   0.0   0.0   0.0   0.0          0.0       0.0       0.0  0.0\n",
       " 0.0  0.0   0.0   0.0   0.0   0.0          0.0       0.0       0.0  0.0\n",
       " 0.0  0.0   0.0   0.0   0.0   0.0          0.0       0.0       0.0  0.0\n",
       " 0.0  0.0   0.0   0.0   0.0   0.0          0.0       0.0       0.0  0.0\n",
       " 0.0  0.0   0.0   0.0   0.0   0.0  …       0.0       0.0       0.0  0.0\n",
       " 0.0  0.0   0.0   0.0   0.0   0.0     994011.0       0.0       0.0  0.0\n",
       " 0.0  0.0   0.0   0.0   0.0   0.0          0.0  996006.0       0.0  0.0\n",
       " 0.0  0.0   0.0   0.0   0.0   0.0          0.0       0.0  998003.0  0.0\n",
       " 0.0  0.0   0.0   0.0   0.0   0.0          0.0       0.0       0.0  1.0e6"
      ]
     },
     "execution_count": 43,
     "metadata": {},
     "output_type": "execute_result"
    }
   ],
   "source": [
    "n = 1000\n",
    "A = zeros(n,n)+Diagonal([2+i*i for i=1:n])"
   ]
  },
  {
   "cell_type": "code",
   "execution_count": 44,
   "metadata": {},
   "outputs": [
    {
     "data": {
      "text/plain": [
       "372201.88311699365"
      ]
     },
     "execution_count": 44,
     "metadata": {},
     "output_type": "execute_result"
    }
   ],
   "source": [
    "for i = 1:n-1\n",
    "    A[i,i+1] = 1\n",
    "    A[i+1,i] = 1\n",
    "end\n",
    "A[n,1] = 1\n",
    "A[1,n] = 1\n",
    "cond(A)"
   ]
  },
  {
   "cell_type": "code",
   "execution_count": 45,
   "metadata": {},
   "outputs": [
    {
     "data": {
      "text/plain": [
       "0.9967271248797949"
      ]
     },
     "execution_count": 45,
     "metadata": {},
     "output_type": "execute_result"
    }
   ],
   "source": [
    "κ = cond(A)\n",
    "(sqrt(κ)-1)/(sqrt(κ)+1)"
   ]
  },
  {
   "cell_type": "code",
   "execution_count": 46,
   "metadata": {},
   "outputs": [
    {
     "data": {
      "text/plain": [
       "1000×1000 Array{Float64,2}:\n",
       " 3.0  1.0   0.0   0.0   0.0   0.0  …       0.0       0.0       0.0  1.0\n",
       " 1.0  6.0   1.0   0.0   0.0   0.0          0.0       0.0       0.0  0.0\n",
       " 0.0  1.0  11.0   1.0   0.0   0.0          0.0       0.0       0.0  0.0\n",
       " 0.0  0.0   1.0  18.0   1.0   0.0          0.0       0.0       0.0  0.0\n",
       " 0.0  0.0   0.0   1.0  27.0   1.0          0.0       0.0       0.0  0.0\n",
       " 0.0  0.0   0.0   0.0   1.0  38.0  …       0.0       0.0       0.0  0.0\n",
       " 0.0  0.0   0.0   0.0   0.0   1.0          0.0       0.0       0.0  0.0\n",
       " 0.0  0.0   0.0   0.0   0.0   0.0          0.0       0.0       0.0  0.0\n",
       " 0.0  0.0   0.0   0.0   0.0   0.0          0.0       0.0       0.0  0.0\n",
       " 0.0  0.0   0.0   0.0   0.0   0.0          0.0       0.0       0.0  0.0\n",
       " 0.0  0.0   0.0   0.0   0.0   0.0  …       0.0       0.0       0.0  0.0\n",
       " 0.0  0.0   0.0   0.0   0.0   0.0          0.0       0.0       0.0  0.0\n",
       " 0.0  0.0   0.0   0.0   0.0   0.0          0.0       0.0       0.0  0.0\n",
       " ⋮                            ⋮    ⋱                                \n",
       " 0.0  0.0   0.0   0.0   0.0   0.0          0.0       0.0       0.0  0.0\n",
       " 0.0  0.0   0.0   0.0   0.0   0.0          0.0       0.0       0.0  0.0\n",
       " 0.0  0.0   0.0   0.0   0.0   0.0  …       0.0       0.0       0.0  0.0\n",
       " 0.0  0.0   0.0   0.0   0.0   0.0          0.0       0.0       0.0  0.0\n",
       " 0.0  0.0   0.0   0.0   0.0   0.0          0.0       0.0       0.0  0.0\n",
       " 0.0  0.0   0.0   0.0   0.0   0.0          0.0       0.0       0.0  0.0\n",
       " 0.0  0.0   0.0   0.0   0.0   0.0          0.0       0.0       0.0  0.0\n",
       " 0.0  0.0   0.0   0.0   0.0   0.0  …       1.0       0.0       0.0  0.0\n",
       " 0.0  0.0   0.0   0.0   0.0   0.0     994011.0       1.0       0.0  0.0\n",
       " 0.0  0.0   0.0   0.0   0.0   0.0          1.0  996006.0       1.0  0.0\n",
       " 0.0  0.0   0.0   0.0   0.0   0.0          0.0       1.0  998003.0  1.0\n",
       " 1.0  0.0   0.0   0.0   0.0   0.0          0.0       0.0       1.0  1.0e6"
      ]
     },
     "execution_count": 46,
     "metadata": {},
     "output_type": "execute_result"
    }
   ],
   "source": [
    "A"
   ]
  },
  {
   "cell_type": "code",
   "execution_count": 47,
   "metadata": {},
   "outputs": [
    {
     "data": {
      "text/plain": [
       "1000×1000 Array{Float64,2}:\n",
       "  0.353263     -0.0597876     0.00546288   …   3.53969e-13  -3.53262e-7\n",
       " -0.0597876     0.179363     -0.0163886       -5.99071e-14   5.97875e-8\n",
       "  0.00546288   -0.0163886     0.092869         5.4738e-15   -5.46287e-9\n",
       " -0.00030412    0.000912359  -0.00517004      -3.04728e-16   3.04119e-10\n",
       "  1.12747e-5   -3.38241e-5    0.00019167       1.12972e-17  -1.12747e-11\n",
       " -2.96856e-7    8.90567e-7   -5.04654e-6   …  -2.97449e-19   2.96855e-13\n",
       "  5.82243e-9   -1.74673e-8    9.89813e-8       5.83407e-21  -5.82242e-15\n",
       " -8.82347e-11   2.64704e-10  -1.49999e-9      -8.84111e-23   8.82346e-17\n",
       "  1.06319e-12  -3.18958e-12   1.80743e-11      1.06532e-24  -1.06319e-18\n",
       " -1.04243e-14   3.12729e-14  -1.77213e-13     -1.04451e-26   1.04243e-20\n",
       "  8.47552e-17  -2.54265e-16   1.44084e-15  …   8.49246e-29  -8.4755e-23\n",
       " -5.80538e-19   1.74161e-18  -9.86915e-18     -5.81699e-31   5.80537e-25\n",
       "  3.39506e-21  -1.01852e-20   5.7716e-20       3.40185e-33  -3.39505e-27\n",
       "  ⋮                                        ⋱                \n",
       "  4.03306e-73  -6.82572e-74   6.23676e-75      1.14166e-66  -1.14166e-72\n",
       " -3.94483e-67   6.67639e-68  -6.10032e-69     -1.11669e-60   1.11669e-66\n",
       "  3.86634e-61  -6.54355e-62   5.97894e-63  …   1.09447e-54  -1.09447e-60\n",
       " -3.79706e-55   6.4263e-56   -5.87181e-57     -1.07486e-48   1.07486e-54\n",
       "  3.73656e-49  -6.32391e-50   5.77825e-51      1.05773e-42  -1.05773e-48\n",
       " -3.68444e-43   6.2357e-44   -5.69765e-45     -1.04298e-36   1.04298e-42\n",
       "  3.64037e-37  -6.1611e-38    5.62949e-39      1.0305e-30   -1.0305e-36\n",
       " -3.60406e-31   6.09966e-32  -5.57335e-33  …  -1.02022e-24   1.02022e-30\n",
       "  3.57529e-25  -6.05097e-26   5.52887e-27      1.01208e-18  -1.01208e-24\n",
       " -3.55388e-19   6.01473e-20  -5.49575e-21     -1.00602e-12   1.00602e-18\n",
       "  3.53969e-13  -5.99071e-14   5.4738e-15       1.002e-6     -1.002e-12\n",
       " -3.53262e-7    5.97875e-8   -5.46287e-9      -1.002e-12     9.99998e-7"
      ]
     },
     "execution_count": 47,
     "metadata": {},
     "output_type": "execute_result"
    }
   ],
   "source": [
    "A^(-1)"
   ]
  },
  {
   "cell_type": "code",
   "execution_count": 48,
   "metadata": {},
   "outputs": [
    {
     "data": {
      "text/plain": [
       "([-0.21331767327169832, -0.10295953980957633, -0.022077330804734632, -0.009287982958805029, -0.018515217071553302, -0.0011137106163345988, -0.004965379908881404, -0.01034542666420233, -0.002472839310021539, -0.004433456670584237  …  -2.6207318284094386e-7, -1.0589177085191018e-7, -6.375134046673504e-7, -1.0013845483786068e-7, -6.020231685386995e-8, -5.442191665420026e-7, -7.490742832624839e-7, -2.67345468061417e-7, -8.79049036196302e-7, 5.186863461059312e-7], Any[[0.0, 0.0, 0.0, 0.0, 0.0, 0.0, 0.0, 0.0, 0.0, 0.0  …  0.0, 0.0, 0.0, 0.0, 0.0, 0.0, 0.0, 0.0, 0.0, 0.0], -2.202991217714471e-6, -2.4774870677209154e-6, -1.1313188003324916e-6, -5.089506919740452e-7, -1.4835306302255782e-6, -3.43930103266275e-7, -8.50485793147435e-7, -1.9456709495468142e-6, -8.050440156246742e-7  …  -2.6207318284094386e-7, -1.0589177085191018e-7, -6.375134046673504e-7, -1.0013845483786068e-7, -6.020231685386995e-8, -5.442191665420026e-7, -7.490742832624839e-7, -2.67345468061417e-7, -8.79049036196302e-7, 5.186863461059312e-7], 1001)"
      ]
     },
     "execution_count": 48,
     "metadata": {},
     "output_type": "execute_result"
    }
   ],
   "source": [
    "M = zeros(n,n)+I\n",
    "x, iter, k = pcg_quadratic_tol(A, b, x0, M, true)"
   ]
  },
  {
   "cell_type": "code",
   "execution_count": 50,
   "metadata": {},
   "outputs": [
    {
     "data": {
      "text/plain": [
       "(1.926360732450869, 372201.88311699365)"
      ]
     },
     "execution_count": 50,
     "metadata": {},
     "output_type": "execute_result"
    }
   ],
   "source": [
    "M = zeros(n,n)\n",
    "for i = 1:n\n",
    "    M[i,i] = 1/A[i,i]\n",
    "end\n",
    "cond(A*M), cond(A)"
   ]
  },
  {
   "cell_type": "code",
   "execution_count": 51,
   "metadata": {},
   "outputs": [
    {
     "data": {
      "text/plain": [
       "1000×1000 Array{Float64,2}:\n",
       " 0.333333  0.0       0.0        …  0.0         0.0       0.0\n",
       " 0.0       0.166667  0.0           0.0         0.0       0.0\n",
       " 0.0       0.0       0.0909091     0.0         0.0       0.0\n",
       " 0.0       0.0       0.0           0.0         0.0       0.0\n",
       " 0.0       0.0       0.0           0.0         0.0       0.0\n",
       " 0.0       0.0       0.0        …  0.0         0.0       0.0\n",
       " 0.0       0.0       0.0           0.0         0.0       0.0\n",
       " 0.0       0.0       0.0           0.0         0.0       0.0\n",
       " 0.0       0.0       0.0           0.0         0.0       0.0\n",
       " 0.0       0.0       0.0           0.0         0.0       0.0\n",
       " 0.0       0.0       0.0        …  0.0         0.0       0.0\n",
       " 0.0       0.0       0.0           0.0         0.0       0.0\n",
       " 0.0       0.0       0.0           0.0         0.0       0.0\n",
       " ⋮                              ⋱                        \n",
       " 0.0       0.0       0.0           0.0         0.0       0.0\n",
       " 0.0       0.0       0.0           0.0         0.0       0.0\n",
       " 0.0       0.0       0.0        …  0.0         0.0       0.0\n",
       " 0.0       0.0       0.0           0.0         0.0       0.0\n",
       " 0.0       0.0       0.0           0.0         0.0       0.0\n",
       " 0.0       0.0       0.0           0.0         0.0       0.0\n",
       " 0.0       0.0       0.0           0.0         0.0       0.0\n",
       " 0.0       0.0       0.0        …  0.0         0.0       0.0\n",
       " 0.0       0.0       0.0           0.0         0.0       0.0\n",
       " 0.0       0.0       0.0           1.00401e-6  0.0       0.0\n",
       " 0.0       0.0       0.0           0.0         1.002e-6  0.0\n",
       " 0.0       0.0       0.0           0.0         0.0       9.99998e-7"
      ]
     },
     "execution_count": 51,
     "metadata": {},
     "output_type": "execute_result"
    }
   ],
   "source": [
    "M"
   ]
  },
  {
   "cell_type": "code",
   "execution_count": 52,
   "metadata": {
    "scrolled": true
   },
   "outputs": [
    {
     "data": {
      "text/plain": [
       "1000×1000 Array{Float64,2}:\n",
       " 1.0       0.166667  0.0        …  0.0         0.0       9.99998e-7\n",
       " 0.333333  1.0       0.0909091     0.0         0.0       0.0\n",
       " 0.0       0.166667  1.0           0.0         0.0       0.0\n",
       " 0.0       0.0       0.0909091     0.0         0.0       0.0\n",
       " 0.0       0.0       0.0           0.0         0.0       0.0\n",
       " 0.0       0.0       0.0        …  0.0         0.0       0.0\n",
       " 0.0       0.0       0.0           0.0         0.0       0.0\n",
       " 0.0       0.0       0.0           0.0         0.0       0.0\n",
       " 0.0       0.0       0.0           0.0         0.0       0.0\n",
       " 0.0       0.0       0.0           0.0         0.0       0.0\n",
       " 0.0       0.0       0.0        …  0.0         0.0       0.0\n",
       " 0.0       0.0       0.0           0.0         0.0       0.0\n",
       " 0.0       0.0       0.0           0.0         0.0       0.0\n",
       " ⋮                              ⋱                        \n",
       " 0.0       0.0       0.0           0.0         0.0       0.0\n",
       " 0.0       0.0       0.0           0.0         0.0       0.0\n",
       " 0.0       0.0       0.0        …  0.0         0.0       0.0\n",
       " 0.0       0.0       0.0           0.0         0.0       0.0\n",
       " 0.0       0.0       0.0           0.0         0.0       0.0\n",
       " 0.0       0.0       0.0           0.0         0.0       0.0\n",
       " 0.0       0.0       0.0           0.0         0.0       0.0\n",
       " 0.0       0.0       0.0        …  0.0         0.0       0.0\n",
       " 0.0       0.0       0.0           1.00401e-6  0.0       0.0\n",
       " 0.0       0.0       0.0           1.0         1.002e-6  0.0\n",
       " 0.0       0.0       0.0           1.00401e-6  1.0       9.99998e-7\n",
       " 0.333333  0.0       0.0           0.0         1.002e-6  1.0"
      ]
     },
     "execution_count": 52,
     "metadata": {},
     "output_type": "execute_result"
    }
   ],
   "source": [
    "A*M"
   ]
  },
  {
   "cell_type": "code",
   "execution_count": 53,
   "metadata": {},
   "outputs": [
    {
     "data": {
      "text/plain": [
       "([-0.21609033426925445, -0.10004709265979911, -0.025186743274806068, -0.007188218503567845, -0.018307097261454637, -0.0024499279914479088, -0.0054227660835474084, -0.00988435772999367, -0.0031204961855510697, -0.004574025792436715  …  -2.4568273559223287e-7, -8.195326728476134e-8, -6.375254370756678e-7, -1.0013485784837126e-7, -6.024970378849954e-8, -5.239950641114213e-7, -7.47246773058922e-7, -2.797560265153407e-7, -8.793123132800291e-7, -3.141443128966133e-8], Any[[0.0, 0.0, 0.0, 0.0, 0.0, 0.0, 0.0, 0.0, 0.0, 0.0  …  0.0, 0.0, 0.0, 0.0, 0.0, 0.0, 0.0, 0.0, 0.0, 0.0], -0.2040447230221838, -0.11473449336956834, -0.028577627802445247, -0.007856643741225954, -0.01526745363834863, -0.002514898431194379, -0.004633730205006008, -0.008191422289019035, -0.0026951031403350876  …  -2.4568273559223287e-7, -8.195326728476134e-8, -6.375254370756678e-7, -1.0013485784837126e-7, -6.024970378849954e-8, -5.239950641114213e-7, -7.47246773058922e-7, -2.797560265153407e-7, -8.793123132800291e-7, -3.141443128966133e-8], 7)"
      ]
     },
     "execution_count": 53,
     "metadata": {},
     "output_type": "execute_result"
    }
   ],
   "source": [
    "x, iter, k = pcg_quadratic_tol(A, b, x0, M, true)"
   ]
  },
  {
   "cell_type": "code",
   "execution_count": 54,
   "metadata": {},
   "outputs": [
    {
     "data": {
      "text/plain": [
       "pcg_quadratic (generic function with 3 methods)"
      ]
     },
     "execution_count": 54,
     "metadata": {},
     "output_type": "execute_result"
    }
   ],
   "source": [
    "function pcg_quadratic(A:: Matrix, b:: Vector, x0:: Vector, M:: Matrix,\n",
    "                       trace:: Bool = false, tol = 1e-8)\n",
    "    n = length(x0)\n",
    "    x = x0\n",
    "    if (trace)\n",
    "        iter = [ x ]\n",
    "    end\n",
    "    g = b+A*x\n",
    "    v = M\\g\n",
    "    d = -v\n",
    "    k = 0\n",
    "    \n",
    "    tol2 = tol*tol\n",
    "\n",
    "    β = 0.0\n",
    "\n",
    "    gv = dot(g,v)\n",
    "    while ((gv > tol2) && (k <= n))\n",
    "#    while ((dot(g,g) > tol2) && (k <= n))\n",
    "        Ad = A*d\n",
    "        normd = dot(d,Ad)\n",
    "        #gv = dot(g,v)\n",
    "        α = gv/normd\n",
    "        x += α*d\n",
    "        if (trace)\n",
    "            iter = [ iter; x ]\n",
    "        end\n",
    "        g += α*Ad\n",
    "        v = M\\g\n",
    "        gvold = gv\n",
    "        gv = dot(g,v)\n",
    "        β = gv/gvold\n",
    "        d = -v+β*d\n",
    "        k += 1\n",
    "    end\n",
    "\n",
    "    if (trace)\n",
    "        iter = [ iter; x ]\n",
    "        return x, iter, k\n",
    "    end\n",
    "\n",
    "    return x, k\n",
    "end"
   ]
  },
  {
   "cell_type": "code",
   "execution_count": 57,
   "metadata": {},
   "outputs": [
    {
     "data": {
      "text/plain": [
       "ichol (generic function with 1 method)"
      ]
     },
     "execution_count": 57,
     "metadata": {},
     "output_type": "execute_result"
    }
   ],
   "source": [
    "function ichol(A:: Matrix)\n",
    "\n",
    "    n = size(A,1)\n",
    "    C = zeros(n,n)+I\n",
    "    \n",
    "    for k=1:n\n",
    "        C[k,k] = sqrt(A[k,k])\n",
    "        for i=(k+1):n\n",
    "            if (A[i,k] != 0)\n",
    "                C[i,k] = A[i,k]/A[k,k]    \n",
    "            end\n",
    "        end\n",
    "        for j=(k+1):n\n",
    "            for i=j:n\n",
    "                if (A[i,j] != 0)\n",
    "                    C[i,j] = A[i,j]-A[i,k]*A[j,k]\n",
    "                end\n",
    "            end\n",
    "        end\n",
    "    end\n",
    "\n",
    "    return C\n",
    "end"
   ]
  },
  {
   "cell_type": "code",
   "execution_count": 55,
   "metadata": {},
   "outputs": [
    {
     "data": {
      "text/plain": [
       "1000×1000 LowerTriangular{Float64,Array{Float64,2}}:\n",
       " 1.73205    ⋅         ⋅          ⋅          …     ⋅           ⋅            ⋅ \n",
       " 0.57735   2.38048    ⋅          ⋅                ⋅           ⋅            ⋅ \n",
       " 0.0       0.420084  3.28991     ⋅                ⋅           ⋅            ⋅ \n",
       " 0.0       0.0       0.303959   4.23174           ⋅           ⋅            ⋅ \n",
       " 0.0       0.0       0.0        0.23631           ⋅           ⋅            ⋅ \n",
       " 0.0       0.0       0.0        0.0         …     ⋅           ⋅            ⋅ \n",
       " 0.0       0.0       0.0        0.0               ⋅           ⋅            ⋅ \n",
       " 0.0       0.0       0.0        0.0               ⋅           ⋅            ⋅ \n",
       " 0.0       0.0       0.0        0.0               ⋅           ⋅            ⋅ \n",
       " 0.0       0.0       0.0        0.0               ⋅           ⋅            ⋅ \n",
       " 0.0       0.0       0.0        0.0         …     ⋅           ⋅            ⋅ \n",
       " 0.0       0.0       0.0        0.0               ⋅           ⋅            ⋅ \n",
       " 0.0       0.0       0.0        0.0               ⋅           ⋅            ⋅ \n",
       " ⋮                                          ⋱                          \n",
       " 0.0       0.0       0.0        0.0               ⋅           ⋅            ⋅ \n",
       " 0.0       0.0       0.0        0.0               ⋅           ⋅            ⋅ \n",
       " 0.0       0.0       0.0        0.0         …     ⋅           ⋅            ⋅ \n",
       " 0.0       0.0       0.0        0.0               ⋅           ⋅            ⋅ \n",
       " 0.0       0.0       0.0        0.0               ⋅           ⋅            ⋅ \n",
       " 0.0       0.0       0.0        0.0               ⋅           ⋅            ⋅ \n",
       " 0.0       0.0       0.0        0.0               ⋅           ⋅            ⋅ \n",
       " 0.0       0.0       0.0        0.0         …     ⋅           ⋅            ⋅ \n",
       " 0.0       0.0       0.0        0.0               ⋅           ⋅            ⋅ \n",
       " 0.0       0.0       0.0        0.0            998.001        ⋅            ⋅ \n",
       " 0.0       0.0       0.0        0.0              0.001002  999.001         ⋅ \n",
       " 0.57735  -0.140028  0.01788   -0.00128429       0.0         0.001001  1000.0"
      ]
     },
     "execution_count": 55,
     "metadata": {},
     "output_type": "execute_result"
    }
   ],
   "source": [
    "C = cholesky(A)\n",
    "C.L"
   ]
  },
  {
   "cell_type": "code",
   "execution_count": 56,
   "metadata": {},
   "outputs": [
    {
     "data": {
      "text/plain": [
       "1000×1000 Array{Float64,2}:\n",
       " 3.0   1.0          0.0          …       0.0       0.0   1.0\n",
       " 1.0   6.0          1.0                  0.0       0.0   0.0\n",
       " 0.0   1.0         11.0                  0.0       0.0   0.0\n",
       " 0.0   0.0          1.0                  0.0       0.0  -8.67362e-19\n",
       " 0.0   0.0          0.0                  0.0       0.0   0.0\n",
       " 0.0   0.0          0.0          …       0.0       0.0   0.0\n",
       " 0.0   0.0          0.0                  0.0       0.0   0.0\n",
       " 0.0   0.0          0.0                  0.0       0.0   0.0\n",
       " 0.0   0.0          0.0                  0.0       0.0   0.0\n",
       " 0.0   0.0          0.0                  0.0       0.0   0.0\n",
       " 0.0   0.0          0.0          …       0.0       0.0   0.0\n",
       " 0.0   0.0          0.0                  0.0       0.0   1.2326e-32\n",
       " 0.0   0.0          0.0                  0.0       0.0   0.0\n",
       " ⋮                               ⋱                      \n",
       " 0.0   0.0          0.0                  0.0       0.0   0.0\n",
       " 0.0   0.0          0.0                  0.0       0.0   0.0\n",
       " 0.0   0.0          0.0          …       0.0       0.0   0.0\n",
       " 0.0   0.0          0.0                  0.0       0.0   0.0\n",
       " 0.0   0.0          0.0                  0.0       0.0   0.0\n",
       " 0.0   0.0          0.0                  0.0       0.0   0.0\n",
       " 0.0   0.0          0.0                  0.0       0.0   0.0\n",
       " 0.0   0.0          0.0          …       0.0       0.0   0.0\n",
       " 0.0   0.0          0.0                  1.0       0.0   0.0\n",
       " 0.0   0.0          0.0             996006.0       1.0   0.0\n",
       " 0.0   0.0          0.0                  1.0  998003.0   1.0\n",
       " 1.0  -1.0935e-17   1.97907e-18          0.0       1.0   1.0e6"
      ]
     },
     "execution_count": 56,
     "metadata": {},
     "output_type": "execute_result"
    }
   ],
   "source": [
    "M = C.L*C.U"
   ]
  },
  {
   "cell_type": "code",
   "execution_count": 58,
   "metadata": {},
   "outputs": [
    {
     "data": {
      "text/plain": [
       "([-0.21609033426004487, -0.1000470926628109, -0.025186743284327757, -0.007188218492085147, -0.01830709724800843, -0.0024499279411004595, -0.005422766117388938, -0.009884357679153724, -0.003120496215819736, -0.004574025817711981  …  -2.4568273534966826e-7, -8.195326720421051e-8, -6.37525436446165e-7, -1.0013485774978416e-7, -6.024970372926838e-8, -5.239950635943015e-7, -7.472467723213303e-7, -2.797560262397645e-7, -8.793123124116823e-7, -3.1414433731610125e-8], Any[[0.0, 0.0, 0.0, 0.0, 0.0, 0.0, 0.0, 0.0, 0.0, 0.0  …  0.0, 0.0, 0.0, 0.0, 0.0, 0.0, 0.0, 0.0, 0.0, 0.0], -0.21609033426004487, -0.1000470926628109, -0.025186743284327757, -0.007188218492085147, -0.01830709724800843, -0.0024499279411004595, -0.005422766117388938, -0.009884357679153724, -0.003120496215819736  …  -2.4568273534966826e-7, -8.195326720421051e-8, -6.37525436446165e-7, -1.0013485774978416e-7, -6.024970372926838e-8, -5.239950635943015e-7, -7.472467723213303e-7, -2.797560262397645e-7, -8.793123124116823e-7, -3.1414433731610125e-8], 1)"
      ]
     },
     "execution_count": 58,
     "metadata": {},
     "output_type": "execute_result"
    }
   ],
   "source": [
    "x, iter, k = pcg_quadratic(A, b, x0, M, true)"
   ]
  },
  {
   "cell_type": "code",
   "execution_count": 59,
   "metadata": {},
   "outputs": [
    {
     "data": {
      "text/plain": [
       "1000×1000 Array{Float64,2}:\n",
       " 1.73205   0.0       0.0        …    0.0           0.0          0.0\n",
       " 0.333333  2.44949   0.0             0.0           0.0          0.0\n",
       " 0.0       0.166667  3.31662         0.0           0.0          0.0\n",
       " 0.0       0.0       0.0909091       0.0           0.0          0.0\n",
       " 0.0       0.0       0.0             0.0           0.0          0.0\n",
       " 0.0       0.0       0.0        …    0.0           0.0          0.0\n",
       " 0.0       0.0       0.0             0.0           0.0          0.0\n",
       " 0.0       0.0       0.0             0.0           0.0          0.0\n",
       " 0.0       0.0       0.0             0.0           0.0          0.0\n",
       " 0.0       0.0       0.0             0.0           0.0          0.0\n",
       " 0.0       0.0       0.0        …    0.0           0.0          0.0\n",
       " 0.0       0.0       0.0             0.0           0.0          0.0\n",
       " 0.0       0.0       0.0             0.0           0.0          0.0\n",
       " ⋮                              ⋱                            \n",
       " 0.0       0.0       0.0             0.0           0.0          0.0\n",
       " 0.0       0.0       0.0             0.0           0.0          0.0\n",
       " 0.0       0.0       0.0        …    0.0           0.0          0.0\n",
       " 0.0       0.0       0.0             0.0           0.0          0.0\n",
       " 0.0       0.0       0.0             0.0           0.0          0.0\n",
       " 0.0       0.0       0.0             0.0           0.0          0.0\n",
       " 0.0       0.0       0.0             0.0           0.0          0.0\n",
       " 0.0       0.0       0.0        …    0.0           0.0          0.0\n",
       " 0.0       0.0       0.0             0.0           0.0          0.0\n",
       " 0.0       0.0       0.0           998.001         0.0          0.0\n",
       " 0.0       0.0       0.0             1.00401e-6  999.001        0.0\n",
       " 0.333333  0.0       0.0             0.0           1.002e-6  1000.0"
      ]
     },
     "execution_count": 59,
     "metadata": {},
     "output_type": "execute_result"
    }
   ],
   "source": [
    "C = ichol(A)"
   ]
  },
  {
   "cell_type": "code",
   "execution_count": 60,
   "metadata": {},
   "outputs": [
    {
     "data": {
      "text/plain": [
       "1000×1000 Array{Float64,2}:\n",
       " 3.0      0.57735    0.0        0.0       …       0.0       0.57735\n",
       " 0.57735  6.11111    0.408248   0.0               0.0       0.111111\n",
       " 0.0      0.408248  11.0278     0.301511          0.0       0.0\n",
       " 0.0      0.0        0.301511  18.0083            0.0       0.0\n",
       " 0.0      0.0        0.0        0.235702          0.0       0.0\n",
       " 0.0      0.0        0.0        0.0       …       0.0       0.0\n",
       " 0.0      0.0        0.0        0.0               0.0       0.0\n",
       " 0.0      0.0        0.0        0.0               0.0       0.0\n",
       " 0.0      0.0        0.0        0.0               0.0       0.0\n",
       " 0.0      0.0        0.0        0.0               0.0       0.0\n",
       " 0.0      0.0        0.0        0.0       …       0.0       0.0\n",
       " 0.0      0.0        0.0        0.0               0.0       0.0\n",
       " 0.0      0.0        0.0        0.0               0.0       0.0\n",
       " ⋮                                        ⋱                 \n",
       " 0.0      0.0        0.0        0.0               0.0       0.0\n",
       " 0.0      0.0        0.0        0.0               0.0       0.0\n",
       " 0.0      0.0        0.0        0.0       …       0.0       0.0\n",
       " 0.0      0.0        0.0        0.0               0.0       0.0\n",
       " 0.0      0.0        0.0        0.0               0.0       0.0\n",
       " 0.0      0.0        0.0        0.0               0.0       0.0\n",
       " 0.0      0.0        0.0        0.0               0.0       0.0\n",
       " 0.0      0.0        0.0        0.0       …       0.0       0.0\n",
       " 0.0      0.0        0.0        0.0               0.0       0.0\n",
       " 0.0      0.0        0.0        0.0               0.001002  0.0\n",
       " 0.0      0.0        0.0        0.0          998003.0       0.001001\n",
       " 0.57735  0.111111   0.0        0.0               0.001001  1.0e6"
      ]
     },
     "execution_count": 60,
     "metadata": {},
     "output_type": "execute_result"
    }
   ],
   "source": [
    "M=C*C'"
   ]
  },
  {
   "cell_type": "code",
   "execution_count": 62,
   "metadata": {},
   "outputs": [
    {
     "data": {
      "text/plain": [
       "44.413128608038384"
      ]
     },
     "execution_count": 62,
     "metadata": {},
     "output_type": "execute_result"
    }
   ],
   "source": [
    "norm(M-A)"
   ]
  },
  {
   "cell_type": "code",
   "execution_count": 63,
   "metadata": {},
   "outputs": [
    {
     "data": {
      "text/plain": [
       "([-0.21609033438712855, -0.1000470926186227, -0.02518674324365346, -0.007188218610322295, -0.018307096981803977, -0.0024499280377395954, -0.005422765870966465, -0.009884357610898847, -0.003120496235790187, -0.004574025813135988  …  -2.456827371951104e-7, -8.195326782012867e-8, -6.375254412348656e-7, -1.0013485850219587e-7, -6.02497041820625e-8, -5.239950675304856e-7, -7.472467779344176e-7, -2.797560283417163e-7, -8.793123190156756e-7, -3.141443486675703e-8], Any[[0.0, 0.0, 0.0, 0.0, 0.0, 0.0, 0.0, 0.0, 0.0, 0.0  …  0.0, 0.0, 0.0, 0.0, 0.0, 0.0, 0.0, 0.0, 0.0, 0.0], -0.21083317406502208, -0.10584200646551416, -0.028157152437304954, -0.008201614420679933, -0.017206412772396002, -0.002740115834063671, -0.005216241771747509, -0.009264897238713165, -0.003034362106614687  …  -2.456827371951104e-7, -8.195326782012867e-8, -6.375254412348656e-7, -1.0013485850219587e-7, -6.02497041820625e-8, -5.239950675304856e-7, -7.472467779344176e-7, -2.797560283417163e-7, -8.793123190156756e-7, -3.141443486675703e-8], 6)"
      ]
     },
     "execution_count": 63,
     "metadata": {},
     "output_type": "execute_result"
    }
   ],
   "source": [
    "x, iter, k = pcg_quadratic(A, b, x0, M, true)"
   ]
  },
  {
   "cell_type": "markdown",
   "metadata": {},
   "source": [
    "An efficient implementation would make use of sparse matrices and specific functions to compute v."
   ]
  },
  {
   "cell_type": "code",
   "execution_count": 64,
   "metadata": {},
   "outputs": [],
   "source": [
    "using BenchmarkTools"
   ]
  },
  {
   "cell_type": "code",
   "execution_count": 65,
   "metadata": {},
   "outputs": [
    {
     "data": {
      "text/plain": [
       "BenchmarkTools.Trial: \n",
       "  memory estimate:  54.23 MiB\n",
       "  allocs estimate:  7093\n",
       "  --------------\n",
       "  minimum time:     1.426 s (0.00% GC)\n",
       "  median time:      2.661 s (0.00% GC)\n",
       "  mean time:        2.285 s (0.54% GC)\n",
       "  maximum time:     2.768 s (0.00% GC)\n",
       "  --------------\n",
       "  samples:          3\n",
       "  evals/sample:     1"
      ]
     },
     "execution_count": 65,
     "metadata": {},
     "output_type": "execute_result"
    }
   ],
   "source": [
    "@benchmark pcg_quadratic(A, b, x0, M, true)"
   ]
  },
  {
   "cell_type": "code",
   "execution_count": 66,
   "metadata": {},
   "outputs": [
    {
     "data": {
      "text/plain": [
       "BenchmarkTools.Trial: \n",
       "  memory estimate:  3.83 GiB\n",
       "  allocs estimate:  1014019\n",
       "  --------------\n",
       "  minimum time:     9.287 s (10.24% GC)\n",
       "  median time:      9.287 s (10.24% GC)\n",
       "  mean time:        9.287 s (10.24% GC)\n",
       "  maximum time:     9.287 s (10.24% GC)\n",
       "  --------------\n",
       "  samples:          1\n",
       "  evals/sample:     1"
      ]
     },
     "execution_count": 66,
     "metadata": {},
     "output_type": "execute_result"
    }
   ],
   "source": [
    "M = zeros(n,n)+I\n",
    "@benchmark pcg_quadratic(A, b, x0, M, true)"
   ]
  },
  {
   "cell_type": "code",
   "execution_count": 67,
   "metadata": {},
   "outputs": [
    {
     "data": {
      "text/plain": [
       "BenchmarkTools.Trial: \n",
       "  memory estimate:  7.65 MiB\n",
       "  allocs estimate:  5\n",
       "  --------------\n",
       "  minimum time:     91.050 ms (0.00% GC)\n",
       "  median time:      169.786 ms (0.00% GC)\n",
       "  mean time:        218.153 ms (0.66% GC)\n",
       "  maximum time:     798.786 ms (4.14% GC)\n",
       "  --------------\n",
       "  samples:          23\n",
       "  evals/sample:     1"
      ]
     },
     "execution_count": 67,
     "metadata": {},
     "output_type": "execute_result"
    }
   ],
   "source": [
    "@benchmark A\\(-b)"
   ]
  },
  {
   "cell_type": "code",
   "execution_count": null,
   "metadata": {},
   "outputs": [],
   "source": []
  }
 ],
 "metadata": {
  "@webio": {
   "lastCommId": null,
   "lastKernelId": null
  },
  "kernelspec": {
   "display_name": "Julia 1.5.0",
   "language": "julia",
   "name": "julia-1.5"
  },
  "language_info": {
   "file_extension": ".jl",
   "mimetype": "application/julia",
   "name": "julia",
   "version": "1.5.0"
  }
 },
 "nbformat": 4,
 "nbformat_minor": 2
}
