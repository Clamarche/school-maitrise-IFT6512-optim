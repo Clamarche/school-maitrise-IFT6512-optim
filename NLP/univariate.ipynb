{
 "cells": [
  {
   "cell_type": "markdown",
   "metadata": {},
   "source": [
    "# Optimisation de fonctions univariées"
   ]
  },
  {
   "cell_type": "markdown",
   "metadata": {},
   "source": [
    "Considérons la fonction suivante à optimiser:\n",
    "$$\n",
    "f(x) = x^2 + x -2\\sqrt{x}\n",
    "$$"
   ]
  },
  {
   "cell_type": "code",
   "execution_count": 1,
   "metadata": {},
   "outputs": [
    {
     "data": {
      "text/plain": [
       "f (generic function with 1 method)"
      ]
     },
     "execution_count": 1,
     "metadata": {},
     "output_type": "execute_result"
    }
   ],
   "source": [
    "f(x) = x^2 + x - 2*sqrt(x)"
   ]
  },
  {
   "cell_type": "markdown",
   "metadata": {},
   "source": [
    "Je viens de créer une superbe fonction! Voyons à quoi elle ressemble."
   ]
  },
  {
   "cell_type": "code",
   "execution_count": 2,
   "metadata": {},
   "outputs": [],
   "source": [
    "using Plots"
   ]
  },
  {
   "cell_type": "code",
   "execution_count": 3,
   "metadata": {},
   "outputs": [
    {
     "data": {
      "image/svg+xml": [
       "<?xml version=\"1.0\" encoding=\"utf-8\"?>\n",
       "<svg xmlns=\"http://www.w3.org/2000/svg\" xmlns:xlink=\"http://www.w3.org/1999/xlink\" width=\"600\" height=\"400\" viewBox=\"0 0 2400 1600\">\n",
       "<defs>\n",
       "  <clipPath id=\"clip320\">\n",
       "    <rect x=\"0\" y=\"0\" width=\"2400\" height=\"1600\"/>\n",
       "  </clipPath>\n",
       "</defs>\n",
       "<path clip-path=\"url(#clip320)\" d=\"\n",
       "M0 1600 L2400 1600 L2400 0 L0 0  Z\n",
       "  \" fill=\"#ffffff\" fill-rule=\"evenodd\" fill-opacity=\"1\"/>\n",
       "<defs>\n",
       "  <clipPath id=\"clip321\">\n",
       "    <rect x=\"480\" y=\"0\" width=\"1681\" height=\"1600\"/>\n",
       "  </clipPath>\n",
       "</defs>\n",
       "<path clip-path=\"url(#clip320)\" d=\"\n",
       "M162.455 1486.45 L2352.76 1486.45 L2352.76 47.2441 L162.455 47.2441  Z\n",
       "  \" fill=\"#ffffff\" fill-rule=\"evenodd\" fill-opacity=\"1\"/>\n",
       "<defs>\n",
       "  <clipPath id=\"clip322\">\n",
       "    <rect x=\"162\" y=\"47\" width=\"2191\" height=\"1440\"/>\n",
       "  </clipPath>\n",
       "</defs>\n",
       "<polyline clip-path=\"url(#clip322)\" style=\"stroke:#000000; stroke-width:2; stroke-opacity:0.1; fill:none\" points=\"\n",
       "  224.444,1486.45 224.444,47.2441 \n",
       "  \"/>\n",
       "<polyline clip-path=\"url(#clip322)\" style=\"stroke:#000000; stroke-width:2; stroke-opacity:0.1; fill:none\" points=\"\n",
       "  913.218,1486.45 913.218,47.2441 \n",
       "  \"/>\n",
       "<polyline clip-path=\"url(#clip322)\" style=\"stroke:#000000; stroke-width:2; stroke-opacity:0.1; fill:none\" points=\"\n",
       "  1601.99,1486.45 1601.99,47.2441 \n",
       "  \"/>\n",
       "<polyline clip-path=\"url(#clip322)\" style=\"stroke:#000000; stroke-width:2; stroke-opacity:0.1; fill:none\" points=\"\n",
       "  2290.77,1486.45 2290.77,47.2441 \n",
       "  \"/>\n",
       "<polyline clip-path=\"url(#clip322)\" style=\"stroke:#000000; stroke-width:2; stroke-opacity:0.1; fill:none\" points=\"\n",
       "  162.455,1304.44 2352.76,1304.44 \n",
       "  \"/>\n",
       "<polyline clip-path=\"url(#clip322)\" style=\"stroke:#000000; stroke-width:2; stroke-opacity:0.1; fill:none\" points=\"\n",
       "  162.455,966.627 2352.76,966.627 \n",
       "  \"/>\n",
       "<polyline clip-path=\"url(#clip322)\" style=\"stroke:#000000; stroke-width:2; stroke-opacity:0.1; fill:none\" points=\"\n",
       "  162.455,628.817 2352.76,628.817 \n",
       "  \"/>\n",
       "<polyline clip-path=\"url(#clip322)\" style=\"stroke:#000000; stroke-width:2; stroke-opacity:0.1; fill:none\" points=\"\n",
       "  162.455,291.007 2352.76,291.007 \n",
       "  \"/>\n",
       "<polyline clip-path=\"url(#clip320)\" style=\"stroke:#000000; stroke-width:4; stroke-opacity:1; fill:none\" points=\"\n",
       "  162.455,1486.45 2352.76,1486.45 \n",
       "  \"/>\n",
       "<polyline clip-path=\"url(#clip320)\" style=\"stroke:#000000; stroke-width:4; stroke-opacity:1; fill:none\" points=\"\n",
       "  162.455,1486.45 162.455,47.2441 \n",
       "  \"/>\n",
       "<polyline clip-path=\"url(#clip320)\" style=\"stroke:#000000; stroke-width:4; stroke-opacity:1; fill:none\" points=\"\n",
       "  224.444,1486.45 224.444,1469.18 \n",
       "  \"/>\n",
       "<polyline clip-path=\"url(#clip320)\" style=\"stroke:#000000; stroke-width:4; stroke-opacity:1; fill:none\" points=\"\n",
       "  913.218,1486.45 913.218,1469.18 \n",
       "  \"/>\n",
       "<polyline clip-path=\"url(#clip320)\" style=\"stroke:#000000; stroke-width:4; stroke-opacity:1; fill:none\" points=\"\n",
       "  1601.99,1486.45 1601.99,1469.18 \n",
       "  \"/>\n",
       "<polyline clip-path=\"url(#clip320)\" style=\"stroke:#000000; stroke-width:4; stroke-opacity:1; fill:none\" points=\"\n",
       "  2290.77,1486.45 2290.77,1469.18 \n",
       "  \"/>\n",
       "<polyline clip-path=\"url(#clip320)\" style=\"stroke:#000000; stroke-width:4; stroke-opacity:1; fill:none\" points=\"\n",
       "  162.455,1304.44 188.738,1304.44 \n",
       "  \"/>\n",
       "<polyline clip-path=\"url(#clip320)\" style=\"stroke:#000000; stroke-width:4; stroke-opacity:1; fill:none\" points=\"\n",
       "  162.455,966.627 188.738,966.627 \n",
       "  \"/>\n",
       "<polyline clip-path=\"url(#clip320)\" style=\"stroke:#000000; stroke-width:4; stroke-opacity:1; fill:none\" points=\"\n",
       "  162.455,628.817 188.738,628.817 \n",
       "  \"/>\n",
       "<polyline clip-path=\"url(#clip320)\" style=\"stroke:#000000; stroke-width:4; stroke-opacity:1; fill:none\" points=\"\n",
       "  162.455,291.007 188.738,291.007 \n",
       "  \"/>\n",
       "<path clip-path=\"url(#clip320)\" d=\"M 0 0 M205.961 1508.44 Q202.35 1508.44 200.521 1512 Q198.715 1515.55 198.715 1522.67 Q198.715 1529.78 200.521 1533.35 Q202.35 1536.89 205.961 1536.89 Q209.595 1536.89 211.4 1533.35 Q213.229 1529.78 213.229 1522.67 Q213.229 1515.55 211.4 1512 Q209.595 1508.44 205.961 1508.44 M205.961 1504.73 Q211.771 1504.73 214.826 1509.34 Q217.905 1513.92 217.905 1522.67 Q217.905 1531.4 214.826 1536.01 Q211.771 1540.59 205.961 1540.59 Q200.15 1540.59 197.072 1536.01 Q194.016 1531.4 194.016 1522.67 Q194.016 1513.92 197.072 1509.34 Q200.15 1504.73 205.961 1504.73 Z\" fill=\"#000000\" fill-rule=\"evenodd\" fill-opacity=\"1\" /><path clip-path=\"url(#clip320)\" d=\"M 0 0 M222.974 1534.04 L227.859 1534.04 L227.859 1539.92 L222.974 1539.92 L222.974 1534.04 Z\" fill=\"#000000\" fill-rule=\"evenodd\" fill-opacity=\"1\" /><path clip-path=\"url(#clip320)\" d=\"M 0 0 M242.928 1508.44 Q239.317 1508.44 237.488 1512 Q235.683 1515.55 235.683 1522.67 Q235.683 1529.78 237.488 1533.35 Q239.317 1536.89 242.928 1536.89 Q246.562 1536.89 248.368 1533.35 Q250.197 1529.78 250.197 1522.67 Q250.197 1515.55 248.368 1512 Q246.562 1508.44 242.928 1508.44 M242.928 1504.73 Q248.738 1504.73 251.794 1509.34 Q254.872 1513.92 254.872 1522.67 Q254.872 1531.4 251.794 1536.01 Q248.738 1540.59 242.928 1540.59 Q237.118 1540.59 234.039 1536.01 Q230.984 1531.4 230.984 1522.67 Q230.984 1513.92 234.039 1509.34 Q237.118 1504.73 242.928 1504.73 Z\" fill=\"#000000\" fill-rule=\"evenodd\" fill-opacity=\"1\" /><path clip-path=\"url(#clip320)\" d=\"M 0 0 M895.232 1508.44 Q891.621 1508.44 889.793 1512 Q887.987 1515.55 887.987 1522.67 Q887.987 1529.78 889.793 1533.35 Q891.621 1536.89 895.232 1536.89 Q898.867 1536.89 900.672 1533.35 Q902.501 1529.78 902.501 1522.67 Q902.501 1515.55 900.672 1512 Q898.867 1508.44 895.232 1508.44 M895.232 1504.73 Q901.042 1504.73 904.098 1509.34 Q907.177 1513.92 907.177 1522.67 Q907.177 1531.4 904.098 1536.01 Q901.042 1540.59 895.232 1540.59 Q889.422 1540.59 886.343 1536.01 Q883.288 1531.4 883.288 1522.67 Q883.288 1513.92 886.343 1509.34 Q889.422 1504.73 895.232 1504.73 Z\" fill=\"#000000\" fill-rule=\"evenodd\" fill-opacity=\"1\" /><path clip-path=\"url(#clip320)\" d=\"M 0 0 M912.246 1534.04 L917.13 1534.04 L917.13 1539.92 L912.246 1539.92 L912.246 1534.04 Z\" fill=\"#000000\" fill-rule=\"evenodd\" fill-opacity=\"1\" /><path clip-path=\"url(#clip320)\" d=\"M 0 0 M922.246 1505.36 L940.602 1505.36 L940.602 1509.3 L926.528 1509.3 L926.528 1517.77 Q927.547 1517.42 928.565 1517.26 Q929.584 1517.07 930.602 1517.07 Q936.389 1517.07 939.769 1520.24 Q943.149 1523.42 943.149 1528.83 Q943.149 1534.41 939.677 1537.51 Q936.204 1540.59 929.885 1540.59 Q927.709 1540.59 925.44 1540.22 Q923.195 1539.85 920.788 1539.11 L920.788 1534.41 Q922.871 1535.54 925.093 1536.1 Q927.315 1536.66 929.792 1536.66 Q933.797 1536.66 936.135 1534.55 Q938.473 1532.44 938.473 1528.83 Q938.473 1525.22 936.135 1523.11 Q933.797 1521.01 929.792 1521.01 Q927.917 1521.01 926.042 1521.42 Q924.19 1521.84 922.246 1522.72 L922.246 1505.36 Z\" fill=\"#000000\" fill-rule=\"evenodd\" fill-opacity=\"1\" /><path clip-path=\"url(#clip320)\" d=\"M 0 0 M1573.89 1535.98 L1581.53 1535.98 L1581.53 1509.62 L1573.22 1511.29 L1573.22 1507.03 L1581.48 1505.36 L1586.16 1505.36 L1586.16 1535.98 L1593.8 1535.98 L1593.8 1539.92 L1573.89 1539.92 L1573.89 1535.98 Z\" fill=\"#000000\" fill-rule=\"evenodd\" fill-opacity=\"1\" /><path clip-path=\"url(#clip320)\" d=\"M 0 0 M1598.87 1534.04 L1603.75 1534.04 L1603.75 1539.92 L1598.87 1539.92 L1598.87 1534.04 Z\" fill=\"#000000\" fill-rule=\"evenodd\" fill-opacity=\"1\" /><path clip-path=\"url(#clip320)\" d=\"M 0 0 M1618.82 1508.44 Q1615.21 1508.44 1613.38 1512 Q1611.58 1515.55 1611.58 1522.67 Q1611.58 1529.78 1613.38 1533.35 Q1615.21 1536.89 1618.82 1536.89 Q1622.46 1536.89 1624.26 1533.35 Q1626.09 1529.78 1626.09 1522.67 Q1626.09 1515.55 1624.26 1512 Q1622.46 1508.44 1618.82 1508.44 M1618.82 1504.73 Q1624.63 1504.73 1627.69 1509.34 Q1630.77 1513.92 1630.77 1522.67 Q1630.77 1531.4 1627.69 1536.01 Q1624.63 1540.59 1618.82 1540.59 Q1613.01 1540.59 1609.93 1536.01 Q1606.88 1531.4 1606.88 1522.67 Q1606.88 1513.92 1609.93 1509.34 Q1613.01 1504.73 1618.82 1504.73 Z\" fill=\"#000000\" fill-rule=\"evenodd\" fill-opacity=\"1\" /><path clip-path=\"url(#clip320)\" d=\"M 0 0 M2263.16 1535.98 L2270.8 1535.98 L2270.8 1509.62 L2262.49 1511.29 L2262.49 1507.03 L2270.75 1505.36 L2275.43 1505.36 L2275.43 1535.98 L2283.07 1535.98 L2283.07 1539.92 L2263.16 1539.92 L2263.16 1535.98 Z\" fill=\"#000000\" fill-rule=\"evenodd\" fill-opacity=\"1\" /><path clip-path=\"url(#clip320)\" d=\"M 0 0 M2288.14 1534.04 L2293.02 1534.04 L2293.02 1539.92 L2288.14 1539.92 L2288.14 1534.04 Z\" fill=\"#000000\" fill-rule=\"evenodd\" fill-opacity=\"1\" /><path clip-path=\"url(#clip320)\" d=\"M 0 0 M2298.14 1505.36 L2316.5 1505.36 L2316.5 1509.3 L2302.42 1509.3 L2302.42 1517.77 Q2303.44 1517.42 2304.46 1517.26 Q2305.48 1517.07 2306.5 1517.07 Q2312.28 1517.07 2315.66 1520.24 Q2319.04 1523.42 2319.04 1528.83 Q2319.04 1534.41 2315.57 1537.51 Q2312.1 1540.59 2305.78 1540.59 Q2303.6 1540.59 2301.33 1540.22 Q2299.09 1539.85 2296.68 1539.11 L2296.68 1534.41 Q2298.76 1535.54 2300.99 1536.1 Q2303.21 1536.66 2305.69 1536.66 Q2309.69 1536.66 2312.03 1534.55 Q2314.37 1532.44 2314.37 1528.83 Q2314.37 1525.22 2312.03 1523.11 Q2309.69 1521.01 2305.69 1521.01 Q2303.81 1521.01 2301.94 1521.42 Q2300.08 1521.84 2298.14 1522.72 L2298.14 1505.36 Z\" fill=\"#000000\" fill-rule=\"evenodd\" fill-opacity=\"1\" /><path clip-path=\"url(#clip320)\" d=\"M 0 0 M62.9921 1306.83 L75.4689 1306.83 L75.4689 1310.63 L62.9921 1310.63 L62.9921 1306.83 Z\" fill=\"#000000\" fill-rule=\"evenodd\" fill-opacity=\"1\" /><path clip-path=\"url(#clip320)\" d=\"M 0 0 M90.5383 1290.24 Q86.9272 1290.24 85.0985 1293.8 Q83.2929 1297.34 83.2929 1304.47 Q83.2929 1311.58 85.0985 1315.14 Q86.9272 1318.68 90.5383 1318.68 Q94.1725 1318.68 95.9781 1315.14 Q97.8068 1311.58 97.8068 1304.47 Q97.8068 1297.34 95.9781 1293.8 Q94.1725 1290.24 90.5383 1290.24 M90.5383 1286.53 Q96.3484 1286.53 99.404 1291.14 Q102.483 1295.72 102.483 1304.47 Q102.483 1313.2 99.404 1317.8 Q96.3484 1322.39 90.5383 1322.39 Q84.7281 1322.39 81.6494 1317.8 Q78.5939 1313.2 78.5939 1304.47 Q78.5939 1295.72 81.6494 1291.14 Q84.7281 1286.53 90.5383 1286.53 Z\" fill=\"#000000\" fill-rule=\"evenodd\" fill-opacity=\"1\" /><path clip-path=\"url(#clip320)\" d=\"M 0 0 M107.552 1315.84 L112.436 1315.84 L112.436 1321.72 L107.552 1321.72 L107.552 1315.84 Z\" fill=\"#000000\" fill-rule=\"evenodd\" fill-opacity=\"1\" /><path clip-path=\"url(#clip320)\" d=\"M 0 0 M117.552 1287.16 L135.908 1287.16 L135.908 1291.09 L121.834 1291.09 L121.834 1299.56 Q122.853 1299.22 123.871 1299.05 Q124.89 1298.87 125.908 1298.87 Q131.695 1298.87 135.075 1302.04 Q138.455 1305.21 138.455 1310.63 Q138.455 1316.21 134.982 1319.31 Q131.51 1322.39 125.191 1322.39 Q123.015 1322.39 120.746 1322.02 Q118.501 1321.65 116.094 1320.91 L116.094 1316.21 Q118.177 1317.34 120.399 1317.9 Q122.621 1318.45 125.098 1318.45 Q129.103 1318.45 131.441 1316.35 Q133.779 1314.24 133.779 1310.63 Q133.779 1307.02 131.441 1304.91 Q129.103 1302.8 125.098 1302.8 Q123.223 1302.8 121.348 1303.22 Q119.496 1303.64 117.552 1304.52 L117.552 1287.16 Z\" fill=\"#000000\" fill-rule=\"evenodd\" fill-opacity=\"1\" /><path clip-path=\"url(#clip320)\" d=\"M 0 0 M89.5429 952.425 Q85.9318 952.425 84.1031 955.99 Q82.2976 959.532 82.2976 966.661 Q82.2976 973.768 84.1031 977.333 Q85.9318 980.874 89.5429 980.874 Q93.1771 980.874 94.9827 977.333 Q96.8114 973.768 96.8114 966.661 Q96.8114 959.532 94.9827 955.99 Q93.1771 952.425 89.5429 952.425 M89.5429 948.722 Q95.3531 948.722 98.4086 953.328 Q101.487 957.911 101.487 966.661 Q101.487 975.388 98.4086 979.995 Q95.3531 984.578 89.5429 984.578 Q83.7328 984.578 80.6541 979.995 Q77.5985 975.388 77.5985 966.661 Q77.5985 957.911 80.6541 953.328 Q83.7328 948.722 89.5429 948.722 Z\" fill=\"#000000\" fill-rule=\"evenodd\" fill-opacity=\"1\" /><path clip-path=\"url(#clip320)\" d=\"M 0 0 M106.557 978.027 L111.441 978.027 L111.441 983.907 L106.557 983.907 L106.557 978.027 Z\" fill=\"#000000\" fill-rule=\"evenodd\" fill-opacity=\"1\" /><path clip-path=\"url(#clip320)\" d=\"M 0 0 M126.51 952.425 Q122.899 952.425 121.071 955.99 Q119.265 959.532 119.265 966.661 Q119.265 973.768 121.071 977.333 Q122.899 980.874 126.51 980.874 Q130.145 980.874 131.95 977.333 Q133.779 973.768 133.779 966.661 Q133.779 959.532 131.95 955.99 Q130.145 952.425 126.51 952.425 M126.51 948.722 Q132.32 948.722 135.376 953.328 Q138.455 957.911 138.455 966.661 Q138.455 975.388 135.376 979.995 Q132.32 984.578 126.51 984.578 Q120.7 984.578 117.621 979.995 Q114.566 975.388 114.566 966.661 Q114.566 957.911 117.621 953.328 Q120.7 948.722 126.51 948.722 Z\" fill=\"#000000\" fill-rule=\"evenodd\" fill-opacity=\"1\" /><path clip-path=\"url(#clip320)\" d=\"M 0 0 M90.5383 614.615 Q86.9272 614.615 85.0985 618.18 Q83.2929 621.722 83.2929 628.851 Q83.2929 635.958 85.0985 639.523 Q86.9272 643.064 90.5383 643.064 Q94.1725 643.064 95.9781 639.523 Q97.8068 635.958 97.8068 628.851 Q97.8068 621.722 95.9781 618.18 Q94.1725 614.615 90.5383 614.615 M90.5383 610.912 Q96.3484 610.912 99.404 615.518 Q102.483 620.101 102.483 628.851 Q102.483 637.578 99.404 642.185 Q96.3484 646.768 90.5383 646.768 Q84.7281 646.768 81.6494 642.185 Q78.5939 637.578 78.5939 628.851 Q78.5939 620.101 81.6494 615.518 Q84.7281 610.912 90.5383 610.912 Z\" fill=\"#000000\" fill-rule=\"evenodd\" fill-opacity=\"1\" /><path clip-path=\"url(#clip320)\" d=\"M 0 0 M107.552 640.217 L112.436 640.217 L112.436 646.097 L107.552 646.097 L107.552 640.217 Z\" fill=\"#000000\" fill-rule=\"evenodd\" fill-opacity=\"1\" /><path clip-path=\"url(#clip320)\" d=\"M 0 0 M117.552 611.537 L135.908 611.537 L135.908 615.472 L121.834 615.472 L121.834 623.944 Q122.853 623.597 123.871 623.435 Q124.89 623.25 125.908 623.25 Q131.695 623.25 135.075 626.421 Q138.455 629.592 138.455 635.009 Q138.455 640.587 134.982 643.689 Q131.51 646.768 125.191 646.768 Q123.015 646.768 120.746 646.398 Q118.501 646.027 116.094 645.287 L116.094 640.587 Q118.177 641.722 120.399 642.277 Q122.621 642.833 125.098 642.833 Q129.103 642.833 131.441 640.726 Q133.779 638.62 133.779 635.009 Q133.779 631.398 131.441 629.291 Q129.103 627.185 125.098 627.185 Q123.223 627.185 121.348 627.601 Q119.496 628.018 117.552 628.898 L117.552 611.537 Z\" fill=\"#000000\" fill-rule=\"evenodd\" fill-opacity=\"1\" /><path clip-path=\"url(#clip320)\" d=\"M 0 0 M81.58 304.352 L89.2188 304.352 L89.2188 277.986 L80.9087 279.653 L80.9087 275.394 L89.1725 273.727 L93.8484 273.727 L93.8484 304.352 L101.487 304.352 L101.487 308.287 L81.58 308.287 L81.58 304.352 Z\" fill=\"#000000\" fill-rule=\"evenodd\" fill-opacity=\"1\" /><path clip-path=\"url(#clip320)\" d=\"M 0 0 M106.557 302.407 L111.441 302.407 L111.441 308.287 L106.557 308.287 L106.557 302.407 Z\" fill=\"#000000\" fill-rule=\"evenodd\" fill-opacity=\"1\" /><path clip-path=\"url(#clip320)\" d=\"M 0 0 M126.51 276.806 Q122.899 276.806 121.071 280.37 Q119.265 283.912 119.265 291.042 Q119.265 298.148 121.071 301.713 Q122.899 305.255 126.51 305.255 Q130.145 305.255 131.95 301.713 Q133.779 298.148 133.779 291.042 Q133.779 283.912 131.95 280.37 Q130.145 276.806 126.51 276.806 M126.51 273.102 Q132.32 273.102 135.376 277.708 Q138.455 282.292 138.455 291.042 Q138.455 299.768 135.376 304.375 Q132.32 308.958 126.51 308.958 Q120.7 308.958 117.621 304.375 Q114.566 299.768 114.566 291.042 Q114.566 282.292 117.621 277.708 Q120.7 273.102 126.51 273.102 Z\" fill=\"#000000\" fill-rule=\"evenodd\" fill-opacity=\"1\" /><polyline clip-path=\"url(#clip322)\" style=\"stroke:#009af9; stroke-width:4; stroke-opacity:1; fill:none\" points=\"\n",
       "  224.444,966.627 229.489,1045.91 234.534,1077.28 239.579,1100.75 244.624,1120.13 267.947,1184.74 291.27,1229.87 314.594,1265.19 337.917,1294.2 384.564,1339.65 \n",
       "  431.211,1373.5 487.276,1403.35 543.342,1424.15 590.744,1435.99 638.147,1443.29 741.132,1445.72 836.075,1433.84 937.865,1407.93 1055.8,1362.53 1160.6,1309.38 \n",
       "  1252.51,1253.43 1352.71,1182.93 1453.5,1102.35 1564.95,1002.35 1670.98,896.848 1781.23,776.685 1874.04,667.417 1987.35,524.119 2093.86,379.635 2264.51,128.7 \n",
       "  2290.77,87.9763 \n",
       "  \"/>\n",
       "<path clip-path=\"url(#clip320)\" d=\"\n",
       "M1985.36 216.178 L2279.75 216.178 L2279.75 95.2176 L1985.36 95.2176  Z\n",
       "  \" fill=\"#ffffff\" fill-rule=\"evenodd\" fill-opacity=\"1\"/>\n",
       "<polyline clip-path=\"url(#clip320)\" style=\"stroke:#000000; stroke-width:4; stroke-opacity:1; fill:none\" points=\"\n",
       "  1985.36,216.178 2279.75,216.178 2279.75,95.2176 1985.36,95.2176 1985.36,216.178 \n",
       "  \"/>\n",
       "<polyline clip-path=\"url(#clip320)\" style=\"stroke:#009af9; stroke-width:4; stroke-opacity:1; fill:none\" points=\"\n",
       "  2009.7,155.698 2155.72,155.698 \n",
       "  \"/>\n",
       "<path clip-path=\"url(#clip320)\" d=\"M 0 0 M2193.9 175.385 Q2192.09 180.015 2190.38 181.427 Q2188.67 182.839 2185.79 182.839 L2182.39 182.839 L2182.39 179.274 L2184.89 179.274 Q2186.65 179.274 2187.62 178.44 Q2188.6 177.607 2189.78 174.505 L2190.54 172.561 L2180.05 147.052 L2184.57 147.052 L2192.67 167.329 L2200.77 147.052 L2205.29 147.052 L2193.9 175.385 Z\" fill=\"#000000\" fill-rule=\"evenodd\" fill-opacity=\"1\" /><path clip-path=\"url(#clip320)\" d=\"M 0 0 M2211.17 169.042 L2218.8 169.042 L2218.8 142.677 L2210.49 144.343 L2210.49 140.084 L2218.76 138.418 L2223.43 138.418 L2223.43 169.042 L2231.07 169.042 L2231.07 172.978 L2211.17 172.978 L2211.17 169.042 Z\" fill=\"#000000\" fill-rule=\"evenodd\" fill-opacity=\"1\" /></svg>\n"
      ]
     },
     "execution_count": 3,
     "metadata": {},
     "output_type": "execute_result"
    }
   ],
   "source": [
    "xmin = 0.0\n",
    "xmax = 1.5\n",
    "plot(f, xmin, xmax)"
   ]
  },
  {
   "cell_type": "markdown",
   "metadata": {},
   "source": [
    "## Recherche aléatoire\n",
    "\n",
    "Une approche naïve est de chercher au hasard un meilleur point. La méthode est facile à implémenter, mais elle inefficace."
   ]
  },
  {
   "cell_type": "code",
   "execution_count": 4,
   "metadata": {},
   "outputs": [
    {
     "data": {
      "text/plain": [
       "randomsearch (generic function with 1 method)"
      ]
     },
     "execution_count": 4,
     "metadata": {},
     "output_type": "execute_result"
    }
   ],
   "source": [
    "# f: fonction à minimiser\n",
    "# x0: point de départ\n",
    "# nmax: nombre d'itération.\n",
    "function randomsearch(f:: Function, x0:: Vector, nmax:: Int64)\n",
    "    n = length(x0)\n",
    "    x = copy(x0)\n",
    "    value = f(x)\n",
    "    \n",
    "    for i = 1:nmax\n",
    "        Δx = rand(n)\n",
    "        xcand = x + Δx\n",
    "        cand = f(xcand)\n",
    "        if (cand < value)\n",
    "            x = xcand\n",
    "            value = cand\n",
    "        end\n",
    "    end\n",
    "    \n",
    "    return x, value\n",
    "end"
   ]
  },
  {
   "cell_type": "code",
   "execution_count": 5,
   "metadata": {},
   "outputs": [
    {
     "data": {
      "text/plain": [
       "f (generic function with 2 methods)"
      ]
     },
     "execution_count": 5,
     "metadata": {},
     "output_type": "execute_result"
    }
   ],
   "source": [
    "function f(x::Vector)\n",
    "    return x[1] < 0 ? NaN : x[1]^2 + x[1] - 2*sqrt(x[1])\n",
    "end"
   ]
  },
  {
   "cell_type": "code",
   "execution_count": 6,
   "metadata": {},
   "outputs": [
    {
     "data": {
      "text/plain": [
       "([0.5680489169723393], -0.61665191015322)"
      ]
     },
     "execution_count": 6,
     "metadata": {},
     "output_type": "execute_result"
    }
   ],
   "source": [
    "x0 = [0.0]\n",
    "randomsearch(f, x0, 1000)"
   ]
  },
  {
   "cell_type": "code",
   "execution_count": 7,
   "metadata": {},
   "outputs": [
    {
     "data": {
      "text/plain": [
       "([0.36003179804601837], -0.7103983019228755)"
      ]
     },
     "execution_count": 7,
     "metadata": {},
     "output_type": "execute_result"
    }
   ],
   "source": [
    "x0 = [0.0]\n",
    "randomsearch(f, x0, 1000000)"
   ]
  },
  {
   "cell_type": "markdown",
   "metadata": {},
   "source": [
    "Visuellement, la solution trouvée n'est pas très bonne et il est nécessaire de raffiner la recherche."
   ]
  },
  {
   "cell_type": "markdown",
   "metadata": {},
   "source": [
    "## Optimisation avec la méthode de Fibonacci"
   ]
  },
  {
   "cell_type": "markdown",
   "metadata": {},
   "source": [
    "Calculons les nombres de Fibonacci."
   ]
  },
  {
   "cell_type": "code",
   "execution_count": 8,
   "metadata": {},
   "outputs": [
    {
     "data": {
      "text/plain": [
       "50-element Array{Float64,1}:\n",
       "   1.0\n",
       "   1.0\n",
       "   2.0\n",
       "   3.0\n",
       "   5.0\n",
       "   8.0\n",
       "  13.0\n",
       "  21.0\n",
       "  34.0\n",
       "  55.0\n",
       "  89.0\n",
       " 144.0\n",
       " 233.0\n",
       "   ⋮\n",
       "   6.3245986e7\n",
       "   1.02334155e8\n",
       "   1.65580141e8\n",
       "   2.67914296e8\n",
       "   4.33494437e8\n",
       "   7.01408733e8\n",
       "   1.13490317e9\n",
       "   1.836311903e9\n",
       "   2.971215073e9\n",
       "   4.807526976e9\n",
       "   7.778742049e9\n",
       "   1.2586269025e10"
      ]
     },
     "execution_count": 8,
     "metadata": {},
     "output_type": "execute_result"
    }
   ],
   "source": [
    "N = 50\n",
    "F = ones(N)\n",
    "\n",
    "for i = 3:N\n",
    "    F[i] = F[i-1] + F[i-2]\n",
    "end\n",
    "\n",
    "F"
   ]
  },
  {
   "cell_type": "code",
   "execution_count": 9,
   "metadata": {},
   "outputs": [
    {
     "data": {
      "text/plain": [
       "1.2586269025e10"
      ]
     },
     "execution_count": 9,
     "metadata": {},
     "output_type": "execute_result"
    }
   ],
   "source": [
    "F[length(F)]"
   ]
  },
  {
   "cell_type": "markdown",
   "metadata": {},
   "source": [
    "Vérifions que le rapport entre les nombres de Fibonacci successifs converge vers le nombre d'or. Notons que Julia dispose de nombreuses constantes préimplémentées, donc le nombre d'or, disponible avec le nom `golden`."
   ]
  },
  {
   "cell_type": "code",
   "execution_count": 10,
   "metadata": {},
   "outputs": [
    {
     "data": {
      "text/plain": [
       "φ = 1.6180339887498..."
      ]
     },
     "execution_count": 10,
     "metadata": {},
     "output_type": "execute_result"
    }
   ],
   "source": [
    "Base.MathConstants.golden"
   ]
  },
  {
   "cell_type": "code",
   "execution_count": 11,
   "metadata": {},
   "outputs": [
    {
     "data": {
      "text/plain": [
       "1.618033988749895"
      ]
     },
     "execution_count": 11,
     "metadata": {},
     "output_type": "execute_result"
    }
   ],
   "source": [
    "(1+sqrt(5))/2"
   ]
  },
  {
   "cell_type": "markdown",
   "metadata": {},
   "source": [
    "Nous pouvons simplifier l'écrire en indiquant explicitement au préalable que nous souhaitons utiliser la librairie `Base.MathConstants`, mais il faudra veiller alors à ce que nos noms de variables n'entrent pas en conflit."
   ]
  },
  {
   "cell_type": "code",
   "execution_count": 12,
   "metadata": {},
   "outputs": [
    {
     "data": {
      "text/plain": [
       "φ = 1.6180339887498..."
      ]
     },
     "execution_count": 12,
     "metadata": {},
     "output_type": "execute_result"
    }
   ],
   "source": [
    "using Base.MathConstants\n",
    "\n",
    "golden"
   ]
  },
  {
   "cell_type": "code",
   "execution_count": 13,
   "metadata": {},
   "outputs": [
    {
     "data": {
      "text/plain": [
       "Irrational{:φ}"
      ]
     },
     "execution_count": 13,
     "metadata": {},
     "output_type": "execute_result"
    }
   ],
   "source": [
    "typeof(golden)"
   ]
  },
  {
   "cell_type": "markdown",
   "metadata": {},
   "source": [
    "Calculons le rapport entre les deux derniers nombres générés à partir de la séquence de Fibonacci, et comparons-le au nombre d'or."
   ]
  },
  {
   "cell_type": "code",
   "execution_count": 14,
   "metadata": {},
   "outputs": [
    {
     "data": {
      "text/plain": [
       "0.0"
      ]
     },
     "execution_count": 14,
     "metadata": {},
     "output_type": "execute_result"
    }
   ],
   "source": [
    "F[N]/F[N-1]-golden"
   ]
  },
  {
   "cell_type": "markdown",
   "metadata": {},
   "source": [
    "Nous voyons ainsi que pour $N = 50$, numériquement, le rapport coïncide déjà au nombre d'or."
   ]
  },
  {
   "cell_type": "markdown",
   "metadata": {},
   "source": [
    "Revenons à notre problème d'optimisation et supposons que nous savons que la solution est dans [0,1]."
   ]
  },
  {
   "cell_type": "code",
   "execution_count": 15,
   "metadata": {},
   "outputs": [
    {
     "data": {
      "text/plain": [
       "true"
      ]
     },
     "execution_count": 15,
     "metadata": {},
     "output_type": "execute_result"
    }
   ],
   "source": [
    "xmin = 0\n",
    "xmax = 1.0\n",
    "\n",
    "verbose = true"
   ]
  },
  {
   "cell_type": "code",
   "execution_count": 16,
   "metadata": {},
   "outputs": [
    {
     "data": {
      "text/plain": [
       "Int64"
      ]
     },
     "execution_count": 16,
     "metadata": {},
     "output_type": "execute_result"
    }
   ],
   "source": [
    "typeof(xmin)"
   ]
  },
  {
   "cell_type": "code",
   "execution_count": 20,
   "metadata": {},
   "outputs": [
    {
     "data": {
      "text/plain": [
       "fibonacci (generic function with 4 methods)"
      ]
     },
     "execution_count": 20,
     "metadata": {},
     "output_type": "execute_result"
    }
   ],
   "source": [
    "function fibonacci(g::Function, xmin:: Number, xmax, verbose::Bool = false)\n",
    "    k = 1\n",
    "    i = 1\n",
    "    d = xmax - xmin\n",
    "    xG = xmin+(F[N-2]/F[N])*d\n",
    "    xD = xmin+(F[N-1]/F[N])*d\n",
    "    fG = g(xG)\n",
    "    fD = g(xD)\n",
    "    ϵ = 0 # ne servira que pour la dernière itération\n",
    "\n",
    "    if (verbose)\n",
    "        println(\"Iteration $i.\\nxmin = $xmin, xmax = $xmax\")\n",
    "        println(\"xG = $xG, fG = $fG\")\n",
    "        println(\"xD = $xD, fD = $fD\")\n",
    "        println(\"d = $d\")\n",
    "    end\n",
    "\n",
    "    while (k < N-2)\n",
    "        k += 1\n",
    "        i += 1\n",
    "        if k == N-3\n",
    "            # On est à l'avant-dernière itération.\n",
    "            # Poser ϵ à 0.1 permet d'éviter de mettre le nouveau point au milieu de l'intervalle.\n",
    "            ϵ = 0.1\n",
    "        end\n",
    "        if fG < fD\n",
    "            xmax = xD\n",
    "            d = xmax - xmin\n",
    "            xD = xG\n",
    "            fD = fG\n",
    "            xG = xmin+((F[N-k-1]/F[N-k+1])-ϵ)*d\n",
    "            fG = g(xG)\n",
    "        elseif fG > fD\n",
    "            xmin = xG\n",
    "            d = xmax - xmin\n",
    "            xG = xD\n",
    "            fG = fD\n",
    "            xD = xmin+((F[N-k]/F[N-k+1])+ϵ)*d\n",
    "            fD = g(xD)\n",
    "        elseif fG == fD\n",
    "            k += 1\n",
    "            xmin = xG\n",
    "            xmax = xD\n",
    "            d = xmax - xmin\n",
    "\n",
    "            xG = xmin+(F[N-k-1]/F[N-k+1])*d\n",
    "            fG = g(xG)\n",
    "            xD = xmin+(F[N-k]/F[N-k+1])*d\n",
    "            fD = g(xD)\n",
    "        end\n",
    "        \n",
    "        if verbose\n",
    "            println(\"Iteration $i.\\nxmin = $xmin, xmax = $xmax, $k = k\")\n",
    "            println(\"xG = $xG, fG = $fG\")\n",
    "            println(\"xD = $xD, fD = $fD\")\n",
    "            println(\"d = $d\")\n",
    "        end\n",
    "    end\n",
    "    \n",
    "    if fG < fD\n",
    "        xmax = xD\n",
    "    end\n",
    "    if fG > fD\n",
    "        xmin = xG\n",
    "    end\n",
    "    \n",
    "    println(k, \" \", N, \" \", fG, \" \", fD)\n",
    "    \n",
    "    return [xmin, xmax]\n",
    "end"
   ]
  },
  {
   "cell_type": "code",
   "execution_count": 21,
   "metadata": {},
   "outputs": [
    {
     "data": {
      "text/html": [
       "# 4 methods for generic function <b>fibonacci</b>:<ul><li> fibonacci(g::<b>Function</b>, xmin::<b>Float64</b>, xmax) in Main at In[17]:1</li> <li> fibonacci(g::<b>Function</b>, xmin::<b>Float64</b>, xmax, verbose::<b>Bool</b>) in Main at In[17]:1</li> <li> fibonacci(g::<b>Function</b>, xmin::<b>Number</b>, xmax) in Main at In[20]:1</li> <li> fibonacci(g::<b>Function</b>, xmin::<b>Number</b>, xmax, verbose::<b>Bool</b>) in Main at In[20]:1</li> </ul>"
      ],
      "text/plain": [
       "# 4 methods for generic function \"fibonacci\":\n",
       "[1] fibonacci(g::Function, xmin::Float64, xmax) in Main at In[17]:1\n",
       "[2] fibonacci(g::Function, xmin::Float64, xmax, verbose::Bool) in Main at In[17]:1\n",
       "[3] fibonacci(g::Function, xmin::Number, xmax) in Main at In[20]:1\n",
       "[4] fibonacci(g::Function, xmin::Number, xmax, verbose::Bool) in Main at In[20]:1"
      ]
     },
     "execution_count": 21,
     "metadata": {},
     "output_type": "execute_result"
    }
   ],
   "source": [
    "methods(fibonacci)"
   ]
  },
  {
   "cell_type": "markdown",
   "metadata": {},
   "source": [
    "Essayons la méthode d'abord avec $N = 10$ puis $N = 50$."
   ]
  },
  {
   "cell_type": "code",
   "execution_count": 22,
   "metadata": {},
   "outputs": [
    {
     "name": "stdout",
     "output_type": "stream",
     "text": [
      "Iteration 1.\n",
      "xmin = 0, xmax = 1.0\n",
      "xG = 0.38181818181818183, fG = -0.7082254555215255\n",
      "xD = 0.6181818181818182, fD = -0.5721602077013963\n",
      "d = 1.0\n",
      "Iteration 2.\n",
      "xmin = 0, xmax = 0.6181818181818182, 2 = k\n",
      "xG = 0.23636363636363633, fG = -0.6801134646501178\n",
      "xD = 0.38181818181818183, fD = -0.7082254555215255\n",
      "d = 0.6181818181818182\n",
      "Iteration 3.\n",
      "xmin = 0.23636363636363633, xmax = 0.6181818181818182, 3 = k\n",
      "xG = 0.38181818181818183, fG = -0.7082254555215255\n",
      "xD = 0.4727272727272727, fD = -0.6789049547972192\n",
      "d = 0.38181818181818183\n",
      "Iteration 4.\n",
      "xmin = 0.23636363636363633, xmax = 0.4727272727272727, 4 = k\n",
      "xG = 0.32727272727272727, fG = -0.7097749418054544\n",
      "xD = 0.38181818181818183, fD = -0.7082254555215255\n",
      "d = 0.2363636363636364\n",
      "Iteration 5.\n",
      "xmin = 0.23636363636363633, xmax = 0.38181818181818183, 5 = k\n",
      "xG = 0.2909090909090909, fG = -0.7031825898585428\n",
      "xD = 0.32727272727272727, fD = -0.7097749418054544\n",
      "d = 0.1454545454545455\n",
      "Iteration 6.\n",
      "xmin = 0.2909090909090909, xmax = 0.38181818181818183, 6 = k\n",
      "xG = 0.32727272727272727, fG = -0.7097749418054544\n",
      "xD = 0.34545454545454546, fD = -0.7107142388607653\n",
      "d = 0.09090909090909094\n",
      "Iteration 7.\n",
      "xmin = 0.32727272727272727, xmax = 0.38181818181818183, 7 = k\n",
      "xG = 0.34545454545454546, fG = -0.7107142388607653\n",
      "xD = 0.3690909090909091, fD = -0.709738042397619\n",
      "d = 0.054545454545454564\n",
      "Iteration 8.\n",
      "xmin = 0.32727272727272727, xmax = 0.3690909090909091, 8 = k\n",
      "xG = 0.344, fG = -0.7106942638892143\n",
      "xD = 0.34545454545454546, fD = -0.7107142388607653\n",
      "d = 0.04181818181818181\n",
      "8 10 -0.7106942638892143 -0.7107142388607653\n"
     ]
    },
    {
     "data": {
      "text/plain": [
       "2-element Array{Float64,1}:\n",
       " 0.344\n",
       " 0.3690909090909091"
      ]
     },
     "execution_count": 22,
     "metadata": {},
     "output_type": "execute_result"
    }
   ],
   "source": [
    "N = 10\n",
    "bounds = fibonacci(f, xmin, xmax, true)"
   ]
  },
  {
   "cell_type": "code",
   "execution_count": 23,
   "metadata": {},
   "outputs": [
    {
     "name": "stdout",
     "output_type": "stream",
     "text": [
      "Iteration 1.\n",
      "xmin = 0, xmax = 1.0\n",
      "xG = 0.38196601125010515, fG = -0.7082039324993692\n",
      "xD = 0.6180339887498949, fD = -0.5723027555148466\n",
      "d = 1.0\n",
      "Iteration 2.\n",
      "xmin = 0, xmax = 0.6180339887498949, 2 = k\n",
      "xG = 0.23606797749978972, fG = -0.6799404760126605\n",
      "xD = 0.38196601125010515, fD = -0.7082039324993692\n",
      "d = 0.6180339887498949\n",
      "Iteration 3.\n",
      "xmin = 0.23606797749978972, xmax = 0.6180339887498949, 3 = k\n",
      "xG = 0.38196601125010515, fG = -0.7082039324993692\n",
      "xD = 0.4721359549995795, fD = -0.6791946838871055\n",
      "d = 0.3819660112501052\n",
      "Iteration 4.\n",
      "xmin = 0.23606797749978972, xmax = 0.4721359549995795, 4 = k\n",
      "xG = 0.326237921249264, fG = -0.7096757162712468\n",
      "xD = 0.38196601125010515, fD = -0.7082039324993692\n",
      "d = 0.23606797749978978\n",
      "Iteration 5.\n",
      "xmin = 0.23606797749978972, xmax = 0.38196601125010515, 5 = k\n",
      "xG = 0.2917960675006309, fG = -0.7034220144414423\n",
      "xD = 0.326237921249264, fD = -0.7096757162712468\n",
      "d = 0.14589803375031543\n",
      "Iteration 6.\n",
      "xmin = 0.2917960675006309, xmax = 0.38196601125010515, 6 = k\n",
      "xG = 0.326237921249264, fG = -0.7096757162712468\n",
      "xD = 0.34752415750147214, fD = -0.7107263942450228\n",
      "d = 0.09016994374947424\n",
      "Iteration 7.\n",
      "xmin = 0.326237921249264, xmax = 0.38196601125010515, 7 = k\n",
      "xG = 0.34752415750147214, fG = -0.7107263942450228\n",
      "xD = 0.360679774997897, fD = -0.7103627489126799\n",
      "d = 0.05572809000084117\n",
      "Iteration 8.\n",
      "xmin = 0.326237921249264, xmax = 0.360679774997897, 8 = k\n",
      "xG = 0.33939353874568884, fG = -0.7105683293995624\n",
      "xD = 0.34752415750147214, fD = -0.7107263942450228\n",
      "d = 0.03444185374863301\n",
      "Iteration 9.\n",
      "xmin = 0.33939353874568884, xmax = 0.360679774997897, 9 = k\n",
      "xG = 0.34752415750147214, fG = -0.7107263942450228\n",
      "xD = 0.35254915624211364, fD = -0.7106769360558955\n",
      "d = 0.021286236252208157\n",
      "Iteration 10.\n",
      "xmin = 0.33939353874568884, xmax = 0.35254915624211364, 10 = k\n",
      "xG = 0.34441853748633033, fG = -0.7107009810063016\n",
      "xD = 0.34752415750147214, fD = -0.7107263942450228\n",
      "d = 0.013155617496424798\n",
      "Iteration 11.\n",
      "xmin = 0.34441853748633033, xmax = 0.35254915624211364, 11 = k\n",
      "xG = 0.34752415750147214, fG = -0.7107263942450228\n",
      "xD = 0.3494435362269718, fD = -0.7107206657715369\n",
      "d = 0.008130618755783303\n",
      "Iteration 12.\n",
      "xmin = 0.34441853748633033, xmax = 0.3494435362269718, 12 = k\n",
      "xG = 0.34633791621182997, fG = -0.7107217597702455\n",
      "xD = 0.34752415750147214, fD = -0.7107263942450228\n",
      "d = 0.00502499874064144\n",
      "Iteration 13.\n",
      "xmin = 0.34633791621182997, xmax = 0.3494435362269718, 13 = k\n",
      "xG = 0.34752415750147214, fG = -0.7107263942450228\n",
      "xD = 0.34825729493732954, fD = -0.7107261330639794\n",
      "d = 0.003105620015141808\n",
      "Iteration 14.\n",
      "xmin = 0.34633791621182997, xmax = 0.34825729493732954, 14 = k\n",
      "xG = 0.34707105364768737, fG = -0.7107253625433841\n",
      "xD = 0.34752415750147214, fD = -0.7107263942450228\n",
      "d = 0.0019193787254995764\n",
      "Iteration 15.\n",
      "xmin = 0.34707105364768737, xmax = 0.34825729493732954, 15 = k\n",
      "xG = 0.34752415750147214, fG = -0.7107263942450228\n",
      "xD = 0.34780419108354477, fD = -0.710726575977105\n",
      "d = 0.001186241289642176\n",
      "Iteration 16.\n",
      "xmin = 0.34752415750147214, xmax = 0.34825729493732954, 16 = k\n",
      "xG = 0.34780419108354477, fG = -0.710726575977105\n",
      "xD = 0.347977261355257, fD = -0.7107265142821709\n",
      "d = 0.0007331374358574005\n",
      "Iteration 17.\n",
      "xmin = 0.34752415750147214, xmax = 0.347977261355257, 17 = k\n",
      "xG = 0.3476972277731844, fG = -0.7107265476492648\n",
      "xD = 0.34780419108354477, fD = -0.710726575977105\n",
      "d = 0.00045310385378483087\n",
      "Iteration 18.\n",
      "xmin = 0.3476972277731844, xmax = 0.347977261355257, 18 = k\n",
      "xG = 0.34780419108354477, fG = -0.710726575977105\n",
      "xD = 0.3478702980448966, fD = -0.710726568098059\n",
      "d = 0.0002800335820725697\n",
      "Iteration 19.\n",
      "xmin = 0.3476972277731844, xmax = 0.3478702980448966, 19 = k\n",
      "xG = 0.34776333473453624, fG = -0.7107265711503057\n",
      "xD = 0.34780419108354477, fD = -0.710726575977105\n",
      "d = 0.00017307027171220568\n",
      "Iteration 20.\n",
      "xmin = 0.34776333473453624, xmax = 0.3478702980448966, 20 = k\n",
      "xG = 0.34780419108354477, fG = -0.710726575977105\n",
      "xD = 0.34782944169588814, fD = -0.7107265752564478\n",
      "d = 0.000106963310360364\n",
      "Iteration 21.\n",
      "xmin = 0.34776333473453624, xmax = 0.34782944169588814, 21 = k\n",
      "xG = 0.3477885853468797, fG = -0.7107265750078047\n",
      "xD = 0.34780419108354477, fD = -0.710726575977105\n",
      "d = 6.61069613518972e-5\n",
      "Iteration 22.\n",
      "xmin = 0.3477885853468797, xmax = 0.34782944169588814, 22 = k\n",
      "xG = 0.34780419108354477, fG = -0.710726575977105\n",
      "xD = 0.34781383595922305, fD = -0.710726576035795\n",
      "d = 4.08563490084668e-5\n",
      "Iteration 23.\n",
      "xmin = 0.34780419108354477, xmax = 0.34782944169588814, 23 = k\n",
      "xG = 0.34781383595922305, fG = -0.710726576035795\n",
      "xD = 0.34781979682020986, fD = -0.7107265758656692\n",
      "d = 2.525061234337489e-5\n",
      "Iteration 24.\n",
      "xmin = 0.34780419108354477, xmax = 0.34781979682020986, 24 = k\n",
      "xG = 0.3478101519445315, fG = -0.7107265760621018\n",
      "xD = 0.34781383595922305, fD = -0.710726576035795\n",
      "d = 1.5605736665091907e-5\n",
      "Iteration 25.\n",
      "xmin = 0.34780419108354477, xmax = 0.34781383595922305, 25 = k\n",
      "xG = 0.3478078750982363, fG = -0.7107265760482471\n",
      "xD = 0.3478101519445315, fD = -0.7107265760621018\n",
      "d = 9.644875678282983e-6\n",
      "Iteration 26.\n",
      "xmin = 0.3478078750982363, xmax = 0.34781383595922305, 26 = k\n",
      "xG = 0.3478101519445315, fG = -0.7107265760621018\n",
      "xD = 0.3478115591129278, fD = -0.7107265760591623\n",
      "d = 5.9608609867534135e-6\n",
      "Iteration 27.\n",
      "xmin = 0.3478078750982363, xmax = 0.3478115591129278, 27 = k\n",
      "xG = 0.34780928226663266, fG = -0.7107265760595249\n",
      "xD = 0.3478101519445315, fD = -0.7107265760621018\n",
      "d = 3.684014691529569e-6\n",
      "Iteration 28.\n",
      "xmin = 0.34780928226663266, xmax = 0.3478115591129278, 28 = k\n",
      "xG = 0.3478101519445315, fG = -0.7107265760621018\n",
      "xD = 0.34781068943502896, fD = -0.7107265760620162\n",
      "d = 2.2768462951683333e-6\n",
      "Iteration 29.\n",
      "xmin = 0.34780928226663266, xmax = 0.34781068943502896, 29 = k\n",
      "xG = 0.34780981975713016, fG = -0.7107265760615137\n",
      "xD = 0.3478101519445315, fD = -0.7107265760621018\n",
      "d = 1.4071683963057247e-6\n",
      "Iteration 30.\n",
      "xmin = 0.34780981975713016, xmax = 0.34781068943502896, 30 = k\n",
      "xG = 0.3478101519445315, fG = -0.7107265760621018\n",
      "xD = 0.34781035724762766, fD = -0.7107265760622203\n",
      "d = 8.696778988070974e-7\n",
      "Iteration 31.\n",
      "xmin = 0.3478101519445315, xmax = 0.34781068943502896, 31 = k\n",
      "xG = 0.34781035724762766, fG = -0.7107265760622203\n",
      "xD = 0.34781048413193283, fD = -0.7107265760622001\n",
      "d = 5.374904974431161e-7\n",
      "Iteration 32.\n",
      "xmin = 0.3478101519445315, xmax = 0.34781048413193283, 32 = k\n",
      "xG = 0.3478102788288367, fG = -0.7107265760621972\n",
      "xD = 0.34781035724762766, fD = -0.7107265760622203\n",
      "d = 3.3218740130847024e-7\n",
      "Iteration 33.\n",
      "xmin = 0.3478102788288367, xmax = 0.34781048413193283, 33 = k\n",
      "xG = 0.34781035724762766, fG = -0.7107265760622203\n",
      "xD = 0.34781040571314187, fD = -0.7107265760622212\n",
      "d = 2.053030961346458e-7\n",
      "Iteration 34.\n",
      "xmin = 0.34781035724762766, xmax = 0.34781048413193283, 34 = k\n",
      "xG = 0.34781040571314187, fG = -0.7107265760622212\n",
      "xD = 0.3478104356664186, fD = -0.7107265760622162\n",
      "d = 1.2688430517382443e-7\n",
      "Iteration 35.\n",
      "xmin = 0.34781035724762766, xmax = 0.3478104356664186, 35 = k\n",
      "xG = 0.34781038720090446, fG = -0.7107265760622221\n",
      "xD = 0.34781040571314187, fD = -0.7107265760622212\n",
      "d = 7.841879096082138e-8\n",
      "Iteration 36.\n",
      "xmin = 0.34781035724762766, xmax = 0.34781040571314187, 36 = k\n",
      "xG = 0.34781037575986506, fG = -0.7107265760622218\n",
      "xD = 0.34781038720090446, fD = -0.7107265760622221\n",
      "d = 4.846551421300305e-8\n",
      "Iteration 37.\n",
      "xmin = 0.34781037575986506, xmax = 0.34781040571314187, 37 = k\n",
      "xG = 0.34781038720090446, fG = -0.7107265760622221\n",
      "xD = 0.3478103942721025, fD = -0.7107265760622219\n",
      "d = 2.995327680332949e-8\n",
      "Iteration 38.\n",
      "xmin = 0.34781037575986506, xmax = 0.3478103942721025, 38 = k\n",
      "xG = 0.347810382831063, fG = -0.710726576062222\n",
      "xD = 0.34781038720090446, fD = -0.7107265760622221\n",
      "d = 1.851223740967356e-8\n",
      "Iteration 39.\n",
      "xmin = 0.347810382831063, xmax = 0.3478103942721025, 39 = k\n",
      "xG = 0.34781038720090446, fG = -0.7107265760622221\n",
      "xD = 0.34781038990226104, fD = -0.710726576062222\n",
      "d = 1.1441039449167079e-8\n",
      "Iteration 40.\n",
      "xmin = 0.347810382831063, xmax = 0.34781038990226104, 40 = k\n",
      "xG = 0.34781038553241955, fG = -0.710726576062222\n",
      "xD = 0.34781038720090446, fD = -0.7107265760622221\n",
      "d = 7.0711980160176324e-9\n",
      "Iteration 41.\n",
      "xmin = 0.34781038553241955, xmax = 0.34781038990226104, 41 = k\n",
      "xG = 0.34781038720090446, fG = -0.7107265760622221\n",
      "xD = 0.34781038823377614, fD = -0.7107265760622221\n",
      "d = 4.369841488660597e-9\n",
      "Iteration 42.\n",
      "xmin = 0.34781038720090446, xmax = 0.34781038823377614, 43 = k\n",
      "xG = 0.3478103875943794, fG = -0.710726576062222\n",
      "xD = 0.3478103878403012, fD = -0.710726576062222\n",
      "d = 1.032871677075775e-9\n",
      "Iteration 43.\n",
      "xmin = 0.3478103875943794, xmax = 0.3478103878403012, 45 = k\n",
      "xG = 0.34781038768660005, fG = -0.7107265760622221\n",
      "xD = 0.34781038774808054, fD = -0.7107265760622219\n",
      "d = 2.4592183844873716e-10\n",
      "Iteration 44.\n",
      "xmin = 0.3478103875943794, xmax = 0.34781038774808054, 46 = k\n",
      "xG = 0.34781038765585987, fG = -0.7107265760622221\n",
      "xD = 0.34781038768660005, fD = -0.7107265760622221\n",
      "d = 1.5370116290824853e-10\n",
      "Iteration 45.\n",
      "xmin = 0.34781038765585987, xmax = 0.34781038768660005, 48 = k\n",
      "xG = 0.34781038767122996, fG = -0.7107265760622221\n",
      "xD = 0.34781038767122996, fD = -0.7107265760622221\n",
      "d = 3.074018817272872e-11\n",
      "48 50 -0.7107265760622221 -0.7107265760622221\n"
     ]
    },
    {
     "data": {
      "text/plain": [
       "2-element Array{Float64,1}:\n",
       " 0.34781038765585987\n",
       " 0.34781038768660005"
      ]
     },
     "execution_count": 23,
     "metadata": {},
     "output_type": "execute_result"
    }
   ],
   "source": [
    "N = 50\n",
    "bounds = fibonacci(f, xmin, xmax, true)"
   ]
  },
  {
   "cell_type": "code",
   "execution_count": 24,
   "metadata": {},
   "outputs": [
    {
     "data": {
      "text/plain": [
       "3.074018817272872e-11"
      ]
     },
     "execution_count": 24,
     "metadata": {},
     "output_type": "execute_result"
    }
   ],
   "source": [
    "bounds[2]-bounds[1]"
   ]
  },
  {
   "cell_type": "code",
   "execution_count": 25,
   "metadata": {},
   "outputs": [
    {
     "name": "stdout",
     "output_type": "stream",
     "text": [
      "48 50 -0.7107265760622221 -0.7107265760622221\n"
     ]
    },
    {
     "data": {
      "text/plain": [
       "2-element Array{Float64,1}:\n",
       " 0.34781038765585987\n",
       " 0.34781038768660005"
      ]
     },
     "execution_count": 25,
     "metadata": {},
     "output_type": "execute_result"
    }
   ],
   "source": [
    "bounds = fibonacci(f, xmin, xmax)"
   ]
  },
  {
   "cell_type": "markdown",
   "metadata": {},
   "source": [
    "On a très rapidement une très bonne approximation du minimum."
   ]
  },
  {
   "cell_type": "markdown",
   "metadata": {},
   "source": [
    "## Méthode du nombre d'or"
   ]
  },
  {
   "cell_type": "markdown",
   "metadata": {},
   "source": [
    "Commençons par une implémentation basique (voir aussi https://en.wikipedia.org/wiki/Golden-section_search):"
   ]
  },
  {
   "cell_type": "code",
   "execution_count": 26,
   "metadata": {
    "scrolled": true
   },
   "outputs": [
    {
     "data": {
      "text/plain": [
       "goldensection (generic function with 2 methods)"
      ]
     },
     "execution_count": 26,
     "metadata": {},
     "output_type": "execute_result"
    }
   ],
   "source": [
    "function goldensection(f::Function, a, b, tol::Float64 = 1e-6)\n",
    "\n",
    "    # Nous commençons en nous assurant que a est plus petit ou égal à b\n",
    "    (a,b) = (min(a,b),max(a,b))\n",
    "    d = b - a\n",
    "\n",
    "    k = 1\n",
    "    i = 1  # index d'itération\n",
    "    \n",
    "    c = b - d / golden\n",
    "    d = a + d / golden\n",
    "\n",
    "    while (b-a) > tol\n",
    "        i += 1\n",
    "        if f(c) < f(d)\n",
    "            b = d\n",
    "        else\n",
    "            a = c\n",
    "        end\n",
    "\n",
    "        c = b - (b - a) / golden\n",
    "        d = a + (b - a) / golden\n",
    "    end\n",
    "    \n",
    "    println(\"Nombre d'itérations: \", i)\n",
    "\n",
    "    return (a, b)\n",
    "end"
   ]
  },
  {
   "cell_type": "code",
   "execution_count": 27,
   "metadata": {},
   "outputs": [
    {
     "name": "stdout",
     "output_type": "stream",
     "text": [
      "Nombre d'itérations: 30\n"
     ]
    },
    {
     "data": {
      "text/plain": [
       "(0.34780981975713365, 0.3478106894350311)"
      ]
     },
     "execution_count": 27,
     "metadata": {},
     "output_type": "execute_result"
    }
   ],
   "source": [
    "(a, b) = goldensection(f, 0.0, 1.0)"
   ]
  },
  {
   "cell_type": "code",
   "execution_count": 28,
   "metadata": {},
   "outputs": [
    {
     "data": {
      "text/plain": [
       "(8.696778974193187e-7, 1.4071683972890022e-6)"
      ]
     },
     "execution_count": 28,
     "metadata": {},
     "output_type": "execute_result"
    }
   ],
   "source": [
    "b-a, (b-a)*golden"
   ]
  },
  {
   "cell_type": "code",
   "execution_count": 29,
   "metadata": {},
   "outputs": [
    {
     "name": "stdout",
     "output_type": "stream",
     "text": [
      "Nombre d'itérations: 40\n"
     ]
    },
    {
     "data": {
      "text/plain": [
       "(0.3478103828308221, 0.34781038990184154)"
      ]
     },
     "execution_count": 29,
     "metadata": {},
     "output_type": "execute_result"
    }
   ],
   "source": [
    "goldensection(f, 0.0, 1.0, 1e-8)"
   ]
  },
  {
   "cell_type": "markdown",
   "metadata": {},
   "source": [
    "Cela fonctionne, mais l'implémentation nécessite deux évaluations de fonctions à chaque itération, alors que la méthode de Fibonacci n'en exigeait qu'une.\n",
    "\n",
    "Nous allons capitaliser sur l'idée que les points placés à l'intérieur de l'intervalle de recherche doivent être équidistants des extrémités. Plus précisément, considérons l'intervalle $[a,b]$ et $x \\in (a,b)$ avec $x-a < b - x$. Nous cherchons $y$ tel que $x-a = b-y$, et par conséquent\n",
    "$$\n",
    "y = a+(b-x).\n",
    "$$\n",
    "Comme $x-a < b - x$, $a - x + b > x$, de sorte que $y > x$. Autrement dit, $y$ se trouvera à droite de $x$. Toutefois, si $x$ est trop proche de $a$, la décroissance des longueurs d'intevalle sera très longue. Pour contrer ce problème, nous allons imposer que le rapport entre les longueurs entre les bornes et le point à l'intérieur de l'intervalle.\n",
    "En supposant que $y$ (i.e. $f(y) > f(x)$) devient la nouvelle borne supérieure, nous avons\n",
    "$$\n",
    "\\frac{y-x}{x-a} = \\frac{x-a}{b-x}\n",
    "$$\n",
    "En notant $\\alpha = x-a$, $\\beta = b-x$ et $\\gamma = y-x$, la relation devient\n",
    "$$\n",
    "\\frac{\\gamma}{\\alpha} = \\frac{\\alpha}{\\beta}.\n",
    "$$\n",
    "Si $f(y) < f(x)$, $x$ devient la nouvelle borne inférieure, et nous devons avoir\n",
    "$$\n",
    "\\frac{\\gamma}{\\beta-\\gamma} = \\frac{\\alpha}{\\beta}.\n",
    "$$\n",
    "Comme $y = a+b-x$, $-\\alpha + \\beta = \\gamma$, ou $\\gamma = \\beta - \\alpha$. Les deux équations sont donc équivalentes et donnent\n",
    "$$\n",
    "\\frac{\\beta-\\alpha}{\\alpha} = \\frac{\\alpha}{\\beta}\n",
    "$$\n",
    "ou\n",
    "$$\n",
    "\\beta(\\beta-\\alpha) = \\alpha^2,\n",
    "$$\n",
    "ce qui équivaut à\n",
    "$$\n",
    "\\beta^2 - \\beta\\alpha = \\alpha^2\n",
    "$$\n",
    "soit\n",
    "$$\n",
    "\\left(\\frac{\\beta}{\\alpha}\\right)^2 - \\frac{\\beta}{\\alpha} = 1.\n",
    "$$\n",
    "Cette équation a pour solution\n",
    "$$\n",
    "\\frac{\\beta}{\\alpha} = \\tau.\n",
    "$$\n",
    "En redéveloppant $\\alpha$ et $\\beta$, nous obtenons\n",
    "$$\n",
    "b - x = \\tau(x - a)\n",
    "$$\n",
    "et donc\n",
    "$$\n",
    "(1+\\tau)x = b + \\tau a\n",
    "$$\n",
    "ou encore\n",
    "$$\n",
    "x = \\frac{b + \\tau a}{1+\\tau} = a + \\frac{b - a}{1+\\tau}.\n",
    "$$\n",
    "À présent,\n",
    "\\begin{align*}\n",
    "y & = a + b - x \\\\\n",
    "& = a + b - a - \\frac{b - a}{1+\\tau} \\\\\n",
    "& = b - \\frac{b - a}{1+\\tau} \\\\\n",
    "& = \\frac{b + \\tau b - b + a + \\tau a - \\tau a}{1+\\tau} \\\\\n",
    "& = a + \\frac{\\tau}{1+\\tau}(b-a).\n",
    "\\end{align*}\n",
    "Or\n",
    "$$\n",
    "\\frac{\\tau}{1+\\tau}\n",
    "= \\frac{1 + \\sqrt{5}}{2 + 1 + \\sqrt{5}}\n",
    "= \\frac{1-5}{(1 - \\sqrt{5})(3+\\sqrt{5})}\n",
    "= \\frac{-4}{-2-2\\sqrt{5}}\n",
    "= \\frac{2}{1+\\sqrt{5}}\n",
    "= \\frac{1}{\\tau}.\n",
    "$$\n",
    "Dès lors\n",
    "$$\n",
    "y = a + \\frac{b-a}{\\tau}.\n",
    "$$"
   ]
  },
  {
   "cell_type": "code",
   "execution_count": 33,
   "metadata": {},
   "outputs": [
    {
     "data": {
      "text/plain": [
       "goldenrevisited (generic function with 2 methods)"
      ]
     },
     "execution_count": 33,
     "metadata": {},
     "output_type": "execute_result"
    }
   ],
   "source": [
    "function goldenrevisited(f::Function, a, b, tol::Float64 = 1e-6)\n",
    "    # Nous commençons en nous assurant que a est plus petit ou égal à b\n",
    "    (a,b) = (min(a,b),max(a,b))\n",
    "    \n",
    "    d = b-a\n",
    "    \n",
    "    # Note: la lettre ϕ est habituellement employée pour le nombre d'or\n",
    "    invτ = 1/golden\n",
    "    invτplus = 1/(1+golden)\n",
    "    \n",
    "    xG = a + invτplus*d\n",
    "    xD = a + invτ*d\n",
    "    fG = f(xG)\n",
    "    fD = f(xD)\n",
    "\n",
    "    tol *= golden\n",
    "    \n",
    "    i = 1\n",
    "    while (d > tol)\n",
    "        i += 1\n",
    "        if fG < fD\n",
    "            b = xD\n",
    "            xD = xG\n",
    "            d = b-a\n",
    "            xG = a + invτplus*d\n",
    "            fD = fG\n",
    "            fG = f(xG)\n",
    "        else\n",
    "            a = xG\n",
    "            xG = xD\n",
    "            d = b-a\n",
    "            xD = a + invτ*d\n",
    "            fG = fD\n",
    "            fD = f(xD)\n",
    "        end\n",
    "    end\n",
    "\n",
    "    if fG < fD\n",
    "        b = xD\n",
    "    else\n",
    "        a = xG\n",
    "    end\n",
    "    \n",
    "    println(\"Nombre d'itérations: \", i)\n",
    "\n",
    "    return (a,b)\n",
    "end"
   ]
  },
  {
   "cell_type": "code",
   "execution_count": 34,
   "metadata": {},
   "outputs": [
    {
     "name": "stdout",
     "output_type": "stream",
     "text": [
      "Nombre d'itérations: 29\n"
     ]
    },
    {
     "data": {
      "text/plain": [
       "(0.34780981975713365, 0.3478106894350311)"
      ]
     },
     "execution_count": 34,
     "metadata": {},
     "output_type": "execute_result"
    }
   ],
   "source": [
    "(a,b) = goldenrevisited(f, 0.0, 1.0)"
   ]
  },
  {
   "cell_type": "code",
   "execution_count": 35,
   "metadata": {},
   "outputs": [
    {
     "data": {
      "text/plain": [
       "(8.696778974193187e-7, 1.4071683972890022e-6)"
      ]
     },
     "execution_count": 35,
     "metadata": {},
     "output_type": "execute_result"
    }
   ],
   "source": [
    "b-a, (b-a)*golden"
   ]
  },
  {
   "cell_type": "markdown",
   "metadata": {},
   "source": [
    "## Librairie Optim en Julia"
   ]
  },
  {
   "cell_type": "markdown",
   "metadata": {},
   "source": [
    "Certaines routines d'optimisation sont directement disponibles en Julia, et peuvent être obtenues avec la commande"
   ]
  },
  {
   "cell_type": "code",
   "execution_count": 3,
   "metadata": {},
   "outputs": [],
   "source": [
    "using Optim"
   ]
  },
  {
   "cell_type": "markdown",
   "metadata": {},
   "source": [
    "La routine de base est `optimize`, prenant comme premier argument la fonction à minimiser, et pour les fonctions univariées, en deuxième et troisième arguments, les bornes inférieure et supérieure initiales de l'intervalle de recherche."
   ]
  },
  {
   "cell_type": "markdown",
   "metadata": {},
   "source": [
    "### Méthode du nombre d'or\n",
    "\n",
    "Le méthode de recherche de la section dorée peut être appelée avec la function `GoldenSection`."
   ]
  },
  {
   "cell_type": "code",
   "execution_count": 4,
   "metadata": {},
   "outputs": [
    {
     "data": {
      "text/plain": [
       "Results of Optimization Algorithm\n",
       " * Algorithm: Golden Section Search\n",
       " * Search Interval: [0.000000, 1.000000]\n",
       " * Minimizer: 3.478104e-01\n",
       " * Minimum: -7.107266e-01\n",
       " * Iterations: 38\n",
       " * Convergence: max(|x - x_upper|, |x - x_lower|) <= 2*(1.5e-08*|x|+2.2e-16): true\n",
       " * Objective Function Calls: 39"
      ]
     },
     "execution_count": 4,
     "metadata": {},
     "output_type": "execute_result"
    }
   ],
   "source": [
    "result = optimize(f, 0, 1, GoldenSection())"
   ]
  },
  {
   "cell_type": "code",
   "execution_count": 5,
   "metadata": {},
   "outputs": [
    {
     "data": {
      "text/plain": [
       "0.3478103872009524"
      ]
     },
     "execution_count": 5,
     "metadata": {},
     "output_type": "execute_result"
    }
   ],
   "source": [
    "Optim.minimizer(result)"
   ]
  },
  {
   "cell_type": "markdown",
   "metadata": {},
   "source": [
    "## Méthodes utilisant les dérivées."
   ]
  },
  {
   "cell_type": "markdown",
   "metadata": {},
   "source": [
    "La dérivée de $f$ est\n",
    "$$\n",
    "f'(x) = 2x+1-\\frac{1}{\\sqrt{x}},\n",
    "$$\n",
    "se qui peut se traduire en Julia comme"
   ]
  },
  {
   "cell_type": "code",
   "execution_count": 23,
   "metadata": {},
   "outputs": [
    {
     "data": {
      "text/plain": [
       "df (generic function with 1 method)"
      ]
     },
     "execution_count": 23,
     "metadata": {},
     "output_type": "execute_result"
    }
   ],
   "source": [
    "df(x) = 2x+1-1.0/sqrt(x)"
   ]
  },
  {
   "cell_type": "markdown",
   "metadata": {},
   "source": [
    "Posons $f'(x) = 0$, i.e.\n",
    "$$\n",
    "\\frac{1}{\\sqrt{x}} = 2x+1\n",
    "$$\n",
    "ou\n",
    "$$\n",
    "\\frac{1}{x} = 4x^2 + 4x + 1\n",
    "$$\n",
    "Nous devons dès lors chercher les racines du polynôme\n",
    "$$\n",
    "4x^3 + 4x^2 + x - 1 = 0.\n",
    "$$\n",
    "Pas simple! Nous pouvons cependant utiliser la librairie `Roots`."
   ]
  },
  {
   "cell_type": "code",
   "execution_count": 22,
   "metadata": {},
   "outputs": [
    {
     "name": "stderr",
     "output_type": "stream",
     "text": [
      "\u001b[32m\u001b[1m  Resolving\u001b[22m\u001b[39m package versions...\n",
      "\u001b[32m\u001b[1mNo Changes\u001b[22m\u001b[39m to `C:\\Users\\slash\\.julia\\environments\\v1.5\\Project.toml`\n",
      "\u001b[32m\u001b[1mNo Changes\u001b[22m\u001b[39m to `C:\\Users\\slash\\.julia\\environments\\v1.5\\Manifest.toml`\n"
     ]
    }
   ],
   "source": [
    "using Roots"
   ]
  },
  {
   "cell_type": "code",
   "execution_count": 11,
   "metadata": {},
   "outputs": [
    {
     "data": {
      "text/plain": [
       "h (generic function with 1 method)"
      ]
     },
     "execution_count": 11,
     "metadata": {},
     "output_type": "execute_result"
    }
   ],
   "source": [
    "h(x) = x*(4x*(x+1)+1)-1"
   ]
  },
  {
   "cell_type": "code",
   "execution_count": 12,
   "metadata": {},
   "outputs": [
    {
     "data": {
      "image/svg+xml": [
       "<?xml version=\"1.0\" encoding=\"utf-8\"?>\n",
       "<svg xmlns=\"http://www.w3.org/2000/svg\" xmlns:xlink=\"http://www.w3.org/1999/xlink\" width=\"600\" height=\"400\" viewBox=\"0 0 2400 1600\">\n",
       "<defs>\n",
       "  <clipPath id=\"clip080\">\n",
       "    <rect x=\"0\" y=\"0\" width=\"2400\" height=\"1600\"/>\n",
       "  </clipPath>\n",
       "</defs>\n",
       "<path clip-path=\"url(#clip080)\" d=\"\n",
       "M0 1600 L2400 1600 L2400 0 L0 0  Z\n",
       "  \" fill=\"#ffffff\" fill-rule=\"evenodd\" fill-opacity=\"1\"/>\n",
       "<defs>\n",
       "  <clipPath id=\"clip081\">\n",
       "    <rect x=\"480\" y=\"0\" width=\"1681\" height=\"1600\"/>\n",
       "  </clipPath>\n",
       "</defs>\n",
       "<path clip-path=\"url(#clip080)\" d=\"\n",
       "M177.918 1486.45 L2352.76 1486.45 L2352.76 47.2441 L177.918 47.2441  Z\n",
       "  \" fill=\"#ffffff\" fill-rule=\"evenodd\" fill-opacity=\"1\"/>\n",
       "<defs>\n",
       "  <clipPath id=\"clip082\">\n",
       "    <rect x=\"177\" y=\"47\" width=\"2176\" height=\"1440\"/>\n",
       "  </clipPath>\n",
       "</defs>\n",
       "<polyline clip-path=\"url(#clip082)\" style=\"stroke:#000000; stroke-width:2; stroke-opacity:0.1; fill:none\" points=\"\n",
       "  444.643,1486.45 444.643,47.2441 \n",
       "  \"/>\n",
       "<polyline clip-path=\"url(#clip082)\" style=\"stroke:#000000; stroke-width:2; stroke-opacity:0.1; fill:none\" points=\"\n",
       "  854.99,1486.45 854.99,47.2441 \n",
       "  \"/>\n",
       "<polyline clip-path=\"url(#clip082)\" style=\"stroke:#000000; stroke-width:2; stroke-opacity:0.1; fill:none\" points=\"\n",
       "  1265.34,1486.45 1265.34,47.2441 \n",
       "  \"/>\n",
       "<polyline clip-path=\"url(#clip082)\" style=\"stroke:#000000; stroke-width:2; stroke-opacity:0.1; fill:none\" points=\"\n",
       "  1675.68,1486.45 1675.68,47.2441 \n",
       "  \"/>\n",
       "<polyline clip-path=\"url(#clip082)\" style=\"stroke:#000000; stroke-width:2; stroke-opacity:0.1; fill:none\" points=\"\n",
       "  2086.03,1486.45 2086.03,47.2441 \n",
       "  \"/>\n",
       "<polyline clip-path=\"url(#clip082)\" style=\"stroke:#000000; stroke-width:2; stroke-opacity:0.1; fill:none\" points=\"\n",
       "  177.918,1236.01 2352.76,1236.01 \n",
       "  \"/>\n",
       "<polyline clip-path=\"url(#clip082)\" style=\"stroke:#000000; stroke-width:2; stroke-opacity:0.1; fill:none\" points=\"\n",
       "  177.918,899.931 2352.76,899.931 \n",
       "  \"/>\n",
       "<polyline clip-path=\"url(#clip082)\" style=\"stroke:#000000; stroke-width:2; stroke-opacity:0.1; fill:none\" points=\"\n",
       "  177.918,563.857 2352.76,563.857 \n",
       "  \"/>\n",
       "<polyline clip-path=\"url(#clip082)\" style=\"stroke:#000000; stroke-width:2; stroke-opacity:0.1; fill:none\" points=\"\n",
       "  177.918,227.783 2352.76,227.783 \n",
       "  \"/>\n",
       "<polyline clip-path=\"url(#clip080)\" style=\"stroke:#000000; stroke-width:4; stroke-opacity:1; fill:none\" points=\"\n",
       "  177.918,1486.45 2352.76,1486.45 \n",
       "  \"/>\n",
       "<polyline clip-path=\"url(#clip080)\" style=\"stroke:#000000; stroke-width:4; stroke-opacity:1; fill:none\" points=\"\n",
       "  177.918,1486.45 177.918,47.2441 \n",
       "  \"/>\n",
       "<polyline clip-path=\"url(#clip080)\" style=\"stroke:#000000; stroke-width:4; stroke-opacity:1; fill:none\" points=\"\n",
       "  444.643,1486.45 444.643,1469.18 \n",
       "  \"/>\n",
       "<polyline clip-path=\"url(#clip080)\" style=\"stroke:#000000; stroke-width:4; stroke-opacity:1; fill:none\" points=\"\n",
       "  854.99,1486.45 854.99,1469.18 \n",
       "  \"/>\n",
       "<polyline clip-path=\"url(#clip080)\" style=\"stroke:#000000; stroke-width:4; stroke-opacity:1; fill:none\" points=\"\n",
       "  1265.34,1486.45 1265.34,1469.18 \n",
       "  \"/>\n",
       "<polyline clip-path=\"url(#clip080)\" style=\"stroke:#000000; stroke-width:4; stroke-opacity:1; fill:none\" points=\"\n",
       "  1675.68,1486.45 1675.68,1469.18 \n",
       "  \"/>\n",
       "<polyline clip-path=\"url(#clip080)\" style=\"stroke:#000000; stroke-width:4; stroke-opacity:1; fill:none\" points=\"\n",
       "  2086.03,1486.45 2086.03,1469.18 \n",
       "  \"/>\n",
       "<polyline clip-path=\"url(#clip080)\" style=\"stroke:#000000; stroke-width:4; stroke-opacity:1; fill:none\" points=\"\n",
       "  177.918,1236.01 204.016,1236.01 \n",
       "  \"/>\n",
       "<polyline clip-path=\"url(#clip080)\" style=\"stroke:#000000; stroke-width:4; stroke-opacity:1; fill:none\" points=\"\n",
       "  177.918,899.931 204.016,899.931 \n",
       "  \"/>\n",
       "<polyline clip-path=\"url(#clip080)\" style=\"stroke:#000000; stroke-width:4; stroke-opacity:1; fill:none\" points=\"\n",
       "  177.918,563.857 204.016,563.857 \n",
       "  \"/>\n",
       "<polyline clip-path=\"url(#clip080)\" style=\"stroke:#000000; stroke-width:4; stroke-opacity:1; fill:none\" points=\"\n",
       "  177.918,227.783 204.016,227.783 \n",
       "  \"/>\n",
       "<path clip-path=\"url(#clip080)\" d=\"M 0 0 M424.655 1525.04 L437.131 1525.04 L437.131 1528.83 L424.655 1528.83 L424.655 1525.04 Z\" fill=\"#000000\" fill-rule=\"evenodd\" fill-opacity=\"1\" /><path clip-path=\"url(#clip080)\" d=\"M 0 0 M455.048 1509.43 L443.243 1527.88 L455.048 1527.88 L455.048 1509.43 M453.821 1505.36 L459.701 1505.36 L459.701 1527.88 L464.631 1527.88 L464.631 1531.77 L459.701 1531.77 L459.701 1539.92 L455.048 1539.92 L455.048 1531.77 L439.446 1531.77 L439.446 1527.26 L453.821 1505.36 Z\" fill=\"#000000\" fill-rule=\"evenodd\" fill-opacity=\"1\" /><path clip-path=\"url(#clip080)\" d=\"M 0 0 M836.043 1525.04 L848.52 1525.04 L848.52 1528.83 L836.043 1528.83 L836.043 1525.04 Z\" fill=\"#000000\" fill-rule=\"evenodd\" fill-opacity=\"1\" /><path clip-path=\"url(#clip080)\" d=\"M 0 0 M857.617 1535.98 L873.937 1535.98 L873.937 1539.92 L851.992 1539.92 L851.992 1535.98 Q854.654 1533.23 859.238 1528.6 Q863.844 1523.95 865.025 1522.61 Q867.27 1520.08 868.15 1518.35 Q869.052 1516.59 869.052 1514.9 Q869.052 1512.14 867.108 1510.41 Q865.187 1508.67 862.085 1508.67 Q859.886 1508.67 857.432 1509.43 Q855.001 1510.2 852.224 1511.75 L852.224 1507.03 Q855.048 1505.89 857.501 1505.31 Q859.955 1504.73 861.992 1504.73 Q867.362 1504.73 870.557 1507.42 Q873.751 1510.11 873.751 1514.6 Q873.751 1516.73 872.941 1518.65 Q872.154 1520.54 870.048 1523.14 Q869.469 1523.81 866.367 1527.03 Q863.265 1530.22 857.617 1535.98 Z\" fill=\"#000000\" fill-rule=\"evenodd\" fill-opacity=\"1\" /><path clip-path=\"url(#clip080)\" d=\"M 0 0 M1265.34 1508.44 Q1261.73 1508.44 1259.9 1512 Q1258.09 1515.55 1258.09 1522.67 Q1258.09 1529.78 1259.9 1533.35 Q1261.73 1536.89 1265.34 1536.89 Q1268.97 1536.89 1270.78 1533.35 Q1272.61 1529.78 1272.61 1522.67 Q1272.61 1515.55 1270.78 1512 Q1268.97 1508.44 1265.34 1508.44 M1265.34 1504.73 Q1271.15 1504.73 1274.2 1509.34 Q1277.28 1513.92 1277.28 1522.67 Q1277.28 1531.4 1274.2 1536.01 Q1271.15 1540.59 1265.34 1540.59 Q1259.53 1540.59 1256.45 1536.01 Q1253.39 1531.4 1253.39 1522.67 Q1253.39 1513.92 1256.45 1509.34 Q1259.53 1504.73 1265.34 1504.73 Z\" fill=\"#000000\" fill-rule=\"evenodd\" fill-opacity=\"1\" /><path clip-path=\"url(#clip080)\" d=\"M 0 0 M1670.34 1535.98 L1686.66 1535.98 L1686.66 1539.92 L1664.71 1539.92 L1664.71 1535.98 Q1667.37 1533.23 1671.96 1528.6 Q1676.56 1523.95 1677.74 1522.61 Q1679.99 1520.08 1680.87 1518.35 Q1681.77 1516.59 1681.77 1514.9 Q1681.77 1512.14 1679.83 1510.41 Q1677.91 1508.67 1674.8 1508.67 Q1672.6 1508.67 1670.15 1509.43 Q1667.72 1510.2 1664.94 1511.75 L1664.94 1507.03 Q1667.77 1505.89 1670.22 1505.31 Q1672.67 1504.73 1674.71 1504.73 Q1680.08 1504.73 1683.28 1507.42 Q1686.47 1510.11 1686.47 1514.6 Q1686.47 1516.73 1685.66 1518.65 Q1684.87 1520.54 1682.77 1523.14 Q1682.19 1523.81 1679.09 1527.03 Q1675.98 1530.22 1670.34 1535.98 Z\" fill=\"#000000\" fill-rule=\"evenodd\" fill-opacity=\"1\" /><path clip-path=\"url(#clip080)\" d=\"M 0 0 M2089.04 1509.43 L2077.23 1527.88 L2089.04 1527.88 L2089.04 1509.43 M2087.81 1505.36 L2093.69 1505.36 L2093.69 1527.88 L2098.62 1527.88 L2098.62 1531.77 L2093.69 1531.77 L2093.69 1539.92 L2089.04 1539.92 L2089.04 1531.77 L2073.44 1531.77 L2073.44 1527.26 L2087.81 1505.36 Z\" fill=\"#000000\" fill-rule=\"evenodd\" fill-opacity=\"1\" /><path clip-path=\"url(#clip080)\" d=\"M 0 0 M62.9921 1238.4 L75.4689 1238.4 L75.4689 1242.2 L62.9921 1242.2 L62.9921 1238.4 Z\" fill=\"#000000\" fill-rule=\"evenodd\" fill-opacity=\"1\" /><path clip-path=\"url(#clip080)\" d=\"M 0 0 M84.5661 1249.35 L100.885 1249.35 L100.885 1253.29 L78.9411 1253.29 L78.9411 1249.35 Q81.6031 1246.6 86.1864 1241.97 Q90.7929 1237.31 91.9735 1235.97 Q94.2188 1233.45 95.0984 1231.71 Q96.0012 1229.95 96.0012 1228.26 Q96.0012 1225.51 94.0568 1223.77 Q92.1355 1222.04 89.0337 1222.04 Q86.8346 1222.04 84.3809 1222.8 Q81.9504 1223.56 79.1726 1225.11 L79.1726 1220.39 Q81.9967 1219.26 84.4503 1218.68 Q86.904 1218.1 88.9411 1218.1 Q94.3114 1218.1 97.5058 1220.79 Q100.7 1223.47 100.7 1227.96 Q100.7 1230.09 99.8901 1232.01 Q99.103 1233.91 96.9966 1236.5 Q96.4179 1237.17 93.316 1240.39 Q90.2142 1243.59 84.5661 1249.35 Z\" fill=\"#000000\" fill-rule=\"evenodd\" fill-opacity=\"1\" /><path clip-path=\"url(#clip080)\" d=\"M 0 0 M106.001 1218.73 L124.358 1218.73 L124.358 1222.66 L110.284 1222.66 L110.284 1231.13 Q111.302 1230.79 112.321 1230.62 Q113.339 1230.44 114.358 1230.44 Q120.145 1230.44 123.524 1233.61 Q126.904 1236.78 126.904 1242.2 Q126.904 1247.78 123.432 1250.88 Q119.959 1253.96 113.64 1253.96 Q111.464 1253.96 109.196 1253.59 Q106.95 1253.22 104.543 1252.48 L104.543 1247.78 Q106.626 1248.91 108.848 1249.47 Q111.071 1250.02 113.547 1250.02 Q117.552 1250.02 119.89 1247.92 Q122.228 1245.81 122.228 1242.2 Q122.228 1238.59 119.89 1236.48 Q117.552 1234.37 113.547 1234.37 Q111.672 1234.37 109.797 1234.79 Q107.946 1235.21 106.001 1236.09 L106.001 1218.73 Z\" fill=\"#000000\" fill-rule=\"evenodd\" fill-opacity=\"1\" /><path clip-path=\"url(#clip080)\" d=\"M 0 0 M141.973 1221.8 Q138.362 1221.8 136.533 1225.37 Q134.728 1228.91 134.728 1236.04 Q134.728 1243.15 136.533 1246.71 Q138.362 1250.25 141.973 1250.25 Q145.607 1250.25 147.413 1246.71 Q149.242 1243.15 149.242 1236.04 Q149.242 1228.91 147.413 1225.37 Q145.607 1221.8 141.973 1221.8 M141.973 1218.1 Q147.783 1218.1 150.839 1222.71 Q153.918 1227.29 153.918 1236.04 Q153.918 1244.77 150.839 1249.37 Q147.783 1253.96 141.973 1253.96 Q136.163 1253.96 133.084 1249.37 Q130.029 1244.77 130.029 1236.04 Q130.029 1227.29 133.084 1222.71 Q136.163 1218.1 141.973 1218.1 Z\" fill=\"#000000\" fill-rule=\"evenodd\" fill-opacity=\"1\" /><path clip-path=\"url(#clip080)\" d=\"M 0 0 M141.973 885.73 Q138.362 885.73 136.533 889.295 Q134.728 892.836 134.728 899.966 Q134.728 907.072 136.533 910.637 Q138.362 914.179 141.973 914.179 Q145.607 914.179 147.413 910.637 Q149.242 907.072 149.242 899.966 Q149.242 892.836 147.413 889.295 Q145.607 885.73 141.973 885.73 M141.973 882.026 Q147.783 882.026 150.839 886.633 Q153.918 891.216 153.918 899.966 Q153.918 908.693 150.839 913.299 Q147.783 917.883 141.973 917.883 Q136.163 917.883 133.084 913.299 Q130.029 908.693 130.029 899.966 Q130.029 891.216 133.084 886.633 Q136.163 882.026 141.973 882.026 Z\" fill=\"#000000\" fill-rule=\"evenodd\" fill-opacity=\"1\" /><path clip-path=\"url(#clip080)\" d=\"M 0 0 M84.5661 577.202 L100.885 577.202 L100.885 581.137 L78.9411 581.137 L78.9411 577.202 Q81.6031 574.447 86.1864 569.818 Q90.7929 565.165 91.9735 563.822 Q94.2188 561.299 95.0984 559.563 Q96.0012 557.804 96.0012 556.114 Q96.0012 553.36 94.0568 551.623 Q92.1355 549.887 89.0337 549.887 Q86.8346 549.887 84.3809 550.651 Q81.9504 551.415 79.1726 552.966 L79.1726 548.244 Q81.9967 547.11 84.4503 546.531 Q86.904 545.952 88.9411 545.952 Q94.3114 545.952 97.5058 548.637 Q100.7 551.323 100.7 555.813 Q100.7 557.943 99.8901 559.864 Q99.103 561.762 96.9966 564.355 Q96.4179 565.026 93.316 568.244 Q90.2142 571.438 84.5661 577.202 Z\" fill=\"#000000\" fill-rule=\"evenodd\" fill-opacity=\"1\" /><path clip-path=\"url(#clip080)\" d=\"M 0 0 M106.001 546.577 L124.358 546.577 L124.358 550.512 L110.284 550.512 L110.284 558.985 Q111.302 558.637 112.321 558.475 Q113.339 558.29 114.358 558.29 Q120.145 558.29 123.524 561.461 Q126.904 564.633 126.904 570.049 Q126.904 575.628 123.432 578.73 Q119.959 581.809 113.64 581.809 Q111.464 581.809 109.196 581.438 Q106.95 581.068 104.543 580.327 L104.543 575.628 Q106.626 576.762 108.848 577.318 Q111.071 577.873 113.547 577.873 Q117.552 577.873 119.89 575.767 Q122.228 573.66 122.228 570.049 Q122.228 566.438 119.89 564.332 Q117.552 562.225 113.547 562.225 Q111.672 562.225 109.797 562.642 Q107.946 563.059 106.001 563.938 L106.001 546.577 Z\" fill=\"#000000\" fill-rule=\"evenodd\" fill-opacity=\"1\" /><path clip-path=\"url(#clip080)\" d=\"M 0 0 M141.973 549.656 Q138.362 549.656 136.533 553.221 Q134.728 556.762 134.728 563.892 Q134.728 570.998 136.533 574.563 Q138.362 578.105 141.973 578.105 Q145.607 578.105 147.413 574.563 Q149.242 570.998 149.242 563.892 Q149.242 556.762 147.413 553.221 Q145.607 549.656 141.973 549.656 M141.973 545.952 Q147.783 545.952 150.839 550.559 Q153.918 555.142 153.918 563.892 Q153.918 572.619 150.839 577.225 Q147.783 581.809 141.973 581.809 Q136.163 581.809 133.084 577.225 Q130.029 572.619 130.029 563.892 Q130.029 555.142 133.084 550.559 Q136.163 545.952 141.973 545.952 Z\" fill=\"#000000\" fill-rule=\"evenodd\" fill-opacity=\"1\" /><path clip-path=\"url(#clip080)\" d=\"M 0 0 M78.9874 210.503 L97.3438 210.503 L97.3438 214.438 L83.2698 214.438 L83.2698 222.91 Q84.2883 222.563 85.3068 222.401 Q86.3253 222.216 87.3438 222.216 Q93.1309 222.216 96.5105 225.387 Q99.8901 228.559 99.8901 233.975 Q99.8901 239.554 96.4179 242.656 Q92.9457 245.734 86.6263 245.734 Q84.4503 245.734 82.1818 245.364 Q79.9365 244.994 77.5291 244.253 L77.5291 239.554 Q79.6124 240.688 81.8346 241.244 Q84.0568 241.799 86.5337 241.799 Q90.5383 241.799 92.8762 239.693 Q95.2142 237.586 95.2142 233.975 Q95.2142 230.364 92.8762 228.258 Q90.5383 226.151 86.5337 226.151 Q84.6587 226.151 82.7837 226.568 Q80.9318 226.985 78.9874 227.864 L78.9874 210.503 Z\" fill=\"#000000\" fill-rule=\"evenodd\" fill-opacity=\"1\" /><path clip-path=\"url(#clip080)\" d=\"M 0 0 M114.959 213.582 Q111.348 213.582 109.52 217.147 Q107.714 220.688 107.714 227.818 Q107.714 234.924 109.52 238.489 Q111.348 242.031 114.959 242.031 Q118.594 242.031 120.399 238.489 Q122.228 234.924 122.228 227.818 Q122.228 220.688 120.399 217.147 Q118.594 213.582 114.959 213.582 M114.959 209.878 Q120.77 209.878 123.825 214.485 Q126.904 219.068 126.904 227.818 Q126.904 236.545 123.825 241.151 Q120.77 245.734 114.959 245.734 Q109.149 245.734 106.071 241.151 Q103.015 236.545 103.015 227.818 Q103.015 219.068 106.071 214.485 Q109.149 209.878 114.959 209.878 Z\" fill=\"#000000\" fill-rule=\"evenodd\" fill-opacity=\"1\" /><path clip-path=\"url(#clip080)\" d=\"M 0 0 M141.973 213.582 Q138.362 213.582 136.533 217.147 Q134.728 220.688 134.728 227.818 Q134.728 234.924 136.533 238.489 Q138.362 242.031 141.973 242.031 Q145.607 242.031 147.413 238.489 Q149.242 234.924 149.242 227.818 Q149.242 220.688 147.413 217.147 Q145.607 213.582 141.973 213.582 M141.973 209.878 Q147.783 209.878 150.839 214.485 Q153.918 219.068 153.918 227.818 Q153.918 236.545 150.839 241.151 Q147.783 245.734 141.973 245.734 Q136.163 245.734 133.084 241.151 Q130.029 236.545 130.029 227.818 Q130.029 219.068 133.084 214.485 Q136.163 209.878 141.973 209.878 Z\" fill=\"#000000\" fill-rule=\"evenodd\" fill-opacity=\"1\" /><polyline clip-path=\"url(#clip082)\" style=\"stroke:#009af9; stroke-width:4; stroke-opacity:1; fill:none\" points=\"\n",
       "  239.47,1445.72 244.479,1437.19 249.488,1428.76 254.497,1420.42 259.506,1412.16 305.824,1339.94 352.141,1274.85 398.459,1216.53 444.776,1164.62 500.446,1110.16 \n",
       "  556.116,1063.77 603.184,1030.35 650.252,1001.86 752.51,955.008 846.783,927.291 947.853,910.404 1064.95,902.469 1169.02,901.278 1260.27,901.306 1359.77,898.994 \n",
       "  1459.85,890.586 1570.51,869.687 1675.79,834.014 1730.53,807.91 1785.27,775.835 1831.34,743.755 1877.42,706.644 1933.67,653.983 1989.93,592.613 2042.81,526.388 \n",
       "  2095.69,451.328 2138.05,384.456 2180.41,311.276 2222.77,231.504 2265.13,144.857 2271.65,130.894 2278.17,116.76 2284.68,102.454 2291.2,87.9763 \n",
       "  \"/>\n",
       "<path clip-path=\"url(#clip080)\" d=\"\n",
       "M1987.59 216.178 L2280.26 216.178 L2280.26 95.2176 L1987.59 95.2176  Z\n",
       "  \" fill=\"#ffffff\" fill-rule=\"evenodd\" fill-opacity=\"1\"/>\n",
       "<polyline clip-path=\"url(#clip080)\" style=\"stroke:#000000; stroke-width:4; stroke-opacity:1; fill:none\" points=\"\n",
       "  1987.59,216.178 2280.26,216.178 2280.26,95.2176 1987.59,95.2176 1987.59,216.178 \n",
       "  \"/>\n",
       "<polyline clip-path=\"url(#clip080)\" style=\"stroke:#009af9; stroke-width:4; stroke-opacity:1; fill:none\" points=\"\n",
       "  2011.76,155.698 2156.75,155.698 \n",
       "  \"/>\n",
       "<path clip-path=\"url(#clip080)\" d=\"M 0 0 M2194.76 175.385 Q2192.95 180.015 2191.24 181.427 Q2189.52 182.839 2186.65 182.839 L2183.25 182.839 L2183.25 179.274 L2185.75 179.274 Q2187.51 179.274 2188.48 178.44 Q2189.45 177.607 2190.64 174.505 L2191.4 172.561 L2180.91 147.052 L2185.43 147.052 L2193.53 167.329 L2201.63 147.052 L2206.14 147.052 L2194.76 175.385 Z\" fill=\"#000000\" fill-rule=\"evenodd\" fill-opacity=\"1\" /><path clip-path=\"url(#clip080)\" d=\"M 0 0 M2212.02 169.042 L2219.66 169.042 L2219.66 142.677 L2211.35 144.343 L2211.35 140.084 L2219.62 138.418 L2224.29 138.418 L2224.29 169.042 L2231.93 169.042 L2231.93 172.978 L2212.02 172.978 L2212.02 169.042 Z\" fill=\"#000000\" fill-rule=\"evenodd\" fill-opacity=\"1\" /></svg>\n"
      ]
     },
     "execution_count": 12,
     "metadata": {},
     "output_type": "execute_result"
    }
   ],
   "source": [
    "xmin = -5.0\n",
    "xmax = 5.0\n",
    "plot(h, xmin, xmax)"
   ]
  },
  {
   "cell_type": "code",
   "execution_count": 17,
   "metadata": {},
   "outputs": [
    {
     "data": {
      "image/svg+xml": [
       "<?xml version=\"1.0\" encoding=\"utf-8\"?>\n",
       "<svg xmlns=\"http://www.w3.org/2000/svg\" xmlns:xlink=\"http://www.w3.org/1999/xlink\" width=\"600\" height=\"400\" viewBox=\"0 0 2400 1600\">\n",
       "<defs>\n",
       "  <clipPath id=\"clip160\">\n",
       "    <rect x=\"0\" y=\"0\" width=\"2400\" height=\"1600\"/>\n",
       "  </clipPath>\n",
       "</defs>\n",
       "<path clip-path=\"url(#clip160)\" d=\"\n",
       "M0 1600 L2400 1600 L2400 0 L0 0  Z\n",
       "  \" fill=\"#ffffff\" fill-rule=\"evenodd\" fill-opacity=\"1\"/>\n",
       "<defs>\n",
       "  <clipPath id=\"clip161\">\n",
       "    <rect x=\"480\" y=\"0\" width=\"1681\" height=\"1600\"/>\n",
       "  </clipPath>\n",
       "</defs>\n",
       "<path clip-path=\"url(#clip160)\" d=\"\n",
       "M126.969 1486.45 L2352.76 1486.45 L2352.76 47.2441 L126.969 47.2441  Z\n",
       "  \" fill=\"#ffffff\" fill-rule=\"evenodd\" fill-opacity=\"1\"/>\n",
       "<defs>\n",
       "  <clipPath id=\"clip162\">\n",
       "    <rect x=\"126\" y=\"47\" width=\"2227\" height=\"1440\"/>\n",
       "  </clipPath>\n",
       "</defs>\n",
       "<polyline clip-path=\"url(#clip162)\" style=\"stroke:#000000; stroke-width:2; stroke-opacity:0.1; fill:none\" points=\"\n",
       "  189.963,1486.45 189.963,47.2441 \n",
       "  \"/>\n",
       "<polyline clip-path=\"url(#clip162)\" style=\"stroke:#000000; stroke-width:2; stroke-opacity:0.1; fill:none\" points=\"\n",
       "  714.913,1486.45 714.913,47.2441 \n",
       "  \"/>\n",
       "<polyline clip-path=\"url(#clip162)\" style=\"stroke:#000000; stroke-width:2; stroke-opacity:0.1; fill:none\" points=\"\n",
       "  1239.86,1486.45 1239.86,47.2441 \n",
       "  \"/>\n",
       "<polyline clip-path=\"url(#clip162)\" style=\"stroke:#000000; stroke-width:2; stroke-opacity:0.1; fill:none\" points=\"\n",
       "  1764.81,1486.45 1764.81,47.2441 \n",
       "  \"/>\n",
       "<polyline clip-path=\"url(#clip162)\" style=\"stroke:#000000; stroke-width:2; stroke-opacity:0.1; fill:none\" points=\"\n",
       "  2289.76,1486.45 2289.76,47.2441 \n",
       "  \"/>\n",
       "<polyline clip-path=\"url(#clip162)\" style=\"stroke:#000000; stroke-width:2; stroke-opacity:0.1; fill:none\" points=\"\n",
       "  126.969,1276 2352.76,1276 \n",
       "  \"/>\n",
       "<polyline clip-path=\"url(#clip162)\" style=\"stroke:#000000; stroke-width:2; stroke-opacity:0.1; fill:none\" points=\"\n",
       "  126.969,936.563 2352.76,936.563 \n",
       "  \"/>\n",
       "<polyline clip-path=\"url(#clip162)\" style=\"stroke:#000000; stroke-width:2; stroke-opacity:0.1; fill:none\" points=\"\n",
       "  126.969,597.129 2352.76,597.129 \n",
       "  \"/>\n",
       "<polyline clip-path=\"url(#clip162)\" style=\"stroke:#000000; stroke-width:2; stroke-opacity:0.1; fill:none\" points=\"\n",
       "  126.969,257.694 2352.76,257.694 \n",
       "  \"/>\n",
       "<polyline clip-path=\"url(#clip160)\" style=\"stroke:#000000; stroke-width:4; stroke-opacity:1; fill:none\" points=\"\n",
       "  126.969,1486.45 2352.76,1486.45 \n",
       "  \"/>\n",
       "<polyline clip-path=\"url(#clip160)\" style=\"stroke:#000000; stroke-width:4; stroke-opacity:1; fill:none\" points=\"\n",
       "  126.969,1486.45 126.969,47.2441 \n",
       "  \"/>\n",
       "<polyline clip-path=\"url(#clip160)\" style=\"stroke:#000000; stroke-width:4; stroke-opacity:1; fill:none\" points=\"\n",
       "  189.963,1486.45 189.963,1469.18 \n",
       "  \"/>\n",
       "<polyline clip-path=\"url(#clip160)\" style=\"stroke:#000000; stroke-width:4; stroke-opacity:1; fill:none\" points=\"\n",
       "  714.913,1486.45 714.913,1469.18 \n",
       "  \"/>\n",
       "<polyline clip-path=\"url(#clip160)\" style=\"stroke:#000000; stroke-width:4; stroke-opacity:1; fill:none\" points=\"\n",
       "  1239.86,1486.45 1239.86,1469.18 \n",
       "  \"/>\n",
       "<polyline clip-path=\"url(#clip160)\" style=\"stroke:#000000; stroke-width:4; stroke-opacity:1; fill:none\" points=\"\n",
       "  1764.81,1486.45 1764.81,1469.18 \n",
       "  \"/>\n",
       "<polyline clip-path=\"url(#clip160)\" style=\"stroke:#000000; stroke-width:4; stroke-opacity:1; fill:none\" points=\"\n",
       "  2289.76,1486.45 2289.76,1469.18 \n",
       "  \"/>\n",
       "<polyline clip-path=\"url(#clip160)\" style=\"stroke:#000000; stroke-width:4; stroke-opacity:1; fill:none\" points=\"\n",
       "  126.969,1276 153.678,1276 \n",
       "  \"/>\n",
       "<polyline clip-path=\"url(#clip160)\" style=\"stroke:#000000; stroke-width:4; stroke-opacity:1; fill:none\" points=\"\n",
       "  126.969,936.563 153.678,936.563 \n",
       "  \"/>\n",
       "<polyline clip-path=\"url(#clip160)\" style=\"stroke:#000000; stroke-width:4; stroke-opacity:1; fill:none\" points=\"\n",
       "  126.969,597.129 153.678,597.129 \n",
       "  \"/>\n",
       "<polyline clip-path=\"url(#clip160)\" style=\"stroke:#000000; stroke-width:4; stroke-opacity:1; fill:none\" points=\"\n",
       "  126.969,257.694 153.678,257.694 \n",
       "  \"/>\n",
       "<path clip-path=\"url(#clip160)\" d=\"M 0 0 M152.845 1525.04 L165.322 1525.04 L165.322 1528.83 L152.845 1528.83 L152.845 1525.04 Z\" fill=\"#000000\" fill-rule=\"evenodd\" fill-opacity=\"1\" /><path clip-path=\"url(#clip160)\" d=\"M 0 0 M171.201 1535.98 L178.84 1535.98 L178.84 1509.62 L170.53 1511.29 L170.53 1507.03 L178.794 1505.36 L183.47 1505.36 L183.47 1535.98 L191.109 1535.98 L191.109 1539.92 L171.201 1539.92 L171.201 1535.98 Z\" fill=\"#000000\" fill-rule=\"evenodd\" fill-opacity=\"1\" /><path clip-path=\"url(#clip160)\" d=\"M 0 0 M196.178 1534.04 L201.062 1534.04 L201.062 1539.92 L196.178 1539.92 L196.178 1534.04 Z\" fill=\"#000000\" fill-rule=\"evenodd\" fill-opacity=\"1\" /><path clip-path=\"url(#clip160)\" d=\"M 0 0 M206.178 1505.36 L224.534 1505.36 L224.534 1509.3 L210.46 1509.3 L210.46 1517.77 Q211.479 1517.42 212.497 1517.26 Q213.516 1517.07 214.534 1517.07 Q220.321 1517.07 223.701 1520.24 Q227.081 1523.42 227.081 1528.83 Q227.081 1534.41 223.608 1537.51 Q220.136 1540.59 213.817 1540.59 Q211.641 1540.59 209.372 1540.22 Q207.127 1539.85 204.72 1539.11 L204.72 1534.41 Q206.803 1535.54 209.025 1536.1 Q211.247 1536.66 213.724 1536.66 Q217.729 1536.66 220.067 1534.55 Q222.405 1532.44 222.405 1528.83 Q222.405 1525.22 220.067 1523.11 Q217.729 1521.01 213.724 1521.01 Q211.849 1521.01 209.974 1521.42 Q208.122 1521.84 206.178 1522.72 L206.178 1505.36 Z\" fill=\"#000000\" fill-rule=\"evenodd\" fill-opacity=\"1\" /><path clip-path=\"url(#clip160)\" d=\"M 0 0 M677.297 1525.04 L689.774 1525.04 L689.774 1528.83 L677.297 1528.83 L677.297 1525.04 Z\" fill=\"#000000\" fill-rule=\"evenodd\" fill-opacity=\"1\" /><path clip-path=\"url(#clip160)\" d=\"M 0 0 M695.653 1535.98 L703.292 1535.98 L703.292 1509.62 L694.982 1511.29 L694.982 1507.03 L703.246 1505.36 L707.922 1505.36 L707.922 1535.98 L715.561 1535.98 L715.561 1539.92 L695.653 1539.92 L695.653 1535.98 Z\" fill=\"#000000\" fill-rule=\"evenodd\" fill-opacity=\"1\" /><path clip-path=\"url(#clip160)\" d=\"M 0 0 M720.63 1534.04 L725.514 1534.04 L725.514 1539.92 L720.63 1539.92 L720.63 1534.04 Z\" fill=\"#000000\" fill-rule=\"evenodd\" fill-opacity=\"1\" /><path clip-path=\"url(#clip160)\" d=\"M 0 0 M740.584 1508.44 Q736.973 1508.44 735.144 1512 Q733.338 1515.55 733.338 1522.67 Q733.338 1529.78 735.144 1533.35 Q736.973 1536.89 740.584 1536.89 Q744.218 1536.89 746.023 1533.35 Q747.852 1529.78 747.852 1522.67 Q747.852 1515.55 746.023 1512 Q744.218 1508.44 740.584 1508.44 M740.584 1504.73 Q746.394 1504.73 749.449 1509.34 Q752.528 1513.92 752.528 1522.67 Q752.528 1531.4 749.449 1536.01 Q746.394 1540.59 740.584 1540.59 Q734.774 1540.59 731.695 1536.01 Q728.639 1531.4 728.639 1522.67 Q728.639 1513.92 731.695 1509.34 Q734.774 1504.73 740.584 1504.73 Z\" fill=\"#000000\" fill-rule=\"evenodd\" fill-opacity=\"1\" /><path clip-path=\"url(#clip160)\" d=\"M 0 0 M1202.13 1525.04 L1214.61 1525.04 L1214.61 1528.83 L1202.13 1528.83 L1202.13 1525.04 Z\" fill=\"#000000\" fill-rule=\"evenodd\" fill-opacity=\"1\" /><path clip-path=\"url(#clip160)\" d=\"M 0 0 M1229.68 1508.44 Q1226.07 1508.44 1224.24 1512 Q1222.43 1515.55 1222.43 1522.67 Q1222.43 1529.78 1224.24 1533.35 Q1226.07 1536.89 1229.68 1536.89 Q1233.31 1536.89 1235.12 1533.35 Q1236.95 1529.78 1236.95 1522.67 Q1236.95 1515.55 1235.12 1512 Q1233.31 1508.44 1229.68 1508.44 M1229.68 1504.73 Q1235.49 1504.73 1238.54 1509.34 Q1241.62 1513.92 1241.62 1522.67 Q1241.62 1531.4 1238.54 1536.01 Q1235.49 1540.59 1229.68 1540.59 Q1223.87 1540.59 1220.79 1536.01 Q1217.73 1531.4 1217.73 1522.67 Q1217.73 1513.92 1220.79 1509.34 Q1223.87 1504.73 1229.68 1504.73 Z\" fill=\"#000000\" fill-rule=\"evenodd\" fill-opacity=\"1\" /><path clip-path=\"url(#clip160)\" d=\"M 0 0 M1246.69 1534.04 L1251.58 1534.04 L1251.58 1539.92 L1246.69 1539.92 L1246.69 1534.04 Z\" fill=\"#000000\" fill-rule=\"evenodd\" fill-opacity=\"1\" /><path clip-path=\"url(#clip160)\" d=\"M 0 0 M1256.69 1505.36 L1275.05 1505.36 L1275.05 1509.3 L1260.97 1509.3 L1260.97 1517.77 Q1261.99 1517.42 1263.01 1517.26 Q1264.03 1517.07 1265.05 1517.07 Q1270.83 1517.07 1274.21 1520.24 Q1277.59 1523.42 1277.59 1528.83 Q1277.59 1534.41 1274.12 1537.51 Q1270.65 1540.59 1264.33 1540.59 Q1262.15 1540.59 1259.89 1540.22 Q1257.64 1539.85 1255.23 1539.11 L1255.23 1534.41 Q1257.32 1535.54 1259.54 1536.1 Q1261.76 1536.66 1264.24 1536.66 Q1268.24 1536.66 1270.58 1534.55 Q1272.92 1532.44 1272.92 1528.83 Q1272.92 1525.22 1270.58 1523.11 Q1268.24 1521.01 1264.24 1521.01 Q1262.36 1521.01 1260.49 1521.42 Q1258.64 1521.84 1256.69 1522.72 L1256.69 1505.36 Z\" fill=\"#000000\" fill-rule=\"evenodd\" fill-opacity=\"1\" /><path clip-path=\"url(#clip160)\" d=\"M 0 0 M1746.33 1508.44 Q1742.72 1508.44 1740.89 1512 Q1739.08 1515.55 1739.08 1522.67 Q1739.08 1529.78 1740.89 1533.35 Q1742.72 1536.89 1746.33 1536.89 Q1749.96 1536.89 1751.77 1533.35 Q1753.6 1529.78 1753.6 1522.67 Q1753.6 1515.55 1751.77 1512 Q1749.96 1508.44 1746.33 1508.44 M1746.33 1504.73 Q1752.14 1504.73 1755.19 1509.34 Q1758.27 1513.92 1758.27 1522.67 Q1758.27 1531.4 1755.19 1536.01 Q1752.14 1540.59 1746.33 1540.59 Q1740.52 1540.59 1737.44 1536.01 Q1734.38 1531.4 1734.38 1522.67 Q1734.38 1513.92 1737.44 1509.34 Q1740.52 1504.73 1746.33 1504.73 Z\" fill=\"#000000\" fill-rule=\"evenodd\" fill-opacity=\"1\" /><path clip-path=\"url(#clip160)\" d=\"M 0 0 M1763.34 1534.04 L1768.23 1534.04 L1768.23 1539.92 L1763.34 1539.92 L1763.34 1534.04 Z\" fill=\"#000000\" fill-rule=\"evenodd\" fill-opacity=\"1\" /><path clip-path=\"url(#clip160)\" d=\"M 0 0 M1783.3 1508.44 Q1779.68 1508.44 1777.86 1512 Q1776.05 1515.55 1776.05 1522.67 Q1776.05 1529.78 1777.86 1533.35 Q1779.68 1536.89 1783.3 1536.89 Q1786.93 1536.89 1788.74 1533.35 Q1790.56 1529.78 1790.56 1522.67 Q1790.56 1515.55 1788.74 1512 Q1786.93 1508.44 1783.3 1508.44 M1783.3 1504.73 Q1789.11 1504.73 1792.16 1509.34 Q1795.24 1513.92 1795.24 1522.67 Q1795.24 1531.4 1792.16 1536.01 Q1789.11 1540.59 1783.3 1540.59 Q1777.49 1540.59 1774.41 1536.01 Q1771.35 1531.4 1771.35 1522.67 Q1771.35 1513.92 1774.41 1509.34 Q1777.49 1504.73 1783.3 1504.73 Z\" fill=\"#000000\" fill-rule=\"evenodd\" fill-opacity=\"1\" /><path clip-path=\"url(#clip160)\" d=\"M 0 0 M2271.78 1508.44 Q2268.16 1508.44 2266.34 1512 Q2264.53 1515.55 2264.53 1522.67 Q2264.53 1529.78 2266.34 1533.35 Q2268.16 1536.89 2271.78 1536.89 Q2275.41 1536.89 2277.22 1533.35 Q2279.04 1529.78 2279.04 1522.67 Q2279.04 1515.55 2277.22 1512 Q2275.41 1508.44 2271.78 1508.44 M2271.78 1504.73 Q2277.59 1504.73 2280.64 1509.34 Q2283.72 1513.92 2283.72 1522.67 Q2283.72 1531.4 2280.64 1536.01 Q2277.59 1540.59 2271.78 1540.59 Q2265.97 1540.59 2262.89 1536.01 Q2259.83 1531.4 2259.83 1522.67 Q2259.83 1513.92 2262.89 1509.34 Q2265.97 1504.73 2271.78 1504.73 Z\" fill=\"#000000\" fill-rule=\"evenodd\" fill-opacity=\"1\" /><path clip-path=\"url(#clip160)\" d=\"M 0 0 M2288.79 1534.04 L2293.67 1534.04 L2293.67 1539.92 L2288.79 1539.92 L2288.79 1534.04 Z\" fill=\"#000000\" fill-rule=\"evenodd\" fill-opacity=\"1\" /><path clip-path=\"url(#clip160)\" d=\"M 0 0 M2298.79 1505.36 L2317.15 1505.36 L2317.15 1509.3 L2303.07 1509.3 L2303.07 1517.77 Q2304.09 1517.42 2305.11 1517.26 Q2306.13 1517.07 2307.15 1517.07 Q2312.93 1517.07 2316.31 1520.24 Q2319.69 1523.42 2319.69 1528.83 Q2319.69 1534.41 2316.22 1537.51 Q2312.75 1540.59 2306.43 1540.59 Q2304.25 1540.59 2301.98 1540.22 Q2299.74 1539.85 2297.33 1539.11 L2297.33 1534.41 Q2299.41 1535.54 2301.64 1536.1 Q2303.86 1536.66 2306.34 1536.66 Q2310.34 1536.66 2312.68 1534.55 Q2315.02 1532.44 2315.02 1528.83 Q2315.02 1525.22 2312.68 1523.11 Q2310.34 1521.01 2306.34 1521.01 Q2304.46 1521.01 2302.59 1521.42 Q2300.73 1521.84 2298.79 1522.72 L2298.79 1505.36 Z\" fill=\"#000000\" fill-rule=\"evenodd\" fill-opacity=\"1\" /><path clip-path=\"url(#clip160)\" d=\"M 0 0 M63.3162 1278.39 L75.793 1278.39 L75.793 1282.19 L63.3162 1282.19 L63.3162 1278.39 Z\" fill=\"#000000\" fill-rule=\"evenodd\" fill-opacity=\"1\" /><path clip-path=\"url(#clip160)\" d=\"M 0 0 M91.441 1274.13 Q88.2929 1274.13 86.4411 1276.29 Q84.6124 1278.44 84.6124 1282.19 Q84.6124 1285.92 86.4411 1288.09 Q88.2929 1290.25 91.441 1290.25 Q94.5892 1290.25 96.4179 1288.09 Q98.2697 1285.92 98.2697 1282.19 Q98.2697 1278.44 96.4179 1276.29 Q94.5892 1274.13 91.441 1274.13 M100.723 1259.48 L100.723 1263.74 Q98.9642 1262.91 97.1586 1262.47 Q95.3762 1262.03 93.617 1262.03 Q88.9874 1262.03 86.5337 1265.15 Q84.1031 1268.28 83.7559 1274.6 Q85.1216 1272.58 87.1818 1271.52 Q89.242 1270.43 91.7188 1270.43 Q96.9271 1270.43 99.9364 1273.6 Q102.969 1276.75 102.969 1282.19 Q102.969 1287.51 99.8206 1290.73 Q96.6725 1293.95 91.441 1293.95 Q85.4457 1293.95 82.2744 1289.37 Q79.1032 1284.76 79.1032 1276.03 Q79.1032 1267.84 82.992 1262.98 Q86.8809 1258.09 93.4318 1258.09 Q95.191 1258.09 96.9734 1258.44 Q98.779 1258.79 100.723 1259.48 Z\" fill=\"#000000\" fill-rule=\"evenodd\" fill-opacity=\"1\" /><path clip-path=\"url(#clip160)\" d=\"M 0 0 M62.9921 938.959 L75.4689 938.959 L75.4689 942.756 L62.9921 942.756 L62.9921 938.959 Z\" fill=\"#000000\" fill-rule=\"evenodd\" fill-opacity=\"1\" /><path clip-path=\"url(#clip160)\" d=\"M 0 0 M93.3855 923.357 L81.58 941.806 L93.3855 941.806 L93.3855 923.357 M92.1586 919.283 L98.0382 919.283 L98.0382 941.806 L102.969 941.806 L102.969 945.695 L98.0382 945.695 L98.0382 953.843 L93.3855 953.843 L93.3855 945.695 L77.7837 945.695 L77.7837 941.181 L92.1586 919.283 Z\" fill=\"#000000\" fill-rule=\"evenodd\" fill-opacity=\"1\" /><path clip-path=\"url(#clip160)\" d=\"M 0 0 M65.0754 599.524 L77.5522 599.524 L77.5522 603.321 L65.0754 603.321 L65.0754 599.524 Z\" fill=\"#000000\" fill-rule=\"evenodd\" fill-opacity=\"1\" /><path clip-path=\"url(#clip160)\" d=\"M 0 0 M86.6494 610.473 L102.969 610.473 L102.969 614.409 L81.0244 614.409 L81.0244 610.473 Q83.6865 607.719 88.2698 603.089 Q92.8762 598.436 94.0568 597.094 Q96.3021 594.571 97.1818 592.835 Q98.0845 591.075 98.0845 589.386 Q98.0845 586.631 96.1401 584.895 Q94.2188 583.159 91.117 583.159 Q88.9179 583.159 86.4642 583.923 Q84.0337 584.686 81.2559 586.237 L81.2559 581.515 Q84.08 580.381 86.5337 579.802 Q88.9874 579.224 91.0244 579.224 Q96.3947 579.224 99.5892 581.909 Q102.784 584.594 102.784 589.085 Q102.784 591.214 101.973 593.136 Q101.186 595.034 99.0799 597.626 Q98.5012 598.298 95.3994 601.515 Q92.2975 604.71 86.6494 610.473 Z\" fill=\"#000000\" fill-rule=\"evenodd\" fill-opacity=\"1\" /><path clip-path=\"url(#clip160)\" d=\"M 0 0 M91.0244 243.492 Q87.4133 243.492 85.5846 247.057 Q83.7791 250.599 83.7791 257.728 Q83.7791 264.835 85.5846 268.4 Q87.4133 271.941 91.0244 271.941 Q94.6586 271.941 96.4642 268.4 Q98.2929 264.835 98.2929 257.728 Q98.2929 250.599 96.4642 247.057 Q94.6586 243.492 91.0244 243.492 M91.0244 239.789 Q96.8345 239.789 99.8901 244.395 Q102.969 248.978 102.969 257.728 Q102.969 266.455 99.8901 271.062 Q96.8345 275.645 91.0244 275.645 Q85.2142 275.645 82.1355 271.062 Q79.08 266.455 79.08 257.728 Q79.08 248.978 82.1355 244.395 Q85.2142 239.789 91.0244 239.789 Z\" fill=\"#000000\" fill-rule=\"evenodd\" fill-opacity=\"1\" /><polyline clip-path=\"url(#clip162)\" style=\"stroke:#009af9; stroke-width:4; stroke-opacity:1; fill:none\" points=\"\n",
       "  189.963,1445.72 195.089,1432.51 200.216,1419.42 205.342,1406.45 210.469,1393.58 257.871,1279.83 305.274,1175.23 352.676,1079.41 400.079,991.991 457.053,897.503 \n",
       "  514.027,813.958 562.197,751.377 610.368,695.76 662.695,642.776 715.022,597.04 763.262,560.863 811.503,530.022 863.222,502.436 914.941,480.043 974.863,459.952 \n",
       "  1034.78,445.421 1141.29,430.965 1234.68,427.419 1336.5,429.758 1438.93,434.987 1552.18,439.578 1659.93,438.267 1771.97,426.222 1866.28,404.054 1923.86,383.763 \n",
       "  1981.43,357.534 2035.55,326.863 2089.67,289.794 2176.37,215.673 2263.08,121.402 2276.42,104.959 2289.76,87.9763 \n",
       "  \"/>\n",
       "<path clip-path=\"url(#clip160)\" d=\"\n",
       "M1980.24 216.178 L2278.56 216.178 L2278.56 95.2176 L1980.24 95.2176  Z\n",
       "  \" fill=\"#ffffff\" fill-rule=\"evenodd\" fill-opacity=\"1\"/>\n",
       "<polyline clip-path=\"url(#clip160)\" style=\"stroke:#000000; stroke-width:4; stroke-opacity:1; fill:none\" points=\"\n",
       "  1980.24,216.178 2278.56,216.178 2278.56,95.2176 1980.24,95.2176 1980.24,216.178 \n",
       "  \"/>\n",
       "<polyline clip-path=\"url(#clip160)\" style=\"stroke:#009af9; stroke-width:4; stroke-opacity:1; fill:none\" points=\"\n",
       "  2004.97,155.698 2153.35,155.698 \n",
       "  \"/>\n",
       "<path clip-path=\"url(#clip160)\" d=\"M 0 0 M2191.93 175.385 Q2190.12 180.015 2188.41 181.427 Q2186.69 182.839 2183.82 182.839 L2180.42 182.839 L2180.42 179.274 L2182.92 179.274 Q2184.68 179.274 2185.65 178.44 Q2186.62 177.607 2187.8 174.505 L2188.57 172.561 L2178.08 147.052 L2182.6 147.052 L2190.7 167.329 L2198.8 147.052 L2203.31 147.052 L2191.93 175.385 Z\" fill=\"#000000\" fill-rule=\"evenodd\" fill-opacity=\"1\" /><path clip-path=\"url(#clip160)\" d=\"M 0 0 M2209.19 169.042 L2216.83 169.042 L2216.83 142.677 L2208.52 144.343 L2208.52 140.084 L2216.79 138.418 L2221.46 138.418 L2221.46 169.042 L2229.1 169.042 L2229.1 172.978 L2209.19 172.978 L2209.19 169.042 Z\" fill=\"#000000\" fill-rule=\"evenodd\" fill-opacity=\"1\" /></svg>\n"
      ]
     },
     "execution_count": 17,
     "metadata": {},
     "output_type": "execute_result"
    }
   ],
   "source": [
    "xmin = -1.5\n",
    "xmax = 0.5\n",
    "plot(h, xmin, xmax)"
   ]
  },
  {
   "cell_type": "markdown",
   "metadata": {},
   "source": [
    "La fonction `fzeros` cherche à déterminer tous les zéros d'une fonction, mais peut être assez lente. Nous chercherons juste un zéro de la fonction, dans l'intervalle $[0,1]$."
   ]
  },
  {
   "cell_type": "code",
   "execution_count": 13,
   "metadata": {},
   "outputs": [
    {
     "name": "stdout",
     "output_type": "stream",
     "text": [
      "search: \u001b[0m\u001b[1mf\u001b[22m\u001b[0m\u001b[1mz\u001b[22m\u001b[0m\u001b[1me\u001b[22m\u001b[0m\u001b[1mr\u001b[22m\u001b[0m\u001b[1mo\u001b[22m \u001b[0m\u001b[1mf\u001b[22m\u001b[0m\u001b[1mz\u001b[22m\u001b[0m\u001b[1me\u001b[22m\u001b[0m\u001b[1mr\u001b[22m\u001b[0m\u001b[1mo\u001b[22ms \u001b[0m\u001b[1mf\u001b[22mind_\u001b[0m\u001b[1mz\u001b[22m\u001b[0m\u001b[1me\u001b[22m\u001b[0m\u001b[1mr\u001b[22m\u001b[0m\u001b[1mo\u001b[22m \u001b[0m\u001b[1mf\u001b[22mind_\u001b[0m\u001b[1mz\u001b[22m\u001b[0m\u001b[1me\u001b[22m\u001b[0m\u001b[1mr\u001b[22m\u001b[0m\u001b[1mo\u001b[22ms Round\u001b[0m\u001b[1mF\u001b[22mrom\u001b[0m\u001b[1mZ\u001b[22m\u001b[0m\u001b[1me\u001b[22m\u001b[0m\u001b[1mr\u001b[22m\u001b[0m\u001b[1mo\u001b[22m \u001b[0m\u001b[1mf\u001b[22minali\u001b[0m\u001b[1mz\u001b[22m\u001b[0m\u001b[1me\u001b[22m\u001b[0m\u001b[1mr\u001b[22m\n",
      "\n"
     ]
    },
    {
     "data": {
      "text/latex": [
       "\\begin{verbatim}\n",
       "fzero(f, x0; order=0; kwargs...)\n",
       "fzero(f, x0, M; kwargs...)\n",
       "fzero(f, x0, M, N; kwargs...)\n",
       "fzero(f, x0; kwargs...)\n",
       "fzero(f, a::Number, b::Numbers; kwargs...)\n",
       "fzero(f, a::Number, b::Numbers; order=?, kwargs...)\n",
       "fzero(f, fp, a::Number; kwargs...)\n",
       "\\end{verbatim}\n",
       "Find zero of a function using one of several iterative algorithms.\n",
       "\n",
       "\\begin{itemize}\n",
       "\\item \\texttt{f}: a scalar function or callable object\n",
       "\n",
       "\n",
       "\\item \\texttt{x0}: an initial guess, a scalar value or tuple of two values\n",
       "\n",
       "\n",
       "\\item \\texttt{order}: An integer, symbol, or string indicating the algorithm to  use for \\texttt{find\\_zero}. The \\texttt{Order0} default may be specified directly  by \\texttt{order=0}, \\texttt{order=:0}, or \\texttt{order=\"0\"}; \\texttt{Order1()} by \\texttt{order=1},  \\texttt{order=:1}, \\texttt{order=\"1\"}, or \\texttt{order=:secant}; \\texttt{Order1B()} by  \\texttt{order=\"1B\"}, etc.\n",
       "\n",
       "\n",
       "\\item \\texttt{M}: a specific method, as would be passed to \\texttt{find\\_zero}, bypassing the use of the \\texttt{order} keyword\n",
       "\n",
       "\n",
       "\\item \\texttt{N}: a specific bracketing method. When given, if a bracket is identified, method \\texttt{N} will be used to finish instead of method \\texttt{M}.\n",
       "\n",
       "\n",
       "\\item \\texttt{a}, \\texttt{b}: When two values are passed along, if no \\texttt{order} value is specified, \\texttt{Bisection} will be used over the bracketing interval \\texttt{(a,b)}. If an \\texttt{order} value is specified, the value of \\texttt{x0} will be set to \\texttt{(a,b)} and the specified method will be used.\n",
       "\n",
       "\n",
       "\\item \\texttt{fp}: when \\texttt{fp} is specified (assumed to compute the derivative of \\texttt{f}), Newton's method will be used\n",
       "\n",
       "\n",
       "\\item \\texttt{kwargs...}: See \\texttt{find\\_zero} for the specification of tolerances and other keyword arguments\n",
       "\n",
       "\\end{itemize}\n",
       "Examples:\n",
       "\n",
       "\\begin{verbatim}\n",
       "fzero(sin, 3)                  # use Order0() method, the default\n",
       "fzero(sin, 3, order=:secant)   # use secant method (also just `order=1`)\n",
       "fzero(sin, 3, Roots.Order1B()) # use secant method variant for multiple roots.\n",
       "fzero(sin, 3, 4)               # use bisection method over (3,4)\n",
       "fzero(sin, 3, 4, xatol=1e-6)   # use bisection method until |x_n - x_{n-1}| <= 1e-6\n",
       "fzero(sin, 3, 3.1, order=1)    # use secant method with x_0=3.0, x_1 = 3.1\n",
       "fzero(sin, (3, 3.1), order=2)  # use Steffensen's method with x_0=3.0, x_1 = 3.1\n",
       "fzero(sin, cos, 3)             # use Newton's method\n",
       "\\end{verbatim}\n",
       "Note: unlike \\texttt{find\\_zero}, \\texttt{fzero} does not specialize on the type of the function argument. This has the advantage of making the first use of the function \\texttt{f} faster, but subsequent uses slower.\n",
       "\n"
      ],
      "text/markdown": [
       "```\n",
       "fzero(f, x0; order=0; kwargs...)\n",
       "fzero(f, x0, M; kwargs...)\n",
       "fzero(f, x0, M, N; kwargs...)\n",
       "fzero(f, x0; kwargs...)\n",
       "fzero(f, a::Number, b::Numbers; kwargs...)\n",
       "fzero(f, a::Number, b::Numbers; order=?, kwargs...)\n",
       "fzero(f, fp, a::Number; kwargs...)\n",
       "```\n",
       "\n",
       "Find zero of a function using one of several iterative algorithms.\n",
       "\n",
       "  * `f`: a scalar function or callable object\n",
       "  * `x0`: an initial guess, a scalar value or tuple of two values\n",
       "  * `order`: An integer, symbol, or string indicating the algorithm to  use for `find_zero`. The `Order0` default may be specified directly  by `order=0`, `order=:0`, or `order=\"0\"`; `Order1()` by `order=1`,  `order=:1`, `order=\"1\"`, or `order=:secant`; `Order1B()` by  `order=\"1B\"`, etc.\n",
       "  * `M`: a specific method, as would be passed to `find_zero`, bypassing the use of the `order` keyword\n",
       "  * `N`: a specific bracketing method. When given, if a bracket is identified, method `N` will be used to finish instead of method `M`.\n",
       "  * `a`, `b`: When two values are passed along, if no `order` value is specified, `Bisection` will be used over the bracketing interval `(a,b)`. If an `order` value is specified, the value of `x0` will be set to `(a,b)` and the specified method will be used.\n",
       "  * `fp`: when `fp` is specified (assumed to compute the derivative of `f`), Newton's method will be used\n",
       "  * `kwargs...`: See `find_zero` for the specification of tolerances and other keyword arguments\n",
       "\n",
       "Examples:\n",
       "\n",
       "```\n",
       "fzero(sin, 3)                  # use Order0() method, the default\n",
       "fzero(sin, 3, order=:secant)   # use secant method (also just `order=1`)\n",
       "fzero(sin, 3, Roots.Order1B()) # use secant method variant for multiple roots.\n",
       "fzero(sin, 3, 4)               # use bisection method over (3,4)\n",
       "fzero(sin, 3, 4, xatol=1e-6)   # use bisection method until |x_n - x_{n-1}| <= 1e-6\n",
       "fzero(sin, 3, 3.1, order=1)    # use secant method with x_0=3.0, x_1 = 3.1\n",
       "fzero(sin, (3, 3.1), order=2)  # use Steffensen's method with x_0=3.0, x_1 = 3.1\n",
       "fzero(sin, cos, 3)             # use Newton's method\n",
       "```\n",
       "\n",
       "Note: unlike `find_zero`, `fzero` does not specialize on the type of the function argument. This has the advantage of making the first use of the function `f` faster, but subsequent uses slower.\n"
      ],
      "text/plain": [
       "\u001b[36m  fzero(f, x0; order=0; kwargs...)\u001b[39m\n",
       "\u001b[36m  fzero(f, x0, M; kwargs...)\u001b[39m\n",
       "\u001b[36m  fzero(f, x0, M, N; kwargs...)\u001b[39m\n",
       "\u001b[36m  fzero(f, x0; kwargs...)\u001b[39m\n",
       "\u001b[36m  fzero(f, a::Number, b::Numbers; kwargs...)\u001b[39m\n",
       "\u001b[36m  fzero(f, a::Number, b::Numbers; order=?, kwargs...)\u001b[39m\n",
       "\u001b[36m  fzero(f, fp, a::Number; kwargs...)\u001b[39m\n",
       "\n",
       "  Find zero of a function using one of several iterative algorithms.\n",
       "\n",
       "    •    \u001b[36mf\u001b[39m: a scalar function or callable object\n",
       "\n",
       "    •    \u001b[36mx0\u001b[39m: an initial guess, a scalar value or tuple of two values\n",
       "\n",
       "    •    \u001b[36morder\u001b[39m: An integer, symbol, or string indicating the algorithm to\n",
       "        use for \u001b[36mfind_zero\u001b[39m. The \u001b[36mOrder0\u001b[39m default may be specified directly by\n",
       "        \u001b[36morder=0\u001b[39m, \u001b[36morder=:0\u001b[39m, or \u001b[36morder=\"0\"\u001b[39m; \u001b[36mOrder1()\u001b[39m by \u001b[36morder=1\u001b[39m, \u001b[36morder=:1\u001b[39m,\n",
       "        \u001b[36morder=\"1\"\u001b[39m, or \u001b[36morder=:secant\u001b[39m; \u001b[36mOrder1B()\u001b[39m by \u001b[36morder=\"1B\"\u001b[39m, etc.\n",
       "\n",
       "    •    \u001b[36mM\u001b[39m: a specific method, as would be passed to \u001b[36mfind_zero\u001b[39m, bypassing\n",
       "        the use of the \u001b[36morder\u001b[39m keyword\n",
       "\n",
       "    •    \u001b[36mN\u001b[39m: a specific bracketing method. When given, if a bracket is\n",
       "        identified, method \u001b[36mN\u001b[39m will be used to finish instead of method \u001b[36mM\u001b[39m.\n",
       "\n",
       "    •    \u001b[36ma\u001b[39m, \u001b[36mb\u001b[39m: When two values are passed along, if no \u001b[36morder\u001b[39m value is\n",
       "        specified, \u001b[36mBisection\u001b[39m will be used over the bracketing interval\n",
       "        \u001b[36m(a,b)\u001b[39m. If an \u001b[36morder\u001b[39m value is specified, the value of \u001b[36mx0\u001b[39m will be set\n",
       "        to \u001b[36m(a,b)\u001b[39m and the specified method will be used.\n",
       "\n",
       "    •    \u001b[36mfp\u001b[39m: when \u001b[36mfp\u001b[39m is specified (assumed to compute the derivative of \u001b[36mf\u001b[39m),\n",
       "        Newton's method will be used\n",
       "\n",
       "    •    \u001b[36mkwargs...\u001b[39m: See \u001b[36mfind_zero\u001b[39m for the specification of tolerances and\n",
       "        other keyword arguments\n",
       "\n",
       "  Examples:\n",
       "\n",
       "\u001b[36m  fzero(sin, 3)                  # use Order0() method, the default\u001b[39m\n",
       "\u001b[36m  fzero(sin, 3, order=:secant)   # use secant method (also just `order=1`)\u001b[39m\n",
       "\u001b[36m  fzero(sin, 3, Roots.Order1B()) # use secant method variant for multiple roots.\u001b[39m\n",
       "\u001b[36m  fzero(sin, 3, 4)               # use bisection method over (3,4)\u001b[39m\n",
       "\u001b[36m  fzero(sin, 3, 4, xatol=1e-6)   # use bisection method until |x_n - x_{n-1}| <= 1e-6\u001b[39m\n",
       "\u001b[36m  fzero(sin, 3, 3.1, order=1)    # use secant method with x_0=3.0, x_1 = 3.1\u001b[39m\n",
       "\u001b[36m  fzero(sin, (3, 3.1), order=2)  # use Steffensen's method with x_0=3.0, x_1 = 3.1\u001b[39m\n",
       "\u001b[36m  fzero(sin, cos, 3)             # use Newton's method\u001b[39m\n",
       "\n",
       "  Note: unlike \u001b[36mfind_zero\u001b[39m, \u001b[36mfzero\u001b[39m does not specialize on the type of the\n",
       "  function argument. This has the advantage of making the first use of the\n",
       "  function \u001b[36mf\u001b[39m faster, but subsequent uses slower."
      ]
     },
     "execution_count": 13,
     "metadata": {},
     "output_type": "execute_result"
    }
   ],
   "source": [
    "?fzero"
   ]
  },
  {
   "cell_type": "code",
   "execution_count": 14,
   "metadata": {},
   "outputs": [
    {
     "data": {
      "text/plain": [
       "0.3478103847799311"
      ]
     },
     "execution_count": 14,
     "metadata": {},
     "output_type": "execute_result"
    }
   ],
   "source": [
    "fzero(h, 0, 1)"
   ]
  },
  {
   "cell_type": "code",
   "execution_count": 15,
   "metadata": {},
   "outputs": [
    {
     "data": {
      "text/plain": [
       "1-element Array{Float64,1}:\n",
       " 0.34781038477993104"
      ]
     },
     "execution_count": 15,
     "metadata": {},
     "output_type": "execute_result"
    }
   ],
   "source": [
    "fzeros(h, 0, 1)"
   ]
  },
  {
   "cell_type": "markdown",
   "metadata": {},
   "source": [
    "Nous retrouvons la même solution que précédemment (heureusement!)."
   ]
  },
  {
   "cell_type": "markdown",
   "metadata": {},
   "source": [
    "### Méthode de la bisection"
   ]
  },
  {
   "cell_type": "markdown",
   "metadata": {},
   "source": [
    "Nous pouvons le faire explicitement en codant notre fonction de bisection."
   ]
  },
  {
   "cell_type": "code",
   "execution_count": 26,
   "metadata": {},
   "outputs": [
    {
     "data": {
      "text/plain": [
       "bisection (generic function with 2 methods)"
      ]
     },
     "execution_count": 26,
     "metadata": {},
     "output_type": "execute_result"
    }
   ],
   "source": [
    "function bisection(f::Function, a::Float64, b::Float64, δ::Float64 = 1e-8)\n",
    "\n",
    "    k = 0\n",
    "    (a,b) = (min(a,b),max(a,b))\n",
    "\n",
    "    fa = f(a)\n",
    "    fb = f(b)\n",
    "    if fa == 0\n",
    "        return k, fa, a, a\n",
    "    elseif fb == 0\n",
    "        return k, fb, b, b\n",
    "    end\n",
    "\n",
    "    if fa*fb > 0\n",
    "        println(\"The function must be of opposite signs at the bounds\")\n",
    "        return\n",
    "    end\n",
    "\n",
    "    # fa*fb < 0\n",
    "    d = b-a\n",
    "\n",
    "    fc = NaN\n",
    "\n",
    "    while (d > δ)\n",
    "        c = a+d/2\n",
    "        fc = f(c)\n",
    "\n",
    "        k += 1\n",
    "\n",
    "        if (verbose)\n",
    "            println(\"$k. a = $a, b = $b, d = $d, c = $c, fc = $fc\")\n",
    "        end\n",
    "        \n",
    "        if (fc == 0)\n",
    "            a = b = c\n",
    "            break\n",
    "        elseif (fc*fa < 0)\n",
    "            b = c\n",
    "            fb = fc\n",
    "        else\n",
    "            a = c\n",
    "            fa = fc\n",
    "        end\n",
    "        d = b-a\n",
    "    end            \n",
    "\n",
    "    return k, fc, a, b\n",
    "end"
   ]
  },
  {
   "cell_type": "code",
   "execution_count": 27,
   "metadata": {},
   "outputs": [
    {
     "data": {
      "text/html": [
       "# 2 methods for generic function <b>bisection</b>:<ul><li> bisection(f::<b>Function</b>, a::<b>Float64</b>, b::<b>Float64</b>) in Main at In[26]:1</li> <li> bisection(f::<b>Function</b>, a::<b>Float64</b>, b::<b>Float64</b>, δ::<b>Float64</b>) in Main at In[26]:1</li> </ul>"
      ],
      "text/plain": [
       "# 2 methods for generic function \"bisection\":\n",
       "[1] bisection(f::Function, a::Float64, b::Float64) in Main at In[26]:1\n",
       "[2] bisection(f::Function, a::Float64, b::Float64, δ::Float64) in Main at In[26]:1"
      ]
     },
     "execution_count": 27,
     "metadata": {},
     "output_type": "execute_result"
    }
   ],
   "source": [
    "methods(bisection)"
   ]
  },
  {
   "cell_type": "code",
   "execution_count": 28,
   "metadata": {},
   "outputs": [
    {
     "name": "stdout",
     "output_type": "stream",
     "text": [
      "1. a = 0.0, b = 1.0, d = 1.0, c = 0.5, fc = 0.5857864376269051\n",
      "2. a = 0.0, b = 0.5, d = 0.5, c = 0.25, fc = -0.5\n",
      "3. a = 0.25, b = 0.5, d = 0.25, c = 0.375, fc = 0.11700683814454771\n",
      "4. a = 0.25, b = 0.375, d = 0.125, c = 0.3125, fc = -0.1638543819998317\n",
      "5. a = 0.3125, b = 0.375, d = 0.0625, c = 0.34375, fc = -0.018105730844883317\n",
      "6. a = 0.34375, b = 0.375, d = 0.03125, c = 0.359375, fc = 0.050634687543401835\n",
      "7. a = 0.34375, b = 0.359375, d = 0.015625, c = 0.3515625, fc = 0.016576914576864388\n",
      "8. a = 0.34375, b = 0.3515625, d = 0.0078125, c = 0.34765625, fc = -0.0006841080101760433\n",
      "9. a = 0.34765625, b = 0.3515625, d = 0.00390625, c = 0.349609375, fc = 0.007966197738592307\n",
      "10. a = 0.34765625, b = 0.349609375, d = 0.001953125, c = 0.3486328125, fc = 0.00364602812011805\n",
      "11. a = 0.34765625, b = 0.3486328125, d = 0.0009765625, c = 0.34814453125, fc = 0.0014822102363964973\n",
      "12. a = 0.34765625, b = 0.34814453125, d = 0.00048828125, c = 0.347900390625, fc = 0.0003993642067436909\n",
      "13. a = 0.34765625, b = 0.347900390625, d = 0.000244140625, c = 0.3477783203125, fc = -0.00014229355962558365\n",
      "14. a = 0.3477783203125, b = 0.347900390625, d = 0.0001220703125, c = 0.34783935546875, fc = 0.0001285549004899078\n",
      "15. a = 0.3477783203125, b = 0.34783935546875, d = 6.103515625e-5, c = 0.347808837890625, fc = -6.864434261677488e-6\n",
      "16. a = 0.347808837890625, b = 0.34783935546875, d = 3.0517578125e-5, c = 0.3478240966796875, fc = 6.084645680659584e-5\n",
      "17. a = 0.347808837890625, b = 0.3478240966796875, d = 1.52587890625e-5, c = 0.34781646728515625, fc = 2.699131721217718e-5\n",
      "18. a = 0.347808837890625, b = 0.34781646728515625, d = 7.62939453125e-6, c = 0.3478126525878906, fc = 1.0063517962510815e-5\n",
      "19. a = 0.347808837890625, b = 0.3478126525878906, d = 3.814697265625e-6, c = 0.3478107452392578, fc = 1.5995609723429283e-6\n",
      "20. a = 0.347808837890625, b = 0.3478107452392578, d = 1.9073486328125e-6, c = 0.3478097915649414, fc = -2.6324318642689803e-6\n",
      "21. a = 0.3478097915649414, b = 0.3478107452392578, d = 9.5367431640625e-7, c = 0.3478102684020996, fc = -5.164342509189623e-7\n",
      "22. a = 0.3478102684020996, b = 0.3478107452392578, d = 4.76837158203125e-7, c = 0.3478105068206787, fc = 5.415636596950435e-7\n",
      "23. a = 0.3478102684020996, b = 0.3478105068206787, d = 2.384185791015625e-7, c = 0.34781038761138916, fc = 1.2564779217072441e-8\n",
      "24. a = 0.3478102684020996, b = 0.34781038761138916, d = 1.1920928955078125e-7, c = 0.3478103280067444, fc = -2.519347168661312e-7\n",
      "25. a = 0.3478103280067444, b = 0.34781038761138916, d = 5.960464477539063e-8, c = 0.3478103578090668, fc = -1.196849643836373e-7\n",
      "26. a = 0.3478103578090668, b = 0.34781038761138916, d = 2.9802322387695312e-8, c = 0.34781037271022797, fc = -5.35600914730594e-8\n",
      "27. a = 0.34781037271022797, b = 0.34781038761138916, d = 1.4901161193847656e-8, c = 0.34781038016080856, fc = -2.0497655794926573e-8\n"
     ]
    },
    {
     "data": {
      "text/plain": [
       "(27, -2.0497655794926573e-8, 0.34781038016080856, 0.34781038761138916)"
      ]
     },
     "execution_count": 28,
     "metadata": {},
     "output_type": "execute_result"
    }
   ],
   "source": [
    "verbose = true\n",
    "X = bisection(df, 0.0, 1.0)"
   ]
  },
  {
   "cell_type": "code",
   "execution_count": 29,
   "metadata": {},
   "outputs": [
    {
     "name": "stdout",
     "output_type": "stream",
     "text": [
      "1. a = 0.0, b = 1.0, d = 1.0, c = 0.5, fc = 0.5857864376269051\n",
      "2. a = 0.0, b = 0.5, d = 0.5, c = 0.25, fc = -0.5\n",
      "3. a = 0.25, b = 0.5, d = 0.25, c = 0.375, fc = 0.11700683814454771\n",
      "4. a = 0.25, b = 0.375, d = 0.125, c = 0.3125, fc = -0.1638543819998317\n",
      "5. a = 0.3125, b = 0.375, d = 0.0625, c = 0.34375, fc = -0.018105730844883317\n",
      "6. a = 0.34375, b = 0.375, d = 0.03125, c = 0.359375, fc = 0.050634687543401835\n",
      "7. a = 0.34375, b = 0.359375, d = 0.015625, c = 0.3515625, fc = 0.016576914576864388\n",
      "8. a = 0.34375, b = 0.3515625, d = 0.0078125, c = 0.34765625, fc = -0.0006841080101760433\n",
      "9. a = 0.34765625, b = 0.3515625, d = 0.00390625, c = 0.349609375, fc = 0.007966197738592307\n",
      "10. a = 0.34765625, b = 0.349609375, d = 0.001953125, c = 0.3486328125, fc = 0.00364602812011805\n",
      "11. a = 0.34765625, b = 0.3486328125, d = 0.0009765625, c = 0.34814453125, fc = 0.0014822102363964973\n",
      "12. a = 0.34765625, b = 0.34814453125, d = 0.00048828125, c = 0.347900390625, fc = 0.0003993642067436909\n",
      "13. a = 0.34765625, b = 0.347900390625, d = 0.000244140625, c = 0.3477783203125, fc = -0.00014229355962558365\n",
      "14. a = 0.3477783203125, b = 0.347900390625, d = 0.0001220703125, c = 0.34783935546875, fc = 0.0001285549004899078\n",
      "15. a = 0.3477783203125, b = 0.34783935546875, d = 6.103515625e-5, c = 0.347808837890625, fc = -6.864434261677488e-6\n",
      "16. a = 0.347808837890625, b = 0.34783935546875, d = 3.0517578125e-5, c = 0.3478240966796875, fc = 6.084645680659584e-5\n",
      "17. a = 0.347808837890625, b = 0.3478240966796875, d = 1.52587890625e-5, c = 0.34781646728515625, fc = 2.699131721217718e-5\n",
      "18. a = 0.347808837890625, b = 0.34781646728515625, d = 7.62939453125e-6, c = 0.3478126525878906, fc = 1.0063517962510815e-5\n",
      "19. a = 0.347808837890625, b = 0.3478126525878906, d = 3.814697265625e-6, c = 0.3478107452392578, fc = 1.5995609723429283e-6\n",
      "20. a = 0.347808837890625, b = 0.3478107452392578, d = 1.9073486328125e-6, c = 0.3478097915649414, fc = -2.6324318642689803e-6\n",
      "21. a = 0.3478097915649414, b = 0.3478107452392578, d = 9.5367431640625e-7, c = 0.3478102684020996, fc = -5.164342509189623e-7\n",
      "22. a = 0.3478102684020996, b = 0.3478107452392578, d = 4.76837158203125e-7, c = 0.3478105068206787, fc = 5.415636596950435e-7\n",
      "23. a = 0.3478102684020996, b = 0.3478105068206787, d = 2.384185791015625e-7, c = 0.34781038761138916, fc = 1.2564779217072441e-8\n",
      "24. a = 0.3478102684020996, b = 0.34781038761138916, d = 1.1920928955078125e-7, c = 0.3478103280067444, fc = -2.519347168661312e-7\n",
      "25. a = 0.3478103280067444, b = 0.34781038761138916, d = 5.960464477539063e-8, c = 0.3478103578090668, fc = -1.196849643836373e-7\n",
      "26. a = 0.3478103578090668, b = 0.34781038761138916, d = 2.9802322387695312e-8, c = 0.34781037271022797, fc = -5.35600914730594e-8\n",
      "27. a = 0.34781037271022797, b = 0.34781038761138916, d = 1.4901161193847656e-8, c = 0.34781038016080856, fc = -2.0497655794926573e-8\n",
      "28. a = 0.34781038016080856, b = 0.34781038761138916, d = 7.450580596923828e-9, c = 0.34781038388609886, fc = -3.9664382889270655e-9\n",
      "29. a = 0.34781038388609886, b = 0.34781038761138916, d = 3.725290298461914e-9, c = 0.347810385748744, fc = 4.2991705750949905e-9\n",
      "30. a = 0.34781038388609886, b = 0.347810385748744, d = 1.862645149230957e-9, c = 0.34781038481742144, fc = 1.6636625410626493e-10\n",
      "31. a = 0.34781038388609886, b = 0.34781038481742144, d = 9.313225746154785e-10, c = 0.34781038435176015, fc = -1.9000361284327028e-9\n",
      "32. a = 0.34781038435176015, b = 0.34781038481742144, d = 4.656612873077393e-10, c = 0.3478103845845908, fc = -8.668348261409164e-10\n",
      "33. a = 0.3478103845845908, b = 0.34781038481742144, d = 2.3283064365386963e-10, c = 0.3478103847010061, fc = -3.502345080619307e-10\n",
      "34. a = 0.3478103847010061, b = 0.34781038481742144, d = 1.1641532182693481e-10, c = 0.3478103847592138, fc = -9.193423800013534e-11\n",
      "35. a = 0.3478103847592138, b = 0.34781038481742144, d = 5.820766091346741e-11, c = 0.3478103847883176, fc = 3.721578600845987e-11\n",
      "36. a = 0.3478103847592138, b = 0.3478103847883176, d = 2.9103830456733704e-11, c = 0.3478103847737657, fc = -2.7359225995837733e-11\n",
      "37. a = 0.3478103847737657, b = 0.3478103847883176, d = 1.4551915228366852e-11, c = 0.34781038478104165, fc = 4.92828000631107e-12\n"
     ]
    },
    {
     "data": {
      "text/plain": [
       "(37, 4.92828000631107e-12, 0.3478103847737657, 0.34781038478104165)"
      ]
     },
     "execution_count": 29,
     "metadata": {},
     "output_type": "execute_result"
    }
   ],
   "source": [
    "X = bisection(df, 0.0, 1.0, 1e-11)"
   ]
  },
  {
   "cell_type": "markdown",
   "metadata": {},
   "source": [
    "### Méthode de Newton"
   ]
  },
  {
   "cell_type": "markdown",
   "metadata": {},
   "source": [
    "La dérivée seconde de $f$ est\n",
    "$$\n",
    "f''(x) = 2+\\frac{1}{2}x^{-\\frac{3}{2}}.\n",
    "$$"
   ]
  },
  {
   "cell_type": "code",
   "execution_count": 31,
   "metadata": {},
   "outputs": [
    {
     "data": {
      "text/plain": [
       "d2f (generic function with 1 method)"
      ]
     },
     "execution_count": 31,
     "metadata": {},
     "output_type": "execute_result"
    }
   ],
   "source": [
    "function d2f(x::Float64)\n",
    "    return 2+x^(-3/2)/2\n",
    "end"
   ]
  },
  {
   "cell_type": "markdown",
   "metadata": {},
   "source": [
    "Une implémentation basique de la méthode de Newton suit."
   ]
  },
  {
   "cell_type": "code",
   "execution_count": 32,
   "metadata": {},
   "outputs": [
    {
     "data": {
      "text/plain": [
       "Newton (generic function with 3 methods)"
      ]
     },
     "execution_count": 32,
     "metadata": {},
     "output_type": "execute_result"
    }
   ],
   "source": [
    "function Newton(f::Function, df::Function, d2f:: Function, xstart::Float64, δ::Float64 = 1e-8, nmax::Int64 = 100)\n",
    "    k = 1\n",
    "    x = xstart\n",
    "    if (verbose)\n",
    "        fx = f(x)\n",
    "        println(\"$k. x = $x, f(x) = $fx\")\n",
    "    end\n",
    "    dfx = df(x)\n",
    "    while (abs(dfx) > δ && k <= nmax)\n",
    "        k += 1\n",
    "        dfx = df(x)\n",
    "        x -= dfx/d2f(x)\n",
    "        if (verbose)\n",
    "            fx = f(x)\n",
    "            println(\"$k. x = $x, f(x) = $fx\")\n",
    "        end\n",
    "    end\n",
    "end"
   ]
  },
  {
   "cell_type": "code",
   "execution_count": 33,
   "metadata": {},
   "outputs": [
    {
     "name": "stdout",
     "output_type": "stream",
     "text": [
      "1. x = 0.1, f(x) = -0.5224555320336759\n",
      "2. x = 0.2101698321896462, f(x) = -0.6625444777611704\n",
      "3. x = 0.31601466047275417, f(x) = -0.7084236992061186\n",
      "4. x = 0.3465158588881345, f(x) = -0.71072285402286\n",
      "5. x = 0.3478083935817193, f(x) = -0.7107265760534248\n",
      "6. x = 0.3478103847752347, f(x) = -0.7107265760622221\n",
      "7. x = 0.347810384779931, f(x) = -0.7107265760622221\n"
     ]
    }
   ],
   "source": [
    "verbose = true\n",
    "Newton(f, df, d2f, 0.1)"
   ]
  },
  {
   "cell_type": "code",
   "execution_count": 34,
   "metadata": {},
   "outputs": [
    {
     "name": "stdout",
     "output_type": "stream",
     "text": [
      "1. x = 0.1, f(x) = -0.5224555320336759\n",
      "2. x = 0.2101698321896462, f(x) = -0.6625444777611704\n",
      "3. x = 0.31601466047275417, f(x) = -0.7084236992061186\n",
      "4. x = 0.3465158588881345, f(x) = -0.71072285402286\n",
      "5. x = 0.3478083935817193, f(x) = -0.7107265760534248\n",
      "6. x = 0.3478103847752347, f(x) = -0.7107265760622221\n",
      "7. x = 0.347810384779931, f(x) = -0.7107265760622221\n",
      "8. x = 0.34781038477993104, f(x) = -0.710726576062222\n"
     ]
    }
   ],
   "source": [
    "Newton(f, df, d2f, 0.1, 1e-11)"
   ]
  },
  {
   "cell_type": "code",
   "execution_count": 37,
   "metadata": {},
   "outputs": [
    {
     "name": "stdout",
     "output_type": "stream",
     "text": [
      "1. x = 100.0, f(x) = 10080.0\n"
     ]
    },
    {
     "ename": "LoadError",
     "evalue": "DomainError with -0.42489377655586225:\nsqrt will only return a complex result if called with a complex argument. Try sqrt(Complex(x)).",
     "output_type": "error",
     "traceback": [
      "DomainError with -0.42489377655586225:\nsqrt will only return a complex result if called with a complex argument. Try sqrt(Complex(x)).",
      "",
      "Stacktrace:",
      " [1] throw_complex_domainerror(::Symbol, ::Float64) at .\\math.jl:33",
      " [2] sqrt at .\\math.jl:573 [inlined]",
      " [3] f at .\\In[1]:1 [inlined]",
      " [4] Newton(::typeof(f), ::typeof(df), ::typeof(d2f), ::Float64, ::Float64, ::Int64) at .\\In[32]:14",
      " [5] Newton(::Function, ::Function, ::Function, ::Float64) at .\\In[32]:2",
      " [6] top-level scope at In[37]:2",
      " [7] include_string(::Function, ::Module, ::String, ::String) at .\\loading.jl:1091"
     ]
    }
   ],
   "source": [
    "verbose = true\n",
    "Newton(f, df, d2f, 100.0)"
   ]
  },
  {
   "cell_type": "code",
   "execution_count": 38,
   "metadata": {},
   "outputs": [
    {
     "data": {
      "text/plain": [
       "-0.06391231539941522"
      ]
     },
     "execution_count": 38,
     "metadata": {},
     "output_type": "execute_result"
    }
   ],
   "source": [
    "x0 = 3.0\n",
    "x1 = x0-df(x0)/d2f(x0)"
   ]
  },
  {
   "cell_type": "markdown",
   "metadata": {},
   "source": [
    "Nous voyons que nous convergeons plus rapidement vers la solution optimale quand la méthode fonctionne, mais selon le point de départ, elle peut échouer lamentablement."
   ]
  },
  {
   "cell_type": "code",
   "execution_count": 39,
   "metadata": {},
   "outputs": [
    {
     "data": {
      "text/plain": [
       "Newton (generic function with 6 methods)"
      ]
     },
     "execution_count": 39,
     "metadata": {},
     "output_type": "execute_result"
    }
   ],
   "source": [
    "function Newton(df::Function, d2f:: Function, xstart::Float64, δ::Float64 = 1e-8, nmax::Int64 = 100)\n",
    "    k = 1\n",
    "    x = xstart\n",
    "    dfx = df(x)\n",
    "    while (abs(dfx) > δ && k <= nmax)\n",
    "        k += 1\n",
    "        dfx = df(x)\n",
    "        x -= dfx/d2f(x)\n",
    "    end\n",
    "end"
   ]
  },
  {
   "cell_type": "markdown",
   "metadata": {},
   "source": [
    "## Différentiation numérique"
   ]
  },
  {
   "cell_type": "markdown",
   "metadata": {
    "collapsed": true
   },
   "source": [
    "Il n'est pas toujours facile de calculer explicitement la dérivée d'une fonction. Il est cependant possible d'exploiter la définition de dérivée afin de l'approximer numériquement. Soit $f$, dérivable en $x$. La dérivée est définie comme\n",
    "$$\n",
    "    f'(x) = \\lim_{\\epsilon \\rightarrow 0} \\frac{f(x+\\epsilon)-f(x)}{\\epsilon}\n",
    "$$\n",
    "Nous pouvons dès lors approximer la dérivée en choisissant $\\epsilon$ assez petit et en calculant par exemple\n",
    "$$\n",
    "f'(x) \\approx \\frac{f(x+\\epsilon)-f(x)}{\\epsilon}.\n",
    "$$"
   ]
  },
  {
   "cell_type": "code",
   "execution_count": 40,
   "metadata": {},
   "outputs": [
    {
     "data": {
      "text/plain": [
       "dffd (generic function with 1 method)"
      ]
     },
     "execution_count": 40,
     "metadata": {},
     "output_type": "execute_result"
    }
   ],
   "source": [
    "ϵ = 1e-4\n",
    "dffd(x) = (f(x+ϵ)-f(x))/ϵ"
   ]
  },
  {
   "cell_type": "markdown",
   "metadata": {},
   "source": [
    "L'application de la méthode de la bisection à cette approximation permet d'obtenir"
   ]
  },
  {
   "cell_type": "code",
   "execution_count": 41,
   "metadata": {},
   "outputs": [
    {
     "data": {
      "text/plain": [
       "0.3477603857669904"
      ]
     },
     "execution_count": 41,
     "metadata": {},
     "output_type": "execute_result"
    }
   ],
   "source": [
    "fzero(dffd, 0, 1)"
   ]
  },
  {
   "cell_type": "code",
   "execution_count": 42,
   "metadata": {},
   "outputs": [
    {
     "data": {
      "text/plain": [
       "0.3478052616119385"
      ]
     },
     "execution_count": 42,
     "metadata": {},
     "output_type": "execute_result"
    }
   ],
   "source": [
    "ϵ = 1e-12\n",
    "fzero(dffd, 0, 1)"
   ]
  },
  {
   "cell_type": "markdown",
   "metadata": {},
   "source": [
    "Nous ne pouvons choisir $\\epsilon$ arbitrairement petit, comme illustré ci-dessous."
   ]
  },
  {
   "cell_type": "code",
   "execution_count": 43,
   "metadata": {},
   "outputs": [
    {
     "data": {
      "image/svg+xml": [
       "<?xml version=\"1.0\" encoding=\"utf-8\"?>\n",
       "<svg xmlns=\"http://www.w3.org/2000/svg\" xmlns:xlink=\"http://www.w3.org/1999/xlink\" width=\"600\" height=\"400\" viewBox=\"0 0 2400 1600\">\n",
       "<defs>\n",
       "  <clipPath id=\"clip200\">\n",
       "    <rect x=\"0\" y=\"0\" width=\"2400\" height=\"1600\"/>\n",
       "  </clipPath>\n",
       "</defs>\n",
       "<path clip-path=\"url(#clip200)\" d=\"\n",
       "M0 1600 L2400 1600 L2400 0 L0 0  Z\n",
       "  \" fill=\"#ffffff\" fill-rule=\"evenodd\" fill-opacity=\"1\"/>\n",
       "<defs>\n",
       "  <clipPath id=\"clip201\">\n",
       "    <rect x=\"480\" y=\"0\" width=\"1681\" height=\"1600\"/>\n",
       "  </clipPath>\n",
       "</defs>\n",
       "<path clip-path=\"url(#clip200)\" d=\"\n",
       "M175.348 1486.45 L2352.76 1486.45 L2352.76 47.2441 L175.348 47.2441  Z\n",
       "  \" fill=\"#ffffff\" fill-rule=\"evenodd\" fill-opacity=\"1\"/>\n",
       "<defs>\n",
       "  <clipPath id=\"clip202\">\n",
       "    <rect x=\"175\" y=\"47\" width=\"2178\" height=\"1440\"/>\n",
       "  </clipPath>\n",
       "</defs>\n",
       "<polyline clip-path=\"url(#clip202)\" style=\"stroke:#000000; stroke-width:2; stroke-opacity:0.1; fill:none\" points=\"\n",
       "  216.224,1486.45 216.224,47.2441 \n",
       "  \"/>\n",
       "<polyline clip-path=\"url(#clip202)\" style=\"stroke:#000000; stroke-width:2; stroke-opacity:0.1; fill:none\" points=\"\n",
       "  734.951,1486.45 734.951,47.2441 \n",
       "  \"/>\n",
       "<polyline clip-path=\"url(#clip202)\" style=\"stroke:#000000; stroke-width:2; stroke-opacity:0.1; fill:none\" points=\"\n",
       "  1253.68,1486.45 1253.68,47.2441 \n",
       "  \"/>\n",
       "<polyline clip-path=\"url(#clip202)\" style=\"stroke:#000000; stroke-width:2; stroke-opacity:0.1; fill:none\" points=\"\n",
       "  1772.4,1486.45 1772.4,47.2441 \n",
       "  \"/>\n",
       "<polyline clip-path=\"url(#clip202)\" style=\"stroke:#000000; stroke-width:2; stroke-opacity:0.1; fill:none\" points=\"\n",
       "  2291.13,1486.45 2291.13,47.2441 \n",
       "  \"/>\n",
       "<polyline clip-path=\"url(#clip202)\" style=\"stroke:#000000; stroke-width:2; stroke-opacity:0.1; fill:none\" points=\"\n",
       "  175.348,1445.76 2352.76,1445.76 \n",
       "  \"/>\n",
       "<polyline clip-path=\"url(#clip202)\" style=\"stroke:#000000; stroke-width:2; stroke-opacity:0.1; fill:none\" points=\"\n",
       "  175.348,1204.89 2352.76,1204.89 \n",
       "  \"/>\n",
       "<polyline clip-path=\"url(#clip202)\" style=\"stroke:#000000; stroke-width:2; stroke-opacity:0.1; fill:none\" points=\"\n",
       "  175.348,964.031 2352.76,964.031 \n",
       "  \"/>\n",
       "<polyline clip-path=\"url(#clip202)\" style=\"stroke:#000000; stroke-width:2; stroke-opacity:0.1; fill:none\" points=\"\n",
       "  175.348,723.167 2352.76,723.167 \n",
       "  \"/>\n",
       "<polyline clip-path=\"url(#clip202)\" style=\"stroke:#000000; stroke-width:2; stroke-opacity:0.1; fill:none\" points=\"\n",
       "  175.348,482.304 2352.76,482.304 \n",
       "  \"/>\n",
       "<polyline clip-path=\"url(#clip202)\" style=\"stroke:#000000; stroke-width:2; stroke-opacity:0.1; fill:none\" points=\"\n",
       "  175.348,241.44 2352.76,241.44 \n",
       "  \"/>\n",
       "<polyline clip-path=\"url(#clip200)\" style=\"stroke:#000000; stroke-width:4; stroke-opacity:1; fill:none\" points=\"\n",
       "  175.348,1486.45 2352.76,1486.45 \n",
       "  \"/>\n",
       "<polyline clip-path=\"url(#clip200)\" style=\"stroke:#000000; stroke-width:4; stroke-opacity:1; fill:none\" points=\"\n",
       "  175.348,1486.45 175.348,47.2441 \n",
       "  \"/>\n",
       "<polyline clip-path=\"url(#clip200)\" style=\"stroke:#000000; stroke-width:4; stroke-opacity:1; fill:none\" points=\"\n",
       "  216.224,1486.45 216.224,1469.18 \n",
       "  \"/>\n",
       "<polyline clip-path=\"url(#clip200)\" style=\"stroke:#000000; stroke-width:4; stroke-opacity:1; fill:none\" points=\"\n",
       "  734.951,1486.45 734.951,1469.18 \n",
       "  \"/>\n",
       "<polyline clip-path=\"url(#clip200)\" style=\"stroke:#000000; stroke-width:4; stroke-opacity:1; fill:none\" points=\"\n",
       "  1253.68,1486.45 1253.68,1469.18 \n",
       "  \"/>\n",
       "<polyline clip-path=\"url(#clip200)\" style=\"stroke:#000000; stroke-width:4; stroke-opacity:1; fill:none\" points=\"\n",
       "  1772.4,1486.45 1772.4,1469.18 \n",
       "  \"/>\n",
       "<polyline clip-path=\"url(#clip200)\" style=\"stroke:#000000; stroke-width:4; stroke-opacity:1; fill:none\" points=\"\n",
       "  2291.13,1486.45 2291.13,1469.18 \n",
       "  \"/>\n",
       "<polyline clip-path=\"url(#clip200)\" style=\"stroke:#000000; stroke-width:4; stroke-opacity:1; fill:none\" points=\"\n",
       "  175.348,1445.76 201.477,1445.76 \n",
       "  \"/>\n",
       "<polyline clip-path=\"url(#clip200)\" style=\"stroke:#000000; stroke-width:4; stroke-opacity:1; fill:none\" points=\"\n",
       "  175.348,1204.89 201.477,1204.89 \n",
       "  \"/>\n",
       "<polyline clip-path=\"url(#clip200)\" style=\"stroke:#000000; stroke-width:4; stroke-opacity:1; fill:none\" points=\"\n",
       "  175.348,964.031 201.477,964.031 \n",
       "  \"/>\n",
       "<polyline clip-path=\"url(#clip200)\" style=\"stroke:#000000; stroke-width:4; stroke-opacity:1; fill:none\" points=\"\n",
       "  175.348,723.167 201.477,723.167 \n",
       "  \"/>\n",
       "<polyline clip-path=\"url(#clip200)\" style=\"stroke:#000000; stroke-width:4; stroke-opacity:1; fill:none\" points=\"\n",
       "  175.348,482.304 201.477,482.304 \n",
       "  \"/>\n",
       "<polyline clip-path=\"url(#clip200)\" style=\"stroke:#000000; stroke-width:4; stroke-opacity:1; fill:none\" points=\"\n",
       "  175.348,241.44 201.477,241.44 \n",
       "  \"/>\n",
       "<path clip-path=\"url(#clip200)\" d=\"M 0 0 M216.224 1508.44 Q212.613 1508.44 210.784 1512 Q208.978 1515.55 208.978 1522.67 Q208.978 1529.78 210.784 1533.35 Q212.613 1536.89 216.224 1536.89 Q219.858 1536.89 221.664 1533.35 Q223.492 1529.78 223.492 1522.67 Q223.492 1515.55 221.664 1512 Q219.858 1508.44 216.224 1508.44 M216.224 1504.73 Q222.034 1504.73 225.09 1509.34 Q228.168 1513.92 228.168 1522.67 Q228.168 1531.4 225.09 1536.01 Q222.034 1540.59 216.224 1540.59 Q210.414 1540.59 207.335 1536.01 Q204.279 1531.4 204.279 1522.67 Q204.279 1513.92 207.335 1509.34 Q210.414 1504.73 216.224 1504.73 Z\" fill=\"#000000\" fill-rule=\"evenodd\" fill-opacity=\"1\" /><path clip-path=\"url(#clip200)\" d=\"M 0 0 M647.598 1557.52 L663.917 1557.52 L663.917 1561.46 L641.973 1561.46 L641.973 1557.52 Q644.635 1554.77 649.218 1550.14 Q653.825 1545.48 655.005 1544.14 Q657.251 1541.62 658.13 1539.88 Q659.033 1538.12 659.033 1536.43 Q659.033 1533.68 657.089 1531.94 Q655.167 1530.21 652.066 1530.21 Q649.866 1530.21 647.413 1530.97 Q644.982 1531.73 642.204 1533.28 L642.204 1528.56 Q645.029 1527.43 647.482 1526.85 Q649.936 1526.27 651.973 1526.27 Q657.343 1526.27 660.538 1528.96 Q663.732 1531.64 663.732 1536.13 Q663.732 1538.26 662.922 1540.18 Q662.135 1542.08 660.028 1544.67 Q659.45 1545.34 656.348 1548.56 Q653.246 1551.76 647.598 1557.52 Z\" fill=\"#000000\" fill-rule=\"evenodd\" fill-opacity=\"1\" /><path clip-path=\"url(#clip200)\" d=\"M 0 0 M668.987 1555.58 L673.871 1555.58 L673.871 1561.46 L668.987 1561.46 L668.987 1555.58 Z\" fill=\"#000000\" fill-rule=\"evenodd\" fill-opacity=\"1\" /><path clip-path=\"url(#clip200)\" d=\"M 0 0 M678.987 1526.9 L697.343 1526.9 L697.343 1530.83 L683.269 1530.83 L683.269 1539.3 Q684.288 1538.96 685.306 1538.79 Q686.325 1538.61 687.343 1538.61 Q693.13 1538.61 696.51 1541.78 Q699.889 1544.95 699.889 1550.37 Q699.889 1555.95 696.417 1559.05 Q692.945 1562.13 686.626 1562.13 Q684.45 1562.13 682.181 1561.76 Q679.936 1561.39 677.528 1560.64 L677.528 1555.95 Q679.612 1557.08 681.834 1557.64 Q684.056 1558.19 686.533 1558.19 Q690.538 1558.19 692.875 1556.08 Q695.213 1553.98 695.213 1550.37 Q695.213 1546.76 692.875 1544.65 Q690.538 1542.54 686.533 1542.54 Q684.658 1542.54 682.783 1542.96 Q680.931 1543.38 678.987 1544.26 L678.987 1526.9 Z\" fill=\"#000000\" fill-rule=\"evenodd\" fill-opacity=\"1\" /><path clip-path=\"url(#clip200)\" d=\"M 0 0 M733.13 1535.99 L722.551 1546.62 L733.13 1557.2 L730.375 1560 L719.75 1549.37 L709.125 1560 L706.394 1557.2 L716.949 1546.62 L706.394 1535.99 L709.125 1533.19 L719.75 1543.82 L730.375 1533.19 L733.13 1535.99 Z\" fill=\"#000000\" fill-rule=\"evenodd\" fill-opacity=\"1\" /><path clip-path=\"url(#clip200)\" d=\"M 0 0 M739.01 1557.52 L746.648 1557.52 L746.648 1531.15 L738.338 1532.82 L738.338 1528.56 L746.602 1526.9 L751.278 1526.9 L751.278 1557.52 L758.917 1557.52 L758.917 1561.46 L739.01 1561.46 L739.01 1557.52 Z\" fill=\"#000000\" fill-rule=\"evenodd\" fill-opacity=\"1\" /><path clip-path=\"url(#clip200)\" d=\"M 0 0 M773.986 1529.97 Q770.375 1529.97 768.546 1533.54 Q766.741 1537.08 766.741 1544.21 Q766.741 1551.32 768.546 1554.88 Q770.375 1558.42 773.986 1558.42 Q777.62 1558.42 779.426 1554.88 Q781.255 1551.32 781.255 1544.21 Q781.255 1537.08 779.426 1533.54 Q777.62 1529.97 773.986 1529.97 M773.986 1526.27 Q779.796 1526.27 782.852 1530.88 Q785.931 1535.46 785.931 1544.21 Q785.931 1552.94 782.852 1557.54 Q779.796 1562.13 773.986 1562.13 Q768.176 1562.13 765.097 1557.54 Q762.042 1552.94 762.042 1544.21 Q762.042 1535.46 765.097 1530.88 Q768.176 1526.27 773.986 1526.27 Z\" fill=\"#000000\" fill-rule=\"evenodd\" fill-opacity=\"1\" /><path clip-path=\"url(#clip200)\" d=\"M 0 0 M785.931 1513.83 L801.108 1513.83 L801.108 1515.61 L785.931 1515.61 L785.931 1513.83 Z\" fill=\"#000000\" fill-rule=\"evenodd\" fill-opacity=\"1\" /><path clip-path=\"url(#clip200)\" d=\"M 0 0 M804.042 1519.41 L807.879 1519.41 L807.879 1507.92 L803.685 1508.69 L803.685 1506.51 L808.011 1505.78 L810.588 1505.78 L810.588 1519.41 L814.443 1519.41 L814.443 1521.48 L804.042 1521.48 L804.042 1519.41 Z\" fill=\"#000000\" fill-rule=\"evenodd\" fill-opacity=\"1\" /><path clip-path=\"url(#clip200)\" d=\"M 0 0 M824.298 1512.98 Q826.029 1513.32 826.969 1514.35 Q827.928 1515.37 827.928 1516.91 Q827.928 1519.24 826.142 1520.5 Q824.355 1521.76 821.026 1521.76 Q819.954 1521.76 818.769 1521.58 Q817.603 1521.37 816.286 1520.99 L816.286 1518.72 Q817.264 1519.22 818.374 1519.47 Q819.502 1519.71 820.763 1519.71 Q822.813 1519.71 823.941 1518.98 Q825.07 1518.23 825.07 1516.91 Q825.07 1515.52 824.016 1514.8 Q822.982 1514.09 820.951 1514.09 L819.333 1514.09 L819.333 1512.06 L821.101 1512.06 Q822.869 1512.06 823.772 1511.48 Q824.693 1510.87 824.693 1509.75 Q824.693 1508.65 823.753 1508.09 Q822.813 1507.51 821.026 1507.51 Q820.274 1507.51 819.314 1507.68 Q818.355 1507.85 816.832 1508.28 L816.832 1506.12 Q818.205 1505.8 819.408 1505.63 Q820.612 1505.46 821.647 1505.46 Q824.355 1505.46 825.935 1506.57 Q827.533 1507.68 827.533 1509.54 Q827.533 1510.84 826.687 1511.74 Q825.841 1512.64 824.298 1512.98 Z\" fill=\"#000000\" fill-rule=\"evenodd\" fill-opacity=\"1\" /><path clip-path=\"url(#clip200)\" d=\"M 0 0 M1161.45 1526.9 L1179.81 1526.9 L1179.81 1530.83 L1165.73 1530.83 L1165.73 1539.3 Q1166.75 1538.96 1167.77 1538.79 Q1168.79 1538.61 1169.81 1538.61 Q1175.6 1538.61 1178.98 1541.78 Q1182.35 1544.95 1182.35 1550.37 Q1182.35 1555.95 1178.88 1559.05 Q1175.41 1562.13 1169.09 1562.13 Q1166.92 1562.13 1164.65 1561.76 Q1162.4 1561.39 1159.99 1560.64 L1159.99 1555.95 Q1162.08 1557.08 1164.3 1557.64 Q1166.52 1558.19 1169 1558.19 Q1173 1558.19 1175.34 1556.08 Q1177.68 1553.98 1177.68 1550.37 Q1177.68 1546.76 1175.34 1544.65 Q1173 1542.54 1169 1542.54 Q1167.12 1542.54 1165.25 1542.96 Q1163.4 1543.38 1161.45 1544.26 L1161.45 1526.9 Z\" fill=\"#000000\" fill-rule=\"evenodd\" fill-opacity=\"1\" /><path clip-path=\"url(#clip200)\" d=\"M 0 0 M1187.42 1555.58 L1192.31 1555.58 L1192.31 1561.46 L1187.42 1561.46 L1187.42 1555.58 Z\" fill=\"#000000\" fill-rule=\"evenodd\" fill-opacity=\"1\" /><path clip-path=\"url(#clip200)\" d=\"M 0 0 M1207.38 1529.97 Q1203.77 1529.97 1201.94 1533.54 Q1200.13 1537.08 1200.13 1544.21 Q1200.13 1551.32 1201.94 1554.88 Q1203.77 1558.42 1207.38 1558.42 Q1211.01 1558.42 1212.82 1554.88 Q1214.65 1551.32 1214.65 1544.21 Q1214.65 1537.08 1212.82 1533.54 Q1211.01 1529.97 1207.38 1529.97 M1207.38 1526.27 Q1213.19 1526.27 1216.24 1530.88 Q1219.32 1535.46 1219.32 1544.21 Q1219.32 1552.94 1216.24 1557.54 Q1213.19 1562.13 1207.38 1562.13 Q1201.57 1562.13 1198.49 1557.54 Q1195.43 1552.94 1195.43 1544.21 Q1195.43 1535.46 1198.49 1530.88 Q1201.57 1526.27 1207.38 1526.27 Z\" fill=\"#000000\" fill-rule=\"evenodd\" fill-opacity=\"1\" /><path clip-path=\"url(#clip200)\" d=\"M 0 0 M1252.56 1535.99 L1241.98 1546.62 L1252.56 1557.2 L1249.81 1560 L1239.18 1549.37 L1228.56 1560 L1225.83 1557.2 L1236.38 1546.62 L1225.83 1535.99 L1228.56 1533.19 L1239.18 1543.82 L1249.81 1533.19 L1252.56 1535.99 Z\" fill=\"#000000\" fill-rule=\"evenodd\" fill-opacity=\"1\" /><path clip-path=\"url(#clip200)\" d=\"M 0 0 M1258.44 1557.52 L1266.08 1557.52 L1266.08 1531.15 L1257.77 1532.82 L1257.77 1528.56 L1266.03 1526.9 L1270.71 1526.9 L1270.71 1557.52 L1278.35 1557.52 L1278.35 1561.46 L1258.44 1561.46 L1258.44 1557.52 Z\" fill=\"#000000\" fill-rule=\"evenodd\" fill-opacity=\"1\" /><path clip-path=\"url(#clip200)\" d=\"M 0 0 M1293.42 1529.97 Q1289.81 1529.97 1287.98 1533.54 Q1286.17 1537.08 1286.17 1544.21 Q1286.17 1551.32 1287.98 1554.88 Q1289.81 1558.42 1293.42 1558.42 Q1297.05 1558.42 1298.86 1554.88 Q1300.69 1551.32 1300.69 1544.21 Q1300.69 1537.08 1298.86 1533.54 Q1297.05 1529.97 1293.42 1529.97 M1293.42 1526.27 Q1299.23 1526.27 1302.28 1530.88 Q1305.36 1535.46 1305.36 1544.21 Q1305.36 1552.94 1302.28 1557.54 Q1299.23 1562.13 1293.42 1562.13 Q1287.61 1562.13 1284.53 1557.54 Q1281.47 1552.94 1281.47 1544.21 Q1281.47 1535.46 1284.53 1530.88 Q1287.61 1526.27 1293.42 1526.27 Z\" fill=\"#000000\" fill-rule=\"evenodd\" fill-opacity=\"1\" /><path clip-path=\"url(#clip200)\" d=\"M 0 0 M1305.36 1513.83 L1320.54 1513.83 L1320.54 1515.61 L1305.36 1515.61 L1305.36 1513.83 Z\" fill=\"#000000\" fill-rule=\"evenodd\" fill-opacity=\"1\" /><path clip-path=\"url(#clip200)\" d=\"M 0 0 M1323.48 1519.41 L1327.31 1519.41 L1327.31 1507.92 L1323.12 1508.69 L1323.12 1506.51 L1327.44 1505.78 L1330.02 1505.78 L1330.02 1519.41 L1333.88 1519.41 L1333.88 1521.48 L1323.48 1521.48 L1323.48 1519.41 Z\" fill=\"#000000\" fill-rule=\"evenodd\" fill-opacity=\"1\" /><path clip-path=\"url(#clip200)\" d=\"M 0 0 M1343.73 1512.98 Q1345.46 1513.32 1346.4 1514.35 Q1347.36 1515.37 1347.36 1516.91 Q1347.36 1519.24 1345.57 1520.5 Q1343.79 1521.76 1340.46 1521.76 Q1339.39 1521.76 1338.2 1521.58 Q1337.04 1521.37 1335.72 1520.99 L1335.72 1518.72 Q1336.7 1519.22 1337.81 1519.47 Q1338.94 1519.71 1340.2 1519.71 Q1342.25 1519.71 1343.37 1518.98 Q1344.5 1518.23 1344.5 1516.91 Q1344.5 1515.52 1343.45 1514.8 Q1342.41 1514.09 1340.38 1514.09 L1338.77 1514.09 L1338.77 1512.06 L1340.53 1512.06 Q1342.3 1512.06 1343.2 1511.48 Q1344.13 1510.87 1344.13 1509.75 Q1344.13 1508.65 1343.19 1508.09 Q1342.25 1507.51 1340.46 1507.51 Q1339.71 1507.51 1338.75 1507.68 Q1337.79 1507.85 1336.26 1508.28 L1336.26 1506.12 Q1337.64 1505.8 1338.84 1505.63 Q1340.04 1505.46 1341.08 1505.46 Q1343.79 1505.46 1345.37 1506.57 Q1346.97 1507.68 1346.97 1509.54 Q1346.97 1510.84 1346.12 1511.74 Q1345.27 1512.64 1343.73 1512.98 Z\" fill=\"#000000\" fill-rule=\"evenodd\" fill-opacity=\"1\" /><path clip-path=\"url(#clip200)\" d=\"M 0 0 M1679.29 1526.9 L1701.51 1526.9 L1701.51 1528.89 L1688.96 1561.46 L1684.08 1561.46 L1695.88 1530.83 L1679.29 1530.83 L1679.29 1526.9 Z\" fill=\"#000000\" fill-rule=\"evenodd\" fill-opacity=\"1\" /><path clip-path=\"url(#clip200)\" d=\"M 0 0 M1706.58 1555.58 L1711.46 1555.58 L1711.46 1561.46 L1706.58 1561.46 L1706.58 1555.58 Z\" fill=\"#000000\" fill-rule=\"evenodd\" fill-opacity=\"1\" /><path clip-path=\"url(#clip200)\" d=\"M 0 0 M1716.58 1526.9 L1734.94 1526.9 L1734.94 1530.83 L1720.86 1530.83 L1720.86 1539.3 Q1721.88 1538.96 1722.9 1538.79 Q1723.92 1538.61 1724.94 1538.61 Q1730.72 1538.61 1734.1 1541.78 Q1737.48 1544.95 1737.48 1550.37 Q1737.48 1555.95 1734.01 1559.05 Q1730.54 1562.13 1724.22 1562.13 Q1722.04 1562.13 1719.77 1561.76 Q1717.53 1561.39 1715.12 1560.64 L1715.12 1555.95 Q1717.2 1557.08 1719.43 1557.64 Q1721.65 1558.19 1724.13 1558.19 Q1728.13 1558.19 1730.47 1556.08 Q1732.81 1553.98 1732.81 1550.37 Q1732.81 1546.76 1730.47 1544.65 Q1728.13 1542.54 1724.13 1542.54 Q1722.25 1542.54 1720.38 1542.96 Q1718.52 1543.38 1716.58 1544.26 L1716.58 1526.9 Z\" fill=\"#000000\" fill-rule=\"evenodd\" fill-opacity=\"1\" /><path clip-path=\"url(#clip200)\" d=\"M 0 0 M1770.72 1535.99 L1760.14 1546.62 L1770.72 1557.2 L1767.97 1560 L1757.34 1549.37 L1746.72 1560 L1743.99 1557.2 L1754.54 1546.62 L1743.99 1535.99 L1746.72 1533.19 L1757.34 1543.82 L1767.97 1533.19 L1770.72 1535.99 Z\" fill=\"#000000\" fill-rule=\"evenodd\" fill-opacity=\"1\" /><path clip-path=\"url(#clip200)\" d=\"M 0 0 M1776.6 1557.52 L1784.24 1557.52 L1784.24 1531.15 L1775.93 1532.82 L1775.93 1528.56 L1784.19 1526.9 L1788.87 1526.9 L1788.87 1557.52 L1796.51 1557.52 L1796.51 1561.46 L1776.6 1561.46 L1776.6 1557.52 Z\" fill=\"#000000\" fill-rule=\"evenodd\" fill-opacity=\"1\" /><path clip-path=\"url(#clip200)\" d=\"M 0 0 M1811.58 1529.97 Q1807.97 1529.97 1806.14 1533.54 Q1804.33 1537.08 1804.33 1544.21 Q1804.33 1551.32 1806.14 1554.88 Q1807.97 1558.42 1811.58 1558.42 Q1815.21 1558.42 1817.02 1554.88 Q1818.85 1551.32 1818.85 1544.21 Q1818.85 1537.08 1817.02 1533.54 Q1815.21 1529.97 1811.58 1529.97 M1811.58 1526.27 Q1817.39 1526.27 1820.44 1530.88 Q1823.52 1535.46 1823.52 1544.21 Q1823.52 1552.94 1820.44 1557.54 Q1817.39 1562.13 1811.58 1562.13 Q1805.77 1562.13 1802.69 1557.54 Q1799.63 1552.94 1799.63 1544.21 Q1799.63 1535.46 1802.69 1530.88 Q1805.77 1526.27 1811.58 1526.27 Z\" fill=\"#000000\" fill-rule=\"evenodd\" fill-opacity=\"1\" /><path clip-path=\"url(#clip200)\" d=\"M 0 0 M1823.52 1513.83 L1838.7 1513.83 L1838.7 1515.61 L1823.52 1515.61 L1823.52 1513.83 Z\" fill=\"#000000\" fill-rule=\"evenodd\" fill-opacity=\"1\" /><path clip-path=\"url(#clip200)\" d=\"M 0 0 M1841.63 1519.41 L1845.47 1519.41 L1845.47 1507.92 L1841.28 1508.69 L1841.28 1506.51 L1845.6 1505.78 L1848.18 1505.78 L1848.18 1519.41 L1852.04 1519.41 L1852.04 1521.48 L1841.63 1521.48 L1841.63 1519.41 Z\" fill=\"#000000\" fill-rule=\"evenodd\" fill-opacity=\"1\" /><path clip-path=\"url(#clip200)\" d=\"M 0 0 M1861.89 1512.98 Q1863.62 1513.32 1864.56 1514.35 Q1865.52 1515.37 1865.52 1516.91 Q1865.52 1519.24 1863.73 1520.5 Q1861.95 1521.76 1858.62 1521.76 Q1857.55 1521.76 1856.36 1521.58 Q1855.2 1521.37 1853.88 1520.99 L1853.88 1518.72 Q1854.86 1519.22 1855.97 1519.47 Q1857.09 1519.71 1858.36 1519.71 Q1860.41 1519.71 1861.53 1518.98 Q1862.66 1518.23 1862.66 1516.91 Q1862.66 1515.52 1861.61 1514.8 Q1860.57 1514.09 1858.54 1514.09 L1856.93 1514.09 L1856.93 1512.06 L1858.69 1512.06 Q1860.46 1512.06 1861.36 1511.48 Q1862.29 1510.87 1862.29 1509.75 Q1862.29 1508.65 1861.35 1508.09 Q1860.41 1507.51 1858.62 1507.51 Q1857.87 1507.51 1856.91 1507.68 Q1855.95 1507.85 1854.42 1508.28 L1854.42 1506.12 Q1855.8 1505.8 1857 1505.63 Q1858.2 1505.46 1859.24 1505.46 Q1861.95 1505.46 1863.53 1506.57 Q1865.13 1507.68 1865.13 1509.54 Q1865.13 1510.84 1864.28 1511.74 Q1863.43 1512.64 1861.89 1512.98 Z\" fill=\"#000000\" fill-rule=\"evenodd\" fill-opacity=\"1\" /><path clip-path=\"url(#clip200)\" d=\"M 0 0 M2199.25 1557.52 L2206.88 1557.52 L2206.88 1531.15 L2198.57 1532.82 L2198.57 1528.56 L2206.84 1526.9 L2211.51 1526.9 L2211.51 1557.52 L2219.15 1557.52 L2219.15 1561.46 L2199.25 1561.46 L2199.25 1557.52 Z\" fill=\"#000000\" fill-rule=\"evenodd\" fill-opacity=\"1\" /><path clip-path=\"url(#clip200)\" d=\"M 0 0 M2224.22 1555.58 L2229.11 1555.58 L2229.11 1561.46 L2224.22 1561.46 L2224.22 1555.58 Z\" fill=\"#000000\" fill-rule=\"evenodd\" fill-opacity=\"1\" /><path clip-path=\"url(#clip200)\" d=\"M 0 0 M2244.18 1529.97 Q2240.56 1529.97 2238.74 1533.54 Q2236.93 1537.08 2236.93 1544.21 Q2236.93 1551.32 2238.74 1554.88 Q2240.56 1558.42 2244.18 1558.42 Q2247.81 1558.42 2249.62 1554.88 Q2251.44 1551.32 2251.44 1544.21 Q2251.44 1537.08 2249.62 1533.54 Q2247.81 1529.97 2244.18 1529.97 M2244.18 1526.27 Q2249.99 1526.27 2253.04 1530.88 Q2256.12 1535.46 2256.12 1544.21 Q2256.12 1552.94 2253.04 1557.54 Q2249.99 1562.13 2244.18 1562.13 Q2238.37 1562.13 2235.29 1557.54 Q2232.23 1552.94 2232.23 1544.21 Q2232.23 1535.46 2235.29 1530.88 Q2238.37 1526.27 2244.18 1526.27 Z\" fill=\"#000000\" fill-rule=\"evenodd\" fill-opacity=\"1\" /><path clip-path=\"url(#clip200)\" d=\"M 0 0 M2289.36 1535.99 L2278.78 1546.62 L2289.36 1557.2 L2286.61 1560 L2275.98 1549.37 L2265.36 1560 L2262.62 1557.2 L2273.18 1546.62 L2262.62 1535.99 L2265.36 1533.19 L2275.98 1543.82 L2286.61 1533.19 L2289.36 1535.99 Z\" fill=\"#000000\" fill-rule=\"evenodd\" fill-opacity=\"1\" /><path clip-path=\"url(#clip200)\" d=\"M 0 0 M2295.24 1557.52 L2302.88 1557.52 L2302.88 1531.15 L2294.57 1532.82 L2294.57 1528.56 L2302.83 1526.9 L2307.51 1526.9 L2307.51 1557.52 L2315.15 1557.52 L2315.15 1561.46 L2295.24 1561.46 L2295.24 1557.52 Z\" fill=\"#000000\" fill-rule=\"evenodd\" fill-opacity=\"1\" /><path clip-path=\"url(#clip200)\" d=\"M 0 0 M2330.22 1529.97 Q2326.61 1529.97 2324.78 1533.54 Q2322.97 1537.08 2322.97 1544.21 Q2322.97 1551.32 2324.78 1554.88 Q2326.61 1558.42 2330.22 1558.42 Q2333.85 1558.42 2335.66 1554.88 Q2337.49 1551.32 2337.49 1544.21 Q2337.49 1537.08 2335.66 1533.54 Q2333.85 1529.97 2330.22 1529.97 M2330.22 1526.27 Q2336.03 1526.27 2339.08 1530.88 Q2342.16 1535.46 2342.16 1544.21 Q2342.16 1552.94 2339.08 1557.54 Q2336.03 1562.13 2330.22 1562.13 Q2324.41 1562.13 2321.33 1557.54 Q2318.27 1552.94 2318.27 1544.21 Q2318.27 1535.46 2321.33 1530.88 Q2324.41 1526.27 2330.22 1526.27 Z\" fill=\"#000000\" fill-rule=\"evenodd\" fill-opacity=\"1\" /><path clip-path=\"url(#clip200)\" d=\"M 0 0 M2342.16 1513.83 L2357.34 1513.83 L2357.34 1515.61 L2342.16 1515.61 L2342.16 1513.83 Z\" fill=\"#000000\" fill-rule=\"evenodd\" fill-opacity=\"1\" /><path clip-path=\"url(#clip200)\" d=\"M 0 0 M2360.27 1519.41 L2364.11 1519.41 L2364.11 1507.92 L2359.92 1508.69 L2359.92 1506.51 L2364.24 1505.78 L2366.82 1505.78 L2366.82 1519.41 L2370.67 1519.41 L2370.67 1521.48 L2360.27 1521.48 L2360.27 1519.41 Z\" fill=\"#000000\" fill-rule=\"evenodd\" fill-opacity=\"1\" /><path clip-path=\"url(#clip200)\" d=\"M 0 0 M2375.71 1519.34 L2383.69 1519.34 L2383.69 1521.48 L2372.44 1521.48 L2372.44 1519.41 Q2373.08 1518.83 2374.27 1517.78 Q2380.74 1512.04 2380.74 1510.27 Q2380.74 1509.03 2379.76 1508.28 Q2378.78 1507.51 2377.18 1507.51 Q2376.2 1507.51 2375.06 1507.85 Q2373.91 1508.17 2372.55 1508.82 L2372.55 1506.51 Q2374 1505.98 2375.24 1505.72 Q2376.5 1505.46 2377.58 1505.46 Q2380.3 1505.46 2381.94 1506.7 Q2383.58 1507.94 2383.58 1509.97 Q2383.58 1512.59 2377.35 1517.93 Q2376.3 1518.83 2375.71 1519.34 Z\" fill=\"#000000\" fill-rule=\"evenodd\" fill-opacity=\"1\" /><path clip-path=\"url(#clip200)\" d=\"M 0 0 M75.4226 1431.56 Q71.8115 1431.56 69.9828 1435.12 Q68.1773 1438.66 68.1773 1445.79 Q68.1773 1452.9 69.9828 1456.46 Q71.8115 1460.01 75.4226 1460.01 Q79.0569 1460.01 80.8624 1456.46 Q82.6911 1452.9 82.6911 1445.79 Q82.6911 1438.66 80.8624 1435.12 Q79.0569 1431.56 75.4226 1431.56 M75.4226 1427.85 Q81.2328 1427.85 84.2883 1432.46 Q87.367 1437.04 87.367 1445.79 Q87.367 1454.52 84.2883 1459.13 Q81.2328 1463.71 75.4226 1463.71 Q69.6125 1463.71 66.5338 1459.13 Q63.4782 1454.52 63.4782 1445.79 Q63.4782 1437.04 66.5338 1432.46 Q69.6125 1427.85 75.4226 1427.85 Z\" fill=\"#000000\" fill-rule=\"evenodd\" fill-opacity=\"1\" /><path clip-path=\"url(#clip200)\" d=\"M 0 0 M92.4364 1457.16 L97.3206 1457.16 L97.3206 1463.04 L92.4364 1463.04 L92.4364 1457.16 Z\" fill=\"#000000\" fill-rule=\"evenodd\" fill-opacity=\"1\" /><path clip-path=\"url(#clip200)\" d=\"M 0 0 M112.39 1431.56 Q108.779 1431.56 106.95 1435.12 Q105.145 1438.66 105.145 1445.79 Q105.145 1452.9 106.95 1456.46 Q108.779 1460.01 112.39 1460.01 Q116.024 1460.01 117.83 1456.46 Q119.658 1452.9 119.658 1445.79 Q119.658 1438.66 117.83 1435.12 Q116.024 1431.56 112.39 1431.56 M112.39 1427.85 Q118.2 1427.85 121.256 1432.46 Q124.334 1437.04 124.334 1445.79 Q124.334 1454.52 121.256 1459.13 Q118.2 1463.71 112.39 1463.71 Q106.58 1463.71 103.501 1459.13 Q100.446 1454.52 100.446 1445.79 Q100.446 1437.04 103.501 1432.46 Q106.58 1427.85 112.39 1427.85 Z\" fill=\"#000000\" fill-rule=\"evenodd\" fill-opacity=\"1\" /><path clip-path=\"url(#clip200)\" d=\"M 0 0 M139.404 1431.56 Q135.793 1431.56 133.964 1435.12 Q132.158 1438.66 132.158 1445.79 Q132.158 1452.9 133.964 1456.46 Q135.793 1460.01 139.404 1460.01 Q143.038 1460.01 144.844 1456.46 Q146.672 1452.9 146.672 1445.79 Q146.672 1438.66 144.844 1435.12 Q143.038 1431.56 139.404 1431.56 M139.404 1427.85 Q145.214 1427.85 148.269 1432.46 Q151.348 1437.04 151.348 1445.79 Q151.348 1454.52 148.269 1459.13 Q145.214 1463.71 139.404 1463.71 Q133.594 1463.71 130.515 1459.13 Q127.459 1454.52 127.459 1445.79 Q127.459 1437.04 130.515 1432.46 Q133.594 1427.85 139.404 1427.85 Z\" fill=\"#000000\" fill-rule=\"evenodd\" fill-opacity=\"1\" /><path clip-path=\"url(#clip200)\" d=\"M 0 0 M76.6495 1190.69 Q73.0384 1190.69 71.2097 1194.26 Q69.4041 1197.8 69.4041 1204.93 Q69.4041 1212.04 71.2097 1215.6 Q73.0384 1219.14 76.6495 1219.14 Q80.2837 1219.14 82.0892 1215.6 Q83.9179 1212.04 83.9179 1204.93 Q83.9179 1197.8 82.0892 1194.26 Q80.2837 1190.69 76.6495 1190.69 M76.6495 1186.99 Q82.4596 1186.99 85.5152 1191.6 Q88.5938 1196.18 88.5938 1204.93 Q88.5938 1213.66 85.5152 1218.26 Q82.4596 1222.85 76.6495 1222.85 Q70.8393 1222.85 67.7606 1218.26 Q64.7051 1213.66 64.7051 1204.93 Q64.7051 1196.18 67.7606 1191.6 Q70.8393 1186.99 76.6495 1186.99 Z\" fill=\"#000000\" fill-rule=\"evenodd\" fill-opacity=\"1\" /><path clip-path=\"url(#clip200)\" d=\"M 0 0 M93.6633 1216.3 L98.5475 1216.3 L98.5475 1222.17 L93.6633 1222.17 L93.6633 1216.3 Z\" fill=\"#000000\" fill-rule=\"evenodd\" fill-opacity=\"1\" /><path clip-path=\"url(#clip200)\" d=\"M 0 0 M113.617 1190.69 Q110.006 1190.69 108.177 1194.26 Q106.372 1197.8 106.372 1204.93 Q106.372 1212.04 108.177 1215.6 Q110.006 1219.14 113.617 1219.14 Q117.251 1219.14 119.057 1215.6 Q120.885 1212.04 120.885 1204.93 Q120.885 1197.8 119.057 1194.26 Q117.251 1190.69 113.617 1190.69 M113.617 1186.99 Q119.427 1186.99 122.483 1191.6 Q125.561 1196.18 125.561 1204.93 Q125.561 1213.66 122.483 1218.26 Q119.427 1222.85 113.617 1222.85 Q107.807 1222.85 104.728 1218.26 Q101.672 1213.66 101.672 1204.93 Q101.672 1196.18 104.728 1191.6 Q107.807 1186.99 113.617 1186.99 Z\" fill=\"#000000\" fill-rule=\"evenodd\" fill-opacity=\"1\" /><path clip-path=\"url(#clip200)\" d=\"M 0 0 M131.441 1218.24 L139.08 1218.24 L139.08 1191.87 L130.77 1193.54 L130.77 1189.28 L139.033 1187.61 L143.709 1187.61 L143.709 1218.24 L151.348 1218.24 L151.348 1222.17 L131.441 1222.17 L131.441 1218.24 Z\" fill=\"#000000\" fill-rule=\"evenodd\" fill-opacity=\"1\" /><path clip-path=\"url(#clip200)\" d=\"M 0 0 M77.0198 949.83 Q73.4087 949.83 71.58 953.395 Q69.7745 956.936 69.7745 964.066 Q69.7745 971.172 71.58 974.737 Q73.4087 978.279 77.0198 978.279 Q80.6541 978.279 82.4596 974.737 Q84.2883 971.172 84.2883 964.066 Q84.2883 956.936 82.4596 953.395 Q80.6541 949.83 77.0198 949.83 M77.0198 946.126 Q82.83 946.126 85.8855 950.733 Q88.9642 955.316 88.9642 964.066 Q88.9642 972.793 85.8855 977.399 Q82.83 981.983 77.0198 981.983 Q71.2097 981.983 68.131 977.399 Q65.0754 972.793 65.0754 964.066 Q65.0754 955.316 68.131 950.733 Q71.2097 946.126 77.0198 946.126 Z\" fill=\"#000000\" fill-rule=\"evenodd\" fill-opacity=\"1\" /><path clip-path=\"url(#clip200)\" d=\"M 0 0 M94.0336 975.432 L98.9179 975.432 L98.9179 981.311 L94.0336 981.311 L94.0336 975.432 Z\" fill=\"#000000\" fill-rule=\"evenodd\" fill-opacity=\"1\" /><path clip-path=\"url(#clip200)\" d=\"M 0 0 M113.987 949.83 Q110.376 949.83 108.547 953.395 Q106.742 956.936 106.742 964.066 Q106.742 971.172 108.547 974.737 Q110.376 978.279 113.987 978.279 Q117.621 978.279 119.427 974.737 Q121.256 971.172 121.256 964.066 Q121.256 956.936 119.427 953.395 Q117.621 949.83 113.987 949.83 M113.987 946.126 Q119.797 946.126 122.853 950.733 Q125.932 955.316 125.932 964.066 Q125.932 972.793 122.853 977.399 Q119.797 981.983 113.987 981.983 Q108.177 981.983 105.098 977.399 Q102.043 972.793 102.043 964.066 Q102.043 955.316 105.098 950.733 Q108.177 946.126 113.987 946.126 Z\" fill=\"#000000\" fill-rule=\"evenodd\" fill-opacity=\"1\" /><path clip-path=\"url(#clip200)\" d=\"M 0 0 M135.029 977.376 L151.348 977.376 L151.348 981.311 L129.404 981.311 L129.404 977.376 Q132.066 974.621 136.649 969.992 Q141.256 965.339 142.436 963.996 Q144.682 961.473 145.561 959.737 Q146.464 957.978 146.464 956.288 Q146.464 953.534 144.519 951.797 Q142.598 950.061 139.496 950.061 Q137.297 950.061 134.844 950.825 Q132.413 951.589 129.635 953.14 L129.635 948.418 Q132.459 947.284 134.913 946.705 Q137.367 946.126 139.404 946.126 Q144.774 946.126 147.969 948.811 Q151.163 951.497 151.163 955.987 Q151.163 958.117 150.353 960.038 Q149.566 961.936 147.459 964.529 Q146.881 965.2 143.779 968.418 Q140.677 971.612 135.029 977.376 Z\" fill=\"#000000\" fill-rule=\"evenodd\" fill-opacity=\"1\" /><path clip-path=\"url(#clip200)\" d=\"M 0 0 M76.0708 708.966 Q72.4597 708.966 70.631 712.531 Q68.8254 716.073 68.8254 723.202 Q68.8254 730.309 70.631 733.873 Q72.4597 737.415 76.0708 737.415 Q79.705 737.415 81.5105 733.873 Q83.3392 730.309 83.3392 723.202 Q83.3392 716.073 81.5105 712.531 Q79.705 708.966 76.0708 708.966 M76.0708 705.262 Q81.8809 705.262 84.9365 709.869 Q88.0151 714.452 88.0151 723.202 Q88.0151 731.929 84.9365 736.535 Q81.8809 741.119 76.0708 741.119 Q70.2606 741.119 67.1819 736.535 Q64.1264 731.929 64.1264 723.202 Q64.1264 714.452 67.1819 709.869 Q70.2606 705.262 76.0708 705.262 Z\" fill=\"#000000\" fill-rule=\"evenodd\" fill-opacity=\"1\" /><path clip-path=\"url(#clip200)\" d=\"M 0 0 M93.0846 734.568 L97.9688 734.568 L97.9688 740.447 L93.0846 740.447 L93.0846 734.568 Z\" fill=\"#000000\" fill-rule=\"evenodd\" fill-opacity=\"1\" /><path clip-path=\"url(#clip200)\" d=\"M 0 0 M113.038 708.966 Q109.427 708.966 107.598 712.531 Q105.793 716.073 105.793 723.202 Q105.793 730.309 107.598 733.873 Q109.427 737.415 113.038 737.415 Q116.672 737.415 118.478 733.873 Q120.307 730.309 120.307 723.202 Q120.307 716.073 118.478 712.531 Q116.672 708.966 113.038 708.966 M113.038 705.262 Q118.848 705.262 121.904 709.869 Q124.983 714.452 124.983 723.202 Q124.983 731.929 121.904 736.535 Q118.848 741.119 113.038 741.119 Q107.228 741.119 104.149 736.535 Q101.094 731.929 101.094 723.202 Q101.094 714.452 104.149 709.869 Q107.228 705.262 113.038 705.262 Z\" fill=\"#000000\" fill-rule=\"evenodd\" fill-opacity=\"1\" /><path clip-path=\"url(#clip200)\" d=\"M 0 0 M144.219 721.813 Q147.575 722.531 149.45 724.799 Q151.348 727.068 151.348 730.401 Q151.348 735.517 147.83 738.318 Q144.311 741.119 137.83 741.119 Q135.654 741.119 133.339 740.679 Q131.047 740.262 128.594 739.406 L128.594 734.892 Q130.538 736.026 132.853 736.605 Q135.168 737.184 137.691 737.184 Q142.089 737.184 144.381 735.447 Q146.695 733.711 146.695 730.401 Q146.695 727.346 144.543 725.633 Q142.413 723.897 138.594 723.897 L134.566 723.897 L134.566 720.054 L138.779 720.054 Q142.228 720.054 144.057 718.688 Q145.885 717.299 145.885 714.707 Q145.885 712.045 143.987 710.633 Q142.112 709.198 138.594 709.198 Q136.672 709.198 134.473 709.614 Q132.274 710.031 129.635 710.911 L129.635 706.744 Q132.297 706.003 134.612 705.633 Q136.95 705.262 139.01 705.262 Q144.334 705.262 147.436 707.693 Q150.538 710.1 150.538 714.221 Q150.538 717.091 148.894 719.082 Q147.251 721.049 144.219 721.813 Z\" fill=\"#000000\" fill-rule=\"evenodd\" fill-opacity=\"1\" /><path clip-path=\"url(#clip200)\" d=\"M 0 0 M74.9365 468.102 Q71.3254 468.102 69.4967 471.667 Q67.6912 475.209 67.6912 482.338 Q67.6912 489.445 69.4967 493.01 Q71.3254 496.551 74.9365 496.551 Q78.5707 496.551 80.3763 493.01 Q82.205 489.445 82.205 482.338 Q82.205 475.209 80.3763 471.667 Q78.5707 468.102 74.9365 468.102 M74.9365 464.399 Q80.7467 464.399 83.8022 469.005 Q86.8809 473.588 86.8809 482.338 Q86.8809 491.065 83.8022 495.672 Q80.7467 500.255 74.9365 500.255 Q69.1264 500.255 66.0477 495.672 Q62.9921 491.065 62.9921 482.338 Q62.9921 473.588 66.0477 469.005 Q69.1264 464.399 74.9365 464.399 Z\" fill=\"#000000\" fill-rule=\"evenodd\" fill-opacity=\"1\" /><path clip-path=\"url(#clip200)\" d=\"M 0 0 M91.9503 493.704 L96.8345 493.704 L96.8345 499.584 L91.9503 499.584 L91.9503 493.704 Z\" fill=\"#000000\" fill-rule=\"evenodd\" fill-opacity=\"1\" /><path clip-path=\"url(#clip200)\" d=\"M 0 0 M111.904 468.102 Q108.293 468.102 106.464 471.667 Q104.659 475.209 104.659 482.338 Q104.659 489.445 106.464 493.01 Q108.293 496.551 111.904 496.551 Q115.538 496.551 117.344 493.01 Q119.172 489.445 119.172 482.338 Q119.172 475.209 117.344 471.667 Q115.538 468.102 111.904 468.102 M111.904 464.399 Q117.714 464.399 120.77 469.005 Q123.848 473.588 123.848 482.338 Q123.848 491.065 120.77 495.672 Q117.714 500.255 111.904 500.255 Q106.094 500.255 103.015 495.672 Q99.9595 491.065 99.9595 482.338 Q99.9595 473.588 103.015 469.005 Q106.094 464.399 111.904 464.399 Z\" fill=\"#000000\" fill-rule=\"evenodd\" fill-opacity=\"1\" /><path clip-path=\"url(#clip200)\" d=\"M 0 0 M141.765 469.098 L129.959 487.547 L141.765 487.547 L141.765 469.098 M140.538 465.024 L146.418 465.024 L146.418 487.547 L151.348 487.547 L151.348 491.436 L146.418 491.436 L146.418 499.584 L141.765 499.584 L141.765 491.436 L126.163 491.436 L126.163 486.922 L140.538 465.024 Z\" fill=\"#000000\" fill-rule=\"evenodd\" fill-opacity=\"1\" /><path clip-path=\"url(#clip200)\" d=\"M 0 0 M76.418 227.239 Q72.8069 227.239 70.9782 230.803 Q69.1726 234.345 69.1726 241.475 Q69.1726 248.581 70.9782 252.146 Q72.8069 255.687 76.418 255.687 Q80.0522 255.687 81.8578 252.146 Q83.6865 248.581 83.6865 241.475 Q83.6865 234.345 81.8578 230.803 Q80.0522 227.239 76.418 227.239 M76.418 223.535 Q82.2281 223.535 85.2837 228.141 Q88.3624 232.725 88.3624 241.475 Q88.3624 250.201 85.2837 254.808 Q82.2281 259.391 76.418 259.391 Q70.6078 259.391 67.5291 254.808 Q64.4736 250.201 64.4736 241.475 Q64.4736 232.725 67.5291 228.141 Q70.6078 223.535 76.418 223.535 Z\" fill=\"#000000\" fill-rule=\"evenodd\" fill-opacity=\"1\" /><path clip-path=\"url(#clip200)\" d=\"M 0 0 M93.4318 252.84 L98.316 252.84 L98.316 258.72 L93.4318 258.72 L93.4318 252.84 Z\" fill=\"#000000\" fill-rule=\"evenodd\" fill-opacity=\"1\" /><path clip-path=\"url(#clip200)\" d=\"M 0 0 M113.385 227.239 Q109.774 227.239 107.946 230.803 Q106.14 234.345 106.14 241.475 Q106.14 248.581 107.946 252.146 Q109.774 255.687 113.385 255.687 Q117.02 255.687 118.825 252.146 Q120.654 248.581 120.654 241.475 Q120.654 234.345 118.825 230.803 Q117.02 227.239 113.385 227.239 M113.385 223.535 Q119.196 223.535 122.251 228.141 Q125.33 232.725 125.33 241.475 Q125.33 250.201 122.251 254.808 Q119.196 259.391 113.385 259.391 Q107.575 259.391 104.497 254.808 Q101.441 250.201 101.441 241.475 Q101.441 232.725 104.497 228.141 Q107.575 223.535 113.385 223.535 Z\" fill=\"#000000\" fill-rule=\"evenodd\" fill-opacity=\"1\" /><path clip-path=\"url(#clip200)\" d=\"M 0 0 M130.445 224.16 L148.802 224.16 L148.802 228.095 L134.728 228.095 L134.728 236.567 Q135.746 236.22 136.765 236.058 Q137.783 235.873 138.802 235.873 Q144.589 235.873 147.969 239.044 Q151.348 242.215 151.348 247.632 Q151.348 253.211 147.876 256.312 Q144.404 259.391 138.084 259.391 Q135.908 259.391 133.64 259.021 Q131.395 258.65 128.987 257.91 L128.987 253.211 Q131.07 254.345 133.293 254.9 Q135.515 255.456 137.992 255.456 Q141.996 255.456 144.334 253.35 Q146.672 251.243 146.672 247.632 Q146.672 244.021 144.334 241.914 Q141.996 239.808 137.992 239.808 Q136.117 239.808 134.242 240.225 Q132.39 240.641 130.445 241.521 L130.445 224.16 Z\" fill=\"#000000\" fill-rule=\"evenodd\" fill-opacity=\"1\" /><polyline clip-path=\"url(#clip202)\" style=\"stroke:#009af9; stroke-width:4; stroke-opacity:1; fill:none\" points=\"\n",
       "  236.973,414.612 237.13,783.475 237.286,1146.85 237.443,1386.66 237.6,1033.91 237.756,1174.51 237.913,1366.96 238.07,1021.94 238.227,1200.99 238.383,1348.1 \n",
       "  238.54,1010.47 238.697,238.766 238.854,580.747 239.01,918.023 239.167,1250.69 239.324,1312.67 239.48,988.939 239.637,1274.05 239.794,1296.02 239.951,978.811 \n",
       "  240.107,1296.48 240.264,1280.02 240.421,87.9763 240.578,406.719 240.734,721.386 240.891,1032.05 241.048,1338.8 241.204,1249.82 241.361,1057.9 241.518,1358.78 \n",
       "  241.675,1235.56 241.831,1082.79 241.988,1378.03 242.145,1221.82 242.301,255.701 242.458,550.593 242.615,841.981 242.772,1129.93 242.928,1414.5 243.085,1195.77 \n",
       "  243.242,1152.27 243.399,1431.79 243.555,1183.42 243.712,1173.84 243.869,1443.03 244.025,1171.49 244.182,400.862 244.339,675.218 244.496,946.532 244.652,1214.85 \n",
       "  244.809,1411.28 244.966,1148.8 245.122,1234.36 245.279,1396.18 245.436,1138 245.593,1253.24 245.749,1381.55 245.906,1127.54 246.063,527.724 246.22,784.215 \n",
       "  246.376,1038.04 246.533,1289.24 246.69,1353.66 246.846,1107.59 247.003,1306.42 247.16,1340.35 247.317,1098.07 247.473,1323.08 247.63,1327.44 247.787,396.342 \n",
       "  247.943,639.543 248.1,880.352 248.257,1118.8 248.414,1354.94 248.57,1302.74 248.727,1137.54 248.884,1370.18 249.041,1290.92 249.197,1155.73 249.354,1384.99 \n",
       "  249.511,1279.44 249.667,509.785 249.824,738.844 249.981,965.776 250.138,1190.61 250.294,1413.38 250.451,1257.41 250.608,1207.33 250.765,1426.99 250.921,1246.85 \n",
       "  251.078,1223.61 251.235,1440.24 251.391,1236.57 251.548,611.148 251.705,827.618 251.862,1042.18 252.018,1254.87 252.175,1425.81 252.332,1216.81 252.488,1269.9 \n",
       "  252.645,1413.58 252.802,1207.31 252.959,1284.53 253.115,1401.65 253.272,1198.05 253.429,702.264 253.586,907.455 253.742,1110.93 253.899,1312.72 254.056,1378.69 \n",
       "  254.212,1180.23 254.369,1326.29 254.526,1367.63 254.683,1171.64 254.839,1339.53 254.996,1356.84 255.153,1163.26 255.309,784.611 255.466,979.64 255.623,1173.12 \n",
       "  255.78,1365.06 255.936,1336.03 256.093,1187.75 256.25,1377.38 256.407,1325.99 256.563,1202.04 256.72,1389.41 256.877,1316.18 257.033,672.146 258.483,1300.21 \n",
       "  259.932,1378.84 261.381,1439.09 262.83,1045.22 264.279,1305.24 265.728,1244.19 267.177,1269.32 268.626,1335.76 270.076,986.489 271.525,1433.33 272.974,1376.8 \n",
       "  274.423,1323.09 275.872,1247.44 277.321,941.686 278.77,1359.78 280.22,1412.14 281.669,1429.34 283.118,1178.26 284.567,1335.64 286.016,1291.7 287.465,1330.42 \n",
       "  288.914,1377.1 290.363,1122.6 291.813,1426.43 293.262,1384.92 294.711,1344.94 296.16,1307.45 297.609,1076.84 299.058,1390.18 300.507,1429.41 301.956,1424.21 \n",
       "  303.406,1249.38 304.855,1352.12 306.304,1327.32 307.753,1364.44 309.202,1400.4 310.651,1200.22 312.1,1422.46 313.549,1389.66 314.999,1357.82 316.448,1343.16 \n",
       "  317.897,1158.06 319.346,1408.61 320.795,1439.97 322.244,1421.04 323.693,1293.65 325.143,1362.46 326.592,1356.1 328.041,1386.11 329.49,1415.35 330.939,1250.38 \n",
       "  332.388,1419.87 333.837,1392.76 335.286,1366.31 336.736,1366.85 338.185,1212.26 339.634,1420.98 341.083,1444.41 342.532,1418.89 343.981,1323.85 345.43,1369.56 \n",
       "  346.879,1375.94 348.329,1401.12 349.778,1425.76 351.227,1285.47 352.676,1418.05 354.125,1394.95 355.574,1372.33 357.023,1383.71 358.473,1251 359.922,1429.86 \n",
       "  361.371,1439.27 362.82,1417.33 364.269,1345.78 365.718,1374.72 367.167,1390.44 368.616,1412.14 370.066,1433.42 371.515,1311.39 372.964,1416.7 374.413,1396.58 \n",
       "  375.862,1376.82 377.311,1396.33 378.76,1280.07 380.209,1436.55 381.659,1435.39 383.108,1416.15 384.557,1362.43 386.006,1251.42 387.455,1401.51 388.904,1420.57 \n",
       "  390.353,1439.3 391.803,1331.32 393.252,1415.67 394.701,1397.84 396.15,1387.87 397.599,1406.12 399.048,1302.68 400.497,1441.76 401.946,1432.36 403.396,1415.23 \n",
       "  404.845,1375.49 406.294,1276.23 407.743,1410.24 409.192,1427.22 410.641,1443.95 412.09,1347.12 413.539,1414.84 414.989,1398.84 416.438,1397.6 417.887,1413.94 \n",
       "  419.336,1320.78 420.785,1445.58 422.234,1429.93 423.683,1414.49 425.132,1386.01 426.582,1296.25 428.031,1417.29 429.48,1432.61 430.929,1443.79 432.378,1359.96 \n",
       "  433.827,1414.17 435.276,1399.65 436.726,1405.54 438.175,1420.34 439.624,1335.59 441.073,1442.16 442.522,1427.93 446.006,1420.91 449.489,1416.88 450.36,1427.39 \n",
       "  451.231,1437.82 452.102,1443.33 452.972,1433.05 454.714,1412.71 456.456,1392.67 457.327,1416.71 458.198,1372.91 459.069,1436.98 459.939,1353.44 460.81,1434.55 \n",
       "  461.681,1334.24 462.552,1414.85 463.423,1315.31 464.294,1406.63 465.165,1416.55 466.035,1426.41 466.906,1436.2 467.777,1445.6 468.648,1435.95 469.519,1426.37 \n",
       "  470.39,1416.85 471.261,1407.39 472.132,1406.79 473.002,1388.67 473.873,1425.97 474.744,1370.21 475.615,1444.88 476.486,1351.99 477.357,1427.97 478.228,1334.02 \n",
       "  479.098,1409.55 479.969,1406.94 480.84,1416.27 482.582,1434.76 484.324,1438.51 486.065,1420.5 487.807,1402.72 488.678,1416.14 489.549,1385.16 490.42,1434.1 \n",
       "  491.291,1367.83 492.161,1439.68 493.032,1350.72 493.903,1422.17 494.774,1333.82 495.645,1407.21 496.516,1416.02 497.387,1424.78 498.258,1433.48 499.999,1440.79 \n",
       "  501.741,1423.75 502.612,1415.31 503.483,1407.33 504.354,1398.58 505.224,1424.43 506.095,1382.05 506.966,1441.32 507.837,1365.73 508.708,1433.52 509.579,1349.59 \n",
       "  510.45,1417.03 511.321,1333.64 512.191,1415.8 513.062,1424.09 513.933,1432.34 514.804,1440.54 515.675,1442.83 517.417,1426.66 519.158,1410.69 520.029,1415.69 \n",
       "  520.9,1394.9 521.771,1431.81 522.642,1379.28 523.513,1443.77 524.384,1363.84 525.254,1428.01 526.125,1348.58 526.996,1412.43 527.867,1415.6 528.738,1423.48 \n",
       "  529.609,1431.31 530.48,1439.11 531.35,1444.66 532.221,1436.95 533.092,1429.29 534.834,1414.08 536.576,1423.19 538.317,1438.44 540.059,1437.99 541.801,1423.06 \n",
       "  543.543,1415.41 545.284,1430.38 547.026,1445.19 548.768,1431.67 550.51,1417.16 551.38,1415.33 552.251,1402.81 553.122,1429.95 553.993,1388.6 554.729,1427.95 \n",
       "  555.466,1424.4 556.202,1440.84 556.938,1414.68 557.675,1388.62 558.411,1427.54 559.147,1425.22 559.883,1440.3 560.62,1414.41 561.356,1388.64 562.092,1427.14 \n",
       "  562.829,1426.03 563.565,1439.77 564.301,1414.16 565.038,1388.66 565.774,1426.76 566.51,1426.82 567.247,1439.25 567.983,1414.51 568.719,1388.67 569.455,1426.38 \n",
       "  570.192,1427.6 570.928,1438.74 571.664,1415.41 572.401,1388.69 573.137,1426 573.873,1428.35 574.61,1438.24 575.346,1416.29 576.082,1388.71 576.819,1425.64 \n",
       "  577.555,1429.1 579.027,1417.16 580.5,1425.28 581.236,1429.83 581.973,1437.28 582.709,1418 583.445,1388.74 584.182,1424.93 584.918,1430.54 585.654,1436.81 \n",
       "  586.39,1418.83 587.863,1424.59 589.336,1436.35 592.281,1431.92 595.226,1423.92 595.962,1432.6 596.699,1435.46 597.435,1421.22 598.171,1388.79 598.908,1423.6 \n",
       "  599.644,1433.26 600.38,1435.02 601.117,1421.98 601.853,1388.81 602.589,1423.28 603.326,1433.9 604.062,1434.6 604.798,1422.73 605.534,1388.82 606.271,1422.97 \n",
       "  607.007,1434.54 607.743,1434.18 608.48,1423.47 609.216,1388.84 609.952,1422.66 610.689,1435.16 611.425,1433.77 612.161,1424.19 612.898,1388.85 613.634,1422.36 \n",
       "  614.37,1435.77 615.106,1433.37 615.843,1424.9 616.579,1388.86 617.315,1422.07 618.052,1436.37 618.788,1432.98 619.524,1425.6 620.261,1388.87 620.997,1421.78 \n",
       "  621.733,1436.96 622.47,1432.59 623.206,1426.29 623.942,1388.89 624.678,1421.49 625.415,1437.54 626.151,1432.21 626.887,1426.96 627.624,1388.9 628.36,1421.21 \n",
       "  629.096,1438.11 629.833,1431.83 630.569,1427.62 631.305,1388.91 632.042,1420.94 632.778,1438.67 633.514,1431.47 634.25,1428.27 634.987,1388.92 635.723,1420.67 \n",
       "  636.459,1439.21 637.196,1431.11 637.932,1428.9 638.668,1388.93 639.405,1420.4 640.141,1439.75 640.877,1430.75 641.614,1429.53 642.35,1388.95 643.086,1420.14 \n",
       "  643.822,1440.28 644.559,1430.4 645.295,1430.15 646.031,1388.96 646.768,1420.08 647.504,1440.8 648.24,1430.06 649.04,1423.68 649.84,1403.1 650.64,1440.78 \n",
       "  651.44,1376.34 652.239,1426.69 653.039,1440.13 653.839,1437.99 654.639,1424.64 655.439,1411.34 656.239,1442.99 657.038,1384.89 657.838,1421.99 658.638,1432.56 \n",
       "  659.438,1445.72 660.238,1432.52 661.038,1419.38 661.837,1435.43 662.637,1393.22 663.437,1429.85 664.237,1425.18 665.037,1438.27 665.837,1440.21 666.636,1427.21 \n",
       "  667.436,1428.07 668.236,1401.36 669.036,1437.51 669.836,1375.68 670.636,1430.92 671.435,1443.82 672.235,1434.85 673.035,1422.05 673.835,1409.29 674.635,1444.99 \n",
       "  675.435,1383.9 676.235,1423.75 677.034,1436.5 677.834,1442.31 678.634,1429.65 679.434,1417.03 680.234,1439.24 681.034,1391.92 681.833,1427.1 682.633,1429.36 \n",
       "  683.433,1441.93 684.233,1437.06 685.033,1424.58 685.833,1432.11 686.632,1399.75 687.432,1434.49 688.232,1422.4 689.032,1434.83 689.832,1444.3 690.632,1431.96 \n",
       "  691.431,1425.16 692.231,1407.39 693.031,1441.72 693.831,1382.99 694.631,1427.89 695.431,1440.14 696.23,1439.16 697.03,1426.99 697.83,1414.86 698.63,1442.75 \n",
       "  699.43,1390.71 700.23,1424.55 701.029,1433.23 701.829,1445.32 702.629,1434.16 704.229,1435.85 705.828,1431.7 707.428,1438.44 709.028,1429.28 709.828,1429.11 \n",
       "  710.627,1405.64 711.427,1438.69 712.227,1382.14 713.027,1431.72 713.827,1443.51 714.627,1436.25 715.426,1424.53 716.226,1412.85 717.026,1445.52 717.826,1389.59 \n",
       "  718.626,1425.14 719.426,1436.82 720.225,1443.06 721.025,1431.46 721.825,1419.9 722.625,1439.32 723.425,1396.88 724.225,1429.11 725.024,1430.27 731.423,1435.27 \n",
       "  737.822,1440.15 744.221,1444.91 750.619,1441.96 774.215,1440.82 797.811,1432.8 803.71,1440.34 809.609,1443.79 811.084,1440.23 812.559,1432.76 813.296,1443.89 \n",
       "  814.034,1429.06 814.771,1440.17 815.508,1399.51 816.246,1432.75 816.983,1443.99 817.721,1429.25 818.458,1440.12 819.933,1432.74 821.407,1429.44 827.306,1432.73 \n",
       "  833.205,1439.91 834.68,1432.71 836.155,1430.17 836.892,1439.86 837.63,1401.67 838.367,1432.7 839.105,1444.57 840.579,1439.8 842.054,1432.69 842.791,1444.66 \n",
       "  843.529,1430.53 844.266,1439.75 845.004,1402.36 845.794,1428.62 846.585,1438.64 847.375,1442.88 848.166,1432.9 848.956,1422.95 849.747,1443.46 850.537,1403.13 \n",
       "  851.328,1428.37 852.118,1438.31 852.909,1443.29 853.7,1433.4 854.49,1423.54 855.281,1443.09 856.071,1403.89 856.862,1428.74 857.652,1437.99 860.814,1442.72 \n",
       "  863.977,1444.1 864.767,1434.38 865.558,1424.69 866.348,1442.37 867.139,1405.36 867.929,1429.79 868.72,1437.36 869.51,1444.5 870.301,1434.86 873.463,1430.3 \n",
       "  876.625,1425.79 877.416,1441.67 878.206,1406.79 878.997,1430.81 879.788,1436.75 880.578,1445.27 881.369,1435.79 882.159,1426.33 882.95,1441.33 883.74,1407.48 \n",
       "  884.531,1431.3 885.321,1436.45 886.112,1445.64 886.903,1436.24 887.693,1426.86 888.484,1441 889.274,1408.17 890.065,1431.79 890.855,1436.16 891.646,1445.51 \n",
       "  892.436,1436.69 894.017,1440.67 895.599,1432.27 901.923,1435.59 908.247,1444.43 914.572,1438.4 920.896,1429.87 924.058,1434.5 927.22,1438.81 928.801,1434.99 \n",
       "  930.383,1443.08 931.173,1439.61 931.964,1430.81 932.754,1438.52 933.545,1413.26 934.335,1435.42 935.126,1433.98 935.916,1442.76 936.707,1440.01 938.288,1438.23 \n",
       "  939.869,1435.85 943.031,1431.72 946.194,1433.48 960.848,1439.43 975.503,1445.16 990.158,1440.85 1004.81,1435.55 1034.12,1438.86 1063.43,1442.37 1089.48,1435.44 \n",
       "  1115.53,1444.3 1141.57,1434.34 1167.62,1422.69 1190.46,1436.35 1213.3,1442.12 1236.14,1440.09 1258.98,1439.04 1358.59,1436.45 1458.8,1428.09 1569.58,1437.14 \n",
       "  1674.99,1441.67 1784.6,1443.46 1876.86,1440.18 1989.5,1432.08 2095.39,1442.62 2265.02,1445.06 2291.13,1441.48 \n",
       "  \"/>\n",
       "<path clip-path=\"url(#clip200)\" d=\"\n",
       "M1987.22 216.178 L2280.18 216.178 L2280.18 95.2176 L1987.22 95.2176  Z\n",
       "  \" fill=\"#ffffff\" fill-rule=\"evenodd\" fill-opacity=\"1\"/>\n",
       "<polyline clip-path=\"url(#clip200)\" style=\"stroke:#000000; stroke-width:4; stroke-opacity:1; fill:none\" points=\"\n",
       "  1987.22,216.178 2280.18,216.178 2280.18,95.2176 1987.22,95.2176 1987.22,216.178 \n",
       "  \"/>\n",
       "<polyline clip-path=\"url(#clip200)\" style=\"stroke:#009af9; stroke-width:4; stroke-opacity:1; fill:none\" points=\"\n",
       "  2011.42,155.698 2156.58,155.698 \n",
       "  \"/>\n",
       "<path clip-path=\"url(#clip200)\" d=\"M 0 0 M2194.61 175.385 Q2192.81 180.015 2191.09 181.427 Q2189.38 182.839 2186.51 182.839 L2183.11 182.839 L2183.11 179.274 L2185.61 179.274 Q2187.37 179.274 2188.34 178.44 Q2189.31 177.607 2190.49 174.505 L2191.26 172.561 L2180.77 147.052 L2185.28 147.052 L2193.39 167.329 L2201.49 147.052 L2206 147.052 L2194.61 175.385 Z\" fill=\"#000000\" fill-rule=\"evenodd\" fill-opacity=\"1\" /><path clip-path=\"url(#clip200)\" d=\"M 0 0 M2211.88 169.042 L2219.52 169.042 L2219.52 142.677 L2211.21 144.343 L2211.21 140.084 L2219.47 138.418 L2224.15 138.418 L2224.15 169.042 L2231.79 169.042 L2231.79 172.978 L2211.88 172.978 L2211.88 169.042 Z\" fill=\"#000000\" fill-rule=\"evenodd\" fill-opacity=\"1\" /></svg>\n"
      ]
     },
     "execution_count": 43,
     "metadata": {},
     "output_type": "execute_result"
    }
   ],
   "source": [
    "# fd: Finite difference\n",
    "dffd(x, ϵ) = (f(x+ϵ)-f(x))/ϵ\n",
    "x = 1.0\n",
    "errfd(ϵ) = abs(df(x)-dffd(x, ϵ))\n",
    "plot(errfd, 1e-14,1e-12)"
   ]
  },
  {
   "cell_type": "code",
   "execution_count": 44,
   "metadata": {},
   "outputs": [
    {
     "data": {
      "text/plain": [
       "0.3753662109375"
      ]
     },
     "execution_count": 44,
     "metadata": {},
     "output_type": "execute_result"
    }
   ],
   "source": [
    "ϵ = 1e-15\n",
    "fzero(dffd, 0, 1)"
   ]
  },
  {
   "cell_type": "markdown",
   "metadata": {},
   "source": [
    "La méthode peut être affinée en utilisant la différence centrale, définie comme\n",
    "$$\n",
    "f'(x) \\approx \\frac{f(x+\\epsilon)-f(x-\\epsilon)}{2\\epsilon}\n",
    "$$"
   ]
  },
  {
   "cell_type": "markdown",
   "metadata": {},
   "source": [
    "Cette formule est obtenue en considérant\n",
    "$$\n",
    "    f'(x) = \\lim_{\\epsilon \\rightarrow 0} \\frac{f(x+\\epsilon)-f(x)}{\\epsilon}\n",
    "$$\n",
    "et\n",
    "$$\n",
    "    f'(x) = \\lim_{\\epsilon \\rightarrow 0} \\frac{f(x)-f(x-\\epsilon)}{\\epsilon}\n",
    "$$"
   ]
  },
  {
   "cell_type": "code",
   "execution_count": 47,
   "metadata": {},
   "outputs": [
    {
     "data": {
      "text/plain": [
       "dfcd (generic function with 2 methods)"
      ]
     },
     "execution_count": 47,
     "metadata": {},
     "output_type": "execute_result"
    }
   ],
   "source": [
    "dfcd(x, ϵ=1e-6) = (f(x+ϵ)-f(x-ϵ))/(2*ϵ)"
   ]
  },
  {
   "cell_type": "code",
   "execution_count": 48,
   "metadata": {},
   "outputs": [
    {
     "data": {
      "image/svg+xml": [
       "<?xml version=\"1.0\" encoding=\"utf-8\"?>\n",
       "<svg xmlns=\"http://www.w3.org/2000/svg\" xmlns:xlink=\"http://www.w3.org/1999/xlink\" width=\"600\" height=\"400\" viewBox=\"0 0 2400 1600\">\n",
       "<defs>\n",
       "  <clipPath id=\"clip240\">\n",
       "    <rect x=\"0\" y=\"0\" width=\"2400\" height=\"1600\"/>\n",
       "  </clipPath>\n",
       "</defs>\n",
       "<path clip-path=\"url(#clip240)\" d=\"\n",
       "M0 1600 L2400 1600 L2400 0 L0 0  Z\n",
       "  \" fill=\"#ffffff\" fill-rule=\"evenodd\" fill-opacity=\"1\"/>\n",
       "<defs>\n",
       "  <clipPath id=\"clip241\">\n",
       "    <rect x=\"480\" y=\"0\" width=\"1681\" height=\"1600\"/>\n",
       "  </clipPath>\n",
       "</defs>\n",
       "<path clip-path=\"url(#clip240)\" d=\"\n",
       "M147.848 1486.45 L2352.76 1486.45 L2352.76 47.2441 L147.848 47.2441  Z\n",
       "  \" fill=\"#ffffff\" fill-rule=\"evenodd\" fill-opacity=\"1\"/>\n",
       "<defs>\n",
       "  <clipPath id=\"clip242\">\n",
       "    <rect x=\"147\" y=\"47\" width=\"2206\" height=\"1440\"/>\n",
       "  </clipPath>\n",
       "</defs>\n",
       "<polyline clip-path=\"url(#clip242)\" style=\"stroke:#000000; stroke-width:2; stroke-opacity:0.1; fill:none\" points=\"\n",
       "  210.231,1486.45 210.231,47.2441 \n",
       "  \"/>\n",
       "<polyline clip-path=\"url(#clip242)\" style=\"stroke:#000000; stroke-width:2; stroke-opacity:0.1; fill:none\" points=\"\n",
       "  730.261,1486.45 730.261,47.2441 \n",
       "  \"/>\n",
       "<polyline clip-path=\"url(#clip242)\" style=\"stroke:#000000; stroke-width:2; stroke-opacity:0.1; fill:none\" points=\"\n",
       "  1250.29,1486.45 1250.29,47.2441 \n",
       "  \"/>\n",
       "<polyline clip-path=\"url(#clip242)\" style=\"stroke:#000000; stroke-width:2; stroke-opacity:0.1; fill:none\" points=\"\n",
       "  1770.32,1486.45 1770.32,47.2441 \n",
       "  \"/>\n",
       "<polyline clip-path=\"url(#clip242)\" style=\"stroke:#000000; stroke-width:2; stroke-opacity:0.1; fill:none\" points=\"\n",
       "  2290.35,1486.45 2290.35,47.2441 \n",
       "  \"/>\n",
       "<polyline clip-path=\"url(#clip242)\" style=\"stroke:#000000; stroke-width:2; stroke-opacity:0.1; fill:none\" points=\"\n",
       "  147.848,1445.85 2352.76,1445.85 \n",
       "  \"/>\n",
       "<polyline clip-path=\"url(#clip242)\" style=\"stroke:#000000; stroke-width:2; stroke-opacity:0.1; fill:none\" points=\"\n",
       "  147.848,1106.38 2352.76,1106.38 \n",
       "  \"/>\n",
       "<polyline clip-path=\"url(#clip242)\" style=\"stroke:#000000; stroke-width:2; stroke-opacity:0.1; fill:none\" points=\"\n",
       "  147.848,766.911 2352.76,766.911 \n",
       "  \"/>\n",
       "<polyline clip-path=\"url(#clip242)\" style=\"stroke:#000000; stroke-width:2; stroke-opacity:0.1; fill:none\" points=\"\n",
       "  147.848,427.444 2352.76,427.444 \n",
       "  \"/>\n",
       "<polyline clip-path=\"url(#clip242)\" style=\"stroke:#000000; stroke-width:2; stroke-opacity:0.1; fill:none\" points=\"\n",
       "  147.848,87.9763 2352.76,87.9763 \n",
       "  \"/>\n",
       "<polyline clip-path=\"url(#clip240)\" style=\"stroke:#000000; stroke-width:4; stroke-opacity:1; fill:none\" points=\"\n",
       "  147.848,1486.45 2352.76,1486.45 \n",
       "  \"/>\n",
       "<polyline clip-path=\"url(#clip240)\" style=\"stroke:#000000; stroke-width:4; stroke-opacity:1; fill:none\" points=\"\n",
       "  147.848,1486.45 147.848,47.2441 \n",
       "  \"/>\n",
       "<polyline clip-path=\"url(#clip240)\" style=\"stroke:#000000; stroke-width:4; stroke-opacity:1; fill:none\" points=\"\n",
       "  210.231,1486.45 210.231,1469.18 \n",
       "  \"/>\n",
       "<polyline clip-path=\"url(#clip240)\" style=\"stroke:#000000; stroke-width:4; stroke-opacity:1; fill:none\" points=\"\n",
       "  730.261,1486.45 730.261,1469.18 \n",
       "  \"/>\n",
       "<polyline clip-path=\"url(#clip240)\" style=\"stroke:#000000; stroke-width:4; stroke-opacity:1; fill:none\" points=\"\n",
       "  1250.29,1486.45 1250.29,1469.18 \n",
       "  \"/>\n",
       "<polyline clip-path=\"url(#clip240)\" style=\"stroke:#000000; stroke-width:4; stroke-opacity:1; fill:none\" points=\"\n",
       "  1770.32,1486.45 1770.32,1469.18 \n",
       "  \"/>\n",
       "<polyline clip-path=\"url(#clip240)\" style=\"stroke:#000000; stroke-width:4; stroke-opacity:1; fill:none\" points=\"\n",
       "  2290.35,1486.45 2290.35,1469.18 \n",
       "  \"/>\n",
       "<polyline clip-path=\"url(#clip240)\" style=\"stroke:#000000; stroke-width:4; stroke-opacity:1; fill:none\" points=\"\n",
       "  147.848,1445.85 174.307,1445.85 \n",
       "  \"/>\n",
       "<polyline clip-path=\"url(#clip240)\" style=\"stroke:#000000; stroke-width:4; stroke-opacity:1; fill:none\" points=\"\n",
       "  147.848,1106.38 174.307,1106.38 \n",
       "  \"/>\n",
       "<polyline clip-path=\"url(#clip240)\" style=\"stroke:#000000; stroke-width:4; stroke-opacity:1; fill:none\" points=\"\n",
       "  147.848,766.911 174.307,766.911 \n",
       "  \"/>\n",
       "<polyline clip-path=\"url(#clip240)\" style=\"stroke:#000000; stroke-width:4; stroke-opacity:1; fill:none\" points=\"\n",
       "  147.848,427.444 174.307,427.444 \n",
       "  \"/>\n",
       "<polyline clip-path=\"url(#clip240)\" style=\"stroke:#000000; stroke-width:4; stroke-opacity:1; fill:none\" points=\"\n",
       "  147.848,87.9763 174.307,87.9763 \n",
       "  \"/>\n",
       "<path clip-path=\"url(#clip240)\" d=\"M 0 0 M210.231 1508.44 Q206.619 1508.44 204.791 1512 Q202.985 1515.55 202.985 1522.67 Q202.985 1529.78 204.791 1533.35 Q206.619 1536.89 210.231 1536.89 Q213.865 1536.89 215.67 1533.35 Q217.499 1529.78 217.499 1522.67 Q217.499 1515.55 215.67 1512 Q213.865 1508.44 210.231 1508.44 M210.231 1504.73 Q216.041 1504.73 219.096 1509.34 Q222.175 1513.92 222.175 1522.67 Q222.175 1531.4 219.096 1536.01 Q216.041 1540.59 210.231 1540.59 Q204.42 1540.59 201.342 1536.01 Q198.286 1531.4 198.286 1522.67 Q198.286 1513.92 201.342 1509.34 Q204.42 1504.73 210.231 1504.73 Z\" fill=\"#000000\" fill-rule=\"evenodd\" fill-opacity=\"1\" /><path clip-path=\"url(#clip240)\" d=\"M 0 0 M642.542 1557.52 L658.861 1557.52 L658.861 1561.46 L636.917 1561.46 L636.917 1557.52 Q639.579 1554.77 644.162 1550.14 Q648.768 1545.48 649.949 1544.14 Q652.194 1541.62 653.074 1539.88 Q653.977 1538.12 653.977 1536.43 Q653.977 1533.68 652.032 1531.94 Q650.111 1530.21 647.009 1530.21 Q644.81 1530.21 642.356 1530.97 Q639.926 1531.73 637.148 1533.28 L637.148 1528.56 Q639.972 1527.43 642.426 1526.85 Q644.88 1526.27 646.917 1526.27 Q652.287 1526.27 655.481 1528.96 Q658.676 1531.64 658.676 1536.13 Q658.676 1538.26 657.866 1540.18 Q657.079 1542.08 654.972 1544.67 Q654.393 1545.34 651.292 1548.56 Q648.19 1551.76 642.542 1557.52 Z\" fill=\"#000000\" fill-rule=\"evenodd\" fill-opacity=\"1\" /><path clip-path=\"url(#clip240)\" d=\"M 0 0 M663.93 1555.58 L668.815 1555.58 L668.815 1561.46 L663.93 1561.46 L663.93 1555.58 Z\" fill=\"#000000\" fill-rule=\"evenodd\" fill-opacity=\"1\" /><path clip-path=\"url(#clip240)\" d=\"M 0 0 M673.93 1526.9 L692.287 1526.9 L692.287 1530.83 L678.213 1530.83 L678.213 1539.3 Q679.231 1538.96 680.25 1538.79 Q681.268 1538.61 682.287 1538.61 Q688.074 1538.61 691.453 1541.78 Q694.833 1544.95 694.833 1550.37 Q694.833 1555.95 691.361 1559.05 Q687.889 1562.13 681.569 1562.13 Q679.393 1562.13 677.125 1561.76 Q674.879 1561.39 672.472 1560.64 L672.472 1555.95 Q674.555 1557.08 676.778 1557.64 Q679 1558.19 681.477 1558.19 Q685.481 1558.19 687.819 1556.08 Q690.157 1553.98 690.157 1550.37 Q690.157 1546.76 687.819 1544.65 Q685.481 1542.54 681.477 1542.54 Q679.602 1542.54 677.727 1542.96 Q675.875 1543.38 673.93 1544.26 L673.93 1526.9 Z\" fill=\"#000000\" fill-rule=\"evenodd\" fill-opacity=\"1\" /><path clip-path=\"url(#clip240)\" d=\"M 0 0 M728.074 1535.99 L717.495 1546.62 L728.074 1557.2 L725.319 1560 L714.694 1549.37 L704.069 1560 L701.338 1557.2 L711.893 1546.62 L701.338 1535.99 L704.069 1533.19 L714.694 1543.82 L725.319 1533.19 L728.074 1535.99 Z\" fill=\"#000000\" fill-rule=\"evenodd\" fill-opacity=\"1\" /><path clip-path=\"url(#clip240)\" d=\"M 0 0 M733.953 1557.52 L741.592 1557.52 L741.592 1531.15 L733.282 1532.82 L733.282 1528.56 L741.546 1526.9 L746.222 1526.9 L746.222 1557.52 L753.861 1557.52 L753.861 1561.46 L733.953 1561.46 L733.953 1557.52 Z\" fill=\"#000000\" fill-rule=\"evenodd\" fill-opacity=\"1\" /><path clip-path=\"url(#clip240)\" d=\"M 0 0 M768.93 1529.97 Q765.319 1529.97 763.49 1533.54 Q761.685 1537.08 761.685 1544.21 Q761.685 1551.32 763.49 1554.88 Q765.319 1558.42 768.93 1558.42 Q772.564 1558.42 774.37 1554.88 Q776.198 1551.32 776.198 1544.21 Q776.198 1537.08 774.37 1533.54 Q772.564 1529.97 768.93 1529.97 M768.93 1526.27 Q774.74 1526.27 777.796 1530.88 Q780.874 1535.46 780.874 1544.21 Q780.874 1552.94 777.796 1557.54 Q774.74 1562.13 768.93 1562.13 Q763.12 1562.13 760.041 1557.54 Q756.986 1552.94 756.986 1544.21 Q756.986 1535.46 760.041 1530.88 Q763.12 1526.27 768.93 1526.27 Z\" fill=\"#000000\" fill-rule=\"evenodd\" fill-opacity=\"1\" /><path clip-path=\"url(#clip240)\" d=\"M 0 0 M780.874 1513.83 L796.052 1513.83 L796.052 1515.61 L780.874 1515.61 L780.874 1513.83 Z\" fill=\"#000000\" fill-rule=\"evenodd\" fill-opacity=\"1\" /><path clip-path=\"url(#clip240)\" d=\"M 0 0 M798.986 1519.41 L802.823 1519.41 L802.823 1507.92 L798.629 1508.69 L798.629 1506.51 L802.955 1505.78 L805.531 1505.78 L805.531 1519.41 L809.387 1519.41 L809.387 1521.48 L798.986 1521.48 L798.986 1519.41 Z\" fill=\"#000000\" fill-rule=\"evenodd\" fill-opacity=\"1\" /><path clip-path=\"url(#clip240)\" d=\"M 0 0 M818.358 1508.05 L812.547 1515.93 L818.358 1515.93 L818.358 1508.05 M817.944 1505.78 L821.066 1505.78 L821.066 1515.93 L823.606 1515.93 L823.606 1517.98 L821.066 1517.98 L821.066 1521.48 L818.358 1521.48 L818.358 1517.98 L810.572 1517.98 L810.572 1515.71 L817.944 1505.78 Z\" fill=\"#000000\" fill-rule=\"evenodd\" fill-opacity=\"1\" /><path clip-path=\"url(#clip240)\" d=\"M 0 0 M1157.7 1526.9 L1176.06 1526.9 L1176.06 1530.83 L1161.98 1530.83 L1161.98 1539.3 Q1163 1538.96 1164.02 1538.79 Q1165.04 1538.61 1166.06 1538.61 Q1171.84 1538.61 1175.22 1541.78 Q1178.6 1544.95 1178.6 1550.37 Q1178.6 1555.95 1175.13 1559.05 Q1171.66 1562.13 1165.34 1562.13 Q1163.16 1562.13 1160.89 1561.76 Q1158.65 1561.39 1156.24 1560.64 L1156.24 1555.95 Q1158.32 1557.08 1160.55 1557.64 Q1162.77 1558.19 1165.25 1558.19 Q1169.25 1558.19 1171.59 1556.08 Q1173.93 1553.98 1173.93 1550.37 Q1173.93 1546.76 1171.59 1544.65 Q1169.25 1542.54 1165.25 1542.54 Q1163.37 1542.54 1161.5 1542.96 Q1159.64 1543.38 1157.7 1544.26 L1157.7 1526.9 Z\" fill=\"#000000\" fill-rule=\"evenodd\" fill-opacity=\"1\" /><path clip-path=\"url(#clip240)\" d=\"M 0 0 M1183.67 1555.58 L1188.56 1555.58 L1188.56 1561.46 L1183.67 1561.46 L1183.67 1555.58 Z\" fill=\"#000000\" fill-rule=\"evenodd\" fill-opacity=\"1\" /><path clip-path=\"url(#clip240)\" d=\"M 0 0 M1203.63 1529.97 Q1200.01 1529.97 1198.19 1533.54 Q1196.38 1537.08 1196.38 1544.21 Q1196.38 1551.32 1198.19 1554.88 Q1200.01 1558.42 1203.63 1558.42 Q1207.26 1558.42 1209.07 1554.88 Q1210.89 1551.32 1210.89 1544.21 Q1210.89 1537.08 1209.07 1533.54 Q1207.26 1529.97 1203.63 1529.97 M1203.63 1526.27 Q1209.44 1526.27 1212.49 1530.88 Q1215.57 1535.46 1215.57 1544.21 Q1215.57 1552.94 1212.49 1557.54 Q1209.44 1562.13 1203.63 1562.13 Q1197.82 1562.13 1194.74 1557.54 Q1191.68 1552.94 1191.68 1544.21 Q1191.68 1535.46 1194.74 1530.88 Q1197.82 1526.27 1203.63 1526.27 Z\" fill=\"#000000\" fill-rule=\"evenodd\" fill-opacity=\"1\" /><path clip-path=\"url(#clip240)\" d=\"M 0 0 M1248.81 1535.99 L1238.23 1546.62 L1248.81 1557.2 L1246.06 1560 L1235.43 1549.37 L1224.81 1560 L1222.07 1557.2 L1232.63 1546.62 L1222.07 1535.99 L1224.81 1533.19 L1235.43 1543.82 L1246.06 1533.19 L1248.81 1535.99 Z\" fill=\"#000000\" fill-rule=\"evenodd\" fill-opacity=\"1\" /><path clip-path=\"url(#clip240)\" d=\"M 0 0 M1254.69 1557.52 L1262.33 1557.52 L1262.33 1531.15 L1254.02 1532.82 L1254.02 1528.56 L1262.28 1526.9 L1266.96 1526.9 L1266.96 1557.52 L1274.6 1557.52 L1274.6 1561.46 L1254.69 1561.46 L1254.69 1557.52 Z\" fill=\"#000000\" fill-rule=\"evenodd\" fill-opacity=\"1\" /><path clip-path=\"url(#clip240)\" d=\"M 0 0 M1289.67 1529.97 Q1286.06 1529.97 1284.23 1533.54 Q1282.42 1537.08 1282.42 1544.21 Q1282.42 1551.32 1284.23 1554.88 Q1286.06 1558.42 1289.67 1558.42 Q1293.3 1558.42 1295.11 1554.88 Q1296.93 1551.32 1296.93 1544.21 Q1296.93 1537.08 1295.11 1533.54 Q1293.3 1529.97 1289.67 1529.97 M1289.67 1526.27 Q1295.48 1526.27 1298.53 1530.88 Q1301.61 1535.46 1301.61 1544.21 Q1301.61 1552.94 1298.53 1557.54 Q1295.48 1562.13 1289.67 1562.13 Q1283.86 1562.13 1280.78 1557.54 Q1277.72 1552.94 1277.72 1544.21 Q1277.72 1535.46 1280.78 1530.88 Q1283.86 1526.27 1289.67 1526.27 Z\" fill=\"#000000\" fill-rule=\"evenodd\" fill-opacity=\"1\" /><path clip-path=\"url(#clip240)\" d=\"M 0 0 M1301.61 1513.83 L1316.79 1513.83 L1316.79 1515.61 L1301.61 1515.61 L1301.61 1513.83 Z\" fill=\"#000000\" fill-rule=\"evenodd\" fill-opacity=\"1\" /><path clip-path=\"url(#clip240)\" d=\"M 0 0 M1319.72 1519.41 L1323.56 1519.41 L1323.56 1507.92 L1319.37 1508.69 L1319.37 1506.51 L1323.69 1505.78 L1326.27 1505.78 L1326.27 1519.41 L1330.12 1519.41 L1330.12 1521.48 L1319.72 1521.48 L1319.72 1519.41 Z\" fill=\"#000000\" fill-rule=\"evenodd\" fill-opacity=\"1\" /><path clip-path=\"url(#clip240)\" d=\"M 0 0 M1339.09 1508.05 L1333.28 1515.93 L1339.09 1515.93 L1339.09 1508.05 M1338.68 1505.78 L1341.8 1505.78 L1341.8 1515.93 L1344.34 1515.93 L1344.34 1517.98 L1341.8 1517.98 L1341.8 1521.48 L1339.09 1521.48 L1339.09 1517.98 L1331.31 1517.98 L1331.31 1515.71 L1338.68 1505.78 Z\" fill=\"#000000\" fill-rule=\"evenodd\" fill-opacity=\"1\" /><path clip-path=\"url(#clip240)\" d=\"M 0 0 M1474.33 1526.9 L1496.55 1526.9 L1496.55 1528.89 L1484 1561.46 L1479.12 1561.46 L1490.93 1530.83 L1474.33 1530.83 L1474.33 1526.9 Z\" fill=\"#000000\" fill-rule=\"evenodd\" fill-opacity=\"1\" /><path clip-path=\"url(#clip240)\" d=\"M 0 0 M1501.62 1555.58 L1506.5 1555.58 L1506.5 1561.46 L1501.62 1561.46 L1501.62 1555.58 Z\" fill=\"#000000\" fill-rule=\"evenodd\" fill-opacity=\"1\" /><path clip-path=\"url(#clip240)\" d=\"M 0 0 M1511.62 1526.9 L1529.98 1526.9 L1529.98 1530.83 L1515.9 1530.83 L1515.9 1539.3 Q1516.92 1538.96 1517.94 1538.79 Q1518.96 1538.61 1519.98 1538.61 Q1525.76 1538.61 1529.14 1541.78 Q1532.52 1544.95 1532.52 1550.37 Q1532.52 1555.95 1529.05 1559.05 Q1525.58 1562.13 1519.26 1562.13 Q1517.08 1562.13 1514.81 1561.76 Q1512.57 1561.39 1510.16 1560.64 L1510.16 1555.95 Q1512.24 1557.08 1514.47 1557.64 Q1516.69 1558.19 1519.17 1558.19 Q1523.17 1558.19 1525.51 1556.08 Q1527.85 1553.98 1527.85 1550.37 Q1527.85 1546.76 1525.51 1544.65 Q1523.17 1542.54 1519.17 1542.54 Q1517.29 1542.54 1515.42 1542.96 Q1513.56 1543.38 1511.62 1544.26 L1511.62 1526.9 Z\" fill=\"#000000\" fill-rule=\"evenodd\" fill-opacity=\"1\" /><path clip-path=\"url(#clip240)\" d=\"M 0 0 M1547.59 1529.97 Q1543.98 1529.97 1542.15 1533.54 Q1540.35 1537.08 1540.35 1544.21 Q1540.35 1551.32 1542.15 1554.88 Q1543.98 1558.42 1547.59 1558.42 Q1551.23 1558.42 1553.03 1554.88 Q1554.86 1551.32 1554.86 1544.21 Q1554.86 1537.08 1553.03 1533.54 Q1551.23 1529.97 1547.59 1529.97 M1547.59 1526.27 Q1553.4 1526.27 1556.46 1530.88 Q1559.54 1535.46 1559.54 1544.21 Q1559.54 1552.94 1556.46 1557.54 Q1553.4 1562.13 1547.59 1562.13 Q1541.78 1562.13 1538.7 1557.54 Q1535.65 1552.94 1535.65 1544.21 Q1535.65 1535.46 1538.7 1530.88 Q1541.78 1526.27 1547.59 1526.27 Z\" fill=\"#000000\" fill-rule=\"evenodd\" fill-opacity=\"1\" /><path clip-path=\"url(#clip240)\" d=\"M 0 0 M1574.61 1529.97 Q1570.99 1529.97 1569.17 1533.54 Q1567.36 1537.08 1567.36 1544.21 Q1567.36 1551.32 1569.17 1554.88 Q1570.99 1558.42 1574.61 1558.42 Q1578.24 1558.42 1580.05 1554.88 Q1581.87 1551.32 1581.87 1544.21 Q1581.87 1537.08 1580.05 1533.54 Q1578.24 1529.97 1574.61 1529.97 M1574.61 1526.27 Q1580.42 1526.27 1583.47 1530.88 Q1586.55 1535.46 1586.55 1544.21 Q1586.55 1552.94 1583.47 1557.54 Q1580.42 1562.13 1574.61 1562.13 Q1568.8 1562.13 1565.72 1557.54 Q1562.66 1552.94 1562.66 1544.21 Q1562.66 1535.46 1565.72 1530.88 Q1568.8 1526.27 1574.61 1526.27 Z\" fill=\"#000000\" fill-rule=\"evenodd\" fill-opacity=\"1\" /><path clip-path=\"url(#clip240)\" d=\"M 0 0 M1601.62 1529.97 Q1598.01 1529.97 1596.18 1533.54 Q1594.37 1537.08 1594.37 1544.21 Q1594.37 1551.32 1596.18 1554.88 Q1598.01 1558.42 1601.62 1558.42 Q1605.25 1558.42 1607.06 1554.88 Q1608.89 1551.32 1608.89 1544.21 Q1608.89 1537.08 1607.06 1533.54 Q1605.25 1529.97 1601.62 1529.97 M1601.62 1526.27 Q1607.43 1526.27 1610.49 1530.88 Q1613.56 1535.46 1613.56 1544.21 Q1613.56 1552.94 1610.49 1557.54 Q1607.43 1562.13 1601.62 1562.13 Q1595.81 1562.13 1592.73 1557.54 Q1589.68 1552.94 1589.68 1544.21 Q1589.68 1535.46 1592.73 1530.88 Q1595.81 1526.27 1601.62 1526.27 Z\" fill=\"#000000\" fill-rule=\"evenodd\" fill-opacity=\"1\" /><path clip-path=\"url(#clip240)\" d=\"M 0 0 M1628.63 1529.97 Q1625.02 1529.97 1623.19 1533.54 Q1621.39 1537.08 1621.39 1544.21 Q1621.39 1551.32 1623.19 1554.88 Q1625.02 1558.42 1628.63 1558.42 Q1632.27 1558.42 1634.07 1554.88 Q1635.9 1551.32 1635.9 1544.21 Q1635.9 1537.08 1634.07 1533.54 Q1632.27 1529.97 1628.63 1529.97 M1628.63 1526.27 Q1634.44 1526.27 1637.5 1530.88 Q1640.58 1535.46 1640.58 1544.21 Q1640.58 1552.94 1637.5 1557.54 Q1634.44 1562.13 1628.63 1562.13 Q1622.82 1562.13 1619.74 1557.54 Q1616.69 1552.94 1616.69 1544.21 Q1616.69 1535.46 1619.74 1530.88 Q1622.82 1526.27 1628.63 1526.27 Z\" fill=\"#000000\" fill-rule=\"evenodd\" fill-opacity=\"1\" /><path clip-path=\"url(#clip240)\" d=\"M 0 0 M1655.65 1529.97 Q1652.04 1529.97 1650.21 1533.54 Q1648.4 1537.08 1648.4 1544.21 Q1648.4 1551.32 1650.21 1554.88 Q1652.04 1558.42 1655.65 1558.42 Q1659.28 1558.42 1661.09 1554.88 Q1662.92 1551.32 1662.92 1544.21 Q1662.92 1537.08 1661.09 1533.54 Q1659.28 1529.97 1655.65 1529.97 M1655.65 1526.27 Q1661.46 1526.27 1664.51 1530.88 Q1667.59 1535.46 1667.59 1544.21 Q1667.59 1552.94 1664.51 1557.54 Q1661.46 1562.13 1655.65 1562.13 Q1649.84 1562.13 1646.76 1557.54 Q1643.7 1552.94 1643.7 1544.21 Q1643.7 1535.46 1646.76 1530.88 Q1649.84 1526.27 1655.65 1526.27 Z\" fill=\"#000000\" fill-rule=\"evenodd\" fill-opacity=\"1\" /><path clip-path=\"url(#clip240)\" d=\"M 0 0 M1682.66 1529.97 Q1679.05 1529.97 1677.22 1533.54 Q1675.42 1537.08 1675.42 1544.21 Q1675.42 1551.32 1677.22 1554.88 Q1679.05 1558.42 1682.66 1558.42 Q1686.29 1558.42 1688.1 1554.88 Q1689.93 1551.32 1689.93 1544.21 Q1689.93 1537.08 1688.1 1533.54 Q1686.29 1529.97 1682.66 1529.97 M1682.66 1526.27 Q1688.47 1526.27 1691.53 1530.88 Q1694.61 1535.46 1694.61 1544.21 Q1694.61 1552.94 1691.53 1557.54 Q1688.47 1562.13 1682.66 1562.13 Q1676.85 1562.13 1673.77 1557.54 Q1670.72 1552.94 1670.72 1544.21 Q1670.72 1535.46 1673.77 1530.88 Q1676.85 1526.27 1682.66 1526.27 Z\" fill=\"#000000\" fill-rule=\"evenodd\" fill-opacity=\"1\" /><path clip-path=\"url(#clip240)\" d=\"M 0 0 M1709.67 1529.97 Q1706.06 1529.97 1704.23 1533.54 Q1702.43 1537.08 1702.43 1544.21 Q1702.43 1551.32 1704.23 1554.88 Q1706.06 1558.42 1709.67 1558.42 Q1713.31 1558.42 1715.11 1554.88 Q1716.94 1551.32 1716.94 1544.21 Q1716.94 1537.08 1715.11 1533.54 Q1713.31 1529.97 1709.67 1529.97 M1709.67 1526.27 Q1715.48 1526.27 1718.54 1530.88 Q1721.62 1535.46 1721.62 1544.21 Q1721.62 1552.94 1718.54 1557.54 Q1715.48 1562.13 1709.67 1562.13 Q1703.86 1562.13 1700.79 1557.54 Q1697.73 1552.94 1697.73 1544.21 Q1697.73 1535.46 1700.79 1530.88 Q1703.86 1526.27 1709.67 1526.27 Z\" fill=\"#000000\" fill-rule=\"evenodd\" fill-opacity=\"1\" /><path clip-path=\"url(#clip240)\" d=\"M 0 0 M1736.69 1529.97 Q1733.08 1529.97 1731.25 1533.54 Q1729.44 1537.08 1729.44 1544.21 Q1729.44 1551.32 1731.25 1554.88 Q1733.08 1558.42 1736.69 1558.42 Q1740.32 1558.42 1742.13 1554.88 Q1743.96 1551.32 1743.96 1544.21 Q1743.96 1537.08 1742.13 1533.54 Q1740.32 1529.97 1736.69 1529.97 M1736.69 1526.27 Q1742.5 1526.27 1745.55 1530.88 Q1748.63 1535.46 1748.63 1544.21 Q1748.63 1552.94 1745.55 1557.54 Q1742.5 1562.13 1736.69 1562.13 Q1730.88 1562.13 1727.8 1557.54 Q1724.74 1552.94 1724.74 1544.21 Q1724.74 1535.46 1727.8 1530.88 Q1730.88 1526.27 1736.69 1526.27 Z\" fill=\"#000000\" fill-rule=\"evenodd\" fill-opacity=\"1\" /><path clip-path=\"url(#clip240)\" d=\"M 0 0 M1763.7 1529.97 Q1760.09 1529.97 1758.26 1533.54 Q1756.46 1537.08 1756.46 1544.21 Q1756.46 1551.32 1758.26 1554.88 Q1760.09 1558.42 1763.7 1558.42 Q1767.34 1558.42 1769.14 1554.88 Q1770.97 1551.32 1770.97 1544.21 Q1770.97 1537.08 1769.14 1533.54 Q1767.34 1529.97 1763.7 1529.97 M1763.7 1526.27 Q1769.51 1526.27 1772.57 1530.88 Q1775.65 1535.46 1775.65 1544.21 Q1775.65 1552.94 1772.57 1557.54 Q1769.51 1562.13 1763.7 1562.13 Q1757.89 1562.13 1754.81 1557.54 Q1751.76 1552.94 1751.76 1544.21 Q1751.76 1535.46 1754.81 1530.88 Q1757.89 1526.27 1763.7 1526.27 Z\" fill=\"#000000\" fill-rule=\"evenodd\" fill-opacity=\"1\" /><path clip-path=\"url(#clip240)\" d=\"M 0 0 M1790.72 1529.97 Q1787.1 1529.97 1785.28 1533.54 Q1783.47 1537.08 1783.47 1544.21 Q1783.47 1551.32 1785.28 1554.88 Q1787.1 1558.42 1790.72 1558.42 Q1794.35 1558.42 1796.16 1554.88 Q1797.98 1551.32 1797.98 1544.21 Q1797.98 1537.08 1796.16 1533.54 Q1794.35 1529.97 1790.72 1529.97 M1790.72 1526.27 Q1796.53 1526.27 1799.58 1530.88 Q1802.66 1535.46 1802.66 1544.21 Q1802.66 1552.94 1799.58 1557.54 Q1796.53 1562.13 1790.72 1562.13 Q1784.91 1562.13 1781.83 1557.54 Q1778.77 1552.94 1778.77 1544.21 Q1778.77 1535.46 1781.83 1530.88 Q1784.91 1526.27 1790.72 1526.27 Z\" fill=\"#000000\" fill-rule=\"evenodd\" fill-opacity=\"1\" /><path clip-path=\"url(#clip240)\" d=\"M 0 0 M1817.73 1529.97 Q1814.12 1529.97 1812.29 1533.54 Q1810.48 1537.08 1810.48 1544.21 Q1810.48 1551.32 1812.29 1554.88 Q1814.12 1558.42 1817.73 1558.42 Q1821.36 1558.42 1823.17 1554.88 Q1825 1551.32 1825 1544.21 Q1825 1537.08 1823.17 1533.54 Q1821.36 1529.97 1817.73 1529.97 M1817.73 1526.27 Q1823.54 1526.27 1826.6 1530.88 Q1829.67 1535.46 1829.67 1544.21 Q1829.67 1552.94 1826.6 1557.54 Q1823.54 1562.13 1817.73 1562.13 Q1811.92 1562.13 1808.84 1557.54 Q1805.79 1552.94 1805.79 1544.21 Q1805.79 1535.46 1808.84 1530.88 Q1811.92 1526.27 1817.73 1526.27 Z\" fill=\"#000000\" fill-rule=\"evenodd\" fill-opacity=\"1\" /><path clip-path=\"url(#clip240)\" d=\"M 0 0 M1844.74 1529.97 Q1841.13 1529.97 1839.3 1533.54 Q1837.5 1537.08 1837.5 1544.21 Q1837.5 1551.32 1839.3 1554.88 Q1841.13 1558.42 1844.74 1558.42 Q1848.38 1558.42 1850.18 1554.88 Q1852.01 1551.32 1852.01 1544.21 Q1852.01 1537.08 1850.18 1533.54 Q1848.38 1529.97 1844.74 1529.97 M1844.74 1526.27 Q1850.55 1526.27 1853.61 1530.88 Q1856.69 1535.46 1856.69 1544.21 Q1856.69 1552.94 1853.61 1557.54 Q1850.55 1562.13 1844.74 1562.13 Q1838.93 1562.13 1835.85 1557.54 Q1832.8 1552.94 1832.8 1544.21 Q1832.8 1535.46 1835.85 1530.88 Q1838.93 1526.27 1844.74 1526.27 Z\" fill=\"#000000\" fill-rule=\"evenodd\" fill-opacity=\"1\" /><path clip-path=\"url(#clip240)\" d=\"M 0 0 M1871.76 1529.97 Q1868.15 1529.97 1866.32 1533.54 Q1864.51 1537.08 1864.51 1544.21 Q1864.51 1551.32 1866.32 1554.88 Q1868.15 1558.42 1871.76 1558.42 Q1875.39 1558.42 1877.2 1554.88 Q1879.03 1551.32 1879.03 1544.21 Q1879.03 1537.08 1877.2 1533.54 Q1875.39 1529.97 1871.76 1529.97 M1871.76 1526.27 Q1877.57 1526.27 1880.62 1530.88 Q1883.7 1535.46 1883.7 1544.21 Q1883.7 1552.94 1880.62 1557.54 Q1877.57 1562.13 1871.76 1562.13 Q1865.95 1562.13 1862.87 1557.54 Q1859.81 1552.94 1859.81 1544.21 Q1859.81 1535.46 1862.87 1530.88 Q1865.95 1526.27 1871.76 1526.27 Z\" fill=\"#000000\" fill-rule=\"evenodd\" fill-opacity=\"1\" /><path clip-path=\"url(#clip240)\" d=\"M 0 0 M1898.77 1529.97 Q1895.16 1529.97 1893.33 1533.54 Q1891.53 1537.08 1891.53 1544.21 Q1891.53 1551.32 1893.33 1554.88 Q1895.16 1558.42 1898.77 1558.42 Q1902.4 1558.42 1904.21 1554.88 Q1906.04 1551.32 1906.04 1544.21 Q1906.04 1537.08 1904.21 1533.54 Q1902.4 1529.97 1898.77 1529.97 M1898.77 1526.27 Q1904.58 1526.27 1907.64 1530.88 Q1910.72 1535.46 1910.72 1544.21 Q1910.72 1552.94 1907.64 1557.54 Q1904.58 1562.13 1898.77 1562.13 Q1892.96 1562.13 1889.88 1557.54 Q1886.83 1552.94 1886.83 1544.21 Q1886.83 1535.46 1889.88 1530.88 Q1892.96 1526.27 1898.77 1526.27 Z\" fill=\"#000000\" fill-rule=\"evenodd\" fill-opacity=\"1\" /><path clip-path=\"url(#clip240)\" d=\"M 0 0 M1915.92 1560.74 L1915.92 1556.48 Q1917.68 1557.31 1919.49 1557.75 Q1921.29 1558.19 1923.03 1558.19 Q1927.66 1558.19 1930.09 1555.09 Q1932.54 1551.96 1932.89 1545.62 Q1931.55 1547.61 1929.49 1548.68 Q1927.43 1549.74 1924.93 1549.74 Q1919.74 1549.74 1916.71 1546.62 Q1913.7 1543.47 1913.7 1538.03 Q1913.7 1532.71 1916.85 1529.49 Q1920 1526.27 1925.23 1526.27 Q1931.22 1526.27 1934.37 1530.88 Q1937.54 1535.46 1937.54 1544.21 Q1937.54 1552.38 1933.65 1557.27 Q1929.79 1562.13 1923.24 1562.13 Q1921.48 1562.13 1919.67 1561.78 Q1917.87 1561.43 1915.92 1560.74 M1925.23 1546.08 Q1928.38 1546.08 1930.21 1543.93 Q1932.06 1541.78 1932.06 1538.03 Q1932.06 1534.3 1930.21 1532.15 Q1928.38 1529.97 1925.23 1529.97 Q1922.08 1529.97 1920.23 1532.15 Q1918.4 1534.3 1918.4 1538.03 Q1918.4 1541.78 1920.23 1543.93 Q1922.08 1546.08 1925.23 1546.08 Z\" fill=\"#000000\" fill-rule=\"evenodd\" fill-opacity=\"1\" /><path clip-path=\"url(#clip240)\" d=\"M 0 0 M1970.78 1535.99 L1960.21 1546.62 L1970.78 1557.2 L1968.03 1560 L1957.4 1549.37 L1946.78 1560 L1944.05 1557.2 L1954.6 1546.62 L1944.05 1535.99 L1946.78 1533.19 L1957.4 1543.82 L1968.03 1533.19 L1970.78 1535.99 Z\" fill=\"#000000\" fill-rule=\"evenodd\" fill-opacity=\"1\" /><path clip-path=\"url(#clip240)\" d=\"M 0 0 M1976.66 1557.52 L1984.3 1557.52 L1984.3 1531.15 L1975.99 1532.82 L1975.99 1528.56 L1984.26 1526.9 L1988.93 1526.9 L1988.93 1557.52 L1996.57 1557.52 L1996.57 1561.46 L1976.66 1561.46 L1976.66 1557.52 Z\" fill=\"#000000\" fill-rule=\"evenodd\" fill-opacity=\"1\" /><path clip-path=\"url(#clip240)\" d=\"M 0 0 M2011.64 1529.97 Q2008.03 1529.97 2006.2 1533.54 Q2004.4 1537.08 2004.4 1544.21 Q2004.4 1551.32 2006.2 1554.88 Q2008.03 1558.42 2011.64 1558.42 Q2015.27 1558.42 2017.08 1554.88 Q2018.91 1551.32 2018.91 1544.21 Q2018.91 1537.08 2017.08 1533.54 Q2015.27 1529.97 2011.64 1529.97 M2011.64 1526.27 Q2017.45 1526.27 2020.51 1530.88 Q2023.58 1535.46 2023.58 1544.21 Q2023.58 1552.94 2020.51 1557.54 Q2017.45 1562.13 2011.64 1562.13 Q2005.83 1562.13 2002.75 1557.54 Q1999.7 1552.94 1999.7 1544.21 Q1999.7 1535.46 2002.75 1530.88 Q2005.83 1526.27 2011.64 1526.27 Z\" fill=\"#000000\" fill-rule=\"evenodd\" fill-opacity=\"1\" /><path clip-path=\"url(#clip240)\" d=\"M 0 0 M2023.58 1513.83 L2038.76 1513.83 L2038.76 1515.61 L2023.58 1515.61 L2023.58 1513.83 Z\" fill=\"#000000\" fill-rule=\"evenodd\" fill-opacity=\"1\" /><path clip-path=\"url(#clip240)\" d=\"M 0 0 M2041.7 1519.41 L2045.53 1519.41 L2045.53 1507.92 L2041.34 1508.69 L2041.34 1506.51 L2045.67 1505.78 L2048.24 1505.78 L2048.24 1519.41 L2052.1 1519.41 L2052.1 1521.48 L2041.7 1521.48 L2041.7 1519.41 Z\" fill=\"#000000\" fill-rule=\"evenodd\" fill-opacity=\"1\" /><path clip-path=\"url(#clip240)\" d=\"M 0 0 M2061.07 1508.05 L2055.26 1515.93 L2061.07 1515.93 L2061.07 1508.05 M2060.65 1505.78 L2063.78 1505.78 L2063.78 1515.93 L2066.32 1515.93 L2066.32 1517.98 L2063.78 1517.98 L2063.78 1521.48 L2061.07 1521.48 L2061.07 1517.98 L2053.28 1517.98 L2053.28 1515.71 L2060.65 1505.78 Z\" fill=\"#000000\" fill-rule=\"evenodd\" fill-opacity=\"1\" /><path clip-path=\"url(#clip240)\" d=\"M 0 0 M2198.23 1557.52 L2205.87 1557.52 L2205.87 1531.15 L2197.56 1532.82 L2197.56 1528.56 L2205.82 1526.9 L2210.5 1526.9 L2210.5 1557.52 L2218.14 1557.52 L2218.14 1561.46 L2198.23 1561.46 L2198.23 1557.52 Z\" fill=\"#000000\" fill-rule=\"evenodd\" fill-opacity=\"1\" /><path clip-path=\"url(#clip240)\" d=\"M 0 0 M2223.21 1555.58 L2228.09 1555.58 L2228.09 1561.46 L2223.21 1561.46 L2223.21 1555.58 Z\" fill=\"#000000\" fill-rule=\"evenodd\" fill-opacity=\"1\" /><path clip-path=\"url(#clip240)\" d=\"M 0 0 M2243.16 1529.97 Q2239.55 1529.97 2237.72 1533.54 Q2235.92 1537.08 2235.92 1544.21 Q2235.92 1551.32 2237.72 1554.88 Q2239.55 1558.42 2243.16 1558.42 Q2246.8 1558.42 2248.6 1554.88 Q2250.43 1551.32 2250.43 1544.21 Q2250.43 1537.08 2248.6 1533.54 Q2246.8 1529.97 2243.16 1529.97 M2243.16 1526.27 Q2248.97 1526.27 2252.03 1530.88 Q2255.11 1535.46 2255.11 1544.21 Q2255.11 1552.94 2252.03 1557.54 Q2248.97 1562.13 2243.16 1562.13 Q2237.35 1562.13 2234.27 1557.54 Q2231.22 1552.94 2231.22 1544.21 Q2231.22 1535.46 2234.27 1530.88 Q2237.35 1526.27 2243.16 1526.27 Z\" fill=\"#000000\" fill-rule=\"evenodd\" fill-opacity=\"1\" /><path clip-path=\"url(#clip240)\" d=\"M 0 0 M2288.35 1535.99 L2277.77 1546.62 L2288.35 1557.2 L2285.59 1560 L2274.97 1549.37 L2264.34 1560 L2261.61 1557.2 L2272.17 1546.62 L2261.61 1535.99 L2264.34 1533.19 L2274.97 1543.82 L2285.59 1533.19 L2288.35 1535.99 Z\" fill=\"#000000\" fill-rule=\"evenodd\" fill-opacity=\"1\" /><path clip-path=\"url(#clip240)\" d=\"M 0 0 M2294.23 1557.52 L2301.87 1557.52 L2301.87 1531.15 L2293.56 1532.82 L2293.56 1528.56 L2301.82 1526.9 L2306.49 1526.9 L2306.49 1557.52 L2314.13 1557.52 L2314.13 1561.46 L2294.23 1561.46 L2294.23 1557.52 Z\" fill=\"#000000\" fill-rule=\"evenodd\" fill-opacity=\"1\" /><path clip-path=\"url(#clip240)\" d=\"M 0 0 M2329.2 1529.97 Q2325.59 1529.97 2323.76 1533.54 Q2321.96 1537.08 2321.96 1544.21 Q2321.96 1551.32 2323.76 1554.88 Q2325.59 1558.42 2329.2 1558.42 Q2332.84 1558.42 2334.64 1554.88 Q2336.47 1551.32 2336.47 1544.21 Q2336.47 1537.08 2334.64 1533.54 Q2332.84 1529.97 2329.2 1529.97 M2329.2 1526.27 Q2335.01 1526.27 2338.07 1530.88 Q2341.15 1535.46 2341.15 1544.21 Q2341.15 1552.94 2338.07 1557.54 Q2335.01 1562.13 2329.2 1562.13 Q2323.39 1562.13 2320.31 1557.54 Q2317.26 1552.94 2317.26 1544.21 Q2317.26 1535.46 2320.31 1530.88 Q2323.39 1526.27 2329.2 1526.27 Z\" fill=\"#000000\" fill-rule=\"evenodd\" fill-opacity=\"1\" /><path clip-path=\"url(#clip240)\" d=\"M 0 0 M2341.15 1513.83 L2356.33 1513.83 L2356.33 1515.61 L2341.15 1515.61 L2341.15 1513.83 Z\" fill=\"#000000\" fill-rule=\"evenodd\" fill-opacity=\"1\" /><path clip-path=\"url(#clip240)\" d=\"M 0 0 M2359.26 1519.41 L2363.1 1519.41 L2363.1 1507.92 L2358.9 1508.69 L2358.9 1506.51 L2363.23 1505.78 L2365.8 1505.78 L2365.8 1519.41 L2369.66 1519.41 L2369.66 1521.48 L2359.26 1521.48 L2359.26 1519.41 Z\" fill=\"#000000\" fill-rule=\"evenodd\" fill-opacity=\"1\" /><path clip-path=\"url(#clip240)\" d=\"M 0 0 M2379.52 1512.98 Q2381.25 1513.32 2382.19 1514.35 Q2383.15 1515.37 2383.15 1516.91 Q2383.15 1519.24 2381.36 1520.5 Q2379.57 1521.76 2376.24 1521.76 Q2375.17 1521.76 2373.99 1521.58 Q2372.82 1521.37 2371.5 1520.99 L2371.5 1518.72 Q2372.48 1519.22 2373.59 1519.47 Q2374.72 1519.71 2375.98 1519.71 Q2378.03 1519.71 2379.16 1518.98 Q2380.29 1518.23 2380.29 1516.91 Q2380.29 1515.52 2379.23 1514.8 Q2378.2 1514.09 2376.17 1514.09 L2374.55 1514.09 L2374.55 1512.06 L2376.32 1512.06 Q2378.09 1512.06 2378.99 1511.48 Q2379.91 1510.87 2379.91 1509.75 Q2379.91 1508.65 2378.97 1508.09 Q2378.03 1507.51 2376.24 1507.51 Q2375.49 1507.51 2374.53 1507.68 Q2373.57 1507.85 2372.05 1508.28 L2372.05 1506.12 Q2373.42 1505.8 2374.63 1505.63 Q2375.83 1505.46 2376.86 1505.46 Q2379.57 1505.46 2381.15 1506.57 Q2382.75 1507.68 2382.75 1509.54 Q2382.75 1510.84 2381.9 1511.74 Q2381.06 1512.64 2379.52 1512.98 Z\" fill=\"#000000\" fill-rule=\"evenodd\" fill-opacity=\"1\" /><path clip-path=\"url(#clip240)\" d=\"M 0 0 M74.9365 1431.64 Q71.3254 1431.64 69.4967 1435.21 Q67.6912 1438.75 67.6912 1445.88 Q67.6912 1452.99 69.4967 1456.55 Q71.3254 1460.09 74.9365 1460.09 Q78.5707 1460.09 80.3763 1456.55 Q82.205 1452.99 82.205 1445.88 Q82.205 1438.75 80.3763 1435.21 Q78.5707 1431.64 74.9365 1431.64 M74.9365 1427.94 Q80.7467 1427.94 83.8022 1432.55 Q86.8809 1437.13 86.8809 1445.88 Q86.8809 1454.61 83.8022 1459.21 Q80.7467 1463.8 74.9365 1463.8 Q69.1264 1463.8 66.0477 1459.21 Q62.9921 1454.61 62.9921 1445.88 Q62.9921 1437.13 66.0477 1432.55 Q69.1264 1427.94 74.9365 1427.94 Z\" fill=\"#000000\" fill-rule=\"evenodd\" fill-opacity=\"1\" /><path clip-path=\"url(#clip240)\" d=\"M 0 0 M91.9503 1457.25 L96.8345 1457.25 L96.8345 1463.13 L91.9503 1463.13 L91.9503 1457.25 Z\" fill=\"#000000\" fill-rule=\"evenodd\" fill-opacity=\"1\" /><path clip-path=\"url(#clip240)\" d=\"M 0 0 M111.904 1431.64 Q108.293 1431.64 106.464 1435.21 Q104.659 1438.75 104.659 1445.88 Q104.659 1452.99 106.464 1456.55 Q108.293 1460.09 111.904 1460.09 Q115.538 1460.09 117.344 1456.55 Q119.172 1452.99 119.172 1445.88 Q119.172 1438.75 117.344 1435.21 Q115.538 1431.64 111.904 1431.64 M111.904 1427.94 Q117.714 1427.94 120.77 1432.55 Q123.848 1437.13 123.848 1445.88 Q123.848 1454.61 120.77 1459.21 Q117.714 1463.8 111.904 1463.8 Q106.094 1463.8 103.015 1459.21 Q99.9595 1454.61 99.9595 1445.88 Q99.9595 1437.13 103.015 1432.55 Q106.094 1427.94 111.904 1427.94 Z\" fill=\"#000000\" fill-rule=\"evenodd\" fill-opacity=\"1\" /><path clip-path=\"url(#clip240)\" d=\"M 0 0 M75.9319 1092.18 Q72.3208 1092.18 70.4921 1095.74 Q68.6865 1099.28 68.6865 1106.41 Q68.6865 1113.52 70.4921 1117.08 Q72.3208 1120.63 75.9319 1120.63 Q79.5661 1120.63 81.3717 1117.08 Q83.2004 1113.52 83.2004 1106.41 Q83.2004 1099.28 81.3717 1095.74 Q79.5661 1092.18 75.9319 1092.18 M75.9319 1088.47 Q81.742 1088.47 84.7976 1093.08 Q87.8763 1097.66 87.8763 1106.41 Q87.8763 1115.14 84.7976 1119.75 Q81.742 1124.33 75.9319 1124.33 Q70.1217 1124.33 67.043 1119.75 Q63.9875 1115.14 63.9875 1106.41 Q63.9875 1097.66 67.043 1093.08 Q70.1217 1088.47 75.9319 1088.47 Z\" fill=\"#000000\" fill-rule=\"evenodd\" fill-opacity=\"1\" /><path clip-path=\"url(#clip240)\" d=\"M 0 0 M92.9457 1117.78 L97.8299 1117.78 L97.8299 1123.66 L92.9457 1123.66 L92.9457 1117.78 Z\" fill=\"#000000\" fill-rule=\"evenodd\" fill-opacity=\"1\" /><path clip-path=\"url(#clip240)\" d=\"M 0 0 M102.946 1089.1 L121.302 1089.1 L121.302 1093.03 L107.228 1093.03 L107.228 1101.51 Q108.247 1101.16 109.265 1101 Q110.284 1100.81 111.302 1100.81 Q117.089 1100.81 120.469 1103.98 Q123.848 1107.15 123.848 1112.57 Q123.848 1118.15 120.376 1121.25 Q116.904 1124.33 110.584 1124.33 Q108.409 1124.33 106.14 1123.96 Q103.895 1123.59 101.487 1122.85 L101.487 1118.15 Q103.571 1119.28 105.793 1119.84 Q108.015 1120.39 110.492 1120.39 Q114.496 1120.39 116.834 1118.29 Q119.172 1116.18 119.172 1112.57 Q119.172 1108.96 116.834 1106.85 Q114.496 1104.75 110.492 1104.75 Q108.617 1104.75 106.742 1105.16 Q104.89 1105.58 102.946 1106.46 L102.946 1089.1 Z\" fill=\"#000000\" fill-rule=\"evenodd\" fill-opacity=\"1\" /><path clip-path=\"url(#clip240)\" d=\"M 0 0 M66.9736 780.256 L74.6124 780.256 L74.6124 753.89 L66.3023 755.557 L66.3023 751.298 L74.5661 749.631 L79.242 749.631 L79.242 780.256 L86.8809 780.256 L86.8809 784.191 L66.9736 784.191 L66.9736 780.256 Z\" fill=\"#000000\" fill-rule=\"evenodd\" fill-opacity=\"1\" /><path clip-path=\"url(#clip240)\" d=\"M 0 0 M91.9503 778.311 L96.8345 778.311 L96.8345 784.191 L91.9503 784.191 L91.9503 778.311 Z\" fill=\"#000000\" fill-rule=\"evenodd\" fill-opacity=\"1\" /><path clip-path=\"url(#clip240)\" d=\"M 0 0 M111.904 752.71 Q108.293 752.71 106.464 756.274 Q104.659 759.816 104.659 766.946 Q104.659 774.052 106.464 777.617 Q108.293 781.159 111.904 781.159 Q115.538 781.159 117.344 777.617 Q119.172 774.052 119.172 766.946 Q119.172 759.816 117.344 756.274 Q115.538 752.71 111.904 752.71 M111.904 749.006 Q117.714 749.006 120.77 753.612 Q123.848 758.196 123.848 766.946 Q123.848 775.672 120.77 780.279 Q117.714 784.862 111.904 784.862 Q106.094 784.862 103.015 780.279 Q99.9595 775.672 99.9595 766.946 Q99.9595 758.196 103.015 753.612 Q106.094 749.006 111.904 749.006 Z\" fill=\"#000000\" fill-rule=\"evenodd\" fill-opacity=\"1\" /><path clip-path=\"url(#clip240)\" d=\"M 0 0 M67.969 440.788 L75.6078 440.788 L75.6078 414.423 L67.2977 416.09 L67.2977 411.83 L75.5615 410.164 L80.2374 410.164 L80.2374 440.788 L87.8763 440.788 L87.8763 444.724 L67.969 444.724 L67.969 440.788 Z\" fill=\"#000000\" fill-rule=\"evenodd\" fill-opacity=\"1\" /><path clip-path=\"url(#clip240)\" d=\"M 0 0 M92.9457 438.844 L97.8299 438.844 L97.8299 444.724 L92.9457 444.724 L92.9457 438.844 Z\" fill=\"#000000\" fill-rule=\"evenodd\" fill-opacity=\"1\" /><path clip-path=\"url(#clip240)\" d=\"M 0 0 M102.946 410.164 L121.302 410.164 L121.302 414.099 L107.228 414.099 L107.228 422.571 Q108.247 422.224 109.265 422.062 Q110.284 421.877 111.302 421.877 Q117.089 421.877 120.469 425.048 Q123.848 428.219 123.848 433.636 Q123.848 439.214 120.376 442.316 Q116.904 445.395 110.584 445.395 Q108.409 445.395 106.14 445.025 Q103.895 444.654 101.487 443.913 L101.487 439.214 Q103.571 440.349 105.793 440.904 Q108.015 441.46 110.492 441.46 Q114.496 441.46 116.834 439.353 Q119.172 437.247 119.172 433.636 Q119.172 430.025 116.834 427.918 Q114.496 425.812 110.492 425.812 Q108.617 425.812 106.742 426.228 Q104.89 426.645 102.946 427.525 L102.946 410.164 Z\" fill=\"#000000\" fill-rule=\"evenodd\" fill-opacity=\"1\" /><path clip-path=\"url(#clip240)\" d=\"M 0 0 M70.5615 101.321 L86.8809 101.321 L86.8809 105.256 L64.9366 105.256 L64.9366 101.321 Q67.5986 98.5665 72.1819 93.9369 Q76.7883 89.2841 77.9689 87.9416 Q80.2143 85.4184 81.0939 83.6823 Q81.9967 81.9231 81.9967 80.2333 Q81.9967 77.4786 80.0522 75.7425 Q78.1309 74.0064 75.0291 74.0064 Q72.83 74.0064 70.3763 74.7703 Q67.9458 75.5342 65.168 77.0851 L65.168 72.3629 Q67.9921 71.2287 70.4458 70.65 Q72.8995 70.0713 74.9365 70.0713 Q80.3068 70.0713 83.5013 72.7565 Q86.6957 75.4416 86.6957 79.9323 Q86.6957 82.062 85.8855 83.9832 Q85.0985 85.8814 82.992 88.474 Q82.4133 89.1453 79.3115 92.3628 Q76.2096 95.5573 70.5615 101.321 Z\" fill=\"#000000\" fill-rule=\"evenodd\" fill-opacity=\"1\" /><path clip-path=\"url(#clip240)\" d=\"M 0 0 M91.9503 99.3767 L96.8345 99.3767 L96.8345 105.256 L91.9503 105.256 L91.9503 99.3767 Z\" fill=\"#000000\" fill-rule=\"evenodd\" fill-opacity=\"1\" /><path clip-path=\"url(#clip240)\" d=\"M 0 0 M111.904 73.775 Q108.293 73.775 106.464 77.3398 Q104.659 80.8814 104.659 88.011 Q104.659 95.1174 106.464 98.6822 Q108.293 102.224 111.904 102.224 Q115.538 102.224 117.344 98.6822 Q119.172 95.1174 119.172 88.011 Q119.172 80.8814 117.344 77.3398 Q115.538 73.775 111.904 73.775 M111.904 70.0713 Q117.714 70.0713 120.77 74.6777 Q123.848 79.261 123.848 88.011 Q123.848 96.7378 120.77 101.344 Q117.714 105.928 111.904 105.928 Q106.094 105.928 103.015 101.344 Q99.9595 96.7378 99.9595 88.011 Q99.9595 79.261 103.015 74.6777 Q106.094 70.0713 111.904 70.0713 Z\" fill=\"#000000\" fill-rule=\"evenodd\" fill-opacity=\"1\" /><polyline clip-path=\"url(#clip242)\" style=\"stroke:#009af9; stroke-width:4; stroke-opacity:1; fill:none\" points=\"\n",
       "  210.251,87.9763 230.565,1398.78 418.397,1432.87 531.275,1445.68 626.713,1443.27 730.385,1438.21 825.961,1443.91 928.429,1441.53 1047.15,1443.58 1152.65,1445.58 \n",
       "  1245.17,1445.42 1346.04,1445.35 1447.51,1445.23 1559.69,1445.07 1666.43,1444.65 1777.42,1444.62 1870.85,1445.72 1984.91,1445.03 2092.14,1444.36 2263.92,1443.97 \n",
       "  2290.35,1445.51 \n",
       "  \"/>\n",
       "<path clip-path=\"url(#clip240)\" d=\"\n",
       "M1983.25 216.178 L2279.26 216.178 L2279.26 95.2176 L1983.25 95.2176  Z\n",
       "  \" fill=\"#ffffff\" fill-rule=\"evenodd\" fill-opacity=\"1\"/>\n",
       "<polyline clip-path=\"url(#clip240)\" style=\"stroke:#000000; stroke-width:4; stroke-opacity:1; fill:none\" points=\"\n",
       "  1983.25,216.178 2279.26,216.178 2279.26,95.2176 1983.25,95.2176 1983.25,216.178 \n",
       "  \"/>\n",
       "<polyline clip-path=\"url(#clip240)\" style=\"stroke:#009af9; stroke-width:4; stroke-opacity:1; fill:none\" points=\"\n",
       "  2007.75,155.698 2154.74,155.698 \n",
       "  \"/>\n",
       "<path clip-path=\"url(#clip240)\" d=\"M 0 0 M2193.09 175.385 Q2191.28 180.015 2189.57 181.427 Q2187.85 182.839 2184.98 182.839 L2181.58 182.839 L2181.58 179.274 L2184.08 179.274 Q2185.84 179.274 2186.81 178.44 Q2187.78 177.607 2188.96 174.505 L2189.73 172.561 L2179.24 147.052 L2183.76 147.052 L2191.86 167.329 L2199.96 147.052 L2204.47 147.052 L2193.09 175.385 Z\" fill=\"#000000\" fill-rule=\"evenodd\" fill-opacity=\"1\" /><path clip-path=\"url(#clip240)\" d=\"M 0 0 M2210.35 169.042 L2217.99 169.042 L2217.99 142.677 L2209.68 144.343 L2209.68 140.084 L2217.95 138.418 L2222.62 138.418 L2222.62 169.042 L2230.26 169.042 L2230.26 172.978 L2210.35 172.978 L2210.35 169.042 Z\" fill=\"#000000\" fill-rule=\"evenodd\" fill-opacity=\"1\" /></svg>\n"
      ]
     },
     "execution_count": 48,
     "metadata": {},
     "output_type": "execute_result"
    }
   ],
   "source": [
    "x = 1.0\n",
    "errcd(ϵ) = abs(df(x)-dfcd(x, ϵ))\n",
    "plot(errcd, 1e-18,0.1e-12)"
   ]
  },
  {
   "cell_type": "code",
   "execution_count": 49,
   "metadata": {},
   "outputs": [
    {
     "data": {
      "image/svg+xml": [
       "<?xml version=\"1.0\" encoding=\"utf-8\"?>\n",
       "<svg xmlns=\"http://www.w3.org/2000/svg\" xmlns:xlink=\"http://www.w3.org/1999/xlink\" width=\"600\" height=\"400\" viewBox=\"0 0 2400 1600\">\n",
       "<defs>\n",
       "  <clipPath id=\"clip280\">\n",
       "    <rect x=\"0\" y=\"0\" width=\"2400\" height=\"1600\"/>\n",
       "  </clipPath>\n",
       "</defs>\n",
       "<path clip-path=\"url(#clip280)\" d=\"\n",
       "M0 1600 L2400 1600 L2400 0 L0 0  Z\n",
       "  \" fill=\"#ffffff\" fill-rule=\"evenodd\" fill-opacity=\"1\"/>\n",
       "<defs>\n",
       "  <clipPath id=\"clip281\">\n",
       "    <rect x=\"480\" y=\"0\" width=\"1681\" height=\"1600\"/>\n",
       "  </clipPath>\n",
       "</defs>\n",
       "<path clip-path=\"url(#clip280)\" d=\"\n",
       "M110.881 1486.45 L2352.76 1486.45 L2352.76 47.2441 L110.881 47.2441  Z\n",
       "  \" fill=\"#ffffff\" fill-rule=\"evenodd\" fill-opacity=\"1\"/>\n",
       "<defs>\n",
       "  <clipPath id=\"clip282\">\n",
       "    <rect x=\"110\" y=\"47\" width=\"2243\" height=\"1440\"/>\n",
       "  </clipPath>\n",
       "</defs>\n",
       "<polyline clip-path=\"url(#clip282)\" style=\"stroke:#000000; stroke-width:2; stroke-opacity:0.1; fill:none\" points=\"\n",
       "  174.119,1486.45 174.119,47.2441 \n",
       "  \"/>\n",
       "<polyline clip-path=\"url(#clip282)\" style=\"stroke:#000000; stroke-width:2; stroke-opacity:0.1; fill:none\" points=\"\n",
       "  702.916,1486.45 702.916,47.2441 \n",
       "  \"/>\n",
       "<polyline clip-path=\"url(#clip282)\" style=\"stroke:#000000; stroke-width:2; stroke-opacity:0.1; fill:none\" points=\"\n",
       "  1231.71,1486.45 1231.71,47.2441 \n",
       "  \"/>\n",
       "<polyline clip-path=\"url(#clip282)\" style=\"stroke:#000000; stroke-width:2; stroke-opacity:0.1; fill:none\" points=\"\n",
       "  1760.51,1486.45 1760.51,47.2441 \n",
       "  \"/>\n",
       "<polyline clip-path=\"url(#clip282)\" style=\"stroke:#000000; stroke-width:2; stroke-opacity:0.1; fill:none\" points=\"\n",
       "  2289.31,1486.45 2289.31,47.2441 \n",
       "  \"/>\n",
       "<polyline clip-path=\"url(#clip282)\" style=\"stroke:#000000; stroke-width:2; stroke-opacity:0.1; fill:none\" points=\"\n",
       "  110.881,1445.75 2352.76,1445.75 \n",
       "  \"/>\n",
       "<polyline clip-path=\"url(#clip282)\" style=\"stroke:#000000; stroke-width:2; stroke-opacity:0.1; fill:none\" points=\"\n",
       "  110.881,981.256 2352.76,981.256 \n",
       "  \"/>\n",
       "<polyline clip-path=\"url(#clip282)\" style=\"stroke:#000000; stroke-width:2; stroke-opacity:0.1; fill:none\" points=\"\n",
       "  110.881,516.759 2352.76,516.759 \n",
       "  \"/>\n",
       "<polyline clip-path=\"url(#clip282)\" style=\"stroke:#000000; stroke-width:2; stroke-opacity:0.1; fill:none\" points=\"\n",
       "  110.881,52.2615 2352.76,52.2615 \n",
       "  \"/>\n",
       "<polyline clip-path=\"url(#clip280)\" style=\"stroke:#000000; stroke-width:4; stroke-opacity:1; fill:none\" points=\"\n",
       "  110.881,1486.45 2352.76,1486.45 \n",
       "  \"/>\n",
       "<polyline clip-path=\"url(#clip280)\" style=\"stroke:#000000; stroke-width:4; stroke-opacity:1; fill:none\" points=\"\n",
       "  110.881,1486.45 110.881,47.2441 \n",
       "  \"/>\n",
       "<polyline clip-path=\"url(#clip280)\" style=\"stroke:#000000; stroke-width:4; stroke-opacity:1; fill:none\" points=\"\n",
       "  174.119,1486.45 174.119,1469.18 \n",
       "  \"/>\n",
       "<polyline clip-path=\"url(#clip280)\" style=\"stroke:#000000; stroke-width:4; stroke-opacity:1; fill:none\" points=\"\n",
       "  702.916,1486.45 702.916,1469.18 \n",
       "  \"/>\n",
       "<polyline clip-path=\"url(#clip280)\" style=\"stroke:#000000; stroke-width:4; stroke-opacity:1; fill:none\" points=\"\n",
       "  1231.71,1486.45 1231.71,1469.18 \n",
       "  \"/>\n",
       "<polyline clip-path=\"url(#clip280)\" style=\"stroke:#000000; stroke-width:4; stroke-opacity:1; fill:none\" points=\"\n",
       "  1760.51,1486.45 1760.51,1469.18 \n",
       "  \"/>\n",
       "<polyline clip-path=\"url(#clip280)\" style=\"stroke:#000000; stroke-width:4; stroke-opacity:1; fill:none\" points=\"\n",
       "  2289.31,1486.45 2289.31,1469.18 \n",
       "  \"/>\n",
       "<polyline clip-path=\"url(#clip280)\" style=\"stroke:#000000; stroke-width:4; stroke-opacity:1; fill:none\" points=\"\n",
       "  110.881,1445.75 137.783,1445.75 \n",
       "  \"/>\n",
       "<polyline clip-path=\"url(#clip280)\" style=\"stroke:#000000; stroke-width:4; stroke-opacity:1; fill:none\" points=\"\n",
       "  110.881,981.256 137.783,981.256 \n",
       "  \"/>\n",
       "<polyline clip-path=\"url(#clip280)\" style=\"stroke:#000000; stroke-width:4; stroke-opacity:1; fill:none\" points=\"\n",
       "  110.881,516.759 137.783,516.759 \n",
       "  \"/>\n",
       "<polyline clip-path=\"url(#clip280)\" style=\"stroke:#000000; stroke-width:4; stroke-opacity:1; fill:none\" points=\"\n",
       "  110.881,52.2615 137.783,52.2615 \n",
       "  \"/>\n",
       "<path clip-path=\"url(#clip280)\" d=\"M 0 0 M174.119 1508.44 Q170.508 1508.44 168.679 1512 Q166.873 1515.55 166.873 1522.67 Q166.873 1529.78 168.679 1533.35 Q170.508 1536.89 174.119 1536.89 Q177.753 1536.89 179.558 1533.35 Q181.387 1529.78 181.387 1522.67 Q181.387 1515.55 179.558 1512 Q177.753 1508.44 174.119 1508.44 M174.119 1504.73 Q179.929 1504.73 182.984 1509.34 Q186.063 1513.92 186.063 1522.67 Q186.063 1531.4 182.984 1536.01 Q179.929 1540.59 174.119 1540.59 Q168.309 1540.59 165.23 1536.01 Q162.174 1531.4 162.174 1522.67 Q162.174 1513.92 165.23 1509.34 Q168.309 1504.73 174.119 1504.73 Z\" fill=\"#000000\" fill-rule=\"evenodd\" fill-opacity=\"1\" /><path clip-path=\"url(#clip280)\" d=\"M 0 0 M615.507 1557.52 L631.826 1557.52 L631.826 1561.46 L609.882 1561.46 L609.882 1557.52 Q612.544 1554.77 617.127 1550.14 Q621.733 1545.48 622.914 1544.14 Q625.159 1541.62 626.039 1539.88 Q626.942 1538.12 626.942 1536.43 Q626.942 1533.68 624.997 1531.94 Q623.076 1530.21 619.974 1530.21 Q617.775 1530.21 615.321 1530.97 Q612.891 1531.73 610.113 1533.28 L610.113 1528.56 Q612.937 1527.43 615.391 1526.85 Q617.844 1526.27 619.882 1526.27 Q625.252 1526.27 628.446 1528.96 Q631.641 1531.64 631.641 1536.13 Q631.641 1538.26 630.831 1540.18 Q630.043 1542.08 627.937 1544.67 Q627.358 1545.34 624.256 1548.56 Q621.155 1551.76 615.507 1557.52 Z\" fill=\"#000000\" fill-rule=\"evenodd\" fill-opacity=\"1\" /><path clip-path=\"url(#clip280)\" d=\"M 0 0 M636.895 1555.58 L641.78 1555.58 L641.78 1561.46 L636.895 1561.46 L636.895 1555.58 Z\" fill=\"#000000\" fill-rule=\"evenodd\" fill-opacity=\"1\" /><path clip-path=\"url(#clip280)\" d=\"M 0 0 M646.895 1526.9 L665.252 1526.9 L665.252 1530.83 L651.178 1530.83 L651.178 1539.3 Q652.196 1538.96 653.215 1538.79 Q654.233 1538.61 655.252 1538.61 Q661.039 1538.61 664.418 1541.78 Q667.798 1544.95 667.798 1550.37 Q667.798 1555.95 664.326 1559.05 Q660.854 1562.13 654.534 1562.13 Q652.358 1562.13 650.09 1561.76 Q647.844 1561.39 645.437 1560.64 L645.437 1555.95 Q647.52 1557.08 649.742 1557.64 Q651.965 1558.19 654.442 1558.19 Q658.446 1558.19 660.784 1556.08 Q663.122 1553.98 663.122 1550.37 Q663.122 1546.76 660.784 1544.65 Q658.446 1542.54 654.442 1542.54 Q652.567 1542.54 650.692 1542.96 Q648.84 1543.38 646.895 1544.26 L646.895 1526.9 Z\" fill=\"#000000\" fill-rule=\"evenodd\" fill-opacity=\"1\" /><path clip-path=\"url(#clip280)\" d=\"M 0 0 M701.038 1535.99 L690.46 1546.62 L701.038 1557.2 L698.284 1560 L687.659 1549.37 L677.034 1560 L674.303 1557.2 L684.858 1546.62 L674.303 1535.99 L677.034 1533.19 L687.659 1543.82 L698.284 1533.19 L701.038 1535.99 Z\" fill=\"#000000\" fill-rule=\"evenodd\" fill-opacity=\"1\" /><path clip-path=\"url(#clip280)\" d=\"M 0 0 M706.918 1557.52 L714.557 1557.52 L714.557 1531.15 L706.247 1532.82 L706.247 1528.56 L714.511 1526.9 L719.187 1526.9 L719.187 1557.52 L726.825 1557.52 L726.825 1561.46 L706.918 1561.46 L706.918 1557.52 Z\" fill=\"#000000\" fill-rule=\"evenodd\" fill-opacity=\"1\" /><path clip-path=\"url(#clip280)\" d=\"M 0 0 M741.895 1529.97 Q738.284 1529.97 736.455 1533.54 Q734.649 1537.08 734.649 1544.21 Q734.649 1551.32 736.455 1554.88 Q738.284 1558.42 741.895 1558.42 Q745.529 1558.42 747.335 1554.88 Q749.163 1551.32 749.163 1544.21 Q749.163 1537.08 747.335 1533.54 Q745.529 1529.97 741.895 1529.97 M741.895 1526.27 Q747.705 1526.27 750.76 1530.88 Q753.839 1535.46 753.839 1544.21 Q753.839 1552.94 750.76 1557.54 Q747.705 1562.13 741.895 1562.13 Q736.085 1562.13 733.006 1557.54 Q729.95 1552.94 729.95 1544.21 Q729.95 1535.46 733.006 1530.88 Q736.085 1526.27 741.895 1526.27 Z\" fill=\"#000000\" fill-rule=\"evenodd\" fill-opacity=\"1\" /><path clip-path=\"url(#clip280)\" d=\"M 0 0 M753.839 1513.83 L769.017 1513.83 L769.017 1515.61 L753.839 1515.61 L753.839 1513.83 Z\" fill=\"#000000\" fill-rule=\"evenodd\" fill-opacity=\"1\" /><path clip-path=\"url(#clip280)\" d=\"M 0 0 M771.951 1519.41 L775.788 1519.41 L775.788 1507.92 L771.594 1508.69 L771.594 1506.51 L775.919 1505.78 L778.496 1505.78 L778.496 1519.41 L782.352 1519.41 L782.352 1521.48 L771.951 1521.48 L771.951 1519.41 Z\" fill=\"#000000\" fill-rule=\"evenodd\" fill-opacity=\"1\" /><path clip-path=\"url(#clip280)\" d=\"M 0 0 M785.022 1505.78 L794.614 1505.78 L794.614 1507.56 L787.261 1507.56 L787.261 1511.4 Q787.787 1511.23 788.333 1511.16 Q788.859 1511.08 789.386 1511.08 Q792.414 1511.08 794.182 1512.53 Q795.95 1513.96 795.95 1516.42 Q795.95 1518.96 794.125 1520.37 Q792.32 1521.76 789.01 1521.76 Q787.881 1521.76 786.696 1521.59 Q785.511 1521.42 784.27 1521.09 L784.27 1518.96 Q785.342 1519.47 786.508 1519.73 Q787.674 1519.98 788.972 1519.98 Q791.06 1519.98 792.282 1519.02 Q793.505 1518.06 793.505 1516.42 Q793.505 1514.79 792.282 1513.83 Q791.06 1512.87 788.972 1512.87 Q787.994 1512.87 787.016 1513.06 Q786.038 1513.24 785.022 1513.64 L785.022 1505.78 Z\" fill=\"#000000\" fill-rule=\"evenodd\" fill-opacity=\"1\" /><path clip-path=\"url(#clip280)\" d=\"M 0 0 M1139.43 1526.9 L1157.79 1526.9 L1157.79 1530.83 L1143.71 1530.83 L1143.71 1539.3 Q1144.73 1538.96 1145.75 1538.79 Q1146.77 1538.61 1147.79 1538.61 Q1153.57 1538.61 1156.95 1541.78 Q1160.33 1544.95 1160.33 1550.37 Q1160.33 1555.95 1156.86 1559.05 Q1153.39 1562.13 1147.07 1562.13 Q1144.89 1562.13 1142.63 1561.76 Q1140.38 1561.39 1137.97 1560.64 L1137.97 1555.95 Q1140.06 1557.08 1142.28 1557.64 Q1144.5 1558.19 1146.98 1558.19 Q1150.98 1558.19 1153.32 1556.08 Q1155.66 1553.98 1155.66 1550.37 Q1155.66 1546.76 1153.32 1544.65 Q1150.98 1542.54 1146.98 1542.54 Q1145.1 1542.54 1143.23 1542.96 Q1141.38 1543.38 1139.43 1544.26 L1139.43 1526.9 Z\" fill=\"#000000\" fill-rule=\"evenodd\" fill-opacity=\"1\" /><path clip-path=\"url(#clip280)\" d=\"M 0 0 M1165.4 1555.58 L1170.29 1555.58 L1170.29 1561.46 L1165.4 1561.46 L1165.4 1555.58 Z\" fill=\"#000000\" fill-rule=\"evenodd\" fill-opacity=\"1\" /><path clip-path=\"url(#clip280)\" d=\"M 0 0 M1185.36 1529.97 Q1181.75 1529.97 1179.92 1533.54 Q1178.11 1537.08 1178.11 1544.21 Q1178.11 1551.32 1179.92 1554.88 Q1181.75 1558.42 1185.36 1558.42 Q1188.99 1558.42 1190.8 1554.88 Q1192.63 1551.32 1192.63 1544.21 Q1192.63 1537.08 1190.8 1533.54 Q1188.99 1529.97 1185.36 1529.97 M1185.36 1526.27 Q1191.17 1526.27 1194.22 1530.88 Q1197.3 1535.46 1197.3 1544.21 Q1197.3 1552.94 1194.22 1557.54 Q1191.17 1562.13 1185.36 1562.13 Q1179.55 1562.13 1176.47 1557.54 Q1173.41 1552.94 1173.41 1544.21 Q1173.41 1535.46 1176.47 1530.88 Q1179.55 1526.27 1185.36 1526.27 Z\" fill=\"#000000\" fill-rule=\"evenodd\" fill-opacity=\"1\" /><path clip-path=\"url(#clip280)\" d=\"M 0 0 M1230.54 1535.99 L1219.96 1546.62 L1230.54 1557.2 L1227.79 1560 L1217.16 1549.37 L1206.54 1560 L1203.81 1557.2 L1214.36 1546.62 L1203.81 1535.99 L1206.54 1533.19 L1217.16 1543.82 L1227.79 1533.19 L1230.54 1535.99 Z\" fill=\"#000000\" fill-rule=\"evenodd\" fill-opacity=\"1\" /><path clip-path=\"url(#clip280)\" d=\"M 0 0 M1236.42 1557.52 L1244.06 1557.52 L1244.06 1531.15 L1235.75 1532.82 L1235.75 1528.56 L1244.01 1526.9 L1248.69 1526.9 L1248.69 1557.52 L1256.33 1557.52 L1256.33 1561.46 L1236.42 1561.46 L1236.42 1557.52 Z\" fill=\"#000000\" fill-rule=\"evenodd\" fill-opacity=\"1\" /><path clip-path=\"url(#clip280)\" d=\"M 0 0 M1271.4 1529.97 Q1267.79 1529.97 1265.96 1533.54 Q1264.15 1537.08 1264.15 1544.21 Q1264.15 1551.32 1265.96 1554.88 Q1267.79 1558.42 1271.4 1558.42 Q1275.03 1558.42 1276.84 1554.88 Q1278.67 1551.32 1278.67 1544.21 Q1278.67 1537.08 1276.84 1533.54 Q1275.03 1529.97 1271.4 1529.97 M1271.4 1526.27 Q1277.21 1526.27 1280.26 1530.88 Q1283.34 1535.46 1283.34 1544.21 Q1283.34 1552.94 1280.26 1557.54 Q1277.21 1562.13 1271.4 1562.13 Q1265.59 1562.13 1262.51 1557.54 Q1259.45 1552.94 1259.45 1544.21 Q1259.45 1535.46 1262.51 1530.88 Q1265.59 1526.27 1271.4 1526.27 Z\" fill=\"#000000\" fill-rule=\"evenodd\" fill-opacity=\"1\" /><path clip-path=\"url(#clip280)\" d=\"M 0 0 M1283.34 1513.83 L1298.52 1513.83 L1298.52 1515.61 L1283.34 1515.61 L1283.34 1513.83 Z\" fill=\"#000000\" fill-rule=\"evenodd\" fill-opacity=\"1\" /><path clip-path=\"url(#clip280)\" d=\"M 0 0 M1301.45 1519.41 L1305.29 1519.41 L1305.29 1507.92 L1301.1 1508.69 L1301.1 1506.51 L1305.42 1505.78 L1308 1505.78 L1308 1519.41 L1311.85 1519.41 L1311.85 1521.48 L1301.45 1521.48 L1301.45 1519.41 Z\" fill=\"#000000\" fill-rule=\"evenodd\" fill-opacity=\"1\" /><path clip-path=\"url(#clip280)\" d=\"M 0 0 M1314.53 1505.78 L1324.12 1505.78 L1324.12 1507.56 L1316.76 1507.56 L1316.76 1511.4 Q1317.29 1511.23 1317.84 1511.16 Q1318.36 1511.08 1318.89 1511.08 Q1321.92 1511.08 1323.68 1512.53 Q1325.45 1513.96 1325.45 1516.42 Q1325.45 1518.96 1323.63 1520.37 Q1321.82 1521.76 1318.51 1521.76 Q1317.38 1521.76 1316.2 1521.59 Q1315.01 1521.42 1313.77 1521.09 L1313.77 1518.96 Q1314.85 1519.47 1316.01 1519.73 Q1317.18 1519.98 1318.48 1519.98 Q1320.56 1519.98 1321.79 1519.02 Q1323.01 1518.06 1323.01 1516.42 Q1323.01 1514.79 1321.79 1513.83 Q1320.56 1512.87 1318.48 1512.87 Q1317.5 1512.87 1316.52 1513.06 Q1315.54 1513.24 1314.53 1513.64 L1314.53 1505.78 Z\" fill=\"#000000\" fill-rule=\"evenodd\" fill-opacity=\"1\" /><path clip-path=\"url(#clip280)\" d=\"M 0 0 M1451.37 1526.9 L1473.59 1526.9 L1473.59 1528.89 L1461.04 1561.46 L1456.16 1561.46 L1467.96 1530.83 L1451.37 1530.83 L1451.37 1526.9 Z\" fill=\"#000000\" fill-rule=\"evenodd\" fill-opacity=\"1\" /><path clip-path=\"url(#clip280)\" d=\"M 0 0 M1478.66 1555.58 L1483.54 1555.58 L1483.54 1561.46 L1478.66 1561.46 L1478.66 1555.58 Z\" fill=\"#000000\" fill-rule=\"evenodd\" fill-opacity=\"1\" /><path clip-path=\"url(#clip280)\" d=\"M 0 0 M1488.66 1526.9 L1507.01 1526.9 L1507.01 1530.83 L1492.94 1530.83 L1492.94 1539.3 Q1493.96 1538.96 1494.98 1538.79 Q1495.99 1538.61 1497.01 1538.61 Q1502.8 1538.61 1506.18 1541.78 Q1509.56 1544.95 1509.56 1550.37 Q1509.56 1555.95 1506.09 1559.05 Q1502.62 1562.13 1496.3 1562.13 Q1494.12 1562.13 1491.85 1561.76 Q1489.61 1561.39 1487.2 1560.64 L1487.2 1555.95 Q1489.28 1557.08 1491.5 1557.64 Q1493.73 1558.19 1496.2 1558.19 Q1500.21 1558.19 1502.55 1556.08 Q1504.88 1553.98 1504.88 1550.37 Q1504.88 1546.76 1502.55 1544.65 Q1500.21 1542.54 1496.2 1542.54 Q1494.33 1542.54 1492.45 1542.96 Q1490.6 1543.38 1488.66 1544.26 L1488.66 1526.9 Z\" fill=\"#000000\" fill-rule=\"evenodd\" fill-opacity=\"1\" /><path clip-path=\"url(#clip280)\" d=\"M 0 0 M1524.63 1529.97 Q1521.02 1529.97 1519.19 1533.54 Q1517.38 1537.08 1517.38 1544.21 Q1517.38 1551.32 1519.19 1554.88 Q1521.02 1558.42 1524.63 1558.42 Q1528.26 1558.42 1530.07 1554.88 Q1531.9 1551.32 1531.9 1544.21 Q1531.9 1537.08 1530.07 1533.54 Q1528.26 1529.97 1524.63 1529.97 M1524.63 1526.27 Q1530.44 1526.27 1533.49 1530.88 Q1536.57 1535.46 1536.57 1544.21 Q1536.57 1552.94 1533.49 1557.54 Q1530.44 1562.13 1524.63 1562.13 Q1518.82 1562.13 1515.74 1557.54 Q1512.68 1552.94 1512.68 1544.21 Q1512.68 1535.46 1515.74 1530.88 Q1518.82 1526.27 1524.63 1526.27 Z\" fill=\"#000000\" fill-rule=\"evenodd\" fill-opacity=\"1\" /><path clip-path=\"url(#clip280)\" d=\"M 0 0 M1551.64 1529.97 Q1548.03 1529.97 1546.2 1533.54 Q1544.4 1537.08 1544.4 1544.21 Q1544.4 1551.32 1546.2 1554.88 Q1548.03 1558.42 1551.64 1558.42 Q1555.28 1558.42 1557.08 1554.88 Q1558.91 1551.32 1558.91 1544.21 Q1558.91 1537.08 1557.08 1533.54 Q1555.28 1529.97 1551.64 1529.97 M1551.64 1526.27 Q1557.45 1526.27 1560.51 1530.88 Q1563.59 1535.46 1563.59 1544.21 Q1563.59 1552.94 1560.51 1557.54 Q1557.45 1562.13 1551.64 1562.13 Q1545.83 1562.13 1542.75 1557.54 Q1539.7 1552.94 1539.7 1544.21 Q1539.7 1535.46 1542.75 1530.88 Q1545.83 1526.27 1551.64 1526.27 Z\" fill=\"#000000\" fill-rule=\"evenodd\" fill-opacity=\"1\" /><path clip-path=\"url(#clip280)\" d=\"M 0 0 M1578.66 1529.97 Q1575.05 1529.97 1573.22 1533.54 Q1571.41 1537.08 1571.41 1544.21 Q1571.41 1551.32 1573.22 1554.88 Q1575.05 1558.42 1578.66 1558.42 Q1582.29 1558.42 1584.1 1554.88 Q1585.93 1551.32 1585.93 1544.21 Q1585.93 1537.08 1584.1 1533.54 Q1582.29 1529.97 1578.66 1529.97 M1578.66 1526.27 Q1584.47 1526.27 1587.52 1530.88 Q1590.6 1535.46 1590.6 1544.21 Q1590.6 1552.94 1587.52 1557.54 Q1584.47 1562.13 1578.66 1562.13 Q1572.85 1562.13 1569.77 1557.54 Q1566.71 1552.94 1566.71 1544.21 Q1566.71 1535.46 1569.77 1530.88 Q1572.85 1526.27 1578.66 1526.27 Z\" fill=\"#000000\" fill-rule=\"evenodd\" fill-opacity=\"1\" /><path clip-path=\"url(#clip280)\" d=\"M 0 0 M1605.67 1529.97 Q1602.06 1529.97 1600.23 1533.54 Q1598.42 1537.08 1598.42 1544.21 Q1598.42 1551.32 1600.23 1554.88 Q1602.06 1558.42 1605.67 1558.42 Q1609.3 1558.42 1611.11 1554.88 Q1612.94 1551.32 1612.94 1544.21 Q1612.94 1537.08 1611.11 1533.54 Q1609.3 1529.97 1605.67 1529.97 M1605.67 1526.27 Q1611.48 1526.27 1614.54 1530.88 Q1617.61 1535.46 1617.61 1544.21 Q1617.61 1552.94 1614.54 1557.54 Q1611.48 1562.13 1605.67 1562.13 Q1599.86 1562.13 1596.78 1557.54 Q1593.73 1552.94 1593.73 1544.21 Q1593.73 1535.46 1596.78 1530.88 Q1599.86 1526.27 1605.67 1526.27 Z\" fill=\"#000000\" fill-rule=\"evenodd\" fill-opacity=\"1\" /><path clip-path=\"url(#clip280)\" d=\"M 0 0 M1632.68 1529.97 Q1629.07 1529.97 1627.24 1533.54 Q1625.44 1537.08 1625.44 1544.21 Q1625.44 1551.32 1627.24 1554.88 Q1629.07 1558.42 1632.68 1558.42 Q1636.32 1558.42 1638.12 1554.88 Q1639.95 1551.32 1639.95 1544.21 Q1639.95 1537.08 1638.12 1533.54 Q1636.32 1529.97 1632.68 1529.97 M1632.68 1526.27 Q1638.49 1526.27 1641.55 1530.88 Q1644.63 1535.46 1644.63 1544.21 Q1644.63 1552.94 1641.55 1557.54 Q1638.49 1562.13 1632.68 1562.13 Q1626.87 1562.13 1623.8 1557.54 Q1620.74 1552.94 1620.74 1544.21 Q1620.74 1535.46 1623.8 1530.88 Q1626.87 1526.27 1632.68 1526.27 Z\" fill=\"#000000\" fill-rule=\"evenodd\" fill-opacity=\"1\" /><path clip-path=\"url(#clip280)\" d=\"M 0 0 M1659.7 1529.97 Q1656.09 1529.97 1654.26 1533.54 Q1652.45 1537.08 1652.45 1544.21 Q1652.45 1551.32 1654.26 1554.88 Q1656.09 1558.42 1659.7 1558.42 Q1663.33 1558.42 1665.14 1554.88 Q1666.97 1551.32 1666.97 1544.21 Q1666.97 1537.08 1665.14 1533.54 Q1663.33 1529.97 1659.7 1529.97 M1659.7 1526.27 Q1665.51 1526.27 1668.56 1530.88 Q1671.64 1535.46 1671.64 1544.21 Q1671.64 1552.94 1668.56 1557.54 Q1665.51 1562.13 1659.7 1562.13 Q1653.89 1562.13 1650.81 1557.54 Q1647.75 1552.94 1647.75 1544.21 Q1647.75 1535.46 1650.81 1530.88 Q1653.89 1526.27 1659.7 1526.27 Z\" fill=\"#000000\" fill-rule=\"evenodd\" fill-opacity=\"1\" /><path clip-path=\"url(#clip280)\" d=\"M 0 0 M1686.71 1529.97 Q1683.1 1529.97 1681.27 1533.54 Q1679.47 1537.08 1679.47 1544.21 Q1679.47 1551.32 1681.27 1554.88 Q1683.1 1558.42 1686.71 1558.42 Q1690.35 1558.42 1692.15 1554.88 Q1693.98 1551.32 1693.98 1544.21 Q1693.98 1537.08 1692.15 1533.54 Q1690.35 1529.97 1686.71 1529.97 M1686.71 1526.27 Q1692.52 1526.27 1695.58 1530.88 Q1698.66 1535.46 1698.66 1544.21 Q1698.66 1552.94 1695.58 1557.54 Q1692.52 1562.13 1686.71 1562.13 Q1680.9 1562.13 1677.82 1557.54 Q1674.77 1552.94 1674.77 1544.21 Q1674.77 1535.46 1677.82 1530.88 Q1680.9 1526.27 1686.71 1526.27 Z\" fill=\"#000000\" fill-rule=\"evenodd\" fill-opacity=\"1\" /><path clip-path=\"url(#clip280)\" d=\"M 0 0 M1713.73 1529.97 Q1710.11 1529.97 1708.29 1533.54 Q1706.48 1537.08 1706.48 1544.21 Q1706.48 1551.32 1708.29 1554.88 Q1710.11 1558.42 1713.73 1558.42 Q1717.36 1558.42 1719.17 1554.88 Q1720.99 1551.32 1720.99 1544.21 Q1720.99 1537.08 1719.17 1533.54 Q1717.36 1529.97 1713.73 1529.97 M1713.73 1526.27 Q1719.54 1526.27 1722.59 1530.88 Q1725.67 1535.46 1725.67 1544.21 Q1725.67 1552.94 1722.59 1557.54 Q1719.54 1562.13 1713.73 1562.13 Q1707.92 1562.13 1704.84 1557.54 Q1701.78 1552.94 1701.78 1544.21 Q1701.78 1535.46 1704.84 1530.88 Q1707.92 1526.27 1713.73 1526.27 Z\" fill=\"#000000\" fill-rule=\"evenodd\" fill-opacity=\"1\" /><path clip-path=\"url(#clip280)\" d=\"M 0 0 M1740.74 1529.97 Q1737.13 1529.97 1735.3 1533.54 Q1733.49 1537.08 1733.49 1544.21 Q1733.49 1551.32 1735.3 1554.88 Q1737.13 1558.42 1740.74 1558.42 Q1744.37 1558.42 1746.18 1554.88 Q1748.01 1551.32 1748.01 1544.21 Q1748.01 1537.08 1746.18 1533.54 Q1744.37 1529.97 1740.74 1529.97 M1740.74 1526.27 Q1746.55 1526.27 1749.6 1530.88 Q1752.68 1535.46 1752.68 1544.21 Q1752.68 1552.94 1749.6 1557.54 Q1746.55 1562.13 1740.74 1562.13 Q1734.93 1562.13 1731.85 1557.54 Q1728.79 1552.94 1728.79 1544.21 Q1728.79 1535.46 1731.85 1530.88 Q1734.93 1526.27 1740.74 1526.27 Z\" fill=\"#000000\" fill-rule=\"evenodd\" fill-opacity=\"1\" /><path clip-path=\"url(#clip280)\" d=\"M 0 0 M1767.75 1529.97 Q1764.14 1529.97 1762.31 1533.54 Q1760.51 1537.08 1760.51 1544.21 Q1760.51 1551.32 1762.31 1554.88 Q1764.14 1558.42 1767.75 1558.42 Q1771.39 1558.42 1773.19 1554.88 Q1775.02 1551.32 1775.02 1544.21 Q1775.02 1537.08 1773.19 1533.54 Q1771.39 1529.97 1767.75 1529.97 M1767.75 1526.27 Q1773.56 1526.27 1776.62 1530.88 Q1779.7 1535.46 1779.7 1544.21 Q1779.7 1552.94 1776.62 1557.54 Q1773.56 1562.13 1767.75 1562.13 Q1761.94 1562.13 1758.86 1557.54 Q1755.81 1552.94 1755.81 1544.21 Q1755.81 1535.46 1758.86 1530.88 Q1761.94 1526.27 1767.75 1526.27 Z\" fill=\"#000000\" fill-rule=\"evenodd\" fill-opacity=\"1\" /><path clip-path=\"url(#clip280)\" d=\"M 0 0 M1794.77 1529.97 Q1791.16 1529.97 1789.33 1533.54 Q1787.52 1537.08 1787.52 1544.21 Q1787.52 1551.32 1789.33 1554.88 Q1791.16 1558.42 1794.77 1558.42 Q1798.4 1558.42 1800.21 1554.88 Q1802.04 1551.32 1802.04 1544.21 Q1802.04 1537.08 1800.21 1533.54 Q1798.4 1529.97 1794.77 1529.97 M1794.77 1526.27 Q1800.58 1526.27 1803.63 1530.88 Q1806.71 1535.46 1806.71 1544.21 Q1806.71 1552.94 1803.63 1557.54 Q1800.58 1562.13 1794.77 1562.13 Q1788.96 1562.13 1785.88 1557.54 Q1782.82 1552.94 1782.82 1544.21 Q1782.82 1535.46 1785.88 1530.88 Q1788.96 1526.27 1794.77 1526.27 Z\" fill=\"#000000\" fill-rule=\"evenodd\" fill-opacity=\"1\" /><path clip-path=\"url(#clip280)\" d=\"M 0 0 M1821.78 1529.97 Q1818.17 1529.97 1816.34 1533.54 Q1814.53 1537.08 1814.53 1544.21 Q1814.53 1551.32 1816.34 1554.88 Q1818.17 1558.42 1821.78 1558.42 Q1825.41 1558.42 1827.22 1554.88 Q1829.05 1551.32 1829.05 1544.21 Q1829.05 1537.08 1827.22 1533.54 Q1825.41 1529.97 1821.78 1529.97 M1821.78 1526.27 Q1827.59 1526.27 1830.65 1530.88 Q1833.72 1535.46 1833.72 1544.21 Q1833.72 1552.94 1830.65 1557.54 Q1827.59 1562.13 1821.78 1562.13 Q1815.97 1562.13 1812.89 1557.54 Q1809.84 1552.94 1809.84 1544.21 Q1809.84 1535.46 1812.89 1530.88 Q1815.97 1526.27 1821.78 1526.27 Z\" fill=\"#000000\" fill-rule=\"evenodd\" fill-opacity=\"1\" /><path clip-path=\"url(#clip280)\" d=\"M 0 0 M1848.79 1529.97 Q1845.18 1529.97 1843.35 1533.54 Q1841.55 1537.08 1841.55 1544.21 Q1841.55 1551.32 1843.35 1554.88 Q1845.18 1558.42 1848.79 1558.42 Q1852.43 1558.42 1854.23 1554.88 Q1856.06 1551.32 1856.06 1544.21 Q1856.06 1537.08 1854.23 1533.54 Q1852.43 1529.97 1848.79 1529.97 M1848.79 1526.27 Q1854.6 1526.27 1857.66 1530.88 Q1860.74 1535.46 1860.74 1544.21 Q1860.74 1552.94 1857.66 1557.54 Q1854.6 1562.13 1848.79 1562.13 Q1842.98 1562.13 1839.91 1557.54 Q1836.85 1552.94 1836.85 1544.21 Q1836.85 1535.46 1839.91 1530.88 Q1842.98 1526.27 1848.79 1526.27 Z\" fill=\"#000000\" fill-rule=\"evenodd\" fill-opacity=\"1\" /><path clip-path=\"url(#clip280)\" d=\"M 0 0 M1875.81 1529.97 Q1872.2 1529.97 1870.37 1533.54 Q1868.56 1537.08 1868.56 1544.21 Q1868.56 1551.32 1870.37 1554.88 Q1872.2 1558.42 1875.81 1558.42 Q1879.44 1558.42 1881.25 1554.88 Q1883.08 1551.32 1883.08 1544.21 Q1883.08 1537.08 1881.25 1533.54 Q1879.44 1529.97 1875.81 1529.97 M1875.81 1526.27 Q1881.62 1526.27 1884.67 1530.88 Q1887.75 1535.46 1887.75 1544.21 Q1887.75 1552.94 1884.67 1557.54 Q1881.62 1562.13 1875.81 1562.13 Q1870 1562.13 1866.92 1557.54 Q1863.86 1552.94 1863.86 1544.21 Q1863.86 1535.46 1866.92 1530.88 Q1870 1526.27 1875.81 1526.27 Z\" fill=\"#000000\" fill-rule=\"evenodd\" fill-opacity=\"1\" /><path clip-path=\"url(#clip280)\" d=\"M 0 0 M1902.82 1545.04 Q1899.49 1545.04 1897.57 1546.83 Q1895.67 1548.61 1895.67 1551.73 Q1895.67 1554.86 1897.57 1556.64 Q1899.49 1558.42 1902.82 1558.42 Q1906.15 1558.42 1908.08 1556.64 Q1910 1554.83 1910 1551.73 Q1910 1548.61 1908.08 1546.83 Q1906.18 1545.04 1902.82 1545.04 M1898.15 1543.05 Q1895.14 1542.31 1893.45 1540.25 Q1891.78 1538.19 1891.78 1535.23 Q1891.78 1531.08 1894.72 1528.68 Q1897.68 1526.27 1902.82 1526.27 Q1907.98 1526.27 1910.92 1528.68 Q1913.86 1531.08 1913.86 1535.23 Q1913.86 1538.19 1912.17 1540.25 Q1910.51 1542.31 1907.52 1543.05 Q1910.9 1543.84 1912.78 1546.13 Q1914.67 1548.42 1914.67 1551.73 Q1914.67 1556.76 1911.59 1559.44 Q1908.54 1562.13 1902.82 1562.13 Q1897.1 1562.13 1894.03 1559.44 Q1890.97 1556.76 1890.97 1551.73 Q1890.97 1548.42 1892.87 1546.13 Q1894.77 1543.84 1898.15 1543.05 M1896.43 1535.67 Q1896.43 1538.35 1898.1 1539.86 Q1899.79 1541.36 1902.82 1541.36 Q1905.83 1541.36 1907.52 1539.86 Q1909.23 1538.35 1909.23 1535.67 Q1909.23 1532.98 1907.52 1531.48 Q1905.83 1529.97 1902.82 1529.97 Q1899.79 1529.97 1898.1 1531.48 Q1896.43 1532.98 1896.43 1535.67 Z\" fill=\"#000000\" fill-rule=\"evenodd\" fill-opacity=\"1\" /><path clip-path=\"url(#clip280)\" d=\"M 0 0 M1919.88 1560.74 L1919.88 1556.48 Q1921.64 1557.31 1923.45 1557.75 Q1925.25 1558.19 1926.99 1558.19 Q1931.62 1558.19 1934.05 1555.09 Q1936.5 1551.96 1936.85 1545.62 Q1935.51 1547.61 1933.45 1548.68 Q1931.39 1549.74 1928.89 1549.74 Q1923.7 1549.74 1920.67 1546.62 Q1917.66 1543.47 1917.66 1538.03 Q1917.66 1532.71 1920.81 1529.49 Q1923.96 1526.27 1929.19 1526.27 Q1935.18 1526.27 1938.33 1530.88 Q1941.5 1535.46 1941.5 1544.21 Q1941.5 1552.38 1937.61 1557.27 Q1933.75 1562.13 1927.2 1562.13 Q1925.44 1562.13 1923.63 1561.78 Q1921.83 1561.43 1919.88 1560.74 M1929.19 1546.08 Q1932.34 1546.08 1934.16 1543.93 Q1936.02 1541.78 1936.02 1538.03 Q1936.02 1534.3 1934.16 1532.15 Q1932.34 1529.97 1929.19 1529.97 Q1926.04 1529.97 1924.19 1532.15 Q1922.36 1534.3 1922.36 1538.03 Q1922.36 1541.78 1924.19 1543.93 Q1926.04 1546.08 1929.19 1546.08 Z\" fill=\"#000000\" fill-rule=\"evenodd\" fill-opacity=\"1\" /><path clip-path=\"url(#clip280)\" d=\"M 0 0 M1974.74 1535.99 L1964.16 1546.62 L1974.74 1557.2 L1971.99 1560 L1961.36 1549.37 L1950.74 1560 L1948.01 1557.2 L1958.56 1546.62 L1948.01 1535.99 L1950.74 1533.19 L1961.36 1543.82 L1971.99 1533.19 L1974.74 1535.99 Z\" fill=\"#000000\" fill-rule=\"evenodd\" fill-opacity=\"1\" /><path clip-path=\"url(#clip280)\" d=\"M 0 0 M1980.62 1557.52 L1988.26 1557.52 L1988.26 1531.15 L1979.95 1532.82 L1979.95 1528.56 L1988.21 1526.9 L1992.89 1526.9 L1992.89 1557.52 L2000.53 1557.52 L2000.53 1561.46 L1980.62 1561.46 L1980.62 1557.52 Z\" fill=\"#000000\" fill-rule=\"evenodd\" fill-opacity=\"1\" /><path clip-path=\"url(#clip280)\" d=\"M 0 0 M2015.6 1529.97 Q2011.99 1529.97 2010.16 1533.54 Q2008.35 1537.08 2008.35 1544.21 Q2008.35 1551.32 2010.16 1554.88 Q2011.99 1558.42 2015.6 1558.42 Q2019.23 1558.42 2021.04 1554.88 Q2022.87 1551.32 2022.87 1544.21 Q2022.87 1537.08 2021.04 1533.54 Q2019.23 1529.97 2015.6 1529.97 M2015.6 1526.27 Q2021.41 1526.27 2024.46 1530.88 Q2027.54 1535.46 2027.54 1544.21 Q2027.54 1552.94 2024.46 1557.54 Q2021.41 1562.13 2015.6 1562.13 Q2009.79 1562.13 2006.71 1557.54 Q2003.65 1552.94 2003.65 1544.21 Q2003.65 1535.46 2006.71 1530.88 Q2009.79 1526.27 2015.6 1526.27 Z\" fill=\"#000000\" fill-rule=\"evenodd\" fill-opacity=\"1\" /><path clip-path=\"url(#clip280)\" d=\"M 0 0 M2027.54 1513.83 L2042.72 1513.83 L2042.72 1515.61 L2027.54 1515.61 L2027.54 1513.83 Z\" fill=\"#000000\" fill-rule=\"evenodd\" fill-opacity=\"1\" /><path clip-path=\"url(#clip280)\" d=\"M 0 0 M2045.65 1519.41 L2049.49 1519.41 L2049.49 1507.92 L2045.3 1508.69 L2045.3 1506.51 L2049.62 1505.78 L2052.2 1505.78 L2052.2 1519.41 L2056.06 1519.41 L2056.06 1521.48 L2045.65 1521.48 L2045.65 1519.41 Z\" fill=\"#000000\" fill-rule=\"evenodd\" fill-opacity=\"1\" /><path clip-path=\"url(#clip280)\" d=\"M 0 0 M2058.73 1505.78 L2068.32 1505.78 L2068.32 1507.56 L2060.96 1507.56 L2060.96 1511.4 Q2061.49 1511.23 2062.04 1511.16 Q2062.56 1511.08 2063.09 1511.08 Q2066.12 1511.08 2067.89 1512.53 Q2069.65 1513.96 2069.65 1516.42 Q2069.65 1518.96 2067.83 1520.37 Q2066.02 1521.76 2062.71 1521.76 Q2061.59 1521.76 2060.4 1521.59 Q2059.22 1521.42 2057.97 1521.09 L2057.97 1518.96 Q2059.05 1519.47 2060.21 1519.73 Q2061.38 1519.98 2062.68 1519.98 Q2064.76 1519.98 2065.99 1519.02 Q2067.21 1518.06 2067.21 1516.42 Q2067.21 1514.79 2065.99 1513.83 Q2064.76 1512.87 2062.68 1512.87 Q2061.7 1512.87 2060.72 1513.06 Q2059.74 1513.24 2058.73 1513.64 L2058.73 1505.78 Z\" fill=\"#000000\" fill-rule=\"evenodd\" fill-opacity=\"1\" /><path clip-path=\"url(#clip280)\" d=\"M 0 0 M1995.01 1557.52 L2002.65 1557.52 L2002.65 1531.15 L1994.34 1532.82 L1994.34 1528.56 L2002.61 1526.9 L2007.28 1526.9 L2007.28 1557.52 L2014.92 1557.52 L2014.92 1561.46 L1995.01 1561.46 L1995.01 1557.52 Z\" fill=\"#000000\" fill-rule=\"evenodd\" fill-opacity=\"1\" /><path clip-path=\"url(#clip280)\" d=\"M 0 0 M2019.99 1555.58 L2024.88 1555.58 L2024.88 1561.46 L2019.99 1561.46 L2019.99 1555.58 Z\" fill=\"#000000\" fill-rule=\"evenodd\" fill-opacity=\"1\" /><path clip-path=\"url(#clip280)\" d=\"M 0 0 M2039.94 1529.97 Q2036.33 1529.97 2034.5 1533.54 Q2032.7 1537.08 2032.7 1544.21 Q2032.7 1551.32 2034.5 1554.88 Q2036.33 1558.42 2039.94 1558.42 Q2043.58 1558.42 2045.38 1554.88 Q2047.21 1551.32 2047.21 1544.21 Q2047.21 1537.08 2045.38 1533.54 Q2043.58 1529.97 2039.94 1529.97 M2039.94 1526.27 Q2045.75 1526.27 2048.81 1530.88 Q2051.89 1535.46 2051.89 1544.21 Q2051.89 1552.94 2048.81 1557.54 Q2045.75 1562.13 2039.94 1562.13 Q2034.13 1562.13 2031.06 1557.54 Q2028 1552.94 2028 1544.21 Q2028 1535.46 2031.06 1530.88 Q2034.13 1526.27 2039.94 1526.27 Z\" fill=\"#000000\" fill-rule=\"evenodd\" fill-opacity=\"1\" /><path clip-path=\"url(#clip280)\" d=\"M 0 0 M2066.96 1529.97 Q2063.35 1529.97 2061.52 1533.54 Q2059.71 1537.08 2059.71 1544.21 Q2059.71 1551.32 2061.52 1554.88 Q2063.35 1558.42 2066.96 1558.42 Q2070.59 1558.42 2072.4 1554.88 Q2074.23 1551.32 2074.23 1544.21 Q2074.23 1537.08 2072.4 1533.54 Q2070.59 1529.97 2066.96 1529.97 M2066.96 1526.27 Q2072.77 1526.27 2075.82 1530.88 Q2078.9 1535.46 2078.9 1544.21 Q2078.9 1552.94 2075.82 1557.54 Q2072.77 1562.13 2066.96 1562.13 Q2061.15 1562.13 2058.07 1557.54 Q2055.01 1552.94 2055.01 1544.21 Q2055.01 1535.46 2058.07 1530.88 Q2061.15 1526.27 2066.96 1526.27 Z\" fill=\"#000000\" fill-rule=\"evenodd\" fill-opacity=\"1\" /><path clip-path=\"url(#clip280)\" d=\"M 0 0 M2093.97 1529.97 Q2090.36 1529.97 2088.53 1533.54 Q2086.73 1537.08 2086.73 1544.21 Q2086.73 1551.32 2088.53 1554.88 Q2090.36 1558.42 2093.97 1558.42 Q2097.61 1558.42 2099.41 1554.88 Q2101.24 1551.32 2101.24 1544.21 Q2101.24 1537.08 2099.41 1533.54 Q2097.61 1529.97 2093.97 1529.97 M2093.97 1526.27 Q2099.78 1526.27 2102.84 1530.88 Q2105.92 1535.46 2105.92 1544.21 Q2105.92 1552.94 2102.84 1557.54 Q2099.78 1562.13 2093.97 1562.13 Q2088.16 1562.13 2085.08 1557.54 Q2082.03 1552.94 2082.03 1544.21 Q2082.03 1535.46 2085.08 1530.88 Q2088.16 1526.27 2093.97 1526.27 Z\" fill=\"#000000\" fill-rule=\"evenodd\" fill-opacity=\"1\" /><path clip-path=\"url(#clip280)\" d=\"M 0 0 M2120.99 1529.97 Q2117.37 1529.97 2115.55 1533.54 Q2113.74 1537.08 2113.74 1544.21 Q2113.74 1551.32 2115.55 1554.88 Q2117.37 1558.42 2120.99 1558.42 Q2124.62 1558.42 2126.43 1554.88 Q2128.25 1551.32 2128.25 1544.21 Q2128.25 1537.08 2126.43 1533.54 Q2124.62 1529.97 2120.99 1529.97 M2120.99 1526.27 Q2126.8 1526.27 2129.85 1530.88 Q2132.93 1535.46 2132.93 1544.21 Q2132.93 1552.94 2129.85 1557.54 Q2126.8 1562.13 2120.99 1562.13 Q2115.18 1562.13 2112.1 1557.54 Q2109.04 1552.94 2109.04 1544.21 Q2109.04 1535.46 2112.1 1530.88 Q2115.18 1526.27 2120.99 1526.27 Z\" fill=\"#000000\" fill-rule=\"evenodd\" fill-opacity=\"1\" /><path clip-path=\"url(#clip280)\" d=\"M 0 0 M2148 1529.97 Q2144.39 1529.97 2142.56 1533.54 Q2140.75 1537.08 2140.75 1544.21 Q2140.75 1551.32 2142.56 1554.88 Q2144.39 1558.42 2148 1558.42 Q2151.63 1558.42 2153.44 1554.88 Q2155.27 1551.32 2155.27 1544.21 Q2155.27 1537.08 2153.44 1533.54 Q2151.63 1529.97 2148 1529.97 M2148 1526.27 Q2153.81 1526.27 2156.87 1530.88 Q2159.94 1535.46 2159.94 1544.21 Q2159.94 1552.94 2156.87 1557.54 Q2153.81 1562.13 2148 1562.13 Q2142.19 1562.13 2139.11 1557.54 Q2136.06 1552.94 2136.06 1544.21 Q2136.06 1535.46 2139.11 1530.88 Q2142.19 1526.27 2148 1526.27 Z\" fill=\"#000000\" fill-rule=\"evenodd\" fill-opacity=\"1\" /><path clip-path=\"url(#clip280)\" d=\"M 0 0 M2175.01 1529.97 Q2171.4 1529.97 2169.57 1533.54 Q2167.77 1537.08 2167.77 1544.21 Q2167.77 1551.32 2169.57 1554.88 Q2171.4 1558.42 2175.01 1558.42 Q2178.65 1558.42 2180.45 1554.88 Q2182.28 1551.32 2182.28 1544.21 Q2182.28 1537.08 2180.45 1533.54 Q2178.65 1529.97 2175.01 1529.97 M2175.01 1526.27 Q2180.82 1526.27 2183.88 1530.88 Q2186.96 1535.46 2186.96 1544.21 Q2186.96 1552.94 2183.88 1557.54 Q2180.82 1562.13 2175.01 1562.13 Q2169.2 1562.13 2166.12 1557.54 Q2163.07 1552.94 2163.07 1544.21 Q2163.07 1535.46 2166.12 1530.88 Q2169.2 1526.27 2175.01 1526.27 Z\" fill=\"#000000\" fill-rule=\"evenodd\" fill-opacity=\"1\" /><path clip-path=\"url(#clip280)\" d=\"M 0 0 M2202.03 1529.97 Q2198.42 1529.97 2196.59 1533.54 Q2194.78 1537.08 2194.78 1544.21 Q2194.78 1551.32 2196.59 1554.88 Q2198.42 1558.42 2202.03 1558.42 Q2205.66 1558.42 2207.47 1554.88 Q2209.3 1551.32 2209.3 1544.21 Q2209.3 1537.08 2207.47 1533.54 Q2205.66 1529.97 2202.03 1529.97 M2202.03 1526.27 Q2207.84 1526.27 2210.89 1530.88 Q2213.97 1535.46 2213.97 1544.21 Q2213.97 1552.94 2210.89 1557.54 Q2207.84 1562.13 2202.03 1562.13 Q2196.22 1562.13 2193.14 1557.54 Q2190.08 1552.94 2190.08 1544.21 Q2190.08 1535.46 2193.14 1530.88 Q2196.22 1526.27 2202.03 1526.27 Z\" fill=\"#000000\" fill-rule=\"evenodd\" fill-opacity=\"1\" /><path clip-path=\"url(#clip280)\" d=\"M 0 0 M2229.04 1529.97 Q2225.43 1529.97 2223.6 1533.54 Q2221.8 1537.08 2221.8 1544.21 Q2221.8 1551.32 2223.6 1554.88 Q2225.43 1558.42 2229.04 1558.42 Q2232.67 1558.42 2234.48 1554.88 Q2236.31 1551.32 2236.31 1544.21 Q2236.31 1537.08 2234.48 1533.54 Q2232.67 1529.97 2229.04 1529.97 M2229.04 1526.27 Q2234.85 1526.27 2237.91 1530.88 Q2240.99 1535.46 2240.99 1544.21 Q2240.99 1552.94 2237.91 1557.54 Q2234.85 1562.13 2229.04 1562.13 Q2223.23 1562.13 2220.15 1557.54 Q2217.1 1552.94 2217.1 1544.21 Q2217.1 1535.46 2220.15 1530.88 Q2223.23 1526.27 2229.04 1526.27 Z\" fill=\"#000000\" fill-rule=\"evenodd\" fill-opacity=\"1\" /><path clip-path=\"url(#clip280)\" d=\"M 0 0 M2256.05 1529.97 Q2252.44 1529.97 2250.61 1533.54 Q2248.81 1537.08 2248.81 1544.21 Q2248.81 1551.32 2250.61 1554.88 Q2252.44 1558.42 2256.05 1558.42 Q2259.69 1558.42 2261.49 1554.88 Q2263.32 1551.32 2263.32 1544.21 Q2263.32 1537.08 2261.49 1533.54 Q2259.69 1529.97 2256.05 1529.97 M2256.05 1526.27 Q2261.86 1526.27 2264.92 1530.88 Q2268 1535.46 2268 1544.21 Q2268 1552.94 2264.92 1557.54 Q2261.86 1562.13 2256.05 1562.13 Q2250.24 1562.13 2247.17 1557.54 Q2244.11 1552.94 2244.11 1544.21 Q2244.11 1535.46 2247.17 1530.88 Q2250.24 1526.27 2256.05 1526.27 Z\" fill=\"#000000\" fill-rule=\"evenodd\" fill-opacity=\"1\" /><path clip-path=\"url(#clip280)\" d=\"M 0 0 M2283.07 1529.97 Q2279.46 1529.97 2277.63 1533.54 Q2275.82 1537.08 2275.82 1544.21 Q2275.82 1551.32 2277.63 1554.88 Q2279.46 1558.42 2283.07 1558.42 Q2286.7 1558.42 2288.51 1554.88 Q2290.34 1551.32 2290.34 1544.21 Q2290.34 1537.08 2288.51 1533.54 Q2286.7 1529.97 2283.07 1529.97 M2283.07 1526.27 Q2288.88 1526.27 2291.93 1530.88 Q2295.01 1535.46 2295.01 1544.21 Q2295.01 1552.94 2291.93 1557.54 Q2288.88 1562.13 2283.07 1562.13 Q2277.26 1562.13 2274.18 1557.54 Q2271.12 1552.94 2271.12 1544.21 Q2271.12 1535.46 2274.18 1530.88 Q2277.26 1526.27 2283.07 1526.27 Z\" fill=\"#000000\" fill-rule=\"evenodd\" fill-opacity=\"1\" /><path clip-path=\"url(#clip280)\" d=\"M 0 0 M2310.08 1529.97 Q2306.47 1529.97 2304.64 1533.54 Q2302.84 1537.08 2302.84 1544.21 Q2302.84 1551.32 2304.64 1554.88 Q2306.47 1558.42 2310.08 1558.42 Q2313.72 1558.42 2315.52 1554.88 Q2317.35 1551.32 2317.35 1544.21 Q2317.35 1537.08 2315.52 1533.54 Q2313.72 1529.97 2310.08 1529.97 M2310.08 1526.27 Q2315.89 1526.27 2318.95 1530.88 Q2322.03 1535.46 2322.03 1544.21 Q2322.03 1552.94 2318.95 1557.54 Q2315.89 1562.13 2310.08 1562.13 Q2304.27 1562.13 2301.19 1557.54 Q2298.14 1552.94 2298.14 1544.21 Q2298.14 1535.46 2301.19 1530.88 Q2304.27 1526.27 2310.08 1526.27 Z\" fill=\"#000000\" fill-rule=\"evenodd\" fill-opacity=\"1\" /><path clip-path=\"url(#clip280)\" d=\"M 0 0 M2337.1 1529.97 Q2333.48 1529.97 2331.66 1533.54 Q2329.85 1537.08 2329.85 1544.21 Q2329.85 1551.32 2331.66 1554.88 Q2333.48 1558.42 2337.1 1558.42 Q2340.73 1558.42 2342.54 1554.88 Q2344.36 1551.32 2344.36 1544.21 Q2344.36 1537.08 2342.54 1533.54 Q2340.73 1529.97 2337.1 1529.97 M2337.1 1526.27 Q2342.91 1526.27 2345.96 1530.88 Q2349.04 1535.46 2349.04 1544.21 Q2349.04 1552.94 2345.96 1557.54 Q2342.91 1562.13 2337.1 1562.13 Q2331.29 1562.13 2328.21 1557.54 Q2325.15 1552.94 2325.15 1544.21 Q2325.15 1535.46 2328.21 1530.88 Q2331.29 1526.27 2337.1 1526.27 Z\" fill=\"#000000\" fill-rule=\"evenodd\" fill-opacity=\"1\" /><path clip-path=\"url(#clip280)\" d=\"M 0 0 M2364.11 1529.97 Q2360.5 1529.97 2358.67 1533.54 Q2356.86 1537.08 2356.86 1544.21 Q2356.86 1551.32 2358.67 1554.88 Q2360.5 1558.42 2364.11 1558.42 Q2367.74 1558.42 2369.55 1554.88 Q2371.38 1551.32 2371.38 1544.21 Q2371.38 1537.08 2369.55 1533.54 Q2367.74 1529.97 2364.11 1529.97 M2364.11 1526.27 Q2369.92 1526.27 2372.98 1530.88 Q2376.05 1535.46 2376.05 1544.21 Q2376.05 1552.94 2372.98 1557.54 Q2369.92 1562.13 2364.11 1562.13 Q2358.3 1562.13 2355.22 1557.54 Q2352.17 1552.94 2352.17 1544.21 Q2352.17 1535.46 2355.22 1530.88 Q2358.3 1526.27 2364.11 1526.27 Z\" fill=\"#000000\" fill-rule=\"evenodd\" fill-opacity=\"1\" /><path clip-path=\"url(#clip280)\" d=\"M 0 0 M2391.12 1529.97 Q2387.51 1529.97 2385.68 1533.54 Q2383.88 1537.08 2383.88 1544.21 Q2383.88 1551.32 2385.68 1554.88 Q2387.51 1558.42 2391.12 1558.42 Q2394.76 1558.42 2396.56 1554.88 Q2398.39 1551.32 2398.39 1544.21 Q2398.39 1537.08 2396.56 1533.54 Q2394.76 1529.97 2391.12 1529.97 M2391.12 1526.27 Q2396.93 1526.27 2399.99 1530.88 Q2403.07 1535.46 2403.07 1544.21 Q2403.07 1552.94 2399.99 1557.54 Q2396.93 1562.13 2391.12 1562.13 Q2385.31 1562.13 2382.23 1557.54 Q2379.18 1552.94 2379.18 1544.21 Q2379.18 1535.46 2382.23 1530.88 Q2385.31 1526.27 2391.12 1526.27 Z\" fill=\"#000000\" fill-rule=\"evenodd\" fill-opacity=\"1\" /><path clip-path=\"url(#clip280)\" d=\"M 0 0 M2418.14 1529.97 Q2414.53 1529.97 2412.7 1533.54 Q2410.89 1537.08 2410.89 1544.21 Q2410.89 1551.32 2412.7 1554.88 Q2414.53 1558.42 2418.14 1558.42 Q2421.77 1558.42 2423.58 1554.88 Q2425.41 1551.32 2425.41 1544.21 Q2425.41 1537.08 2423.58 1533.54 Q2421.77 1529.97 2418.14 1529.97 M2418.14 1526.27 Q2423.95 1526.27 2427 1530.88 Q2430.08 1535.46 2430.08 1544.21 Q2430.08 1552.94 2427 1557.54 Q2423.95 1562.13 2418.14 1562.13 Q2412.33 1562.13 2409.25 1557.54 Q2406.19 1552.94 2406.19 1544.21 Q2406.19 1535.46 2409.25 1530.88 Q2412.33 1526.27 2418.14 1526.27 Z\" fill=\"#000000\" fill-rule=\"evenodd\" fill-opacity=\"1\" /><path clip-path=\"url(#clip280)\" d=\"M 0 0 M2439.18 1557.52 L2455.5 1557.52 L2455.5 1561.46 L2433.55 1561.46 L2433.55 1557.52 Q2436.22 1554.77 2440.8 1550.14 Q2445.41 1545.48 2446.59 1544.14 Q2448.83 1541.62 2449.71 1539.88 Q2450.61 1538.12 2450.61 1536.43 Q2450.61 1533.68 2448.67 1531.94 Q2446.75 1530.21 2443.65 1530.21 Q2441.45 1530.21 2438.99 1530.97 Q2436.56 1531.73 2433.79 1533.28 L2433.79 1528.56 Q2436.61 1527.43 2439.06 1526.85 Q2441.52 1526.27 2443.55 1526.27 Q2448.92 1526.27 2452.12 1528.96 Q2455.31 1531.64 2455.31 1536.13 Q2455.31 1538.26 2454.5 1540.18 Q2453.72 1542.08 2451.61 1544.67 Q2451.03 1545.34 2447.93 1548.56 Q2444.83 1551.76 2439.18 1557.52 Z\" fill=\"#000000\" fill-rule=\"evenodd\" fill-opacity=\"1\" /><path clip-path=\"url(#clip280)\" d=\"M 0 0 M2488.74 1535.99 L2478.16 1546.62 L2488.74 1557.2 L2485.98 1560 L2475.36 1549.37 L2464.73 1560 L2462 1557.2 L2472.56 1546.62 L2462 1535.99 L2464.73 1533.19 L2475.36 1543.82 L2485.98 1533.19 L2488.74 1535.99 Z\" fill=\"#000000\" fill-rule=\"evenodd\" fill-opacity=\"1\" /><path clip-path=\"url(#clip280)\" d=\"M 0 0 M2494.62 1557.52 L2502.26 1557.52 L2502.26 1531.15 L2493.95 1532.82 L2493.95 1528.56 L2502.21 1526.9 L2506.89 1526.9 L2506.89 1557.52 L2514.53 1557.52 L2514.53 1561.46 L2494.62 1561.46 L2494.62 1557.52 Z\" fill=\"#000000\" fill-rule=\"evenodd\" fill-opacity=\"1\" /><path clip-path=\"url(#clip280)\" d=\"M 0 0 M2529.59 1529.97 Q2525.98 1529.97 2524.15 1533.54 Q2522.35 1537.08 2522.35 1544.21 Q2522.35 1551.32 2524.15 1554.88 Q2525.98 1558.42 2529.59 1558.42 Q2533.23 1558.42 2535.03 1554.88 Q2536.86 1551.32 2536.86 1544.21 Q2536.86 1537.08 2535.03 1533.54 Q2533.23 1529.97 2529.59 1529.97 M2529.59 1526.27 Q2535.4 1526.27 2538.46 1530.88 Q2541.54 1535.46 2541.54 1544.21 Q2541.54 1552.94 2538.46 1557.54 Q2535.4 1562.13 2529.59 1562.13 Q2523.78 1562.13 2520.71 1557.54 Q2517.65 1552.94 2517.65 1544.21 Q2517.65 1535.46 2520.71 1530.88 Q2523.78 1526.27 2529.59 1526.27 Z\" fill=\"#000000\" fill-rule=\"evenodd\" fill-opacity=\"1\" /><path clip-path=\"url(#clip280)\" d=\"M 0 0 M2541.54 1513.83 L2556.72 1513.83 L2556.72 1515.61 L2541.54 1515.61 L2541.54 1513.83 Z\" fill=\"#000000\" fill-rule=\"evenodd\" fill-opacity=\"1\" /><path clip-path=\"url(#clip280)\" d=\"M 0 0 M2559.65 1519.41 L2563.49 1519.41 L2563.49 1507.92 L2559.29 1508.69 L2559.29 1506.51 L2563.62 1505.78 L2566.2 1505.78 L2566.2 1519.41 L2570.05 1519.41 L2570.05 1521.48 L2559.65 1521.48 L2559.65 1519.41 Z\" fill=\"#000000\" fill-rule=\"evenodd\" fill-opacity=\"1\" /><path clip-path=\"url(#clip280)\" d=\"M 0 0 M2579.02 1508.05 L2573.21 1515.93 L2579.02 1515.93 L2579.02 1508.05 M2578.61 1505.78 L2581.73 1505.78 L2581.73 1515.93 L2584.27 1515.93 L2584.27 1517.98 L2581.73 1517.98 L2581.73 1521.48 L2579.02 1521.48 L2579.02 1517.98 L2571.24 1517.98 L2571.24 1515.71 L2578.61 1505.78 Z\" fill=\"#000000\" fill-rule=\"evenodd\" fill-opacity=\"1\" /><path clip-path=\"url(#clip280)\" d=\"M 0 0 M74.9365 1431.55 Q71.3254 1431.55 69.4967 1435.12 Q67.6912 1438.66 67.6912 1445.79 Q67.6912 1452.89 69.4967 1456.46 Q71.3254 1460 74.9365 1460 Q78.5707 1460 80.3763 1456.46 Q82.205 1452.89 82.205 1445.79 Q82.205 1438.66 80.3763 1435.12 Q78.5707 1431.55 74.9365 1431.55 M74.9365 1427.85 Q80.7467 1427.85 83.8022 1432.46 Q86.8809 1437.04 86.8809 1445.79 Q86.8809 1454.52 83.8022 1459.12 Q80.7467 1463.71 74.9365 1463.71 Q69.1264 1463.71 66.0477 1459.12 Q62.9921 1454.52 62.9921 1445.79 Q62.9921 1437.04 66.0477 1432.46 Q69.1264 1427.85 74.9365 1427.85 Z\" fill=\"#000000\" fill-rule=\"evenodd\" fill-opacity=\"1\" /><path clip-path=\"url(#clip280)\" d=\"M 0 0 M66.9736 994.601 L74.6124 994.601 L74.6124 968.236 L66.3023 969.902 L66.3023 965.643 L74.5661 963.976 L79.242 963.976 L79.242 994.601 L86.8809 994.601 L86.8809 998.536 L66.9736 998.536 L66.9736 994.601 Z\" fill=\"#000000\" fill-rule=\"evenodd\" fill-opacity=\"1\" /><path clip-path=\"url(#clip280)\" d=\"M 0 0 M70.5615 530.104 L86.8809 530.104 L86.8809 534.039 L64.9366 534.039 L64.9366 530.104 Q67.5986 527.349 72.1819 522.72 Q76.7883 518.067 77.9689 516.724 Q80.2143 514.201 81.0939 512.465 Q81.9967 510.706 81.9967 509.016 Q81.9967 506.261 80.0522 504.525 Q78.1309 502.789 75.0291 502.789 Q72.83 502.789 70.3763 503.553 Q67.9458 504.317 65.168 505.868 L65.168 501.146 Q67.9921 500.011 70.4458 499.433 Q72.8995 498.854 74.9365 498.854 Q80.3068 498.854 83.5013 501.539 Q86.6957 504.224 86.6957 508.715 Q86.6957 510.845 85.8855 512.766 Q85.0985 514.664 82.992 517.257 Q82.4133 517.928 79.3115 521.145 Q76.2096 524.34 70.5615 530.104 Z\" fill=\"#000000\" fill-rule=\"evenodd\" fill-opacity=\"1\" /><path clip-path=\"url(#clip280)\" d=\"M 0 0 M79.7513 50.9073 Q83.1078 51.6249 84.9827 53.8934 Q86.8809 56.1619 86.8809 59.4952 Q86.8809 64.611 83.3624 67.4119 Q79.8439 70.2128 73.3624 70.2128 Q71.1865 70.2128 68.8717 69.773 Q66.5801 69.3563 64.1264 68.4998 L64.1264 63.986 Q66.0708 65.1202 68.3856 65.6989 Q70.7004 66.2776 73.2236 66.2776 Q77.6217 66.2776 79.9133 64.5415 Q82.2281 62.8054 82.2281 59.4952 Q82.2281 56.4397 80.0754 54.7268 Q77.9457 52.9907 74.1263 52.9907 L70.0986 52.9907 L70.0986 49.1481 L74.3115 49.1481 Q77.7606 49.1481 79.5893 47.7823 Q81.418 46.3935 81.418 43.8009 Q81.418 41.1389 79.5198 39.7268 Q77.6448 38.2917 74.1263 38.2917 Q72.205 38.2917 70.006 38.7083 Q67.8069 39.125 65.168 40.0046 L65.168 35.838 Q67.8301 35.0972 70.1449 34.7269 Q72.4828 34.3565 74.543 34.3565 Q79.867 34.3565 82.9689 36.787 Q86.0707 39.1944 86.0707 43.3148 Q86.0707 46.1851 84.4272 48.1759 Q82.7837 50.1434 79.7513 50.9073 Z\" fill=\"#000000\" fill-rule=\"evenodd\" fill-opacity=\"1\" /><polyline clip-path=\"url(#clip282)\" style=\"stroke:#009af9; stroke-width:4; stroke-opacity:1; fill:none\" points=\"\n",
       "  174.33,516.759 175.621,516.759 176.912,516.759 178.203,516.759 179.494,516.759 180.785,516.759 182.076,516.759 182.721,516.759 183.367,516.759 184.012,516.759 \n",
       "  184.657,516.759 184.98,516.759 185.303,516.759 185.464,516.759 185.626,516.759 185.787,516.759 185.948,1438.84 186.11,1426.43 186.271,1414.35 186.432,1402.59 \n",
       "  186.594,1391.13 186.917,1369.09 187.239,1348.12 188.53,1273.65 189.821,1211.43 191.112,1158.66 192.403,1113.34 193.048,1092.99 193.694,1073.99 194.016,1064.96 \n",
       "  194.339,1056.21 194.662,1047.73 194.985,1039.52 196.477,1004.63 197.969,87.9763 199.461,222.612 200.953,342.275 202.445,449.332 203.937,545.676 205.429,632.837 \n",
       "  206.921,712.069 208.413,784.407 209.905,545.906 211.397,619.104 212.889,686.668 215.873,807.31 218.857,911.858 221.841,1003.33 224.825,1084.04 227.809,1155.78 \n",
       "  230.793,1219.96 233.778,1277.72 236.762,1329.98 239.746,1377.48 242.73,1420.86 244.222,1441.16 245.714,1430.89 247.206,1412.23 248.698,1394.32 251.682,1360.55 \n",
       "  254.666,1329.29 256.158,1314.52 257.65,1330.07 259.142,1348.4 260.634,1366.1 263.618,1399.73 266.602,1431.19 268.094,1445.33 269.586,1430.82 271.078,1416.76 \n",
       "  272.57,1403.12 274.063,1389.88 275.555,1377.04 277.047,1364.57 278.539,1352.46 280.031,1443.67 281.523,1430.8 283.015,1418.27 284.507,1406.09 287.491,1382.68 \n",
       "  290.475,1360.47 293.459,1369.33 296.443,1393.85 297.935,1405.67 299.427,1417.21 300.919,1428.48 302.411,1439.49 303.903,1366.19 305.395,1377.65 306.887,1388.86 \n",
       "  308.379,1399.82 311.363,1421.01 314.347,1441.31 317.332,1430.75 320.316,1412.09 323.3,1394.18 326.284,1376.98 329.268,1360.43 332.252,1344.51 333.744,1336.77 \n",
       "  335.236,1329.18 336.728,1321.73 338.22,1314.41 339.712,1438.96 341.204,1430.73 342.696,1422.64 344.188,1414.69 347.172,1399.21 350.156,1384.25 353.14,1399.86 \n",
       "  356.124,1415.84 359.108,1431.31 362.093,1445.22 365.077,1430.71 368.061,1416.65 369.553,1409.78 371.045,1403.01 372.537,1396.35 374.029,1444.35 375.521,1437.48 \n",
       "  377.013,1430.71 378.505,1424.04 379.997,1417.46 381.489,1410.98 382.981,1404.59 384.473,1398.29 385.965,1293.46 386.862,1298.02 387.758,1302.54 388.655,1307.02 \n",
       "  389.552,1311.46 391.345,1320.24 393.138,1328.88 394.035,1333.14 394.932,1337.37 395.828,1341.57 396.725,1345.73 397.622,1301.05 398.518,1305.34 399.415,1309.6 \n",
       "  400.312,1313.82 403.898,1330.38 407.485,1346.43 411.071,1362 414.658,1377.1 421.831,1405.99 429.004,1433.25 432.591,1445.19 436.178,1432.49 439.764,1420.12 \n",
       "  443.351,1408.09 446.937,1415.17 450.524,1427.62 454.111,1439.76 457.697,1439.93 461.284,1428.4 464.87,1417.15 465.767,1414.38 466.664,1411.63 467.56,1408.9 \n",
       "  468.457,1443.24 469.354,1440.42 470.25,1437.63 471.147,1434.85 472.044,1432.08 486.39,1431.61 500.736,1439.64 506.801,1434.82 512.866,1418.38 515.899,1410.38 \n",
       "  518.931,1402.52 520.447,1398.64 521.963,1394.8 523.48,1390.99 524.996,1387.21 525.754,1385.34 526.512,1445.37 527.27,1443.38 528.028,1441.4 529.544,1437.45 \n",
       "  531.061,1433.54 534.093,1425.82 537.126,1418.22 543.19,1428.99 549.255,1444.28 552.288,1439.77 555.32,1432.43 556.836,1428.8 558.353,1425.2 559.869,1421.63 \n",
       "  561.385,1418.09 562.143,1444.44 562.901,1442.63 563.659,1440.83 564.417,1439.03 565.934,1435.46 567.45,1431.92 568.966,1428.41 570.482,1424.92 571.24,1423.19 \n",
       "  571.998,1421.46 572.757,1419.74 573.515,1364.24 574.273,1366.15 575.031,1368.06 575.789,1369.96 576.547,1371.85 578.063,1375.62 579.58,1379.35 581.096,1383.06 \n",
       "  582.612,1386.74 583.37,1388.57 584.128,1390.4 584.886,1392.21 585.644,1367.52 588.677,1374.89 591.709,1382.15 594.742,1389.3 597.774,1396.36 610.95,1425.87 \n",
       "  624.127,1437.86 637.303,1432.75 650.479,1432.7 663.655,1430.33 676.832,1441.73 690.008,1444.42 703.184,1423.92 706.221,1418.75 709.258,1413.63 710.776,1411.09 \n",
       "  712.295,1408.57 713.054,1407.31 713.813,1406.06 714.572,1445.17 715.332,1443.87 718.368,1438.7 721.405,1433.58 724.442,1428.52 727.479,1428.56 739.626,1442.62 \n",
       "  751.774,1442.03 754.81,1437.19 757.847,1432.4 759.366,1430.03 760.884,1427.67 761.643,1390.76 762.403,1392.02 763.162,1393.29 763.921,1394.55 766.958,1399.58 \n",
       "  769.995,1404.55 773.031,1391.25 776.068,1396.21 788.216,1415.57 800.363,1434.18 826.409,1438.29 852.456,1433.34 878.502,1445.6 904.549,1442.64 919.638,1438.34 \n",
       "  934.726,1434.59 938.499,1444.33 942.271,1439.77 944.157,1437.51 946.043,1435.26 946.986,1434.14 947.929,1433.02 948.872,1431.91 949.815,1404.46 951.701,1406.82 \n",
       "  953.587,1409.16 955.473,1411.49 957.359,1413.81 961.132,1404.55 964.904,1409.18 979.992,1427.26 995.081,1444.68 1002.63,1438.36 1010.17,1435.37 1013.94,1439.59 \n",
       "  1017.71,1443.77 1019.6,1445.66 1021.49,1443.6 1023.37,1441.54 1025.26,1439.49 1078.89,1433.01 1132.53,1438.64 1179.57,1441.75 1226.6,1439.16 1252.24,1443.93 \n",
       "  1277.88,1445.72 1290.7,1436.92 1303.52,1443.94 1309.93,1438.71 1316.34,1443.09 1319.54,1440.49 1322.75,1437.92 1325.95,1418.27 1329.16,1420.93 1342.06,1422.12 \n",
       "  1354.95,1432.52 1367.85,1442.7 1380.74,1438.84 1406.54,1437.25 1432.33,1438.45 1489.36,1445.63 1546.4,1436.79 1600.66,1441.98 1654.93,1444.9 1767.77,1443.88 \n",
       "  1862.77,1444.57 1978.74,1441.56 2087.77,1434.24 2262.43,1441.29 2289.31,1436.18 \n",
       "  \"/>\n",
       "<path clip-path=\"url(#clip280)\" d=\"\n",
       "M1977.91 216.178 L2278.03 216.178 L2278.03 95.2176 L1977.91 95.2176  Z\n",
       "  \" fill=\"#ffffff\" fill-rule=\"evenodd\" fill-opacity=\"1\"/>\n",
       "<polyline clip-path=\"url(#clip280)\" style=\"stroke:#000000; stroke-width:4; stroke-opacity:1; fill:none\" points=\"\n",
       "  1977.91,216.178 2278.03,216.178 2278.03,95.2176 1977.91,95.2176 1977.91,216.178 \n",
       "  \"/>\n",
       "<polyline clip-path=\"url(#clip280)\" style=\"stroke:#009af9; stroke-width:4; stroke-opacity:1; fill:none\" points=\"\n",
       "  2002.82,155.698 2152.28,155.698 \n",
       "  \"/>\n",
       "<path clip-path=\"url(#clip280)\" d=\"M 0 0 M2191.03 175.385 Q2189.23 180.015 2187.51 181.427 Q2185.8 182.839 2182.93 182.839 L2179.53 182.839 L2179.53 179.274 L2182.03 179.274 Q2183.79 179.274 2184.76 178.44 Q2185.73 177.607 2186.91 174.505 L2187.68 172.561 L2177.19 147.052 L2181.7 147.052 L2189.8 167.329 L2197.91 147.052 L2202.42 147.052 L2191.03 175.385 Z\" fill=\"#000000\" fill-rule=\"evenodd\" fill-opacity=\"1\" /><path clip-path=\"url(#clip280)\" d=\"M 0 0 M2208.3 169.042 L2215.94 169.042 L2215.94 142.677 L2207.63 144.343 L2207.63 140.084 L2215.89 138.418 L2220.57 138.418 L2220.57 169.042 L2228.21 169.042 L2228.21 172.978 L2208.3 172.978 L2208.3 169.042 Z\" fill=\"#000000\" fill-rule=\"evenodd\" fill-opacity=\"1\" /></svg>\n"
      ]
     },
     "execution_count": 49,
     "metadata": {},
     "output_type": "execute_result"
    }
   ],
   "source": [
    "plot(errcd, 1e-18,0.1e-13)"
   ]
  },
  {
   "cell_type": "code",
   "execution_count": 51,
   "metadata": {},
   "outputs": [
    {
     "data": {
      "text/plain": [
       "0.346875"
      ]
     },
     "execution_count": 51,
     "metadata": {},
     "output_type": "execute_result"
    }
   ],
   "source": [
    "ϵ = 1e-15\n",
    "dfcd2(x) = (f(x+ϵ)-f(x-ϵ))/(2*ϵ)\n",
    "fzero(dfcd2, 0.2, 0.5)"
   ]
  },
  {
   "cell_type": "markdown",
   "metadata": {},
   "source": [
    "La différence centrale fournit de plus petites erreurs numériques, mais au prix d'une évaluation de fonction supplémentaire."
   ]
  },
  {
   "cell_type": "markdown",
   "metadata": {
    "collapsed": true
   },
   "source": [
    "Les dérivées numériques sont souvent coûteuses à calculer, surtout pour des problèmes multivariés, et nous nous tournerons vers la différentiation automatique."
   ]
  },
  {
   "cell_type": "code",
   "execution_count": 52,
   "metadata": {},
   "outputs": [
    {
     "name": "stdout",
     "output_type": "stream",
     "text": [
      "1. x = 1.1, f(x) = 0.21238230365969724\n",
      "2. x = 0.17678773862630892, f(x) = -0.6328810373010464\n",
      "3. x = 0.2942185128994119, f(x) = -0.7040552143383558\n",
      "4. x = 0.34392708747069356, f(x) = -0.7106930135038015\n",
      "5. x = 0.34779235362665795, f(x) = -0.7107265753408357\n",
      "6. x = 0.3478103843909892, f(x) = -0.7107265760622221\n",
      "7. x = 0.34781038477877974, f(x) = -0.7107265760622219\n"
     ]
    }
   ],
   "source": [
    "Newton(f, dfcd, d2f, 1.1)"
   ]
  },
  {
   "cell_type": "code",
   "execution_count": 53,
   "metadata": {},
   "outputs": [
    {
     "data": {
      "text/plain": [
       "dfhd (generic function with 2 methods)"
      ]
     },
     "execution_count": 53,
     "metadata": {},
     "output_type": "execute_result"
    }
   ],
   "source": [
    "dfhd(x, ϵ=1e-4) = (dfcd(x+ϵ)-dfcd(x))/ϵ"
   ]
  },
  {
   "cell_type": "code",
   "execution_count": 54,
   "metadata": {},
   "outputs": [
    {
     "name": "stdout",
     "output_type": "stream",
     "text": [
      "1. x = 1.1, f(x) = 0.21238230365969724\n",
      "2. x = 0.17677563355014392, f(x) = -0.6328686318097565\n",
      "3. x = 0.29424761704081137, f(x) = -0.7040626382540115\n",
      "4. x = 0.343939312993119, f(x) = -0.7106932248221285\n",
      "5. x = 0.3477929328575259, f(x) = -0.7107265753864391\n",
      "6. x = 0.34781038647043694, f(x) = -0.7107265760622221\n",
      "7. x = 0.34781038479398285, f(x) = -0.7107265760622219\n"
     ]
    }
   ],
   "source": [
    "Newton(f, dfcd, dfhd, 1.1)"
   ]
  },
  {
   "cell_type": "markdown",
   "metadata": {},
   "source": [
    "Utilisons à présent la différentiation automatique."
   ]
  },
  {
   "cell_type": "code",
   "execution_count": 55,
   "metadata": {},
   "outputs": [
    {
     "name": "stderr",
     "output_type": "stream",
     "text": [
      "\u001b[32m\u001b[1m  Resolving\u001b[22m\u001b[39m package versions...\n",
      "\u001b[32m\u001b[1mUpdating\u001b[22m\u001b[39m `C:\\Users\\slash\\.julia\\environments\\v1.5\\Project.toml`\n",
      " \u001b[90m [f6369f11] \u001b[39m\u001b[92m+ ForwardDiff v0.10.12\u001b[39m\n",
      "\u001b[32m\u001b[1mNo Changes\u001b[22m\u001b[39m to `C:\\Users\\slash\\.julia\\environments\\v1.5\\Manifest.toml`\n"
     ]
    }
   ],
   "source": [
    "using ForwardDiff"
   ]
  },
  {
   "cell_type": "code",
   "execution_count": 56,
   "metadata": {},
   "outputs": [
    {
     "data": {
      "text/plain": [
       "#1 (generic function with 1 method)"
      ]
     },
     "execution_count": 56,
     "metadata": {},
     "output_type": "execute_result"
    }
   ],
   "source": [
    "g2 = x -> ForwardDiff.derivative(f, x)"
   ]
  },
  {
   "cell_type": "code",
   "execution_count": 57,
   "metadata": {},
   "outputs": [
    {
     "name": "stdout",
     "output_type": "stream",
     "text": [
      "1. x = 1.1, f(x) = 0.21238230365969724\n",
      "2. x = 0.17677563346369074, f(x) = -0.6328686317211533\n",
      "3. x = 0.2942476245134814, f(x) = -0.70406264015959\n",
      "4. x = 0.3439393183705949, f(x) = -0.7106932249149309\n",
      "5. x = 0.34779293286432433, f(x) = -0.7107265753864397\n",
      "6. x = 0.34781038649273033, f(x) = -0.7107265760622221\n",
      "7. x = 0.34781038477972825, f(x) = -0.7107265760622221\n"
     ]
    }
   ],
   "source": [
    "Newton(f, g2, dfhd, 1.1)"
   ]
  },
  {
   "cell_type": "code",
   "execution_count": 58,
   "metadata": {},
   "outputs": [
    {
     "data": {
      "image/svg+xml": [
       "<?xml version=\"1.0\" encoding=\"utf-8\"?>\n",
       "<svg xmlns=\"http://www.w3.org/2000/svg\" xmlns:xlink=\"http://www.w3.org/1999/xlink\" width=\"600\" height=\"400\" viewBox=\"0 0 2400 1600\">\n",
       "<defs>\n",
       "  <clipPath id=\"clip320\">\n",
       "    <rect x=\"0\" y=\"0\" width=\"2400\" height=\"1600\"/>\n",
       "  </clipPath>\n",
       "</defs>\n",
       "<path clip-path=\"url(#clip320)\" d=\"\n",
       "M0 1600 L2400 1600 L2400 0 L0 0  Z\n",
       "  \" fill=\"#ffffff\" fill-rule=\"evenodd\" fill-opacity=\"1\"/>\n",
       "<defs>\n",
       "  <clipPath id=\"clip321\">\n",
       "    <rect x=\"480\" y=\"0\" width=\"1681\" height=\"1600\"/>\n",
       "  </clipPath>\n",
       "</defs>\n",
       "<path clip-path=\"url(#clip320)\" d=\"\n",
       "M174.862 1486.45 L2352.76 1486.45 L2352.76 47.2441 L174.862 47.2441  Z\n",
       "  \" fill=\"#ffffff\" fill-rule=\"evenodd\" fill-opacity=\"1\"/>\n",
       "<defs>\n",
       "  <clipPath id=\"clip322\">\n",
       "    <rect x=\"174\" y=\"47\" width=\"2179\" height=\"1440\"/>\n",
       "  </clipPath>\n",
       "</defs>\n",
       "<polyline clip-path=\"url(#clip322)\" style=\"stroke:#000000; stroke-width:2; stroke-opacity:0.1; fill:none\" points=\"\n",
       "  236.501,1486.45 236.501,47.2441 \n",
       "  \"/>\n",
       "<polyline clip-path=\"url(#clip322)\" style=\"stroke:#000000; stroke-width:2; stroke-opacity:0.1; fill:none\" points=\"\n",
       "  750.155,1486.45 750.155,47.2441 \n",
       "  \"/>\n",
       "<polyline clip-path=\"url(#clip322)\" style=\"stroke:#000000; stroke-width:2; stroke-opacity:0.1; fill:none\" points=\"\n",
       "  1263.81,1486.45 1263.81,47.2441 \n",
       "  \"/>\n",
       "<polyline clip-path=\"url(#clip322)\" style=\"stroke:#000000; stroke-width:2; stroke-opacity:0.1; fill:none\" points=\"\n",
       "  1777.46,1486.45 1777.46,47.2441 \n",
       "  \"/>\n",
       "<polyline clip-path=\"url(#clip322)\" style=\"stroke:#000000; stroke-width:2; stroke-opacity:0.1; fill:none\" points=\"\n",
       "  2291.12,1486.45 2291.12,47.2441 \n",
       "  \"/>\n",
       "<polyline clip-path=\"url(#clip322)\" style=\"stroke:#000000; stroke-width:2; stroke-opacity:0.1; fill:none\" points=\"\n",
       "  174.862,1445.72 2352.76,1445.72 \n",
       "  \"/>\n",
       "<polyline clip-path=\"url(#clip322)\" style=\"stroke:#000000; stroke-width:2; stroke-opacity:0.1; fill:none\" points=\"\n",
       "  174.862,1106.28 2352.76,1106.28 \n",
       "  \"/>\n",
       "<polyline clip-path=\"url(#clip322)\" style=\"stroke:#000000; stroke-width:2; stroke-opacity:0.1; fill:none\" points=\"\n",
       "  174.862,766.846 2352.76,766.846 \n",
       "  \"/>\n",
       "<polyline clip-path=\"url(#clip322)\" style=\"stroke:#000000; stroke-width:2; stroke-opacity:0.1; fill:none\" points=\"\n",
       "  174.862,427.411 2352.76,427.411 \n",
       "  \"/>\n",
       "<polyline clip-path=\"url(#clip322)\" style=\"stroke:#000000; stroke-width:2; stroke-opacity:0.1; fill:none\" points=\"\n",
       "  174.862,87.9763 2352.76,87.9763 \n",
       "  \"/>\n",
       "<polyline clip-path=\"url(#clip320)\" style=\"stroke:#000000; stroke-width:4; stroke-opacity:1; fill:none\" points=\"\n",
       "  174.862,1486.45 2352.76,1486.45 \n",
       "  \"/>\n",
       "<polyline clip-path=\"url(#clip320)\" style=\"stroke:#000000; stroke-width:4; stroke-opacity:1; fill:none\" points=\"\n",
       "  174.862,1486.45 174.862,47.2441 \n",
       "  \"/>\n",
       "<polyline clip-path=\"url(#clip320)\" style=\"stroke:#000000; stroke-width:4; stroke-opacity:1; fill:none\" points=\"\n",
       "  236.501,1486.45 236.501,1469.18 \n",
       "  \"/>\n",
       "<polyline clip-path=\"url(#clip320)\" style=\"stroke:#000000; stroke-width:4; stroke-opacity:1; fill:none\" points=\"\n",
       "  750.155,1486.45 750.155,1469.18 \n",
       "  \"/>\n",
       "<polyline clip-path=\"url(#clip320)\" style=\"stroke:#000000; stroke-width:4; stroke-opacity:1; fill:none\" points=\"\n",
       "  1263.81,1486.45 1263.81,1469.18 \n",
       "  \"/>\n",
       "<polyline clip-path=\"url(#clip320)\" style=\"stroke:#000000; stroke-width:4; stroke-opacity:1; fill:none\" points=\"\n",
       "  1777.46,1486.45 1777.46,1469.18 \n",
       "  \"/>\n",
       "<polyline clip-path=\"url(#clip320)\" style=\"stroke:#000000; stroke-width:4; stroke-opacity:1; fill:none\" points=\"\n",
       "  2291.12,1486.45 2291.12,1469.18 \n",
       "  \"/>\n",
       "<polyline clip-path=\"url(#clip320)\" style=\"stroke:#000000; stroke-width:4; stroke-opacity:1; fill:none\" points=\"\n",
       "  174.862,1445.72 200.997,1445.72 \n",
       "  \"/>\n",
       "<polyline clip-path=\"url(#clip320)\" style=\"stroke:#000000; stroke-width:4; stroke-opacity:1; fill:none\" points=\"\n",
       "  174.862,1106.28 200.997,1106.28 \n",
       "  \"/>\n",
       "<polyline clip-path=\"url(#clip320)\" style=\"stroke:#000000; stroke-width:4; stroke-opacity:1; fill:none\" points=\"\n",
       "  174.862,766.846 200.997,766.846 \n",
       "  \"/>\n",
       "<polyline clip-path=\"url(#clip320)\" style=\"stroke:#000000; stroke-width:4; stroke-opacity:1; fill:none\" points=\"\n",
       "  174.862,427.411 200.997,427.411 \n",
       "  \"/>\n",
       "<polyline clip-path=\"url(#clip320)\" style=\"stroke:#000000; stroke-width:4; stroke-opacity:1; fill:none\" points=\"\n",
       "  174.862,87.9763 200.997,87.9763 \n",
       "  \"/>\n",
       "<path clip-path=\"url(#clip320)\" d=\"M 0 0 M181.385 1535.98 L189.024 1535.98 L189.024 1509.62 L180.714 1511.29 L180.714 1507.03 L188.978 1505.36 L193.654 1505.36 L193.654 1535.98 L201.292 1535.98 L201.292 1539.92 L181.385 1539.92 L181.385 1535.98 Z\" fill=\"#000000\" fill-rule=\"evenodd\" fill-opacity=\"1\" /><path clip-path=\"url(#clip320)\" d=\"M 0 0 M206.362 1534.04 L211.246 1534.04 L211.246 1539.92 L206.362 1539.92 L206.362 1534.04 Z\" fill=\"#000000\" fill-rule=\"evenodd\" fill-opacity=\"1\" /><path clip-path=\"url(#clip320)\" d=\"M 0 0 M226.315 1508.44 Q222.704 1508.44 220.876 1512 Q219.07 1515.55 219.07 1522.67 Q219.07 1529.78 220.876 1533.35 Q222.704 1536.89 226.315 1536.89 Q229.95 1536.89 231.755 1533.35 Q233.584 1529.78 233.584 1522.67 Q233.584 1515.55 231.755 1512 Q229.95 1508.44 226.315 1508.44 M226.315 1504.73 Q232.126 1504.73 235.181 1509.34 Q238.26 1513.92 238.26 1522.67 Q238.26 1531.4 235.181 1536.01 Q232.126 1540.59 226.315 1540.59 Q220.505 1540.59 217.427 1536.01 Q214.371 1531.4 214.371 1522.67 Q214.371 1513.92 217.427 1509.34 Q220.505 1504.73 226.315 1504.73 Z\" fill=\"#000000\" fill-rule=\"evenodd\" fill-opacity=\"1\" /><path clip-path=\"url(#clip320)\" d=\"M 0 0 M253.329 1508.44 Q249.718 1508.44 247.889 1512 Q246.084 1515.55 246.084 1522.67 Q246.084 1529.78 247.889 1533.35 Q249.718 1536.89 253.329 1536.89 Q256.963 1536.89 258.769 1533.35 Q260.598 1529.78 260.598 1522.67 Q260.598 1515.55 258.769 1512 Q256.963 1508.44 253.329 1508.44 M253.329 1504.73 Q259.139 1504.73 262.195 1509.34 Q265.274 1513.92 265.274 1522.67 Q265.274 1531.4 262.195 1536.01 Q259.139 1540.59 253.329 1540.59 Q247.519 1540.59 244.44 1536.01 Q241.385 1531.4 241.385 1522.67 Q241.385 1513.92 244.44 1509.34 Q247.519 1504.73 253.329 1504.73 Z\" fill=\"#000000\" fill-rule=\"evenodd\" fill-opacity=\"1\" /><path clip-path=\"url(#clip320)\" d=\"M 0 0 M280.343 1508.44 Q276.732 1508.44 274.903 1512 Q273.098 1515.55 273.098 1522.67 Q273.098 1529.78 274.903 1533.35 Q276.732 1536.89 280.343 1536.89 Q283.977 1536.89 285.783 1533.35 Q287.611 1529.78 287.611 1522.67 Q287.611 1515.55 285.783 1512 Q283.977 1508.44 280.343 1508.44 M280.343 1504.73 Q286.153 1504.73 289.209 1509.34 Q292.287 1513.92 292.287 1522.67 Q292.287 1531.4 289.209 1536.01 Q286.153 1540.59 280.343 1540.59 Q274.533 1540.59 271.454 1536.01 Q268.399 1531.4 268.399 1522.67 Q268.399 1513.92 271.454 1509.34 Q274.533 1504.73 280.343 1504.73 Z\" fill=\"#000000\" fill-rule=\"evenodd\" fill-opacity=\"1\" /><path clip-path=\"url(#clip320)\" d=\"M 0 0 M696.336 1535.98 L703.974 1535.98 L703.974 1509.62 L695.664 1511.29 L695.664 1507.03 L703.928 1505.36 L708.604 1505.36 L708.604 1535.98 L716.243 1535.98 L716.243 1539.92 L696.336 1539.92 L696.336 1535.98 Z\" fill=\"#000000\" fill-rule=\"evenodd\" fill-opacity=\"1\" /><path clip-path=\"url(#clip320)\" d=\"M 0 0 M721.312 1534.04 L726.197 1534.04 L726.197 1539.92 L721.312 1539.92 L721.312 1534.04 Z\" fill=\"#000000\" fill-rule=\"evenodd\" fill-opacity=\"1\" /><path clip-path=\"url(#clip320)\" d=\"M 0 0 M741.266 1508.44 Q737.655 1508.44 735.826 1512 Q734.021 1515.55 734.021 1522.67 Q734.021 1529.78 735.826 1533.35 Q737.655 1536.89 741.266 1536.89 Q744.9 1536.89 746.706 1533.35 Q748.534 1529.78 748.534 1522.67 Q748.534 1515.55 746.706 1512 Q744.9 1508.44 741.266 1508.44 M741.266 1504.73 Q747.076 1504.73 750.132 1509.34 Q753.21 1513.92 753.21 1522.67 Q753.21 1531.4 750.132 1536.01 Q747.076 1540.59 741.266 1540.59 Q735.456 1540.59 732.377 1536.01 Q729.322 1531.4 729.322 1522.67 Q729.322 1513.92 732.377 1509.34 Q735.456 1504.73 741.266 1504.73 Z\" fill=\"#000000\" fill-rule=\"evenodd\" fill-opacity=\"1\" /><path clip-path=\"url(#clip320)\" d=\"M 0 0 M762.307 1535.98 L778.627 1535.98 L778.627 1539.92 L756.682 1539.92 L756.682 1535.98 Q759.345 1533.23 763.928 1528.6 Q768.534 1523.95 769.715 1522.61 Q771.96 1520.08 772.84 1518.35 Q773.743 1516.59 773.743 1514.9 Q773.743 1512.14 771.798 1510.41 Q769.877 1508.67 766.775 1508.67 Q764.576 1508.67 762.122 1509.43 Q759.692 1510.2 756.914 1511.75 L756.914 1507.03 Q759.738 1505.89 762.192 1505.31 Q764.645 1504.73 766.682 1504.73 Q772.053 1504.73 775.247 1507.42 Q778.442 1510.11 778.442 1514.6 Q778.442 1516.73 777.631 1518.65 Q776.844 1520.54 774.738 1523.14 Q774.159 1523.81 771.057 1527.03 Q767.956 1530.22 762.307 1535.98 Z\" fill=\"#000000\" fill-rule=\"evenodd\" fill-opacity=\"1\" /><path clip-path=\"url(#clip320)\" d=\"M 0 0 M783.743 1505.36 L802.099 1505.36 L802.099 1509.3 L788.025 1509.3 L788.025 1517.77 Q789.043 1517.42 790.062 1517.26 Q791.08 1517.07 792.099 1517.07 Q797.886 1517.07 801.266 1520.24 Q804.645 1523.42 804.645 1528.83 Q804.645 1534.41 801.173 1537.51 Q797.701 1540.59 791.381 1540.59 Q789.205 1540.59 786.937 1540.22 Q784.692 1539.85 782.284 1539.11 L782.284 1534.41 Q784.368 1535.54 786.59 1536.1 Q788.812 1536.66 791.289 1536.66 Q795.293 1536.66 797.631 1534.55 Q799.969 1532.44 799.969 1528.83 Q799.969 1525.22 797.631 1523.11 Q795.293 1521.01 791.289 1521.01 Q789.414 1521.01 787.539 1521.42 Q785.687 1521.84 783.743 1522.72 L783.743 1505.36 Z\" fill=\"#000000\" fill-rule=\"evenodd\" fill-opacity=\"1\" /><path clip-path=\"url(#clip320)\" d=\"M 0 0 M1209.19 1535.98 L1216.83 1535.98 L1216.83 1509.62 L1208.52 1511.29 L1208.52 1507.03 L1216.78 1505.36 L1221.46 1505.36 L1221.46 1535.98 L1229.1 1535.98 L1229.1 1539.92 L1209.19 1539.92 L1209.19 1535.98 Z\" fill=\"#000000\" fill-rule=\"evenodd\" fill-opacity=\"1\" /><path clip-path=\"url(#clip320)\" d=\"M 0 0 M1234.17 1534.04 L1239.05 1534.04 L1239.05 1539.92 L1234.17 1539.92 L1234.17 1534.04 Z\" fill=\"#000000\" fill-rule=\"evenodd\" fill-opacity=\"1\" /><path clip-path=\"url(#clip320)\" d=\"M 0 0 M1254.12 1508.44 Q1250.51 1508.44 1248.68 1512 Q1246.88 1515.55 1246.88 1522.67 Q1246.88 1529.78 1248.68 1533.35 Q1250.51 1536.89 1254.12 1536.89 Q1257.76 1536.89 1259.56 1533.35 Q1261.39 1529.78 1261.39 1522.67 Q1261.39 1515.55 1259.56 1512 Q1257.76 1508.44 1254.12 1508.44 M1254.12 1504.73 Q1259.93 1504.73 1262.99 1509.34 Q1266.07 1513.92 1266.07 1522.67 Q1266.07 1531.4 1262.99 1536.01 Q1259.93 1540.59 1254.12 1540.59 Q1248.31 1540.59 1245.23 1536.01 Q1242.18 1531.4 1242.18 1522.67 Q1242.18 1513.92 1245.23 1509.34 Q1248.31 1504.73 1254.12 1504.73 Z\" fill=\"#000000\" fill-rule=\"evenodd\" fill-opacity=\"1\" /><path clip-path=\"url(#clip320)\" d=\"M 0 0 M1271.18 1505.36 L1289.54 1505.36 L1289.54 1509.3 L1275.46 1509.3 L1275.46 1517.77 Q1276.48 1517.42 1277.5 1517.26 Q1278.52 1517.07 1279.54 1517.07 Q1285.33 1517.07 1288.7 1520.24 Q1292.08 1523.42 1292.08 1528.83 Q1292.08 1534.41 1288.61 1537.51 Q1285.14 1540.59 1278.82 1540.59 Q1276.64 1540.59 1274.38 1540.22 Q1272.13 1539.85 1269.72 1539.11 L1269.72 1534.41 Q1271.81 1535.54 1274.03 1536.1 Q1276.25 1536.66 1278.73 1536.66 Q1282.73 1536.66 1285.07 1534.55 Q1287.41 1532.44 1287.41 1528.83 Q1287.41 1525.22 1285.07 1523.11 Q1282.73 1521.01 1278.73 1521.01 Q1276.85 1521.01 1274.98 1521.42 Q1273.13 1521.84 1271.18 1522.72 L1271.18 1505.36 Z\" fill=\"#000000\" fill-rule=\"evenodd\" fill-opacity=\"1\" /><path clip-path=\"url(#clip320)\" d=\"M 0 0 M1307.15 1508.44 Q1303.54 1508.44 1301.71 1512 Q1299.91 1515.55 1299.91 1522.67 Q1299.91 1529.78 1301.71 1533.35 Q1303.54 1536.89 1307.15 1536.89 Q1310.79 1536.89 1312.59 1533.35 Q1314.42 1529.78 1314.42 1522.67 Q1314.42 1515.55 1312.59 1512 Q1310.79 1508.44 1307.15 1508.44 M1307.15 1504.73 Q1312.96 1504.73 1316.02 1509.34 Q1319.1 1513.92 1319.1 1522.67 Q1319.1 1531.4 1316.02 1536.01 Q1312.96 1540.59 1307.15 1540.59 Q1301.34 1540.59 1298.26 1536.01 Q1295.21 1531.4 1295.21 1522.67 Q1295.21 1513.92 1298.26 1509.34 Q1301.34 1504.73 1307.15 1504.73 Z\" fill=\"#000000\" fill-rule=\"evenodd\" fill-opacity=\"1\" /><path clip-path=\"url(#clip320)\" d=\"M 0 0 M1723.3 1535.98 L1730.94 1535.98 L1730.94 1509.62 L1722.63 1511.29 L1722.63 1507.03 L1730.89 1505.36 L1735.57 1505.36 L1735.57 1535.98 L1743.2 1535.98 L1743.2 1539.92 L1723.3 1539.92 L1723.3 1535.98 Z\" fill=\"#000000\" fill-rule=\"evenodd\" fill-opacity=\"1\" /><path clip-path=\"url(#clip320)\" d=\"M 0 0 M1748.27 1534.04 L1753.16 1534.04 L1753.16 1539.92 L1748.27 1539.92 L1748.27 1534.04 Z\" fill=\"#000000\" fill-rule=\"evenodd\" fill-opacity=\"1\" /><path clip-path=\"url(#clip320)\" d=\"M 0 0 M1768.23 1508.44 Q1764.62 1508.44 1762.79 1512 Q1760.98 1515.55 1760.98 1522.67 Q1760.98 1529.78 1762.79 1533.35 Q1764.62 1536.89 1768.23 1536.89 Q1771.86 1536.89 1773.67 1533.35 Q1775.5 1529.78 1775.5 1522.67 Q1775.5 1515.55 1773.67 1512 Q1771.86 1508.44 1768.23 1508.44 M1768.23 1504.73 Q1774.04 1504.73 1777.09 1509.34 Q1780.17 1513.92 1780.17 1522.67 Q1780.17 1531.4 1777.09 1536.01 Q1774.04 1540.59 1768.23 1540.59 Q1762.42 1540.59 1759.34 1536.01 Q1756.28 1531.4 1756.28 1522.67 Q1756.28 1513.92 1759.34 1509.34 Q1762.42 1504.73 1768.23 1504.73 Z\" fill=\"#000000\" fill-rule=\"evenodd\" fill-opacity=\"1\" /><path clip-path=\"url(#clip320)\" d=\"M 0 0 M1784.06 1505.36 L1806.28 1505.36 L1806.28 1507.35 L1793.74 1539.92 L1788.85 1539.92 L1800.66 1509.3 L1784.06 1509.3 L1784.06 1505.36 Z\" fill=\"#000000\" fill-rule=\"evenodd\" fill-opacity=\"1\" /><path clip-path=\"url(#clip320)\" d=\"M 0 0 M1811.4 1505.36 L1829.75 1505.36 L1829.75 1509.3 L1815.68 1509.3 L1815.68 1517.77 Q1816.7 1517.42 1817.72 1517.26 Q1818.74 1517.07 1819.75 1517.07 Q1825.54 1517.07 1828.92 1520.24 Q1832.3 1523.42 1832.3 1528.83 Q1832.3 1534.41 1828.83 1537.51 Q1825.36 1540.59 1819.04 1540.59 Q1816.86 1540.59 1814.59 1540.22 Q1812.35 1539.85 1809.94 1539.11 L1809.94 1534.41 Q1812.02 1535.54 1814.25 1536.1 Q1816.47 1536.66 1818.94 1536.66 Q1822.95 1536.66 1825.29 1534.55 Q1827.62 1532.44 1827.62 1528.83 Q1827.62 1525.22 1825.29 1523.11 Q1822.95 1521.01 1818.94 1521.01 Q1817.07 1521.01 1815.19 1521.42 Q1813.34 1521.84 1811.4 1522.72 L1811.4 1505.36 Z\" fill=\"#000000\" fill-rule=\"evenodd\" fill-opacity=\"1\" /><path clip-path=\"url(#clip320)\" d=\"M 0 0 M2236.62 1535.98 L2244.25 1535.98 L2244.25 1509.62 L2235.94 1511.29 L2235.94 1507.03 L2244.21 1505.36 L2248.88 1505.36 L2248.88 1535.98 L2256.52 1535.98 L2256.52 1539.92 L2236.62 1539.92 L2236.62 1535.98 Z\" fill=\"#000000\" fill-rule=\"evenodd\" fill-opacity=\"1\" /><path clip-path=\"url(#clip320)\" d=\"M 0 0 M2261.59 1534.04 L2266.48 1534.04 L2266.48 1539.92 L2261.59 1539.92 L2261.59 1534.04 Z\" fill=\"#000000\" fill-rule=\"evenodd\" fill-opacity=\"1\" /><path clip-path=\"url(#clip320)\" d=\"M 0 0 M2272.36 1535.98 L2279.99 1535.98 L2279.99 1509.62 L2271.68 1511.29 L2271.68 1507.03 L2279.95 1505.36 L2284.62 1505.36 L2284.62 1535.98 L2292.26 1535.98 L2292.26 1539.92 L2272.36 1539.92 L2272.36 1535.98 Z\" fill=\"#000000\" fill-rule=\"evenodd\" fill-opacity=\"1\" /><path clip-path=\"url(#clip320)\" d=\"M 0 0 M2307.33 1508.44 Q2303.72 1508.44 2301.89 1512 Q2300.09 1515.55 2300.09 1522.67 Q2300.09 1529.78 2301.89 1533.35 Q2303.72 1536.89 2307.33 1536.89 Q2310.97 1536.89 2312.77 1533.35 Q2314.6 1529.78 2314.6 1522.67 Q2314.6 1515.55 2312.77 1512 Q2310.97 1508.44 2307.33 1508.44 M2307.33 1504.73 Q2313.14 1504.73 2316.2 1509.34 Q2319.28 1513.92 2319.28 1522.67 Q2319.28 1531.4 2316.2 1536.01 Q2313.14 1540.59 2307.33 1540.59 Q2301.52 1540.59 2298.44 1536.01 Q2295.39 1531.4 2295.39 1522.67 Q2295.39 1513.92 2298.44 1509.34 Q2301.52 1504.73 2307.33 1504.73 Z\" fill=\"#000000\" fill-rule=\"evenodd\" fill-opacity=\"1\" /><path clip-path=\"url(#clip320)\" d=\"M 0 0 M2334.35 1508.44 Q2330.74 1508.44 2328.91 1512 Q2327.1 1515.55 2327.1 1522.67 Q2327.1 1529.78 2328.91 1533.35 Q2330.74 1536.89 2334.35 1536.89 Q2337.98 1536.89 2339.79 1533.35 Q2341.61 1529.78 2341.61 1522.67 Q2341.61 1515.55 2339.79 1512 Q2337.98 1508.44 2334.35 1508.44 M2334.35 1504.73 Q2340.16 1504.73 2343.21 1509.34 Q2346.29 1513.92 2346.29 1522.67 Q2346.29 1531.4 2343.21 1536.01 Q2340.16 1540.59 2334.35 1540.59 Q2328.54 1540.59 2325.46 1536.01 Q2322.4 1531.4 2322.4 1522.67 Q2322.4 1513.92 2325.46 1509.34 Q2328.54 1504.73 2334.35 1504.73 Z\" fill=\"#000000\" fill-rule=\"evenodd\" fill-opacity=\"1\" /><path clip-path=\"url(#clip320)\" d=\"M 0 0 M74.9365 1431.51 Q71.3254 1431.51 69.4967 1435.08 Q67.6912 1438.62 67.6912 1445.75 Q67.6912 1452.86 69.4967 1456.42 Q71.3254 1459.96 74.9365 1459.96 Q78.5707 1459.96 80.3763 1456.42 Q82.205 1452.86 82.205 1445.75 Q82.205 1438.62 80.3763 1435.08 Q78.5707 1431.51 74.9365 1431.51 M74.9365 1427.81 Q80.7467 1427.81 83.8022 1432.42 Q86.8809 1437 86.8809 1445.75 Q86.8809 1454.48 83.8022 1459.08 Q80.7467 1463.67 74.9365 1463.67 Q69.1264 1463.67 66.0477 1459.08 Q62.9921 1454.48 62.9921 1445.75 Q62.9921 1437 66.0477 1432.42 Q69.1264 1427.81 74.9365 1427.81 Z\" fill=\"#000000\" fill-rule=\"evenodd\" fill-opacity=\"1\" /><path clip-path=\"url(#clip320)\" d=\"M 0 0 M91.9503 1457.12 L96.8345 1457.12 L96.8345 1463 L91.9503 1463 L91.9503 1457.12 Z\" fill=\"#000000\" fill-rule=\"evenodd\" fill-opacity=\"1\" /><path clip-path=\"url(#clip320)\" d=\"M 0 0 M111.904 1431.51 Q108.293 1431.51 106.464 1435.08 Q104.659 1438.62 104.659 1445.75 Q104.659 1452.86 106.464 1456.42 Q108.293 1459.96 111.904 1459.96 Q115.538 1459.96 117.344 1456.42 Q119.172 1452.86 119.172 1445.75 Q119.172 1438.62 117.344 1435.08 Q115.538 1431.51 111.904 1431.51 M111.904 1427.81 Q117.714 1427.81 120.77 1432.42 Q123.848 1437 123.848 1445.75 Q123.848 1454.48 120.77 1459.08 Q117.714 1463.67 111.904 1463.67 Q106.094 1463.67 103.015 1459.08 Q99.9595 1454.48 99.9595 1445.75 Q99.9595 1437 103.015 1432.42 Q106.094 1427.81 111.904 1427.81 Z\" fill=\"#000000\" fill-rule=\"evenodd\" fill-opacity=\"1\" /><path clip-path=\"url(#clip320)\" d=\"M 0 0 M138.918 1431.51 Q135.307 1431.51 133.478 1435.08 Q131.672 1438.62 131.672 1445.75 Q131.672 1452.86 133.478 1456.42 Q135.307 1459.96 138.918 1459.96 Q142.552 1459.96 144.357 1456.42 Q146.186 1452.86 146.186 1445.75 Q146.186 1438.62 144.357 1435.08 Q142.552 1431.51 138.918 1431.51 M138.918 1427.81 Q144.728 1427.81 147.783 1432.42 Q150.862 1437 150.862 1445.75 Q150.862 1454.48 147.783 1459.08 Q144.728 1463.67 138.918 1463.67 Q133.107 1463.67 130.029 1459.08 Q126.973 1454.48 126.973 1445.75 Q126.973 1437 130.029 1432.42 Q133.107 1427.81 138.918 1427.81 Z\" fill=\"#000000\" fill-rule=\"evenodd\" fill-opacity=\"1\" /><path clip-path=\"url(#clip320)\" d=\"M 0 0 M77.5291 1092.08 Q73.918 1092.08 72.0893 1095.64 Q70.2838 1099.19 70.2838 1106.32 Q70.2838 1113.42 72.0893 1116.99 Q73.918 1120.53 77.5291 1120.53 Q81.1633 1120.53 82.9689 1116.99 Q84.7976 1113.42 84.7976 1106.32 Q84.7976 1099.19 82.9689 1095.64 Q81.1633 1092.08 77.5291 1092.08 M77.5291 1088.38 Q83.3392 1088.38 86.3948 1092.98 Q89.4735 1097.57 89.4735 1106.32 Q89.4735 1115.04 86.3948 1119.65 Q83.3392 1124.23 77.5291 1124.23 Q71.7189 1124.23 68.6402 1119.65 Q65.5847 1115.04 65.5847 1106.32 Q65.5847 1097.57 68.6402 1092.98 Q71.7189 1088.38 77.5291 1088.38 Z\" fill=\"#000000\" fill-rule=\"evenodd\" fill-opacity=\"1\" /><path clip-path=\"url(#clip320)\" d=\"M 0 0 M94.5429 1117.68 L99.4271 1117.68 L99.4271 1123.56 L94.5429 1123.56 L94.5429 1117.68 Z\" fill=\"#000000\" fill-rule=\"evenodd\" fill-opacity=\"1\" /><path clip-path=\"url(#clip320)\" d=\"M 0 0 M108.524 1119.63 L124.844 1119.63 L124.844 1123.56 L102.899 1123.56 L102.899 1119.63 Q105.561 1116.87 110.145 1112.24 Q114.751 1107.59 115.932 1106.25 Q118.177 1103.72 119.057 1101.99 Q119.959 1100.23 119.959 1098.54 Q119.959 1095.78 118.015 1094.05 Q116.094 1092.31 112.992 1092.31 Q110.793 1092.31 108.339 1093.07 Q105.909 1093.84 103.131 1095.39 L103.131 1090.67 Q105.955 1089.53 108.409 1088.95 Q110.862 1088.38 112.899 1088.38 Q118.27 1088.38 121.464 1091.06 Q124.658 1093.75 124.658 1098.24 Q124.658 1100.37 123.848 1102.29 Q123.061 1104.19 120.955 1106.78 Q120.376 1107.45 117.274 1110.67 Q114.172 1113.86 108.524 1119.63 Z\" fill=\"#000000\" fill-rule=\"evenodd\" fill-opacity=\"1\" /><path clip-path=\"url(#clip320)\" d=\"M 0 0 M129.959 1089 L148.316 1089 L148.316 1092.94 L134.242 1092.94 L134.242 1101.41 Q135.26 1101.06 136.279 1100.9 Q137.297 1100.71 138.316 1100.71 Q144.103 1100.71 147.482 1103.89 Q150.862 1107.06 150.862 1112.47 Q150.862 1118.05 147.39 1121.15 Q143.918 1124.23 137.598 1124.23 Q135.422 1124.23 133.154 1123.86 Q130.908 1123.49 128.501 1122.75 L128.501 1118.05 Q130.584 1119.19 132.807 1119.74 Q135.029 1120.3 137.506 1120.3 Q141.51 1120.3 143.848 1118.19 Q146.186 1116.08 146.186 1112.47 Q146.186 1108.86 143.848 1106.76 Q141.51 1104.65 137.506 1104.65 Q135.631 1104.65 133.756 1105.07 Q131.904 1105.48 129.959 1106.36 L129.959 1089 Z\" fill=\"#000000\" fill-rule=\"evenodd\" fill-opacity=\"1\" /><path clip-path=\"url(#clip320)\" d=\"M 0 0 M75.9319 752.645 Q72.3208 752.645 70.4921 756.209 Q68.6865 759.751 68.6865 766.881 Q68.6865 773.987 70.4921 777.552 Q72.3208 781.094 75.9319 781.094 Q79.5661 781.094 81.3717 777.552 Q83.2004 773.987 83.2004 766.881 Q83.2004 759.751 81.3717 756.209 Q79.5661 752.645 75.9319 752.645 M75.9319 748.941 Q81.742 748.941 84.7976 753.547 Q87.8763 758.131 87.8763 766.881 Q87.8763 775.608 84.7976 780.214 Q81.742 784.797 75.9319 784.797 Q70.1217 784.797 67.043 780.214 Q63.9875 775.608 63.9875 766.881 Q63.9875 758.131 67.043 753.547 Q70.1217 748.941 75.9319 748.941 Z\" fill=\"#000000\" fill-rule=\"evenodd\" fill-opacity=\"1\" /><path clip-path=\"url(#clip320)\" d=\"M 0 0 M92.9457 778.246 L97.8299 778.246 L97.8299 784.126 L92.9457 784.126 L92.9457 778.246 Z\" fill=\"#000000\" fill-rule=\"evenodd\" fill-opacity=\"1\" /><path clip-path=\"url(#clip320)\" d=\"M 0 0 M102.946 749.566 L121.302 749.566 L121.302 753.501 L107.228 753.501 L107.228 761.973 Q108.247 761.626 109.265 761.464 Q110.284 761.279 111.302 761.279 Q117.089 761.279 120.469 764.45 Q123.848 767.621 123.848 773.038 Q123.848 778.617 120.376 781.719 Q116.904 784.797 110.584 784.797 Q108.409 784.797 106.14 784.427 Q103.895 784.057 101.487 783.316 L101.487 778.617 Q103.571 779.751 105.793 780.307 Q108.015 780.862 110.492 780.862 Q114.496 780.862 116.834 778.756 Q119.172 776.649 119.172 773.038 Q119.172 769.427 116.834 767.321 Q114.496 765.214 110.492 765.214 Q108.617 765.214 106.742 765.631 Q104.89 766.047 102.946 766.927 L102.946 749.566 Z\" fill=\"#000000\" fill-rule=\"evenodd\" fill-opacity=\"1\" /><path clip-path=\"url(#clip320)\" d=\"M 0 0 M138.918 752.645 Q135.307 752.645 133.478 756.209 Q131.672 759.751 131.672 766.881 Q131.672 773.987 133.478 777.552 Q135.307 781.094 138.918 781.094 Q142.552 781.094 144.357 777.552 Q146.186 773.987 146.186 766.881 Q146.186 759.751 144.357 756.209 Q142.552 752.645 138.918 752.645 M138.918 748.941 Q144.728 748.941 147.783 753.547 Q150.862 758.131 150.862 766.881 Q150.862 775.608 147.783 780.214 Q144.728 784.797 138.918 784.797 Q133.107 784.797 130.029 780.214 Q126.973 775.608 126.973 766.881 Q126.973 758.131 130.029 753.547 Q133.107 748.941 138.918 748.941 Z\" fill=\"#000000\" fill-rule=\"evenodd\" fill-opacity=\"1\" /><path clip-path=\"url(#clip320)\" d=\"M 0 0 M76.8346 413.21 Q73.2236 413.21 71.3949 416.775 Q69.5893 420.316 69.5893 427.446 Q69.5893 434.552 71.3949 438.117 Q73.2236 441.659 76.8346 441.659 Q80.4689 441.659 82.2744 438.117 Q84.1031 434.552 84.1031 427.446 Q84.1031 420.316 82.2744 416.775 Q80.4689 413.21 76.8346 413.21 M76.8346 409.506 Q82.6448 409.506 85.7003 414.113 Q88.779 418.696 88.779 427.446 Q88.779 436.173 85.7003 440.779 Q82.6448 445.362 76.8346 445.362 Q71.0245 445.362 67.9458 440.779 Q64.8903 436.173 64.8903 427.446 Q64.8903 418.696 67.9458 414.113 Q71.0245 409.506 76.8346 409.506 Z\" fill=\"#000000\" fill-rule=\"evenodd\" fill-opacity=\"1\" /><path clip-path=\"url(#clip320)\" d=\"M 0 0 M93.8484 438.812 L98.7327 438.812 L98.7327 444.691 L93.8484 444.691 L93.8484 438.812 Z\" fill=\"#000000\" fill-rule=\"evenodd\" fill-opacity=\"1\" /><path clip-path=\"url(#clip320)\" d=\"M 0 0 M102.622 410.131 L124.844 410.131 L124.844 412.122 L112.297 444.691 L107.413 444.691 L119.219 414.066 L102.622 414.066 L102.622 410.131 Z\" fill=\"#000000\" fill-rule=\"evenodd\" fill-opacity=\"1\" /><path clip-path=\"url(#clip320)\" d=\"M 0 0 M129.959 410.131 L148.316 410.131 L148.316 414.066 L134.242 414.066 L134.242 422.538 Q135.26 422.191 136.279 422.029 Q137.297 421.844 138.316 421.844 Q144.103 421.844 147.482 425.015 Q150.862 428.187 150.862 433.603 Q150.862 439.182 147.39 442.284 Q143.918 445.362 137.598 445.362 Q135.422 445.362 133.154 444.992 Q130.908 444.622 128.501 443.881 L128.501 439.182 Q130.584 440.316 132.807 440.872 Q135.029 441.427 137.506 441.427 Q141.51 441.427 143.848 439.321 Q146.186 437.214 146.186 433.603 Q146.186 429.992 143.848 427.886 Q141.51 425.779 137.506 425.779 Q135.631 425.779 133.756 426.196 Q131.904 426.613 129.959 427.492 L129.959 410.131 Z\" fill=\"#000000\" fill-rule=\"evenodd\" fill-opacity=\"1\" /><path clip-path=\"url(#clip320)\" d=\"M 0 0 M66.9736 101.321 L74.6124 101.321 L74.6124 74.9555 L66.3023 76.6222 L66.3023 72.3629 L74.5661 70.6963 L79.242 70.6963 L79.242 101.321 L86.8809 101.321 L86.8809 105.256 L66.9736 105.256 L66.9736 101.321 Z\" fill=\"#000000\" fill-rule=\"evenodd\" fill-opacity=\"1\" /><path clip-path=\"url(#clip320)\" d=\"M 0 0 M91.9503 99.3767 L96.8345 99.3767 L96.8345 105.256 L91.9503 105.256 L91.9503 99.3767 Z\" fill=\"#000000\" fill-rule=\"evenodd\" fill-opacity=\"1\" /><path clip-path=\"url(#clip320)\" d=\"M 0 0 M111.904 73.775 Q108.293 73.775 106.464 77.3398 Q104.659 80.8814 104.659 88.011 Q104.659 95.1174 106.464 98.6822 Q108.293 102.224 111.904 102.224 Q115.538 102.224 117.344 98.6822 Q119.172 95.1174 119.172 88.011 Q119.172 80.8814 117.344 77.3398 Q115.538 73.775 111.904 73.775 M111.904 70.0713 Q117.714 70.0713 120.77 74.6777 Q123.848 79.261 123.848 88.011 Q123.848 96.7378 120.77 101.344 Q117.714 105.928 111.904 105.928 Q106.094 105.928 103.015 101.344 Q99.9595 96.7378 99.9595 88.011 Q99.9595 79.261 103.015 74.6777 Q106.094 70.0713 111.904 70.0713 Z\" fill=\"#000000\" fill-rule=\"evenodd\" fill-opacity=\"1\" /><path clip-path=\"url(#clip320)\" d=\"M 0 0 M138.918 73.775 Q135.307 73.775 133.478 77.3398 Q131.672 80.8814 131.672 88.011 Q131.672 95.1174 133.478 98.6822 Q135.307 102.224 138.918 102.224 Q142.552 102.224 144.357 98.6822 Q146.186 95.1174 146.186 88.011 Q146.186 80.8814 144.357 77.3398 Q142.552 73.775 138.918 73.775 M138.918 70.0713 Q144.728 70.0713 147.783 74.6777 Q150.862 79.261 150.862 88.011 Q150.862 96.7378 147.783 101.344 Q144.728 105.928 138.918 105.928 Q133.107 105.928 130.029 101.344 Q126.973 96.7378 126.973 88.011 Q126.973 79.261 130.029 74.6777 Q133.107 70.0713 138.918 70.0713 Z\" fill=\"#000000\" fill-rule=\"evenodd\" fill-opacity=\"1\" /><polyline clip-path=\"url(#clip322)\" style=\"stroke:#009af9; stroke-width:4; stroke-opacity:1; fill:none\" points=\"\n",
       "  236.501,1445.72 256.566,1445.72 442.096,1445.72 553.591,1445.72 647.86,1445.72 750.262,1445.72 844.667,1445.72 945.879,1445.72 1063.14,1445.72 1167.36,1445.72 \n",
       "  1258.74,1445.72 1358.37,1445.72 1458.6,1445.72 1569.41,1445.72 1674.84,1445.72 1784.47,1445.72 1876.75,1445.72 1989.42,1445.72 2095.33,1445.72 2265,1445.72 \n",
       "  2291.12,1445.72 \n",
       "  \"/>\n",
       "<path clip-path=\"url(#clip320)\" d=\"\n",
       "M1987.15 216.178 L2280.16 216.178 L2280.16 95.2176 L1987.15 95.2176  Z\n",
       "  \" fill=\"#ffffff\" fill-rule=\"evenodd\" fill-opacity=\"1\"/>\n",
       "<polyline clip-path=\"url(#clip320)\" style=\"stroke:#000000; stroke-width:4; stroke-opacity:1; fill:none\" points=\"\n",
       "  1987.15,216.178 2280.16,216.178 2280.16,95.2176 1987.15,95.2176 1987.15,216.178 \n",
       "  \"/>\n",
       "<polyline clip-path=\"url(#clip320)\" style=\"stroke:#009af9; stroke-width:4; stroke-opacity:1; fill:none\" points=\"\n",
       "  2011.35,155.698 2156.54,155.698 \n",
       "  \"/>\n",
       "<path clip-path=\"url(#clip320)\" d=\"M 0 0 M2194.59 175.385 Q2192.78 180.015 2191.07 181.427 Q2189.35 182.839 2186.48 182.839 L2183.08 182.839 L2183.08 179.274 L2185.58 179.274 Q2187.34 179.274 2188.31 178.44 Q2189.29 177.607 2190.47 174.505 L2191.23 172.561 L2180.74 147.052 L2185.26 147.052 L2193.36 167.329 L2201.46 147.052 L2205.97 147.052 L2194.59 175.385 Z\" fill=\"#000000\" fill-rule=\"evenodd\" fill-opacity=\"1\" /><path clip-path=\"url(#clip320)\" d=\"M 0 0 M2211.85 169.042 L2219.49 169.042 L2219.49 142.677 L2211.18 144.343 L2211.18 140.084 L2219.45 138.418 L2224.12 138.418 L2224.12 169.042 L2231.76 169.042 L2231.76 172.978 L2211.85 172.978 L2211.85 169.042 Z\" fill=\"#000000\" fill-rule=\"evenodd\" fill-opacity=\"1\" /></svg>\n"
      ]
     },
     "execution_count": 58,
     "metadata": {},
     "output_type": "execute_result"
    }
   ],
   "source": [
    "errfd(x) = abs(df(x)-g2(x))\n",
    "plot(errfd, 1,1.1)"
   ]
  },
  {
   "cell_type": "code",
   "execution_count": null,
   "metadata": {},
   "outputs": [],
   "source": []
  }
 ],
 "metadata": {
  "kernelspec": {
   "display_name": "Julia 1.5.0",
   "language": "julia",
   "name": "julia-1.5"
  },
  "language_info": {
   "file_extension": ".jl",
   "mimetype": "application/julia",
   "name": "julia",
   "version": "1.5.0"
  }
 },
 "nbformat": 4,
 "nbformat_minor": 2
}
