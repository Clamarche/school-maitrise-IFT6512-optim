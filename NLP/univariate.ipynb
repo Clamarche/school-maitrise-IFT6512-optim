{
 "cells": [
  {
   "cell_type": "markdown",
   "metadata": {},
   "source": [
    "# Optimisation de fonctions univariées"
   ]
  },
  {
   "cell_type": "markdown",
   "metadata": {},
   "source": [
    "Considérons la fonction suivante à optimiser:\n",
    "$$\n",
    "f(x) = x^2 + x -2\\sqrt{x}\n",
    "$$"
   ]
  },
  {
   "cell_type": "code",
   "execution_count": null,
   "metadata": {},
   "outputs": [],
   "source": [
    "f(x) = x^2 + x - 2*sqrt(x)"
   ]
  },
  {
   "cell_type": "markdown",
   "metadata": {},
   "source": [
    "Je viens de créer une superbe fonction! Voyons à quoi elle ressemble."
   ]
  },
  {
   "cell_type": "code",
   "execution_count": null,
   "metadata": {},
   "outputs": [],
   "source": [
    "using Plots"
   ]
  },
  {
   "cell_type": "code",
   "execution_count": null,
   "metadata": {},
   "outputs": [],
   "source": [
    "xmin = 0.0\n",
    "xmax = 1.5\n",
    "plot(f, xmin, xmax)"
   ]
  },
  {
   "cell_type": "markdown",
   "metadata": {},
   "source": [
    "## Recherche aléatoire\n",
    "\n",
    "Une approche naïve est de chercher au hasard un meilleur point. La méthode est facile à implémenter, mais elle inefficace."
   ]
  },
  {
   "cell_type": "code",
   "execution_count": null,
   "metadata": {},
   "outputs": [],
   "source": [
    "# f: fonction à minimiser\n",
    "# x0: point de départ\n",
    "# nmax: nombre d'itération.\n",
    "function randomsearch(f:: Function, x0:: Vector, nmax:: Int64)\n",
    "    n = length(x0)\n",
    "    x = copy(x0)\n",
    "    value = f(x)\n",
    "    \n",
    "    for i = 1:nmax\n",
    "        Δx = rand(1, n)[1,:]\n",
    "        xcand = x + Δx\n",
    "        cand = f(xcand)\n",
    "        if (cand < value)\n",
    "            x = xcand\n",
    "            value = cand\n",
    "        end\n",
    "    end\n",
    "    \n",
    "    return x, value\n",
    "end"
   ]
  },
  {
   "cell_type": "code",
   "execution_count": null,
   "metadata": {},
   "outputs": [],
   "source": [
    "function f(x::Vector)\n",
    "    return x[1] < 0 ? NaN : x[1]^2 + x[1] - 2*sqrt(x[1])\n",
    "end"
   ]
  },
  {
   "cell_type": "code",
   "execution_count": null,
   "metadata": {},
   "outputs": [],
   "source": [
    "x0 = [0.0]\n",
    "randomsearch(f, x0, 1000)"
   ]
  },
  {
   "cell_type": "markdown",
   "metadata": {},
   "source": [
    "Visuellement, la solution trouvée n'est pas très bonne et il est nécessaire de raffiner la recherche."
   ]
  },
  {
   "cell_type": "markdown",
   "metadata": {},
   "source": [
    "## Optimisation avec la méthode de Fibonacci"
   ]
  },
  {
   "cell_type": "markdown",
   "metadata": {},
   "source": [
    "Calculons les nombres de Fibonacci."
   ]
  },
  {
   "cell_type": "code",
   "execution_count": null,
   "metadata": {},
   "outputs": [],
   "source": [
    "N = 50\n",
    "F = ones(N)\n",
    "\n",
    "for i = 3:N\n",
    "    F[i] = F[i-1] + F[i-2]\n",
    "end\n",
    "\n",
    "F"
   ]
  },
  {
   "cell_type": "code",
   "execution_count": null,
   "metadata": {},
   "outputs": [],
   "source": [
    "F[length(F)]"
   ]
  },
  {
   "cell_type": "markdown",
   "metadata": {},
   "source": [
    "Vérifions que le rapport entre les nombres de Fibonacci successifs converge vers le nombre d'or. Notons que Julia dispose de nombreuses constantes préimplémentées, donc le nombre d'or, disponible avec le nom `golden`."
   ]
  },
  {
   "cell_type": "code",
   "execution_count": null,
   "metadata": {},
   "outputs": [],
   "source": [
    "Base.MathConstants.golden"
   ]
  },
  {
   "cell_type": "markdown",
   "metadata": {},
   "source": [
    "Nous pouvons simplifier l'écrire en indiquant explicitement au préalable que nous souhaitons utiliser la librairie `Base.MathConstants`, mais il faudra veiller alors à ce que nos noms de variables n'entrent pas en conflit."
   ]
  },
  {
   "cell_type": "code",
   "execution_count": null,
   "metadata": {},
   "outputs": [],
   "source": [
    "using Base.MathConstants\n",
    "\n",
    "golden"
   ]
  },
  {
   "cell_type": "markdown",
   "metadata": {},
   "source": [
    "Calculons le rapport entre les deux derniers nombres générés à partir de la séquence de Fibonacci, et comparons-le au nombre d'or."
   ]
  },
  {
   "cell_type": "code",
   "execution_count": null,
   "metadata": {},
   "outputs": [],
   "source": [
    "F[N]/F[N-1]-golden"
   ]
  },
  {
   "cell_type": "markdown",
   "metadata": {},
   "source": [
    "Nous voyons ainsi que pour $N = 50$, numériquement, le rapport coïncide déjà au nombre d'or."
   ]
  },
  {
   "cell_type": "markdown",
   "metadata": {},
   "source": [
    "Revenons à notre problème d'optimisation et supposons que nous savons que la solution est dans [0,1]."
   ]
  },
  {
   "cell_type": "code",
   "execution_count": null,
   "metadata": {},
   "outputs": [],
   "source": [
    "xmin = 0\n",
    "xmax = 1.0\n",
    "\n",
    "verbose = true"
   ]
  },
  {
   "cell_type": "code",
   "execution_count": null,
   "metadata": {},
   "outputs": [],
   "source": [
    "function fibonacci(g::Function, xmin, xmax, verbose::Bool = false)\n",
    "    k = 1\n",
    "    i = 1\n",
    "    d = xmax - xmin\n",
    "    xG = xmin+(F[N-2]/F[N])*d\n",
    "    xD = xmin+(F[N-1]/F[N])*d\n",
    "    fG = g(xG)\n",
    "    fD = g(xD)\n",
    "    ϵ = 0 # ne servira que pour la dernière itération\n",
    "\n",
    "    if (verbose)\n",
    "        println(\"Iteration $k.\\nxmin = $xmin, xmax = $xmax\")\n",
    "        println(\"xG = $xG, fG = $fG\")\n",
    "        println(\"xD = $xD, fD = $fD\")\n",
    "        println(\"d = $d\")\n",
    "    end\n",
    "\n",
    "    while (k < N-2)\n",
    "        k += 1\n",
    "        i += 1\n",
    "        if k == N-3\n",
    "            # On est à l'avant-dernière itération.\n",
    "            # Poser ϵ à 0.1 permet d'éviter de mettre le nouveau point au milieu de l'intervalle.\n",
    "            ϵ = 0.1\n",
    "        end\n",
    "        if fG < fD\n",
    "            xmax = xD\n",
    "            d = xmax - xmin\n",
    "            xD = xG\n",
    "            fD = fG\n",
    "            xG = xmin+((F[N-k-1]/F[N-k+1])-ϵ)*d\n",
    "            fG = g(xG)\n",
    "        elseif fG > fD\n",
    "            xmin = xG\n",
    "            d = xmax - xmin\n",
    "            xG = xD\n",
    "            fG = fD\n",
    "            xD = xmin+((F[N-k]/F[N-k+1])+ϵ)*d\n",
    "            fD = g(xD)\n",
    "        elseif fG == fD\n",
    "            k += 1\n",
    "            println(\"Coucou \", k, \" \", xG, \" \", xD)\n",
    "            xmin = xG\n",
    "            xmax = xD\n",
    "            d = xmax - xmin\n",
    "\n",
    "            xG = xmin+(F[N-k-1]/F[N-k+1])*d\n",
    "            fG = g(xG)\n",
    "            xD = xmin+(F[N-k]/F[N-k+1])*d\n",
    "            fD = g(xD)\n",
    "        end\n",
    "        \n",
    "        if verbose\n",
    "            println(\"Iteration $i.\\nxmin = $xmin, xmax = $xmax, $k = k\")\n",
    "            println(\"xG = $xG, fG = $fG\")\n",
    "            println(\"xD = $xD, fD = $fD\")\n",
    "            println(\"d = $d\")\n",
    "        end\n",
    "    end\n",
    "    \n",
    "    if fG < fD\n",
    "        xmax = xD\n",
    "    end\n",
    "    if fG > fD\n",
    "        xmin = xG\n",
    "    end\n",
    "    \n",
    "    println(k, \" \", N, \" \", fG, \" \", fD)\n",
    "    \n",
    "    return [xmin, xmax]\n",
    "end"
   ]
  },
  {
   "cell_type": "code",
   "execution_count": null,
   "metadata": {},
   "outputs": [],
   "source": [
    "methods(fibonacci)"
   ]
  },
  {
   "cell_type": "markdown",
   "metadata": {},
   "source": [
    "Essayons la méthode d'abord avec $N = 10$ puis $N = 50$."
   ]
  },
  {
   "cell_type": "code",
   "execution_count": null,
   "metadata": {},
   "outputs": [],
   "source": [
    "N = 10\n",
    "bounds = fibonacci(f, xmin, xmax, true)"
   ]
  },
  {
   "cell_type": "code",
   "execution_count": null,
   "metadata": {},
   "outputs": [],
   "source": [
    "N = 50\n",
    "bounds = fibonacci(f, xmin, xmax, true)"
   ]
  },
  {
   "cell_type": "code",
   "execution_count": null,
   "metadata": {},
   "outputs": [],
   "source": [
    "bounds[2]-bounds[1]"
   ]
  },
  {
   "cell_type": "markdown",
   "metadata": {},
   "source": [
    "On a très rapidement une très bonne approximation du minimum."
   ]
  },
  {
   "cell_type": "markdown",
   "metadata": {},
   "source": [
    "## Méthode du nombre d'or"
   ]
  },
  {
   "cell_type": "markdown",
   "metadata": {},
   "source": [
    "Commençons par une implémentation basique (voir aussi https://en.wikipedia.org/wiki/Golden-section_search):"
   ]
  },
  {
   "cell_type": "code",
   "execution_count": null,
   "metadata": {
    "scrolled": true
   },
   "outputs": [],
   "source": [
    "function goldensection(f::Function, a, b, tol::Float64 = 1e-6)\n",
    "\n",
    "    # Nous commençons en nous assurant que a est plus petit ou égal à b\n",
    "    (a,b) = (min(a,b),max(a,b))\n",
    "    d = b - a\n",
    "\n",
    "    k = 1\n",
    "    i = 1  # index d'itération\n",
    "    \n",
    "    c = b - d / golden\n",
    "    d = a + d / golden\n",
    "\n",
    "    while (b-a) > tol\n",
    "        i += 1\n",
    "        if f(c) < f(d)\n",
    "            b = d\n",
    "        else\n",
    "            a = c\n",
    "        end\n",
    "\n",
    "        c = b - (b - a) / golden\n",
    "        d = a + (b - a) / golden\n",
    "    end\n",
    "    \n",
    "    println(\"Nombre d'itérations: \", i)\n",
    "\n",
    "    return (a, b)\n",
    "end"
   ]
  },
  {
   "cell_type": "code",
   "execution_count": null,
   "metadata": {},
   "outputs": [],
   "source": [
    "(a, b) = goldensection(f, 0.0, 1.0)"
   ]
  },
  {
   "cell_type": "code",
   "execution_count": null,
   "metadata": {},
   "outputs": [],
   "source": [
    "b-a, (b-a)*golden"
   ]
  },
  {
   "cell_type": "code",
   "execution_count": null,
   "metadata": {},
   "outputs": [],
   "source": [
    "goldensection(f, 0.0, 1.0, 1e-8)"
   ]
  },
  {
   "cell_type": "markdown",
   "metadata": {},
   "source": [
    "Cela fonctionne, mais l'implémentation nécessite deux évaluations de fonctions à chaque itération, alors que la méthode de Fibonacci n'en exigeait qu'une.\n",
    "\n",
    "Nous allons capitaliser sur l'idée que les points placés à l'intérieur de l'intervalle de recherche doivent être équidistants des extrémités. Plus précisément, considérons l'intervalle $[a,b]$ et $x \\in (a,b)$ avec $x-a < b - x$. Nous cherchons $y$ tel que $x-a = b-y$, et par conséquent\n",
    "$$\n",
    "y = a+(b-x).\n",
    "$$\n",
    "Comme $x-a < b - x$, $a - x + b > x$, de sorte que $y > x$. Autrement dit, $y$ se trouvera à droite de $x$. Toutefois, si $x$ est trop proche de $a$, la décroissance des longueurs d'intevalle sera très longue. Pour contrer ce problème, nous allons imposer que le rapport entre les longueurs entre les bornes et le point à l'intérieur de l'intervalle.\n",
    "En supposant que $y$ (i.e. $f(y) > f(x)$) devient la nouvelle borne supérieure, nous avons\n",
    "$$\n",
    "\\frac{y-x}{x-a} = \\frac{x-a}{b-x}\n",
    "$$\n",
    "En notant $\\alpha = x-a$, $\\beta = b-x$ et $\\gamma = y-x$, la relation devient\n",
    "$$\n",
    "\\frac{\\gamma}{\\alpha} = \\frac{\\alpha}{\\beta}.\n",
    "$$\n",
    "Si $f(y) < f(x)$, $x$ devient la nouvelle borne inférieure, et nous devons avoir\n",
    "$$\n",
    "\\frac{\\gamma}{\\beta-\\gamma} = \\frac{\\alpha}{\\beta}.\n",
    "$$\n",
    "Comme $y = a+b-x$, $-\\alpha + \\beta = \\gamma$, ou $\\gamma = \\beta - \\alpha$. Les deux équations sont donc équivalentes et donnent\n",
    "$$\n",
    "\\frac{\\beta-\\alpha}{\\alpha} = \\frac{\\alpha}{\\beta}\n",
    "$$\n",
    "ou\n",
    "$$\n",
    "\\beta(\\beta-\\alpha) = \\alpha^2,\n",
    "$$\n",
    "ce qui équivaut à\n",
    "$$\n",
    "\\beta^2 - \\beta\\alpha = \\alpha^2\n",
    "$$\n",
    "soit\n",
    "$$\n",
    "\\left(\\frac{\\beta}{\\alpha}\\right)^2 - \\frac{\\beta}{\\alpha} = 1.\n",
    "$$\n",
    "Cette équation a pour solution\n",
    "$$\n",
    "\\frac{\\beta}{\\alpha} = \\tau.\n",
    "$$\n",
    "En redéveloppant $\\alpha$ et $\\beta$, nous obtenons\n",
    "$$\n",
    "b - x = \\tau(x - a)\n",
    "$$\n",
    "et donc\n",
    "$$\n",
    "(1+\\tau)x = b + \\tau a\n",
    "$$\n",
    "ou encore\n",
    "$$\n",
    "x = \\frac{b + \\tau a}{1+\\tau} = a + \\frac{b - a}{1+\\tau}.\n",
    "$$\n",
    "À présent,\n",
    "\\begin{align*}\n",
    "y & = a + b - x \\\\\n",
    "& = a + b - a - \\frac{b - a}{1+\\tau} \\\\\n",
    "& = b - \\frac{b - a}{1+\\tau} \\\\\n",
    "& = \\frac{b + \\tau b - b + a + \\tau a - \\tau a}{1+\\tau} \\\\\n",
    "& = a + \\frac{\\tau}{1+\\tau}(b-a).\n",
    "\\end{align*}\n",
    "Or\n",
    "$$\n",
    "\\frac{\\tau}{1+\\tau}\n",
    "= \\frac{1 + \\sqrt{5}}{2 + 1 + \\sqrt{5}}\n",
    "= \\frac{1-5}{(1 - \\sqrt{5})(3+\\sqrt{5}}\n",
    "= \\frac{-4}{-2-2\\sqrt{5}}\n",
    "= \\frac{2}{1+\\sqrt{5}}\n",
    "= \\frac{1}{\\tau}.\n",
    "$$\n",
    "Dès lors\n",
    "$$\n",
    "y = a + \\frac{b-a}{\\tau}.\n",
    "$$"
   ]
  },
  {
   "cell_type": "code",
   "execution_count": null,
   "metadata": {},
   "outputs": [],
   "source": [
    "function goldenrevisited(f::Function, a, b, tol::Float64 = 1e-6)\n",
    "    # Nous commençons en nous assurant que a est plus petit ou égal à b\n",
    "    (a,b) = (min(a,b),max(a,b))\n",
    "    \n",
    "    d = b-a\n",
    "    \n",
    "    # Note: la lettre ϕ est habituellement employée pour le nombre d'or\n",
    "    invτ = 1/golden\n",
    "    invτplus = 1/(1+golden)\n",
    "    \n",
    "    xG = a + invτplus*d\n",
    "    xD = a + invτ*d\n",
    "    fG = f(xG)\n",
    "    fD = f(xD)\n",
    "\n",
    "    tol *= golden\n",
    "    \n",
    "    i = 1\n",
    "    while (d > tol)\n",
    "        i += 1\n",
    "        if fG < fD\n",
    "            b = xD\n",
    "            xD = xG\n",
    "            d = b-a\n",
    "            xG = a + invτplus*d\n",
    "            fD = fG\n",
    "            fG = f(xG)\n",
    "        else\n",
    "            a = xG\n",
    "            xG = xD\n",
    "            d = b-a\n",
    "            xD = a + invτ*d\n",
    "            fG = fD\n",
    "            fD = f(xD)\n",
    "        end\n",
    "    end\n",
    "\n",
    "    if fG < fD\n",
    "        b = xD\n",
    "    else\n",
    "        a = xG\n",
    "    end\n",
    "    \n",
    "    println(\"Nombre d'itérations: \", i)\n",
    "\n",
    "    return (a,b)\n",
    "end"
   ]
  },
  {
   "cell_type": "code",
   "execution_count": null,
   "metadata": {},
   "outputs": [],
   "source": [
    "(a,b) = goldenrevisited(f, 0.0, 1.0)"
   ]
  },
  {
   "cell_type": "code",
   "execution_count": null,
   "metadata": {},
   "outputs": [],
   "source": [
    "b-a, (b-a)*golden"
   ]
  },
  {
   "cell_type": "markdown",
   "metadata": {},
   "source": [
    "## Librairie Optim en Julia"
   ]
  },
  {
   "cell_type": "markdown",
   "metadata": {},
   "source": [
    "Certaines routines d'optimisation sont directement disponibles en Julia, et peuvent être obtenues avec la commande"
   ]
  },
  {
   "cell_type": "code",
   "execution_count": null,
   "metadata": {},
   "outputs": [],
   "source": [
    "using Pkg\n",
    "# Pkg.add(\"Optim\")\n",
    "\n",
    "using Optim"
   ]
  },
  {
   "cell_type": "markdown",
   "metadata": {},
   "source": [
    "La routine de base est `optimize`, prenant comme premier argument la fonction à minimiser, et pour les fonctions univariées, en deuxième et troisième arguments, les bornes inférieure et supérieure initiales de l'intervalle de recherche."
   ]
  },
  {
   "cell_type": "markdown",
   "metadata": {},
   "source": [
    "### Méthode du nombre d'or\n",
    "\n",
    "Le méthode de recherche de la section dorée peut être appelée avec la function `GoldenSection`."
   ]
  },
  {
   "cell_type": "code",
   "execution_count": null,
   "metadata": {},
   "outputs": [],
   "source": [
    "result = optimize(f, 0, 1, GoldenSection())"
   ]
  },
  {
   "cell_type": "code",
   "execution_count": null,
   "metadata": {},
   "outputs": [],
   "source": [
    "Optim.minimizer(result)"
   ]
  },
  {
   "cell_type": "code",
   "execution_count": null,
   "metadata": {},
   "outputs": [],
   "source": [
    "bounds"
   ]
  },
  {
   "cell_type": "markdown",
   "metadata": {},
   "source": [
    "## Méthodes utilisant les dérivées."
   ]
  },
  {
   "cell_type": "markdown",
   "metadata": {},
   "source": [
    "La dérivée de $f$ est\n",
    "$$\n",
    "f'(x) = 2x+1-\\frac{1}{\\sqrt{x}},\n",
    "$$\n",
    "se qui peut se traduire en Julia comme"
   ]
  },
  {
   "cell_type": "code",
   "execution_count": null,
   "metadata": {},
   "outputs": [],
   "source": [
    "df(x) = 2x+1-1.0/sqrt(x)"
   ]
  },
  {
   "cell_type": "markdown",
   "metadata": {},
   "source": [
    "Posons $f'(x) = 0$, i.e.\n",
    "$$\n",
    "\\frac{1}{\\sqrt{x}} = 2x+1\n",
    "$$\n",
    "ou\n",
    "$$\n",
    "\\frac{1}{x} = 4x^2 + 4x + 1\n",
    "$$\n",
    "Nous devons dès lors chercher les racines du polynôme\n",
    "$$\n",
    "4x^3 + 4x^2 + x - 1 = 0.\n",
    "$$\n",
    "Pas simple! Nous pouvons cependant utiliser la librairie `Roots`."
   ]
  },
  {
   "cell_type": "code",
   "execution_count": null,
   "metadata": {},
   "outputs": [],
   "source": [
    "Pkg.add(\"Roots\")\n",
    "using Roots"
   ]
  },
  {
   "cell_type": "code",
   "execution_count": null,
   "metadata": {},
   "outputs": [],
   "source": [
    "h(x) = x*(4x*(x+1)+1)-1"
   ]
  },
  {
   "cell_type": "markdown",
   "metadata": {},
   "source": [
    "La fonction `fzeros` cherche à déterminer tous les zéros d'une fonction, mais peut être assez lente. Nous chercherons juste un zéro de la fonction, dans l'intervalle $[0,1]$."
   ]
  },
  {
   "cell_type": "code",
   "execution_count": null,
   "metadata": {},
   "outputs": [],
   "source": [
    "?fzero"
   ]
  },
  {
   "cell_type": "code",
   "execution_count": null,
   "metadata": {},
   "outputs": [],
   "source": [
    "fzero(h, 0, 1)"
   ]
  },
  {
   "cell_type": "code",
   "execution_count": null,
   "metadata": {},
   "outputs": [],
   "source": [
    "fzeros(h, 0, 1)"
   ]
  },
  {
   "cell_type": "markdown",
   "metadata": {},
   "source": [
    "Nous retrouvons la même solution que précédemment (heureusement!)."
   ]
  },
  {
   "cell_type": "markdown",
   "metadata": {},
   "source": [
    "### Méthode de la bisection"
   ]
  },
  {
   "cell_type": "markdown",
   "metadata": {},
   "source": [
    "Nous pouvons le faire explicitement en codant notre fonction de bisection."
   ]
  },
  {
   "cell_type": "code",
   "execution_count": null,
   "metadata": {},
   "outputs": [],
   "source": [
    "function bisection(f::Function, a::Float64, b::Float64, δ::Float64 = 1e-8)\n",
    "\n",
    "    k = 1\n",
    "    if (a > b)\n",
    "        c = a\n",
    "        a = b\n",
    "        b = c\n",
    "    end\n",
    "\n",
    "    fa = f(a)\n",
    "    fb = f(b)\n",
    "    if fa == 0\n",
    "        return k, fa, a, a\n",
    "    elseif fb == 0\n",
    "        return k, fb, b, b\n",
    "    end\n",
    "\n",
    "    if fa*fb > 0\n",
    "        println(\"The function must be of opposite signs at the bounds\")\n",
    "        return\n",
    "    end\n",
    "\n",
    "    d = b-a\n",
    "    c = a+d/2\n",
    "    fc = f(c)\n",
    "\n",
    "    while (d > δ)\n",
    "        if (verbose)\n",
    "            println(\"$k. a = $a, b = $b, d = $d, c = $c, fc = $fc\")\n",
    "        end\n",
    "        k += 1\n",
    "        if (fc == 0)\n",
    "            a = b = c\n",
    "            break\n",
    "        elseif (fc*fa < 0)\n",
    "            b = c\n",
    "            fb = fc\n",
    "        else\n",
    "            a = c\n",
    "            fa = fc\n",
    "        end\n",
    "        d = b-a\n",
    "        c = a+d/2\n",
    "        fc = f(c)\n",
    "    end            \n",
    "\n",
    "    return k, fc, a, b\n",
    "end"
   ]
  },
  {
   "cell_type": "code",
   "execution_count": null,
   "metadata": {},
   "outputs": [],
   "source": [
    "methods(bisection)"
   ]
  },
  {
   "cell_type": "code",
   "execution_count": null,
   "metadata": {},
   "outputs": [],
   "source": [
    "X = bisection(df, 0.0, 1.0)"
   ]
  },
  {
   "cell_type": "code",
   "execution_count": null,
   "metadata": {},
   "outputs": [],
   "source": [
    "X = bisection(df, 0.0, 1.0, 1e-11)"
   ]
  },
  {
   "cell_type": "markdown",
   "metadata": {},
   "source": [
    "### Méthode de Newton"
   ]
  },
  {
   "cell_type": "markdown",
   "metadata": {},
   "source": [
    "La dérivée seconde de $f$ est\n",
    "$$\n",
    "f''(x) = 2+\\frac{1}{2}x^{-\\frac{3}{2}}.\n",
    "$$"
   ]
  },
  {
   "cell_type": "code",
   "execution_count": null,
   "metadata": {},
   "outputs": [],
   "source": [
    "function d2f(x::Float64)\n",
    "    return 2+x^(-3/2)/2\n",
    "end"
   ]
  },
  {
   "cell_type": "markdown",
   "metadata": {},
   "source": [
    "Une implémentation basique de la méthode de Newton suit."
   ]
  },
  {
   "cell_type": "code",
   "execution_count": null,
   "metadata": {},
   "outputs": [],
   "source": [
    "function Newton(f::Function, df::Function, d2f:: Function, xstart::Float64, δ::Float64 = 1e-8, nmax::Int64 = 100)\n",
    "    k = 1\n",
    "    x = xstart\n",
    "    if (verbose)\n",
    "        fx = f(x)\n",
    "        println(\"$k. x = $x, f(x) = $fx\")\n",
    "    end\n",
    "    dfx = df(x)\n",
    "    while (abs(dfx) > δ && k <= nmax)\n",
    "        k += 1\n",
    "        dfx = df(x)\n",
    "        x = x-dfx/d2f(x)\n",
    "        if (verbose)\n",
    "            fx = f(x)\n",
    "            println(\"$k. x = $x, f(x) = $fx\")\n",
    "        end\n",
    "    end\n",
    "end"
   ]
  },
  {
   "cell_type": "code",
   "execution_count": null,
   "metadata": {},
   "outputs": [],
   "source": [
    "verbose = true\n",
    "Newton(f, df, d2f, 0.1)"
   ]
  },
  {
   "cell_type": "code",
   "execution_count": null,
   "metadata": {},
   "outputs": [],
   "source": [
    "verbose = true\n",
    "Newton(f, df, d2f, 100.0)"
   ]
  },
  {
   "cell_type": "code",
   "execution_count": null,
   "metadata": {},
   "outputs": [],
   "source": [
    "x0 = 3.0\n",
    "x1 = x0-df(x0)/d2f(x0)"
   ]
  },
  {
   "cell_type": "markdown",
   "metadata": {},
   "source": [
    "Nous voyons que nous convergeons plus rapidement vers la solution optimale quand la méthode fonctionne, mais selon le point de départ, elle peut échouer lamentablement."
   ]
  },
  {
   "cell_type": "markdown",
   "metadata": {},
   "source": [
    "## Différentiation numérique"
   ]
  },
  {
   "cell_type": "markdown",
   "metadata": {
    "collapsed": true
   },
   "source": [
    "Il n'est pas toujours facile de calculer explicitement la dérivée d'une fonction. Il est cependant possible d'exploiter la définition de dérivée afin de l'approximer numériquement. Soit $f$, dérivable en $x$. La dérivée est définie comme\n",
    "$$\n",
    "    f'(x) = \\lim_{\\epsilon \\rightarrow 0} \\frac{f(x+\\epsilon)-f(x)}{\\epsilon}\n",
    "$$\n",
    "Nous pouvons dès lors approximer la dérivée en choisissant $\\epsilon$ assez petit et en calculant par exemple\n",
    "$$\n",
    "f'(x) \\approx \\frac{f(x+\\epsilon)-f(x)}{\\epsilon}.\n",
    "$$"
   ]
  },
  {
   "cell_type": "code",
   "execution_count": null,
   "metadata": {},
   "outputs": [],
   "source": [
    "ϵ = 1e-4\n",
    "dffd(x) = (f(x+ϵ)-f(x))/ϵ"
   ]
  },
  {
   "cell_type": "markdown",
   "metadata": {},
   "source": [
    "L'application de la méthode de la bisection à cette approximation permet d'obtenir"
   ]
  },
  {
   "cell_type": "code",
   "execution_count": null,
   "metadata": {},
   "outputs": [],
   "source": [
    "fzero(dffd, 0, 1)"
   ]
  },
  {
   "cell_type": "markdown",
   "metadata": {},
   "source": [
    "Nous ne pouvons choisir $\\epsilon$ arbitrairement petit, comme illustré ci-dessous."
   ]
  },
  {
   "cell_type": "code",
   "execution_count": null,
   "metadata": {},
   "outputs": [],
   "source": []
  },
  {
   "cell_type": "code",
   "execution_count": null,
   "metadata": {},
   "outputs": [],
   "source": [
    "# fd: Finite difference\n",
    "dffd(x, ϵ) = (f(x+ϵ)-f(x))/ϵ\n",
    "x = 1.0\n",
    "errfd(ϵ) = abs(df(x)-dffd(x, ϵ))\n",
    "plot(errfd, 1e-14,1e-12)"
   ]
  },
  {
   "cell_type": "markdown",
   "metadata": {},
   "source": [
    "La méthode peut être affinée en utilisant la différence centrale, définie comme\n",
    "$$\n",
    "f'(x) \\approx \\frac{f(x+\\epsilon)-f(x-\\epsilon)}{2\\epsilon}\n",
    "$$"
   ]
  },
  {
   "cell_type": "code",
   "execution_count": null,
   "metadata": {},
   "outputs": [],
   "source": [
    "dfcd(x, ϵ=1e-6) = (f(x+ϵ)-f(x-ϵ))/(2*ϵ)"
   ]
  },
  {
   "cell_type": "code",
   "execution_count": null,
   "metadata": {},
   "outputs": [],
   "source": [
    "x = 1.0\n",
    "errcd(ϵ) = abs(df(x)-dfcd(x, ϵ))\n",
    "plot(errcd, 1e-18,0.1e-12)"
   ]
  },
  {
   "cell_type": "code",
   "execution_count": null,
   "metadata": {},
   "outputs": [],
   "source": [
    "plot(errcd, 1e-18,0.1e-13)"
   ]
  },
  {
   "cell_type": "markdown",
   "metadata": {},
   "source": [
    "La différence centrale fournit de plus petites erreurs numériques, mais au prix d'une évaluation de fonction supplémentaire."
   ]
  },
  {
   "cell_type": "markdown",
   "metadata": {
    "collapsed": true
   },
   "source": [
    "Les dérivées numériques sont souvent coûteuses à calculer, surtout pour des problèmes multivariés, et nous nous tournerons vers la différentiation automatique."
   ]
  },
  {
   "cell_type": "code",
   "execution_count": null,
   "metadata": {},
   "outputs": [],
   "source": [
    "Newton(f, dfcd, d2f, 1.1)"
   ]
  },
  {
   "cell_type": "code",
   "execution_count": null,
   "metadata": {},
   "outputs": [],
   "source": [
    "dfhd(x, ϵ=1e-4) = (dfcd(x+ϵ)-dfcd(x))/ϵ"
   ]
  },
  {
   "cell_type": "code",
   "execution_count": null,
   "metadata": {},
   "outputs": [],
   "source": [
    "Newton(f, dfcd, dfhd, 1.1)"
   ]
  },
  {
   "cell_type": "code",
   "execution_count": null,
   "metadata": {},
   "outputs": [],
   "source": [
    "using ForwardDiff"
   ]
  },
  {
   "cell_type": "code",
   "execution_count": null,
   "metadata": {},
   "outputs": [],
   "source": [
    "g2 = x -> ForwardDiff.derivative(f, x)"
   ]
  },
  {
   "cell_type": "code",
   "execution_count": null,
   "metadata": {},
   "outputs": [],
   "source": [
    "Newton(f, g2, dfhd, 1.1)"
   ]
  },
  {
   "cell_type": "code",
   "execution_count": null,
   "metadata": {},
   "outputs": [],
   "source": [
    "errfd(x) = abs(df(x)-g2(x))\n",
    "plot(errfd, 1,1.1)"
   ]
  },
  {
   "cell_type": "code",
   "execution_count": null,
   "metadata": {},
   "outputs": [],
   "source": []
  }
 ],
 "metadata": {
  "kernelspec": {
   "display_name": "Julia 1.5.0",
   "language": "julia",
   "name": "julia-1.5"
  },
  "language_info": {
   "file_extension": ".jl",
   "mimetype": "application/julia",
   "name": "julia",
   "version": "1.5.0"
  }
 },
 "nbformat": 4,
 "nbformat_minor": 2
}
