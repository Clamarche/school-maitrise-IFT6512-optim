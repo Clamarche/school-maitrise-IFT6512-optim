{
 "cells": [
  {
   "cell_type": "markdown",
   "metadata": {},
   "source": [
    "# Optimisation de fonctions univariées"
   ]
  },
  {
   "cell_type": "markdown",
   "metadata": {},
   "source": [
    "Considérons la fonction suivante à optimiser:\n",
    "$$\n",
    "f(x) = x^2 + x -2\\sqrt{x}\n",
    "$$"
   ]
  },
  {
   "cell_type": "code",
   "execution_count": 1,
   "metadata": {},
   "outputs": [
    {
     "data": {
      "text/plain": [
       "f (generic function with 1 method)"
      ]
     },
     "execution_count": 1,
     "metadata": {},
     "output_type": "execute_result"
    }
   ],
   "source": [
    "f(x) = x^2 + x - 2*sqrt(x)"
   ]
  },
  {
   "cell_type": "markdown",
   "metadata": {},
   "source": [
    "Je viens de créer une superbe fonction! Voyons à quoi elle ressemble."
   ]
  },
  {
   "cell_type": "code",
   "execution_count": 2,
   "metadata": {},
   "outputs": [],
   "source": [
    "using Plots"
   ]
  },
  {
   "cell_type": "code",
   "execution_count": 3,
   "metadata": {},
   "outputs": [
    {
     "data": {
      "image/svg+xml": [
       "<?xml version=\"1.0\" encoding=\"utf-8\"?>\n",
       "<svg xmlns=\"http://www.w3.org/2000/svg\" xmlns:xlink=\"http://www.w3.org/1999/xlink\" width=\"600\" height=\"400\" viewBox=\"0 0 2400 1600\">\n",
       "<defs>\n",
       "  <clipPath id=\"clip320\">\n",
       "    <rect x=\"0\" y=\"0\" width=\"2400\" height=\"1600\"/>\n",
       "  </clipPath>\n",
       "</defs>\n",
       "<path clip-path=\"url(#clip320)\" d=\"\n",
       "M0 1600 L2400 1600 L2400 0 L0 0  Z\n",
       "  \" fill=\"#ffffff\" fill-rule=\"evenodd\" fill-opacity=\"1\"/>\n",
       "<defs>\n",
       "  <clipPath id=\"clip321\">\n",
       "    <rect x=\"480\" y=\"0\" width=\"1681\" height=\"1600\"/>\n",
       "  </clipPath>\n",
       "</defs>\n",
       "<path clip-path=\"url(#clip320)\" d=\"\n",
       "M162.455 1486.45 L2352.76 1486.45 L2352.76 47.2441 L162.455 47.2441  Z\n",
       "  \" fill=\"#ffffff\" fill-rule=\"evenodd\" fill-opacity=\"1\"/>\n",
       "<defs>\n",
       "  <clipPath id=\"clip322\">\n",
       "    <rect x=\"162\" y=\"47\" width=\"2191\" height=\"1440\"/>\n",
       "  </clipPath>\n",
       "</defs>\n",
       "<polyline clip-path=\"url(#clip322)\" style=\"stroke:#000000; stroke-width:2; stroke-opacity:0.1; fill:none\" points=\"\n",
       "  224.444,1486.45 224.444,47.2441 \n",
       "  \"/>\n",
       "<polyline clip-path=\"url(#clip322)\" style=\"stroke:#000000; stroke-width:2; stroke-opacity:0.1; fill:none\" points=\"\n",
       "  913.218,1486.45 913.218,47.2441 \n",
       "  \"/>\n",
       "<polyline clip-path=\"url(#clip322)\" style=\"stroke:#000000; stroke-width:2; stroke-opacity:0.1; fill:none\" points=\"\n",
       "  1601.99,1486.45 1601.99,47.2441 \n",
       "  \"/>\n",
       "<polyline clip-path=\"url(#clip322)\" style=\"stroke:#000000; stroke-width:2; stroke-opacity:0.1; fill:none\" points=\"\n",
       "  2290.77,1486.45 2290.77,47.2441 \n",
       "  \"/>\n",
       "<polyline clip-path=\"url(#clip322)\" style=\"stroke:#000000; stroke-width:2; stroke-opacity:0.1; fill:none\" points=\"\n",
       "  162.455,1304.44 2352.76,1304.44 \n",
       "  \"/>\n",
       "<polyline clip-path=\"url(#clip322)\" style=\"stroke:#000000; stroke-width:2; stroke-opacity:0.1; fill:none\" points=\"\n",
       "  162.455,966.627 2352.76,966.627 \n",
       "  \"/>\n",
       "<polyline clip-path=\"url(#clip322)\" style=\"stroke:#000000; stroke-width:2; stroke-opacity:0.1; fill:none\" points=\"\n",
       "  162.455,628.817 2352.76,628.817 \n",
       "  \"/>\n",
       "<polyline clip-path=\"url(#clip322)\" style=\"stroke:#000000; stroke-width:2; stroke-opacity:0.1; fill:none\" points=\"\n",
       "  162.455,291.007 2352.76,291.007 \n",
       "  \"/>\n",
       "<polyline clip-path=\"url(#clip320)\" style=\"stroke:#000000; stroke-width:4; stroke-opacity:1; fill:none\" points=\"\n",
       "  162.455,1486.45 2352.76,1486.45 \n",
       "  \"/>\n",
       "<polyline clip-path=\"url(#clip320)\" style=\"stroke:#000000; stroke-width:4; stroke-opacity:1; fill:none\" points=\"\n",
       "  162.455,1486.45 162.455,47.2441 \n",
       "  \"/>\n",
       "<polyline clip-path=\"url(#clip320)\" style=\"stroke:#000000; stroke-width:4; stroke-opacity:1; fill:none\" points=\"\n",
       "  224.444,1486.45 224.444,1469.18 \n",
       "  \"/>\n",
       "<polyline clip-path=\"url(#clip320)\" style=\"stroke:#000000; stroke-width:4; stroke-opacity:1; fill:none\" points=\"\n",
       "  913.218,1486.45 913.218,1469.18 \n",
       "  \"/>\n",
       "<polyline clip-path=\"url(#clip320)\" style=\"stroke:#000000; stroke-width:4; stroke-opacity:1; fill:none\" points=\"\n",
       "  1601.99,1486.45 1601.99,1469.18 \n",
       "  \"/>\n",
       "<polyline clip-path=\"url(#clip320)\" style=\"stroke:#000000; stroke-width:4; stroke-opacity:1; fill:none\" points=\"\n",
       "  2290.77,1486.45 2290.77,1469.18 \n",
       "  \"/>\n",
       "<polyline clip-path=\"url(#clip320)\" style=\"stroke:#000000; stroke-width:4; stroke-opacity:1; fill:none\" points=\"\n",
       "  162.455,1304.44 188.738,1304.44 \n",
       "  \"/>\n",
       "<polyline clip-path=\"url(#clip320)\" style=\"stroke:#000000; stroke-width:4; stroke-opacity:1; fill:none\" points=\"\n",
       "  162.455,966.627 188.738,966.627 \n",
       "  \"/>\n",
       "<polyline clip-path=\"url(#clip320)\" style=\"stroke:#000000; stroke-width:4; stroke-opacity:1; fill:none\" points=\"\n",
       "  162.455,628.817 188.738,628.817 \n",
       "  \"/>\n",
       "<polyline clip-path=\"url(#clip320)\" style=\"stroke:#000000; stroke-width:4; stroke-opacity:1; fill:none\" points=\"\n",
       "  162.455,291.007 188.738,291.007 \n",
       "  \"/>\n",
       "<path clip-path=\"url(#clip320)\" d=\"M 0 0 M205.961 1508.44 Q202.35 1508.44 200.521 1512 Q198.715 1515.55 198.715 1522.67 Q198.715 1529.78 200.521 1533.35 Q202.35 1536.89 205.961 1536.89 Q209.595 1536.89 211.4 1533.35 Q213.229 1529.78 213.229 1522.67 Q213.229 1515.55 211.4 1512 Q209.595 1508.44 205.961 1508.44 M205.961 1504.73 Q211.771 1504.73 214.826 1509.34 Q217.905 1513.92 217.905 1522.67 Q217.905 1531.4 214.826 1536.01 Q211.771 1540.59 205.961 1540.59 Q200.15 1540.59 197.072 1536.01 Q194.016 1531.4 194.016 1522.67 Q194.016 1513.92 197.072 1509.34 Q200.15 1504.73 205.961 1504.73 Z\" fill=\"#000000\" fill-rule=\"evenodd\" fill-opacity=\"1\" /><path clip-path=\"url(#clip320)\" d=\"M 0 0 M222.974 1534.04 L227.859 1534.04 L227.859 1539.92 L222.974 1539.92 L222.974 1534.04 Z\" fill=\"#000000\" fill-rule=\"evenodd\" fill-opacity=\"1\" /><path clip-path=\"url(#clip320)\" d=\"M 0 0 M242.928 1508.44 Q239.317 1508.44 237.488 1512 Q235.683 1515.55 235.683 1522.67 Q235.683 1529.78 237.488 1533.35 Q239.317 1536.89 242.928 1536.89 Q246.562 1536.89 248.368 1533.35 Q250.197 1529.78 250.197 1522.67 Q250.197 1515.55 248.368 1512 Q246.562 1508.44 242.928 1508.44 M242.928 1504.73 Q248.738 1504.73 251.794 1509.34 Q254.872 1513.92 254.872 1522.67 Q254.872 1531.4 251.794 1536.01 Q248.738 1540.59 242.928 1540.59 Q237.118 1540.59 234.039 1536.01 Q230.984 1531.4 230.984 1522.67 Q230.984 1513.92 234.039 1509.34 Q237.118 1504.73 242.928 1504.73 Z\" fill=\"#000000\" fill-rule=\"evenodd\" fill-opacity=\"1\" /><path clip-path=\"url(#clip320)\" d=\"M 0 0 M895.232 1508.44 Q891.621 1508.44 889.793 1512 Q887.987 1515.55 887.987 1522.67 Q887.987 1529.78 889.793 1533.35 Q891.621 1536.89 895.232 1536.89 Q898.867 1536.89 900.672 1533.35 Q902.501 1529.78 902.501 1522.67 Q902.501 1515.55 900.672 1512 Q898.867 1508.44 895.232 1508.44 M895.232 1504.73 Q901.042 1504.73 904.098 1509.34 Q907.177 1513.92 907.177 1522.67 Q907.177 1531.4 904.098 1536.01 Q901.042 1540.59 895.232 1540.59 Q889.422 1540.59 886.343 1536.01 Q883.288 1531.4 883.288 1522.67 Q883.288 1513.92 886.343 1509.34 Q889.422 1504.73 895.232 1504.73 Z\" fill=\"#000000\" fill-rule=\"evenodd\" fill-opacity=\"1\" /><path clip-path=\"url(#clip320)\" d=\"M 0 0 M912.246 1534.04 L917.13 1534.04 L917.13 1539.92 L912.246 1539.92 L912.246 1534.04 Z\" fill=\"#000000\" fill-rule=\"evenodd\" fill-opacity=\"1\" /><path clip-path=\"url(#clip320)\" d=\"M 0 0 M922.246 1505.36 L940.602 1505.36 L940.602 1509.3 L926.528 1509.3 L926.528 1517.77 Q927.547 1517.42 928.565 1517.26 Q929.584 1517.07 930.602 1517.07 Q936.389 1517.07 939.769 1520.24 Q943.149 1523.42 943.149 1528.83 Q943.149 1534.41 939.677 1537.51 Q936.204 1540.59 929.885 1540.59 Q927.709 1540.59 925.44 1540.22 Q923.195 1539.85 920.788 1539.11 L920.788 1534.41 Q922.871 1535.54 925.093 1536.1 Q927.315 1536.66 929.792 1536.66 Q933.797 1536.66 936.135 1534.55 Q938.473 1532.44 938.473 1528.83 Q938.473 1525.22 936.135 1523.11 Q933.797 1521.01 929.792 1521.01 Q927.917 1521.01 926.042 1521.42 Q924.19 1521.84 922.246 1522.72 L922.246 1505.36 Z\" fill=\"#000000\" fill-rule=\"evenodd\" fill-opacity=\"1\" /><path clip-path=\"url(#clip320)\" d=\"M 0 0 M1573.89 1535.98 L1581.53 1535.98 L1581.53 1509.62 L1573.22 1511.29 L1573.22 1507.03 L1581.48 1505.36 L1586.16 1505.36 L1586.16 1535.98 L1593.8 1535.98 L1593.8 1539.92 L1573.89 1539.92 L1573.89 1535.98 Z\" fill=\"#000000\" fill-rule=\"evenodd\" fill-opacity=\"1\" /><path clip-path=\"url(#clip320)\" d=\"M 0 0 M1598.87 1534.04 L1603.75 1534.04 L1603.75 1539.92 L1598.87 1539.92 L1598.87 1534.04 Z\" fill=\"#000000\" fill-rule=\"evenodd\" fill-opacity=\"1\" /><path clip-path=\"url(#clip320)\" d=\"M 0 0 M1618.82 1508.44 Q1615.21 1508.44 1613.38 1512 Q1611.58 1515.55 1611.58 1522.67 Q1611.58 1529.78 1613.38 1533.35 Q1615.21 1536.89 1618.82 1536.89 Q1622.46 1536.89 1624.26 1533.35 Q1626.09 1529.78 1626.09 1522.67 Q1626.09 1515.55 1624.26 1512 Q1622.46 1508.44 1618.82 1508.44 M1618.82 1504.73 Q1624.63 1504.73 1627.69 1509.34 Q1630.77 1513.92 1630.77 1522.67 Q1630.77 1531.4 1627.69 1536.01 Q1624.63 1540.59 1618.82 1540.59 Q1613.01 1540.59 1609.93 1536.01 Q1606.88 1531.4 1606.88 1522.67 Q1606.88 1513.92 1609.93 1509.34 Q1613.01 1504.73 1618.82 1504.73 Z\" fill=\"#000000\" fill-rule=\"evenodd\" fill-opacity=\"1\" /><path clip-path=\"url(#clip320)\" d=\"M 0 0 M2263.16 1535.98 L2270.8 1535.98 L2270.8 1509.62 L2262.49 1511.29 L2262.49 1507.03 L2270.75 1505.36 L2275.43 1505.36 L2275.43 1535.98 L2283.07 1535.98 L2283.07 1539.92 L2263.16 1539.92 L2263.16 1535.98 Z\" fill=\"#000000\" fill-rule=\"evenodd\" fill-opacity=\"1\" /><path clip-path=\"url(#clip320)\" d=\"M 0 0 M2288.14 1534.04 L2293.02 1534.04 L2293.02 1539.92 L2288.14 1539.92 L2288.14 1534.04 Z\" fill=\"#000000\" fill-rule=\"evenodd\" fill-opacity=\"1\" /><path clip-path=\"url(#clip320)\" d=\"M 0 0 M2298.14 1505.36 L2316.5 1505.36 L2316.5 1509.3 L2302.42 1509.3 L2302.42 1517.77 Q2303.44 1517.42 2304.46 1517.26 Q2305.48 1517.07 2306.5 1517.07 Q2312.28 1517.07 2315.66 1520.24 Q2319.04 1523.42 2319.04 1528.83 Q2319.04 1534.41 2315.57 1537.51 Q2312.1 1540.59 2305.78 1540.59 Q2303.6 1540.59 2301.33 1540.22 Q2299.09 1539.85 2296.68 1539.11 L2296.68 1534.41 Q2298.76 1535.54 2300.99 1536.1 Q2303.21 1536.66 2305.69 1536.66 Q2309.69 1536.66 2312.03 1534.55 Q2314.37 1532.44 2314.37 1528.83 Q2314.37 1525.22 2312.03 1523.11 Q2309.69 1521.01 2305.69 1521.01 Q2303.81 1521.01 2301.94 1521.42 Q2300.08 1521.84 2298.14 1522.72 L2298.14 1505.36 Z\" fill=\"#000000\" fill-rule=\"evenodd\" fill-opacity=\"1\" /><path clip-path=\"url(#clip320)\" d=\"M 0 0 M62.9921 1306.83 L75.4689 1306.83 L75.4689 1310.63 L62.9921 1310.63 L62.9921 1306.83 Z\" fill=\"#000000\" fill-rule=\"evenodd\" fill-opacity=\"1\" /><path clip-path=\"url(#clip320)\" d=\"M 0 0 M90.5383 1290.24 Q86.9272 1290.24 85.0985 1293.8 Q83.2929 1297.34 83.2929 1304.47 Q83.2929 1311.58 85.0985 1315.14 Q86.9272 1318.68 90.5383 1318.68 Q94.1725 1318.68 95.9781 1315.14 Q97.8068 1311.58 97.8068 1304.47 Q97.8068 1297.34 95.9781 1293.8 Q94.1725 1290.24 90.5383 1290.24 M90.5383 1286.53 Q96.3484 1286.53 99.404 1291.14 Q102.483 1295.72 102.483 1304.47 Q102.483 1313.2 99.404 1317.8 Q96.3484 1322.39 90.5383 1322.39 Q84.7281 1322.39 81.6494 1317.8 Q78.5939 1313.2 78.5939 1304.47 Q78.5939 1295.72 81.6494 1291.14 Q84.7281 1286.53 90.5383 1286.53 Z\" fill=\"#000000\" fill-rule=\"evenodd\" fill-opacity=\"1\" /><path clip-path=\"url(#clip320)\" d=\"M 0 0 M107.552 1315.84 L112.436 1315.84 L112.436 1321.72 L107.552 1321.72 L107.552 1315.84 Z\" fill=\"#000000\" fill-rule=\"evenodd\" fill-opacity=\"1\" /><path clip-path=\"url(#clip320)\" d=\"M 0 0 M117.552 1287.16 L135.908 1287.16 L135.908 1291.09 L121.834 1291.09 L121.834 1299.56 Q122.853 1299.22 123.871 1299.05 Q124.89 1298.87 125.908 1298.87 Q131.695 1298.87 135.075 1302.04 Q138.455 1305.21 138.455 1310.63 Q138.455 1316.21 134.982 1319.31 Q131.51 1322.39 125.191 1322.39 Q123.015 1322.39 120.746 1322.02 Q118.501 1321.65 116.094 1320.91 L116.094 1316.21 Q118.177 1317.34 120.399 1317.9 Q122.621 1318.45 125.098 1318.45 Q129.103 1318.45 131.441 1316.35 Q133.779 1314.24 133.779 1310.63 Q133.779 1307.02 131.441 1304.91 Q129.103 1302.8 125.098 1302.8 Q123.223 1302.8 121.348 1303.22 Q119.496 1303.64 117.552 1304.52 L117.552 1287.16 Z\" fill=\"#000000\" fill-rule=\"evenodd\" fill-opacity=\"1\" /><path clip-path=\"url(#clip320)\" d=\"M 0 0 M89.5429 952.425 Q85.9318 952.425 84.1031 955.99 Q82.2976 959.532 82.2976 966.661 Q82.2976 973.768 84.1031 977.333 Q85.9318 980.874 89.5429 980.874 Q93.1771 980.874 94.9827 977.333 Q96.8114 973.768 96.8114 966.661 Q96.8114 959.532 94.9827 955.99 Q93.1771 952.425 89.5429 952.425 M89.5429 948.722 Q95.3531 948.722 98.4086 953.328 Q101.487 957.911 101.487 966.661 Q101.487 975.388 98.4086 979.995 Q95.3531 984.578 89.5429 984.578 Q83.7328 984.578 80.6541 979.995 Q77.5985 975.388 77.5985 966.661 Q77.5985 957.911 80.6541 953.328 Q83.7328 948.722 89.5429 948.722 Z\" fill=\"#000000\" fill-rule=\"evenodd\" fill-opacity=\"1\" /><path clip-path=\"url(#clip320)\" d=\"M 0 0 M106.557 978.027 L111.441 978.027 L111.441 983.907 L106.557 983.907 L106.557 978.027 Z\" fill=\"#000000\" fill-rule=\"evenodd\" fill-opacity=\"1\" /><path clip-path=\"url(#clip320)\" d=\"M 0 0 M126.51 952.425 Q122.899 952.425 121.071 955.99 Q119.265 959.532 119.265 966.661 Q119.265 973.768 121.071 977.333 Q122.899 980.874 126.51 980.874 Q130.145 980.874 131.95 977.333 Q133.779 973.768 133.779 966.661 Q133.779 959.532 131.95 955.99 Q130.145 952.425 126.51 952.425 M126.51 948.722 Q132.32 948.722 135.376 953.328 Q138.455 957.911 138.455 966.661 Q138.455 975.388 135.376 979.995 Q132.32 984.578 126.51 984.578 Q120.7 984.578 117.621 979.995 Q114.566 975.388 114.566 966.661 Q114.566 957.911 117.621 953.328 Q120.7 948.722 126.51 948.722 Z\" fill=\"#000000\" fill-rule=\"evenodd\" fill-opacity=\"1\" /><path clip-path=\"url(#clip320)\" d=\"M 0 0 M90.5383 614.615 Q86.9272 614.615 85.0985 618.18 Q83.2929 621.722 83.2929 628.851 Q83.2929 635.958 85.0985 639.523 Q86.9272 643.064 90.5383 643.064 Q94.1725 643.064 95.9781 639.523 Q97.8068 635.958 97.8068 628.851 Q97.8068 621.722 95.9781 618.18 Q94.1725 614.615 90.5383 614.615 M90.5383 610.912 Q96.3484 610.912 99.404 615.518 Q102.483 620.101 102.483 628.851 Q102.483 637.578 99.404 642.185 Q96.3484 646.768 90.5383 646.768 Q84.7281 646.768 81.6494 642.185 Q78.5939 637.578 78.5939 628.851 Q78.5939 620.101 81.6494 615.518 Q84.7281 610.912 90.5383 610.912 Z\" fill=\"#000000\" fill-rule=\"evenodd\" fill-opacity=\"1\" /><path clip-path=\"url(#clip320)\" d=\"M 0 0 M107.552 640.217 L112.436 640.217 L112.436 646.097 L107.552 646.097 L107.552 640.217 Z\" fill=\"#000000\" fill-rule=\"evenodd\" fill-opacity=\"1\" /><path clip-path=\"url(#clip320)\" d=\"M 0 0 M117.552 611.537 L135.908 611.537 L135.908 615.472 L121.834 615.472 L121.834 623.944 Q122.853 623.597 123.871 623.435 Q124.89 623.25 125.908 623.25 Q131.695 623.25 135.075 626.421 Q138.455 629.592 138.455 635.009 Q138.455 640.587 134.982 643.689 Q131.51 646.768 125.191 646.768 Q123.015 646.768 120.746 646.398 Q118.501 646.027 116.094 645.287 L116.094 640.587 Q118.177 641.722 120.399 642.277 Q122.621 642.833 125.098 642.833 Q129.103 642.833 131.441 640.726 Q133.779 638.62 133.779 635.009 Q133.779 631.398 131.441 629.291 Q129.103 627.185 125.098 627.185 Q123.223 627.185 121.348 627.601 Q119.496 628.018 117.552 628.898 L117.552 611.537 Z\" fill=\"#000000\" fill-rule=\"evenodd\" fill-opacity=\"1\" /><path clip-path=\"url(#clip320)\" d=\"M 0 0 M81.58 304.352 L89.2188 304.352 L89.2188 277.986 L80.9087 279.653 L80.9087 275.394 L89.1725 273.727 L93.8484 273.727 L93.8484 304.352 L101.487 304.352 L101.487 308.287 L81.58 308.287 L81.58 304.352 Z\" fill=\"#000000\" fill-rule=\"evenodd\" fill-opacity=\"1\" /><path clip-path=\"url(#clip320)\" d=\"M 0 0 M106.557 302.407 L111.441 302.407 L111.441 308.287 L106.557 308.287 L106.557 302.407 Z\" fill=\"#000000\" fill-rule=\"evenodd\" fill-opacity=\"1\" /><path clip-path=\"url(#clip320)\" d=\"M 0 0 M126.51 276.806 Q122.899 276.806 121.071 280.37 Q119.265 283.912 119.265 291.042 Q119.265 298.148 121.071 301.713 Q122.899 305.255 126.51 305.255 Q130.145 305.255 131.95 301.713 Q133.779 298.148 133.779 291.042 Q133.779 283.912 131.95 280.37 Q130.145 276.806 126.51 276.806 M126.51 273.102 Q132.32 273.102 135.376 277.708 Q138.455 282.292 138.455 291.042 Q138.455 299.768 135.376 304.375 Q132.32 308.958 126.51 308.958 Q120.7 308.958 117.621 304.375 Q114.566 299.768 114.566 291.042 Q114.566 282.292 117.621 277.708 Q120.7 273.102 126.51 273.102 Z\" fill=\"#000000\" fill-rule=\"evenodd\" fill-opacity=\"1\" /><polyline clip-path=\"url(#clip322)\" style=\"stroke:#009af9; stroke-width:4; stroke-opacity:1; fill:none\" points=\"\n",
       "  224.444,966.627 229.489,1045.91 234.534,1077.28 239.579,1100.75 244.624,1120.13 267.947,1184.74 291.27,1229.87 314.594,1265.19 337.917,1294.2 384.564,1339.65 \n",
       "  431.211,1373.5 487.276,1403.35 543.342,1424.15 590.744,1435.99 638.147,1443.29 741.132,1445.72 836.075,1433.84 937.865,1407.93 1055.8,1362.53 1160.6,1309.38 \n",
       "  1252.51,1253.43 1352.71,1182.93 1453.5,1102.35 1564.95,1002.35 1670.98,896.848 1781.23,776.685 1874.04,667.417 1987.35,524.119 2093.86,379.635 2264.51,128.7 \n",
       "  2290.77,87.9763 \n",
       "  \"/>\n",
       "<path clip-path=\"url(#clip320)\" d=\"\n",
       "M1985.36 216.178 L2279.75 216.178 L2279.75 95.2176 L1985.36 95.2176  Z\n",
       "  \" fill=\"#ffffff\" fill-rule=\"evenodd\" fill-opacity=\"1\"/>\n",
       "<polyline clip-path=\"url(#clip320)\" style=\"stroke:#000000; stroke-width:4; stroke-opacity:1; fill:none\" points=\"\n",
       "  1985.36,216.178 2279.75,216.178 2279.75,95.2176 1985.36,95.2176 1985.36,216.178 \n",
       "  \"/>\n",
       "<polyline clip-path=\"url(#clip320)\" style=\"stroke:#009af9; stroke-width:4; stroke-opacity:1; fill:none\" points=\"\n",
       "  2009.7,155.698 2155.72,155.698 \n",
       "  \"/>\n",
       "<path clip-path=\"url(#clip320)\" d=\"M 0 0 M2193.9 175.385 Q2192.09 180.015 2190.38 181.427 Q2188.67 182.839 2185.79 182.839 L2182.39 182.839 L2182.39 179.274 L2184.89 179.274 Q2186.65 179.274 2187.62 178.44 Q2188.6 177.607 2189.78 174.505 L2190.54 172.561 L2180.05 147.052 L2184.57 147.052 L2192.67 167.329 L2200.77 147.052 L2205.29 147.052 L2193.9 175.385 Z\" fill=\"#000000\" fill-rule=\"evenodd\" fill-opacity=\"1\" /><path clip-path=\"url(#clip320)\" d=\"M 0 0 M2211.17 169.042 L2218.8 169.042 L2218.8 142.677 L2210.49 144.343 L2210.49 140.084 L2218.76 138.418 L2223.43 138.418 L2223.43 169.042 L2231.07 169.042 L2231.07 172.978 L2211.17 172.978 L2211.17 169.042 Z\" fill=\"#000000\" fill-rule=\"evenodd\" fill-opacity=\"1\" /></svg>\n"
      ]
     },
     "execution_count": 3,
     "metadata": {},
     "output_type": "execute_result"
    }
   ],
   "source": [
    "xmin = 0.0\n",
    "xmax = 1.5\n",
    "plot(f, xmin, xmax)"
   ]
  },
  {
   "cell_type": "markdown",
   "metadata": {},
   "source": [
    "## Recherche aléatoire\n",
    "\n",
    "Une approche naïve est de chercher au hasard un meilleur point. La méthode est facile à implémenter, mais elle inefficace."
   ]
  },
  {
   "cell_type": "code",
   "execution_count": 4,
   "metadata": {},
   "outputs": [
    {
     "data": {
      "text/plain": [
       "randomsearch (generic function with 1 method)"
      ]
     },
     "execution_count": 4,
     "metadata": {},
     "output_type": "execute_result"
    }
   ],
   "source": [
    "# f: fonction à minimiser\n",
    "# x0: point de départ\n",
    "# nmax: nombre d'itération.\n",
    "function randomsearch(f:: Function, x0:: Vector, nmax:: Int64)\n",
    "    n = length(x0)\n",
    "    x = copy(x0)\n",
    "    value = f(x)\n",
    "    \n",
    "    for i = 1:nmax\n",
    "        Δx = rand(n)\n",
    "        xcand = x + Δx\n",
    "        cand = f(xcand)\n",
    "        if (cand < value)\n",
    "            x = xcand\n",
    "            value = cand\n",
    "        end\n",
    "    end\n",
    "    \n",
    "    return x, value\n",
    "end"
   ]
  },
  {
   "cell_type": "code",
   "execution_count": 5,
   "metadata": {},
   "outputs": [
    {
     "data": {
      "text/plain": [
       "f (generic function with 2 methods)"
      ]
     },
     "execution_count": 5,
     "metadata": {},
     "output_type": "execute_result"
    }
   ],
   "source": [
    "function f(x::Vector)\n",
    "    return x[1] < 0 ? NaN : x[1]^2 + x[1] - 2*sqrt(x[1])\n",
    "end"
   ]
  },
  {
   "cell_type": "code",
   "execution_count": 6,
   "metadata": {},
   "outputs": [
    {
     "data": {
      "text/plain": [
       "([0.5680489169723393], -0.61665191015322)"
      ]
     },
     "execution_count": 6,
     "metadata": {},
     "output_type": "execute_result"
    }
   ],
   "source": [
    "x0 = [0.0]\n",
    "randomsearch(f, x0, 1000)"
   ]
  },
  {
   "cell_type": "code",
   "execution_count": 7,
   "metadata": {},
   "outputs": [
    {
     "data": {
      "text/plain": [
       "([0.36003179804601837], -0.7103983019228755)"
      ]
     },
     "execution_count": 7,
     "metadata": {},
     "output_type": "execute_result"
    }
   ],
   "source": [
    "x0 = [0.0]\n",
    "randomsearch(f, x0, 1000000)"
   ]
  },
  {
   "cell_type": "markdown",
   "metadata": {},
   "source": [
    "Visuellement, la solution trouvée n'est pas très bonne et il est nécessaire de raffiner la recherche."
   ]
  },
  {
   "cell_type": "markdown",
   "metadata": {},
   "source": [
    "## Optimisation avec la méthode de Fibonacci"
   ]
  },
  {
   "cell_type": "markdown",
   "metadata": {},
   "source": [
    "Calculons les nombres de Fibonacci."
   ]
  },
  {
   "cell_type": "code",
   "execution_count": 8,
   "metadata": {},
   "outputs": [
    {
     "data": {
      "text/plain": [
       "50-element Array{Float64,1}:\n",
       "   1.0\n",
       "   1.0\n",
       "   2.0\n",
       "   3.0\n",
       "   5.0\n",
       "   8.0\n",
       "  13.0\n",
       "  21.0\n",
       "  34.0\n",
       "  55.0\n",
       "  89.0\n",
       " 144.0\n",
       " 233.0\n",
       "   ⋮\n",
       "   6.3245986e7\n",
       "   1.02334155e8\n",
       "   1.65580141e8\n",
       "   2.67914296e8\n",
       "   4.33494437e8\n",
       "   7.01408733e8\n",
       "   1.13490317e9\n",
       "   1.836311903e9\n",
       "   2.971215073e9\n",
       "   4.807526976e9\n",
       "   7.778742049e9\n",
       "   1.2586269025e10"
      ]
     },
     "execution_count": 8,
     "metadata": {},
     "output_type": "execute_result"
    }
   ],
   "source": [
    "N = 50\n",
    "F = ones(N)\n",
    "\n",
    "for i = 3:N\n",
    "    F[i] = F[i-1] + F[i-2]\n",
    "end\n",
    "\n",
    "F"
   ]
  },
  {
   "cell_type": "code",
   "execution_count": 9,
   "metadata": {},
   "outputs": [
    {
     "data": {
      "text/plain": [
       "1.2586269025e10"
      ]
     },
     "execution_count": 9,
     "metadata": {},
     "output_type": "execute_result"
    }
   ],
   "source": [
    "F[length(F)]"
   ]
  },
  {
   "cell_type": "markdown",
   "metadata": {},
   "source": [
    "Vérifions que le rapport entre les nombres de Fibonacci successifs converge vers le nombre d'or. Notons que Julia dispose de nombreuses constantes préimplémentées, donc le nombre d'or, disponible avec le nom `golden`."
   ]
  },
  {
   "cell_type": "code",
   "execution_count": 10,
   "metadata": {},
   "outputs": [
    {
     "data": {
      "text/plain": [
       "φ = 1.6180339887498..."
      ]
     },
     "execution_count": 10,
     "metadata": {},
     "output_type": "execute_result"
    }
   ],
   "source": [
    "Base.MathConstants.golden"
   ]
  },
  {
   "cell_type": "code",
   "execution_count": 11,
   "metadata": {},
   "outputs": [
    {
     "data": {
      "text/plain": [
       "1.618033988749895"
      ]
     },
     "execution_count": 11,
     "metadata": {},
     "output_type": "execute_result"
    }
   ],
   "source": [
    "(1+sqrt(5))/2"
   ]
  },
  {
   "cell_type": "markdown",
   "metadata": {},
   "source": [
    "Nous pouvons simplifier l'écrire en indiquant explicitement au préalable que nous souhaitons utiliser la librairie `Base.MathConstants`, mais il faudra veiller alors à ce que nos noms de variables n'entrent pas en conflit."
   ]
  },
  {
   "cell_type": "code",
   "execution_count": 12,
   "metadata": {},
   "outputs": [
    {
     "data": {
      "text/plain": [
       "φ = 1.6180339887498..."
      ]
     },
     "execution_count": 12,
     "metadata": {},
     "output_type": "execute_result"
    }
   ],
   "source": [
    "using Base.MathConstants\n",
    "\n",
    "golden"
   ]
  },
  {
   "cell_type": "code",
   "execution_count": 13,
   "metadata": {},
   "outputs": [
    {
     "data": {
      "text/plain": [
       "Irrational{:φ}"
      ]
     },
     "execution_count": 13,
     "metadata": {},
     "output_type": "execute_result"
    }
   ],
   "source": [
    "typeof(golden)"
   ]
  },
  {
   "cell_type": "markdown",
   "metadata": {},
   "source": [
    "Calculons le rapport entre les deux derniers nombres générés à partir de la séquence de Fibonacci, et comparons-le au nombre d'or."
   ]
  },
  {
   "cell_type": "code",
   "execution_count": 14,
   "metadata": {},
   "outputs": [
    {
     "data": {
      "text/plain": [
       "0.0"
      ]
     },
     "execution_count": 14,
     "metadata": {},
     "output_type": "execute_result"
    }
   ],
   "source": [
    "F[N]/F[N-1]-golden"
   ]
  },
  {
   "cell_type": "markdown",
   "metadata": {},
   "source": [
    "Nous voyons ainsi que pour $N = 50$, numériquement, le rapport coïncide déjà au nombre d'or."
   ]
  },
  {
   "cell_type": "markdown",
   "metadata": {},
   "source": [
    "Revenons à notre problème d'optimisation et supposons que nous savons que la solution est dans [0,1]."
   ]
  },
  {
   "cell_type": "code",
   "execution_count": 15,
   "metadata": {},
   "outputs": [
    {
     "data": {
      "text/plain": [
       "true"
      ]
     },
     "execution_count": 15,
     "metadata": {},
     "output_type": "execute_result"
    }
   ],
   "source": [
    "xmin = 0\n",
    "xmax = 1.0\n",
    "\n",
    "verbose = true"
   ]
  },
  {
   "cell_type": "code",
   "execution_count": 16,
   "metadata": {},
   "outputs": [
    {
     "data": {
      "text/plain": [
       "Int64"
      ]
     },
     "execution_count": 16,
     "metadata": {},
     "output_type": "execute_result"
    }
   ],
   "source": [
    "typeof(xmin)"
   ]
  },
  {
   "cell_type": "code",
   "execution_count": 20,
   "metadata": {},
   "outputs": [
    {
     "data": {
      "text/plain": [
       "fibonacci (generic function with 4 methods)"
      ]
     },
     "execution_count": 20,
     "metadata": {},
     "output_type": "execute_result"
    }
   ],
   "source": [
    "function fibonacci(g::Function, xmin:: Number, xmax, verbose::Bool = false)\n",
    "    k = 1\n",
    "    i = 1\n",
    "    d = xmax - xmin\n",
    "    xG = xmin+(F[N-2]/F[N])*d\n",
    "    xD = xmin+(F[N-1]/F[N])*d\n",
    "    fG = g(xG)\n",
    "    fD = g(xD)\n",
    "    ϵ = 0 # ne servira que pour la dernière itération\n",
    "\n",
    "    if (verbose)\n",
    "        println(\"Iteration $i.\\nxmin = $xmin, xmax = $xmax\")\n",
    "        println(\"xG = $xG, fG = $fG\")\n",
    "        println(\"xD = $xD, fD = $fD\")\n",
    "        println(\"d = $d\")\n",
    "    end\n",
    "\n",
    "    while (k < N-2)\n",
    "        k += 1\n",
    "        i += 1\n",
    "        if k == N-3\n",
    "            # On est à l'avant-dernière itération.\n",
    "            # Poser ϵ à 0.1 permet d'éviter de mettre le nouveau point au milieu de l'intervalle.\n",
    "            ϵ = 0.1\n",
    "        end\n",
    "        if fG < fD\n",
    "            xmax = xD\n",
    "            d = xmax - xmin\n",
    "            xD = xG\n",
    "            fD = fG\n",
    "            xG = xmin+((F[N-k-1]/F[N-k+1])-ϵ)*d\n",
    "            fG = g(xG)\n",
    "        elseif fG > fD\n",
    "            xmin = xG\n",
    "            d = xmax - xmin\n",
    "            xG = xD\n",
    "            fG = fD\n",
    "            xD = xmin+((F[N-k]/F[N-k+1])+ϵ)*d\n",
    "            fD = g(xD)\n",
    "        elseif fG == fD\n",
    "            k += 1\n",
    "            xmin = xG\n",
    "            xmax = xD\n",
    "            d = xmax - xmin\n",
    "\n",
    "            xG = xmin+(F[N-k-1]/F[N-k+1])*d\n",
    "            fG = g(xG)\n",
    "            xD = xmin+(F[N-k]/F[N-k+1])*d\n",
    "            fD = g(xD)\n",
    "        end\n",
    "        \n",
    "        if verbose\n",
    "            println(\"Iteration $i.\\nxmin = $xmin, xmax = $xmax, $k = k\")\n",
    "            println(\"xG = $xG, fG = $fG\")\n",
    "            println(\"xD = $xD, fD = $fD\")\n",
    "            println(\"d = $d\")\n",
    "        end\n",
    "    end\n",
    "    \n",
    "    if fG < fD\n",
    "        xmax = xD\n",
    "    end\n",
    "    if fG > fD\n",
    "        xmin = xG\n",
    "    end\n",
    "    \n",
    "    println(k, \" \", N, \" \", fG, \" \", fD)\n",
    "    \n",
    "    return [xmin, xmax]\n",
    "end"
   ]
  },
  {
   "cell_type": "code",
   "execution_count": 21,
   "metadata": {},
   "outputs": [
    {
     "data": {
      "text/html": [
       "# 4 methods for generic function <b>fibonacci</b>:<ul><li> fibonacci(g::<b>Function</b>, xmin::<b>Float64</b>, xmax) in Main at In[17]:1</li> <li> fibonacci(g::<b>Function</b>, xmin::<b>Float64</b>, xmax, verbose::<b>Bool</b>) in Main at In[17]:1</li> <li> fibonacci(g::<b>Function</b>, xmin::<b>Number</b>, xmax) in Main at In[20]:1</li> <li> fibonacci(g::<b>Function</b>, xmin::<b>Number</b>, xmax, verbose::<b>Bool</b>) in Main at In[20]:1</li> </ul>"
      ],
      "text/plain": [
       "# 4 methods for generic function \"fibonacci\":\n",
       "[1] fibonacci(g::Function, xmin::Float64, xmax) in Main at In[17]:1\n",
       "[2] fibonacci(g::Function, xmin::Float64, xmax, verbose::Bool) in Main at In[17]:1\n",
       "[3] fibonacci(g::Function, xmin::Number, xmax) in Main at In[20]:1\n",
       "[4] fibonacci(g::Function, xmin::Number, xmax, verbose::Bool) in Main at In[20]:1"
      ]
     },
     "execution_count": 21,
     "metadata": {},
     "output_type": "execute_result"
    }
   ],
   "source": [
    "methods(fibonacci)"
   ]
  },
  {
   "cell_type": "markdown",
   "metadata": {},
   "source": [
    "Essayons la méthode d'abord avec $N = 10$ puis $N = 50$."
   ]
  },
  {
   "cell_type": "code",
   "execution_count": 22,
   "metadata": {},
   "outputs": [
    {
     "name": "stdout",
     "output_type": "stream",
     "text": [
      "Iteration 1.\n",
      "xmin = 0, xmax = 1.0\n",
      "xG = 0.38181818181818183, fG = -0.7082254555215255\n",
      "xD = 0.6181818181818182, fD = -0.5721602077013963\n",
      "d = 1.0\n",
      "Iteration 2.\n",
      "xmin = 0, xmax = 0.6181818181818182, 2 = k\n",
      "xG = 0.23636363636363633, fG = -0.6801134646501178\n",
      "xD = 0.38181818181818183, fD = -0.7082254555215255\n",
      "d = 0.6181818181818182\n",
      "Iteration 3.\n",
      "xmin = 0.23636363636363633, xmax = 0.6181818181818182, 3 = k\n",
      "xG = 0.38181818181818183, fG = -0.7082254555215255\n",
      "xD = 0.4727272727272727, fD = -0.6789049547972192\n",
      "d = 0.38181818181818183\n",
      "Iteration 4.\n",
      "xmin = 0.23636363636363633, xmax = 0.4727272727272727, 4 = k\n",
      "xG = 0.32727272727272727, fG = -0.7097749418054544\n",
      "xD = 0.38181818181818183, fD = -0.7082254555215255\n",
      "d = 0.2363636363636364\n",
      "Iteration 5.\n",
      "xmin = 0.23636363636363633, xmax = 0.38181818181818183, 5 = k\n",
      "xG = 0.2909090909090909, fG = -0.7031825898585428\n",
      "xD = 0.32727272727272727, fD = -0.7097749418054544\n",
      "d = 0.1454545454545455\n",
      "Iteration 6.\n",
      "xmin = 0.2909090909090909, xmax = 0.38181818181818183, 6 = k\n",
      "xG = 0.32727272727272727, fG = -0.7097749418054544\n",
      "xD = 0.34545454545454546, fD = -0.7107142388607653\n",
      "d = 0.09090909090909094\n",
      "Iteration 7.\n",
      "xmin = 0.32727272727272727, xmax = 0.38181818181818183, 7 = k\n",
      "xG = 0.34545454545454546, fG = -0.7107142388607653\n",
      "xD = 0.3690909090909091, fD = -0.709738042397619\n",
      "d = 0.054545454545454564\n",
      "Iteration 8.\n",
      "xmin = 0.32727272727272727, xmax = 0.3690909090909091, 8 = k\n",
      "xG = 0.344, fG = -0.7106942638892143\n",
      "xD = 0.34545454545454546, fD = -0.7107142388607653\n",
      "d = 0.04181818181818181\n",
      "8 10 -0.7106942638892143 -0.7107142388607653\n"
     ]
    },
    {
     "data": {
      "text/plain": [
       "2-element Array{Float64,1}:\n",
       " 0.344\n",
       " 0.3690909090909091"
      ]
     },
     "execution_count": 22,
     "metadata": {},
     "output_type": "execute_result"
    }
   ],
   "source": [
    "N = 10\n",
    "bounds = fibonacci(f, xmin, xmax, true)"
   ]
  },
  {
   "cell_type": "code",
   "execution_count": 23,
   "metadata": {},
   "outputs": [
    {
     "name": "stdout",
     "output_type": "stream",
     "text": [
      "Iteration 1.\n",
      "xmin = 0, xmax = 1.0\n",
      "xG = 0.38196601125010515, fG = -0.7082039324993692\n",
      "xD = 0.6180339887498949, fD = -0.5723027555148466\n",
      "d = 1.0\n",
      "Iteration 2.\n",
      "xmin = 0, xmax = 0.6180339887498949, 2 = k\n",
      "xG = 0.23606797749978972, fG = -0.6799404760126605\n",
      "xD = 0.38196601125010515, fD = -0.7082039324993692\n",
      "d = 0.6180339887498949\n",
      "Iteration 3.\n",
      "xmin = 0.23606797749978972, xmax = 0.6180339887498949, 3 = k\n",
      "xG = 0.38196601125010515, fG = -0.7082039324993692\n",
      "xD = 0.4721359549995795, fD = -0.6791946838871055\n",
      "d = 0.3819660112501052\n",
      "Iteration 4.\n",
      "xmin = 0.23606797749978972, xmax = 0.4721359549995795, 4 = k\n",
      "xG = 0.326237921249264, fG = -0.7096757162712468\n",
      "xD = 0.38196601125010515, fD = -0.7082039324993692\n",
      "d = 0.23606797749978978\n",
      "Iteration 5.\n",
      "xmin = 0.23606797749978972, xmax = 0.38196601125010515, 5 = k\n",
      "xG = 0.2917960675006309, fG = -0.7034220144414423\n",
      "xD = 0.326237921249264, fD = -0.7096757162712468\n",
      "d = 0.14589803375031543\n",
      "Iteration 6.\n",
      "xmin = 0.2917960675006309, xmax = 0.38196601125010515, 6 = k\n",
      "xG = 0.326237921249264, fG = -0.7096757162712468\n",
      "xD = 0.34752415750147214, fD = -0.7107263942450228\n",
      "d = 0.09016994374947424\n",
      "Iteration 7.\n",
      "xmin = 0.326237921249264, xmax = 0.38196601125010515, 7 = k\n",
      "xG = 0.34752415750147214, fG = -0.7107263942450228\n",
      "xD = 0.360679774997897, fD = -0.7103627489126799\n",
      "d = 0.05572809000084117\n",
      "Iteration 8.\n",
      "xmin = 0.326237921249264, xmax = 0.360679774997897, 8 = k\n",
      "xG = 0.33939353874568884, fG = -0.7105683293995624\n",
      "xD = 0.34752415750147214, fD = -0.7107263942450228\n",
      "d = 0.03444185374863301\n",
      "Iteration 9.\n",
      "xmin = 0.33939353874568884, xmax = 0.360679774997897, 9 = k\n",
      "xG = 0.34752415750147214, fG = -0.7107263942450228\n",
      "xD = 0.35254915624211364, fD = -0.7106769360558955\n",
      "d = 0.021286236252208157\n",
      "Iteration 10.\n",
      "xmin = 0.33939353874568884, xmax = 0.35254915624211364, 10 = k\n",
      "xG = 0.34441853748633033, fG = -0.7107009810063016\n",
      "xD = 0.34752415750147214, fD = -0.7107263942450228\n",
      "d = 0.013155617496424798\n",
      "Iteration 11.\n",
      "xmin = 0.34441853748633033, xmax = 0.35254915624211364, 11 = k\n",
      "xG = 0.34752415750147214, fG = -0.7107263942450228\n",
      "xD = 0.3494435362269718, fD = -0.7107206657715369\n",
      "d = 0.008130618755783303\n",
      "Iteration 12.\n",
      "xmin = 0.34441853748633033, xmax = 0.3494435362269718, 12 = k\n",
      "xG = 0.34633791621182997, fG = -0.7107217597702455\n",
      "xD = 0.34752415750147214, fD = -0.7107263942450228\n",
      "d = 0.00502499874064144\n",
      "Iteration 13.\n",
      "xmin = 0.34633791621182997, xmax = 0.3494435362269718, 13 = k\n",
      "xG = 0.34752415750147214, fG = -0.7107263942450228\n",
      "xD = 0.34825729493732954, fD = -0.7107261330639794\n",
      "d = 0.003105620015141808\n",
      "Iteration 14.\n",
      "xmin = 0.34633791621182997, xmax = 0.34825729493732954, 14 = k\n",
      "xG = 0.34707105364768737, fG = -0.7107253625433841\n",
      "xD = 0.34752415750147214, fD = -0.7107263942450228\n",
      "d = 0.0019193787254995764\n",
      "Iteration 15.\n",
      "xmin = 0.34707105364768737, xmax = 0.34825729493732954, 15 = k\n",
      "xG = 0.34752415750147214, fG = -0.7107263942450228\n",
      "xD = 0.34780419108354477, fD = -0.710726575977105\n",
      "d = 0.001186241289642176\n",
      "Iteration 16.\n",
      "xmin = 0.34752415750147214, xmax = 0.34825729493732954, 16 = k\n",
      "xG = 0.34780419108354477, fG = -0.710726575977105\n",
      "xD = 0.347977261355257, fD = -0.7107265142821709\n",
      "d = 0.0007331374358574005\n",
      "Iteration 17.\n",
      "xmin = 0.34752415750147214, xmax = 0.347977261355257, 17 = k\n",
      "xG = 0.3476972277731844, fG = -0.7107265476492648\n",
      "xD = 0.34780419108354477, fD = -0.710726575977105\n",
      "d = 0.00045310385378483087\n",
      "Iteration 18.\n",
      "xmin = 0.3476972277731844, xmax = 0.347977261355257, 18 = k\n",
      "xG = 0.34780419108354477, fG = -0.710726575977105\n",
      "xD = 0.3478702980448966, fD = -0.710726568098059\n",
      "d = 0.0002800335820725697\n",
      "Iteration 19.\n",
      "xmin = 0.3476972277731844, xmax = 0.3478702980448966, 19 = k\n",
      "xG = 0.34776333473453624, fG = -0.7107265711503057\n",
      "xD = 0.34780419108354477, fD = -0.710726575977105\n",
      "d = 0.00017307027171220568\n",
      "Iteration 20.\n",
      "xmin = 0.34776333473453624, xmax = 0.3478702980448966, 20 = k\n",
      "xG = 0.34780419108354477, fG = -0.710726575977105\n",
      "xD = 0.34782944169588814, fD = -0.7107265752564478\n",
      "d = 0.000106963310360364\n",
      "Iteration 21.\n",
      "xmin = 0.34776333473453624, xmax = 0.34782944169588814, 21 = k\n",
      "xG = 0.3477885853468797, fG = -0.7107265750078047\n",
      "xD = 0.34780419108354477, fD = -0.710726575977105\n",
      "d = 6.61069613518972e-5\n",
      "Iteration 22.\n",
      "xmin = 0.3477885853468797, xmax = 0.34782944169588814, 22 = k\n",
      "xG = 0.34780419108354477, fG = -0.710726575977105\n",
      "xD = 0.34781383595922305, fD = -0.710726576035795\n",
      "d = 4.08563490084668e-5\n",
      "Iteration 23.\n",
      "xmin = 0.34780419108354477, xmax = 0.34782944169588814, 23 = k\n",
      "xG = 0.34781383595922305, fG = -0.710726576035795\n",
      "xD = 0.34781979682020986, fD = -0.7107265758656692\n",
      "d = 2.525061234337489e-5\n",
      "Iteration 24.\n",
      "xmin = 0.34780419108354477, xmax = 0.34781979682020986, 24 = k\n",
      "xG = 0.3478101519445315, fG = -0.7107265760621018\n",
      "xD = 0.34781383595922305, fD = -0.710726576035795\n",
      "d = 1.5605736665091907e-5\n",
      "Iteration 25.\n",
      "xmin = 0.34780419108354477, xmax = 0.34781383595922305, 25 = k\n",
      "xG = 0.3478078750982363, fG = -0.7107265760482471\n",
      "xD = 0.3478101519445315, fD = -0.7107265760621018\n",
      "d = 9.644875678282983e-6\n",
      "Iteration 26.\n",
      "xmin = 0.3478078750982363, xmax = 0.34781383595922305, 26 = k\n",
      "xG = 0.3478101519445315, fG = -0.7107265760621018\n",
      "xD = 0.3478115591129278, fD = -0.7107265760591623\n",
      "d = 5.9608609867534135e-6\n",
      "Iteration 27.\n",
      "xmin = 0.3478078750982363, xmax = 0.3478115591129278, 27 = k\n",
      "xG = 0.34780928226663266, fG = -0.7107265760595249\n",
      "xD = 0.3478101519445315, fD = -0.7107265760621018\n",
      "d = 3.684014691529569e-6\n",
      "Iteration 28.\n",
      "xmin = 0.34780928226663266, xmax = 0.3478115591129278, 28 = k\n",
      "xG = 0.3478101519445315, fG = -0.7107265760621018\n",
      "xD = 0.34781068943502896, fD = -0.7107265760620162\n",
      "d = 2.2768462951683333e-6\n",
      "Iteration 29.\n",
      "xmin = 0.34780928226663266, xmax = 0.34781068943502896, 29 = k\n",
      "xG = 0.34780981975713016, fG = -0.7107265760615137\n",
      "xD = 0.3478101519445315, fD = -0.7107265760621018\n",
      "d = 1.4071683963057247e-6\n",
      "Iteration 30.\n",
      "xmin = 0.34780981975713016, xmax = 0.34781068943502896, 30 = k\n",
      "xG = 0.3478101519445315, fG = -0.7107265760621018\n",
      "xD = 0.34781035724762766, fD = -0.7107265760622203\n",
      "d = 8.696778988070974e-7\n",
      "Iteration 31.\n",
      "xmin = 0.3478101519445315, xmax = 0.34781068943502896, 31 = k\n",
      "xG = 0.34781035724762766, fG = -0.7107265760622203\n",
      "xD = 0.34781048413193283, fD = -0.7107265760622001\n",
      "d = 5.374904974431161e-7\n",
      "Iteration 32.\n",
      "xmin = 0.3478101519445315, xmax = 0.34781048413193283, 32 = k\n",
      "xG = 0.3478102788288367, fG = -0.7107265760621972\n",
      "xD = 0.34781035724762766, fD = -0.7107265760622203\n",
      "d = 3.3218740130847024e-7\n",
      "Iteration 33.\n",
      "xmin = 0.3478102788288367, xmax = 0.34781048413193283, 33 = k\n",
      "xG = 0.34781035724762766, fG = -0.7107265760622203\n",
      "xD = 0.34781040571314187, fD = -0.7107265760622212\n",
      "d = 2.053030961346458e-7\n",
      "Iteration 34.\n",
      "xmin = 0.34781035724762766, xmax = 0.34781048413193283, 34 = k\n",
      "xG = 0.34781040571314187, fG = -0.7107265760622212\n",
      "xD = 0.3478104356664186, fD = -0.7107265760622162\n",
      "d = 1.2688430517382443e-7\n",
      "Iteration 35.\n",
      "xmin = 0.34781035724762766, xmax = 0.3478104356664186, 35 = k\n",
      "xG = 0.34781038720090446, fG = -0.7107265760622221\n",
      "xD = 0.34781040571314187, fD = -0.7107265760622212\n",
      "d = 7.841879096082138e-8\n",
      "Iteration 36.\n",
      "xmin = 0.34781035724762766, xmax = 0.34781040571314187, 36 = k\n",
      "xG = 0.34781037575986506, fG = -0.7107265760622218\n",
      "xD = 0.34781038720090446, fD = -0.7107265760622221\n",
      "d = 4.846551421300305e-8\n",
      "Iteration 37.\n",
      "xmin = 0.34781037575986506, xmax = 0.34781040571314187, 37 = k\n",
      "xG = 0.34781038720090446, fG = -0.7107265760622221\n",
      "xD = 0.3478103942721025, fD = -0.7107265760622219\n",
      "d = 2.995327680332949e-8\n",
      "Iteration 38.\n",
      "xmin = 0.34781037575986506, xmax = 0.3478103942721025, 38 = k\n",
      "xG = 0.347810382831063, fG = -0.710726576062222\n",
      "xD = 0.34781038720090446, fD = -0.7107265760622221\n",
      "d = 1.851223740967356e-8\n",
      "Iteration 39.\n",
      "xmin = 0.347810382831063, xmax = 0.3478103942721025, 39 = k\n",
      "xG = 0.34781038720090446, fG = -0.7107265760622221\n",
      "xD = 0.34781038990226104, fD = -0.710726576062222\n",
      "d = 1.1441039449167079e-8\n",
      "Iteration 40.\n",
      "xmin = 0.347810382831063, xmax = 0.34781038990226104, 40 = k\n",
      "xG = 0.34781038553241955, fG = -0.710726576062222\n",
      "xD = 0.34781038720090446, fD = -0.7107265760622221\n",
      "d = 7.0711980160176324e-9\n",
      "Iteration 41.\n",
      "xmin = 0.34781038553241955, xmax = 0.34781038990226104, 41 = k\n",
      "xG = 0.34781038720090446, fG = -0.7107265760622221\n",
      "xD = 0.34781038823377614, fD = -0.7107265760622221\n",
      "d = 4.369841488660597e-9\n",
      "Iteration 42.\n",
      "xmin = 0.34781038720090446, xmax = 0.34781038823377614, 43 = k\n",
      "xG = 0.3478103875943794, fG = -0.710726576062222\n",
      "xD = 0.3478103878403012, fD = -0.710726576062222\n",
      "d = 1.032871677075775e-9\n",
      "Iteration 43.\n",
      "xmin = 0.3478103875943794, xmax = 0.3478103878403012, 45 = k\n",
      "xG = 0.34781038768660005, fG = -0.7107265760622221\n",
      "xD = 0.34781038774808054, fD = -0.7107265760622219\n",
      "d = 2.4592183844873716e-10\n",
      "Iteration 44.\n",
      "xmin = 0.3478103875943794, xmax = 0.34781038774808054, 46 = k\n",
      "xG = 0.34781038765585987, fG = -0.7107265760622221\n",
      "xD = 0.34781038768660005, fD = -0.7107265760622221\n",
      "d = 1.5370116290824853e-10\n",
      "Iteration 45.\n",
      "xmin = 0.34781038765585987, xmax = 0.34781038768660005, 48 = k\n",
      "xG = 0.34781038767122996, fG = -0.7107265760622221\n",
      "xD = 0.34781038767122996, fD = -0.7107265760622221\n",
      "d = 3.074018817272872e-11\n",
      "48 50 -0.7107265760622221 -0.7107265760622221\n"
     ]
    },
    {
     "data": {
      "text/plain": [
       "2-element Array{Float64,1}:\n",
       " 0.34781038765585987\n",
       " 0.34781038768660005"
      ]
     },
     "execution_count": 23,
     "metadata": {},
     "output_type": "execute_result"
    }
   ],
   "source": [
    "N = 50\n",
    "bounds = fibonacci(f, xmin, xmax, true)"
   ]
  },
  {
   "cell_type": "code",
   "execution_count": 24,
   "metadata": {},
   "outputs": [
    {
     "data": {
      "text/plain": [
       "3.074018817272872e-11"
      ]
     },
     "execution_count": 24,
     "metadata": {},
     "output_type": "execute_result"
    }
   ],
   "source": [
    "bounds[2]-bounds[1]"
   ]
  },
  {
   "cell_type": "code",
   "execution_count": 25,
   "metadata": {},
   "outputs": [
    {
     "name": "stdout",
     "output_type": "stream",
     "text": [
      "48 50 -0.7107265760622221 -0.7107265760622221\n"
     ]
    },
    {
     "data": {
      "text/plain": [
       "2-element Array{Float64,1}:\n",
       " 0.34781038765585987\n",
       " 0.34781038768660005"
      ]
     },
     "execution_count": 25,
     "metadata": {},
     "output_type": "execute_result"
    }
   ],
   "source": [
    "bounds = fibonacci(f, xmin, xmax)"
   ]
  },
  {
   "cell_type": "markdown",
   "metadata": {},
   "source": [
    "On a très rapidement une très bonne approximation du minimum."
   ]
  },
  {
   "cell_type": "markdown",
   "metadata": {},
   "source": [
    "## Méthode du nombre d'or"
   ]
  },
  {
   "cell_type": "markdown",
   "metadata": {},
   "source": [
    "Commençons par une implémentation basique (voir aussi https://en.wikipedia.org/wiki/Golden-section_search):"
   ]
  },
  {
   "cell_type": "code",
   "execution_count": 26,
   "metadata": {
    "scrolled": true
   },
   "outputs": [
    {
     "data": {
      "text/plain": [
       "goldensection (generic function with 2 methods)"
      ]
     },
     "execution_count": 26,
     "metadata": {},
     "output_type": "execute_result"
    }
   ],
   "source": [
    "function goldensection(f::Function, a, b, tol::Float64 = 1e-6)\n",
    "\n",
    "    # Nous commençons en nous assurant que a est plus petit ou égal à b\n",
    "    (a,b) = (min(a,b),max(a,b))\n",
    "    d = b - a\n",
    "\n",
    "    k = 1\n",
    "    i = 1  # index d'itération\n",
    "    \n",
    "    c = b - d / golden\n",
    "    d = a + d / golden\n",
    "\n",
    "    while (b-a) > tol\n",
    "        i += 1\n",
    "        if f(c) < f(d)\n",
    "            b = d\n",
    "        else\n",
    "            a = c\n",
    "        end\n",
    "\n",
    "        c = b - (b - a) / golden\n",
    "        d = a + (b - a) / golden\n",
    "    end\n",
    "    \n",
    "    println(\"Nombre d'itérations: \", i)\n",
    "\n",
    "    return (a, b)\n",
    "end"
   ]
  },
  {
   "cell_type": "code",
   "execution_count": 27,
   "metadata": {},
   "outputs": [
    {
     "name": "stdout",
     "output_type": "stream",
     "text": [
      "Nombre d'itérations: 30\n"
     ]
    },
    {
     "data": {
      "text/plain": [
       "(0.34780981975713365, 0.3478106894350311)"
      ]
     },
     "execution_count": 27,
     "metadata": {},
     "output_type": "execute_result"
    }
   ],
   "source": [
    "(a, b) = goldensection(f, 0.0, 1.0)"
   ]
  },
  {
   "cell_type": "code",
   "execution_count": 28,
   "metadata": {},
   "outputs": [
    {
     "data": {
      "text/plain": [
       "(8.696778974193187e-7, 1.4071683972890022e-6)"
      ]
     },
     "execution_count": 28,
     "metadata": {},
     "output_type": "execute_result"
    }
   ],
   "source": [
    "b-a, (b-a)*golden"
   ]
  },
  {
   "cell_type": "code",
   "execution_count": 29,
   "metadata": {},
   "outputs": [
    {
     "name": "stdout",
     "output_type": "stream",
     "text": [
      "Nombre d'itérations: 40\n"
     ]
    },
    {
     "data": {
      "text/plain": [
       "(0.3478103828308221, 0.34781038990184154)"
      ]
     },
     "execution_count": 29,
     "metadata": {},
     "output_type": "execute_result"
    }
   ],
   "source": [
    "goldensection(f, 0.0, 1.0, 1e-8)"
   ]
  },
  {
   "cell_type": "markdown",
   "metadata": {},
   "source": [
    "Cela fonctionne, mais l'implémentation nécessite deux évaluations de fonctions à chaque itération, alors que la méthode de Fibonacci n'en exigeait qu'une.\n",
    "\n",
    "Nous allons capitaliser sur l'idée que les points placés à l'intérieur de l'intervalle de recherche doivent être équidistants des extrémités. Plus précisément, considérons l'intervalle $[a,b]$ et $x \\in (a,b)$ avec $x-a < b - x$. Nous cherchons $y$ tel que $x-a = b-y$, et par conséquent\n",
    "$$\n",
    "y = a+(b-x).\n",
    "$$\n",
    "Comme $x-a < b - x$, $a - x + b > x$, de sorte que $y > x$. Autrement dit, $y$ se trouvera à droite de $x$. Toutefois, si $x$ est trop proche de $a$, la décroissance des longueurs d'intevalle sera très longue. Pour contrer ce problème, nous allons imposer que le rapport entre les longueurs entre les bornes et le point à l'intérieur de l'intervalle.\n",
    "En supposant que $y$ (i.e. $f(y) > f(x)$) devient la nouvelle borne supérieure, nous avons\n",
    "$$\n",
    "\\frac{y-x}{x-a} = \\frac{x-a}{b-x}\n",
    "$$\n",
    "En notant $\\alpha = x-a$, $\\beta = b-x$ et $\\gamma = y-x$, la relation devient\n",
    "$$\n",
    "\\frac{\\gamma}{\\alpha} = \\frac{\\alpha}{\\beta}.\n",
    "$$\n",
    "Si $f(y) < f(x)$, $x$ devient la nouvelle borne inférieure, et nous devons avoir\n",
    "$$\n",
    "\\frac{\\gamma}{\\beta-\\gamma} = \\frac{\\alpha}{\\beta}.\n",
    "$$\n",
    "Comme $y = a+b-x$, $-\\alpha + \\beta = \\gamma$, ou $\\gamma = \\beta - \\alpha$. Les deux équations sont donc équivalentes et donnent\n",
    "$$\n",
    "\\frac{\\beta-\\alpha}{\\alpha} = \\frac{\\alpha}{\\beta}\n",
    "$$\n",
    "ou\n",
    "$$\n",
    "\\beta(\\beta-\\alpha) = \\alpha^2,\n",
    "$$\n",
    "ce qui équivaut à\n",
    "$$\n",
    "\\beta^2 - \\beta\\alpha = \\alpha^2\n",
    "$$\n",
    "soit\n",
    "$$\n",
    "\\left(\\frac{\\beta}{\\alpha}\\right)^2 - \\frac{\\beta}{\\alpha} = 1.\n",
    "$$\n",
    "Cette équation a pour solution\n",
    "$$\n",
    "\\frac{\\beta}{\\alpha} = \\tau.\n",
    "$$\n",
    "En redéveloppant $\\alpha$ et $\\beta$, nous obtenons\n",
    "$$\n",
    "b - x = \\tau(x - a)\n",
    "$$\n",
    "et donc\n",
    "$$\n",
    "(1+\\tau)x = b + \\tau a\n",
    "$$\n",
    "ou encore\n",
    "$$\n",
    "x = \\frac{b + \\tau a}{1+\\tau} = a + \\frac{b - a}{1+\\tau}.\n",
    "$$\n",
    "À présent,\n",
    "\\begin{align*}\n",
    "y & = a + b - x \\\\\n",
    "& = a + b - a - \\frac{b - a}{1+\\tau} \\\\\n",
    "& = b - \\frac{b - a}{1+\\tau} \\\\\n",
    "& = \\frac{b + \\tau b - b + a + \\tau a - \\tau a}{1+\\tau} \\\\\n",
    "& = a + \\frac{\\tau}{1+\\tau}(b-a).\n",
    "\\end{align*}\n",
    "Or\n",
    "$$\n",
    "\\frac{\\tau}{1+\\tau}\n",
    "= \\frac{1 + \\sqrt{5}}{2 + 1 + \\sqrt{5}}\n",
    "= \\frac{1-5}{(1 - \\sqrt{5})(3+\\sqrt{5})}\n",
    "= \\frac{-4}{-2-2\\sqrt{5}}\n",
    "= \\frac{2}{1+\\sqrt{5}}\n",
    "= \\frac{1}{\\tau}.\n",
    "$$\n",
    "Dès lors\n",
    "$$\n",
    "y = a + \\frac{b-a}{\\tau}.\n",
    "$$"
   ]
  },
  {
   "cell_type": "code",
   "execution_count": 33,
   "metadata": {},
   "outputs": [
    {
     "data": {
      "text/plain": [
       "goldenrevisited (generic function with 2 methods)"
      ]
     },
     "execution_count": 33,
     "metadata": {},
     "output_type": "execute_result"
    }
   ],
   "source": [
    "function goldenrevisited(f::Function, a, b, tol::Float64 = 1e-6)\n",
    "    # Nous commençons en nous assurant que a est plus petit ou égal à b\n",
    "    (a,b) = (min(a,b),max(a,b))\n",
    "    \n",
    "    d = b-a\n",
    "    \n",
    "    # Note: la lettre ϕ est habituellement employée pour le nombre d'or\n",
    "    invτ = 1/golden\n",
    "    invτplus = 1/(1+golden)\n",
    "    \n",
    "    xG = a + invτplus*d\n",
    "    xD = a + invτ*d\n",
    "    fG = f(xG)\n",
    "    fD = f(xD)\n",
    "\n",
    "    tol *= golden\n",
    "    \n",
    "    i = 1\n",
    "    while (d > tol)\n",
    "        i += 1\n",
    "        if fG < fD\n",
    "            b = xD\n",
    "            xD = xG\n",
    "            d = b-a\n",
    "            xG = a + invτplus*d\n",
    "            fD = fG\n",
    "            fG = f(xG)\n",
    "        else\n",
    "            a = xG\n",
    "            xG = xD\n",
    "            d = b-a\n",
    "            xD = a + invτ*d\n",
    "            fG = fD\n",
    "            fD = f(xD)\n",
    "        end\n",
    "    end\n",
    "\n",
    "    if fG < fD\n",
    "        b = xD\n",
    "    else\n",
    "        a = xG\n",
    "    end\n",
    "    \n",
    "    println(\"Nombre d'itérations: \", i)\n",
    "\n",
    "    return (a,b)\n",
    "end"
   ]
  },
  {
   "cell_type": "code",
   "execution_count": 34,
   "metadata": {},
   "outputs": [
    {
     "name": "stdout",
     "output_type": "stream",
     "text": [
      "Nombre d'itérations: 29\n"
     ]
    },
    {
     "data": {
      "text/plain": [
       "(0.34780981975713365, 0.3478106894350311)"
      ]
     },
     "execution_count": 34,
     "metadata": {},
     "output_type": "execute_result"
    }
   ],
   "source": [
    "(a,b) = goldenrevisited(f, 0.0, 1.0)"
   ]
  },
  {
   "cell_type": "code",
   "execution_count": 35,
   "metadata": {},
   "outputs": [
    {
     "data": {
      "text/plain": [
       "(8.696778974193187e-7, 1.4071683972890022e-6)"
      ]
     },
     "execution_count": 35,
     "metadata": {},
     "output_type": "execute_result"
    }
   ],
   "source": [
    "b-a, (b-a)*golden"
   ]
  },
  {
   "cell_type": "markdown",
   "metadata": {},
   "source": [
    "## Librairie Optim en Julia"
   ]
  },
  {
   "cell_type": "markdown",
   "metadata": {},
   "source": [
    "Certaines routines d'optimisation sont directement disponibles en Julia, et peuvent être obtenues avec la commande"
   ]
  },
  {
   "cell_type": "code",
   "execution_count": 37,
   "metadata": {},
   "outputs": [
    {
     "name": "stderr",
     "output_type": "stream",
     "text": [
      "\u001b[32m\u001b[1m   Updating\u001b[22m\u001b[39m registry at `C:\\Users\\slash\\.julia\\registries\\General`\n",
      "\u001b[32m\u001b[1m  Resolving\u001b[22m\u001b[39m package versions...\n",
      "\u001b[32m\u001b[1m  Installed\u001b[22m\u001b[39m Compat ───────────────── v3.15.0\n",
      "\u001b[32m\u001b[1m  Installed\u001b[22m\u001b[39m UnPack ───────────────── v1.0.2\n",
      "\u001b[32m\u001b[1m  Installed\u001b[22m\u001b[39m FillArrays ───────────── v0.9.6\n",
      "\u001b[32m\u001b[1m  Installed\u001b[22m\u001b[39m FiniteDiff ───────────── v2.6.0\n",
      "\u001b[32m\u001b[1m  Installed\u001b[22m\u001b[39m NLSolversBase ────────── v7.7.0\n",
      "\u001b[32m\u001b[1m  Installed\u001b[22m\u001b[39m ArrayInterface ───────── v2.12.0\n",
      "\u001b[32m\u001b[1m  Installed\u001b[22m\u001b[39m LineSearches ─────────── v7.1.0\n",
      "\u001b[32m\u001b[1m  Installed\u001b[22m\u001b[39m Optim ────────────────── v1.1.0\n",
      "\u001b[32m\u001b[1m  Installed\u001b[22m\u001b[39m Parameters ───────────── v0.12.1\n",
      "\u001b[32m\u001b[1m  Installed\u001b[22m\u001b[39m PositiveFactorizations ─ v0.2.3\n",
      "\u001b[32m\u001b[1mUpdating\u001b[22m\u001b[39m `C:\\Users\\slash\\.julia\\environments\\v1.5\\Project.toml`\n",
      " \u001b[90m [429524aa] \u001b[39m\u001b[92m+ Optim v1.1.0\u001b[39m\n",
      "\u001b[32m\u001b[1mUpdating\u001b[22m\u001b[39m `C:\\Users\\slash\\.julia\\environments\\v1.5\\Manifest.toml`\n",
      " \u001b[90m [4fba245c] \u001b[39m\u001b[92m+ ArrayInterface v2.12.0\u001b[39m\n",
      " \u001b[90m [34da2185] \u001b[39m\u001b[92m+ Compat v3.15.0\u001b[39m\n",
      " \u001b[90m [1a297f60] \u001b[39m\u001b[92m+ FillArrays v0.9.6\u001b[39m\n",
      " \u001b[90m [6a86dc24] \u001b[39m\u001b[92m+ FiniteDiff v2.6.0\u001b[39m\n",
      " \u001b[90m [d3d80556] \u001b[39m\u001b[92m+ LineSearches v7.1.0\u001b[39m\n",
      " \u001b[90m [d41bc354] \u001b[39m\u001b[92m+ NLSolversBase v7.7.0\u001b[39m\n",
      " \u001b[90m [429524aa] \u001b[39m\u001b[92m+ Optim v1.1.0\u001b[39m\n",
      " \u001b[90m [d96e819e] \u001b[39m\u001b[92m+ Parameters v0.12.1\u001b[39m\n",
      " \u001b[90m [85a6dd25] \u001b[39m\u001b[92m+ PositiveFactorizations v0.2.3\u001b[39m\n",
      " \u001b[90m [3a884ed6] \u001b[39m\u001b[92m+ UnPack v1.0.2\u001b[39m\n",
      " \u001b[90m [1a1011a3] \u001b[39m\u001b[92m+ SharedArrays\u001b[39m\n",
      "┌ Info: Precompiling Optim [429524aa-4258-5aef-a3af-852621145aeb]\n",
      "└ @ Base loading.jl:1278\n"
     ]
    }
   ],
   "source": [
    "using Pkg\n",
    "# Pkg.add(\"Optim\")\n",
    "\n",
    "using Optim"
   ]
  },
  {
   "cell_type": "markdown",
   "metadata": {},
   "source": [
    "La routine de base est `optimize`, prenant comme premier argument la fonction à minimiser, et pour les fonctions univariées, en deuxième et troisième arguments, les bornes inférieure et supérieure initiales de l'intervalle de recherche."
   ]
  },
  {
   "cell_type": "markdown",
   "metadata": {},
   "source": [
    "### Méthode du nombre d'or\n",
    "\n",
    "Le méthode de recherche de la section dorée peut être appelée avec la function `GoldenSection`."
   ]
  },
  {
   "cell_type": "code",
   "execution_count": 38,
   "metadata": {},
   "outputs": [
    {
     "data": {
      "text/plain": [
       "Results of Optimization Algorithm\n",
       " * Algorithm: Golden Section Search\n",
       " * Search Interval: [0.000000, 1.000000]\n",
       " * Minimizer: 3.478104e-01\n",
       " * Minimum: -7.107266e-01\n",
       " * Iterations: 38\n",
       " * Convergence: max(|x - x_upper|, |x - x_lower|) <= 2*(1.5e-08*|x|+2.2e-16): true\n",
       " * Objective Function Calls: 39"
      ]
     },
     "execution_count": 38,
     "metadata": {},
     "output_type": "execute_result"
    }
   ],
   "source": [
    "result = optimize(f, 0, 1, GoldenSection())"
   ]
  },
  {
   "cell_type": "code",
   "execution_count": 39,
   "metadata": {},
   "outputs": [
    {
     "data": {
      "text/plain": [
       "0.3478103872009524"
      ]
     },
     "execution_count": 39,
     "metadata": {},
     "output_type": "execute_result"
    }
   ],
   "source": [
    "Optim.minimizer(result)"
   ]
  },
  {
   "cell_type": "code",
   "execution_count": 40,
   "metadata": {},
   "outputs": [
    {
     "data": {
      "text/plain": [
       "2-element Array{Float64,1}:\n",
       " 0.34781038765585987\n",
       " 0.34781038768660005"
      ]
     },
     "execution_count": 40,
     "metadata": {},
     "output_type": "execute_result"
    }
   ],
   "source": [
    "bounds"
   ]
  },
  {
   "cell_type": "markdown",
   "metadata": {},
   "source": [
    "## Méthodes utilisant les dérivées."
   ]
  },
  {
   "cell_type": "markdown",
   "metadata": {},
   "source": [
    "La dérivée de $f$ est\n",
    "$$\n",
    "f'(x) = 2x+1-\\frac{1}{\\sqrt{x}},\n",
    "$$\n",
    "se qui peut se traduire en Julia comme"
   ]
  },
  {
   "cell_type": "code",
   "execution_count": null,
   "metadata": {},
   "outputs": [],
   "source": [
    "df(x) = 2x+1-1.0/sqrt(x)"
   ]
  },
  {
   "cell_type": "markdown",
   "metadata": {},
   "source": [
    "Posons $f'(x) = 0$, i.e.\n",
    "$$\n",
    "\\frac{1}{\\sqrt{x}} = 2x+1\n",
    "$$\n",
    "ou\n",
    "$$\n",
    "\\frac{1}{x} = 4x^2 + 4x + 1\n",
    "$$\n",
    "Nous devons dès lors chercher les racines du polynôme\n",
    "$$\n",
    "4x^3 + 4x^2 + x - 1 = 0.\n",
    "$$\n",
    "Pas simple! Nous pouvons cependant utiliser la librairie `Roots`."
   ]
  },
  {
   "cell_type": "code",
   "execution_count": null,
   "metadata": {},
   "outputs": [],
   "source": [
    "Pkg.add(\"Roots\")\n",
    "using Roots"
   ]
  },
  {
   "cell_type": "code",
   "execution_count": null,
   "metadata": {},
   "outputs": [],
   "source": [
    "h(x) = x*(4x*(x+1)+1)-1"
   ]
  },
  {
   "cell_type": "markdown",
   "metadata": {},
   "source": [
    "La fonction `fzeros` cherche à déterminer tous les zéros d'une fonction, mais peut être assez lente. Nous chercherons juste un zéro de la fonction, dans l'intervalle $[0,1]$."
   ]
  },
  {
   "cell_type": "code",
   "execution_count": null,
   "metadata": {},
   "outputs": [],
   "source": [
    "?fzero"
   ]
  },
  {
   "cell_type": "code",
   "execution_count": null,
   "metadata": {},
   "outputs": [],
   "source": [
    "fzero(h, 0, 1)"
   ]
  },
  {
   "cell_type": "code",
   "execution_count": null,
   "metadata": {},
   "outputs": [],
   "source": [
    "fzeros(h, 0, 1)"
   ]
  },
  {
   "cell_type": "markdown",
   "metadata": {},
   "source": [
    "Nous retrouvons la même solution que précédemment (heureusement!)."
   ]
  },
  {
   "cell_type": "markdown",
   "metadata": {},
   "source": [
    "### Méthode de la bisection"
   ]
  },
  {
   "cell_type": "markdown",
   "metadata": {},
   "source": [
    "Nous pouvons le faire explicitement en codant notre fonction de bisection."
   ]
  },
  {
   "cell_type": "code",
   "execution_count": null,
   "metadata": {},
   "outputs": [],
   "source": [
    "function bisection(f::Function, a::Float64, b::Float64, δ::Float64 = 1e-8)\n",
    "\n",
    "    k = 1\n",
    "    if (a > b)\n",
    "        c = a\n",
    "        a = b\n",
    "        b = c\n",
    "    end\n",
    "\n",
    "    fa = f(a)\n",
    "    fb = f(b)\n",
    "    if fa == 0\n",
    "        return k, fa, a, a\n",
    "    elseif fb == 0\n",
    "        return k, fb, b, b\n",
    "    end\n",
    "\n",
    "    if fa*fb > 0\n",
    "        println(\"The function must be of opposite signs at the bounds\")\n",
    "        return\n",
    "    end\n",
    "\n",
    "    d = b-a\n",
    "    c = a+d/2\n",
    "    fc = f(c)\n",
    "\n",
    "    while (d > δ)\n",
    "        if (verbose)\n",
    "            println(\"$k. a = $a, b = $b, d = $d, c = $c, fc = $fc\")\n",
    "        end\n",
    "        k += 1\n",
    "        if (fc == 0)\n",
    "            a = b = c\n",
    "            break\n",
    "        elseif (fc*fa < 0)\n",
    "            b = c\n",
    "            fb = fc\n",
    "        else\n",
    "            a = c\n",
    "            fa = fc\n",
    "        end\n",
    "        d = b-a\n",
    "        c = a+d/2\n",
    "        fc = f(c)\n",
    "    end            \n",
    "\n",
    "    return k, fc, a, b\n",
    "end"
   ]
  },
  {
   "cell_type": "code",
   "execution_count": null,
   "metadata": {},
   "outputs": [],
   "source": [
    "methods(bisection)"
   ]
  },
  {
   "cell_type": "code",
   "execution_count": null,
   "metadata": {},
   "outputs": [],
   "source": [
    "X = bisection(df, 0.0, 1.0)"
   ]
  },
  {
   "cell_type": "code",
   "execution_count": null,
   "metadata": {},
   "outputs": [],
   "source": [
    "X = bisection(df, 0.0, 1.0, 1e-11)"
   ]
  },
  {
   "cell_type": "markdown",
   "metadata": {},
   "source": [
    "### Méthode de Newton"
   ]
  },
  {
   "cell_type": "markdown",
   "metadata": {},
   "source": [
    "La dérivée seconde de $f$ est\n",
    "$$\n",
    "f''(x) = 2+\\frac{1}{2}x^{-\\frac{3}{2}}.\n",
    "$$"
   ]
  },
  {
   "cell_type": "code",
   "execution_count": null,
   "metadata": {},
   "outputs": [],
   "source": [
    "function d2f(x::Float64)\n",
    "    return 2+x^(-3/2)/2\n",
    "end"
   ]
  },
  {
   "cell_type": "markdown",
   "metadata": {},
   "source": [
    "Une implémentation basique de la méthode de Newton suit."
   ]
  },
  {
   "cell_type": "code",
   "execution_count": null,
   "metadata": {},
   "outputs": [],
   "source": [
    "function Newton(f::Function, df::Function, d2f:: Function, xstart::Float64, δ::Float64 = 1e-8, nmax::Int64 = 100)\n",
    "    k = 1\n",
    "    x = xstart\n",
    "    if (verbose)\n",
    "        fx = f(x)\n",
    "        println(\"$k. x = $x, f(x) = $fx\")\n",
    "    end\n",
    "    dfx = df(x)\n",
    "    while (abs(dfx) > δ && k <= nmax)\n",
    "        k += 1\n",
    "        dfx = df(x)\n",
    "        x = x-dfx/d2f(x)\n",
    "        if (verbose)\n",
    "            fx = f(x)\n",
    "            println(\"$k. x = $x, f(x) = $fx\")\n",
    "        end\n",
    "    end\n",
    "end"
   ]
  },
  {
   "cell_type": "code",
   "execution_count": null,
   "metadata": {},
   "outputs": [],
   "source": [
    "verbose = true\n",
    "Newton(f, df, d2f, 0.1)"
   ]
  },
  {
   "cell_type": "code",
   "execution_count": null,
   "metadata": {},
   "outputs": [],
   "source": [
    "verbose = true\n",
    "Newton(f, df, d2f, 100.0)"
   ]
  },
  {
   "cell_type": "code",
   "execution_count": null,
   "metadata": {},
   "outputs": [],
   "source": [
    "x0 = 3.0\n",
    "x1 = x0-df(x0)/d2f(x0)"
   ]
  },
  {
   "cell_type": "markdown",
   "metadata": {},
   "source": [
    "Nous voyons que nous convergeons plus rapidement vers la solution optimale quand la méthode fonctionne, mais selon le point de départ, elle peut échouer lamentablement."
   ]
  },
  {
   "cell_type": "markdown",
   "metadata": {},
   "source": [
    "## Différentiation numérique"
   ]
  },
  {
   "cell_type": "markdown",
   "metadata": {
    "collapsed": true
   },
   "source": [
    "Il n'est pas toujours facile de calculer explicitement la dérivée d'une fonction. Il est cependant possible d'exploiter la définition de dérivée afin de l'approximer numériquement. Soit $f$, dérivable en $x$. La dérivée est définie comme\n",
    "$$\n",
    "    f'(x) = \\lim_{\\epsilon \\rightarrow 0} \\frac{f(x+\\epsilon)-f(x)}{\\epsilon}\n",
    "$$\n",
    "Nous pouvons dès lors approximer la dérivée en choisissant $\\epsilon$ assez petit et en calculant par exemple\n",
    "$$\n",
    "f'(x) \\approx \\frac{f(x+\\epsilon)-f(x)}{\\epsilon}.\n",
    "$$"
   ]
  },
  {
   "cell_type": "code",
   "execution_count": null,
   "metadata": {},
   "outputs": [],
   "source": [
    "ϵ = 1e-4\n",
    "dffd(x) = (f(x+ϵ)-f(x))/ϵ"
   ]
  },
  {
   "cell_type": "markdown",
   "metadata": {},
   "source": [
    "L'application de la méthode de la bisection à cette approximation permet d'obtenir"
   ]
  },
  {
   "cell_type": "code",
   "execution_count": null,
   "metadata": {},
   "outputs": [],
   "source": [
    "fzero(dffd, 0, 1)"
   ]
  },
  {
   "cell_type": "markdown",
   "metadata": {},
   "source": [
    "Nous ne pouvons choisir $\\epsilon$ arbitrairement petit, comme illustré ci-dessous."
   ]
  },
  {
   "cell_type": "code",
   "execution_count": null,
   "metadata": {},
   "outputs": [],
   "source": []
  },
  {
   "cell_type": "code",
   "execution_count": null,
   "metadata": {},
   "outputs": [],
   "source": [
    "# fd: Finite difference\n",
    "dffd(x, ϵ) = (f(x+ϵ)-f(x))/ϵ\n",
    "x = 1.0\n",
    "errfd(ϵ) = abs(df(x)-dffd(x, ϵ))\n",
    "plot(errfd, 1e-14,1e-12)"
   ]
  },
  {
   "cell_type": "markdown",
   "metadata": {},
   "source": [
    "La méthode peut être affinée en utilisant la différence centrale, définie comme\n",
    "$$\n",
    "f'(x) \\approx \\frac{f(x+\\epsilon)-f(x-\\epsilon)}{2\\epsilon}\n",
    "$$"
   ]
  },
  {
   "cell_type": "code",
   "execution_count": null,
   "metadata": {},
   "outputs": [],
   "source": [
    "dfcd(x, ϵ=1e-6) = (f(x+ϵ)-f(x-ϵ))/(2*ϵ)"
   ]
  },
  {
   "cell_type": "code",
   "execution_count": null,
   "metadata": {},
   "outputs": [],
   "source": [
    "x = 1.0\n",
    "errcd(ϵ) = abs(df(x)-dfcd(x, ϵ))\n",
    "plot(errcd, 1e-18,0.1e-12)"
   ]
  },
  {
   "cell_type": "code",
   "execution_count": null,
   "metadata": {},
   "outputs": [],
   "source": [
    "plot(errcd, 1e-18,0.1e-13)"
   ]
  },
  {
   "cell_type": "markdown",
   "metadata": {},
   "source": [
    "La différence centrale fournit de plus petites erreurs numériques, mais au prix d'une évaluation de fonction supplémentaire."
   ]
  },
  {
   "cell_type": "markdown",
   "metadata": {
    "collapsed": true
   },
   "source": [
    "Les dérivées numériques sont souvent coûteuses à calculer, surtout pour des problèmes multivariés, et nous nous tournerons vers la différentiation automatique."
   ]
  },
  {
   "cell_type": "code",
   "execution_count": null,
   "metadata": {},
   "outputs": [],
   "source": [
    "Newton(f, dfcd, d2f, 1.1)"
   ]
  },
  {
   "cell_type": "code",
   "execution_count": null,
   "metadata": {},
   "outputs": [],
   "source": [
    "dfhd(x, ϵ=1e-4) = (dfcd(x+ϵ)-dfcd(x))/ϵ"
   ]
  },
  {
   "cell_type": "code",
   "execution_count": null,
   "metadata": {},
   "outputs": [],
   "source": [
    "Newton(f, dfcd, dfhd, 1.1)"
   ]
  },
  {
   "cell_type": "code",
   "execution_count": null,
   "metadata": {},
   "outputs": [],
   "source": [
    "using ForwardDiff"
   ]
  },
  {
   "cell_type": "code",
   "execution_count": null,
   "metadata": {},
   "outputs": [],
   "source": [
    "g2 = x -> ForwardDiff.derivative(f, x)"
   ]
  },
  {
   "cell_type": "code",
   "execution_count": null,
   "metadata": {},
   "outputs": [],
   "source": [
    "Newton(f, g2, dfhd, 1.1)"
   ]
  },
  {
   "cell_type": "code",
   "execution_count": null,
   "metadata": {},
   "outputs": [],
   "source": [
    "errfd(x) = abs(df(x)-g2(x))\n",
    "plot(errfd, 1,1.1)"
   ]
  },
  {
   "cell_type": "code",
   "execution_count": null,
   "metadata": {},
   "outputs": [],
   "source": []
  }
 ],
 "metadata": {
  "kernelspec": {
   "display_name": "Julia 1.5.0",
   "language": "julia",
   "name": "julia-1.5"
  },
  "language_info": {
   "file_extension": ".jl",
   "mimetype": "application/julia",
   "name": "julia",
   "version": "1.5.0"
  }
 },
 "nbformat": 4,
 "nbformat_minor": 2
}
