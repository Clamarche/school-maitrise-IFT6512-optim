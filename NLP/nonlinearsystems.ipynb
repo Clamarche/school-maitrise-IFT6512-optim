{
 "cells": [
  {
   "cell_type": "markdown",
   "metadata": {},
   "source": [
    "# Nonlinear systems"
   ]
  },
  {
   "cell_type": "markdown",
   "metadata": {},
   "source": [
    "## Newton method"
   ]
  },
  {
   "cell_type": "markdown",
   "metadata": {},
   "source": [
    "Optimisation:\n",
    "$$\n",
    "x_{k+1} = x_k-\\nabla^2 f(x_k)^{-1} \\nabla f(x_k)\n",
    "$$\n",
    "or\n",
    "$$\n",
    "\\nabla^2 f(x_k) x_{k+1} = \\nabla^2 f(x_k) x_k- \\nabla f(x_k)\n",
    "$$\n",
    "It is equivalent to search $x_k$ such that $\\nabla f(x_k) = 0$.\n",
    "\n",
    "The Newton method can be also applied to more general nonlinear system."
   ]
  },
  {
   "cell_type": "code",
   "execution_count": 1,
   "metadata": {},
   "outputs": [],
   "source": [
    "using LinearAlgebra"
   ]
  },
  {
   "cell_type": "code",
   "execution_count": 2,
   "metadata": {},
   "outputs": [
    {
     "data": {
      "text/plain": [
       "NLSNewton (generic function with 3 methods)"
      ]
     },
     "execution_count": 2,
     "metadata": {},
     "output_type": "execute_result"
    }
   ],
   "source": [
    "function NLSNewton(g::Function, h:: Function,\n",
    "        xstart::Vector, δ::Float64 = 1e-4, nmax::Int64 = 1000)\n",
    "\n",
    "    k = 1\n",
    "    x = xstart\n",
    "    n = length(x)\n",
    "    δ2 = δ*δ\n",
    "    H = zeros(n,n)\n",
    "    dfx = ones(n)\n",
    "    \n",
    "    g(x, dfx)\n",
    "\n",
    "    while (dot(dfx,dfx) > δ2 && k <= nmax)\n",
    "        k += 1\n",
    "        g(x,dfx)\n",
    "        h(x,H)\n",
    "        # println(x, dfx, H)\n",
    "        # Hs = dfx, x_{k+1} = x_k - s\n",
    "        x -= H\\dfx  # x = x - s\n",
    "    end\n",
    "    \n",
    "    return x\n",
    "end"
   ]
  },
  {
   "cell_type": "markdown",
   "metadata": {},
   "source": [
    "Consider for instance the nonlinear system\n",
    "\\begin{align*}\n",
    "    4x+2y+2xz-10 &= 0 \\\\\n",
    "    2x+y+yz-6 &= 0 \\\\\n",
    "    x^2 + y^2 - 5 &= 0\n",
    "\\end{align*}\n",
    "We first implement the correponding mapping."
   ]
  },
  {
   "cell_type": "code",
   "execution_count": 3,
   "metadata": {},
   "outputs": [
    {
     "data": {
      "text/plain": [
       "g (generic function with 1 method)"
      ]
     },
     "execution_count": 3,
     "metadata": {},
     "output_type": "execute_result"
    }
   ],
   "source": [
    "function g(x::Vector, d::Vector)\n",
    "    d[1] = 4*x[1]+2*x[2]+2*x[1]*x[3]-10\n",
    "    d[2] = 2*x[1]+x[2]+x[2]*x[3]-6\n",
    "    d[3] = x[1]*x[1]+x[2]*x[2]-5    \n",
    "end"
   ]
  },
  {
   "cell_type": "markdown",
   "metadata": {},
   "source": [
    "We can easily check that (1,2,1) satisfies this system."
   ]
  },
  {
   "cell_type": "code",
   "execution_count": 4,
   "metadata": {},
   "outputs": [
    {
     "data": {
      "text/plain": [
       "0"
      ]
     },
     "execution_count": 4,
     "metadata": {},
     "output_type": "execute_result"
    }
   ],
   "source": [
    "d = zeros(3)\n",
    "x = [ 1; 2; 1]\n",
    "h = g(x, d)"
   ]
  },
  {
   "cell_type": "markdown",
   "metadata": {},
   "source": [
    "Jacobian\n",
    "$$\n",
    "\\begin{pmatrix}\n",
    "    4+2z & 2 & 2x \\\\\n",
    "    2 & 1+2z & y \\\\\n",
    "    2x & 2y & 0\n",
    "\\end{pmatrix}\n",
    "$$"
   ]
  },
  {
   "cell_type": "code",
   "execution_count": 5,
   "metadata": {},
   "outputs": [
    {
     "data": {
      "text/plain": [
       "J (generic function with 1 method)"
      ]
     },
     "execution_count": 5,
     "metadata": {},
     "output_type": "execute_result"
    }
   ],
   "source": [
    "function J(x::Vector, H::Matrix)\n",
    "    H[1,1] = 4+2*x[3]\n",
    "    H[2,2] = 2+2*x[3]\n",
    "    H[3,3] = 0.0\n",
    "    H[1,2] = H[2,1] = 2\n",
    "    H[1,3] = H[3,1] = 2*x[1]\n",
    "    H[2,3] = x[2]\n",
    "    H[3,2] = 2*x[2]\n",
    "end"
   ]
  },
  {
   "cell_type": "code",
   "execution_count": 6,
   "metadata": {},
   "outputs": [
    {
     "data": {
      "text/plain": [
       "3-element Array{Int64,1}:\n",
       " 1\n",
       " 2\n",
       " 1"
      ]
     },
     "execution_count": 6,
     "metadata": {},
     "output_type": "execute_result"
    }
   ],
   "source": [
    "NLSNewton(g, J, x)"
   ]
  },
  {
   "cell_type": "code",
   "execution_count": 7,
   "metadata": {},
   "outputs": [
    {
     "data": {
      "text/plain": [
       "3-element Array{Float64,1}:\n",
       " 1.0\n",
       " 1.0\n",
       " 1.0"
      ]
     },
     "execution_count": 7,
     "metadata": {},
     "output_type": "execute_result"
    }
   ],
   "source": [
    "x0 = [1,1,1.0]"
   ]
  },
  {
   "cell_type": "code",
   "execution_count": 8,
   "metadata": {},
   "outputs": [
    {
     "data": {
      "text/plain": [
       "3-element Array{Float64,1}:\n",
       " 0.9999968216652463\n",
       " 2.000001589214705 \n",
       " 1.000007945411086 "
      ]
     },
     "execution_count": 8,
     "metadata": {},
     "output_type": "execute_result"
    }
   ],
   "source": [
    "NLSNewton(g, J, x0)"
   ]
  },
  {
   "cell_type": "markdown",
   "metadata": {},
   "source": [
    "The Newton method to solve a nonlinear however suffers from the same issues than in the optimization context. Its convergence is guaranteed only if the starting point is in a neighborhood of the solution. The recurence can even be not well defined."
   ]
  },
  {
   "cell_type": "code",
   "execution_count": 9,
   "metadata": {},
   "outputs": [
    {
     "ename": "SingularException",
     "evalue": "SingularException(3)",
     "output_type": "error",
     "traceback": [
      "SingularException(3)",
      "",
      "Stacktrace:",
      " [1] checknonsingular at D:\\buildbot\\worker\\package_win64\\build\\usr\\share\\julia\\stdlib\\v1.3\\LinearAlgebra\\src\\factorization.jl:19 [inlined]",
      " [2] #lu!#131(::Bool, ::typeof(lu!), ::Array{Float64,2}, ::Val{true}) at D:\\buildbot\\worker\\package_win64\\build\\usr\\share\\julia\\stdlib\\v1.3\\LinearAlgebra\\src\\lu.jl:85",
      " [3] #lu! at .\\none:0 [inlined]",
      " [4] #lu#135 at D:\\buildbot\\worker\\package_win64\\build\\usr\\share\\julia\\stdlib\\v1.3\\LinearAlgebra\\src\\lu.jl:273 [inlined]",
      " [5] lu at D:\\buildbot\\worker\\package_win64\\build\\usr\\share\\julia\\stdlib\\v1.3\\LinearAlgebra\\src\\lu.jl:272 [inlined] (repeats 2 times)",
      " [6] \\(::Array{Float64,2}, ::Array{Float64,1}) at D:\\buildbot\\worker\\package_win64\\build\\usr\\share\\julia\\stdlib\\v1.3\\LinearAlgebra\\src\\generic.jl:1050",
      " [7] NLSNewton(::typeof(g), ::typeof(J), ::Array{Float64,1}, ::Float64, ::Int64) at .\\In[2]:19",
      " [8] NLSNewton(::Function, ::Function, ::Array{Float64,1}) at .\\In[2]:4",
      " [9] top-level scope at In[9]:1"
     ]
    }
   ],
   "source": [
    "NLSNewton(g, J, [0, 0 ,0.0])"
   ]
  },
  {
   "cell_type": "markdown",
   "metadata": {
    "collapsed": true
   },
   "source": [
    "## Example 2"
   ]
  },
  {
   "cell_type": "markdown",
   "metadata": {},
   "source": [
    "Solve the problem\n",
    "\\begin{align*}\n",
    "x^3 + y &= 1 \\\\\n",
    "y^3 − x &= −1.\n",
    "\\end{align*}"
   ]
  },
  {
   "cell_type": "markdown",
   "metadata": {},
   "source": [
    "The mapping of the system can be defined by"
   ]
  },
  {
   "cell_type": "code",
   "execution_count": 10,
   "metadata": {},
   "outputs": [
    {
     "data": {
      "text/plain": [
       "g2 (generic function with 1 method)"
      ]
     },
     "execution_count": 10,
     "metadata": {},
     "output_type": "execute_result"
    }
   ],
   "source": [
    "function g2(x::Vector, d::Vector)\n",
    "    d[1] = x[1]^3+x[2]-1\n",
    "    d[2] = x[2]^3-x[1]+1\n",
    "    return d\n",
    "end"
   ]
  },
  {
   "cell_type": "code",
   "execution_count": 11,
   "metadata": {},
   "outputs": [
    {
     "data": {
      "text/plain": [
       "2-element Array{Float64,1}:\n",
       " 1.0\n",
       " 0.0"
      ]
     },
     "execution_count": 11,
     "metadata": {},
     "output_type": "execute_result"
    }
   ],
   "source": [
    "d = [1.0, 1.0]\n",
    "x = [1.0, 0]"
   ]
  },
  {
   "cell_type": "code",
   "execution_count": 12,
   "metadata": {},
   "outputs": [
    {
     "data": {
      "text/plain": [
       "2-element Array{Float64,1}:\n",
       " 0.0\n",
       " 0.0"
      ]
     },
     "execution_count": 12,
     "metadata": {},
     "output_type": "execute_result"
    }
   ],
   "source": [
    "g2(x, d)\n",
    "d"
   ]
  },
  {
   "cell_type": "code",
   "execution_count": 13,
   "metadata": {},
   "outputs": [
    {
     "data": {
      "text/plain": [
       "J2 (generic function with 1 method)"
      ]
     },
     "execution_count": 13,
     "metadata": {},
     "output_type": "execute_result"
    }
   ],
   "source": [
    "function J2(x::Vector, H::Matrix)\n",
    "    H[1,1] = 3*x[1]^2\n",
    "    H[1,2] = 1\n",
    "    H[2,1] = -1\n",
    "    H[2,2] = 3*x[2]^2\n",
    "    return H\n",
    "end"
   ]
  },
  {
   "cell_type": "code",
   "execution_count": 14,
   "metadata": {},
   "outputs": [
    {
     "data": {
      "text/plain": [
       "2×2 Array{Int64,2}:\n",
       "  3  1\n",
       " -1  0"
      ]
     },
     "execution_count": 14,
     "metadata": {},
     "output_type": "execute_result"
    }
   ],
   "source": [
    "H = [0 0; 0 0]\n",
    "J2(x,H)"
   ]
  },
  {
   "cell_type": "code",
   "execution_count": 15,
   "metadata": {},
   "outputs": [
    {
     "data": {
      "text/plain": [
       "2-element Array{Float64,1}:\n",
       " 0.9999999999999971    \n",
       " 1.8263043495851585e-12"
      ]
     },
     "execution_count": 15,
     "metadata": {},
     "output_type": "execute_result"
    }
   ],
   "source": [
    "x = [1.0, 1.0]\n",
    "NLSNewton(g2, J2, x)"
   ]
  },
  {
   "cell_type": "markdown",
   "metadata": {
    "collapsed": true
   },
   "source": [
    "Perform the first iteration by hand. We have to solve the system\n",
    "$$\n",
    "\\begin{pmatrix}\n",
    "3*1^2 & 1 \\\\ -1 & 3*1^2\n",
    "\\end{pmatrix}\n",
    "\\begin{pmatrix}\n",
    "d_1 \\\\ d_2\n",
    "\\end{pmatrix}\n",
    "=\n",
    "\\begin{pmatrix}\n",
    "1^1+1-1 \\\\ 1^3-1+1\n",
    "\\end{pmatrix}\n",
    "$$\n",
    "or\n",
    "$$\n",
    "\\begin{pmatrix}\n",
    "3 & 1 \\\\ -1 & 3\n",
    "\\end{pmatrix}\n",
    "\\begin{pmatrix}\n",
    "d_1 \\\\ d_2\n",
    "\\end{pmatrix}\n",
    "=\n",
    "\\begin{pmatrix}\n",
    "1 \\\\ 1\n",
    "\\end{pmatrix}\n",
    "$$\n",
    "Equivalently, we have to solve\n",
    "\\begin{align*}\n",
    "3d_1 + d_2 &= 1 \\\\\n",
    "-d_1 + 3d_2 &= 1 \\\\\n",
    "\\end{align*}\n",
    "We deduce from it that\n",
    "$$\n",
    "10 d_2 = 4\n",
    "$$\n",
    "or\n",
    "$$\n",
    "d_2 = 0.4\n",
    "$$\n",
    "and therefore\n",
    "$$\n",
    "d_1 = 0.2\n",
    "$$\n",
    "We can verify this result by numerically solving the corresponding linear system"
   ]
  },
  {
   "cell_type": "code",
   "execution_count": 16,
   "metadata": {},
   "outputs": [
    {
     "data": {
      "text/plain": [
       "2-element Array{Float64,1}:\n",
       " 0.20000000000000004\n",
       " 0.39999999999999997"
      ]
     },
     "execution_count": 16,
     "metadata": {},
     "output_type": "execute_result"
    }
   ],
   "source": [
    "A = [3 1 ; -1 3]\n",
    "b = [1 ; 1]\n",
    "A\\b"
   ]
  },
  {
   "cell_type": "markdown",
   "metadata": {},
   "source": [
    "Therefore, the Newton iteration gives\n",
    "$$\n",
    "\\begin{pmatrix}\n",
    "x_{k+1} \\\\ y_{k+1}\n",
    "\\end{pmatrix}\n",
    "=\n",
    "\\begin{pmatrix}\n",
    "1 \\\\ 1\n",
    "\\end{pmatrix}\n",
    "-\n",
    "\\begin{pmatrix}\n",
    "0.2 \\\\ 0.4\n",
    "\\end{pmatrix}\n",
    "=\n",
    "\\begin{pmatrix}\n",
    "0.8 \\\\ 0.6\n",
    "\\end{pmatrix}\n",
    "$$"
   ]
  },
  {
   "cell_type": "markdown",
   "metadata": {
    "collapsed": true
   },
   "source": [
    "## Example 3"
   ]
  },
  {
   "cell_type": "markdown",
   "metadata": {},
   "source": [
    "\\begin{align*}\n",
    "a+b+c &= 6 \\\\\n",
    "a^2+b^2+c^2 &= 14 \\\\\n",
    "a^3+b^3+c^3 &= 36\n",
    "\\end{align*}"
   ]
  },
  {
   "cell_type": "code",
   "execution_count": 17,
   "metadata": {},
   "outputs": [
    {
     "data": {
      "text/plain": [
       "g3 (generic function with 1 method)"
      ]
     },
     "execution_count": 17,
     "metadata": {},
     "output_type": "execute_result"
    }
   ],
   "source": [
    "function g3(x::Vector, d::Vector)\n",
    "    for i = 1:3\n",
    "        d[i] = x[1]^i+x[2]^i+x[3]^i\n",
    "    end\n",
    "    d[1] -= 6\n",
    "    d[2] -= 14\n",
    "    d[3] -= 36\n",
    "    return d\n",
    "end"
   ]
  },
  {
   "cell_type": "code",
   "execution_count": 18,
   "metadata": {},
   "outputs": [
    {
     "data": {
      "text/plain": [
       "J3 (generic function with 1 method)"
      ]
     },
     "execution_count": 18,
     "metadata": {},
     "output_type": "execute_result"
    }
   ],
   "source": [
    "function J3(x::Vector, H::Matrix)\n",
    "    for i = 1:3\n",
    "        for j = 1:3\n",
    "            H[i,j] = i*x[j]^(i-1)\n",
    "        end\n",
    "    end\n",
    "    return H\n",
    "end"
   ]
  },
  {
   "cell_type": "code",
   "execution_count": 19,
   "metadata": {},
   "outputs": [
    {
     "ename": "SingularException",
     "evalue": "SingularException(2)",
     "output_type": "error",
     "traceback": [
      "SingularException(2)",
      "",
      "Stacktrace:",
      " [1] checknonsingular at D:\\buildbot\\worker\\package_win64\\build\\usr\\share\\julia\\stdlib\\v1.3\\LinearAlgebra\\src\\factorization.jl:19 [inlined]",
      " [2] #lu!#131(::Bool, ::typeof(lu!), ::Array{Float64,2}, ::Val{true}) at D:\\buildbot\\worker\\package_win64\\build\\usr\\share\\julia\\stdlib\\v1.3\\LinearAlgebra\\src\\lu.jl:85",
      " [3] #lu! at .\\none:0 [inlined]",
      " [4] #lu#135 at D:\\buildbot\\worker\\package_win64\\build\\usr\\share\\julia\\stdlib\\v1.3\\LinearAlgebra\\src\\lu.jl:273 [inlined]",
      " [5] lu at D:\\buildbot\\worker\\package_win64\\build\\usr\\share\\julia\\stdlib\\v1.3\\LinearAlgebra\\src\\lu.jl:272 [inlined] (repeats 2 times)",
      " [6] \\(::Array{Float64,2}, ::Array{Float64,1}) at D:\\buildbot\\worker\\package_win64\\build\\usr\\share\\julia\\stdlib\\v1.3\\LinearAlgebra\\src\\generic.jl:1050",
      " [7] NLSNewton(::typeof(g3), ::typeof(J3), ::Array{Float64,1}, ::Float64, ::Int64) at .\\In[2]:19",
      " [8] NLSNewton(::Function, ::Function, ::Array{Float64,1}) at .\\In[2]:4",
      " [9] top-level scope at In[19]:2"
     ]
    }
   ],
   "source": [
    "x = [1.0, 1.0, 1.0]\n",
    "NLSNewton(g3, J3, x)"
   ]
  },
  {
   "cell_type": "code",
   "execution_count": 20,
   "metadata": {},
   "outputs": [
    {
     "data": {
      "text/plain": [
       "3-element Array{Float64,1}:\n",
       " 2.9999999999999996\n",
       " 0.9999999999999994\n",
       " 2.0000000000000013"
      ]
     },
     "execution_count": 20,
     "metadata": {},
     "output_type": "execute_result"
    }
   ],
   "source": [
    "x = [2.0, 1.0, 0.0]\n",
    "NLSNewton(g3, J3, x)"
   ]
  },
  {
   "cell_type": "markdown",
   "metadata": {},
   "source": [
    "## Application to KKT conditions"
   ]
  },
  {
   "cell_type": "markdown",
   "metadata": {},
   "source": [
    "Consider the linearly constrained problem\n",
    "\\begin{align*}\n",
    "\\min\\ & f(x) \\\\\n",
    "\\mbox{t.q. } & Ax = b\n",
    "\\end{align*}\n",
    "where $A \\in \\mathbb{R}^{m \\times n}$.\n",
    "\n",
    "The Lagrangian of this problem is\n",
    "$$\n",
    "L(x,\\mu) = f(x) + \\sum_{i = 1}^m \\mu_i(a_i^Tx-b_i)\n",
    "$$\n",
    "where $a_i$ designs the $i^{th}$ row of the matrix and $b_i$ the $i^{th}$ element of $b$."
   ]
  },
  {
   "cell_type": "markdown",
   "metadata": {},
   "source": [
    "The KKT conditions of this problem are\n",
    "\\begin{align*}\n",
    "\\nabla f(x) + A^T\\mu &= 0 \\\\\n",
    "Ax - b &= 0\n",
    "\\end{align*}\n",
    "This is a nonlinear system that can be solved using the Newton method."
   ]
  },
  {
   "cell_type": "markdown",
   "metadata": {},
   "source": [
    "Consider for instance the problem\n",
    "$$\n",
    "\\min f(x,y) = -10x^2+10y^2+4\\sin(xy)-2x+x^4\n",
    "$$"
   ]
  },
  {
   "cell_type": "code",
   "execution_count": 109,
   "metadata": {},
   "outputs": [
    {
     "data": {
      "text/plain": [
       "Hess (generic function with 1 method)"
      ]
     },
     "execution_count": 109,
     "metadata": {},
     "output_type": "execute_result"
    }
   ],
   "source": [
    "f = x -> -10*x[1]^2+10*x[2]^2+4*sin(x[1]*x[2])-2*x[1]+x[1]^4\n",
    "function ∇f(x:: Vector, g:: Vector)\n",
    "    g[1] = -20*x[1]+4*x[2]*cos(x[1]*x[2])-2+4*x[1]^3\n",
    "    g[2] = 20*x[2]+4*x[1]*cos(x[1]*x[2])\n",
    "    return g\n",
    "end\n",
    "function Hess(x:: Vector, H:: Matrix)\n",
    "    H[1,1] = -20-4*x[2]^2*sin(x[1]*x[2])+12*x[1]^2\n",
    "    H[2,1] = H[1,2] = 4*cos(x[1]*x[2])-4*x[1]*x[2]*sin(x[1]*x[2])\n",
    "    H[2,2] = 20-4*x[1]^2*sin(x[1]*x[2])\n",
    "    return H\n",
    "end"
   ]
  },
  {
   "cell_type": "code",
   "execution_count": 129,
   "metadata": {},
   "outputs": [
    {
     "data": {
      "text/plain": [
       "He! (generic function with 1 method)"
      ]
     },
     "execution_count": 129,
     "metadata": {},
     "output_type": "execute_result"
    }
   ],
   "source": [
    "using ForwardDiff\n",
    "\n",
    "gr = x -> ForwardDiff.gradient(f, x);\n",
    "He = x -> ForwardDiff.hessian(f, x)\n",
    "\n",
    "function gr!(x::Vector, storage::Vector)\n",
    "    s = gr(x)\n",
    "    storage[1:length(s)] = s[1:length(s)]\n",
    "end\n",
    "\n",
    "function He!(x::Vector, storage::Matrix)\n",
    "    s = He(x)\n",
    "    n, m = size(s)\n",
    "    storage[1:n,1:m] = s[1:n,1:m]\n",
    "end"
   ]
  },
  {
   "cell_type": "code",
   "execution_count": 130,
   "metadata": {},
   "outputs": [
    {
     "data": {
      "text/plain": [
       "-30.26405504009334"
      ]
     },
     "execution_count": 130,
     "metadata": {},
     "output_type": "execute_result"
    }
   ],
   "source": [
    "f(x)"
   ]
  },
  {
   "cell_type": "code",
   "execution_count": 131,
   "metadata": {},
   "outputs": [
    {
     "data": {
      "text/plain": [
       "2-element Array{Float64,1}:\n",
       "  2.0\n",
       " -3.0"
      ]
     },
     "execution_count": 131,
     "metadata": {},
     "output_type": "execute_result"
    }
   ],
   "source": [
    "x = [2.0; -3.0]"
   ]
  },
  {
   "cell_type": "code",
   "execution_count": 132,
   "metadata": {},
   "outputs": [
    {
     "data": {
      "text/plain": [
       "2-element Array{Float64,1}:\n",
       " -21.522043439804392\n",
       " -52.31863770679707 "
      ]
     },
     "execution_count": 132,
     "metadata": {},
     "output_type": "execute_result"
    }
   ],
   "source": [
    "grad = zeros(2)\n",
    "∇f(x,grad)"
   ]
  },
  {
   "cell_type": "code",
   "execution_count": 133,
   "metadata": {},
   "outputs": [
    {
     "data": {
      "text/plain": [
       "2-element Array{Float64,1}:\n",
       " -21.522043439804392\n",
       " -52.31863770679707 "
      ]
     },
     "execution_count": 133,
     "metadata": {},
     "output_type": "execute_result"
    }
   ],
   "source": [
    "gr!(x,grad)"
   ]
  },
  {
   "cell_type": "code",
   "execution_count": 134,
   "metadata": {},
   "outputs": [
    {
     "data": {
      "text/plain": [
       "2×2 Array{Float64,2}:\n",
       " 17.941   10.5467\n",
       " 10.5467  15.5294"
      ]
     },
     "execution_count": 134,
     "metadata": {},
     "output_type": "execute_result"
    }
   ],
   "source": [
    "hess = zeros(2,2)\n",
    "Hess(x,hess)"
   ]
  },
  {
   "cell_type": "code",
   "execution_count": 135,
   "metadata": {},
   "outputs": [
    {
     "data": {
      "text/plain": [
       "2×2 Array{Float64,2}:\n",
       " 17.941   10.5467\n",
       " 10.5467  15.5294"
      ]
     },
     "execution_count": 135,
     "metadata": {},
     "output_type": "execute_result"
    }
   ],
   "source": [
    "He!(x,hess)\n",
    "hess"
   ]
  },
  {
   "cell_type": "code",
   "execution_count": 136,
   "metadata": {},
   "outputs": [
    {
     "data": {
      "text/plain": [
       "2-element Array{Float64,1}:\n",
       " -0.09632573825923413 \n",
       "  0.019265114479965564"
      ]
     },
     "execution_count": 136,
     "metadata": {},
     "output_type": "execute_result"
    }
   ],
   "source": [
    "sol = NLSNewton(∇f, Hess, x)"
   ]
  },
  {
   "cell_type": "code",
   "execution_count": 137,
   "metadata": {},
   "outputs": [
    {
     "data": {
      "text/plain": [
       "2-element Array{Float64,1}:\n",
       " -0.09632573825923413 \n",
       "  0.019265114479965564"
      ]
     },
     "execution_count": 137,
     "metadata": {},
     "output_type": "execute_result"
    }
   ],
   "source": [
    "sol = NLSNewton(gr!, He!, x)"
   ]
  },
  {
   "cell_type": "code",
   "execution_count": 138,
   "metadata": {},
   "outputs": [
    {
     "data": {
      "text/plain": [
       "2-element Array{Float64,1}:\n",
       " -3.5158508049359938e-15\n",
       "  5.551115123125783e-17 "
      ]
     },
     "execution_count": 138,
     "metadata": {},
     "output_type": "execute_result"
    }
   ],
   "source": [
    "∇f(sol, grad)"
   ]
  },
  {
   "cell_type": "code",
   "execution_count": 139,
   "metadata": {},
   "outputs": [
    {
     "data": {
      "text/plain": [
       "2×2 Array{Float64,2}:\n",
       " -19.8887    3.99998\n",
       "   3.99998  20.0001 "
      ]
     },
     "execution_count": 139,
     "metadata": {},
     "output_type": "execute_result"
    }
   ],
   "source": [
    "Hess(sol, hess)"
   ]
  },
  {
   "cell_type": "markdown",
   "metadata": {},
   "source": [
    "We have identifies a saddle point!\n",
    "\n",
    "Let's start with another starting point. "
   ]
  },
  {
   "cell_type": "code",
   "execution_count": 140,
   "metadata": {
    "scrolled": true
   },
   "outputs": [
    {
     "data": {
      "text/plain": [
       "2-element Array{Float64,1}:\n",
       " -1.91503605222465e-5  \n",
       " -1.5587288675789068e-5"
      ]
     },
     "execution_count": 140,
     "metadata": {},
     "output_type": "execute_result"
    }
   ],
   "source": [
    "sol = [-2.21022, 0.329748]\n",
    "∇f(sol, grad)"
   ]
  },
  {
   "cell_type": "code",
   "execution_count": 141,
   "metadata": {},
   "outputs": [
    {
     "data": {
      "text/plain": [
       "2-element Array{Float64,1}:\n",
       " -2.210219520077777 \n",
       "  0.3297484569954491"
      ]
     },
     "execution_count": 141,
     "metadata": {},
     "output_type": "execute_result"
    }
   ],
   "source": [
    "x = [-10; -10.0]\n",
    "sol = NLSNewton(gr!, He!, x)"
   ]
  },
  {
   "cell_type": "code",
   "execution_count": 142,
   "metadata": {},
   "outputs": [
    {
     "data": {
      "text/plain": [
       "2-element Array{Float64,1}:\n",
       "  2.3066301277034658 \n",
       " -0.33230864873179117"
      ]
     },
     "execution_count": 142,
     "metadata": {},
     "output_type": "execute_result"
    }
   ],
   "source": [
    "sol = NLSNewton(∇f, Hess, x)"
   ]
  },
  {
   "cell_type": "code",
   "execution_count": 143,
   "metadata": {},
   "outputs": [
    {
     "data": {
      "text/plain": [
       "2-element Array{Float64,1}:\n",
       " -5.903555937436522e-6 \n",
       " -1.2307122703170137e-5"
      ]
     },
     "execution_count": 143,
     "metadata": {},
     "output_type": "execute_result"
    }
   ],
   "source": [
    "sol = [2.30663, -0.332309]\n",
    "∇f(sol, grad)"
   ]
  },
  {
   "cell_type": "code",
   "execution_count": 144,
   "metadata": {},
   "outputs": [
    {
     "data": {
      "text/plain": [
       "2-element Array{Float64,1}:\n",
       "  2.306630127703466 \n",
       " -0.3323086487317913"
      ]
     },
     "execution_count": 144,
     "metadata": {},
     "output_type": "execute_result"
    }
   ],
   "source": [
    "x = [2.5, -0.3]\n",
    "sol = NLSNewton(gr!, He!, x)"
   ]
  },
  {
   "cell_type": "code",
   "execution_count": 126,
   "metadata": {},
   "outputs": [
    {
     "data": {
      "text/plain": [
       "2-element Array{Float64,1}:\n",
       "  2.842170943040401e-14\n",
       " -5.329070518200751e-15"
      ]
     },
     "execution_count": 126,
     "metadata": {},
     "output_type": "execute_result"
    }
   ],
   "source": [
    "∇f(sol, grad)"
   ]
  },
  {
   "cell_type": "markdown",
   "metadata": {},
   "source": [
    "Consider now the constrained program\n",
    "\\begin{align*}\n",
    "\\min\\ & f(x,y) = -10x^2+10y^2+4\\sin(xy)-2x+x^4 \\\\\n",
    "\\text{s.t. } & 0.1x+y=1\n",
    "\\end{align*}\n",
    "The Lagrangien is now\n",
    "$$\n",
    "L(x,y,\\mu) = -10x^2+10y^2+4\\sin(xy)-2x+x^4 + \\mu(0.1x+y-1)\n",
    "$$\n",
    "and the KKT conditions are\n",
    "\\begin{align*}\n",
    "-20x+4y\\cos(xy)-2+4x^3 + 0.1\\mu &= 0 \\\\\n",
    "20y+4x\\cos(xy) + \\mu &= 0 \\\\\n",
    "0.1x+y-1 &= 0\n",
    "\\end{align*}"
   ]
  },
  {
   "cell_type": "markdown",
   "metadata": {},
   "source": [
    "In order to solve this system, develop the Jacobian matrix\n",
    "$$\n",
    "J(x,y,\\mu) =\n",
    "\\begin{pmatrix}\n",
    "-20 - 4y\\sin(xy)+12x^2 & 4\\cos(xy)-4xy\\cos(xy) & 0.1 \\\\\n",
    "4\\cos(xy)-4xy\\cos(xy) & 20 - 4x^2\\sin(xy) & 1 \\\\\n",
    "0.1 & 1 & 0\n",
    "\\end{pmatrix}\n",
    "$$\n",
    "\n",
    "Let's implement these operators."
   ]
  },
  {
   "cell_type": "code",
   "execution_count": 146,
   "metadata": {},
   "outputs": [
    {
     "data": {
      "text/plain": [
       "J! (generic function with 1 method)"
      ]
     },
     "execution_count": 146,
     "metadata": {},
     "output_type": "execute_result"
    }
   ],
   "source": [
    "function L!(x, L)\n",
    "    L[1] = -20*x[1]+4*x[2]*cos(x[1]*x[2])-2+4*x[1]^3+0.1*x[3]\n",
    "    L[2] = 20*x[2]+4*x[1]*cos(x[1]*x[2])+x[3]\n",
    "    L[3] = 0.1*x[1]+x[2]-1\n",
    "    return L\n",
    "end\n",
    "\n",
    "function J!(x, J)\n",
    "    J[1,1] = -20-4*x[2]^2*sin(x[1]*x[2])+12*x[1]^2\n",
    "    J[2,1] = J[1,2] = 4*cos(x[1]*x[2])-4*x[1]*x[2]*sin(x[1]*x[2])\n",
    "    J[2,2] = 20-4*x[1]^2*sin(x[1]*x[2])\n",
    "    J[3,3] = 0\n",
    "    J[1,3] = J[3,1] = 0.1\n",
    "    J[2,3] = J[3,2] = 1\n",
    "    return J\n",
    "end"
   ]
  },
  {
   "cell_type": "code",
   "execution_count": 147,
   "metadata": {},
   "outputs": [
    {
     "data": {
      "text/plain": [
       "3-element Array{Float64,1}:\n",
       "   2.3298897130224083\n",
       "   0.7670110286977592\n",
       " -13.340493481573121 "
      ]
     },
     "execution_count": 147,
     "metadata": {},
     "output_type": "execute_result"
    }
   ],
   "source": [
    "x = [2.5, -0.3, 1.0]\n",
    "sol = NLSNewton(L!, J!, x)"
   ]
  },
  {
   "cell_type": "code",
   "execution_count": 148,
   "metadata": {},
   "outputs": [
    {
     "data": {
      "text/plain": [
       "3-element Array{Float64,1}:\n",
       "  -1.9843163000402988\n",
       "   1.19843163000403  \n",
       " -29.702536010170014 "
      ]
     },
     "execution_count": 148,
     "metadata": {},
     "output_type": "execute_result"
    }
   ],
   "source": [
    "x = [-2.5, -2.5, 1.0]\n",
    "sol = NLSNewton(L!, J!, x)"
   ]
  },
  {
   "cell_type": "markdown",
   "metadata": {},
   "source": [
    "We have found two solutions to the KKT problem.\n",
    "\n",
    "Note that in this example, we could also have used the linear constraint to eliminate one variable in the objective function, and only have to solve a one-dimensional program."
   ]
  },
  {
   "cell_type": "markdown",
   "metadata": {},
   "source": [
    "Two difficulties remain.\n",
    "\n",
    "Firstly, we have to globalize the method, i.e. ensures that it converges from any starting point.\n",
    "\n",
    "Secondly, in order to deal with inequality constraints, we have to be able to determine the active set at the solution."
   ]
  },
  {
   "cell_type": "code",
   "execution_count": null,
   "metadata": {},
   "outputs": [],
   "source": []
  }
 ],
 "metadata": {
  "kernelspec": {
   "display_name": "Julia 1.5.0",
   "language": "julia",
   "name": "julia-1.5"
  },
  "language_info": {
   "file_extension": ".jl",
   "mimetype": "application/julia",
   "name": "julia",
   "version": "1.5.0"
  }
 },
 "nbformat": 4,
 "nbformat_minor": 1
}
