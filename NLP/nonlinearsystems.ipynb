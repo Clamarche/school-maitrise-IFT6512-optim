{
 "cells": [
  {
   "cell_type": "markdown",
   "metadata": {},
   "source": [
    "# Système non-linéaires"
   ]
  },
  {
   "cell_type": "markdown",
   "metadata": {},
   "source": [
    "## Méthode de Newton"
   ]
  },
  {
   "cell_type": "markdown",
   "metadata": {},
   "source": [
    "### Optimisation\n",
    "\n",
    "Dans le cadre de l'optimisation, la mise à jour d'un itéré se fait comme suit:\n",
    "$$\n",
    "x_{k+1} = x_k-\\nabla^2 f(x_k)^{-1} \\nabla f(x_k).\n",
    "$$\n",
    "La récurrence de Newton, si elle convergence, donne un point $x^*$ tel que $\\nabla f(x^*) = 0$."
   ]
  },
  {
   "cell_type": "markdown",
   "metadata": {},
   "source": [
    "### Systèmes non-linéaires\n",
    "\n",
    "La méthode de Newton peut aussi être appliquée à des systèmes nonlinéaires plus généraux. Considérons\n",
    "$$\n",
    "F(x) = \\begin{pmatrix} f_1(x) \\\\ f_2(x) \\\\ \\vdots \\\\ f_m(x) \\end{pmatrix}.\n",
    "$$\n",
    "Dans ce cas, nous pouvons appliquer la méthode de Newton pour cherche un point $x^*$ tel que $F(x^*) = 0$. Le récurrence ed Newton est alors\n",
    "$$\n",
    "x_{k+1} = x_k-J(x_k)^{-1} F(x_k).\n",
    "$$\n",
    "Il est facile d'adapter le code vu dans un contexte d'optimisation."
   ]
  },
  {
   "cell_type": "code",
   "execution_count": 1,
   "metadata": {},
   "outputs": [],
   "source": [
    "using LinearAlgebra"
   ]
  },
  {
   "cell_type": "code",
   "execution_count": 2,
   "metadata": {},
   "outputs": [
    {
     "data": {
      "text/plain": [
       "NLSNewton (generic function with 3 methods)"
      ]
     },
     "execution_count": 2,
     "metadata": {},
     "output_type": "execute_result"
    }
   ],
   "source": [
    "function NLSNewton(F:: Function, h:: Function,\n",
    "        xstart::Vector, δ::Float64 = 1e-4, nmax::Int64 = 1000)\n",
    "\n",
    "    k = 1\n",
    "    x = xstart\n",
    "    n = length(x)\n",
    "    δ2 = δ*δ\n",
    "    J = zeros(n,n)\n",
    "    \n",
    "    Fx = ones(n)\n",
    "    Fx = F(x, Fx)\n",
    "\n",
    "    while (dot(Fx,Fx) > δ2 && k <= nmax)\n",
    "        k += 1\n",
    "        Fx = F(x, Fx)\n",
    "        J = h(x,J)\n",
    "        # Js = Fx, x_{k+1} = x_k - s\n",
    "        x -= J\\Fx  # x = x - s\n",
    "    end\n",
    "    \n",
    "    return x\n",
    "end"
   ]
  },
  {
   "cell_type": "markdown",
   "metadata": {},
   "source": [
    "Considérons par exemple le système non-linéaire\n",
    "\\begin{align*}\n",
    "    4x+2y+2xz-10 &= 0 \\\\\n",
    "    2x+y+yz-6 &= 0 \\\\\n",
    "    x^2 + y^2 - 5 &= 0\n",
    "\\end{align*}\n",
    "Nous implémentons d'abord la multi-fonction correspondante."
   ]
  },
  {
   "cell_type": "code",
   "execution_count": 3,
   "metadata": {},
   "outputs": [
    {
     "data": {
      "text/plain": [
       "F (generic function with 1 method)"
      ]
     },
     "execution_count": 3,
     "metadata": {},
     "output_type": "execute_result"
    }
   ],
   "source": [
    "function F(x:: Vector, d:: Vector)\n",
    "    \n",
    "    if length(d) == 0\n",
    "        d = zeros(length(x))\n",
    "    end\n",
    "    \n",
    "    d[1] = 4*x[1]+2*x[2]+2*x[1]*x[3]-10\n",
    "    d[2] = 2*x[1]+x[2]+x[2]*x[3]-6\n",
    "    d[3] = x[1]*x[1]+x[2]*x[2]-5\n",
    "    \n",
    "    return d\n",
    "end"
   ]
  },
  {
   "cell_type": "markdown",
   "metadata": {},
   "source": [
    "Nous pouvons facilement vérifier que (1,2,1) satisfait ce système."
   ]
  },
  {
   "cell_type": "code",
   "execution_count": 4,
   "metadata": {},
   "outputs": [
    {
     "data": {
      "text/plain": [
       "3-element Array{Float64,1}:\n",
       " 0.0\n",
       " 0.0\n",
       " 0.0"
      ]
     },
     "execution_count": 4,
     "metadata": {},
     "output_type": "execute_result"
    }
   ],
   "source": [
    "d = zeros(3)\n",
    "x = [ 1; 2; 1]\n",
    "h = F(x, d)\n",
    "d"
   ]
  },
  {
   "cell_type": "markdown",
   "metadata": {},
   "source": [
    "La matrice jacobienne est\n",
    "$$\n",
    "\\begin{pmatrix}\n",
    "    4+2z & 2 & 2x \\\\\n",
    "    2 & 1+z & y \\\\\n",
    "    2x & 2y & 0\n",
    "\\end{pmatrix}\n",
    "$$"
   ]
  },
  {
   "cell_type": "code",
   "execution_count": 5,
   "metadata": {},
   "outputs": [
    {
     "data": {
      "text/plain": [
       "J (generic function with 1 method)"
      ]
     },
     "execution_count": 5,
     "metadata": {},
     "output_type": "execute_result"
    }
   ],
   "source": [
    "function J(x::Vector, H::Matrix)\n",
    "\n",
    "    (m,n) = size(H)\n",
    " \n",
    "    if (m,n) == (0,0)\n",
    "        n = length(x)\n",
    "        H = zeros(n,n)\n",
    "    end\n",
    "\n",
    "    H[1,1] = 4+2*x[3]\n",
    "    H[2,2] = 1+x[3]\n",
    "    H[3,3] = 0.0\n",
    "    H[1,2] = H[2,1] = 2\n",
    "    H[1,3] = H[3,1] = 2*x[1]\n",
    "    H[2,3] = x[2]\n",
    "    H[3,2] = 2*x[2]\n",
    "    \n",
    "    return H\n",
    "end"
   ]
  },
  {
   "cell_type": "code",
   "execution_count": 6,
   "metadata": {},
   "outputs": [
    {
     "data": {
      "text/plain": [
       "3-element Array{Int64,1}:\n",
       " 1\n",
       " 2\n",
       " 1"
      ]
     },
     "execution_count": 6,
     "metadata": {},
     "output_type": "execute_result"
    }
   ],
   "source": [
    "NLSNewton(F, J, x)"
   ]
  },
  {
   "cell_type": "code",
   "execution_count": 7,
   "metadata": {},
   "outputs": [
    {
     "data": {
      "text/plain": [
       "3-element Array{Float64,1}:\n",
       " 1.0\n",
       " 1.0\n",
       " 1.0"
      ]
     },
     "execution_count": 7,
     "metadata": {},
     "output_type": "execute_result"
    }
   ],
   "source": [
    "x0 = [1,1,1.0]"
   ]
  },
  {
   "cell_type": "code",
   "execution_count": 8,
   "metadata": {},
   "outputs": [
    {
     "data": {
      "text/plain": [
       "3-element Array{Float64,1}:\n",
       " 0.9999999999999999\n",
       " 2.0\n",
       " 1.0000000000000002"
      ]
     },
     "execution_count": 8,
     "metadata": {},
     "output_type": "execute_result"
    }
   ],
   "source": [
    "NLSNewton(F, J, x0)"
   ]
  },
  {
   "cell_type": "markdown",
   "metadata": {},
   "source": [
    "La méthode de Newton pour résoudre un système non-linéaire souffre cependant des mêmes problèmes que dans le contexte d'optimisation. Sa convergence n'est assurée que si le point de départ est dans un voisinage de la solution. La récurrence peut même être ne pas être bien définie."
   ]
  },
  {
   "cell_type": "code",
   "execution_count": 10,
   "metadata": {},
   "outputs": [
    {
     "ename": "LoadError",
     "evalue": "SingularException(2)",
     "output_type": "error",
     "traceback": [
      "SingularException(2)",
      "",
      "Stacktrace:",
      " [1] checknonsingular at D:\\buildbot\\worker\\package_win64\\build\\usr\\share\\julia\\stdlib\\v1.5\\LinearAlgebra\\src\\factorization.jl:19 [inlined]",
      " [2] checknonsingular at D:\\buildbot\\worker\\package_win64\\build\\usr\\share\\julia\\stdlib\\v1.5\\LinearAlgebra\\src\\factorization.jl:21 [inlined]",
      " [3] lu!(::Array{Float64,2}, ::Val{true}; check::Bool) at D:\\buildbot\\worker\\package_win64\\build\\usr\\share\\julia\\stdlib\\v1.5\\LinearAlgebra\\src\\lu.jl:85",
      " [4] #lu#136 at D:\\buildbot\\worker\\package_win64\\build\\usr\\share\\julia\\stdlib\\v1.5\\LinearAlgebra\\src\\lu.jl:273 [inlined]",
      " [5] lu at D:\\buildbot\\worker\\package_win64\\build\\usr\\share\\julia\\stdlib\\v1.5\\LinearAlgebra\\src\\lu.jl:272 [inlined] (repeats 2 times)",
      " [6] \\(::Array{Float64,2}, ::Array{Float64,1}) at D:\\buildbot\\worker\\package_win64\\build\\usr\\share\\julia\\stdlib\\v1.5\\LinearAlgebra\\src\\generic.jl:1116",
      " [7] NLSNewton(::typeof(F), ::typeof(J), ::Array{Float64,1}, ::Float64, ::Int64) at .\\In[2]:18",
      " [8] NLSNewton(::Function, ::Function, ::Array{Float64,1}) at .\\In[2]:4",
      " [9] top-level scope at In[10]:1",
      " [10] include_string(::Function, ::Module, ::String, ::String) at .\\loading.jl:1091",
      " [11] execute_code(::String, ::String) at C:\\Users\\slash\\.julia\\packages\\IJulia\\rWZ9e\\src\\execute_request.jl:27",
      " [12] execute_request(::ZMQ.Socket, ::IJulia.Msg) at C:\\Users\\slash\\.julia\\packages\\IJulia\\rWZ9e\\src\\execute_request.jl:86",
      " [13] #invokelatest#1 at .\\essentials.jl:710 [inlined]",
      " [14] invokelatest at .\\essentials.jl:709 [inlined]",
      " [15] eventloop(::ZMQ.Socket) at C:\\Users\\slash\\.julia\\packages\\IJulia\\rWZ9e\\src\\eventloop.jl:8",
      " [16] (::IJulia.var\"#15#18\")() at .\\task.jl:356"
     ]
    }
   ],
   "source": [
    "NLSNewton(F, J, [0, 0 ,0.0])"
   ]
  },
  {
   "cell_type": "markdown",
   "metadata": {
    "collapsed": true
   },
   "source": [
    "## Exemple 2"
   ]
  },
  {
   "cell_type": "markdown",
   "metadata": {},
   "source": [
    "Nous cherchons à résoudre le problème\n",
    "\\begin{align*}\n",
    "x^3 + y &= 1 \\\\\n",
    "y^3 − x &= −1.\n",
    "\\end{align*}"
   ]
  },
  {
   "cell_type": "markdown",
   "metadata": {},
   "source": [
    "La multi-fonction du sytème peut être définie par"
   ]
  },
  {
   "cell_type": "code",
   "execution_count": 11,
   "metadata": {},
   "outputs": [
    {
     "data": {
      "text/plain": [
       "g2 (generic function with 1 method)"
      ]
     },
     "execution_count": 11,
     "metadata": {},
     "output_type": "execute_result"
    }
   ],
   "source": [
    "function g2(x::Vector, d::Vector)\n",
    "\n",
    "    if length(d) == 0\n",
    "        d = zeros(length(x))\n",
    "    end\n",
    "    \n",
    "    d[1] = x[1]^3+x[2]-1\n",
    "    d[2] = x[2]^3-x[1]+1\n",
    "    \n",
    "    return d\n",
    "end"
   ]
  },
  {
   "cell_type": "code",
   "execution_count": 12,
   "metadata": {},
   "outputs": [
    {
     "data": {
      "text/plain": [
       "2-element Array{Float64,1}:\n",
       " 1.0\n",
       " 0.0"
      ]
     },
     "execution_count": 12,
     "metadata": {},
     "output_type": "execute_result"
    }
   ],
   "source": [
    "d = [1.0, 1.0]\n",
    "x = [1.0, 0]"
   ]
  },
  {
   "cell_type": "code",
   "execution_count": 13,
   "metadata": {},
   "outputs": [
    {
     "data": {
      "text/plain": [
       "2-element Array{Float64,1}:\n",
       " 0.0\n",
       " 0.0"
      ]
     },
     "execution_count": 13,
     "metadata": {},
     "output_type": "execute_result"
    }
   ],
   "source": [
    "g2(x, d)\n",
    "d"
   ]
  },
  {
   "cell_type": "code",
   "execution_count": 14,
   "metadata": {},
   "outputs": [
    {
     "data": {
      "text/plain": [
       "J2 (generic function with 1 method)"
      ]
     },
     "execution_count": 14,
     "metadata": {},
     "output_type": "execute_result"
    }
   ],
   "source": [
    "function J2(x::Vector, H::Matrix)\n",
    "    \n",
    "    (m,n) = size(H)\n",
    " \n",
    "    if (m,n) == (0,0)\n",
    "        n = length(x)\n",
    "        H = zeros(n,n)\n",
    "    end\n",
    "\n",
    "    H[1,1] = 3*x[1]^2\n",
    "    H[1,2] = 1\n",
    "    H[2,1] = -1\n",
    "    H[2,2] = 3*x[2]^2\n",
    "\n",
    "    return H\n",
    "end"
   ]
  },
  {
   "cell_type": "code",
   "execution_count": 15,
   "metadata": {},
   "outputs": [
    {
     "data": {
      "text/plain": [
       "2×2 Array{Int64,2}:\n",
       "  3  1\n",
       " -1  0"
      ]
     },
     "execution_count": 15,
     "metadata": {},
     "output_type": "execute_result"
    }
   ],
   "source": [
    "H = [0 0; 0 0]\n",
    "J2(x,H)"
   ]
  },
  {
   "cell_type": "code",
   "execution_count": 16,
   "metadata": {},
   "outputs": [
    {
     "data": {
      "text/plain": [
       "2-element Array{Float64,1}:\n",
       " 0.9999999999999971\n",
       " 1.8263043495851585e-12"
      ]
     },
     "execution_count": 16,
     "metadata": {},
     "output_type": "execute_result"
    }
   ],
   "source": [
    "x = [1.0, 1.0]\n",
    "NLSNewton(g2, J2, x)"
   ]
  },
  {
   "cell_type": "markdown",
   "metadata": {
    "collapsed": true
   },
   "source": [
    "Réalisaons la première itération à la main. Nous devons résoudre le système\n",
    "$$\n",
    "\\begin{pmatrix}\n",
    "3*1^2 & 1 \\\\ -1 & 3*1^2\n",
    "\\end{pmatrix}\n",
    "\\begin{pmatrix}\n",
    "d_1 \\\\ d_2\n",
    "\\end{pmatrix}\n",
    "=\n",
    "\\begin{pmatrix}\n",
    "1^3+1-1 \\\\ 1^3-1+1\n",
    "\\end{pmatrix}\n",
    "$$\n",
    "ou\n",
    "$$\n",
    "\\begin{pmatrix}\n",
    "3 & 1 \\\\ -1 & 3\n",
    "\\end{pmatrix}\n",
    "\\begin{pmatrix}\n",
    "d_1 \\\\ d_2\n",
    "\\end{pmatrix}\n",
    "=\n",
    "\\begin{pmatrix}\n",
    "1 \\\\ 1\n",
    "\\end{pmatrix}\n",
    "$$\n",
    "De manière équivalente, nous devons résoudre\n",
    "\\begin{align*}\n",
    "3d_1 + d_2 &= 1 \\\\\n",
    "-d_1 + 3d_2 &= 1 \\\\\n",
    "\\end{align*}\n",
    "Nous en déduisons que\n",
    "$$\n",
    "10 d_2 = 4\n",
    "$$\n",
    "ou\n",
    "$$\n",
    "d_2 = 0.4\n",
    "$$\n",
    "et dès lors\n",
    "$$\n",
    "d_1 = 0.2\n",
    "$$\n",
    "Nous pouvons vérifier ce résultat en résolvant numériquement le système linéaire correspondant"
   ]
  },
  {
   "cell_type": "code",
   "execution_count": 17,
   "metadata": {},
   "outputs": [
    {
     "data": {
      "text/plain": [
       "2-element Array{Float64,1}:\n",
       " 0.20000000000000004\n",
       " 0.39999999999999997"
      ]
     },
     "execution_count": 17,
     "metadata": {},
     "output_type": "execute_result"
    }
   ],
   "source": [
    "A = [3 1 ; -1 3]\n",
    "b = [1 ; 1]\n",
    "A\\b"
   ]
  },
  {
   "cell_type": "markdown",
   "metadata": {},
   "source": [
    "Dès lors, l'itération de Newton donne\n",
    "$$\n",
    "\\begin{pmatrix}\n",
    "x_{k+1} \\\\ y_{k+1}\n",
    "\\end{pmatrix}\n",
    "=\n",
    "\\begin{pmatrix}\n",
    "1 \\\\ 1\n",
    "\\end{pmatrix}\n",
    "-\n",
    "\\begin{pmatrix}\n",
    "0.2 \\\\ 0.4\n",
    "\\end{pmatrix}\n",
    "=\n",
    "\\begin{pmatrix}\n",
    "0.8 \\\\ 0.6\n",
    "\\end{pmatrix}\n",
    "$$"
   ]
  },
  {
   "cell_type": "markdown",
   "metadata": {
    "collapsed": true
   },
   "source": [
    "## Exemple 3"
   ]
  },
  {
   "cell_type": "markdown",
   "metadata": {},
   "source": [
    "\\begin{align*}\n",
    "a+b+c &= 6 \\\\\n",
    "a^2+b^2+c^2 &= 14 \\\\\n",
    "a^3+b^3+c^3 &= 36\n",
    "\\end{align*}"
   ]
  },
  {
   "cell_type": "code",
   "execution_count": 18,
   "metadata": {},
   "outputs": [
    {
     "data": {
      "text/plain": [
       "g3 (generic function with 1 method)"
      ]
     },
     "execution_count": 18,
     "metadata": {},
     "output_type": "execute_result"
    }
   ],
   "source": [
    "function g3(x::Vector, d::Vector)\n",
    "\n",
    "    if length(d) == 0\n",
    "        d = zeros(length(x))\n",
    "    end\n",
    "    \n",
    "    for i = 1:3\n",
    "        d[i] = x[1]^i+x[2]^i+x[3]^i\n",
    "    end\n",
    "    d[1] -= 6\n",
    "    d[2] -= 14\n",
    "    d[3] -= 36\n",
    "\n",
    "    return d\n",
    "end"
   ]
  },
  {
   "cell_type": "code",
   "execution_count": 19,
   "metadata": {},
   "outputs": [
    {
     "data": {
      "text/plain": [
       "J3 (generic function with 1 method)"
      ]
     },
     "execution_count": 19,
     "metadata": {},
     "output_type": "execute_result"
    }
   ],
   "source": [
    "function J3(x::Vector, H::Matrix)\n",
    "\n",
    "    (m,n) = size(H)\n",
    " \n",
    "    if (m,n) == (0,0)\n",
    "        n = length(x)\n",
    "        H = zeros(n,n)\n",
    "    end\n",
    "\n",
    "    for i = 1:3\n",
    "        for j = 1:3\n",
    "            H[i,j] = i*x[j]^(i-1)\n",
    "        end\n",
    "    end\n",
    "    return H\n",
    "end"
   ]
  },
  {
   "cell_type": "code",
   "execution_count": 20,
   "metadata": {},
   "outputs": [
    {
     "ename": "LoadError",
     "evalue": "SingularException(2)",
     "output_type": "error",
     "traceback": [
      "SingularException(2)",
      "",
      "Stacktrace:",
      " [1] checknonsingular at D:\\buildbot\\worker\\package_win64\\build\\usr\\share\\julia\\stdlib\\v1.5\\LinearAlgebra\\src\\factorization.jl:19 [inlined]",
      " [2] checknonsingular at D:\\buildbot\\worker\\package_win64\\build\\usr\\share\\julia\\stdlib\\v1.5\\LinearAlgebra\\src\\factorization.jl:21 [inlined]",
      " [3] lu!(::Array{Float64,2}, ::Val{true}; check::Bool) at D:\\buildbot\\worker\\package_win64\\build\\usr\\share\\julia\\stdlib\\v1.5\\LinearAlgebra\\src\\lu.jl:85",
      " [4] #lu#136 at D:\\buildbot\\worker\\package_win64\\build\\usr\\share\\julia\\stdlib\\v1.5\\LinearAlgebra\\src\\lu.jl:273 [inlined]",
      " [5] lu at D:\\buildbot\\worker\\package_win64\\build\\usr\\share\\julia\\stdlib\\v1.5\\LinearAlgebra\\src\\lu.jl:272 [inlined] (repeats 2 times)",
      " [6] \\(::Array{Float64,2}, ::Array{Float64,1}) at D:\\buildbot\\worker\\package_win64\\build\\usr\\share\\julia\\stdlib\\v1.5\\LinearAlgebra\\src\\generic.jl:1116",
      " [7] NLSNewton(::typeof(g3), ::typeof(J3), ::Array{Float64,1}, ::Float64, ::Int64) at .\\In[2]:18",
      " [8] NLSNewton(::Function, ::Function, ::Array{Float64,1}) at .\\In[2]:4",
      " [9] top-level scope at In[20]:2",
      " [10] include_string(::Function, ::Module, ::String, ::String) at .\\loading.jl:1091",
      " [11] execute_code(::String, ::String) at C:\\Users\\slash\\.julia\\packages\\IJulia\\rWZ9e\\src\\execute_request.jl:27",
      " [12] execute_request(::ZMQ.Socket, ::IJulia.Msg) at C:\\Users\\slash\\.julia\\packages\\IJulia\\rWZ9e\\src\\execute_request.jl:86",
      " [13] #invokelatest#1 at .\\essentials.jl:710 [inlined]",
      " [14] invokelatest at .\\essentials.jl:709 [inlined]",
      " [15] eventloop(::ZMQ.Socket) at C:\\Users\\slash\\.julia\\packages\\IJulia\\rWZ9e\\src\\eventloop.jl:8",
      " [16] (::IJulia.var\"#15#18\")() at .\\task.jl:356"
     ]
    }
   ],
   "source": [
    "x = [1.0, 1.0, 1.0]\n",
    "NLSNewton(g3, J3, x)"
   ]
  },
  {
   "cell_type": "code",
   "execution_count": 21,
   "metadata": {},
   "outputs": [
    {
     "data": {
      "text/plain": [
       "3×3 Array{Float64,2}:\n",
       " 1.0  1.0  1.0\n",
       " 2.0  2.0  2.0\n",
       " 3.0  3.0  3.0"
      ]
     },
     "execution_count": 21,
     "metadata": {},
     "output_type": "execute_result"
    }
   ],
   "source": [
    "H = ones(3,3)\n",
    "J3(x,H)"
   ]
  },
  {
   "cell_type": "code",
   "execution_count": 22,
   "metadata": {},
   "outputs": [
    {
     "data": {
      "text/plain": [
       "1"
      ]
     },
     "execution_count": 22,
     "metadata": {},
     "output_type": "execute_result"
    }
   ],
   "source": [
    "rank(H)"
   ]
  },
  {
   "cell_type": "code",
   "execution_count": 23,
   "metadata": {},
   "outputs": [
    {
     "data": {
      "text/plain": [
       "3-element Array{Float64,1}:\n",
       " 2.9999999999999996\n",
       " 0.9999999999999994\n",
       " 2.0000000000000013"
      ]
     },
     "execution_count": 23,
     "metadata": {},
     "output_type": "execute_result"
    }
   ],
   "source": [
    "x = [2.0, 1.0, 0.0]\n",
    "NLSNewton(g3, J3, x)"
   ]
  },
  {
   "cell_type": "markdown",
   "metadata": {},
   "source": [
    "## Application au conditions KKT"
   ]
  },
  {
   "cell_type": "markdown",
   "metadata": {},
   "source": [
    "Considérons le problème contraint linéairement\n",
    "\\begin{align*}\n",
    "\\min\\ & f(x) \\\\\n",
    "\\mbox{t.q. } & Ax = b\n",
    "\\end{align*}\n",
    "où $A \\in \\mathbb{R}^{m \\times n}$.\n",
    "\n",
    "La fonction lagrangienne de ce problème est\n",
    "$$\n",
    "L(x,\\mu) = f(x) + \\sum_{i = 1}^m \\mu_i(a_i^Tx-b_i)\n",
    "$$\n",
    "où $a_i$ désigne la $i^e$ ligne de la matrice et $b_i$ le $i^e$ élément de $b$."
   ]
  },
  {
   "cell_type": "markdown",
   "metadata": {},
   "source": [
    "Les conditions KKT de ce problème sont\n",
    "\\begin{align*}\n",
    "\\nabla f(x) + A^T\\mu &= 0 \\\\\n",
    "Ax - b &= 0\n",
    "\\end{align*}\n",
    "Il s'agit d'un système non-linéaire qui peut être résolu en utilisant la méthode de Newton."
   ]
  },
  {
   "cell_type": "markdown",
   "metadata": {},
   "source": [
    "Considérons par exemple le problème\n",
    "$$\n",
    "\\min f(x,y) = -10x^2+10y^2+4\\sin(xy)-2x+x^4\n",
    "$$"
   ]
  },
  {
   "cell_type": "code",
   "execution_count": 24,
   "metadata": {},
   "outputs": [
    {
     "data": {
      "text/plain": [
       "Hess (generic function with 1 method)"
      ]
     },
     "execution_count": 24,
     "metadata": {},
     "output_type": "execute_result"
    }
   ],
   "source": [
    "f = x -> -10*x[1]^2+10*x[2]^2+4*sin(x[1]*x[2])-2*x[1]+x[1]^4\n",
    "\n",
    "function ∇f(x:: Vector, g:: Vector)\n",
    "    g[1] = -20*x[1]+4*x[2]*cos(x[1]*x[2])-2+4*x[1]^3\n",
    "    g[2] = 20*x[2]+4*x[1]*cos(x[1]*x[2])\n",
    "    return g\n",
    "end\n",
    "\n",
    "function Hess(x:: Vector, H:: Matrix)\n",
    "    H[1,1] = -20-4*x[2]^2*sin(x[1]*x[2])+12*x[1]^2\n",
    "    H[2,1] = H[1,2] = 4*cos(x[1]*x[2])-4*x[1]*x[2]*sin(x[1]*x[2])\n",
    "    H[2,2] = 20-4*x[1]^2*sin(x[1]*x[2])\n",
    "    return H\n",
    "end"
   ]
  },
  {
   "cell_type": "code",
   "execution_count": 25,
   "metadata": {},
   "outputs": [
    {
     "data": {
      "text/plain": [
       "He! (generic function with 1 method)"
      ]
     },
     "execution_count": 25,
     "metadata": {},
     "output_type": "execute_result"
    }
   ],
   "source": [
    "using ForwardDiff\n",
    "\n",
    "gr = x -> ForwardDiff.gradient(f, x);\n",
    "He = x -> ForwardDiff.hessian(f, x)\n",
    "\n",
    "function gr!(x::Vector, storage::Vector)\n",
    "    s = gr(x)\n",
    "    storage[1:length(s)] = s[1:length(s)]\n",
    "end\n",
    "\n",
    "function He!(x::Vector, storage::Matrix)\n",
    "    s = He(x)\n",
    "    n, m = size(s)\n",
    "    storage[1:n,1:m] = s[1:n,1:m]\n",
    "end"
   ]
  },
  {
   "cell_type": "code",
   "execution_count": 28,
   "metadata": {},
   "outputs": [
    {
     "data": {
      "text/plain": [
       "2-element Array{Float64,1}:\n",
       " 0.0\n",
       " 0.0"
      ]
     },
     "execution_count": 28,
     "metadata": {},
     "output_type": "execute_result"
    }
   ],
   "source": [
    "x = zeros(2)"
   ]
  },
  {
   "cell_type": "markdown",
   "metadata": {},
   "source": [
    "Nous pouvons résoudre le système KKT avec notre méthode de Newton, en utilisant les dérivées analytiques ou la différentiation automatique."
   ]
  },
  {
   "cell_type": "code",
   "execution_count": 29,
   "metadata": {},
   "outputs": [
    {
     "data": {
      "text/plain": [
       "2-element Array{Float64,1}:\n",
       " -0.09632573825923432\n",
       "  0.019265114479965602"
      ]
     },
     "execution_count": 29,
     "metadata": {},
     "output_type": "execute_result"
    }
   ],
   "source": [
    "sol = NLSNewton(∇f, Hess, x)"
   ]
  },
  {
   "cell_type": "code",
   "execution_count": 30,
   "metadata": {},
   "outputs": [
    {
     "data": {
      "text/plain": [
       "2-element Array{Float64,1}:\n",
       " -0.09632573825923432\n",
       "  0.019265114479965602"
      ]
     },
     "execution_count": 30,
     "metadata": {},
     "output_type": "execute_result"
    }
   ],
   "source": [
    "sol = NLSNewton(gr!, He!, x)"
   ]
  },
  {
   "cell_type": "code",
   "execution_count": 33,
   "metadata": {},
   "outputs": [
    {
     "data": {
      "text/plain": [
       "2×2 Array{Float64,2}:\n",
       " 0.0  0.0\n",
       " 0.0  0.0"
      ]
     },
     "execution_count": 33,
     "metadata": {},
     "output_type": "execute_result"
    }
   ],
   "source": [
    "grad = zeros(2)\n",
    "hess = zeros(2,2)"
   ]
  },
  {
   "cell_type": "code",
   "execution_count": 34,
   "metadata": {},
   "outputs": [
    {
     "data": {
      "text/plain": [
       "2-element Array{Float64,1}:\n",
       " 1.5612511283791264e-17\n",
       " 0.0"
      ]
     },
     "execution_count": 34,
     "metadata": {},
     "output_type": "execute_result"
    }
   ],
   "source": [
    "∇f(sol, grad)"
   ]
  },
  {
   "cell_type": "code",
   "execution_count": 35,
   "metadata": {},
   "outputs": [
    {
     "data": {
      "text/plain": [
       "2×2 Array{Float64,2}:\n",
       " -19.8887    3.99998\n",
       "   3.99998  20.0001"
      ]
     },
     "execution_count": 35,
     "metadata": {},
     "output_type": "execute_result"
    }
   ],
   "source": [
    "Hess(sol, hess)"
   ]
  },
  {
   "cell_type": "markdown",
   "metadata": {},
   "source": [
    "Calculons les valeurs propres de la matrice hessienne."
   ]
  },
  {
   "cell_type": "code",
   "execution_count": 36,
   "metadata": {},
   "outputs": [
    {
     "data": {
      "text/plain": [
       "Eigen{Float64,Float64,Array{Float64,2},Array{Float64,1}}\n",
       "values:\n",
       "2-element Array{Float64,1}:\n",
       " -20.28581085718777\n",
       "  20.397226260858613\n",
       "vectors:\n",
       "2×2 Array{Float64,2}:\n",
       " -0.995107  0.098804\n",
       "  0.098804  0.995107"
      ]
     },
     "execution_count": 36,
     "metadata": {},
     "output_type": "execute_result"
    }
   ],
   "source": [
    "eigen(hess)"
   ]
  },
  {
   "cell_type": "markdown",
   "metadata": {},
   "source": [
    "Nous avons identifié un point selle!\n",
    "\n",
    "Commençons avec un autre point de départ."
   ]
  },
  {
   "cell_type": "code",
   "execution_count": 37,
   "metadata": {
    "scrolled": true
   },
   "outputs": [
    {
     "data": {
      "text/plain": [
       "2-element Array{Float64,1}:\n",
       " -1.91503605222465e-5\n",
       " -1.5587288675789068e-5"
      ]
     },
     "execution_count": 37,
     "metadata": {},
     "output_type": "execute_result"
    }
   ],
   "source": [
    "sol = [-2.21022, 0.329748]\n",
    "∇f(sol, grad)"
   ]
  },
  {
   "cell_type": "code",
   "execution_count": 39,
   "metadata": {},
   "outputs": [
    {
     "data": {
      "text/plain": [
       "2-element Array{Float64,1}:\n",
       " -2.210219520077777\n",
       "  0.3297484569954491"
      ]
     },
     "execution_count": 39,
     "metadata": {},
     "output_type": "execute_result"
    }
   ],
   "source": [
    "x = [-10; -10.0]\n",
    "sol = NLSNewton(gr!, He!, x)"
   ]
  },
  {
   "cell_type": "code",
   "execution_count": 40,
   "metadata": {},
   "outputs": [
    {
     "data": {
      "text/plain": [
       "2-element Array{Float64,1}:\n",
       "  2.3066301277034658\n",
       " -0.33230864873179117"
      ]
     },
     "execution_count": 40,
     "metadata": {},
     "output_type": "execute_result"
    }
   ],
   "source": [
    "sol = NLSNewton(∇f, Hess, x)"
   ]
  },
  {
   "cell_type": "code",
   "execution_count": 41,
   "metadata": {},
   "outputs": [
    {
     "data": {
      "text/plain": [
       "2-element Array{Float64,1}:\n",
       " -5.903555937436522e-6\n",
       " -1.2307122703170137e-5"
      ]
     },
     "execution_count": 41,
     "metadata": {},
     "output_type": "execute_result"
    }
   ],
   "source": [
    "sol = [2.30663, -0.332309]\n",
    "∇f(sol, grad)"
   ]
  },
  {
   "cell_type": "code",
   "execution_count": 42,
   "metadata": {},
   "outputs": [
    {
     "data": {
      "text/plain": [
       "2-element Array{Float64,1}:\n",
       "  2.306630127703466\n",
       " -0.3323086487317913"
      ]
     },
     "execution_count": 42,
     "metadata": {},
     "output_type": "execute_result"
    }
   ],
   "source": [
    "x = [2.5, -0.3]\n",
    "sol = NLSNewton(gr!, He!, x)"
   ]
  },
  {
   "cell_type": "code",
   "execution_count": 43,
   "metadata": {},
   "outputs": [
    {
     "data": {
      "text/plain": [
       "2-element Array{Float64,1}:\n",
       "  2.842170943040401e-14\n",
       " -5.329070518200751e-15"
      ]
     },
     "execution_count": 43,
     "metadata": {},
     "output_type": "execute_result"
    }
   ],
   "source": [
    "∇f(sol, grad)"
   ]
  },
  {
   "cell_type": "code",
   "execution_count": 44,
   "metadata": {},
   "outputs": [
    {
     "data": {
      "text/plain": [
       "2×2 Array{Float64,2}:\n",
       " 44.1529     0.754635\n",
       "  0.754635  34.7619"
      ]
     },
     "execution_count": 44,
     "metadata": {},
     "output_type": "execute_result"
    }
   ],
   "source": [
    "Hess(sol, hess)"
   ]
  },
  {
   "cell_type": "markdown",
   "metadata": {},
   "source": [
    "Considérons maintenant le programme contraint\n",
    "\\begin{align*}\n",
    "\\min\\ & f(x,y) = -10x^2+10y^2+4\\sin(xy)-2x+x^4 \\\\\n",
    "\\text{s.t. } & 0.1x+y=1\n",
    "\\end{align*}\n",
    "La fonction lagrangienne est maintenant\n",
    "$$\n",
    "L(x,y,\\mu) = -10x^2+10y^2+4\\sin(xy)-2x+x^4 + \\mu(0.1x+y-1)\n",
    "$$\n",
    "et les conditions KKT sont\n",
    "\\begin{align*}\n",
    "-20x+4y\\cos(xy)-2+4x^3 + 0.1\\mu &= 0 \\\\\n",
    "20y+4x\\cos(xy) + \\mu &= 0 \\\\\n",
    "0.1x+y-1 &= 0\n",
    "\\end{align*}"
   ]
  },
  {
   "cell_type": "markdown",
   "metadata": {},
   "source": [
    "Afin de résoudre ce système, développons la matrice jacobienne\n",
    "$$\n",
    "J(x,y,\\mu) =\n",
    "\\begin{pmatrix}\n",
    "-20 - 4y^2\\sin(xy)+12x^2 & 4\\cos(xy)-4xy\\sin(xy) & 0.1 \\\\\n",
    "4\\cos(xy)-4xy\\sin(xy) & 20 - 4x^2\\sin(xy) & 1 \\\\\n",
    "0.1 & 1 & 0\n",
    "\\end{pmatrix}\n",
    "$$\n",
    "\n",
    "Implémentons ces opérateurs."
   ]
  },
  {
   "cell_type": "code",
   "execution_count": 45,
   "metadata": {},
   "outputs": [
    {
     "data": {
      "text/plain": [
       "J! (generic function with 1 method)"
      ]
     },
     "execution_count": 45,
     "metadata": {},
     "output_type": "execute_result"
    }
   ],
   "source": [
    "function KKT!(x, K)\n",
    "    K[1] = -20*x[1]+4*x[2]*cos(x[1]*x[2])-2+4*x[1]^3+0.1*x[3]\n",
    "    K[2] = 20*x[2]+4*x[1]*cos(x[1]*x[2])+x[3]\n",
    "    K[3] = 0.1*x[1]+x[2]-1\n",
    "    return K\n",
    "end\n",
    "\n",
    "function J!(x, J)\n",
    "    J[1,1] = -20-4*x[2]^2*sin(x[1]*x[2])+12*x[1]^2\n",
    "    J[2,1] = J[1,2] = 4*cos(x[1]*x[2])-4*x[1]*x[2]*sin(x[1]*x[2])\n",
    "    J[2,2] = 20-4*x[1]^2*sin(x[1]*x[2])\n",
    "    J[3,3] = 0\n",
    "    J[1,3] = J[3,1] = 0.1\n",
    "    J[2,3] = J[3,2] = 1\n",
    "    return J\n",
    "end"
   ]
  },
  {
   "cell_type": "code",
   "execution_count": 46,
   "metadata": {},
   "outputs": [
    {
     "data": {
      "text/plain": [
       "3-element Array{Float64,1}:\n",
       "   2.3298897130224083\n",
       "   0.7670110286977592\n",
       " -13.340493481573121"
      ]
     },
     "execution_count": 46,
     "metadata": {},
     "output_type": "execute_result"
    }
   ],
   "source": [
    "x = [2.5, -0.3, 1.0]\n",
    "sol = NLSNewton(KKT!, J!, x)"
   ]
  },
  {
   "cell_type": "code",
   "execution_count": 47,
   "metadata": {},
   "outputs": [
    {
     "data": {
      "text/plain": [
       "3-element Array{Float64,1}:\n",
       "  -1.9843163000402988\n",
       "   1.19843163000403\n",
       " -29.702536010170014"
      ]
     },
     "execution_count": 47,
     "metadata": {},
     "output_type": "execute_result"
    }
   ],
   "source": [
    "x = [-2.5, -2.5, 1.0]\n",
    "sol = NLSNewton(KKT!, J!, x)"
   ]
  },
  {
   "cell_type": "code",
   "execution_count": 49,
   "metadata": {},
   "outputs": [
    {
     "name": "stdout",
     "output_type": "stream",
     "text": [
      "Valeur KKT: [-1.6362600163688512e-10, -9.137579581874888e-12, 2.220446049250313e-16]\n"
     ]
    }
   ],
   "source": [
    "k = ones(3)\n",
    "k = KKT!(sol, k)\n",
    "println(\"Valeur KKT: \", k)"
   ]
  },
  {
   "cell_type": "code",
   "execution_count": 50,
   "metadata": {},
   "outputs": [
    {
     "data": {
      "text/plain": [
       "3-element Array{Float64,1}:\n",
       "  2.9702536008533755\n",
       " 29.702536010160877\n",
       "  1.0"
      ]
     },
     "execution_count": 50,
     "metadata": {},
     "output_type": "execute_result"
    }
   ],
   "source": [
    "grad = ones(3)\n",
    "∇f(sol, grad)"
   ]
  },
  {
   "cell_type": "markdown",
   "metadata": {},
   "source": [
    "Nous avons trouvé deux solutions au problème KKT.\n",
    "\n",
    "Notons que dans cet exemple, nous pouvons aussi utiliser la contrainte linéaire pour éliminer une variable dans la fonction objectif, et avoir seulement à résoudre un programme à une dimension.\n",
    "\n",
    "Deux difficultés demeurent.\n",
    "\n",
    "Tout d'abord, nous devons \"globaliser\" la méthode, i.e. s'assurer qu'elle converge à partir de n'importe quel point de départ.\n",
    "\n",
    "Ensuite, afin de traiter avec les contraintes d'inégalité, nous devons être capable de déterminer l'ensemble actif à la solution."
   ]
  }
 ],
 "metadata": {
  "kernelspec": {
   "display_name": "Julia 1.5.0",
   "language": "julia",
   "name": "julia-1.5"
  },
  "language_info": {
   "file_extension": ".jl",
   "mimetype": "application/julia",
   "name": "julia",
   "version": "1.5.0"
  }
 },
 "nbformat": 4,
 "nbformat_minor": 1
}
