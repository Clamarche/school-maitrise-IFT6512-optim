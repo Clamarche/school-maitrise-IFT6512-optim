{
 "cells": [
  {
   "cell_type": "markdown",
   "metadata": {},
   "source": [
    "# Fonction de Rosenbrock généralisée"
   ]
  },
  {
   "cell_type": "code",
   "execution_count": 1,
   "metadata": {},
   "outputs": [],
   "source": [
    "using LinearAlgebra\n",
    "using ForwardDiff\n",
    "using BenchmarkTools"
   ]
  },
  {
   "cell_type": "markdown",
   "metadata": {},
   "source": [
    "Plusieurs généralisations à $n$ dimensions de la fonction de Rosenbrock ont été proposées dans la littérature. Nous considérons ici la généralisation définie:\n",
    "$$\n",
    "f(x) = \\sum_{i = 1}^{n-1} \\left( 100(x_{(i+1)}^2-x_{(i)})^2 + (x_{(i)}-1)^2 \\right).\n",
    "$$\n",
    "Il s'agit de la somme de $n-1$ fonctions de Rosenbrock à 2 dimensions."
   ]
  },
  {
   "cell_type": "code",
   "execution_count": 2,
   "metadata": {},
   "outputs": [
    {
     "data": {
      "text/plain": [
       "rosenbrock (generic function with 1 method)"
      ]
     },
     "execution_count": 2,
     "metadata": {},
     "output_type": "execute_result"
    }
   ],
   "source": [
    "function rosenbrock(x::Vector)\n",
    "    return sum(100*(x[i+1]^2 - x[i])^2 + (x[i] - 1)^2 for i in 1:n-1)\n",
    "end"
   ]
  },
  {
   "cell_type": "markdown",
   "metadata": {},
   "source": [
    "Le gradient est\n",
    "$$\n",
    "\\nabla_x f(x) =\n",
    "\\begin{pmatrix}\n",
    "-200(x_{(2)}^2-x_{(1)})+2(x_{(1)}-1) \\\\\n",
    "400x_{(2)}(x_{(2)}^2-x_{(1)})-200(x_{(3)}^2-x_{(2)})+2(x_{(2)}-1) \\\\\n",
    "\\vdots \\\\\n",
    "400x_{(i)}(x_{(i)}^2-x_{(i-1)})-200(x_{(i+1)}^2-x_{(i)})+2(x_{(i)}-1) \\\\\n",
    "\\vdots \\\\\n",
    "400x_{(n-1)}(x_{(n-1)}^2-x_{(n-2)})-200(x_{(n-1)}^2-x_{(n-2)})+2(x_{(n-2)}-1) \\\\\n",
    "400x_{(n)}(x_{(n)}^2-x_{(n-1)})\n",
    "\\end{pmatrix}\n",
    "$$"
   ]
  },
  {
   "cell_type": "code",
   "execution_count": 3,
   "metadata": {},
   "outputs": [
    {
     "data": {
      "text/plain": [
       "∇f (generic function with 1 method)"
      ]
     },
     "execution_count": 3,
     "metadata": {},
     "output_type": "execute_result"
    }
   ],
   "source": [
    "function ∇f(x:: Vector)\n",
    "    n = length(x)\n",
    "    g = zeros(n)\n",
    "    for i = 1:n-1\n",
    "        g[i] = -200*(x[i+1]^2-x[i])+2*(x[i]-1)\n",
    "    end\n",
    "    for i = 2:n\n",
    "        g[i] += 400*x[i]*(x[i]^2-x[i-1])\n",
    "    end\n",
    "    return g\n",
    "end"
   ]
  },
  {
   "cell_type": "markdown",
   "metadata": {},
   "source": [
    "La matrice hessienne est\n",
    "$$\n",
    "\\nabla_{xx}^2 f(x) =\n",
    "\\begin{pmatrix}\n",
    "202 & -400x_{(2)} & 0 & 0 & \\cdots & 0 & 0 & 0 \\\\\n",
    " -400x_{(2)} & 400(x_{(2)}^2-x(1))+800x_{(2)}^2+202 & -400x_{(3)} & 0 & \\cdots & 0 & 0 & 0 \\\\\n",
    "\\vdots & \\vdots &\\vdots &\\vdots & \\ddots & \\vdots &\\vdots &\\vdots &\\\\\n",
    "0 & 0 & 0 & 0 & \\cdots & -400x_{(n-2)} & 400(x_{(n-1)}^2-x_{(n-2)})+800x_{(n-1)}^2 +202 & -400x_{(n-1)} \\\\\n",
    "0 & 0 & 0 & 0 & \\cdots & 0 & -400x_{(n-1)} & 400(x_{(n)}^2-x_{(n-1)})+800x_{(n)}^2\n",
    "\\end{pmatrix}\n",
    "$$"
   ]
  },
  {
   "cell_type": "code",
   "execution_count": 4,
   "metadata": {},
   "outputs": [
    {
     "data": {
      "text/plain": [
       "Hess (generic function with 1 method)"
      ]
     },
     "execution_count": 4,
     "metadata": {},
     "output_type": "execute_result"
    }
   ],
   "source": [
    "function Hess(x:: Vector)\n",
    "    n = length(x)\n",
    "    H = zeros(n,n)\n",
    "    H[1,1] = 202\n",
    "    for i = 2:n\n",
    "        H[i,i-1] = H[i-1,i] = -400*x[i]\n",
    "        H[i,i] = 400*(x[i]^2-x[i-1])+800*x[i]^2 + 202\n",
    "    end\n",
    "    H[n,n] -= 202\n",
    "    return H\n",
    "end"
   ]
  },
  {
   "cell_type": "markdown",
   "metadata": {},
   "source": [
    "Les calculs sont complexes! Nous allons les vérifier à l'aide de la différentiation automatique."
   ]
  },
  {
   "cell_type": "code",
   "execution_count": 5,
   "metadata": {},
   "outputs": [
    {
     "data": {
      "text/plain": [
       "H! (generic function with 1 method)"
      ]
     },
     "execution_count": 5,
     "metadata": {},
     "output_type": "execute_result"
    }
   ],
   "source": [
    "g = x -> ForwardDiff.gradient(rosenbrock, x);\n",
    "H = x -> ForwardDiff.hessian(rosenbrock, x);\n",
    "function g!(storage::Vector, x::Vector)\n",
    "    s = g(x)\n",
    "    storage[1:length(s)] = s[1:length(s)]\n",
    "end\n",
    "function H!(storage::Matrix, x::Vector)\n",
    "    s = H(x)\n",
    "    n, m = size(s)\n",
    "    storage[1:n,1:m] = s[1:length(s)]\n",
    "end"
   ]
  },
  {
   "cell_type": "code",
   "execution_count": 6,
   "metadata": {},
   "outputs": [
    {
     "data": {
      "text/plain": [
       "1000-element Array{Float64,1}:\n",
       " 0.25\n",
       " 0.25\n",
       " 0.25\n",
       " 0.25\n",
       " 0.25\n",
       " 0.25\n",
       " 0.25\n",
       " 0.25\n",
       " 0.25\n",
       " 0.25\n",
       " 0.25\n",
       " 0.25\n",
       " 0.25\n",
       " ⋮\n",
       " 0.25\n",
       " 0.25\n",
       " 0.25\n",
       " 0.25\n",
       " 0.25\n",
       " 0.25\n",
       " 0.25\n",
       " 0.25\n",
       " 0.25\n",
       " 0.25\n",
       " 0.25\n",
       " 0.25"
      ]
     },
     "execution_count": 6,
     "metadata": {},
     "output_type": "execute_result"
    }
   ],
   "source": [
    "n = 1000\n",
    "x = ones(n)/4"
   ]
  },
  {
   "cell_type": "code",
   "execution_count": 7,
   "metadata": {},
   "outputs": [
    {
     "data": {
      "text/plain": [
       "4074.046875"
      ]
     },
     "execution_count": 7,
     "metadata": {},
     "output_type": "execute_result"
    }
   ],
   "source": [
    "rosenbrock(x)"
   ]
  },
  {
   "cell_type": "code",
   "execution_count": 8,
   "metadata": {},
   "outputs": [
    {
     "data": {
      "text/plain": [
       "0.0"
      ]
     },
     "execution_count": 8,
     "metadata": {},
     "output_type": "execute_result"
    }
   ],
   "source": [
    "norm(g(x)-∇f(x))"
   ]
  },
  {
   "cell_type": "code",
   "execution_count": 9,
   "metadata": {},
   "outputs": [
    {
     "data": {
      "text/plain": [
       "0.0"
      ]
     },
     "execution_count": 9,
     "metadata": {},
     "output_type": "execute_result"
    }
   ],
   "source": [
    "norm(H(x)-Hess(x))"
   ]
  },
  {
   "cell_type": "code",
   "execution_count": 10,
   "metadata": {},
   "outputs": [
    {
     "data": {
      "text/plain": [
       "1000×1000 Array{Float64,2}:\n",
       "  202.0  -100.0     0.0     0.0     0.0  …     0.0     0.0     0.0     0.0\n",
       " -100.0   177.0  -100.0     0.0     0.0        0.0     0.0     0.0     0.0\n",
       "    0.0  -100.0   177.0  -100.0     0.0        0.0     0.0     0.0     0.0\n",
       "    0.0     0.0  -100.0   177.0  -100.0        0.0     0.0     0.0     0.0\n",
       "    0.0     0.0     0.0  -100.0   177.0        0.0     0.0     0.0     0.0\n",
       "    0.0     0.0     0.0     0.0  -100.0  …     0.0     0.0     0.0     0.0\n",
       "    0.0     0.0     0.0     0.0     0.0        0.0     0.0     0.0     0.0\n",
       "    0.0     0.0     0.0     0.0     0.0        0.0     0.0     0.0     0.0\n",
       "    0.0     0.0     0.0     0.0     0.0        0.0     0.0     0.0     0.0\n",
       "    0.0     0.0     0.0     0.0     0.0        0.0     0.0     0.0     0.0\n",
       "    0.0     0.0     0.0     0.0     0.0  …     0.0     0.0     0.0     0.0\n",
       "    0.0     0.0     0.0     0.0     0.0        0.0     0.0     0.0     0.0\n",
       "    0.0     0.0     0.0     0.0     0.0        0.0     0.0     0.0     0.0\n",
       "    ⋮                                    ⋱                          \n",
       "    0.0     0.0     0.0     0.0     0.0        0.0     0.0     0.0     0.0\n",
       "    0.0     0.0     0.0     0.0     0.0        0.0     0.0     0.0     0.0\n",
       "    0.0     0.0     0.0     0.0     0.0  …     0.0     0.0     0.0     0.0\n",
       "    0.0     0.0     0.0     0.0     0.0        0.0     0.0     0.0     0.0\n",
       "    0.0     0.0     0.0     0.0     0.0        0.0     0.0     0.0     0.0\n",
       "    0.0     0.0     0.0     0.0     0.0        0.0     0.0     0.0     0.0\n",
       "    0.0     0.0     0.0     0.0     0.0        0.0     0.0     0.0     0.0\n",
       "    0.0     0.0     0.0     0.0     0.0  …  -100.0     0.0     0.0     0.0\n",
       "    0.0     0.0     0.0     0.0     0.0      177.0  -100.0     0.0     0.0\n",
       "    0.0     0.0     0.0     0.0     0.0     -100.0   177.0  -100.0     0.0\n",
       "    0.0     0.0     0.0     0.0     0.0        0.0  -100.0   177.0  -100.0\n",
       "    0.0     0.0     0.0     0.0     0.0        0.0     0.0  -100.0   -25.0"
      ]
     },
     "execution_count": 10,
     "metadata": {},
     "output_type": "execute_result"
    }
   ],
   "source": [
    "H(x)"
   ]
  },
  {
   "cell_type": "markdown",
   "metadata": {},
   "source": [
    "La différentiation automatique est-elle efficace?"
   ]
  },
  {
   "cell_type": "code",
   "execution_count": 11,
   "metadata": {},
   "outputs": [
    {
     "data": {
      "text/plain": [
       "BenchmarkTools.Trial: \n",
       "  memory estimate:  27.22 MiB\n",
       "  allocs estimate:  39030\n",
       "  --------------\n",
       "  minimum time:     9.675 s (0.00% GC)\n",
       "  median time:      9.675 s (0.00% GC)\n",
       "  mean time:        9.675 s (0.00% GC)\n",
       "  maximum time:     9.675 s (0.00% GC)\n",
       "  --------------\n",
       "  samples:          1\n",
       "  evals/sample:     1"
      ]
     },
     "execution_count": 11,
     "metadata": {},
     "output_type": "execute_result"
    }
   ],
   "source": [
    "@benchmark H(x)"
   ]
  },
  {
   "cell_type": "code",
   "execution_count": 12,
   "metadata": {},
   "outputs": [
    {
     "data": {
      "text/plain": [
       "BenchmarkTools.Trial: \n",
       "  memory estimate:  7.63 MiB\n",
       "  allocs estimate:  2\n",
       "  --------------\n",
       "  minimum time:     7.164 ms (0.00% GC)\n",
       "  median time:      11.196 ms (0.00% GC)\n",
       "  mean time:        13.441 ms (14.67% GC)\n",
       "  maximum time:     39.476 ms (34.45% GC)\n",
       "  --------------\n",
       "  samples:          372\n",
       "  evals/sample:     1"
      ]
     },
     "execution_count": 12,
     "metadata": {},
     "output_type": "execute_result"
    }
   ],
   "source": [
    "@benchmark Hess(x)"
   ]
  },
  {
   "cell_type": "markdown",
   "metadata": {},
   "source": [
    "On voit qu'il y a avantage a utiliser l'implémentation exacte de la matrice hessienne, mais est-ce dû au caractère creux de la matrice?"
   ]
  },
  {
   "cell_type": "code",
   "execution_count": 13,
   "metadata": {},
   "outputs": [],
   "source": [
    "using SparseArrays"
   ]
  },
  {
   "cell_type": "code",
   "execution_count": 17,
   "metadata": {},
   "outputs": [
    {
     "data": {
      "text/plain": [
       "1000×1000 SparseMatrixCSC{Float64,Int64} with 2998 stored entries:\n",
       "  [1   ,    1]  =  202.0\n",
       "  [2   ,    1]  =  -100.0\n",
       "  [1   ,    2]  =  -100.0\n",
       "  [2   ,    2]  =  177.0\n",
       "  [3   ,    2]  =  -100.0\n",
       "  [2   ,    3]  =  -100.0\n",
       "  [3   ,    3]  =  177.0\n",
       "  [4   ,    3]  =  -100.0\n",
       "  [3   ,    4]  =  -100.0\n",
       "  [4   ,    4]  =  177.0\n",
       "  [5   ,    4]  =  -100.0\n",
       "  [4   ,    5]  =  -100.0\n",
       "  ⋮\n",
       "  [996 ,  996]  =  177.0\n",
       "  [997 ,  996]  =  -100.0\n",
       "  [996 ,  997]  =  -100.0\n",
       "  [997 ,  997]  =  177.0\n",
       "  [998 ,  997]  =  -100.0\n",
       "  [997 ,  998]  =  -100.0\n",
       "  [998 ,  998]  =  177.0\n",
       "  [999 ,  998]  =  -100.0\n",
       "  [998 ,  999]  =  -100.0\n",
       "  [999 ,  999]  =  177.0\n",
       "  [1000,  999]  =  -100.0\n",
       "  [999 , 1000]  =  -100.0\n",
       "  [1000, 1000]  =  -25.0"
      ]
     },
     "execution_count": 17,
     "metadata": {},
     "output_type": "execute_result"
    }
   ],
   "source": [
    "He = Hess(x)\n",
    "SH = sparse(He)"
   ]
  },
  {
   "cell_type": "markdown",
   "metadata": {},
   "source": [
    "Comme ce qui nous intéresse est le produit matrice-vecteur, regarde le gain potentiel obtenu avec le stockage creux."
   ]
  },
  {
   "cell_type": "code",
   "execution_count": 18,
   "metadata": {},
   "outputs": [
    {
     "data": {
      "text/plain": [
       "BenchmarkTools.Trial: \n",
       "  memory estimate:  7.94 KiB\n",
       "  allocs estimate:  1\n",
       "  --------------\n",
       "  minimum time:     6.333 μs (0.00% GC)\n",
       "  median time:      12.566 μs (0.00% GC)\n",
       "  mean time:        26.091 μs (12.25% GC)\n",
       "  maximum time:     9.804 ms (99.69% GC)\n",
       "  --------------\n",
       "  samples:          10000\n",
       "  evals/sample:     3"
      ]
     },
     "execution_count": 18,
     "metadata": {},
     "output_type": "execute_result"
    }
   ],
   "source": [
    "@benchmark SH*x"
   ]
  },
  {
   "cell_type": "code",
   "execution_count": 19,
   "metadata": {},
   "outputs": [
    {
     "data": {
      "text/plain": [
       "BenchmarkTools.Trial: \n",
       "  memory estimate:  7.94 KiB\n",
       "  allocs estimate:  1\n",
       "  --------------\n",
       "  minimum time:     453.501 μs (0.00% GC)\n",
       "  median time:      811.600 μs (0.00% GC)\n",
       "  mean time:        1.015 ms (0.00% GC)\n",
       "  maximum time:     23.216 ms (0.00% GC)\n",
       "  --------------\n",
       "  samples:          4853\n",
       "  evals/sample:     1"
      ]
     },
     "execution_count": 19,
     "metadata": {},
     "output_type": "execute_result"
    }
   ],
   "source": [
    "@benchmark He*x"
   ]
  },
  {
   "cell_type": "markdown",
   "metadata": {},
   "source": [
    "Plutôt que de construire la matrice dense puis de la réduire à une matrice creuse, nous pouvons directement utiliser les propriétés de la matrice pour exploiter sa structure, par exemple en exploitant le fait qu'il s'agit d'une matrice tridiagonale symétrique."
   ]
  },
  {
   "cell_type": "code",
   "execution_count": 20,
   "metadata": {},
   "outputs": [
    {
     "data": {
      "text/plain": [
       "TriHess (generic function with 1 method)"
      ]
     },
     "execution_count": 20,
     "metadata": {},
     "output_type": "execute_result"
    }
   ],
   "source": [
    "function TriHess(x)\n",
    "    n = length(x)\n",
    "    d = zeros(n)\n",
    "    d[1] = 202\n",
    "    d[2:n] = [400*(x[i]^2-x[i-1])+800*x[i]^2 + 202 for i = 2:n]\n",
    "    d[n] -= 202\n",
    "    dl = [-400*x[i] for i = 2:n]\n",
    "    H = SymTridiagonal(d, dl)\n",
    "    return H\n",
    "end"
   ]
  },
  {
   "cell_type": "code",
   "execution_count": 21,
   "metadata": {},
   "outputs": [
    {
     "data": {
      "text/plain": [
       "BenchmarkTools.Trial: \n",
       "  memory estimate:  7.94 KiB\n",
       "  allocs estimate:  1\n",
       "  --------------\n",
       "  minimum time:     1.540 μs (0.00% GC)\n",
       "  median time:      5.680 μs (0.00% GC)\n",
       "  mean time:        11.672 μs (16.66% GC)\n",
       "  maximum time:     2.239 ms (98.61% GC)\n",
       "  --------------\n",
       "  samples:          10000\n",
       "  evals/sample:     10"
      ]
     },
     "execution_count": 21,
     "metadata": {},
     "output_type": "execute_result"
    }
   ],
   "source": [
    "T = TriHess(x)\n",
    "@benchmark T*x"
   ]
  },
  {
   "cell_type": "markdown",
   "metadata": {},
   "source": [
    "Cela permet de monter la taille du système, qui sinon serait ingérable. Prenons par exemple une dimension de un million."
   ]
  },
  {
   "cell_type": "code",
   "execution_count": 22,
   "metadata": {},
   "outputs": [
    {
     "data": {
      "text/plain": [
       "BenchmarkTools.Trial: \n",
       "  memory estimate:  7.63 MiB\n",
       "  allocs estimate:  2\n",
       "  --------------\n",
       "  minimum time:     6.635 ms (0.00% GC)\n",
       "  median time:      9.743 ms (0.00% GC)\n",
       "  mean time:        11.225 ms (11.88% GC)\n",
       "  maximum time:     26.944 ms (54.41% GC)\n",
       "  --------------\n",
       "  samples:          445\n",
       "  evals/sample:     1"
      ]
     },
     "execution_count": 22,
     "metadata": {},
     "output_type": "execute_result"
    }
   ],
   "source": [
    "x = ones(1000000)/4\n",
    "T = TriHess(x)\n",
    "@benchmark T*x"
   ]
  },
  {
   "cell_type": "markdown",
   "metadata": {},
   "source": [
    "Revenons à un exemple plus modeste."
   ]
  },
  {
   "cell_type": "code",
   "execution_count": 23,
   "metadata": {},
   "outputs": [
    {
     "data": {
      "text/plain": [
       "1000-element Array{Float64,1}:\n",
       " 0.25\n",
       " 0.25\n",
       " 0.25\n",
       " 0.25\n",
       " 0.25\n",
       " 0.25\n",
       " 0.25\n",
       " 0.25\n",
       " 0.25\n",
       " 0.25\n",
       " 0.25\n",
       " 0.25\n",
       " 0.25\n",
       " ⋮\n",
       " 0.25\n",
       " 0.25\n",
       " 0.25\n",
       " 0.25\n",
       " 0.25\n",
       " 0.25\n",
       " 0.25\n",
       " 0.25\n",
       " 0.25\n",
       " 0.25\n",
       " 0.25\n",
       " 0.25"
      ]
     },
     "execution_count": 23,
     "metadata": {},
     "output_type": "execute_result"
    }
   ],
   "source": [
    "x = ones(1000)/4\n",
    "v = copy(x)"
   ]
  },
  {
   "cell_type": "code",
   "execution_count": 24,
   "metadata": {},
   "outputs": [
    {
     "data": {
      "text/plain": [
       "4074.046875"
      ]
     },
     "execution_count": 24,
     "metadata": {},
     "output_type": "execute_result"
    }
   ],
   "source": [
    "rosenbrock(x)"
   ]
  },
  {
   "cell_type": "code",
   "execution_count": 25,
   "metadata": {},
   "outputs": [
    {
     "data": {
      "text/plain": [
       "BenchmarkTools.Trial: \n",
       "  memory estimate:  128.45 KiB\n",
       "  allocs estimate:  467\n",
       "  --------------\n",
       "  minimum time:     1.442 ms (0.00% GC)\n",
       "  median time:      1.780 ms (0.00% GC)\n",
       "  mean time:        2.091 ms (0.91% GC)\n",
       "  maximum time:     13.899 ms (68.10% GC)\n",
       "  --------------\n",
       "  samples:          2386\n",
       "  evals/sample:     1"
      ]
     },
     "execution_count": 25,
     "metadata": {},
     "output_type": "execute_result"
    }
   ],
   "source": [
    "gvr = x -> dot(g(x), v)\n",
    "@benchmark gvr(x)"
   ]
  },
  {
   "cell_type": "code",
   "execution_count": 26,
   "metadata": {},
   "outputs": [
    {
     "data": {
      "text/plain": [
       "BenchmarkTools.Trial: \n",
       "  memory estimate:  70.13 KiB\n",
       "  allocs estimate:  4488\n",
       "  --------------\n",
       "  minimum time:     118.100 μs (0.00% GC)\n",
       "  median time:      134.700 μs (0.00% GC)\n",
       "  mean time:        212.960 μs (0.90% GC)\n",
       "  maximum time:     6.572 ms (0.00% GC)\n",
       "  --------------\n",
       "  samples:          10000\n",
       "  evals/sample:     1"
      ]
     },
     "execution_count": 26,
     "metadata": {},
     "output_type": "execute_result"
    }
   ],
   "source": [
    "function gvr2(x:: Vector)\n",
    "    n = length(x)\n",
    "    t = (-200*(x[2]^2-x[1])+2*(x[1]-1))*v[1]\n",
    "    for i = 2:n-1\n",
    "        t += (-200*(x[i+1]^2-x[i])+2*(x[i]-1)+400*x[i]*(x[i]^2-x[i-1]))*v[i]\n",
    "    end\n",
    "    t += 400*x[n]*(x[n]^2-x[n-1])*v[n]\n",
    "    return t\n",
    "end\n",
    "@benchmark gvr2(x)"
   ]
  },
  {
   "cell_type": "code",
   "execution_count": 27,
   "metadata": {},
   "outputs": [
    {
     "data": {
      "text/plain": [
       "0.0"
      ]
     },
     "execution_count": 27,
     "metadata": {},
     "output_type": "execute_result"
    }
   ],
   "source": [
    "Hv = x -> ForwardDiff.gradient(gvr, x)\n",
    "norm(Hv(x)-TriHess(x)*v)"
   ]
  },
  {
   "cell_type": "code",
   "execution_count": 28,
   "metadata": {},
   "outputs": [
    {
     "data": {
      "text/plain": [
       "0.0"
      ]
     },
     "execution_count": 28,
     "metadata": {},
     "output_type": "execute_result"
    }
   ],
   "source": [
    "Hv2 = x -> ForwardDiff.gradient(gvr2, x)\n",
    "norm(Hv2(x)-TriHess(x)*v)"
   ]
  },
  {
   "cell_type": "markdown",
   "metadata": {},
   "source": [
    "Comparons les temps de calcul des différentes approches."
   ]
  },
  {
   "cell_type": "code",
   "execution_count": 29,
   "metadata": {},
   "outputs": [
    {
     "data": {
      "text/plain": [
       "BenchmarkTools.Trial: \n",
       "  memory estimate:  31.78 KiB\n",
       "  allocs estimate:  5\n",
       "  --------------\n",
       "  minimum time:     5.500 μs (0.00% GC)\n",
       "  median time:      7.280 μs (0.00% GC)\n",
       "  mean time:        11.275 μs (12.97% GC)\n",
       "  maximum time:     1.629 ms (99.32% GC)\n",
       "  --------------\n",
       "  samples:          10000\n",
       "  evals/sample:     5"
      ]
     },
     "execution_count": 29,
     "metadata": {},
     "output_type": "execute_result"
    }
   ],
   "source": [
    "@benchmark TriHess(x)*v"
   ]
  },
  {
   "cell_type": "code",
   "execution_count": 30,
   "metadata": {},
   "outputs": [
    {
     "data": {
      "text/plain": [
       "BenchmarkTools.Trial: \n",
       "  memory estimate:  7.64 MiB\n",
       "  allocs estimate:  3\n",
       "  --------------\n",
       "  minimum time:     5.507 ms (0.00% GC)\n",
       "  median time:      7.425 ms (0.00% GC)\n",
       "  mean time:        8.927 ms (15.79% GC)\n",
       "  maximum time:     28.265 ms (73.41% GC)\n",
       "  --------------\n",
       "  samples:          560\n",
       "  evals/sample:     1"
      ]
     },
     "execution_count": 30,
     "metadata": {},
     "output_type": "execute_result"
    }
   ],
   "source": [
    "@benchmark Hess(x)*v"
   ]
  },
  {
   "cell_type": "code",
   "execution_count": 31,
   "metadata": {},
   "outputs": [
    {
     "data": {
      "text/plain": [
       "BenchmarkTools.Trial: \n",
       "  memory estimate:  127.83 MiB\n",
       "  allocs estimate:  39358\n",
       "  --------------\n",
       "  minimum time:     6.118 s (0.24% GC)\n",
       "  median time:      6.118 s (0.24% GC)\n",
       "  mean time:        6.118 s (0.24% GC)\n",
       "  maximum time:     6.118 s (0.24% GC)\n",
       "  --------------\n",
       "  samples:          1\n",
       "  evals/sample:     1"
      ]
     },
     "execution_count": 31,
     "metadata": {},
     "output_type": "execute_result"
    }
   ],
   "source": [
    "@benchmark Hv(x)"
   ]
  },
  {
   "cell_type": "code",
   "execution_count": 32,
   "metadata": {},
   "outputs": [
    {
     "data": {
      "text/plain": [
       "BenchmarkTools.Trial: \n",
       "  memory estimate:  28.92 MiB\n",
       "  allocs estimate:  377038\n",
       "  --------------\n",
       "  minimum time:     20.306 ms (0.00% GC)\n",
       "  median time:      31.614 ms (5.63% GC)\n",
       "  mean time:        33.478 ms (4.24% GC)\n",
       "  maximum time:     81.287 ms (3.50% GC)\n",
       "  --------------\n",
       "  samples:          150\n",
       "  evals/sample:     1"
      ]
     },
     "execution_count": 32,
     "metadata": {},
     "output_type": "execute_result"
    }
   ],
   "source": [
    "@benchmark Hv2(x)"
   ]
  },
  {
   "cell_type": "markdown",
   "metadata": {},
   "source": [
    "On voit qu'exploiter la structure de la matrice est plus efficace! Une grande part de la sous-performance vient de la nom prise en compte du caractère creux par la différentiation automatique, et on gagne à implémenter des calculs exacts."
   ]
  },
  {
   "cell_type": "markdown",
   "metadata": {},
   "source": [
    "## Inversion de matrices creuses"
   ]
  },
  {
   "cell_type": "markdown",
   "metadata": {},
   "source": [
    "Si la matrice hessienne est creuse, son inverse peut être dense. Il n'est dès lors pas pratique d'utiliser des méthodes basées sur l'inverse de la matrice hessienne."
   ]
  },
  {
   "cell_type": "code",
   "execution_count": 33,
   "metadata": {},
   "outputs": [
    {
     "data": {
      "text/plain": [
       "1000×1000 SymTridiagonal{Float64,Array{Float64,1}}:\n",
       "  202.0  -100.0      ⋅       ⋅       ⋅   …      ⋅       ⋅       ⋅       ⋅ \n",
       " -100.0   177.0  -100.0      ⋅       ⋅          ⋅       ⋅       ⋅       ⋅ \n",
       "     ⋅   -100.0   177.0  -100.0      ⋅          ⋅       ⋅       ⋅       ⋅ \n",
       "     ⋅       ⋅   -100.0   177.0  -100.0         ⋅       ⋅       ⋅       ⋅ \n",
       "     ⋅       ⋅       ⋅   -100.0   177.0         ⋅       ⋅       ⋅       ⋅ \n",
       "     ⋅       ⋅       ⋅       ⋅   -100.0  …      ⋅       ⋅       ⋅       ⋅ \n",
       "     ⋅       ⋅       ⋅       ⋅       ⋅          ⋅       ⋅       ⋅       ⋅ \n",
       "     ⋅       ⋅       ⋅       ⋅       ⋅          ⋅       ⋅       ⋅       ⋅ \n",
       "     ⋅       ⋅       ⋅       ⋅       ⋅          ⋅       ⋅       ⋅       ⋅ \n",
       "     ⋅       ⋅       ⋅       ⋅       ⋅          ⋅       ⋅       ⋅       ⋅ \n",
       "     ⋅       ⋅       ⋅       ⋅       ⋅   …      ⋅       ⋅       ⋅       ⋅ \n",
       "     ⋅       ⋅       ⋅       ⋅       ⋅          ⋅       ⋅       ⋅       ⋅ \n",
       "     ⋅       ⋅       ⋅       ⋅       ⋅          ⋅       ⋅       ⋅       ⋅ \n",
       "    ⋮                                    ⋱                          \n",
       "     ⋅       ⋅       ⋅       ⋅       ⋅          ⋅       ⋅       ⋅       ⋅ \n",
       "     ⋅       ⋅       ⋅       ⋅       ⋅          ⋅       ⋅       ⋅       ⋅ \n",
       "     ⋅       ⋅       ⋅       ⋅       ⋅   …      ⋅       ⋅       ⋅       ⋅ \n",
       "     ⋅       ⋅       ⋅       ⋅       ⋅          ⋅       ⋅       ⋅       ⋅ \n",
       "     ⋅       ⋅       ⋅       ⋅       ⋅          ⋅       ⋅       ⋅       ⋅ \n",
       "     ⋅       ⋅       ⋅       ⋅       ⋅          ⋅       ⋅       ⋅       ⋅ \n",
       "     ⋅       ⋅       ⋅       ⋅       ⋅          ⋅       ⋅       ⋅       ⋅ \n",
       "     ⋅       ⋅       ⋅       ⋅       ⋅   …  -100.0      ⋅       ⋅       ⋅ \n",
       "     ⋅       ⋅       ⋅       ⋅       ⋅       177.0  -100.0      ⋅       ⋅ \n",
       "     ⋅       ⋅       ⋅       ⋅       ⋅      -100.0   177.0  -100.0      ⋅ \n",
       "     ⋅       ⋅       ⋅       ⋅       ⋅          ⋅   -100.0   177.0  -100.0\n",
       "     ⋅       ⋅       ⋅       ⋅       ⋅          ⋅       ⋅   -100.0   -25.0"
      ]
     },
     "execution_count": 33,
     "metadata": {},
     "output_type": "execute_result"
    }
   ],
   "source": [
    "H = TriHess(x)"
   ]
  },
  {
   "cell_type": "code",
   "execution_count": 34,
   "metadata": {},
   "outputs": [
    {
     "data": {
      "text/plain": [
       "1000×1000 Array{Float64,2}:\n",
       " -0.235182   -0.485068  -0.623388  …   0.350157    0.0606859  -0.242743\n",
       " -0.485068   -0.979838  -1.25924       0.707318    0.122585   -0.490342\n",
       " -0.623388   -1.25924   -1.60547       0.901796    0.15629    -0.625162\n",
       " -0.618329   -1.24903   -1.59245       0.88886     0.154049   -0.616194\n",
       " -0.471054   -0.95153   -1.21315       0.671487    0.116376   -0.465502\n",
       " -0.215437   -0.435183  -0.554837  …   0.299671    0.0519361  -0.207745\n",
       "  0.0897308   0.181256   0.231093     -0.141068   -0.0244486   0.0977943\n",
       "  0.374261    0.756006   0.963871     -0.549362   -0.0952101   0.38084\n",
       "  0.57271     1.15688    1.47496      -0.831303   -0.144073    0.576293\n",
       "  0.639437    1.29166    1.64681      -0.922044   -0.1598      0.639199\n",
       "  0.559093    1.12937    1.43989   …  -0.800715   -0.138772    0.555088\n",
       "  0.350157    0.707318   0.901796     -0.495221   -0.0858269   0.343308\n",
       "  0.0606859   0.122585   0.15629      -0.0758269  -0.0131416   0.0525663\n",
       "  ⋮                                ⋱                          \n",
       " -0.623388   -1.25924   -1.60547       0.901796    0.15629    -0.625162\n",
       " -0.618329   -1.24903   -1.59245       0.88886     0.154049   -0.616194\n",
       " -0.471054   -0.95153   -1.21315   …   0.671487    0.116376   -0.465502\n",
       " -0.215437   -0.435183  -0.554837      0.299671    0.0519361  -0.207745\n",
       "  0.0897308   0.181256   0.231093     -0.141068   -0.0244486   0.0977943\n",
       "  0.374261    0.756006   0.963871     -0.549362   -0.0952101   0.38084\n",
       "  0.57271     1.15688    1.47496      -0.831303   -0.144073    0.576293\n",
       "  0.639437    1.29166    1.64681   …  -0.922044   -0.1598      0.639199\n",
       "  0.559093    1.12937    1.43989      -0.800715   -0.138772    0.555088\n",
       "  0.350157    0.707318   0.901796     -0.495221   -0.0858269   0.343308\n",
       "  0.0606859   0.122585   0.15629      -0.0858269  -0.0131416   0.0525663\n",
       " -0.242743   -0.490342  -0.625162      0.343308    0.0525663  -0.250265"
      ]
     },
     "execution_count": 34,
     "metadata": {},
     "output_type": "execute_result"
    }
   ],
   "source": [
    "inv(H)"
   ]
  },
  {
   "cell_type": "markdown",
   "metadata": {},
   "source": [
    "Factoriser la matrice n'implique pas le même niveau de remplissage. Dans le cas présent, il est remarquable de noter que la structure creuse est parfaitement respectée."
   ]
  },
  {
   "cell_type": "code",
   "execution_count": 35,
   "metadata": {},
   "outputs": [
    {
     "data": {
      "text/plain": [
       "LDLt{Float64,SymTridiagonal{Float64,Array{Float64,1}}}\n",
       "L factor:\n",
       "1000×1000 UnitLowerTriangular{Float64,SymTridiagonal{Float64,Array{Float64,1}}}:\n",
       "  1.0        ⋅          ⋅       …    ⋅         ⋅        ⋅         ⋅ \n",
       " -0.49505   1.0         ⋅            ⋅         ⋅        ⋅         ⋅ \n",
       "  0.0      -0.784344   1.0           ⋅         ⋅        ⋅         ⋅ \n",
       "  0.0       0.0       -1.01455       ⋅         ⋅        ⋅         ⋅ \n",
       "  0.0       0.0        0.0           ⋅         ⋅        ⋅         ⋅ \n",
       "  0.0       0.0        0.0      …    ⋅         ⋅        ⋅         ⋅ \n",
       "  0.0       0.0        0.0           ⋅         ⋅        ⋅         ⋅ \n",
       "  0.0       0.0        0.0           ⋅         ⋅        ⋅         ⋅ \n",
       "  0.0       0.0        0.0           ⋅         ⋅        ⋅         ⋅ \n",
       "  0.0       0.0        0.0           ⋅         ⋅        ⋅         ⋅ \n",
       "  0.0       0.0        0.0      …    ⋅         ⋅        ⋅         ⋅ \n",
       "  0.0       0.0        0.0           ⋅         ⋅        ⋅         ⋅ \n",
       "  0.0       0.0        0.0           ⋅         ⋅        ⋅         ⋅ \n",
       "  ⋮                             ⋱                                \n",
       "  0.0       0.0        0.0           ⋅         ⋅        ⋅         ⋅ \n",
       "  0.0       0.0        0.0           ⋅         ⋅        ⋅         ⋅ \n",
       "  0.0       0.0        0.0      …    ⋅         ⋅        ⋅         ⋅ \n",
       "  0.0       0.0        0.0           ⋅         ⋅        ⋅         ⋅ \n",
       "  0.0       0.0        0.0           ⋅         ⋅        ⋅         ⋅ \n",
       "  0.0       0.0        0.0           ⋅         ⋅        ⋅         ⋅ \n",
       "  0.0       0.0        0.0           ⋅         ⋅        ⋅         ⋅ \n",
       "  0.0       0.0        0.0      …    ⋅         ⋅        ⋅         ⋅ \n",
       "  0.0       0.0        0.0          1.0        ⋅        ⋅         ⋅ \n",
       "  0.0       0.0        0.0         -1.61688   1.0       ⋅         ⋅ \n",
       "  0.0       0.0        0.0          0.0      -6.53094  1.0        ⋅ \n",
       "  0.0       0.0        0.0          0.0       0.0      0.210042  1.0\n",
       "D factor:\n",
       "1000×1000 Diagonal{Float64,Array{Float64,1}}:\n",
       " 202.0     ⋅       ⋅        ⋅        ⋅      …    ⋅          ⋅       ⋅ \n",
       "    ⋅   127.495    ⋅        ⋅        ⋅           ⋅          ⋅       ⋅ \n",
       "    ⋅      ⋅     98.5656    ⋅        ⋅           ⋅          ⋅       ⋅ \n",
       "    ⋅      ⋅       ⋅      75.5447    ⋅           ⋅          ⋅       ⋅ \n",
       "    ⋅      ⋅       ⋅        ⋅      44.6281       ⋅          ⋅       ⋅ \n",
       "    ⋅      ⋅       ⋅        ⋅        ⋅      …    ⋅          ⋅       ⋅ \n",
       "    ⋅      ⋅       ⋅        ⋅        ⋅           ⋅          ⋅       ⋅ \n",
       "    ⋅      ⋅       ⋅        ⋅        ⋅           ⋅          ⋅       ⋅ \n",
       "    ⋅      ⋅       ⋅        ⋅        ⋅           ⋅          ⋅       ⋅ \n",
       "    ⋅      ⋅       ⋅        ⋅        ⋅           ⋅          ⋅       ⋅ \n",
       "    ⋅      ⋅       ⋅        ⋅        ⋅      …    ⋅          ⋅       ⋅ \n",
       "    ⋅      ⋅       ⋅        ⋅        ⋅           ⋅          ⋅       ⋅ \n",
       "    ⋅      ⋅       ⋅        ⋅        ⋅           ⋅          ⋅       ⋅ \n",
       "   ⋮                                        ⋱                     \n",
       "    ⋅      ⋅       ⋅        ⋅        ⋅           ⋅          ⋅       ⋅ \n",
       "    ⋅      ⋅       ⋅        ⋅        ⋅           ⋅          ⋅       ⋅ \n",
       "    ⋅      ⋅       ⋅        ⋅        ⋅      …    ⋅          ⋅       ⋅ \n",
       "    ⋅      ⋅       ⋅        ⋅        ⋅           ⋅          ⋅       ⋅ \n",
       "    ⋅      ⋅       ⋅        ⋅        ⋅           ⋅          ⋅       ⋅ \n",
       "    ⋅      ⋅       ⋅        ⋅        ⋅           ⋅          ⋅       ⋅ \n",
       "    ⋅      ⋅       ⋅        ⋅        ⋅           ⋅          ⋅       ⋅ \n",
       "    ⋅      ⋅       ⋅        ⋅        ⋅      …    ⋅          ⋅       ⋅ \n",
       "    ⋅      ⋅       ⋅        ⋅        ⋅           ⋅          ⋅       ⋅ \n",
       "    ⋅      ⋅       ⋅        ⋅        ⋅         15.3117      ⋅       ⋅ \n",
       "    ⋅      ⋅       ⋅        ⋅        ⋅           ⋅      -476.094    ⋅ \n",
       "    ⋅      ⋅       ⋅        ⋅        ⋅           ⋅          ⋅     -3.99576"
      ]
     },
     "execution_count": 35,
     "metadata": {},
     "output_type": "execute_result"
    }
   ],
   "source": [
    "factorize(H)"
   ]
  },
  {
   "cell_type": "markdown",
   "metadata": {},
   "source": [
    "Cela permet à nouveau de privilégier la résolutions de systèmes linéaires par factorisation à l'inversion de matrice, mais l'effort de calcul pour la factorisation reste significatif."
   ]
  },
  {
   "cell_type": "code",
   "execution_count": 36,
   "metadata": {},
   "outputs": [
    {
     "data": {
      "text/plain": [
       "BenchmarkTools.Trial: \n",
       "  memory estimate:  15.91 KiB\n",
       "  allocs estimate:  3\n",
       "  --------------\n",
       "  minimum time:     12.600 μs (0.00% GC)\n",
       "  median time:      13.699 μs (0.00% GC)\n",
       "  mean time:        17.592 μs (4.38% GC)\n",
       "  maximum time:     3.401 ms (99.12% GC)\n",
       "  --------------\n",
       "  samples:          10000\n",
       "  evals/sample:     1"
      ]
     },
     "execution_count": 36,
     "metadata": {},
     "output_type": "execute_result"
    }
   ],
   "source": [
    "@benchmark factorize(H)"
   ]
  },
  {
   "cell_type": "code",
   "execution_count": 37,
   "metadata": {},
   "outputs": [
    {
     "data": {
      "text/plain": [
       "BenchmarkTools.Trial: \n",
       "  memory estimate:  23.81 KiB\n",
       "  allocs estimate:  3\n",
       "  --------------\n",
       "  minimum time:     20.299 μs (0.00% GC)\n",
       "  median time:      22.301 μs (0.00% GC)\n",
       "  mean time:        29.287 μs (4.01% GC)\n",
       "  maximum time:     3.196 ms (98.50% GC)\n",
       "  --------------\n",
       "  samples:          10000\n",
       "  evals/sample:     1"
      ]
     },
     "execution_count": 37,
     "metadata": {},
     "output_type": "execute_result"
    }
   ],
   "source": [
    "@benchmark H\\v"
   ]
  },
  {
   "cell_type": "markdown",
   "metadata": {},
   "source": [
    "Malheureusement, tous les problèmes ne présentent pas une structure aussi intéressante. Néanmoins, l'implémentation directe du produit matrice-vecteur permet de contourner un autre problème: le stockage des matrices en grande dimension. Reprenons le stockage dense. On a"
   ]
  },
  {
   "cell_type": "code",
   "execution_count": 38,
   "metadata": {},
   "outputs": [
    {
     "data": {
      "text/plain": [
       "BenchmarkTools.Trial: \n",
       "  memory estimate:  15.27 MiB\n",
       "  allocs estimate:  6\n",
       "  --------------\n",
       "  minimum time:     32.243 ms (0.00% GC)\n",
       "  median time:      43.500 ms (0.00% GC)\n",
       "  mean time:        47.418 ms (5.48% GC)\n",
       "  maximum time:     136.465 ms (0.00% GC)\n",
       "  --------------\n",
       "  samples:          106\n",
       "  evals/sample:     1"
      ]
     },
     "execution_count": 38,
     "metadata": {},
     "output_type": "execute_result"
    }
   ],
   "source": [
    "@benchmark Hess(x)\\v"
   ]
  },
  {
   "cell_type": "code",
   "execution_count": 39,
   "metadata": {},
   "outputs": [
    {
     "data": {
      "text/plain": [
       "100000-element Array{Float64,1}:\n",
       " 0.25\n",
       " 0.25\n",
       " 0.25\n",
       " 0.25\n",
       " 0.25\n",
       " 0.25\n",
       " 0.25\n",
       " 0.25\n",
       " 0.25\n",
       " 0.25\n",
       " 0.25\n",
       " 0.25\n",
       " 0.25\n",
       " ⋮\n",
       " 0.25\n",
       " 0.25\n",
       " 0.25\n",
       " 0.25\n",
       " 0.25\n",
       " 0.25\n",
       " 0.25\n",
       " 0.25\n",
       " 0.25\n",
       " 0.25\n",
       " 0.25\n",
       " 0.25"
      ]
     },
     "execution_count": 39,
     "metadata": {},
     "output_type": "execute_result"
    }
   ],
   "source": [
    "x = ones(100000)/4\n",
    "v = copy(x)"
   ]
  },
  {
   "cell_type": "code",
   "execution_count": 40,
   "metadata": {},
   "outputs": [
    {
     "ename": "LoadError",
     "evalue": "OutOfMemoryError()",
     "output_type": "error",
     "traceback": [
      "OutOfMemoryError()",
      "",
      "Stacktrace:",
      " [1] Array at .\\boot.jl:408 [inlined]",
      " [2] Array at .\\boot.jl:416 [inlined]",
      " [3] zeros at .\\array.jl:525 [inlined]",
      " [4] zeros at .\\array.jl:522 [inlined]",
      " [5] zeros at .\\array.jl:520 [inlined]",
      " [6] Hess(::Array{Float64,1}) at .\\In[4]:3",
      " [7] ##core#323() at C:\\Users\\slash\\.julia\\packages\\BenchmarkTools\\eCEpo\\src\\execution.jl:371",
      " [8] ##sample#324(::BenchmarkTools.Parameters) at C:\\Users\\slash\\.julia\\packages\\BenchmarkTools\\eCEpo\\src\\execution.jl:377",
      " [9] _run(::BenchmarkTools.Benchmark{Symbol(\"##benchmark#322\")}, ::BenchmarkTools.Parameters; verbose::Bool, pad::String, kwargs::Base.Iterators.Pairs{Symbol,Integer,NTuple{4,Symbol},NamedTuple{(:samples, :evals, :gctrial, :gcsample),Tuple{Int64,Int64,Bool,Bool}}}) at C:\\Users\\slash\\.julia\\packages\\BenchmarkTools\\eCEpo\\src\\execution.jl:405",
      " [10] (::Base.var\"#inner#2\"{Base.Iterators.Pairs{Symbol,Integer,NTuple{5,Symbol},NamedTuple{(:verbose, :samples, :evals, :gctrial, :gcsample),Tuple{Bool,Int64,Int64,Bool,Bool}}},typeof(BenchmarkTools._run),Tuple{BenchmarkTools.Benchmark{Symbol(\"##benchmark#322\")},BenchmarkTools.Parameters}})() at .\\essentials.jl:713",
      " [11] #invokelatest#1 at .\\essentials.jl:714 [inlined]",
      " [12] #run_result#37 at C:\\Users\\slash\\.julia\\packages\\BenchmarkTools\\eCEpo\\src\\execution.jl:32 [inlined]",
      " [13] run(::BenchmarkTools.Benchmark{Symbol(\"##benchmark#322\")}, ::BenchmarkTools.Parameters; progressid::Nothing, nleaves::Float64, ndone::Float64, kwargs::Base.Iterators.Pairs{Symbol,Integer,NTuple{5,Symbol},NamedTuple{(:verbose, :samples, :evals, :gctrial, :gcsample),Tuple{Bool,Int64,Int64,Bool,Bool}}}) at C:\\Users\\slash\\.julia\\packages\\BenchmarkTools\\eCEpo\\src\\execution.jl:94",
      " [14] #warmup#45 at C:\\Users\\slash\\.julia\\packages\\BenchmarkTools\\eCEpo\\src\\execution.jl:141 [inlined]",
      " [15] warmup(::BenchmarkTools.Benchmark{Symbol(\"##benchmark#322\")}) at C:\\Users\\slash\\.julia\\packages\\BenchmarkTools\\eCEpo\\src\\execution.jl:141",
      " [16] top-level scope at C:\\Users\\slash\\.julia\\packages\\BenchmarkTools\\eCEpo\\src\\execution.jl:287",
      " [17] include_string(::Function, ::Module, ::String, ::String) at .\\loading.jl:1091",
      " [18] execute_code(::String, ::String) at C:\\Users\\slash\\.julia\\packages\\IJulia\\rWZ9e\\src\\execute_request.jl:27",
      " [19] execute_request(::ZMQ.Socket, ::IJulia.Msg) at C:\\Users\\slash\\.julia\\packages\\IJulia\\rWZ9e\\src\\execute_request.jl:86",
      " [20] #invokelatest#1 at .\\essentials.jl:710 [inlined]",
      " [21] invokelatest at .\\essentials.jl:709 [inlined]",
      " [22] eventloop(::ZMQ.Socket) at C:\\Users\\slash\\.julia\\packages\\IJulia\\rWZ9e\\src\\eventloop.jl:8",
      " [23] (::IJulia.var\"#15#18\")() at .\\task.jl:356"
     ]
    }
   ],
   "source": [
    "@benchmark Hess(x)\\v"
   ]
  },
  {
   "cell_type": "code",
   "execution_count": 41,
   "metadata": {},
   "outputs": [
    {
     "data": {
      "text/plain": [
       "BenchmarkTools.Trial: \n",
       "  memory estimate:  4.58 MiB\n",
       "  allocs estimate:  13\n",
       "  --------------\n",
       "  minimum time:     2.608 ms (0.00% GC)\n",
       "  median time:      3.552 ms (0.00% GC)\n",
       "  mean time:        4.582 ms (6.16% GC)\n",
       "  maximum time:     21.029 ms (19.69% GC)\n",
       "  --------------\n",
       "  samples:          1089\n",
       "  evals/sample:     1"
      ]
     },
     "execution_count": 41,
     "metadata": {},
     "output_type": "execute_result"
    }
   ],
   "source": [
    "@benchmark TriHess(x)\\v"
   ]
  },
  {
   "cell_type": "code",
   "execution_count": 42,
   "metadata": {},
   "outputs": [
    {
     "data": {
      "text/plain": [
       "BenchmarkTools.Trial: \n",
       "  memory estimate:  285.57 GiB\n",
       "  allocs estimate:  4162741289\n",
       "  --------------\n",
       "  minimum time:     455.704 s (4.84% GC)\n",
       "  median time:      455.704 s (4.84% GC)\n",
       "  mean time:        455.704 s (4.84% GC)\n",
       "  maximum time:     455.704 s (4.84% GC)\n",
       "  --------------\n",
       "  samples:          1\n",
       "  evals/sample:     1"
      ]
     },
     "execution_count": 42,
     "metadata": {},
     "output_type": "execute_result"
    }
   ],
   "source": [
    "@benchmark Hv2(x)"
   ]
  },
  {
   "cell_type": "markdown",
   "metadata": {},
   "source": [
    "Lorsque le nombre de variables devient trop grand, la résolution directe du système linéaire avec une matrice dense est prohibitive (le code a pu résulter sur une erreur de débordement mémoire), alors qu'il est raisonnable de calculer le produit matrice-vecteur pour quelques itérations, ouvrant la voie aux méthodes de gradient conjugué tronqués. Exploiter la structure reste cependant à nouveau plus efficace."
   ]
  },
  {
   "cell_type": "code",
   "execution_count": null,
   "metadata": {},
   "outputs": [],
   "source": []
  }
 ],
 "metadata": {
  "kernelspec": {
   "display_name": "Julia 1.7.1",
   "language": "julia",
   "name": "julia-1.7"
  },
  "language_info": {
   "file_extension": ".jl",
   "mimetype": "application/julia",
   "name": "julia",
   "version": "1.7.1"
  }
 },
 "nbformat": 4,
 "nbformat_minor": 2
}
