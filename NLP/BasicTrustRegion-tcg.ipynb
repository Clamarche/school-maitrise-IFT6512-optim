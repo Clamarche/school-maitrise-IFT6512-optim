{
 "cells": [
  {
   "cell_type": "markdown",
   "metadata": {},
   "source": [
    "# Méthode de Steihaug-Toint"
   ]
  },
  {
   "cell_type": "code",
   "execution_count": 1,
   "metadata": {
    "scrolled": false
   },
   "outputs": [
    {
     "data": {
      "text/plain": [
       "false"
      ]
     },
     "execution_count": 1,
     "metadata": {},
     "output_type": "execute_result"
    }
   ],
   "source": [
    "using BenchmarkTools\n",
    "using LinearAlgebra\n",
    "using ForwardDiff\n",
    "\n",
    "verbose = false"
   ]
  },
  {
   "cell_type": "markdown",
   "metadata": {},
   "source": [
    "## Algorithme de région de confiance basique"
   ]
  },
  {
   "cell_type": "markdown",
   "metadata": {},
   "source": [
    "Nous allons regrouper les constantes dans la structure `BasicTrustRegion`."
   ]
  },
  {
   "cell_type": "code",
   "execution_count": 2,
   "metadata": {
    "scrolled": true
   },
   "outputs": [],
   "source": [
    "struct BasicTrustRegion{T <: Real}\n",
    "    η1:: T\n",
    "    η2:: T\n",
    "    γ1:: T\n",
    "    γ2:: T\n",
    "end\n",
    "\n",
    "function BTRDefaults()\n",
    "    return BasicTrustRegion(0.01,0.9,0.5,0.5)\n",
    "end\n",
    "\n",
    "# We define a type to store the state at a given iteration.\n",
    "mutable struct BTRState\n",
    "    iter::Int\n",
    "    x::Vector\n",
    "    xcand::Vector\n",
    "    g::Vector\n",
    "    step::Vector\n",
    "    Δ::Float64\n",
    "    ρ::Float64\n",
    "\n",
    "    tol::Float64\n",
    "\n",
    "    trace\n",
    "    keepTrace::Bool\n",
    "    \n",
    "    function BTRState()\n",
    "        state = new()\n",
    "        state.tol = 1e-6\n",
    "        state.keepTrace = false\n",
    "        return state\n",
    "    end\n",
    "end"
   ]
  },
  {
   "cell_type": "code",
   "execution_count": 3,
   "metadata": {
    "scrolled": false
   },
   "outputs": [
    {
     "data": {
      "text/plain": [
       "acceptCandidate! (generic function with 1 method)"
      ]
     },
     "execution_count": 3,
     "metadata": {},
     "output_type": "execute_result"
    }
   ],
   "source": [
    "function acceptCandidate!(state::BTRState, b::BasicTrustRegion)\n",
    "    # If the iteration is successful, update the iterate\n",
    "    if (state.ρ >= b.η1)\n",
    "        return true\n",
    "    else\n",
    "        return false\n",
    "    end\n",
    "end"
   ]
  },
  {
   "cell_type": "code",
   "execution_count": 4,
   "metadata": {
    "scrolled": false
   },
   "outputs": [
    {
     "data": {
      "text/plain": [
       "updateRadius! (generic function with 1 method)"
      ]
     },
     "execution_count": 4,
     "metadata": {},
     "output_type": "execute_result"
    }
   ],
   "source": [
    "function updateRadius!(state::BTRState, b::BasicTrustRegion)\n",
    "    if (state.ρ >= b.η2)\n",
    "        stepnorm = norm(state.step)\n",
    "        state.Δ = min(1e20,max(4*stepnorm,state.Δ))\n",
    "    elseif (state.ρ >= b.η1)\n",
    "        state.Δ *= b.γ2\n",
    "    else\n",
    "        state.Δ *= b.γ1\n",
    "    end\n",
    "end"
   ]
  },
  {
   "cell_type": "markdown",
   "metadata": {},
   "source": [
    "## Algorithme de région de confiance de base"
   ]
  },
  {
   "cell_type": "code",
   "execution_count": 5,
   "metadata": {},
   "outputs": [
    {
     "data": {
      "text/plain": [
       "btr (generic function with 4 methods)"
      ]
     },
     "execution_count": 5,
     "metadata": {},
     "output_type": "execute_result"
    }
   ],
   "source": [
    "function btr(f::Function, ∇f::Function, ∇2f::Function, Step::Function,\n",
    "             x0::Vector, state:: BTRState = BTRState(), ApproxH:: Bool = false, verbose::Bool = false)\n",
    "    \n",
    "    b = BTRDefaults()\n",
    "    state.iter = 0\n",
    "    state.x = x0\n",
    "    n = length(x0)\n",
    "\n",
    "    tol2 = state.tol*state.tol\n",
    "    \n",
    "    state.g = zeros(n)\n",
    "    \n",
    "    fx = f(x0)\n",
    "    state.g = ∇f(x0)\n",
    "    state.Δ = 0.1*norm(state.g) # 1.0\n",
    "\n",
    "    if (ApproxH)\n",
    "        # A better initialization procedure should be used with quasi-Newton approximations\n",
    "        # We could rely on some preconditioner.\n",
    "        H = zeros(n,n)+I\n",
    "        y = zeros(n)\n",
    "        gcand = zeros(n)\n",
    "    else\n",
    "        H = ∇2f(x0)\n",
    "    end\n",
    "    \n",
    "    nmax = 1000\n",
    "    if (state.keepTrace)\n",
    "        state.trace= x0'\n",
    "    end\n",
    "    \n",
    "    function model(s:: AbstractVector{T}, g:: AbstractVector{T}, H:: AbstractMatrix{T}) where T\n",
    "        return dot(s, g)+0.5*dot(s, H*s)\n",
    "    end\n",
    "    \n",
    "    while (dot(state.g,state.g) > tol2 && state.iter < nmax)\n",
    "        # Compute the step by approximately minimize the model\n",
    "        state.step = Step(state.g, H, state.Δ)\n",
    "        state.xcand = state.x+state.step\n",
    "        \n",
    "        # Compute the actual reduction over the predicted reduction\n",
    "        fcand = f(state.xcand)\n",
    "        state.ρ = (fcand-fx)/(model(state.step, state.g, H))\n",
    "\n",
    "       if (ApproxH)\n",
    "            gcand = ∇f(state.xcand)\n",
    "            y = gcand-state.g\n",
    "            sy = dot(state.step,y)\n",
    "#            if (sy < 1e-6)\n",
    "#                println(state.iter, \". \", state.ρ, \" \", state.Δ, \" \", norm(state.step), \" \", (model(state.step, state.g, H)), \" \", norm(y), \" \", sy, \" \", norm(state.g))\n",
    "#            end\n",
    "            H = ∇2f(H, y, state.step)\n",
    "        end\n",
    "\n",
    "        if (acceptCandidate!(state, b))\n",
    "            state.x = copy(state.xcand)\n",
    "            if (ApproxH == false)\n",
    "                state.g = ∇f(state.x)\n",
    "                H = ∇2f(state.x)\n",
    "            else\n",
    "                state.g = copy(gcand)\n",
    "            end\n",
    "            fx = fcand\n",
    "        end\n",
    "\n",
    "        if (state.keepTrace)\n",
    "            state.trace= [state.trace ; state.x']\n",
    "        end\n",
    "        \n",
    "        updateRadius!(state, b)\n",
    "        state.iter += 1\n",
    "    end\n",
    "    \n",
    "    return state\n",
    "end"
   ]
  },
  {
   "cell_type": "code",
   "execution_count": 6,
   "metadata": {
    "scrolled": false
   },
   "outputs": [
    {
     "data": {
      "text/plain": [
       "CauchyStep (generic function with 1 method)"
      ]
     },
     "execution_count": 6,
     "metadata": {},
     "output_type": "execute_result"
    }
   ],
   "source": [
    "function CauchyStep(g::Vector, H::Matrix, Δ::Float64)\n",
    "    q = dot(g,H*g)\n",
    "    normg = norm(g)\n",
    "    if (q <= 0)\n",
    "        τ = 1.0\n",
    "    else\n",
    "        τ = min((normg*normg*normg)/(q*Δ),1.0)\n",
    "    end\n",
    "    return -τ*g*Δ/normg\n",
    "end"
   ]
  },
  {
   "cell_type": "code",
   "execution_count": 7,
   "metadata": {
    "scrolled": false
   },
   "outputs": [
    {
     "data": {
      "text/plain": [
       "BFGSUpdate (generic function with 1 method)"
      ]
     },
     "execution_count": 7,
     "metadata": {},
     "output_type": "execute_result"
    }
   ],
   "source": [
    "function BFGSUpdate(B:: Matrix, y:: Vector, s:: Vector)\n",
    "    sy = dot(s,y)\n",
    "    if (sy > 1e-12)\n",
    "        Bs = B*s\n",
    "        B[:,:] = B - (Bs*Bs')/dot(s, Bs) + (y*y')/sy\n",
    "    end\n",
    "    \n",
    "    return B\n",
    "end"
   ]
  },
  {
   "cell_type": "code",
   "execution_count": 8,
   "metadata": {},
   "outputs": [
    {
     "data": {
      "text/plain": [
       "SR1Update (generic function with 1 method)"
      ]
     },
     "execution_count": 8,
     "metadata": {},
     "output_type": "execute_result"
    }
   ],
   "source": [
    "function SR1Update(B:: Matrix, y:: Vector, s:: Vector)\n",
    "    Bs = B*s\n",
    "    z = y-Bs\n",
    "    den = dot(z,s)\n",
    "    if (abs(den) > 1e-8)\n",
    "        B[:,:] = B + (z*z')/den\n",
    "    end\n",
    "    \n",
    "    return B\n",
    "end"
   ]
  },
  {
   "cell_type": "markdown",
   "metadata": {},
   "source": [
    "## Gradient conjugué tronqué"
   ]
  },
  {
   "cell_type": "code",
   "execution_count": 9,
   "metadata": {
    "scrolled": false
   },
   "outputs": [
    {
     "data": {
      "text/plain": [
       "stopCG (generic function with 3 methods)"
      ]
     },
     "execution_count": 9,
     "metadata": {},
     "output_type": "execute_result"
    }
   ],
   "source": [
    "function stopCG(normg::Float64, normg0::Float64, k::Int, kmax::Int, χ::Float64 = 0.1, θ::Float64 = 0.5)\n",
    "    if ((k == kmax) || (normg <= normg0*min(χ, normg0^θ)))\n",
    "        if (verbose)\n",
    "            println(\"CG stops after $k iterations\")\n",
    "        end\n",
    "        return true\n",
    "    else\n",
    "        return false\n",
    "    end\n",
    "end"
   ]
  },
  {
   "cell_type": "code",
   "execution_count": 10,
   "metadata": {
    "scrolled": false
   },
   "outputs": [
    {
     "data": {
      "text/plain": [
       "TruncatedCG (generic function with 1 method)"
      ]
     },
     "execution_count": 10,
     "metadata": {},
     "output_type": "execute_result"
    }
   ],
   "source": [
    "function TruncatedCG(g::AbstractVector{T}, H::AbstractMatrix{T}, Δ::Float64) where T\n",
    "    n = length(g)\n",
    "    s = zeros(n)\n",
    "\n",
    "    normg0 = norm(g)\n",
    "    v = g\n",
    "    d = -v\n",
    "    gv = dot(g,v)\n",
    "    norm2d = gv\n",
    "    norm2s = 0\n",
    "    sMd = 0\n",
    "    k = 0\n",
    "    Δ2 = Δ*Δ\n",
    "\n",
    "    while (stopCG(norm(g), normg0, k, n) == false)\n",
    "        Hd = H*d  # we can redefine the multiplication operator\n",
    "        κ = dot(d,Hd)\n",
    " \n",
    "        # Is the curvature negative in the direction d?\n",
    "        if (κ <= 0)\n",
    "            if (k == 0)\n",
    "                s = d/norm(d)*Δ\n",
    "            else\n",
    "                σ = (-sMd+sqrt(sMd*sMd+norm2d*(Δ2-dot(s,s))))/norm2d\n",
    "#                σ = (-sMd+sqrt(sMd*sMd+norm2d*(Δ2-norm2s)))/norm2d\n",
    "                s += σ*d\n",
    "            end\n",
    "            break\n",
    "        end\n",
    "\n",
    "        # κ > 0 -- the curvature is positive\n",
    "        α = gv/κ\n",
    "\n",
    "        # Check is the model minimizer is outside the trust region\n",
    "        norm2s += α*(2*sMd+α*norm2d)\n",
    "        if (norm2s >= Δ2)\n",
    "            if (k == 0)\n",
    "                s = d/norm(d)*Δ\n",
    "            else\n",
    "                σ = (-sMd+sqrt(sMd*sMd+norm2d*(Δ2-dot(s,s))))/norm2d\n",
    "                # σ = (-sMd+sqrt(sMd*sMd+norm2d*(Δ2-oldnorm2s)))/norm2d\n",
    "                s += σ*d\n",
    "            end\n",
    "            break\n",
    "        end\n",
    "\n",
    "        # The model minimizer is inside the trust region\n",
    "        s += α*d\n",
    "        g += α*Hd\n",
    "        v = g\n",
    "        newgv = dot(g,v)\n",
    "        β = newgv/gv\n",
    "        gv = newgv\n",
    "        d = -v+β*d\n",
    "        \n",
    "        sMd = β*(sMd+α*norm2d)\n",
    "        norm2d = gv+β*β*norm2d\n",
    "        \n",
    "        k += 1;\n",
    "    end\n",
    "    \n",
    "    return s\n",
    "end"
   ]
  },
  {
   "cell_type": "markdown",
   "metadata": {},
   "source": [
    "## Exemple"
   ]
  },
  {
   "cell_type": "code",
   "execution_count": null,
   "metadata": {
    "scrolled": true
   },
   "outputs": [],
   "source": [
    "function rosenbrock(x::Vector)\n",
    "    return (1.0 - x[1])^2 + 100.0 * (x[2] - x[1]^2)^2\n",
    "end\n",
    "\n",
    "function rosenbrock_gradient(x::Vector)\n",
    "    return [ (-2.0 * (1.0 - x[1]) - 400.0 * (x[2] - x[1]^2) * x[1])\n",
    "             (200.0 * (x[2] - x[1]^2)) ]\n",
    "end\n",
    "\n",
    "function rosenbrock_hessian(x::Vector)\n",
    "    return [ (2.0 - 400.0 * x[2] + 1200.0 * x[1]^2) (-400.0 * x[1]) ;\n",
    "             (-400.0 * x[1]) 200.0 ]\n",
    "end\n",
    "\n",
    "function rosenbrock_gradient!(x::Vector, storage::Vector)\n",
    "    storage[1] = -2.0 * (1.0 - x[1]) - 400.0 * (x[2] - x[1]^2) * x[1]\n",
    "    storage[2] = 200.0 * (x[2] - x[1]^2)\n",
    "end\n",
    "\n",
    "function rosenbrock_hessian!(x::Vector, storage::Matrix)\n",
    "    storage[1, 1] = 2.0 - 400.0 * x[2] + 1200.0 * x[1]^2\n",
    "    storage[1, 2] = -400.0 * x[1]\n",
    "    storage[2, 1] = -400.0 * x[1]\n",
    "    storage[2, 2] = 200.0\n",
    "end"
   ]
  },
  {
   "cell_type": "code",
   "execution_count": null,
   "metadata": {},
   "outputs": [],
   "source": [
    "defaultState = BTRState()"
   ]
  },
  {
   "cell_type": "code",
   "execution_count": null,
   "metadata": {},
   "outputs": [],
   "source": [
    "defaultState.tol"
   ]
  },
  {
   "cell_type": "code",
   "execution_count": null,
   "metadata": {
    "scrolled": false
   },
   "outputs": [],
   "source": [
    "state = btr(rosenbrock, rosenbrock_gradient, rosenbrock_hessian, CauchyStep, [0,0])"
   ]
  },
  {
   "cell_type": "code",
   "execution_count": null,
   "metadata": {},
   "outputs": [],
   "source": [
    "state = btr(rosenbrock, rosenbrock_gradient, rosenbrock_hessian, TruncatedCG, [0,0])"
   ]
  },
  {
   "cell_type": "code",
   "execution_count": null,
   "metadata": {
    "scrolled": false
   },
   "outputs": [],
   "source": [
    "defaultState.tol = 1e-4"
   ]
  },
  {
   "cell_type": "code",
   "execution_count": null,
   "metadata": {},
   "outputs": [],
   "source": [
    "state = btr(rosenbrock, rosenbrock_gradient, rosenbrock_hessian, CauchyStep, [0,0], defaultState)"
   ]
  },
  {
   "cell_type": "code",
   "execution_count": null,
   "metadata": {
    "scrolled": false
   },
   "outputs": [],
   "source": [
    "state = btr(rosenbrock, rosenbrock_gradient, rosenbrock_hessian, TruncatedCG, [0,0], defaultState)"
   ]
  },
  {
   "cell_type": "code",
   "execution_count": null,
   "metadata": {
    "scrolled": true
   },
   "outputs": [],
   "source": [
    "@benchmark btr(rosenbrock, rosenbrock_gradient, rosenbrock_hessian, CauchyStep, [0,0], defaultState)"
   ]
  },
  {
   "cell_type": "code",
   "execution_count": null,
   "metadata": {},
   "outputs": [],
   "source": [
    "@benchmark btr(rosenbrock, rosenbrock_gradient, rosenbrock_hessian, TruncatedCG, [0,0], defaultState)"
   ]
  },
  {
   "cell_type": "code",
   "execution_count": null,
   "metadata": {
    "scrolled": false
   },
   "outputs": [],
   "source": [
    "state = btr(rosenbrock, rosenbrock_gradient, BFGSUpdate, TruncatedCG, [0,0], defaultState, true)"
   ]
  },
  {
   "cell_type": "code",
   "execution_count": null,
   "metadata": {},
   "outputs": [],
   "source": [
    "@benchmark btr(rosenbrock, rosenbrock_gradient, BFGSUpdate, TruncatedCG, [0,0], defaultState, true)"
   ]
  },
  {
   "cell_type": "code",
   "execution_count": null,
   "metadata": {},
   "outputs": [],
   "source": [
    "state = btr(rosenbrock, rosenbrock_gradient, SR1Update, TruncatedCG, [0,0], defaultState, true)"
   ]
  },
  {
   "cell_type": "code",
   "execution_count": null,
   "metadata": {},
   "outputs": [],
   "source": [
    "@benchmark btr(rosenbrock, rosenbrock_gradient, SR1Update, TruncatedCG, [0,0], defaultState, true)"
   ]
  },
  {
   "cell_type": "markdown",
   "metadata": {},
   "source": [
    "\"Trust-Region Methods\", Introduction\n",
    "$$\n",
    "f(x,y) = -10x^2+10y^2+4\\sin(xy)-2x+x^4\n",
    "$$"
   ]
  },
  {
   "cell_type": "code",
   "execution_count": null,
   "metadata": {
    "scrolled": false
   },
   "outputs": [],
   "source": [
    "using ForwardDiff\n",
    "defaultState.tol = 1e-6"
   ]
  },
  {
   "cell_type": "code",
   "execution_count": null,
   "metadata": {
    "scrolled": false
   },
   "outputs": [],
   "source": [
    "f(x::Vector) = -10*x[1]^2+10*x[2]^2+4*sin(x[1]*x[2])-2*x[1]+x[1]^4"
   ]
  },
  {
   "cell_type": "code",
   "execution_count": null,
   "metadata": {
    "scrolled": false
   },
   "outputs": [],
   "source": [
    "g = x -> ForwardDiff.gradient(f, x);\n",
    "H = x -> ForwardDiff.hessian(f, x)\n",
    "\n",
    "function g!(x::Vector, storage::Vector)\n",
    "    s = g(x)\n",
    "    storage[1:length(s)] = s[1:length(s)]\n",
    "end"
   ]
  },
  {
   "cell_type": "code",
   "execution_count": null,
   "metadata": {
    "scrolled": false
   },
   "outputs": [],
   "source": [
    "function H!(x::Vector, storage::Matrix)\n",
    "    s = H(x)\n",
    "    n, m = size(s)\n",
    "    storage[1:n,1:m] = s[1:length(s)]\n",
    "end"
   ]
  },
  {
   "cell_type": "code",
   "execution_count": null,
   "metadata": {
    "scrolled": false
   },
   "outputs": [],
   "source": [
    "state = btr(f, g, H, CauchyStep, [0,0])"
   ]
  },
  {
   "cell_type": "code",
   "execution_count": null,
   "metadata": {
    "scrolled": false
   },
   "outputs": [],
   "source": [
    "state = btr(f, g, H, TruncatedCG, [0,0])"
   ]
  },
  {
   "cell_type": "code",
   "execution_count": null,
   "metadata": {
    "scrolled": true
   },
   "outputs": [],
   "source": [
    "state = btr(f, g, BFGSUpdate, CauchyStep, [0,0], BTRState(), true)"
   ]
  },
  {
   "cell_type": "code",
   "execution_count": null,
   "metadata": {
    "scrolled": false
   },
   "outputs": [],
   "source": [
    "state = btr(f, g, BFGSUpdate, TruncatedCG, [0,0], BTRState(), true)"
   ]
  },
  {
   "cell_type": "code",
   "execution_count": null,
   "metadata": {
    "scrolled": false
   },
   "outputs": [],
   "source": [
    "f([2.30663, -0.332309])"
   ]
  },
  {
   "cell_type": "code",
   "execution_count": null,
   "metadata": {},
   "outputs": [],
   "source": [
    "state = btr(f, g, H, TruncatedCG, [-2.0,-2.0], BTRState())"
   ]
  },
  {
   "cell_type": "code",
   "execution_count": null,
   "metadata": {},
   "outputs": [],
   "source": [
    "f([-2.21022, 0.329748])"
   ]
  },
  {
   "cell_type": "code",
   "execution_count": null,
   "metadata": {},
   "outputs": [],
   "source": [
    "st = BTRState()\n",
    "st.keepTrace = true"
   ]
  },
  {
   "cell_type": "code",
   "execution_count": null,
   "metadata": {
    "scrolled": false
   },
   "outputs": [],
   "source": [
    "state = btr(f, g, BFGSUpdate, TruncatedCG, [-2.0,-2.0], st, true)"
   ]
  },
  {
   "cell_type": "code",
   "execution_count": null,
   "metadata": {},
   "outputs": [],
   "source": [
    "st.trace"
   ]
  },
  {
   "cell_type": "markdown",
   "metadata": {},
   "source": [
    "## Rosenbrock généralisé"
   ]
  },
  {
   "cell_type": "markdown",
   "metadata": {},
   "source": [
    "Les exemples précédents travaillent sur des fonctions à deux dimensions, limitant la capacité d'évaluer les gains du gradient conjugué tronqué. Reprenons la fonction de Rosenbrock généralisée\n",
    "$$\n",
    "f(x) = \\sum_{i = 1}^{n-1} \\left( 100(x_{i+1}^2-x_i)^2 + (x_i-1)^2 \\right).\n",
    "$$\n",
    "avec l'implémentation du gradient et la matrice Hessienne, avec un stockage dense ou creux."
   ]
  },
  {
   "cell_type": "code",
   "execution_count": 11,
   "metadata": {},
   "outputs": [
    {
     "data": {
      "text/plain": [
       "TriHess (generic function with 1 method)"
      ]
     },
     "execution_count": 11,
     "metadata": {},
     "output_type": "execute_result"
    }
   ],
   "source": [
    "function rosenbrock(x::Vector)\n",
    "    return sum(100*(x[i+1]^2 - x[i])^2 + (x[i] - 1)^2 for i in 1:length(x)-1)\n",
    "end\n",
    "\n",
    "function ∇f(x:: Vector)\n",
    "    n = length(x)\n",
    "    g = zeros(n)\n",
    "    for i = 1:n-1\n",
    "        g[i] = -200*(x[i+1]^2-x[i])+2*(x[i]-1)\n",
    "    end\n",
    "    for i = 2:n\n",
    "        g[i] += 400*x[i]*(x[i]^2-x[i-1])\n",
    "    end\n",
    "    return g\n",
    "end\n",
    "\n",
    "function Hess(x:: Vector)\n",
    "    n = length(x)\n",
    "    H = zeros(n,n)\n",
    "    H[1,1] = 202\n",
    "    for i = 2:n\n",
    "        H[i,i-1] = H[i-1,i] = -400*x[i]\n",
    "        H[i,i] = 400*(x[i]^2-x[i-1])+800*x[i]^2 + 202\n",
    "    end\n",
    "    H[n,n] -= 202\n",
    "    return H\n",
    "end\n",
    "\n",
    "function TriHess(x)\n",
    "    n = length(x)\n",
    "    d = zeros(n)\n",
    "    d[1] = 202\n",
    "    d[2:n] = [400*(x[i]^2-x[i-1])+800*x[i]^2 + 202 for i = 2:n]\n",
    "    d[n] -= 202\n",
    "    dl = [-400*x[i] for i = 2:n]\n",
    "    H = SymTridiagonal(d, dl)\n",
    "    return H\n",
    "end"
   ]
  },
  {
   "cell_type": "code",
   "execution_count": 12,
   "metadata": {},
   "outputs": [
    {
     "data": {
      "text/plain": [
       "TriHess! (generic function with 1 method)"
      ]
     },
     "execution_count": 12,
     "metadata": {},
     "output_type": "execute_result"
    }
   ],
   "source": [
    "function ∇f!(x:: Vector, g:: Vector)\n",
    "    g[:] = ∇f(x)\n",
    "    return g\n",
    "end\n",
    "\n",
    "function Hess!(x:: Vector, H:: Matrix)\n",
    "    H[:,:] = Hess(x)\n",
    "    return H\n",
    "end\n",
    "\n",
    "function TriHess!(x:: AbstractVector{T}, H:: AbstractMatrix{T}) where T\n",
    "    n = length(x)\n",
    "    d = zeros(n)\n",
    "    d[1] = 202\n",
    "    d[2:n] = [400*(x[i]^2-x[i-1])+800*x[i]^2 + 202 for i = 2:n]\n",
    "    d[n] -= 202\n",
    "    dl = [-400*x[i] for i = 2:n]\n",
    "    H = SymTridiagonal(d, dl)\n",
    "    return H\n",
    "end"
   ]
  },
  {
   "cell_type": "code",
   "execution_count": 13,
   "metadata": {},
   "outputs": [
    {
     "data": {
      "text/plain": [
       "#14 (generic function with 1 method)"
      ]
     },
     "execution_count": 13,
     "metadata": {},
     "output_type": "execute_result"
    }
   ],
   "source": [
    "gr = x -> ForwardDiff.gradient(rosenbrock, x);\n",
    "Hr = x -> ForwardDiff.hessian(rosenbrock, x)"
   ]
  },
  {
   "cell_type": "code",
   "execution_count": null,
   "metadata": {},
   "outputs": [],
   "source": [
    "n = 5\n",
    "\n",
    "x = 10*ones(n)\n",
    "x[1] = 2\n",
    "x[5] = 5\n",
    "g = zeros(n)\n",
    "H = zeros(n,n)\n",
    "\n",
    "∇f!(x, g)\n",
    "H1 = Hess!(x, H)\n",
    "\n",
    "H = zeros(2,2)\n",
    "H2 = TriHess!(x, H)\n",
    "\n",
    "norm(H1-H2)"
   ]
  },
  {
   "cell_type": "code",
   "execution_count": null,
   "metadata": {},
   "outputs": [],
   "source": [
    "state = btr(rosenbrock, ∇f, TriHess, TruncatedCG, x, BTRState())"
   ]
  },
  {
   "cell_type": "code",
   "execution_count": null,
   "metadata": {},
   "outputs": [],
   "source": [
    "state = btr(rosenbrock, ∇f, Hess, TruncatedCG, x, BTRState())"
   ]
  },
  {
   "cell_type": "code",
   "execution_count": null,
   "metadata": {},
   "outputs": [],
   "source": [
    "state.x"
   ]
  },
  {
   "cell_type": "code",
   "execution_count": null,
   "metadata": {},
   "outputs": [],
   "source": [
    "state.g"
   ]
  },
  {
   "cell_type": "code",
   "execution_count": null,
   "metadata": {},
   "outputs": [],
   "source": [
    "state = btr(rosenbrock, gr, Hr, TruncatedCG, x, BTRState())"
   ]
  },
  {
   "cell_type": "code",
   "execution_count": 23,
   "metadata": {},
   "outputs": [
    {
     "data": {
      "text/plain": [
       "1000-element Array{Float64,1}:\n",
       " 10.0\n",
       " 10.0\n",
       " 10.0\n",
       " 10.0\n",
       " 10.0\n",
       " 10.0\n",
       " 10.0\n",
       " 10.0\n",
       " 10.0\n",
       " 10.0\n",
       " 10.0\n",
       " 10.0\n",
       " 10.0\n",
       "  ⋮\n",
       " 10.0\n",
       " 10.0\n",
       " 10.0\n",
       " 10.0\n",
       " 10.0\n",
       " 10.0\n",
       " 10.0\n",
       " 10.0\n",
       " 10.0\n",
       " 10.0\n",
       " 10.0\n",
       " 10.0"
      ]
     },
     "execution_count": 23,
     "metadata": {},
     "output_type": "execute_result"
    }
   ],
   "source": [
    "n = 1000\n",
    "\n",
    "x = 10*ones(n)"
   ]
  },
  {
   "cell_type": "code",
   "execution_count": 24,
   "metadata": {},
   "outputs": [
    {
     "data": {
      "text/plain": [
       "BenchmarkTools.Trial: \n",
       "  memory estimate:  220.32 MiB\n",
       "  allocs estimate:  3377\n",
       "  --------------\n",
       "  minimum time:     478.532 ms (4.83% GC)\n",
       "  median time:      955.527 ms (7.68% GC)\n",
       "  mean time:        873.954 ms (12.44% GC)\n",
       "  maximum time:     1.274 s (6.44% GC)\n",
       "  --------------\n",
       "  samples:          7\n",
       "  evals/sample:     1"
      ]
     },
     "execution_count": 24,
     "metadata": {},
     "output_type": "execute_result"
    }
   ],
   "source": [
    "@benchmark btr(rosenbrock, ∇f, Hess, TruncatedCG, x, BTRState())"
   ]
  },
  {
   "cell_type": "code",
   "execution_count": 25,
   "metadata": {},
   "outputs": [
    {
     "data": {
      "text/plain": [
       "BenchmarkTools.Trial: \n",
       "  memory estimate:  22.56 MiB\n",
       "  allocs estimate:  3472\n",
       "  --------------\n",
       "  minimum time:     6.086 ms (0.00% GC)\n",
       "  median time:      20.499 ms (18.34% GC)\n",
       "  mean time:        25.787 ms (16.88% GC)\n",
       "  maximum time:     154.513 ms (43.62% GC)\n",
       "  --------------\n",
       "  samples:          194\n",
       "  evals/sample:     1"
      ]
     },
     "execution_count": 25,
     "metadata": {},
     "output_type": "execute_result"
    }
   ],
   "source": [
    "@benchmark btr(rosenbrock, ∇f, TriHess, TruncatedCG, x, BTRState())"
   ]
  },
  {
   "cell_type": "code",
   "execution_count": null,
   "metadata": {},
   "outputs": [],
   "source": [
    "@benchmark btr(rosenbrock, gr, Hr, TruncatedCG, x, BTRState())"
   ]
  },
  {
   "cell_type": "code",
   "execution_count": null,
   "metadata": {},
   "outputs": [],
   "source": [
    "verbose = true\n",
    "btr(rosenbrock, ∇f, Hess, TruncatedCG, x, BTRState())"
   ]
  },
  {
   "cell_type": "code",
   "execution_count": null,
   "metadata": {},
   "outputs": [],
   "source": [
    "verbose = false\n",
    "btr(rosenbrock, ∇f, TriHess, TruncatedCG, x, BTRState())"
   ]
  },
  {
   "cell_type": "code",
   "execution_count": 26,
   "metadata": {},
   "outputs": [
    {
     "data": {
      "text/plain": [
       "BTRState(141, [0.9999999985869749, 0.9999999993548436, 0.9999999996249591, 0.9999999993543301, 0.9999999996215365, 0.999999999821721, 0.9999999999449956, 0.999999999989296, 1.0000000000309988, 1.000000000000124, 0.9999999999737147, 0.9999999999884466, 1.000000000019734, 1.0000000000013136, 1.0000000000049618, 1.0000000000152072, 1.0000000000230216, 0.9999999999486845, 0.9999999999501831, 0.9999999999592727], [0.9999999985869749, 0.9999999993548436, 0.9999999996249591, 0.9999999993543301, 0.9999999996215365, 0.999999999821721, 0.9999999999449956, 0.999999999989296, 1.0000000000309988, 1.000000000000124, 0.9999999999737147, 0.9999999999884466, 1.000000000019734, 1.0000000000013136, 1.0000000000049618, 1.0000000000152072, 1.0000000000230216, 0.9999999999486845, 0.9999999999501831, 0.9999999999592727], [-2.7368529442739487e-8, 6.877972588301305e-8, 1.4053952048140617e-7, -3.455594423793996e-7, -4.9640890492452176e-8, -5.248333769144503e-9, 2.047872182791795e-8, -1.1231267028950116e-9, 3.529279357740385e-8, -1.7612320490927007e-9, -2.1766068280527594e-8, -8.956005714836602e-9, 2.386938380323529e-8, -8.562077269411824e-9, -1.636581536939694e-9, 4.044225843257647e-9, 3.7510963224746967e-8, -4.070000092246327e-8, -1.3099435091238078e-8, -1.2655076985818871e-8], [4.348022819966846e-9, 1.972441365934155e-9, 1.1520040897836277e-9, 1.9152169003735607e-9, 1.2117178696916796e-9, 5.456233297428103e-10, 1.4890384385816876e-10, 2.7110949384872323e-11, -1.27921154569278e-10, -1.265146680523187e-11, 7.667496466346437e-11, 6.9263018536291095e-12, -6.41289370691232e-11, 1.0115493325969325e-11, -3.875225847509844e-11, -3.6090626069069304e-11, -1.0061782400173101e-10, 1.8325667939971228e-10, 1.6442009726558447e-10, 9.076159805696055e-11], 0.47361333522284377, 1.2494696183223202, 1.0e-6, #undef, false)"
      ]
     },
     "execution_count": 26,
     "metadata": {},
     "output_type": "execute_result"
    }
   ],
   "source": [
    "verbose = false\n",
    "n = 20\n",
    "\n",
    "x = 5*ones(n)\n",
    "\n",
    "st = BTRState()\n",
    "state = btr(rosenbrock, ∇f, BFGSUpdate, TruncatedCG, x, st, true)"
   ]
  },
  {
   "cell_type": "code",
   "execution_count": 15,
   "metadata": {},
   "outputs": [
    {
     "data": {
      "text/plain": [
       "8.975453014788778e-7"
      ]
     },
     "execution_count": 15,
     "metadata": {},
     "output_type": "execute_result"
    }
   ],
   "source": [
    "norm(state.g)"
   ]
  },
  {
   "cell_type": "code",
   "execution_count": 27,
   "metadata": {},
   "outputs": [
    {
     "data": {
      "text/plain": [
       "BTRState(96, [0.9999999997242937, 0.9999999996877356, 0.9999999997923018, 1.000000000024184, 1.0000000000465294, 0.999999999895213, 0.9999999996788608, 0.9999999998726479, 1.0000000000732938, 1.0000000000730773, 1.0000000000422449, 1.0000000000928155, 1.0000000000774838, 1.0000000001234934, 1.0000000003950658, 1.0000000001388851, 1.0000000000991078, 1.0000000000260634, 0.9999999999811718, 0.9999999997315961], [0.9999999997242937, 0.9999999996877356, 0.9999999997923018, 1.000000000024184, 1.0000000000465294, 0.999999999895213, 0.9999999996788608, 0.9999999998726479, 1.0000000000732938, 1.0000000000730773, 1.0000000000422449, 1.0000000000928155, 1.0000000000774838, 1.0000000001234934, 1.0000000003950658, 1.0000000001388851, 1.0000000000991078, 1.0000000000260634, 0.9999999999811718, 0.9999999997315961], [6.921309259055874e-8, -1.1952714991187517e-7, -9.28814089998592e-8, 8.869985413077059e-8, 7.886369335480771e-8, 4.847380951821027e-9, -2.289258704133555e-7, -2.8468668759105437e-8, 9.515032584865179e-8, 2.7008000726878418e-8, -2.402777798929534e-8, 4.5109695539829884e-8, -8.884823541627154e-9, -6.527939743479012e-8, 2.9090446417844034e-7, -5.8506540507729305e-8, 3.332664899837583e-8, -5.996368291284656e-9, 7.807037483202022e-8, -2.0719181920137996e-7], [3.289114143757425e-10, 3.691207415806266e-10, 2.4503311773293795e-10, -2.6115184660089306e-11, -5.7672488176593847e-11, 1.1987853999210501e-10, 3.7382397532574205e-10, 1.4805465236733312e-10, -8.770233060896774e-11, -8.642246857066685e-11, -4.933857742324501e-11, -1.078151121792091e-10, -9.07007676415803e-11, -1.4491739523308957e-10, -4.6354859668520877e-10, -1.6308777492335974e-10, -1.175935911904325e-10, -2.992898928161763e-11, 2.2994933107344715e-11, 3.1791910718858287e-10], 0.018591001677231603, 1.4600010252942546, 1.0e-6, #undef, false)"
      ]
     },
     "execution_count": 27,
     "metadata": {},
     "output_type": "execute_result"
    }
   ],
   "source": [
    "state = btr(rosenbrock, ∇f, SR1Update, TruncatedCG, x, st, true)"
   ]
  },
  {
   "cell_type": "code",
   "execution_count": 28,
   "metadata": {},
   "outputs": [
    {
     "data": {
      "text/plain": [
       "BTRState(40, [0.9999999999727507, 1.0000000000168785, 1.000000000061885, 1.00000000005114, 1.0000000000438944, 1.0000000000194906, 1.0000000000040106, 1.0000000000221276, 1.000000000019801, 1.0000000000111218, 1.0000000000100315, 1.0000000000000686, 0.9999999999909356, 0.9999999999602891, 0.9999999999417244, 1.0000000000020663, 1.0000000000504174, 1.0000000000109437, 0.9999999999686523, 0.9999999999726698], [0.9999999999727507, 1.0000000000168785, 1.000000000061885, 1.00000000005114, 1.0000000000438944, 1.0000000000194906, 1.0000000000040106, 1.0000000000221276, 1.000000000019801, 1.0000000000111218, 1.0000000000100315, 1.0000000000000686, 0.9999999999909356, 0.9999999999602891, 0.9999999999417244, 1.0000000000020663, 1.0000000000504174, 1.0000000000109437, 0.9999999999686523, 0.9999999999726698], [-1.22557608506213e-8, 3.0580045166883488e-9, 3.480131960651811e-8, 8.930507001397062e-9, 1.5729987535384004e-8, 3.676072779129609e-10, -1.262871496267756e-8, 1.2647240588493472e-8, 6.540890496036971e-9, -7.890186282002586e-10, 5.5754414418988276e-9, -3.180971042129825e-10, 6.77437106417703e-9, -1.2854314056502247e-8, -4.333433611768041e-8, 5.213743214989532e-9, 4.5314267895551054e-8, 3.3376794660172733e-9, -2.4855774104679877e-8, -9.325118454939712e-9], [-7.329901845542071e-7, -3.5610008636758034e-7, -1.7309989964727456e-7, -8.835929893218627e-8, -4.3959250142528994e-8, -1.922962530505543e-8, -5.3657306647341506e-9, 3.0157625229539802e-9, 1.4328855457277886e-9, -3.864626124216368e-9, -4.681144998076191e-9, -4.312593779043345e-10, 7.1737547758165044e-9, 1.7975016012539055e-8, 2.1957609857448976e-8, 2.2699259437348466e-8, 5.9658246792666714e-9, 2.561071744152173e-9, -8.905669897177127e-9, -4.518760865201636e-9], 0.48208409828063825, 0.9999994536083051, 1.0e-6, #undef, false)"
      ]
     },
     "execution_count": 28,
     "metadata": {},
     "output_type": "execute_result"
    }
   ],
   "source": [
    "btr(rosenbrock, ∇f, TriHess, TruncatedCG, x, st)"
   ]
  },
  {
   "cell_type": "code",
   "execution_count": 29,
   "metadata": {},
   "outputs": [
    {
     "data": {
      "text/plain": [
       "BenchmarkTools.Trial: \n",
       "  memory estimate:  2.21 MiB\n",
       "  allocs estimate:  7924\n",
       "  --------------\n",
       "  minimum time:     1.350 ms (0.00% GC)\n",
       "  median time:      2.577 ms (0.00% GC)\n",
       "  mean time:        3.813 ms (3.84% GC)\n",
       "  maximum time:     89.308 ms (34.21% GC)\n",
       "  --------------\n",
       "  samples:          1311\n",
       "  evals/sample:     1"
      ]
     },
     "execution_count": 29,
     "metadata": {},
     "output_type": "execute_result"
    }
   ],
   "source": [
    "@benchmark btr(rosenbrock, ∇f, SR1Update, TruncatedCG, x, st, true)"
   ]
  },
  {
   "cell_type": "code",
   "execution_count": 30,
   "metadata": {},
   "outputs": [
    {
     "data": {
      "text/plain": [
       "BenchmarkTools.Trial: \n",
       "  memory estimate:  1.51 MiB\n",
       "  allocs estimate:  3591\n",
       "  --------------\n",
       "  minimum time:     1.708 ms (0.00% GC)\n",
       "  median time:      2.349 ms (0.00% GC)\n",
       "  mean time:        2.825 ms (2.81% GC)\n",
       "  maximum time:     22.876 ms (0.00% GC)\n",
       "  --------------\n",
       "  samples:          1768\n",
       "  evals/sample:     1"
      ]
     },
     "execution_count": 30,
     "metadata": {},
     "output_type": "execute_result"
    }
   ],
   "source": [
    "@benchmark btr(rosenbrock, gr, Hr, TruncatedCG, x, st)"
   ]
  },
  {
   "cell_type": "code",
   "execution_count": 31,
   "metadata": {},
   "outputs": [
    {
     "data": {
      "text/plain": [
       "BenchmarkTools.Trial: \n",
       "  memory estimate:  1.45 MiB\n",
       "  allocs estimate:  3525\n",
       "  --------------\n",
       "  minimum time:     1.969 ms (0.00% GC)\n",
       "  median time:      3.310 ms (0.00% GC)\n",
       "  mean time:        4.179 ms (2.48% GC)\n",
       "  maximum time:     48.042 ms (0.00% GC)\n",
       "  --------------\n",
       "  samples:          1189\n",
       "  evals/sample:     1"
      ]
     },
     "execution_count": 31,
     "metadata": {},
     "output_type": "execute_result"
    }
   ],
   "source": [
    "@benchmark btr(rosenbrock, ∇f, Hr, TruncatedCG, x, st)"
   ]
  },
  {
   "cell_type": "code",
   "execution_count": 32,
   "metadata": {},
   "outputs": [
    {
     "data": {
      "text/plain": [
       "BenchmarkTools.Trial: \n",
       "  memory estimate:  722.61 KiB\n",
       "  allocs estimate:  3225\n",
       "  --------------\n",
       "  minimum time:     611.300 μs (0.00% GC)\n",
       "  median time:      836.101 μs (0.00% GC)\n",
       "  mean time:        1.029 ms (2.39% GC)\n",
       "  maximum time:     8.208 ms (0.00% GC)\n",
       "  --------------\n",
       "  samples:          4848\n",
       "  evals/sample:     1"
      ]
     },
     "execution_count": 32,
     "metadata": {},
     "output_type": "execute_result"
    }
   ],
   "source": [
    "@benchmark btr(rosenbrock, ∇f, Hess, TruncatedCG, x, st)"
   ]
  },
  {
   "cell_type": "code",
   "execution_count": 33,
   "metadata": {},
   "outputs": [
    {
     "data": {
      "text/plain": [
       "BenchmarkTools.Trial: \n",
       "  memory estimate:  667.89 KiB\n",
       "  allocs estimate:  3331\n",
       "  --------------\n",
       "  minimum time:     526.600 μs (0.00% GC)\n",
       "  median time:      704.900 μs (0.00% GC)\n",
       "  mean time:        915.076 μs (2.21% GC)\n",
       "  maximum time:     31.373 ms (0.00% GC)\n",
       "  --------------\n",
       "  samples:          5453\n",
       "  evals/sample:     1"
      ]
     },
     "execution_count": 33,
     "metadata": {},
     "output_type": "execute_result"
    }
   ],
   "source": [
    "@benchmark btr(rosenbrock, ∇f, TriHess, TruncatedCG, x, st)"
   ]
  },
  {
   "cell_type": "code",
   "execution_count": null,
   "metadata": {},
   "outputs": [],
   "source": [
    "#compute the second derivative of rosenbrook at x in the direction v\n",
    "function gvr(x:: AbstractVector{T}) where T\n",
    "    n = length(x)\n",
    "    t = (-200*(x[2]^2-x[1])+2*(x[1]-1))*v[1]\n",
    "    for i = 2:n-1\n",
    "        t += (-200*(x[i+1]^2-x[i])+2*(x[i]-1)+400*x[i]*(x[i]^2-x[i-1]))*v[i]\n",
    "    end\n",
    "    t += 400*x[n]*(x[n]^2-x[n-1])*v[n]\n",
    "    return t\n",
    "end\n",
    "\n",
    "v = ones(n)\n",
    "\n",
    "Hxv = x -> ForwardDiff.gradient(gvr, x)\n",
    "norm(Hxv(x)-TriHess(x)*v)"
   ]
  },
  {
   "cell_type": "code",
   "execution_count": null,
   "metadata": {},
   "outputs": [],
   "source": [
    "mutable struct NotYetComputedMatrix{T} <: AbstractMatrix{T}\n",
    "    x::Vector{T}\n",
    "    f::Function\n",
    "    function NotYetComputedMatrix(f::Function, T::Type = Float64)\n",
    "        n = new{T}()\n",
    "        n.f = f\n",
    "        return n\n",
    "    end\n",
    "end\n",
    "\n",
    "function H!(x::Vector{T}, stack::NotYetComputedMatrix{T}) where T\n",
    "    stack.x = x\n",
    "    stack\n",
    "end\n",
    "\n",
    "import Base.*\n",
    "function *(h::NotYetComputedMatrix{T}, v::AbstractVector{T}) where T\n",
    "    return h.f(h.x, v)\n",
    "end\n",
    "\n",
    "import Base.show\n",
    "show(io::IO, mine::MIME{Symbol(\"text/plain\")}, x::NotYetComputedMatrix{T}) where T = show(io, \"NYCM{$T}\")"
   ]
  },
  {
   "cell_type": "code",
   "execution_count": null,
   "metadata": {},
   "outputs": [],
   "source": [
    "NotYetComputedMatrix(Hxv)"
   ]
  },
  {
   "cell_type": "code",
   "execution_count": null,
   "metadata": {},
   "outputs": [],
   "source": []
  }
 ],
 "metadata": {
  "kernelspec": {
   "display_name": "Julia 1.5.0",
   "language": "julia",
   "name": "julia-1.5"
  },
  "language_info": {
   "file_extension": ".jl",
   "mimetype": "application/julia",
   "name": "julia",
   "version": "1.5.0"
  }
 },
 "nbformat": 4,
 "nbformat_minor": 2
}
