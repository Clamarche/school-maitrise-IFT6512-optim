{
 "cells": [
  {
   "cell_type": "markdown",
   "metadata": {},
   "source": [
    "# Algorithme de région de confiance basique"
   ]
  },
  {
   "cell_type": "code",
   "execution_count": null,
   "metadata": {
    "scrolled": false
   },
   "outputs": [],
   "source": [
    "using BenchmarkTools\n",
    "using LinearAlgebra\n",
    "using ForwardDiff\n",
    "\n",
    "verbose = false"
   ]
  },
  {
   "cell_type": "markdown",
   "metadata": {},
   "source": [
    "Nous allons regrouper les constantes dans la structure `BasicTrustRegion`."
   ]
  },
  {
   "cell_type": "code",
   "execution_count": null,
   "metadata": {
    "scrolled": true
   },
   "outputs": [],
   "source": [
    "struct BasicTrustRegion{T <: Real}\n",
    "    η1:: T\n",
    "    η2:: T\n",
    "    γ1:: T\n",
    "    γ2:: T\n",
    "end\n",
    "\n",
    "function BTRDefaults()\n",
    "    return BasicTrustRegion(0.01,0.9,0.5,0.5)\n",
    "end\n",
    "\n",
    "# We define a type to store the state at a given iteration.\n",
    "mutable struct BTRState\n",
    "    iter::Int\n",
    "    x::Vector\n",
    "    xcand::Vector\n",
    "    g::Vector\n",
    "    step::Vector\n",
    "    Δ::Float64\n",
    "    ρ::Float64\n",
    "\n",
    "    tol::Float64\n",
    "\n",
    "    trace\n",
    "    keepTrace::Bool\n",
    "    \n",
    "    function BTRState()\n",
    "        state = new()\n",
    "        state.tol = 1e-6\n",
    "        state.keepTrace = false\n",
    "        return state\n",
    "    end\n",
    "end"
   ]
  },
  {
   "cell_type": "code",
   "execution_count": null,
   "metadata": {
    "scrolled": false
   },
   "outputs": [],
   "source": [
    "function acceptCandidate!(state::BTRState, b::BasicTrustRegion)\n",
    "    # If the iteration is successful, update the iterate\n",
    "    if (state.ρ >= b.η1)\n",
    "        return true\n",
    "    else\n",
    "        return false\n",
    "    end\n",
    "end"
   ]
  },
  {
   "cell_type": "code",
   "execution_count": null,
   "metadata": {
    "scrolled": false
   },
   "outputs": [],
   "source": [
    "function updateRadius!(state::BTRState, b::BasicTrustRegion)\n",
    "    if (state.ρ >= b.η2)\n",
    "        stepnorm = norm(state.step)\n",
    "        state.Δ = min(1e20,max(4*stepnorm,state.Δ))\n",
    "    elseif (state.ρ >= b.η1)\n",
    "        state.Δ *= b.γ2\n",
    "    else\n",
    "        state.Δ *= b.γ1\n",
    "    end\n",
    "end"
   ]
  },
  {
   "cell_type": "markdown",
   "metadata": {},
   "source": [
    "## Algorithme de région de confiance de base"
   ]
  },
  {
   "cell_type": "code",
   "execution_count": null,
   "metadata": {},
   "outputs": [],
   "source": [
    "function btr(f::Function, ∇f::Function, ∇2f::Function, Step::Function,\n",
    "             x0::Vector, state:: BTRState = BTRState(), ApproxH::Bool = false, verbose::Bool = false)\n",
    "    \n",
    "    b = BTRDefaults()\n",
    "    state.iter = 0\n",
    "    state.x = x0\n",
    "    n = length(x0)\n",
    "\n",
    "    tol2 = state.tol*state.tol\n",
    "    \n",
    "    state.g = zeros(n)\n",
    "    \n",
    "    fx = f(x0)\n",
    "    state.g = ∇f(x0)\n",
    "    state.Δ = 0.1*norm(state.g) # 1.0\n",
    "\n",
    "    if (ApproxH)\n",
    "        # A better initialization procedure should be used with quasi-Newton approximations\n",
    "        # We could rely on some preconditioner.\n",
    "        H = zeros(n,n)+I\n",
    "        y = zeros(n)\n",
    "        gcand = zeros(n)\n",
    "    else\n",
    "        H = ∇2f(x0)\n",
    "    end\n",
    "    \n",
    "    nmax = 1000\n",
    "    if (state.keepTrace)\n",
    "        state.trace= x0'\n",
    "    end\n",
    "    \n",
    "    function model(s:: AbstractVector{T}, g:: AbstractVector{T}, H:: AbstractMatrix{T}) where T\n",
    "        return dot(s, g)+0.5*dot(s, H*s)\n",
    "    end\n",
    "    \n",
    "    while (dot(state.g,state.g) > tol2 && state.iter < nmax)\n",
    "        # Compute the step by approximately minimize the model\n",
    "        state.step = Step(state.g, H, state.Δ)\n",
    "        state.xcand = state.x+state.step\n",
    "        \n",
    "        # Compute the actual reduction over the predicted reduction\n",
    "        fcand = f(state.xcand)\n",
    "        state.ρ = (fcand-fx)/(model(state.step, state.g, H))\n",
    "\n",
    "       if (ApproxH)\n",
    "            gcand = ∇f(state.xcand)\n",
    "            y = gcand-state.g\n",
    "            sy = dot(state.step,y)\n",
    "#            if (sy < 1e-6)\n",
    "#                println(state.iter, \". \", state.ρ, \" \", state.Δ, \" \", norm(state.step), \" \", (model(state.step, state.g, H)), \" \", norm(y), \" \", sy, \" \", norm(state.g))\n",
    "#            end\n",
    "            H = ∇2f(H, y, state.step)\n",
    "        end\n",
    "\n",
    "        if (acceptCandidate!(state, b))\n",
    "            state.x = copy(state.xcand)\n",
    "            if (ApproxH == false)\n",
    "                state.g = ∇f(state.x)\n",
    "                H = ∇2f(state.x)\n",
    "            else\n",
    "                state.g = copy(gcand)\n",
    "            end\n",
    "            fx = fcand\n",
    "        end\n",
    "\n",
    "        if (state.keepTrace)\n",
    "            state.trace= [state.trace ; state.x']\n",
    "        end\n",
    "        \n",
    "        updateRadius!(state, b)\n",
    "        state.iter += 1\n",
    "    end\n",
    "    \n",
    "    return state\n",
    "end"
   ]
  },
  {
   "cell_type": "code",
   "execution_count": null,
   "metadata": {
    "scrolled": false
   },
   "outputs": [],
   "source": [
    "function CauchyStep(g::Vector, H::Matrix, Δ::Float64)\n",
    "    q = dot(g,H*g)\n",
    "    normg = norm(g)\n",
    "    if (q <= 0)\n",
    "        τ = 1.0\n",
    "    else\n",
    "        τ = min((normg*normg*normg)/(q*Δ),1.0)\n",
    "    end\n",
    "    return -τ*g*Δ/normg\n",
    "end"
   ]
  },
  {
   "cell_type": "code",
   "execution_count": null,
   "metadata": {
    "scrolled": false
   },
   "outputs": [],
   "source": [
    "function BFGSUpdate(B:: Matrix, y:: Vector, s:: Vector)\n",
    "    sy = dot(s,y)\n",
    "    if (sy > 1e-12)\n",
    "        Bs = B*s\n",
    "        B[:,:] = B - (Bs*Bs')/dot(s, Bs) + (y*y')/sy\n",
    "    end\n",
    "    \n",
    "    return B\n",
    "end"
   ]
  },
  {
   "cell_type": "code",
   "execution_count": null,
   "metadata": {},
   "outputs": [],
   "source": [
    "function SR1Update(B:: Matrix, y:: Vector, s:: Vector)\n",
    "    Bs = B*s\n",
    "    z = y-Bs\n",
    "    den = dot(z,s)\n",
    "    if (abs(den) > 1e-8)\n",
    "        B[:,:] = B + (z*z')/den\n",
    "    end\n",
    "    \n",
    "    return B\n",
    "end"
   ]
  },
  {
   "cell_type": "markdown",
   "metadata": {},
   "source": [
    "## Gradient conjugué tronqué"
   ]
  },
  {
   "cell_type": "code",
   "execution_count": null,
   "metadata": {
    "scrolled": false
   },
   "outputs": [],
   "source": [
    "function stopCG(normg::Float64, normg0::Float64, k::Int, kmax::Int, χ::Float64 = 0.1, θ::Float64 = 0.5)\n",
    "    if ((k == kmax) || (normg <= normg0*min(χ, normg0^θ)))\n",
    "        if (verbose)\n",
    "            println(\"CG stops after $k iterations\")\n",
    "        end\n",
    "        return true\n",
    "    else\n",
    "        return false\n",
    "    end\n",
    "end"
   ]
  },
  {
   "cell_type": "code",
   "execution_count": null,
   "metadata": {
    "scrolled": false
   },
   "outputs": [],
   "source": [
    "function TruncatedCG(g::AbstractVector{T}, H::AbstractMatrix{T}, Δ::Float64) where T\n",
    "    n = length(g)\n",
    "    s = zeros(n)\n",
    "\n",
    "    normg0 = norm(g)\n",
    "    v = g\n",
    "    d = -v\n",
    "    gv = dot(g,v)\n",
    "    norm2d = gv\n",
    "    norm2s = 0\n",
    "    sMd = 0\n",
    "    k = 0\n",
    "    Δ2 = Δ*Δ\n",
    "\n",
    "    while (stopCG(norm(g), normg0, k, n) == false)\n",
    "        Hd = H*d  # we can redefine the multiplication operator\n",
    "        κ = dot(d,Hd)\n",
    " \n",
    "        # Is the curvature negative in the direction d?\n",
    "        if (κ <= 0)\n",
    "            if (k == 0)\n",
    "                s = d/norm(d)*Δ\n",
    "            else\n",
    "            σ = (-sMd+sqrt(sMd*sMd+norm2d*(Δ2-dot(s,s))))/norm2d\n",
    "            s += σ*d\n",
    "            end\n",
    "            break\n",
    "        end\n",
    "\n",
    "        α = gv/κ\n",
    "\n",
    "        # Check is the model minimizer is outside the trust region\n",
    "        norm2s += α*(2*sMd+α*norm2d)\n",
    "        if (norm2s >= Δ2)\n",
    "            if (k == 0)\n",
    "                s = d/norm(d)*Δ\n",
    "            else\n",
    "            σ = (-sMd+sqrt(sMd*sMd+norm2d*(Δ2-dot(s,s))))/norm2d\n",
    "            s += σ*d\n",
    "            end\n",
    "            break\n",
    "        end\n",
    "\n",
    "        # The model minimizer is inside the trust region\n",
    "        s += α*d\n",
    "        g += α*Hd\n",
    "        v = g\n",
    "        newgv = dot(g,v)\n",
    "        β = newgv/gv\n",
    "        gv = newgv\n",
    "        d = -v+β*d\n",
    "        \n",
    "        sMd = β*(sMd+α*norm2d)\n",
    "        norm2d = gv+β*β*norm2d\n",
    "        \n",
    "        k += 1;\n",
    "    end\n",
    "    \n",
    "    return s\n",
    "end"
   ]
  },
  {
   "cell_type": "markdown",
   "metadata": {},
   "source": [
    "## Exemple"
   ]
  },
  {
   "cell_type": "code",
   "execution_count": null,
   "metadata": {
    "scrolled": true
   },
   "outputs": [],
   "source": [
    "function rosenbrock(x::Vector)\n",
    "    return (1.0 - x[1])^2 + 100.0 * (x[2] - x[1]^2)^2\n",
    "end\n",
    "\n",
    "function rosenbrock_gradient(x::Vector)\n",
    "    return [ (-2.0 * (1.0 - x[1]) - 400.0 * (x[2] - x[1]^2) * x[1])\n",
    "             (200.0 * (x[2] - x[1]^2)) ]\n",
    "end\n",
    "\n",
    "function rosenbrock_hessian(x::Vector)\n",
    "    return [ (2.0 - 400.0 * x[2] + 1200.0 * x[1]^2) (-400.0 * x[1]) ;\n",
    "             (-400.0 * x[1]) 200.0 ]\n",
    "end\n",
    "\n",
    "function rosenbrock_gradient!(x::Vector, storage::Vector)\n",
    "    storage[1] = -2.0 * (1.0 - x[1]) - 400.0 * (x[2] - x[1]^2) * x[1]\n",
    "    storage[2] = 200.0 * (x[2] - x[1]^2)\n",
    "end\n",
    "\n",
    "function rosenbrock_hessian!(x::Vector, storage::Matrix)\n",
    "    storage[1, 1] = 2.0 - 400.0 * x[2] + 1200.0 * x[1]^2\n",
    "    storage[1, 2] = -400.0 * x[1]\n",
    "    storage[2, 1] = -400.0 * x[1]\n",
    "    storage[2, 2] = 200.0\n",
    "end"
   ]
  },
  {
   "cell_type": "code",
   "execution_count": null,
   "metadata": {},
   "outputs": [],
   "source": [
    "defaultState = BTRState()"
   ]
  },
  {
   "cell_type": "code",
   "execution_count": null,
   "metadata": {},
   "outputs": [],
   "source": [
    "defaultState.tol"
   ]
  },
  {
   "cell_type": "code",
   "execution_count": null,
   "metadata": {
    "scrolled": false
   },
   "outputs": [],
   "source": [
    "state = btr(rosenbrock, rosenbrock_gradient, rosenbrock_hessian, CauchyStep, [0,0])"
   ]
  },
  {
   "cell_type": "code",
   "execution_count": null,
   "metadata": {},
   "outputs": [],
   "source": [
    "state = btr(rosenbrock, rosenbrock_gradient, rosenbrock_hessian, TruncatedCG, [0,0])"
   ]
  },
  {
   "cell_type": "code",
   "execution_count": null,
   "metadata": {
    "scrolled": false
   },
   "outputs": [],
   "source": [
    "defaultState.tol = 1e-4"
   ]
  },
  {
   "cell_type": "code",
   "execution_count": null,
   "metadata": {},
   "outputs": [],
   "source": [
    "state = btr(rosenbrock, rosenbrock_gradient, rosenbrock_hessian, CauchyStep, [0,0], defaultState)"
   ]
  },
  {
   "cell_type": "code",
   "execution_count": null,
   "metadata": {
    "scrolled": false
   },
   "outputs": [],
   "source": [
    "state = btr(rosenbrock, rosenbrock_gradient, rosenbrock_hessian, TruncatedCG, [0,0], defaultState)"
   ]
  },
  {
   "cell_type": "code",
   "execution_count": null,
   "metadata": {
    "scrolled": true
   },
   "outputs": [],
   "source": [
    "@benchmark btr(rosenbrock, rosenbrock_gradient, rosenbrock_hessian, CauchyStep, [0,0], defaultState)"
   ]
  },
  {
   "cell_type": "code",
   "execution_count": null,
   "metadata": {},
   "outputs": [],
   "source": [
    "@benchmark btr(rosenbrock, rosenbrock_gradient, rosenbrock_hessian, TruncatedCG, [0,0], defaultState)"
   ]
  },
  {
   "cell_type": "code",
   "execution_count": null,
   "metadata": {
    "scrolled": false
   },
   "outputs": [],
   "source": [
    "state = btr(rosenbrock, rosenbrock_gradient, BFGSUpdate, TruncatedCG, [0,0], defaultState, true)"
   ]
  },
  {
   "cell_type": "code",
   "execution_count": null,
   "metadata": {},
   "outputs": [],
   "source": [
    "state = btr(rosenbrock, rosenbrock_gradient, SR1Update, TruncatedCG, [0,0], defaultState, true)"
   ]
  },
  {
   "cell_type": "code",
   "execution_count": null,
   "metadata": {},
   "outputs": [],
   "source": [
    "# @benchmark btr(rosenbrock, rosenbrock_gradient!, BFGSUpdate, TruncatedCG, [0,0], defaultState, true)"
   ]
  },
  {
   "cell_type": "code",
   "execution_count": null,
   "metadata": {},
   "outputs": [],
   "source": [
    "# state = btr(rosenbrock, rosenbrock_gradient!, BFGSUpdate, CauchyStep, [0,0], defaultState, true)"
   ]
  },
  {
   "cell_type": "markdown",
   "metadata": {},
   "source": [
    "\"Trust-Region Methods\", Introduction\n",
    "$$\n",
    "f(x,y) = -10x^2+10y^2+4\\sin(xy)-2x+x^4\n",
    "$$"
   ]
  },
  {
   "cell_type": "code",
   "execution_count": null,
   "metadata": {
    "scrolled": false
   },
   "outputs": [],
   "source": [
    "using ForwardDiff\n",
    "defaultState.tol = 1e-6"
   ]
  },
  {
   "cell_type": "code",
   "execution_count": null,
   "metadata": {
    "scrolled": false
   },
   "outputs": [],
   "source": [
    "f(x::Vector) = -10*x[1]^2+10*x[2]^2+4*sin(x[1]*x[2])-2*x[1]+x[1]^4"
   ]
  },
  {
   "cell_type": "code",
   "execution_count": null,
   "metadata": {
    "scrolled": false
   },
   "outputs": [],
   "source": [
    "g = x -> ForwardDiff.gradient(f, x);\n",
    "H = x -> ForwardDiff.hessian(f, x)\n",
    "\n",
    "function g!(x::Vector, storage::Vector)\n",
    "    s = g(x)\n",
    "    storage[1:length(s)] = s[1:length(s)]\n",
    "end"
   ]
  },
  {
   "cell_type": "code",
   "execution_count": null,
   "metadata": {
    "scrolled": false
   },
   "outputs": [],
   "source": [
    "function H!(x::Vector, storage::Matrix)\n",
    "    s = H(x)\n",
    "    n, m = size(s)\n",
    "    storage[1:n,1:m] = s[1:length(s)]\n",
    "end"
   ]
  },
  {
   "cell_type": "code",
   "execution_count": null,
   "metadata": {
    "scrolled": false
   },
   "outputs": [],
   "source": [
    "state = btr(f, g, H, CauchyStep, [0,0])"
   ]
  },
  {
   "cell_type": "code",
   "execution_count": null,
   "metadata": {
    "scrolled": false
   },
   "outputs": [],
   "source": [
    "state = btr(f, g, H, TruncatedCG, [0,0])"
   ]
  },
  {
   "cell_type": "code",
   "execution_count": null,
   "metadata": {
    "scrolled": true
   },
   "outputs": [],
   "source": [
    "#state = btr(f, g!, BFGSUpdate, CauchyStep, [0,0], BTRState(), true)"
   ]
  },
  {
   "cell_type": "code",
   "execution_count": null,
   "metadata": {
    "scrolled": false
   },
   "outputs": [],
   "source": [
    "#state = btr(f, g!, BFGSUpdate, TruncatedCG, [0,0], BTRState(), true)"
   ]
  },
  {
   "cell_type": "code",
   "execution_count": null,
   "metadata": {
    "scrolled": false
   },
   "outputs": [],
   "source": [
    "f([2.30663, -0.332309])"
   ]
  },
  {
   "cell_type": "code",
   "execution_count": null,
   "metadata": {},
   "outputs": [],
   "source": [
    "state = btr(f, g, H, TruncatedCG, [-2.0,-2.0], BTRState())"
   ]
  },
  {
   "cell_type": "code",
   "execution_count": null,
   "metadata": {},
   "outputs": [],
   "source": [
    "# f([-2.21022, 0.329748])"
   ]
  },
  {
   "cell_type": "code",
   "execution_count": null,
   "metadata": {},
   "outputs": [],
   "source": [
    "# st = BTRState()\n",
    "# st.keepTrace = true"
   ]
  },
  {
   "cell_type": "code",
   "execution_count": null,
   "metadata": {
    "scrolled": false
   },
   "outputs": [],
   "source": [
    "# state = btr(f, g!, BFGSUpdate, TruncatedCG, [-2.0,-2.0], st, true)"
   ]
  },
  {
   "cell_type": "code",
   "execution_count": null,
   "metadata": {},
   "outputs": [],
   "source": [
    "# st.trace"
   ]
  },
  {
   "cell_type": "markdown",
   "metadata": {},
   "source": [
    "## Rosenbrock généralisé"
   ]
  },
  {
   "cell_type": "markdown",
   "metadata": {},
   "source": [
    "Les exemples précédents travaillent sur des fonctions à deux dimensions, limitant la capacité d'évaluer les gains du gradient conjugué tronqué. Reprenons la fonction de Rosenbrock généralisée\n",
    "$$\n",
    "f(x) = \\sum_{i = 1}^{n-1} \\left( 100(x_{i+1}^2-x_i)^2 + (x_i-1)^2 \\right).\n",
    "$$\n",
    "avec l'implémentation du gradient et la matrice Hessienne, avec un stockage dense ou creux."
   ]
  },
  {
   "cell_type": "code",
   "execution_count": null,
   "metadata": {},
   "outputs": [],
   "source": [
    "function rosenbrock(x::Vector)\n",
    "    return sum(100*(x[i+1]^2 - x[i])^2 + (x[i] - 1)^2 for i in 1:length(x)-1)\n",
    "end\n",
    "\n",
    "function ∇f(x:: Vector)\n",
    "    n = length(x)\n",
    "    g = zeros(n)\n",
    "    for i = 1:n-1\n",
    "        g[i] = -200*(x[i+1]^2-x[i])+2*(x[i]-1)\n",
    "    end\n",
    "    for i = 2:n\n",
    "        g[i] += 400*x[i]*(x[i]^2-x[i-1])\n",
    "    end\n",
    "    return g\n",
    "end\n",
    "\n",
    "function Hess(x:: Vector)\n",
    "    n = length(x)\n",
    "    H = zeros(n,n)\n",
    "    H[1,1] = 202\n",
    "    for i = 2:n\n",
    "        H[i,i-1] = H[i-1,i] = -400*x[i]\n",
    "        H[i,i] = 400*(x[i]^2-x[i-1])+800*x[i]^2 + 202\n",
    "    end\n",
    "    H[n,n] -= 202\n",
    "    return H\n",
    "end\n",
    "\n",
    "function TriHess(x)\n",
    "    n = length(x)\n",
    "    d = zeros(n)\n",
    "    d[1] = 202\n",
    "    d[2:n] = [400*(x[i]^2-x[i-1])+800*x[i]^2 + 202 for i = 2:n]\n",
    "    d[n] -= 202\n",
    "    dl = [-400*x[i] for i = 2:n]\n",
    "    H = SymTridiagonal(d, dl)\n",
    "    return H\n",
    "end"
   ]
  },
  {
   "cell_type": "code",
   "execution_count": null,
   "metadata": {},
   "outputs": [],
   "source": [
    "function ∇f!(x:: Vector, g:: Vector)\n",
    "    g[:] = ∇f(x)\n",
    "    return g\n",
    "end\n",
    "\n",
    "function Hess!(x:: Vector, H:: Matrix)\n",
    "    H[:,:] = Hess(x)\n",
    "    return H\n",
    "end\n",
    "\n",
    "function TriHess!(x:: AbstractVector{T}, H:: AbstractMatrix{T}) where T\n",
    "    n = length(x)\n",
    "    d = zeros(n)\n",
    "    d[1] = 202\n",
    "    d[2:n] = [400*(x[i]^2-x[i-1])+800*x[i]^2 + 202 for i = 2:n]\n",
    "    d[n] -= 202\n",
    "    dl = [-400*x[i] for i = 2:n]\n",
    "    H = SymTridiagonal(d, dl)\n",
    "    return H\n",
    "end"
   ]
  },
  {
   "cell_type": "code",
   "execution_count": null,
   "metadata": {},
   "outputs": [],
   "source": [
    "gr = x -> ForwardDiff.gradient(rosenbrock, x);\n",
    "Hr = x -> ForwardDiff.hessian(rosenbrock, x)"
   ]
  },
  {
   "cell_type": "code",
   "execution_count": null,
   "metadata": {},
   "outputs": [],
   "source": [
    "n = 5\n",
    "\n",
    "x = 10*ones(n)\n",
    "x[1] = 2\n",
    "x[5] = 5\n",
    "g = zeros(n)\n",
    "H = zeros(n,n)\n",
    "\n",
    "∇f!(x, g)\n",
    "H1 = Hess!(x, H)\n",
    "\n",
    "H = zeros(2,2)\n",
    "H2 = TriHess!(x, H)\n",
    "\n",
    "norm(H1-H2)"
   ]
  },
  {
   "cell_type": "code",
   "execution_count": null,
   "metadata": {},
   "outputs": [],
   "source": [
    "state = btr(rosenbrock, ∇f, TriHess, TruncatedCG, x, BTRState())"
   ]
  },
  {
   "cell_type": "code",
   "execution_count": null,
   "metadata": {},
   "outputs": [],
   "source": [
    "state = btr(rosenbrock, ∇f, Hess, TruncatedCG, x, BTRState())"
   ]
  },
  {
   "cell_type": "code",
   "execution_count": null,
   "metadata": {},
   "outputs": [],
   "source": [
    "state.x"
   ]
  },
  {
   "cell_type": "code",
   "execution_count": null,
   "metadata": {},
   "outputs": [],
   "source": [
    "state.g"
   ]
  },
  {
   "cell_type": "code",
   "execution_count": null,
   "metadata": {},
   "outputs": [],
   "source": [
    "state = btr(rosenbrock, gr, Hr, TruncatedCG, x, BTRState())"
   ]
  },
  {
   "cell_type": "code",
   "execution_count": null,
   "metadata": {},
   "outputs": [],
   "source": [
    "n = 1000\n",
    "\n",
    "x = 10*ones(n)"
   ]
  },
  {
   "cell_type": "code",
   "execution_count": null,
   "metadata": {},
   "outputs": [],
   "source": [
    "@benchmark btr(rosenbrock, ∇f, Hess, TruncatedCG, x, BTRState())"
   ]
  },
  {
   "cell_type": "code",
   "execution_count": null,
   "metadata": {},
   "outputs": [],
   "source": [
    "@benchmark btr(rosenbrock, ∇f, TriHess, TruncatedCG, x, BTRState())"
   ]
  },
  {
   "cell_type": "code",
   "execution_count": null,
   "metadata": {},
   "outputs": [],
   "source": [
    "@benchmark btr(rosenbrock, gr, Hr, TruncatedCG, x, BTRState())"
   ]
  },
  {
   "cell_type": "code",
   "execution_count": null,
   "metadata": {},
   "outputs": [],
   "source": [
    "verbose = true\n",
    "btr(rosenbrock, ∇f, Hess, TruncatedCG, x, BTRState())"
   ]
  },
  {
   "cell_type": "code",
   "execution_count": null,
   "metadata": {},
   "outputs": [],
   "source": [
    "verbose = false\n",
    "btr(rosenbrock, ∇f, TriHess, TruncatedCG, x, BTRState())"
   ]
  },
  {
   "cell_type": "code",
   "execution_count": null,
   "metadata": {},
   "outputs": [],
   "source": [
    "n = 50\n",
    "\n",
    "x = 5*ones(n)\n",
    "\n",
    "st = BTRState()\n",
    "state = btr(rosenbrock, ∇f, BFGSUpdate, TruncatedCG, x, st, true)"
   ]
  },
  {
   "cell_type": "code",
   "execution_count": null,
   "metadata": {},
   "outputs": [],
   "source": [
    "norm(state.g)"
   ]
  },
  {
   "cell_type": "code",
   "execution_count": null,
   "metadata": {},
   "outputs": [],
   "source": [
    "state = btr(rosenbrock, ∇f, SR1Update, TruncatedCG, x, st, true)"
   ]
  },
  {
   "cell_type": "code",
   "execution_count": null,
   "metadata": {},
   "outputs": [],
   "source": [
    "@benchmark btr(rosenbrock, ∇f, SR1Update, TruncatedCG, x, st, true)"
   ]
  },
  {
   "cell_type": "code",
   "execution_count": null,
   "metadata": {},
   "outputs": [],
   "source": [
    "@benchmark btr(rosenbrock, gr, Hr, TruncatedCG, x, st)"
   ]
  },
  {
   "cell_type": "code",
   "execution_count": null,
   "metadata": {},
   "outputs": [],
   "source": [
    "@benchmark btr(rosenbrock, ∇f, Hr, TruncatedCG, x, st)"
   ]
  },
  {
   "cell_type": "code",
   "execution_count": null,
   "metadata": {},
   "outputs": [],
   "source": [
    "@benchmark btr(rosenbrock, ∇f, Hess, TruncatedCG, x, st)"
   ]
  },
  {
   "cell_type": "code",
   "execution_count": null,
   "metadata": {},
   "outputs": [],
   "source": [
    "@benchmark btr(rosenbrock, ∇f, TriHess, TruncatedCG, x, st)"
   ]
  },
  {
   "cell_type": "code",
   "execution_count": null,
   "metadata": {},
   "outputs": [],
   "source": [
    "#compute the second derivative of rosenbrook at x in the direction v\n",
    "function gvr(x:: AbstractVector{T}) where T\n",
    "    n = length(x)\n",
    "    t = (-200*(x[2]^2-x[1])+2*(x[1]-1))*v[1]\n",
    "    for i = 2:n-1\n",
    "        t += (-200*(x[i+1]^2-x[i])+2*(x[i]-1)+400*x[i]*(x[i]^2-x[i-1]))*v[i]\n",
    "    end\n",
    "    t += 400*x[n]*(x[n]^2-x[n-1])*v[n]\n",
    "    return t\n",
    "end\n",
    "\n",
    "v = ones(n)\n",
    "\n",
    "Hxv = x -> ForwardDiff.gradient(gvr, x)\n",
    "norm(Hxv(x)-TriHess(x)*v)"
   ]
  },
  {
   "cell_type": "code",
   "execution_count": null,
   "metadata": {},
   "outputs": [],
   "source": [
    "mutable struct NotYetComputedMatrix{T} <: AbstractMatrix{T}\n",
    "    x::Vector{T}\n",
    "    f::Function\n",
    "    function NotYetComputedMatrix(f::Function, T::Type = Float64)\n",
    "        n = new{T}()\n",
    "        n.f = f\n",
    "        return n\n",
    "    end\n",
    "end\n",
    "\n",
    "function H!(x::Vector{T}, stack::NotYetComputedMatrix{T}) where T\n",
    "    stack.x = x\n",
    "    stack\n",
    "end\n",
    "\n",
    "import Base.*\n",
    "function *(h::NotYetComputedMatrix{T}, v::AbstractVector{T}) where T\n",
    "    return h.f(h.x, v)\n",
    "end\n",
    "\n",
    "import Base.show\n",
    "show(io::IO, mine::MIME{Symbol(\"text/plain\")}, x::NotYetComputedMatrix{T}) where T = show(io, \"NYCM{$T}\")"
   ]
  },
  {
   "cell_type": "code",
   "execution_count": null,
   "metadata": {},
   "outputs": [],
   "source": [
    "NotYetComputedMatrix(Hxv)"
   ]
  }
 ],
 "metadata": {
  "kernelspec": {
   "display_name": "Julia 1.5.0",
   "language": "julia",
   "name": "julia-1.5"
  },
  "language_info": {
   "file_extension": ".jl",
   "mimetype": "application/julia",
   "name": "julia",
   "version": "1.5.0"
  }
 },
 "nbformat": 4,
 "nbformat_minor": 2
}
