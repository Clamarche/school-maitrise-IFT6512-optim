{
 "cells": [
  {
   "cell_type": "markdown",
   "metadata": {},
   "source": [
    "# Méthode de Newton"
   ]
  },
  {
   "cell_type": "code",
   "execution_count": null,
   "metadata": {},
   "outputs": [],
   "source": [
    "using Plots\n",
    "plotly()"
   ]
  },
  {
   "cell_type": "markdown",
   "metadata": {},
   "source": [
    "## Newton-Raphson en optimisation"
   ]
  },
  {
   "cell_type": "markdown",
   "metadata": {},
   "source": [
    "Itération de Newton-Raphson:\n",
    "$$\n",
    "x_{k+1} = x_k-\\frac{f'(x_k)}{f''(x_k)}\n",
    "$$"
   ]
  },
  {
   "cell_type": "code",
   "execution_count": null,
   "metadata": {},
   "outputs": [],
   "source": [
    "function Newton(f::Function, df::Function, d2f:: Function,\n",
    "        xstart::Float64, verbose::Bool = false, store=false,\n",
    "        δ::Float64 = 1e-6, nmax::Int64 = 1000)\n",
    "    k = 1\n",
    "    x = xstart\n",
    "    if (store)\n",
    "        iter = [ f(x) x ]\n",
    "    end\n",
    "    if (verbose)\n",
    "        fx = f(x)\n",
    "        println(\"$k. x = $x, f(x) = $fx\")\n",
    "    end\n",
    "    dfx = df(x)\n",
    "    while (abs(dfx) > δ && k < nmax)\n",
    "        k += 1\n",
    "        dfx = df(x)\n",
    "        x = x-dfx/d2f(x)\n",
    "        if (store)\n",
    "            iter = [iter ; f(x) x]\n",
    "        end\n",
    "        if (verbose)\n",
    "            fx = f(x)\n",
    "            println(\"$k. x = $x, f(x) = $fx\")\n",
    "        end\n",
    "    end\n",
    "    \n",
    "    if (store)\n",
    "        return iter\n",
    "    end\n",
    "end"
   ]
  },
  {
   "cell_type": "code",
   "execution_count": null,
   "metadata": {
    "scrolled": true
   },
   "outputs": [],
   "source": [
    "func(x) = -10x^2 + 4sin(x) + x^4\n",
    "dfunc(x) = -20x + 4cos(x) + 4x^3\n",
    "d2func(x) = -20 - 4sin(x) + 12x^2"
   ]
  },
  {
   "cell_type": "code",
   "execution_count": null,
   "metadata": {
    "scrolled": true
   },
   "outputs": [],
   "source": [
    "plot(func, -4.0, 4.0)"
   ]
  },
  {
   "cell_type": "markdown",
   "metadata": {},
   "source": [
    "Si nous commençons assez proche de l'optimum global, nous pouvons le trouver."
   ]
  },
  {
   "cell_type": "code",
   "execution_count": null,
   "metadata": {},
   "outputs": [],
   "source": [
    "x0 = -3.0\n",
    "iter = Newton(func, dfunc, d2func, x0, true, true)"
   ]
  },
  {
   "cell_type": "code",
   "execution_count": null,
   "metadata": {},
   "outputs": [],
   "source": [
    "iter"
   ]
  },
  {
   "cell_type": "code",
   "execution_count": null,
   "metadata": {},
   "outputs": [],
   "source": [
    "plot(func, -3.2, -2.0, label=\"Function\")\n",
    "x = -3.0\n",
    "m(y) = func(x)+dfunc(x)*(y-x)+0.5*d2func(x)*(y-x)^2\n",
    "m(-3.0)"
   ]
  },
  {
   "cell_type": "code",
   "execution_count": null,
   "metadata": {
    "scrolled": true
   },
   "outputs": [],
   "source": [
    "plot!(m, -3.2, -2.0, label=\"Model\")\n",
    "plot!(iter[1:2,2], iter[1:2,1], label=\"Newton step\")\n",
    "vline!([iter[1,2] iter[2,2]], label = \"\")"
   ]
  },
  {
   "cell_type": "code",
   "execution_count": null,
   "metadata": {},
   "outputs": [],
   "source": [
    "plot(func, -3.2, -2.0, label=\"Function\")\n",
    "plot!(iter[:,2], iter[:,1], label=\"Newton steps\")"
   ]
  },
  {
   "cell_type": "code",
   "execution_count": null,
   "metadata": {},
   "outputs": [],
   "source": [
    "x0 = -4.0\n",
    "Newton(func, dfunc, d2func, x0, true)"
   ]
  },
  {
   "cell_type": "code",
   "execution_count": null,
   "metadata": {},
   "outputs": [],
   "source": [
    "x0 = -2.2\n",
    "Newton(func, dfunc, d2func, x0, true)"
   ]
  },
  {
   "cell_type": "markdown",
   "metadata": {},
   "source": [
    "Cependant, si la méthode converge, nous savons seulement qu'elle converge vers un point où la dérivée s'annule. Il pourrait s'agit d'un maximum local!"
   ]
  },
  {
   "cell_type": "code",
   "execution_count": null,
   "metadata": {},
   "outputs": [],
   "source": [
    "x0 = 1.0\n",
    "Newton(func, dfunc, d2func, x0, true)"
   ]
  },
  {
   "cell_type": "code",
   "execution_count": null,
   "metadata": {},
   "outputs": [],
   "source": [
    "α = 0.1\n",
    "x = x0-α*dfunc(x0)/d2func(x0)\n",
    "α = 0.001\n",
    "x = x0-α*dfunc(x0)/d2func(x0)"
   ]
  },
  {
   "cell_type": "code",
   "execution_count": null,
   "metadata": {},
   "outputs": [],
   "source": [
    "f(x)"
   ]
  },
  {
   "cell_type": "code",
   "execution_count": null,
   "metadata": {},
   "outputs": [],
   "source": [
    "dfunc(x0)/d2func(x0)"
   ]
  },
  {
   "cell_type": "code",
   "execution_count": null,
   "metadata": {},
   "outputs": [],
   "source": [
    "dfunc(x0)"
   ]
  },
  {
   "cell_type": "markdown",
   "metadata": {},
   "source": [
    "Nous pouvons aussi converger vers un minimum local, mais pas global."
   ]
  },
  {
   "cell_type": "code",
   "execution_count": null,
   "metadata": {
    "scrolled": true
   },
   "outputs": [],
   "source": [
    "x0 = 2.0\n",
    "Newton(func, dfunc, d2func, x0, true)"
   ]
  },
  {
   "cell_type": "markdown",
   "metadata": {
    "collapsed": true
   },
   "source": [
    "## Méthode de la sécante"
   ]
  },
  {
   "cell_type": "code",
   "execution_count": null,
   "metadata": {},
   "outputs": [],
   "source": [
    "function Secant(f::Function, df::Function, x0::Float64, x1::Float64,\n",
    "                verbose::Bool = false, δ::Float64 = 1e-6, nmax::Int64 = 1000)\n",
    "    k = 1\n",
    "    x = x0\n",
    "    y = x1\n",
    "    if (x0 == x1)\n",
    "        println(\"x0 must different from x1\")\n",
    "        return\n",
    "    end\n",
    "    if (verbose)\n",
    "        println(\"0. x0 = $x0, f($x0) = $(f(x0))\")\n",
    "        println(\"1. x1 = $x1, f($x1) = $(f(x1))\")\n",
    "    end\n",
    "    dfx = df(x)\n",
    "    dfy = df(y)\n",
    "    while (abs(dfy) > δ && k < nmax)\n",
    "        k += 1\n",
    "        t = y\n",
    "        y = y-(x-y)/(dfx-dfy)*dfy\n",
    "        x = t\n",
    "        if (verbose)\n",
    "            println(\"$k. x = $y, f(x) = $(f(y))\")\n",
    "        end\n",
    "        dfx = dfy\n",
    "        dfy = df(y)        \n",
    "    end\n",
    "    \n",
    "    return y\n",
    "end"
   ]
  },
  {
   "cell_type": "code",
   "execution_count": null,
   "metadata": {},
   "outputs": [],
   "source": [
    "Secant(func, dfunc, 1.0, 2.0, true)"
   ]
  },
  {
   "cell_type": "markdown",
   "metadata": {},
   "source": [
    "## Recherche de racine avec la méthode de Newton"
   ]
  },
  {
   "cell_type": "markdown",
   "metadata": {},
   "source": [
    "Itération:\n",
    "$$\n",
    "x_{k+1} = x_k-\\frac{f(x)}{f'(x)}\n",
    "$$"
   ]
  },
  {
   "cell_type": "markdown",
   "metadata": {},
   "source": [
    "Considérons la fonction"
   ]
  },
  {
   "cell_type": "code",
   "execution_count": null,
   "metadata": {},
   "outputs": [],
   "source": [
    "f(x) = x-2sin(x)"
   ]
  },
  {
   "cell_type": "code",
   "execution_count": null,
   "metadata": {},
   "outputs": [],
   "source": [
    "df(x) = 1-2cos(x)"
   ]
  },
  {
   "cell_type": "code",
   "execution_count": null,
   "metadata": {
    "scrolled": true
   },
   "outputs": [],
   "source": [
    "plot(f, -5.0, 5.0)"
   ]
  },
  {
   "cell_type": "markdown",
   "metadata": {
    "collapsed": true
   },
   "source": [
    "Nous cherchons un zéro de $f(x)$."
   ]
  },
  {
   "cell_type": "code",
   "execution_count": null,
   "metadata": {},
   "outputs": [],
   "source": [
    "function NewtonRoot(f::Function, df::Function, xstart::Float64,\n",
    "        verbose::Bool = false, δ::Float64 = 1e-6, nmax::Int64 = 1000)\n",
    "    k = 1\n",
    "    x = xstart\n",
    "    fx = f(x)\n",
    "    if (verbose)\n",
    "        println(\"$k. x = $x, f(x) = $fx\")\n",
    "    end\n",
    "    while (abs(fx) > δ && k < nmax)\n",
    "        k += 1\n",
    "        dfx = df(x)\n",
    "        x = x-fx/df(x)\n",
    "        fx = f(x)\n",
    "        if (verbose)\n",
    "            println(\"$k. x = $x, f(x) = $fx\")\n",
    "        end\n",
    "    end\n",
    "    \n",
    "    return x\n",
    "end"
   ]
  },
  {
   "cell_type": "code",
   "execution_count": null,
   "metadata": {},
   "outputs": [],
   "source": [
    "x0 = 1.1\n",
    "NewtonRoot(f, df, x0, true)"
   ]
  },
  {
   "cell_type": "markdown",
   "metadata": {},
   "source": [
    "Cela fonctionne, mais nous étions proches d'un désastre! Observons que"
   ]
  },
  {
   "cell_type": "code",
   "execution_count": null,
   "metadata": {},
   "outputs": [],
   "source": [
    "df(1.1)"
   ]
  },
  {
   "cell_type": "markdown",
   "metadata": {
    "collapsed": true
   },
   "source": [
    "La courbe est presque plate, et nous sommes entraînés vers un point très éloigné. Par chance, nous revenons sur nos pas, mais en utilisant beaucoup d'itérations.\n",
    "\n",
    "Considérons à présent le point de départ"
   ]
  },
  {
   "cell_type": "code",
   "execution_count": null,
   "metadata": {},
   "outputs": [],
   "source": [
    "x0 = π/3"
   ]
  },
  {
   "cell_type": "markdown",
   "metadata": {},
   "source": [
    "La dérivée à ce point est"
   ]
  },
  {
   "cell_type": "code",
   "execution_count": null,
   "metadata": {},
   "outputs": [],
   "source": [
    "df(x0)"
   ]
  },
  {
   "cell_type": "markdown",
   "metadata": {},
   "source": [
    "La méthode de Newton donne"
   ]
  },
  {
   "cell_type": "code",
   "execution_count": null,
   "metadata": {},
   "outputs": [],
   "source": [
    "NewtonRoot(f, df, x0, true)"
   ]
  },
  {
   "cell_type": "markdown",
   "metadata": {},
   "source": [
    "Nous sommes moins chanceux! En fait, en $\\pi/3$,"
   ]
  },
  {
   "cell_type": "code",
   "execution_count": null,
   "metadata": {},
   "outputs": [],
   "source": [
    "df(π/3)"
   ]
  },
  {
   "cell_type": "markdown",
   "metadata": {},
   "source": [
    "La récurrence de Newton rencontre des problèmes comme nous avons une division pas zéro. La fonction continue néanmoins comme, en raison des erreurs numériques, nous évitons la division par zéro. Toutefois, la méthode diverge, comme $x \\rightarrow -\\infty$."
   ]
  },
  {
   "cell_type": "markdown",
   "metadata": {},
   "source": [
    "Prenons à présent un point où la dérivée est plus importante."
   ]
  },
  {
   "cell_type": "code",
   "execution_count": null,
   "metadata": {},
   "outputs": [],
   "source": [
    "x0 = 4.0\n",
    "NewtonRoot(f, df, x0, true)"
   ]
  },
  {
   "cell_type": "markdown",
   "metadata": {},
   "source": [
    "La méthode converge à présent très rapidement, même si le point de départ était plus éloigné de la solution."
   ]
  },
  {
   "cell_type": "markdown",
   "metadata": {},
   "source": [
    "Notons que $x-2\\sin x = 0$ est équivalent à $\\frac{1}{\\sin x} - \\frac{2}{x} = 0$ si nous exigeons que $x \\ne k\\pi$, $k \\in \\mathcal{Z}$. La forme de la fonction est cependant différente autour du zéro de la fonction."
   ]
  },
  {
   "cell_type": "code",
   "execution_count": null,
   "metadata": {},
   "outputs": [],
   "source": [
    "g(x) = 1/sin(x) - 2/x\n",
    "plot(g, 0.1, π-0.1)"
   ]
  },
  {
   "cell_type": "markdown",
   "metadata": {
    "collapsed": true
   },
   "source": [
    "La dérivée est"
   ]
  },
  {
   "cell_type": "code",
   "execution_count": null,
   "metadata": {},
   "outputs": [],
   "source": [
    "dg(x) = 2/(x*x)-cos(x)/(sin(x)^2)"
   ]
  },
  {
   "cell_type": "code",
   "execution_count": null,
   "metadata": {},
   "outputs": [],
   "source": [
    "x0 = 1.1\n",
    "NewtonRoot(g, dg, x0, true)"
   ]
  },
  {
   "cell_type": "markdown",
   "metadata": {},
   "source": [
    "Nous observons maintenant une convergence rapide, principalement en raison du fait que la fonction ne présente pas de parties plates."
   ]
  },
  {
   "cell_type": "code",
   "execution_count": null,
   "metadata": {},
   "outputs": [],
   "source": [
    "f(x) = exp(x/2)-x-1"
   ]
  },
  {
   "cell_type": "code",
   "execution_count": null,
   "metadata": {},
   "outputs": [],
   "source": [
    "df(x) = 0.5*exp(x/2)-1"
   ]
  },
  {
   "cell_type": "code",
   "execution_count": null,
   "metadata": {},
   "outputs": [],
   "source": [
    "x0 = 1.0\n",
    "NewtonRoot(f, df, x0, true)"
   ]
  },
  {
   "cell_type": "markdown",
   "metadata": {},
   "source": [
    "Vérifions les résultats obtenus avec la librairie `Roots`."
   ]
  },
  {
   "cell_type": "code",
   "execution_count": null,
   "metadata": {},
   "outputs": [],
   "source": [
    "using Roots"
   ]
  },
  {
   "cell_type": "code",
   "execution_count": null,
   "metadata": {},
   "outputs": [],
   "source": [
    "y = fzero(df,0.0, 5.0)"
   ]
  },
  {
   "cell_type": "code",
   "execution_count": null,
   "metadata": {},
   "outputs": [],
   "source": [
    "x0 = y\n",
    "NewtonRoot(f, df, x0, true)"
   ]
  },
  {
   "cell_type": "markdown",
   "metadata": {},
   "source": [
    "## Cycles"
   ]
  },
  {
   "cell_type": "markdown",
   "metadata": {},
   "source": [
    "Considérons à présent la fonction"
   ]
  },
  {
   "cell_type": "code",
   "execution_count": null,
   "metadata": {},
   "outputs": [],
   "source": [
    "h(x) = x^3 - 2*x + 2"
   ]
  },
  {
   "cell_type": "code",
   "execution_count": null,
   "metadata": {},
   "outputs": [],
   "source": [
    "plot(h, -2.5, 1.5)"
   ]
  },
  {
   "cell_type": "code",
   "execution_count": null,
   "metadata": {},
   "outputs": [],
   "source": [
    "dh(x) = 3x^2-2"
   ]
  },
  {
   "cell_type": "code",
   "execution_count": null,
   "metadata": {
    "scrolled": false
   },
   "outputs": [],
   "source": [
    "x0 = 0.0\n",
    "NewtonRoot(h, dh, x0, true)"
   ]
  },
  {
   "cell_type": "code",
   "execution_count": null,
   "metadata": {},
   "outputs": [],
   "source": [
    "ratio(x) = h(x)/dh(x)"
   ]
  },
  {
   "cell_type": "code",
   "execution_count": null,
   "metadata": {},
   "outputs": [],
   "source": [
    "ratio(0.0)"
   ]
  },
  {
   "cell_type": "code",
   "execution_count": null,
   "metadata": {},
   "outputs": [],
   "source": [
    "ratio(1.0)"
   ]
  },
  {
   "cell_type": "markdown",
   "metadata": {},
   "source": [
    "La méthode cycle! Cependant, si nous changeons le point de départ, nous pouvons converger."
   ]
  },
  {
   "cell_type": "code",
   "execution_count": null,
   "metadata": {},
   "outputs": [],
   "source": [
    "x0 = 0.5\n",
    "NewtonRoot(h, dh, x0, true)"
   ]
  },
  {
   "cell_type": "markdown",
   "metadata": {},
   "source": [
    "## Application: calcul de la racine carrée d'un nombre non négatif"
   ]
  },
  {
   "cell_type": "markdown",
   "metadata": {},
   "source": [
    "La racine carrée d'un nombre réel non négatif peut être obtenue à l'aide de la méthode de Newton. Plus précisément, si nous cherchons la racine carrée de $s$, nous pouvons reformuler le problème comme la recherche d'un zéro de la fonction\n",
    "$$\n",
    "f(x) = x^2 - s\n",
    "$$\n",
    "En effet, si $f(x) = 0$, alors $s = x^2$, ou $x = \\pm\\sqrt{s}$.\n",
    "\n",
    "Développons la récurrence de Newton pour ce problème."
   ]
  },
  {
   "cell_type": "markdown",
   "metadata": {},
   "source": [
    "Choisir un bon point de départ peut cependant être un problème. (Wikipedia) Avec $s$ exprimé en notation scientifique comme  $a\\times 10^{2n}$ avec $1\\leq a<100$ et $n$ entier, $\\sqrt{s} \\approx \\sqrt{a} 10^n$. Le point de départ est souvent calculé comme\n",
    "$$\n",
    "\\sqrt{s} =\n",
    "\\begin{cases}\n",
    "2\\times10^n & \\mbox{ if } a < 10\\\\\n",
    "6\\times10^n & \\mbox{ if } a \\geq 10\n",
    "\\end{cases}\n",
    "$$\n",
    "Les facteurs deux et six sont utilisés car ils permettent d'approximer les moyennes géométriques de la plus petite et la plus grande valeurs pour un nombre donnés de chiffres:\n",
    "$$\n",
    "\\sqrt{\\sqrt{1}\\sqrt{10}} = 10^{\\frac{1}{4}} \\approx 2\n",
    "$$\n",
    "et\n",
    "$$\n",
    "\\sqrt{\\sqrt{10}\\sqrt{100}} = 10^{\\frac{3}{4}} \\approx 6\n",
    "$$"
   ]
  },
  {
   "cell_type": "code",
   "execution_count": null,
   "metadata": {},
   "outputs": [],
   "source": [
    "sq(x,s) = x*x-s"
   ]
  },
  {
   "cell_type": "code",
   "execution_count": null,
   "metadata": {},
   "outputs": [],
   "source": [
    "dsq(x) = 2*x"
   ]
  },
  {
   "cell_type": "code",
   "execution_count": null,
   "metadata": {},
   "outputs": [],
   "source": [
    "sqs(x) = x*x-s"
   ]
  },
  {
   "cell_type": "code",
   "execution_count": null,
   "metadata": {},
   "outputs": [],
   "source": [
    "s = 6.0"
   ]
  },
  {
   "cell_type": "code",
   "execution_count": null,
   "metadata": {},
   "outputs": [],
   "source": [
    "x = NewtonRoot(sqs, dsq, 2.0, true)"
   ]
  },
  {
   "cell_type": "markdown",
   "metadata": {},
   "source": [
    "Nous pouvons vérifier la solution comme"
   ]
  },
  {
   "cell_type": "code",
   "execution_count": null,
   "metadata": {},
   "outputs": [],
   "source": [
    "x^2"
   ]
  },
  {
   "cell_type": "code",
   "execution_count": null,
   "metadata": {},
   "outputs": [],
   "source": [
    "x = NewtonRoot(sqs, dsq, 2.0, true, 1e-8)"
   ]
  },
  {
   "cell_type": "code",
   "execution_count": null,
   "metadata": {},
   "outputs": [],
   "source": [
    "x^2"
   ]
  },
  {
   "cell_type": "code",
   "execution_count": null,
   "metadata": {},
   "outputs": [],
   "source": [
    "x = NewtonRoot(sqs, dsq, 2.0, true, 1e-10)\n",
    "x^2"
   ]
  },
  {
   "cell_type": "code",
   "execution_count": null,
   "metadata": {},
   "outputs": [],
   "source": [
    "x = NewtonRoot(sqs, dsq, 2.0, true, 1e-12)\n",
    "x^2"
   ]
  },
  {
   "cell_type": "code",
   "execution_count": null,
   "metadata": {},
   "outputs": [],
   "source": [
    "x = NewtonRoot(sqs, dsq, 2.0, true, 1e-14)\n",
    "x^2"
   ]
  },
  {
   "cell_type": "code",
   "execution_count": null,
   "metadata": {},
   "outputs": [],
   "source": [
    "x = NewtonRoot(sqs, dsq, 2.0, true, 1e-16)\n",
    "x^2"
   ]
  },
  {
   "cell_type": "code",
   "execution_count": null,
   "metadata": {},
   "outputs": [],
   "source": [
    "x = NewtonRoot(sqs, dsq, 2.0, true, 1e-15)\n",
    "x^2"
   ]
  },
  {
   "cell_type": "code",
   "execution_count": null,
   "metadata": {},
   "outputs": [],
   "source": [
    "6-x^2"
   ]
  },
  {
   "cell_type": "code",
   "execution_count": null,
   "metadata": {},
   "outputs": [],
   "source": [
    "eps()"
   ]
  },
  {
   "cell_type": "code",
   "execution_count": null,
   "metadata": {},
   "outputs": [],
   "source": [
    "s = 25\n",
    "x = NewtonRoot(sqs, dsq, 6.0, true, 1e-15)\n",
    "x^2"
   ]
  },
  {
   "cell_type": "code",
   "execution_count": null,
   "metadata": {},
   "outputs": [],
   "source": [
    "s = 400\n",
    "x = NewtonRoot(sqs, dsq, 6.0, true, 1e-15)\n",
    "x^2"
   ]
  },
  {
   "cell_type": "code",
   "execution_count": null,
   "metadata": {},
   "outputs": [],
   "source": []
  }
 ],
 "metadata": {
  "kernelspec": {
   "display_name": "Julia 1.5.0",
   "language": "julia",
   "name": "julia-1.5"
  },
  "language_info": {
   "file_extension": ".jl",
   "mimetype": "application/julia",
   "name": "julia",
   "version": "1.5.0"
  }
 },
 "nbformat": 4,
 "nbformat_minor": 2
}
