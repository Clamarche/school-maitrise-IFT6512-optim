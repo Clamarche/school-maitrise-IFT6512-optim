{
 "cells": [
  {
   "cell_type": "markdown",
   "metadata": {},
   "source": [
    "# Conditions KKT\n",
    "\n",
    "## Conditions de second ordre"
   ]
  },
  {
   "cell_type": "markdown",
   "metadata": {},
   "source": [
    "## Exemple 1"
   ]
  },
  {
   "cell_type": "markdown",
   "metadata": {},
   "source": [
    "Un exemple simple, adapté de http://www.math.ubc.ca/~israel/m340/"
   ]
  },
  {
   "cell_type": "markdown",
   "metadata": {},
   "source": [
    "Considérons le problème\n",
    "\\begin{align*}\n",
    "\\max\\ & f(x, y) = xy \\\\\n",
    "\\mbox{s.t. } & x + y^2 \\leq 2 \\\\\n",
    "& x, y \\geq 0\n",
    "\\end{align*}"
   ]
  },
  {
   "cell_type": "markdown",
   "metadata": {},
   "source": [
    "Notons que la région réalisable est bornée, et que $f(x,y)$ est continue, aussi un maxium global existe. Réécrivons le problème comme\n",
    "\\begin{align*}\n",
    "\\min\\ & -xy \\\\\n",
    "\\mbox{s.t. } & x + y^2 -2 \\leq 0 \\\\\n",
    "& -x \\leq 0\\\\\n",
    "& -y \\leq 0\n",
    "\\end{align*}\n",
    "La fonction lagrangienne\n",
    "$$\n",
    "L(x,\\lambda) = -xy + \\lambda_1(x+y^2-2) + \\lambda_2(-x) + \\lambda_3(-y).\n",
    "$$"
   ]
  },
  {
   "cell_type": "markdown",
   "metadata": {},
   "source": [
    "Les conditions KKT peuvent être écrites comme\n",
    "\\begin{align*}\n",
    "-y + \\lambda_1 - \\lambda_2 &= 0 \\\\\n",
    "-x + 2\\lambda_1y - \\lambda_3 &= 0 \\\\\n",
    "x + y^2 -2 &\\leq 0 \\\\\n",
    "-x &\\leq 0\\\\\n",
    "-y &\\leq 0 \\\\\n",
    "\\lambda_1(x + y^2 -2) &= 0 \\\\\n",
    "\\lambda_2(-x) &= 0\\\\\n",
    "\\lambda_3(-y) &= 0 \\\\\n",
    "\\lambda_i &\\geq 0,\\ i = 1,2,3\n",
    "\\end{align*}"
   ]
  },
  {
   "cell_type": "markdown",
   "metadata": {},
   "source": [
    "ou\n",
    "\\begin{align*}\n",
    "-y + \\lambda_1 - \\lambda_2 &= 0 \\\\\n",
    "-x + 2\\lambda_1y - \\lambda_3 &= 0 \\\\\n",
    "x + y^2 -2 &\\leq 0 \\\\\n",
    "\\lambda_1(x + y^2 -2) &= 0 \\\\\n",
    "\\lambda_2x &= 0\\\\\n",
    "\\lambda_3y &= 0 \\\\\n",
    "\\lambda_i &\\geq 0,\\ i = 1,2,3 \\\\\n",
    "x, y &\\geq 0\\\\\n",
    "\\end{align*}"
   ]
  },
  {
   "cell_type": "markdown",
   "metadata": {},
   "source": [
    "Supposons $\\lambda_1 = 0$. Alors\n",
    "\\begin{align*}\n",
    "\\lambda_2 &= -y \\\\\n",
    "\\lambda_3 &= -x\n",
    "\\end{align*}\n",
    "Comme $x, y, \\lambda_2, \\lambda_3 \\geq 0$, ceci implique $x = y = \\lambda_1 = \\lambda_2 = \\lambda_3 = 0$.\n",
    "\n",
    "Mais $f(0,0) = 0$, et clairement, il ne s'agit pas d'un minimum comme par exemple, $f(1,1) = -1$, et $(1,1)$ est réalisable."
   ]
  },
  {
   "cell_type": "markdown",
   "metadata": {
    "collapsed": true
   },
   "source": [
    "Prenons $\\lambda_1 \\ne 0$. Nous devons alors avoir $x + y^2 - 2 = 0$, et dès lors, $x$ ou $y$ est strictement positif."
   ]
  },
  {
   "cell_type": "markdown",
   "metadata": {},
   "source": [
    "Supposons $x > 0$. Alors $\\lambda_2 = 0$ et $\\lambda_1 = y$. Puisque $\\lambda_1 \\ne 0$, $\\lambda_3 = 0$, et $x = 2\\lambda_1y = 2y^2$. Dès lors\n",
    "$$\n",
    "0 = x + y^2 - 2 = x + \\frac{x}{2} - 2 = \\frac{3x}{2} - 2\n",
    "$$\n",
    "et\n",
    "$$\n",
    "x = \\frac{4}{3},\\ y = \\sqrt{\\frac{2}{3}}\n",
    "$$"
   ]
  },
  {
   "cell_type": "markdown",
   "metadata": {},
   "source": [
    "Supposons $x = 0$, $y > 0$. Dès lors, $y = \\sqrt{2}$ et $\\lambda_3 = 0$. Mais ceci implique également $\\lambda_1 = 0$, alors que nous avions supposé $\\lambda_1 \\ne 0$. Par conséquent, ce cas ne peut pas arriver."
   ]
  },
  {
   "cell_type": "markdown",
   "metadata": {},
   "source": [
    "Dès lors, nous avons deux points KKT: $\\left( \\frac{4}{3}, \\sqrt{\\frac{2}{3}} \\right)$ et $(0, 0)$. $\\left( \\frac{4}{3}, \\sqrt{\\frac{2}{3}} \\right)$ est le minimiseur de la fonction.\n",
    "\n",
    "Pouvons-nous le vérifier en utilisant les conditions d'optimalité au second ordre? Tout d'abord, exprimons $\\nabla^2_{xx} L(x, \\lambda)$.\n",
    "Nous avons\n",
    "$$\n",
    "\\nabla^2_{xx} L(x, \\lambda) =\n",
    "\\begin{pmatrix}\n",
    "0 & -1 \\\\\n",
    "-1 & 2\\lambda_1\n",
    "\\end{pmatrix}\n",
    "$$\n",
    "Puisque le premier mineur principal vaut 0, la matrice ne peut pas être définie positive."
   ]
  },
  {
   "cell_type": "markdown",
   "metadata": {
    "collapsed": true
   },
   "source": [
    "Pour $(0, 0)$, nous avons deux contraintes actives:\n",
    "\\begin{align*}\n",
    "-x &= 0 \\\\\n",
    "-y &= 0\n",
    "\\end{align*}\n",
    "La matrice jacobienne associée à ces contraintes est\n",
    "$$\n",
    "J = \\begin{pmatrix}\n",
    "-1 & 0 \\\\\n",
    "0 & -1 \\\\\n",
    "\\end{pmatrix}\n",
    "$$\n",
    "et la LICQ est trivialement vérifée. Nous pouvons le vérifier également en calculant le rang de $J$:"
   ]
  },
  {
   "cell_type": "code",
   "execution_count": 1,
   "metadata": {},
   "outputs": [
    {
     "data": {
      "text/plain": [
       "2"
      ]
     },
     "execution_count": 1,
     "metadata": {},
     "output_type": "execute_result"
    }
   ],
   "source": [
    "using LinearAlgebra\n",
    "\n",
    "J = [-1 0; 0 -1]\n",
    "rank(J)"
   ]
  },
  {
   "cell_type": "code",
   "execution_count": 2,
   "metadata": {},
   "outputs": [
    {
     "data": {
      "text/plain": [
       "(1, 2)"
      ]
     },
     "execution_count": 2,
     "metadata": {},
     "output_type": "execute_result"
    }
   ],
   "source": [
    "J = [-1 1+1e-12; 1 -1]\n",
    "rank(J,1e-8), rank(J)"
   ]
  },
  {
   "cell_type": "code",
   "execution_count": 7,
   "metadata": {},
   "outputs": [
    {
     "ename": "LoadError",
     "evalue": "SingularException(2)",
     "output_type": "error",
     "traceback": [
      "SingularException(2)",
      "",
      "Stacktrace:",
      " [1] checknonsingular at D:\\buildbot\\worker\\package_win64\\build\\usr\\share\\julia\\stdlib\\v1.5\\LinearAlgebra\\src\\factorization.jl:19 [inlined]",
      " [2] checknonsingular at D:\\buildbot\\worker\\package_win64\\build\\usr\\share\\julia\\stdlib\\v1.5\\LinearAlgebra\\src\\factorization.jl:21 [inlined]",
      " [3] lu!(::Array{Float64,2}, ::Val{true}; check::Bool) at D:\\buildbot\\worker\\package_win64\\build\\usr\\share\\julia\\stdlib\\v1.5\\LinearAlgebra\\src\\lu.jl:85",
      " [4] #lu#136 at D:\\buildbot\\worker\\package_win64\\build\\usr\\share\\julia\\stdlib\\v1.5\\LinearAlgebra\\src\\lu.jl:273 [inlined]",
      " [5] lu at D:\\buildbot\\worker\\package_win64\\build\\usr\\share\\julia\\stdlib\\v1.5\\LinearAlgebra\\src\\lu.jl:272 [inlined] (repeats 2 times)",
      " [6] inv(::Array{Float64,2}) at D:\\buildbot\\worker\\package_win64\\build\\usr\\share\\julia\\stdlib\\v1.5\\LinearAlgebra\\src\\dense.jl:781",
      " [7] top-level scope at In[7]:2",
      " [8] include_string(::Function, ::Module, ::String, ::String) at .\\loading.jl:1091",
      " [9] execute_code(::String, ::String) at C:\\Users\\slash\\.julia\\packages\\IJulia\\rWZ9e\\src\\execute_request.jl:27",
      " [10] execute_request(::ZMQ.Socket, ::IJulia.Msg) at C:\\Users\\slash\\.julia\\packages\\IJulia\\rWZ9e\\src\\execute_request.jl:86",
      " [11] #invokelatest#1 at .\\essentials.jl:710 [inlined]",
      " [12] invokelatest at .\\essentials.jl:709 [inlined]",
      " [13] eventloop(::ZMQ.Socket) at C:\\Users\\slash\\.julia\\packages\\IJulia\\rWZ9e\\src\\eventloop.jl:8",
      " [14] (::IJulia.var\"#15#18\")() at .\\task.jl:356"
     ]
    }
   ],
   "source": [
    "J = [-1 1+1e-16; 1 -1]\n",
    "inv(J)*J"
   ]
  },
  {
   "cell_type": "code",
   "execution_count": 8,
   "metadata": {},
   "outputs": [
    {
     "data": {
      "text/plain": [
       "1"
      ]
     },
     "execution_count": 8,
     "metadata": {},
     "output_type": "execute_result"
    }
   ],
   "source": [
    "rank(J)"
   ]
  },
  {
   "cell_type": "code",
   "execution_count": 4,
   "metadata": {},
   "outputs": [
    {
     "data": {
      "text/plain": [
       "(1, 2)"
      ]
     },
     "execution_count": 4,
     "metadata": {},
     "output_type": "execute_result"
    }
   ],
   "source": [
    "J = [-1 1+1e-12; 1-1e-8 -1]\n",
    "rank(J,1e-8), rank(J)"
   ]
  },
  {
   "cell_type": "code",
   "execution_count": 9,
   "metadata": {},
   "outputs": [
    {
     "data": {
      "text/plain": [
       "Eigen{Float64,Float64,Array{Float64,2},Array{Float64,1}}\n",
       "values:\n",
       "2-element Array{Float64,1}:\n",
       " -2.0\n",
       "  0.0\n",
       "vectors:\n",
       "2×2 Array{Float64,2}:\n",
       "  0.707107  0.707107\n",
       " -0.707107  0.707107"
      ]
     },
     "execution_count": 9,
     "metadata": {},
     "output_type": "execute_result"
    }
   ],
   "source": [
    "eigen(J)"
   ]
  },
  {
   "cell_type": "code",
   "execution_count": 10,
   "metadata": {},
   "outputs": [
    {
     "data": {
      "text/html": [
       "# 6 methods for generic function <b>rank</b>:<ul><li> rank(S::<b>SparseArrays.SparseMatrixCSC</b>) in SuiteSparse.SPQR at <a href=\"file://D:/buildbot/worker/package_win64/build/usr/share/julia/stdlib/v1.5/SuiteSparse/src/spqr.jl\" target=\"_blank\">C:\\Users\\slash\\AppData\\Local\\Programs\\Julia 1.5.0\\share\\julia\\stdlib\\v1.5\\SuiteSparse\\src\\spqr.jl:374</a></li> <li> rank(A::<b>AbstractArray{T,2} where T</b>; <i>atol, rtol</i>) in LinearAlgebra at <a href=\"file://D:/buildbot/worker/package_win64/build/usr/share/julia/stdlib/v1.5/LinearAlgebra/src/generic.jl\" target=\"_blank\">C:\\Users\\slash\\AppData\\Local\\Programs\\Julia 1.5.0\\share\\julia\\stdlib\\v1.5\\LinearAlgebra\\src\\generic.jl:983</a></li> <li> rank(x::<b>Number</b>) in LinearAlgebra at <a href=\"file://D:/buildbot/worker/package_win64/build/usr/share/julia/stdlib/v1.5/LinearAlgebra/src/generic.jl\" target=\"_blank\">C:\\Users\\slash\\AppData\\Local\\Programs\\Julia 1.5.0\\share\\julia\\stdlib\\v1.5\\LinearAlgebra\\src\\generic.jl:989</a></li> <li> rank(C::<b>CholeskyPivoted</b>) in LinearAlgebra at <a href=\"file://D:/buildbot/worker/package_win64/build/usr/share/julia/stdlib/v1.5/LinearAlgebra/src/cholesky.jl\" target=\"_blank\">C:\\Users\\slash\\AppData\\Local\\Programs\\Julia 1.5.0\\share\\julia\\stdlib\\v1.5\\LinearAlgebra\\src\\cholesky.jl:609</a></li> <li> rank(A::<b>AbstractArray{T,2} where T</b>, tol::<b>Real</b>) in LinearAlgebra at <a href=\"file://D:/buildbot/worker/package_win64/build/usr/share/julia/stdlib/v1.5/LinearAlgebra/src/deprecated.jl\" target=\"_blank\">C:\\Users\\slash\\AppData\\Local\\Programs\\Julia 1.5.0\\share\\julia\\stdlib\\v1.5\\LinearAlgebra\\src\\deprecated.jl:4</a></li> <li> rank(F::<b>SuiteSparse.SPQR.QRSparse</b>) in SuiteSparse.SPQR at <a href=\"file://D:/buildbot/worker/package_win64/build/usr/share/julia/stdlib/v1.5/SuiteSparse/src/spqr.jl\" target=\"_blank\">C:\\Users\\slash\\AppData\\Local\\Programs\\Julia 1.5.0\\share\\julia\\stdlib\\v1.5\\SuiteSparse\\src\\spqr.jl:373</a></li> </ul>"
      ],
      "text/plain": [
       "# 6 methods for generic function \"rank\":\n",
       "[1] rank(S::SparseArrays.SparseMatrixCSC) in SuiteSparse.SPQR at C:\\Users\\slash\\AppData\\Local\\Programs\\Julia 1.5.0\\share\\julia\\stdlib\\v1.5\\SuiteSparse\\src\\spqr.jl:374\n",
       "[2] rank(A::AbstractArray{T,2} where T; atol, rtol) in LinearAlgebra at C:\\Users\\slash\\AppData\\Local\\Programs\\Julia 1.5.0\\share\\julia\\stdlib\\v1.5\\LinearAlgebra\\src\\generic.jl:983\n",
       "[3] rank(x::Number) in LinearAlgebra at C:\\Users\\slash\\AppData\\Local\\Programs\\Julia 1.5.0\\share\\julia\\stdlib\\v1.5\\LinearAlgebra\\src\\generic.jl:989\n",
       "[4] rank(C::CholeskyPivoted) in LinearAlgebra at C:\\Users\\slash\\AppData\\Local\\Programs\\Julia 1.5.0\\share\\julia\\stdlib\\v1.5\\LinearAlgebra\\src\\cholesky.jl:609\n",
       "[5] rank(A::AbstractArray{T,2} where T, tol::Real) in LinearAlgebra at C:\\Users\\slash\\AppData\\Local\\Programs\\Julia 1.5.0\\share\\julia\\stdlib\\v1.5\\LinearAlgebra\\src\\deprecated.jl:4\n",
       "[6] rank(F::SuiteSparse.SPQR.QRSparse) in SuiteSparse.SPQR at C:\\Users\\slash\\AppData\\Local\\Programs\\Julia 1.5.0\\share\\julia\\stdlib\\v1.5\\SuiteSparse\\src\\spqr.jl:373"
      ]
     },
     "execution_count": 10,
     "metadata": {},
     "output_type": "execute_result"
    }
   ],
   "source": [
    "methods(rank)"
   ]
  },
  {
   "cell_type": "markdown",
   "metadata": {},
   "source": [
    "Les conditions au second ordre implique le calcul de $d^T \\nabla^2_{xx} L(x^*, \\lambda^*)d$ pour tout $d \\in N^+$, où\n",
    "$$\n",
    "N^+ =\n",
    "\\left\\lbrace d \\ne 0 \\,\\bigg|\\,\n",
    "\\begin{matrix}\n",
    "d^T \\nabla g_i(x^*) = 0, & i \\in \\mathcal{E} \\\\\n",
    "d^T \\nabla g_i(x^*) \\leq 0, & i \\in \\mathcal{A}(x^*) \\cap \\mathcal{I}\n",
    "\\end{matrix}\n",
    "\\right\\rbrace\n",
    "$$\n",
    "Malheureusement, comme nous avons aussi $\\lambda^* = 0$ pendant que $(\\mathcal{A}(x^*) \\cap \\mathcal{I}) \\ne \\emptyset$, la condition de complémentarité stricte ne tient pas. Il n'est dès lors pas aisé de caractériser $N^+$.\n",
    "\n",
    "Il est néanmoins facile de trouver un $d \\in N^+$ tel que les conditions de second ordre soient violées.\n",
    "\n",
    "Notons que la matrice jacobienne est\n",
    "$$\n",
    "J(x) = \\begin{pmatrix}\n",
    "\\nabla^T g_i(x^*), \\text{ for } i \\in \\mathcal{A}(x^*) \n",
    "\\end{pmatrix}\n",
    "$$\n",
    "\n",
    "Prenons $d = (1,1)$. Nous pouvons vérifier que $d \\in N^+$ en calculant $Jd = (d^TJ^T)^T$, ce qui donne"
   ]
  },
  {
   "cell_type": "code",
   "execution_count": 11,
   "metadata": {},
   "outputs": [
    {
     "data": {
      "text/plain": [
       "2-element Array{Float64,1}:\n",
       " -1.0\n",
       " -1.0"
      ]
     },
     "execution_count": 11,
     "metadata": {},
     "output_type": "execute_result"
    }
   ],
   "source": [
    "d = [1.0; 1.0]\n",
    "J = [-1.0 0; 0 -1.0]\n",
    "J*d"
   ]
  },
  {
   "cell_type": "markdown",
   "metadata": {},
   "source": [
    "Si nous calculons $d^T\\nabla^2_{xx} L(x,\\lambda) d$, nous obtenons"
   ]
  },
  {
   "cell_type": "code",
   "execution_count": 12,
   "metadata": {},
   "outputs": [
    {
     "data": {
      "text/plain": [
       "-2.0"
      ]
     },
     "execution_count": 12,
     "metadata": {},
     "output_type": "execute_result"
    }
   ],
   "source": [
    "D2L = [0 -1.0; -1.0 0]\n",
    "d'*D2L*d"
   ]
  },
  {
   "cell_type": "markdown",
   "metadata": {},
   "source": [
    "Dès lors, le condition nécessaire d'optimalité au second ordre est violée. En d'autres termes, (0,0) n'est pas une solution critique au deuxième ordre."
   ]
  },
  {
   "cell_type": "markdown",
   "metadata": {},
   "source": [
    "Le vecteur des multiplicateurs de Lagrange associés à $\\left( \\frac{4}{3}, \\sqrt{\\frac{2}{3}} \\right)$ est\n",
    "$$\n",
    "\\lambda^* = \\begin{pmatrix} \\sqrt{\\frac{2}{3}} \\\\ 0 \\\\ 0 \\end{pmatrix}\n",
    "$$\n",
    "et la contrainte active est\n",
    "\\begin{align*}\n",
    "x + y^2 - 2 &= 0\n",
    "\\end{align*}\n",
    "\n",
    "La matrice jacobienne de l'ensemble actif en $\\left( \\frac{4}{3}, \\sqrt{\\frac{2}{3}} \\right)$ est\n",
    "$$\n",
    "J = \\begin{pmatrix}\n",
    "1 & 2\\sqrt{\\frac{2}{3}} \\\\\n",
    "\\end{pmatrix}\n",
    "$$\n",
    "et à nouveau, il est trivial de vérifier la LICQ."
   ]
  },
  {
   "cell_type": "markdown",
   "metadata": {},
   "source": [
    "Mais maintenant,\n",
    "$$\n",
    "\\nabla^2_{xx} L(x^*, \\lambda^*) =\n",
    "\\begin{pmatrix}\n",
    "0 & -1 \\\\\n",
    "-1 & 2\\sqrt{\\frac{2}{3}}\n",
    "\\end{pmatrix}\n",
    "$$\n",
    "et la condition de stricte complémentarité tient."
   ]
  },
  {
   "cell_type": "markdown",
   "metadata": {},
   "source": [
    "Dès lors,\n",
    "$$\n",
    "N^+ = \\left\\{ d \\ne 0 \\,|\\, Jd = 0 \\right\\}.\n",
    "$$\n",
    "\n",
    "Par conséquent, nous devons considérer les vecteurs $d \\in \\mathbb{R}^n$ tels que\n",
    "$$\n",
    "d^T \\begin{pmatrix} 1 \\\\ 2\\sqrt{\\frac{2}{3}} \\end{pmatrix} = 0\n",
    "$$\n",
    "En d'autres mots, $d \\in Null(J)$, $d \\ne 0$, où\n",
    "$$\n",
    "J = \\begin{pmatrix} 1 & 2\\sqrt{\\frac{2}{3}} \\end{pmatrix}\n",
    "$$"
   ]
  },
  {
   "cell_type": "markdown",
   "metadata": {},
   "source": [
    "$Null(J) = \\{ d \\,|\\, Jd = 0\\}$. Dès lors $N^+ = Null(J)\\backslash(0,0)$. $Null(J)$ est un espace vectoriel, comme $\\forall \\alpha, \\beta \\in \\mathbb{R}$ et $a, b \\in Null(J)$, $\\alpha a + \\beta b \\in Null(J)$ comme\n",
    "$$\n",
    "J(\\alpha a + \\beta b) = \\alpha Ja + \\beta Jb = 0.\n",
    "$$\n",
    "Autrement dit, toute combinaison linéaire d'éléments de $Null(J)$ appartient à $Null(J)$.\n",
    "\n",
    "Dès lors, on peut caractériser $Null(J)$ par une base de cet espace, ce qui est produit par la fonction `nullspace`, qui retourne une base orthonormée."
   ]
  },
  {
   "cell_type": "code",
   "execution_count": 14,
   "metadata": {},
   "outputs": [
    {
     "data": {
      "text/plain": [
       "2×1 Array{Float64,2}:\n",
       " -0.8528028654224418\n",
       "  0.5222329678670935"
      ]
     },
     "execution_count": 14,
     "metadata": {},
     "output_type": "execute_result"
    }
   ],
   "source": [
    "A = [1 2*sqrt(2/3) ]\n",
    "w = nullspace(A)"
   ]
  },
  {
   "cell_type": "markdown",
   "metadata": {},
   "source": [
    "$w$ est un vecteur de base de $A$, de norme égale à 1:"
   ]
  },
  {
   "cell_type": "code",
   "execution_count": 15,
   "metadata": {},
   "outputs": [
    {
     "data": {
      "text/plain": [
       "1.0"
      ]
     },
     "execution_count": 15,
     "metadata": {},
     "output_type": "execute_result"
    }
   ],
   "source": [
    "norm(w)"
   ]
  },
  {
   "cell_type": "markdown",
   "metadata": {},
   "source": [
    "Mais"
   ]
  },
  {
   "cell_type": "code",
   "execution_count": 16,
   "metadata": {},
   "outputs": [
    {
     "data": {
      "text/plain": [
       "1×1 Array{Float64,2}:\n",
       " 1.33608531424537"
      ]
     },
     "execution_count": 16,
     "metadata": {},
     "output_type": "execute_result"
    }
   ],
   "source": [
    "D2L[2,2] = 2*sqrt(2/3)\n",
    "w'*D2L*w"
   ]
  },
  {
   "cell_type": "markdown",
   "metadata": {},
   "source": [
    "Soit $d = \\sum_i α_iw_i$, $d \\ne 0$. Alors\n",
    "$$\n",
    "d^T \\nabla^2_{xx} L(x,\\lambda) d = \\sum_i α_i^2w_i^T \\nabla^2_{xx} L(x,\\lambda) w_i > 0.\n",
    "$$"
   ]
  },
  {
   "cell_type": "markdown",
   "metadata": {},
   "source": [
    "Les conditions nécessaires et suffisantes d'optimalité au deuxième ordre sont alors satisfaites."
   ]
  },
  {
   "cell_type": "markdown",
   "metadata": {},
   "source": [
    "## Exemple 2"
   ]
  },
  {
   "cell_type": "markdown",
   "metadata": {
    "collapsed": true
   },
   "source": [
    "Utilisez les conditions de Karush-Kuhn-Tucker pour résoudre\n",
    "\\begin{align*}\n",
    "\\max\\ & KL \\\\\n",
    "\\mbox{sujet à } & 4K + L \\leq 8 \\\\\n",
    "& K, L \\geq 0\n",
    "\\end{align*}"
   ]
  },
  {
   "cell_type": "markdown",
   "metadata": {},
   "source": [
    "Les conditions KKT sont\n",
    "\\begin{align*}\n",
    "L − 4\\lambda_1 + \\lambda_2 &= 0 \\\\\n",
    "K − \\lambda_1 + \\lambda_3 &= 0 \\\\\n",
    "\\lambda_1(8 − 4K − L) &= 0 \\\\\n",
    "\\lambda_2K &= 0 \\\\\n",
    "\\lambda_3L &= 0 \\\\\n",
    "4K + L &\\leq 8 \\\\\n",
    "K,L, \\lambda_1, \\lambda_2, \\lambda_3 &\\geq 0\n",
    "\\end{align*}"
   ]
  },
  {
   "cell_type": "markdown",
   "metadata": {},
   "source": [
    "### Cas 1.\n",
    "\n",
    "Si $\\lambda_1 = 0$, la première condition KKT donne $L + \\lambda_2 = 0$, ce qui implique $L = \\lambda_2 = 0$, et la seconde indique $K + \\lambda_3 = 0$, entrînant $K = \\lambda_3 = 0$. Les conditions KKT sont en effet satisfaites avec $K = L = \\lambda_1 = \\lambda_2 = \\lambda_3 = 0$, et la valeur de la fonction objectif en K = L = 0 est 0, ce qui correspond à la borne inférieur de la fonction objectif sur l'ensemble réalisable et ce n'est clairement pas la valeur optimale en termes de maximisation."
   ]
  },
  {
   "cell_type": "markdown",
   "metadata": {},
   "source": [
    "### Cas 2\n",
    "\n",
    "Si $\\lambda_1 > 0$, $4K + L = 8$. Dès lors, $K$ ou $L$ est positif, impliquant que $\\lambda_2$ ou $\\lambda_3$ vaut 0. Si $\\lambda_2 = 0$, $L = 4\\lambda_1 > 0$, mais ceci entraîne $\\lambda_3 = 0$. Similairement, si $\\lambda_3 = 0$, $K = \\lambda_1 > 0$, mais cela implique $\\lambda_2 = 0$. Dès lors, nous devons avoir $\\lambda_2 = \\lambda_3 = 0$, $L = 4\\lambda_1$ et $K = \\lambda_1$. Alors $4K + L = 8$, $K = \\lambda_1$, $L = \\lambda_1$, impliquant $4\\lambda_1 + 4\\lambda_1 = 8$, aussi $\\lambda_1 = 1,$ $K = 1$ and $L = 4$. Les conditions KKT sont satisfaites avec $K = 1$, $L = 4$, $\\lambda_1 = 1$, $\\lambda_2 = \\lambda_3 = 0$, et la fonction objectif vaut 4."
   ]
  },
  {
   "cell_type": "markdown",
   "metadata": {},
   "source": [
    "Sous forme standard, le problème s'écrit\n",
    "\\begin{align*}\n",
    "\\min\\ & -KL \\\\\n",
    "\\mbox{sujet à } & 4K + L - 8 \\leq 0\\\\\n",
    "& -K \\leq 0 \\\\\n",
    "& -L \\leq 0\n",
    "\\end{align*}\n",
    "La matrice hessienne de la fonction lagrangienne est \n",
    "$$\n",
    "\\nabla^2 L(K,L,\\lambda) =\n",
    "\\begin{pmatrix}\n",
    "    0 & -1 \\\\ -1 & 0\n",
    "\\end{pmatrix}\n",
    "$$\n",
    "La matrice jacobienne des contraintes actives (plus précisement de la contrainte active) vaut"
   ]
  },
  {
   "cell_type": "markdown",
   "metadata": {},
   "source": [
    "$$\n",
    "J = ( 4\\ 1 )\n",
    "$$"
   ]
  },
  {
   "cell_type": "code",
   "execution_count": 23,
   "metadata": {},
   "outputs": [
    {
     "data": {
      "text/plain": [
       "1×1 Array{Float64,2}:\n",
       " 0.47058823529411764"
      ]
     },
     "execution_count": 23,
     "metadata": {},
     "output_type": "execute_result"
    }
   ],
   "source": [
    "J = [ 4 1 ]\n",
    "w = nullspace(J)\n",
    "L2 = [ 0 -1 ; -1 0]\n",
    "w'*L2*w"
   ]
  },
  {
   "cell_type": "markdown",
   "metadata": {},
   "source": [
    "Nous satisfaisons les conditions suffisantes d'optimalité au second ordre. Le point $K = 1$, $L = 4$ est donc la solution recherchée."
   ]
  },
  {
   "cell_type": "code",
   "execution_count": null,
   "metadata": {},
   "outputs": [],
   "source": []
  }
 ],
 "metadata": {
  "kernelspec": {
   "display_name": "Julia 1.5.0",
   "language": "julia",
   "name": "julia-1.5"
  },
  "language_info": {
   "file_extension": ".jl",
   "mimetype": "application/julia",
   "name": "julia",
   "version": "1.5.0"
  }
 },
 "nbformat": 4,
 "nbformat_minor": 1
}
